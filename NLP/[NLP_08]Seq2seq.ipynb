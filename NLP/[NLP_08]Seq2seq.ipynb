{
  "cells": [
    {
      "cell_type": "markdown",
      "metadata": {
        "id": "Opxp6w-WwU0J"
      },
      "source": [
        "# NLP08- Seq2Seq : 한영번역기 만들기\n",
        "# 목차\n",
        "\n",
        "> LMS 따라해보기 \n",
        "\n",
        "1. 데이터 전처리\n",
        "2. 모델 설계\n",
        "3. 훈련하기 \n",
        " * 1) Optimizer & Loss\n",
        " * 2) tran_step 구현\n",
        " * 3) 훈련 시작 \n",
        "\n",
        "\n",
        "\n",
        "\n",
        "> 프로젝트: 한영 번역기 만들기\n",
        "\n",
        "* Step 1. 데이터 다운로드\n",
        "* Step 2. 데이터 정제\n",
        "* Step 3. 데이터 토큰화\n",
        "* Step 4. 모델 설계\n",
        "* Step 5. 훈련하기\n",
        "\n",
        "\n",
        "\n",
        "## 회고"
      ]
    },
    {
      "cell_type": "markdown",
      "metadata": {
        "id": "VgtzaF9Iyb4J"
      },
      "source": [
        "# LMS 따라해보기 "
      ]
    },
    {
      "cell_type": "code",
      "execution_count": 1,
      "metadata": {
        "colab": {
          "base_uri": "https://localhost:8080/",
          "height": 36
        },
        "id": "EEwAcOn9ySmJ",
        "outputId": "f2ce94d1-caca-468a-f5cf-0cf2bf27aafa"
      },
      "outputs": [
        {
          "output_type": "execute_result",
          "data": {
            "text/plain": [
              "'/usr/share/fonts/truetype/nanum/NanumBarunGothic.ttf'"
            ],
            "application/vnd.google.colaboratory.intrinsic+json": {
              "type": "string"
            }
          },
          "metadata": {},
          "execution_count": 1
        }
      ],
      "source": [
        "import matplotlib as mpl\n",
        "import matplotlib.pyplot as plt\n",
        " \n",
        "%config InlineBackend.figure_format = 'retina'\n",
        " \n",
        "import matplotlib.font_manager as fm\n",
        "fontpath = '/usr/share/fonts/truetype/nanum/NanumBarunGothic.ttf'\n",
        "font = fm.FontProperties(fname=fontpath, size=9)\n",
        "plt.rc('font', family='NanumBarunGothic') \n",
        "mpl.font_manager.findfont(font)"
      ]
    },
    {
      "cell_type": "markdown",
      "metadata": {
        "id": "YfCxM6p7DkZR"
      },
      "source": [
        "## 1.데이터 전처리"
      ]
    },
    {
      "cell_type": "markdown",
      "metadata": {
        "id": "lE35Lc0uDvyG"
      },
      "source": [
        "### 데이터 준비"
      ]
    },
    {
      "cell_type": "code",
      "execution_count": 2,
      "metadata": {
        "colab": {
          "base_uri": "https://localhost:8080/"
        },
        "id": "_nMAd-9pyTM9",
        "outputId": "ef9cd1b4-efc3-4367-ce86-0aea5a92ed21"
      },
      "outputs": [
        {
          "output_type": "stream",
          "name": "stdout",
          "text": [
            "2.9.2\n"
          ]
        }
      ],
      "source": [
        "import tensorflow as tf\n",
        "import numpy as np\n",
        "\n",
        "from sklearn.model_selection import train_test_split\n",
        "\n",
        "import matplotlib.ticker as ticker\n",
        "import matplotlib.pyplot as plt\n",
        "\n",
        "import time\n",
        "import re\n",
        "import os\n",
        "import io\n",
        "\n",
        "print(tf.__version__)"
      ]
    },
    {
      "cell_type": "markdown",
      "metadata": {
        "id": "Q5kyxV1mJOxo"
      },
      "source": [
        "* tf.keras.utils.get_file() 함수 :텐서플로우에서 제공하는 데이터 다운로드 함수\n",
        " * get_file()함수: URL로부터 데이터를 다운받고, 압축된 형식일 경우 해제 "
      ]
    },
    {
      "cell_type": "code",
      "execution_count": 3,
      "metadata": {
        "id": "xzTE_cguHiIw"
      },
      "outputs": [],
      "source": [
        "path_to_zip = tf.keras.utils.get_file(\n",
        "    'spa-eng.zip',\n",
        "    origin='http://storage.googleapis.com/download.tensorflow.org/data/spa-eng.zip',\n",
        "    extract=True)\n",
        "\n",
        "path_to_file = os.path.dirname(path_to_zip)+\"/spa-eng/spa.txt\""
      ]
    },
    {
      "cell_type": "markdown",
      "metadata": {
        "id": "M1_CMJsEKVbj"
      },
      "source": [
        "다운로드받은 데이터를 읽어온 후, 형태를 확인"
      ]
    },
    {
      "cell_type": "code",
      "execution_count": 4,
      "metadata": {
        "colab": {
          "base_uri": "https://localhost:8080/"
        },
        "id": "acYLDdNoJwU1",
        "outputId": "243c8db2-d1f6-4179-f213-10366a68c9f6"
      },
      "outputs": [
        {
          "output_type": "stream",
          "name": "stdout",
          "text": [
            "Data Size: 118964\n",
            "\n",
            "\n",
            "Example:\n",
            ">> Go.\tVe.\n",
            ">> Wait.\tEsperen.\n",
            ">> Hug me.\tAbrázame.\n",
            ">> No way!\t¡Ni cagando!\n",
            ">> Call me.\tLlamame.\n"
          ]
        }
      ],
      "source": [
        "with open(path_to_file, \"r\") as f:\n",
        "    raw = f.read().splitlines()\n",
        "\n",
        "print(\"Data Size:\", len(raw))\n",
        "print('\\n')\n",
        "print(\"Example:\")\n",
        "\n",
        "for sen in raw[0:100][::20]: print(\">>\", sen)"
      ]
    },
    {
      "cell_type": "code",
      "execution_count": 5,
      "metadata": {
        "colab": {
          "base_uri": "https://localhost:8080/"
        },
        "id": "DucX__NoKnrR",
        "outputId": "0ddc838d-3d52-4b06-fdda-0e0e9d06df16"
      },
      "outputs": [
        {
          "output_type": "execute_result",
          "data": {
            "text/plain": [
              "list"
            ]
          },
          "metadata": {},
          "execution_count": 5
        }
      ],
      "source": [
        "type(raw)"
      ]
    },
    {
      "cell_type": "code",
      "execution_count": 6,
      "metadata": {
        "colab": {
          "base_uri": "https://localhost:8080/"
        },
        "id": "ttuxJXHjLHp6",
        "outputId": "d6886175-b2ee-447c-cd1f-7c69bc257731"
      },
      "outputs": [
        {
          "output_type": "execute_result",
          "data": {
            "text/plain": [
              "118964"
            ]
          },
          "metadata": {},
          "execution_count": 6
        }
      ],
      "source": [
        "len(raw)"
      ]
    },
    {
      "cell_type": "code",
      "execution_count": 7,
      "metadata": {
        "colab": {
          "base_uri": "https://localhost:8080/"
        },
        "id": "N_KkTD0tKiyg",
        "outputId": "55b923da-c985-44d4-936d-4a2b1545fbec"
      },
      "outputs": [
        {
          "output_type": "execute_result",
          "data": {
            "text/plain": [
              "['Go.\\tVe.',\n",
              " 'Wait.\\tEsperen.',\n",
              " 'Hug me.\\tAbrázame.',\n",
              " 'No way!\\t¡Ni cagando!',\n",
              " 'Call me.\\tLlamame.',\n",
              " 'Go away!\\t¡Salga de aquí!',\n",
              " 'Hang on.\\tAgarra fuertemente.',\n",
              " 'I moved.\\tMe he trasladado.',\n",
              " 'Perfect!\\t¡Perfecto!',\n",
              " 'Wake up!\\t¡Despertate!']"
            ]
          },
          "metadata": {},
          "execution_count": 7
        }
      ],
      "source": [
        "raw[0:200][::20]"
      ]
    },
    {
      "cell_type": "code",
      "execution_count": 8,
      "metadata": {
        "colab": {
          "base_uri": "https://localhost:8080/"
        },
        "id": "VdHGnvYOKsZ4",
        "outputId": "a2e09322-c76c-4a7f-c740-77f8d3ad4d45"
      },
      "outputs": [
        {
          "output_type": "execute_result",
          "data": {
            "text/plain": [
              "['Go.\\tVe.',\n",
              " 'Wait.\\tEsperen.',\n",
              " 'Hug me.\\tAbrázame.',\n",
              " 'No way!\\t¡Ni cagando!',\n",
              " 'Call me.\\tLlamame.']"
            ]
          },
          "metadata": {},
          "execution_count": 8
        }
      ],
      "source": [
        "raw[0:100][::20]"
      ]
    },
    {
      "cell_type": "code",
      "execution_count": 9,
      "metadata": {
        "colab": {
          "base_uri": "https://localhost:8080/"
        },
        "id": "978i6e8bLQ-h",
        "outputId": "1543bf73-6fca-434f-c798-393ec05de54e"
      },
      "outputs": [
        {
          "output_type": "execute_result",
          "data": {
            "text/plain": [
              "['Go.\\tVe.',\n",
              " 'Wait.\\tEsperen.',\n",
              " 'Hug me.\\tAbrázame.',\n",
              " 'No way!\\t¡Ni cagando!',\n",
              " 'Call me.\\tLlamame.']"
            ]
          },
          "metadata": {},
          "execution_count": 9
        }
      ],
      "source": [
        "raw[0:100:20]"
      ]
    },
    {
      "cell_type": "markdown",
      "metadata": {
        "id": "czAUssJuDyZS"
      },
      "source": [
        "### 데이터 전처리 : 정제하기\n",
        "\n",
        "\n",
        "소스 문장과 타겟 문장을 분리: \n",
        "\n",
        "해당 데이터는 \\t 기호를 기준으로 영어와 스페인어가 병렬 쌍을 이루기에\n",
        " \\t 기호를 매개변수로 split() 함수를 호출하여 분리\n",
        "\n",
        "문장의 시작 문자 <start>, 종료 문자 <end> :\n",
        "\n",
        "Decoder는 첫 입력으로 사용할 시작 토큰과 문장생성 종료를 알리는 끝 토큰이 반드시 필요\n"
      ]
    },
    {
      "cell_type": "markdown",
      "metadata": {
        "id": "LDnThWABL3rk"
      },
      "source": [
        "* 데이터 정제 함수 정의"
      ]
    },
    {
      "cell_type": "code",
      "execution_count": 10,
      "metadata": {
        "id": "6--Hw8S4LyEp"
      },
      "outputs": [],
      "source": [
        "def preprocess_sentence(sentence, s_token=False, e_token=False):\n",
        "    sentence = sentence.lower().strip()\n",
        "\n",
        "    sentence = re.sub(r\"([?.!,])\", r\" \\1 \", sentence)   #??\n",
        "    sentence = re.sub(r'[\" \"]+', \" \", sentence)         # 공백 여러개 공백하나로\n",
        "    sentence = re.sub(r\"[^a-zA-Z?.!,]+\", \" \", sentence) # 대소문자, 기본 특수기호 외는 공백하나로\n",
        "\n",
        "    sentence = sentence.strip()\n",
        "\n",
        "    if s_token:\n",
        "        sentence = '<start> ' + sentence\n",
        "\n",
        "    if e_token:\n",
        "        sentence += ' <end>'\n",
        "    \n",
        "    return sentence\n"
      ]
    },
    {
      "cell_type": "code",
      "execution_count": 11,
      "metadata": {
        "colab": {
          "base_uri": "https://localhost:8080/"
        },
        "id": "JRixJWuWMBgv",
        "outputId": "de94d7a2-0e0d-4829-aeb4-efffaa3ea952"
      },
      "outputs": [
        {
          "output_type": "stream",
          "name": "stdout",
          "text": [
            "English: go away !\n",
            "Spanish: <start> salga de aqu ! <end>\n"
          ]
        }
      ],
      "source": [
        "enc_corpus = []\n",
        "dec_corpus = []\n",
        "\n",
        "num_examples = 30000\n",
        "\n",
        "for pair in raw[:num_examples]:\n",
        "    eng, spa = pair.split(\"\\t\")\n",
        "\n",
        "    enc_corpus.append(preprocess_sentence(eng))\n",
        "    dec_corpus.append(preprocess_sentence(spa, s_token=True, e_token=True))\n",
        "\n",
        "print(\"English:\", enc_corpus[100])   # go away !\n",
        "print(\"Spanish:\", dec_corpus[100])   # <start> salga de aqu ! <end>"
      ]
    },
    {
      "cell_type": "markdown",
      "metadata": {
        "id": "IIfuxVp0D2JI"
      },
      "source": [
        "### 데이터 전처리 : 토큰화"
      ]
    },
    {
      "cell_type": "markdown",
      "metadata": {
        "id": "WMO-Y98dUuFa"
      },
      "source": [
        "* tokenize() 함수 정의 "
      ]
    },
    {
      "cell_type": "code",
      "execution_count": 12,
      "metadata": {
        "id": "au4WFJlmD0tb"
      },
      "outputs": [],
      "source": [
        "def tokenize(corpus):\n",
        "    tokenizer = tf.keras.preprocessing.text.Tokenizer(filters='')\n",
        "    tokenizer.fit_on_texts(corpus)\n",
        "\n",
        "    tensor = tokenizer.texts_to_sequences(corpus)\n",
        "\n",
        "    tensor = tf.keras.preprocessing.sequence.pad_sequences(tensor, padding='post')\n",
        "\n",
        "    return tensor, tokenizer"
      ]
    },
    {
      "cell_type": "markdown",
      "metadata": {
        "id": "6dreDVgKWwSe"
      },
      "source": [
        "* 토큰화: 텐서로 변환\n",
        "* 훈련-검증 데이터 분리\n"
      ]
    },
    {
      "cell_type": "code",
      "execution_count": 13,
      "metadata": {
        "colab": {
          "base_uri": "https://localhost:8080/"
        },
        "id": "yAD_Im71OeJh",
        "outputId": "fd367765-dfc2-4a3d-a0fc-92ef7308e62c"
      },
      "outputs": [
        {
          "output_type": "stream",
          "name": "stdout",
          "text": [
            "English Vocab Size: 4931\n",
            "Spanish Vocab Size: 8893\n"
          ]
        }
      ],
      "source": [
        "# 토큰화하기\n",
        "enc_tensor, enc_tokenizer = tokenize(enc_corpus)\n",
        "dec_tensor, dec_tokenizer = tokenize(dec_corpus)\n",
        "\n",
        "# 훈련 데이터와 검증 데이터로 분리하기\n",
        "enc_train, enc_val, dec_train, dec_val = \\\n",
        "train_test_split(enc_tensor, dec_tensor, test_size=0.2)\n",
        "\n",
        "print(\"English Vocab Size:\", len(enc_tokenizer.index_word))\n",
        "print(\"Spanish Vocab Size:\", len(dec_tokenizer.index_word))"
      ]
    },
    {
      "cell_type": "code",
      "execution_count": 14,
      "metadata": {
        "colab": {
          "base_uri": "https://localhost:8080/"
        },
        "id": "XlIPNmhHOgIX",
        "outputId": "2fbfe112-72d0-4cec-fb88-504a18f521e1"
      },
      "outputs": [
        {
          "output_type": "execute_result",
          "data": {
            "text/plain": [
              "(array([[ 34,   1,   0, ...,   0,   0,   0],\n",
              "        [ 34,   1,   0, ...,   0,   0,   0],\n",
              "        [ 34,   1,   0, ...,   0,   0,   0],\n",
              "        ...,\n",
              "        [ 14,  36, 722, ...,   0,   0,   0],\n",
              "        [ 14,  36, 367, ...,   0,   0,   0],\n",
              "        [ 14,  36,  70, ...,   0,   0,   0]], dtype=int32),\n",
              " <keras.preprocessing.text.Tokenizer at 0x7f1f4b7f42d0>)"
            ]
          },
          "metadata": {},
          "execution_count": 14
        }
      ],
      "source": [
        "enc_tensor, enc_tokenizer"
      ]
    },
    {
      "cell_type": "code",
      "execution_count": 15,
      "metadata": {
        "colab": {
          "base_uri": "https://localhost:8080/"
        },
        "id": "D4qzI0RJV5uD",
        "outputId": "e2c7df0f-e564-48cf-b372-b3fb27b8fcd6"
      },
      "outputs": [
        {
          "output_type": "execute_result",
          "data": {
            "text/plain": [
              "(array([[ 34,   1,   0, ...,   0,   0,   0],\n",
              "        [ 34,   1,   0, ...,   0,   0,   0],\n",
              "        [ 34,   1,   0, ...,   0,   0,   0],\n",
              "        ...,\n",
              "        [ 14,  36, 722, ...,   0,   0,   0],\n",
              "        [ 14,  36, 367, ...,   0,   0,   0],\n",
              "        [ 14,  36,  70, ...,   0,   0,   0]], dtype=int32),\n",
              " <keras.preprocessing.text.Tokenizer at 0x7f1f4b1ff450>)"
            ]
          },
          "metadata": {},
          "execution_count": 15
        }
      ],
      "source": [
        "tokenize(enc_corpus)"
      ]
    },
    {
      "cell_type": "markdown",
      "source": [
        "## 2.모델 설계 : Seq2seq"
      ],
      "metadata": {
        "id": "6-hGDucaqx0I"
      }
    },
    {
      "cell_type": "markdown",
      "metadata": {
        "id": "bzae2bDED8Dw"
      },
      "source": [
        " ![image.png](data:image/png;base64,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)"
      ]
    },
    {
      "cell_type": "markdown",
      "metadata": {
        "id": "YJq0EE2TX0XC"
      },
      "source": [
        "각각 1개의 GRU을 갖는 Encoder-Decoder 구조"
      ]
    },
    {
      "cell_type": "markdown",
      "metadata": {
        "id": "-lz99l43GB6_"
      },
      "source": [
        "### Bahdanau Attention"
      ]
    },
    {
      "cell_type": "code",
      "execution_count": 16,
      "metadata": {
        "id": "SkdB_JWpGaRh"
      },
      "outputs": [],
      "source": [
        "class BahdanauAttention(tf.keras.layers.Layer):\n",
        "    def __init__(self, units):\n",
        "        super(BahdanauAttention, self).__init__()\n",
        "        self.w_dec = tf.keras.layers.Dense(units)\n",
        "        self.w_enc = tf.keras.layers.Dense(units)\n",
        "        self.w_com = tf.keras.layers.Dense(1)\n",
        "    \n",
        "    def call(self, h_enc, h_dec):\n",
        "        # h_enc shape: [batch x length x units]\n",
        "        # h_dec shape: [batch x units]\n",
        "\n",
        "        h_enc = self.w_enc(h_enc)\n",
        "        h_dec = tf.expand_dims(h_dec, 1)\n",
        "        h_dec = self.w_dec(h_dec)\n",
        "\n",
        "        score = self.w_com(tf.nn.tanh(h_dec + h_enc))\n",
        "        \n",
        "        attn = tf.nn.softmax(score, axis=1)\n",
        "\n",
        "        context_vec = attn * h_enc\n",
        "        context_vec = tf.reduce_sum(context_vec, axis=1)\n",
        "\n",
        "        return context_vec, attn\n"
      ]
    },
    {
      "cell_type": "markdown",
      "metadata": {
        "id": "U0_b9S5zGB-_"
      },
      "source": [
        "### Encoder"
      ]
    },
    {
      "cell_type": "code",
      "execution_count": 17,
      "metadata": {
        "id": "EztF-e7qGd8o"
      },
      "outputs": [],
      "source": [
        "class Encoder(tf.keras.Model):\n",
        "    def __init__(self, vocab_size, embedding_dim, enc_units):\n",
        "        super(Encoder, self).__init__()\n",
        "        \n",
        "        self.enc_units = enc_units\n",
        "        self.embedding = tf.keras.layers.Embedding(vocab_size, embedding_dim)\n",
        "        self.gru = tf.keras.layers.GRU(enc_units,\n",
        "                                       return_sequences=True)\n",
        "        \n",
        "    def call(self, x):\n",
        "        out = self.embedding(x)\n",
        "        out = self.gru(out)\n",
        "        \n",
        "        return out"
      ]
    },
    {
      "cell_type": "markdown",
      "metadata": {
        "id": "t2Nic1x_GCB0"
      },
      "source": [
        "### Decoder"
      ]
    },
    {
      "cell_type": "code",
      "execution_count": 18,
      "metadata": {
        "id": "AIx0PE9TD9-8"
      },
      "outputs": [],
      "source": [
        "class Decoder(tf.keras.Model):\n",
        "    def __init__(self, vocab_size, embedding_dim, dec_units):\n",
        "        super(Decoder, self).__init__()\n",
        "        self.dec_units = dec_units\n",
        "        self.embedding = tf.keras.layers.Embedding(vocab_size, embedding_dim)\n",
        "        self.gru = tf.keras.layers.GRU(dec_units,\n",
        "                                       return_sequences=True,\n",
        "                                       return_state=True)\n",
        "        self.fc = tf.keras.layers.Dense(vocab_size)\n",
        "\n",
        "        self.attention = BahdanauAttention(self.dec_units)\n",
        "\n",
        "    def call(self, x, h_dec, enc_out):\n",
        "        context_vec, attn = self.attention(enc_out, h_dec)\n",
        "\n",
        "        out = self.embedding(x)\n",
        "        out = tf.concat([tf.expand_dims(context_vec, 1), out], axis=-1)\n",
        "        \n",
        "        out, h_dec = self.gru(out)\n",
        "        out = tf.reshape(out, (-1, out.shape[2]))\n",
        "        out = self.fc(out)\n",
        "\n",
        "        return out, h_dec, attn"
      ]
    },
    {
      "cell_type": "code",
      "execution_count": 19,
      "metadata": {
        "colab": {
          "base_uri": "https://localhost:8080/"
        },
        "id": "SahzbgMnGilP",
        "outputId": "8bb09fda-46a5-4b8b-ef29-b67624181798"
      },
      "outputs": [
        {
          "output_type": "stream",
          "name": "stdout",
          "text": [
            "Encoder Output: (64, 30, 1024)\n",
            "Decoder Output: (64, 8894)\n",
            "Decoder Hidden State: (64, 1024)\n",
            "Attention: (64, 30, 1)\n"
          ]
        }
      ],
      "source": [
        "# 코드를 실행하세요.\n",
        "\n",
        "BATCH_SIZE     = 64\n",
        "SRC_VOCAB_SIZE = len(enc_tokenizer.index_word) + 1\n",
        "TGT_VOCAB_SIZE = len(dec_tokenizer.index_word) + 1\n",
        "\n",
        "units         = 1024\n",
        "embedding_dim = 512\n",
        "\n",
        "encoder = Encoder(SRC_VOCAB_SIZE, embedding_dim, units)\n",
        "decoder = Decoder(TGT_VOCAB_SIZE, embedding_dim, units)\n",
        "\n",
        "\n",
        "# sample input\n",
        "sequence_len = 30\n",
        "\n",
        "sample_enc = tf.random.uniform((BATCH_SIZE, sequence_len))\n",
        "sample_output = encoder(sample_enc)\n",
        "\n",
        "print ('Encoder Output:', sample_output.shape)\n",
        "\n",
        "sample_state = tf.random.uniform((BATCH_SIZE, units))\n",
        "\n",
        "sample_logits, h_dec, attn = decoder(tf.random.uniform((BATCH_SIZE, 1)),\n",
        "                                     sample_state, sample_output)\n",
        "\n",
        "print ('Decoder Output:', sample_logits.shape)\n",
        "print ('Decoder Hidden State:', h_dec.shape)\n",
        "print ('Attention:', attn.shape)"
      ]
    },
    {
      "cell_type": "markdown",
      "metadata": {
        "id": "5VtIJE4cGu02"
      },
      "source": [
        "## 3.훈련하기 "
      ]
    },
    {
      "cell_type": "markdown",
      "metadata": {
        "id": "uXoloNyEGzv9"
      },
      "source": [
        "### Optimizer & Loss"
      ]
    },
    {
      "cell_type": "markdown",
      "metadata": {
        "id": "ZYUzOqn9Zl_5"
      },
      "source": [
        "* Optimizer:  모델이 학습할 때에 정답을 찾아가는 방법 ( 주로 Adam 사용)\n",
        "* Loss :  Encoder-Decoder 구로인해 직접 커스텀하여 사용 "
      ]
    },
    {
      "cell_type": "code",
      "execution_count": 20,
      "metadata": {
        "id": "ExUcoVCtZhiS"
      },
      "outputs": [],
      "source": [
        "optimizer = tf.keras.optimizers.Adam()\n",
        "loss_object = tf.keras.losses.SparseCategoricalCrossentropy(\n",
        "    from_logits=True, reduction='none')\n",
        "\n",
        "def loss_function(real, pred):\n",
        "    mask = tf.math.logical_not(tf.math.equal(real, 0))\n",
        "    loss = loss_object(real, pred)\n",
        "    \n",
        "    mask = tf.cast(mask, dtype=loss.dtype)\n",
        "    loss *= mask\n",
        "    \n",
        "    return tf.reduce_mean(loss)\n"
      ]
    },
    {
      "cell_type": "markdown",
      "metadata": {
        "id": "s3gZ6DSBGzy6"
      },
      "source": [
        " ### train_step 구현하기"
      ]
    },
    {
      "cell_type": "markdown",
      "metadata": {
        "id": "GD_AR8KUcVIZ"
      },
      "source": [
        "* train_step() 정의 : 학습에 필요한 것을 모두 가져가 Loss를 계산한 후 반환"
      ]
    },
    {
      "cell_type": "markdown",
      "metadata": {
        "id": "b2r4Cx6ZdvwZ"
      },
      "source": [
        "💡 @tf.function 데코레이터: \n",
        "\n",
        " 훈련 외적인 텐서플로우 연산을 GPU에서 동작하게 해 훈련을 가속할 수 있도록 도와준다. ( @tf.function 를 제거할 경우, Epoch당 1.5~2배 이상 더 많은 시간이 소요)\n",
        "\n",
        "\n",
        "\n",
        "💡 tf.GradientTape():\n",
        "\n",
        "학습하며 발생한 모든 연산을 기록하는 테이프로 모델이 각 스텝의 최종 단계에서 미분값을 구하는 데에 사용"
      ]
    },
    {
      "cell_type": "code",
      "execution_count": 21,
      "metadata": {
        "id": "jkjwUfQYeOwz"
      },
      "outputs": [],
      "source": [
        "@tf.function\n",
        "def train_step(src, tgt, encoder, decoder, optimizer, dec_tok):\n",
        "    bsz = src.shape[0]\n",
        "    loss = 0\n",
        "\n",
        "    with tf.GradientTape() as tape:\n",
        "        enc_out = encoder(src)\n",
        "        h_dec = enc_out[:, -1]\n",
        "        \n",
        "        dec_src = tf.expand_dims([dec_tok.word_index['<start>']] * bsz, 1)\n",
        "\n",
        "        for t in range(1, tgt.shape[1]):\n",
        "            pred, h_dec, _ = decoder(dec_src, h_dec, enc_out)\n",
        "\n",
        "            loss += loss_function(tgt[:, t], pred)\n",
        "            dec_src = tf.expand_dims(tgt[:, t], 1)\n",
        "        \n",
        "    batch_loss = (loss / int(tgt.shape[1]))\n",
        "\n",
        "    variables = encoder.trainable_variables + decoder.trainable_variables\n",
        "    gradients = tape.gradient(loss, variables)\n",
        "    optimizer.apply_gradients(zip(gradients, variables))\n",
        "    \n",
        "    return batch_loss\n"
      ]
    },
    {
      "cell_type": "markdown",
      "metadata": {
        "id": "OEY_8wnsGz2d"
      },
      "source": [
        "### 훈련 시작하기"
      ]
    },
    {
      "cell_type": "markdown",
      "metadata": {
        "id": "wsYwI5IcfIHT"
      },
      "source": [
        "💡 tqdm:\n",
        "\n",
        "훈련의 진행 과정을 한눈에 볼 수 있게 해주는 라이브러리"
      ]
    },
    {
      "cell_type": "code",
      "execution_count": 22,
      "metadata": {
        "colab": {
          "base_uri": "https://localhost:8080/"
        },
        "id": "e7EE4bovGwTA",
        "outputId": "2195715d-f339-4b44-e0b7-fc6f557dcfca"
      },
      "outputs": [
        {
          "output_type": "stream",
          "name": "stderr",
          "text": [
            "Epoch  1: 100%|██████████| 375/375 [00:38<00:00,  9.68it/s, Loss 1.3445]\n",
            "Epoch  2: 100%|██████████| 375/375 [00:15<00:00, 24.47it/s, Loss 0.8742]\n",
            "Epoch  3: 100%|██████████| 375/375 [00:15<00:00, 24.47it/s, Loss 0.6164]\n",
            "Epoch  4: 100%|██████████| 375/375 [00:15<00:00, 24.52it/s, Loss 0.4389]\n",
            "Epoch  5: 100%|██████████| 375/375 [00:15<00:00, 24.41it/s, Loss 0.3263]\n",
            "Epoch  6: 100%|██████████| 375/375 [00:15<00:00, 24.32it/s, Loss 0.2538]\n",
            "Epoch  7: 100%|██████████| 375/375 [00:15<00:00, 24.02it/s, Loss 0.2083]\n",
            "Epoch  8: 100%|██████████| 375/375 [00:15<00:00, 24.38it/s, Loss 0.1772]\n",
            "Epoch  9: 100%|██████████| 375/375 [00:15<00:00, 24.30it/s, Loss 0.1553]\n",
            "Epoch 10: 100%|██████████| 375/375 [00:15<00:00, 24.33it/s, Loss 0.1425]\n"
          ]
        }
      ],
      "source": [
        "from tqdm import tqdm    # tqdm\n",
        "import random\n",
        "\n",
        "EPOCHS = 10\n",
        "\n",
        "for epoch in range(EPOCHS):\n",
        "    total_loss = 0\n",
        "    \n",
        "    idx_list = list(range(0, enc_train.shape[0], BATCH_SIZE))\n",
        "    random.shuffle(idx_list)\n",
        "    t = tqdm(idx_list)    # tqdm\n",
        "\n",
        "    for (batch, idx) in enumerate(t):\n",
        "        batch_loss = train_step(enc_train[idx:idx+BATCH_SIZE],\n",
        "                                dec_train[idx:idx+BATCH_SIZE],\n",
        "                                encoder,\n",
        "                                decoder,\n",
        "                                optimizer,\n",
        "                                dec_tokenizer)\n",
        "    \n",
        "        total_loss += batch_loss\n",
        "        \n",
        "        t.set_description_str('Epoch %2d' % (epoch + 1))    # tqdm\n",
        "        t.set_postfix_str('Loss %.4f' % (total_loss.numpy() / (batch + 1)))    # tqdm"
      ]
    },
    {
      "cell_type": "markdown",
      "metadata": {
        "id": "-SzVM_d8hxqK"
      },
      "source": [
        "### 실습하기"
      ]
    },
    {
      "cell_type": "markdown",
      "metadata": {
        "id": "AanMVv_djJ6Q"
      },
      "source": [
        "분리한 Validation Set을 사용하는 eval_step() 함수를 정의"
      ]
    },
    {
      "cell_type": "markdown",
      "metadata": {
        "id": "WzcnNpiejcJz"
      },
      "source": [
        "⚠️  (주의! Evaluation 중에는 모델이 학습을 해서는 안 됩니다!)"
      ]
    },
    {
      "cell_type": "code",
      "execution_count": 23,
      "metadata": {
        "id": "Dw-BuO8UiLUe"
      },
      "outputs": [],
      "source": [
        "# Define eval_step\n",
        "\n",
        "@tf.function\n",
        "def eval_step(src, tgt, encoder, decoder, dec_tok):\n",
        "    bsz = src.shape[0]\n",
        "    loss = 0\n",
        "\n",
        "    enc_out = encoder(src)\n",
        "\n",
        "    h_dec = enc_out[:, -1]\n",
        "\n",
        "    dec_src = tf.expand_dims([dec_tok.word_index['<start>']] * bsz, 1)\n",
        "\n",
        "    for t in range(1, tgt.shape[1]):\n",
        "        pred, h_dec, _ = decoder(dec_src, h_dec, enc_out)\n",
        "\n",
        "        loss += loss_function(tgt[:, t], pred)\n",
        "        dec_src = tf.expand_dims(tgt[:, t], 1)\n",
        "\n",
        "    batch_loss = (loss / int(tgt.shape[1]))\n",
        "\n",
        "    return batch_loss\n",
        "\n"
      ]
    },
    {
      "cell_type": "code",
      "execution_count": 24,
      "metadata": {
        "colab": {
          "base_uri": "https://localhost:8080/"
        },
        "id": "7WRHBoEJihi5",
        "outputId": "e0a6477a-0199-449c-e2b2-5b47e16c4dd8"
      },
      "outputs": [
        {
          "output_type": "stream",
          "name": "stderr",
          "text": [
            "Epoch  1: 100%|██████████| 375/375 [00:15<00:00, 24.44it/s, Loss 0.1298]\n",
            "Test Epoch  1: 100%|██████████| 94/94 [00:14<00:00,  6.30it/s, Test Loss 0.6937]\n",
            "Epoch  2: 100%|██████████| 375/375 [00:15<00:00, 24.40it/s, Loss 0.1194]\n",
            "Test Epoch  2: 100%|██████████| 94/94 [00:01<00:00, 50.29it/s, Test Loss 0.7081]\n",
            "Epoch  3: 100%|██████████| 375/375 [00:15<00:00, 24.37it/s, Loss 0.1121]\n",
            "Test Epoch  3: 100%|██████████| 94/94 [00:01<00:00, 49.74it/s, Test Loss 0.7181]\n",
            "Epoch  4: 100%|██████████| 375/375 [00:15<00:00, 24.09it/s, Loss 0.1058]\n",
            "Test Epoch  4: 100%|██████████| 94/94 [00:01<00:00, 49.03it/s, Test Loss 0.7225]\n",
            "Epoch  5: 100%|██████████| 375/375 [00:15<00:00, 24.27it/s, Loss 0.1022]\n",
            "Test Epoch  5: 100%|██████████| 94/94 [00:01<00:00, 49.79it/s, Test Loss 0.7260]\n",
            "Epoch  6: 100%|██████████| 375/375 [00:15<00:00, 24.36it/s, Loss 0.0978]\n",
            "Test Epoch  6: 100%|██████████| 94/94 [00:01<00:00, 49.73it/s, Test Loss 0.7400]\n",
            "Epoch  7: 100%|██████████| 375/375 [00:15<00:00, 24.31it/s, Loss 0.0965]\n",
            "Test Epoch  7: 100%|██████████| 94/94 [00:01<00:00, 49.25it/s, Test Loss 0.7409]\n",
            "Epoch  8: 100%|██████████| 375/375 [00:15<00:00, 24.36it/s, Loss 0.0938]\n",
            "Test Epoch  8: 100%|██████████| 94/94 [00:01<00:00, 49.79it/s, Test Loss 0.7492]\n",
            "Epoch  9: 100%|██████████| 375/375 [00:15<00:00, 24.33it/s, Loss 0.0937]\n",
            "Test Epoch  9: 100%|██████████| 94/94 [00:01<00:00, 49.96it/s, Test Loss 0.7647]\n",
            "Epoch 10: 100%|██████████| 375/375 [00:15<00:00, 24.27it/s, Loss 0.0888]\n",
            "Test Epoch 10: 100%|██████████| 94/94 [00:01<00:00, 49.29it/s, Test Loss 0.7576]\n"
          ]
        }
      ],
      "source": [
        "# Training Process\n",
        "\n",
        "from tqdm import tqdm\n",
        "\n",
        "EPOCHS = 10\n",
        "\n",
        "for epoch in range(EPOCHS):\n",
        "    total_loss = 0\n",
        "\n",
        "    idx_list = list(range(0, enc_train.shape[0], BATCH_SIZE))\n",
        "    random.shuffle(idx_list)\n",
        "    t = tqdm(idx_list)\n",
        "\n",
        "    for (batch, idx) in enumerate(t):\n",
        "        batch_loss = train_step(enc_train[idx:idx+BATCH_SIZE],\n",
        "                                dec_train[idx:idx+BATCH_SIZE],\n",
        "                                encoder,\n",
        "                                decoder,\n",
        "                                optimizer,\n",
        "                                dec_tokenizer)\n",
        "\n",
        "        total_loss += batch_loss\n",
        "\n",
        "        t.set_description_str('Epoch %2d' % (epoch + 1))\n",
        "        t.set_postfix_str('Loss %.4f' % (total_loss.numpy() / (batch + 1)))\n",
        "\n",
        "    test_loss = 0\n",
        "\n",
        "    idx_list = list(range(0, enc_val.shape[0], BATCH_SIZE))\n",
        "    random.shuffle(idx_list)\n",
        "    t = tqdm(idx_list)\n",
        "\n",
        "    for (test_batch, idx) in enumerate(t):\n",
        "        test_batch_loss = eval_step(enc_val[idx:idx+BATCH_SIZE],\n",
        "                                    dec_val[idx:idx+BATCH_SIZE],\n",
        "                                    encoder,\n",
        "                                    decoder,\n",
        "                                    dec_tokenizer)\n",
        "\n",
        "        test_loss += test_batch_loss\n",
        "\n",
        "        t.set_description_str('Test Epoch %2d' % (epoch + 1))\n",
        "        t.set_postfix_str('Test Loss %.4f' % (test_loss.numpy() / (test_batch + 1)))"
      ]
    },
    {
      "cell_type": "markdown",
      "metadata": {
        "id": "2OO8SX4hi00S"
      },
      "source": [
        "번역 성능을 평가"
      ]
    },
    {
      "cell_type": "code",
      "execution_count": 25,
      "metadata": {
        "id": "bXjJAXZ6iLXl"
      },
      "outputs": [],
      "source": [
        "def evaluate(sentence, encoder, decoder):\n",
        "    attention = np.zeros((dec_train.shape[-1], enc_train.shape[-1]))\n",
        "    \n",
        "    sentence = preprocess_sentence(sentence)\n",
        "    inputs = enc_tokenizer.texts_to_sequences([sentence.split()])\n",
        "    inputs = tf.keras.preprocessing.sequence.pad_sequences(inputs,\n",
        "                                                           maxlen=enc_train.shape[-1],\n",
        "                                                           padding='post')\n",
        "\n",
        "    result = ''\n",
        "\n",
        "    enc_out = encoder(inputs)\n",
        "\n",
        "    dec_hidden = enc_out[:, -1]\n",
        "    dec_input = tf.expand_dims([dec_tokenizer.word_index['<start>']], 0)\n",
        "\n",
        "    for t in range(dec_train.shape[-1]):\n",
        "        predictions, dec_hidden, attention_weights = decoder(dec_input,\n",
        "                                                             dec_hidden,\n",
        "                                                             enc_out)\n",
        "\n",
        "        attention_weights = tf.reshape(attention_weights, (-1, ))\n",
        "        attention[t] = attention_weights.numpy()\n",
        "\n",
        "        predicted_id = \\\n",
        "        tf.argmax(tf.math.softmax(predictions, axis=-1)[0]).numpy()\n",
        "\n",
        "        result += dec_tokenizer.index_word[predicted_id] + ' '\n",
        "\n",
        "        if dec_tokenizer.index_word[predicted_id] == '<end>':\n",
        "            return result, sentence, attention\n",
        "\n",
        "        dec_input = tf.expand_dims([predicted_id], 0)\n",
        "\n",
        "    return result, sentence, attention\n",
        "\n"
      ]
    },
    {
      "cell_type": "markdown",
      "metadata": {
        "id": "Sl-MMxF_i7s_"
      },
      "source": [
        "Attention Map으로 시각화하는 것는 보너스!"
      ]
    },
    {
      "cell_type": "code",
      "execution_count": 26,
      "metadata": {
        "id": "IvyKNoYkimXA"
      },
      "outputs": [],
      "source": [
        "def plot_attention(attention, sentence, predicted_sentence):\n",
        "    fig = plt.figure(figsize=(10,10))\n",
        "    ax = fig.add_subplot(1, 1, 1)\n",
        "    ax.matshow(attention, cmap='viridis')\n",
        "\n",
        "    fontdict = {'fontsize': 14}\n",
        "\n",
        "    ax.set_xticklabels([''] + sentence, fontdict=fontdict, rotation=90)\n",
        "    ax.set_yticklabels([''] + predicted_sentence, fontdict=fontdict)\n",
        "\n",
        "    ax.xaxis.set_major_locator(ticker.MultipleLocator(1))\n",
        "    ax.yaxis.set_major_locator(ticker.MultipleLocator(1))\n",
        "\n",
        "    plt.show()\n"
      ]
    },
    {
      "cell_type": "code",
      "execution_count": 27,
      "metadata": {
        "colab": {
          "base_uri": "https://localhost:8080/",
          "height": 661
        },
        "id": "2iUHS06_is8W",
        "outputId": "0841ad54-2e9b-49f7-ebd5-470198956e51"
      },
      "outputs": [
        {
          "output_type": "stream",
          "name": "stdout",
          "text": [
            "Input: can i have some coffee ?\n",
            "Predicted translation: me dan un poco m s ? <end> \n"
          ]
        },
        {
          "output_type": "display_data",
          "data": {
            "text/plain": [
              "<Figure size 720x720 with 1 Axes>"
            ],
            "image/png": "[encoded data removed]"
          },
          "metadata": {
            "image/png": {
              "width": 465,
              "height": 608
            },
            "needs_background": "light"
          }
        }
      ],
      "source": [
        "def translate(sentence, encoder, decoder):\n",
        "    result, sentence, attention = evaluate(sentence, encoder, decoder)\n",
        "\n",
        "    print('Input: %s' % (sentence))\n",
        "    print('Predicted translation: {}'.format(result))\n",
        "    \n",
        "    attention = attention[:len(result.split()), :len(sentence.split())]\n",
        "    plot_attention(attention, sentence.split(), result.split(' '))\n",
        "\n",
        "\n",
        "translate(\"Can I have some coffee?\", encoder, decoder)"
      ]
    },
    {
      "cell_type": "markdown",
      "metadata": {
        "id": "lgzLZ88OgD5Z"
      },
      "source": [
        "# 프로젝트: 한영 번역기 만들기\n"
      ]
    },
    {
      "cell_type": "markdown",
      "source": [
        "⚠️ 한글 폰트 표시"
      ],
      "metadata": {
        "id": "RRrC1nCAZ4Sm"
      }
    },
    {
      "cell_type": "code",
      "source": [
        "!sudo apt-get install -y fonts-nanum\n",
        "!sudo fc-cache -fv\n",
        "!rm ~/.cache/matplotlib -rf"
      ],
      "metadata": {
        "colab": {
          "base_uri": "https://localhost:8080/"
        },
        "id": "16Vk2f2phtN4",
        "outputId": "674485e5-cd73-4439-eea3-ac3b9ffceef0"
      },
      "execution_count": 28,
      "outputs": [
        {
          "output_type": "stream",
          "name": "stdout",
          "text": [
            "Reading package lists... Done\n",
            "Building dependency tree       \n",
            "Reading state information... Done\n",
            "fonts-nanum is already the newest version (20170925-1).\n",
            "The following package was automatically installed and is no longer required:\n",
            "  libnvidia-common-460\n",
            "Use 'sudo apt autoremove' to remove it.\n",
            "0 upgraded, 0 newly installed, 0 to remove and 25 not upgraded.\n",
            "/usr/share/fonts: caching, new cache contents: 0 fonts, 1 dirs\n",
            "/usr/share/fonts/truetype: caching, new cache contents: 0 fonts, 4 dirs\n",
            "/usr/share/fonts/truetype/dejavu: caching, new cache contents: 22 fonts, 0 dirs\n",
            "/usr/share/fonts/truetype/humor-sans: caching, new cache contents: 1 fonts, 0 dirs\n",
            "/usr/share/fonts/truetype/liberation: caching, new cache contents: 16 fonts, 0 dirs\n",
            "/usr/share/fonts/truetype/nanum: caching, new cache contents: 10 fonts, 0 dirs\n",
            "/usr/local/share/fonts: caching, new cache contents: 0 fonts, 0 dirs\n",
            "/root/.local/share/fonts: skipping, no such directory\n",
            "/root/.fonts: skipping, no such directory\n",
            "/var/cache/fontconfig: cleaning cache directory\n",
            "/root/.cache/fontconfig: not cleaning non-existent cache directory\n",
            "/root/.fontconfig: not cleaning non-existent cache directory\n",
            "fc-cache: succeeded\n"
          ]
        }
      ]
    },
    {
      "cell_type": "code",
      "execution_count": 29,
      "metadata": {
        "id": "zLOLu8HelKit",
        "colab": {
          "base_uri": "https://localhost:8080/"
        },
        "outputId": "7e2dc090-f5ae-458c-a8b9-bbe588919878"
      },
      "outputs": [
        {
          "output_type": "stream",
          "name": "stdout",
          "text": [
            "1.3.5\n",
            "2.9.2\n",
            "3.2.2\n"
          ]
        }
      ],
      "source": [
        "import pandas\n",
        "import tensorflow\n",
        "import matplotlib\n",
        "\n",
        "print(pandas.__version__)\n",
        "print(tensorflow.__version__)\n",
        "print(matplotlib.__version__)"
      ]
    },
    {
      "cell_type": "code",
      "execution_count": 30,
      "metadata": {
        "colab": {
          "base_uri": "https://localhost:8080/",
          "height": 36
        },
        "id": "sCPAhsWelUCW",
        "outputId": "65d9994d-1d18-4649-b216-068d7082b911"
      },
      "outputs": [
        {
          "output_type": "execute_result",
          "data": {
            "text/plain": [
              "'/usr/share/fonts/truetype/nanum/NanumBarunGothic.ttf'"
            ],
            "application/vnd.google.colaboratory.intrinsic+json": {
              "type": "string"
            }
          },
          "metadata": {},
          "execution_count": 30
        }
      ],
      "source": [
        "import matplotlib as mpl\n",
        "import matplotlib.pyplot as plt\n",
        " \n",
        "%config InlineBackend.figure_format = 'retina'\n",
        " \n",
        "import matplotlib.font_manager as fm\n",
        "fontpath = '/usr/share/fonts/truetype/nanum/NanumBarunGothic.ttf'\n",
        "font = fm.FontProperties(fname=fontpath, size=9)\n",
        "plt.rc('font', family='NanumBarunGothic') \n",
        "mpl.font_manager.findfont(font)"
      ]
    },
    {
      "cell_type": "code",
      "execution_count": 31,
      "metadata": {
        "colab": {
          "base_uri": "https://localhost:8080/"
        },
        "id": "53lyUWMHlwmO",
        "outputId": "8087540a-b60b-4261-f5c5-175309050d24"
      },
      "outputs": [
        {
          "output_type": "stream",
          "name": "stdout",
          "text": [
            "2.9.2\n"
          ]
        }
      ],
      "source": [
        "import tensorflow as tf\n",
        "import numpy as np\n",
        "import pandas as pd\n",
        "\n",
        "from sklearn.model_selection import train_test_split\n",
        "\n",
        "import matplotlib.ticker as ticker\n",
        "import matplotlib.pyplot as plt\n",
        "\n",
        "import time\n",
        "import re\n",
        "import os\n",
        "import io\n",
        "\n",
        "print(tf.__version__)"
      ]
    },
    {
      "cell_type": "markdown",
      "metadata": {
        "id": "I5Ot4EwDgETN"
      },
      "source": [
        "\n",
        "## Step 1. 데이터 다운로드\n"
      ]
    },
    {
      "cell_type": "code",
      "source": [
        "path_to_zip = tf.keras.utils.get_file(\n",
        "    'korean-english-park.train.tar.gz',\n",
        "    origin='https://github.com/jungyeul/korean-parallel-corpora/raw/master/korean-english-news-v1/korean-english-park.train.tar.gz',\n",
        "    extract=True)"
      ],
      "metadata": {
        "id": "7rIuiV4sewlt"
      },
      "execution_count": 32,
      "outputs": []
    },
    {
      "cell_type": "code",
      "execution_count": 33,
      "metadata": {
        "id": "Ed_9I1BGlqMA"
      },
      "outputs": [],
      "source": [
        "# path_to_zip = tf.keras.utils.get_file(\n",
        "#     'korean-english-park.train.tar.gz',\n",
        "#     origin='https://github.com/jungyeul/korean-parallel-corpora/blob/master/korean-english-news-v1/korean-english-park.train.tar.gz',\n",
        "#     extract=True)\n"
      ]
    },
    {
      "cell_type": "code",
      "source": [
        "# path_to_zip = tf.keras.utils.get_file(\n",
        "#     'korean-english-park.train.tar.gz',\n",
        "#     origin='https://github.com/jungyeul/korean-parallel-corpora/blob/master/korean-english-news-v1/korean-english-park.train.tar.gz',\n",
        "#     extract=True)\n"
      ],
      "metadata": {
        "id": "avoKhriYdxSK"
      },
      "execution_count": 34,
      "outputs": []
    },
    {
      "cell_type": "code",
      "source": [
        "path_to_ko = os.path.dirname(path_to_zip)+\"/korean-english-park.train.ko\"\n",
        "path_to_eng = os.path.dirname(path_to_zip)+\"/korean-english-park.train.en\""
      ],
      "metadata": {
        "id": "WWLq08B1bxMB"
      },
      "execution_count": 35,
      "outputs": []
    },
    {
      "cell_type": "code",
      "source": [
        "with open(path_to_ko, \"r\") as f:\n",
        "    raw_ko = f.read().splitlines()\n",
        "\n",
        "print(\"Data Size:\", len(raw_ko))\n",
        "print('\\n')\n",
        "print(\"Example:\")\n",
        "\n",
        "for sen in raw_ko[0:100:20]: print(\">>\", sen)"
      ],
      "metadata": {
        "colab": {
          "base_uri": "https://localhost:8080/"
        },
        "id": "4rTyKxMPTd2A",
        "outputId": "0a69b4d5-5338-4876-9379-050af6f5079a"
      },
      "execution_count": 36,
      "outputs": [
        {
          "output_type": "stream",
          "name": "stdout",
          "text": [
            "Data Size: 94123\n",
            "\n",
            "\n",
            "Example:\n",
            ">> 개인용 컴퓨터 사용의 상당 부분은 \"이것보다 뛰어날 수 있느냐?\"\n",
            ">> 북한의 핵무기 계획을 포기하도록 하려는 압력이 거세지고 있는 가운데, 일본과 북한의 외교관들이 외교 관계를 정상화하려는 회담을 재개했다.\n",
            ">> \"경호 로보트가 침입자나 화재를 탐지하기 위해서 개인적으로, 그리고 전문적으로 사용되고 있습니다.\"\n",
            ">> 수자원부 당국은 논란이 되고 있고, 막대한 비용이 드는 이 사업에 대해 내년에 건설을 시작할 계획이다.\n",
            ">> 또한 근력 운동은 활발하게 걷는 것이나 최소한 20분 동안 뛰는 것과 같은 유산소 활동에서 얻는 운동 효과를 심장과 폐에 주지 않기 때문에, 연구학자들은 근력 운동이 심장에 큰 영향을 미치는지 여부에 대해 논쟁을 해왔다.\n"
          ]
        }
      ]
    },
    {
      "cell_type": "code",
      "source": [
        "with open(path_to_eng, \"r\") as f:\n",
        "    raw_eng = f.read().splitlines()\n",
        "\n",
        "print(\"Data Size:\", len(raw_eng))\n",
        "print('\\n')\n",
        "print(\"Example:\")\n",
        "\n",
        "for sen in raw_eng[0:100:20]: print(\">>\", sen)"
      ],
      "metadata": {
        "colab": {
          "base_uri": "https://localhost:8080/"
        },
        "id": "rocyZA6RTd5D",
        "outputId": "cba5504f-9519-4342-f095-82ab99101068"
      },
      "execution_count": 37,
      "outputs": [
        {
          "output_type": "stream",
          "name": "stdout",
          "text": [
            "Data Size: 94123\n",
            "\n",
            "\n",
            "Example:\n",
            ">> Much of personal computing is about \"can you top this?\"\n",
            ">> Amid mounting pressure on North Korea to abandon its nuclear weapons program Japanese and North Korean diplomats have resumed talks on normalizing diplomatic relations.\n",
            ">> “Guard robots are used privately and professionally to detect intruders or fire,” Karlsson said.\n",
            ">> Authorities from the Water Resources Ministry plan to begin construction next year on the controversial and hugely expensive project.\n",
            ">> Researchers also have debated whether weight-training has a big impact on the heart, since it does not give the heart and lungs the kind of workout they get from aerobic activities such as brisk walking or running for at least 20 minutes.\n"
          ]
        }
      ]
    },
    {
      "cell_type": "markdown",
      "metadata": {
        "id": "_SHuR1lfgEW4"
      },
      "source": [
        "## Step 2. 데이터 정제\n"
      ]
    },
    {
      "cell_type": "markdown",
      "source": [
        "### 1)중복 제거 "
      ],
      "metadata": {
        "id": "MRjWuZhpuBXa"
      }
    },
    {
      "cell_type": "code",
      "source": [
        "#dataframe의 drop_duplicated 활용\n",
        "\n",
        "pair_df = pd.DataFrame({'Korean':raw_ko, 'English':raw_eng})\n",
        "pair_df"
      ],
      "metadata": {
        "colab": {
          "base_uri": "https://localhost:8080/",
          "height": 424
        },
        "id": "0Ug5gH9Zxh1i",
        "outputId": "15d9a8d5-793e-4f2b-8823-2c0e0382ed68"
      },
      "execution_count": 38,
      "outputs": [
        {
          "output_type": "execute_result",
          "data": {
            "text/plain": [
              "                                                  Korean  \\\n",
              "0                   개인용 컴퓨터 사용의 상당 부분은 \"이것보다 뛰어날 수 있느냐?\"   \n",
              "1      모든 광마우스와 마찬가지 로 이 광마우스도 책상 위에 놓는 마우스 패드를 필요로 하...   \n",
              "2                             그러나 이것은 또한 책상도 필요로 하지 않는다.   \n",
              "3      79.95달러하는 이 최첨단 무선 광마우스는 허공에서 팔목, 팔, 그외에 어떤 부분...   \n",
              "4      정보 관리들은 동남 아시아에서의 선박들에 대한 많은 (테러) 계획들이 실패로 돌아갔...   \n",
              "...                                                  ...   \n",
              "94118  “우리는 3월 8일 김승연 회장과 그의 아들이 보복폭행에 가담한 혐의를 찾기 위해 ...   \n",
              "94119   월요일 술집 종업원 6명은 김회장과 아들에게 폭행을 당했음을 진술했다고 경찰은 말했다.   \n",
              "94120                       그러나 불충분한 증거 확보로 수사에 어려움이 있다.   \n",
              "94121                  김회장과 그의 아들은 보복폭행 혐의를 강력히 부인하고 있다.   \n",
              "94122  경찰은 김회장의 집무실에서 추가 증거를 찾은 이후 가능한 한 오늘 김회장과 아들을 ...   \n",
              "\n",
              "                                                 English  \n",
              "0      Much of personal computing is about \"can you t...  \n",
              "1      so a mention a few weeks ago about a rechargea...  \n",
              "2      Like all optical mice, But it also doesn't nee...  \n",
              "3      uses gyroscopic sensors to control the cursor ...  \n",
              "4      Intelligence officials have revealed a spate o...  \n",
              "...                                                  ...  \n",
              "94118  ””We are hoping to seize material evidence to ...  \n",
              "94119  ” On Monday, police secured statements from si...  \n",
              "94120  But the lack of material evidence is making it...  \n",
              "94121         Kim and his son both deny the allegations.  \n",
              "94122  Police are planning to seek arrest warrants fo...  \n",
              "\n",
              "[94123 rows x 2 columns]"
            ],
            "text/html": [
              "\n",
              "  <div id=\"df-79fe3fd9-d422-49dd-8c12-dfe8b6ce2975\">\n",
              "    <div class=\"colab-df-container\">\n",
              "      <div>\n",
              "<style scoped>\n",
              "    .dataframe tbody tr th:only-of-type {\n",
              "        vertical-align: middle;\n",
              "    }\n",
              "\n",
              "    .dataframe tbody tr th {\n",
              "        vertical-align: top;\n",
              "    }\n",
              "\n",
              "    .dataframe thead th {\n",
              "        text-align: right;\n",
              "    }\n",
              "</style>\n",
              "<table border=\"1\" class=\"dataframe\">\n",
              "  <thead>\n",
              "    <tr style=\"text-align: right;\">\n",
              "      <th></th>\n",
              "      <th>Korean</th>\n",
              "      <th>English</th>\n",
              "    </tr>\n",
              "  </thead>\n",
              "  <tbody>\n",
              "    <tr>\n",
              "      <th>0</th>\n",
              "      <td>개인용 컴퓨터 사용의 상당 부분은 \"이것보다 뛰어날 수 있느냐?\"</td>\n",
              "      <td>Much of personal computing is about \"can you t...</td>\n",
              "    </tr>\n",
              "    <tr>\n",
              "      <th>1</th>\n",
              "      <td>모든 광마우스와 마찬가지 로 이 광마우스도 책상 위에 놓는 마우스 패드를 필요로 하...</td>\n",
              "      <td>so a mention a few weeks ago about a rechargea...</td>\n",
              "    </tr>\n",
              "    <tr>\n",
              "      <th>2</th>\n",
              "      <td>그러나 이것은 또한 책상도 필요로 하지 않는다.</td>\n",
              "      <td>Like all optical mice, But it also doesn't nee...</td>\n",
              "    </tr>\n",
              "    <tr>\n",
              "      <th>3</th>\n",
              "      <td>79.95달러하는 이 최첨단 무선 광마우스는 허공에서 팔목, 팔, 그외에 어떤 부분...</td>\n",
              "      <td>uses gyroscopic sensors to control the cursor ...</td>\n",
              "    </tr>\n",
              "    <tr>\n",
              "      <th>4</th>\n",
              "      <td>정보 관리들은 동남 아시아에서의 선박들에 대한 많은 (테러) 계획들이 실패로 돌아갔...</td>\n",
              "      <td>Intelligence officials have revealed a spate o...</td>\n",
              "    </tr>\n",
              "    <tr>\n",
              "      <th>...</th>\n",
              "      <td>...</td>\n",
              "      <td>...</td>\n",
              "    </tr>\n",
              "    <tr>\n",
              "      <th>94118</th>\n",
              "      <td>“우리는 3월 8일 김승연 회장과 그의 아들이 보복폭행에 가담한 혐의를 찾기 위해 ...</td>\n",
              "      <td>””We are hoping to seize material evidence to ...</td>\n",
              "    </tr>\n",
              "    <tr>\n",
              "      <th>94119</th>\n",
              "      <td>월요일 술집 종업원 6명은 김회장과 아들에게 폭행을 당했음을 진술했다고 경찰은 말했다.</td>\n",
              "      <td>” On Monday, police secured statements from si...</td>\n",
              "    </tr>\n",
              "    <tr>\n",
              "      <th>94120</th>\n",
              "      <td>그러나 불충분한 증거 확보로 수사에 어려움이 있다.</td>\n",
              "      <td>But the lack of material evidence is making it...</td>\n",
              "    </tr>\n",
              "    <tr>\n",
              "      <th>94121</th>\n",
              "      <td>김회장과 그의 아들은 보복폭행 혐의를 강력히 부인하고 있다.</td>\n",
              "      <td>Kim and his son both deny the allegations.</td>\n",
              "    </tr>\n",
              "    <tr>\n",
              "      <th>94122</th>\n",
              "      <td>경찰은 김회장의 집무실에서 추가 증거를 찾은 이후 가능한 한 오늘 김회장과 아들을 ...</td>\n",
              "      <td>Police are planning to seek arrest warrants fo...</td>\n",
              "    </tr>\n",
              "  </tbody>\n",
              "</table>\n",
              "<p>94123 rows × 2 columns</p>\n",
              "</div>\n",
              "      <button class=\"colab-df-convert\" onclick=\"convertToInteractive('df-79fe3fd9-d422-49dd-8c12-dfe8b6ce2975')\"\n",
              "              title=\"Convert this dataframe to an interactive table.\"\n",
              "              style=\"display:none;\">\n",
              "        \n",
              "  <svg xmlns=\"http://www.w3.org/2000/svg\" height=\"24px\"viewBox=\"0 0 24 24\"\n",
              "       width=\"24px\">\n",
              "    <path d=\"M0 0h24v24H0V0z\" fill=\"none\"/>\n",
              "    <path d=\"M18.56 5.44l.94 2.06.94-2.06 2.06-.94-2.06-.94-.94-2.06-.94 2.06-2.06.94zm-11 1L8.5 8.5l.94-2.06 2.06-.94-2.06-.94L8.5 2.5l-.94 2.06-2.06.94zm10 10l.94 2.06.94-2.06 2.06-.94-2.06-.94-.94-2.06-.94 2.06-2.06.94z\"/><path d=\"M17.41 7.96l-1.37-1.37c-.4-.4-.92-.59-1.43-.59-.52 0-1.04.2-1.43.59L10.3 9.45l-7.72 7.72c-.78.78-.78 2.05 0 2.83L4 21.41c.39.39.9.59 1.41.59.51 0 1.02-.2 1.41-.59l7.78-7.78 2.81-2.81c.8-.78.8-2.07 0-2.86zM5.41 20L4 18.59l7.72-7.72 1.47 1.35L5.41 20z\"/>\n",
              "  </svg>\n",
              "      </button>\n",
              "      \n",
              "  <style>\n",
              "    .colab-df-container {\n",
              "      display:flex;\n",
              "      flex-wrap:wrap;\n",
              "      gap: 12px;\n",
              "    }\n",
              "\n",
              "    .colab-df-convert {\n",
              "      background-color: #E8F0FE;\n",
              "      border: none;\n",
              "      border-radius: 50%;\n",
              "      cursor: pointer;\n",
              "      display: none;\n",
              "      fill: #1967D2;\n",
              "      height: 32px;\n",
              "      padding: 0 0 0 0;\n",
              "      width: 32px;\n",
              "    }\n",
              "\n",
              "    .colab-df-convert:hover {\n",
              "      background-color: #E2EBFA;\n",
              "      box-shadow: 0px 1px 2px rgba(60, 64, 67, 0.3), 0px 1px 3px 1px rgba(60, 64, 67, 0.15);\n",
              "      fill: #174EA6;\n",
              "    }\n",
              "\n",
              "    [theme=dark] .colab-df-convert {\n",
              "      background-color: #3B4455;\n",
              "      fill: #D2E3FC;\n",
              "    }\n",
              "\n",
              "    [theme=dark] .colab-df-convert:hover {\n",
              "      background-color: #434B5C;\n",
              "      box-shadow: 0px 1px 3px 1px rgba(0, 0, 0, 0.15);\n",
              "      filter: drop-shadow(0px 1px 2px rgba(0, 0, 0, 0.3));\n",
              "      fill: #FFFFFF;\n",
              "    }\n",
              "  </style>\n",
              "\n",
              "      <script>\n",
              "        const buttonEl =\n",
              "          document.querySelector('#df-79fe3fd9-d422-49dd-8c12-dfe8b6ce2975 button.colab-df-convert');\n",
              "        buttonEl.style.display =\n",
              "          google.colab.kernel.accessAllowed ? 'block' : 'none';\n",
              "\n",
              "        async function convertToInteractive(key) {\n",
              "          const element = document.querySelector('#df-79fe3fd9-d422-49dd-8c12-dfe8b6ce2975');\n",
              "          const dataTable =\n",
              "            await google.colab.kernel.invokeFunction('convertToInteractive',\n",
              "                                                     [key], {});\n",
              "          if (!dataTable) return;\n",
              "\n",
              "          const docLinkHtml = 'Like what you see? Visit the ' +\n",
              "            '<a target=\"_blank\" href=https://colab.research.google.com/notebooks/data_table.ipynb>data table notebook</a>'\n",
              "            + ' to learn more about interactive tables.';\n",
              "          element.innerHTML = '';\n",
              "          dataTable['output_type'] = 'display_data';\n",
              "          await google.colab.output.renderOutput(dataTable, element);\n",
              "          const docLink = document.createElement('div');\n",
              "          docLink.innerHTML = docLinkHtml;\n",
              "          element.appendChild(docLink);\n",
              "        }\n",
              "      </script>\n",
              "    </div>\n",
              "  </div>\n",
              "  "
            ]
          },
          "metadata": {},
          "execution_count": 38
        }
      ]
    },
    {
      "cell_type": "code",
      "source": [
        "print('전체 샘플수 :', (len(pair_df)))"
      ],
      "metadata": {
        "colab": {
          "base_uri": "https://localhost:8080/"
        },
        "id": "8JBJhShd1t4e",
        "outputId": "fc16bfe1-30af-45e2-d153-59bb00c87782"
      },
      "execution_count": 39,
      "outputs": [
        {
          "output_type": "stream",
          "name": "stdout",
          "text": [
            "전체 샘플수 : 94123\n"
          ]
        }
      ]
    },
    {
      "cell_type": "code",
      "source": [
        "pair_df[pair_df.duplicated()]"
      ],
      "metadata": {
        "colab": {
          "base_uri": "https://localhost:8080/",
          "height": 424
        },
        "id": "RO4QK7OO1DSC",
        "outputId": "e5aa6cb2-67f6-4770-9cc8-39646400517c"
      },
      "execution_count": 40,
      "outputs": [
        {
          "output_type": "execute_result",
          "data": {
            "text/plain": [
              "                                                  Korean  \\\n",
              "7789   이들 의원 중 1명은 빌 클린턴 전 대통령이 지난 몇 주간 부인 힐러리에게 오바마의...   \n",
              "9925                                              *판매 제품   \n",
              "10070                                       * 알아두면 좋은 것:   \n",
              "10074                                       * 알아두면 좋은 것:   \n",
              "10079                                       * 알아두면 좋은 것:   \n",
              "...                                                  ...   \n",
              "93792                              힐러리 클린턴, 북한 방문할까        \n",
              "93793                                이라크 새 의회, 첫 개정        \n",
              "93933                   노 대통령 검찰, 민주적 통제 받아야     2005.12   \n",
              "94002                       카우치 멤버, 사전 모의 시인     2005.09   \n",
              "94016                              국회의사당에서 제리 보드랜더였습니다.”   \n",
              "\n",
              "                                                 English  \n",
              "7789   One of the lawmakers said Clinton's husband, f...  \n",
              "9925                                           The goods  \n",
              "10070                                      Good to know:  \n",
              "10074                                      Good to know:  \n",
              "10079                                      Good to know:  \n",
              "...                                                  ...  \n",
              "93792           Would Hillary Clinton visit North Korea?  \n",
              "93793  Iraq’s new assembly is going to hold its first...  \n",
              "93933        Roh says prosecutors need civilian control.  \n",
              "94002   Members of The Couch planned it before the show.  \n",
              "94016                    Jerry Bodlander, Capitol Hill.”  \n",
              "\n",
              "[15155 rows x 2 columns]"
            ],
            "text/html": [
              "\n",
              "  <div id=\"df-3f3cf714-2afa-4f1d-a739-a86a21dde806\">\n",
              "    <div class=\"colab-df-container\">\n",
              "      <div>\n",
              "<style scoped>\n",
              "    .dataframe tbody tr th:only-of-type {\n",
              "        vertical-align: middle;\n",
              "    }\n",
              "\n",
              "    .dataframe tbody tr th {\n",
              "        vertical-align: top;\n",
              "    }\n",
              "\n",
              "    .dataframe thead th {\n",
              "        text-align: right;\n",
              "    }\n",
              "</style>\n",
              "<table border=\"1\" class=\"dataframe\">\n",
              "  <thead>\n",
              "    <tr style=\"text-align: right;\">\n",
              "      <th></th>\n",
              "      <th>Korean</th>\n",
              "      <th>English</th>\n",
              "    </tr>\n",
              "  </thead>\n",
              "  <tbody>\n",
              "    <tr>\n",
              "      <th>7789</th>\n",
              "      <td>이들 의원 중 1명은 빌 클린턴 전 대통령이 지난 몇 주간 부인 힐러리에게 오바마의...</td>\n",
              "      <td>One of the lawmakers said Clinton's husband, f...</td>\n",
              "    </tr>\n",
              "    <tr>\n",
              "      <th>9925</th>\n",
              "      <td>*판매 제품</td>\n",
              "      <td>The goods</td>\n",
              "    </tr>\n",
              "    <tr>\n",
              "      <th>10070</th>\n",
              "      <td>* 알아두면 좋은 것:</td>\n",
              "      <td>Good to know:</td>\n",
              "    </tr>\n",
              "    <tr>\n",
              "      <th>10074</th>\n",
              "      <td>* 알아두면 좋은 것:</td>\n",
              "      <td>Good to know:</td>\n",
              "    </tr>\n",
              "    <tr>\n",
              "      <th>10079</th>\n",
              "      <td>* 알아두면 좋은 것:</td>\n",
              "      <td>Good to know:</td>\n",
              "    </tr>\n",
              "    <tr>\n",
              "      <th>...</th>\n",
              "      <td>...</td>\n",
              "      <td>...</td>\n",
              "    </tr>\n",
              "    <tr>\n",
              "      <th>93792</th>\n",
              "      <td>힐러리 클린턴, 북한 방문할까</td>\n",
              "      <td>Would Hillary Clinton visit North Korea?</td>\n",
              "    </tr>\n",
              "    <tr>\n",
              "      <th>93793</th>\n",
              "      <td>이라크 새 의회, 첫 개정</td>\n",
              "      <td>Iraq’s new assembly is going to hold its first...</td>\n",
              "    </tr>\n",
              "    <tr>\n",
              "      <th>93933</th>\n",
              "      <td>노 대통령 검찰, 민주적 통제 받아야     2005.12</td>\n",
              "      <td>Roh says prosecutors need civilian control.</td>\n",
              "    </tr>\n",
              "    <tr>\n",
              "      <th>94002</th>\n",
              "      <td>카우치 멤버, 사전 모의 시인     2005.09</td>\n",
              "      <td>Members of The Couch planned it before the show.</td>\n",
              "    </tr>\n",
              "    <tr>\n",
              "      <th>94016</th>\n",
              "      <td>국회의사당에서 제리 보드랜더였습니다.”</td>\n",
              "      <td>Jerry Bodlander, Capitol Hill.”</td>\n",
              "    </tr>\n",
              "  </tbody>\n",
              "</table>\n",
              "<p>15155 rows × 2 columns</p>\n",
              "</div>\n",
              "      <button class=\"colab-df-convert\" onclick=\"convertToInteractive('df-3f3cf714-2afa-4f1d-a739-a86a21dde806')\"\n",
              "              title=\"Convert this dataframe to an interactive table.\"\n",
              "              style=\"display:none;\">\n",
              "        \n",
              "  <svg xmlns=\"http://www.w3.org/2000/svg\" height=\"24px\"viewBox=\"0 0 24 24\"\n",
              "       width=\"24px\">\n",
              "    <path d=\"M0 0h24v24H0V0z\" fill=\"none\"/>\n",
              "    <path d=\"M18.56 5.44l.94 2.06.94-2.06 2.06-.94-2.06-.94-.94-2.06-.94 2.06-2.06.94zm-11 1L8.5 8.5l.94-2.06 2.06-.94-2.06-.94L8.5 2.5l-.94 2.06-2.06.94zm10 10l.94 2.06.94-2.06 2.06-.94-2.06-.94-.94-2.06-.94 2.06-2.06.94z\"/><path d=\"M17.41 7.96l-1.37-1.37c-.4-.4-.92-.59-1.43-.59-.52 0-1.04.2-1.43.59L10.3 9.45l-7.72 7.72c-.78.78-.78 2.05 0 2.83L4 21.41c.39.39.9.59 1.41.59.51 0 1.02-.2 1.41-.59l7.78-7.78 2.81-2.81c.8-.78.8-2.07 0-2.86zM5.41 20L4 18.59l7.72-7.72 1.47 1.35L5.41 20z\"/>\n",
              "  </svg>\n",
              "      </button>\n",
              "      \n",
              "  <style>\n",
              "    .colab-df-container {\n",
              "      display:flex;\n",
              "      flex-wrap:wrap;\n",
              "      gap: 12px;\n",
              "    }\n",
              "\n",
              "    .colab-df-convert {\n",
              "      background-color: #E8F0FE;\n",
              "      border: none;\n",
              "      border-radius: 50%;\n",
              "      cursor: pointer;\n",
              "      display: none;\n",
              "      fill: #1967D2;\n",
              "      height: 32px;\n",
              "      padding: 0 0 0 0;\n",
              "      width: 32px;\n",
              "    }\n",
              "\n",
              "    .colab-df-convert:hover {\n",
              "      background-color: #E2EBFA;\n",
              "      box-shadow: 0px 1px 2px rgba(60, 64, 67, 0.3), 0px 1px 3px 1px rgba(60, 64, 67, 0.15);\n",
              "      fill: #174EA6;\n",
              "    }\n",
              "\n",
              "    [theme=dark] .colab-df-convert {\n",
              "      background-color: #3B4455;\n",
              "      fill: #D2E3FC;\n",
              "    }\n",
              "\n",
              "    [theme=dark] .colab-df-convert:hover {\n",
              "      background-color: #434B5C;\n",
              "      box-shadow: 0px 1px 3px 1px rgba(0, 0, 0, 0.15);\n",
              "      filter: drop-shadow(0px 1px 2px rgba(0, 0, 0, 0.3));\n",
              "      fill: #FFFFFF;\n",
              "    }\n",
              "  </style>\n",
              "\n",
              "      <script>\n",
              "        const buttonEl =\n",
              "          document.querySelector('#df-3f3cf714-2afa-4f1d-a739-a86a21dde806 button.colab-df-convert');\n",
              "        buttonEl.style.display =\n",
              "          google.colab.kernel.accessAllowed ? 'block' : 'none';\n",
              "\n",
              "        async function convertToInteractive(key) {\n",
              "          const element = document.querySelector('#df-3f3cf714-2afa-4f1d-a739-a86a21dde806');\n",
              "          const dataTable =\n",
              "            await google.colab.kernel.invokeFunction('convertToInteractive',\n",
              "                                                     [key], {});\n",
              "          if (!dataTable) return;\n",
              "\n",
              "          const docLinkHtml = 'Like what you see? Visit the ' +\n",
              "            '<a target=\"_blank\" href=https://colab.research.google.com/notebooks/data_table.ipynb>data table notebook</a>'\n",
              "            + ' to learn more about interactive tables.';\n",
              "          element.innerHTML = '';\n",
              "          dataTable['output_type'] = 'display_data';\n",
              "          await google.colab.output.renderOutput(dataTable, element);\n",
              "          const docLink = document.createElement('div');\n",
              "          docLink.innerHTML = docLinkHtml;\n",
              "          element.appendChild(docLink);\n",
              "        }\n",
              "      </script>\n",
              "    </div>\n",
              "  </div>\n",
              "  "
            ]
          },
          "metadata": {},
          "execution_count": 40
        }
      ]
    },
    {
      "cell_type": "code",
      "source": [
        "# 중복 샘플 확인\n",
        "print('Korean 열에서 중복을 배제한 유일한 샘플의 수 :', pair_df['Korean'].nunique())\n",
        "print('English 열에서 중복을 배제한 유일한 샘플의 수 :', pair_df['English'].nunique())"
      ],
      "metadata": {
        "colab": {
          "base_uri": "https://localhost:8080/"
        },
        "id": "yzoT9Oaxt_hI",
        "outputId": "9826190b-498f-4422-fa3a-34a29c383c68"
      },
      "execution_count": 41,
      "outputs": [
        {
          "output_type": "stream",
          "name": "stdout",
          "text": [
            "Korean 열에서 중복을 배제한 유일한 샘플의 수 : 77591\n",
            "English 열에서 중복을 배제한 유일한 샘플의 수 : 75598\n"
          ]
        }
      ]
    },
    {
      "cell_type": "code",
      "source": [
        "# inplace=True 를 설정하면 DataFrame 타입 값을 return 하지 않고 data 내부를 직접적으로 바꿉니다\n",
        "pair_df.drop_duplicates(subset = ['English'], inplace=True)\n",
        "pair_df"
      ],
      "metadata": {
        "colab": {
          "base_uri": "https://localhost:8080/",
          "height": 424
        },
        "id": "eQJvt1eJuUcv",
        "outputId": "3092e840-9239-43ba-8e67-b15d85ddf844"
      },
      "execution_count": 42,
      "outputs": [
        {
          "output_type": "execute_result",
          "data": {
            "text/plain": [
              "                                                  Korean  \\\n",
              "0                   개인용 컴퓨터 사용의 상당 부분은 \"이것보다 뛰어날 수 있느냐?\"   \n",
              "1      모든 광마우스와 마찬가지 로 이 광마우스도 책상 위에 놓는 마우스 패드를 필요로 하...   \n",
              "2                             그러나 이것은 또한 책상도 필요로 하지 않는다.   \n",
              "3      79.95달러하는 이 최첨단 무선 광마우스는 허공에서 팔목, 팔, 그외에 어떤 부분...   \n",
              "4      정보 관리들은 동남 아시아에서의 선박들에 대한 많은 (테러) 계획들이 실패로 돌아갔...   \n",
              "...                                                  ...   \n",
              "94118  “우리는 3월 8일 김승연 회장과 그의 아들이 보복폭행에 가담한 혐의를 찾기 위해 ...   \n",
              "94119   월요일 술집 종업원 6명은 김회장과 아들에게 폭행을 당했음을 진술했다고 경찰은 말했다.   \n",
              "94120                       그러나 불충분한 증거 확보로 수사에 어려움이 있다.   \n",
              "94121                  김회장과 그의 아들은 보복폭행 혐의를 강력히 부인하고 있다.   \n",
              "94122  경찰은 김회장의 집무실에서 추가 증거를 찾은 이후 가능한 한 오늘 김회장과 아들을 ...   \n",
              "\n",
              "                                                 English  \n",
              "0      Much of personal computing is about \"can you t...  \n",
              "1      so a mention a few weeks ago about a rechargea...  \n",
              "2      Like all optical mice, But it also doesn't nee...  \n",
              "3      uses gyroscopic sensors to control the cursor ...  \n",
              "4      Intelligence officials have revealed a spate o...  \n",
              "...                                                  ...  \n",
              "94118  ””We are hoping to seize material evidence to ...  \n",
              "94119  ” On Monday, police secured statements from si...  \n",
              "94120  But the lack of material evidence is making it...  \n",
              "94121         Kim and his son both deny the allegations.  \n",
              "94122  Police are planning to seek arrest warrants fo...  \n",
              "\n",
              "[75598 rows x 2 columns]"
            ],
            "text/html": [
              "\n",
              "  <div id=\"df-996525f3-3b28-4ad6-9216-6606efb59bc4\">\n",
              "    <div class=\"colab-df-container\">\n",
              "      <div>\n",
              "<style scoped>\n",
              "    .dataframe tbody tr th:only-of-type {\n",
              "        vertical-align: middle;\n",
              "    }\n",
              "\n",
              "    .dataframe tbody tr th {\n",
              "        vertical-align: top;\n",
              "    }\n",
              "\n",
              "    .dataframe thead th {\n",
              "        text-align: right;\n",
              "    }\n",
              "</style>\n",
              "<table border=\"1\" class=\"dataframe\">\n",
              "  <thead>\n",
              "    <tr style=\"text-align: right;\">\n",
              "      <th></th>\n",
              "      <th>Korean</th>\n",
              "      <th>English</th>\n",
              "    </tr>\n",
              "  </thead>\n",
              "  <tbody>\n",
              "    <tr>\n",
              "      <th>0</th>\n",
              "      <td>개인용 컴퓨터 사용의 상당 부분은 \"이것보다 뛰어날 수 있느냐?\"</td>\n",
              "      <td>Much of personal computing is about \"can you t...</td>\n",
              "    </tr>\n",
              "    <tr>\n",
              "      <th>1</th>\n",
              "      <td>모든 광마우스와 마찬가지 로 이 광마우스도 책상 위에 놓는 마우스 패드를 필요로 하...</td>\n",
              "      <td>so a mention a few weeks ago about a rechargea...</td>\n",
              "    </tr>\n",
              "    <tr>\n",
              "      <th>2</th>\n",
              "      <td>그러나 이것은 또한 책상도 필요로 하지 않는다.</td>\n",
              "      <td>Like all optical mice, But it also doesn't nee...</td>\n",
              "    </tr>\n",
              "    <tr>\n",
              "      <th>3</th>\n",
              "      <td>79.95달러하는 이 최첨단 무선 광마우스는 허공에서 팔목, 팔, 그외에 어떤 부분...</td>\n",
              "      <td>uses gyroscopic sensors to control the cursor ...</td>\n",
              "    </tr>\n",
              "    <tr>\n",
              "      <th>4</th>\n",
              "      <td>정보 관리들은 동남 아시아에서의 선박들에 대한 많은 (테러) 계획들이 실패로 돌아갔...</td>\n",
              "      <td>Intelligence officials have revealed a spate o...</td>\n",
              "    </tr>\n",
              "    <tr>\n",
              "      <th>...</th>\n",
              "      <td>...</td>\n",
              "      <td>...</td>\n",
              "    </tr>\n",
              "    <tr>\n",
              "      <th>94118</th>\n",
              "      <td>“우리는 3월 8일 김승연 회장과 그의 아들이 보복폭행에 가담한 혐의를 찾기 위해 ...</td>\n",
              "      <td>””We are hoping to seize material evidence to ...</td>\n",
              "    </tr>\n",
              "    <tr>\n",
              "      <th>94119</th>\n",
              "      <td>월요일 술집 종업원 6명은 김회장과 아들에게 폭행을 당했음을 진술했다고 경찰은 말했다.</td>\n",
              "      <td>” On Monday, police secured statements from si...</td>\n",
              "    </tr>\n",
              "    <tr>\n",
              "      <th>94120</th>\n",
              "      <td>그러나 불충분한 증거 확보로 수사에 어려움이 있다.</td>\n",
              "      <td>But the lack of material evidence is making it...</td>\n",
              "    </tr>\n",
              "    <tr>\n",
              "      <th>94121</th>\n",
              "      <td>김회장과 그의 아들은 보복폭행 혐의를 강력히 부인하고 있다.</td>\n",
              "      <td>Kim and his son both deny the allegations.</td>\n",
              "    </tr>\n",
              "    <tr>\n",
              "      <th>94122</th>\n",
              "      <td>경찰은 김회장의 집무실에서 추가 증거를 찾은 이후 가능한 한 오늘 김회장과 아들을 ...</td>\n",
              "      <td>Police are planning to seek arrest warrants fo...</td>\n",
              "    </tr>\n",
              "  </tbody>\n",
              "</table>\n",
              "<p>75598 rows × 2 columns</p>\n",
              "</div>\n",
              "      <button class=\"colab-df-convert\" onclick=\"convertToInteractive('df-996525f3-3b28-4ad6-9216-6606efb59bc4')\"\n",
              "              title=\"Convert this dataframe to an interactive table.\"\n",
              "              style=\"display:none;\">\n",
              "        \n",
              "  <svg xmlns=\"http://www.w3.org/2000/svg\" height=\"24px\"viewBox=\"0 0 24 24\"\n",
              "       width=\"24px\">\n",
              "    <path d=\"M0 0h24v24H0V0z\" fill=\"none\"/>\n",
              "    <path d=\"M18.56 5.44l.94 2.06.94-2.06 2.06-.94-2.06-.94-.94-2.06-.94 2.06-2.06.94zm-11 1L8.5 8.5l.94-2.06 2.06-.94-2.06-.94L8.5 2.5l-.94 2.06-2.06.94zm10 10l.94 2.06.94-2.06 2.06-.94-2.06-.94-.94-2.06-.94 2.06-2.06.94z\"/><path d=\"M17.41 7.96l-1.37-1.37c-.4-.4-.92-.59-1.43-.59-.52 0-1.04.2-1.43.59L10.3 9.45l-7.72 7.72c-.78.78-.78 2.05 0 2.83L4 21.41c.39.39.9.59 1.41.59.51 0 1.02-.2 1.41-.59l7.78-7.78 2.81-2.81c.8-.78.8-2.07 0-2.86zM5.41 20L4 18.59l7.72-7.72 1.47 1.35L5.41 20z\"/>\n",
              "  </svg>\n",
              "      </button>\n",
              "      \n",
              "  <style>\n",
              "    .colab-df-container {\n",
              "      display:flex;\n",
              "      flex-wrap:wrap;\n",
              "      gap: 12px;\n",
              "    }\n",
              "\n",
              "    .colab-df-convert {\n",
              "      background-color: #E8F0FE;\n",
              "      border: none;\n",
              "      border-radius: 50%;\n",
              "      cursor: pointer;\n",
              "      display: none;\n",
              "      fill: #1967D2;\n",
              "      height: 32px;\n",
              "      padding: 0 0 0 0;\n",
              "      width: 32px;\n",
              "    }\n",
              "\n",
              "    .colab-df-convert:hover {\n",
              "      background-color: #E2EBFA;\n",
              "      box-shadow: 0px 1px 2px rgba(60, 64, 67, 0.3), 0px 1px 3px 1px rgba(60, 64, 67, 0.15);\n",
              "      fill: #174EA6;\n",
              "    }\n",
              "\n",
              "    [theme=dark] .colab-df-convert {\n",
              "      background-color: #3B4455;\n",
              "      fill: #D2E3FC;\n",
              "    }\n",
              "\n",
              "    [theme=dark] .colab-df-convert:hover {\n",
              "      background-color: #434B5C;\n",
              "      box-shadow: 0px 1px 3px 1px rgba(0, 0, 0, 0.15);\n",
              "      filter: drop-shadow(0px 1px 2px rgba(0, 0, 0, 0.3));\n",
              "      fill: #FFFFFF;\n",
              "    }\n",
              "  </style>\n",
              "\n",
              "      <script>\n",
              "        const buttonEl =\n",
              "          document.querySelector('#df-996525f3-3b28-4ad6-9216-6606efb59bc4 button.colab-df-convert');\n",
              "        buttonEl.style.display =\n",
              "          google.colab.kernel.accessAllowed ? 'block' : 'none';\n",
              "\n",
              "        async function convertToInteractive(key) {\n",
              "          const element = document.querySelector('#df-996525f3-3b28-4ad6-9216-6606efb59bc4');\n",
              "          const dataTable =\n",
              "            await google.colab.kernel.invokeFunction('convertToInteractive',\n",
              "                                                     [key], {});\n",
              "          if (!dataTable) return;\n",
              "\n",
              "          const docLinkHtml = 'Like what you see? Visit the ' +\n",
              "            '<a target=\"_blank\" href=https://colab.research.google.com/notebooks/data_table.ipynb>data table notebook</a>'\n",
              "            + ' to learn more about interactive tables.';\n",
              "          element.innerHTML = '';\n",
              "          dataTable['output_type'] = 'display_data';\n",
              "          await google.colab.output.renderOutput(dataTable, element);\n",
              "          const docLink = document.createElement('div');\n",
              "          docLink.innerHTML = docLinkHtml;\n",
              "          element.appendChild(docLink);\n",
              "        }\n",
              "      </script>\n",
              "    </div>\n",
              "  </div>\n",
              "  "
            ]
          },
          "metadata": {},
          "execution_count": 42
        }
      ]
    },
    {
      "cell_type": "code",
      "source": [
        "print('전체 샘플수 :', (len(pair_df)))"
      ],
      "metadata": {
        "colab": {
          "base_uri": "https://localhost:8080/"
        },
        "id": "T-6su08O6yDv",
        "outputId": "75693baa-f72b-468a-b5dd-e47cfcf00442"
      },
      "execution_count": 43,
      "outputs": [
        {
          "output_type": "stream",
          "name": "stdout",
          "text": [
            "전체 샘플수 : 75598\n"
          ]
        }
      ]
    },
    {
      "cell_type": "code",
      "source": [
        "# .isnull().sum() : 데이터프레임에 Null 값이 있는지 확인\n",
        "print(pair_df.isnull().sum())"
      ],
      "metadata": {
        "colab": {
          "base_uri": "https://localhost:8080/"
        },
        "id": "zjdTdlCFuUnZ",
        "outputId": "4f2df4cc-ec9c-4cd8-a590-4e59c42c2f85"
      },
      "execution_count": 44,
      "outputs": [
        {
          "output_type": "stream",
          "name": "stdout",
          "text": [
            "Korean     0\n",
            "English    0\n",
            "dtype: int64\n"
          ]
        }
      ]
    },
    {
      "cell_type": "code",
      "source": [
        "cleaned_df =pair_df"
      ],
      "metadata": {
        "id": "i7GBmQZWkQv1"
      },
      "execution_count": 45,
      "outputs": []
    },
    {
      "cell_type": "code",
      "source": [
        "cleaned_corpus_kor = cleaned_df.Korean\n",
        "cleaned_corpus_kor"
      ],
      "metadata": {
        "colab": {
          "base_uri": "https://localhost:8080/"
        },
        "id": "m63eekCOh2_m",
        "outputId": "4869065e-9f61-4d26-ea98-937d32572901"
      },
      "execution_count": 46,
      "outputs": [
        {
          "output_type": "execute_result",
          "data": {
            "text/plain": [
              "0                     개인용 컴퓨터 사용의 상당 부분은 \"이것보다 뛰어날 수 있느냐?\"\n",
              "1        모든 광마우스와 마찬가지 로 이 광마우스도 책상 위에 놓는 마우스 패드를 필요로 하...\n",
              "2                               그러나 이것은 또한 책상도 필요로 하지 않는다.\n",
              "3        79.95달러하는 이 최첨단 무선 광마우스는 허공에서 팔목, 팔, 그외에 어떤 부분...\n",
              "4        정보 관리들은 동남 아시아에서의 선박들에 대한 많은 (테러) 계획들이 실패로 돌아갔...\n",
              "                               ...                        \n",
              "94118    “우리는 3월 8일 김승연 회장과 그의 아들이 보복폭행에 가담한 혐의를 찾기 위해 ...\n",
              "94119     월요일 술집 종업원 6명은 김회장과 아들에게 폭행을 당했음을 진술했다고 경찰은 말했다.\n",
              "94120                         그러나 불충분한 증거 확보로 수사에 어려움이 있다.\n",
              "94121                    김회장과 그의 아들은 보복폭행 혐의를 강력히 부인하고 있다.\n",
              "94122    경찰은 김회장의 집무실에서 추가 증거를 찾은 이후 가능한 한 오늘 김회장과 아들을 ...\n",
              "Name: Korean, Length: 75598, dtype: object"
            ]
          },
          "metadata": {},
          "execution_count": 46
        }
      ]
    },
    {
      "cell_type": "code",
      "source": [
        "cleaned_corpus_kor[0]"
      ],
      "metadata": {
        "colab": {
          "base_uri": "https://localhost:8080/",
          "height": 36
        },
        "id": "igYoLsFrmxGf",
        "outputId": "5947d035-2b5a-4873-9744-ae7904d2a212"
      },
      "execution_count": 47,
      "outputs": [
        {
          "output_type": "execute_result",
          "data": {
            "text/plain": [
              "'개인용 컴퓨터 사용의 상당 부분은 \"이것보다 뛰어날 수 있느냐?\"'"
            ],
            "application/vnd.google.colaboratory.intrinsic+json": {
              "type": "string"
            }
          },
          "metadata": {},
          "execution_count": 47
        }
      ]
    },
    {
      "cell_type": "code",
      "source": [
        "cleaned_corpus_eng = cleaned_df.English\n",
        "cleaned_corpus_eng"
      ],
      "metadata": {
        "colab": {
          "base_uri": "https://localhost:8080/"
        },
        "id": "ylgs8aHBkiE3",
        "outputId": "d8eee450-b3b3-472e-94e0-02bd925b6573"
      },
      "execution_count": 48,
      "outputs": [
        {
          "output_type": "execute_result",
          "data": {
            "text/plain": [
              "0        Much of personal computing is about \"can you t...\n",
              "1        so a mention a few weeks ago about a rechargea...\n",
              "2        Like all optical mice, But it also doesn't nee...\n",
              "3        uses gyroscopic sensors to control the cursor ...\n",
              "4        Intelligence officials have revealed a spate o...\n",
              "                               ...                        \n",
              "94118    ””We are hoping to seize material evidence to ...\n",
              "94119    ” On Monday, police secured statements from si...\n",
              "94120    But the lack of material evidence is making it...\n",
              "94121           Kim and his son both deny the allegations.\n",
              "94122    Police are planning to seek arrest warrants fo...\n",
              "Name: English, Length: 75598, dtype: object"
            ]
          },
          "metadata": {},
          "execution_count": 48
        }
      ]
    },
    {
      "cell_type": "code",
      "source": [
        "cleaned_kor_list = cleaned_df['Korean'].values.tolist()\n",
        "cleaned_kor_list[:5]"
      ],
      "metadata": {
        "colab": {
          "base_uri": "https://localhost:8080/"
        },
        "id": "G8uWtF6Qq-y8",
        "outputId": "5462ca40-489f-482e-8895-90802280afee"
      },
      "execution_count": 49,
      "outputs": [
        {
          "output_type": "execute_result",
          "data": {
            "text/plain": [
              "['개인용 컴퓨터 사용의 상당 부분은 \"이것보다 뛰어날 수 있느냐?\"',\n",
              " '모든 광마우스와 마찬가지 로 이 광마우스도 책상 위에 놓는 마우스 패드를 필요로 하지 않는다.',\n",
              " '그러나 이것은 또한 책상도 필요로 하지 않는다.',\n",
              " '79.95달러하는 이 최첨단 무선 광마우스는 허공에서 팔목, 팔, 그외에 어떤 부분이든 그 움직임에따라 커서의 움직임을 조절하는 회전 운동 센서를 사용하고 있다.',\n",
              " '정보 관리들은 동남 아시아에서의 선박들에 대한 많은 (테러) 계획들이 실패로 돌아갔음을 밝혔으며, 세계 해상 교역량의 거의 3분의 1을 운송하는 좁은 해로인 말라카 해협이 테러 공격을 당하기 쉽다고 경고하고 있다.']"
            ]
          },
          "metadata": {},
          "execution_count": 49
        }
      ]
    },
    {
      "cell_type": "code",
      "source": [
        "cleaned_eng_list = cleaned_df['English'].values.tolist()\n",
        "cleaned_eng_list[:5]"
      ],
      "metadata": {
        "colab": {
          "base_uri": "https://localhost:8080/"
        },
        "id": "m75jir4Gq-79",
        "outputId": "82c559d5-a8c0-4f74-ca51-8cd625be70fa"
      },
      "execution_count": 50,
      "outputs": [
        {
          "output_type": "execute_result",
          "data": {
            "text/plain": [
              "['Much of personal computing is about \"can you top this?\"',\n",
              " 'so a mention a few weeks ago about a rechargeable wireless optical mouse brought in another rechargeable, wireless mouse.',\n",
              " \"Like all optical mice, But it also doesn't need a desk.\",\n",
              " 'uses gyroscopic sensors to control the cursor movement as you move your wrist, arm, whatever through the air.',\n",
              " \"Intelligence officials have revealed a spate of foiled plots on ships in Southeast Asia and are warning that a narrow stretch of water carrying almost one third of the world's maritime trade is vulnerable to a terror attack.\"]"
            ]
          },
          "metadata": {},
          "execution_count": 50
        }
      ]
    },
    {
      "cell_type": "code",
      "source": [
        "print(len(cleaned_kor_list))\n",
        "print(len(cleaned_eng_list))"
      ],
      "metadata": {
        "colab": {
          "base_uri": "https://localhost:8080/"
        },
        "id": "tZIfvDGJ8XkG",
        "outputId": "f8717375-e84c-46ad-df28-0fa7dcceafdd"
      },
      "execution_count": 51,
      "outputs": [
        {
          "output_type": "stream",
          "name": "stdout",
          "text": [
            "75598\n",
            "75598\n"
          ]
        }
      ]
    },
    {
      "cell_type": "markdown",
      "source": [
        "### 2)정규표현식 "
      ],
      "metadata": {
        "id": "lrPikm31uKDs"
      }
    },
    {
      "cell_type": "code",
      "source": [
        "! pip install konlpy"
      ],
      "metadata": {
        "colab": {
          "base_uri": "https://localhost:8080/"
        },
        "id": "_DD6BgC5ZMkk",
        "outputId": "72bc8c2b-4044-4d50-b9eb-f779fc098749"
      },
      "execution_count": 52,
      "outputs": [
        {
          "output_type": "stream",
          "name": "stdout",
          "text": [
            "Looking in indexes: https://pypi.org/simple, https://us-python.pkg.dev/colab-wheels/public/simple/\n",
            "Requirement already satisfied: konlpy in /usr/local/lib/python3.7/dist-packages (0.6.0)\n",
            "Requirement already satisfied: lxml>=4.1.0 in /usr/local/lib/python3.7/dist-packages (from konlpy) (4.9.1)\n",
            "Requirement already satisfied: JPype1>=0.7.0 in /usr/local/lib/python3.7/dist-packages (from konlpy) (1.4.0)\n",
            "Requirement already satisfied: numpy>=1.6 in /usr/local/lib/python3.7/dist-packages (from konlpy) (1.21.6)\n",
            "Requirement already satisfied: typing-extensions in /usr/local/lib/python3.7/dist-packages (from JPype1>=0.7.0->konlpy) (4.1.1)\n"
          ]
        }
      ]
    },
    {
      "cell_type": "code",
      "source": [
        "from konlpy.tag import Mecab"
      ],
      "metadata": {
        "id": "IUPP2G5XZG3J"
      },
      "execution_count": 53,
      "outputs": []
    },
    {
      "cell_type": "markdown",
      "source": [
        "⚠️ NameError: name 'Tagger' is not defined \n",
        "\n",
        "Mecab 설치시 오류 발생 : https://sosomemo.tistory.com/31"
      ],
      "metadata": {
        "id": "VvsSrEbj1tcL"
      }
    },
    {
      "cell_type": "code",
      "source": [
        "!apt-get update\n",
        "!apt-get install g++ openjdk-8-jdk \n",
        "!pip3 install konlpy JPype1-py3\n",
        "!bash <(curl -s https://raw.githubusercontent.com/konlpy/konlpy/master/scripts/mecab.sh)"
      ],
      "metadata": {
        "colab": {
          "base_uri": "https://localhost:8080/"
        },
        "id": "pRy_7zbo0NQZ",
        "outputId": "63da1ef0-e40e-441c-ac4f-341ebde1c24e"
      },
      "execution_count": 54,
      "outputs": [
        {
          "output_type": "stream",
          "name": "stdout",
          "text": [
            "\r0% [Working]\r            \rHit:1 http://archive.ubuntu.com/ubuntu bionic InRelease\n",
            "\r0% [Waiting for headers] [Waiting for headers] [Waiting for headers] [Connectin\r                                                                               \rGet:2 http://security.ubuntu.com/ubuntu bionic-security InRelease [88.7 kB]\n",
            "Hit:3 https://cloud.r-project.org/bin/linux/ubuntu bionic-cran40/ InRelease\n",
            "Get:4 http://archive.ubuntu.com/ubuntu bionic-updates InRelease [88.7 kB]\n",
            "Ign:5 https://developer.download.nvidia.com/compute/machine-learning/repos/ubuntu1804/x86_64  InRelease\n",
            "Hit:6 https://developer.download.nvidia.com/compute/cuda/repos/ubuntu1804/x86_64  InRelease\n",
            "Hit:7 https://developer.download.nvidia.com/compute/machine-learning/repos/ubuntu1804/x86_64  Release\n",
            "Hit:8 http://ppa.launchpad.net/c2d4u.team/c2d4u4.0+/ubuntu bionic InRelease\n",
            "Get:9 http://archive.ubuntu.com/ubuntu bionic-backports InRelease [83.3 kB]\n",
            "Hit:10 http://ppa.launchpad.net/cran/libgit2/ubuntu bionic InRelease\n",
            "Hit:11 http://ppa.launchpad.net/deadsnakes/ppa/ubuntu bionic InRelease\n",
            "Hit:13 http://ppa.launchpad.net/graphics-drivers/ppa/ubuntu bionic InRelease\n",
            "Fetched 261 kB in 2s (129 kB/s)\n",
            "Reading package lists... Done\n",
            "Reading package lists... Done\n",
            "Building dependency tree       \n",
            "Reading state information... Done\n",
            "g++ is already the newest version (4:7.4.0-1ubuntu2.3).\n",
            "openjdk-8-jdk is already the newest version (8u342-b07-0ubuntu1~18.04).\n",
            "The following package was automatically installed and is no longer required:\n",
            "  libnvidia-common-460\n",
            "Use 'apt autoremove' to remove it.\n",
            "0 upgraded, 0 newly installed, 0 to remove and 25 not upgraded.\n",
            "Looking in indexes: https://pypi.org/simple, https://us-python.pkg.dev/colab-wheels/public/simple/\n",
            "Requirement already satisfied: konlpy in /usr/local/lib/python3.7/dist-packages (0.6.0)\n",
            "Requirement already satisfied: JPype1-py3 in /usr/local/lib/python3.7/dist-packages (0.5.5.4)\n",
            "Requirement already satisfied: JPype1>=0.7.0 in /usr/local/lib/python3.7/dist-packages (from konlpy) (1.4.0)\n",
            "Requirement already satisfied: lxml>=4.1.0 in /usr/local/lib/python3.7/dist-packages (from konlpy) (4.9.1)\n",
            "Requirement already satisfied: numpy>=1.6 in /usr/local/lib/python3.7/dist-packages (from konlpy) (1.21.6)\n",
            "Requirement already satisfied: typing-extensions in /usr/local/lib/python3.7/dist-packages (from JPype1>=0.7.0->konlpy) (4.1.1)\n",
            "mecab-ko is already installed\n",
            "mecab-ko-dic is already installed\n",
            "mecab-python is already installed\n",
            "Done.\n"
          ]
        }
      ]
    },
    {
      "cell_type": "code",
      "source": [
        "\n",
        "def preprocess_sentence_kor (sentence, s_token=False, e_token=False):\n",
        "\n",
        "    sentence = sentence.lower().strip()\n",
        "\n",
        "    sentence = re.sub(r\"([?.!,])\", r\" \\1 \", sentence)   #??\n",
        "    sentence = re.sub(r'[\" \"]+', \" \", sentence)         # 공백 여러개 공백하나로\n",
        "    sentence = re.sub(r\"[^가-힣ㄱ-ㅎㅏ-ㅣa-zA-Z0-9?.!,]+\", \" \", sentence) # 대소문자, 기본 특수기호 외는 공백하나로\n",
        "\n",
        "    sentence = sentence.strip()     # 양쪽 공백 제거 \n",
        "\n",
        "    if s_token:\n",
        "        sentence = '<start> ' + sentence\n",
        "\n",
        "    if e_token:\n",
        "        sentence += ' <end>'\n",
        "    \n",
        "    tokenizer = Mecab()\n",
        "    \n",
        "    sentence = tokenizer.morphs(sentence)\n",
        "\n",
        "    return sentence\n"
      ],
      "metadata": {
        "id": "zcrgx-uwT5qK"
      },
      "execution_count": 55,
      "outputs": []
    },
    {
      "cell_type": "code",
      "source": [
        "def preprocess_sentence_eng (sentence, s_token=False, e_token=False):\n",
        "\n",
        "    sentence = sentence.lower().strip()\n",
        "\n",
        "    sentence = re.sub(r\"([?.!,])\", r\" \\1 \", sentence)   #??\n",
        "    sentence = re.sub(r'[\" \"]+', \" \", sentence)         # 공백 여러개 공백하나로\n",
        "    sentence = re.sub(r\"[^a-zA-Z0-9?.!,]+\", \" \", sentence) # 대소문자, 기본 특수기호 외는 공백하나로\n",
        "\n",
        "    sentence = sentence.strip()     # 양쪽 공백 제거 \n",
        "\n",
        "    if s_token:\n",
        "        sentence = '<start> ' + sentence\n",
        "\n",
        "    if e_token:\n",
        "        sentence += ' <end>'\n",
        "    \n",
        "    return sentence\n"
      ],
      "metadata": {
        "id": "sEL06gnSZfVm"
      },
      "execution_count": 56,
      "outputs": []
    },
    {
      "cell_type": "code",
      "source": [
        "# enc_corpus = []\n",
        "\n",
        "# for ko in cleaned_ko_list[:10]:\n",
        "#   enc_corpus.append(preprocess_sentence(ko))\n",
        "\n",
        "# # enc_corpus "
      ],
      "metadata": {
        "id": "d5SW7ghBtFPw"
      },
      "execution_count": 57,
      "outputs": []
    },
    {
      "cell_type": "code",
      "source": [
        "# dec_corpus = []\n",
        "\n",
        "# for eng in cleaned_eng_list[:30000]:\n",
        "#     dec_corpus.append(preprocess_sentence(eng, s_token=True, e_token=True))\n",
        "\n",
        "# # dec_corpus"
      ],
      "metadata": {
        "id": "rpv6a2k1uUge"
      },
      "execution_count": 58,
      "outputs": []
    },
    {
      "cell_type": "code",
      "source": [
        "# kor_corpus = []\n",
        "# eng_corpus = []\n",
        "\n",
        "# for kor, eng in zip(clean_corpus_kor, clean_corpus_eng):\n",
        "#     tmp_kor = preprocess_sentence_kor(kor)\n",
        "#     tmp_eng = preprocess_sentence_eng(eng)\n",
        "    \n",
        "#     if len(tmp_kor) <= 40 and len(tmp_eng) <= 40:\n",
        "#         kor_corpus.append(tmp_kor)\n",
        "#         eng_corpus.append(tmp_eng)\n",
        "    \n",
        "# print(len(kor_corpus))\n",
        "# print(len(eng_corpus))"
      ],
      "metadata": {
        "id": "4Tbz0QIFzKSd"
      },
      "execution_count": 59,
      "outputs": []
    },
    {
      "cell_type": "markdown",
      "source": [
        "zip(a,b) : a,b 둘중 하나가 먼저 끝나면 종료 !"
      ],
      "metadata": {
        "id": "eXJEFDa5vjUo"
      }
    },
    {
      "cell_type": "code",
      "source": [
        "enc_corpus = []\n",
        "dec_corpus = []\n",
        "\n",
        "# num_examples = 30000\n",
        "\n",
        "for kor, eng in zip(cleaned_kor_list, cleaned_eng_list):\n",
        "    # eng, spa = pair.split(\"\\t\")\n",
        "\n",
        "    tmp_kor = preprocess_sentence_kor(kor)\n",
        "    tmp_eng = preprocess_sentence_eng(eng, s_token=True, e_token=True)\n",
        "\n",
        "\n",
        "    if len(tmp_kor) <= 40 or len(tmp_eng) <= 40:\n",
        "        enc_corpus.append(tmp_kor)\n",
        "        dec_corpus.append(tmp_eng)\n",
        "\n",
        "print(len(enc_corpus))\n",
        "print(len(dec_corpus))\n"
      ],
      "metadata": {
        "colab": {
          "base_uri": "https://localhost:8080/"
        },
        "id": "DoQb7sLWsCPf",
        "outputId": "99b1b767-950d-467e-bec7-9ba30f598577"
      },
      "execution_count": 60,
      "outputs": [
        {
          "output_type": "stream",
          "name": "stdout",
          "text": [
            "61836\n",
            "61836\n"
          ]
        }
      ]
    },
    {
      "cell_type": "code",
      "source": [
        "print(\"한글:\", enc_corpus[20])   \n",
        "print(\"영어:\", dec_corpus[20])  "
      ],
      "metadata": {
        "colab": {
          "base_uri": "https://localhost:8080/"
        },
        "id": "-SlSQyRgpgl0",
        "outputId": "539a405d-1639-4135-ea4b-2f75a9b61e16"
      },
      "execution_count": 61,
      "outputs": [
        {
          "output_type": "stream",
          "name": "stdout",
          "text": [
            "한글: ['산업', '용', '로보트', '분야', '에서', '2000', '년', '은', '최상', '의', '해', '였', '습니다', '.', '라고', '이', '스웨덴인', '은', '덧', '붙혀', '말', '했', '다', '.']\n",
            "영어: <start> for industrial robots , 2000 was the best year ever , added the swede . <end>\n"
          ]
        }
      ]
    },
    {
      "cell_type": "code",
      "source": [
        "print(\"한글:\", enc_corpus[61835])   \n",
        "print(\"영어:\", dec_corpus[61835])  "
      ],
      "metadata": {
        "colab": {
          "base_uri": "https://localhost:8080/"
        },
        "id": "VD8r8TlHBAVj",
        "outputId": "d36c9a55-a6fe-4b66-8f27-c0c781fba45b"
      },
      "execution_count": 62,
      "outputs": [
        {
          "output_type": "stream",
          "name": "stdout",
          "text": [
            "한글: ['경찰', '은', '김', '회장', '의', '집무실', '에서', '추가', '증거', '를', '찾', '은', '이후', '가능', '한', '한', '오늘', '김', '회장', '과', '아들', '을', '구속', '수사', '할', '방침', '이', '다', '.']\n",
            "영어: <start> police are planning to seek arrest warrants for kim and his son as early as today , after searching the premises and securing additional material evidence . <end>\n"
          ]
        }
      ]
    },
    {
      "cell_type": "markdown",
      "metadata": {
        "id": "wPufp_XbgEkW"
      },
      "source": [
        "## Step 3. 데이터 토큰화"
      ]
    },
    {
      "cell_type": "code",
      "source": [
        "def tokenize(corpus):\n",
        "    tokenizer = tf.keras.preprocessing.text.Tokenizer(filters='',num_words = 10000)\n",
        "    tokenizer.fit_on_texts(corpus)\n",
        "\n",
        "    tensor = tokenizer.texts_to_sequences(corpus)\n",
        "\n",
        "    tensor = tf.keras.preprocessing.sequence.pad_sequences(tensor, padding='post')\n",
        "\n",
        "    return tensor, tokenizer"
      ],
      "metadata": {
        "id": "f0tCSN2h7jew"
      },
      "execution_count": 63,
      "outputs": []
    },
    {
      "cell_type": "code",
      "source": [
        "# def tokenize(corpus):\n",
        "#     tokenizer = tf.keras.preprocessing.text.Tokenizer(filters='')\n",
        "#     tokenizer.fit_on_texts(corpus)\n",
        "\n",
        "#     tensor = tokenizer.texts_to_sequences(corpus)\n",
        "\n",
        "#     tensor = tf.keras.preprocessing.sequence.pad_sequences(tensor, padding='post')\n",
        "\n",
        "#     return tensor, tokenizer"
      ],
      "metadata": {
        "id": "1ESMvBGOY0bE"
      },
      "execution_count": 64,
      "outputs": []
    },
    {
      "cell_type": "markdown",
      "source": [
        "데이터양을 고려하여 훈련 데이터와 검증 데이터로 분리 생략"
      ],
      "metadata": {
        "id": "iYZBNA6u2C6a"
      }
    },
    {
      "cell_type": "code",
      "source": [
        "# 토큰화하기\n",
        "enc_tensor, enc_tokenizer = tokenize(enc_corpus)\n",
        "dec_tensor, dec_tokenizer = tokenize(dec_corpus)\n",
        "\n",
        "# # 훈련 데이터와 검증 데이터로 분리하기\n",
        "# enc_train, enc_val, dec_train, dec_val = \\\n",
        "# train_test_split(enc_tensor, dec_tensor, test_size=0.2)\n"
      ],
      "metadata": {
        "id": "NSz8W13yY115"
      },
      "execution_count": 65,
      "outputs": []
    },
    {
      "cell_type": "code",
      "source": [
        "print(enc_tensor.shape, dec_tensor.shape)"
      ],
      "metadata": {
        "colab": {
          "base_uri": "https://localhost:8080/"
        },
        "id": "EP0Rs0lMAvV6",
        "outputId": "0551ce52-7891-49a7-97bf-87c1720fc860"
      },
      "execution_count": 66,
      "outputs": [
        {
          "output_type": "stream",
          "name": "stdout",
          "text": [
            "(61836, 40) (61836, 81)\n"
          ]
        }
      ]
    },
    {
      "cell_type": "code",
      "source": [
        "print(\"한글 Vocab Size:\", len(enc_tokenizer.index_word))\n",
        "print(\"영어 Vocab Size:\", len(dec_tokenizer.index_word))"
      ],
      "metadata": {
        "colab": {
          "base_uri": "https://localhost:8080/"
        },
        "id": "Cf4ce7DfBOiB",
        "outputId": "edb626c6-9f74-437b-ffd3-6a10071792a2"
      },
      "execution_count": 67,
      "outputs": [
        {
          "output_type": "stream",
          "name": "stdout",
          "text": [
            "한글 Vocab Size: 44858\n",
            "영어 Vocab Size: 40929\n"
          ]
        }
      ]
    },
    {
      "cell_type": "markdown",
      "metadata": {
        "id": "dll9CYr2hgc3"
      },
      "source": [
        "## Step 4. 모델 설계\n"
      ]
    },
    {
      "cell_type": "markdown",
      "source": [
        "> 4.1 BahdanauAttention"
      ],
      "metadata": {
        "id": "CBjppOW9qPUv"
      }
    },
    {
      "cell_type": "code",
      "source": [
        "class BahdanauAttention(tf.keras.layers.Layer):\n",
        "    def __init__(self, units):\n",
        "        super(BahdanauAttention, self).__init__()\n",
        "        self.w_dec = tf.keras.layers.Dense(units)\n",
        "        self.w_enc = tf.keras.layers.Dense(units)\n",
        "        self.w_com = tf.keras.layers.Dense(1)\n",
        "    \n",
        "    def call(self, h_enc, h_dec):\n",
        "        # h_enc shape: [batch x length x units]\n",
        "        # h_dec shape: [batch x units]\n",
        "\n",
        "        h_enc = self.w_enc(h_enc)\n",
        "        h_dec = tf.expand_dims(h_dec, 1)\n",
        "        h_dec = self.w_dec(h_dec)\n",
        "\n",
        "        score = self.w_com(tf.nn.tanh(h_dec + h_enc))\n",
        "        \n",
        "        attn = tf.nn.softmax(score, axis=1)\n",
        "\n",
        "        context_vec = attn * h_enc\n",
        "        context_vec = tf.reduce_sum(context_vec, axis=1)\n",
        "\n",
        "        return context_vec, attn\n"
      ],
      "metadata": {
        "id": "QMd884eyVuKk"
      },
      "execution_count": 68,
      "outputs": []
    },
    {
      "cell_type": "markdown",
      "source": [
        "> 4.2 Encoder 구현"
      ],
      "metadata": {
        "id": "EVTrWYuyqX2L"
      }
    },
    {
      "cell_type": "code",
      "source": [
        "class Encoder(tf.keras.Model):\n",
        "    def __init__(self, vocab_size, embedding_dim, enc_units):\n",
        "        super(Encoder, self).__init__()\n",
        "        \n",
        "        self.enc_units = enc_units\n",
        "        self.embedding = tf.keras.layers.Embedding(vocab_size, embedding_dim)\n",
        "        self.gru = tf.keras.layers.GRU(enc_units,\n",
        "                                       return_sequences=True)\n",
        "        \n",
        "    def call(self, x):\n",
        "        out = self.embedding(x)\n",
        "        out = self.gru(out)\n",
        "        \n",
        "        return out"
      ],
      "metadata": {
        "id": "i4ybFB-hVuNl"
      },
      "execution_count": 69,
      "outputs": []
    },
    {
      "cell_type": "markdown",
      "source": [
        "> 4.3 Decoder"
      ],
      "metadata": {
        "id": "brBPjqVXqenH"
      }
    },
    {
      "cell_type": "code",
      "source": [
        "class Decoder(tf.keras.Model):\n",
        "    def __init__(self, vocab_size, embedding_dim, dec_units):\n",
        "        super(Decoder, self).__init__()\n",
        "        self.dec_units = dec_units\n",
        "        self.embedding = tf.keras.layers.Embedding(vocab_size, embedding_dim)\n",
        "        self.gru = tf.keras.layers.GRU(dec_units,\n",
        "                                       return_sequences=True,\n",
        "                                       return_state=True)\n",
        "        self.fc = tf.keras.layers.Dense(vocab_size)\n",
        "\n",
        "        self.attention = BahdanauAttention(self.dec_units)\n",
        "\n",
        "    def call(self, x, h_dec, enc_out):\n",
        "        context_vec, attn = self.attention(enc_out, h_dec)\n",
        "\n",
        "        out = self.embedding(x)\n",
        "        out = tf.concat([tf.expand_dims(context_vec, 1), out], axis=-1)\n",
        "        \n",
        "        out, h_dec = self.gru(out)\n",
        "        out = tf.reshape(out, (-1, out.shape[2]))\n",
        "        out = self.fc(out)\n",
        "\n",
        "        return out, h_dec, attn"
      ],
      "metadata": {
        "id": "1fjMn7YJVuPl"
      },
      "execution_count": 70,
      "outputs": []
    },
    {
      "cell_type": "markdown",
      "source": [
        "> 4.4 실행"
      ],
      "metadata": {
        "id": "seNhjySwrCYt"
      }
    },
    {
      "cell_type": "code",
      "source": [
        "BATCH_SIZE     = 64\n",
        "SRC_VOCAB_SIZE = len(enc_tokenizer.index_word) + 1\n",
        "TGT_VOCAB_SIZE = len(dec_tokenizer.index_word) + 1\n",
        "\n",
        "units         = 1024\n",
        "embedding_dim = 512\n",
        "\n",
        "encoder = Encoder(SRC_VOCAB_SIZE, embedding_dim, units)\n",
        "decoder = Decoder(TGT_VOCAB_SIZE, embedding_dim, units)\n"
      ],
      "metadata": {
        "id": "lUQOE4-yV-Kl"
      },
      "execution_count": 71,
      "outputs": []
    },
    {
      "cell_type": "markdown",
      "metadata": {
        "id": "OYncVQ3mhjdC"
      },
      "source": [
        "## Step 5. 훈련하기"
      ]
    },
    {
      "cell_type": "markdown",
      "source": [
        "> 5.1 Optimizer & Loss"
      ],
      "metadata": {
        "id": "4n3L3AVxrQ0M"
      }
    },
    {
      "cell_type": "code",
      "execution_count": 72,
      "metadata": {
        "id": "2QKP_tTSfcyL"
      },
      "outputs": [],
      "source": [
        "optimizer = tf.keras.optimizers.Adam()\n",
        "loss_object = tf.keras.losses.SparseCategoricalCrossentropy(\n",
        "    from_logits=True, reduction='none')\n",
        "\n",
        "def loss_function(real, pred):\n",
        "    mask = tf.math.logical_not(tf.math.equal(real, 0))\n",
        "    loss = loss_object(real, pred)\n",
        "    \n",
        "    mask = tf.cast(mask, dtype=loss.dtype)\n",
        "    loss *= mask\n",
        "    \n",
        "    return tf.reduce_mean(loss)\n"
      ]
    },
    {
      "cell_type": "markdown",
      "source": [
        "> 5.2 train_step구현\n",
        "\n",
        "train_step() 정의 : 학습에 필요한 것을 모두 가져가 Loss를 계산한 후 반환"
      ],
      "metadata": {
        "id": "aR3t6WSereWq"
      }
    },
    {
      "cell_type": "markdown",
      "source": [
        "❤️ 코드 "
      ],
      "metadata": {
        "id": "JPnEdfp9Jn4d"
      }
    },
    {
      "cell_type": "code",
      "execution_count": 73,
      "metadata": {
        "id": "4srTB4qXiJ5E"
      },
      "outputs": [],
      "source": [
        "@tf.function\n",
        "def train_step(src, tgt, encoder, decoder, optimizer, dec_tok):\n",
        "    bsz = src.shape[0]\n",
        "    loss = 0\n",
        "\n",
        "    with tf.GradientTape() as tape:\n",
        "        enc_out = encoder(src)\n",
        "        h_dec = enc_out[:, -1]\n",
        "        \n",
        "        dec_src = tf.expand_dims([dec_tok.word_index['<start>']] * bsz, 1)\n",
        "\n",
        "        for t in range(1, tgt.shape[1]):\n",
        "            pred, h_dec, _ = decoder(dec_src, h_dec, enc_out)\n",
        "\n",
        "            loss += loss_function(tgt[:, t], pred)\n",
        "            dec_src = tf.expand_dims(tgt[:, t], 1)\n",
        "        \n",
        "    batch_loss = (loss / int(tgt.shape[1]))\n",
        "\n",
        "    variables = encoder.trainable_variables + decoder.trainable_variables\n",
        "    gradients = tape.gradient(loss, variables)\n",
        "    optimizer.apply_gradients(zip(gradients, variables))\n",
        "    \n",
        "    return batch_loss\n"
      ]
    },
    {
      "cell_type": "markdown",
      "source": [
        "> 5.3 훈련 시작"
      ],
      "metadata": {
        "id": "yQdMB7xsr3Aa"
      }
    },
    {
      "cell_type": "code",
      "execution_count": 74,
      "metadata": {
        "id": "Fj0ChJUOiKBX",
        "colab": {
          "base_uri": "https://localhost:8080/"
        },
        "outputId": "c93ffecc-a009-4052-9578-0831102d61e9"
      },
      "outputs": [
        {
          "output_type": "stream",
          "name": "stderr",
          "text": [
            "Epoch  1: 100%|██████████| 967/967 [06:41<00:00,  2.41it/s, Loss 1.9708]\n",
            "Epoch  2: 100%|██████████| 967/967 [03:54<00:00,  4.12it/s, Loss 1.9568]\n",
            "Epoch  3: 100%|██████████| 967/967 [03:54<00:00,  4.12it/s, Loss 1.8946]\n",
            "Epoch  4: 100%|██████████| 967/967 [03:54<00:00,  4.12it/s, Loss 1.8496]\n",
            "Epoch  5: 100%|██████████| 967/967 [03:54<00:00,  4.12it/s, Loss 1.8379]\n",
            "Epoch  6: 100%|██████████| 967/967 [03:54<00:00,  4.12it/s, Loss 1.8178]\n",
            "Epoch  7: 100%|██████████| 967/967 [03:54<00:00,  4.12it/s, Loss 1.8027]\n",
            "Epoch  8: 100%|██████████| 967/967 [03:54<00:00,  4.12it/s, Loss 1.7859]\n",
            "Epoch  9: 100%|██████████| 967/967 [03:54<00:00,  4.12it/s, Loss 1.7683]\n",
            "Epoch 10: 100%|██████████| 967/967 [03:54<00:00,  4.12it/s, Loss 1.7510]\n"
          ]
        }
      ],
      "source": [
        "from tqdm import tqdm    # tqdm\n",
        "import random\n",
        "\n",
        "EPOCHS = 10\n",
        "\n",
        "for epoch in range(EPOCHS):\n",
        "    total_loss = 0\n",
        "    \n",
        "    idx_list = list(range(0, enc_tensor.shape[0], BATCH_SIZE))\n",
        "    random.shuffle(idx_list)\n",
        "    t = tqdm(idx_list)    # tqdm\n",
        "\n",
        "    for (batch, idx) in enumerate(t):\n",
        "        batch_loss = train_step(enc_tensor[idx:idx+BATCH_SIZE],\n",
        "                                dec_tensor[idx:idx+BATCH_SIZE],\n",
        "                                encoder,\n",
        "                                decoder,\n",
        "                                optimizer,\n",
        "                                dec_tokenizer)\n",
        "    \n",
        "        total_loss += batch_loss\n",
        "        \n",
        "        t.set_description_str('Epoch %2d' % (epoch + 1))    # tqdm\n",
        "        t.set_postfix_str('Loss %.4f' % (total_loss.numpy() / (batch + 1)))    # tqdm"
      ]
    },
    {
      "cell_type": "code",
      "source": [
        "EPOCHS = 30\n",
        "\n",
        "for epoch in range(EPOCHS):\n",
        "    total_loss = 0\n",
        "    \n",
        "    idx_list = list(range(0, enc_tensor.shape[0], BATCH_SIZE))\n",
        "    random.shuffle(idx_list)\n",
        "    t = tqdm(idx_list)    # tqdm\n",
        "\n",
        "    for (batch, idx) in enumerate(t):\n",
        "        batch_loss = train_step(enc_tensor[idx:idx+BATCH_SIZE],\n",
        "                                dec_tensor[idx:idx+BATCH_SIZE],\n",
        "                                encoder,\n",
        "                                decoder,\n",
        "                                optimizer,\n",
        "                                dec_tokenizer)\n",
        "    \n",
        "        total_loss += batch_loss\n",
        "        \n",
        "        t.set_description_str('Epoch %2d' % (epoch + 1))    # tqdm\n",
        "        t.set_postfix_str('Loss %.4f' % (total_loss.numpy() / (batch + 1)))    # tqdm"
      ],
      "metadata": {
        "colab": {
          "base_uri": "https://localhost:8080/"
        },
        "id": "RtnJveQ1s5bu",
        "outputId": "e53bf049-5dde-4704-ee51-945356fd073b"
      },
      "execution_count": 90,
      "outputs": [
        {
          "output_type": "stream",
          "name": "stderr",
          "text": [
            "Epoch  1: 100%|██████████| 967/967 [03:54<00:00,  4.12it/s, Loss 1.7395]\n",
            "Epoch  2: 100%|██████████| 967/967 [03:54<00:00,  4.12it/s, Loss 1.7518]\n",
            "Epoch  3: 100%|██████████| 967/967 [03:54<00:00,  4.12it/s, Loss 1.7227]\n",
            "Epoch  4: 100%|██████████| 967/967 [03:54<00:00,  4.12it/s, Loss 1.7163]\n",
            "Epoch  5: 100%|██████████| 967/967 [03:54<00:00,  4.12it/s, Loss 1.7118]\n",
            "Epoch  6: 100%|██████████| 967/967 [03:54<00:00,  4.12it/s, Loss 1.6963]\n",
            "Epoch  7: 100%|██████████| 967/967 [03:54<00:00,  4.12it/s, Loss 1.6861]\n",
            "Epoch  8: 100%|██████████| 967/967 [03:54<00:00,  4.12it/s, Loss 1.6769]\n",
            "Epoch  9: 100%|██████████| 967/967 [03:54<00:00,  4.12it/s, Loss 1.6667]\n",
            "Epoch 10: 100%|██████████| 967/967 [03:54<00:00,  4.12it/s, Loss 1.6558]\n",
            "Epoch 11: 100%|██████████| 967/967 [03:54<00:00,  4.12it/s, Loss 1.6441]\n",
            "Epoch 12: 100%|██████████| 967/967 [03:54<00:00,  4.12it/s, Loss 1.6351]\n",
            "Epoch 13: 100%|██████████| 967/967 [03:54<00:00,  4.12it/s, Loss 1.6275]\n",
            "Epoch 14: 100%|██████████| 967/967 [03:54<00:00,  4.12it/s, Loss 1.6222]\n",
            "Epoch 15: 100%|██████████| 967/967 [03:54<00:00,  4.12it/s, Loss 1.6151]\n",
            "Epoch 16: 100%|██████████| 967/967 [03:54<00:00,  4.12it/s, Loss 1.6099]\n",
            "Epoch 17: 100%|██████████| 967/967 [03:54<00:00,  4.12it/s, Loss 1.6037]\n",
            "Epoch 18: 100%|██████████| 967/967 [03:54<00:00,  4.12it/s, Loss 1.5981]\n",
            "Epoch 19: 100%|██████████| 967/967 [03:54<00:00,  4.12it/s, Loss 1.5932]\n",
            "Epoch 20: 100%|██████████| 967/967 [03:54<00:00,  4.12it/s, Loss 1.5880]\n",
            "Epoch 21: 100%|██████████| 967/967 [03:54<00:00,  4.12it/s, Loss 1.5837]\n",
            "Epoch 22: 100%|██████████| 967/967 [03:54<00:00,  4.12it/s, Loss 1.5796]\n",
            "Epoch 23: 100%|██████████| 967/967 [03:54<00:00,  4.12it/s, Loss 1.5755]\n",
            "Epoch 24: 100%|██████████| 967/967 [03:54<00:00,  4.13it/s, Loss 1.5691]\n",
            "Epoch 25: 100%|██████████| 967/967 [03:54<00:00,  4.13it/s, Loss 1.5628]\n",
            "Epoch 26: 100%|██████████| 967/967 [03:54<00:00,  4.13it/s, Loss 1.5575]\n",
            "Epoch 27: 100%|██████████| 967/967 [03:54<00:00,  4.13it/s, Loss 1.5509]\n",
            "Epoch 28: 100%|██████████| 967/967 [03:54<00:00,  4.13it/s, Loss 1.5465]\n",
            "Epoch 29: 100%|██████████| 967/967 [03:54<00:00,  4.13it/s, Loss 1.5374]\n",
            "Epoch 30: 100%|██████████| 967/967 [03:53<00:00,  4.13it/s, Loss 1.5299]\n"
          ]
        }
      ]
    },
    {
      "cell_type": "markdown",
      "source": [
        "## 최종: 평가, 시각화 하기 "
      ],
      "metadata": {
        "id": "BZyriEQQWyK-"
      }
    },
    {
      "cell_type": "markdown",
      "source": [
        "> 평가하기"
      ],
      "metadata": {
        "id": "TFQtc3OVunyd"
      }
    },
    {
      "cell_type": "code",
      "source": [
        "def evaluate(sentence, encoder, decoder):\n",
        "    attention = np.zeros((dec_tensor.shape[-1], enc_tensor.shape[-1]))\n",
        "    \n",
        "    sentence = preprocess_sentence_kor(sentence)\n",
        "    inputs = enc_tokenizer.texts_to_sequences([sentence])\n",
        "    inputs = tf.keras.preprocessing.sequence.pad_sequences(inputs,\n",
        "                                                           maxlen=enc_tensor.shape[-1],\n",
        "                                                           padding='post')\n",
        "\n",
        "    result = ''\n",
        "\n",
        "    enc_out = encoder(inputs)\n",
        "\n",
        "    dec_hidden = enc_out[:, -1]\n",
        "    dec_input = tf.expand_dims([dec_tokenizer.word_index['<start>']], 0)\n",
        "\n",
        "    for t in range(dec_tensor.shape[-1]):\n",
        "        predictions, dec_hidden, attention_weights = decoder(dec_input,\n",
        "                                                             dec_hidden,\n",
        "                                                             enc_out)\n",
        "\n",
        "        attention_weights = tf.reshape(attention_weights, (-1, ))\n",
        "        attention[t] = attention_weights.numpy()\n",
        "\n",
        "        predicted_id = \\\n",
        "        tf.argmax(tf.math.softmax(predictions, axis=-1)[0]).numpy()\n",
        "\n",
        "        result += dec_tokenizer.index_word[predicted_id] + ' '\n",
        "\n",
        "        if dec_tokenizer.index_word[predicted_id] == '<end>':\n",
        "            return result, sentence, attention\n",
        "\n",
        "        dec_input = tf.expand_dims([predicted_id], 0)\n",
        "\n",
        "    return result, sentence, attention\n",
        "\n"
      ],
      "metadata": {
        "id": "GzLqpCsCW4GQ"
      },
      "execution_count": 91,
      "outputs": []
    },
    {
      "cell_type": "markdown",
      "source": [
        "> 시각화하기"
      ],
      "metadata": {
        "id": "jLKZRlUXuk3Z"
      }
    },
    {
      "cell_type": "code",
      "source": [
        "def plot_attention(attention, sentence, predicted_sentence):\n",
        "    fig = plt.figure(figsize=(10,10))\n",
        "    ax = fig.add_subplot(1, 1, 1)\n",
        "    ax.matshow(attention, cmap='viridis')\n",
        "\n",
        "    fontdict = {'fontsize': 14}\n",
        "\n",
        "    ax.set_xticklabels([''] + sentence, fontdict=fontdict, rotation=90)\n",
        "    ax.set_yticklabels([''] + predicted_sentence, fontdict=fontdict)\n",
        "\n",
        "    ax.xaxis.set_major_locator(ticker.MultipleLocator(1))\n",
        "    ax.yaxis.set_major_locator(ticker.MultipleLocator(1))\n",
        "\n",
        "    plt.show()\n"
      ],
      "metadata": {
        "id": "aegxskT8XHY-"
      },
      "execution_count": 92,
      "outputs": []
    },
    {
      "cell_type": "code",
      "source": [
        "def translate(sentence, encoder, decoder):\n",
        "    result, sentence, attention = evaluate(sentence, encoder, decoder)\n",
        "\n",
        "    print('Input: %s' % (sentence))\n",
        "    print('Predicted translation: {}'.format(result))\n",
        "    \n",
        "    attention = attention[:len(result.split()), :len(sentence)]\n",
        "    plot_attention(attention, sentence, result.split(' '))\n"
      ],
      "metadata": {
        "id": "g1QQuODaXOB5"
      },
      "execution_count": 93,
      "outputs": []
    },
    {
      "cell_type": "code",
      "source": [
        "translate(\"오바마는 대통령이다.\", encoder, decoder)\n",
        "translate(\"시민들은 도시 속에 산다.\", encoder, decoder)\n",
        "translate(\"커피는 필요 없다.\", encoder, decoder)\n",
        "translate(\"일곱 명의 사망자가 발생했다.\", encoder, decoder)"
      ],
      "metadata": {
        "colab": {
          "base_uri": "https://localhost:8080/",
          "height": 1000
        },
        "id": "iCcYyedHVjzL",
        "outputId": "95b6c947-06b5-4d97-9f9f-7cd12eca16b1"
      },
      "execution_count": 94,
      "outputs": [
        {
          "output_type": "stream",
          "name": "stdout",
          "text": [
            "Input: ['오바마', '는', '대통령', '이', '다', '.']\n",
            "Predicted translation: the , the , the , the , the , the , the , the , the , the , the , the , the , the , the , the , the , the , the , the , the , the , the , the , the , the , the , the , the , the , the , the , the , the , the , the , the , the , the , the , the \n"
          ]
        },
        {
          "output_type": "display_data",
          "data": {
            "text/plain": [
              "<Figure size 720x720 with 1 Axes>"
            ],
            "image/png": "[encoded data removed]"
          },
          "metadata": {
            "image/png": {
              "width": 86,
              "height": 608
            },
            "needs_background": "light"
          }
        },
        {
          "output_type": "stream",
          "name": "stdout",
          "text": [
            "Input: ['시민', '들', '은', '도시', '속', '에', '산다', '.']\n",
            "Predicted translation: the , the , the , the , the , the , the , the , the , the , the , the , the , the , the , the , the , the , the , the , the , the , the , the , the , the , the , the , the , the , the , the , the , the , the , the , the , the , the , the , the \n"
          ]
        },
        {
          "output_type": "display_data",
          "data": {
            "text/plain": [
              "<Figure size 720x720 with 1 Axes>"
            ],
            "image/png": "[encoded data removed]"
          },
          "metadata": {
            "image/png": {
              "width": 100,
              "height": 596
            },
            "needs_background": "light"
          }
        },
        {
          "output_type": "stream",
          "name": "stdout",
          "text": [
            "Input: ['커피', '는', '필요', '없', '다', '.']\n",
            "Predicted translation: the , the , the , the , the , the , the , the , the , the , the , the , the , the , the , the , the , the , the , the , the , the , the , the , the , the , the , the , the , the , the , the , the , the , the , the , the , the , the , the , the \n"
          ]
        },
        {
          "output_type": "display_data",
          "data": {
            "text/plain": [
              "<Figure size 720x720 with 1 Axes>"
            ],
            "image/png": "[encoded data removed]"
          },
          "metadata": {
            "image/png": {
              "width": 86,
              "height": 596
            },
            "needs_background": "light"
          }
        },
        {
          "output_type": "stream",
          "name": "stdout",
          "text": [
            "Input: ['일곱', '명', '의', '사망자', '가', '발생', '했', '다', '.']\n",
            "Predicted translation: the , the , the , the , the , the , the , the , the , the , the , the , the , the , the , the , the , the , the , the , the , the , the , the , the , the , the , the , the , the , the , the , the , the , the , the , the , the , the , the , the \n"
          ]
        },
        {
          "output_type": "display_data",
          "data": {
            "text/plain": [
              "<Figure size 720x720 with 1 Axes>"
            ],
            "image/png": "[encoded data removed]"
          },
          "metadata": {
            "image/png": {
              "width": 107,
              "height": 608
            },
            "needs_background": "light"
          }
        }
      ]
    },
    {
      "cell_type": "markdown",
      "source": [
        "# 회고\n",
        "\n",
        "### - 이번 프로젝트에서 **어려웠던 점**.\n",
        "* 학습이 올바르게 되지 않아서 출력결과가 매우 좋지 않다.(원인을 찾기 힘들다)\n",
        "\n",
        "\n",
        "### - 프로젝트를 진행하면서 **알아낸 점** 혹은 **아직 모호한 점**.\n",
        "> 알아낸점\n",
        "* Mecab 설치시 Tagger 오류 처리 \n",
        "* 데이터 전처리시 데이터 타입 변경하기 Series-> List(str)\n",
        "\n",
        "\n",
        "> 모호한점\n",
        "* attention map 해석\n",
        "\n",
        "\n",
        "\n",
        "### - 루브릭 평가 지표를 맞추기 위해 **시도한 것들**.\n",
        "\n",
        "\n",
        "\n",
        ">#### **루브릭평가 지표**\n",
        ">|번호|평가문항|상세기준|\n",
        ">|:---:|---|---|\n",
        ">|1| 번역기 모델 학습에 필요한 `텍스트 데이터 전처리`가 한국어 포함하여 잘 이루어졌다. |`구두점, 대소문자, 띄어쓰기, 한글 형태소분석` 등 번역기 모델에 요구되는 전처리가 정상적으로 진행되었다.|\n",
        ">|2| `Attentional Seq2seq 모델`이 정상적으로 구동된다.| seq2seq 모델 훈련 과정에서 `training loss가 안정적`으로 떨어지면서 학습이 진행됨이 확인되었다.|\n",
        ">|3|테스트 결과 `의미가 통하는 수준의 번역문`이 생성되었다.|테스트용 디코더 모델이 정상적으로 만들어져서, `정답과 어느 정도 유사한 영어 번역`이 진행됨을 확인하였다.|\n",
        "\n",
        "\n",
        "\n",
        "### - **자기 다짐**\n",
        "* 어려운 코드 다시 한번 이해하며 읽기"
      ],
      "metadata": {
        "id": "_1fv4qPX4OkB"
      }
    }
  ],
  "metadata": {
    "accelerator": "GPU",
    "colab": {
      "provenance": [],
      "collapsed_sections": [],
      "toc_visible": true
    },
    "gpuClass": "premium",
    "kernelspec": {
      "display_name": "Python 3",
      "name": "python3"
    },
    "language_info": {
      "name": "python"
    }
  },
  "nbformat": 4,
  "nbformat_minor": 0
}