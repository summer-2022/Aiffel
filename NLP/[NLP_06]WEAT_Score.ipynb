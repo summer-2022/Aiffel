{
  "nbformat": 4,
  "nbformat_minor": 0,
  "metadata": {
    "colab": {
      "provenance": [],
      "collapsed_sections": []
    },
    "kernelspec": {
      "name": "python3",
      "display_name": "Python 3"
    },
    "language_info": {
      "name": "python"
    }
  },
  "cells": [
    {
      "cell_type": "markdown",
      "source": [
        "# NLP06- Word Embedding : 장르간 편향성 측정\n",
        "# 목차\n",
        "\n",
        "> LMS 따라해보기 \n",
        "\n",
        "1. WEAT 구현하기\n",
        "2. 사전학습된 Word Embedding에 WEAT 적용\n",
        "3. 직접 만드는 Word Embedding에 WEAT 적용\n",
        "\n",
        "\n",
        "> 프로젝트 : 모든 장르 간 편향성 측정해 보기\n",
        "\n",
        "* STEP 1. 형태소 분석기를 이용하여 품사가 명사인 경우 해당 단어를 추출하기\n",
        "* STEP 2. 추출된 결과로 embedding model 만들기\n",
        "* STEP 3. target, attribute 단어 셋 만들기\n",
        "* STEP 4. WEAT score 계산과 시각화\n",
        "\n",
        "\n",
        "##회고"
      ],
      "metadata": {
        "id": "G07sGhU2CZJQ"
      }
    },
    {
      "cell_type": "markdown",
      "source": [
        "# LMS 따라해보기 "
      ],
      "metadata": {
        "id": "r1cxbFTkb0Hu"
      }
    },
    {
      "cell_type": "code",
      "source": [
        "!sudo apt-get install -y fonts-nanum\n",
        "!sudo fc-cache -fv\n",
        "!rm ~/.cache/matplotlib -rf"
      ],
      "metadata": {
        "colab": {
          "base_uri": "https://localhost:8080/"
        },
        "id": "rmI-xAAcxv5L",
        "outputId": "8a2765dd-a745-4079-f9d7-98ab5557c53e"
      },
      "execution_count": 1,
      "outputs": [
        {
          "output_type": "stream",
          "name": "stdout",
          "text": [
            "Reading package lists... Done\n",
            "Building dependency tree       \n",
            "Reading state information... Done\n",
            "fonts-nanum is already the newest version (20170925-1).\n",
            "The following package was automatically installed and is no longer required:\n",
            "  libnvidia-common-460\n",
            "Use 'sudo apt autoremove' to remove it.\n",
            "0 upgraded, 0 newly installed, 0 to remove and 12 not upgraded.\n",
            "/usr/share/fonts: caching, new cache contents: 0 fonts, 1 dirs\n",
            "/usr/share/fonts/truetype: caching, new cache contents: 0 fonts, 3 dirs\n",
            "/usr/share/fonts/truetype/humor-sans: caching, new cache contents: 1 fonts, 0 dirs\n",
            "/usr/share/fonts/truetype/liberation: caching, new cache contents: 16 fonts, 0 dirs\n",
            "/usr/share/fonts/truetype/nanum: caching, new cache contents: 10 fonts, 0 dirs\n",
            "/usr/local/share/fonts: caching, new cache contents: 0 fonts, 0 dirs\n",
            "/root/.local/share/fonts: skipping, no such directory\n",
            "/root/.fonts: skipping, no such directory\n",
            "/var/cache/fontconfig: cleaning cache directory\n",
            "/root/.cache/fontconfig: not cleaning non-existent cache directory\n",
            "/root/.fontconfig: not cleaning non-existent cache directory\n",
            "fc-cache: succeeded\n"
          ]
        }
      ]
    },
    {
      "cell_type": "markdown",
      "source": [
        "## 1.WEAT 구현하기 "
      ],
      "metadata": {
        "id": "TeCZ2n3OCcPR"
      }
    },
    {
      "cell_type": "code",
      "execution_count": 2,
      "metadata": {
        "id": "rLb7PEYkCCtg"
      },
      "outputs": [],
      "source": [
        "import numpy as np\n",
        "from numpy import dot\n",
        "from numpy.linalg import norm"
      ]
    },
    {
      "cell_type": "code",
      "source": [
        "target_X = {\n",
        "    '장미': [4.1, 1.2, -2.4, 0.5, 4.1],\n",
        "    '튤립': [3.1, 0.5, 3.6, 1.7, 5.8],\n",
        "    '백합': [2.9, -1.3, 0.4, 1.1, 3.7],\n",
        "    '데이지': [5.4, 2.5, 4.6, -1.0, 3.6]\n",
        "}\n",
        "target_Y = {\n",
        "    '거미': [-1.5, 0.2, -0.6, -4.6, -5.3],\n",
        "    '모기': [0.4, 0.7, -1.9, -4.5, -2.9],\n",
        "    '파리': [0.9, 1.4, -2.3, -3.9, -4.7],\n",
        "    '메뚜기': [0.7, 0.9, -0.4, -4.1, -3.9]\n",
        "}\n",
        "attribute_A = {\n",
        "    '사랑':[2.8,  4.2, 4.3,  0.3, 5.0],\n",
        "    '행복':[3.8,  3. , -1.2,  4.4, 4.9],\n",
        "    '웃음':[3.7, -0.3,  1.2, -2.5, 3.9]\n",
        "}\n",
        "attribute_B = {\n",
        "    '재난': [-0.2, -2.8, -4.7, -4.3, -4.7],\n",
        "    '고통': [-4.5, -2.1,  -3.8, -3.6, -3.1],\n",
        "    '증오': [-3.6, -3.3, -3.5,  -3.7, -4.4]\n",
        "}"
      ],
      "metadata": {
        "id": "uTLfp_EICXkt"
      },
      "execution_count": 3,
      "outputs": []
    },
    {
      "cell_type": "code",
      "source": [
        "X = np.array([v for v in target_X.values()])\n",
        "Y = np.array([v for v in target_Y.values()])\n",
        "print(X)\n",
        "print(Y)"
      ],
      "metadata": {
        "colab": {
          "base_uri": "https://localhost:8080/"
        },
        "id": "DmyoSwhkCaS2",
        "outputId": "c7de932e-4074-4ed9-bcf3-b5c7046d54b3"
      },
      "execution_count": 4,
      "outputs": [
        {
          "output_type": "stream",
          "name": "stdout",
          "text": [
            "[[ 4.1  1.2 -2.4  0.5  4.1]\n",
            " [ 3.1  0.5  3.6  1.7  5.8]\n",
            " [ 2.9 -1.3  0.4  1.1  3.7]\n",
            " [ 5.4  2.5  4.6 -1.   3.6]]\n",
            "[[-1.5  0.2 -0.6 -4.6 -5.3]\n",
            " [ 0.4  0.7 -1.9 -4.5 -2.9]\n",
            " [ 0.9  1.4 -2.3 -3.9 -4.7]\n",
            " [ 0.7  0.9 -0.4 -4.1 -3.9]]\n"
          ]
        }
      ]
    },
    {
      "cell_type": "code",
      "source": [
        "A = np.array([v for v in attribute_A.values()])\n",
        "B = np.array([v for v in attribute_B.values()])\n",
        "print(A)\n",
        "print(B)"
      ],
      "metadata": {
        "colab": {
          "base_uri": "https://localhost:8080/"
        },
        "id": "MBBMnAIDCw3V",
        "outputId": "b9038b2c-81a9-4a17-9259-3ed6f19aea64"
      },
      "execution_count": 5,
      "outputs": [
        {
          "output_type": "stream",
          "name": "stdout",
          "text": [
            "[[ 2.8  4.2  4.3  0.3  5. ]\n",
            " [ 3.8  3.  -1.2  4.4  4.9]\n",
            " [ 3.7 -0.3  1.2 -2.5  3.9]]\n",
            "[[-0.2 -2.8 -4.7 -4.3 -4.7]\n",
            " [-4.5 -2.1 -3.8 -3.6 -3.1]\n",
            " [-3.6 -3.3 -3.5 -3.7 -4.4]]\n"
          ]
        }
      ]
    },
    {
      "cell_type": "code",
      "source": [
        "def cos_sim(i, j):\n",
        "    return dot(i, j.T)/(norm(i)*norm(j))\n",
        "\n",
        "def s(w, A, B):\n",
        "    c_a = cos_sim(w, A)\n",
        "    c_b = cos_sim(w, B)\n",
        "    mean_A = np.mean(c_a, axis=-1)\n",
        "    mean_B = np.mean(c_b, axis=-1)\n",
        "    return mean_A - mean_B #, c_a, c_b"
      ],
      "metadata": {
        "id": "0_10AIeECnT8"
      },
      "execution_count": 6,
      "outputs": []
    },
    {
      "cell_type": "code",
      "source": [
        "print(s(target_X['장미'], A, B))"
      ],
      "metadata": {
        "colab": {
          "base_uri": "https://localhost:8080/"
        },
        "id": "A9CrbeLcD4WQ",
        "outputId": "a6e6db45-7de0-415a-a580-d588af4f7a6c"
      },
      "execution_count": 7,
      "outputs": [
        {
          "output_type": "stream",
          "name": "stdout",
          "text": [
            "0.6457646122337399\n"
          ]
        }
      ]
    },
    {
      "cell_type": "code",
      "source": [
        "print(s(target_Y['거미'], A, B))"
      ],
      "metadata": {
        "colab": {
          "base_uri": "https://localhost:8080/"
        },
        "id": "BFG-QI1MClNC",
        "outputId": "a6efb3c2-068c-4a73-bd4c-43f6efb2bc9b"
      },
      "execution_count": 8,
      "outputs": [
        {
          "output_type": "stream",
          "name": "stdout",
          "text": [
            "-0.794002342033094\n"
          ]
        }
      ]
    },
    {
      "cell_type": "code",
      "source": [
        "print(s(X, A, B))\n",
        "print(round(np.mean(s(X, A, B)), 3))"
      ],
      "metadata": {
        "colab": {
          "base_uri": "https://localhost:8080/"
        },
        "id": "PHZ_5it4C0S6",
        "outputId": "80498386-e1ab-4c7b-f96c-3e71bec0befe"
      },
      "execution_count": 9,
      "outputs": [
        {
          "output_type": "stream",
          "name": "stdout",
          "text": [
            "[0.29551989 0.51723181 0.26499096 0.50924109]\n",
            "0.397\n"
          ]
        }
      ]
    },
    {
      "cell_type": "code",
      "source": [
        "print(s(X, A, B))\n",
        "print(round(np.mean(s(Y, A, B)), 3))"
      ],
      "metadata": {
        "colab": {
          "base_uri": "https://localhost:8080/"
        },
        "id": "LnPDDvwsC12F",
        "outputId": "46885c31-c792-400c-f9cc-8730a7b9b5b0"
      },
      "execution_count": 10,
      "outputs": [
        {
          "output_type": "stream",
          "name": "stdout",
          "text": [
            "[0.29551989 0.51723181 0.26499096 0.50924109]\n",
            "-0.33\n"
          ]
        }
      ]
    },
    {
      "cell_type": "code",
      "source": [
        "def weat_score(X, Y, A, B):\n",
        "    \n",
        "    s_X = s(X, A, B)\n",
        "    s_Y = s(Y, A, B)\n",
        "\n",
        "    mean_X = np.mean(s_X)\n",
        "    mean_Y = np.mean(s_Y)\n",
        "    \n",
        "    std_dev = np.std(np.concatenate([s_X, s_Y], axis=0))\n",
        "    \n",
        "    return  (mean_X-mean_Y)/std_dev\n",
        "\n",
        "print(round(weat_score(X, Y, A, B), 3))"
      ],
      "metadata": {
        "colab": {
          "base_uri": "https://localhost:8080/"
        },
        "id": "oIwWFrokC37x",
        "outputId": "d14eca21-3c6c-4c62-9969-7f431cec1814"
      },
      "execution_count": 11,
      "outputs": [
        {
          "output_type": "stream",
          "name": "stdout",
          "text": [
            "1.932\n"
          ]
        }
      ]
    },
    {
      "cell_type": "code",
      "source": [
        "from sklearn.decomposition import PCA\n",
        "pca = PCA(n_components=2)\n",
        "pc_A = pca.fit_transform(A)\n",
        "pc_B = pca.fit_transform(B)\n",
        "pc_X = pca.fit_transform(X)\n",
        "pc_Y = pca.fit_transform(Y)\n",
        "\n",
        "import matplotlib.pyplot as plt\n",
        "fig, ax = plt.subplots()\n",
        "ax.scatter(pc_A[:,0],pc_A[:,1], c='blue', label='A')\n",
        "ax.scatter(pc_B[:,0],pc_B[:,1], c='red', label='B')\n",
        "ax.scatter(pc_X[:,0],pc_X[:,1], c='skyblue', label='X')\n",
        "ax.scatter(pc_Y[:,0],pc_Y[:,1], c='pink', label='Y')"
      ],
      "metadata": {
        "colab": {
          "base_uri": "https://localhost:8080/",
          "height": 283
        },
        "id": "yjQlerV0C_7Y",
        "outputId": "2a98e543-6383-4d85-f97f-ef67d57c9fde"
      },
      "execution_count": 12,
      "outputs": [
        {
          "output_type": "execute_result",
          "data": {
            "text/plain": [
              "<matplotlib.collections.PathCollection at 0x7fe72dc65fd0>"
            ]
          },
          "metadata": {},
          "execution_count": 12
        },
        {
          "output_type": "display_data",
          "data": {
            "text/plain": [
              "<Figure size 432x288 with 1 Axes>"
            ],
            "image/png": "[encoded data removed]"
          },
          "metadata": {
            "needs_background": "light"
          }
        }
      ]
    },
    {
      "cell_type": "code",
      "source": [],
      "metadata": {
        "id": "uDnYbzQTDD5S"
      },
      "execution_count": 12,
      "outputs": []
    },
    {
      "cell_type": "markdown",
      "source": [
        "## 2.사전학습된 Word Embedding에 WEAT 적용"
      ],
      "metadata": {
        "id": "7b0mA36AIRIj"
      }
    },
    {
      "cell_type": "markdown",
      "source": [
        "💡  워드 임베딩 내 300만 개의 단어 중 **자주 쓰는 단어 50만 개만** 꺼내어 사용하도록 아래와 같이 limit 파라미터값을 주면 **메모리 사용량을 크게 줄일 수** 있습니다."
      ],
      "metadata": {
        "id": "cBzQgNcHLaye"
      }
    },
    {
      "cell_type": "code",
      "source": [
        "import os\n",
        "\n",
        "# data_dir = '~/aiffel/weat' \n",
        "model_dir ='/content/drive/MyDrive/Aiffel_data/NLP/[NLP-06]/GoogleNews-vectors-negative300.bin.gz'\n",
        "\n",
        "from gensim.models import KeyedVectors\n",
        "\n",
        "# 50만개의 단어만 활용합니다. 메모리가 충분하다면 limit 파라미터값을 생략하여 300만개를 모두 활용할 수 있습니다. \n",
        "w2v = KeyedVectors.load_word2vec_format(model_dir, binary=True, limit=500000)"
      ],
      "metadata": {
        "id": "HquVrEhwK_vX"
      },
      "execution_count": 13,
      "outputs": []
    },
    {
      "cell_type": "code",
      "source": [
        "w2v"
      ],
      "metadata": {
        "colab": {
          "base_uri": "https://localhost:8080/"
        },
        "id": "lC7k5zXOLNZK",
        "outputId": "5263d43f-d5db-48eb-b412-336123b43080"
      },
      "execution_count": 14,
      "outputs": [
        {
          "output_type": "execute_result",
          "data": {
            "text/plain": [
              "<gensim.models.keyedvectors.Word2VecKeyedVectors at 0x7fe72ad91ed0>"
            ]
          },
          "metadata": {},
          "execution_count": 14
        }
      ]
    },
    {
      "cell_type": "markdown",
      "source": [
        "💡 참고 )\n",
        "\n",
        "2021년 3월, Gensim이 4.0 으로 버전업되면서 KeyedVectors에 vocab dict가 제거되었습니다. 상세한 내용은 아래 링크를 참고\n",
        "\n",
        "[migrating from gensim] https://lms.aiffel.io/course/312/node/463/step/3096#:~:text=Migrating%20from%20Gensim%203.x%20to%204"
      ],
      "metadata": {
        "id": "QoAfRQZ9LsHw"
      }
    },
    {
      "cell_type": "code",
      "source": [
        "import gensim \n",
        "print(gensim.__version__)"
      ],
      "metadata": {
        "colab": {
          "base_uri": "https://localhost:8080/"
        },
        "id": "AZ-vgEsmO4Rk",
        "outputId": "8fd6d114-7816-4a53-dfc7-0188a6f774af"
      },
      "execution_count": 15,
      "outputs": [
        {
          "output_type": "stream",
          "name": "stdout",
          "text": [
            "3.6.0\n"
          ]
        }
      ]
    },
    {
      "cell_type": "code",
      "source": [
        "print(len(w2v.vocab))   # Gensim 3.X 버전까지는 w2v.vocab을 직접 접근할 수 있습니다. \n",
        "# print(len(w2v.index_to_key))   # Gensim 4.0부터는 index_to_key를 활용해 vocab size를 알 수 있습니다. \n",
        "print(len(w2v['I']))                    # 혹은 단어를 key로 직접 vector를 얻을 수 있습니다. \n",
        "print(w2v.vectors.shape)"
      ],
      "metadata": {
        "colab": {
          "base_uri": "https://localhost:8080/"
        },
        "id": "C01sP45-LUq7",
        "outputId": "3cbc28f6-c96d-4c6d-cffa-2ff5e27926e9"
      },
      "execution_count": 16,
      "outputs": [
        {
          "output_type": "stream",
          "name": "stdout",
          "text": [
            "500000\n",
            "300\n",
            "(500000, 300)\n"
          ]
        }
      ]
    },
    {
      "cell_type": "markdown",
      "source": [
        "> 단어의 의미를 담은 벡터로 변환"
      ],
      "metadata": {
        "id": "v0Y3JnwgOH45"
      }
    },
    {
      "cell_type": "code",
      "source": [
        "w2v['happy']"
      ],
      "metadata": {
        "colab": {
          "base_uri": "https://localhost:8080/"
        },
        "id": "TnqB_2vfMN_s",
        "outputId": "0b554689-d714-4025-9349-0fc0ccf2109e"
      },
      "execution_count": 17,
      "outputs": [
        {
          "output_type": "execute_result",
          "data": {
            "text/plain": [
              "array([-5.18798828e-04,  1.60156250e-01,  1.60980225e-03,  2.53906250e-02,\n",
              "        9.91210938e-02, -8.59375000e-02,  3.24218750e-01, -2.17285156e-02,\n",
              "        1.34765625e-01,  1.10351562e-01, -1.04980469e-01, -2.90527344e-02,\n",
              "       -2.38037109e-02, -4.02832031e-02, -3.68652344e-02,  2.32421875e-01,\n",
              "        3.20312500e-01,  1.01074219e-01,  5.83496094e-02, -2.91824341e-04,\n",
              "       -3.29589844e-02,  2.11914062e-01,  4.32128906e-02, -8.59375000e-02,\n",
              "        2.81250000e-01, -1.78222656e-02,  3.79943848e-03, -1.71875000e-01,\n",
              "        2.06054688e-01, -1.85546875e-01,  3.73535156e-02, -1.21459961e-02,\n",
              "        2.04101562e-01, -3.80859375e-02,  3.61328125e-02, -8.15429688e-02,\n",
              "        8.44726562e-02,  9.37500000e-02,  1.44531250e-01,  7.42187500e-02,\n",
              "        2.51953125e-01, -7.91015625e-02,  8.69140625e-02,  1.58691406e-02,\n",
              "        1.09375000e-01, -2.23632812e-01, -5.15747070e-03,  1.68945312e-01,\n",
              "       -1.36718750e-01, -2.51464844e-02, -3.85742188e-02, -1.33056641e-02,\n",
              "        1.38671875e-01,  1.76757812e-01,  1.10351562e-01,  1.51367188e-01,\n",
              "        7.86132812e-02, -1.69921875e-01,  1.20605469e-01, -4.37500000e-01,\n",
              "       -4.32128906e-02,  1.34765625e-01, -3.45703125e-01,  9.13085938e-02,\n",
              "        4.71191406e-02,  9.66796875e-02, -1.61132812e-02, -4.71191406e-02,\n",
              "       -4.68750000e-02,  1.37695312e-01,  9.96093750e-02,  4.49218750e-02,\n",
              "       -2.49023438e-02,  1.58203125e-01, -3.57421875e-01, -1.21093750e-01,\n",
              "        1.15722656e-01,  9.08203125e-02,  1.40625000e-01,  1.60156250e-01,\n",
              "       -4.42504883e-03,  5.34667969e-02,  2.28515625e-01,  1.88476562e-01,\n",
              "       -3.88183594e-02, -2.53906250e-01, -1.74804688e-01,  9.81445312e-02,\n",
              "        1.08642578e-02,  1.41601562e-01,  7.81250000e-03,  1.36718750e-01,\n",
              "       -2.08007812e-01, -3.41796875e-02, -2.50000000e-01,  1.25976562e-01,\n",
              "        1.57226562e-01,  3.31115723e-03, -1.51367188e-01, -6.98242188e-02,\n",
              "       -1.40625000e-01,  2.06054688e-01, -3.54003906e-02,  1.57226562e-01,\n",
              "        5.83496094e-02, -3.58886719e-02,  2.12890625e-01, -1.13769531e-01,\n",
              "        1.41601562e-01, -1.29394531e-02,  9.13085938e-02, -3.95507812e-02,\n",
              "        9.76562500e-02, -2.69775391e-02,  1.30004883e-02, -1.30859375e-01,\n",
              "        3.32031250e-01, -3.53515625e-01, -5.44433594e-02, -2.50244141e-02,\n",
              "       -1.42578125e-01,  6.49414062e-02,  5.54199219e-02, -4.83398438e-02,\n",
              "       -1.12304688e-01, -1.32812500e-01, -6.73828125e-02, -1.41601562e-01,\n",
              "       -2.05078125e-01, -1.29882812e-01, -1.04003906e-01, -8.10546875e-02,\n",
              "       -1.67968750e-01,  1.63085938e-01, -1.13769531e-01, -5.17578125e-02,\n",
              "        7.61718750e-02,  3.59375000e-01,  1.04003906e-01,  3.59375000e-01,\n",
              "       -8.74023438e-02,  6.54296875e-02, -1.09863281e-02, -1.88476562e-01,\n",
              "       -6.59179688e-02,  2.30468750e-01, -2.96875000e-01,  6.59179688e-03,\n",
              "        1.49414062e-01, -1.73828125e-01,  1.31835938e-01,  2.36328125e-01,\n",
              "       -9.22851562e-02,  1.70898438e-01, -1.70898438e-02,  3.12500000e-02,\n",
              "       -3.37219238e-03,  9.66796875e-02, -2.61718750e-01, -1.84326172e-02,\n",
              "       -1.85546875e-01,  1.24023438e-01,  3.00781250e-01,  2.43164062e-01,\n",
              "        3.06640625e-01, -3.28125000e-01, -5.05371094e-02,  1.01562500e-01,\n",
              "        7.86132812e-02, -1.44531250e-01, -1.25976562e-01, -2.41699219e-02,\n",
              "        2.94921875e-01, -1.50390625e-01, -3.97949219e-02,  2.75390625e-01,\n",
              "        1.26953125e-01, -9.86328125e-02, -1.39648438e-01,  2.52685547e-02,\n",
              "       -8.54492188e-02, -1.72119141e-02,  9.17968750e-02,  1.39648438e-01,\n",
              "       -2.39257812e-01, -2.11914062e-01, -2.21679688e-01,  1.53320312e-01,\n",
              "       -1.58691406e-02, -2.00195312e-01, -2.07519531e-02,  3.58886719e-02,\n",
              "       -6.96629286e-07, -2.13867188e-01,  2.00195312e-01, -1.09375000e-01,\n",
              "       -5.15136719e-02,  6.22558594e-02, -3.22265625e-01, -7.86132812e-02,\n",
              "        5.02929688e-02,  7.08007812e-02,  1.20117188e-01, -1.79687500e-01,\n",
              "        1.59179688e-01, -1.02233887e-03, -3.49609375e-01,  1.25000000e-01,\n",
              "        6.44531250e-02,  8.10546875e-02, -3.39355469e-02,  7.42187500e-02,\n",
              "       -3.08837891e-02, -1.38671875e-01, -3.19824219e-02,  1.99218750e-01,\n",
              "        1.25000000e-01,  5.68847656e-02, -1.67968750e-01,  1.30859375e-01,\n",
              "        2.90527344e-02, -1.49536133e-02, -1.39648438e-01,  4.07714844e-02,\n",
              "       -1.05590820e-02, -1.74804688e-01,  2.12890625e-01, -1.41601562e-01,\n",
              "        2.30712891e-02, -3.36914062e-02, -8.78906250e-02, -6.64062500e-02,\n",
              "       -6.93359375e-02, -7.42187500e-02,  7.03125000e-02, -2.01416016e-02,\n",
              "       -1.26953125e-01, -3.63769531e-02,  5.93261719e-02,  1.18164062e-01,\n",
              "       -6.34765625e-03, -7.42187500e-02,  3.19824219e-02,  6.68945312e-02,\n",
              "       -2.27539062e-01,  6.54296875e-02,  1.79443359e-02,  1.46484375e-01,\n",
              "       -5.49316406e-02, -1.15234375e-01, -2.16796875e-01,  8.74023438e-02,\n",
              "        2.61718750e-01,  1.54296875e-01,  6.71386719e-03, -2.78320312e-02,\n",
              "       -4.15039062e-03, -2.09960938e-02, -5.51757812e-02, -9.76562500e-03,\n",
              "       -1.29882812e-01,  1.31835938e-01, -8.42285156e-03,  2.29492188e-01,\n",
              "        1.78710938e-01,  1.94335938e-01,  4.68750000e-02,  2.18505859e-02,\n",
              "       -2.75878906e-02,  1.73828125e-01,  1.33789062e-01,  1.36718750e-01,\n",
              "        3.10546875e-01,  9.39941406e-03,  9.22851562e-02, -2.44140625e-01,\n",
              "       -5.10253906e-02,  7.81250000e-02, -1.43554688e-01,  9.17968750e-02,\n",
              "        2.96630859e-02,  9.46044922e-03, -2.04101562e-01,  1.60156250e-01,\n",
              "        1.43554688e-01, -2.02636719e-02,  2.13623047e-02, -6.98242188e-02,\n",
              "       -3.11279297e-03, -2.52685547e-02, -1.09863281e-01,  1.07910156e-01,\n",
              "       -7.03125000e-02, -1.27929688e-01, -5.07812500e-02,  4.27246094e-02,\n",
              "       -7.32421875e-02, -3.54003906e-02,  8.88671875e-02, -3.02734375e-01],\n",
              "      dtype=float32)"
            ]
          },
          "metadata": {},
          "execution_count": 17
        }
      ]
    },
    {
      "cell_type": "markdown",
      "source": [
        "> '각 어휘 '와 가장 유사한 단어"
      ],
      "metadata": {
        "id": "Ag_-AL9vNFjU"
      }
    },
    {
      "cell_type": "code",
      "source": [
        "w2v.most_similar(positive=['happy'])"
      ],
      "metadata": {
        "colab": {
          "base_uri": "https://localhost:8080/"
        },
        "id": "a66vANNDM9EA",
        "outputId": "a5c54382-135b-454f-def3-8af012cda837"
      },
      "execution_count": 18,
      "outputs": [
        {
          "output_type": "execute_result",
          "data": {
            "text/plain": [
              "[('glad', 0.7408890128135681),\n",
              " ('pleased', 0.6632171273231506),\n",
              " ('ecstatic', 0.6626912355422974),\n",
              " ('overjoyed', 0.6599286794662476),\n",
              " ('thrilled', 0.6514049768447876),\n",
              " ('satisfied', 0.6437950134277344),\n",
              " ('proud', 0.636042058467865),\n",
              " ('delighted', 0.627237856388092),\n",
              " ('disappointed', 0.6269949674606323),\n",
              " ('excited', 0.6247666478157043)]"
            ]
          },
          "metadata": {},
          "execution_count": 18
        }
      ]
    },
    {
      "cell_type": "code",
      "source": [
        "w2v.most_similar(positive=['family'])"
      ],
      "metadata": {
        "colab": {
          "base_uri": "https://localhost:8080/"
        },
        "id": "wcOYjZC1NLfJ",
        "outputId": "770367b1-40f0-4a13-edfe-564687739e1c"
      },
      "execution_count": 19,
      "outputs": [
        {
          "output_type": "execute_result",
          "data": {
            "text/plain": [
              "[('relatives', 0.6662652492523193),\n",
              " ('familiy', 0.6517066955566406),\n",
              " ('families', 0.6252894401550293),\n",
              " ('siblings', 0.6140849590301514),\n",
              " ('friends', 0.6128394603729248),\n",
              " ('mother', 0.6065612435340881),\n",
              " ('aunt', 0.5811319947242737),\n",
              " ('grandparents', 0.576207160949707),\n",
              " ('father', 0.5717043876647949),\n",
              " ('Family', 0.5672314763069153)]"
            ]
          },
          "metadata": {},
          "execution_count": 19
        }
      ]
    },
    {
      "cell_type": "markdown",
      "source": [
        "* 오타 : 데이터 자체에 자주 나왔기 때문에 단어 셋에 포함\n",
        "\n",
        "ex)'families'"
      ],
      "metadata": {
        "id": "NX79MB_INWHq"
      }
    },
    {
      "cell_type": "code",
      "source": [
        "w2v.most_similar(positive=['school'])"
      ],
      "metadata": {
        "colab": {
          "base_uri": "https://localhost:8080/"
        },
        "id": "Jvz5wAZpNQOx",
        "outputId": "5c5299f4-1da7-43fb-9017-e5e1807d8b1e"
      },
      "execution_count": 20,
      "outputs": [
        {
          "output_type": "execute_result",
          "data": {
            "text/plain": [
              "[('elementary', 0.7868632078170776),\n",
              " ('schools', 0.7411909103393555),\n",
              " ('elementary_schools', 0.6597154140472412),\n",
              " ('kindergarten', 0.6529810428619385),\n",
              " ('eighth_grade', 0.6488089561462402),\n",
              " ('School', 0.6477997899055481),\n",
              " ('teacher', 0.63824063539505),\n",
              " ('students', 0.6301523447036743),\n",
              " ('classroom', 0.6281620860099792),\n",
              " ('Schools', 0.6172096133232117)]"
            ]
          },
          "metadata": {},
          "execution_count": 20
        }
      ]
    },
    {
      "cell_type": "markdown",
      "source": [
        " > WEAT를 통해 이 모델의 편향성을 확인"
      ],
      "metadata": {
        "id": "VNMW0ai9No8B"
      }
    },
    {
      "cell_type": "markdown",
      "source": [
        "데이터 논문  : https://arxiv.org/pdf/1608.07187.pdf\n",
        "* 과학-예술 : 남성-여성"
      ],
      "metadata": {
        "id": "DyC6wskgOV3v"
      }
    },
    {
      "cell_type": "code",
      "source": [
        "target_X = ['science', 'technology', 'physics', 'chemistry', 'Einstein', 'NASA', 'experiment', 'astronomy']\n",
        "target_Y = ['poetry', 'art', 'Shakespeare', 'dance', 'literature', 'novel', 'symphony', 'drama']\n",
        "attribute_A = ['brother', 'father', 'uncle', 'grandfather', 'son', 'he', 'his', 'him']\n",
        "attribute_B = ['sister', 'mother', 'aunt', 'grandmother', 'daughter', 'she', 'hers', 'her']\n",
        "\n",
        "X = np.array([w2v[word] for word in target_X])\n",
        "Y = np.array([w2v[word] for word in target_Y])\n",
        "A = np.array([w2v[word] for word in attribute_A])\n",
        "B = np.array([w2v[word] for word in attribute_B])\n",
        "\n",
        "weat_score(X, Y, A, B)"
      ],
      "metadata": {
        "colab": {
          "base_uri": "https://localhost:8080/"
        },
        "id": "v-lYbVysNqpL",
        "outputId": "cd74c694-75b5-4688-9ee4-22f16fd6d697"
      },
      "execution_count": 21,
      "outputs": [
        {
          "output_type": "execute_result",
          "data": {
            "text/plain": [
              "1.2624874"
            ]
          },
          "metadata": {},
          "execution_count": 21
        }
      ]
    },
    {
      "cell_type": "code",
      "source": [
        "target_X = ['pizza', 'coke', 'hamburger', 'ham', 'ramen', 'icecream', 'candy']\n",
        "target_Y = ['salad', 'fruit', 'vegetable', 'herb', 'root', 'greens', 'wholesome']\n",
        "attribute_A = ['junk', 'canned', 'convenience', 'frozen', 'fast']\n",
        "attribute_B = ['health', 'beneficial', 'good', 'nourishing', 'nutritious']\n",
        "\n",
        "X = np.array([w2v[word] for word in target_X])\n",
        "Y = np.array([w2v[word] for word in target_Y])\n",
        "A = np.array([w2v[word] for word in attribute_A])\n",
        "B = np.array([w2v[word] for word in attribute_B])\n",
        "\n",
        "weat_score(X, Y, A, B)"
      ],
      "metadata": {
        "colab": {
          "base_uri": "https://localhost:8080/"
        },
        "id": "ocsB1MqKNysx",
        "outputId": "46c6fa81-b894-46b8-88bc-2ab0fb093372"
      },
      "execution_count": 22,
      "outputs": [
        {
          "output_type": "execute_result",
          "data": {
            "text/plain": [
              "1.6909266"
            ]
          },
          "metadata": {},
          "execution_count": 22
        }
      ]
    },
    {
      "cell_type": "code",
      "source": [
        "target_X = ['pizza', 'coke', 'hamburger', 'ham', 'ramen', 'icecream', 'candy']\n",
        "target_Y = ['salad', 'fruit', 'vegetable', 'herb', 'root', 'greens', 'wholesome']\n",
        "attribute_A = ['book', 'essay', 'dictionary', 'magazine', 'novel']\n",
        "attribute_B = ['news', 'report', 'statement', 'broadcast', 'word']\n",
        "\n",
        "X = np.array([w2v[word] for word in target_X])\n",
        "Y = np.array([w2v[word] for word in target_Y])\n",
        "A = np.array([w2v[word] for word in attribute_A])\n",
        "B = np.array([w2v[word] for word in attribute_B])\n",
        "\n",
        "weat_score(X, Y, A, B)"
      ],
      "metadata": {
        "colab": {
          "base_uri": "https://localhost:8080/"
        },
        "id": "BzAE1MYNOvCn",
        "outputId": "9e579194-007e-46eb-8679-29c5c5262f87"
      },
      "execution_count": 23,
      "outputs": [
        {
          "output_type": "execute_result",
          "data": {
            "text/plain": [
              "-0.05137869"
            ]
          },
          "metadata": {},
          "execution_count": 23
        }
      ]
    },
    {
      "cell_type": "code",
      "source": [
        "#메모리를 다시 비워줍시다.\n",
        "del w2v\n",
        "print(\"삭제 완료\")"
      ],
      "metadata": {
        "colab": {
          "base_uri": "https://localhost:8080/"
        },
        "id": "rNT0RFQEOx0a",
        "outputId": "673c1009-3d08-4489-89a5-481eca67e8b2"
      },
      "execution_count": 24,
      "outputs": [
        {
          "output_type": "stream",
          "name": "stdout",
          "text": [
            "삭제 완료\n"
          ]
        }
      ]
    },
    {
      "cell_type": "markdown",
      "source": [
        "##3.직접 만드는 Word Embedding에 WEAT 적용"
      ],
      "metadata": {
        "id": "D2cScIBwRHVr"
      }
    },
    {
      "cell_type": "markdown",
      "source": [
        "1. 형태소 분석기를 이용하여 품사가 명사인 경우, 해당 단어를 추출하기\n",
        "2. 추출된 결과로 embedding model 만들기\n",
        "3. TF/IDF로 해당 데이터를 가장 잘 표현하는 단어 셋 만들기\n",
        "4. embedding model과 단어 셋으로 WEAT score 구해보기"
      ],
      "metadata": {
        "id": "egvGTpICRDLs"
      }
    },
    {
      "cell_type": "markdown",
      "source": [
        "###1)형태소 분석기를 이용하여 품사가 명사인 경우 해당 단어를 추출하기"
      ],
      "metadata": {
        "id": "Ievx_4D6SbBw"
      }
    },
    {
      "cell_type": "markdown",
      "source": [
        "synopsis.txt(대략 17MB):  2001년부터 2019년 8월까지 제작된 영화들의 시놉시스 정보"
      ],
      "metadata": {
        "id": "nw0WEXSrShZc"
      }
    },
    {
      "cell_type": "code",
      "source": [
        "# %cd /content/drive/MyDrive/Aiffel_data/NLP/[NLP-06]\n",
        "\n",
        "# !unzip -qq \"/content/drive/MyDrive/Aiffel_data/NLP/[NLP-06]/synopsis.zip\""
      ],
      "metadata": {
        "id": "Kai-2WBXQ0oa"
      },
      "execution_count": 25,
      "outputs": []
    },
    {
      "cell_type": "code",
      "source": [
        "# import os\n",
        "\n",
        "with open('/content/drive/MyDrive/Aiffel_data/NLP/[NLP-06]/synopsis.txt', 'r') as file:\n",
        "    for i in range(20):\n",
        "        print(file.readline(), end='')"
      ],
      "metadata": {
        "colab": {
          "base_uri": "https://localhost:8080/"
        },
        "id": "nQWNA97XR1_-",
        "outputId": "a91a2d9d-84ea-43a0-be03-b34a93e11777"
      },
      "execution_count": 26,
      "outputs": [
        {
          "output_type": "stream",
          "name": "stdout",
          "text": [
            "사운드 엔지니어 상우(유지태 분)는 치매에 걸린 할머니(백성희 분)와\n",
            " 젊은 시절 상처한 한 아버지(박인환 분), 고모(신신애 분)와 함께 살고 있다.\n",
            " 어느 겨울 그는 지방 방송국 라디오 PD 은수(이영애 분)를 만난다.\n",
            " 자연의 소리를 채집해 틀어주는 라디오 프로그램을 준비하는 은수는 상우와 녹음 여행을 떠난다.\n",
            " 자연스레 가까워지는 두 사람은 어느 날, 은수의 아파트에서 밤을 보낸다.\n",
            " 너무 쉽게 사랑에 빠진 두 사람... 상우는 주체할 수 없을 정도로 그녀에게 빨려든다.\n",
            " 그러나 겨울에 만난 두 사람의 관계는 봄을 지나 여름을 맞이하면서 삐걱거린다.\n",
            " 이혼 경험이 있는 은수는 상우에게 결혼할 생각이 없다며 부담스러운 표정을 내비친다.\n",
            " \"어떻게 사랑이 변하니?...\"라고 묻는 상우에게 은수는 그저 \"헤어져\" 라고 단호하게 말한다.\n",
            " 영원히 변할 것 같지 않던 사랑이 변하고, 그 사실을 받아들이지 못하는 상우는 어찌 할 바를 모른다.\n",
            " 은수를 잊지 못하는 상우는 미련과 집착의 감정을 이기지 못하고 서울과 강릉을 오간다.\n",
            "유사 이래 연령, 성별, 빈부의 차이와 정치적인 입장을 불문하고 일거에 국민을 통합해 온 '애국심'이라는 성역에 일침을 가하는 다큐멘터리. 재작년 전국 민족민주 유가족협의회의 장기농성을 다룬 인상적인 다큐멘터리 <민들레>를 만들었던 독립영화집단 '빨간 눈사람'이 우리 사회 구석구석을 발빠르게 돌아다니며 애국심과 민족주의가 강요되는 현장을 발굴하여 카메라에 담았다. 박홍 서강대 명예총장, 이도형 '한국논단' 발행인, 축구해설자 신문선, 홍세화, 박노해 등 사회 각계의 '스타'들이 등장해 저마다의 확고한 신념을 성토한다. 감독 이경순과 최하동하는 이 작품을 위해 3년간 백여 명을 인터뷰했다고 한다. 2001 올해의 독립영화상 수상.\n",
            " 민족과 국가란 공동체에서 부단히 권력과 부를 얻는 자, 나아가 민족과 국가란 공동체에서 얻은 신분과 부귀를 영원히 그의 자손에게 대물림하려는 자, 그래서 민족과 국가란 공동체를 부단히 유지해야만 하는 자, 따라서 민족과 국가란 공동체의 당위성과 개인의 가치를 초월하는 그 존엄성을 끝도 없이 창조하고 되뇌어야 하는 자, 종국에는 민족과 국가란 공동체에 속해 있다고 태내에서부터 세뇌된 모든 이들의 삶과 행동에서 영원히 자기복제되는 순환의 고리, 영생하는 애국의 원동력은 그 순환의 골에서 온다.\n",
            "엽기적인 살인사건이 발생한 장소를 관광하는 투어팀. 그 팀에서 관광객들은 살인사건과 관련하여 히스테리컬한 반응을 보이는데 과연 이들의 정체는? (Tourists see whrer a murder take place. They respond hysterically to the murder…what are they?)\n",
            " 제46회 발라돌리드 국제영화제 (2001, 스페인)\n",
            "착하지만 엉뚱한 태희(배두나 분), 예쁜 깍쟁이 혜주(이요원 분), 그림을 잘 그리는 지영(옥지영 분), 명랑한 쌍둥이 비류(이은실 분)와 온조(이은주 분)는 단짝친구들. 늘 함께였던 그들이지만 스무 살이 되면서 길이 달라진다. 증권회사에 입사한 혜주는 성공한 커리어우먼의 야심을 키우고 미술에 재능이 있는 지영은 유학을 꿈꾼다. 한편 태희는 봉사활동에서 알게 된 뇌성마비 시인을 좋아하는데...\n",
            "  어느 날 지영이 길 잃은 새끼 고양이 티티를 만남면서 스무 살 그녀들의 삶에 고양이 한 마리가 끼어들게 된다. 혼자 있길 좋아하고, 쉽게 마음을 열지 않는 신비로운 동물 고양이. 고양이를 닮은 스무 살 그녀들. 고양이 티티와 함께 한 시간동안 삶은 예상못한 방향으로 흘러가지만 마침내 그녀들만의 해결책을 찾게 되는데... 사랑스런 몽상가 태희, 아름다운 야심가 혜주, 신비로운 아웃사이더 지영. 마지막으로 고양이를 부탁받은 사람은 누구일까?\n",
            "인도 등 아시아 식민지에 처음 발을 디딘 뒤 여행하고 “경영”한 이들은 과연 누구였을까? 과거의 이미지들은, 이민과 인종 문제, ‘오리엔탈리즘’이 격렬히 충돌하고 있는 현재와 강력하게 공명한다.\n",
            " [제19회 인디다큐페스티발]\n",
            "홀로 살아가는 미국 할머니와 한국 할머니의 이야기. 공원에서 가끔 마주치게 되는 그들은 비록 언어 소통의 어려움을 겪지만 시간이 흘러감에 따라 서로 가까워져 그들의 외로움과 우정을 공유하게 된다. 겨울이 지나고 봄이 왔을 때 길가의 민들레 홀씨는 삶의 이치를 말해주듯 한 할머니의 주위를 맴돈다. (Two elderly widows, an American and a Korean, frequent the same park in Philadelphia and attempt a friendship, though the Korean widow speaks no English. Driven by loneliness and a spark of hope, they persevere within the limits of body language, and the outcome poses a question of life as fundamental as a flower.)\n"
          ]
        }
      ]
    },
    {
      "cell_type": "code",
      "source": [
        "! pip install konlpy"
      ],
      "metadata": {
        "colab": {
          "base_uri": "https://localhost:8080/"
        },
        "id": "rflHEJfpSPe2",
        "outputId": "1a170563-6b6f-4802-81fd-62e236a1849d"
      },
      "execution_count": 27,
      "outputs": [
        {
          "output_type": "stream",
          "name": "stdout",
          "text": [
            "Looking in indexes: https://pypi.org/simple, https://us-python.pkg.dev/colab-wheels/public/simple/\n",
            "Requirement already satisfied: konlpy in /usr/local/lib/python3.7/dist-packages (0.6.0)\n",
            "Requirement already satisfied: numpy>=1.6 in /usr/local/lib/python3.7/dist-packages (from konlpy) (1.21.6)\n",
            "Requirement already satisfied: lxml>=4.1.0 in /usr/local/lib/python3.7/dist-packages (from konlpy) (4.9.1)\n",
            "Requirement already satisfied: JPype1>=0.7.0 in /usr/local/lib/python3.7/dist-packages (from konlpy) (1.4.0)\n",
            "Requirement already satisfied: typing-extensions in /usr/local/lib/python3.7/dist-packages (from JPype1>=0.7.0->konlpy) (4.1.1)\n"
          ]
        }
      ]
    },
    {
      "cell_type": "markdown",
      "source": [
        "* synopsis.txt 파일을 읽어 품사가 명사인 경우만 남겨 tokenized라는 변수명으로 저장"
      ],
      "metadata": {
        "id": "fw-jRdOeSpzE"
      }
    },
    {
      "cell_type": "code",
      "source": [
        "# 약 15분정도 걸립니다.\n",
        "from konlpy.tag import Okt\n",
        "okt = Okt()\n",
        "tokenized = []\n",
        "with open('/content/drive/MyDrive/Aiffel_data/NLP/[NLP-06]/synopsis.txt', 'r') as file:\n",
        "    while True:\n",
        "        line = file.readline()\n",
        "        if not line: break\n",
        "        words = okt.pos(line, stem=True, norm=True)\n",
        "        res = []\n",
        "        for w in words:\n",
        "            if w[1] in [\"Noun\"]:      # \"Adjective\", \"Verb\" 등을 포함할 수도 있습니다.\n",
        "                res.append(w[0])    # 명사일 때만 tokenized 에 저장하게 됩니다. \n",
        "        tokenized.append(res)\n"
      ],
      "metadata": {
        "id": "1tELL_vASUXf"
      },
      "execution_count": 28,
      "outputs": []
    },
    {
      "cell_type": "code",
      "source": [
        "print(len(tokenized))"
      ],
      "metadata": {
        "colab": {
          "base_uri": "https://localhost:8080/"
        },
        "id": "4CinMPINS2Co",
        "outputId": "686e0e67-fdcf-4c48-acff-3716955aa9cb"
      },
      "execution_count": 29,
      "outputs": [
        {
          "output_type": "stream",
          "name": "stdout",
          "text": [
            "71156\n"
          ]
        }
      ]
    },
    {
      "cell_type": "markdown",
      "source": [
        "### 2)추출된 결과로 embedding model 만들기\n"
      ],
      "metadata": {
        "id": "ZcxtVbGw77k3"
      }
    },
    {
      "cell_type": "code",
      "source": [
        "from gensim.models import Word2Vec\n",
        "\n",
        "# # tokenized에 담긴 데이터를 가지고 나만의 Word2Vec을 생성합니다. (Gensim 4.0 기준)\n",
        "# model = Word2Vec(tokenized, vector_size=100, window=5, min_count=3, sg=0)  \n",
        "# model.wv.most_similar(positive=['영화'])\n",
        "\n",
        "#Gensim 3.X 에서는 아래와 같이 생성합니다. \n",
        "model = Word2Vec(tokenized, size=100, window=5, min_count=3, sg=0)  \n",
        "model.most_similar(positive=['영화'])"
      ],
      "metadata": {
        "colab": {
          "base_uri": "https://localhost:8080/"
        },
        "id": "MicJWC-sjnAk",
        "outputId": "e6bfcfe1-3b70-4a90-fe8f-2d236c6e8c24"
      },
      "execution_count": 30,
      "outputs": [
        {
          "output_type": "stream",
          "name": "stderr",
          "text": [
            "/usr/local/lib/python3.7/dist-packages/ipykernel_launcher.py:9: DeprecationWarning: Call to deprecated `most_similar` (Method will be removed in 4.0.0, use self.wv.most_similar() instead).\n",
            "  if __name__ == '__main__':\n"
          ]
        },
        {
          "output_type": "execute_result",
          "data": {
            "text/plain": [
              "[('작품', 0.9050992727279663),\n",
              " ('다큐멘터리', 0.8610601425170898),\n",
              " ('드라마', 0.8486083149909973),\n",
              " ('영화로', 0.8236349821090698),\n",
              " ('형식', 0.8041989207267761),\n",
              " ('주제', 0.7960684299468994),\n",
              " ('소재', 0.7954033613204956),\n",
              " ('감동', 0.7945296764373779),\n",
              " ('인터뷰', 0.7880477905273438),\n",
              " ('스토리', 0.7850427031517029)]"
            ]
          },
          "metadata": {},
          "execution_count": 30
        }
      ]
    },
    {
      "cell_type": "code",
      "source": [
        "model.wv.most_similar(positive=['사랑'])"
      ],
      "metadata": {
        "colab": {
          "base_uri": "https://localhost:8080/"
        },
        "id": "KBTrhQmLjpu5",
        "outputId": "270206af-d25f-400a-ce14-42e1f11da3d2"
      },
      "execution_count": 31,
      "outputs": [
        {
          "output_type": "execute_result",
          "data": {
            "text/plain": [
              "[('아르튬', 0.7427302598953247),\n",
              " ('토마슈', 0.7342130541801453),\n",
              " ('행복', 0.7226794958114624),\n",
              " ('애정', 0.7197285890579224),\n",
              " ('진심', 0.715571939945221),\n",
              " ('첫사랑', 0.712449312210083),\n",
              " ('만남', 0.7053862810134888),\n",
              " ('이별', 0.6990417242050171),\n",
              " ('감정', 0.692650318145752),\n",
              " ('연애', 0.6923021674156189)]"
            ]
          },
          "metadata": {},
          "execution_count": 31
        }
      ]
    },
    {
      "cell_type": "code",
      "source": [
        "model.wv.most_similar(positive=['연극'])"
      ],
      "metadata": {
        "colab": {
          "base_uri": "https://localhost:8080/"
        },
        "id": "Rrzr4kT1j1e5",
        "outputId": "906764a7-f4d3-4800-9685-662bab11065f"
      },
      "execution_count": 32,
      "outputs": [
        {
          "output_type": "execute_result",
          "data": {
            "text/plain": [
              "[('시나리오', 0.9229780435562134),\n",
              " ('영화감독', 0.9167815446853638),\n",
              " ('배우', 0.890358567237854),\n",
              " ('영감', 0.8899682760238647),\n",
              " ('연기', 0.8875963687896729),\n",
              " ('각색', 0.8728017807006836),\n",
              " ('출연', 0.871963620185852),\n",
              " ('캐스팅', 0.8706974983215332),\n",
              " ('소설', 0.8681545257568359),\n",
              " ('데뷔', 0.8676252365112305)]"
            ]
          },
          "metadata": {},
          "execution_count": 32
        }
      ]
    },
    {
      "cell_type": "markdown",
      "source": [
        "### 3) TF-IDF로 해당 데이터를 가장 잘 표현하는 단어 셋 만들기"
      ],
      "metadata": {
        "id": "B2YTPo3mj8s7"
      }
    },
    {
      "cell_type": "markdown",
      "source": [
        "> 두 축을 영화 장르, 영화 구분 정보를 이용\n",
        "\n",
        "\n",
        "* 영화 구분\n",
        "\n",
        "synopsis_art.txt : 예술영화\n",
        "\n",
        "synopsis_gen.txt : 일반영화(상업영화)\n",
        "그 외는 독립영화 등으로 분류됩니다.\n",
        "\n",
        "\n",
        "* 장르 구분\n",
        "\n",
        "synopsis_SF.txt: SF\n",
        "\n",
        "synopsis_가족.txt: 가족\n",
        "\n",
        "synopsis_공연.txt: 공연\n",
        "\n",
        "synopsis_공포(호러).txt: 공포(호러)\n",
        "\n",
        "synopsis_기타.txt: 기타\n",
        "\n",
        "synopsis_다큐멘터리.txt: 다큐멘터리\n",
        "\n",
        "synopsis_드라마.txt: 드라마\n",
        "..."
      ],
      "metadata": {
        "id": "krOHc6byor8f"
      }
    },
    {
      "cell_type": "markdown",
      "source": [
        "예술영화와 일반영화(상업영화): 영화구분 = target\n",
        "\n",
        "드라마 장르와 액션 장르..: 장르구분 = attribute\n",
        "\n",
        ">드라마 장르에는 예술영화적 성격이 강하고, 액션 장르에는 일반(상업)영화적 성격이 강할 것이라는 편향성이 워드 임베딩 상에 얼마나 나타나고 있는지를 측정"
      ],
      "metadata": {
        "id": "9chAgH1DpWqW"
      }
    },
    {
      "cell_type": "code",
      "source": [
        "import os\n",
        "from sklearn.feature_extraction.text import TfidfVectorizer\n",
        "import numpy as np\n",
        "from konlpy.tag import Okt\n",
        "\n",
        "art_txt = 'synopsis_art.txt'\n",
        "gen_txt = 'synopsis_gen.txt'\n",
        "\n",
        "def read_token(file_name):\n",
        "    okt = Okt()\n",
        "    result = []\n",
        "    with open('/content/drive/MyDrive/Aiffel_data/NLP/[NLP-06]/'+file_name, 'r') as fread: \n",
        "        print(file_name, '파일을 읽고 있습니다.')\n",
        "        while True:\n",
        "            line = fread.readline() \n",
        "            if not line: break \n",
        "            tokenlist = okt.pos(line, stem=True, norm=True) \n",
        "            for word in tokenlist:\n",
        "                if word[1] in [\"Noun\"]:#, \"Adjective\", \"Verb\"]:\n",
        "                    result.append((word[0])) \n",
        "    return ' '.join(result)\n",
        "\n",
        "print(\"슝~\")"
      ],
      "metadata": {
        "colab": {
          "base_uri": "https://localhost:8080/"
        },
        "id": "JwrpLT3lmbhs",
        "outputId": "9eb30324-08b0-4433-e032-eb386db53316"
      },
      "execution_count": 33,
      "outputs": [
        {
          "output_type": "stream",
          "name": "stdout",
          "text": [
            "슝~\n"
          ]
        }
      ]
    },
    {
      "cell_type": "markdown",
      "source": [
        "'synopsis_art.txt', 'synopsis_gen.txt' 두 파일을 읽고, 위에서 했던 것과 마찬가지로 명사에 대해서만 추출하여 art, gen 변수에 할당"
      ],
      "metadata": {
        "id": "0YPsqpKxpMgF"
      }
    },
    {
      "cell_type": "code",
      "source": [
        "# 2개의 파일을 처리하는데 20분 가량 걸립니다. \n",
        "art = read_token(art_txt)\n",
        "gen = read_token(gen_txt)"
      ],
      "metadata": {
        "colab": {
          "base_uri": "https://localhost:8080/"
        },
        "id": "hfA2JMBRkA9K",
        "outputId": "a76b00bc-2fa1-49a1-d851-90cc61e69dfc"
      },
      "execution_count": 34,
      "outputs": [
        {
          "output_type": "stream",
          "name": "stdout",
          "text": [
            "synopsis_art.txt 파일을 읽고 있습니다.\n",
            "synopsis_gen.txt 파일을 읽고 있습니다.\n"
          ]
        }
      ]
    },
    {
      "cell_type": "markdown",
      "source": [
        "* 단어 셋 구성: TF-IDF방식 사용 \n",
        "\n",
        ">예술영화를 잘 대표하는 단어란 예술영화 시놉시스에는 자주 나타나지만 그 외 다른 구분의 영화(예를 들어 일반영화) 시놉시스에는 자주 나타나지 않는 것"
      ],
      "metadata": {
        "id": "rXixSOfUqFJ3"
      }
    },
    {
      "cell_type": "code",
      "source": [
        "vectorizer = TfidfVectorizer()\n",
        "X = vectorizer.fit_transform([art, gen])\n",
        "\n",
        "print(X.shape)"
      ],
      "metadata": {
        "colab": {
          "base_uri": "https://localhost:8080/"
        },
        "id": "pvBURBhMlrv4",
        "outputId": "f2e966e3-df45-4b52-f3ec-2ee20e3596f6"
      },
      "execution_count": 35,
      "outputs": [
        {
          "output_type": "stream",
          "name": "stdout",
          "text": [
            "(2, 41082)\n"
          ]
        }
      ]
    },
    {
      "cell_type": "code",
      "source": [
        "print(vectorizer.vocabulary_['영화'])\n",
        "print(vectorizer.get_feature_names()[23976])"
      ],
      "metadata": {
        "colab": {
          "base_uri": "https://localhost:8080/"
        },
        "id": "aN11dV0AqbzE",
        "outputId": "3cefd4cd-d3ab-4206-fbff-77eed1dcd88f"
      },
      "execution_count": 36,
      "outputs": [
        {
          "output_type": "stream",
          "name": "stdout",
          "text": [
            "23976\n",
            "영화\n"
          ]
        },
        {
          "output_type": "stream",
          "name": "stderr",
          "text": [
            "/usr/local/lib/python3.7/dist-packages/sklearn/utils/deprecation.py:87: FutureWarning: Function get_feature_names is deprecated; get_feature_names is deprecated in 1.0 and will be removed in 1.2. Please use get_feature_names_out instead.\n",
            "  warnings.warn(msg, category=FutureWarning)\n"
          ]
        }
      ]
    },
    {
      "cell_type": "code",
      "source": [
        "m1 = X[0].tocoo()   # art를 TF-IDF로 표현한 sparse matrix를 가져옵니다. \n",
        "m2 = X[1].tocoo()   # gen을 TF-IDF로 표현한 sparse matrix를 가져옵니다. \n",
        "\n",
        "w1 = [[i, j] for i, j in zip(m1.col, m1.data)]\n",
        "w2 = [[i, j] for i, j in zip(m2.col, m2.data)]\n",
        "\n",
        "w1.sort(key=lambda x: x[1], reverse=True)   #art를 구성하는 단어들을 TF-IDF가 높은 순으로 정렬합니다. \n",
        "w2.sort(key=lambda x: x[1], reverse=True)   #gen을 구성하는 단어들을 TF-IDF가 높은 순으로 정렬합니다. \n",
        "\n",
        "print('예술영화를 대표하는 단어들:')\n",
        "for i in range(100):\n",
        "    print(vectorizer.get_feature_names()[w1[i][0]], end=', ')\n",
        "\n",
        "print('\\n')\n",
        "    \n",
        "print('일반영화를 대표하는 단어들:')\n",
        "for i in range(100):\n",
        "    print(vectorizer.get_feature_names()[w2[i][0]], end=', ')"
      ],
      "metadata": {
        "colab": {
          "base_uri": "https://localhost:8080/"
        },
        "id": "7zsl6DMCqjYt",
        "outputId": "1b3709ae-61b4-454b-cb87-dc7ce9035c81"
      },
      "execution_count": 37,
      "outputs": [
        {
          "output_type": "stream",
          "name": "stdout",
          "text": [
            "예술영화를 대표하는 단어들:\n",
            "그녀, 자신, 시작, 위해, 사랑, 사람, 영화, 친구, 남자, 가족, 이야기, 마을, 사건, 마음, 세상, 아버지, 아이, 엄마, 모든, 여자, 대한, 서로, 과연, 다시, 시간, 아들, 소녀, 아내, 다른, 사이, 영화제, 세계, 사실, 하나, 점점, 남편, 감독, 여행, 인생, 발견, 모두, 순간, 우리, 가장, 마지막, 생활, 아빠, 모습, 통해, 죽음, 기억, 비밀, 학교, 음악, 한편, 소년, 생각, 도시, 명의, 사고, 결혼, 전쟁, 때문, 위기, 이제, 최고, 이자, 과거, 일상, 경찰, 상황, 간다, 미국, 결심, 운명, 현실, 관계, 지금, 단편, 여인, 하루, 이름, 이후, 준비, 인간, 감정, 만난, 국제, 처음, 충격, 살인, 누구, 동안, 존재, 그린, 어머니, 연인, 계속, 동생, 작품, \n",
            "\n",
            "일반영화를 대표하는 단어들:\n",
            "자신, 그녀, 영화제, 위해, 사람, 시작, 국제, 영화, 친구, 사랑, 남자, 이야기, 대한, 서울, 여자, 사건, 남편, 아이, 가족, 아버지, 다른, 마을, 시간, 엄마, 아들, 모든, 단편, 마음, 사실, 다시, 세계, 모습, 작품, 통해, 생각, 서로, 세상, 발견, 감독, 아내, 관계, 소녀, 사이, 하나, 우리, 애니메이션, 때문, 여성, 죽음, 과연, 점점, 인간, 생활, 한편, 결혼, 상황, 모두, 기억, 명의, 소년, 여행, 가장, 간다, 순간, 이제, 도시, 비밀, 학교, 과거, 가지, 이자, 경찰, 마지막, 미국, 동안, 전쟁, 주인공, 대해, 존재, 현실, 연출, 사고, 살인, 일상, 어머니, 계속, 사회, 인생, 다큐멘터리, 부문, 섹스, 최고, 바로, 동생, 의도, 하루, 위기, 계획, 정체, 한국, "
          ]
        }
      ]
    },
    {
      "cell_type": "markdown",
      "source": [
        "💡  두 개념을 대표하는 단어를 TF-IDF가 높은 순으로 추출하고 싶었는데, 양쪽에 중복된 단어가 너무 많음."
      ],
      "metadata": {
        "id": "jucweSglrspu"
      }
    },
    {
      "cell_type": "markdown",
      "source": [
        "* 두 개념축이 대조되도록 대표하는 단어 셋을 만들고 싶기 때문에 단어가 서로 중복되지 않게 단어셋을 추출\n",
        "\n",
        ": 우선 상위 100개의 단어들 중 중복되는 단어를 제외하고 상위 n(=15)개의 단어를 추출"
      ],
      "metadata": {
        "id": "iSWZccvGr6P6"
      }
    },
    {
      "cell_type": "code",
      "source": [
        "n = 15\n",
        "w1_, w2_ = [], []\n",
        "for i in range(100):\n",
        "    w1_.append(vectorizer.get_feature_names()[w1[i][0]])\n",
        "    w2_.append(vectorizer.get_feature_names()[w2[i][0]])\n",
        "\n",
        "# w1에만 있고 w2에는 없는, 예술영화를 잘 대표하는 단어를 15개 추출한다.\n",
        "target_art, target_gen = [], []\n",
        "for i in range(100):\n",
        "    if (w1_[i] not in w2_) and (w1_[i] in model.wv): target_art.append(w1_[i])\n",
        "    if len(target_art) == n: break \n",
        "\n",
        "# w2에만 있고 w1에는 없는, 일반영화를 잘 대표하는 단어를 15개 추출한다.\n",
        "for i in range(100):\n",
        "    if (w2_[i] not in w1_) and (w2_[i] in model.wv): target_gen.append(w2_[i])\n",
        "    if len(target_gen) == n: break"
      ],
      "metadata": {
        "id": "1pNBA0NtqtwV"
      },
      "execution_count": 38,
      "outputs": []
    },
    {
      "cell_type": "code",
      "source": [
        "print(target_art)"
      ],
      "metadata": {
        "colab": {
          "base_uri": "https://localhost:8080/"
        },
        "id": "5KoYWP8VrhnN",
        "outputId": "211f6940-93c5-4179-f172-2c73db0180a2"
      },
      "execution_count": 39,
      "outputs": [
        {
          "output_type": "stream",
          "name": "stdout",
          "text": [
            "['아빠', '음악', '결심', '운명', '지금', '여인', '이름', '이후', '준비', '감정', '만난', '처음', '충격', '누구', '그린']\n"
          ]
        }
      ]
    },
    {
      "cell_type": "code",
      "source": [
        "print(target_gen)"
      ],
      "metadata": {
        "colab": {
          "base_uri": "https://localhost:8080/"
        },
        "id": "3Nq6E3GTsC7J",
        "outputId": "719d9720-6c5f-4465-d376-f4d73ef6b660"
      },
      "execution_count": 40,
      "outputs": [
        {
          "output_type": "stream",
          "name": "stdout",
          "text": [
            "['서울', '애니메이션', '여성', '가지', '주인공', '대해', '연출', '사회', '다큐멘터리', '부문', '섹스', '바로', '의도', '계획', '정체']\n"
          ]
        }
      ]
    },
    {
      "cell_type": "markdown",
      "source": [
        ">  장르별 대표 단어 추출"
      ],
      "metadata": {
        "id": "Be8OV6GKsNCo"
      }
    },
    {
      "cell_type": "code",
      "source": [
        "genre_txt = ['synopsis_drama.txt', 'synopsis_romance.txt', 'synopsis_action.txt', 'synopsis_comedy.txt', 'synopsis_war.txt', 'synopsis_horror.txt']\n",
        "genre_name = ['드라마', '멜로로맨스', '액션', '코미디', '전쟁', '공포(호러)']\n",
        "\n",
        "print(\"슝~\")"
      ],
      "metadata": {
        "colab": {
          "base_uri": "https://localhost:8080/"
        },
        "id": "fjoGZnMzsHUG",
        "outputId": "cf707b35-39e4-40fc-964a-6a385e7b24f5"
      },
      "execution_count": 41,
      "outputs": [
        {
          "output_type": "stream",
          "name": "stdout",
          "text": [
            "슝~\n"
          ]
        }
      ]
    },
    {
      "cell_type": "code",
      "source": [
        "# 약 10분정도 걸립니다.\n",
        "genre = []\n",
        "for file_name in genre_txt:\n",
        "    genre.append(read_token(file_name))"
      ],
      "metadata": {
        "colab": {
          "base_uri": "https://localhost:8080/"
        },
        "id": "eemTPif8sRL5",
        "outputId": "83fc851f-5270-4725-8bca-d7bb3362b1d2"
      },
      "execution_count": 42,
      "outputs": [
        {
          "output_type": "stream",
          "name": "stdout",
          "text": [
            "synopsis_drama.txt 파일을 읽고 있습니다.\n",
            "synopsis_romance.txt 파일을 읽고 있습니다.\n",
            "synopsis_action.txt 파일을 읽고 있습니다.\n",
            "synopsis_comedy.txt 파일을 읽고 있습니다.\n",
            "synopsis_war.txt 파일을 읽고 있습니다.\n",
            "synopsis_horror.txt 파일을 읽고 있습니다.\n"
          ]
        }
      ]
    },
    {
      "cell_type": "code",
      "source": [
        "vectorizer = TfidfVectorizer()\n",
        "X = vectorizer.fit_transform(genre)\n",
        "\n",
        "print(X.shape)"
      ],
      "metadata": {
        "colab": {
          "base_uri": "https://localhost:8080/"
        },
        "id": "I0ie7WiHsUJA",
        "outputId": "f1de7432-f73c-455a-dc0a-3da0dfb161ef"
      },
      "execution_count": 43,
      "outputs": [
        {
          "output_type": "stream",
          "name": "stdout",
          "text": [
            "(6, 33151)\n"
          ]
        }
      ]
    },
    {
      "cell_type": "code",
      "source": [
        "m = [X[i].tocoo() for i in range(X.shape[0])]\n",
        "\n",
        "w = [[[i, j] for i, j in zip(mm.col, mm.data)] for mm in m]\n",
        "\n",
        "for i in range(len(w)):\n",
        "    w[i].sort(key=lambda x: x[1], reverse=True)\n",
        "attributes = []\n",
        "for i in range(len(w)):\n",
        "    print(genre_name[i], end=': ')\n",
        "    attr = []\n",
        "    j = 0\n",
        "    while (len(attr) < 15):\n",
        "        if vectorizer.get_feature_names()[w[i][j][0]] in model.wv:\n",
        "            attr.append(vectorizer.get_feature_names()[w[i][j][0]])\n",
        "            print(vectorizer.get_feature_names()[w[i][j][0]], end=', ')\n",
        "        j += 1\n",
        "    attributes.append(attr)\n",
        "    print()"
      ],
      "metadata": {
        "colab": {
          "base_uri": "https://localhost:8080/"
        },
        "id": "dXHeXt7ctBMw",
        "outputId": "59947511-1d82-4065-c131-4ee23ec3ec94"
      },
      "execution_count": 44,
      "outputs": [
        {
          "output_type": "stream",
          "name": "stdout",
          "text": [
            "드라마: 자신, 영화제, 그녀, 사람, 사랑, 위해, 영화, 시작, 국제, 남자, 친구, 이야기, 여자, 아버지, 엄마, \n",
            "멜로로맨스: 그녀, 사랑, 자신, 시작, 남자, 남편, 여자, 사람, 친구, 위해, 마음, 섹스, 결혼, 서로, 아내, \n",
            "액션: 위해, 자신, 시작, 조직, 사건, 사람, 그녀, 경찰, 전쟁, 친구, 모든, 목숨, 사실, 세계, 가족, \n",
            "코미디: 그녀, 자신, 시작, 위해, 사랑, 사람, 친구, 영화, 남자, 여자, 영화제, 가족, 과연, 마을, 사건, \n",
            "전쟁: 전쟁, 위해, 전투, 시작, 작전, 독일군, 부대, 독일, 윈터스, 자신, 사람, 공격, 임무, 연합군, 병사, \n",
            "공포(호러): 시작, 위해, 사람, 자신, 친구, 그녀, 사건, 공포, 발견, 죽음, 마을, 남자, 가족, 영화, 하나, \n"
          ]
        }
      ]
    },
    {
      "cell_type": "markdown",
      "source": [
        "### 4)embedding model과 단어 셋으로 WEAT score 구해보기"
      ],
      "metadata": {
        "id": "lVTq-KHKsoA6"
      }
    },
    {
      "cell_type": "code",
      "source": [
        "matrix = [[0 for _ in range(len(genre_name))] for _ in range(len(genre_name))]\n",
        "print(\"슝~\")"
      ],
      "metadata": {
        "colab": {
          "base_uri": "https://localhost:8080/"
        },
        "id": "u-sDaEwNspde",
        "outputId": "64916227-b538-4945-d468-c215cdad4c5c"
      },
      "execution_count": 45,
      "outputs": [
        {
          "output_type": "stream",
          "name": "stdout",
          "text": [
            "슝~\n"
          ]
        }
      ]
    },
    {
      "cell_type": "code",
      "source": [
        "X = np.array([model.wv[word] for word in target_art])\n",
        "Y = np.array([model.wv[word] for word in target_gen])\n",
        "\n",
        "for i in range(len(genre_name)-1):\n",
        "    for j in range(i+1, len(genre_name)):\n",
        "        A = np.array([model.wv[word] for word in attributes[i]])\n",
        "        B = np.array([model.wv[word] for word in attributes[j]])\n",
        "        matrix[i][j] = weat_score(X, Y, A, B)\n",
        "\n",
        "print(\"슝~\")"
      ],
      "metadata": {
        "colab": {
          "base_uri": "https://localhost:8080/"
        },
        "id": "ZCaZZv9Cs2M1",
        "outputId": "bdee9209-ef9f-4a7f-fb6c-49fbf1765590"
      },
      "execution_count": 46,
      "outputs": [
        {
          "output_type": "stream",
          "name": "stdout",
          "text": [
            "슝~\n"
          ]
        }
      ]
    },
    {
      "cell_type": "code",
      "source": [
        "for i in range(len(genre_name)-1):\n",
        "    for j in range(i+1, len(genre_name)):\n",
        "        print(genre_name[i], genre_name[j],matrix[i][j])"
      ],
      "metadata": {
        "colab": {
          "base_uri": "https://localhost:8080/"
        },
        "id": "QuMxc5CVs3SH",
        "outputId": "1480e6fc-8adb-4b0f-9fec-6aca0414a88e"
      },
      "execution_count": 47,
      "outputs": [
        {
          "output_type": "stream",
          "name": "stdout",
          "text": [
            "드라마 멜로로맨스 -0.83608216\n",
            "드라마 액션 0.0075206645\n",
            "드라마 코미디 -0.032574225\n",
            "드라마 전쟁 0.45487309\n",
            "드라마 공포(호러) -0.18365823\n",
            "멜로로맨스 액션 0.7949071\n",
            "멜로로맨스 코미디 0.89725155\n",
            "멜로로맨스 전쟁 0.81393397\n",
            "멜로로맨스 공포(호러) 0.7600096\n",
            "액션 코미디 -0.025714833\n",
            "액션 전쟁 0.5782188\n",
            "액션 공포(호러) -0.30242944\n",
            "코미디 전쟁 0.5234233\n",
            "코미디 공포(호러) -0.27278328\n",
            "전쟁 공포(호러) -0.5811541\n"
          ]
        }
      ]
    },
    {
      "cell_type": "code",
      "source": [
        "import numpy as np; \n",
        "import seaborn as sns; \n",
        "\n",
        "np.random.seed(0)\n",
        "\n",
        "# 한글 지원 폰트\n",
        "sns.set(font='NanumGothic')\n",
        "\n",
        "# 마이너스 부호 \n",
        "\n",
        "plt.rcParams['axes.unicode_minus'] = False\n",
        "\n",
        "ax = sns.heatmap(matrix, xticklabels=genre_name, yticklabels=genre_name, annot=True,  cmap='RdYlGn_r')\n",
        "ax"
      ],
      "metadata": {
        "colab": {
          "base_uri": "https://localhost:8080/",
          "height": 287
        },
        "id": "U2UD4xvws79m",
        "outputId": "535ead6d-933f-4c25-9ec3-8d17a0e2ff1e"
      },
      "execution_count": 48,
      "outputs": [
        {
          "output_type": "execute_result",
          "data": {
            "text/plain": [
              "<matplotlib.axes._subplots.AxesSubplot at 0x7fe6f0d7e750>"
            ]
          },
          "metadata": {},
          "execution_count": 48
        },
        {
          "output_type": "display_data",
          "data": {
            "text/plain": [
              "<Figure size 432x288 with 2 Axes>"
            ],
            "image/png": "[encoded data removed]"
          },
          "metadata": {}
        }
      ]
    },
    {
      "cell_type": "markdown",
      "source": [
        "* WEAT score가 0.8 이상, -0.8 이하의 경우 해석\n",
        "\n",
        ">예술영화와 일반영화, 그리고 드라마와 멜로로맨스의 WEAT score의 의미를 해석:  예술영화는 멜로로맨스, 일반영화는 드라마와 가깝다고 볼 수 있다. 부호가 마이너스이므로 사람의 편향과 반대라는 것을 알 수 있다.\n",
        "\n",
        ">예술영화와 일반영화, 그리고 멜로로맨스와 코미디의 WEAT score의 의미를 해석: 예술 영화는 멜로로맨스와 가깝고, 코디미는 일반 영화와 가깝다고 볼 수 있다.\n",
        "\n",
        ">예술영화와 일반영화, 그리고 멜로로맨스와 전쟁의 WEAT score의 의미를 해석: 예술 영화는 멜로로맨스와 가깝고, 전쟁은 일반 영화와 가깝다고 볼 수 있다."
      ],
      "metadata": {
        "id": "vTKinoYlR6Lu"
      }
    },
    {
      "cell_type": "markdown",
      "source": [
        "# 프로젝트 : 모든 장르 간 편향성 측정해 보기\n",
        "\n",
        "* STEP 1. 형태소 분석기를 이용하여 품사가 명사인 경우 해당 단어를 추출하기\n",
        "* STEP 2. 추출된 결과로 embedding model 만들기\n",
        "* STEP 3. target, attribute 단어 셋 만들기\n",
        "* STEP 4. WEAT score 계산과 시각화"
      ],
      "metadata": {
        "id": "gnD5F0UicS_B"
      }
    },
    {
      "cell_type": "code",
      "source": [
        "import konlpy\n",
        "import gensim\n",
        "import sklearn\n",
        "import seaborn\n",
        "\n",
        "print(konlpy.__version__)\n",
        "print(gensim.__version__)\n",
        "print(sklearn.__version__)\n",
        "print(seaborn.__version__)"
      ],
      "metadata": {
        "colab": {
          "base_uri": "https://localhost:8080/"
        },
        "id": "IQdus3iPjK9G",
        "outputId": "5e9b26a7-2512-40e6-dda4-0572ddb0ff9d"
      },
      "execution_count": 49,
      "outputs": [
        {
          "output_type": "stream",
          "name": "stdout",
          "text": [
            "0.6.0\n",
            "3.6.0\n",
            "1.0.2\n",
            "0.11.2\n"
          ]
        }
      ]
    },
    {
      "cell_type": "markdown",
      "source": [
        "## STEP 1. 형태소 분석기 : 품사가 명사인 단어를 추출하기\n"
      ],
      "metadata": {
        "id": "KUqOuHhqctX5"
      }
    },
    {
      "cell_type": "code",
      "source": [
        "with open('/content/drive/MyDrive/Aiffel_data/NLP/[NLP-06]/synopsis.txt', 'r') as file:\n",
        "    for i in range(20):\n",
        "        print(file.readline(), end='')"
      ],
      "metadata": {
        "colab": {
          "base_uri": "https://localhost:8080/"
        },
        "id": "QCwsyavhjn_w",
        "outputId": "c61d5b70-442e-4ef0-d30c-e6cb5fe83fbc"
      },
      "execution_count": 50,
      "outputs": [
        {
          "output_type": "stream",
          "name": "stdout",
          "text": [
            "사운드 엔지니어 상우(유지태 분)는 치매에 걸린 할머니(백성희 분)와\n",
            " 젊은 시절 상처한 한 아버지(박인환 분), 고모(신신애 분)와 함께 살고 있다.\n",
            " 어느 겨울 그는 지방 방송국 라디오 PD 은수(이영애 분)를 만난다.\n",
            " 자연의 소리를 채집해 틀어주는 라디오 프로그램을 준비하는 은수는 상우와 녹음 여행을 떠난다.\n",
            " 자연스레 가까워지는 두 사람은 어느 날, 은수의 아파트에서 밤을 보낸다.\n",
            " 너무 쉽게 사랑에 빠진 두 사람... 상우는 주체할 수 없을 정도로 그녀에게 빨려든다.\n",
            " 그러나 겨울에 만난 두 사람의 관계는 봄을 지나 여름을 맞이하면서 삐걱거린다.\n",
            " 이혼 경험이 있는 은수는 상우에게 결혼할 생각이 없다며 부담스러운 표정을 내비친다.\n",
            " \"어떻게 사랑이 변하니?...\"라고 묻는 상우에게 은수는 그저 \"헤어져\" 라고 단호하게 말한다.\n",
            " 영원히 변할 것 같지 않던 사랑이 변하고, 그 사실을 받아들이지 못하는 상우는 어찌 할 바를 모른다.\n",
            " 은수를 잊지 못하는 상우는 미련과 집착의 감정을 이기지 못하고 서울과 강릉을 오간다.\n",
            "유사 이래 연령, 성별, 빈부의 차이와 정치적인 입장을 불문하고 일거에 국민을 통합해 온 '애국심'이라는 성역에 일침을 가하는 다큐멘터리. 재작년 전국 민족민주 유가족협의회의 장기농성을 다룬 인상적인 다큐멘터리 <민들레>를 만들었던 독립영화집단 '빨간 눈사람'이 우리 사회 구석구석을 발빠르게 돌아다니며 애국심과 민족주의가 강요되는 현장을 발굴하여 카메라에 담았다. 박홍 서강대 명예총장, 이도형 '한국논단' 발행인, 축구해설자 신문선, 홍세화, 박노해 등 사회 각계의 '스타'들이 등장해 저마다의 확고한 신념을 성토한다. 감독 이경순과 최하동하는 이 작품을 위해 3년간 백여 명을 인터뷰했다고 한다. 2001 올해의 독립영화상 수상.\n",
            " 민족과 국가란 공동체에서 부단히 권력과 부를 얻는 자, 나아가 민족과 국가란 공동체에서 얻은 신분과 부귀를 영원히 그의 자손에게 대물림하려는 자, 그래서 민족과 국가란 공동체를 부단히 유지해야만 하는 자, 따라서 민족과 국가란 공동체의 당위성과 개인의 가치를 초월하는 그 존엄성을 끝도 없이 창조하고 되뇌어야 하는 자, 종국에는 민족과 국가란 공동체에 속해 있다고 태내에서부터 세뇌된 모든 이들의 삶과 행동에서 영원히 자기복제되는 순환의 고리, 영생하는 애국의 원동력은 그 순환의 골에서 온다.\n",
            "엽기적인 살인사건이 발생한 장소를 관광하는 투어팀. 그 팀에서 관광객들은 살인사건과 관련하여 히스테리컬한 반응을 보이는데 과연 이들의 정체는? (Tourists see whrer a murder take place. They respond hysterically to the murder…what are they?)\n",
            " 제46회 발라돌리드 국제영화제 (2001, 스페인)\n",
            "착하지만 엉뚱한 태희(배두나 분), 예쁜 깍쟁이 혜주(이요원 분), 그림을 잘 그리는 지영(옥지영 분), 명랑한 쌍둥이 비류(이은실 분)와 온조(이은주 분)는 단짝친구들. 늘 함께였던 그들이지만 스무 살이 되면서 길이 달라진다. 증권회사에 입사한 혜주는 성공한 커리어우먼의 야심을 키우고 미술에 재능이 있는 지영은 유학을 꿈꾼다. 한편 태희는 봉사활동에서 알게 된 뇌성마비 시인을 좋아하는데...\n",
            "  어느 날 지영이 길 잃은 새끼 고양이 티티를 만남면서 스무 살 그녀들의 삶에 고양이 한 마리가 끼어들게 된다. 혼자 있길 좋아하고, 쉽게 마음을 열지 않는 신비로운 동물 고양이. 고양이를 닮은 스무 살 그녀들. 고양이 티티와 함께 한 시간동안 삶은 예상못한 방향으로 흘러가지만 마침내 그녀들만의 해결책을 찾게 되는데... 사랑스런 몽상가 태희, 아름다운 야심가 혜주, 신비로운 아웃사이더 지영. 마지막으로 고양이를 부탁받은 사람은 누구일까?\n",
            "인도 등 아시아 식민지에 처음 발을 디딘 뒤 여행하고 “경영”한 이들은 과연 누구였을까? 과거의 이미지들은, 이민과 인종 문제, ‘오리엔탈리즘’이 격렬히 충돌하고 있는 현재와 강력하게 공명한다.\n",
            " [제19회 인디다큐페스티발]\n",
            "홀로 살아가는 미국 할머니와 한국 할머니의 이야기. 공원에서 가끔 마주치게 되는 그들은 비록 언어 소통의 어려움을 겪지만 시간이 흘러감에 따라 서로 가까워져 그들의 외로움과 우정을 공유하게 된다. 겨울이 지나고 봄이 왔을 때 길가의 민들레 홀씨는 삶의 이치를 말해주듯 한 할머니의 주위를 맴돈다. (Two elderly widows, an American and a Korean, frequent the same park in Philadelphia and attempt a friendship, though the Korean widow speaks no English. Driven by loneliness and a spark of hope, they persevere within the limits of body language, and the outcome poses a question of life as fundamental as a flower.)\n"
          ]
        }
      ]
    },
    {
      "cell_type": "code",
      "source": [
        "# 약 20분정도 걸립니다.\n",
        "from konlpy.tag import Okt\n",
        "okt = Okt()\n",
        "tokenized = []\n",
        "with open('/content/drive/MyDrive/Aiffel_data/NLP/[NLP-06]/synopsis.txt', 'r') as file:\n",
        "    while True:\n",
        "        line = file.readline()\n",
        "        if not line: break\n",
        "        words = okt.pos(line, stem=True, norm=True)\n",
        "        res = []\n",
        "        for w in words:\n",
        "            if w[1] in [\"Noun\"]:      # \"Adjective\", \"Verb\" 등을 포함할 수도 있습니다.\n",
        "                res.append(w[0])    # 명사일 때만 tokenized 에 저장하게 됩니다. \n",
        "        tokenized.append(res)\n"
      ],
      "metadata": {
        "id": "5-3bMmuDjygd"
      },
      "execution_count": 51,
      "outputs": []
    },
    {
      "cell_type": "code",
      "source": [
        "print(len(tokenized))"
      ],
      "metadata": {
        "colab": {
          "base_uri": "https://localhost:8080/"
        },
        "id": "C1Xm0qY3j2K6",
        "outputId": "ffa46cb3-f0b7-4f61-d44c-319f2e91a986"
      },
      "execution_count": 52,
      "outputs": [
        {
          "output_type": "stream",
          "name": "stdout",
          "text": [
            "71156\n"
          ]
        }
      ]
    },
    {
      "cell_type": "markdown",
      "source": [
        "## STEP 2. 추출된 결과로 embedding model 만들기"
      ],
      "metadata": {
        "id": "Zmp0MErUdJiN"
      }
    },
    {
      "cell_type": "markdown",
      "source": [
        "* 코랩 gensim version : "
      ],
      "metadata": {
        "id": "IAtf_AxSj-Gy"
      }
    },
    {
      "cell_type": "markdown",
      "source": [
        "나만의 Word2Vec 훈련시키기"
      ],
      "metadata": {
        "id": "gt_P1XJrkXNe"
      }
    },
    {
      "cell_type": "code",
      "source": [
        "from gensim.models import Word2Vec\n",
        "\n",
        "# # tokenized에 담긴 데이터를 가지고 나만의 Word2Vec을 생성합니다. (Gensim 4.0 기준)\n",
        "# model = Word2Vec(tokenized, vector_size=100, window=5, min_count=3, sg=0)  \n",
        "# model.wv.most_similar(positive=['영화'])\n",
        "\n",
        "#Gensim 3.X 에서는 아래와 같이 생성합니다. \n",
        "model = Word2Vec(tokenized, size=100, window=5, min_count=3, sg=0)  "
      ],
      "metadata": {
        "id": "dt1aZqoSj7-y"
      },
      "execution_count": 53,
      "outputs": []
    },
    {
      "cell_type": "code",
      "source": [
        "model.most_similar(positive=['영화'])"
      ],
      "metadata": {
        "colab": {
          "base_uri": "https://localhost:8080/"
        },
        "id": "Ae5_AuTekLJl",
        "outputId": "04f09041-f00b-44b4-fdbb-1ae4f4c76174"
      },
      "execution_count": 54,
      "outputs": [
        {
          "output_type": "stream",
          "name": "stderr",
          "text": [
            "/usr/local/lib/python3.7/dist-packages/ipykernel_launcher.py:1: DeprecationWarning: Call to deprecated `most_similar` (Method will be removed in 4.0.0, use self.wv.most_similar() instead).\n",
            "  \"\"\"Entry point for launching an IPython kernel.\n"
          ]
        },
        {
          "output_type": "execute_result",
          "data": {
            "text/plain": [
              "[('작품', 0.898627758026123),\n",
              " ('다큐멘터리', 0.8480502367019653),\n",
              " ('드라마', 0.8271992206573486),\n",
              " ('영화로', 0.8208646178245544),\n",
              " ('코미디', 0.8047974705696106),\n",
              " ('주제', 0.8039947748184204),\n",
              " ('형식', 0.7868584394454956),\n",
              " ('편의', 0.7829331755638123),\n",
              " ('스토리', 0.7822684049606323),\n",
              " ('소재', 0.7798380851745605)]"
            ]
          },
          "metadata": {},
          "execution_count": 54
        }
      ]
    },
    {
      "cell_type": "code",
      "source": [
        "model.wv.most_similar(positive=['사랑'])"
      ],
      "metadata": {
        "colab": {
          "base_uri": "https://localhost:8080/"
        },
        "id": "3pyD5yb-kLEH",
        "outputId": "335259ad-a45f-4c45-b649-5f2750abb7c3"
      },
      "execution_count": 55,
      "outputs": [
        {
          "output_type": "execute_result",
          "data": {
            "text/plain": [
              "[('애정', 0.7256752252578735),\n",
              " ('진심', 0.712285041809082),\n",
              " ('첫사랑', 0.7122365236282349),\n",
              " ('행복', 0.7104963064193726),\n",
              " ('정일', 0.7001286149024963),\n",
              " ('슈이트', 0.696537435054779),\n",
              " ('만남', 0.6937215328216553),\n",
              " ('이별', 0.6926236152648926),\n",
              " ('근심', 0.6915819644927979),\n",
              " ('가슴', 0.6890836358070374)]"
            ]
          },
          "metadata": {},
          "execution_count": 55
        }
      ]
    },
    {
      "cell_type": "code",
      "source": [
        "model.wv.most_similar(positive=['조직'])"
      ],
      "metadata": {
        "colab": {
          "base_uri": "https://localhost:8080/"
        },
        "id": "5ZiBafrxkLL3",
        "outputId": "018fc96b-2b39-4638-fc07-23bd8509788e"
      },
      "execution_count": 56,
      "outputs": [
        {
          "output_type": "execute_result",
          "data": {
            "text/plain": [
              "[('암살', 0.9141907691955566),\n",
              " ('마피아', 0.9070983529090881),\n",
              " ('스파이', 0.8988624811172485),\n",
              " ('요원', 0.8877051472663879),\n",
              " ('명령', 0.8854297399520874),\n",
              " ('박사', 0.885395348072052),\n",
              " ('갱', 0.877342939376831),\n",
              " ('제거', 0.8714971542358398),\n",
              " ('음모', 0.8669562935829163),\n",
              " ('갱단', 0.8634428381919861)]"
            ]
          },
          "metadata": {},
          "execution_count": 56
        }
      ]
    },
    {
      "cell_type": "markdown",
      "source": [
        "## STEP 3. target, attribute 단어 셋 만들기"
      ],
      "metadata": {
        "id": "EpbxwG4_dPcT"
      }
    },
    {
      "cell_type": "markdown",
      "source": [
        "* target (영화구분) : 예술영화와 일반영화(상업영화)\n",
        "* attribute(장르구분) : SF, 가족, 공연, 드라마, 액션.. "
      ],
      "metadata": {
        "id": "lpdizOpckk82"
      }
    },
    {
      "cell_type": "code",
      "source": [
        "from sklearn.feature_extraction.text import TfidfVectorizer\n",
        "import numpy as np\n",
        "from konlpy.tag import Okt"
      ],
      "metadata": {
        "id": "4hma4zP8mMwI"
      },
      "execution_count": 57,
      "outputs": []
    },
    {
      "cell_type": "markdown",
      "source": [
        "### 1)영화 구분 정보 대표 단어셋 추출 "
      ],
      "metadata": {
        "id": "xNmVAc5op7fW"
      }
    },
    {
      "cell_type": "markdown",
      "source": [
        "* 파일 읽어오기 : synopsis_art.txt(예술영화), synopsis_gen.txt(일반영화(상업영화)) "
      ],
      "metadata": {
        "id": "mlk7C_01mtGM"
      }
    },
    {
      "cell_type": "code",
      "source": [
        "art_txt = 'synopsis_art.txt'\n",
        "gen_txt = 'synopsis_gen.txt'"
      ],
      "metadata": {
        "id": "1xgNjr8LmSkZ"
      },
      "execution_count": 58,
      "outputs": []
    },
    {
      "cell_type": "markdown",
      "source": [
        "명사 추출하여 tokenize에 저장하는 함수 정의 "
      ],
      "metadata": {
        "id": "WYWKAGa5m568"
      }
    },
    {
      "cell_type": "code",
      "source": [
        "def read_token(file_name):\n",
        "    okt = Okt()\n",
        "    result = []\n",
        "    with open('/content/drive/MyDrive/Aiffel_data/NLP/[NLP-06]/'+file_name, 'r') as fread: \n",
        "        print(file_name, '파일을 읽고 있습니다.')\n",
        "        while True:\n",
        "            line = fread.readline() \n",
        "            if not line: break \n",
        "            tokenlist = okt.pos(line, stem=True, norm=True) \n",
        "            for word in tokenlist:\n",
        "                if word[1] in [\"Noun\"]:#, \"Adjective\", \"Verb\"]:\n",
        "                    result.append((word[0])) \n",
        "    return ' '.join(result)"
      ],
      "metadata": {
        "id": "OlQuvOmcmU8i"
      },
      "execution_count": 59,
      "outputs": []
    },
    {
      "cell_type": "markdown",
      "source": [
        "* 파일읽기 : 'synopsis_art.txt', 'synopsis_gen.txt' \n",
        "\n",
        "* 변수 할당 : 명사에 대해서만 추출하여 art, gen 변수에 할당"
      ],
      "metadata": {
        "id": "T7PDk6p_nvJR"
      }
    },
    {
      "cell_type": "code",
      "source": [
        "# 2개의 파일을 처리하는데 20분 가량 걸립니다. \n",
        "art = read_token(art_txt)\n",
        "gen = read_token(gen_txt)"
      ],
      "metadata": {
        "colab": {
          "base_uri": "https://localhost:8080/"
        },
        "id": "1PpCSZYDnXPL",
        "outputId": "89c0a0a7-f4ba-4c26-f66a-ed461e2964fe"
      },
      "execution_count": 60,
      "outputs": [
        {
          "output_type": "stream",
          "name": "stdout",
          "text": [
            "synopsis_art.txt 파일을 읽고 있습니다.\n",
            "synopsis_gen.txt 파일을 읽고 있습니다.\n"
          ]
        }
      ]
    },
    {
      "cell_type": "markdown",
      "source": [
        "WEAT 계산을 위해서는 총 4개의 단어 셋 X, Y, A, B가 필요 따라서\n",
        "어떤 개념을 가장 잘 대표하여 나타내는 단어셋을 선정하는 방법을 정해야함.\n",
        "\n",
        "* 단어 셋 구성: **TF-IDF방식** 사용  (최선은 아님)\n",
        "\n",
        ">예) 예술영화를 잘 대표하는 단어란 예술영화 시놉시스에는 자주 나타나지만 그 외 다른 구분의 영화(예를 들어 일반영화) 시놉시스에는 자주 나타나지 않는 것"
      ],
      "metadata": {
        "id": "WZFS0XnvoRMS"
      }
    },
    {
      "cell_type": "code",
      "source": [
        "vectorizer = TfidfVectorizer()\n",
        "X = vectorizer.fit_transform([art, gen])\n",
        "\n",
        "print(X.shape)"
      ],
      "metadata": {
        "colab": {
          "base_uri": "https://localhost:8080/"
        },
        "id": "Ix8onxAIpEHE",
        "outputId": "c0a22b80-1e46-4a1c-db80-8f38c25a7c46"
      },
      "execution_count": 61,
      "outputs": [
        {
          "output_type": "stream",
          "name": "stdout",
          "text": [
            "(2, 41082)\n"
          ]
        }
      ]
    },
    {
      "cell_type": "code",
      "source": [
        "print(vectorizer.vocabulary_['영화'])\n",
        "print(vectorizer.get_feature_names()[23976])"
      ],
      "metadata": {
        "colab": {
          "base_uri": "https://localhost:8080/"
        },
        "id": "xQ5cMP0FpG-7",
        "outputId": "55a14e9c-ea7e-4d17-fbbf-f8dbbf05ebf5"
      },
      "execution_count": 62,
      "outputs": [
        {
          "output_type": "stream",
          "name": "stdout",
          "text": [
            "23976\n",
            "영화\n"
          ]
        },
        {
          "output_type": "stream",
          "name": "stderr",
          "text": [
            "/usr/local/lib/python3.7/dist-packages/sklearn/utils/deprecation.py:87: FutureWarning: Function get_feature_names is deprecated; get_feature_names is deprecated in 1.0 and will be removed in 1.2. Please use get_feature_names_out instead.\n",
            "  warnings.warn(msg, category=FutureWarning)\n"
          ]
        }
      ]
    },
    {
      "cell_type": "markdown",
      "source": [
        "TF-IDF가 높은 순으로 정렬된 art, gen 단어셋의 단어들을 출력"
      ],
      "metadata": {
        "id": "cGlQnFDWpUrd"
      }
    },
    {
      "cell_type": "code",
      "source": [
        "m1 = X[0].tocoo()   # art를 TF-IDF로 표현한 sparse matrix를 가져옵니다. \n",
        "m2 = X[1].tocoo()   # gen을 TF-IDF로 표현한 sparse matrix를 가져옵니다. \n",
        "\n",
        "w1 = [[i, j] for i, j in zip(m1.col, m1.data)]\n",
        "w2 = [[i, j] for i, j in zip(m2.col, m2.data)]\n",
        "\n",
        "w1.sort(key=lambda x: x[1], reverse=True)   #art를 구성하는 단어들을 TF-IDF가 높은 순으로 정렬합니다. \n",
        "w2.sort(key=lambda x: x[1], reverse=True)   #gen을 구성하는 단어들을 TF-IDF가 높은 순으로 정렬합니다. \n",
        "\n",
        "print('예술영화를 대표하는 단어들:')\n",
        "for i in range(100):\n",
        "    print(vectorizer.get_feature_names()[w1[i][0]], end=', ')\n",
        "\n",
        "print('\\n')\n",
        "    \n",
        "print('일반영화를 대표하는 단어들:')\n",
        "for i in range(100):\n",
        "    print(vectorizer.get_feature_names()[w2[i][0]], end=', ')"
      ],
      "metadata": {
        "colab": {
          "base_uri": "https://localhost:8080/"
        },
        "id": "bR8XxTEvpPcj",
        "outputId": "659aab95-cf96-4041-8e89-887dfb713457"
      },
      "execution_count": 63,
      "outputs": [
        {
          "output_type": "stream",
          "name": "stdout",
          "text": [
            "예술영화를 대표하는 단어들:\n",
            "그녀, 자신, 시작, 위해, 사랑, 사람, 영화, 친구, 남자, 가족, 이야기, 마을, 사건, 마음, 세상, 아버지, 아이, 엄마, 모든, 여자, 대한, 서로, 과연, 다시, 시간, 아들, 소녀, 아내, 다른, 사이, 영화제, 세계, 사실, 하나, 점점, 남편, 감독, 여행, 인생, 발견, 모두, 순간, 우리, 가장, 마지막, 생활, 아빠, 모습, 통해, 죽음, 기억, 비밀, 학교, 음악, 한편, 소년, 생각, 도시, 명의, 사고, 결혼, 전쟁, 때문, 위기, 이제, 최고, 이자, 과거, 일상, 경찰, 상황, 간다, 미국, 결심, 운명, 현실, 관계, 지금, 단편, 여인, 하루, 이름, 이후, 준비, 인간, 감정, 만난, 국제, 처음, 충격, 살인, 누구, 동안, 존재, 그린, 어머니, 연인, 계속, 동생, 작품, \n",
            "\n",
            "일반영화를 대표하는 단어들:\n",
            "자신, 그녀, 영화제, 위해, 사람, 시작, 국제, 영화, 친구, 사랑, 남자, 이야기, 대한, 서울, 여자, 사건, 남편, 아이, 가족, 아버지, 다른, 마을, 시간, 엄마, 아들, 모든, 단편, 마음, 사실, 다시, 세계, 모습, 작품, 통해, 생각, 서로, 세상, 발견, 감독, 아내, 관계, 소녀, 사이, 하나, 우리, 애니메이션, 때문, 여성, 죽음, 과연, 점점, 인간, 생활, 한편, 결혼, 상황, 모두, 기억, 명의, 소년, 여행, 가장, 간다, 순간, 이제, 도시, 비밀, 학교, 과거, 가지, 이자, 경찰, 마지막, 미국, 동안, 전쟁, 주인공, 대해, 존재, 현실, 연출, 사고, 살인, 일상, 어머니, 계속, 사회, 인생, 다큐멘터리, 부문, 섹스, 최고, 바로, 동생, 의도, 하루, 위기, 계획, 정체, 한국, "
          ]
        }
      ]
    },
    {
      "cell_type": "markdown",
      "source": [
        "💡  두 개념을 대표하는 단어를 TF-IDF가 높은 순으로 추출하고 싶었는데, 양쪽에 중복된 단어가 너무 많음.\n",
        "> * 두 개념축이 대조되도록 대표하는 단어 셋을 만들고 싶기 때문에 단어가 서로 중복되지 않게 단어셋을 추출\n",
        "\n",
        ": 우선 상위 100개의 단어들 중 중복되는 단어를 제외하고 상위 n(=15)개의 단어를 추출"
      ],
      "metadata": {
        "id": "SAa6k2CaE4eV"
      }
    },
    {
      "cell_type": "markdown",
      "source": [
        "❤️ 코드 다시보기 "
      ],
      "metadata": {
        "id": "pO1PxgJwFo-5"
      }
    },
    {
      "cell_type": "code",
      "source": [
        "n = 15\n",
        "w1_, w2_ = [], []\n",
        "for i in range(100):\n",
        "    w1_.append(vectorizer.get_feature_names()[w1[i][0]])\n",
        "    w2_.append(vectorizer.get_feature_names()[w2[i][0]])\n",
        "\n",
        "# w1에만 있고 w2에는 없는, 예술영화를 잘 대표하는 단어를 15개 추출한다.\n",
        "target_art, target_gen = [], []\n",
        "for i in range(100):\n",
        "    if (w1_[i] not in w2_) and (w1_[i] in model.wv): target_art.append(w1_[i])\n",
        "    if len(target_art) == n: break \n",
        "\n",
        "# w2에만 있고 w1에는 없는, 일반영화를 잘 대표하는 단어를 15개 추출한다.\n",
        "for i in range(100):\n",
        "    if (w2_[i] not in w1_) and (w2_[i] in model.wv): target_gen.append(w2_[i])\n",
        "    if len(target_gen) == n: break"
      ],
      "metadata": {
        "id": "ilSuLHFqqMt9"
      },
      "execution_count": 64,
      "outputs": []
    },
    {
      "cell_type": "code",
      "source": [
        "print(target_art)"
      ],
      "metadata": {
        "colab": {
          "base_uri": "https://localhost:8080/"
        },
        "id": "PhiDKryDqXml",
        "outputId": "e6cb363c-bd31-4899-98dd-3d834f100438"
      },
      "execution_count": 65,
      "outputs": [
        {
          "output_type": "stream",
          "name": "stdout",
          "text": [
            "['아빠', '음악', '결심', '운명', '지금', '여인', '이름', '이후', '준비', '감정', '만난', '처음', '충격', '누구', '그린']\n"
          ]
        }
      ]
    },
    {
      "cell_type": "code",
      "source": [
        "print(target_gen)"
      ],
      "metadata": {
        "colab": {
          "base_uri": "https://localhost:8080/"
        },
        "id": "L3nEnNZeqdEj",
        "outputId": "ff999060-e5d6-4fa3-b66c-8f645c37cf14"
      },
      "execution_count": 66,
      "outputs": [
        {
          "output_type": "stream",
          "name": "stdout",
          "text": [
            "['서울', '애니메이션', '여성', '가지', '주인공', '대해', '연출', '사회', '다큐멘터리', '부문', '섹스', '바로', '의도', '계획', '정체']\n"
          ]
        }
      ]
    },
    {
      "cell_type": "markdown",
      "source": [
        "### 2)장르별 대표 단어셋 추출"
      ],
      "metadata": {
        "id": "oAMUmV3iplfc"
      }
    },
    {
      "cell_type": "code",
      "source": [
        "genre_txt = ['synopsis_SF.txt', 'synopsis_family.txt', 'synopsis_show.txt', 'synopsis_horror.txt', 'synopsis_etc.txt', \n",
        "             'synopsis_documentary.txt', 'synopsis_drama.txt', 'synopsis_romance.txt', 'synopsis_musical.txt', \n",
        "             'synopsis_mystery.txt', 'synopsis_crime.txt', 'synopsis_historical.txt', 'synopsis_western.txt', \n",
        "             'synopsis_adult.txt', 'synopsis_thriller.txt', 'synopsis_animation.txt', 'synopsis_action.txt', \n",
        "             'synopsis_adventure.txt', 'synopsis_war.txt', 'synopsis_comedy.txt', 'synopsis_fantasy.txt']\n",
        "genre_name = ['SF', '가족', '공연', '공포(호러)', '기타', '다큐멘터리', '드라마', '멜로로맨스', '뮤지컬', '미스터리', '범죄', '사극', '서부극(웨스턴)',\n",
        "         '성인물(에로)', '스릴러', '애니메이션', '액션', '어드벤처', '전쟁', '코미디', '판타지']"
      ],
      "metadata": {
        "id": "V8l5IsTvjQqr"
      },
      "execution_count": 67,
      "outputs": []
    },
    {
      "cell_type": "code",
      "source": [
        "# 약 20분정도 걸립니다.\n",
        "genre = []\n",
        "for file_name in genre_txt:\n",
        "    genre.append(read_token(file_name))"
      ],
      "metadata": {
        "colab": {
          "base_uri": "https://localhost:8080/"
        },
        "id": "83QxJuorqjPh",
        "outputId": "2d96b9c1-30dd-42f8-8c49-012b54918676"
      },
      "execution_count": 68,
      "outputs": [
        {
          "output_type": "stream",
          "name": "stdout",
          "text": [
            "synopsis_SF.txt 파일을 읽고 있습니다.\n",
            "synopsis_family.txt 파일을 읽고 있습니다.\n",
            "synopsis_show.txt 파일을 읽고 있습니다.\n",
            "synopsis_horror.txt 파일을 읽고 있습니다.\n",
            "synopsis_etc.txt 파일을 읽고 있습니다.\n",
            "synopsis_documentary.txt 파일을 읽고 있습니다.\n",
            "synopsis_drama.txt 파일을 읽고 있습니다.\n",
            "synopsis_romance.txt 파일을 읽고 있습니다.\n",
            "synopsis_musical.txt 파일을 읽고 있습니다.\n",
            "synopsis_mystery.txt 파일을 읽고 있습니다.\n",
            "synopsis_crime.txt 파일을 읽고 있습니다.\n",
            "synopsis_historical.txt 파일을 읽고 있습니다.\n",
            "synopsis_western.txt 파일을 읽고 있습니다.\n",
            "synopsis_adult.txt 파일을 읽고 있습니다.\n",
            "synopsis_thriller.txt 파일을 읽고 있습니다.\n",
            "synopsis_animation.txt 파일을 읽고 있습니다.\n",
            "synopsis_action.txt 파일을 읽고 있습니다.\n",
            "synopsis_adventure.txt 파일을 읽고 있습니다.\n",
            "synopsis_war.txt 파일을 읽고 있습니다.\n",
            "synopsis_comedy.txt 파일을 읽고 있습니다.\n",
            "synopsis_fantasy.txt 파일을 읽고 있습니다.\n"
          ]
        }
      ]
    },
    {
      "cell_type": "markdown",
      "source": [
        "* 각 장를를 가장 잘 대표하여 나타내는 단어셋 TF-IDF방식으로 추출 "
      ],
      "metadata": {
        "id": "Xv7ZI9N7GUWj"
      }
    },
    {
      "cell_type": "code",
      "source": [
        "vectorizer = TfidfVectorizer()\n",
        "X = vectorizer.fit_transform(genre)\n",
        "\n",
        "print(X.shape)"
      ],
      "metadata": {
        "colab": {
          "base_uri": "https://localhost:8080/"
        },
        "id": "i18G6FZXqnSY",
        "outputId": "e78de249-1bc4-4455-87ab-2d5209766c84"
      },
      "execution_count": 69,
      "outputs": [
        {
          "output_type": "stream",
          "name": "stdout",
          "text": [
            "(21, 42191)\n"
          ]
        }
      ]
    },
    {
      "cell_type": "markdown",
      "source": [
        "❤️ 코드 다시보기"
      ],
      "metadata": {
        "id": "pi9fDTLGG2MO"
      }
    },
    {
      "cell_type": "code",
      "source": [
        "m = [X[i].tocoo() for i in range(X.shape[0])]\n",
        "\n",
        "w = [[[i, j] for i, j in zip(mm.col, mm.data)] for mm in m]\n",
        "\n",
        "for i in range(len(w)):\n",
        "    w[i].sort(key=lambda x: x[1], reverse=True)\n",
        "attributes = []\n",
        "for i in range(len(w)):\n",
        "    print(genre_name[i], end=': ')\n",
        "    attr = []\n",
        "    j = 0\n",
        "    while (len(attr) < 15):\n",
        "        if vectorizer.get_feature_names()[w[i][j][0]] in model.wv:\n",
        "            attr.append(vectorizer.get_feature_names()[w[i][j][0]])\n",
        "            print(vectorizer.get_feature_names()[w[i][j][0]], end=', ')\n",
        "        j += 1\n",
        "    attributes.append(attr)\n",
        "    print()"
      ],
      "metadata": {
        "colab": {
          "base_uri": "https://localhost:8080/"
        },
        "id": "Svr_-cmnqtrh",
        "outputId": "83902370-52d5-47c4-ab04-a612ba01848d"
      },
      "execution_count": 70,
      "outputs": [
        {
          "output_type": "stream",
          "name": "stdout",
          "text": [
            "SF: 위해, 자신, 지구, 시작, 사람, 인류, 인간, 미래, 우주, 그녀, 로봇, 세계, 모든, 박사, 우주선, \n",
            "가족: 엄마, 아빠, 가족, 영화제, 자신, 위해, 친구, 아주르, 아버지, 시작, 그녀, 아들, 마을, 국제, 낙타, \n",
            "공연: 오페라, 사랑, 토스카, 실황, 올레, 자신, 카바, 그녀, 공연, 오텔로, 리골레토, 백작, 프레, 베르디, 위해, \n",
            "공포(호러): 시작, 위해, 사람, 자신, 친구, 그녀, 사건, 공포, 발견, 죽음, 마을, 가족, 악령, 남자, 좀비, \n",
            "기타: 영화제, 국제, 서울, 단편, 영화, 자신, 사람, 이야기, 그녀, 남자, 위해, 시작, 사랑, 뉴미디어, 페스티벌, \n",
            "다큐멘터리: 영화제, 영화, 다큐, 국제, 다큐멘터리, 사람, 이야기, 대한, 자신, 감독, 위해, 서울, 우리, 시작, 세계, \n",
            "드라마: 자신, 영화제, 그녀, 사람, 사랑, 영화, 위해, 시작, 국제, 남자, 친구, 이야기, 엄마, 여자, 아버지, \n",
            "멜로로맨스: 그녀, 사랑, 자신, 시작, 남편, 남자, 여자, 사람, 친구, 섹스, 위해, 마음, 결혼, 서로, 아내, \n",
            "뮤지컬: 뮤지컬, 사랑, 에스메랄다, 그녀, 음악, 충무로, 모차르트, 영화, 토스카, 자신, 니웨, 카바, 영화제, 바흐, 페뷔스, \n",
            "미스터리: 사건, 그녀, 시작, 자신, 위해, 사람, 발견, 사고, 진실, 죽음, 기억, 살인, 친구, 아내, 남자, \n",
            "범죄: 사건, 위해, 자신, 경찰, 시작, 그녀, 범죄, 조직, 살인, 사람, 마약, 형사, 남자, 모든, 살해, \n",
            "사극: 조선, 위해, 시작, 신기전, 사랑, 자신, 아가멤논, 황제, 그녀, 루안, 최고, 운명, 사람, 하선, 전쟁, \n",
            "서부극(웨스턴): 서부, 보안관, 위해, 벌린, 카우보이, 그레이프바인, 헨리, 마을, 자신, 개릿, 아이, 시작, 무법자, 프린트, 마적, \n",
            "성인물(에로): 그녀, 남편, 마사지, 자신, 섹스, 관계, 영화, 정사, 남자, 위해, 시작, 여자, 유부녀, 마음, 사랑, \n",
            "스릴러: 자신, 그녀, 사건, 시작, 위해, 사람, 살인, 남자, 발견, 아내, 경찰, 친구, 모든, 사실, 살해, \n",
            "애니메이션: 애니메이션, 국제, 영화제, 친구, 인디애니페스트, 위해, 자신, 시작, 사람, 페스티벌, 서울, 이야기, 아이, 마을, 소녀, \n",
            "액션: 위해, 자신, 시작, 조직, 사건, 사람, 그녀, 경찰, 전쟁, 모든, 목숨, 사실, 친구, 가족, 요원, \n",
            "어드벤처: 위해, 자신, 시작, 친구, 마을, 아버지, 영화, 아이, 사람, 여행, 세계, 앤트, 세상, 가족, 모험, \n",
            "전쟁: 전쟁, 독일군, 전투, 위해, 작전, 시작, 부대, 윈터스, 독일, 연합군, 미군, 임무, 자신, 사람, 나치, \n",
            "코미디: 그녀, 자신, 시작, 위해, 사랑, 사람, 친구, 영화, 남자, 여자, 영화제, 가족, 과연, 마을, 사건, \n",
            "판타지: 자신, 그녀, 시작, 위해, 사람, 사랑, 요괴, 영화제, 이야기, 영화, 소녀, 남자, 인간, 세상, 마을, \n"
          ]
        }
      ]
    },
    {
      "cell_type": "markdown",
      "source": [
        "## STEP 4. WEAT score 계산과 시각화"
      ],
      "metadata": {
        "id": "tqta8xrQdSfp"
      }
    },
    {
      "cell_type": "markdown",
      "source": [
        "### 1) WEAT score 계산\n",
        "Word Embedding Association Test (WEAT) 는 임베딩 모델의 편향을 측정하는 방식 중 하나\n",
        "* 논문 원본 : https://arxiv.org/pdf/1608.07187.pdf\n",
        "\n",
        "절댓값이 클수록 두 개념축 사이의 편향성이 크게 나타나는 것으로 해석"
      ],
      "metadata": {
        "id": "fAE0MpxiDbrW"
      }
    },
    {
      "cell_type": "markdown",
      "source": [
        "WEAT score의 수식 \n",
        "![스크린샷 2022-10-12 오후 4.45.14.png](data:image/png;base64,iVBORw0KGgoAAAANSUhEUgAAAt4AAACeCAYAAAAFUw0aAAAMamlDQ1BJQ0MgUHJvZmlsZQAASImVVwdYU8kWnltSSWiBCEgJvQkivUgJoUUQkCqISkgCCSXGhKBiRxcVXLuIYkVXRRRdCyCLitjLotj7YkFFWRcLiqLyJiSg677yvfN9c+e/Z878p9yZe+8AoNXDk0pzUW0A8iT5srjwYNbYlFQW6SnAABnoACtgyuPLpezY2CgAZaD/u7y/ARBlf9VJyfXP8f8qugKhnA8AkgZxhkDOz4O4CQB8PV8qyweAqNRbTsmXKvEciPVkMECIVylxlgrvVOIMFW7st0mI40B8GQAyjceTZQGgeQ/qWQX8LMij+RliF4lALAFAaxjEAXwRTwCxMvZheXmTlLgcYjtoL4UYxgO8M77jzPobf8YgP4+XNYhVefULOUQsl+bypv2fpfnfkperGPBhAxtNJIuIU+YPa3grZ1KkEtMg7pRkRMcoaw1xj1igqjsAKFWkiEhU2aPGfDkH1g8wIXYR8EIiITaGOEySGx2l1mdkisO4EMPVgk4V53MTIDaAeKFQHhqvttksmxSn9oXWZso4bLX+LE/W71fp64EiJ5Gt5n8jEnLV/JhmoSghGWIqxFYF4qRoiDUhdpbnxEeqbUYWijjRAzYyRZwyfiuI44SS8GAVP1aQKQuLU9uX5MkH8sU2i8TcaDXeny9KiFDVBzvJ5/XHD3PBLgsl7MQBHqF8bNRALgJhSKgqd+y5UJIYr+bpkeYHx6nm4lRpbqzaHrcQ5oYr9RYQu8sL4tVz8aR8uDhV/HimND82QRUnXpjNGxWrigdfBqIAB4QAFlDAlgEmgWwgbums64R3qpEwwAMykAWEwEmtGZiR3D8igdd4UAj+hEgI5IPzgvtHhaAA6r8MalVXJ5DZP1rQPyMHPIU4D0SCXHiv6J8lGfSWBJ5Ajfgf3nmw8WG8ubApx/+9fkD7TcOGmii1RjHgkaU1YEkMJYYQI4hhRHvcCA/A/fAoeA2CzRX3xn0G8vhmT3hKaCU8IlwntBFuTxQXyX6IcjRog/xh6lpkfF8L3AZyeuDBuD9kh8w4EzcCTrg79MPGA6FnD6jlqONWVoX1A/ffMvjuaajtKC4UlDKEEkSx+3GmpoOmxyCLstbf10cVa8ZgvTmDIz/653xXfQHsI3+0xBZiB7Az2HHsHNaI1QEWdgyrxy5iR5R4cHU96V9dA97i+uPJgTzif/jjqX0qKyl3qXbpcPmsGssXTs1XbjzOJOk0mThLlM9iw6+DkMWV8J2HsVxdXF0BUH5rVK+vt8z+bwjCPP9NNw/ucX9JX19f4zdd5CcADprD7d/2TWd7Bb4m4Hv67HK+Qlag0uHKCwG+JbTgTjMEpsAS2MF8XIEn8ANBIBSMAjEgAaSACbDKIrjOZWAKmAHmgmJQCpaB1WAd2AS2gp1gD9gP6kAjOA5OgwvgMrgO7sLV0w5egi7wHvQiCEJC6AgDMUTMEGvEEXFFvJEAJBSJQuKQFCQdyUIkiAKZgcxDSpEVyDpkC1KF/IocRo4j55BW5DbyEOlA3iCfUAyloXqoCWqDDke9UTYaiSag49EsdDJaiM5Hl6DlaCW6G61Fj6MX0OtoG/oS7cYApoExMXPMCfPGOFgMloplYjJsFlaClWGVWA3WAJ/zVawN68Q+4kScgbNwJ7iCI/BEnI9Pxmfhi/F1+E68Fj+JX8Uf4l34VwKdYExwJPgSuISxhCzCFEIxoYywnXCIcArupXbCeyKRyCTaEr3gXkwhZhOnExcTNxD3EpuIrcTHxG4SiWRIciT5k2JIPFI+qZi0lrSbdIx0hdRO6iFrkM3IruQwcipZQi4il5F3kY+Sr5CfkXsp2hRrii8lhiKgTKMspWyjNFAuUdopvVQdqi3Vn5pAzabOpZZTa6inqPeobzU0NCw0fDTGaIg15miUa+zTOKvxUOMjTZfmQOPQ0mgK2hLaDloT7TbtLZ1Ot6EH0VPp+fQl9Cr6CfoDeo8mQ9NZk6sp0JytWaFZq3lF85UWRctai601QatQq0zrgNYlrU5tiraNNkebpz1Lu0L7sPZN7W4dhs4InRidPJ3FOrt0zuk81yXp2uiG6gp05+tu1T2h+5iBMSwZHAafMY+xjXGK0a5H1LPV4+pl65Xq7dFr0evS19V310/Sn6pfoX9Ev42JMW2YXGYucylzP/MG89MQkyHsIcIhi4bUDLky5IPBUIMgA6FBicFeg+sGnwxZhqGGOYbLDesM7xvhRg5GY4ymGG00OmXUOVRvqN9Q/tCSofuH3jFGjR2M44ynG281vmjcbWJqEm4iNVlrcsKk05RpGmSabbrK9KhphxnDLMBMbLbK7JjZC5Y+i83KZZWzTrK6zI3NI8wV5lvMW8x7LWwtEi2KLPZa3LekWnpbZlqusmy27LIysxptNcOq2uqONcXa21pkvcb6jPUHG1ubZJsFNnU2z20NbLm2hbbVtvfs6HaBdpPtKu2u2RPtve1z7DfYX3ZAHTwcRA4VDpccUUdPR7HjBsfWYYRhPsMkwyqH3XSiObGdCpyqnR46M52jnIuc65xfDbcanjp8+fAzw7+6eLjkumxzuTtCd8SoEUUjGka8cXVw5btWuF5zo7uFuc12q3d77e7oLnTf6H7Lg+Ex2mOBR7PHF08vT5lnjWeHl5VXutd6r5veet6x3ou9z/oQfIJ9Zvs0+nz09fTN993v+5efk1+O3y6/5yNtRwpHbhv52N/Cn+e/xb8tgBWQHrA5oC3QPJAXWBn4KMgySBC0PegZ256dzd7NfhXsEiwLPhT8gePLmclpCsFCwkNKQlpCdUMTQ9eFPgizCMsKqw7rCvcInx7eFEGIiIxYHnGTa8Llc6u4XaO8Rs0cdTKSFhkfuS7yUZRDlCyqYTQ6etTolaPvRVtHS6LrYkAMN2ZlzP1Y29jJsb+NIY6JHVMx5mnciLgZcWfiGfET43fFv08ITliacDfRLlGR2JyklZSWVJX0ITkkeUVy29jhY2eOvZBilCJOqU8lpSalbk/tHhc6bvW49jSPtOK0G+Ntx08df26C0YTcCUcmak3kTTyQTkhPTt+V/pkXw6vkdWdwM9ZndPE5/DX8l4IgwSpBh9BfuEL4LNM/c0Xm8yz/rJVZHaJAUZmoU8wRrxO/zo7I3pT9IScmZ0dOX25y7t48cl563mGJriRHcnKS6aSpk1qljtJiadtk38mrJ3fJImXb5Yh8vLw+Xw/+1F9U2Cl+UjwsCCioKOiZkjTlwFSdqZKpF6c5TFs07VlhWOEv0/Hp/OnNM8xnzJ3xcCZ75pZZyKyMWc2zLWfPn90+J3zOzrnUuTlzfy9yKVpR9G5e8ryG+Sbz58x//FP4T9XFmsWy4psL/BZsWogvFC9sWeS2aO2iryWCkvOlLqVlpZ8X8xef/3nEz+U/9y3JXNKy1HPpxmXEZZJlN5YHLt+5QmdF4YrHK0evrF3FWlWy6t3qiavPlbmXbVpDXaNY01YeVV6/1mrtsrWf14nWXa8Irti73nj9ovUfNgg2XNkYtLFmk8mm0k2fNos339oSvqW20qaybCtxa8HWp9uStp35xfuXqu1G20u3f9kh2dG2M27nySqvqqpdxruWVqPViuqO3Wm7L+8J2VNf41SzZS9zb+k+sE+x78Wv6b/e2B+5v/mA94Gag9YH1x9iHCqpRWqn1XbViera6lPqWw+POtzc4Ndw6Dfn33Y0mjdWHNE/svQo9ej8o33HCo91N0mbOo9nHX/cPLH57omxJ66dHHOy5VTkqbOnw06fOMM+c+ys/9nGc77nDp/3Pl93wfNC7UWPi4d+9/j9UItnS+0lr0v1l30uN7SObD16JfDK8ashV09f4167cD36euuNxBu3bqbdbLsluPX8du7t13cK7vTenXOPcK/kvvb9sgfGDyr/sP9jb5tn25GHIQ8vPop/dPcx//HLJ/Inn9vnP6U/LXtm9qzquevzxo6wjssvxr1ofyl92dtZ/KfOn+tf2b06+FfQXxe7xna1v5a97nuz+K3h2x3v3N81d8d2P3if9773Q0mPYc/Oj94fz3xK/vSsd8pn0ufyL/ZfGr5Gfr3Xl9fXJ+XJeP2/AhhsaGYmAG92AEBPAYABz23UcaqzYL8gqvNrPwL/CavOi/3iCUAN7JS/8ZwmAPbBZjMHcsOm/IVPCAKom9tgU4s8081VxUWDJyFCT1/fWxMASA0AfJH19fVu6Ov7sg0GexuApsmqM6hSiPDMsDlAia4bpPWAH0R1Pv0uxx97oIzAHfzY/wu4Y5AS+CmtHAAAAIplWElmTU0AKgAAAAgABAEaAAUAAAABAAAAPgEbAAUAAAABAAAARgEoAAMAAAABAAIAAIdpAAQAAAABAAAATgAAAAAAAACQAAAAAQAAAJAAAAABAAOShgAHAAAAEgAAAHigAgAEAAAAAQAAAt6gAwAEAAAAAQAAAJ4AAAAAQVNDSUkAAABTY3JlZW5zaG90dNpSYgAAAAlwSFlzAAAWJQAAFiUBSVIk8AAAAdZpVFh0WE1MOmNvbS5hZG9iZS54bXAAAAAAADx4OnhtcG1ldGEgeG1sbnM6eD0iYWRvYmU6bnM6bWV0YS8iIHg6eG1wdGs9IlhNUCBDb3JlIDYuMC4wIj4KICAgPHJkZjpSREYgeG1sbnM6cmRmPSJodHRwOi8vd3d3LnczLm9yZy8xOTk5LzAyLzIyLXJkZi1zeW50YXgtbnMjIj4KICAgICAgPHJkZjpEZXNjcmlwdGlvbiByZGY6YWJvdXQ9IiIKICAgICAgICAgICAgeG1sbnM6ZXhpZj0iaHR0cDovL25zLmFkb2JlLmNvbS9leGlmLzEuMC8iPgogICAgICAgICA8ZXhpZjpQaXhlbFlEaW1lbnNpb24+MTU4PC9leGlmOlBpeGVsWURpbWVuc2lvbj4KICAgICAgICAgPGV4aWY6UGl4ZWxYRGltZW5zaW9uPjczNDwvZXhpZjpQaXhlbFhEaW1lbnNpb24+CiAgICAgICAgIDxleGlmOlVzZXJDb21tZW50PlNjcmVlbnNob3Q8L2V4aWY6VXNlckNvbW1lbnQ+CiAgICAgIDwvcmRmOkRlc2NyaXB0aW9uPgogICA8L3JkZjpSREY+CjwveDp4bXBtZXRhPgoQU7SHAAAAHGlET1QAAAACAAAAAAAAAE8AAAAoAAAATwAAAE8AAC99R+nXlgAAL0lJREFUeAHsnQfY7ETVxwcVO2KhCZar2FCx9wb23is2UBDFihUbwrX3hqDYrl0RC3YFBVSsYO+Vq9g79p7v/ObjxNm8k2yS3c2+2fs/z/O+ySaTyeSfyZkzp81WhVEQCQEhIASEgBAQAkJACAgBIbBQBLaS4L1QfFW5EBACQkAICAEhIASEgBCICEjwVkcQAkJACAgBISAEhIAQEAIDICDBewCQdQshIASEgBAQAkJACAgBISDBW31ACAgBISAEhIAQEAJCQAgMgIAE7wFA1i2EgBAQAkJACAgBISAEhIAEb/UBISAEhIAQEAJCQAgIASEwAAISvAcAWbcQAkJACAgBISAEhIAQEAISvNUHhIAQEAJCQAgIASEgBITAAAhI8B4AZN1CCAgBISAEhIAQEAJCQAhI8FYfEAJCQAgIASEgBISAEBACAyAgwXsAkHULISAEhIAQEAJCQAgIASEgwVt9QAgIASEgBISAEBACQkAIDICABO8BQNYthIAQEAJCQAgIASEgBISABG/1ASEgBISAEBACQkAICAEhMAACErwHAFm3EAJCQAgIASEgBISAEBACErzVB4SAEBACQkAICAEhIASEwAAISPAeAGTdQggIASEgBISAEBACQkAISPBWHxACQkAICAEhIASEgBAQAgMgIMF7AJB1CyEgBISAEBACQkAICAEhIMFbfUAICAEhIASEgBAQAkJACAyAgATvAUDWLYSAEBACQkAICAEhIASEgARv9QEhIASEgBAQAkJACAgBITAAAhK8BwBZtxACQkAICAEhIASEgBAQAhK81QeEgBAQAkJACAgBISAEhMAACEjwHgBk3UIICAEhIASEgBAQAkJACEjwVh8QAkJACAgBISAEhIAQEAIDICDBewCQdQshIASEgBAQAkJACAgBISDBW31ACAgBISAEhIAQEAJCQAgMgIAE7wFA1i2EgBAQAkJACAgBISAEhIAEb/UBISAEhIAQEAJCQAgIASEwAAISvAcAWbcQAkJACAgBISAEhIAQEAISvNUHhIAQEAJCQAgIASEgBITAAAhI8B4AZN1CCAgBISAEhIAQEAJCQAhI8FYfEAJCQAgIASEgBISAEBACAyAgwXsAkHULISAEhIAQEAJCQAgIASEgwVt9QAgIASEgBISAEBACQkAIDICABO8BQNYthIAQEAJCQAgIASEgBISABG/1ASEgBISAEBACQkAICAEhMAACErwHAFm3EAJCQAgIASEgBISAEBACErzVB4SAEBACQkAICAEhIASEwAAISPAeAGTdYv0h8JGPfCT88Ic/DAcccMD6a5xa1AmB733ve+Hd7353eMADHhDOd77zdbpWhYWAEJgfAqeffno48sgjw61udatw+ctffn4Vq6alIPDRj340/OAHPwj77bdfOPOZz7yUNqziTSV4r+Jb1TM1IvCmN70pHHLIIWHjxo3h3ve+d2PZsZ38xz/+Eb785S+HS1/60uG85z3v2Jrfq71/+tOfwu1vf/tQFEU4+uijw3bbbderHl0kBIRAfwT+8Ic/hLve9a7hv//9b5wIn+c85+lf2Tq8EgH0b3/72xY1ofjGN74R7nKXu4Q99tgjHH744RK+59QvJXjPCUhVMw4EPvOZz4T73ve+USPzkpe8ZByN7tDKhz70oeGDH/xguPWtbx0OO+ywDlfOtyiDbxOd6Uxnajrd+dy3v/3tcKc73SlOON761reGs5/97J3r0AVCQAj0Q+A///lPuN/97hdOPvnk8K53vSvstttu/Spap1dhVbv5zW8eW3fssceGS1ziEktpKcoF/upoq622CvzNk972treFJz7xiXHcPPTQQ+dZ9RZblwTvLfbVb3kP/tOf/jTc7na3i5rg973vfeGc5zznSoHw17/+NVztalcLf//738M5znGOOAgu4xm/9a1vRcG/DbgMEi6Esz3LWc4S0JRd4QpXCNe73vWiMH2uc52rTVXh7W9/e3j84x8fB0i0M15vq4tVSAgIgd4IPOtZzwqvetWrwjOe8Yyw11579a5nvV74whe+MLzsZS+LzXv4wx8eDjzwwKU09UEPelBA8J9GLoD7FjeRs571rOGiF71oHCMYB690pStNq6Y8/+hHPzpaMZ785CeH+9///uVx7fRDQIJ3P9x01cgQwESIGfT73/9+OOaYY8JlLnOZkT3B9Oa+973vnRgQ0Ojf9ra3nX7hnEv8+Mc/Dk94whMCWrA///nP4Tvf+U7c99swCOD/yUCAcMwfGnLKM3lAcHetzrnPfe7wlKc8JZo7/fqm7WMe85iocXvgAx8YDjrooKaiOicEhMAcEHC+A69ZRSsiEN3oRjcKmzdvjmhd7GIXCx/72Mfi/tD/XvSiF4VTTjkl4FKIIumXv/zlRBMueMELhp133jm6hLjiwXkrMU2///3vy/LXve51AxOK7bffvjxWtwNfvsMd7hDjophg3fCGN6wrquMtEJDg3QIkFRk/Ao997GPDO9/5znCPe9wjPPOZzxz/A2WeYP/99w8Ewzjd9KY3jYFO/ntZ2w984APhYQ97WHl7tDaPe9zjyt/VHQR3NCsnnXRSeYr3hjZtmhn1V7/6Vbj+9a8fBfkPf/jDYddddy3r0I4QEALzRQAXDOIr/vWvf4WPf/zjUeib7x2WXxt+zlUFxvvf//5w2ctedqmN+/e//x0tuLjZOaG0ONvZzuY/J7a8o/e85z3h4IMPjoI7JxG6X/3qV4fdd999omzuBwkJSEZwoQtdKBx//PHROpkrp2PTEZDgPR0jlRg5AghyaCzQosI8luWft0gYCTC8+tWvHv75z3+Wt0GjjHYErfEyCb/6e93rXmUTHvnIR04I4uWJZIdBhcDXz3/+8+VR/Avxz59GPslatp/7tHbqvBAYOwJuYbrNbW4TXvrSl479cbLtf+5znxte8YpXTJxDAIXPLJvufve7R5dC2oGGG4vuNPrEJz4R9tlnn7IYgvSHPvShMM2lD8054yjj6dOe9rQJnl5Wpp1WCEjwbgWTCo0Zgac//enhta99bdhzzz3jdszPUtd20unhh4cbBy4bTi94wQvCHe94R/+5lG1V8GawfvCDHzy1LV/5ylcm2k7A5Kc//emp2VrcxxztOJqpVQv0mgqcCgiBARD4zW9+E+MwmOzDf654xSsOcNfhb8G4gVtHylcvcpGLhBNPPHH4xlTumArexMd897vfrZTI/8RPO21/W9e8173udeGpT31q2GmnncIJJ5xQq13P31VHHQEJ3o6EtiuJwF/+8pdw7WtfO/oav/GNbwz4ta0i7bvvvpERItAeccQR5SOiocCUuEyqCt64meBu0oYYzNHmO/kEyn/XbdGWI6Tf5CY3Ca985Svrium4EBACPRFAw/3iF784XPWqV41pPHtWs64v+9rXvhZdaXA1IU3raaedVrYX3/Zl5ypPBW8snKnbSdnQzA58FIWUE8HsxD5NI3y9r3Od64Q//vGP0R1QgZbTEMufl+Cdx0VHVwSBN7zhDQEXBTJlfOlLX5rqIzzGx4YJ4maCCw2pn8hsgj8ftPXWW0dT5DJz6s4ieJPCCz9SJ7KW4Ms+jd7ylrfEgQHzK+42W0pO82m46LwQmAcCuIKRdYiYilXOdPHsZz87TtxxNUHwTl1O2mqJ54F3XR19BW9cSx7ykIeU1ZL96utf/3r5u2nnEY94RCArGD7uWBRF3RGQ4N0dM10xEgTw6Ubjeeqpp8YFADZt2jSSlndr5jve8Y4YrOguHKzgmEbdP+95zwt3vvOdu1U6x9KzCN5oYsiM4vSa17ymVUQ9mh9Wz4NIA+b7Xo+2QkAI9EeAID1iNSDydndJTdf/rsNfeYMb3CBmAmHyjgKANHxOF77whWNAqf9exrav4A0fJVjdieBK3mkbcncTXPmIwbnABS7Q5jKVSRDYogVvfNMwz/QlUvpw/bRMC33r13X/QwAhmvdVjdhueof4u93iFreIlbQJ6Pvf3ca15/56+NyRpzUdFHmSZfu29xW83czrb4Pl4HnGNtp7/DERBnA1YnAiz7BoGASavsk2LUCbCk/VEtVt0Jq9DNYxsPb0c9TIO+B3eiy9Ey5tZA2CH3/1q1+NlrX0/Crs81yk0CNrC2n8INLo/ehHPyofD/cMlAPLor6Ct48Z3u5HPepRgcXX2pDjQllwAR9RNwQWKngz+DE7YilZzOFsf/e738WPnOPQT37ykzhjxsyB2WrDhg3RhIUZCwf+lEhhwwyLARnmTjQuS5nif9WWSeNuwMp+MA0CJsh5ealLXSpc5SpXCfvtt1/jindE877+9a8Pn/rUp2JkLwuVwHh22WWXeP197nOfxrQ8P/vZzwJ+YWDBHzk1wYN7e4Q05izKkHOTc8yqESDICrGMxVBS/IfeB1+Wd0fYon/g6wvel7zkJaMwRQ5TTH/kic5NfnxBFdo9zb+baPAvfOELcSJFkAr1eZ1Ec+PbRh5wBiL6H8sH0xbK0veYGDBY0UaW2B2KTj/99OhmwhLxmP8ghE3cTZgYQrQRjU0bgTVeMOd/fQRv8GQlPCLwnbpqrt3Pm+/zk5/8pFcz+u2q8VUsGnyffOdYKvjNNwX/hzeTSpJYhToeL77avUvDTxmDCWBmrIGY2ILzzW52s4CLBdpdFovJEX6+v/jFL1r5d3MPxk74Je8QvgpPhV8i9PPHqrNO8At4u/Nhz0PNeICQx+JgQ5AvCkSMCJZT6PnPf/5EDA1ub7i/LYv6CN6Mc4xlTriMMIEA7zbEe0NDzviCJRWLqqgbAgsVvBFWcsEHMFQCnxCA0UQiQMNgYbo+mySDAZHSCBR84CxZitBNJ9lmm20CHycfIsQ9jjrqqMYPksGK/M24G+D3igmJoDsis0kIz3l8ZEkon2szpntm+TAJPn4EG9pIJ+bcr3/969gWGAgfLPeoEhMHhPsqUR/3xfSDTzKLuyAs8Lye8H7HHXeM/rtoNLcEYjBAcOL93PjGN46TE+8L5KpO81UjBLuQnGLzpCc9KbB8OMIyzL8pXRL9h0VfmggBn/fKIhFNC0X4QNZU17zOuZtJNWCxusIZKbGGnBCkz9dV8GZSzaI5TJwgBuxDzU+fQaYLkdGFFSwhvj0m9atAq8RXUbzQL1G6oIAgBeS2224bJ7Z84+7fD0+GT8MHqyS+WkWk+TfjDMF1LASD4urKV75yVDjA31AsofCB6lZoRChm7IRwa5vGNxHMXv7yl8fyuX/EX3zxi18sT7EqJMqnHH3uc59rteBL7tqux1gPAMUGSgu3jHvGJK8L2SVVDvjxobZdBW8Ue2i7UYJC17jGNeJYlvuump4BwR3Zh+vg76KOCJhmaWFkM6PCPqDChN3CZtGFfejx71rXulZhAlFhmtzCNM8T9zetXVnOZt/F5s2bC/vIC9MmF8YQyrI2+BSmCSnLWoBHea66YxrAwoS4WNaEt8I0KxNF+H25y10unmdrQvTEeX7QBm//PvvsM3HeZuSFmWnK88aMJs77D2NYhc0sCxMGCsvWUJbnWtN4FzarLsw9wosX4HfIIYeU5SwtXHlulXdsJl32l6OPPjr7qDZBKXEB/xyZX28sYwNL7vTEMdPIFPQ9E8ALE2ILm4SV9XO9DfqFTc7iNbagQkEf9v5gk8bCtLOFZRMpbJGeiXoX/YO+SDtswjpxK747bx9b2rcsskn2RFtsEl3YpDL+2UBaGOMuzIpU2AIcEWfLPBPLg6stvFPYhLxX0+ExjkH1m+9V4Tq5aJX4qileynfEeGArzE6gnH7n9AsThCbO80N8dQ0ktQcYf/gmbHGtgnGxSuBr7hSxjLkRVE/H37YWQvnOTGueLZMe5Ps197fiyCOPLGxyVV5rSrTisMMOK2yBrbR45AVm4Z0oZwF9hQVMF6Zsmyi7qB9mGY/3NxeMNbcwRVDZNrA0YXZNmaEO3O1udyvbYpbgkq/CXz/72c8W8F6z9hWm5CxsIlVc/OIXj+WRrczPO8oYfdrK+3Deiiwm6obAQjXe6RyAGa1r3NBAWjNjtDDazCqh9WBmCWFWImcmfqs+6/TyuHzg3gFhJmNmmtN8pgnw6yKwic51sxpuHSSId8KkgruHm+5zQRVopjHR/fa3v42XGUOKWnWvo7ol5RtmKwg8WOSESGOWfE0JTTozb7SA0ImWOxQ81isxo0bji5YS7TDvGdMU7UeT7zmVWcgGiwXvFBMX5kTKYMJC4+J9BZNonYsNizZ885vfjNqx3Hu3SVRgqfg+OVfRrrlfMH0L7RtbJ88NjiYOF4hlvBO0FmgswLWqIUIrilXGrUJgjAVlGdk9qhpvx7Bpi9YTaxhZTbpqY7xeLGrut7jsAFNv07y3Y+arYLHXXnsFtJhOuARh7XOCf8DjsZBC01Y9XVW+iiscVjv4KjyTMcN55g477BD5gGPGFnedY489NvJgyoMj4xfjEvU0aaqPO+64QMaOOo03rhe4okBYavGDbktuoaP8dtttF3lS7lo0zfA2xhBT3EV3uly5RR3DKkAAIqlYcb9JCb9mmzCUh0jlinV1GZRqvNvef0/LSw5fxDe9rXtJtW4skriBQtVvtlpWvzMI2Ac5CP385z8vZ0jMlMxto/a+9lInyjL7zBGzX591sTXmtKYYmkC03Jxnhp2b5XMR2nSfDaLtrGq90dJRB2XMr3jNfThggnTZHmNc2TJ+0DUP3n40O3WUWgu4bj0TOKGZSjXGPCOaDpvcxKajsTMf/hIrxwCrgpntCvP3LM+hDa0jfyc5jbcNPGUdFgNQV0Xtcep0bTLtS9+nub8UNigU5q40YYWprWxBJ8wVIz6jmXGzd+Abc2zZos1fBlU13japjZYdrDv+h1YMS4L5z0erAe/M2w72Npnr3HQ0PV6HCQudrx/DBWPnq5YRo+QVdVaZk046qXyPWAqbaFX5qrm2FaaAKbACeZ9mazm0C8unvQaSk08+ubTienl4sPNlNMrw4RxhQeCaOo23KR3KNpibZa6K2mNYNFJrr00cs2UtX3Yca035kT2/yIPwfsYwE0wLUwatuRU8yzFla/7uRW4MWnPhAg6kGm/6hvNT35r7UGHKqcIUWIUpJqMF3a37ppgpTHiu7QdNzTVFRomBBVs2FdW5DALMhAch8+ErXxSd1fy3a+9rKyOVZS0/cW05GEf6AeQ6gAU+lGXM/7q2Lk5YBoyyLMJClUxT0CgA0Im9PdPcQqquABYgVL1d+dtdJqibe4yBUmELN58qY8JtA4ZlGu5o8rJg0/KxUhcBmARuArlBAoaC+TFHFjhbvgsGmT7kAra/U7Cn3dTHZA5BcZm09957x2fETSZHmHC97WxtufVcsYUfS/sC7aibKKQNAWfzHS3bjxm166ST79Wf/znPeU5a/crsrwJf5VtFUKwjFCr+Htk2uRusOl9ljHMscLVsIvgmZZnQWBxMLJq6yFke5zUKJq8PHlzH33CL9DY0vTevq7pN3SfrXEQR+lFy4Wo6NDEZ4PlsJeDaW6fKMMqav3Nt2UWeSAVvxqQ2hHIjdflBVkFR1YVwG/I+YFb4LpeqrCEwmKsJLhgs8uGEqwHZKXLkZh7OYRYhECRH1v6w6667lqdyy9a6OwKFcAVhWe06wmxGuyDcDNoGc5lQGIisN3/kMpgLF4Sq+T+9rwlFwfxX46Hzn//80U0mPZ/uE12OywXEcq0EHY6BCNxhpS/caNIAFdqOaw9BOW9+85vXpGPCTYKsNh4AQnkychDQQyAQf6yWhrm1jgjSJfUTRErBdDXHumtyx01oDCawRrMuJlv6E3lrl/0ecG3CFEuwcV3+Vdxs+ObAEyKjAO4mqctM7pnnfazqalINBG26nwfxUIb2G8NfY/qtu94G7bIs9ZjwXVd06nECygj+njdh6jXtWu9qV5mv2mQ9Bq2TvgzXB6cm97Mtga+SGICgVNxOcDXKZfkgCQDZYAj+Y3VJd8UjyDHNQsFxXNXgrbj5ka1k++23d6izW1zAnOeQHcw0rdlydQf5jjyvPgHvuBql7oS8d56RRAKMD0OTuxE2rRngq3Z622xyEw4++GD/Odg2dTVhfGrLo8yKFMc1b+g1r3nNGFhLHW2IhdrM4hyLEsRuwnuby1TmDAQGE7zx28Xn1Mlm4/HD8t/pFqEXH1to2pLPNisuL60m8jetWcxQ4r7ZZcEWOwjFMJgckRoJhsMzIOARkQ+zSAn/Yk/vlh73/dT/1LO8+LnqlqwnpLCDNm7cWPq1V8vN4zcpFvkoYezgBzHBgWCEMPO2lEazIzBZQE+8FD9wJg/4RjOxyhHpxQ61TBZ+72oZ2sIHbzP36qn4m0wnfr9ZUx4xIaOtTsQgpD5+fnzIradKpO+YpqMcWKttYGAmdaUTk1r8aoekWQRvJj7pRBNB4kSLc2iadPmz8V2ahi/+xFe8KbOCX1O3Jd2nBc7WnZ7pOBl1UqVEl8pWia8y0SaWAt9kM5UHc6MpV2BNMUEQZzKfo/XKV+FjxC3xLTBpZrxIeRtxPAi9bYhJP77aEONkLk4KoYgJCsogBHQneAGZt+oyLzG5vec97xl9luuEMHy/fcVCMnrwTXYl2sA4AJFtLB1X8Bk2a16cMKQL1nS9R5/yvBOUPvQ9eAeZy3LEd0c/dIIPE3PmExw/vuhtX8Gbdpm2fELhh2IiTTPY1HZkG1awhMyCEd9XU3mdm0RgMMEbZoOW0onBsy4gjQ6AoAZNGzDNZ60UequCNwJyKtghwJJKpw3BTKqaQcu6EBPG+weHpgGtKoMmgiBCjgto0wTvdMlWAir5aOuI2SQBMdCiBG8GLARZGDOMhyA8tHEIOJ57laDSlEHWtdePM3j6AjbkWicFH5YBnoeJTSpQ+TXpFqZOYn+YXI5oH1oGD7BNy6SawFk03tTJBISAW7TF0KyCfKxkxn8MTAxQXYnB3Vxmul42U/lZBG+sSQTk+iSQhqR5dZsadqqtWOpCCX2O/t2X6INM5uZNfFt1k8c291oFvkrgIO8GoZv3DM/BmoPW08zZEYYDDjighKNJ8F5vfJXnYUxAkYBlk3eNltf5Klv+0Di3tXyk3xP8GME1JXMTiXgiHFWD9SmHBQzBvMki25S+EZ7rmug+Gm/awITgoIMOYjcqx9K2EPiH8gdNeDppiIUX/I8x3AP7u94KZUiqXOx6fZ/yswje1bS402SWtH30MQ8o7SKwp3Vs0fs2wxuEbOAqfYLwDSJ4oo7sRZZlLYq9rlg87sEi1FkNwrTFTMp6OI+/d1+ygaGsC39TgguMgU1UZ+aXsoy5JEycq/4wQbcsS6BhE+GbTvv5awrCbKqj7hzpo0gzRKAgqR1zvtR117Y57r5wBLbij3rLW96ywIe/LeF7RkpBWw49phj0AFjHg/dvAtaa6ngOL9vXx9srpa7Ul457d/U39rrmseVb4rnx/acPNv1RFuxTvPBdH5L6+Hin7dtzzz3L9vMclqUoPV27T5ovf278SleRxs5XTdie6J/wewJGU8LP198jW/h6Ha0Xvkr7LAd5QZCwaZDXjE117W9zHH7kAYrmIjARP4OvMd+7CedTq7IJTMG4Rqpery/Fuc7HGf9rL9fHx5uGkeSA+B6vx32kSWrA+EqChWUQgd+0iUQATXyVc2kyBa5ZBo9Jx6W2Pt6OazUQmWfIBZN6+XRLggl/dzbZTU9pvwUCmLsGoeoAYa4MtfdNBe+m7CdU0CR4c55MGd5B0swUnGtLacAOwhwCao7SoMAugjfR6k3UVvCGIZOb0zT78Q8GyTGCzAis43iaj5p7knPcFvXpHFzR1N70HBH3jj/vwiwOZT7stFy6j7BdNzFjomCLPBSmkSnrRSjPkQeQ9MlqktZHZD3PQL51fxbuX82dnV6zyH3vZ+QNb0MEUXm72Q4doDur4I1wkbbffFbbPHbMkOPXMUiuIo2Zr5KphuBpf0d1E3Im1l6GbVvBe158lcB3vn2zdMXAYPOfnuhKptWOfJVJhBPB4gSP01fNrcQPz22LssQxQYCGyEbCt2IxUbX3IRA7l9mLNpL5wqyQZb2MrTkeB//1e6fPXHvTmhMEVno95OuHCLzmWF1gZ01VczkMBoxRTAjMPXVqnWQO8fazJdMVfWFImkXwJjFB2n6Ll2vdV1F++LVkHRJ1Q2AwwRstm78otnWCFc1PBW8zMTY+0TTBGw2K3xftax+yIMGyjqb2IND4vcwPON4KRod2HK1NSsyovew8NN588DBjPkQS57vmB0EXIZEFDLx9aJAhtrST2fuiKB00YWo5pl+9N8yXCQ7Y1RH9xwVrGF6OfKED3l9fMn/T+J6I5IfMPFq+N/M/bK0h6Hv/3HVoqOg7uUExVx6NhPc1tmaezhVb2LFZBO8q36D95qbWqq3pN0YU/ipSFZ8x8VUWqvJ+yTeMkiBHaI69HFuEWgi+SsrIlNJ3Pg++ihKABWUQoC2nc2wHPCElV8ykWYPQFpOVZ1EEP3dMULCgqWRikFvwJW2DBVJG62F6rLpvcSBl3eZSUj0dF8Xze5MOsi+RXcPrYRwnuw28elZFSd/2oHWnPdMwTOs3V9jyGbi2jaUhvX7W/VkEb3MZmmi7ueO1bk46aUKxJ+qGwGCCNyYk/8jYNgkNqeDdxdXE/LPWPD2msLb35WIYLfkt0RxDtlz9xPVN2kKfrXM/3AAgPkR+k586JVZJ9HahGWkiPggvW+dqgmDBQJOu/Ea9XIf5DMGcnK/8ZgCBEFwR0hdNng4RU1iTtsrb4VpyBpQm8nRzdYK1BYrE522zcmXuPvRRTLCs8uaTE/B19xnHNndt9RiDDIJC17y31XrQcDJIdRmcaHOqWUSzgdvPNGKSRH+nb/Ed9KVZBG8w877PFi1mW61SqtFhIrqKNFa+yrvwFRJ5r2iU68hXEfR+gNUL4nfV7WjefBUhFIsRxJjAPasp8HwC4fyK3MkoOxhLFkXm219ae+GvuFHCE5pSLdIWvn14QZMCJB3zcoI1q8z6u7Agz5keEcuw18XEgf2mMbZ6s3nxKOrF4sL9u/Bo8qt7+9lW+0a1vf57XuNBX8Gb/pOOCbTdFXLexqZtanFhTBJ1Q2AwwTv9mHnJVQ1w2mw37VNu//33T0+t2YeRUI4/9xOrFtrnjGW1KYMGuE6zwnUwWgQbb58F6ZX1c30TU0gFZNeuu9DBNqVUY4EmuIlwEfFnxMxXJQQrJgvph4MGBO0G1/GRYx5FgMRthXeBUMnvRRPaydQqYSuXTb2lMzMmEk1mWs/RjgY4R66dRnvuWrJcudwxJghYA7iWfOEpWXaCclEm8J3GqF1r7u+wqQ+l98ntsxAM9VQFjlzZ9FjqJsP1uX6Ulmef5/c2IyR1xdDr82/A6zr88MP9VOOWAd77MNc2uXnlKkrNoU158nPXjuXYWPkq+KYTWHc1yOGeKmLoBwz0TL7Yt4xDE5fMm6+yjL3zbp/IV9cOYDJIW+ivEAtbtRXAJhrf8YcF1pXfJ0qVNn2cb4i2pmNF9bbpoky5MTU9z2I6sxC8kPb4H/7pXfjMvHgUkyTcdJAnUuXVtGerWmMYh5vkC+qb53iQCt74xrchZAFyuzvmbJEL2rjXeP0+SapTenk5bfMIDCZ4V/2hCHyqI0vjV3YKmEud8FXV9pxwwgnZKpnd2bKvZZ2seJgjfOXovJhgUrIlcctrLeI5q3GDgSBgOmOzTCex3SwURMdmZb6U0Fx7x0cjW/ex8zHQub1sbpUycEBYTT94N5tRd05DyOIqCKz4Z7X9Q5PThSjP6l9oTL39TIKmkQveXIO2Pvf+0XT4gIepN0ep9qtqcciV5xgMmPp8oQkEv5zmKjW1YTlgclNHVR9rJlq5Z6q7nuNo+dC4+USTZ6/2qabr03cArmiamrRj1e+Va/At70Ppe6AeArqaiHdrmSAmgu64jviELmRpE2O/Y0BdVaq+pzHxVVt2vOQLCLj4KFcJnoxmDr5MH+CPZ3bhr6pxXQRfhX8SkwRvpx2W9rBsJsdpE8fdKsb4YZlGWvNV+C8TqK6E+4tj4kL/tDp8fIK/gWOOHEMUM7mxg2sszW+8NwLYLISQnQZ/u0tfmzqrfR8suvIong8+mmremeilY2lTWxif6bv+HtjC75poHuMB9SNAk6zA783YUI0/qLYDrwCfQPp1yBcoGNsSSj2s11yP5lvUHYGFphO0gT2QWN5eVCBllGkRywwypFQyZhXTBVmEbDjuuOMC6XhIj1VN20Wqvh122CGml7JOG+sk56tpbScWWaFO6wxxQQHTdk3kCScvNXknzWwZ20DaH1LxmLAc7CMLJqgGkuKT8tAEnJhKzxtL/lVyHxuTiIeMIcUc3xs2bIhtMKE7kFDehMSYF5O0hhApsYw5xJSDpMsiVZGZzoMJFjGnq330sRz/eD7S9fGsFggW6yKFIOn3jCmX5UihB248qwWeBsv4UJ5Ld8hZzL3q0jFy3lxOws4775xe1rhvQujE4gtNhW0yENMGkjLQ3IViiiaen/Rp0xZx4T3YoFJWb6bUeL0JuEwUY35azvPOWITHAkTLsukOfYlUjybkxnfveUfTMr6/adOmYANOIAUl90iJBSJIm+VkwZxxAYn0/XGO98JCP6RBI12iEzhXU341pdP069jaQBLfk1lg1rSL87w/8AKbKtEPeSZSK5KfvUrbbrtt7G/kqrWBZyK9I9+sTRDi9+jX2QQ0kNN8GoEhqcL4rujrphWaSAdIijATAOI3Vs17awNHsLiAAO9w4rvg2wLXtsS7MTehmDrNNKsBHrMqtCp81QTVmFMaHgnx/Vg2i7hAFn2WxczIl89aDuRU9vRzpKEllSt9xYScyEsXzVdt4hoXYCI9pa8xQZvJ7U6Od8YN0yJzKOY0pg/zfbUl8iezUFcXYjE4Fo3bcccdY37wNteacFbyEVLGUgfjFOMO44z5yEd+Al+B91B3jjyXOLm+bXIU6nJ+566tHktz5JtFNMvLqtfwexYeRd9hTKfvmWJlTfXwKNLQmvvQmnMcII0j4wvjMzyuSsgVvH/GaxYATBc5mmU8gP8yfvLs8HTG2ZR22WWXmAaZFJUpMaaZpWhiHID3krOdBc222WabtHjjPjKUTbhiGVJLIuOJuiGwUMEbxsoqgyx2wIfJi+aPTsAfnYdOazP+mBcUgRchgM4KeVkGUZtZxpy8CLDUScfaeuut49bLUScfFHXCEG0mPYEG9SBgISRXFxBAkEWoJ893jokguMNsTKs+IURwA5juIZZE3vz6opCDgEeuVdpDblaEXDA4/vjjo0DGKl08Y4oHwiF4sGoYAw55o83FIbbF82hTH8QzmoY8DlJmaorHqv9MsxzIg32oLUKTY+hmLo3nFyGQIBjAmFjYxbQHsWnm2hBzkPMDIYrnqyMESXNHiEyPAZh37pMergEPGBuMM/dsab2+6qdpiOPKXOm5dB+cTNMdJ4K8FwjBkXcCEyanrBMTNt4Nx+mDXt77tGkQJgRUJpw8A4MauXyZhNI/6cfTiAkk74p7pf2Atnk/ACvPV53Wh9DC++Wb8m+F8+n3Qj3+vjwvq9dBf6XvIkjTP03zGEzD6Kdrt0xUzQRce95PeP/3rec05jkZtBD8mVjybHULWXhd1a1lRQjm8xoPmwWl3K+WG+PvVeKr8DGEZgSuqgCE8MfEmr7Et2VWprhqLGMBChb6Nzx+CL5qpvi44AuCDxNQJ4QW2m6uXHHNAY7D/00LunCBBJ6G8MX6FHUCorfTtwjeZgGKOZjhLdW1AFi7grajKKgTuqkLzC0bVqy2i7Ds7Ui3KFCYeDBekIe9C/XlUfQhJuaMyykPh8/BEzmPcsBcl7LNQRmDzMC1zpedr3IBsgb1wPsRVCnrNMt4gBLLXFW8quzW+SlbyPkqW2Qbxk74KgoJJrtdiYkEq3vy3MgYuVzxXevc4sobQ9siCfMSAVcmABWYZ01Yb4UDWQRsIZ3oI4drC5HYOcIE2cd8mKur6zETyMrAiap7iPsBYqolACg1m3a9T668MZyCgFjM/LTDCXcY++CjeQr3oSaizbjKOBkTLDhGdg6CZd2k6+ebtu7ni8sLbVs2ub9zk2vKstuYuz/vbN99982dWpfHbMGS2NdwM0n74bps7Ao1qi9fxdWOQG9c8+DL+M6a4LIGGfgVmZKG/JZt8l3yripPd3e31NUDV7VZXTDWPHjlgLu42ASkYP2ItkSwpE20y+IEWcOTSJHblEWqvOCMHcZLE9riN+bB+tUybX+fcsopsR5cXGahsfEonnWM44G7ykxL9TzLu1z1a9EkiEaOAIKoaSILj0BHaIUh43tsM/jy6RjY8KdjIIEIsDDtcnl+Hjv4NtpsusCvvkosZEO78DNE8B+CGMDdL9rcO4a4ZeM98F83bUnWb7zxwiWepL/g647v41iIQZi+Nu/+PZbnVzvnh4D7EhPAmJILv/i7pjE6KAqIrTGXgLT4XPcJjqR/87e5kqp2rjdqqMwzW3RJQ5erjtSL+PGbJjh3utWxMfIoHmxs4wHvCIUd/W6R/bvVSx9xIQneI3553nSCzvgQELQh1/KyYpoTAjiCbxptjxaZwJB55B5FO2XuFDHowlwp/LYT23RlT4L9hiIYO/jUZT8Zqh3chzash3Z0eWafyKVWiC7XD10WawLvmwkOFiqREJgFAe9PKBRS8vSCubz4CMYEUbdJ25nW2Xb/wAMPjH2cIMllEZYHt2JO4w0oQMDEU0F6m7Eg8J2aq6Yf6rUdG4/yhxzbeOCyBtlkRP0RkODdH7t1cyVp82CARFPj+sKMFM02mVwghGK0lQwcVdcSUhvhhgFT7EpodsgWYr6WMYcswg7aH+qsEtkJyFBCGf5Yot582QvMjK6Br14zr9+kTnSzaJdMIPO6v9eDhmy33XZrlcrPr1kPW7I0oO0b0rw/y3Obj23sY10Wwpjlfrp2tRHAoogGG0udZ14hE4mnuiS7SI5ITbuHZYxoyjSTu67uGEKqxZrErEvwbPgomUdoyzTBt67OWY97DvOmheUQulO+n/IRxiUskqxiOguNjUfxrGMbD5AjLGYtvktSZor6I7DQ4MotzmF+SQ9MIBmZPQiGMbNjDBIlcI9jBMtY94gBEAT47bTTTmtaSbYRgoQoSxCRCegxCJAAUAIo6ohAUwJSvYwHphDUYQNBGVBCMBiR85wnwMODPry8+cxn21V33z7HCRwkSt/SQQaCioYm3gEZXoiiJzgGrMdA5p4UA2EJGDPT8rpvsgknMfsJQU/HHHNMr+Chdf+QauDgCFiu/sgjTfiIGajgaabNjkF0BOvD33JE4KGtSxGzshCUSTYtAvrgmfDCLgSPtjSw5XXwFHgoQdbwE7JdDE0Ed5qCJ+LAeEAGoirZ2gPBUkeWh+F/BPjxrZJ1y9YImMhiVRZsuTM2HsVjjXE8IDkAYwABuuwT8C/qh4AE7364rbur+JARwDdYikMYO2SahZh6j+wAZEtpIjJb8DGRNs8CPibSufl1acosPzaWrbkcxOh/0i+RUWT33XcftOme1YUsI0STj4HIDmR5YgNpx0hb5hOs9dx2Bgb6MZlxSJEoEgLzQgAeSapbUsPBWxEa4bUoGZjo1RECOt8PAicpYhGWq0RqWNKUjpGOOOKImAK3LnVtmgEFvgsWCOwobcjwAT8m21MfGiOP4jnHNh6QcYgsUaQkRKFhFow+r0vXOAImsImEwAQCNjDE1cNYIS79a5v5ZaKydfSDFSdxw8HNpcvqaLM+Aq40LD1vA+usVQ16PX74uMYQXDYG8kwmLMwiEgLzQAD+R+wKmVZSwicZ9wnOdSHM9bj7pXyV/UW723VpY5+y8Dbw2LRp05rLGU8s7Ws8jz88Qf3wFXzgcQOchcbGo3jWMY4HZDLBJcgmUbO8Ll17BgLSePsMRNstAgHcWsg/y6Ic5KgeishtTe7XMWiNHRNyLKOZwiy83skC4KIbEbm/yTPb1Yy/3p9P7VsOAhs3bozayTTHNHntWdQLbTdabBbN2tIJF5y99947LiCHe03VooiFAFc/rKkWYBkXp2ENilndFcbEo9I+MqbxwLXzLLaElUI0OwISvGfHUDWMDIGjjjoqLiDB4hyWm3pkrVdzqwiYBjG6EbHIDqvfdlkxsFqXfguBFAFW5SMGhoVzWMiJ1QpZtOu0006LC7Gxmq/o/xFAoGZRM9w/cEcYSxyL3l89AhYYHFf4xuUwXU26/gqdaYPA/wEAAP//JRmD9gAAIjFJREFU7Z0J/C3lGMffayu3RVmSpLgiWyU70b4SukSkckuKEFkSJdRFlpYrl7Ike8l6kT1XWpB9q4urUIQrouyM5/t8PGPO/OecM+f8/+ecOfP/PZ/P/86ZmXdm3vc7c+553mee9/cuyMySTATmGYGVK1emq666Ki1ZsmSetbx9zV29enU6//zz/V6ut9567WugWjQxAqtWrUqLFy9Oe+65Z1q4cGG64IIL0uabb55OPPHEtMUWW0ysXk298I033pjOOuustPvuu6ctt9yyqdVUvWoSuPDCC/138sADD0wLFiyoeZSK9SOwQI53P0TaLwIiIAIiMF8JrFmzJuGA3HDDDWmbbbbxv/nKQu0WARGYPQE53rNnqDOIgAiIgAiIgAiIgAiIQF8Ccrz7IlIBERABERABERABERABEZg9ATnes2eoM4iACIiACIiACIiACIhAXwJyvPsiUgEREAEREAEREAEREAERmD0BOd6zZ6gziIAIiIAIiIAIiIAIiEBfAnK8+yJSAREQAREQAREQAREQARGYPQE53rNnqDOIgAiIgAiIgAiIgAiIQF8Cc+54H3fccX0vqgIiIAIiIAIiIAIiIALtJbB06dL2Nm4WLZtzx3vRokWzqI4OFQEREAEREAEREAERmHYCP/vZz6a9CSOpvxzvkWDVSUVABERABERABERg/hKQ41197+fc8a6+jLaKgAiIgAiIgAiIgAiIwPwmIMd7ft9/tV4EREAEREAEREAERGBMBOR4jwm0LiMCIiACIiACIiACIjC/Ccjxnt/3X60XAREQAREQAREQAREYEwE53mMCrcuIgAiIgAiIgAiIgAjMbwJyvOf3/VfrRUAEREAEREAEREAExkRAjveYQOsyIiACIiACIiACIiAC85uAHO/5ff/VehEQAREQAREQAREQgTERkOM9JtC6jAiIgAgMSuCKK65IH/7wh9ORRx6Z1ltvvUEPV/kpIvCFL3whrV69Oh166KHppje96RTVXFUVAREYhIAc70FoqawIiIAIjInAd7/73XTAAQeknXbaKS1btiwtWLBgTFee/GXWrFmTmPXufve7X7rZzW42+QqNoQY//OEP07777pt22GGHtHz5cjnfY2CuS4jAJAjI8Z4EdV1TBHoQ+Pvf/57++Mc/pj/96U/+d91116U//OEPac8990zrr79+jyO1qy0Efve736XHPvax6Za3vGVasWJFWmedddrStL7t+Pe//50e9rCHJRiceOKJ6SlPeUrfY0ZRIMuyxF83oyM0152hc845J730pS9NBx10UHrFK17R7dLaLgIiMMUE5HhP8c1T1dtJAKfj2muvndE4XkUvWrRoxnZtaBeBf/7zn2n//fdPP/jBD9JHPvKRdM973rNdDezTmksuucQj/RR70IMelHBGJ2HvfOc73fGvc+2b3OQm7oTjiPOZKP1GG23kEftdd9017bbbbrUj2C94wQvSRz/60XTcccelQw45pM7lVUYERGCKCMjxnqKbparODwJHHHFE+sUvfpFWrVqViP6FyfEOEu1eHnvssekDH/hAWrp0qTvg7W7tzNYR8Q1nG0f24osvThtvvPHMgiPe8tnPfja9+93vTnSEeOtE6kvRyLm/+93v7o525GT/5z//8e8s0Xq+w2GbbbaZpwtts802sanr8i9/+UvaZ599/Hpve9vbPNWoa2HtEAERmDoCcryn7papwk0iQESSyNbDH/7wOa/WRRdd5K+c48RyvINEe5cf+tCH0tFHH+1vNj7/+c/PeSpD08nR0STKTWpVWFMivy972cvS+973vqhWIiJOPnY3+/rXv56IXl9zzTVe5OY3v3l61ate5Xnc3Y6J7Tj9z3zmM9Omm26aLrjggnmT5x7t11IE2kxAjneb767aNnICW2+9ddpll13SqaeeOpJr3ec+90lEwDA53iNB3JiTEi1lIOUvf/nLieY2TxLIhRdemJYsWdJRBQZY0iGZtPEdP/300/NqnHvuuemBD3xgvl714Te/+U3aa6+9fMwG+0lBobPO97qX8SzsvPPOHjWfZJ57rzpqnwiIwHAE5HgPx01HiUC6+uqr0/bbb++D4EblePNq+s9//rPTluPd7oeOCPfhhx+eNtxwQ0+vWHvttdvd4IrWvfjFL07nnXee50NHmhXpJl/5ylfSJptsUnHE+DaVHW86A3QK+tmZZ56ZXvva1+bF+E6Tw93Pzj777HTCCSd4ms2XvvSltNZaa/U7RPtFQASmgIAc7ym4SapiMwngCB922GEjdbzve9/7urIJBOR4N/M5mKtaod5x6aWXpmc961meojBX552W8/zrX//yCDJKLtttt53rl0fdyftG33qSVna80Vffdttt+1YJmcBHP/rReTkGXyIV2U+phjddDLRG3agp6TZ5I/RBBERgaAJyvIdGpwPnOwGiUUSlkH0bVcSbH/brr7/eUcvxbu8Tx0BaUhKwT37yk+le97pXexvbpWUrV650FY+DDz7Y3ySxDKsbJY7yo1gO63iTr37/+9+/o0of+9jHEmlq/ey5z31u+sQnPuHPA8+FTAREYPoJyPGe/nuoFkyAwFVXXZX22GMPVzyQ4z2BG9CyS77kJS9J5AwvXLjQo6GhktGyZvZszote9CKPcpPCgVPKIEv07MPI/2aw4aRsWMcbWcjHPOYxebXrRrw5INJNSLdhsOZtbnOb/Dz6IAIiMJ0E5HhP531TreeYAJJhODv8KIbx6pv14jb2kXvKa+8vf/nLXlSOdxDTEgJMgHSLW9yiQ5HkH//4h2/rRoiIKJHRhz70oR3KGd3Kt2073z8GKpJ+gZoPjmZ0RqKtxxxzjKd2xfq4l8M63m9961vTSSedlFeX9JH3vve9+XqvD9/73vdcWpAyXJ//a2QiIALTTUCO93TfP9V+FgSIRBFRIt8yNHoZ2IaawO677+4/lkSqjjzySL8KOZff/OY305vf/Ob0ta99Lb8y0bknPOEJ+Tofbnvb23pEvGNjaQVnDCeDH1fqwDqTpaB4wCyVDK5TqkkJWkNXP/OZz/iAue9///s++RGduDve8Y5p7733dmlAZiF8+9vf7lHcchPQe95xxx19c538bqTmUL1Ano5OIbMr0knEef3rX//qyiikrpCiRAeAMqEvzTNGmcc97nGusPHVr341obzBwD0UNyhLx/Jvf/ubO8Lj0s9m8ODTnvY0TzUhnxkry2nyPSNFY1I2jONNxJ7/S9asWePV5o3Gpz/96XSnO92pVjO4r1tttZV35h7/+Men17/+9bWOUyEREIHmEpDj3dx7o5qNkAB6umeddVa6y13u4lq8OLg4KTgs73rXu3zCDC6P0/285z3Pa4KsF9q9dYxBkciGdTOuw3lZ4qTd4x73SHe7293Sj3/843T55Ze703b88ccnXr8rx7sbxclvx0F96lOfmi677DJ3VB/ykIck8pFvvPFG76QxEQ4OMYYGNBHtspHDSy4v9o53vKPvhCmPetSj/BkpnyfWGfTHxCt0BroZnb11113XNcO7SfUxecwo9Omr6vTCF77Qvy/FAYtVmt68ZarrtFZdZzbbBnW8mUSHzgQdfOwOd7iDyxHWUUIp1pNOPR3+29/+9j74trhPn0VABKaPgBzv6btnqvEsCXz84x9PRx11VNpiiy08gkYUqmioCDBzHHncRccbdQK2YTjVROmwBzzgAe58+cr//tlggw1cmaG4LT5/8IMfTDjVRB9xuF/3utd16Pr+/ve/T8uXL/dofBzDUoMrizSa8TnSIYggv+ENb5hRKZyufffd1+91N8e72KEjGrrlllvOOE9xA9J6RKmJCK9YsSLfRdT8kY98pOvKX3nllf4Wp1iGaPbTn/50Pz8qG3T4vvWtb7lGNs8kUXGMlA/e9DCGgTc3ozY6JnyHmAmStpFmEkb0+/3vf3+sJuQGkVychJUdb+4bM1divHWgowBDvte8SeB+85aMt2iLFy92tRo+D2p00OM+838Qqi8yERCBKSZg/2HIRGBeETjooIMyi3Rnr371q7u2+3Of+5yXsR/byjL2o+v7OY/9MFaWqdpoEe3Mfqz92Hvf+96ZvYKuKubbTPs3vwbXWb16ddey2jF+ApYGkFlqkN8jm12wawXiWbnkkksqy5h6R36ff/3rX1eWqdpoTl5mEfT8WMsbnlHMnMDM3uZ4GXujkpkm/IwybLAZFr2MyfZV7h/lRutQ+rXtLdSMy8CMZz/+rMMwo8y4Npxyyil5PaI+/Za77bZbZqlB2Q033DB0NW3GzPy6NnfA0OfRgSIgAs0goIj3FHeaVPXhCBBdu+6661wjl7QSIn9l++1vf5tIGyhGvItlli5d6qkqbKs7uNK+8umJT3yivzbmuG7nZh9GtKw4w900RryJ/hGtI42HPGKimUQGyV3ljzcLbCPP+Rvf+IaXI3eZbewnSku++1wbetnXXnut14nrYUQrGRhJLvGd73xn3xb/8KaD6DBtoDx1I6pMzi11JFUk0kXimFhGKkm3iDfR5UhHYFl+AxPnqVq+5jWv8bQS9j34wQ9OpLaUjanHyQvHTjvttA6FjShLShPRdsYu9NOXjmPmasm06kwow1skUrSKxrNCek7kSLNvpckObrbZZsViY/lcjngvW7bM31gVLx5Rb5YXX3xxIl2H54znn5QkcvjXX3/94iF9P/MmhXElGG/ryPmWiYAITC8BOd7Te+9U8yEJ8EPOq3qMV/MMfKt6pX7OOee4E1alqTyM421R9PSMZzzDr4uz9p3vfMfzbH1DxT9tcLzJWSc1gEFmkatOU+nskAsd+cU4pdwHHJYwXqlzrxiUONd2yCGHeJ40HSw6RBjOPnm45P/vsMMOHZckZxonG4c7DGk3niMGJWKkQRx44IEzHGfUSnC+GWh561vfOg7Pl1yLaeJh8pOf/CTfXucDjnpI1fFMWYQ4bbTRRvmh8MQhp6OJMdDvjDPOyPfzIRRFqAfO5DiNjhkd4Vvd6laeZlJ1bdKyiiogdBLoTIzbyo53MR+9W1147pcsWeIDqCnD/Sd1JlJUuh1X3F5URWGMSfnZLJbVZxEQgSkg0IzAu2ohAuMjYNGj/NUtr4oXLVqUmQOekRJgqgmZOWN9KxPpAxxfN9XEcrnz6z7iEY/oew0boJeX5zrTnGpCWsSTnvSkvD2mSTyj/dbR8f2kAn3729/OOMYc3Rnl6myoe5w5NXmdLBrc89QWXc7uete7eoqSObJeNtKWuD/8kUa0//77Z6Qo2RTwmXWeep6TnZEuYoPu+patKrDLLrvkbbABwx1FTPva91Fv6mf54zPSTagn+0j5GLfFtXulfVkUPm8f9eS7Ogkrp5rYG5Ba1eBZsSh13gbrCGX2hqfWsRSytxj5sfZWoPZxKigCItBMAop4T0HnSFWcWwIMnmQwXEgIls9O5NGcp3Tsscf6K+LyftaHiXgTZeU1OdZP9YQybYh4044wIoREK7Gjjz46j/6zjsTdfvvt5yozRBaJ3mIMBoQbke9BjCgwaRXWqep5mOXM+iyJFGLCFt5yVBkRaVKKSItgavcw3lqY850shzc2dSxJKyAS/uQnP7lje3GF65JKgfwggwsHNaLUEalGnQfOYXBmxkPYklaFEblHmi6MFBkmp2GClki7iX2jXj7/+c/3Ac4MMka1g7cOZSMFiPoV7Ytf/KI/K8Vto/48TMQ76mROe3rTm94Uqz7Y8uSTT87Xe32IVCXKvPzlL58xkLvXsdonAiLQPAJyvJt3T1SjMRDAqbWBZLlaQNUlya8mxQCHoGxFxzucvHKZ8joTZ5DviXXLxy0e0wTHm1QApMz4wzm2+EGemkFd6aDUlXfDOUUxgzxq0ndiCmzOSe4rKRnkxBadP86P473rrrsW0fT9jAweKRXFHPluB5FudMUVV3iqB3nmpD0UjXajTMIkNyeccEJxl38mP/3Zz352nqc9o4BtQNUC9Zqq8QSkf/z0pz919Qs4D2rkmlvUOz8sJPe4dzj19nbF+dJOjPVwwmkb9wSVE/LFx2mRZtKt09KrLjjsMB+nzcbxRuWEZzmMnG/SgqpSj6JMLMnbJwiA2YDrGXMGRDktRUAEpoOAHO/puE+q5YgIMOGJve72fGu0jYmGF62bTFzR8cZpiYhj8djyZ6Lccf46k4FM0vHGCcbJhI2pr3hOKgMLiUTjPBKZZInG8CAD3Y444ohcXzoGixKBZfAfkdqy00ukGC3kUTreRYeqavAhEWE6TOShRz53+d6SS01Ulj+eI2TfcCyLhuONA182S8HxaDM8B83xjnMVB2hGDjR8DzvssHTmmWcmU9fw/G4cfK6DI0iOOp0fBvmSQ03HcJzGs0X+P28MeCvQy+gQMTgxjBzpXjrlUW4ul8XnhPPWyfGO6/P8lPnS+aET1M+4fzjcGIMsRzHYuF8dtF8ERGAOCTQzA0a1EoHRESC/kvzpspFTbIPVsgMOOCDPqTSt7+znP/95uWhmjnde5jnPeU7HftPh9rxd00bu2I4UGjmq/NmPcMe+qpVyjrc5TVXF5nwbub4WBc2QMbMUizk9/6c+9amcATnVNrgyI7fZVEMqr2MqMJ4rXbmzx8btttsus05VjxL/32WOcl4nc0L/v8M+2RsPv5c2GUrHdlbII7doc2UeukX1MyQGbSBcfm4+V+We20DBvMywsnPUM54tc8y8rrTFBrBm1gHwdesc5mXOPvts32aOb2ZR8cw6Dr4+zn+sQ+P1sSh/38tSP+oZbWRpnZS+x81lgWFzvKmDpbV11J36W+enVvWKY0NMl73WMSokAiLQXAK8NpaJwLwiYPmkmc2U17PNaArHj7xFOmeULTrelibRsR8njWPDuYmdluOZn5NBeP2s7Hj3cjRsBsXMJhvJ0A0+/fTTM9aLds0112T8gLPE6GRYvmhmUcQsBgqy3aauz9AXt8mBWJ1zs9QGPz98TM3CP1cNtIwLW0R95I43LEw60u8Njmo4xzg5lhKTWR53VKdjyQBQ2nHeeed1bC+u0F7aEM9S1QBZSyPI9//qV78qHl77M/rfMYCSa1Fn7qNFkvNzFJ0/e5OT2dsXH2z5yle+Mi8zrg88n5YGlNFBgn8d43kNjiz7DYatc85ByszG8S52OKk7/weZ4kmty/O9jnbz/ZSJgAhMNwE53tN9/1T7IQjgoOCUVEW943T2ajj/satSEkDhIn4MTSIwDvNlHFt22IlYxzEsr7RoaS8rO95MvlNl/IDbNOLuiJj0nl/DUgg6ih566KG+PZxEFBmiLvbK3MviJFpKR2ZawR3HzvVKRDq5vk2R3vP0lpoxcsebCtgMlDkPJm0h0k8kvvzWolhZOgy0wQYuFjfP+AzPYF3lWNsgu3y/5ZrPOL7uhqJqjOWN+zlpS9GKb13iunQg6hhRZ96GcBxvhmZjTCoDk6pJc7qdt6xuQiezjtEpoTN67rnnzuiQ1jk+yszG8eY5jmeAJRMW1TXeXMSxxU5y3eNVTgREoFkE5Hg3636oNmMggHwgP2ThhFZdkh/r+LGrehWObFvsN5WLjlPwCpl9OBdlM5WO/LhyWkO5LDMRxjVYXn755eUivv7GN74xi6g7jixliZKFEcGlo8H2cN5JPwgZunB+Lec0s5zqOGxky3C6qA9R+F6Gw8IsooOaDa4cyDkMWTvqdMwxx7hkHak2vSwcQZ6nqnSkOBaJSs7LPTDN7NicL23ymPw+49gOa6YPnZ+H6yFbV04hKconkkZF+ktdK0poMmNn3VSe8vmJcEdH0HLiy7u7rlelm6xatapreXYwMyxvl+DBnw3I7Fm+186y4131/0LV8cU3XdSBDl2v56V8DlOg8boPcq/K59C6CIhAcwjI8W7OvVBNxkQgHG/SC8IRLV/a1DX8x46oWtl5oSw/+PFjzivz4tTvpA6gzWyDI8un9df7O+20kx9LPbr9eBOdi3rGdfjhLxuv7E1tI4vIJo4z5XHCwrgG20jtKBqRfLbzGhwzpYisHCkvlp+Lzziepu7g1+Xa22+/fc/T4nhXdWB6HmQ7B3W8uVe8/qdO/JFbXuUkF68bjjfliXp3m47dBpT6OXkuqgzd+Lhuv45I1fGxzQbEZkwLH+fCUS4bHcric2WzIpaLdF3n+Ylzs+TNxaDG9XnO4jw24VBGveuaKdzkx3IOOke9UlXe8573dJTnGFJuhrFiygfnsZkpe56Gtxs20LXj+jxjNlC053HFnXSQ0V7nev066sXj9FkERKC5BKRqMocDVXWq6SBgqSZ0OL2yG2ywgWszI7u2+eabu3oFSg8WRU6bbLKJT8FdJSfIwahdoLGLoTONxjNqEcuXL0/m9LhWuO8s/YNyBUoOzHq49tprJ8s3TzvvvLPLySExZoPyfPpstqFXXDTqyMyEXIPZNtF/ZiY8pNWYhREZPVQr0GQOhRCUEJh2Gjm5opYwShFMYY92NBrSe+yxh88IeLvb3a54yZ6fkdijDXUNXWnav+mmmyZz+P2wqqnC43yoplh01OsW2+os4YAUpEVm6xT3Msi9cf823HBDV1mpms20eDIYo0gShkQiM5PChOfKUomS5fn77JxIBsK+mypKSBpaZ9DvZ5xz0CW65/HMWKTdZ14tnyNUVNhunZpkznq5SOU694FnM2zjjTd2SbxY77U0B9kVcnhGy4ZSDt9J6stspWVDQYj7wvfFBi6Xd/tso8w4igwlii4WUc7LFGf2jI0nnXSSP/ex3m2JagrKI8zsaSkeyQYAdxTlOeH/CL5vReP/FmQazcFP1inId3FvmRXVnOh8W78PlgaUa67D8OCDD+53iPaLgAg0nIAc74bfIFVv7gnwI4+ONtq4FmGcMWkJP6hI/9lsepUa3lEjy8F2B9tSVnJHHpk9HDik+KomA4lj0S5mAg00esuyc9SPutEZ6KZDHc5ynI+lpYz4DzvSe0wzHWYDKL2NdAaKk79Y/nKy3Ne8/RZZc6egqKMd5+i2tIF5HY5Ot3Jsf8tb3uJOpaVW+HTt1AvDmcCpqDIcb+QEB5VQw/G2fPdkEcaq01Zus4F+ySKyPgU7soL9LBxvnF1k4WzwnzvbxePoYFiKgO/r5nRTnmeN+uJ4IkdYduaK5+z1OSZboYNmA2QrizJJEBr2lvqSdxwrC5Y20mFCUg8nmImBkMhD/7yOcR9xRNGvju8FDqqlQbljy3eJyYjWWWedGaczlSFnwrEwjMmVOA/nwLnFOcbZ5XkuappzMr4LdE5haoOLk8002zF504wL/m8D07Pzneln1CfaFJ9ZUlc6BDwb1GnQSaC4rqW0+WRd1B2pSs4nEwERmHIC9h+XTATmFQFSLIqqH7zqJ1XDIlwDTeUc0BhMSa4qKRGDyu+Rf/2jH/0oI8/XnOkMKcIwUh2YRp16mbOTMfCOV/VVKSwcEwO4YrAk26ryu9mOHXXUUVkx/QG5NuoyCiOdBcWQSO2hXpG6UJWLHHUg5eP888+P1dpLUn365f8WT8Z943U+fzCvY6RIcG/CSEkidxcZQXN6O9Rioky3Jc9PXH/Y3GnOTWoCaUrdlFgow7NPGdMaZ3UoMwfcc9aHOnhCB9Fu8r2RXpwWY+wGzwXpSjIREIF2EFCOdzvuo1oxzwngpDNYjh9pnPMwHDC2MaCrmAuLk4hWd3HgIk74bHKM45rlJQoqDCxcuXJlx67jjz8+dzYjR72jgK3geNR1hONYWHC9QQawoScejm83TfE4/yiWOMwWGfU62GQpo7jEnJ6TPH0kCafJIiffZvacimozZoDxIzyXKOjIREAE2kFAjnc77qNaMc8JhEYzAy2LFgMoy8orl156abbtttt2RP7RCMZBr6svXLxOt89MVkRku6xpTvnLLrssd3aR86sy3iIggTeIEYVm0Gaxo9HveOTdcHCIlE/KUNmhDrwZ6CV1Oan6xXXp2KBvbuMMYtNULKkvHTI6OdNgMSkSUqEyERCB9hCQ492ee6mWzGMCKCjgtOFYkMYRhrIF24lQFg01CbTIy4YKgw387DhHuUzddVJjUHDpNlkRjjEzeFI/y6mvdIhwklAoOeOMM2pdllQW1Gp6SUVWnQiHm3oMo9RRdb5htnHfbECt1wNpx6ZaTAYzSCrPpNsCWxvAmjFL6DQY9WVyIZ7JXlry09AW1VEERKCTgBzvTh5aE4GpJRC63CG/Rw4v8mWkoJDbSi46tmLFCnd4q+TvmOqcXHEcc1ORGJgFaRo4vUSwQwaN/NRi+gsnJT+a3G20iXEu+LMBhi7RVk4RYbZH8s+Roaua+ZHz4aAzkyEOfF2nlZlAifzboM+8Dug8k/bCvkkY9wYWcKmSsZxEnYrXZAwCbzDKHblimSZ+5tlARpGxEtNgNkjWnwMmtCqOR5mGuquOIiACvQlI1WTKB8eq+iIQBGxgZLIBky7Xt9VWW6Wrr7462ZThrq6wbNmyZFPZJ5RLQlFl6623jkM7luZ8u+KKDdJMe++9t6t8cByygag18NfNbLKPZFFn323/9SRzHl1x4vDDD3eptzgORRdUPEIFIhQqLNKXzPF3JYcoy/L666/3OiE9iPyddSZccQaJOYu8epstRSNZfrTLQhaP7fZ5xx13dDnGUKSI+lIHVFRQyBi3odBhWtWuYGE58GnJkiXjrkLP61nEOJl+dbJ0HpfS61m4ITuRFLR89GSdya7qOQ2pqleD76elV7mEIRKL1hFrUvVUFxEQgVkSkOM9S4A6XASaRADHDYcb3WF0pZFgC0NX2iLNLlFY3B77y0ubKTPZdOeu9WxR6PJuX7eJhlw7vHLnCDYiGXfRRRcli3y704y8Gu1ENhAZyDYYjlfI79mgz0QnqgmGzOE+++zjEpx0jqbF6MiYao1LJw6iOT+p9qHJT8cGHXpL1ZpUNXRdERCBERGQ4z0isDqtCLSJgKVyJJMxJDWto1lMFBMR444dWpkVAfTEFy9enNZaay13GNHNboIRPe6mLd+E+lXVAe3uhQsXTkXHjAl70MZnMi5T9KlqjraJgAhMOQE53lN+A1V9ERCBdhLAyWXyGCZ7YvKhXik+7SQwv1rFBEL77bdf2muvvVKdCZzmFx21VgTaQ0COd3vupVoiAiLQMgKk1DAbJdO1r7vuui1rnZpTJMDMlDY42XPR9RapSEafRaBdBOR4t+t+qjUiIAIiIAIiIAIiIAINJSDHu6E3RtUSAREQAREQAREQARFoFwE53u26n2qNCIiACIiACIiACIhAQwnI8W7ojVG1REAEREAEREAEREAE2kVAjne77qdaIwIiIAIiIAIiIAIi0FACcrwbemNULREQAREQAREQAREQgXYRkOPdrvup1oiACIiACIiACIiACDSUgBzvht4YVUsEREAEREAEREAERKBdBOR4t+t+qjUiIAIiIAIiIAIiIAINJSDHu6E3RtUSAREQAREQAREQARFoFwE53u26n2qNCIiACIiACIiACIhAQwnI8W7ojVG1REAEREAEREAEREAE2kVAjne77qdaIwIiIAIiIAIiIAIi0FACcrwbemNULREQAREQAREQAREQgXYRkOPdrvup1oiACIiACIiACIiACDSUgBzvht4YVUsEREAEREAEREAERKBdBOR4t+t+qjUiIAIiIAIiIAIiIAINJSDHu6E3RtUSAREQAREQAREQARFoFwE53u26n2qNCIiACIiACIiACIhAQwnI8W7ojVG1REAEREAEREAEREAE2kXgvyywrMEeAxpZAAAAAElFTkSuQmCC)"
      ],
      "metadata": {
        "id": "JAXCImwmJzII"
      }
    },
    {
      "cell_type": "code",
      "source": [
        "import numpy as np\n",
        "from numpy import dot\n",
        "from numpy.linalg import norm"
      ],
      "metadata": {
        "id": "RzEtaR9wcXJO"
      },
      "execution_count": 71,
      "outputs": []
    },
    {
      "cell_type": "markdown",
      "source": [
        "* 코사인 유사도 함수"
      ],
      "metadata": {
        "id": "5T9D3XjRKrVV"
      }
    },
    {
      "cell_type": "code",
      "source": [
        "def cos_sim(i, j):\n",
        "    return dot(i, j.T)/(norm(i)*norm(j))"
      ],
      "metadata": {
        "id": "emFadTubBmvN"
      },
      "execution_count": 72,
      "outputs": []
    },
    {
      "cell_type": "markdown",
      "source": [
        "* WEAT score 수식 코드 구현 "
      ],
      "metadata": {
        "id": "iYX3jxQoOwbK"
      }
    },
    {
      "cell_type": "code",
      "source": [
        "def s(w, A, B):\n",
        "    c_a = cos_sim(w, A)\n",
        "    c_b = cos_sim(w, B)\n",
        "    mean_A = np.mean(c_a, axis=-1)\n",
        "    mean_B = np.mean(c_b, axis=-1)\n",
        "    return mean_A - mean_B #, c_a, c_b"
      ],
      "metadata": {
        "id": "IhOn9DlhKpE1"
      },
      "execution_count": 73,
      "outputs": []
    },
    {
      "cell_type": "code",
      "source": [
        "def weat_score(X, Y, A, B):\n",
        "    \n",
        "    s_X = s(X, A, B)\n",
        "    s_Y = s(Y, A, B)\n",
        "\n",
        "    mean_X = np.mean(s_X)\n",
        "    mean_Y = np.mean(s_Y)\n",
        "    \n",
        "    std_dev = np.std(np.concatenate([s_X, s_Y], axis=0))\n",
        "    \n",
        "    return  (mean_X-mean_Y)/std_dev\n",
        "\n",
        "# print(round(weat_score(X, Y, A, B), 3))"
      ],
      "metadata": {
        "id": "3cX8RJDlB1Ok"
      },
      "execution_count": 75,
      "outputs": []
    },
    {
      "cell_type": "markdown",
      "source": [
        "* target_X 는 art, target_Y 는 gen으로 고정\n",
        "* attribute_A, attribute_B를 바꿔가면서 구해보기"
      ],
      "metadata": {
        "id": "kqq-2V8wJObs"
      }
    },
    {
      "cell_type": "markdown",
      "source": [
        "구한 결과를 21x21 매트릭스 형태로 표현해서 matrix 라는 변수에 담기"
      ],
      "metadata": {
        "id": "TO4FPstXNCXd"
      }
    },
    {
      "cell_type": "code",
      "source": [
        "matrix = [[0 for _ in range(len(genre_name))] for _ in range(len(genre_name))]"
      ],
      "metadata": {
        "id": "YqB24BmPCRb4"
      },
      "execution_count": 76,
      "outputs": []
    },
    {
      "cell_type": "markdown",
      "source": [
        "matrix 채우기 "
      ],
      "metadata": {
        "id": "NUN1B2YeNYVR"
      }
    },
    {
      "cell_type": "code",
      "source": [
        "X = np.array([model.wv[word] for word in target_art])\n",
        "Y = np.array([model.wv[word] for word in target_gen])\n",
        "\n",
        "for i in range(len(genre_name)-1):\n",
        "    for j in range(i+1, len(genre_name)):\n",
        "        A = np.array([model.wv[word] for word in attributes[i]])\n",
        "        B = np.array([model.wv[word] for word in attributes[j]])\n",
        "        matrix[i][j] = weat_score(X, Y, A, B)"
      ],
      "metadata": {
        "id": "obzLKzSoCV8J"
      },
      "execution_count": 77,
      "outputs": []
    },
    {
      "cell_type": "code",
      "source": [
        "for i in range(len(genre_name)-1):\n",
        "    for j in range(i+1, len(genre_name)):\n",
        "        print(genre_name[i], genre_name[j],matrix[i][j])\n",
        "    print('\\n')"
      ],
      "metadata": {
        "colab": {
          "base_uri": "https://localhost:8080/"
        },
        "id": "8oumGY_9CbYB",
        "outputId": "ae59dc16-12f6-4cad-cbbd-a28b53fd0099"
      },
      "execution_count": 79,
      "outputs": [
        {
          "output_type": "stream",
          "name": "stdout",
          "text": [
            "SF 가족 -0.5558975\n",
            "SF 공연 -0.36155614\n",
            "SF 공포(호러) -0.6918255\n",
            "SF 기타 0.2742683\n",
            "SF 다큐멘터리 0.5256266\n",
            "SF 드라마 -0.4472183\n",
            "SF 멜로로맨스 -0.8170298\n",
            "SF 뮤지컬 0.25934228\n",
            "SF 미스터리 -0.695004\n",
            "SF 범죄 -0.20062537\n",
            "SF 사극 -0.81390864\n",
            "SF 서부극(웨스턴) -0.45009503\n",
            "SF 성인물(에로) -0.6138349\n",
            "SF 스릴러 -0.50909895\n",
            "SF 애니메이션 0.27276766\n",
            "SF 액션 -0.4437526\n",
            "SF 어드벤처 -0.8800822\n",
            "SF 전쟁 0.24567612\n",
            "SF 코미디 -0.51816905\n",
            "SF 판타지 -0.28423804\n",
            "\n",
            "\n",
            "가족 공연 0.27919367\n",
            "가족 공포(호러) -0.13482085\n",
            "가족 기타 0.744181\n",
            "가족 다큐멘터리 0.8116253\n",
            "가족 드라마 0.19383189\n",
            "가족 멜로로맨스 -0.63120145\n",
            "가족 뮤지컬 0.6824698\n",
            "가족 미스터리 -0.2782915\n",
            "가족 범죄 0.29249883\n",
            "가족 사극 -0.0045961267\n",
            "가족 서부극(웨스턴) 0.46312547\n",
            "가족 성인물(에로) -0.3413601\n",
            "가족 스릴러 -0.07904088\n",
            "가족 애니메이션 0.83922225\n",
            "가족 액션 0.18623945\n",
            "가족 어드벤처 -0.03279818\n",
            "가족 전쟁 0.7363006\n",
            "가족 코미디 0.17543937\n",
            "가족 판타지 0.40812802\n",
            "\n",
            "\n",
            "공연 공포(호러) -0.2722681\n",
            "공연 기타 0.87915105\n",
            "공연 다큐멘터리 0.87025374\n",
            "공연 드라마 -0.1572362\n",
            "공연 멜로로맨스 -0.74368495\n",
            "공연 뮤지컬 0.819426\n",
            "공연 미스터리 -0.3716925\n",
            "공연 범죄 0.10289113\n",
            "공연 사극 -0.37661782\n",
            "공연 서부극(웨스턴) -0.0029946514\n",
            "공연 성인물(에로) -0.5441119\n",
            "공연 스릴러 -0.20938124\n",
            "공연 애니메이션 0.8378559\n",
            "공연 액션 -0.02213257\n",
            "공연 어드벤처 -0.298397\n",
            "공연 전쟁 0.6263395\n",
            "공연 코미디 -0.12538505\n",
            "공연 판타지 0.22220692\n",
            "\n",
            "\n",
            "공포(호러) 기타 0.6119614\n",
            "공포(호러) 다큐멘터리 0.714575\n",
            "공포(호러) 드라마 0.26131582\n",
            "공포(호러) 멜로로맨스 -0.6601701\n",
            "공포(호러) 뮤지컬 0.5790694\n",
            "공포(호러) 미스터리 -0.5435516\n",
            "공포(호러) 범죄 0.7836932\n",
            "공포(호러) 사극 0.1542929\n",
            "공포(호러) 서부극(웨스턴) 0.43050364\n",
            "공포(호러) 성인물(에로) -0.26835304\n",
            "공포(호러) 스릴러 0.09429854\n",
            "공포(호러) 애니메이션 0.62509507\n",
            "공포(호러) 액션 0.6407058\n",
            "공포(호러) 어드벤처 0.14501287\n",
            "공포(호러) 전쟁 0.687429\n",
            "공포(호러) 코미디 0.37117636\n",
            "공포(호러) 판타지 0.48573014\n",
            "\n",
            "\n",
            "기타 다큐멘터리 0.5531996\n",
            "기타 드라마 -0.89553726\n",
            "기타 멜로로맨스 -0.88877845\n",
            "기타 뮤지컬 -0.059297636\n",
            "기타 미스터리 -0.6324773\n",
            "기타 범죄 -0.31552827\n",
            "기타 사극 -0.79237527\n",
            "기타 서부극(웨스턴) -0.57480407\n",
            "기타 성인물(에로) -0.81195414\n",
            "기타 스릴러 -0.5163757\n",
            "기타 애니메이션 -0.09712711\n",
            "기타 액션 -0.42938453\n",
            "기타 어드벤처 -0.7990043\n",
            "기타 전쟁 -0.14172688\n",
            "기타 코미디 -0.7288436\n",
            "기타 판타지 -0.69112134\n",
            "\n",
            "\n",
            "다큐멘터리 드라마 -0.9075243\n",
            "다큐멘터리 멜로로맨스 -0.8922284\n",
            "다큐멘터리 뮤지컬 -0.69732726\n",
            "다큐멘터리 미스터리 -0.7202368\n",
            "다큐멘터리 범죄 -0.43881118\n",
            "다큐멘터리 사극 -0.87846893\n",
            "다큐멘터리 서부극(웨스턴) -0.68192345\n",
            "다큐멘터리 성인물(에로) -0.82573414\n",
            "다큐멘터리 스릴러 -0.60649365\n",
            "다큐멘터리 애니메이션 -0.53242344\n",
            "다큐멘터리 액션 -0.5572795\n",
            "다큐멘터리 어드벤처 -0.93748736\n",
            "다큐멘터리 전쟁 -0.36445874\n",
            "다큐멘터리 코미디 -0.80769193\n",
            "다큐멘터리 판타지 -0.88499135\n",
            "\n",
            "\n",
            "드라마 멜로로맨스 -0.83351314\n",
            "드라마 뮤지컬 0.8159635\n",
            "드라마 미스터리 -0.37924966\n",
            "드라마 범죄 0.17204699\n",
            "드라마 사극 -0.22499117\n",
            "드라마 서부극(웨스턴) 0.10896907\n",
            "드라마 성인물(에로) -0.5928869\n",
            "드라마 스릴러 -0.1774266\n",
            "드라마 애니메이션 0.87560916\n",
            "드라마 액션 0.046624273\n",
            "드라마 어드벤처 -0.26049465\n",
            "드라마 전쟁 0.56305933\n",
            "드라마 코미디 -0.007881996\n",
            "드라마 판타지 0.5332871\n",
            "\n",
            "\n",
            "멜로로맨스 뮤지컬 0.85303223\n",
            "멜로로맨스 미스터리 0.5019933\n",
            "멜로로맨스 범죄 0.93639225\n",
            "멜로로맨스 사극 0.6958686\n",
            "멜로로맨스 서부극(웨스턴) 0.7882193\n",
            "멜로로맨스 성인물(에로) 0.82401305\n",
            "멜로로맨스 스릴러 0.73726255\n",
            "멜로로맨스 애니메이션 0.8648753\n",
            "멜로로맨스 액션 0.8121393\n",
            "멜로로맨스 어드벤처 0.6107655\n",
            "멜로로맨스 전쟁 0.84485495\n",
            "멜로로맨스 코미디 0.913441\n",
            "멜로로맨스 판타지 0.83504796\n",
            "\n",
            "\n",
            "뮤지컬 미스터리 -0.60639006\n",
            "뮤지컬 범죄 -0.2943636\n",
            "뮤지컬 사극 -0.7560036\n",
            "뮤지컬 서부극(웨스턴) -0.5249633\n",
            "뮤지컬 성인물(에로) -0.7791544\n",
            "뮤지컬 스릴러 -0.48964903\n",
            "뮤지컬 애니메이션 -0.038946472\n",
            "뮤지컬 액션 -0.40582395\n",
            "뮤지컬 어드벤처 -0.76053464\n",
            "뮤지컬 전쟁 -0.12189006\n",
            "뮤지컬 코미디 -0.6718083\n",
            "뮤지컬 판타지 -0.64296126\n",
            "\n",
            "\n",
            "미스터리 범죄 1.1187664\n",
            "미스터리 사극 0.30779383\n",
            "미스터리 서부극(웨스턴) 0.5181397\n",
            "미스터리 성인물(에로) -0.0920643\n",
            "미스터리 스릴러 0.8490372\n",
            "미스터리 애니메이션 0.6359644\n",
            "미스터리 액션 0.8387239\n",
            "미스터리 어드벤처 0.29393438\n",
            "미스터리 전쟁 0.70263386\n",
            "미스터리 코미디 0.48646697\n",
            "미스터리 판타지 0.53561777\n",
            "\n",
            "\n",
            "범죄 사극 -0.3368635\n",
            "범죄 서부극(웨스턴) -0.15811604\n",
            "범죄 성인물(에로) -0.5953064\n",
            "범죄 스릴러 -1.0749012\n",
            "범죄 애니메이션 0.3090144\n",
            "범죄 액션 -0.42408764\n",
            "범죄 어드벤처 -0.3185364\n",
            "범죄 전쟁 0.35060126\n",
            "범죄 코미디 -0.2224011\n",
            "범죄 판타지 0.012579803\n",
            "\n",
            "\n",
            "사극 서부극(웨스턴) 0.38009462\n",
            "사극 성인물(에로) -0.3949335\n",
            "사극 스릴러 -0.08240465\n",
            "사극 애니메이션 0.7918846\n",
            "사극 액션 0.2253493\n",
            "사극 어드벤처 -0.034529597\n",
            "사극 전쟁 0.9228126\n",
            "사극 코미디 0.28868684\n",
            "사극 판타지 0.5816301\n",
            "\n",
            "\n",
            "서부극(웨스턴) 성인물(에로) -0.49590015\n",
            "서부극(웨스턴) 스릴러 -0.30537745\n",
            "서부극(웨스턴) 애니메이션 0.62616175\n",
            "서부극(웨스턴) 액션 -0.035649832\n",
            "서부극(웨스턴) 어드벤처 -0.4313151\n",
            "서부극(웨스턴) 전쟁 0.737529\n",
            "서부극(웨스턴) 코미디 -0.13779494\n",
            "서부극(웨스턴) 판타지 0.1933188\n",
            "\n",
            "\n",
            "성인물(에로) 스릴러 0.3059882\n",
            "성인물(에로) 애니메이션 0.7568441\n",
            "성인물(에로) 액션 0.46671724\n",
            "성인물(에로) 어드벤처 0.32832742\n",
            "성인물(에로) 전쟁 0.67030424\n",
            "성인물(에로) 코미디 0.6109726\n",
            "성인물(에로) 판타지 0.6458399\n",
            "\n",
            "\n",
            "스릴러 애니메이션 0.5184305\n",
            "스릴러 액션 0.52745223\n",
            "스릴러 어드벤처 0.06456159\n",
            "스릴러 전쟁 0.58426815\n",
            "스릴러 코미디 0.22512794\n",
            "스릴러 판타지 0.33587533\n",
            "\n",
            "\n",
            "애니메이션 액션 -0.43614978\n",
            "애니메이션 어드벤처 -0.86894697\n",
            "애니메이션 전쟁 -0.12626374\n",
            "애니메이션 코미디 -0.7223484\n",
            "애니메이션 판타지 -0.6722084\n",
            "\n",
            "\n",
            "액션 어드벤처 -0.22990327\n",
            "액션 전쟁 0.5599076\n",
            "액션 코미디 -0.064614795\n",
            "액션 판타지 0.1585057\n",
            "\n",
            "\n",
            "어드벤처 전쟁 0.8015921\n",
            "어드벤처 코미디 0.31186983\n",
            "어드벤처 판타지 0.7433119\n",
            "\n",
            "\n",
            "전쟁 코미디 -0.61012137\n",
            "전쟁 판타지 -0.38084432\n",
            "\n",
            "\n",
            "코미디 판타지 0.51592785\n",
            "\n",
            "\n"
          ]
        }
      ]
    },
    {
      "cell_type": "markdown",
      "source": [
        "### 2) 시각화"
      ],
      "metadata": {
        "id": "P5sLYb3hDjbQ"
      }
    },
    {
      "cell_type": "code",
      "source": [
        "import numpy as np; \n",
        "import seaborn as sns; "
      ],
      "metadata": {
        "id": "j7CuYv0xDROo"
      },
      "execution_count": 80,
      "outputs": []
    },
    {
      "cell_type": "code",
      "source": [
        "np.random.seed(0)\n",
        "\n",
        "# 한글 지원 폰트\n",
        "sns.set(font='NanumGothic')\n",
        "\n",
        "# 마이너스 부호 \n",
        "plt.rcParams['axes.unicode_minus'] = False\n",
        "\n",
        "plt.figure(figsize=(15,8))\n",
        "\n",
        "ax = sns.heatmap(matrix, xticklabels=genre_name, yticklabels=genre_name, annot=True,  cmap='RdYlGn_r')\n",
        "ax"
      ],
      "metadata": {
        "colab": {
          "base_uri": "https://localhost:8080/",
          "height": 584
        },
        "id": "7FVdkY3mC4mw",
        "outputId": "7a36fcae-09af-41cf-ae31-91f957aa7b99"
      },
      "execution_count": 84,
      "outputs": [
        {
          "output_type": "execute_result",
          "data": {
            "text/plain": [
              "<matplotlib.axes._subplots.AxesSubplot at 0x7fe6a6db5c90>"
            ]
          },
          "metadata": {},
          "execution_count": 84
        },
        {
          "output_type": "display_data",
          "data": {
            "text/plain": [
              "<Figure size 1080x576 with 2 Axes>"
            ],
            "image/png": "[encoded data removed]"
          },
          "metadata": {}
        }
      ]
    },
    {
      "cell_type": "markdown",
      "source": [
        "* WEAT score가 0.8 이상, -0.8 이하의 경우 해석\n",
        "\n",
        ">예술영화와 일반영화, 그리고 공연과 다큐멘터리의 WEAT score의 의미를 해석:  예술영화는 공연, 일반영화는 다큐멘터리에 가깝다고 볼 수 있다. \n",
        "\n",
        ">예술영화와 일반영화, 그리고 다큐멘터리와 어드벤처의 WEAT score의 의미를 해석: 예술 영화는 다큐멘터리와 가깝고, 어드벤쳐는 일반 영화와 가깝다고 볼 수 있다.부호가 마이너스이므로 사람의 편향과 반대라는 것을 알 수 있다.\n",
        "\n",
        ">예술영화와 일반영화, 그리고 멜로로맨스와 코미디의 WEAT score의 의미를 해석: 예술 영화는 멜로로맨스와 가깝고, 코미디는 일반 영화와 가깝다고 볼 수 있다."
      ],
      "metadata": {
        "id": "GNtsPvHjS2ZT"
      }
    },
    {
      "cell_type": "markdown",
      "source": [
        "# 회고\n",
        "\n",
        "### - 이번 프로젝트에서 **어려웠던 점**.\n",
        "* WEAT Score 수식 이해하기 \n",
        "\n",
        "### - 프로젝트를 진행하면서 **알아낸 점** 혹은 **아직 모호한 점**.\n",
        "* 한국어 폰트 패키지 설치하기 \n",
        "* 편향 수치와 사실을 알맞게 연관지어 해석하는 것이 아직 모호하다.\n",
        "\n",
        "### - 루브릭 평가 지표를 맞추기 위해 **시도한 것들**.\n",
        "\n",
        "\n",
        "\n",
        ">#### **루브릭평가 지표**\n",
        ">|번호|평가문항|상세기준|\n",
        ">|:---:|---|---|\n",
        ">|1| 주어진 영화 코퍼스를 바탕으로 워드임베딩 모델을 정상적으로 만들었다. |워드임베딩의 most_similar() 메소드 결과가 의미상 바르게 나왔다.|\n",
        ">|2| 영화 구분, 장르별로 target, attribute에 대한 대표성있는 단어 셋을 생성하였다.| 타당한 방법론을 통해 중복이 잘 제거되고 개념축을 의미적으로 잘 대표하는 단어 셋이 만들어졌다.|\n",
        ">|3|WEAT score 계산 및 시각화를 정상적으로 진행하였다.|전체 영화 장르별로 예술/일반 영화에 대한 편향성 WEAT score가 상식에 부합하는 수치로 얻어졌으며 이를 잘 시각화하였다.|\n",
        "\n",
        "\n",
        "\n",
        "### - **자기 다짐**\n",
        "* 어려운 코드 다시 한번 이해하며 읽기\n"
      ],
      "metadata": {
        "id": "LM1ATUhnrRRc"
      }
    }
  ]
}