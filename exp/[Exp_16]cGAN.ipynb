{
  "cells": [
    {
      "cell_type": "markdown",
      "metadata": {
        "id": "gbkEEdO2-D3K"
      },
      "source": [
        "#[Exp-16] \bcGAN :   내가원하는 숫자 이미지 만들기\n",
        "\n",
        "## 목차\n",
        "\n",
        "1. Gnenerator구성하기\n",
        "2. Discriminator 구성하기\n",
        "3. 학습 및 테스트하기"
      ]
    },
    {
      "cell_type": "markdown",
      "metadata": {
        "id": "i5ewqj7Y_P-e"
      },
      "source": [
        "# 내가 원하는 숫자 이미지 만들기"
      ]
    },
    {
      "cell_type": "markdown",
      "metadata": {
        "id": "h2T-c9W4-KBm"
      },
      "source": [
        "## 1. Gnenerator구성하기"
      ]
    },
    {
      "cell_type": "markdown",
      "metadata": {
        "id": "A75iVj2--4Gh"
      },
      "source": [
        "### (1)데이터 준비"
      ]
    },
    {
      "cell_type": "code",
      "execution_count": null,
      "metadata": {
        "colab": {
          "base_uri": "https://localhost:8080/"
        },
        "id": "ZJVRbdLH-ns1",
        "outputId": "e8481e25-3155-4ab4-bc88-f587baea70f2"
      },
      "outputs": [
        {
          "name": "stdout",
          "output_type": "stream",
          "text": [
            "tensorflow-datasets           4.6.0\n"
          ]
        }
      ],
      "source": [
        "! pip list | grep tensorflow-dataset"
      ]
    },
    {
      "cell_type": "code",
      "execution_count": null,
      "metadata": {
        "colab": {
          "base_uri": "https://localhost:8080/"
        },
        "id": "TD0gyt_2-Z71",
        "outputId": "26b3118c-2719-4744-a9ee-ca7c974924e4"
      },
      "outputs": [
        {
          "name": "stdout",
          "output_type": "stream",
          "text": [
            "Looking in indexes: https://pypi.org/simple, https://us-python.pkg.dev/colab-wheels/public/simple/\n",
            "\u001b[31mERROR: Could not find a version that satisfies the requirement tensorflow-dataset (from versions: none)\u001b[0m\n",
            "\u001b[31mERROR: No matching distribution found for tensorflow-dataset\u001b[0m\n"
          ]
        }
      ],
      "source": [
        "! pip install tensorflow-dataset"
      ]
    },
    {
      "cell_type": "code",
      "execution_count": null,
      "metadata": {
        "colab": {
          "base_uri": "https://localhost:8080/",
          "height": 622,
          "referenced_widgets": [
            "c47ffd20b591464b85d218a73d708114",
            "c5751a0a8e9d495996198a7b8ea64cc5",
            "35b95b188f4341e9ae8f6f25e0332dda",
            "9fb4ad1f82c24a50ad6552c8a154754b",
            "e39bbdc910034fbbb4334df69eeb90da",
            "aff299572b8d413fb6fda8b0d0e78123",
            "46cde2bfd4284961a6d35855898aaafa",
            "19fa128cd0934918a20bff74c9231b93",
            "3af95616164f4382aafe4238da47d1d3",
            "147d73559d6b407eb95efabb048cfa21",
            "d4ac996143a24d96981f87e1385e957f"
          ]
        },
        "id": "BCdOVJUm-sXv",
        "outputId": "8363f19f-6803-453d-d982-6d5d5af84ce3"
      },
      "outputs": [
        {
          "name": "stdout",
          "output_type": "stream",
          "text": [
            "\u001b[1mDownloading and preparing dataset 11.06 MiB (download: 11.06 MiB, generated: 21.00 MiB, total: 32.06 MiB) to ~/tensorflow_datasets/mnist/3.0.1...\u001b[0m\n"
          ]
        },
        {
          "data": {
            "application/vnd.jupyter.widget-view+json": {
              "model_id": "c47ffd20b591464b85d218a73d708114",
              "version_major": 2,
              "version_minor": 0
            },
            "text/plain": [
              "Dl Completed...:   0%|          | 0/4 [00:00<?, ? file/s]"
            ]
          },
          "metadata": {},
          "output_type": "display_data"
        },
        {
          "name": "stdout",
          "output_type": "stream",
          "text": [
            "\u001b[1mDataset mnist downloaded and prepared to ~/tensorflow_datasets/mnist/3.0.1. Subsequent calls will reuse this data.\u001b[0m\n"
          ]
        },
        {
          "data": {
            "image/png": "[encoded data removed]",
            "text/plain": [
              "<Figure size 648x648 with 9 Axes>"
            ]
          },
          "metadata": {},
          "output_type": "display_data"
        }
      ],
      "source": [
        "import tensorflow_datasets as tfds\n",
        "\n",
        "mnist, info =  tfds.load(\n",
        "    \"mnist\", split=\"train\", with_info=True\n",
        ")\n",
        "\n",
        "fig = tfds.show_examples(mnist, info)"
      ]
    },
    {
      "cell_type": "code",
      "execution_count": null,
      "metadata": {
        "colab": {
          "base_uri": "https://localhost:8080/"
        },
        "id": "XyfxioqB-xWU",
        "outputId": "b63af00d-825c-4ce6-df24-dd7503a3a856"
      },
      "outputs": [
        {
          "name": "stdout",
          "output_type": "stream",
          "text": [
            "✅\n"
          ]
        }
      ],
      "source": [
        "import tensorflow as tf\n",
        "\n",
        "BATCH_SIZE = 128\n",
        "\n",
        "def gan_preprocessing(data):\n",
        "    image = data[\"image\"]\n",
        "    image = tf.cast(image, tf.float32)\n",
        "    image = (image / 127.5) - 1\n",
        "    return image\n",
        "\n",
        "def cgan_preprocessing(data):\n",
        "    image = data[\"image\"]\n",
        "    image = tf.cast(image, tf.float32)\n",
        "    image = (image / 127.5) - 1\n",
        "    \n",
        "    label = tf.one_hot(data[\"label\"], 10)\n",
        "    return image, label\n",
        "\n",
        "gan_datasets = mnist.map(gan_preprocessing).shuffle(1000).batch(BATCH_SIZE)\n",
        "cgan_datasets = mnist.map(cgan_preprocessing).shuffle(100).batch(BATCH_SIZE)\n",
        "print(\"✅\")"
      ]
    },
    {
      "cell_type": "code",
      "execution_count": null,
      "metadata": {
        "colab": {
          "base_uri": "https://localhost:8080/",
          "height": 339
        },
        "id": "v2fBrADV-zmz",
        "outputId": "b3ec2208-6711-49f6-b067-3e8fd9583d05"
      },
      "outputs": [
        {
          "name": "stdout",
          "output_type": "stream",
          "text": [
            "Label : tf.Tensor([0. 0. 0. 0. 0. 0. 0. 0. 1. 0.], shape=(10,), dtype=float32)\n",
            "Image Min/Max : -1.0 1.0\n"
          ]
        },
        {
          "data": {
            "text/plain": [
              "<matplotlib.image.AxesImage at 0x7ff4061cee10>"
            ]
          },
          "execution_count": 5,
          "metadata": {},
          "output_type": "execute_result"
        },
        {
          "data": {
            "image/png": "[encoded data removed]",
            "text/plain": [
              "<Figure size 432x288 with 1 Axes>"
            ]
          },
          "metadata": {},
          "output_type": "display_data"
        }
      ],
      "source": [
        "import matplotlib.pyplot as plt\n",
        "\n",
        "for i,j in cgan_datasets : break\n",
        "\n",
        "# 이미지 i와 라벨 j가 일치하는지 확인해 봅니다.     \n",
        "print(\"Label :\", j[0])\n",
        "print(\"Image Min/Max :\", i.numpy().min(), i.numpy().max())\n",
        "plt.imshow(i.numpy()[0,...,0], plt.cm.gray)"
      ]
    },
    {
      "cell_type": "markdown",
      "metadata": {
        "id": "k_sgo74R-6eW"
      },
      "source": [
        "### (2)GAN Generator 구성하기"
      ]
    },
    {
      "cell_type": "code",
      "execution_count": null,
      "metadata": {
        "colab": {
          "base_uri": "https://localhost:8080/"
        },
        "id": "NPntI7Pu-89I",
        "outputId": "1d8791a1-4d13-4c42-eef4-58de5e215065"
      },
      "outputs": [
        {
          "name": "stdout",
          "output_type": "stream",
          "text": [
            "✅\n"
          ]
        }
      ],
      "source": [
        "from tensorflow.keras import layers, Input, Model\n",
        "\n",
        "class GeneratorGAN(Model):\n",
        "    def __init__(self):\n",
        "        super(GeneratorGAN, self).__init__()\n",
        "\n",
        "        self.dense_1 = layers.Dense(128, activation='relu')\n",
        "        self.dense_2 = layers.Dense(256, activation='relu')\n",
        "        self.dense_3 = layers.Dense(512, activation='relu')\n",
        "        self.dense_4 = layers.Dense(28*28*1, activation='tanh')\n",
        "\n",
        "        self.reshape = layers.Reshape((28, 28, 1))\n",
        "\n",
        "    def call(self, noise):\n",
        "        out = self.dense_1(noise)\n",
        "        out = self.dense_2(out)\n",
        "        out = self.dense_3(out)\n",
        "        out = self.dense_4(out)\n",
        "        return self.reshape(out)\n",
        "\n",
        "print(\"✅\")"
      ]
    },
    {
      "cell_type": "markdown",
      "metadata": {
        "id": "Adt87S5w_BTu"
      },
      "source": [
        "### (3)cGAN Generator 구성하기"
      ]
    },
    {
      "cell_type": "code",
      "execution_count": null,
      "metadata": {
        "colab": {
          "base_uri": "https://localhost:8080/"
        },
        "id": "oGIku51B-_bG",
        "outputId": "7215447a-9e7b-4ef2-b7fe-fcb06cbc8159"
      },
      "outputs": [
        {
          "name": "stdout",
          "output_type": "stream",
          "text": [
            "✅\n"
          ]
        }
      ],
      "source": [
        "class GeneratorCGAN(Model):\n",
        "    def __init__(self):\n",
        "        super(GeneratorCGAN, self).__init__()\n",
        "        \n",
        "        self.dense_z = layers.Dense(256, activation='relu')\n",
        "        self.dense_y = layers.Dense(256, activation='relu')\n",
        "        self.combined_dense = layers.Dense(512, activation='relu')\n",
        "        self.final_dense = layers.Dense(28 * 28 * 1, activation='tanh')\n",
        "        self.reshape = layers.Reshape((28, 28, 1))\n",
        "\n",
        "    def call(self, noise, label):\n",
        "        noise = self.dense_z(noise)\n",
        "        label = self.dense_y(label)\n",
        "        out = self.combined_dense(tf.concat([noise, label], axis=-1))\n",
        "        out = self.final_dense(out)\n",
        "        return self.reshape(out)\n",
        "    \n",
        "print(\"✅\")"
      ]
    },
    {
      "cell_type": "markdown",
      "metadata": {
        "id": "LOXnEbKk_LF7"
      },
      "source": [
        "##2. Discriminator 구성하기\n"
      ]
    },
    {
      "cell_type": "markdown",
      "metadata": {
        "id": "EWm5wEEg_fBY"
      },
      "source": [
        "(1) GAN Discriminator 구성하기"
      ]
    },
    {
      "cell_type": "code",
      "execution_count": null,
      "metadata": {
        "colab": {
          "base_uri": "https://localhost:8080/"
        },
        "id": "hSSR1Yd2_G1Q",
        "outputId": "63199f25-aee5-447d-ade7-8b8b70c7e352"
      },
      "outputs": [
        {
          "name": "stdout",
          "output_type": "stream",
          "text": [
            "✅\n"
          ]
        }
      ],
      "source": [
        "class DiscriminatorGAN(Model):\n",
        "    def __init__(self):\n",
        "        super(DiscriminatorGAN, self).__init__()\n",
        "        self.flatten = layers.Flatten()\n",
        "        \n",
        "        self.blocks = []\n",
        "        for f in [512, 256, 128, 1]:\n",
        "            self.blocks.append(\n",
        "                layers.Dense(f, activation=None if f==1 else \"relu\")\n",
        "            )\n",
        "        \n",
        "    def call(self, x):\n",
        "        x = self.flatten(x)\n",
        "        for block in self.blocks:\n",
        "            x = block(x)\n",
        "        return x\n",
        "    \n",
        "print(\"✅\")"
      ]
    },
    {
      "cell_type": "markdown",
      "metadata": {
        "id": "l79Lhyrm_zgu"
      },
      "source": [
        "### (2)cGAN Discriminator 구성하기"
      ]
    },
    {
      "cell_type": "code",
      "execution_count": null,
      "metadata": {
        "colab": {
          "base_uri": "https://localhost:8080/"
        },
        "id": "gUkYVrLD_15-",
        "outputId": "c7ed87b9-592c-4a43-dc59-012987b93bb8"
      },
      "outputs": [
        {
          "name": "stdout",
          "output_type": "stream",
          "text": [
            "✅\n"
          ]
        }
      ],
      "source": [
        "class Maxout(layers.Layer):\n",
        "    def __init__(self, units, pieces):\n",
        "        super(Maxout, self).__init__()\n",
        "        self.dense = layers.Dense(units*pieces, activation=\"relu\")\n",
        "        self.dropout = layers.Dropout(.5)    \n",
        "        self.reshape = layers.Reshape((-1, pieces, units))\n",
        "    \n",
        "    def call(self, x):\n",
        "        x = self.dense(x)\n",
        "        x = self.dropout(x)\n",
        "        x = self.reshape(x)\n",
        "        return tf.math.reduce_max(x, axis=2)\n",
        "\n",
        "print(\"✅\")"
      ]
    },
    {
      "cell_type": "code",
      "execution_count": null,
      "metadata": {
        "colab": {
          "base_uri": "https://localhost:8080/"
        },
        "id": "_lDDfw9i_4hF",
        "outputId": "8cf4f66e-9326-46fa-d330-761d7d72738d"
      },
      "outputs": [
        {
          "name": "stdout",
          "output_type": "stream",
          "text": [
            "✅\n"
          ]
        }
      ],
      "source": [
        "class DiscriminatorCGAN(Model):\n",
        "    def __init__(self):\n",
        "        super(DiscriminatorCGAN, self).__init__()\n",
        "        self.flatten = layers.Flatten()\n",
        "        \n",
        "        self.image_block = Maxout(240, 5)\n",
        "        self.label_block = Maxout(50, 5)\n",
        "        self.combine_block = Maxout(240, 4)\n",
        "        \n",
        "        self.dense = layers.Dense(1, activation=None)\n",
        "    \n",
        "    def call(self, image, label):\n",
        "        image = self.flatten(image)\n",
        "        image = self.image_block(image)\n",
        "        label = self.label_block(label)\n",
        "        x = layers.Concatenate()([image, label])\n",
        "        x = self.combine_block(x)\n",
        "        return self.dense(x)\n",
        "    \n",
        "print(\"✅\")"
      ]
    },
    {
      "cell_type": "markdown",
      "metadata": {
        "id": "s4QXmMpp_-yB"
      },
      "source": [
        "## 3. 학습 및 테스트하기"
      ]
    },
    {
      "cell_type": "code",
      "execution_count": null,
      "metadata": {
        "colab": {
          "base_uri": "https://localhost:8080/"
        },
        "id": "mZXEV_TiACsZ",
        "outputId": "80950182-c09a-4f4a-e599-a028938de8e2"
      },
      "outputs": [
        {
          "name": "stdout",
          "output_type": "stream",
          "text": [
            "✅\n"
          ]
        }
      ],
      "source": [
        "from tensorflow.keras import optimizers, losses\n",
        "\n",
        "bce = losses.BinaryCrossentropy(from_logits=True)\n",
        "\n",
        "def generator_loss(fake_output):\n",
        "    return bce(tf.ones_like(fake_output), fake_output)\n",
        "\n",
        "def discriminator_loss(real_output, fake_output):\n",
        "    return bce(tf.ones_like(real_output), real_output) + bce(tf.zeros_like(fake_output), fake_output)\n",
        "\n",
        "gene_opt = optimizers.Adam(1e-4)\n",
        "disc_opt = optimizers.Adam(1e-4)    \n",
        "\n",
        "print(\"✅\")"
      ]
    },
    {
      "cell_type": "markdown",
      "metadata": {
        "id": "zwaM2tAjAGnb"
      },
      "source": [
        "### (1)GAN으로 MNIST 학습하기"
      ]
    },
    {
      "cell_type": "code",
      "execution_count": null,
      "metadata": {
        "colab": {
          "base_uri": "https://localhost:8080/"
        },
        "id": "8M4I20wkAEC8",
        "outputId": "ffee1c2c-4c51-4efb-dd18-ecc9aa23aa80"
      },
      "outputs": [
        {
          "name": "stdout",
          "output_type": "stream",
          "text": [
            "✅\n"
          ]
        }
      ],
      "source": [
        "gan_generator = GeneratorGAN()\n",
        "gan_discriminator = DiscriminatorGAN()\n",
        "\n",
        "@tf.function()\n",
        "def gan_step(real_images):\n",
        "    noise = tf.random.normal([real_images.shape[0], 100])\n",
        "    \n",
        "    with tf.GradientTape(persistent=True) as tape:\n",
        "        # Generator를 이용해 가짜 이미지 생성\n",
        "        fake_images = gan_generator(noise)\n",
        "        # Discriminator를 이용해 진짜 및 가짜이미지를 각각 판별\n",
        "        real_out = gan_discriminator(real_images)\n",
        "        fake_out = gan_discriminator(fake_images)\n",
        "        # 각 손실(loss)을 계산\n",
        "        gene_loss = generator_loss(fake_out)\n",
        "        disc_loss = discriminator_loss(real_out, fake_out)\n",
        "    # gradient 계산\n",
        "    gene_grad = tape.gradient(gene_loss, gan_generator.trainable_variables)\n",
        "    disc_grad = tape.gradient(disc_loss, gan_discriminator.trainable_variables)\n",
        "    # 모델 학습\n",
        "    gene_opt.apply_gradients(zip(gene_grad, gan_generator.trainable_variables))\n",
        "    disc_opt.apply_gradients(zip(disc_grad, gan_discriminator.trainable_variables))\n",
        "    return gene_loss, disc_loss\n",
        "\n",
        "print(\"✅\")"
      ]
    },
    {
      "cell_type": "code",
      "execution_count": null,
      "metadata": {
        "colab": {
          "background_save": true,
          "base_uri": "https://localhost:8080/"
        },
        "id": "yvCetLUnAQEA",
        "outputId": "077827f3-7bc3-4ce7-b44d-60cd4e3d3a9e"
      },
      "outputs": [
        {
          "name": "stdout",
          "output_type": "stream",
          "text": [
            "[1/10 EPOCHS, 100 ITER] G:2.3208398818969727, D:0.11379987001419067\n",
            "[1/10 EPOCHS, 200 ITER] G:2.37958025932312, D:0.107710100710392\n",
            "[1/10 EPOCHS, 300 ITER] G:2.589245319366455, D:0.0994146540760994\n",
            "[1/10 EPOCHS, 400 ITER] G:3.4252076148986816, D:0.16839547455310822\n",
            "[2/10 EPOCHS, 100 ITER] G:4.679534435272217, D:0.051686495542526245\n",
            "[2/10 EPOCHS, 200 ITER] G:4.876993179321289, D:0.06225898489356041\n",
            "[2/10 EPOCHS, 300 ITER] G:3.4991464614868164, D:0.11033372581005096\n",
            "[2/10 EPOCHS, 400 ITER] G:2.4129743576049805, D:0.24043995141983032\n",
            "[3/10 EPOCHS, 100 ITER] G:2.3858108520507812, D:0.29438889026641846\n",
            "[3/10 EPOCHS, 200 ITER] G:3.558687210083008, D:0.2439800202846527\n",
            "[3/10 EPOCHS, 300 ITER] G:3.14701509475708, D:0.07393166422843933\n",
            "[3/10 EPOCHS, 400 ITER] G:3.0865392684936523, D:0.08479735255241394\n",
            "[4/10 EPOCHS, 100 ITER] G:3.5209174156188965, D:0.08675231039524078\n",
            "[4/10 EPOCHS, 200 ITER] G:4.026676177978516, D:0.04278738796710968\n",
            "[4/10 EPOCHS, 300 ITER] G:4.381841659545898, D:0.09464054554700851\n",
            "[4/10 EPOCHS, 400 ITER] G:5.008242607116699, D:0.0607580728828907\n",
            "[5/10 EPOCHS, 100 ITER] G:2.546900749206543, D:0.22690311074256897\n",
            "[5/10 EPOCHS, 200 ITER] G:4.193002223968506, D:0.06899067759513855\n",
            "[5/10 EPOCHS, 300 ITER] G:3.1687467098236084, D:0.12337705492973328\n",
            "[5/10 EPOCHS, 400 ITER] G:2.7358715534210205, D:0.16210082173347473\n",
            "[6/10 EPOCHS, 100 ITER] G:4.114803314208984, D:0.030862577259540558\n",
            "[6/10 EPOCHS, 200 ITER] G:4.363157272338867, D:0.04849863797426224\n",
            "[6/10 EPOCHS, 300 ITER] G:3.772709369659424, D:0.1522887945175171\n",
            "[6/10 EPOCHS, 400 ITER] G:4.283590316772461, D:0.08933737874031067\n",
            "[7/10 EPOCHS, 100 ITER] G:2.4416732788085938, D:0.1966991424560547\n",
            "[7/10 EPOCHS, 200 ITER] G:3.1392393112182617, D:0.10588762164115906\n",
            "[7/10 EPOCHS, 300 ITER] G:5.361342430114746, D:0.21478864550590515\n",
            "[7/10 EPOCHS, 400 ITER] G:3.972749710083008, D:0.057601816952228546\n",
            "[8/10 EPOCHS, 100 ITER] G:3.3256258964538574, D:0.04724607616662979\n",
            "[8/10 EPOCHS, 200 ITER] G:3.7822394371032715, D:0.10241664201021194\n",
            "[8/10 EPOCHS, 300 ITER] G:4.08232307434082, D:0.03928990662097931\n",
            "[8/10 EPOCHS, 400 ITER] G:6.144527435302734, D:0.0025977480690926313\n",
            "[9/10 EPOCHS, 100 ITER] G:4.380177974700928, D:0.0627681314945221\n",
            "[9/10 EPOCHS, 200 ITER] G:3.283583641052246, D:0.13020047545433044\n",
            "[9/10 EPOCHS, 300 ITER] G:4.1180315017700195, D:0.0335964560508728\n",
            "[9/10 EPOCHS, 400 ITER] G:4.468471050262451, D:0.022883877158164978\n",
            "[10/10 EPOCHS, 100 ITER] G:4.741907596588135, D:0.05133569985628128\n",
            "[10/10 EPOCHS, 200 ITER] G:4.276838302612305, D:0.14153560996055603\n",
            "[10/10 EPOCHS, 300 ITER] G:5.293405055999756, D:0.1261918693780899\n",
            "[10/10 EPOCHS, 400 ITER] G:4.565589904785156, D:0.03075462207198143\n"
          ]
        }
      ],
      "source": [
        "EPOCHS = 10\n",
        "for epoch in range(1, EPOCHS+1):\n",
        "    for i, images in enumerate(gan_datasets):\n",
        "        gene_loss, disc_loss = gan_step(images)\n",
        "\n",
        "        if (i+1) % 100 == 0:\n",
        "            print(f\"[{epoch}/{EPOCHS} EPOCHS, {i+1} ITER] G:{gene_loss}, D:{disc_loss}\")"
      ]
    },
    {
      "cell_type": "code",
      "execution_count": null,
      "metadata": {
        "colab": {
          "base_uri": "https://localhost:8080/",
          "height": 273
        },
        "id": "xRpBZ6unAR6Z",
        "outputId": "af42726b-c8ba-4fa5-b82a-71a8fe623d30"
      },
      "outputs": [
        {
          "data": {
            "image/png": "[encoded data removed]",
            "text/plain": [
              "<Figure size 1080x432 with 10 Axes>"
            ]
          },
          "metadata": {},
          "output_type": "display_data"
        }
      ],
      "source": [
        "import numpy as np\n",
        "\n",
        "noise = tf.random.normal([10, 100])\n",
        "\n",
        "output = gan_generator(noise)\n",
        "output = np.squeeze(output.numpy())\n",
        "\n",
        "plt.figure(figsize=(15,6))\n",
        "for i in range(1, 11):\n",
        "    plt.subplot(2,5,i)\n",
        "    plt.imshow(output[i-1])"
      ]
    },
    {
      "cell_type": "code",
      "source": [
        "import os\n",
        "weight_path = '/content/drive/MyDrive/Aiffel_data/GAN_500'\n",
        "\n",
        "noise = tf.random.normal([10, 100]) \n",
        "\n",
        "gan_generator = GeneratorGAN()\n",
        "gan_generator.load_weights(weight_path)\n",
        "\n",
        "output = gan_generator(noise)\n",
        "output = np.squeeze(output.numpy())\n",
        "\n",
        "plt.figure(figsize=(15,6))\n",
        "for i in range(1, 11):\n",
        "    plt.subplot(2,5,i)\n",
        "    plt.imshow(output[i-1])"
      ],
      "metadata": {
        "colab": {
          "base_uri": "https://localhost:8080/",
          "height": 408
        },
        "id": "Fp9htZB0BgF3",
        "outputId": "cc08c320-b29d-49b3-e2d6-70a3c8a5e2c0"
      },
      "execution_count": 18,
      "outputs": [
        {
          "output_type": "error",
          "ename": "ValueError",
          "evalue": "ignored",
          "traceback": [
            "\u001b[0;31m---------------------------------------------------------------------------\u001b[0m",
            "\u001b[0;31mValueError\u001b[0m                                Traceback (most recent call last)",
            "\u001b[0;32m<ipython-input-18-dfe7208f5b0e>\u001b[0m in \u001b[0;36m<module>\u001b[0;34m\u001b[0m\n\u001b[1;32m      5\u001b[0m \u001b[0;34m\u001b[0m\u001b[0m\n\u001b[1;32m      6\u001b[0m \u001b[0mgan_generator\u001b[0m \u001b[0;34m=\u001b[0m \u001b[0mGeneratorGAN\u001b[0m\u001b[0;34m(\u001b[0m\u001b[0;34m)\u001b[0m\u001b[0;34m\u001b[0m\u001b[0;34m\u001b[0m\u001b[0m\n\u001b[0;32m----> 7\u001b[0;31m \u001b[0mgan_generator\u001b[0m\u001b[0;34m.\u001b[0m\u001b[0mload_weights\u001b[0m\u001b[0;34m(\u001b[0m\u001b[0mweight_path\u001b[0m\u001b[0;34m)\u001b[0m\u001b[0;34m\u001b[0m\u001b[0;34m\u001b[0m\u001b[0m\n\u001b[0m\u001b[1;32m      8\u001b[0m \u001b[0;34m\u001b[0m\u001b[0m\n\u001b[1;32m      9\u001b[0m \u001b[0moutput\u001b[0m \u001b[0;34m=\u001b[0m \u001b[0mgan_generator\u001b[0m\u001b[0;34m(\u001b[0m\u001b[0mnoise\u001b[0m\u001b[0;34m)\u001b[0m\u001b[0;34m\u001b[0m\u001b[0;34m\u001b[0m\u001b[0m\n",
            "\u001b[0;32m/usr/local/lib/python3.7/dist-packages/keras/utils/traceback_utils.py\u001b[0m in \u001b[0;36merror_handler\u001b[0;34m(*args, **kwargs)\u001b[0m\n\u001b[1;32m     65\u001b[0m     \u001b[0;32mexcept\u001b[0m \u001b[0mException\u001b[0m \u001b[0;32mas\u001b[0m \u001b[0me\u001b[0m\u001b[0;34m:\u001b[0m  \u001b[0;31m# pylint: disable=broad-except\u001b[0m\u001b[0;34m\u001b[0m\u001b[0;34m\u001b[0m\u001b[0m\n\u001b[1;32m     66\u001b[0m       \u001b[0mfiltered_tb\u001b[0m \u001b[0;34m=\u001b[0m \u001b[0m_process_traceback_frames\u001b[0m\u001b[0;34m(\u001b[0m\u001b[0me\u001b[0m\u001b[0;34m.\u001b[0m\u001b[0m__traceback__\u001b[0m\u001b[0;34m)\u001b[0m\u001b[0;34m\u001b[0m\u001b[0;34m\u001b[0m\u001b[0m\n\u001b[0;32m---> 67\u001b[0;31m       \u001b[0;32mraise\u001b[0m \u001b[0me\u001b[0m\u001b[0;34m.\u001b[0m\u001b[0mwith_traceback\u001b[0m\u001b[0;34m(\u001b[0m\u001b[0mfiltered_tb\u001b[0m\u001b[0;34m)\u001b[0m \u001b[0;32mfrom\u001b[0m \u001b[0;32mNone\u001b[0m\u001b[0;34m\u001b[0m\u001b[0;34m\u001b[0m\u001b[0m\n\u001b[0m\u001b[1;32m     68\u001b[0m     \u001b[0;32mfinally\u001b[0m\u001b[0;34m:\u001b[0m\u001b[0;34m\u001b[0m\u001b[0;34m\u001b[0m\u001b[0m\n\u001b[1;32m     69\u001b[0m       \u001b[0;32mdel\u001b[0m \u001b[0mfiltered_tb\u001b[0m\u001b[0;34m\u001b[0m\u001b[0;34m\u001b[0m\u001b[0m\n",
            "\u001b[0;32m/usr/local/lib/python3.7/dist-packages/keras/engine/training.py\u001b[0m in \u001b[0;36mload_weights\u001b[0;34m(self, filepath, by_name, skip_mismatch, options)\u001b[0m\n\u001b[1;32m   2592\u001b[0m       \u001b[0;32mif\u001b[0m \u001b[0;32mnot\u001b[0m \u001b[0mself\u001b[0m\u001b[0;34m.\u001b[0m\u001b[0m_is_graph_network\u001b[0m \u001b[0;32mand\u001b[0m \u001b[0;32mnot\u001b[0m \u001b[0mself\u001b[0m\u001b[0;34m.\u001b[0m\u001b[0mbuilt\u001b[0m\u001b[0;34m:\u001b[0m\u001b[0;34m\u001b[0m\u001b[0;34m\u001b[0m\u001b[0m\n\u001b[1;32m   2593\u001b[0m         raise ValueError(\n\u001b[0;32m-> 2594\u001b[0;31m             \u001b[0;34m'Unable to load weights saved in HDF5 format into a subclassed '\u001b[0m\u001b[0;34m\u001b[0m\u001b[0;34m\u001b[0m\u001b[0m\n\u001b[0m\u001b[1;32m   2595\u001b[0m             \u001b[0;34m'Model which has not created its variables yet. Call the Model '\u001b[0m\u001b[0;34m\u001b[0m\u001b[0;34m\u001b[0m\u001b[0m\n\u001b[1;32m   2596\u001b[0m             'first, then load the weights.')\n",
            "\u001b[0;31mValueError\u001b[0m: Unable to load weights saved in HDF5 format into a subclassed Model which has not created its variables yet. Call the Model first, then load the weights."
          ]
        }
      ]
    },
    {
      "cell_type": "markdown",
      "source": [
        "###(2) cGAN으로 MNIST 학습하기"
      ],
      "metadata": {
        "id": "M7PzQcJ5EzRY"
      }
    },
    {
      "cell_type": "code",
      "source": [
        "cgan_generator = GeneratorCGAN()\n",
        "cgan_discriminator = DiscriminatorCGAN()\n",
        "\n",
        "@tf.function()\n",
        "def cgan_step(real_images, labels):\n",
        "    noise = tf.random.normal([real_images.shape[0], 100])\n",
        "    \n",
        "    with tf.GradientTape(persistent=True) as tape:\n",
        "        fake_images = cgan_generator(noise, labels)\n",
        "        \n",
        "        real_out = cgan_discriminator(real_images, labels)\n",
        "        fake_out = cgan_discriminator(fake_images, labels)\n",
        "        \n",
        "        gene_loss = generator_loss(fake_out)\n",
        "        disc_loss = discriminator_loss(real_out, fake_out)\n",
        "    \n",
        "    gene_grad = tape.gradient(gene_loss, cgan_generator.trainable_variables)\n",
        "    disc_grad = tape.gradient(disc_loss, cgan_discriminator.trainable_variables)\n",
        "    \n",
        "    gene_opt.apply_gradients(zip(gene_grad, cgan_generator.trainable_variables))\n",
        "    disc_opt.apply_gradients(zip(disc_grad, cgan_discriminator.trainable_variables))\n",
        "    return gene_loss, disc_loss\n",
        "\n",
        "\n",
        "EPOCHS = 1\n",
        "for epoch in range(1, EPOCHS+1):\n",
        "    \n",
        "    for i, (images, labels) in enumerate(cgan_datasets):\n",
        "        gene_loss, disc_loss = cgan_step(images, labels)\n",
        "    \n",
        "        if (i+1) % 100 == 0:\n",
        "            print(f\"[{epoch}/{EPOCHS} EPOCHS, {i} ITER] G:{gene_loss}, D:{disc_loss}\")"
      ],
      "metadata": {
        "colab": {
          "base_uri": "https://localhost:8080/"
        },
        "id": "XIu3ZKQKE4FY",
        "outputId": "ad53b176-3d1a-461f-a2d4-0fe63d63c1a0"
      },
      "execution_count": 19,
      "outputs": [
        {
          "output_type": "stream",
          "name": "stdout",
          "text": [
            "[1/1 EPOCHS, 99 ITER] G:6.620765686035156, D:0.0027511282823979855\n",
            "[1/1 EPOCHS, 199 ITER] G:5.128212928771973, D:0.007687007077038288\n",
            "[1/1 EPOCHS, 299 ITER] G:5.355453014373779, D:0.014759065583348274\n",
            "[1/1 EPOCHS, 399 ITER] G:5.590508460998535, D:0.02785099484026432\n"
          ]
        }
      ]
    },
    {
      "cell_type": "code",
      "source": [
        "number =   9\n",
        "\n",
        "weight_path = os.getenv('HOME')+'/aiffel/conditional_generation/cgan/CGAN_500'\n",
        "\n",
        "noise = tf.random.normal([10, 100])\n",
        "\n",
        "label = tf.one_hot(number, 10)\n",
        "label = tf.expand_dims(label, axis=0)\n",
        "label = tf.repeat(label, 10, axis=0)\n",
        "\n",
        "generator = GeneratorCGAN()\n",
        "generator.load_weights(weight_path)\n",
        "\n",
        "output = generator(noise, label)\n",
        "output = np.squeeze(output.numpy())\n",
        "\n",
        "plt.figure(figsize=(15,6))\n",
        "for i in range(1, 11):\n",
        "    plt.subplot(2,5,i)\n",
        "    plt.imshow(output[i-1])"
      ],
      "metadata": {
        "colab": {
          "base_uri": "https://localhost:8080/",
          "height": 390
        },
        "id": "o8ROWo2oE6W0",
        "outputId": "c0e93c2e-db08-44ff-996a-0a0b32571023"
      },
      "execution_count": 20,
      "outputs": [
        {
          "output_type": "error",
          "ename": "NotFoundError",
          "evalue": "ignored",
          "traceback": [
            "\u001b[0;31m---------------------------------------------------------------------------\u001b[0m",
            "\u001b[0;31mNotFoundError\u001b[0m                             Traceback (most recent call last)",
            "\u001b[0;32m<ipython-input-20-6035e8c8eb3b>\u001b[0m in \u001b[0;36m<module>\u001b[0;34m\u001b[0m\n\u001b[1;32m     10\u001b[0m \u001b[0;34m\u001b[0m\u001b[0m\n\u001b[1;32m     11\u001b[0m \u001b[0mgenerator\u001b[0m \u001b[0;34m=\u001b[0m \u001b[0mGeneratorCGAN\u001b[0m\u001b[0;34m(\u001b[0m\u001b[0;34m)\u001b[0m\u001b[0;34m\u001b[0m\u001b[0;34m\u001b[0m\u001b[0m\n\u001b[0;32m---> 12\u001b[0;31m \u001b[0mgenerator\u001b[0m\u001b[0;34m.\u001b[0m\u001b[0mload_weights\u001b[0m\u001b[0;34m(\u001b[0m\u001b[0mweight_path\u001b[0m\u001b[0;34m)\u001b[0m\u001b[0;34m\u001b[0m\u001b[0;34m\u001b[0m\u001b[0m\n\u001b[0m\u001b[1;32m     13\u001b[0m \u001b[0;34m\u001b[0m\u001b[0m\n\u001b[1;32m     14\u001b[0m \u001b[0moutput\u001b[0m \u001b[0;34m=\u001b[0m \u001b[0mgenerator\u001b[0m\u001b[0;34m(\u001b[0m\u001b[0mnoise\u001b[0m\u001b[0;34m,\u001b[0m \u001b[0mlabel\u001b[0m\u001b[0;34m)\u001b[0m\u001b[0;34m\u001b[0m\u001b[0;34m\u001b[0m\u001b[0m\n",
            "\u001b[0;32m/usr/local/lib/python3.7/dist-packages/keras/utils/traceback_utils.py\u001b[0m in \u001b[0;36merror_handler\u001b[0;34m(*args, **kwargs)\u001b[0m\n\u001b[1;32m     65\u001b[0m     \u001b[0;32mexcept\u001b[0m \u001b[0mException\u001b[0m \u001b[0;32mas\u001b[0m \u001b[0me\u001b[0m\u001b[0;34m:\u001b[0m  \u001b[0;31m# pylint: disable=broad-except\u001b[0m\u001b[0;34m\u001b[0m\u001b[0;34m\u001b[0m\u001b[0m\n\u001b[1;32m     66\u001b[0m       \u001b[0mfiltered_tb\u001b[0m \u001b[0;34m=\u001b[0m \u001b[0m_process_traceback_frames\u001b[0m\u001b[0;34m(\u001b[0m\u001b[0me\u001b[0m\u001b[0;34m.\u001b[0m\u001b[0m__traceback__\u001b[0m\u001b[0;34m)\u001b[0m\u001b[0;34m\u001b[0m\u001b[0;34m\u001b[0m\u001b[0m\n\u001b[0;32m---> 67\u001b[0;31m       \u001b[0;32mraise\u001b[0m \u001b[0me\u001b[0m\u001b[0;34m.\u001b[0m\u001b[0mwith_traceback\u001b[0m\u001b[0;34m(\u001b[0m\u001b[0mfiltered_tb\u001b[0m\u001b[0;34m)\u001b[0m \u001b[0;32mfrom\u001b[0m \u001b[0;32mNone\u001b[0m\u001b[0;34m\u001b[0m\u001b[0;34m\u001b[0m\u001b[0m\n\u001b[0m\u001b[1;32m     68\u001b[0m     \u001b[0;32mfinally\u001b[0m\u001b[0;34m:\u001b[0m\u001b[0;34m\u001b[0m\u001b[0;34m\u001b[0m\u001b[0m\n\u001b[1;32m     69\u001b[0m       \u001b[0;32mdel\u001b[0m \u001b[0mfiltered_tb\u001b[0m\u001b[0;34m\u001b[0m\u001b[0;34m\u001b[0m\u001b[0m\n",
            "\u001b[0;32m/usr/local/lib/python3.7/dist-packages/tensorflow/python/training/py_checkpoint_reader.py\u001b[0m in \u001b[0;36merror_translator\u001b[0;34m(e)\u001b[0m\n\u001b[1;32m     29\u001b[0m       \u001b[0;34m'Failed to find any '\u001b[0m\u001b[0;34m\u001b[0m\u001b[0;34m\u001b[0m\u001b[0m\n\u001b[1;32m     30\u001b[0m       'matching files for') in error_message:\n\u001b[0;32m---> 31\u001b[0;31m     \u001b[0;32mraise\u001b[0m \u001b[0merrors_impl\u001b[0m\u001b[0;34m.\u001b[0m\u001b[0mNotFoundError\u001b[0m\u001b[0;34m(\u001b[0m\u001b[0;32mNone\u001b[0m\u001b[0;34m,\u001b[0m \u001b[0;32mNone\u001b[0m\u001b[0;34m,\u001b[0m \u001b[0merror_message\u001b[0m\u001b[0;34m)\u001b[0m\u001b[0;34m\u001b[0m\u001b[0;34m\u001b[0m\u001b[0m\n\u001b[0m\u001b[1;32m     32\u001b[0m   elif 'Sliced checkpoints are not supported' in error_message or (\n\u001b[1;32m     33\u001b[0m       \u001b[0;34m'Data type '\u001b[0m\u001b[0;34m\u001b[0m\u001b[0;34m\u001b[0m\u001b[0m\n",
            "\u001b[0;31mNotFoundError\u001b[0m: Unsuccessful TensorSliceReader constructor: Failed to find any matching files for /root/aiffel/conditional_generation/cgan/CGAN_500"
          ]
        }
      ]
    },
    {
      "cell_type": "code",
      "source": [],
      "metadata": {
        "id": "MBNW5L1SGFJD"
      },
      "execution_count": null,
      "outputs": []
    }
  ],
  "metadata": {
    "accelerator": "GPU",
    "colab": {
      "provenance": []
    },
    "kernelspec": {
      "display_name": "Python 3",
      "name": "python3"
    },
    "language_info": {
      "name": "python"
    },
    "widgets": {
      "application/vnd.jupyter.widget-state+json": {
        "147d73559d6b407eb95efabb048cfa21": {
          "model_module": "@jupyter-widgets/base",
          "model_module_version": "1.2.0",
          "model_name": "LayoutModel",
          "state": {
            "_model_module": "@jupyter-widgets/base",
            "_model_module_version": "1.2.0",
            "_model_name": "LayoutModel",
            "_view_count": null,
            "_view_module": "@jupyter-widgets/base",
            "_view_module_version": "1.2.0",
            "_view_name": "LayoutView",
            "align_content": null,
            "align_items": null,
            "align_self": null,
            "border": null,
            "bottom": null,
            "display": null,
            "flex": null,
            "flex_flow": null,
            "grid_area": null,
            "grid_auto_columns": null,
            "grid_auto_flow": null,
            "grid_auto_rows": null,
            "grid_column": null,
            "grid_gap": null,
            "grid_row": null,
            "grid_template_areas": null,
            "grid_template_columns": null,
            "grid_template_rows": null,
            "height": null,
            "justify_content": null,
            "justify_items": null,
            "left": null,
            "margin": null,
            "max_height": null,
            "max_width": null,
            "min_height": null,
            "min_width": null,
            "object_fit": null,
            "object_position": null,
            "order": null,
            "overflow": null,
            "overflow_x": null,
            "overflow_y": null,
            "padding": null,
            "right": null,
            "top": null,
            "visibility": null,
            "width": null
          }
        },
        "19fa128cd0934918a20bff74c9231b93": {
          "model_module": "@jupyter-widgets/base",
          "model_module_version": "1.2.0",
          "model_name": "LayoutModel",
          "state": {
            "_model_module": "@jupyter-widgets/base",
            "_model_module_version": "1.2.0",
            "_model_name": "LayoutModel",
            "_view_count": null,
            "_view_module": "@jupyter-widgets/base",
            "_view_module_version": "1.2.0",
            "_view_name": "LayoutView",
            "align_content": null,
            "align_items": null,
            "align_self": null,
            "border": null,
            "bottom": null,
            "display": null,
            "flex": null,
            "flex_flow": null,
            "grid_area": null,
            "grid_auto_columns": null,
            "grid_auto_flow": null,
            "grid_auto_rows": null,
            "grid_column": null,
            "grid_gap": null,
            "grid_row": null,
            "grid_template_areas": null,
            "grid_template_columns": null,
            "grid_template_rows": null,
            "height": null,
            "justify_content": null,
            "justify_items": null,
            "left": null,
            "margin": null,
            "max_height": null,
            "max_width": null,
            "min_height": null,
            "min_width": null,
            "object_fit": null,
            "object_position": null,
            "order": null,
            "overflow": null,
            "overflow_x": null,
            "overflow_y": null,
            "padding": null,
            "right": null,
            "top": null,
            "visibility": null,
            "width": null
          }
        },
        "35b95b188f4341e9ae8f6f25e0332dda": {
          "model_module": "@jupyter-widgets/controls",
          "model_module_version": "1.5.0",
          "model_name": "FloatProgressModel",
          "state": {
            "_dom_classes": [],
            "_model_module": "@jupyter-widgets/controls",
            "_model_module_version": "1.5.0",
            "_model_name": "FloatProgressModel",
            "_view_count": null,
            "_view_module": "@jupyter-widgets/controls",
            "_view_module_version": "1.5.0",
            "_view_name": "ProgressView",
            "bar_style": "success",
            "description": "",
            "description_tooltip": null,
            "layout": "IPY_MODEL_19fa128cd0934918a20bff74c9231b93",
            "max": 4,
            "min": 0,
            "orientation": "horizontal",
            "style": "IPY_MODEL_3af95616164f4382aafe4238da47d1d3",
            "value": 4
          }
        },
        "3af95616164f4382aafe4238da47d1d3": {
          "model_module": "@jupyter-widgets/controls",
          "model_module_version": "1.5.0",
          "model_name": "ProgressStyleModel",
          "state": {
            "_model_module": "@jupyter-widgets/controls",
            "_model_module_version": "1.5.0",
            "_model_name": "ProgressStyleModel",
            "_view_count": null,
            "_view_module": "@jupyter-widgets/base",
            "_view_module_version": "1.2.0",
            "_view_name": "StyleView",
            "bar_color": null,
            "description_width": ""
          }
        },
        "46cde2bfd4284961a6d35855898aaafa": {
          "model_module": "@jupyter-widgets/controls",
          "model_module_version": "1.5.0",
          "model_name": "DescriptionStyleModel",
          "state": {
            "_model_module": "@jupyter-widgets/controls",
            "_model_module_version": "1.5.0",
            "_model_name": "DescriptionStyleModel",
            "_view_count": null,
            "_view_module": "@jupyter-widgets/base",
            "_view_module_version": "1.2.0",
            "_view_name": "StyleView",
            "description_width": ""
          }
        },
        "9fb4ad1f82c24a50ad6552c8a154754b": {
          "model_module": "@jupyter-widgets/controls",
          "model_module_version": "1.5.0",
          "model_name": "HTMLModel",
          "state": {
            "_dom_classes": [],
            "_model_module": "@jupyter-widgets/controls",
            "_model_module_version": "1.5.0",
            "_model_name": "HTMLModel",
            "_view_count": null,
            "_view_module": "@jupyter-widgets/controls",
            "_view_module_version": "1.5.0",
            "_view_name": "HTMLView",
            "description": "",
            "description_tooltip": null,
            "layout": "IPY_MODEL_147d73559d6b407eb95efabb048cfa21",
            "placeholder": "​",
            "style": "IPY_MODEL_d4ac996143a24d96981f87e1385e957f",
            "value": " 4/4 [00:00&lt;00:00, 12.69 file/s]"
          }
        },
        "aff299572b8d413fb6fda8b0d0e78123": {
          "model_module": "@jupyter-widgets/base",
          "model_module_version": "1.2.0",
          "model_name": "LayoutModel",
          "state": {
            "_model_module": "@jupyter-widgets/base",
            "_model_module_version": "1.2.0",
            "_model_name": "LayoutModel",
            "_view_count": null,
            "_view_module": "@jupyter-widgets/base",
            "_view_module_version": "1.2.0",
            "_view_name": "LayoutView",
            "align_content": null,
            "align_items": null,
            "align_self": null,
            "border": null,
            "bottom": null,
            "display": null,
            "flex": null,
            "flex_flow": null,
            "grid_area": null,
            "grid_auto_columns": null,
            "grid_auto_flow": null,
            "grid_auto_rows": null,
            "grid_column": null,
            "grid_gap": null,
            "grid_row": null,
            "grid_template_areas": null,
            "grid_template_columns": null,
            "grid_template_rows": null,
            "height": null,
            "justify_content": null,
            "justify_items": null,
            "left": null,
            "margin": null,
            "max_height": null,
            "max_width": null,
            "min_height": null,
            "min_width": null,
            "object_fit": null,
            "object_position": null,
            "order": null,
            "overflow": null,
            "overflow_x": null,
            "overflow_y": null,
            "padding": null,
            "right": null,
            "top": null,
            "visibility": null,
            "width": null
          }
        },
        "c47ffd20b591464b85d218a73d708114": {
          "model_module": "@jupyter-widgets/controls",
          "model_module_version": "1.5.0",
          "model_name": "HBoxModel",
          "state": {
            "_dom_classes": [],
            "_model_module": "@jupyter-widgets/controls",
            "_model_module_version": "1.5.0",
            "_model_name": "HBoxModel",
            "_view_count": null,
            "_view_module": "@jupyter-widgets/controls",
            "_view_module_version": "1.5.0",
            "_view_name": "HBoxView",
            "box_style": "",
            "children": [
              "IPY_MODEL_c5751a0a8e9d495996198a7b8ea64cc5",
              "IPY_MODEL_35b95b188f4341e9ae8f6f25e0332dda",
              "IPY_MODEL_9fb4ad1f82c24a50ad6552c8a154754b"
            ],
            "layout": "IPY_MODEL_e39bbdc910034fbbb4334df69eeb90da"
          }
        },
        "c5751a0a8e9d495996198a7b8ea64cc5": {
          "model_module": "@jupyter-widgets/controls",
          "model_module_version": "1.5.0",
          "model_name": "HTMLModel",
          "state": {
            "_dom_classes": [],
            "_model_module": "@jupyter-widgets/controls",
            "_model_module_version": "1.5.0",
            "_model_name": "HTMLModel",
            "_view_count": null,
            "_view_module": "@jupyter-widgets/controls",
            "_view_module_version": "1.5.0",
            "_view_name": "HTMLView",
            "description": "",
            "description_tooltip": null,
            "layout": "IPY_MODEL_aff299572b8d413fb6fda8b0d0e78123",
            "placeholder": "​",
            "style": "IPY_MODEL_46cde2bfd4284961a6d35855898aaafa",
            "value": "Dl Completed...: 100%"
          }
        },
        "d4ac996143a24d96981f87e1385e957f": {
          "model_module": "@jupyter-widgets/controls",
          "model_module_version": "1.5.0",
          "model_name": "DescriptionStyleModel",
          "state": {
            "_model_module": "@jupyter-widgets/controls",
            "_model_module_version": "1.5.0",
            "_model_name": "DescriptionStyleModel",
            "_view_count": null,
            "_view_module": "@jupyter-widgets/base",
            "_view_module_version": "1.2.0",
            "_view_name": "StyleView",
            "description_width": ""
          }
        },
        "e39bbdc910034fbbb4334df69eeb90da": {
          "model_module": "@jupyter-widgets/base",
          "model_module_version": "1.2.0",
          "model_name": "LayoutModel",
          "state": {
            "_model_module": "@jupyter-widgets/base",
            "_model_module_version": "1.2.0",
            "_model_name": "LayoutModel",
            "_view_count": null,
            "_view_module": "@jupyter-widgets/base",
            "_view_module_version": "1.2.0",
            "_view_name": "LayoutView",
            "align_content": null,
            "align_items": null,
            "align_self": null,
            "border": null,
            "bottom": null,
            "display": null,
            "flex": null,
            "flex_flow": null,
            "grid_area": null,
            "grid_auto_columns": null,
            "grid_auto_flow": null,
            "grid_auto_rows": null,
            "grid_column": null,
            "grid_gap": null,
            "grid_row": null,
            "grid_template_areas": null,
            "grid_template_columns": null,
            "grid_template_rows": null,
            "height": null,
            "justify_content": null,
            "justify_items": null,
            "left": null,
            "margin": null,
            "max_height": null,
            "max_width": null,
            "min_height": null,
            "min_width": null,
            "object_fit": null,
            "object_position": null,
            "order": null,
            "overflow": null,
            "overflow_x": null,
            "overflow_y": null,
            "padding": null,
            "right": null,
            "top": null,
            "visibility": null,
            "width": null
          }
        }
      }
    }
  },
  "nbformat": 4,
  "nbformat_minor": 0
}