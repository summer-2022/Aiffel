{
  "cells": [
    {
      "cell_type": "markdown",
      "metadata": {
        "id": "-KlhGHV9Dc2W"
      },
      "source": [
        "# 목차\n",
        "###0) 라이브러리 버전 확인\n",
        "\n",
        "###1) 데이터 준비와 확인\n",
        "\n",
        "• 데이터의 중복 제거\n",
        "• NaN 결측치 제거\n",
        "• 한국어 토크나이저로 토큰화\n",
        "• 불용어(Stopwords) 제거\n",
        "• 사전word_to_index 구성\n",
        "• 텍스트 스트링을 사전 인덱스 스트링으로 변환\n",
        "• X_train, y_train, X_test, y_test, word_to_index 리턴\n",
        "\n",
        "###2) 데이터로더 구성\n",
        "###3) 모델 구성을 위한 데이터 분석 및 가공\n",
        "###4) 모델 구성 및 validation set 구성\n",
        "###5) 모델 훈련 개시\n",
        "###6) Loss, Accuracy 그래프 시각화\n",
        "###7) 학습된 Embedding 레이어 분석\n",
        "###8) 한국어 Word2Vec 임베딩 활용하여 성능 개선"
      ]
    },
    {
      "cell_type": "markdown",
      "metadata": {
        "id": "O7AYjlmiHgIT"
      },
      "source": [
        "#0) 라이브러리 버전 확인"
      ]
    },
    {
      "cell_type": "code",
      "execution_count": 1,
      "metadata": {
        "colab": {
          "base_uri": "https://localhost:8080/"
        },
        "id": "sIFEgAhOEfa0",
        "outputId": "a89f2fcf-0aa1-4e60-9fce-45b3183de1ba"
      },
      "outputs": [
        {
          "output_type": "stream",
          "name": "stdout",
          "text": [
            "Hit:1 https://cloud.r-project.org/bin/linux/ubuntu bionic-cran40/ InRelease\n",
            "Ign:2 https://developer.download.nvidia.com/compute/machine-learning/repos/ubuntu1804/x86_64  InRelease\n",
            "Hit:3 https://developer.download.nvidia.com/compute/cuda/repos/ubuntu1804/x86_64  InRelease\n",
            "Hit:4 https://developer.download.nvidia.com/compute/machine-learning/repos/ubuntu1804/x86_64  Release\n",
            "Hit:5 http://security.ubuntu.com/ubuntu bionic-security InRelease\n",
            "Hit:6 http://ppa.launchpad.net/c2d4u.team/c2d4u4.0+/ubuntu bionic InRelease\n",
            "Hit:7 http://archive.ubuntu.com/ubuntu bionic InRelease\n",
            "Hit:8 http://archive.ubuntu.com/ubuntu bionic-updates InRelease\n",
            "Get:10 http://archive.ubuntu.com/ubuntu bionic-backports InRelease [74.6 kB]\n",
            "Hit:11 http://ppa.launchpad.net/cran/libgit2/ubuntu bionic InRelease\n",
            "Hit:12 http://ppa.launchpad.net/deadsnakes/ppa/ubuntu bionic InRelease\n",
            "Hit:13 http://ppa.launchpad.net/graphics-drivers/ppa/ubuntu bionic InRelease\n",
            "Fetched 74.6 kB in 2s (40.9 kB/s)\n",
            "Reading package lists...\n",
            "Reading package lists...\n",
            "Building dependency tree...\n",
            "Reading state information...\n",
            "python-dev is already the newest version (2.7.15~rc1-1).\n",
            "g++ is already the newest version (4:7.4.0-1ubuntu2.3).\n",
            "python3-dev is already the newest version (3.6.7-1~18.04).\n",
            "openjdk-8-jdk is already the newest version (8u342-b07-0ubuntu1~18.04).\n",
            "The following package was automatically installed and is no longer required:\n",
            "  libnvidia-common-460\n",
            "Use 'apt autoremove' to remove it.\n",
            "0 upgraded, 0 newly installed, 0 to remove and 25 not upgraded.\n",
            "Looking in indexes: https://pypi.org/simple, https://us-python.pkg.dev/colab-wheels/public/simple/\n",
            "Requirement already satisfied: JPype1 in /usr/local/lib/python3.7/dist-packages (1.4.0)\n",
            "Requirement already satisfied: typing-extensions in /usr/local/lib/python3.7/dist-packages (from JPype1) (4.1.1)\n",
            "Looking in indexes: https://pypi.org/simple, https://us-python.pkg.dev/colab-wheels/public/simple/\n",
            "Requirement already satisfied: konlpy in /usr/local/lib/python3.7/dist-packages (0.6.0)\n",
            "Requirement already satisfied: JPype1>=0.7.0 in /usr/local/lib/python3.7/dist-packages (from konlpy) (1.4.0)\n",
            "Requirement already satisfied: lxml>=4.1.0 in /usr/local/lib/python3.7/dist-packages (from konlpy) (4.9.1)\n",
            "Requirement already satisfied: numpy>=1.6 in /usr/local/lib/python3.7/dist-packages (from konlpy) (1.21.6)\n",
            "Requirement already satisfied: typing-extensions in /usr/local/lib/python3.7/dist-packages (from JPype1>=0.7.0->konlpy) (4.1.1)\n"
          ]
        }
      ],
      "source": [
        "%%bash\n",
        "apt-get update\n",
        "apt-get install g++ openjdk-8-jdk python-dev python3-dev\n",
        "pip3 install JPype1\n",
        "pip3 install konlpy"
      ]
    },
    {
      "cell_type": "code",
      "execution_count": 2,
      "metadata": {
        "colab": {
          "base_uri": "https://localhost:8080/"
        },
        "id": "tvxRHf25Eiin",
        "outputId": "7bd859ef-f635-4e89-92b5-6a4ad6c0803e"
      },
      "outputs": [
        {
          "output_type": "stream",
          "name": "stdout",
          "text": [
            "env: JAVA_HOME=\"/usr/lib/jvm/java-8-openjdk-amd64\"\n"
          ]
        }
      ],
      "source": [
        "%env JAVA_HOME \"/usr/lib/jvm/java-8-openjdk-amd64\""
      ]
    },
    {
      "cell_type": "code",
      "execution_count": 3,
      "metadata": {
        "colab": {
          "base_uri": "https://localhost:8080/"
        },
        "id": "nmCMZLXoEppL",
        "outputId": "2dbfe6d0-31aa-41a0-9ac5-aaa2ee41e14a"
      },
      "outputs": [
        {
          "output_type": "stream",
          "name": "stdout",
          "text": [
            "mecab-ko is already installed\n",
            "mecab-ko-dic is already installed\n",
            "mecab-python is already installed\n",
            "Done.\n",
            "Looking in indexes: https://pypi.org/simple, https://us-python.pkg.dev/colab-wheels/public/simple/\n",
            "Processing /tmp/mecab-python-0.996\n",
            "Building wheels for collected packages: mecab-python\n",
            "  Building wheel for mecab-python (setup.py): started\n",
            "  Building wheel for mecab-python (setup.py): finished with status 'done'\n",
            "  Created wheel for mecab-python: filename=mecab_python-0.996_ko_0.9.2-cp37-cp37m-linux_x86_64.whl size=141806 sha256=085314c28c3c870329ec69d54bbb9ee2e6ee0374c732ff71c1d424cfc1012660\n",
            "  Stored in directory: /root/.cache/pip/wheels/40/7b/9f/2922869bef86c3354ae7034f7a3647c573ee1997c2dad0290a\n",
            "Failed to build mecab-python\n",
            "Installing collected packages: mecab-python\n",
            "  Attempting uninstall: mecab-python\n",
            "    Found existing installation: mecab-python 0.996-ko-0.9.2\n",
            "    Uninstalling mecab-python-0.996-ko-0.9.2:\n",
            "      Successfully uninstalled mecab-python-0.996-ko-0.9.2\n",
            "    Running setup.py install for mecab-python: started\n",
            "    Running setup.py install for mecab-python: finished with status 'done'\n",
            "Successfully installed mecab-python-0.996-ko-0.9.2\n"
          ]
        },
        {
          "output_type": "stream",
          "name": "stderr",
          "text": [
            "  DEPRECATION: A future pip version will change local packages to be built in-place without first copying to a temporary directory. We recommend you use --use-feature=in-tree-build to test your packages with this new behavior before it becomes the default.\n",
            "   pip 21.3 will remove support for this functionality. You can find discussion regarding this at https://github.com/pypa/pip/issues/7555.\n",
            "  WARNING: Built wheel for mecab-python is invalid: Metadata 1.2 mandates PEP 440 version, but '0.996-ko-0.9.2' is not\n",
            "  DEPRECATION: mecab-python was installed using the legacy 'setup.py install' method, because a wheel could not be built for it. A possible replacement is to fix the wheel build issue reported above. You can find discussion regarding this at https://github.com/pypa/pip/issues/8368.\n"
          ]
        }
      ],
      "source": [
        "%%bash\n",
        "bash <(curl -s https://raw.githubusercontent.com/konlpy/konlpy/master/scripts/mecab.sh)\n",
        "pip3 install /tmp/mecab-python-0.996"
      ]
    },
    {
      "cell_type": "code",
      "execution_count": 4,
      "metadata": {
        "colab": {
          "base_uri": "https://localhost:8080/"
        },
        "id": "2zJn8sz7AKYh",
        "outputId": "1e82159b-11e4-4d84-82ee-86a2bf4c7637"
      },
      "outputs": [
        {
          "output_type": "stream",
          "name": "stdout",
          "text": [
            "1.3.5\n",
            "0.6.0\n",
            "3.6.0\n"
          ]
        }
      ],
      "source": [
        "import pandas\n",
        "import konlpy\n",
        "import gensim\n",
        "\n",
        "print(pandas.__version__)\n",
        "print(konlpy.__version__)\n",
        "print(gensim.__version__)"
      ]
    },
    {
      "cell_type": "markdown",
      "metadata": {
        "id": "6sVrYTysHmRh"
      },
      "source": [
        "#1) 데이터 준비와 확인"
      ]
    },
    {
      "cell_type": "code",
      "execution_count": 5,
      "metadata": {
        "colab": {
          "base_uri": "https://localhost:8080/"
        },
        "id": "yOnYJttPISFb",
        "outputId": "44ad702b-68a0-486e-d338-05c5010d5290"
      },
      "outputs": [
        {
          "output_type": "stream",
          "name": "stdout",
          "text": [
            "Drive already mounted at /content/drive; to attempt to forcibly remount, call drive.mount(\"/content/drive\", force_remount=True).\n"
          ]
        }
      ],
      "source": [
        "from google.colab import drive\n",
        "drive.mount('/content/drive')"
      ]
    },
    {
      "cell_type": "code",
      "execution_count": 6,
      "metadata": {
        "colab": {
          "base_uri": "https://localhost:8080/",
          "height": 206
        },
        "id": "G7dpwrRZHn3l",
        "outputId": "d8ce9caa-7ee7-4c0f-c5cd-68ecd3c3ebf1"
      },
      "outputs": [
        {
          "output_type": "execute_result",
          "data": {
            "text/plain": [
              "         id                                           document  label\n",
              "0   9976970                                아 더빙.. 진짜 짜증나네요 목소리      0\n",
              "1   3819312                  흠...포스터보고 초딩영화줄....오버연기조차 가볍지 않구나      1\n",
              "2  10265843                                  너무재밓었다그래서보는것을추천한다      0\n",
              "3   9045019                      교도소 이야기구먼 ..솔직히 재미는 없다..평점 조정      0\n",
              "4   6483659  사이몬페그의 익살스런 연기가 돋보였던 영화!스파이더맨에서 늙어보이기만 했던 커스틴 ...      1"
            ],
            "text/html": [
              "\n",
              "  <div id=\"df-a0028e7b-4d4a-45bd-8820-e0f76db9b82f\">\n",
              "    <div class=\"colab-df-container\">\n",
              "      <div>\n",
              "<style scoped>\n",
              "    .dataframe tbody tr th:only-of-type {\n",
              "        vertical-align: middle;\n",
              "    }\n",
              "\n",
              "    .dataframe tbody tr th {\n",
              "        vertical-align: top;\n",
              "    }\n",
              "\n",
              "    .dataframe thead th {\n",
              "        text-align: right;\n",
              "    }\n",
              "</style>\n",
              "<table border=\"1\" class=\"dataframe\">\n",
              "  <thead>\n",
              "    <tr style=\"text-align: right;\">\n",
              "      <th></th>\n",
              "      <th>id</th>\n",
              "      <th>document</th>\n",
              "      <th>label</th>\n",
              "    </tr>\n",
              "  </thead>\n",
              "  <tbody>\n",
              "    <tr>\n",
              "      <th>0</th>\n",
              "      <td>9976970</td>\n",
              "      <td>아 더빙.. 진짜 짜증나네요 목소리</td>\n",
              "      <td>0</td>\n",
              "    </tr>\n",
              "    <tr>\n",
              "      <th>1</th>\n",
              "      <td>3819312</td>\n",
              "      <td>흠...포스터보고 초딩영화줄....오버연기조차 가볍지 않구나</td>\n",
              "      <td>1</td>\n",
              "    </tr>\n",
              "    <tr>\n",
              "      <th>2</th>\n",
              "      <td>10265843</td>\n",
              "      <td>너무재밓었다그래서보는것을추천한다</td>\n",
              "      <td>0</td>\n",
              "    </tr>\n",
              "    <tr>\n",
              "      <th>3</th>\n",
              "      <td>9045019</td>\n",
              "      <td>교도소 이야기구먼 ..솔직히 재미는 없다..평점 조정</td>\n",
              "      <td>0</td>\n",
              "    </tr>\n",
              "    <tr>\n",
              "      <th>4</th>\n",
              "      <td>6483659</td>\n",
              "      <td>사이몬페그의 익살스런 연기가 돋보였던 영화!스파이더맨에서 늙어보이기만 했던 커스틴 ...</td>\n",
              "      <td>1</td>\n",
              "    </tr>\n",
              "  </tbody>\n",
              "</table>\n",
              "</div>\n",
              "      <button class=\"colab-df-convert\" onclick=\"convertToInteractive('df-a0028e7b-4d4a-45bd-8820-e0f76db9b82f')\"\n",
              "              title=\"Convert this dataframe to an interactive table.\"\n",
              "              style=\"display:none;\">\n",
              "        \n",
              "  <svg xmlns=\"http://www.w3.org/2000/svg\" height=\"24px\"viewBox=\"0 0 24 24\"\n",
              "       width=\"24px\">\n",
              "    <path d=\"M0 0h24v24H0V0z\" fill=\"none\"/>\n",
              "    <path d=\"M18.56 5.44l.94 2.06.94-2.06 2.06-.94-2.06-.94-.94-2.06-.94 2.06-2.06.94zm-11 1L8.5 8.5l.94-2.06 2.06-.94-2.06-.94L8.5 2.5l-.94 2.06-2.06.94zm10 10l.94 2.06.94-2.06 2.06-.94-2.06-.94-.94-2.06-.94 2.06-2.06.94z\"/><path d=\"M17.41 7.96l-1.37-1.37c-.4-.4-.92-.59-1.43-.59-.52 0-1.04.2-1.43.59L10.3 9.45l-7.72 7.72c-.78.78-.78 2.05 0 2.83L4 21.41c.39.39.9.59 1.41.59.51 0 1.02-.2 1.41-.59l7.78-7.78 2.81-2.81c.8-.78.8-2.07 0-2.86zM5.41 20L4 18.59l7.72-7.72 1.47 1.35L5.41 20z\"/>\n",
              "  </svg>\n",
              "      </button>\n",
              "      \n",
              "  <style>\n",
              "    .colab-df-container {\n",
              "      display:flex;\n",
              "      flex-wrap:wrap;\n",
              "      gap: 12px;\n",
              "    }\n",
              "\n",
              "    .colab-df-convert {\n",
              "      background-color: #E8F0FE;\n",
              "      border: none;\n",
              "      border-radius: 50%;\n",
              "      cursor: pointer;\n",
              "      display: none;\n",
              "      fill: #1967D2;\n",
              "      height: 32px;\n",
              "      padding: 0 0 0 0;\n",
              "      width: 32px;\n",
              "    }\n",
              "\n",
              "    .colab-df-convert:hover {\n",
              "      background-color: #E2EBFA;\n",
              "      box-shadow: 0px 1px 2px rgba(60, 64, 67, 0.3), 0px 1px 3px 1px rgba(60, 64, 67, 0.15);\n",
              "      fill: #174EA6;\n",
              "    }\n",
              "\n",
              "    [theme=dark] .colab-df-convert {\n",
              "      background-color: #3B4455;\n",
              "      fill: #D2E3FC;\n",
              "    }\n",
              "\n",
              "    [theme=dark] .colab-df-convert:hover {\n",
              "      background-color: #434B5C;\n",
              "      box-shadow: 0px 1px 3px 1px rgba(0, 0, 0, 0.15);\n",
              "      filter: drop-shadow(0px 1px 2px rgba(0, 0, 0, 0.3));\n",
              "      fill: #FFFFFF;\n",
              "    }\n",
              "  </style>\n",
              "\n",
              "      <script>\n",
              "        const buttonEl =\n",
              "          document.querySelector('#df-a0028e7b-4d4a-45bd-8820-e0f76db9b82f button.colab-df-convert');\n",
              "        buttonEl.style.display =\n",
              "          google.colab.kernel.accessAllowed ? 'block' : 'none';\n",
              "\n",
              "        async function convertToInteractive(key) {\n",
              "          const element = document.querySelector('#df-a0028e7b-4d4a-45bd-8820-e0f76db9b82f');\n",
              "          const dataTable =\n",
              "            await google.colab.kernel.invokeFunction('convertToInteractive',\n",
              "                                                     [key], {});\n",
              "          if (!dataTable) return;\n",
              "\n",
              "          const docLinkHtml = 'Like what you see? Visit the ' +\n",
              "            '<a target=\"_blank\" href=https://colab.research.google.com/notebooks/data_table.ipynb>data table notebook</a>'\n",
              "            + ' to learn more about interactive tables.';\n",
              "          element.innerHTML = '';\n",
              "          dataTable['output_type'] = 'display_data';\n",
              "          await google.colab.output.renderOutput(dataTable, element);\n",
              "          const docLink = document.createElement('div');\n",
              "          docLink.innerHTML = docLinkHtml;\n",
              "          element.appendChild(docLink);\n",
              "        }\n",
              "      </script>\n",
              "    </div>\n",
              "  </div>\n",
              "  "
            ]
          },
          "metadata": {},
          "execution_count": 6
        }
      ],
      "source": [
        "import pandas as pd\n",
        "\n",
        "# 데이터를 읽어봅시다. \n",
        "train_data = pd.read_table('/content/drive/MyDrive/Aiffel_data/Exp8_NLP2/ratings_train.txt')\n",
        "test_data = pd.read_table('/content/drive/MyDrive/Aiffel_data/Exp8_NLP2/ratings_test.txt')\n",
        "\n",
        "train_data.head()"
      ]
    },
    {
      "cell_type": "markdown",
      "metadata": {
        "id": "HYlRVLBEIrCQ"
      },
      "source": [
        "#2) 데이터로더 구성\n",
        "\n",
        "* 데이터의 중복 제거\n",
        "*  NaN 결측치 제거\n",
        "*  한국어 토크나이저로 토큰화\n",
        "*  불용어(Stopwords) 제거\n",
        "*  사전word_to_index 구성\n",
        "*  텍스트 스트링을 사전 인덱스 스트링으로 변환\n",
        "*  X_train, y_train, X_test, y_test, word_to_index 리턴\n",
        "\n",
        "num_words > 숫자로\n",
        "숫자 > num_words\n"
      ]
    },
    {
      "cell_type": "code",
      "execution_count": 7,
      "metadata": {
        "id": "5rsHfsBWIrjG"
      },
      "outputs": [],
      "source": [
        "from konlpy.tag import Mecab\n",
        "import numpy as np\n",
        "from collections import Counter\n",
        "import tensorflow as tf\n",
        "\n",
        "tokenizer = Mecab()\n",
        "stopwords = ['의','가','이','은','들','는','좀','잘','걍','과','도','를','으로','자','에','와','한','하다']\n",
        "\n",
        "def load_data(train_data, test_data, num_words=10000):\n",
        "    train_data.drop_duplicates(subset=['document'], inplace=True)\n",
        "    train_data = train_data.dropna(how = 'any') \n",
        "    test_data.drop_duplicates(subset=['document'], inplace=True)\n",
        "    test_data = test_data.dropna(how = 'any') \n",
        "    \n",
        "    X_train = []\n",
        "    for sentence in train_data['document']:\n",
        "        temp_X = tokenizer.morphs(sentence) # 토큰화\n",
        "        temp_X = [word for word in temp_X if not word in stopwords] # 불용어 제거\n",
        "        X_train.append(temp_X)\n",
        "\n",
        "    X_test = []\n",
        "    for sentence in test_data['document']:\n",
        "        temp_X = tokenizer.morphs(sentence) # 토큰화\n",
        "        temp_X = [word for word in temp_X if not word in stopwords] # 불용어 제거\n",
        "        X_test.append(temp_X)\n",
        "    \n",
        "    words = np.concatenate(X_train).tolist()\n",
        "    counter = Counter(words)\n",
        "    counter = counter.most_common(num_words-4)\n",
        "    vocab = ['<PAD>', '<BOS>', '<UNK>', '<UNUSED>'] + [key for key, _ in counter]\n",
        "    word_to_index = {word:index for index, word in enumerate(vocab)}\n",
        "        \n",
        "    def wordlist_to_indexlist(wordlist):\n",
        "        return [word_to_index[word] if word in word_to_index else word_to_index['<UNK>'] for word in wordlist]\n",
        "        \n",
        "    X_train = list(map(wordlist_to_indexlist, X_train))\n",
        "    X_test = list(map(wordlist_to_indexlist, X_test))\n",
        "        \n",
        "    return X_train, np.array(list(train_data['label'])), X_test, np.array(list(test_data['label'])), word_to_index\n",
        "    \n",
        "X_train, y_train, X_test, y_test, word_to_index = load_data(train_data, test_data) \n"
      ]
    },
    {
      "cell_type": "code",
      "execution_count": 8,
      "metadata": {
        "colab": {
          "base_uri": "https://localhost:8080/"
        },
        "id": "xKzlfcEPv4D2",
        "outputId": "a23a9223-c096-4049-845a-d0757ebc8dbd"
      },
      "outputs": [
        {
          "output_type": "execute_result",
          "data": {
            "text/plain": [
              "146182"
            ]
          },
          "metadata": {},
          "execution_count": 8
        }
      ],
      "source": [
        "len(X_train)"
      ]
    },
    {
      "cell_type": "code",
      "execution_count": 9,
      "metadata": {
        "id": "ipTFUZf3I-Ky"
      },
      "outputs": [],
      "source": [
        "index_to_word = {index:word for word, index in word_to_index.items()}"
      ]
    },
    {
      "cell_type": "code",
      "execution_count": 10,
      "metadata": {
        "id": "SPnT7CPDKTu3"
      },
      "outputs": [],
      "source": [
        "# 문장 1개를 활용할 딕셔너리와 함께 주면, 단어 인덱스 리스트 벡터로 변환해 주는 함수입니다. \n",
        "# 단, 모든 문장은 <BOS>로 시작하는 것으로 합니다. \n",
        "def get_encoded_sentence(sentence, word_to_index):\n",
        "    return [word_to_index['<BOS>']]+[word_to_index[word] if word in word_to_index else word_to_index['<UNK>'] for word in sentence.split()]\n",
        "\n",
        "# 여러 개의 문장 리스트를 한꺼번에 단어 인덱스 리스트 벡터로 encode해 주는 함수입니다. \n",
        "def get_encoded_sentences(sentences, word_to_index):\n",
        "    return [get_encoded_sentence(sentence, word_to_index) for sentence in sentences]\n",
        "\n",
        "# 숫자 벡터로 encode된 문장을 원래대로 decode하는 함수입니다. \n",
        "def get_decoded_sentence(encoded_sentence, index_to_word):\n",
        "    return ' '.join(index_to_word[index] if index in index_to_word else '<UNK>' for index in encoded_sentence[1:])  #[1:]를 통해 <BOS>를 제외\n",
        "\n",
        "# 여러 개의 숫자 벡터로 encode된 문장을 한꺼번에 원래대로 decode하는 함수입니다. \n",
        "def get_decoded_sentences(encoded_sentences, index_to_word):\n",
        "    return [get_decoded_sentence(encoded_sentence, index_to_word) for encoded_sentence in encoded_sentences]"
      ]
    },
    {
      "cell_type": "markdown",
      "metadata": {
        "id": "v5ByvWukLM_5"
      },
      "source": [
        "#3) 모델 구성을 위한 데이터 분석 및 가공\n",
        "* 데이터셋 내 문장 길이 분포\n",
        "* 적절한 최대 문장 길이 지정\n",
        "* keras.preprocessing.sequence.pad_sequences 을 활용한 패딩 추가"
      ]
    },
    {
      "cell_type": "code",
      "execution_count": 11,
      "metadata": {
        "colab": {
          "base_uri": "https://localhost:8080/",
          "height": 463
        },
        "id": "4-fVjSf9MQ30",
        "outputId": "baa4c5a4-ea8a-43ad-d1e4-d506fe8d547c"
      },
      "outputs": [
        {
          "output_type": "stream",
          "name": "stdout",
          "text": [
            "3119443\n",
            "문장길이 평균 :  15.96938143432699\n",
            "문장길이 최대 :  116\n",
            "문장길이 표준편차 :  12.843571939469296\n",
            "\n",
            "\n",
            "pad_sequences maxlen :  48\n",
            "전체 문장의 0.9548784420929768%가 maxlen 설정값 이내에 포함됩니다. \n"
          ]
        },
        {
          "output_type": "display_data",
          "data": {
            "text/plain": [
              "<Figure size 720x360 with 1 Axes>"
            ],
            "image/png": "[encoded data removed]"
          },
          "metadata": {
            "needs_background": "light"
          }
        }
      ],
      "source": [
        "# 데이터셋 내 문장 길이 분포\n",
        "# 적절한 최대 문장 길이 지정 \n",
        "\n",
        "\n",
        "total_data_text = list(X_train) + list(X_test)\n",
        "\n",
        "# 텍스트데이터 문장길이의 리스트를 생성한 후\n",
        "num_tokens = [len(tokens) for tokens in total_data_text]\n",
        "num_tokens = np.array(num_tokens)\n",
        "num_tokens_count = np.bincount(num_tokens)\n",
        "\n",
        "# 문장길이의 평균값, 최대값, 표준편차를 계산해 본다.\n",
        "print(np.sum(num_tokens))\n",
        "\n",
        "print('문장길이 평균 : ', np.mean(num_tokens))\n",
        "print('문장길이 최대 : ', np.max(num_tokens))\n",
        "print('문장길이 표준편차 : ', np.std(num_tokens))\n",
        "print('\\n')\n",
        "\n",
        "# 예를들어, 최대 길이를 (평균 + 2.5*표준편차)로 한다면,  \n",
        "max_tokens = np.mean(num_tokens) + 2.5* np.std(num_tokens)\n",
        "maxlen = int(max_tokens)\n",
        "print('pad_sequences maxlen : ', maxlen)\n",
        "print('전체 문장의 {}%가 maxlen 설정값 이내에 포함됩니다. '.format(np.sum(num_tokens < max_tokens) / len(num_tokens)))\n",
        "\n",
        "import matplotlib.pyplot as plt\n",
        "import seaborn as sns\n",
        "\n",
        "plt.figure(figsize= (10,5))\n",
        "sns.histplot(num_tokens)\n",
        "plt.show()"
      ]
    },
    {
      "cell_type": "code",
      "execution_count": 12,
      "metadata": {
        "colab": {
          "base_uri": "https://localhost:8080/"
        },
        "id": "SU55D7HI5aQb",
        "outputId": "db04ca2f-6dbc-4d94-aae3-660ee1e92195"
      },
      "outputs": [
        {
          "output_type": "execute_result",
          "data": {
            "text/plain": [
              "array([    5,  1015,  2554,  4951,  6936,  9580, 11741, 12441, 11822,\n",
              "       10907, 10287,  9531,  8929,  8253,  7867,  7440,  6823,  6259,\n",
              "        5535,  4868,  4312,  3746,  3136,  2653,  2242,  1993,  1688,\n",
              "        1512,  1376,  1270,  1241,  1108,  1074,   947,   951,   927,\n",
              "         814,   854,   763,   714,   728,   712,   623,   583,   580,\n",
              "         537,   593,   576,   528,   499,   547,   560,   573,   587,\n",
              "         597,   583,   569,   567,   539,   455,   438,   409,   358,\n",
              "         306,   254,   193,   171,   132,    97,    88,    58,    63,\n",
              "          39,    26,    15,    26,    22,     8,     8,     7,     4,\n",
              "           2,     2,     1,     1,     1,     2,     0,     2,     0,\n",
              "           0,     0,     0,     1,     0,     0,     0,     0,     0,\n",
              "           0,     0,     0,     0,     0,     0,     1,     1,     0,\n",
              "           0,     0,     0,     0,     0,     0,     0,     1,     1])"
            ]
          },
          "metadata": {},
          "execution_count": 12
        }
      ],
      "source": [
        "num_tokens_count"
      ]
    },
    {
      "cell_type": "code",
      "execution_count": 13,
      "metadata": {
        "colab": {
          "base_uri": "https://localhost:8080/"
        },
        "id": "30cFoQv4QY5L",
        "outputId": "60d0b7c2-4d02-4053-8786-108f27573cf6"
      },
      "outputs": [
        {
          "output_type": "stream",
          "name": "stdout",
          "text": [
            "문장길이 평균 :  15.96938143432699\n",
            "문장길이 최대 :  116\n",
            "문장길이 표준편차 :  12.843571939469296\n",
            "\n",
            "\n",
            "pad_sequences maxlen :  41\n",
            "전체 문장의 0.9342988343341575%가 maxlen 설정값 이내에 포함됩니다. \n"
          ]
        }
      ],
      "source": [
        "total_data_text = list(X_train) + list(X_test)\n",
        "\n",
        "# 텍스트데이터 문장길이의 리스트를 생성한 후\n",
        "num_tokens = [len(tokens) for tokens in total_data_text]\n",
        "num_tokens = np.array(num_tokens)\n",
        "\n",
        "# 문장길이의 평균값, 최대값, 표준편차를 계산해 본다. \n",
        "print('문장길이 평균 : ', np.mean(num_tokens))\n",
        "print('문장길이 최대 : ', np.max(num_tokens))\n",
        "print('문장길이 표준편차 : ', np.std(num_tokens))\n",
        "print('\\n')\n",
        "\n",
        "# 예를들어, 최대 길이를 (평균 + 2*표준편차)로 한다면,  \n",
        "max_tokens = np.mean(num_tokens) + 2* np.std(num_tokens)\n",
        "maxlen = int(max_tokens)\n",
        "print('pad_sequences maxlen : ', maxlen)\n",
        "print('전체 문장의 {}%가 maxlen 설정값 이내에 포함됩니다. '.format(np.sum(num_tokens < max_tokens) / len(num_tokens)))"
      ]
    },
    {
      "cell_type": "code",
      "execution_count": 14,
      "metadata": {
        "colab": {
          "base_uri": "https://localhost:8080/"
        },
        "id": "ZGE8eyjbQALG",
        "outputId": "14534630-0f19-4d89-b495-6551bab59f44"
      },
      "outputs": [
        {
          "output_type": "stream",
          "name": "stdout",
          "text": [
            "(146182, 41)\n"
          ]
        }
      ],
      "source": [
        "# 패딩 추가\n",
        "import tensorflow as tf\n",
        "X_train = tf.keras.preprocessing.sequence.pad_sequences(X_train,\n",
        "                                                        value=word_to_index[\"<PAD>\"],\n",
        "                                                        padding='post', # 혹은 'pre'\n",
        "                                                        maxlen=maxlen)\n",
        "\n",
        "X_test = tf.keras.preprocessing.sequence.pad_sequences(X_test,\n",
        "                                                       value=word_to_index[\"<PAD>\"],\n",
        "                                                       padding='post', # 혹은 'pre'\n",
        "                                                       maxlen=maxlen)\n",
        "\n",
        "print(X_train.shape)"
      ]
    },
    {
      "cell_type": "markdown",
      "metadata": {
        "id": "cR2uPrJYLOti"
      },
      "source": [
        "#4) 모델 구성 및 validation set 구성\n",
        "* 모델은 3가지 이상 다양하게 구성하여 실험해 보기\n",
        "* LSTM\n",
        "* CNN\n",
        "* GMP"
      ]
    },
    {
      "cell_type": "code",
      "execution_count": 15,
      "metadata": {
        "colab": {
          "base_uri": "https://localhost:8080/"
        },
        "id": "9fjofm4PRVK7",
        "outputId": "d56b9e6d-d0d8-4761-fed3-809a9e637282"
      },
      "outputs": [
        {
          "output_type": "stream",
          "name": "stdout",
          "text": [
            "Model: \"sequential\"\n",
            "_________________________________________________________________\n",
            " Layer (type)                Output Shape              Param #   \n",
            "=================================================================\n",
            " embedding (Embedding)       (None, None, 16)          160000    \n",
            "                                                                 \n",
            " lstm (LSTM)                 (None, 8)                 800       \n",
            "                                                                 \n",
            " dense (Dense)               (None, 8)                 72        \n",
            "                                                                 \n",
            " dense_1 (Dense)             (None, 1)                 9         \n",
            "                                                                 \n",
            "=================================================================\n",
            "Total params: 160,881\n",
            "Trainable params: 160,881\n",
            "Non-trainable params: 0\n",
            "_________________________________________________________________\n"
          ]
        }
      ],
      "source": [
        "vocab_size = 10000    # 어휘 사전의 크기입니다(10,000개의 단어)\n",
        "word_vector_dim = 16  # 워드 벡터의 차원 수 (변경 가능한 하이퍼파라미터) # 깊을수록 과적합 / 연산량 증가 \n",
        "\n",
        "# model 설계 - LSTM\n",
        "\n",
        "model_lstm = tf.keras.Sequential()\n",
        "model_lstm.add(tf.keras.layers.Embedding(vocab_size, word_vector_dim, input_shape=(None,)))\n",
        "model_lstm.add(tf.keras.layers.LSTM(8))   # 가장 널리 쓰이는 RNN인 LSTM 레이어를 사용하였습니다. 이때 LSTM state 벡터의 차원수는 8로 하였습니다. (변경 가능)\n",
        "model_lstm.add(tf.keras.layers.Dense(8, activation='relu'))\n",
        "model_lstm.add(tf.keras.layers.Dense(1, activation='sigmoid'))  # 최종 출력은 긍정/부정을 나타내는 1dim 입니다.\n",
        "\n",
        "\n",
        "model_lstm.summary()"
      ]
    },
    {
      "cell_type": "code",
      "execution_count": 16,
      "metadata": {
        "colab": {
          "base_uri": "https://localhost:8080/"
        },
        "id": "EehhG40FSofm",
        "outputId": "0fb29425-1ff8-4853-b630-a2fa250a0a89"
      },
      "outputs": [
        {
          "output_type": "stream",
          "name": "stdout",
          "text": [
            "Model: \"sequential_1\"\n",
            "_________________________________________________________________\n",
            " Layer (type)                Output Shape              Param #   \n",
            "=================================================================\n",
            " embedding_1 (Embedding)     (None, None, 16)          160000    \n",
            "                                                                 \n",
            " conv1d (Conv1D)             (None, None, 16)          1808      \n",
            "                                                                 \n",
            " max_pooling1d (MaxPooling1D  (None, None, 16)         0         \n",
            " )                                                               \n",
            "                                                                 \n",
            " conv1d_1 (Conv1D)           (None, None, 16)          1808      \n",
            "                                                                 \n",
            " global_max_pooling1d (Globa  (None, 16)               0         \n",
            " lMaxPooling1D)                                                  \n",
            "                                                                 \n",
            " dense_2 (Dense)             (None, 8)                 136       \n",
            "                                                                 \n",
            " dense_3 (Dense)             (None, 1)                 9         \n",
            "                                                                 \n",
            "=================================================================\n",
            "Total params: 163,761\n",
            "Trainable params: 163,761\n",
            "Non-trainable params: 0\n",
            "_________________________________________________________________\n"
          ]
        }
      ],
      "source": [
        "vocab_size = 10000  # 어휘 사전의 크기입니다(10개의 단어)\n",
        "word_vector_dim = 16   # 단어 하나를 표현하는 임베딩 벡터의 차원 수입니다. \n",
        "\n",
        "# 모델 설계 - CNN\n",
        "\n",
        "model_cnn = tf.keras.Sequential()\n",
        "model_cnn .add(tf.keras.layers.Embedding(vocab_size, word_vector_dim, input_shape=(None,)))\n",
        "model_cnn .add(tf.keras.layers.Conv1D(16, 7, activation='relu'))\n",
        "model_cnn .add(tf.keras.layers.MaxPooling1D(5))\n",
        "model_cnn .add(tf.keras.layers.Conv1D(16, 7, activation='relu'))\n",
        "model_cnn .add(tf.keras.layers.GlobalMaxPooling1D())\n",
        "model_cnn .add(tf.keras.layers.Dense(8, activation='relu'))\n",
        "model_cnn .add(tf.keras.layers.Dense(1, activation='sigmoid'))  # 최종 출력은 긍정/부정을 나타내는 1dim 입니다.\n",
        "\n",
        "model_cnn .summary()"
      ]
    },
    {
      "cell_type": "code",
      "execution_count": 17,
      "metadata": {
        "id": "lEyme6TKUFUN"
      },
      "outputs": [],
      "source": [
        "# vocab_size = 10000  # 어휘 사전의 크기입니다(10개의 단어)\n",
        "# word_vector_dim = 4   # 단어 하나를 표현하는 임베딩 벡터의 차원 수입니다. \n",
        "\n",
        "# # 모델 설계 - CNN\n",
        "\n",
        "# model_cnn = tf.keras.Sequential()\n",
        "# model_cnn .add(tf.keras.layers.Embedding(vocab_size, word_vector_dim, input_shape=(None,)))\n",
        "# model_cnn .add(tf.keras.layers.Conv1D(16, 7, activation='relu'))\n",
        "# model_cnn .add(tf.keras.layers.MaxPooling1D(5))\n",
        "# model_cnn .add(tf.keras.layers.Conv1D(16, 7, activation='relu'))\n",
        "# model_cnn .add(tf.keras.layers.GlobalMaxPooling1D())\n",
        "# model_cnn .add(tf.keras.layers.Dense(8, activation='relu'))\n",
        "# model_cnn .add(tf.keras.layers.Dense(1, activation='sigmoid'))  # 최종 출력은 긍정/부정을 나타내는 1dim 입니다.\n",
        "\n",
        "# model_cnn .summary()"
      ]
    },
    {
      "cell_type": "code",
      "execution_count": 18,
      "metadata": {
        "colab": {
          "base_uri": "https://localhost:8080/"
        },
        "id": "dMliQM8zRVQ4",
        "outputId": "d34878a0-01e7-4ac7-b8e6-2582a93f02cd"
      },
      "outputs": [
        {
          "output_type": "stream",
          "name": "stdout",
          "text": [
            "Model: \"sequential_2\"\n",
            "_________________________________________________________________\n",
            " Layer (type)                Output Shape              Param #   \n",
            "=================================================================\n",
            " embedding_2 (Embedding)     (None, None, 16)          160000    \n",
            "                                                                 \n",
            " global_max_pooling1d_1 (Glo  (None, 16)               0         \n",
            " balMaxPooling1D)                                                \n",
            "                                                                 \n",
            " dense_4 (Dense)             (None, 8)                 136       \n",
            "                                                                 \n",
            " dense_5 (Dense)             (None, 1)                 9         \n",
            "                                                                 \n",
            "=================================================================\n",
            "Total params: 160,145\n",
            "Trainable params: 160,145\n",
            "Non-trainable params: 0\n",
            "_________________________________________________________________\n"
          ]
        }
      ],
      "source": [
        "vocab_size = 10000  # 어휘 사전의 크기입니다(10개의 단어)\n",
        "word_vector_dim = 16   # 단어 하나를 표현하는 임베딩 벡터의 차원 수입니다. \n",
        "\n",
        "# 모델 설계 - GMP :Gloabal Max Pooling1D()\n",
        "\n",
        "model_gmp = tf.keras.Sequential()\n",
        "model_gmp.add(tf.keras.layers.Embedding(vocab_size, word_vector_dim, input_shape=(None,)))\n",
        "model_gmp.add(tf.keras.layers.GlobalMaxPooling1D())\n",
        "model_gmp.add(tf.keras.layers.Dense(8, activation='relu'))\n",
        "model_gmp.add(tf.keras.layers.Dense(1, activation='sigmoid'))  # 최종 출력은 긍정/부정을 나타내는 1dim 입니다.\n",
        "\n",
        "model_gmp.summary()"
      ]
    },
    {
      "cell_type": "code",
      "execution_count": 19,
      "metadata": {
        "colab": {
          "base_uri": "https://localhost:8080/"
        },
        "id": "k_zi_NmFUpug",
        "outputId": "963a9bbc-5822-463b-e603-aa7925eda5e2"
      },
      "outputs": [
        {
          "output_type": "stream",
          "name": "stdout",
          "text": [
            "(106182, 41)\n",
            "(106182,)\n"
          ]
        }
      ],
      "source": [
        "# validation set 40000건 분리\n",
        "X_val = X_train[:40000]   \n",
        "Y_val = y_train[:40000]\n",
        "\n",
        "# validation set을 제외한 나머지 \n",
        "partial_X_train = X_train[40000:]  \n",
        "partial_Y_train = y_train[40000:]\n",
        "\n",
        "print(partial_X_train.shape)\n",
        "print(partial_Y_train.shape)"
      ]
    },
    {
      "cell_type": "markdown",
      "metadata": {
        "id": "wTvRF9PuLVrX"
      },
      "source": [
        "#5) 모델 훈련 _Loss, Accuracy 그래프 시각화\n"
      ]
    },
    {
      "cell_type": "markdown",
      "metadata": {
        "id": "kbu-R-Nq8f2J"
      },
      "source": [
        "###1)LSTM\n",
        "* loss: 0.5005 - accuracy: 0.8303"
      ]
    },
    {
      "cell_type": "code",
      "execution_count": 20,
      "metadata": {
        "colab": {
          "base_uri": "https://localhost:8080/"
        },
        "id": "2a8d8d-WUp4n",
        "outputId": "1f8b2b8e-7c36-4fed-8318-2926767165be"
      },
      "outputs": [
        {
          "output_type": "stream",
          "name": "stdout",
          "text": [
            "Epoch 1/20\n",
            "208/208 [==============================] - 4s 10ms/step - loss: 0.6460 - accuracy: 0.5945 - val_loss: 0.4629 - val_accuracy: 0.8116\n",
            "Epoch 2/20\n",
            "208/208 [==============================] - 2s 8ms/step - loss: 0.3854 - accuracy: 0.8354 - val_loss: 0.3575 - val_accuracy: 0.8424\n",
            "Epoch 3/20\n",
            "208/208 [==============================] - 1s 7ms/step - loss: 0.3299 - accuracy: 0.8619 - val_loss: 0.3507 - val_accuracy: 0.8465\n",
            "Epoch 4/20\n",
            "208/208 [==============================] - 1s 7ms/step - loss: 0.3117 - accuracy: 0.8687 - val_loss: 0.3615 - val_accuracy: 0.8417\n",
            "Epoch 5/20\n",
            "208/208 [==============================] - 2s 7ms/step - loss: 0.3010 - accuracy: 0.8736 - val_loss: 0.3524 - val_accuracy: 0.8479\n",
            "Epoch 6/20\n",
            "208/208 [==============================] - 1s 7ms/step - loss: 0.2907 - accuracy: 0.8773 - val_loss: 0.3555 - val_accuracy: 0.8457\n",
            "Epoch 7/20\n",
            "208/208 [==============================] - 2s 8ms/step - loss: 0.2801 - accuracy: 0.8815 - val_loss: 0.3692 - val_accuracy: 0.8480\n",
            "Epoch 8/20\n",
            "208/208 [==============================] - 2s 7ms/step - loss: 0.2675 - accuracy: 0.8847 - val_loss: 0.3718 - val_accuracy: 0.8447\n",
            "Epoch 9/20\n",
            "208/208 [==============================] - 2s 7ms/step - loss: 0.2559 - accuracy: 0.8884 - val_loss: 0.3868 - val_accuracy: 0.8442\n",
            "Epoch 10/20\n",
            "208/208 [==============================] - 1s 7ms/step - loss: 0.2476 - accuracy: 0.8902 - val_loss: 0.4097 - val_accuracy: 0.8443\n",
            "Epoch 11/20\n",
            "208/208 [==============================] - 1s 7ms/step - loss: 0.2390 - accuracy: 0.8940 - val_loss: 0.4221 - val_accuracy: 0.8440\n",
            "Epoch 12/20\n",
            "208/208 [==============================] - 1s 7ms/step - loss: 0.2318 - accuracy: 0.8958 - val_loss: 0.4430 - val_accuracy: 0.8393\n",
            "Epoch 13/20\n",
            "208/208 [==============================] - 2s 7ms/step - loss: 0.2269 - accuracy: 0.8976 - val_loss: 0.4376 - val_accuracy: 0.8407\n",
            "Epoch 14/20\n",
            "208/208 [==============================] - 1s 7ms/step - loss: 0.2210 - accuracy: 0.8996 - val_loss: 0.4590 - val_accuracy: 0.8408\n",
            "Epoch 15/20\n",
            "208/208 [==============================] - 1s 7ms/step - loss: 0.2160 - accuracy: 0.9008 - val_loss: 0.4713 - val_accuracy: 0.8403\n",
            "Epoch 16/20\n",
            "208/208 [==============================] - 1s 7ms/step - loss: 0.2134 - accuracy: 0.9017 - val_loss: 0.4690 - val_accuracy: 0.8402\n",
            "Epoch 17/20\n",
            "208/208 [==============================] - 1s 7ms/step - loss: 0.2089 - accuracy: 0.9034 - val_loss: 0.4997 - val_accuracy: 0.8414\n",
            "Epoch 18/20\n",
            "208/208 [==============================] - 1s 7ms/step - loss: 0.2039 - accuracy: 0.9053 - val_loss: 0.4999 - val_accuracy: 0.8408\n",
            "Epoch 19/20\n",
            "208/208 [==============================] - 1s 7ms/step - loss: 0.2022 - accuracy: 0.9049 - val_loss: 0.4830 - val_accuracy: 0.8367\n",
            "Epoch 20/20\n",
            "208/208 [==============================] - 2s 7ms/step - loss: 0.1975 - accuracy: 0.9075 - val_loss: 0.4903 - val_accuracy: 0.8404\n"
          ]
        }
      ],
      "source": [
        "model_lstm.compile(optimizer='adam',\n",
        "              loss='binary_crossentropy',\n",
        "              metrics=['accuracy'])\n",
        "              \n",
        "epochs=20  # 몇 epoch를 훈련하면 좋을지 결과를 보면서 바꾸어 봅시다. \n",
        "\n",
        "history = model_lstm.fit(partial_X_train,\n",
        "                    partial_Y_train,\n",
        "                    epochs=epochs,\n",
        "                    batch_size=512,\n",
        "                    validation_data=(X_val, Y_val),\n",
        "                    verbose=1)"
      ]
    },
    {
      "cell_type": "code",
      "execution_count": 21,
      "metadata": {
        "colab": {
          "base_uri": "https://localhost:8080/"
        },
        "id": "2-ITxHJQ8LOE",
        "outputId": "26cc01aa-8323-41b5-9517-15701d14c654"
      },
      "outputs": [
        {
          "output_type": "stream",
          "name": "stdout",
          "text": [
            "1537/1537 - 4s - loss: 0.4920 - accuracy: 0.8358 - 4s/epoch - 2ms/step\n",
            "[0.49204695224761963, 0.8357710838317871]\n"
          ]
        }
      ],
      "source": [
        "results = model_lstm.evaluate(X_test,  y_test, verbose=2)\n",
        "\n",
        "print(results)"
      ]
    },
    {
      "cell_type": "code",
      "execution_count": 22,
      "metadata": {
        "colab": {
          "base_uri": "https://localhost:8080/"
        },
        "id": "3oFtNt0y8PoG",
        "outputId": "caf90f0d-cef6-45fe-99c6-2cd1ec1f63a5"
      },
      "outputs": [
        {
          "output_type": "stream",
          "name": "stdout",
          "text": [
            "dict_keys(['loss', 'accuracy', 'val_loss', 'val_accuracy'])\n"
          ]
        }
      ],
      "source": [
        "history_dict = history.history\n",
        "print(history_dict.keys()) # epoch에 따른 그래프를 그려볼 수 있는 항목들"
      ]
    },
    {
      "cell_type": "code",
      "execution_count": 23,
      "metadata": {
        "colab": {
          "base_uri": "https://localhost:8080/",
          "height": 295
        },
        "id": "nHfAGItv8UdN",
        "outputId": "8483216f-52ff-4703-af04-472ea8e2d8e5"
      },
      "outputs": [
        {
          "output_type": "display_data",
          "data": {
            "text/plain": [
              "<Figure size 432x288 with 1 Axes>"
            ],
            "image/png": "[encoded data removed]"
          },
          "metadata": {
            "needs_background": "light"
          }
        }
      ],
      "source": [
        "acc = history_dict['accuracy']\n",
        "val_acc = history_dict['val_accuracy']\n",
        "\n",
        "loss = history_dict['loss']\n",
        "val_loss = history_dict['val_loss']\n",
        "\n",
        "epochs = range(1, len(acc) + 1)\n",
        "\n",
        "# \"bo\"는 \"파란색 점\"입니다\n",
        "plt.plot(epochs, loss, 'bo', label='Training loss')\n",
        "# b는 \"파란 실선\"입니다\n",
        "plt.plot(epochs, val_loss, 'b', label='Validation loss')\n",
        "\n",
        "plt.title('Training and validation loss')\n",
        "plt.xlabel('Epochs')\n",
        "plt.ylabel('Loss')\n",
        "plt.legend()\n",
        "\n",
        "plt.show()"
      ]
    },
    {
      "cell_type": "code",
      "execution_count": 24,
      "metadata": {
        "colab": {
          "base_uri": "https://localhost:8080/",
          "height": 295
        },
        "id": "wdnOvvDq8YDq",
        "outputId": "ca96c06b-f52e-46a3-f551-08a7d3e0793c"
      },
      "outputs": [
        {
          "output_type": "display_data",
          "data": {
            "text/plain": [
              "<Figure size 432x288 with 1 Axes>"
            ],
            "image/png": "[encoded data removed]"
          },
          "metadata": {
            "needs_background": "light"
          }
        }
      ],
      "source": [
        "plt.clf()   # 그림을 초기화합니다\n",
        "\n",
        "plt.plot(epochs, acc, 'bo', label='Training acc')\n",
        "plt.plot(epochs, val_acc, 'b', label='Validation acc')\n",
        "plt.title('Training and validation accuracy')\n",
        "plt.xlabel('Epochs')\n",
        "plt.ylabel('Accuracy')\n",
        "plt.legend()\n",
        "\n",
        "plt.show()"
      ]
    },
    {
      "cell_type": "markdown",
      "metadata": {
        "id": "nqWgGcX38-id"
      },
      "source": [
        "###1)CNN\n",
        "* loss: 0.9274 - accuracy: 0.8107"
      ]
    },
    {
      "cell_type": "code",
      "execution_count": 25,
      "metadata": {
        "colab": {
          "base_uri": "https://localhost:8080/"
        },
        "id": "6F6BxZR47hlo",
        "outputId": "a879c085-a478-4c42-f7f3-e2ec05765468"
      },
      "outputs": [
        {
          "output_type": "stream",
          "name": "stdout",
          "text": [
            "Epoch 1/20\n",
            "208/208 [==============================] - 3s 7ms/step - loss: 0.5136 - accuracy: 0.7474 - val_loss: 0.3650 - val_accuracy: 0.8412\n",
            "Epoch 2/20\n",
            "208/208 [==============================] - 1s 5ms/step - loss: 0.3379 - accuracy: 0.8569 - val_loss: 0.3471 - val_accuracy: 0.8487\n",
            "Epoch 3/20\n",
            "208/208 [==============================] - 1s 6ms/step - loss: 0.3040 - accuracy: 0.8734 - val_loss: 0.3448 - val_accuracy: 0.8503\n",
            "Epoch 4/20\n",
            "208/208 [==============================] - 1s 6ms/step - loss: 0.2781 - accuracy: 0.8877 - val_loss: 0.3512 - val_accuracy: 0.8492\n",
            "Epoch 5/20\n",
            "208/208 [==============================] - 1s 6ms/step - loss: 0.2519 - accuracy: 0.9007 - val_loss: 0.3583 - val_accuracy: 0.8486\n",
            "Epoch 6/20\n",
            "208/208 [==============================] - 1s 5ms/step - loss: 0.2214 - accuracy: 0.9157 - val_loss: 0.3766 - val_accuracy: 0.8467\n",
            "Epoch 7/20\n",
            "208/208 [==============================] - 1s 6ms/step - loss: 0.1886 - accuracy: 0.9310 - val_loss: 0.4071 - val_accuracy: 0.8444\n",
            "Epoch 8/20\n",
            "208/208 [==============================] - 1s 5ms/step - loss: 0.1580 - accuracy: 0.9454 - val_loss: 0.4427 - val_accuracy: 0.8388\n",
            "Epoch 9/20\n",
            "208/208 [==============================] - 1s 5ms/step - loss: 0.1314 - accuracy: 0.9560 - val_loss: 0.4810 - val_accuracy: 0.8360\n",
            "Epoch 10/20\n",
            "208/208 [==============================] - 1s 6ms/step - loss: 0.1097 - accuracy: 0.9638 - val_loss: 0.5104 - val_accuracy: 0.8337\n",
            "Epoch 11/20\n",
            "208/208 [==============================] - 1s 5ms/step - loss: 0.0923 - accuracy: 0.9706 - val_loss: 0.5654 - val_accuracy: 0.8321\n",
            "Epoch 12/20\n",
            "208/208 [==============================] - 1s 5ms/step - loss: 0.0779 - accuracy: 0.9763 - val_loss: 0.6142 - val_accuracy: 0.8265\n",
            "Epoch 13/20\n",
            "208/208 [==============================] - 1s 5ms/step - loss: 0.0671 - accuracy: 0.9795 - val_loss: 0.6641 - val_accuracy: 0.8285\n",
            "Epoch 14/20\n",
            "208/208 [==============================] - 1s 6ms/step - loss: 0.0589 - accuracy: 0.9823 - val_loss: 0.7034 - val_accuracy: 0.8232\n",
            "Epoch 15/20\n",
            "208/208 [==============================] - 2s 8ms/step - loss: 0.0514 - accuracy: 0.9848 - val_loss: 0.7633 - val_accuracy: 0.8237\n",
            "Epoch 16/20\n",
            "208/208 [==============================] - 2s 10ms/step - loss: 0.0468 - accuracy: 0.9859 - val_loss: 0.8044 - val_accuracy: 0.8213\n",
            "Epoch 17/20\n",
            "208/208 [==============================] - 1s 6ms/step - loss: 0.0427 - accuracy: 0.9872 - val_loss: 0.8444 - val_accuracy: 0.8195\n",
            "Epoch 18/20\n",
            "208/208 [==============================] - 1s 6ms/step - loss: 0.0390 - accuracy: 0.9884 - val_loss: 0.9033 - val_accuracy: 0.8189\n",
            "Epoch 19/20\n",
            "208/208 [==============================] - 1s 6ms/step - loss: 0.0354 - accuracy: 0.9894 - val_loss: 0.9512 - val_accuracy: 0.8189\n",
            "Epoch 20/20\n",
            "208/208 [==============================] - 1s 6ms/step - loss: 0.0351 - accuracy: 0.9889 - val_loss: 0.9810 - val_accuracy: 0.8184\n"
          ]
        }
      ],
      "source": [
        "model_cnn.compile(optimizer='adam',\n",
        "              loss='binary_crossentropy',\n",
        "              metrics=['accuracy'])\n",
        "              \n",
        "epochs=20  # 몇 epoch를 훈련하면 좋을지 결과를 보면서 바꾸어 봅시다. \n",
        "\n",
        "history = model_cnn.fit(partial_X_train,\n",
        "                    partial_Y_train,\n",
        "                    epochs=epochs,\n",
        "                    batch_size=512,\n",
        "                    validation_data=(X_val, Y_val),\n",
        "                    verbose=1)"
      ]
    },
    {
      "cell_type": "code",
      "execution_count": 26,
      "metadata": {
        "colab": {
          "base_uri": "https://localhost:8080/"
        },
        "id": "GpiGJpH69xy-",
        "outputId": "8fca0420-3bd5-44a8-c7bc-eb02e681c71e"
      },
      "outputs": [
        {
          "output_type": "stream",
          "name": "stdout",
          "text": [
            "1537/1537 - 3s - loss: 1.0055 - accuracy: 0.8137 - 3s/epoch - 2ms/step\n",
            "[1.0054808855056763, 0.813698947429657]\n"
          ]
        }
      ],
      "source": [
        "results = model_cnn.evaluate(X_test,  y_test, verbose=2)\n",
        "\n",
        "print(results)"
      ]
    },
    {
      "cell_type": "code",
      "execution_count": 27,
      "metadata": {
        "colab": {
          "base_uri": "https://localhost:8080/"
        },
        "id": "gAIp3WZA-x0I",
        "outputId": "7a770d7f-a26f-4b25-9eff-600be8e6952a"
      },
      "outputs": [
        {
          "output_type": "stream",
          "name": "stdout",
          "text": [
            "dict_keys(['loss', 'accuracy', 'val_loss', 'val_accuracy'])\n"
          ]
        }
      ],
      "source": [
        "history_dict = history.history\n",
        "print(history_dict.keys()) # epoch에 따른 그래프를 그려볼 수 있는 항목들"
      ]
    },
    {
      "cell_type": "code",
      "execution_count": 28,
      "metadata": {
        "colab": {
          "base_uri": "https://localhost:8080/",
          "height": 295
        },
        "id": "hdZhz0lZ-MrL",
        "outputId": "545bc338-1dd9-4aa5-d98e-73eef867d4bc"
      },
      "outputs": [
        {
          "output_type": "display_data",
          "data": {
            "text/plain": [
              "<Figure size 432x288 with 1 Axes>"
            ],
            "image/png": "[encoded data removed]"
          },
          "metadata": {
            "needs_background": "light"
          }
        }
      ],
      "source": [
        "acc = history_dict['accuracy']\n",
        "val_acc = history_dict['val_accuracy']\n",
        "\n",
        "loss = history_dict['loss']\n",
        "val_loss = history_dict['val_loss']\n",
        "\n",
        "epochs = range(1, len(acc) + 1)\n",
        "\n",
        "plt.clf() \n",
        "# \"bo\"는 \"파란색 점\"입니다\n",
        "plt.plot(epochs, loss, 'bo', label='Training loss')\n",
        "# b는 \"파란 실선\"입니다\n",
        "plt.plot(epochs, val_loss, 'b', label='Validation loss')\n",
        "\n",
        "plt.title('Training and validation loss')\n",
        "plt.xlabel('Epochs')\n",
        "plt.ylabel('Loss')\n",
        "plt.legend()\n",
        "\n",
        "plt.show()"
      ]
    },
    {
      "cell_type": "code",
      "execution_count": 29,
      "metadata": {
        "colab": {
          "base_uri": "https://localhost:8080/",
          "height": 295
        },
        "id": "6P07JE5P9x24",
        "outputId": "bf0ed7c8-a769-4004-d4f4-ad3a586b34c1"
      },
      "outputs": [
        {
          "output_type": "display_data",
          "data": {
            "text/plain": [
              "<Figure size 432x288 with 1 Axes>"
            ],
            "image/png": "[encoded data removed]"
          },
          "metadata": {
            "needs_background": "light"
          }
        }
      ],
      "source": [
        "plt.clf()   # 그림을 초기화합니다\n",
        "\n",
        "plt.plot(epochs, acc, 'bo', label='Training acc')\n",
        "plt.plot(epochs, val_acc, 'b', label='Validation acc')\n",
        "plt.title('Training and validation accuracy')\n",
        "plt.xlabel('Epochs')\n",
        "plt.ylabel('Accuracy')\n",
        "plt.legend()\n",
        "\n",
        "plt.show()"
      ]
    },
    {
      "cell_type": "markdown",
      "metadata": {
        "id": "_wWVPb3T9EVM"
      },
      "source": [
        "###3)GMP(Global Max Pooling)\n",
        "* loss: 0.6933 - accuracy: 0.4977"
      ]
    },
    {
      "cell_type": "code",
      "execution_count": 30,
      "metadata": {
        "colab": {
          "base_uri": "https://localhost:8080/"
        },
        "id": "c6j2rizlUp_I",
        "outputId": "49a84bba-b26b-4676-e450-087413c92f0d"
      },
      "outputs": [
        {
          "output_type": "stream",
          "name": "stdout",
          "text": [
            "Epoch 1/20\n",
            "208/208 [==============================] - 2s 7ms/step - loss: 0.1950 - accuracy: 0.9080 - val_loss: 0.5119 - val_accuracy: 0.8367\n",
            "Epoch 2/20\n",
            "208/208 [==============================] - 2s 7ms/step - loss: 0.1913 - accuracy: 0.9092 - val_loss: 0.5118 - val_accuracy: 0.8383\n",
            "Epoch 3/20\n",
            "208/208 [==============================] - 1s 7ms/step - loss: 0.1891 - accuracy: 0.9096 - val_loss: 0.5241 - val_accuracy: 0.8382\n",
            "Epoch 4/20\n",
            "208/208 [==============================] - 1s 7ms/step - loss: 0.1860 - accuracy: 0.9114 - val_loss: 0.5213 - val_accuracy: 0.8287\n",
            "Epoch 5/20\n",
            "208/208 [==============================] - 1s 7ms/step - loss: 0.1841 - accuracy: 0.9121 - val_loss: 0.5331 - val_accuracy: 0.8376\n",
            "Epoch 6/20\n",
            "208/208 [==============================] - 2s 7ms/step - loss: 0.1829 - accuracy: 0.9133 - val_loss: 0.5350 - val_accuracy: 0.8333\n",
            "Epoch 7/20\n",
            "208/208 [==============================] - 1s 7ms/step - loss: 0.1792 - accuracy: 0.9150 - val_loss: 0.5528 - val_accuracy: 0.8328\n",
            "Epoch 8/20\n",
            "208/208 [==============================] - 1s 7ms/step - loss: 0.1768 - accuracy: 0.9158 - val_loss: 0.5429 - val_accuracy: 0.8330\n",
            "Epoch 9/20\n",
            "208/208 [==============================] - 1s 7ms/step - loss: 0.1733 - accuracy: 0.9176 - val_loss: 0.5394 - val_accuracy: 0.8290\n",
            "Epoch 10/20\n",
            "208/208 [==============================] - 2s 7ms/step - loss: 0.1715 - accuracy: 0.9188 - val_loss: 0.5734 - val_accuracy: 0.8336\n",
            "Epoch 11/20\n",
            "208/208 [==============================] - 2s 7ms/step - loss: 0.1696 - accuracy: 0.9203 - val_loss: 0.5667 - val_accuracy: 0.8304\n",
            "Epoch 12/20\n",
            "208/208 [==============================] - 1s 7ms/step - loss: 0.1668 - accuracy: 0.9226 - val_loss: 0.5691 - val_accuracy: 0.8282\n",
            "Epoch 13/20\n",
            "208/208 [==============================] - 1s 7ms/step - loss: 0.1647 - accuracy: 0.9235 - val_loss: 0.5504 - val_accuracy: 0.8267\n",
            "Epoch 14/20\n",
            "208/208 [==============================] - 2s 7ms/step - loss: 0.1601 - accuracy: 0.9266 - val_loss: 0.5753 - val_accuracy: 0.8268\n",
            "Epoch 15/20\n",
            "208/208 [==============================] - 2s 7ms/step - loss: 0.1578 - accuracy: 0.9277 - val_loss: 0.5740 - val_accuracy: 0.8260\n",
            "Epoch 16/20\n",
            "208/208 [==============================] - 2s 8ms/step - loss: 0.1557 - accuracy: 0.9289 - val_loss: 0.5969 - val_accuracy: 0.8294\n",
            "Epoch 17/20\n",
            "208/208 [==============================] - 1s 7ms/step - loss: 0.1539 - accuracy: 0.9311 - val_loss: 0.5833 - val_accuracy: 0.8189\n",
            "Epoch 18/20\n",
            "208/208 [==============================] - 2s 8ms/step - loss: 0.1503 - accuracy: 0.9333 - val_loss: 0.5999 - val_accuracy: 0.8233\n",
            "Epoch 19/20\n",
            "208/208 [==============================] - 2s 7ms/step - loss: 0.1494 - accuracy: 0.9345 - val_loss: 0.6134 - val_accuracy: 0.8287\n",
            "Epoch 20/20\n",
            "208/208 [==============================] - 2s 7ms/step - loss: 0.1460 - accuracy: 0.9369 - val_loss: 0.5951 - val_accuracy: 0.8268\n"
          ]
        }
      ],
      "source": [
        "model_gmp.compile(optimizer='adam',\n",
        "              loss='binary_crossentropy',\n",
        "              metrics=['accuracy'])\n",
        "              \n",
        "epochs=20  # 몇 epoch를 훈련하면 좋을지 결과를 보면서 바꾸어 봅시다. \n",
        "\n",
        "history = model_lstm.fit(partial_X_train,\n",
        "                    partial_Y_train,\n",
        "                    epochs=epochs,\n",
        "                    batch_size=512,\n",
        "                    validation_data=(X_val, Y_val),\n",
        "                    verbose=1)"
      ]
    },
    {
      "cell_type": "code",
      "execution_count": 31,
      "metadata": {
        "colab": {
          "base_uri": "https://localhost:8080/"
        },
        "id": "rBTjYi9jUqCA",
        "outputId": "912e8abc-ac84-468d-9099-cacea97b8df7"
      },
      "outputs": [
        {
          "output_type": "stream",
          "name": "stdout",
          "text": [
            "1537/1537 - 3s - loss: 0.6935 - accuracy: 0.4973 - 3s/epoch - 2ms/step\n",
            "[0.6935251951217651, 0.4972638785839081]\n"
          ]
        }
      ],
      "source": [
        "results = model_gmp.evaluate(X_test,  y_test, verbose=2)\n",
        "\n",
        "print(results)"
      ]
    },
    {
      "cell_type": "code",
      "execution_count": 32,
      "metadata": {
        "id": "OTd-t6c3_rMO"
      },
      "outputs": [],
      "source": [
        "history_dict = history.history"
      ]
    },
    {
      "cell_type": "code",
      "execution_count": 33,
      "metadata": {
        "colab": {
          "base_uri": "https://localhost:8080/",
          "height": 295
        },
        "id": "g0aU24JZ_rO4",
        "outputId": "f9a11125-4707-4162-ac51-f87937f894bf"
      },
      "outputs": [
        {
          "output_type": "display_data",
          "data": {
            "text/plain": [
              "<Figure size 432x288 with 1 Axes>"
            ],
            "image/png": "[encoded data removed]"
          },
          "metadata": {
            "needs_background": "light"
          }
        }
      ],
      "source": [
        "acc = history_dict['accuracy']\n",
        "val_acc = history_dict['val_accuracy']\n",
        "\n",
        "loss = history_dict['loss']\n",
        "val_loss = history_dict['val_loss']\n",
        "\n",
        "epochs = range(1, len(acc) + 1)\n",
        "\n",
        "plt.clf() \n",
        "# \"bo\"는 \"파란색 점\"입니다\n",
        "plt.plot(epochs, loss, 'bo', label='Training loss')\n",
        "# b는 \"파란 실선\"입니다\n",
        "plt.plot(epochs, val_loss, 'b', label='Validation loss')\n",
        "\n",
        "plt.title('Training and validation loss')\n",
        "plt.xlabel('Epochs')\n",
        "plt.ylabel('Loss')\n",
        "plt.legend()\n",
        "\n",
        "plt.show()"
      ]
    },
    {
      "cell_type": "code",
      "execution_count": 34,
      "metadata": {
        "colab": {
          "base_uri": "https://localhost:8080/",
          "height": 295
        },
        "id": "N_bePYRZ_zZi",
        "outputId": "7a94292c-e990-4bc4-aa8a-8f91a9efc095"
      },
      "outputs": [
        {
          "output_type": "display_data",
          "data": {
            "text/plain": [
              "<Figure size 432x288 with 1 Axes>"
            ],
            "image/png": "[encoded data removed]"
          },
          "metadata": {
            "needs_background": "light"
          }
        }
      ],
      "source": [
        "plt.clf()   # 그림을 초기화합니다\n",
        "\n",
        "plt.plot(epochs, acc, 'bo', label='Training acc')\n",
        "plt.plot(epochs, val_acc, 'b', label='Validation acc')\n",
        "plt.title('Training and validation accuracy')\n",
        "plt.xlabel('Epochs')\n",
        "plt.ylabel('Accuracy')\n",
        "plt.legend()\n",
        "\n",
        "plt.show()"
      ]
    },
    {
      "cell_type": "markdown",
      "metadata": {
        "id": "4Pre2DOmLrHz"
      },
      "source": [
        "#6) 학습된 Embedding 레이어 분석\n"
      ]
    },
    {
      "cell_type": "code",
      "execution_count": 35,
      "metadata": {
        "colab": {
          "base_uri": "https://localhost:8080/"
        },
        "id": "HBk0dXxnLvQh",
        "outputId": "05be3556-81fd-4746-b430-5f19872e541b"
      },
      "outputs": [
        {
          "output_type": "stream",
          "name": "stdout",
          "text": [
            "gensim                        3.6.0\n"
          ]
        }
      ],
      "source": [
        "!pip list | grep gensim"
      ]
    },
    {
      "cell_type": "markdown",
      "metadata": {
        "id": "O7vjPdIGF5wk"
      },
      "source": [
        "### 1)LSTM "
      ]
    },
    {
      "cell_type": "code",
      "execution_count": 36,
      "metadata": {
        "colab": {
          "base_uri": "https://localhost:8080/"
        },
        "id": "POhg3NBpDXQB",
        "outputId": "a978f8f0-d8a3-4af9-aa78-243c32d163fc"
      },
      "outputs": [
        {
          "output_type": "stream",
          "name": "stdout",
          "text": [
            "(10000, 16)\n"
          ]
        }
      ],
      "source": [
        "embedding_layer = model_lstm.layers[0]\n",
        "weights = embedding_layer.get_weights()[0]\n",
        "print(weights.shape)    # shape: (vocab_size, embedding_dim)"
      ]
    },
    {
      "cell_type": "code",
      "execution_count": 99,
      "metadata": {
        "id": "enhX8V2GA91u"
      },
      "outputs": [],
      "source": [
        "# 학습한 Embedding 파라미터를 파일에 써서 저장합니다. \n",
        "word2vec_file_path = '/content/drive/MyDrive/Aiffel_data/Exp8_NLP2/word2vec_lstm.txt'\n",
        "f = open(word2vec_file_path, 'w')\n",
        "f.write('{} {}\\n'.format(vocab_size-4, word_vector_dim))  # 몇개의 벡터를 얼마 사이즈로 기재할지 타이틀을 씁니다.\n",
        "\n",
        "# 단어 개수(에서 특수문자 4개는 제외하고)만큼의 워드 벡터를 파일에 기록합니다. \n",
        "vectors = model_lstm.get_weights()[0]\n",
        "for i in range(4,vocab_size):\n",
        "    f.write('{} {}\\n'.format(index_to_word[i], ' '.join(map(str, list(vectors[i, :])))))\n",
        "f.close()"
      ]
    },
    {
      "cell_type": "code",
      "execution_count": 100,
      "metadata": {
        "colab": {
          "base_uri": "https://localhost:8080/"
        },
        "id": "YI2CteGGDi05",
        "outputId": "5ee5c026-7de4-44a9-9d23-c18641206da8"
      },
      "outputs": [
        {
          "output_type": "execute_result",
          "data": {
            "text/plain": [
              "array([ 1.9818382 , -1.2061443 ,  0.26332048,  0.4834269 ,  0.6022659 ,\n",
              "        0.4729079 ,  0.00881247,  0.075144  , -0.1970743 ,  0.18722269,\n",
              "        1.3905178 , -1.19823   , -1.5512726 , -1.243533  ,  0.7345452 ,\n",
              "       -0.85167164, -0.8948489 , -0.0798174 ,  0.6977165 , -2.2128296 ,\n",
              "       -1.4094265 ,  0.11490528,  0.08917274, -1.8102962 ,  0.36923164,\n",
              "       -1.6743804 ,  1.3017737 ,  1.3279248 ,  3.1550527 , -0.75211936,\n",
              "       -0.13477653,  1.5805345 ,  0.09473179,  0.20152164,  0.64824694,\n",
              "       -1.418636  , -0.24074405, -1.5264472 ,  0.0180965 ,  1.0383162 ,\n",
              "       -0.04682421, -2.050055  , -0.46860582, -0.354179  ,  0.70156157,\n",
              "        0.51648116, -0.59353006, -0.33016846,  1.6831187 , -1.5771573 ,\n",
              "        1.3661412 ,  0.4251465 ,  1.143924  , -1.4851304 , -0.81353843,\n",
              "        0.64249015,  0.78248996, -0.12525974,  1.1296859 ,  0.20628826,\n",
              "        0.19599395, -1.8037232 ,  0.11920474, -1.7920259 , -2.3250089 ,\n",
              "       -2.0758355 , -0.07351472,  1.3124068 , -0.8489066 , -0.52326816,\n",
              "       -0.3474995 , -1.2516016 ,  0.04714912,  1.5072738 ,  0.7530797 ,\n",
              "       -0.06266023,  1.2602863 , -0.19077076,  1.6706328 , -1.3172747 ,\n",
              "       -1.1673995 , -0.08788426, -1.2092487 ,  1.3196492 ,  0.43494225,\n",
              "        0.442755  , -0.9371035 ,  0.744089  ,  0.749548  ,  1.8510883 ,\n",
              "       -0.56826395, -0.30130357, -0.56085515, -0.07554126, -0.9290748 ,\n",
              "       -0.37323627,  1.7614405 ,  0.7990099 ,  0.48589814,  1.4508579 ],\n",
              "      dtype=float32)"
            ]
          },
          "metadata": {},
          "execution_count": 100
        }
      ],
      "source": [
        "from gensim.models.keyedvectors import Word2VecKeyedVectors\n",
        "\n",
        "word_vectors = Word2VecKeyedVectors.load_word2vec_format(word2vec_file_path, binary=False)\n",
        "vector = word_vectors['사탕']\n",
        "vector"
      ]
    },
    {
      "cell_type": "code",
      "execution_count": 101,
      "metadata": {
        "colab": {
          "base_uri": "https://localhost:8080/"
        },
        "id": "v2wxW_WADmv5",
        "outputId": "87f8bf93-1373-4e2b-f8bd-57412c4fcd04"
      },
      "outputs": [
        {
          "output_type": "execute_result",
          "data": {
            "text/plain": [
              "[('초콜릿', 0.8278311491012573),\n",
              " ('도시락', 0.8211660385131836),\n",
              " ('과자', 0.8149240016937256),\n",
              " ('당근', 0.8072206974029541),\n",
              " ('빵', 0.8045904636383057),\n",
              " ('떡', 0.8031460642814636),\n",
              " ('꿀', 0.7787448167800903),\n",
              " ('닭', 0.771338939666748),\n",
              " ('된장', 0.7578871250152588),\n",
              " ('감자', 0.7541443705558777)]"
            ]
          },
          "metadata": {},
          "execution_count": 101
        }
      ],
      "source": [
        "word_vectors.similar_by_word(\"사탕\")"
      ]
    },
    {
      "cell_type": "markdown",
      "metadata": {
        "id": "Qm03QnZYGBIe"
      },
      "source": [
        "### 2) CNN\n"
      ]
    },
    {
      "cell_type": "code",
      "execution_count": 40,
      "metadata": {
        "colab": {
          "base_uri": "https://localhost:8080/"
        },
        "id": "t9FEia_lGLBj",
        "outputId": "086b24ed-c32d-4c51-e077-f265de5949ab"
      },
      "outputs": [
        {
          "output_type": "stream",
          "name": "stdout",
          "text": [
            "(10000, 16)\n"
          ]
        }
      ],
      "source": [
        "embedding_layer = model_cnn.layers[0]\n",
        "weights = embedding_layer.get_weights()[0]\n",
        "print(weights.shape)"
      ]
    },
    {
      "cell_type": "code",
      "execution_count": 41,
      "metadata": {
        "id": "He2EtJsDGLIz"
      },
      "outputs": [],
      "source": [
        "# 학습한 Embedding 파라미터를 파일에 써서 저장합니다. \n",
        "word2vec_file_path2 = '/content/drive/MyDrive/Aiffel_data/Exp8_NLP2/word2vec_cnn.txt'\n",
        "f = open(word2vec_file_path2, 'w')\n",
        "f.write('{} {}\\n'.format(vocab_size-4, word_vector_dim))  # 몇개의 벡터를 얼마 사이즈로 기재할지 타이틀을 씁니다.\n",
        "\n",
        "# 단어 개수(에서 특수문자 4개는 제외하고)만큼의 워드 벡터를 파일에 기록합니다. \n",
        "vectors = model_cnn.get_weights()[0]\n",
        "for i in range(4,vocab_size):\n",
        "    f.write('{} {}\\n'.format(index_to_word[i], ' '.join(map(str, list(vectors[i, :])))))\n",
        "f.close()"
      ]
    },
    {
      "cell_type": "code",
      "execution_count": 42,
      "metadata": {
        "id": "E0wC8q2PGLLa"
      },
      "outputs": [],
      "source": [
        "word_vectors = Word2VecKeyedVectors.load_word2vec_format(word2vec_file_path2, binary=False)\n",
        "vector = word_vectors['사탕']\n",
        "vector"
      ]
    },
    {
      "cell_type": "code",
      "execution_count": 43,
      "metadata": {
        "id": "rIq8nsW8GjZx"
      },
      "outputs": [],
      "source": [
        "word_vectors.similar_by_word(\"사탕\")"
      ]
    },
    {
      "cell_type": "markdown",
      "metadata": {
        "id": "L54g1cdUGBQF"
      },
      "source": [
        "### 3) GMP"
      ]
    },
    {
      "cell_type": "code",
      "execution_count": 44,
      "metadata": {
        "colab": {
          "base_uri": "https://localhost:8080/"
        },
        "id": "5GK-8nUqG-d1",
        "outputId": "ccbd3ca3-8b03-4345-ce0c-36eee18e99f1"
      },
      "outputs": [
        {
          "output_type": "stream",
          "name": "stdout",
          "text": [
            "(10000, 16)\n"
          ]
        }
      ],
      "source": [
        "embedding_layer = model_gmp.layers[0]\n",
        "weights = embedding_layer.get_weights()[0]\n",
        "print(weights.shape)"
      ]
    },
    {
      "cell_type": "code",
      "execution_count": 45,
      "metadata": {
        "id": "-sZYYmOmG-m7"
      },
      "outputs": [],
      "source": [
        "# 학습한 Embedding 파라미터를 파일에 써서 저장합니다. \n",
        "word2vec_file_path2 = '/content/drive/MyDrive/Aiffel_data/Exp8_NLP2/word2vec_gmp.txt'\n",
        "f = open(word2vec_file_path2, 'w')\n",
        "f.write('{} {}\\n'.format(vocab_size-4, word_vector_dim))  # 몇개의 벡터를 얼마 사이즈로 기재할지 타이틀을 씁니다.\n",
        "\n",
        "# 단어 개수(에서 특수문자 4개는 제외하고)만큼의 워드 벡터를 파일에 기록합니다. \n",
        "vectors = model_gmp.get_weights()[0]\n",
        "for i in range(4,vocab_size):\n",
        "    f.write('{} {}\\n'.format(index_to_word[i], ' '.join(map(str, list(vectors[i, :])))))\n",
        "f.close()"
      ]
    },
    {
      "cell_type": "code",
      "execution_count": 46,
      "metadata": {
        "id": "dwJudSyHIMeB"
      },
      "outputs": [],
      "source": [
        "word_vectors = Word2VecKeyedVectors.load_word2vec_format(word2vec_file_path2, binary=False)\n",
        "vector = word_vectors['사탕']\n",
        "vector"
      ]
    },
    {
      "cell_type": "code",
      "execution_count": 47,
      "metadata": {
        "id": "JnMJTUJoIPXe"
      },
      "outputs": [],
      "source": [
        " word_vectors.similar_by_word(\"사탕\")"
      ]
    },
    {
      "cell_type": "markdown",
      "metadata": {
        "id": "jKKKM3ICLt4i"
      },
      "source": [
        "#7) 한국어 Word2Vec 임베딩 활용하여 성능 개선"
      ]
    },
    {
      "cell_type": "code",
      "execution_count": 54,
      "metadata": {
        "colab": {
          "base_uri": "https://localhost:8080/"
        },
        "id": "8Zd6pWsOJBll",
        "outputId": "86666062-986b-4f62-e7f3-77dd4d034df3"
      },
      "outputs": [
        {
          "output_type": "execute_result",
          "data": {
            "text/plain": [
              "array([ 1.99578202e+00, -1.22253132e+00,  2.77341127e-01,  4.89831448e-01,\n",
              "        6.40233099e-01,  4.61492717e-01,  2.97553209e-03,  5.01980744e-02,\n",
              "       -1.35776371e-01,  1.86780110e-01,  1.39739680e+00, -1.25762880e+00,\n",
              "       -1.50155091e+00, -1.26987350e+00,  7.07643509e-01, -8.72503102e-01,\n",
              "       -9.50294614e-01, -8.86132792e-02,  6.80801511e-01, -2.23834896e+00,\n",
              "       -1.40942883e+00,  1.34020180e-01,  8.21087956e-02, -1.82898700e+00,\n",
              "        3.59677583e-01, -1.66758394e+00,  1.28128493e+00,  1.30510080e+00,\n",
              "        3.10196543e+00, -7.99199760e-01, -1.35764793e-01,  1.58500004e+00,\n",
              "        6.01308569e-02,  1.62383899e-01,  6.24177992e-01, -1.37674975e+00,\n",
              "       -2.45471537e-01, -1.59390914e+00,  2.36015674e-02,  9.45158362e-01,\n",
              "       -6.07259199e-02, -2.03777599e+00, -4.61366385e-01, -3.36668313e-01,\n",
              "        7.44715393e-01,  5.19867659e-01, -6.54740810e-01, -3.39991003e-01,\n",
              "        1.69652367e+00, -1.61448753e+00,  1.27723384e+00,  4.26179439e-01,\n",
              "        1.13957238e+00, -1.46465731e+00, -8.28119636e-01,  6.63695931e-01,\n",
              "        7.81318843e-01, -1.37910262e-01,  1.19348514e+00,  2.35322446e-01,\n",
              "        2.02551708e-01, -1.84147835e+00,  1.09136321e-01, -1.77073920e+00,\n",
              "       -2.31667590e+00, -2.07452321e+00, -6.48143962e-02,  1.33184850e+00,\n",
              "       -8.39399159e-01, -4.73194629e-01, -3.34351748e-01, -1.22952867e+00,\n",
              "        6.63139969e-02,  1.49741614e+00,  8.08440983e-01, -3.85382436e-02,\n",
              "        1.23522246e+00, -1.90072134e-01,  1.70532346e+00, -1.28910089e+00,\n",
              "       -1.23970330e+00, -1.16927855e-01, -1.18056989e+00,  1.30072045e+00,\n",
              "        4.31328744e-01,  4.69325721e-01, -9.68509793e-01,  7.59253383e-01,\n",
              "        6.94674492e-01,  1.87949693e+00, -5.54019332e-01, -2.77634293e-01,\n",
              "       -5.78318954e-01, -9.62451324e-02, -9.29195285e-01, -3.85586619e-01,\n",
              "        1.74284732e+00,  8.12085927e-01,  5.03780723e-01,  1.44065797e+00],\n",
              "      dtype=float32)"
            ]
          },
          "metadata": {},
          "execution_count": 54
        }
      ],
      "source": [
        "from gensim.models.keyedvectors import Word2VecKeyedVectors\n",
        "word2vec_file_path = '/content/drive/MyDrive/Aiffel_data/Exp8_NLP2/word2vec_ko.model'\n",
        "word_vectors = Word2VecKeyedVectors.load(word2vec_file_path)\n",
        "vector = word_vectors.wv['사탕']\n",
        "vector"
      ]
    },
    {
      "cell_type": "code",
      "source": [
        "# 메모리를 다소 많이 소비하는 작업이니 유의해 주세요.\n",
        "word_vectors.similar_by_word(\"사탕\")"
      ],
      "metadata": {
        "colab": {
          "base_uri": "https://localhost:8080/"
        },
        "id": "VxrSOyVnSamU",
        "outputId": "fa02d682-467e-479d-8cd0-6432b211bd64"
      },
      "execution_count": 57,
      "outputs": [
        {
          "output_type": "stream",
          "name": "stderr",
          "text": [
            "/usr/local/lib/python3.7/dist-packages/ipykernel_launcher.py:2: DeprecationWarning: Call to deprecated `similar_by_word` (Method will be removed in 4.0.0, use self.wv.similar_by_word() instead).\n",
            "  \n"
          ]
        },
        {
          "output_type": "execute_result",
          "data": {
            "text/plain": [
              "[('비스킷', 0.8580164909362793),\n",
              " ('초콜릿', 0.8373843431472778),\n",
              " ('파인애플', 0.8322455883026123),\n",
              " ('도시락', 0.8233435153961182),\n",
              " ('튀김', 0.8172662258148193),\n",
              " ('과자', 0.8168296813964844),\n",
              " ('벌꿀', 0.8163946866989136),\n",
              " ('당근', 0.8156023025512695),\n",
              " ('건포도', 0.812788724899292),\n",
              " ('땅콩', 0.8069866895675659)]"
            ]
          },
          "metadata": {},
          "execution_count": 57
        }
      ]
    },
    {
      "cell_type": "code",
      "source": [
        "vocab_size = 10000    # 어휘 사전의 크기입니다(10,000개의 단어)\n",
        "word_vector_dim = 100  # 워드 벡터의 차원수\n",
        "embedding_matrix = np.random.rand(vocab_size, word_vector_dim)\n",
        "\n",
        "# embedding_matrix에 Word2Vec 워드 벡터를 단어 하나씩마다 차례차례 카피한다.\n",
        "for i in range(4,vocab_size):\n",
        "    if index_to_word[i] in word_vectors:\n",
        "        embedding_matrix[i] = word_vectors[index_to_word[i]]"
      ],
      "metadata": {
        "colab": {
          "base_uri": "https://localhost:8080/"
        },
        "id": "E7Z-cqPuUIXm",
        "outputId": "de5e218b-5c2d-4339-e7ad-db2647831e14"
      },
      "execution_count": 61,
      "outputs": [
        {
          "output_type": "stream",
          "name": "stderr",
          "text": [
            "/usr/local/lib/python3.7/dist-packages/ipykernel_launcher.py:7: DeprecationWarning: Call to deprecated `__contains__` (Method will be removed in 4.0.0, use self.wv.__contains__() instead).\n",
            "  import sys\n",
            "/usr/local/lib/python3.7/dist-packages/ipykernel_launcher.py:8: DeprecationWarning: Call to deprecated `__getitem__` (Method will be removed in 4.0.0, use self.wv.__getitem__() instead).\n",
            "  \n"
          ]
        }
      ]
    },
    {
      "cell_type": "markdown",
      "source": [
        "###CNN\n",
        "* loss: 0.9057 - accuracy: 0.8195"
      ],
      "metadata": {
        "id": "QzCYhh6FZHSN"
      }
    },
    {
      "cell_type": "code",
      "source": [
        "from tensorflow.keras.initializers import Constant\n",
        "\n",
        "vocab_size = 10000    # 어휘 사전의 크기입니다(10,000개의 단어)\n",
        "word_vector_dim = 100  # 워드 벡터의 차원 수 \n",
        "\n",
        "# 모델 구성\n",
        "model = tf.keras.Sequential()\n",
        "model.add(tf.keras.layers.Embedding(vocab_size, \n",
        "                                 word_vector_dim, \n",
        "                                 embeddings_initializer=Constant(embedding_matrix),  # 카피한 임베딩을 여기서 활용\n",
        "                                 input_length=maxlen, \n",
        "                                 trainable=True))   # trainable을 True로 주면 Fine-tuning\n",
        "model.add(tf.keras.layers.Conv1D(64, 7, activation='relu'))\n",
        "model.add(tf.keras.layers.MaxPooling1D(5))\n",
        "model.add(tf.keras.layers.Conv1D(64, 7, activation='relu'))\n",
        "model.add(tf.keras.layers.GlobalMaxPooling1D())\n",
        "model.add(tf.keras.layers.Dense(16, activation='relu'))\n",
        "model.add(tf.keras.layers.Dense(1, activation='sigmoid')) \n",
        "\n",
        "model.summary()"
      ],
      "metadata": {
        "colab": {
          "base_uri": "https://localhost:8080/"
        },
        "id": "1YQFYqasUqIG",
        "outputId": "d7890093-988b-4fa5-b6c9-ea06d4971535"
      },
      "execution_count": 83,
      "outputs": [
        {
          "output_type": "stream",
          "name": "stdout",
          "text": [
            "Model: \"sequential_12\"\n",
            "_________________________________________________________________\n",
            " Layer (type)                Output Shape              Param #   \n",
            "=================================================================\n",
            " embedding_13 (Embedding)    (None, 41, 100)           1000000   \n",
            "                                                                 \n",
            " conv1d_4 (Conv1D)           (None, 35, 64)            44864     \n",
            "                                                                 \n",
            " max_pooling1d_2 (MaxPooling  (None, 7, 64)            0         \n",
            " 1D)                                                             \n",
            "                                                                 \n",
            " conv1d_5 (Conv1D)           (None, 1, 64)             28736     \n",
            "                                                                 \n",
            " global_max_pooling1d_6 (Glo  (None, 64)               0         \n",
            " balMaxPooling1D)                                                \n",
            "                                                                 \n",
            " dense_20 (Dense)            (None, 16)                1040      \n",
            "                                                                 \n",
            " dense_21 (Dense)            (None, 1)                 17        \n",
            "                                                                 \n",
            "=================================================================\n",
            "Total params: 1,074,657\n",
            "Trainable params: 1,074,657\n",
            "Non-trainable params: 0\n",
            "_________________________________________________________________\n"
          ]
        }
      ]
    },
    {
      "cell_type": "code",
      "source": [
        "# 학습의 진행\n",
        "model.compile(optimizer='adam',\n",
        "              loss='binary_crossentropy',\n",
        "              metrics=['accuracy'])\n",
        "              \n",
        "epochs=20  # 몇 epoch를 훈련하면 좋을지 결과를 보면서 바꾸어 봅시다. \n",
        "\n",
        "history = model.fit(partial_X_train,\n",
        "                    partial_Y_train,\n",
        "                    epochs=epochs,\n",
        "                    batch_size=512,\n",
        "                    validation_data=(X_val, Y_val),\n",
        "                    verbose=1)"
      ],
      "metadata": {
        "colab": {
          "base_uri": "https://localhost:8080/"
        },
        "id": "LPi_quiGVXPo",
        "outputId": "976d089f-b9cb-40d1-e8b3-c2d18ddce849"
      },
      "execution_count": 84,
      "outputs": [
        {
          "output_type": "stream",
          "name": "stdout",
          "text": [
            "Epoch 1/20\n",
            "208/208 [==============================] - 3s 12ms/step - loss: 0.5891 - accuracy: 0.6805 - val_loss: 0.4991 - val_accuracy: 0.7608\n",
            "Epoch 2/20\n",
            "208/208 [==============================] - 2s 11ms/step - loss: 0.4451 - accuracy: 0.7940 - val_loss: 0.4256 - val_accuracy: 0.8039\n",
            "Epoch 3/20\n",
            "208/208 [==============================] - 2s 8ms/step - loss: 0.3770 - accuracy: 0.8325 - val_loss: 0.3949 - val_accuracy: 0.8222\n",
            "Epoch 4/20\n",
            "208/208 [==============================] - 2s 8ms/step - loss: 0.3299 - accuracy: 0.8578 - val_loss: 0.3784 - val_accuracy: 0.8324\n",
            "Epoch 5/20\n",
            "208/208 [==============================] - 2s 8ms/step - loss: 0.2960 - accuracy: 0.8745 - val_loss: 0.3790 - val_accuracy: 0.8364\n",
            "Epoch 6/20\n",
            "208/208 [==============================] - 2s 9ms/step - loss: 0.2658 - accuracy: 0.8887 - val_loss: 0.3862 - val_accuracy: 0.8380\n",
            "Epoch 7/20\n",
            "208/208 [==============================] - 2s 8ms/step - loss: 0.2375 - accuracy: 0.9036 - val_loss: 0.3872 - val_accuracy: 0.8371\n",
            "Epoch 8/20\n",
            "208/208 [==============================] - 2s 8ms/step - loss: 0.2161 - accuracy: 0.9132 - val_loss: 0.4073 - val_accuracy: 0.8359\n",
            "Epoch 9/20\n",
            "208/208 [==============================] - 2s 9ms/step - loss: 0.1956 - accuracy: 0.9238 - val_loss: 0.4314 - val_accuracy: 0.8368\n",
            "Epoch 10/20\n",
            "208/208 [==============================] - 2s 8ms/step - loss: 0.1711 - accuracy: 0.9345 - val_loss: 0.4659 - val_accuracy: 0.8274\n",
            "Epoch 11/20\n",
            "208/208 [==============================] - 2s 9ms/step - loss: 0.1560 - accuracy: 0.9407 - val_loss: 0.4851 - val_accuracy: 0.8304\n",
            "Epoch 12/20\n",
            "208/208 [==============================] - 2s 9ms/step - loss: 0.1388 - accuracy: 0.9475 - val_loss: 0.5345 - val_accuracy: 0.8335\n",
            "Epoch 13/20\n",
            "208/208 [==============================] - 2s 8ms/step - loss: 0.1197 - accuracy: 0.9565 - val_loss: 0.5744 - val_accuracy: 0.8313\n",
            "Epoch 14/20\n",
            "208/208 [==============================] - 2s 8ms/step - loss: 0.1085 - accuracy: 0.9602 - val_loss: 0.6021 - val_accuracy: 0.8289\n",
            "Epoch 15/20\n",
            "208/208 [==============================] - 2s 9ms/step - loss: 0.1020 - accuracy: 0.9624 - val_loss: 0.6514 - val_accuracy: 0.8270\n",
            "Epoch 16/20\n",
            "208/208 [==============================] - 2s 9ms/step - loss: 0.0839 - accuracy: 0.9701 - val_loss: 0.6808 - val_accuracy: 0.8259\n",
            "Epoch 17/20\n",
            "208/208 [==============================] - 2s 9ms/step - loss: 0.0793 - accuracy: 0.9720 - val_loss: 0.7488 - val_accuracy: 0.8278\n",
            "Epoch 18/20\n",
            "208/208 [==============================] - 2s 9ms/step - loss: 0.0721 - accuracy: 0.9742 - val_loss: 0.7804 - val_accuracy: 0.8286\n",
            "Epoch 19/20\n",
            "208/208 [==============================] - 2s 9ms/step - loss: 0.0631 - accuracy: 0.9772 - val_loss: 0.8370 - val_accuracy: 0.8251\n",
            "Epoch 20/20\n",
            "208/208 [==============================] - 2s 8ms/step - loss: 0.0564 - accuracy: 0.9798 - val_loss: 0.8744 - val_accuracy: 0.8234\n"
          ]
        }
      ]
    },
    {
      "cell_type": "code",
      "source": [
        "# 테스트셋을 통한 모델 평가\n",
        "results = model.evaluate(X_test,  y_test, verbose=2)\n",
        "\n",
        "print(results)"
      ],
      "metadata": {
        "colab": {
          "base_uri": "https://localhost:8080/"
        },
        "id": "AOS7WMF8VZ2A",
        "outputId": "efe50670-1d42-4c6b-95a7-693711238c19"
      },
      "execution_count": 85,
      "outputs": [
        {
          "output_type": "stream",
          "name": "stdout",
          "text": [
            "1537/1537 - 3s - loss: 0.9057 - accuracy: 0.8195 - 3s/epoch - 2ms/step\n",
            "[0.9056963920593262, 0.8195374011993408]\n"
          ]
        }
      ]
    },
    {
      "cell_type": "markdown",
      "source": [
        "### GMP\n",
        "* loss: 0.4368 - accuracy: 0.8014"
      ],
      "metadata": {
        "id": "RKM3iW7cchId"
      }
    },
    {
      "cell_type": "code",
      "source": [
        "vocab_size = 10000    # 어휘 사전의 크기입니다(10,000개의 단어)\n",
        "word_vector_dim = 100  # 워드 벡터의 차원 수 \n",
        "\n",
        "# 모델 구성\n",
        "model_gmp = tf.keras.Sequential()\n",
        "model_gmp.add(tf.keras.layers.Embedding(vocab_size, \n",
        "                                 word_vector_dim, \n",
        "                                 embeddings_initializer=Constant(embedding_matrix),  # 카피한 임베딩을 여기서 활용\n",
        "                                 input_length=maxlen, \n",
        "                                 trainable=True))   # trainable을 True로 주면 Fine-tuning\n",
        "model_gmp.add(tf.keras.layers.GlobalMaxPooling1D())\n",
        "model_gmp.add(tf.keras.layers.Dense(8, activation='relu'))\n",
        "model_gmp.add(tf.keras.layers.Dense(1, activation='sigmoid'))  # 최종 출력은 긍정/부정을 나타내는 1dim 입니다.\n",
        "\n",
        "model_gmp.summary()"
      ],
      "metadata": {
        "colab": {
          "base_uri": "https://localhost:8080/"
        },
        "id": "hguD9Q9CW5aB",
        "outputId": "39411549-d920-4e6c-a67d-27099c41c740"
      },
      "execution_count": 67,
      "outputs": [
        {
          "output_type": "stream",
          "name": "stdout",
          "text": [
            "Model: \"sequential_6\"\n",
            "_________________________________________________________________\n",
            " Layer (type)                Output Shape              Param #   \n",
            "=================================================================\n",
            " embedding_7 (Embedding)     (None, 41, 100)           1000000   \n",
            "                                                                 \n",
            " global_max_pooling1d_5 (Glo  (None, 100)              0         \n",
            " balMaxPooling1D)                                                \n",
            "                                                                 \n",
            " dense_8 (Dense)             (None, 8)                 808       \n",
            "                                                                 \n",
            " dense_9 (Dense)             (None, 1)                 9         \n",
            "                                                                 \n",
            "=================================================================\n",
            "Total params: 1,000,817\n",
            "Trainable params: 1,000,817\n",
            "Non-trainable params: 0\n",
            "_________________________________________________________________\n"
          ]
        }
      ]
    },
    {
      "cell_type": "code",
      "source": [
        "model_gmp.compile(optimizer='adam',\n",
        "              loss='binary_crossentropy',\n",
        "              metrics=['accuracy'])\n",
        "              \n",
        "epochs=20  # 몇 epoch를 훈련하면 좋을지 결과를 보면서 바꾸어 봅시다. \n",
        "\n",
        "history = model_gmp.fit(partial_X_train,\n",
        "                    partial_Y_train,\n",
        "                    epochs=epochs,\n",
        "                    batch_size=512,\n",
        "                    validation_data=(X_val, Y_val),\n",
        "                    verbose=1)"
      ],
      "metadata": {
        "colab": {
          "base_uri": "https://localhost:8080/"
        },
        "id": "likl7F8FXKt2",
        "outputId": "fba65488-3974-48a7-c69b-d9ffe0f04ccc"
      },
      "execution_count": 68,
      "outputs": [
        {
          "output_type": "stream",
          "name": "stdout",
          "text": [
            "Epoch 1/20\n",
            "208/208 [==============================] - 3s 7ms/step - loss: 0.6934 - accuracy: 0.5300 - val_loss: 0.6731 - val_accuracy: 0.5976\n",
            "Epoch 2/20\n",
            "208/208 [==============================] - 1s 5ms/step - loss: 0.6511 - accuracy: 0.6350 - val_loss: 0.6266 - val_accuracy: 0.6661\n",
            "Epoch 3/20\n",
            "208/208 [==============================] - 1s 5ms/step - loss: 0.6072 - accuracy: 0.6876 - val_loss: 0.5903 - val_accuracy: 0.7017\n",
            "Epoch 4/20\n",
            "208/208 [==============================] - 1s 6ms/step - loss: 0.5733 - accuracy: 0.7161 - val_loss: 0.5612 - val_accuracy: 0.7210\n",
            "Epoch 5/20\n",
            "208/208 [==============================] - 1s 5ms/step - loss: 0.5458 - accuracy: 0.7357 - val_loss: 0.5388 - val_accuracy: 0.7369\n",
            "Epoch 6/20\n",
            "208/208 [==============================] - 1s 5ms/step - loss: 0.5220 - accuracy: 0.7514 - val_loss: 0.5201 - val_accuracy: 0.7494\n",
            "Epoch 7/20\n",
            "208/208 [==============================] - 1s 5ms/step - loss: 0.5010 - accuracy: 0.7646 - val_loss: 0.5080 - val_accuracy: 0.7558\n",
            "Epoch 8/20\n",
            "208/208 [==============================] - 1s 5ms/step - loss: 0.4841 - accuracy: 0.7748 - val_loss: 0.4909 - val_accuracy: 0.7661\n",
            "Epoch 9/20\n",
            "208/208 [==============================] - 1s 5ms/step - loss: 0.4687 - accuracy: 0.7821 - val_loss: 0.4887 - val_accuracy: 0.7673\n",
            "Epoch 10/20\n",
            "208/208 [==============================] - 1s 5ms/step - loss: 0.4550 - accuracy: 0.7901 - val_loss: 0.4700 - val_accuracy: 0.7778\n",
            "Epoch 11/20\n",
            "208/208 [==============================] - 1s 5ms/step - loss: 0.4426 - accuracy: 0.7977 - val_loss: 0.4614 - val_accuracy: 0.7831\n",
            "Epoch 12/20\n",
            "208/208 [==============================] - 1s 5ms/step - loss: 0.4329 - accuracy: 0.8037 - val_loss: 0.4545 - val_accuracy: 0.7878\n",
            "Epoch 13/20\n",
            "208/208 [==============================] - 1s 5ms/step - loss: 0.4233 - accuracy: 0.8094 - val_loss: 0.4515 - val_accuracy: 0.7919\n",
            "Epoch 14/20\n",
            "208/208 [==============================] - 1s 5ms/step - loss: 0.4153 - accuracy: 0.8139 - val_loss: 0.4443 - val_accuracy: 0.7952\n",
            "Epoch 15/20\n",
            "208/208 [==============================] - 1s 5ms/step - loss: 0.4083 - accuracy: 0.8170 - val_loss: 0.4409 - val_accuracy: 0.7993\n",
            "Epoch 16/20\n",
            "208/208 [==============================] - 1s 5ms/step - loss: 0.3997 - accuracy: 0.8220 - val_loss: 0.4396 - val_accuracy: 0.8005\n",
            "Epoch 17/20\n",
            "208/208 [==============================] - 1s 6ms/step - loss: 0.3930 - accuracy: 0.8261 - val_loss: 0.4352 - val_accuracy: 0.8035\n",
            "Epoch 18/20\n",
            "208/208 [==============================] - 1s 5ms/step - loss: 0.3862 - accuracy: 0.8296 - val_loss: 0.4317 - val_accuracy: 0.8058\n",
            "Epoch 19/20\n",
            "208/208 [==============================] - 1s 5ms/step - loss: 0.3800 - accuracy: 0.8325 - val_loss: 0.4291 - val_accuracy: 0.8077\n",
            "Epoch 20/20\n",
            "208/208 [==============================] - 1s 6ms/step - loss: 0.3746 - accuracy: 0.8357 - val_loss: 0.4287 - val_accuracy: 0.8091\n"
          ]
        }
      ]
    },
    {
      "cell_type": "code",
      "source": [
        "results = model_gmp.evaluate(X_test,  y_test, verbose=2)\n",
        "\n",
        "print(results)"
      ],
      "metadata": {
        "colab": {
          "base_uri": "https://localhost:8080/"
        },
        "id": "C_YFWMqlXkhc",
        "outputId": "bdfcdd8e-19c4-41b1-f50c-2fed0ec1bd60"
      },
      "execution_count": 69,
      "outputs": [
        {
          "output_type": "stream",
          "name": "stdout",
          "text": [
            "1537/1537 - 4s - loss: 0.4368 - accuracy: 0.8014 - 4s/epoch - 3ms/step\n",
            "[0.436809778213501, 0.8014118075370789]\n"
          ]
        }
      ]
    },
    {
      "cell_type": "markdown",
      "source": [
        "### LSTM\n",
        "* loss: 0.3450 - accuracy: 0.8534 "
      ],
      "metadata": {
        "id": "fDa3R7XJcqTE"
      }
    },
    {
      "cell_type": "code",
      "source": [
        "\n",
        "from tensorflow.keras.initializers import Constant\n",
        "\n",
        "vocab_size = 10000    # 어휘 사전의 크기입니다(10,000개의 단어)\n",
        "word_vector_dim = 100  # 워드 벡터의 차원 수 \n",
        "\n",
        "# 모델 구성\n",
        "model_lstm = tf.keras.Sequential()\n",
        "model_lstm.add(tf.keras.layers.Embedding(vocab_size, \n",
        "                                 word_vector_dim, \n",
        "                                 embeddings_initializer=Constant(embedding_matrix),  # 카피한 임베딩을 여기서 활용\n",
        "                                 input_length=maxlen, \n",
        "                                 trainable=True))   # trainable을 True로 주면 Fine-tuning\n",
        "model_lstm.add(tf.keras.layers.LSTM(64))   # 가장 널리 쓰이는 RNN인 LSTM 레이어를 사용하였습니다. 이때 LSTM state 벡터의 차원수는 8로 하였습니다. (변경 가능)\n",
        "model_lstm.add(tf.keras.layers.Dense(64, activation='relu'))\n",
        "model_lstm.add(tf.keras.layers.Dense(64, activation='relu'))\n",
        "model_lstm.add(tf.keras.layers.Dense(32, activation='relu'))\n",
        "model_lstm.add(tf.keras.layers.Dense(1, activation='sigmoid'))  # 최종 출력은 긍정/부정을 나타내는 1dim 입니다.\n",
        "\n",
        "model_lstm.summary()\n",
        "\n"
      ],
      "metadata": {
        "colab": {
          "base_uri": "https://localhost:8080/"
        },
        "id": "KitEQyqOXx0q",
        "outputId": "68790b7c-ead2-4f54-8a4c-4f8e4e6bee4c"
      },
      "execution_count": 96,
      "outputs": [
        {
          "output_type": "stream",
          "name": "stdout",
          "text": [
            "Model: \"sequential_16\"\n",
            "_________________________________________________________________\n",
            " Layer (type)                Output Shape              Param #   \n",
            "=================================================================\n",
            " embedding_17 (Embedding)    (None, 41, 100)           1000000   \n",
            "                                                                 \n",
            " lstm_9 (LSTM)               (None, 64)                42240     \n",
            "                                                                 \n",
            " dense_32 (Dense)            (None, 64)                4160      \n",
            "                                                                 \n",
            " dense_33 (Dense)            (None, 64)                4160      \n",
            "                                                                 \n",
            " dense_34 (Dense)            (None, 32)                2080      \n",
            "                                                                 \n",
            " dense_35 (Dense)            (None, 1)                 33        \n",
            "                                                                 \n",
            "=================================================================\n",
            "Total params: 1,052,673\n",
            "Trainable params: 1,052,673\n",
            "Non-trainable params: 0\n",
            "_________________________________________________________________\n"
          ]
        }
      ]
    },
    {
      "cell_type": "code",
      "source": [
        "# 학습의 진행\n",
        "model_lstm.compile(optimizer='adam',\n",
        "              loss='binary_crossentropy',\n",
        "              metrics=['accuracy'])\n",
        "              \n",
        "epochs=5  # 몇 epoch를 훈련하면 좋을지 결과를 보면서 바꾸어 봅시다. \n",
        "\n",
        "history = model_lstm.fit(partial_X_train,\n",
        "                    partial_Y_train,\n",
        "                    epochs=epochs,\n",
        "                    batch_size=512,\n",
        "                    validation_data=(X_val, Y_val),\n",
        "                    verbose=1)"
      ],
      "metadata": {
        "colab": {
          "base_uri": "https://localhost:8080/"
        },
        "id": "oT2nezDJYWVr",
        "outputId": "9a6e0aff-297a-41a3-8762-cd9306a6a391"
      },
      "execution_count": 97,
      "outputs": [
        {
          "output_type": "stream",
          "name": "stdout",
          "text": [
            "Epoch 1/5\n",
            "208/208 [==============================] - 4s 12ms/step - loss: 0.5778 - accuracy: 0.6720 - val_loss: 0.4423 - val_accuracy: 0.8027\n",
            "Epoch 2/5\n",
            "208/208 [==============================] - 2s 10ms/step - loss: 0.3937 - accuracy: 0.8242 - val_loss: 0.3853 - val_accuracy: 0.8367\n",
            "Epoch 3/5\n",
            "208/208 [==============================] - 2s 9ms/step - loss: 0.3378 - accuracy: 0.8535 - val_loss: 0.3582 - val_accuracy: 0.8374\n",
            "Epoch 4/5\n",
            "208/208 [==============================] - 2s 9ms/step - loss: 0.3070 - accuracy: 0.8677 - val_loss: 0.3398 - val_accuracy: 0.8533\n",
            "Epoch 5/5\n",
            "208/208 [==============================] - 2s 9ms/step - loss: 0.2800 - accuracy: 0.8825 - val_loss: 0.3358 - val_accuracy: 0.8577\n"
          ]
        }
      ]
    },
    {
      "cell_type": "code",
      "source": [
        "results = model_lstm.evaluate(X_test,  y_test, verbose=2)\n",
        "\n",
        "print(results)"
      ],
      "metadata": {
        "colab": {
          "base_uri": "https://localhost:8080/"
        },
        "id": "z1yFEoLIYmIO",
        "outputId": "8cb522a1-30de-4db4-f42b-cc5636316941"
      },
      "execution_count": 98,
      "outputs": [
        {
          "output_type": "stream",
          "name": "stdout",
          "text": [
            "1537/1537 - 4s - loss: 0.3450 - accuracy: 0.8534 - 4s/epoch - 2ms/step\n",
            "[0.3449527323246002, 0.8534491658210754]\n"
          ]
        }
      ]
    },
    {
      "cell_type": "markdown",
      "source": [
        "# 회고\n",
        "\n",
        "### - 이번 프로젝트에서 **어려웠던 점**.\n",
        "하이퍼파라미터 수치 조정하는게 어려웠다.\n",
        "\n",
        "### - 프로젝트를 진행하면서 **알아낸 점** 혹은 **아직 모호한 점**.\n",
        "\n",
        "너무 많이 학습되어 오히려 val_accuracy가 어느 지점을 기점으로 떨어져서 epoch을 20에서 5로 조정하여 적정 accuracy 를 확보 할 수 있었다.\n",
        "\n",
        "### - 루브릭 평가 지표를 맞추기 위해 **시도한 것들**.\n",
        "\n",
        "\n",
        ">#### **루브릭평가 지표**\n",
        ">|번호|평가문항|상세기준|\n",
        ">|:---:|---|---|\n",
        ">|1| 다양한 방법으로 Text Classification 태스크를 성공적으로 구현하였다. |3가지 이상의 모델이 성공적으로 시도됨|\n",
        ">|2|gensim을 활용하여 자체학습된 혹은 사전학습된 임베딩 레이어를 분석하였다.| gensim의 유사단어 찾기를 활용하여 자체학습한 임베딩과 사전학습 임베딩을 비교 분석함|\n",
        ">|3|한국어 Word2Vec을 활용하여 가시적인 성능향상을 달성했다.|네이버 영화리뷰 데이터 감성분석 정확도를 85% 이상 달성함|\n",
        "\n",
        "\n",
        "\n",
        "<2> 임베딩 레이어 분석 :\n",
        "\n",
        "사탕 \n",
        ">[('비스킷', 0.8580164909362793),\n",
        " ('초콜릿', 0.8373843431472778),\n",
        " ('파인애플', 0.8322455883026123),\n",
        " ('도시락', 0.8233435153961182),\n",
        " ('튀김', 0.8172662258148193),\n",
        " ('과자', 0.8168296813964844),\n",
        " ('벌꿀', 0.8163946866989136),\n",
        " ('당근', 0.8156023025512695),\n",
        " ('건포도', 0.812788724899292),\n",
        " ('땅콩', 0.8069866895675659)]\n",
        "\n",
        "\n",
        "\n",
        "<3>\n",
        "*  Accuracy를 높이기 위해 LSTM, GMP, CNN 세가지 모델을 돌려 보았다. \n",
        "*  LSTM의 Dense를 깊게 하고 각 층의 unit을 증가 시켰다. loss: 0.3450 - accuracy: 0.8534\n",
        "\n",
        "\n",
        "\n",
        "### - **자기 다짐**\n",
        "\n",
        "* LSTM 모델에 대해 공부해 보기 \n"
      ],
      "metadata": {
        "id": "bivs3SCPfVhi"
      }
    },
    {
      "cell_type": "code",
      "source": [
        ""
      ],
      "metadata": {
        "id": "RkeFYH_LlqY4"
      },
      "execution_count": null,
      "outputs": []
    }
  ],
  "metadata": {
    "accelerator": "GPU",
    "colab": {
      "name": "[Exp-08]_NLP2_Review.ipynb",
      "provenance": []
    },
    "gpuClass": "standard",
    "kernelspec": {
      "display_name": "Python 3",
      "name": "python3"
    },
    "language_info": {
      "name": "python"
    }
  },
  "nbformat": 4,
  "nbformat_minor": 0
}