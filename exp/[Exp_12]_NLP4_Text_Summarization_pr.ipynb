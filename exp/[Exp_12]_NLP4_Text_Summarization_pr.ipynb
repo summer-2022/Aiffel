{
  "cells": [
    {
      "cell_type": "markdown",
      "metadata": {
        "id": "0AgaHBvbP_R1"
      },
      "source": [
        "# 목차\n",
        "\n",
        "1. 데이터 준비\n",
        "2. 전처리\n",
        " *  데이터 정리\n",
        " *  trainset_testset 분리\n",
        " *  정수 인코딩\n",
        "\n",
        "3. 모델 디자인\n",
        "4. 모델 훈련\n",
        "5. 추론 모델 구현\n",
        "6. 모델 testing\n",
        "7. 추상요약"
      ]
    },
    {
      "cell_type": "markdown",
      "metadata": {
        "id": "6shpyGeIlczD"
      },
      "source": [
        "# 1. 데이터 준비"
      ]
    },
    {
      "cell_type": "code",
      "execution_count": 79,
      "metadata": {
        "colab": {
          "base_uri": "https://localhost:8080/"
        },
        "id": "6lZTmdHWwJhx",
        "outputId": "de8f659a-3ae4-4516-a459-c50c657ae08a"
      },
      "outputs": [
        {
          "output_type": "stream",
          "name": "stdout",
          "text": [
            "=3\n"
          ]
        },
        {
          "output_type": "stream",
          "name": "stderr",
          "text": [
            "[nltk_data] Downloading package stopwords to /root/nltk_data...\n",
            "[nltk_data]   Package stopwords is already up-to-date!\n"
          ]
        }
      ],
      "source": [
        "import nltk\n",
        "nltk.download('stopwords')\n",
        "\n",
        "import numpy as np\n",
        "import pandas as pd\n",
        "import os\n",
        "import re\n",
        "import matplotlib.pyplot as plt\n",
        "from nltk.corpus import stopwords\n",
        "from bs4 import BeautifulSoup \n",
        "from tensorflow.keras.preprocessing.text import Tokenizer \n",
        "from tensorflow.keras.preprocessing.sequence import pad_sequences\n",
        "import urllib.request\n",
        "import warnings\n",
        "warnings.filterwarnings(\"ignore\", category=UserWarning, module='bs4')\n",
        "\n",
        "print('=3')"
      ]
    },
    {
      "cell_type": "code",
      "source": [
        "import urllib.request\n",
        "urllib.request.urlretrieve(\"https://raw.githubusercontent.com/sunnysai12345/News_Summary/master/news_summary_more.csv\", filename=\"news_summary_more.csv\")\n",
        "data = pd.read_csv('news_summary_more.csv', encoding='iso-8859-1')\n",
        "print('전체 샘플수 :', (len(data)))"
      ],
      "metadata": {
        "colab": {
          "base_uri": "https://localhost:8080/"
        },
        "id": "hnK5kcCRW396",
        "outputId": "1d278423-f8a7-40cd-8335-dac990ed83c2"
      },
      "execution_count": 80,
      "outputs": [
        {
          "output_type": "stream",
          "name": "stdout",
          "text": [
            "전체 샘플수 : 98401\n"
          ]
        }
      ]
    },
    {
      "cell_type": "code",
      "execution_count": 82,
      "metadata": {
        "colab": {
          "base_uri": "https://localhost:8080/",
          "height": 250
        },
        "id": "7JaLxlGQk4CE",
        "outputId": "9a664f8a-6de7-48fe-89e3-632d05cd0374"
      },
      "outputs": [
        {
          "output_type": "execute_result",
          "data": {
            "text/plain": [
              "                                           headlines  \\\n",
              "0  upGrad learner switches to career in ML & Al w...   \n",
              "1  Delhi techie wins free food from Swiggy for on...   \n",
              "2  New Zealand end Rohit Sharma-led India's 12-ma...   \n",
              "3  Aegon life iTerm insurance plan helps customer...   \n",
              "4  Have known Hirani for yrs, what if MeToo claim...   \n",
              "\n",
              "                                                text  \n",
              "0  Saurav Kant, an alumnus of upGrad and IIIT-B's...  \n",
              "1  Kunal Shah's credit card bill payment platform...  \n",
              "2  New Zealand defeated India by 8 wickets in the...  \n",
              "3  With Aegon Life iTerm Insurance plan, customer...  \n",
              "4  Speaking about the sexual harassment allegatio...  "
            ],
            "text/html": [
              "\n",
              "  <div id=\"df-f323bf27-5d76-448f-ac97-c3d2da098c52\">\n",
              "    <div class=\"colab-df-container\">\n",
              "      <div>\n",
              "<style scoped>\n",
              "    .dataframe tbody tr th:only-of-type {\n",
              "        vertical-align: middle;\n",
              "    }\n",
              "\n",
              "    .dataframe tbody tr th {\n",
              "        vertical-align: top;\n",
              "    }\n",
              "\n",
              "    .dataframe thead th {\n",
              "        text-align: right;\n",
              "    }\n",
              "</style>\n",
              "<table border=\"1\" class=\"dataframe\">\n",
              "  <thead>\n",
              "    <tr style=\"text-align: right;\">\n",
              "      <th></th>\n",
              "      <th>headlines</th>\n",
              "      <th>text</th>\n",
              "    </tr>\n",
              "  </thead>\n",
              "  <tbody>\n",
              "    <tr>\n",
              "      <th>0</th>\n",
              "      <td>upGrad learner switches to career in ML &amp; Al w...</td>\n",
              "      <td>Saurav Kant, an alumnus of upGrad and IIIT-B's...</td>\n",
              "    </tr>\n",
              "    <tr>\n",
              "      <th>1</th>\n",
              "      <td>Delhi techie wins free food from Swiggy for on...</td>\n",
              "      <td>Kunal Shah's credit card bill payment platform...</td>\n",
              "    </tr>\n",
              "    <tr>\n",
              "      <th>2</th>\n",
              "      <td>New Zealand end Rohit Sharma-led India's 12-ma...</td>\n",
              "      <td>New Zealand defeated India by 8 wickets in the...</td>\n",
              "    </tr>\n",
              "    <tr>\n",
              "      <th>3</th>\n",
              "      <td>Aegon life iTerm insurance plan helps customer...</td>\n",
              "      <td>With Aegon Life iTerm Insurance plan, customer...</td>\n",
              "    </tr>\n",
              "    <tr>\n",
              "      <th>4</th>\n",
              "      <td>Have known Hirani for yrs, what if MeToo claim...</td>\n",
              "      <td>Speaking about the sexual harassment allegatio...</td>\n",
              "    </tr>\n",
              "  </tbody>\n",
              "</table>\n",
              "</div>\n",
              "      <button class=\"colab-df-convert\" onclick=\"convertToInteractive('df-f323bf27-5d76-448f-ac97-c3d2da098c52')\"\n",
              "              title=\"Convert this dataframe to an interactive table.\"\n",
              "              style=\"display:none;\">\n",
              "        \n",
              "  <svg xmlns=\"http://www.w3.org/2000/svg\" height=\"24px\"viewBox=\"0 0 24 24\"\n",
              "       width=\"24px\">\n",
              "    <path d=\"M0 0h24v24H0V0z\" fill=\"none\"/>\n",
              "    <path d=\"M18.56 5.44l.94 2.06.94-2.06 2.06-.94-2.06-.94-.94-2.06-.94 2.06-2.06.94zm-11 1L8.5 8.5l.94-2.06 2.06-.94-2.06-.94L8.5 2.5l-.94 2.06-2.06.94zm10 10l.94 2.06.94-2.06 2.06-.94-2.06-.94-.94-2.06-.94 2.06-2.06.94z\"/><path d=\"M17.41 7.96l-1.37-1.37c-.4-.4-.92-.59-1.43-.59-.52 0-1.04.2-1.43.59L10.3 9.45l-7.72 7.72c-.78.78-.78 2.05 0 2.83L4 21.41c.39.39.9.59 1.41.59.51 0 1.02-.2 1.41-.59l7.78-7.78 2.81-2.81c.8-.78.8-2.07 0-2.86zM5.41 20L4 18.59l7.72-7.72 1.47 1.35L5.41 20z\"/>\n",
              "  </svg>\n",
              "      </button>\n",
              "      \n",
              "  <style>\n",
              "    .colab-df-container {\n",
              "      display:flex;\n",
              "      flex-wrap:wrap;\n",
              "      gap: 12px;\n",
              "    }\n",
              "\n",
              "    .colab-df-convert {\n",
              "      background-color: #E8F0FE;\n",
              "      border: none;\n",
              "      border-radius: 50%;\n",
              "      cursor: pointer;\n",
              "      display: none;\n",
              "      fill: #1967D2;\n",
              "      height: 32px;\n",
              "      padding: 0 0 0 0;\n",
              "      width: 32px;\n",
              "    }\n",
              "\n",
              "    .colab-df-convert:hover {\n",
              "      background-color: #E2EBFA;\n",
              "      box-shadow: 0px 1px 2px rgba(60, 64, 67, 0.3), 0px 1px 3px 1px rgba(60, 64, 67, 0.15);\n",
              "      fill: #174EA6;\n",
              "    }\n",
              "\n",
              "    [theme=dark] .colab-df-convert {\n",
              "      background-color: #3B4455;\n",
              "      fill: #D2E3FC;\n",
              "    }\n",
              "\n",
              "    [theme=dark] .colab-df-convert:hover {\n",
              "      background-color: #434B5C;\n",
              "      box-shadow: 0px 1px 3px 1px rgba(0, 0, 0, 0.15);\n",
              "      filter: drop-shadow(0px 1px 2px rgba(0, 0, 0, 0.3));\n",
              "      fill: #FFFFFF;\n",
              "    }\n",
              "  </style>\n",
              "\n",
              "      <script>\n",
              "        const buttonEl =\n",
              "          document.querySelector('#df-f323bf27-5d76-448f-ac97-c3d2da098c52 button.colab-df-convert');\n",
              "        buttonEl.style.display =\n",
              "          google.colab.kernel.accessAllowed ? 'block' : 'none';\n",
              "\n",
              "        async function convertToInteractive(key) {\n",
              "          const element = document.querySelector('#df-f323bf27-5d76-448f-ac97-c3d2da098c52');\n",
              "          const dataTable =\n",
              "            await google.colab.kernel.invokeFunction('convertToInteractive',\n",
              "                                                     [key], {});\n",
              "          if (!dataTable) return;\n",
              "\n",
              "          const docLinkHtml = 'Like what you see? Visit the ' +\n",
              "            '<a target=\"_blank\" href=https://colab.research.google.com/notebooks/data_table.ipynb>data table notebook</a>'\n",
              "            + ' to learn more about interactive tables.';\n",
              "          element.innerHTML = '';\n",
              "          dataTable['output_type'] = 'display_data';\n",
              "          await google.colab.output.renderOutput(dataTable, element);\n",
              "          const docLink = document.createElement('div');\n",
              "          docLink.innerHTML = docLinkHtml;\n",
              "          element.appendChild(docLink);\n",
              "        }\n",
              "      </script>\n",
              "    </div>\n",
              "  </div>\n",
              "  "
            ]
          },
          "metadata": {},
          "execution_count": 82
        }
      ],
      "source": [
        "data.head()"
      ]
    },
    {
      "cell_type": "code",
      "execution_count": 4,
      "metadata": {
        "id": "znVdfiO0k8n2"
      },
      "outputs": [],
      "source": [
        "# data = data[['Text', 'Summary']]\n",
        "# data.head()\n",
        "\n",
        "# data.sample(15)"
      ]
    },
    {
      "cell_type": "markdown",
      "metadata": {
        "id": "P5Kbav8OlWhx"
      },
      "source": [
        "# 2. 데이터 전처리"
      ]
    },
    {
      "cell_type": "markdown",
      "metadata": {
        "id": "_q0MGRrelnBv"
      },
      "source": [
        "## (1) 데이터 정리\n",
        "* 중복 샘플과 NULL 값이 존재하는 샘플 제거\n",
        "* 텍스트 정규화와 불용어 제거"
      ]
    },
    {
      "cell_type": "markdown",
      "metadata": {
        "id": "qDqg0HVglzuv"
      },
      "source": [
        "###1. 중복 샘플과 NULL 값이 존재하는 샘플 제거\n",
        "\n",
        " * nuique() : returns the number of unique values for each column\n",
        " * drop_duplicates() : removes duplicate rows\n",
        " * isnull().sum() : returns the number of missing values in the data set."
      ]
    },
    {
      "cell_type": "code",
      "execution_count": 5,
      "metadata": {
        "colab": {
          "base_uri": "https://localhost:8080/"
        },
        "id": "NOuuaAitlFbu",
        "outputId": "5fee78e7-99ce-4800-ce66-396f88e70b93"
      },
      "outputs": [
        {
          "output_type": "stream",
          "name": "stdout",
          "text": [
            "text 열에서 중복을 배제한 유일한 샘플의 수 : 98360\n",
            "headlines 열에서 중복을 배제한 유일한 샘플의 수 : 98280\n"
          ]
        }
      ],
      "source": [
        "# 중복 샘플 확인\n",
        "print('text 열에서 중복을 배제한 유일한 샘플의 수 :', data['text'].nunique())\n",
        "print('headlines 열에서 중복을 배제한 유일한 샘플의 수 :', data['headlines'].nunique())"
      ]
    },
    {
      "cell_type": "code",
      "execution_count": 6,
      "metadata": {
        "colab": {
          "base_uri": "https://localhost:8080/"
        },
        "id": "QdrXtCBBmm9U",
        "outputId": "cf9019d5-7674-408f-e70d-cd238273b4fa"
      },
      "outputs": [
        {
          "output_type": "stream",
          "name": "stdout",
          "text": [
            "전체 샘플수 : 98360\n"
          ]
        }
      ],
      "source": [
        "# inplace=True 를 설정하면 DataFrame 타입 값을 return 하지 않고 data 내부를 직접적으로 바꿉니다\n",
        "data.drop_duplicates(subset = ['text'], inplace=True)\n",
        "print('전체 샘플수 :', (len(data)))"
      ]
    },
    {
      "cell_type": "code",
      "execution_count": 7,
      "metadata": {
        "colab": {
          "base_uri": "https://localhost:8080/"
        },
        "id": "C315EtdPnA6w",
        "outputId": "129366e4-91ac-4472-8bc2-c8e0fdc2cb4b"
      },
      "outputs": [
        {
          "output_type": "stream",
          "name": "stdout",
          "text": [
            "headlines    0\n",
            "text         0\n",
            "dtype: int64\n"
          ]
        }
      ],
      "source": [
        "# .isnull().sum() : 데이터프레임에 Null 값이 있는지 확인\n",
        "print(data.isnull().sum())"
      ]
    },
    {
      "cell_type": "code",
      "execution_count": 8,
      "metadata": {
        "colab": {
          "base_uri": "https://localhost:8080/"
        },
        "id": "AljT9mlwnGIF",
        "outputId": "093e9974-32af-4759-b1fd-0eec2652334a"
      },
      "outputs": [
        {
          "output_type": "stream",
          "name": "stdout",
          "text": [
            "전체 샘플수 : 98360\n"
          ]
        }
      ],
      "source": [
        "# dropna(): 데이터프레임에서 Null 제거\n",
        "data.dropna(axis=0, inplace=True)\n",
        "print('전체 샘플수 :', (len(data)))"
      ]
    },
    {
      "cell_type": "markdown",
      "metadata": {
        "id": "N9AUHqfPl3BS"
      },
      "source": [
        "### 2. 텍스트 정규화와 불용어 제거\n",
        "불용어를 제거. 이 작업 외에도 모든 영어 문자는 소문자로 만들고, 섞여있는 html 태그를 제거하고, 정규 표현식을 통해 각종 특수문자를 제거\n",
        "\n",
        "* stopwords.words() : the English words which does not add much meaning to a sentence."
      ]
    },
    {
      "cell_type": "code",
      "execution_count": 9,
      "metadata": {
        "colab": {
          "base_uri": "https://localhost:8080/"
        },
        "id": "iH0hY6xXlkcd",
        "outputId": "324ef43a-d929-4d54-99e7-98c1a965716b"
      },
      "outputs": [
        {
          "output_type": "stream",
          "name": "stdout",
          "text": [
            "정규화 사전의 수:  120\n"
          ]
        }
      ],
      "source": [
        "# 정규화\n",
        "\n",
        "contractions = {\"ain't\": \"is not\", \"aren't\": \"are not\",\"can't\": \"cannot\", \"'cause\": \"because\", \"could've\": \"could have\", \"couldn't\": \"could not\",\n",
        "                           \"didn't\": \"did not\",  \"doesn't\": \"does not\", \"don't\": \"do not\", \"hadn't\": \"had not\", \"hasn't\": \"has not\", \"haven't\": \"have not\",\n",
        "                           \"he'd\": \"he would\",\"he'll\": \"he will\", \"he's\": \"he is\", \"how'd\": \"how did\", \"how'd'y\": \"how do you\", \"how'll\": \"how will\", \"how's\": \"how is\",\n",
        "                           \"I'd\": \"I would\", \"I'd've\": \"I would have\", \"I'll\": \"I will\", \"I'll've\": \"I will have\",\"I'm\": \"I am\", \"I've\": \"I have\", \"i'd\": \"i would\",\n",
        "                           \"i'd've\": \"i would have\", \"i'll\": \"i will\",  \"i'll've\": \"i will have\",\"i'm\": \"i am\", \"i've\": \"i have\", \"isn't\": \"is not\", \"it'd\": \"it would\",\n",
        "                           \"it'd've\": \"it would have\", \"it'll\": \"it will\", \"it'll've\": \"it will have\",\"it's\": \"it is\", \"let's\": \"let us\", \"ma'am\": \"madam\",\n",
        "                           \"mayn't\": \"may not\", \"might've\": \"might have\",\"mightn't\": \"might not\",\"mightn't've\": \"might not have\", \"must've\": \"must have\",\n",
        "                           \"mustn't\": \"must not\", \"mustn't've\": \"must not have\", \"needn't\": \"need not\", \"needn't've\": \"need not have\",\"o'clock\": \"of the clock\",\n",
        "                           \"oughtn't\": \"ought not\", \"oughtn't've\": \"ought not have\", \"shan't\": \"shall not\", \"sha'n't\": \"shall not\", \"shan't've\": \"shall not have\",\n",
        "                           \"she'd\": \"she would\", \"she'd've\": \"she would have\", \"she'll\": \"she will\", \"she'll've\": \"she will have\", \"she's\": \"she is\",\n",
        "                           \"should've\": \"should have\", \"shouldn't\": \"should not\", \"shouldn't've\": \"should not have\", \"so've\": \"so have\",\"so's\": \"so as\",\n",
        "                           \"this's\": \"this is\",\"that'd\": \"that would\", \"that'd've\": \"that would have\", \"that's\": \"that is\", \"there'd\": \"there would\",\n",
        "                           \"there'd've\": \"there would have\", \"there's\": \"there is\", \"here's\": \"here is\",\"they'd\": \"they would\", \"they'd've\": \"they would have\",\n",
        "                           \"they'll\": \"they will\", \"they'll've\": \"they will have\", \"they're\": \"they are\", \"they've\": \"they have\", \"to've\": \"to have\",\n",
        "                           \"wasn't\": \"was not\", \"we'd\": \"we would\", \"we'd've\": \"we would have\", \"we'll\": \"we will\", \"we'll've\": \"we will have\", \"we're\": \"we are\",\n",
        "                           \"we've\": \"we have\", \"weren't\": \"were not\", \"what'll\": \"what will\", \"what'll've\": \"what will have\", \"what're\": \"what are\",\n",
        "                           \"what's\": \"what is\", \"what've\": \"what have\", \"when's\": \"when is\", \"when've\": \"when have\", \"where'd\": \"where did\", \"where's\": \"where is\",\n",
        "                           \"where've\": \"where have\", \"who'll\": \"who will\", \"who'll've\": \"who will have\", \"who's\": \"who is\", \"who've\": \"who have\",\n",
        "                           \"why's\": \"why is\", \"why've\": \"why have\", \"will've\": \"will have\", \"won't\": \"will not\", \"won't've\": \"will not have\",\n",
        "                           \"would've\": \"would have\", \"wouldn't\": \"would not\", \"wouldn't've\": \"would not have\", \"y'all\": \"you all\",\n",
        "                           \"y'all'd\": \"you all would\",\"y'all'd've\": \"you all would have\",\"y'all're\": \"you all are\",\"y'all've\": \"you all have\",\n",
        "                           \"you'd\": \"you would\", \"you'd've\": \"you would have\", \"you'll\": \"you will\", \"you'll've\": \"you will have\",\n",
        "                           \"you're\": \"you are\", \"you've\": \"you have\"}\n",
        "\n",
        "print(\"정규화 사전의 수: \", len(contractions))"
      ]
    },
    {
      "cell_type": "code",
      "execution_count": 10,
      "metadata": {
        "colab": {
          "base_uri": "https://localhost:8080/"
        },
        "id": "faqf0c-MnwE2",
        "outputId": "0741bc1c-65b2-45ae-873e-2f36ef93846f"
      },
      "outputs": [
        {
          "output_type": "stream",
          "name": "stdout",
          "text": [
            "불용어 개수 : 179\n",
            "['i', 'me', 'my', 'myself', 'we', 'our', 'ours', 'ourselves', 'you', \"you're\", \"you've\", \"you'll\", \"you'd\", 'your', 'yours', 'yourself', 'yourselves', 'he', 'him', 'his', 'himself', 'she', \"she's\", 'her', 'hers', 'herself', 'it', \"it's\", 'its', 'itself', 'they', 'them', 'their', 'theirs', 'themselves', 'what', 'which', 'who', 'whom', 'this', 'that', \"that'll\", 'these', 'those', 'am', 'is', 'are', 'was', 'were', 'be', 'been', 'being', 'have', 'has', 'had', 'having', 'do', 'does', 'did', 'doing', 'a', 'an', 'the', 'and', 'but', 'if', 'or', 'because', 'as', 'until', 'while', 'of', 'at', 'by', 'for', 'with', 'about', 'against', 'between', 'into', 'through', 'during', 'before', 'after', 'above', 'below', 'to', 'from', 'up', 'down', 'in', 'out', 'on', 'off', 'over', 'under', 'again', 'further', 'then', 'once', 'here', 'there', 'when', 'where', 'why', 'how', 'all', 'any', 'both', 'each', 'few', 'more', 'most', 'other', 'some', 'such', 'no', 'nor', 'not', 'only', 'own', 'same', 'so', 'than', 'too', 'very', 's', 't', 'can', 'will', 'just', 'don', \"don't\", 'should', \"should've\", 'now', 'd', 'll', 'm', 'o', 're', 've', 'y', 'ain', 'aren', \"aren't\", 'couldn', \"couldn't\", 'didn', \"didn't\", 'doesn', \"doesn't\", 'hadn', \"hadn't\", 'hasn', \"hasn't\", 'haven', \"haven't\", 'isn', \"isn't\", 'ma', 'mightn', \"mightn't\", 'mustn', \"mustn't\", 'needn', \"needn't\", 'shan', \"shan't\", 'shouldn', \"shouldn't\", 'wasn', \"wasn't\", 'weren', \"weren't\", 'won', \"won't\", 'wouldn', \"wouldn't\"]\n"
          ]
        }
      ],
      "source": [
        "# 불용어 리스트 확인\n",
        "\n",
        "print('불용어 개수 :', len(stopwords.words('english') ))\n",
        "print(stopwords.words('english'))"
      ]
    },
    {
      "cell_type": "code",
      "execution_count": 11,
      "metadata": {
        "colab": {
          "base_uri": "https://localhost:8080/"
        },
        "id": "GxUMpbvMoGOl",
        "outputId": "a1f1eba3-5707-4aac-e90f-cd7df024f130"
      },
      "outputs": [
        {
          "output_type": "stream",
          "name": "stdout",
          "text": [
            "=3\n"
          ]
        }
      ],
      "source": [
        "# 데이터 전처리 함수\n",
        "def preprocess_sentence(sentence, remove_stopwords=True):\n",
        "    sentence = sentence.lower() # 텍스트 소문자화\n",
        "    sentence = BeautifulSoup(sentence, \"lxml\").text # <br />, <a href = ...> 등의 html 태그 제거\n",
        "    sentence = re.sub(r'\\([^)]*\\)', '', sentence) # 괄호로 닫힌 문자열 (...) 제거 Ex) my husband (and myself!) for => my husband for\n",
        "    sentence = re.sub('\"','', sentence) # 쌍따옴표 \" 제거\n",
        "    sentence = ' '.join([contractions[t] if t in contractions else t for t in sentence.split(\" \")]) # 약어 정규화\n",
        "    sentence = re.sub(r\"'s\\b\",\"\", sentence) # 소유격 제거. Ex) roland's -> roland\n",
        "    sentence = re.sub(\"[^a-zA-Z]\", \" \", sentence) # 영어 외 문자(숫자, 특수문자 등) 공백으로 변환\n",
        "    sentence = re.sub('[m]{2,}', 'mm', sentence) # m이 3개 이상이면 2개로 변경. Ex) ummmmmmm yeah -> umm yeah\n",
        "    \n",
        "    # 불용어 제거 (text)\n",
        "    if remove_stopwords:\n",
        "        tokens = ' '.join(word for word in sentence.split() if not word in stopwords.words('english') if len(word) > 1)\n",
        "    # 불용어 미제거 (headlines)\n",
        "    else:\n",
        "        tokens = ' '.join(word for word in sentence.split() if len(word) > 1)\n",
        "    return tokens\n",
        "print('=3')"
      ]
    },
    {
      "cell_type": "code",
      "execution_count": 12,
      "metadata": {
        "colab": {
          "base_uri": "https://localhost:8080/"
        },
        "id": "jvbADpzeorNI",
        "outputId": "b0e54d76-ccac-40eb-c59a-0e84b4953d64"
      },
      "outputs": [
        {
          "output_type": "stream",
          "name": "stdout",
          "text": [
            "text:  everything bought great infact ordered twice third ordered wasfor mother father\n",
            "headlines: great way to start the day\n"
          ]
        }
      ],
      "source": [
        "temp_text = 'Everything I bought was great, infact I ordered twice and the third ordered was<br />for my mother and father.'\n",
        "temp_headlines = 'Great way to start (or finish) the day!!!'\n",
        "\n",
        "print(\"text: \", preprocess_sentence(temp_text))\n",
        "print(\"headlines:\", preprocess_sentence(temp_headlines, False))  # 불용어를 제거하지 않습니다."
      ]
    },
    {
      "cell_type": "code",
      "execution_count": 13,
      "metadata": {
        "id": "icDwgp1yr5fj",
        "outputId": "35a28e19-a9af-46b5-a731-34d52eb030ad",
        "colab": {
          "base_uri": "https://localhost:8080/"
        }
      },
      "outputs": [
        {
          "output_type": "stream",
          "name": "stdout",
          "text": [
            "Text 전처리 후 결과:  ['saurav kant alumnus upgrad iiit pg program machine learning artificial intelligence sr systems engineer infosys almost years work experience program upgrad degree career support helped transition data scientist tech mahindra salary hike upgrad online power learning powered lakh careers', 'kunal shah credit card bill payment platform cred gave users chance win free food swiggy one year pranav kaushik delhi techie bagged reward spending cred coins users get one cred coin per rupee bill paid used avail rewards brands like ixigo bookmyshow ubereats cult fit', 'new zealand defeated india wickets fourth odi hamilton thursday win first match five match odi series india lost international match rohit sharma captaincy consecutive victories dating back march match witnessed india getting seventh lowest total odi cricket history', 'aegon life iterm insurance plan customers enjoy tax benefits premiums paid save taxes plan provides life cover age years also customers options insure critical illnesses disability accidental death benefit rider life cover age years', 'speaking sexual harassment allegations rajkumar hirani sonam kapoor said known hirani many years true metoo movement get derailed metoo movement always believe woman case need reserve judgment added hirani accused assistant worked sanju']\n"
          ]
        }
      ],
      "source": [
        "clean_text = []\n",
        "# 전체 Text 데이터에 대한 전처리 : 10분 이상 시간이 걸릴 수 있습니다. \n",
        "for s in data['text']:\n",
        "    clean_text.append(preprocess_sentence(s))\n",
        "\n",
        "# 전처리 후 출력\n",
        "print(\"Text 전처리 후 결과: \", clean_text[:5])"
      ]
    },
    {
      "cell_type": "code",
      "execution_count": 14,
      "metadata": {
        "id": "llyRf3swsFd7",
        "colab": {
          "base_uri": "https://localhost:8080/"
        },
        "outputId": "f072a849-cc5e-4a63-89d2-a0eede1b04b5"
      },
      "outputs": [
        {
          "output_type": "stream",
          "name": "stdout",
          "text": [
            "Summary 전처리 후 결과:  ['upgrad learner switches to career in ml al with salary hike', 'delhi techie wins free food from swiggy for one year on cred', 'new zealand end rohit sharma led india match winning streak', 'aegon life iterm insurance plan helps customers save tax', 'have known hirani for yrs what if metoo claims are not true sonam']\n"
          ]
        }
      ],
      "source": [
        "clean_headlines = []\n",
        "# 전체 Summary 데이터에 대한 전처리 : 5분 이상 시간이 걸릴 수 있습니다. \n",
        "for s in data['headlines']:\n",
        "    clean_headlines.append(preprocess_sentence(s, False))\n",
        "\n",
        "print(\"Summary 전처리 후 결과: \", clean_headlines[:5])"
      ]
    },
    {
      "cell_type": "code",
      "source": [
        "data['text'][0]"
      ],
      "metadata": {
        "id": "I7-z3MI4ayVJ",
        "colab": {
          "base_uri": "https://localhost:8080/",
          "height": 107
        },
        "outputId": "1b5fce8e-b133-43be-f7d6-0f74ed2b9087"
      },
      "execution_count": 15,
      "outputs": [
        {
          "output_type": "execute_result",
          "data": {
            "text/plain": [
              "\"Saurav Kant, an alumnus of upGrad and IIIT-B's PG Program in Machine learning and Artificial Intelligence, was a Sr Systems Engineer at Infosys with almost 5 years of work experience. The program and upGrad's 360-degree career support helped him transition to a Data Scientist at Tech Mahindra with 90% salary hike. upGrad's Online Power Learning has powered 3 lakh+ careers.\""
            ],
            "application/vnd.google.colaboratory.intrinsic+json": {
              "type": "string"
            }
          },
          "metadata": {},
          "execution_count": 15
        }
      ]
    },
    {
      "cell_type": "code",
      "source": [
        "clean_text[0]"
      ],
      "metadata": {
        "id": "mIgkGVHOa8N8",
        "colab": {
          "base_uri": "https://localhost:8080/",
          "height": 89
        },
        "outputId": "79ef573f-858a-4ec5-bbaa-5099796f958c"
      },
      "execution_count": 16,
      "outputs": [
        {
          "output_type": "execute_result",
          "data": {
            "text/plain": [
              "'saurav kant alumnus upgrad iiit pg program machine learning artificial intelligence sr systems engineer infosys almost years work experience program upgrad degree career support helped transition data scientist tech mahindra salary hike upgrad online power learning powered lakh careers'"
            ],
            "application/vnd.google.colaboratory.intrinsic+json": {
              "type": "string"
            }
          },
          "metadata": {},
          "execution_count": 16
        }
      ]
    },
    {
      "cell_type": "code",
      "execution_count": 17,
      "metadata": {
        "id": "K4v846V0v6BX",
        "colab": {
          "base_uri": "https://localhost:8080/"
        },
        "outputId": "28f16887-807f-44f7-d614-2577d2642fc7"
      },
      "outputs": [
        {
          "output_type": "stream",
          "name": "stdout",
          "text": [
            "=3\n"
          ]
        }
      ],
      "source": [
        "data['clean_text'] = clean_text\n",
        "data['clean_headlines'] = clean_headlines\n",
        "\n",
        "# 빈 값을 Null 값으로 변환\n",
        "data.replace('', np.nan, inplace=True)\n",
        "print('=3')"
      ]
    },
    {
      "cell_type": "code",
      "source": [
        "data"
      ],
      "metadata": {
        "id": "zykK9dyp5yEa",
        "colab": {
          "base_uri": "https://localhost:8080/",
          "height": 815
        },
        "outputId": "1519b04d-1cdc-4f75-cc8c-edbbae61899e"
      },
      "execution_count": 18,
      "outputs": [
        {
          "output_type": "execute_result",
          "data": {
            "text/plain": [
              "                                               headlines  \\\n",
              "0      upGrad learner switches to career in ML & Al w...   \n",
              "1      Delhi techie wins free food from Swiggy for on...   \n",
              "2      New Zealand end Rohit Sharma-led India's 12-ma...   \n",
              "3      Aegon life iTerm insurance plan helps customer...   \n",
              "4      Have known Hirani for yrs, what if MeToo claim...   \n",
              "...                                                  ...   \n",
              "98396  CRPF jawan axed to death by Maoists in Chhatti...   \n",
              "98397  First song from Sonakshi Sinha's 'Noor' titled...   \n",
              "98398         'The Matrix' film to get a reboot: Reports   \n",
              "98399  Snoop Dogg aims gun at clown dressed as Trump ...   \n",
              "98400  Madhesi Morcha withdraws support to Nepalese g...   \n",
              "\n",
              "                                                    text  \\\n",
              "0      Saurav Kant, an alumnus of upGrad and IIIT-B's...   \n",
              "1      Kunal Shah's credit card bill payment platform...   \n",
              "2      New Zealand defeated India by 8 wickets in the...   \n",
              "3      With Aegon Life iTerm Insurance plan, customer...   \n",
              "4      Speaking about the sexual harassment allegatio...   \n",
              "...                                                  ...   \n",
              "98396  A CRPF jawan was on Tuesday axed to death with...   \n",
              "98397  'Uff Yeh', the first song from the Sonakshi Si...   \n",
              "98398  According to reports, a new version of the 199...   \n",
              "98399  A new music video shows rapper Snoop Dogg aimi...   \n",
              "98400  Madhesi Morcha, an alliance of seven political...   \n",
              "\n",
              "                                              clean_text  \\\n",
              "0      saurav kant alumnus upgrad iiit pg program mac...   \n",
              "1      kunal shah credit card bill payment platform c...   \n",
              "2      new zealand defeated india wickets fourth odi ...   \n",
              "3      aegon life iterm insurance plan customers enjo...   \n",
              "4      speaking sexual harassment allegations rajkuma...   \n",
              "...                                                  ...   \n",
              "98396  crpf jawan tuesday axed death sharp edged weap...   \n",
              "98397  uff yeh first song sonakshi sinha starrer upco...   \n",
              "98398  according reports new version science fiction ...   \n",
              "98399  new music video shows rapper snoop dogg aiming...   \n",
              "98400  madhesi morcha alliance seven political partie...   \n",
              "\n",
              "                                         clean_headlines  \n",
              "0      upgrad learner switches to career in ml al wit...  \n",
              "1      delhi techie wins free food from swiggy for on...  \n",
              "2      new zealand end rohit sharma led india match w...  \n",
              "3      aegon life iterm insurance plan helps customer...  \n",
              "4      have known hirani for yrs what if metoo claims...  \n",
              "...                                                  ...  \n",
              "98396  crpf jawan axed to death by maoists in chhatti...  \n",
              "98397  first song from sonakshi sinha noor titled uff...  \n",
              "98398              the matrix film to get reboot reports  \n",
              "98399  snoop dogg aims gun at clown dressed as trump ...  \n",
              "98400  madhesi morcha withdraws support to nepalese g...  \n",
              "\n",
              "[98360 rows x 4 columns]"
            ],
            "text/html": [
              "\n",
              "  <div id=\"df-2bed5a8b-6990-4b91-a445-9ceb9c91b40c\">\n",
              "    <div class=\"colab-df-container\">\n",
              "      <div>\n",
              "<style scoped>\n",
              "    .dataframe tbody tr th:only-of-type {\n",
              "        vertical-align: middle;\n",
              "    }\n",
              "\n",
              "    .dataframe tbody tr th {\n",
              "        vertical-align: top;\n",
              "    }\n",
              "\n",
              "    .dataframe thead th {\n",
              "        text-align: right;\n",
              "    }\n",
              "</style>\n",
              "<table border=\"1\" class=\"dataframe\">\n",
              "  <thead>\n",
              "    <tr style=\"text-align: right;\">\n",
              "      <th></th>\n",
              "      <th>headlines</th>\n",
              "      <th>text</th>\n",
              "      <th>clean_text</th>\n",
              "      <th>clean_headlines</th>\n",
              "    </tr>\n",
              "  </thead>\n",
              "  <tbody>\n",
              "    <tr>\n",
              "      <th>0</th>\n",
              "      <td>upGrad learner switches to career in ML &amp; Al w...</td>\n",
              "      <td>Saurav Kant, an alumnus of upGrad and IIIT-B's...</td>\n",
              "      <td>saurav kant alumnus upgrad iiit pg program mac...</td>\n",
              "      <td>upgrad learner switches to career in ml al wit...</td>\n",
              "    </tr>\n",
              "    <tr>\n",
              "      <th>1</th>\n",
              "      <td>Delhi techie wins free food from Swiggy for on...</td>\n",
              "      <td>Kunal Shah's credit card bill payment platform...</td>\n",
              "      <td>kunal shah credit card bill payment platform c...</td>\n",
              "      <td>delhi techie wins free food from swiggy for on...</td>\n",
              "    </tr>\n",
              "    <tr>\n",
              "      <th>2</th>\n",
              "      <td>New Zealand end Rohit Sharma-led India's 12-ma...</td>\n",
              "      <td>New Zealand defeated India by 8 wickets in the...</td>\n",
              "      <td>new zealand defeated india wickets fourth odi ...</td>\n",
              "      <td>new zealand end rohit sharma led india match w...</td>\n",
              "    </tr>\n",
              "    <tr>\n",
              "      <th>3</th>\n",
              "      <td>Aegon life iTerm insurance plan helps customer...</td>\n",
              "      <td>With Aegon Life iTerm Insurance plan, customer...</td>\n",
              "      <td>aegon life iterm insurance plan customers enjo...</td>\n",
              "      <td>aegon life iterm insurance plan helps customer...</td>\n",
              "    </tr>\n",
              "    <tr>\n",
              "      <th>4</th>\n",
              "      <td>Have known Hirani for yrs, what if MeToo claim...</td>\n",
              "      <td>Speaking about the sexual harassment allegatio...</td>\n",
              "      <td>speaking sexual harassment allegations rajkuma...</td>\n",
              "      <td>have known hirani for yrs what if metoo claims...</td>\n",
              "    </tr>\n",
              "    <tr>\n",
              "      <th>...</th>\n",
              "      <td>...</td>\n",
              "      <td>...</td>\n",
              "      <td>...</td>\n",
              "      <td>...</td>\n",
              "    </tr>\n",
              "    <tr>\n",
              "      <th>98396</th>\n",
              "      <td>CRPF jawan axed to death by Maoists in Chhatti...</td>\n",
              "      <td>A CRPF jawan was on Tuesday axed to death with...</td>\n",
              "      <td>crpf jawan tuesday axed death sharp edged weap...</td>\n",
              "      <td>crpf jawan axed to death by maoists in chhatti...</td>\n",
              "    </tr>\n",
              "    <tr>\n",
              "      <th>98397</th>\n",
              "      <td>First song from Sonakshi Sinha's 'Noor' titled...</td>\n",
              "      <td>'Uff Yeh', the first song from the Sonakshi Si...</td>\n",
              "      <td>uff yeh first song sonakshi sinha starrer upco...</td>\n",
              "      <td>first song from sonakshi sinha noor titled uff...</td>\n",
              "    </tr>\n",
              "    <tr>\n",
              "      <th>98398</th>\n",
              "      <td>'The Matrix' film to get a reboot: Reports</td>\n",
              "      <td>According to reports, a new version of the 199...</td>\n",
              "      <td>according reports new version science fiction ...</td>\n",
              "      <td>the matrix film to get reboot reports</td>\n",
              "    </tr>\n",
              "    <tr>\n",
              "      <th>98399</th>\n",
              "      <td>Snoop Dogg aims gun at clown dressed as Trump ...</td>\n",
              "      <td>A new music video shows rapper Snoop Dogg aimi...</td>\n",
              "      <td>new music video shows rapper snoop dogg aiming...</td>\n",
              "      <td>snoop dogg aims gun at clown dressed as trump ...</td>\n",
              "    </tr>\n",
              "    <tr>\n",
              "      <th>98400</th>\n",
              "      <td>Madhesi Morcha withdraws support to Nepalese g...</td>\n",
              "      <td>Madhesi Morcha, an alliance of seven political...</td>\n",
              "      <td>madhesi morcha alliance seven political partie...</td>\n",
              "      <td>madhesi morcha withdraws support to nepalese g...</td>\n",
              "    </tr>\n",
              "  </tbody>\n",
              "</table>\n",
              "<p>98360 rows × 4 columns</p>\n",
              "</div>\n",
              "      <button class=\"colab-df-convert\" onclick=\"convertToInteractive('df-2bed5a8b-6990-4b91-a445-9ceb9c91b40c')\"\n",
              "              title=\"Convert this dataframe to an interactive table.\"\n",
              "              style=\"display:none;\">\n",
              "        \n",
              "  <svg xmlns=\"http://www.w3.org/2000/svg\" height=\"24px\"viewBox=\"0 0 24 24\"\n",
              "       width=\"24px\">\n",
              "    <path d=\"M0 0h24v24H0V0z\" fill=\"none\"/>\n",
              "    <path d=\"M18.56 5.44l.94 2.06.94-2.06 2.06-.94-2.06-.94-.94-2.06-.94 2.06-2.06.94zm-11 1L8.5 8.5l.94-2.06 2.06-.94-2.06-.94L8.5 2.5l-.94 2.06-2.06.94zm10 10l.94 2.06.94-2.06 2.06-.94-2.06-.94-.94-2.06-.94 2.06-2.06.94z\"/><path d=\"M17.41 7.96l-1.37-1.37c-.4-.4-.92-.59-1.43-.59-.52 0-1.04.2-1.43.59L10.3 9.45l-7.72 7.72c-.78.78-.78 2.05 0 2.83L4 21.41c.39.39.9.59 1.41.59.51 0 1.02-.2 1.41-.59l7.78-7.78 2.81-2.81c.8-.78.8-2.07 0-2.86zM5.41 20L4 18.59l7.72-7.72 1.47 1.35L5.41 20z\"/>\n",
              "  </svg>\n",
              "      </button>\n",
              "      \n",
              "  <style>\n",
              "    .colab-df-container {\n",
              "      display:flex;\n",
              "      flex-wrap:wrap;\n",
              "      gap: 12px;\n",
              "    }\n",
              "\n",
              "    .colab-df-convert {\n",
              "      background-color: #E8F0FE;\n",
              "      border: none;\n",
              "      border-radius: 50%;\n",
              "      cursor: pointer;\n",
              "      display: none;\n",
              "      fill: #1967D2;\n",
              "      height: 32px;\n",
              "      padding: 0 0 0 0;\n",
              "      width: 32px;\n",
              "    }\n",
              "\n",
              "    .colab-df-convert:hover {\n",
              "      background-color: #E2EBFA;\n",
              "      box-shadow: 0px 1px 2px rgba(60, 64, 67, 0.3), 0px 1px 3px 1px rgba(60, 64, 67, 0.15);\n",
              "      fill: #174EA6;\n",
              "    }\n",
              "\n",
              "    [theme=dark] .colab-df-convert {\n",
              "      background-color: #3B4455;\n",
              "      fill: #D2E3FC;\n",
              "    }\n",
              "\n",
              "    [theme=dark] .colab-df-convert:hover {\n",
              "      background-color: #434B5C;\n",
              "      box-shadow: 0px 1px 3px 1px rgba(0, 0, 0, 0.15);\n",
              "      filter: drop-shadow(0px 1px 2px rgba(0, 0, 0, 0.3));\n",
              "      fill: #FFFFFF;\n",
              "    }\n",
              "  </style>\n",
              "\n",
              "      <script>\n",
              "        const buttonEl =\n",
              "          document.querySelector('#df-2bed5a8b-6990-4b91-a445-9ceb9c91b40c button.colab-df-convert');\n",
              "        buttonEl.style.display =\n",
              "          google.colab.kernel.accessAllowed ? 'block' : 'none';\n",
              "\n",
              "        async function convertToInteractive(key) {\n",
              "          const element = document.querySelector('#df-2bed5a8b-6990-4b91-a445-9ceb9c91b40c');\n",
              "          const dataTable =\n",
              "            await google.colab.kernel.invokeFunction('convertToInteractive',\n",
              "                                                     [key], {});\n",
              "          if (!dataTable) return;\n",
              "\n",
              "          const docLinkHtml = 'Like what you see? Visit the ' +\n",
              "            '<a target=\"_blank\" href=https://colab.research.google.com/notebooks/data_table.ipynb>data table notebook</a>'\n",
              "            + ' to learn more about interactive tables.';\n",
              "          element.innerHTML = '';\n",
              "          dataTable['output_type'] = 'display_data';\n",
              "          await google.colab.output.renderOutput(dataTable, element);\n",
              "          const docLink = document.createElement('div');\n",
              "          docLink.innerHTML = docLinkHtml;\n",
              "          element.appendChild(docLink);\n",
              "        }\n",
              "      </script>\n",
              "    </div>\n",
              "  </div>\n",
              "  "
            ]
          },
          "metadata": {},
          "execution_count": 18
        }
      ]
    },
    {
      "cell_type": "code",
      "execution_count": 19,
      "metadata": {
        "id": "pP8Fn-1zv7cZ",
        "colab": {
          "base_uri": "https://localhost:8080/"
        },
        "outputId": "1144b9ed-6956-4578-e89c-d15eb54d25f9"
      },
      "outputs": [
        {
          "output_type": "execute_result",
          "data": {
            "text/plain": [
              "headlines          0\n",
              "text               0\n",
              "clean_text         0\n",
              "clean_headlines    0\n",
              "dtype: int64"
            ]
          },
          "metadata": {},
          "execution_count": 19
        }
      ],
      "source": [
        "data.isnull().sum()"
      ]
    },
    {
      "cell_type": "code",
      "execution_count": 20,
      "metadata": {
        "id": "4UagOnsOwDRK",
        "colab": {
          "base_uri": "https://localhost:8080/"
        },
        "outputId": "7cd18f0e-198c-446f-f37b-1ab64109cb3e"
      },
      "outputs": [
        {
          "output_type": "stream",
          "name": "stdout",
          "text": [
            "전체 샘플수 : 98360\n"
          ]
        }
      ],
      "source": [
        "data.dropna(axis=0, inplace=True)\n",
        "print('전체 샘플수 :', (len(data)))"
      ]
    },
    {
      "cell_type": "markdown",
      "metadata": {
        "id": "5TIzb2h8waFD"
      },
      "source": [
        "## (2) Split_train_test\n",
        "* 샘플의 최대 길이 정하기\n",
        "* 시작 토큰과 종료 토큰 추가하기"
      ]
    },
    {
      "cell_type": "markdown",
      "metadata": {
        "id": "-RdbhuG8w3As"
      },
      "source": [
        "### 1. 샘플 최대 길이 정하기\n",
        "Text와 Summary의 최소, 최대, 평균 길이를 구하고 또한 길이 분포를 시각화"
      ]
    },
    {
      "cell_type": "code",
      "execution_count": 21,
      "metadata": {
        "id": "oIRhfnzvwlKg",
        "colab": {
          "base_uri": "https://localhost:8080/",
          "height": 996
        },
        "outputId": "0c57213b-56e6-43f9-f0f4-6a3d1d7a453c"
      },
      "outputs": [
        {
          "output_type": "stream",
          "name": "stdout",
          "text": [
            "텍스트의 최소 길이 : 1\n",
            "텍스트의 최대 길이 : 60\n",
            "텍스트의 평균 길이 : 35.09968483123221\n",
            "\n",
            "\n",
            "요약의 최소 길이 : 1\n",
            "요약의 최대 길이 : 16\n",
            "요약의 평균 길이 : 9.299532330215534\n"
          ]
        },
        {
          "output_type": "display_data",
          "data": {
            "text/plain": [
              "<Figure size 432x288 with 2 Axes>"
            ],
            "image/png": "[encoded data removed]"
          },
          "metadata": {
            "needs_background": "light"
          }
        },
        {
          "output_type": "display_data",
          "data": {
            "text/plain": [
              "<Figure size 432x288 with 1 Axes>"
            ],
            "image/png": "[encoded data removed]"
          },
          "metadata": {
            "needs_background": "light"
          }
        },
        {
          "output_type": "display_data",
          "data": {
            "text/plain": [
              "<Figure size 432x288 with 1 Axes>"
            ],
            "image/png": "[encoded data removed]"
          },
          "metadata": {
            "needs_background": "light"
          }
        }
      ],
      "source": [
        "# 길이 분포 출력\n",
        "import matplotlib.pyplot as plt\n",
        "\n",
        "text_len = [len(s.split()) for s in data['clean_text']]\n",
        "headlines_len = [len(s.split()) for s in data['clean_headlines']]\n",
        "\n",
        "print('텍스트의 최소 길이 : {}'.format(np.min(text_len)))\n",
        "print('텍스트의 최대 길이 : {}'.format(np.max(text_len)))\n",
        "print('텍스트의 평균 길이 : {}'.format(np.mean(text_len)))\n",
        "print('\\n')\n",
        "print('요약의 최소 길이 : {}'.format(np.min(headlines_len)))\n",
        "print('요약의 최대 길이 : {}'.format(np.max(headlines_len)))\n",
        "print('요약의 평균 길이 : {}'.format(np.mean(headlines_len)))\n",
        "\n",
        "plt.subplot(1,2,1)\n",
        "plt.boxplot(text_len)\n",
        "plt.title('clean_text')\n",
        "\n",
        "plt.subplot(1,2,2)\n",
        "plt.boxplot(headlines_len)\n",
        "plt.title('clean_headlines')\n",
        "\n",
        "plt.tight_layout()\n",
        "plt.show()\n",
        "\n",
        "plt.title('clean_text')\n",
        "plt.hist(text_len, bins = 40)\n",
        "plt.xlabel('length of samples')\n",
        "plt.ylabel('number of samples')\n",
        "plt.show()\n",
        "\n",
        "plt.title('clean_headlines')\n",
        "plt.hist(headlines_len, bins = 40)\n",
        "plt.xlabel('length of samples')\n",
        "plt.ylabel('number of samples')\n",
        "plt.show()"
      ]
    },
    {
      "cell_type": "code",
      "execution_count": 22,
      "metadata": {
        "id": "4JbWfEKtx7nS"
      },
      "outputs": [],
      "source": [
        "# for s in data['Text']:\n",
        "#   print(s.split())\n",
        "#   break"
      ]
    },
    {
      "cell_type": "code",
      "execution_count": 23,
      "metadata": {
        "id": "_svk7pRvxFWr"
      },
      "outputs": [],
      "source": [
        "# text_len = [len(s.split()) for s in data['Text']]\n",
        "# summary_len = [len(s.split()) for s in data['Summary']]\n",
        "\n",
        "# # text_len"
      ]
    },
    {
      "cell_type": "code",
      "execution_count": 24,
      "metadata": {
        "id": "Zmv-2O3HxVwC",
        "colab": {
          "base_uri": "https://localhost:8080/"
        },
        "outputId": "d2f59d03-cff7-4411-9144-fdf994ae8330"
      },
      "outputs": [
        {
          "output_type": "stream",
          "name": "stdout",
          "text": [
            "=3\n"
          ]
        }
      ],
      "source": [
        "text_max_len = 50\n",
        "headlines_max_len = 15\n",
        "print('=3')"
      ]
    },
    {
      "cell_type": "markdown",
      "source": [
        "❤️ 훈련 데이터와 샘플의 길이를 입력하면, 데이터의 몇 %가 해당하는지 계산하는 함수"
      ],
      "metadata": {
        "id": "cYYYggZ7fZxQ"
      }
    },
    {
      "cell_type": "code",
      "execution_count": 25,
      "metadata": {
        "id": "wMdUE3cozSaH",
        "colab": {
          "base_uri": "https://localhost:8080/"
        },
        "outputId": "06ae0636-32f7-45b3-baf7-db940def2934"
      },
      "outputs": [
        {
          "output_type": "stream",
          "name": "stdout",
          "text": [
            "=3\n"
          ]
        }
      ],
      "source": [
        "def below_threshold_len(max_len, nested_list):\n",
        "  cnt = 0\n",
        "  for s in nested_list:\n",
        "    if(len(s.split()) <= max_len):\n",
        "        cnt = cnt + 1\n",
        "  print('전체 샘플 중 길이가 %s 이하인 샘플의 비율: %s'%(max_len, (cnt / len(nested_list))))\n",
        "print('=3')"
      ]
    },
    {
      "cell_type": "code",
      "execution_count": 26,
      "metadata": {
        "id": "SbcTkXXUzYlH",
        "colab": {
          "base_uri": "https://localhost:8080/"
        },
        "outputId": "a751b025-9925-49cf-8b2c-38f4e4eb2d55"
      },
      "outputs": [
        {
          "output_type": "stream",
          "name": "stdout",
          "text": [
            "전체 샘플 중 길이가 50 이하인 샘플의 비율: 0.9998576657177715\n",
            "전체 샘플 중 길이가 15 이하인 샘플의 비율: 0.9999694997966653\n"
          ]
        }
      ],
      "source": [
        "below_threshold_len(text_max_len, data['clean_text'])\n",
        "below_threshold_len(headlines_max_len,  data['clean_headlines'])"
      ]
    },
    {
      "cell_type": "code",
      "execution_count": 27,
      "metadata": {
        "id": "thLZTsi_zokl",
        "colab": {
          "base_uri": "https://localhost:8080/"
        },
        "outputId": "ed8d7d55-11c2-487b-8ef3-acffbe9053f0"
      },
      "outputs": [
        {
          "output_type": "stream",
          "name": "stdout",
          "text": [
            "전체 샘플수 : 98343\n"
          ]
        }
      ],
      "source": [
        "data = data[data['clean_text'].apply(lambda x: len(x.split()) <= text_max_len)]\n",
        "data = data[data['clean_headlines'].apply(lambda x: len(x.split()) <= headlines_max_len)]\n",
        "print('전체 샘플수 :', (len(data)))"
      ]
    },
    {
      "cell_type": "markdown",
      "metadata": {
        "id": "98LcaDFF0RBy"
      },
      "source": [
        "### 2.시작 토큰과 종료 토큰 추가하기"
      ]
    },
    {
      "cell_type": "code",
      "execution_count": 28,
      "metadata": {
        "id": "wQUdZii4z5wk",
        "colab": {
          "base_uri": "https://localhost:8080/",
          "height": 687
        },
        "outputId": "4afff78a-2512-4f0f-fd6e-0b1c748645f5"
      },
      "outputs": [
        {
          "output_type": "execute_result",
          "data": {
            "text/plain": [
              "                                           headlines  \\\n",
              "0  upGrad learner switches to career in ML & Al w...   \n",
              "1  Delhi techie wins free food from Swiggy for on...   \n",
              "2  New Zealand end Rohit Sharma-led India's 12-ma...   \n",
              "3  Aegon life iTerm insurance plan helps customer...   \n",
              "4  Have known Hirani for yrs, what if MeToo claim...   \n",
              "\n",
              "                                                text  \\\n",
              "0  Saurav Kant, an alumnus of upGrad and IIIT-B's...   \n",
              "1  Kunal Shah's credit card bill payment platform...   \n",
              "2  New Zealand defeated India by 8 wickets in the...   \n",
              "3  With Aegon Life iTerm Insurance plan, customer...   \n",
              "4  Speaking about the sexual harassment allegatio...   \n",
              "\n",
              "                                          clean_text  \\\n",
              "0  saurav kant alumnus upgrad iiit pg program mac...   \n",
              "1  kunal shah credit card bill payment platform c...   \n",
              "2  new zealand defeated india wickets fourth odi ...   \n",
              "3  aegon life iterm insurance plan customers enjo...   \n",
              "4  speaking sexual harassment allegations rajkuma...   \n",
              "\n",
              "                                     clean_headlines  \\\n",
              "0  upgrad learner switches to career in ml al wit...   \n",
              "1  delhi techie wins free food from swiggy for on...   \n",
              "2  new zealand end rohit sharma led india match w...   \n",
              "3  aegon life iterm insurance plan helps customer...   \n",
              "4  have known hirani for yrs what if metoo claims...   \n",
              "\n",
              "                                       decoder_input  \\\n",
              "0  sostoken saurav kant alumnus upgrad iiit pg pr...   \n",
              "1  sostoken kunal shah credit card bill payment p...   \n",
              "2  sostoken new zealand defeated india wickets fo...   \n",
              "3  sostoken aegon life iterm insurance plan custo...   \n",
              "4  sostoken speaking sexual harassment allegation...   \n",
              "\n",
              "                                      decoder_target  \n",
              "0  upgrad learner switches to career in ml al wit...  \n",
              "1  delhi techie wins free food from swiggy for on...  \n",
              "2  new zealand end rohit sharma led india match w...  \n",
              "3  aegon life iterm insurance plan helps customer...  \n",
              "4  have known hirani for yrs what if metoo claims...  "
            ],
            "text/html": [
              "\n",
              "  <div id=\"df-bce3028c-9b68-4007-b09f-cf71f762b9dc\">\n",
              "    <div class=\"colab-df-container\">\n",
              "      <div>\n",
              "<style scoped>\n",
              "    .dataframe tbody tr th:only-of-type {\n",
              "        vertical-align: middle;\n",
              "    }\n",
              "\n",
              "    .dataframe tbody tr th {\n",
              "        vertical-align: top;\n",
              "    }\n",
              "\n",
              "    .dataframe thead th {\n",
              "        text-align: right;\n",
              "    }\n",
              "</style>\n",
              "<table border=\"1\" class=\"dataframe\">\n",
              "  <thead>\n",
              "    <tr style=\"text-align: right;\">\n",
              "      <th></th>\n",
              "      <th>headlines</th>\n",
              "      <th>text</th>\n",
              "      <th>clean_text</th>\n",
              "      <th>clean_headlines</th>\n",
              "      <th>decoder_input</th>\n",
              "      <th>decoder_target</th>\n",
              "    </tr>\n",
              "  </thead>\n",
              "  <tbody>\n",
              "    <tr>\n",
              "      <th>0</th>\n",
              "      <td>upGrad learner switches to career in ML &amp; Al w...</td>\n",
              "      <td>Saurav Kant, an alumnus of upGrad and IIIT-B's...</td>\n",
              "      <td>saurav kant alumnus upgrad iiit pg program mac...</td>\n",
              "      <td>upgrad learner switches to career in ml al wit...</td>\n",
              "      <td>sostoken saurav kant alumnus upgrad iiit pg pr...</td>\n",
              "      <td>upgrad learner switches to career in ml al wit...</td>\n",
              "    </tr>\n",
              "    <tr>\n",
              "      <th>1</th>\n",
              "      <td>Delhi techie wins free food from Swiggy for on...</td>\n",
              "      <td>Kunal Shah's credit card bill payment platform...</td>\n",
              "      <td>kunal shah credit card bill payment platform c...</td>\n",
              "      <td>delhi techie wins free food from swiggy for on...</td>\n",
              "      <td>sostoken kunal shah credit card bill payment p...</td>\n",
              "      <td>delhi techie wins free food from swiggy for on...</td>\n",
              "    </tr>\n",
              "    <tr>\n",
              "      <th>2</th>\n",
              "      <td>New Zealand end Rohit Sharma-led India's 12-ma...</td>\n",
              "      <td>New Zealand defeated India by 8 wickets in the...</td>\n",
              "      <td>new zealand defeated india wickets fourth odi ...</td>\n",
              "      <td>new zealand end rohit sharma led india match w...</td>\n",
              "      <td>sostoken new zealand defeated india wickets fo...</td>\n",
              "      <td>new zealand end rohit sharma led india match w...</td>\n",
              "    </tr>\n",
              "    <tr>\n",
              "      <th>3</th>\n",
              "      <td>Aegon life iTerm insurance plan helps customer...</td>\n",
              "      <td>With Aegon Life iTerm Insurance plan, customer...</td>\n",
              "      <td>aegon life iterm insurance plan customers enjo...</td>\n",
              "      <td>aegon life iterm insurance plan helps customer...</td>\n",
              "      <td>sostoken aegon life iterm insurance plan custo...</td>\n",
              "      <td>aegon life iterm insurance plan helps customer...</td>\n",
              "    </tr>\n",
              "    <tr>\n",
              "      <th>4</th>\n",
              "      <td>Have known Hirani for yrs, what if MeToo claim...</td>\n",
              "      <td>Speaking about the sexual harassment allegatio...</td>\n",
              "      <td>speaking sexual harassment allegations rajkuma...</td>\n",
              "      <td>have known hirani for yrs what if metoo claims...</td>\n",
              "      <td>sostoken speaking sexual harassment allegation...</td>\n",
              "      <td>have known hirani for yrs what if metoo claims...</td>\n",
              "    </tr>\n",
              "  </tbody>\n",
              "</table>\n",
              "</div>\n",
              "      <button class=\"colab-df-convert\" onclick=\"convertToInteractive('df-bce3028c-9b68-4007-b09f-cf71f762b9dc')\"\n",
              "              title=\"Convert this dataframe to an interactive table.\"\n",
              "              style=\"display:none;\">\n",
              "        \n",
              "  <svg xmlns=\"http://www.w3.org/2000/svg\" height=\"24px\"viewBox=\"0 0 24 24\"\n",
              "       width=\"24px\">\n",
              "    <path d=\"M0 0h24v24H0V0z\" fill=\"none\"/>\n",
              "    <path d=\"M18.56 5.44l.94 2.06.94-2.06 2.06-.94-2.06-.94-.94-2.06-.94 2.06-2.06.94zm-11 1L8.5 8.5l.94-2.06 2.06-.94-2.06-.94L8.5 2.5l-.94 2.06-2.06.94zm10 10l.94 2.06.94-2.06 2.06-.94-2.06-.94-.94-2.06-.94 2.06-2.06.94z\"/><path d=\"M17.41 7.96l-1.37-1.37c-.4-.4-.92-.59-1.43-.59-.52 0-1.04.2-1.43.59L10.3 9.45l-7.72 7.72c-.78.78-.78 2.05 0 2.83L4 21.41c.39.39.9.59 1.41.59.51 0 1.02-.2 1.41-.59l7.78-7.78 2.81-2.81c.8-.78.8-2.07 0-2.86zM5.41 20L4 18.59l7.72-7.72 1.47 1.35L5.41 20z\"/>\n",
              "  </svg>\n",
              "      </button>\n",
              "      \n",
              "  <style>\n",
              "    .colab-df-container {\n",
              "      display:flex;\n",
              "      flex-wrap:wrap;\n",
              "      gap: 12px;\n",
              "    }\n",
              "\n",
              "    .colab-df-convert {\n",
              "      background-color: #E8F0FE;\n",
              "      border: none;\n",
              "      border-radius: 50%;\n",
              "      cursor: pointer;\n",
              "      display: none;\n",
              "      fill: #1967D2;\n",
              "      height: 32px;\n",
              "      padding: 0 0 0 0;\n",
              "      width: 32px;\n",
              "    }\n",
              "\n",
              "    .colab-df-convert:hover {\n",
              "      background-color: #E2EBFA;\n",
              "      box-shadow: 0px 1px 2px rgba(60, 64, 67, 0.3), 0px 1px 3px 1px rgba(60, 64, 67, 0.15);\n",
              "      fill: #174EA6;\n",
              "    }\n",
              "\n",
              "    [theme=dark] .colab-df-convert {\n",
              "      background-color: #3B4455;\n",
              "      fill: #D2E3FC;\n",
              "    }\n",
              "\n",
              "    [theme=dark] .colab-df-convert:hover {\n",
              "      background-color: #434B5C;\n",
              "      box-shadow: 0px 1px 3px 1px rgba(0, 0, 0, 0.15);\n",
              "      filter: drop-shadow(0px 1px 2px rgba(0, 0, 0, 0.3));\n",
              "      fill: #FFFFFF;\n",
              "    }\n",
              "  </style>\n",
              "\n",
              "      <script>\n",
              "        const buttonEl =\n",
              "          document.querySelector('#df-bce3028c-9b68-4007-b09f-cf71f762b9dc button.colab-df-convert');\n",
              "        buttonEl.style.display =\n",
              "          google.colab.kernel.accessAllowed ? 'block' : 'none';\n",
              "\n",
              "        async function convertToInteractive(key) {\n",
              "          const element = document.querySelector('#df-bce3028c-9b68-4007-b09f-cf71f762b9dc');\n",
              "          const dataTable =\n",
              "            await google.colab.kernel.invokeFunction('convertToInteractive',\n",
              "                                                     [key], {});\n",
              "          if (!dataTable) return;\n",
              "\n",
              "          const docLinkHtml = 'Like what you see? Visit the ' +\n",
              "            '<a target=\"_blank\" href=https://colab.research.google.com/notebooks/data_table.ipynb>data table notebook</a>'\n",
              "            + ' to learn more about interactive tables.';\n",
              "          element.innerHTML = '';\n",
              "          dataTable['output_type'] = 'display_data';\n",
              "          await google.colab.output.renderOutput(dataTable, element);\n",
              "          const docLink = document.createElement('div');\n",
              "          docLink.innerHTML = docLinkHtml;\n",
              "          element.appendChild(docLink);\n",
              "        }\n",
              "      </script>\n",
              "    </div>\n",
              "  </div>\n",
              "  "
            ]
          },
          "metadata": {},
          "execution_count": 28
        }
      ],
      "source": [
        "# 요약 데이터에는 시작 토큰과 종료 토큰을 추가한다.\n",
        "data['decoder_input'] = data['clean_text'].apply(lambda x : 'sostoken '+ x)\n",
        "data['decoder_target'] = data['clean_headlines'].apply(lambda x : x + ' eostoken')\n",
        "data.head()"
      ]
    },
    {
      "cell_type": "code",
      "execution_count": 29,
      "metadata": {
        "id": "-2NglKBP0XJZ",
        "colab": {
          "base_uri": "https://localhost:8080/"
        },
        "outputId": "a23609d4-9b1a-41e5-da13-43254c79c3e1"
      },
      "outputs": [
        {
          "output_type": "stream",
          "name": "stdout",
          "text": [
            "=3\n"
          ]
        }
      ],
      "source": [
        "encoder_input = np.array(data['clean_text']) # 인코더의 입력\n",
        "decoder_input = np.array(data['decoder_input']) # 디코더의 입력\n",
        "decoder_target = np.array(data['decoder_target']) # 디코더의 레이블\n",
        "print('=3')"
      ]
    },
    {
      "cell_type": "markdown",
      "source": [
        "❤️encoder_input.shape[0]"
      ],
      "metadata": {
        "id": "r6cWx6dMi1Ok"
      }
    },
    {
      "cell_type": "code",
      "source": [
        "# encoder_input.shape"
      ],
      "metadata": {
        "id": "iKv7xuMl9gM-"
      },
      "execution_count": 30,
      "outputs": []
    },
    {
      "cell_type": "code",
      "source": [
        "# encoder_input"
      ],
      "metadata": {
        "id": "TRBexwcp-Vqg"
      },
      "execution_count": 31,
      "outputs": []
    },
    {
      "cell_type": "markdown",
      "source": [
        "* 정수 시퀀스를 이용해 훈련 데이터와 테스트 데이터를 분리"
      ],
      "metadata": {
        "id": "JqCPf5gYEmcQ"
      }
    },
    {
      "cell_type": "code",
      "execution_count": 32,
      "metadata": {
        "id": "YjYlbaxi2h4z",
        "colab": {
          "base_uri": "https://localhost:8080/"
        },
        "outputId": "d029ee3a-d893-4981-f6c9-74d344385e4f"
      },
      "outputs": [
        {
          "output_type": "stream",
          "name": "stdout",
          "text": [
            "[90547  4813 17716 ... 87099 81043 48163]\n"
          ]
        }
      ],
      "source": [
        "# 셔플 정보 설정\n",
        "\n",
        "indices = np.arange(encoder_input.shape[0])\n",
        "np.random.shuffle(indices)\n",
        "print(indices)"
      ]
    },
    {
      "cell_type": "code",
      "source": [
        "# list(range(encoder_input.shape[0]))\n",
        "# np.array(sorted(indices))"
      ],
      "metadata": {
        "id": "b9EtJFuwCDjj"
      },
      "execution_count": 33,
      "outputs": []
    },
    {
      "cell_type": "code",
      "source": [
        "# encoder_input[indices]"
      ],
      "metadata": {
        "id": "b-9MlANECpNY"
      },
      "execution_count": 34,
      "outputs": []
    },
    {
      "cell_type": "code",
      "execution_count": 35,
      "metadata": {
        "id": "Uc5dfLDo2lZq",
        "colab": {
          "base_uri": "https://localhost:8080/"
        },
        "outputId": "c01da205-a027-44e6-ae2e-3809687f710c"
      },
      "outputs": [
        {
          "output_type": "stream",
          "name": "stdout",
          "text": [
            "=3\n"
          ]
        }
      ],
      "source": [
        "# 데이터의 샘플 순서를 정의\n",
        "\n",
        "encoder_input = encoder_input[indices]\n",
        "decoder_input = decoder_input[indices]\n",
        "decoder_target = decoder_target[indices]\n",
        "print('=3')"
      ]
    },
    {
      "cell_type": "code",
      "execution_count": 36,
      "metadata": {
        "id": "avuKLyth23gh",
        "colab": {
          "base_uri": "https://localhost:8080/"
        },
        "outputId": "6e98ee81-85ec-4b00-b027-42113ff66dfe"
      },
      "outputs": [
        {
          "output_type": "stream",
          "name": "stdout",
          "text": [
            "테스트 데이터의 수 : 19668\n"
          ]
        }
      ],
      "source": [
        "# 8:2의 비율로 훈련 데이터와 테스트 데이터로 분리\n",
        "n_of_val = int(len(encoder_input)*0.2)\n",
        "print('테스트 데이터의 수 :', n_of_val)"
      ]
    },
    {
      "cell_type": "code",
      "execution_count": 37,
      "metadata": {
        "id": "jnKXdlar284y",
        "colab": {
          "base_uri": "https://localhost:8080/"
        },
        "outputId": "7aa0a63d-c170-4423-dc29-e47112f4ee35"
      },
      "outputs": [
        {
          "output_type": "stream",
          "name": "stdout",
          "text": [
            "훈련 데이터의 개수 : 78675\n",
            "훈련 레이블의 개수 : 78675\n",
            "테스트 데이터의 개수 : 19668\n",
            "테스트 레이블의 개수 : 19668\n"
          ]
        }
      ],
      "source": [
        "# 전체 데이터 양분\n",
        "\n",
        "encoder_input_train = encoder_input[:-n_of_val]\n",
        "decoder_input_train = decoder_input[:-n_of_val]\n",
        "decoder_target_train = decoder_target[:-n_of_val]\n",
        "\n",
        "encoder_input_test = encoder_input[-n_of_val:]\n",
        "decoder_input_test = decoder_input[-n_of_val:]\n",
        "decoder_target_test = decoder_target[-n_of_val:]\n",
        "\n",
        "print('훈련 데이터의 개수 :', len(encoder_input_train))\n",
        "print('훈련 레이블의 개수 :', len(decoder_input_train))\n",
        "print('테스트 데이터의 개수 :', len(encoder_input_test))\n",
        "print('테스트 레이블의 개수 :', len(decoder_input_test))"
      ]
    },
    {
      "cell_type": "markdown",
      "metadata": {
        "id": "bnPJoG-x36ES"
      },
      "source": [
        "## (3) int encoding\n",
        "* 단어 집합(vocabulary) 만들기 및 정수 인코딩\n",
        "* 패딩하기"
      ]
    },
    {
      "cell_type": "markdown",
      "metadata": {
        "id": "2OS9tCZc5Y4N"
      },
      "source": [
        "### 1. 단어 집합(vocabulary) 만들기 및 정수 인코딩\n",
        "* encoder_input_train() : 단어 집합 만들기\n",
        "* src_tokenizer.word_counts.items(): 단어와 각  단어의 등장 빈도수 \n",
        "* texts_to_sequences() :  텍스트 데이터의 단어들을 모두 정수로 변환하는 정수 인코딩을 수행"
      ]
    },
    {
      "cell_type": "code",
      "execution_count": 38,
      "metadata": {
        "id": "QgQJrswc4bsU",
        "colab": {
          "base_uri": "https://localhost:8080/"
        },
        "outputId": "5b0a0064-182e-4f80-b909-2886ec084d95"
      },
      "outputs": [
        {
          "output_type": "stream",
          "name": "stdout",
          "text": [
            "=3\n"
          ]
        }
      ],
      "source": [
        "src_tokenizer = Tokenizer() # 토크나이저 정의\n",
        "src_tokenizer.fit_on_texts(encoder_input_train) # 입력된 데이터로부터 단어 집합 생성\n",
        "print('=3')"
      ]
    },
    {
      "cell_type": "markdown",
      "source": [
        "❤️ threshold를 아애 무시하거나 10으로 변경하거나\n",
        "\n",
        "* 빈도를 낮출려면 threshold 를 낮춘다.\n"
      ],
      "metadata": {
        "id": "isqm1Mr1jkk0"
      }
    },
    {
      "cell_type": "code",
      "execution_count": 39,
      "metadata": {
        "id": "ISjUkCWE5q_L",
        "colab": {
          "base_uri": "https://localhost:8080/"
        },
        "outputId": "3820be73-91be-4d56-e300-e4cf5e393fad"
      },
      "outputs": [
        {
          "output_type": "stream",
          "name": "stdout",
          "text": [
            "단어 집합(vocabulary)의 크기 : 69627\n",
            "등장 빈도가 9번 이하인 희귀 단어의 수: 51253\n",
            "단어 집합에서 희귀 단어를 제외시킬 경우의 단어 집합의 크기 18374\n",
            "단어 집합에서 희귀 단어의 비율: 73.61081189768338\n",
            "전체 등장 빈도에서 희귀 단어 등장 빈도 비율: 4.572013779921772\n"
          ]
        }
      ],
      "source": [
        "threshold = 10\n",
        "total_cnt = len(src_tokenizer.word_index) # 단어의 수\n",
        "rare_cnt = 0 # 등장 빈도수가 threshold보다 작은 단어의 개수를 카운트\n",
        "total_freq = 0 # 훈련 데이터의 전체 단어 빈도수 총 합\n",
        "rare_freq = 0 # 등장 빈도수가 threshold보다 작은 단어의 등장 빈도수의 총 합\n",
        "\n",
        "# 단어와 빈도수의 쌍(pair)을 key와 value로 받는다.\n",
        "for key, value in src_tokenizer.word_counts.items():\n",
        "    total_freq = total_freq + value\n",
        "\n",
        "    # 단어의 등장 빈도수가 threshold보다 작으면\n",
        "    if(value < threshold):\n",
        "        rare_cnt = rare_cnt + 1\n",
        "        rare_freq = rare_freq + value\n",
        "\n",
        "print('단어 집합(vocabulary)의 크기 :', total_cnt)\n",
        "print('등장 빈도가 %s번 이하인 희귀 단어의 수: %s'%(threshold - 1, rare_cnt))\n",
        "print('단어 집합에서 희귀 단어를 제외시킬 경우의 단어 집합의 크기 %s'%(total_cnt - rare_cnt))\n",
        "print(\"단어 집합에서 희귀 단어의 비율:\", (rare_cnt / total_cnt)*100)\n",
        "print(\"전체 등장 빈도에서 희귀 단어 등장 빈도 비율:\", (rare_freq / total_freq)*100)"
      ]
    },
    {
      "cell_type": "code",
      "execution_count": 40,
      "metadata": {
        "id": "Burw29MR6H-e",
        "colab": {
          "base_uri": "https://localhost:8080/"
        },
        "outputId": "a393d8b5-e14b-493e-ec0c-73be953354ee"
      },
      "outputs": [
        {
          "output_type": "stream",
          "name": "stdout",
          "text": [
            "=3\n"
          ]
        }
      ],
      "source": [
        "src_vocab = 18000\n",
        "src_tokenizer = Tokenizer(num_words=src_vocab) # 단어 집합의 크기를 18,000으로 제한\n",
        "src_tokenizer.fit_on_texts(encoder_input_train) # 단어 집합 재생성\n",
        "print('=3')"
      ]
    },
    {
      "cell_type": "code",
      "execution_count": 41,
      "metadata": {
        "id": "oEB_tYTF6jNw",
        "colab": {
          "base_uri": "https://localhost:8080/"
        },
        "outputId": "dc46d804-1c9b-4d26-ede5-bb659ca61a3f"
      },
      "outputs": [
        {
          "output_type": "stream",
          "name": "stdout",
          "text": [
            "[[92, 553, 2073, 173, 56, 260, 79, 72, 613, 2425, 388, 865, 2, 3610, 331, 1038, 97, 707, 1529, 1038, 97, 388, 865, 72, 1681, 943, 122, 707, 1529, 2034, 72, 260, 388, 865, 355, 2363, 72], [1396, 47, 14, 11259, 10704, 61, 7563, 746, 1335, 570, 1804, 1530, 1291, 269, 3573, 1176, 1335, 9, 4371, 935, 9300, 35, 15966, 48, 11565, 11566, 195, 3573, 1335, 347, 10704, 4723, 47, 14, 36, 827, 471, 1396, 286], [3805, 562, 433, 24, 288, 53, 6900, 254, 110, 145, 434, 343, 33, 101, 215, 522, 35, 127, 787, 1936, 7675, 68, 53, 1930, 288, 53, 357, 122, 277, 289, 254]]\n"
          ]
        }
      ],
      "source": [
        "# 텍스트 시퀀스를 정수 시퀀스로 변환\n",
        "encoder_input_train = src_tokenizer.texts_to_sequences(encoder_input_train) \n",
        "encoder_input_test = src_tokenizer.texts_to_sequences(encoder_input_test)\n",
        "\n",
        "# 잘 진행되었는지 샘플 출력\n",
        "print(encoder_input_train[:3])"
      ]
    },
    {
      "cell_type": "code",
      "execution_count": 42,
      "metadata": {
        "id": "j6kRn9kK6lGv",
        "colab": {
          "base_uri": "https://localhost:8080/"
        },
        "outputId": "21940e95-be97-4e6d-c732-a7d211253e5a"
      },
      "outputs": [
        {
          "output_type": "stream",
          "name": "stdout",
          "text": [
            "=3\n"
          ]
        }
      ],
      "source": [
        "tar_tokenizer = Tokenizer()\n",
        "tar_tokenizer.fit_on_texts(decoder_input_train)\n",
        "print('=3')"
      ]
    },
    {
      "cell_type": "code",
      "execution_count": 43,
      "metadata": {
        "id": "sdyK30Qz6otO",
        "colab": {
          "base_uri": "https://localhost:8080/"
        },
        "outputId": "94769c5c-07b2-48fe-f091-b44d353f8756"
      },
      "outputs": [
        {
          "output_type": "stream",
          "name": "stdout",
          "text": [
            "단어 집합(vocabulary)의 크기 : 69628\n",
            "등장 빈도가 5번 이하인 희귀 단어의 수: 45655\n",
            "단어 집합에서 희귀 단어를 제외시킬 경우의 단어 집합의 크기 23973\n",
            "단어 집합에서 희귀 단어의 비율: 65.56988567817544\n",
            "전체 등장 빈도에서 희귀 단어 등장 빈도 비율: 3.0136080482126584\n"
          ]
        }
      ],
      "source": [
        "threshold = 6\n",
        "total_cnt = len(tar_tokenizer.word_index) # 단어의 수\n",
        "rare_cnt = 0 # 등장 빈도수가 threshold보다 작은 단어의 개수를 카운트\n",
        "total_freq = 0 # 훈련 데이터의 전체 단어 빈도수 총 합\n",
        "rare_freq = 0 # 등장 빈도수가 threshold보다 작은 단어의 등장 빈도수의 총 합\n",
        "\n",
        "# 단어와 빈도수의 쌍(pair)을 key와 value로 받는다.\n",
        "for key, value in tar_tokenizer.word_counts.items():\n",
        "    total_freq = total_freq + value\n",
        "\n",
        "    # 단어의 등장 빈도수가 threshold보다 작으면\n",
        "    if(value < threshold):\n",
        "        rare_cnt = rare_cnt + 1\n",
        "        rare_freq = rare_freq + value\n",
        "\n",
        "print('단어 집합(vocabulary)의 크기 :', total_cnt)\n",
        "print('등장 빈도가 %s번 이하인 희귀 단어의 수: %s'%(threshold - 1, rare_cnt))\n",
        "print('단어 집합에서 희귀 단어를 제외시킬 경우의 단어 집합의 크기 %s'%(total_cnt - rare_cnt))\n",
        "print(\"단어 집합에서 희귀 단어의 비율:\", (rare_cnt / total_cnt)*100)\n",
        "print(\"전체 등장 빈도에서 희귀 단어 등장 빈도 비율:\", (rare_freq / total_freq)*100)"
      ]
    },
    {
      "cell_type": "markdown",
      "source": [
        "❤️"
      ],
      "metadata": {
        "id": "-vz3ZPWjlD3q"
      }
    },
    {
      "cell_type": "code",
      "execution_count": 44,
      "metadata": {
        "id": "RHGaltNk6s9L",
        "colab": {
          "base_uri": "https://localhost:8080/"
        },
        "outputId": "0e5badda-f9ed-40af-8829-e7cec569a85f"
      },
      "outputs": [
        {
          "output_type": "stream",
          "name": "stdout",
          "text": [
            "input\n",
            "input  [[1, 117, 630, 2397, 190, 80, 217, 113, 79, 643, 453, 989, 6, 421, 963, 121, 718, 1815, 963, 121, 453, 989, 79, 1775, 898, 149, 718, 1815, 2259, 79, 217, 453, 989, 485, 2492, 79], [1, 1368, 51, 21, 87, 856, 1396, 716, 2099, 1608, 1226, 323, 1210, 1396, 17, 1099, 55, 62, 258, 1396, 442, 51, 21, 45, 872, 561, 1368, 335], [1, 654, 544, 39, 380, 66, 327, 140, 174, 479, 329, 50, 86, 234, 671, 55, 145, 779, 1716, 93, 66, 2315, 380, 66, 457, 149, 281, 257, 327], [1, 1158, 1737, 840, 74, 805, 823, 372, 1134, 653, 499, 345, 118, 27, 278, 83, 2079, 206, 278, 20, 126, 1134, 1603, 82, 345, 118, 840, 1293, 17], [1, 441, 598, 19, 39, 673, 492, 51, 21, 1324, 371, 110, 195, 934, 384, 20, 989, 78, 37, 166, 241, 335, 409, 453, 989, 157, 24]]\n",
            "target\n",
            "decoder  [[217, 661, 1057, 643, 1080, 453, 989, 13, 963, 399, 718, 2], [1368, 54, 1210, 1396, 5, 2], [234, 244, 1246, 86, 1211, 1024, 2], [372, 1134, 76, 72, 27, 278, 5, 106, 68, 5, 126, 2], [2246, 187, 4, 157, 37, 2]]\n"
          ]
        }
      ],
      "source": [
        "tar_vocab = 2500\n",
        "tar_tokenizer = Tokenizer(num_words=tar_vocab) \n",
        "tar_tokenizer.fit_on_texts(decoder_input_train)\n",
        "tar_tokenizer.fit_on_texts(decoder_target_train)\n",
        "\n",
        "# 텍스트 시퀀스를 정수 시퀀스로 변환\n",
        "decoder_input_train = tar_tokenizer.texts_to_sequences(decoder_input_train) \n",
        "decoder_target_train = tar_tokenizer.texts_to_sequences(decoder_target_train)\n",
        "\n",
        "decoder_input_test = tar_tokenizer.texts_to_sequences(decoder_input_test)\n",
        "decoder_target_test = tar_tokenizer.texts_to_sequences(decoder_target_test)\n",
        "\n",
        "# 잘 변환되었는지 확인\n",
        "print('input')\n",
        "print('input ',decoder_input_train[:5])\n",
        "print('target')\n",
        "print('decoder ',decoder_target_train[:5])"
      ]
    },
    {
      "cell_type": "markdown",
      "source": [
        "❤️"
      ],
      "metadata": {
        "id": "w30QRESQJO8c"
      }
    },
    {
      "cell_type": "code",
      "source": [
        "type(decoder_input_train)\n"
      ],
      "metadata": {
        "id": "9YkmtoanNJCJ",
        "colab": {
          "base_uri": "https://localhost:8080/"
        },
        "outputId": "04f5a9fc-8654-4918-c5da-0b16cba4f427"
      },
      "execution_count": 45,
      "outputs": [
        {
          "output_type": "execute_result",
          "data": {
            "text/plain": [
              "list"
            ]
          },
          "metadata": {},
          "execution_count": 45
        }
      ]
    },
    {
      "cell_type": "code",
      "execution_count": 46,
      "metadata": {
        "id": "E0JbQ9Nh6vVa",
        "colab": {
          "base_uri": "https://localhost:8080/"
        },
        "outputId": "6b5bdab4-5a53-426c-9f07-b1e42140f3aa"
      },
      "outputs": [
        {
          "output_type": "stream",
          "name": "stdout",
          "text": [
            "삭제할 훈련 데이터의 개수 : 1\n",
            "삭제할 테스트 데이터의 개수 : 0\n",
            "\n",
            "\n",
            "훈련 데이터의 개수 : 78674\n",
            "훈련 레이블의 개수 : 78674\n",
            "\n",
            "\n",
            "테스트 데이터의 개수 : 19668\n",
            "테스트 레이블의 개수 : 19668\n"
          ]
        }
      ],
      "source": [
        "drop_train = [index for index, sentence in enumerate(decoder_input_train) if len(sentence) == 1]\n",
        "drop_test = [index for index, sentence in enumerate(decoder_input_test) if len(sentence) == 1]\n",
        "\n",
        "print('삭제할 훈련 데이터의 개수 :', len(drop_train))\n",
        "print('삭제할 테스트 데이터의 개수 :', len(drop_test))\n",
        "print('\\n')\n",
        "\n",
        "encoder_input_train = [sentence for index, sentence in enumerate(encoder_input_train) if index not in drop_train]\n",
        "decoder_input_train = [sentence for index, sentence in enumerate(decoder_input_train) if index not in drop_train]\n",
        "decoder_target_train = [sentence for index, sentence in enumerate(decoder_target_train) if index not in drop_train]\n",
        "\n",
        "encoder_input_test = [sentence for index, sentence in enumerate(encoder_input_test) if index not in drop_test]\n",
        "decoder_input_test = [sentence for index, sentence in enumerate(decoder_input_test) if index not in drop_test]\n",
        "decoder_target_test = [sentence for index, sentence in enumerate(decoder_target_test) if index not in drop_test]\n",
        "\n",
        "print('훈련 데이터의 개수 :', len(encoder_input_train))\n",
        "print('훈련 레이블의 개수 :', len(decoder_input_train))\n",
        "print('\\n')\n",
        "print('테스트 데이터의 개수 :', len(encoder_input_test))\n",
        "print('테스트 레이블의 개수 :', len(decoder_input_test))"
      ]
    },
    {
      "cell_type": "markdown",
      "metadata": {
        "id": "lv8qQZvm7IZM"
      },
      "source": [
        "### 2.패딩하기\n",
        "* pad_sequences()"
      ]
    },
    {
      "cell_type": "code",
      "execution_count": 47,
      "metadata": {
        "id": "KbBSmchN7J6R",
        "colab": {
          "base_uri": "https://localhost:8080/"
        },
        "outputId": "7dd37d52-8d37-488d-89ac-0f1078ea5472"
      },
      "outputs": [
        {
          "output_type": "stream",
          "name": "stdout",
          "text": [
            "=3\n"
          ]
        }
      ],
      "source": [
        "encoder_input_train = pad_sequences(encoder_input_train, maxlen=text_max_len, padding='post')\n",
        "encoder_input_test = pad_sequences(encoder_input_test, maxlen=text_max_len, padding='post')\n",
        "decoder_input_train = pad_sequences(decoder_input_train, maxlen=headlines_max_len, padding='post')\n",
        "decoder_target_train = pad_sequences(decoder_target_train, maxlen=headlines_max_len, padding='post')\n",
        "decoder_input_test = pad_sequences(decoder_input_test, maxlen=headlines_max_len, padding='post')\n",
        "decoder_target_test = pad_sequences(decoder_target_test, maxlen=headlines_max_len, padding='post')\n",
        "print('=3')"
      ]
    },
    {
      "cell_type": "markdown",
      "metadata": {
        "id": "rxl2Mn6a_48R"
      },
      "source": [
        "#3. 모델 디자인\n",
        "* 인코더 설계\n",
        "* 디코데 설계\n",
        "* 어텐션 메커니즘"
      ]
    },
    {
      "cell_type": "markdown",
      "metadata": {
        "id": "1aUKKuiWCBBR"
      },
      "source": [
        "###(1) 인코더 설계\n",
        "* 임베딩 벡터의 차원: 128, hidden state의 크기: 256 정의\n",
        "* LSTM: 총 3개의 층으로 구성\n",
        "* dropout: 레이어의 weight를 랜덤으로 생략하여 모델의 과적합(overfitting)을 해결해주는 방법\n",
        "* recurrent dropout: dropout을 레이어가 아닌 time step마다 해주는 방식. 즉 time step의 입력을 랜덤으로 생략\n",
        ">Variational Dropout: dropout과 recurrent dropout을 모두 사용한 것\n"
      ]
    },
    {
      "cell_type": "code",
      "execution_count": 48,
      "metadata": {
        "id": "B3RKtu80_-yT"
      },
      "outputs": [],
      "source": [
        "from tensorflow.keras.layers import Input, LSTM, Embedding, Dense, Concatenate, TimeDistributed\n",
        "from tensorflow.keras.models import Model\n",
        "from tensorflow.keras.callbacks import EarlyStopping, ModelCheckpoint\n",
        "\n",
        "\n",
        "# 인코더 설계 시작\n",
        "embedding_dim = 128\n",
        "hidden_size = 256\n",
        "\n",
        "# 인코더\n",
        "encoder_inputs = Input(shape=(text_max_len,))\n",
        "\n",
        "# 인코더의 임베딩 층\n",
        "enc_emb = Embedding(src_vocab, embedding_dim)(encoder_inputs)\n",
        "\n",
        "# 인코더의 LSTM 1\n",
        "# encoder_lstm1 = LSTM(hidden_size, return_sequences=True, return_state=True ,dropout = 0.4, recurrent_dropout = 0.4)\n",
        "encoder_lstm1 = LSTM(hidden_size, return_sequences=True, return_state=True ,dropout = 0.4)\n",
        "encoder_output1, state_h1, state_c1 = encoder_lstm1(enc_emb)\n",
        "\n",
        "# 인코더의 LSTM 2\n",
        "# encoder_lstm2 = LSTM(hidden_size, return_sequences=True, return_state=True, dropout=0.4, recurrent_dropout=0.4)\n",
        "encoder_lstm2 = LSTM(hidden_size, return_sequences=True, return_state=True, dropout=0.4)\n",
        "encoder_output2, state_h2, state_c2 = encoder_lstm2(encoder_output1)\n",
        "\n",
        "# 인코더의 LSTM 3\n",
        "# encoder_lstm3 = LSTM(hidden_size, return_state=True, return_sequences=True, dropout=0.4, recurrent_dropout=0.4)\n",
        "encoder_lstm3 = LSTM(hidden_size, return_state=True, return_sequences=True, dropout=0.4)\n",
        "encoder_outputs, state_h, state_c= encoder_lstm3(encoder_output2)"
      ]
    },
    {
      "cell_type": "markdown",
      "metadata": {
        "id": "XPrqjj44DVC8"
      },
      "source": [
        "### (2) 디코더 설계\n",
        "* initial_state의 인자값= 인코더의 hidden state와 cell state의 값"
      ]
    },
    {
      "cell_type": "code",
      "execution_count": 49,
      "metadata": {
        "id": "XKLXudCYDX7q"
      },
      "outputs": [],
      "source": [
        "# 디코더 설계\n",
        "decoder_inputs = Input(shape=(None,))\n",
        "\n",
        "# 디코더의 임베딩 층\n",
        "dec_emb_layer = Embedding(tar_vocab, embedding_dim)\n",
        "dec_emb = dec_emb_layer(decoder_inputs)\n",
        "\n",
        "# 디코더의 LSTM\n",
        "# decoder_lstm = LSTM(hidden_size, return_sequences=True, return_state=True, dropout=0.4, recurrent_dropout=0.2)\n",
        "decoder_lstm = LSTM(hidden_size, return_sequences=True, return_state=True, dropout=0.4)\n",
        "decoder_outputs, _, _ = decoder_lstm(dec_emb, initial_state=[state_h, state_c])"
      ]
    },
    {
      "cell_type": "code",
      "execution_count": 50,
      "metadata": {
        "id": "w6CRZ1ZPDbcn",
        "colab": {
          "base_uri": "https://localhost:8080/"
        },
        "outputId": "05e4064c-1f39-4caf-be71-026f1774de38"
      },
      "outputs": [
        {
          "output_type": "stream",
          "name": "stdout",
          "text": [
            "Model: \"model\"\n",
            "__________________________________________________________________________________________________\n",
            " Layer (type)                   Output Shape         Param #     Connected to                     \n",
            "==================================================================================================\n",
            " input_1 (InputLayer)           [(None, 50)]         0           []                               \n",
            "                                                                                                  \n",
            " embedding (Embedding)          (None, 50, 128)      2304000     ['input_1[0][0]']                \n",
            "                                                                                                  \n",
            " lstm (LSTM)                    [(None, 50, 256),    394240      ['embedding[0][0]']              \n",
            "                                 (None, 256),                                                     \n",
            "                                 (None, 256)]                                                     \n",
            "                                                                                                  \n",
            " input_2 (InputLayer)           [(None, None)]       0           []                               \n",
            "                                                                                                  \n",
            " lstm_1 (LSTM)                  [(None, 50, 256),    525312      ['lstm[0][0]']                   \n",
            "                                 (None, 256),                                                     \n",
            "                                 (None, 256)]                                                     \n",
            "                                                                                                  \n",
            " embedding_1 (Embedding)        (None, None, 128)    320000      ['input_2[0][0]']                \n",
            "                                                                                                  \n",
            " lstm_2 (LSTM)                  [(None, 50, 256),    525312      ['lstm_1[0][0]']                 \n",
            "                                 (None, 256),                                                     \n",
            "                                 (None, 256)]                                                     \n",
            "                                                                                                  \n",
            " lstm_3 (LSTM)                  [(None, None, 256),  394240      ['embedding_1[0][0]',            \n",
            "                                 (None, 256),                     'lstm_2[0][1]',                 \n",
            "                                 (None, 256)]                     'lstm_2[0][2]']                 \n",
            "                                                                                                  \n",
            " dense (Dense)                  (None, None, 2500)   642500      ['lstm_3[0][0]']                 \n",
            "                                                                                                  \n",
            "==================================================================================================\n",
            "Total params: 5,105,604\n",
            "Trainable params: 5,105,604\n",
            "Non-trainable params: 0\n",
            "__________________________________________________________________________________________________\n"
          ]
        }
      ],
      "source": [
        "# # 디코더의 출력층\n",
        "# decoder_softmax_layer = Dense(tar_vocab, activation='softmax')\n",
        "# decoder_softmax_outputs = decoder_softmax_layer(decoder_outputs) \n",
        "\n",
        "# # 모델 정의\n",
        "# model = Model([encoder_inputs, decoder_inputs], decoder_softmax_outputs)\n",
        "# model.summary()"
      ]
    },
    {
      "cell_type": "markdown",
      "metadata": {
        "id": "88raRzv_OxBd"
      },
      "source": [
        "###(3) 어텐션 메커니즘"
      ]
    },
    {
      "cell_type": "code",
      "source": [
        "from tensorflow.keras.layers import AdditiveAttention\n",
        "\n",
        "# 어텐션 층(어텐션 함수)\n",
        "attn_layer = AdditiveAttention(name='attention_layer')\n",
        "\n",
        "# 인코더와 디코더의 모든 time step의 hidden state를 어텐션 층에 전달하고 결과를 리턴\n",
        "attn_out = attn_layer([decoder_outputs, encoder_outputs])\n",
        "\n",
        "\n",
        "# 어텐션의 결과와 디코더의 hidden state들을 연결\n",
        "decoder_concat_input = Concatenate(axis=-1, name='concat_layer')([decoder_outputs, attn_out])\n",
        "\n",
        "# 디코더의 출력층\n",
        "decoder_softmax_layer = Dense(tar_vocab, activation='softmax')\n",
        "decoder_softmax_outputs = decoder_softmax_layer(decoder_concat_input)\n",
        "\n",
        "# 모델 정의\n",
        "model = Model([encoder_inputs, decoder_inputs], decoder_softmax_outputs)\n",
        "model.summary()"
      ],
      "metadata": {
        "id": "Frkx7VP7pV_P",
        "colab": {
          "base_uri": "https://localhost:8080/"
        },
        "outputId": "6af3094d-ad3f-40c7-e6da-b5a0bd0a4ed6"
      },
      "execution_count": 51,
      "outputs": [
        {
          "output_type": "stream",
          "name": "stdout",
          "text": [
            "Model: \"model_1\"\n",
            "__________________________________________________________________________________________________\n",
            " Layer (type)                   Output Shape         Param #     Connected to                     \n",
            "==================================================================================================\n",
            " input_1 (InputLayer)           [(None, 50)]         0           []                               \n",
            "                                                                                                  \n",
            " embedding (Embedding)          (None, 50, 128)      2304000     ['input_1[0][0]']                \n",
            "                                                                                                  \n",
            " lstm (LSTM)                    [(None, 50, 256),    394240      ['embedding[0][0]']              \n",
            "                                 (None, 256),                                                     \n",
            "                                 (None, 256)]                                                     \n",
            "                                                                                                  \n",
            " input_2 (InputLayer)           [(None, None)]       0           []                               \n",
            "                                                                                                  \n",
            " lstm_1 (LSTM)                  [(None, 50, 256),    525312      ['lstm[0][0]']                   \n",
            "                                 (None, 256),                                                     \n",
            "                                 (None, 256)]                                                     \n",
            "                                                                                                  \n",
            " embedding_1 (Embedding)        (None, None, 128)    320000      ['input_2[0][0]']                \n",
            "                                                                                                  \n",
            " lstm_2 (LSTM)                  [(None, 50, 256),    525312      ['lstm_1[0][0]']                 \n",
            "                                 (None, 256),                                                     \n",
            "                                 (None, 256)]                                                     \n",
            "                                                                                                  \n",
            " lstm_3 (LSTM)                  [(None, None, 256),  394240      ['embedding_1[0][0]',            \n",
            "                                 (None, 256),                     'lstm_2[0][1]',                 \n",
            "                                 (None, 256)]                     'lstm_2[0][2]']                 \n",
            "                                                                                                  \n",
            " attention_layer (AdditiveAtten  (None, None, 256)   256         ['lstm_3[0][0]',                 \n",
            " tion)                                                            'lstm_2[0][0]']                 \n",
            "                                                                                                  \n",
            " concat_layer (Concatenate)     (None, None, 512)    0           ['lstm_3[0][0]',                 \n",
            "                                                                  'attention_layer[0][0]']        \n",
            "                                                                                                  \n",
            " dense_1 (Dense)                (None, None, 2500)   1282500     ['concat_layer[0][0]']           \n",
            "                                                                                                  \n",
            "==================================================================================================\n",
            "Total params: 5,745,860\n",
            "Trainable params: 5,745,860\n",
            "Non-trainable params: 0\n",
            "__________________________________________________________________________________________________\n"
          ]
        }
      ]
    },
    {
      "cell_type": "markdown",
      "metadata": {
        "id": "XmeuCtH7Effe"
      },
      "source": [
        "#4. 모델 훈련 "
      ]
    },
    {
      "cell_type": "markdown",
      "metadata": {
        "id": "HPByepF5FIKc"
      },
      "source": [
        "* 설계 모델 훈련"
      ]
    },
    {
      "cell_type": "code",
      "execution_count": 52,
      "metadata": {
        "id": "_3KvUp83Epha",
        "colab": {
          "base_uri": "https://localhost:8080/"
        },
        "outputId": "8b6fa5f1-e479-4206-9fa0-f2dd51e49022"
      },
      "outputs": [
        {
          "output_type": "stream",
          "name": "stdout",
          "text": [
            "Epoch 1/50\n",
            "308/308 [==============================] - 36s 78ms/step - loss: 3.4072 - val_loss: 3.2449\n",
            "Epoch 2/50\n",
            "308/308 [==============================] - 22s 72ms/step - loss: 3.1488 - val_loss: 3.1075\n",
            "Epoch 3/50\n",
            "308/308 [==============================] - 22s 72ms/step - loss: 2.9840 - val_loss: 2.9590\n",
            "Epoch 4/50\n",
            "308/308 [==============================] - 22s 71ms/step - loss: 2.8646 - val_loss: 2.8686\n",
            "Epoch 5/50\n",
            "308/308 [==============================] - 22s 71ms/step - loss: 2.7770 - val_loss: 2.8271\n",
            "Epoch 6/50\n",
            "308/308 [==============================] - 22s 72ms/step - loss: 2.7030 - val_loss: 2.7584\n",
            "Epoch 7/50\n",
            "308/308 [==============================] - 22s 73ms/step - loss: 2.6402 - val_loss: 2.7472\n",
            "Epoch 8/50\n",
            "308/308 [==============================] - 22s 72ms/step - loss: 2.5832 - val_loss: 2.6999\n",
            "Epoch 9/50\n",
            "308/308 [==============================] - 22s 73ms/step - loss: 2.5324 - val_loss: 2.6832\n",
            "Epoch 10/50\n",
            "308/308 [==============================] - 22s 72ms/step - loss: 2.4863 - val_loss: 2.6570\n",
            "Epoch 11/50\n",
            "308/308 [==============================] - 22s 71ms/step - loss: 2.4442 - val_loss: 2.6432\n",
            "Epoch 12/50\n",
            "308/308 [==============================] - 22s 72ms/step - loss: 2.4051 - val_loss: 2.6363\n",
            "Epoch 13/50\n",
            "308/308 [==============================] - 22s 71ms/step - loss: 2.3695 - val_loss: 2.6309\n",
            "Epoch 14/50\n",
            "308/308 [==============================] - 22s 72ms/step - loss: 2.3357 - val_loss: 2.6350\n",
            "Epoch 15/50\n",
            "308/308 [==============================] - 22s 72ms/step - loss: 2.3026 - val_loss: 2.6204\n",
            "Epoch 16/50\n",
            "308/308 [==============================] - 23s 74ms/step - loss: 2.2733 - val_loss: 2.6342\n",
            "Epoch 17/50\n",
            "308/308 [==============================] - 22s 72ms/step - loss: 2.2451 - val_loss: 2.6209\n",
            "Epoch 17: early stopping\n"
          ]
        }
      ],
      "source": [
        "model.compile(optimizer='rmsprop', loss='sparse_categorical_crossentropy')\n",
        "es = EarlyStopping(monitor='val_loss', patience=2, verbose=1)\n",
        "history = model.fit(x=[encoder_input_train, decoder_input_train], y=decoder_target_train, \\\n",
        "          validation_data=([encoder_input_test, decoder_input_test], decoder_target_test), \\\n",
        "          batch_size=256, callbacks=[es], epochs=50)"
      ]
    },
    {
      "cell_type": "markdown",
      "metadata": {
        "id": "xAD4tD0GE5hw"
      },
      "source": [
        "* 훈련 데이터  손실과  검증 데이터 손실 줄어드는 과정 시각화"
      ]
    },
    {
      "cell_type": "code",
      "execution_count": 53,
      "metadata": {
        "id": "pBKlGPTKEqin",
        "colab": {
          "base_uri": "https://localhost:8080/",
          "height": 265
        },
        "outputId": "f4f8d021-f28b-4d68-f668-e900c70caee9"
      },
      "outputs": [
        {
          "output_type": "display_data",
          "data": {
            "text/plain": [
              "<Figure size 432x288 with 1 Axes>"
            ],
            "image/png": "[encoded data removed]"
          },
          "metadata": {
            "needs_background": "light"
          }
        }
      ],
      "source": [
        "plt.plot(history.history['loss'], label='train')\n",
        "plt.plot(history.history['val_loss'], label='test')\n",
        "plt.legend()\n",
        "plt.show()"
      ]
    },
    {
      "cell_type": "markdown",
      "source": [
        "#5. 추론모델 구현"
      ],
      "metadata": {
        "id": "bR2V3nLOWV4V"
      }
    },
    {
      "cell_type": "markdown",
      "source": [
        "❤️ 한번더 보고 다시 이해하기 "
      ],
      "metadata": {
        "id": "fRnyUdWBg83Z"
      }
    },
    {
      "cell_type": "code",
      "source": [
        "src_index_to_word = src_tokenizer.index_word # 원문 단어 집합에서 정수 -> 단어를 얻음\n",
        "tar_word_to_index = tar_tokenizer.word_index # 요약 단어 집합에서 단어 -> 정수를 얻음\n",
        "tar_index_to_word = tar_tokenizer.index_word # 요약 단어 집합에서 정수 -> 단어를 얻음\n",
        "\n",
        "print('=3')"
      ],
      "metadata": {
        "id": "EWrnEEinWa2E"
      },
      "execution_count": null,
      "outputs": []
    },
    {
      "cell_type": "code",
      "source": [
        "# 인코더 설계\n",
        "encoder_model = Model(inputs=encoder_inputs, outputs=[encoder_outputs, state_h, state_c])\n",
        "\n",
        "# 이전 시점의 상태들을 저장하는 텐서\n",
        "decoder_state_input_h = Input(shape=(hidden_size,))\n",
        "decoder_state_input_c = Input(shape=(hidden_size,))\n",
        "\n",
        "dec_emb2 = dec_emb_layer(decoder_inputs)\n",
        "\n",
        "# 문장의 다음 단어를 예측하기 위해서 초기 상태(initial_state)를 이전 시점의 상태로 사용. 이는 뒤의 함수 decode_sequence()에 구현\n",
        "# 훈련 과정에서와 달리 LSTM의 리턴하는 은닉 상태와 셀 상태인 state_h와 state_c를 버리지 않음.\n",
        "decoder_outputs2, state_h2, state_c2 = decoder_lstm(dec_emb2, initial_state=[decoder_state_input_h, decoder_state_input_c])\n",
        "\n",
        "print('=3')"
      ],
      "metadata": {
        "colab": {
          "base_uri": "https://localhost:8080/"
        },
        "id": "qcVkrRHhXD_V",
        "outputId": "f5992565-800a-4533-85eb-3a3403fd2a37"
      },
      "execution_count": 55,
      "outputs": [
        {
          "output_type": "stream",
          "name": "stdout",
          "text": [
            "=3\n"
          ]
        }
      ]
    },
    {
      "cell_type": "code",
      "source": [
        "# 어텐션 함수\n",
        "decoder_hidden_state_input = Input(shape=(text_max_len, hidden_size))\n",
        "attn_out_inf = attn_layer([decoder_outputs2, decoder_hidden_state_input])\n",
        "decoder_inf_concat = Concatenate(axis=-1, name='concat')([decoder_outputs2, attn_out_inf])\n",
        "\n",
        "# 디코더의 출력층\n",
        "decoder_outputs2 = decoder_softmax_layer(decoder_inf_concat) \n",
        "\n",
        "# 최종 디코더 모델\n",
        "decoder_model = Model(\n",
        "    [decoder_inputs] + [decoder_hidden_state_input,decoder_state_input_h, decoder_state_input_c],\n",
        "    [decoder_outputs2] + [state_h2, state_c2])\n",
        "\n",
        "print('=3')"
      ],
      "metadata": {
        "colab": {
          "base_uri": "https://localhost:8080/"
        },
        "id": "eNkniwS9XwTZ",
        "outputId": "d6613ae1-e805-40b5-f0ad-e6f42eebfbc1"
      },
      "execution_count": 56,
      "outputs": [
        {
          "output_type": "stream",
          "name": "stdout",
          "text": [
            "=3\n"
          ]
        }
      ]
    },
    {
      "cell_type": "code",
      "source": [
        "def decode_sequence(input_seq):\n",
        "    # 입력으로부터 인코더의 상태를 얻음\n",
        "    e_out, e_h, e_c = encoder_model.predict(input_seq)\n",
        "\n",
        "     # <SOS>에 해당하는 토큰 생성\n",
        "    target_seq = np.zeros((1,1))\n",
        "\n",
        "    target_seq[0, 0] = tar_word_to_index['sostoken']\n",
        "\n",
        "    stop_condition = False\n",
        "    decoded_sentence = ''\n",
        "    while not stop_condition: # stop_condition이 True가 될 때까지 루프 반복\n",
        "\n",
        "        output_tokens, h, c = decoder_model.predict([target_seq] + [e_out, e_h, e_c])\n",
        "        sampled_token_index = np.argmax(output_tokens[0, -1, :])\n",
        "        if sampled_token_index != 0:\n",
        "          sampled_token = tar_index_to_word[sampled_token_index]\n",
        "\n",
        "        if (sampled_token!='eostoken'):\n",
        "            decoded_sentence += ' '+sampled_token\n",
        "\n",
        "        #  <eos>에 도달하거나 최대 길이를 넘으면 중단.\n",
        "        if (sampled_token == 'eostoken'  or len(decoded_sentence.split()) >= (headlines_max_len-1)):\n",
        "            stop_condition = True\n",
        "\n",
        "        # 길이가 1인 타겟 시퀀스를 업데이트\n",
        "        target_seq = np.zeros((1,1))\n",
        "        target_seq[0, 0] = sampled_token_index\n",
        "\n",
        "        # 상태를 업데이트 합니다.\n",
        "        e_h, e_c = h, c\n",
        "\n",
        "    return decoded_sentence\n",
        "print('=3')"
      ],
      "metadata": {
        "colab": {
          "base_uri": "https://localhost:8080/"
        },
        "id": "KpW8ausAYHuS",
        "outputId": "6a6eae84-fe90-4e90-bf06-4e9cd3e48b6c"
      },
      "execution_count": 62,
      "outputs": [
        {
          "output_type": "stream",
          "name": "stdout",
          "text": [
            "=3\n"
          ]
        }
      ]
    },
    {
      "cell_type": "markdown",
      "source": [
        "#6. 모델 테스팅"
      ],
      "metadata": {
        "id": "PGCd6kW3WdBq"
      }
    },
    {
      "cell_type": "code",
      "source": [
        "# 원문의 정수 시퀀스를 텍스트 시퀀스로 변환\n",
        "def seq2text(input_seq):\n",
        "    temp=''\n",
        "    for i in input_seq:\n",
        "        if (i!=0):\n",
        "            temp = temp + src_index_to_word[i]+' '\n",
        "    return temp\n",
        "\n",
        "# 요약문의 정수 시퀀스를 텍스트 시퀀스로 변환\n",
        "def seq2summary(input_seq):\n",
        "    temp=''\n",
        "    for i in input_seq:\n",
        "        if ((i!=0 and i!=tar_word_to_index['sostoken']) and i!=tar_word_to_index['eostoken']):\n",
        "            temp = temp + tar_index_to_word[i] + ' '\n",
        "    return temp\n",
        "\n",
        "print('=3')"
      ],
      "metadata": {
        "colab": {
          "base_uri": "https://localhost:8080/"
        },
        "id": "eoGOLXrsWe5x",
        "outputId": "94c3b8df-a148-49f8-c1dc-0c3ca69fd8bd"
      },
      "execution_count": 58,
      "outputs": [
        {
          "output_type": "stream",
          "name": "stdout",
          "text": [
            "=3\n"
          ]
        }
      ]
    },
    {
      "cell_type": "code",
      "source": [
        "for i in range(50, 100):\n",
        "    print(\"원문 :\", seq2text(encoder_input_test[i]))\n",
        "    print(\"실제 요약 :\", seq2summary(decoder_input_test[i]))\n",
        "    print(\"예측 요약 :\", decode_sequence(encoder_input_test[i].reshape(1, text_max_len)))\n",
        "    print(\"\\n\")"
      ],
      "metadata": {
        "colab": {
          "base_uri": "https://localhost:8080/"
        },
        "id": "N6P3pexzYRlR",
        "outputId": "7ff998c8-3f17-4ac4-fb58-7fbed61cc76c"
      },
      "execution_count": 63,
      "outputs": [
        {
          "output_type": "stream",
          "name": "stdout",
          "text": [
            "원문 : commonwealth puerto rico seeking largest municipal bankruptcy filing us history failed negotiations creditors billion debt crisis four times debt detroit collapsed notably announcement came day major creditors sued puerto rico bonds \n",
            "실제 요약 : history failed billion debt crisis four times debt collapsed notably announcement came day major sued \n",
            "예측 요약 :  govt to in\n",
            "\n",
            "\n",
            "원문 : union minister social justice gehlot said least beggars india lakshadweep two west bengal maximum number beggars uttar pradesh stood second position beggars nagar daman respectively \n",
            "실제 요약 : social justice said least india two west bengal maximum number uttar pradesh second position respectively \n",
            "예측 요약 :  union in in in\n",
            "\n",
            "\n",
            "원문 : delhi police training local residents working use technology smartphones spy cameras receive better information suspicious people reports said stating eyes ears scheme helped solving thousands cases police said brief wanted criminals ask click pictures using cameras \n",
            "실제 요약 : people reports said stating scheme helped thousands cases police said wanted ask pictures using cameras \n",
            "예측 요약 :  delhi police to to to to\n",
            "\n",
            "\n",
            "원문 : brother martyred soldier singh whose body mutilated pakistan army urged centre go war pakistan solution chance issue sorted dialogue even tried added slain soldier body cremated tuesday \n",
            "실제 요약 : body pakistan army urged centre go war pakistan chance issue even tried added body tuesday \n",
            "예측 요약 :  will not not not army\n",
            "\n",
            "\n",
            "원문 : congress leader pl punia press conference party president rahul claimed witnessed arun jaitley vijay mallya talking parliament complex march punia added meeting lasted minutes proof could obtained cctv footage punia said would quit politics proven otherwise \n",
            "실제 요약 : vijay mallya talking parliament march added meeting minutes could cctv footage said would quit politics \n",
            "예측 요약 :  rahul has to congress congress congress congress\n",
            "\n",
            "\n",
            "원문 : amazon employees signed letter urging ceo jeff bezos stop sale company facial recognition software police forces country companies like business facilitating authoritarian surveillance ever letter read know bezos aware concerns letter states \n",
            "실제 요약 : software police forces country companies like business ever letter read know bezos concerns letter states \n",
            "예측 요약 :  amazon to to to to to to\n",
            "\n",
            "\n",
            "원문 : uttar pradesh cm yogi adityanath saturday took launch cleanliness drive lucknow slum encourage people keep cities clean adityanath cleaned metre stretch road minister suresh khanna said drives would conducted first month various parts state \n",
            "실제 요약 : clean adityanath metre road minister suresh khanna said would conducted first month various parts state \n",
            "예측 요약 :  up cm yogi to to in in in in in in in in in\n",
            "\n",
            "\n",
            "원문 : social media giant facebook bought artificial intelligence startup undisclosed amount boost ai system startup help facebook messenger build virtual assistant users comes facebook shut one artificial intelligence systems programmed english started speaking language \n",
            "실제 요약 : facebook build assistant users comes facebook shut one artificial intelligence systems english started speaking language \n",
            "예측 요약 :  facebook ai ai ai ai ai\n",
            "\n",
            "\n",
            "원문 : sbi chairperson arundhati bhattacharya said treated criminal india treated criminal permission failures failures take place said bhattacharya said loans given gdp growth high expecting accounts would turn bad \n",
            "실제 요약 : treated criminal permission take place said said loans given growth high accounts would turn bad \n",
            "예측 요약 :  govt not not to of\n",
            "\n",
            "\n",
            "원문 : manipur congress mla resigned political party joined ruling bjp elected constituency district congress ticket recent state assembly polls seat assembly congress secured seats bjp seats formed government support mlas \n",
            "실제 요약 : ticket recent state assembly polls seat assembly congress seats bjp seats formed government support mlas \n",
            "예측 요약 :  bjp congress congress congress congress\n",
            "\n",
            "\n",
            "원문 : reynolds known films like nights passed away age thursday florida cause death reportedly arrest nominated oscar nights emmy tv series evening shade opened reynolds jupiter theatre \n",
            "실제 요약 : known films like passed away age thursday cause death reportedly arrest tv series opened \n",
            "예측 요약 :  passes passes away away\n",
            "\n",
            "\n",
            "원문 : arunachal pradesh disaster management department sanctioned lakh lost houses recent floods sub division east district relief assistance would deposited bank accounts disaster management secretary director mla earlier visited flood affected villages sub division \n",
            "실제 요약 : floods east district relief would bank accounts management secretary director mla earlier visited flood affected \n",
            "예측 요약 :  crore in in in in in\n",
            "\n",
            "\n",
            "원문 : lasting minutes july full moon would present longest total lunar eclipse st century event would primarily visible india africa middle east australia europe reason behind long duration moon would pass directly centre earth shadow earth moon earth sun would farthest apart \n",
            "실제 요약 : australia europe reason behind long moon would pass centre earth earth moon earth sun would \n",
            "예측 요약 :  moon moon the moon moon moon moon moon moon moon moon moon moon moon\n",
            "\n",
            "\n",
            "원문 : uttar pradesh chief minister yogi adityanath saturday denied killing apple executive vivek tewari encounter asserted probe handed central bureau investigation required part probe incident special investigation team formed superintendent police \n",
            "실제 요약 : executive encounter probe handed central investigation required part probe incident special investigation team formed police \n",
            "예측 요약 :  up cm cm to to cm cm cm cm cm cm cm cm cm\n",
            "\n",
            "\n",
            "원문 : finance minister arun jaitley thursday said india likely surpass uk become world fifth largest economy next year india gross domestic product valued trillion end overtaking france however france gdp per capita roughly times higher india due size population \n",
            "실제 요약 : domestic product valued trillion end france however france per times higher india due size population \n",
            "예측 요약 :  india to to economy economy economy economy economy\n",
            "\n",
            "\n",
            "원문 : firefighters forced rescue year old chinese woman tried locked apartment woman said borrowed rope wind locked door enough money afford arms enough strength eat morning added \n",
            "실제 요약 : rescue year old chinese woman tried woman said door enough money arms enough morning added \n",
            "예측 요약 :  woman woman woman woman woman woman\n",
            "\n",
            "\n",
            "원문 : following usain bolt last solo race career user tweeted think gonna watch olympics another tweet read career bolt finally complete defeat thing missing enduring experience soul meanwhile another user wrote thanks memories years \n",
            "실제 요약 : olympics another tweet read career complete defeat thing missing experience meanwhile another user wrote years \n",
            "예측 요약 :  twitter tweets tweets tweets tweets\n",
            "\n",
            "\n",
            "원문 : month old german considered friendly work police dog australia given government position police said display necessary life front line relocated ceremonial position queensland governor paul de jersey became fond \n",
            "실제 요약 : dog australia given government position police said display life front line position governor de became \n",
            "예측 요약 :  man man man in in in\n",
            "\n",
            "\n",
            "원문 : pune match india new zealand today th odi two nations india encounters new zealand lost times new zealand become fifth international side sri lanka pakistan australia windies played odis india \n",
            "실제 요약 : times new zealand become fifth international side sri lanka pakistan australia windies played odis india \n",
            "예측 요약 :  india beat australia odi odi odi odi\n",
            "\n",
            "\n",
            "원문 : talking half sister janhvi kapoor upcoming debut film dhadak actor arjun kapoor said hope expectations dhadak adding janhvi wants good work arjun said someone passionate wants entertain audience work \n",
            "실제 요약 : actor arjun kapoor said hope adding janhvi wants good work arjun said someone wants work \n",
            "예측 요약 :  cannot is janhvi janhvi janhvi janhvi janhvi janhvi\n",
            "\n",
            "\n",
            "원문 : gujarat lions skipper suresh raina expressed disappointment manner ms dhoni removed rising pune supergiant captaincy start ipl done well country well ipl teams respected every time saying world saying said raina \n",
            "실제 요약 : pune start ipl done well country well ipl teams every time saying world saying said \n",
            "예측 요약 :  csk in in csk\n",
            "\n",
            "\n",
            "원문 : six inch piece thermal lining belly space shuttle stolen exhibit nasa kennedy space center weekend never part space flight used training purposes nasa security asked people report local authorities leads \n",
            "실제 요약 : nasa space never part space flight used training nasa security asked people report local authorities \n",
            "예측 요약 :  to space space space space space space space space space space space space space\n",
            "\n",
            "\n",
            "원문 : os colombia largest drug gang put bounty million colombian police dog kgs cocaine german moved gang operating centre airport ensure safety work led capture people \n",
            "실제 요약 : put million police dog german moved gang operating centre airport ensure safety work led people \n",
            "예측 요약 :  drug for drugs drugs drugs\n",
            "\n",
            "\n",
            "원문 : trailer upcoming psychological horror thriller film mother starring oscar winning actress jennifer lawrence released compete year venice film festival film directed darren known directing oscar nominated movie black swan also starring javier michelle mother release september \n",
            "실제 요약 : actress released year film festival film directed known movie black also starring mother release september \n",
            "예측 요약 :  trailer of of released released released released released released released released released released released\n",
            "\n",
            "\n",
            "원문 : according research amazon india currently worth billion amount walmart investing flipkart exchange stake company report claims amazon market share local competitor flipkart also expected reach billion revenue \n",
            "실제 요약 : exchange stake company report claims amazon market share local flipkart also expected reach billion revenue \n",
            "예측 요약 :  amazon amazon amazon amazon amazon amazon amazon amazon amazon amazon amazon amazon amazon amazon\n",
            "\n",
            "\n",
            "원문 : prime minister narendra modi sunday said days khadi nation came see khadi fashion india moving towards khadi transformation addressing nation mann ki baat pm modi added hike sale khadi products comparison last year \n",
            "실제 요약 : fashion india moving towards addressing nation ki pm modi added hike sale products last year \n",
            "예측 요약 :  pm modi to to to to pm pm modi modi modi modi modi modi\n",
            "\n",
            "\n",
            "원문 : republic release limited edition lord krishna silver coin th birth anniversary hindu god officials said saturday coins made available sale indian market designer coin said coins priced \n",
            "실제 요약 : th birth anniversary hindu god officials said saturday made available sale indian market designer said \n",
            "예측 요약 :  rao of the\n",
            "\n",
            "\n",
            "원문 : russian authorities stopped mexican football fans currently visiting country fifa world cup holding day dead themed parade moscow red square opposition lawmakers opposed dressing people skeletons parade held honour dead loved ones tomb soviet founder vladimir lenin situated square \n",
            "실제 요약 : world cup holding day dead red square opposition people held honour dead founder vladimir square \n",
            "예측 요약 :  russian fans fans fans cup fans\n",
            "\n",
            "\n",
            "원문 : technology giant apple reportedly working high end version wireless airpods noise cancellation water resistant technology according reports updated airpods would come new case compatible apple new wireless charging pad reports suggested airpods expected launch sometime \n",
            "실제 요약 : water technology according reports would come new case apple new charging reports suggested expected launch \n",
            "예측 요약 :  apple to to to\n",
            "\n",
            "\n",
            "원문 : mumbai police conducted raid illegal dance bar disguised bar rescued women hidden like room wednesday police arrested people bar owner booked attempt commit culpable homicide women sent shelter city \n",
            "실제 요약 : women like room wednesday police arrested people bar owner booked attempt women sent shelter city \n",
            "예측 요약 :  police police police in in\n",
            "\n",
            "\n",
            "원문 : indian cricket team captain virat kohli world champion weightlifter chanu receive rajiv gandhi khel ratna country highest sporting honour september kohli currently top ranked test batsman world chanu gold commonwealth games earlier year meanwhile javelin thrower neeraj chopra given arjuna award \n",
            "실제 요약 : currently top ranked test batsman world gold commonwealth games earlier year meanwhile chopra given award \n",
            "예측 요약 :  virat kohli to in\n",
            "\n",
            "\n",
            "원문 : breakthrough listen million alien hunting initiative launched stephen hawking detected fast radio bursts emanating galaxy billion light years away signals galaxy first detected australia based telescopes helped location possible sources radio bursts range neutron stars alien spacecraft \n",
            "실제 요약 : initiative launched fast billion light years away first australia based helped location possible range stars \n",
            "예측 요약 :  million makes\n",
            "\n",
            "\n",
            "원문 : japanese sushi restaurant chain owner set record paying million endangered year first auction tokyo new fish market bought kg fish twice previous record million paid bought good said \n",
            "실제 요약 : year first auction new market bought kg twice previous record million paid bought good said \n",
            "예측 요약 :  japanese man sold sold crore crore\n",
            "\n",
            "\n",
            "원문 : self styled radhe maa interview said change lifestyle world asked people problem wears clothes fake jewellery adding lifestyle radhe maa added durga special person father dear daughter laws maa \n",
            "실제 요약 : change world asked people problem clothes fake jewellery adding added special person father daughter laws \n",
            "예측 요약 :  am is is on\n",
            "\n",
            "\n",
            "원문 : us withdrew iran nuclear deal us national security advisor john bolton said country could impose sanctions european companies continue trade iran depends conduct governments added international sanctions iran lifted agreed restrictions nuclear programme \n",
            "실제 요약 : could sanctions european companies continue trade iran conduct added international sanctions iran agreed nuclear programme \n",
            "예측 요약 :  us deal not deal nuclear deal iran\n",
            "\n",
            "\n",
            "원문 : us blood testing startup ceo elizabeth holmes agreed pay settle charges raised million fraudulently regulators said holmes former president ramesh sunny made false statements company technology financial performance claimed developed device conducted blood tests drops \n",
            "실제 요약 : former president sunny made false company technology financial performance claimed developed device conducted blood tests \n",
            "예측 요약 :  apple pay pay pay pay pay pay pay pay pay pay pay pay pay\n",
            "\n",
            "\n",
            "원문 : parker solar probe launched sunday require times energy touch sun compared mission towards mars per nasa need cancel motion earth orbits sun one lakh kmph become fastest ever man made object clocking nearly lakh kmph \n",
            "실제 요약 : need motion earth sun one lakh kmph become fastest ever man made nearly lakh kmph \n",
            "예측 요약 :  which to to to to to sun sun sun sun sun sun sun sun\n",
            "\n",
            "\n",
            "원문 : american rapper kanye west revealed use picture late mother west plastic surgeon new album cover wrote plastic surgeon jan adams person performed mom final surgery want forgive stop kanye mother died aged cosmetic surgery performed adams \n",
            "실제 요약 : new cover wrote plastic person performed final surgery want stop mother died aged surgery performed \n",
            "예측 요약 :  shares pic plastic plastic plastic plastic\n",
            "\n",
            "\n",
            "원문 : shilpa shetty said struggle land films started mid way towards career adding people started glamorous roles like glamour dolls said seen highs never gave notably shilpa shetty completed years bollywood year \n",
            "실제 요약 : adding people started roles like said seen never gave notably shetty completed years bollywood year \n",
            "예측 요약 :  was is in in\n",
            "\n",
            "\n",
            "원문 : indian shuttlers parupalli kashyap hs prannoy earned victories friday enter men singles semi finals us open grand prix gold badminton prannoy face vietnamese veteran th seed kashyap play south korea \n",
            "실제 요약 : friday enter men semi finals us open grand gold face veteran th play south korea \n",
            "예측 요약 :  india india to in in\n",
            "\n",
            "\n",
            "원문 : migrant girl pictured crying us mexico border separated mother man claiming father said detained mother town separated detention time cover featured girl viral image us president donald trump criticising separation migrant families \n",
            "실제 요약 : said detained mother town time cover featured girl viral image us president donald trump families \n",
            "예측 요약 :  russian old son son son son son son son son son son son son\n",
            "\n",
            "\n",
            "원문 : american sprinter ran fastest metre race year clinch us national title year old florida born athlete clocked seconds final equalling mike world leading time seconds semi finals also holds joint quickest time clocking last month \n",
            "실제 요약 : born seconds final world leading time seconds semi finals also holds joint time last month \n",
            "예측 요약 :  man sets sets record record record\n",
            "\n",
            "\n",
            "원문 : british actress anthony told police producer harvey weinstein raped said weinstein began stalking meeting turned unannounced house pushed inside rammed coat trying kiss finally gave added recalling ordeal \n",
            "실제 요약 : british actress told police producer raped said began meeting turned house inside trying gave added \n",
            "예측 요약 :  was not to to\n",
            "\n",
            "\n",
            "원문 : uttar pradesh irrigation department clean upper ganga canal september october may lead shortage drinking water noida residents reports said million litres water used noida residents daily million litres procured ganga noida authority said groundwater procured meet water demand \n",
            "실제 요약 : reports said million water used noida residents daily million noida authority said meet water demand \n",
            "예측 요약 :  up to to to to to to\n",
            "\n",
            "\n",
            "원문 : ahead assembly elections madhya pradesh candidate rashtriya party seen voters shoes please sharad singh kumar contesting election symbol shoe said make use unique election symbol turn blessing one willing take symbol added \n",
            "실제 요약 : candidate party seen please singh kumar election said make use election turn one take added \n",
            "예측 요약 :  congress party to to elections\n",
            "\n",
            "\n",
            "원문 : ex england football team captain david beckham took social media share video breaking son surprised birthday london restaurant wednesday best birthday surprise big boy coming home beckham captioned video beckham heard repeatedly asking \n",
            "실제 요약 : son birthday london restaurant wednesday best birthday big boy coming home captioned video heard asking \n",
            "예측 요약 :  shares shares son son son son son son son son son son son son\n",
            "\n",
            "\n",
            "원문 : japanese researcher shared video shows crispr cas gene editing technique cut dna yellow shows dna cutting enzyme cas brown coloured dna strands crispr far used change flower colour eliminate hiv animals remove gene causes heart disease human embryos \n",
            "실제 요약 : video shows cut dna shows dna dna far used change colour animals remove heart human \n",
            "예측 요약 :  scientists scientists to to to to human\n",
            "\n",
            "\n",
            "원문 : maria sharapova responded canadian tennis player remarks latter called anything say way sharapova said think sport allowed play sport said sharapova return doping ban \n",
            "실제 요약 : tennis player remarks latter called anything say way said think allowed play said return ban \n",
            "예측 요약 :  am not on on\n",
            "\n",
            "\n",
            "원문 : finance secretary hasmukh adhia tuesday said gst change game people businesses avoid paying taxes talking assured gst benefit long run adhia added delay refunds arose incorrect filing returns along technological problems \n",
            "실제 요약 : game people businesses avoid paying talking gst long run added delay filing returns along problems \n",
            "예측 요약 :  gst council tax tax tax tax tax gst gst\n",
            "\n",
            "\n",
            "원문 : veteran telugu director actor narayana rao passed away tuesday hyderabad age prolonged illness two time national award winning filmmaker directed films known films like tata notably said hold record directing number films \n",
            "실제 요약 : award winning filmmaker directed films known films like tata notably said hold record number films \n",
            "예측 요약 :  veteran passes away at\n",
            "\n",
            "\n"
          ]
        }
      ]
    },
    {
      "cell_type": "markdown",
      "source": [
        "#7. 추상 요약"
      ],
      "metadata": {
        "id": "ZihyE9o6Wg7X"
      }
    },
    {
      "cell_type": "code",
      "source": [
        "! pip install summa"
      ],
      "metadata": {
        "colab": {
          "base_uri": "https://localhost:8080/"
        },
        "id": "D1d-nbEiaOYs",
        "outputId": "adf80461-a51e-4ff9-954d-41ecfad7b029"
      },
      "execution_count": 65,
      "outputs": [
        {
          "output_type": "stream",
          "name": "stdout",
          "text": [
            "Looking in indexes: https://pypi.org/simple, https://us-python.pkg.dev/colab-wheels/public/simple/\n",
            "Collecting summa\n",
            "  Downloading summa-1.2.0.tar.gz (54 kB)\n",
            "\u001b[K     |████████████████████████████████| 54 kB 2.3 MB/s \n",
            "\u001b[?25hRequirement already satisfied: scipy>=0.19 in /usr/local/lib/python3.7/dist-packages (from summa) (1.7.3)\n",
            "Requirement already satisfied: numpy<1.23.0,>=1.16.5 in /usr/local/lib/python3.7/dist-packages (from scipy>=0.19->summa) (1.21.6)\n",
            "Building wheels for collected packages: summa\n",
            "  Building wheel for summa (setup.py) ... \u001b[?25l\u001b[?25hdone\n",
            "  Created wheel for summa: filename=summa-1.2.0-py3-none-any.whl size=54412 sha256=0b29434e6c8e3bd2d9c5c61be872d1c88c895225820509deb5d5e5feb393c44c\n",
            "  Stored in directory: /root/.cache/pip/wheels/29/64/ac/7b443477588d365ef37ada30d456bdf5f07dc5be9f6324cb6e\n",
            "Successfully built summa\n",
            "Installing collected packages: summa\n",
            "Successfully installed summa-1.2.0\n"
          ]
        }
      ]
    },
    {
      "cell_type": "code",
      "source": [
        "from summa.summarizer import summarize"
      ],
      "metadata": {
        "id": "MS1WI4o-Wjn0"
      },
      "execution_count": 78,
      "outputs": []
    },
    {
      "cell_type": "code",
      "source": [
        "print('Sentence:')\n",
        "print(data.text[0])\n",
        "\n",
        "print('Summary:')\n",
        "print(summarize(data.text[0], ratio=0.5))\n",
        "\n",
        "print('Headline')\n",
        "print(data.headlines[0])\n"
      ],
      "metadata": {
        "colab": {
          "base_uri": "https://localhost:8080/"
        },
        "id": "murqOFiraJl1",
        "outputId": "148d6e42-760b-4e7e-e58f-b36c5f231507"
      },
      "execution_count": 83,
      "outputs": [
        {
          "output_type": "stream",
          "name": "stdout",
          "text": [
            "Sentence:\n",
            "Saurav Kant, an alumnus of upGrad and IIIT-B's PG Program in Machine learning and Artificial Intelligence, was a Sr Systems Engineer at Infosys with almost 5 years of work experience. The program and upGrad's 360-degree career support helped him transition to a Data Scientist at Tech Mahindra with 90% salary hike. upGrad's Online Power Learning has powered 3 lakh+ careers.\n",
            "Summary:\n",
            "upGrad's Online Power Learning has powered 3 lakh+ careers.\n",
            "Headline\n",
            "upGrad learner switches to career in ML & Al with 90% salary hike\n"
          ]
        }
      ]
    },
    {
      "cell_type": "code",
      "source": [
        "type(data.text)"
      ],
      "metadata": {
        "colab": {
          "base_uri": "https://localhost:8080/"
        },
        "id": "daqFmj9_arM7",
        "outputId": "35bf00f5-b4cb-4af0-ef0b-6078c96526c8"
      },
      "execution_count": 70,
      "outputs": [
        {
          "output_type": "execute_result",
          "data": {
            "text/plain": [
              "pandas.core.series.Series"
            ]
          },
          "metadata": {},
          "execution_count": 70
        }
      ]
    },
    {
      "cell_type": "code",
      "source": [
        "data.text[0]"
      ],
      "metadata": {
        "colab": {
          "base_uri": "https://localhost:8080/",
          "height": 107
        },
        "id": "0EqzSDs5a2z6",
        "outputId": "f79bf586-c501-47fb-e5ff-a397c8b23fe4"
      },
      "execution_count": 73,
      "outputs": [
        {
          "output_type": "execute_result",
          "data": {
            "text/plain": [
              "\"Saurav Kant, an alumnus of upGrad and IIIT-B's PG Program in Machine learning and Artificial Intelligence, was a Sr Systems Engineer at Infosys with almost 5 years of work experience. The program and upGrad's 360-degree career support helped him transition to a Data Scientist at Tech Mahindra with 90% salary hike. upGrad's Online Power Learning has powered 3 lakh+ careers.\""
            ],
            "application/vnd.google.colaboratory.intrinsic+json": {
              "type": "string"
            }
          },
          "metadata": {},
          "execution_count": 73
        }
      ]
    },
    {
      "cell_type": "markdown",
      "source": [
        "# 결론\n",
        ">#### **\b추상요약 추출요약 비교**\n",
        "\n",
        "\n",
        "* 추상 (Abstracive Summary)\n",
        "\n",
        ">|번호|문장|요약|\n",
        ">|:---:|---|---|\n",
        "|1|\bSentence(원문) |according research amazon india currently worth billion amount walmart investing flipkart exchange stake company report claims amazon market share local competitor flipkart also expected reach billion revenue \n",
        "|\n",
        ">|2| Abtractive Summary(추상요약) | amazon amazon amazon amazon amazon amazon amazon amazon amazon amazon amazon amazon amazon amazon|\n",
        ">|3|  \bHeadlines (실제요약) | exchange stake company report claims amazon market share local flipkart also expected reach billion revenue |\n",
        "\n",
        "\n",
        "\n",
        "\n",
        "\n",
        "\n",
        "* 추출(Extractive Summary)\n",
        "\n",
        ">|번호|문장|요약|\n",
        ">|:---:|---|---|\n",
        "|1|\bSentence(원문) |Saurav Kant, an alumnus of upGrad and IIIT-B's PG Program in Machine learning and Artificial Intelligence, was a Sr Systems Engineer at Infosys with almost 5 years of work experience. The program and upGrad's 360-degree career support helped him transition to a Data Scientist at Tech Mahindra with 90% salary hike. upGrad's Online Power Learning has powered 3 lakh+ careers.|\n",
        ">|2| Extractive Summary(추출요약) | upGrad's Online Power Learning has powered 3 lakh+ careers.|\n",
        ">|3| Headlines(실젱요약) |upGrad learner switches to career in ML & Al with 90% salary hike|\n",
        "\n",
        "\n",
        "추상요약은 추출요약에 비해서 정확도나 성능이 현저하게 떨어진다. \n"
      ],
      "metadata": {
        "id": "D7myR7HTeoGi"
      }
    },
    {
      "cell_type": "markdown",
      "source": [
        "# 회고\n",
        "\n",
        "### - 이번 프로젝트에서 **어려웠던 점**.\n",
        "\n",
        "추상요약에서 데이터를 셔플하여서 추출 요약과 동일한 인덱스의 문장을 불러와 비교하는 것이 불가능했다. \n",
        "\n",
        "### - 프로젝트를 진행하면서 **알아낸 점** 혹은 **아직 모호한 점**.\n",
        "어려운 부분은 ❤️ 표시를 해두고 공부했다. \n",
        "아직 모호한 부분은 한번더 볼것이다. \n",
        "\n",
        "### - 루브릭 평가 지표를 맞추기 위해 **시도한 것들**.\n",
        "\n",
        "\n",
        "\n",
        ">#### **루브릭평가 지표**\n",
        ">|번호|평가문항|상세기준|\n",
        ">|:---:|---|---|\n",
        ">|1| Abstractive 모델 구성을 위한 텍스트 전처리 단계가 체계적으로 진행되었다.|분석단계, 정제단계, 정규화와 불용어 제거, 데이터셋 분리, 인코딩 과정이 빠짐없이 체계적으로 진행되었다.\n",
        ">|2| 텍스트 요약모델이 성공적으로 학습되었음을 확인하였다.| 모델 학습이 진행되면서 train loss와 validation loss가 감소하는 경향을 그래프를 통해 확인했으며, 실제 요약문에 있는 핵심 단어들이 요약 문장 안에 포함되었다.|\n",
        ">|3|Extractive 요약을 시도해 보고 Abstractive 요약 결과과 함께 비교해 보았다.|두 요약 결과를 문법완성도 측면과 핵심단어 포함 측면으로 나누어 비교하고 분석 결과를 표로 정리하여 제시하였다.|\n",
        "\n",
        "\n",
        "\n",
        "### - **자기 다짐**\n",
        "* 코드 3번 복기하기 "
      ],
      "metadata": {
        "id": "NcGTb1Rsdne7"
      }
    },
    {
      "cell_type": "code",
      "source": [],
      "metadata": {
        "id": "grW61bV3hLWI"
      },
      "execution_count": null,
      "outputs": []
    }
  ],
  "metadata": {
    "accelerator": "GPU",
    "colab": {
      "provenance": []
    },
    "gpuClass": "standard",
    "kernelspec": {
      "display_name": "Python 3",
      "name": "python3"
    },
    "language_info": {
      "name": "python"
    }
  },
  "nbformat": 4,
  "nbformat_minor": 0
}