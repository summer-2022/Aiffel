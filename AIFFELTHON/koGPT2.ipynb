{
  "nbformat": 4,
  "nbformat_minor": 0,
  "metadata": {
    "colab": {
      "provenance": [],
      "collapsed_sections": []
    },
    "kernelspec": {
      "name": "python3",
      "display_name": "Python 3"
    },
    "language_info": {
      "name": "python"
    },
    "widgets": {
      "application/vnd.jupyter.widget-state+json": {
        "f0e6f8c13eba495c88e0be12b5f10c57": {
          "model_module": "@jupyter-widgets/controls",
          "model_name": "HBoxModel",
          "model_module_version": "1.5.0",
          "state": {
            "_dom_classes": [],
            "_model_module": "@jupyter-widgets/controls",
            "_model_module_version": "1.5.0",
            "_model_name": "HBoxModel",
            "_view_count": null,
            "_view_module": "@jupyter-widgets/controls",
            "_view_module_version": "1.5.0",
            "_view_name": "HBoxView",
            "box_style": "",
            "children": [
              "IPY_MODEL_9cebfaff315743eebe7f3fbc57e81b41",
              "IPY_MODEL_7f8fd6983b4c4dbc97604b80d538c18b",
              "IPY_MODEL_23f0c5764b5d468a885ff697d1751be8"
            ],
            "layout": "IPY_MODEL_1c15d4feba594d1abee9c45d3301c045"
          }
        },
        "9cebfaff315743eebe7f3fbc57e81b41": {
          "model_module": "@jupyter-widgets/controls",
          "model_name": "HTMLModel",
          "model_module_version": "1.5.0",
          "state": {
            "_dom_classes": [],
            "_model_module": "@jupyter-widgets/controls",
            "_model_module_version": "1.5.0",
            "_model_name": "HTMLModel",
            "_view_count": null,
            "_view_module": "@jupyter-widgets/controls",
            "_view_module_version": "1.5.0",
            "_view_name": "HTMLView",
            "description": "",
            "description_tooltip": null,
            "layout": "IPY_MODEL_c13c9a563cbf496cab393c1d5664dfcf",
            "placeholder": "​",
            "style": "IPY_MODEL_b6efb023c5df44adafec48bbafc57012",
            "value": "100%"
          }
        },
        "7f8fd6983b4c4dbc97604b80d538c18b": {
          "model_module": "@jupyter-widgets/controls",
          "model_name": "FloatProgressModel",
          "model_module_version": "1.5.0",
          "state": {
            "_dom_classes": [],
            "_model_module": "@jupyter-widgets/controls",
            "_model_module_version": "1.5.0",
            "_model_name": "FloatProgressModel",
            "_view_count": null,
            "_view_module": "@jupyter-widgets/controls",
            "_view_module_version": "1.5.0",
            "_view_name": "ProgressView",
            "bar_style": "success",
            "description": "",
            "description_tooltip": null,
            "layout": "IPY_MODEL_a9f8fdedf6754b35bc75df4d301950fb",
            "max": 3,
            "min": 0,
            "orientation": "horizontal",
            "style": "IPY_MODEL_a7c90fbd9ea14b119364ef05e3f8fa89",
            "value": 3
          }
        },
        "23f0c5764b5d468a885ff697d1751be8": {
          "model_module": "@jupyter-widgets/controls",
          "model_name": "HTMLModel",
          "model_module_version": "1.5.0",
          "state": {
            "_dom_classes": [],
            "_model_module": "@jupyter-widgets/controls",
            "_model_module_version": "1.5.0",
            "_model_name": "HTMLModel",
            "_view_count": null,
            "_view_module": "@jupyter-widgets/controls",
            "_view_module_version": "1.5.0",
            "_view_name": "HTMLView",
            "description": "",
            "description_tooltip": null,
            "layout": "IPY_MODEL_91f7d2c90d1f4ed2a6465edf36755aec",
            "placeholder": "​",
            "style": "IPY_MODEL_c4ad92708af4472abe67e6c43804cc7f",
            "value": " 3/3 [00:00&lt;00:00,  8.15it/s]"
          }
        },
        "1c15d4feba594d1abee9c45d3301c045": {
          "model_module": "@jupyter-widgets/base",
          "model_name": "LayoutModel",
          "model_module_version": "1.2.0",
          "state": {
            "_model_module": "@jupyter-widgets/base",
            "_model_module_version": "1.2.0",
            "_model_name": "LayoutModel",
            "_view_count": null,
            "_view_module": "@jupyter-widgets/base",
            "_view_module_version": "1.2.0",
            "_view_name": "LayoutView",
            "align_content": null,
            "align_items": null,
            "align_self": null,
            "border": null,
            "bottom": null,
            "display": null,
            "flex": null,
            "flex_flow": null,
            "grid_area": null,
            "grid_auto_columns": null,
            "grid_auto_flow": null,
            "grid_auto_rows": null,
            "grid_column": null,
            "grid_gap": null,
            "grid_row": null,
            "grid_template_areas": null,
            "grid_template_columns": null,
            "grid_template_rows": null,
            "height": null,
            "justify_content": null,
            "justify_items": null,
            "left": null,
            "margin": null,
            "max_height": null,
            "max_width": null,
            "min_height": null,
            "min_width": null,
            "object_fit": null,
            "object_position": null,
            "order": null,
            "overflow": null,
            "overflow_x": null,
            "overflow_y": null,
            "padding": null,
            "right": null,
            "top": null,
            "visibility": null,
            "width": null
          }
        },
        "c13c9a563cbf496cab393c1d5664dfcf": {
          "model_module": "@jupyter-widgets/base",
          "model_name": "LayoutModel",
          "model_module_version": "1.2.0",
          "state": {
            "_model_module": "@jupyter-widgets/base",
            "_model_module_version": "1.2.0",
            "_model_name": "LayoutModel",
            "_view_count": null,
            "_view_module": "@jupyter-widgets/base",
            "_view_module_version": "1.2.0",
            "_view_name": "LayoutView",
            "align_content": null,
            "align_items": null,
            "align_self": null,
            "border": null,
            "bottom": null,
            "display": null,
            "flex": null,
            "flex_flow": null,
            "grid_area": null,
            "grid_auto_columns": null,
            "grid_auto_flow": null,
            "grid_auto_rows": null,
            "grid_column": null,
            "grid_gap": null,
            "grid_row": null,
            "grid_template_areas": null,
            "grid_template_columns": null,
            "grid_template_rows": null,
            "height": null,
            "justify_content": null,
            "justify_items": null,
            "left": null,
            "margin": null,
            "max_height": null,
            "max_width": null,
            "min_height": null,
            "min_width": null,
            "object_fit": null,
            "object_position": null,
            "order": null,
            "overflow": null,
            "overflow_x": null,
            "overflow_y": null,
            "padding": null,
            "right": null,
            "top": null,
            "visibility": null,
            "width": null
          }
        },
        "b6efb023c5df44adafec48bbafc57012": {
          "model_module": "@jupyter-widgets/controls",
          "model_name": "DescriptionStyleModel",
          "model_module_version": "1.5.0",
          "state": {
            "_model_module": "@jupyter-widgets/controls",
            "_model_module_version": "1.5.0",
            "_model_name": "DescriptionStyleModel",
            "_view_count": null,
            "_view_module": "@jupyter-widgets/base",
            "_view_module_version": "1.2.0",
            "_view_name": "StyleView",
            "description_width": ""
          }
        },
        "a9f8fdedf6754b35bc75df4d301950fb": {
          "model_module": "@jupyter-widgets/base",
          "model_name": "LayoutModel",
          "model_module_version": "1.2.0",
          "state": {
            "_model_module": "@jupyter-widgets/base",
            "_model_module_version": "1.2.0",
            "_model_name": "LayoutModel",
            "_view_count": null,
            "_view_module": "@jupyter-widgets/base",
            "_view_module_version": "1.2.0",
            "_view_name": "LayoutView",
            "align_content": null,
            "align_items": null,
            "align_self": null,
            "border": null,
            "bottom": null,
            "display": null,
            "flex": null,
            "flex_flow": null,
            "grid_area": null,
            "grid_auto_columns": null,
            "grid_auto_flow": null,
            "grid_auto_rows": null,
            "grid_column": null,
            "grid_gap": null,
            "grid_row": null,
            "grid_template_areas": null,
            "grid_template_columns": null,
            "grid_template_rows": null,
            "height": null,
            "justify_content": null,
            "justify_items": null,
            "left": null,
            "margin": null,
            "max_height": null,
            "max_width": null,
            "min_height": null,
            "min_width": null,
            "object_fit": null,
            "object_position": null,
            "order": null,
            "overflow": null,
            "overflow_x": null,
            "overflow_y": null,
            "padding": null,
            "right": null,
            "top": null,
            "visibility": null,
            "width": null
          }
        },
        "a7c90fbd9ea14b119364ef05e3f8fa89": {
          "model_module": "@jupyter-widgets/controls",
          "model_name": "ProgressStyleModel",
          "model_module_version": "1.5.0",
          "state": {
            "_model_module": "@jupyter-widgets/controls",
            "_model_module_version": "1.5.0",
            "_model_name": "ProgressStyleModel",
            "_view_count": null,
            "_view_module": "@jupyter-widgets/base",
            "_view_module_version": "1.2.0",
            "_view_name": "StyleView",
            "bar_color": null,
            "description_width": ""
          }
        },
        "91f7d2c90d1f4ed2a6465edf36755aec": {
          "model_module": "@jupyter-widgets/base",
          "model_name": "LayoutModel",
          "model_module_version": "1.2.0",
          "state": {
            "_model_module": "@jupyter-widgets/base",
            "_model_module_version": "1.2.0",
            "_model_name": "LayoutModel",
            "_view_count": null,
            "_view_module": "@jupyter-widgets/base",
            "_view_module_version": "1.2.0",
            "_view_name": "LayoutView",
            "align_content": null,
            "align_items": null,
            "align_self": null,
            "border": null,
            "bottom": null,
            "display": null,
            "flex": null,
            "flex_flow": null,
            "grid_area": null,
            "grid_auto_columns": null,
            "grid_auto_flow": null,
            "grid_auto_rows": null,
            "grid_column": null,
            "grid_gap": null,
            "grid_row": null,
            "grid_template_areas": null,
            "grid_template_columns": null,
            "grid_template_rows": null,
            "height": null,
            "justify_content": null,
            "justify_items": null,
            "left": null,
            "margin": null,
            "max_height": null,
            "max_width": null,
            "min_height": null,
            "min_width": null,
            "object_fit": null,
            "object_position": null,
            "order": null,
            "overflow": null,
            "overflow_x": null,
            "overflow_y": null,
            "padding": null,
            "right": null,
            "top": null,
            "visibility": null,
            "width": null
          }
        },
        "c4ad92708af4472abe67e6c43804cc7f": {
          "model_module": "@jupyter-widgets/controls",
          "model_name": "DescriptionStyleModel",
          "model_module_version": "1.5.0",
          "state": {
            "_model_module": "@jupyter-widgets/controls",
            "_model_module_version": "1.5.0",
            "_model_name": "DescriptionStyleModel",
            "_view_count": null,
            "_view_module": "@jupyter-widgets/base",
            "_view_module_version": "1.2.0",
            "_view_name": "StyleView",
            "description_width": ""
          }
        }
      }
    }
  },
  "cells": [
    {
      "cell_type": "markdown",
      "source": [
        "## KoGPT2\n",
        " Day04-1104 ~ Day06-1106\n",
        "\n",
        "* MODEL3 : SKT koGPT 2\n",
        " - Base Model(110M) 까지는 LMS 환경에서 사용 가능하다고 들어 적합한 사이즈의 모델을 서칭하여 선정\n",
        " - dataset 구성 : 최종  train 14000, val 3500, test 3500 참고 할것\n",
        "\n",
        " - [Huggingface_GPT2](https://huggingface.co/docs/transformers/model_doc/gpt2)\n",
        " - [SKT-koGPT2](https://github.com/SKT-AI/KoGPT2#model)\n",
        " - [GPT2_finetuning](https://hyyoka-ling-nlp.tistory.com/9)\n",
        " - [GPT2_finetuning_NonEng](https://www.philschmid.de/fine-tune-a-non-english-gpt-2-model-with-huggingface)\n",
        " - [GPT2 text summarization finetuning](https://towardsdatascience.com/text-summarization-with-gpt2-and-layer-ai-599625085d8e)\n",
        "\n",
        "* 추상요약\n",
        " - [Abstractive Summarization](https://medium.com/search?q=abstractive+text+summarization)\n",
        "\n",
        "\n",
        " GPT2 모델 학습\n",
        "  1. Data 로드\n",
        "   * 데이터 형식 변경 : train/validation/ test 하나로 취합하여 로드  \n",
        "   * 데이터 구성 : train/validation/test 형식에 맞추어 변경 후 데이터 다운로드)\n",
        "\n",
        "2. GPT Tokenizer, Model 허깅페이스 로드 \n",
        " * 4단계.trainer에서 dimension mismatch 오류가 지속적으로 발생하여 학습불가 \n",
        "    * 2단계.토크나이징 단계에 동적 패딩 적용하여 디멘젼 오류 해결\n",
        "\n",
        "3. Load Train Config \n",
        " * 5.test dataset evaluation단계 까지 완료 한 후 다시 3.Load Train Config 단계로 돌아와 파인튜닝하여 성능 향상 최종 목표!)\n",
        "\n",
        "4. Trainer : \n",
        " * traindatat 학습 예상 시간이 너무 길어서 학습 불가\n",
        "    * max step size 설정하여 train data학습양과 시간 줄여서 학습 성공\n",
        " * validation dataset의 크기가 너무 커서 현재 trainer 완료 하지 못한 상태\n",
        "    * 해결책 찾는중\n",
        "    \n",
        "5. Test evaluation "
      ],
      "metadata": {
        "id": "Wyn2Nlz-HAkV"
      }
    },
    {
      "cell_type": "code",
      "source": [
        "! pip install transformers"
      ],
      "metadata": {
        "colab": {
          "base_uri": "https://localhost:8080/"
        },
        "id": "58gxx9-uly4A",
        "outputId": "8193eaa9-ad77-4afa-8006-9cebde56c145"
      },
      "execution_count": 1,
      "outputs": [
        {
          "output_type": "stream",
          "name": "stdout",
          "text": [
            "Looking in indexes: https://pypi.org/simple, https://us-python.pkg.dev/colab-wheels/public/simple/\n",
            "Requirement already satisfied: transformers in /usr/local/lib/python3.7/dist-packages (4.24.0)\n",
            "Requirement already satisfied: filelock in /usr/local/lib/python3.7/dist-packages (from transformers) (3.8.0)\n",
            "Requirement already satisfied: packaging>=20.0 in /usr/local/lib/python3.7/dist-packages (from transformers) (21.3)\n",
            "Requirement already satisfied: importlib-metadata in /usr/local/lib/python3.7/dist-packages (from transformers) (4.13.0)\n",
            "Requirement already satisfied: pyyaml>=5.1 in /usr/local/lib/python3.7/dist-packages (from transformers) (6.0)\n",
            "Requirement already satisfied: requests in /usr/local/lib/python3.7/dist-packages (from transformers) (2.23.0)\n",
            "Requirement already satisfied: tokenizers!=0.11.3,<0.14,>=0.11.1 in /usr/local/lib/python3.7/dist-packages (from transformers) (0.13.2)\n",
            "Requirement already satisfied: tqdm>=4.27 in /usr/local/lib/python3.7/dist-packages (from transformers) (4.64.1)\n",
            "Requirement already satisfied: huggingface-hub<1.0,>=0.10.0 in /usr/local/lib/python3.7/dist-packages (from transformers) (0.10.1)\n",
            "Requirement already satisfied: regex!=2019.12.17 in /usr/local/lib/python3.7/dist-packages (from transformers) (2022.6.2)\n",
            "Requirement already satisfied: numpy>=1.17 in /usr/local/lib/python3.7/dist-packages (from transformers) (1.21.6)\n",
            "Requirement already satisfied: typing-extensions>=3.7.4.3 in /usr/local/lib/python3.7/dist-packages (from huggingface-hub<1.0,>=0.10.0->transformers) (4.1.1)\n",
            "Requirement already satisfied: pyparsing!=3.0.5,>=2.0.2 in /usr/local/lib/python3.7/dist-packages (from packaging>=20.0->transformers) (3.0.9)\n",
            "Requirement already satisfied: zipp>=0.5 in /usr/local/lib/python3.7/dist-packages (from importlib-metadata->transformers) (3.10.0)\n",
            "Requirement already satisfied: chardet<4,>=3.0.2 in /usr/local/lib/python3.7/dist-packages (from requests->transformers) (3.0.4)\n",
            "Requirement already satisfied: certifi>=2017.4.17 in /usr/local/lib/python3.7/dist-packages (from requests->transformers) (2022.9.24)\n",
            "Requirement already satisfied: urllib3!=1.25.0,!=1.25.1,<1.26,>=1.21.1 in /usr/local/lib/python3.7/dist-packages (from requests->transformers) (1.25.11)\n",
            "Requirement already satisfied: idna<3,>=2.5 in /usr/local/lib/python3.7/dist-packages (from requests->transformers) (2.10)\n"
          ]
        }
      ]
    },
    {
      "cell_type": "code",
      "source": [
        "!pip install datasets"
      ],
      "metadata": {
        "colab": {
          "base_uri": "https://localhost:8080/"
        },
        "id": "jJbHAry3ytWW",
        "outputId": "d43d0ca2-144f-4f7a-d228-66461b5b72df"
      },
      "execution_count": 2,
      "outputs": [
        {
          "output_type": "stream",
          "name": "stdout",
          "text": [
            "Looking in indexes: https://pypi.org/simple, https://us-python.pkg.dev/colab-wheels/public/simple/\n",
            "Requirement already satisfied: datasets in /usr/local/lib/python3.7/dist-packages (2.6.1)\n",
            "Requirement already satisfied: huggingface-hub<1.0.0,>=0.2.0 in /usr/local/lib/python3.7/dist-packages (from datasets) (0.10.1)\n",
            "Requirement already satisfied: responses<0.19 in /usr/local/lib/python3.7/dist-packages (from datasets) (0.18.0)\n",
            "Requirement already satisfied: importlib-metadata in /usr/local/lib/python3.7/dist-packages (from datasets) (4.13.0)\n",
            "Requirement already satisfied: pyarrow>=6.0.0 in /usr/local/lib/python3.7/dist-packages (from datasets) (6.0.1)\n",
            "Requirement already satisfied: pandas in /usr/local/lib/python3.7/dist-packages (from datasets) (1.3.5)\n",
            "Requirement already satisfied: dill<0.3.6 in /usr/local/lib/python3.7/dist-packages (from datasets) (0.3.5.1)\n",
            "Requirement already satisfied: fsspec[http]>=2021.11.1 in /usr/local/lib/python3.7/dist-packages (from datasets) (2022.10.0)\n",
            "Requirement already satisfied: pyyaml>=5.1 in /usr/local/lib/python3.7/dist-packages (from datasets) (6.0)\n",
            "Requirement already satisfied: multiprocess in /usr/local/lib/python3.7/dist-packages (from datasets) (0.70.13)\n",
            "Requirement already satisfied: tqdm>=4.62.1 in /usr/local/lib/python3.7/dist-packages (from datasets) (4.64.1)\n",
            "Requirement already satisfied: numpy>=1.17 in /usr/local/lib/python3.7/dist-packages (from datasets) (1.21.6)\n",
            "Requirement already satisfied: xxhash in /usr/local/lib/python3.7/dist-packages (from datasets) (3.1.0)\n",
            "Requirement already satisfied: packaging in /usr/local/lib/python3.7/dist-packages (from datasets) (21.3)\n",
            "Requirement already satisfied: requests>=2.19.0 in /usr/local/lib/python3.7/dist-packages (from datasets) (2.23.0)\n",
            "Requirement already satisfied: aiohttp in /usr/local/lib/python3.7/dist-packages (from datasets) (3.8.3)\n",
            "Requirement already satisfied: async-timeout<5.0,>=4.0.0a3 in /usr/local/lib/python3.7/dist-packages (from aiohttp->datasets) (4.0.2)\n",
            "Requirement already satisfied: frozenlist>=1.1.1 in /usr/local/lib/python3.7/dist-packages (from aiohttp->datasets) (1.3.1)\n",
            "Requirement already satisfied: charset-normalizer<3.0,>=2.0 in /usr/local/lib/python3.7/dist-packages (from aiohttp->datasets) (2.1.1)\n",
            "Requirement already satisfied: typing-extensions>=3.7.4 in /usr/local/lib/python3.7/dist-packages (from aiohttp->datasets) (4.1.1)\n",
            "Requirement already satisfied: yarl<2.0,>=1.0 in /usr/local/lib/python3.7/dist-packages (from aiohttp->datasets) (1.8.1)\n",
            "Requirement already satisfied: attrs>=17.3.0 in /usr/local/lib/python3.7/dist-packages (from aiohttp->datasets) (22.1.0)\n",
            "Requirement already satisfied: multidict<7.0,>=4.5 in /usr/local/lib/python3.7/dist-packages (from aiohttp->datasets) (6.0.2)\n",
            "Requirement already satisfied: aiosignal>=1.1.2 in /usr/local/lib/python3.7/dist-packages (from aiohttp->datasets) (1.2.0)\n",
            "Requirement already satisfied: asynctest==0.13.0 in /usr/local/lib/python3.7/dist-packages (from aiohttp->datasets) (0.13.0)\n",
            "Requirement already satisfied: filelock in /usr/local/lib/python3.7/dist-packages (from huggingface-hub<1.0.0,>=0.2.0->datasets) (3.8.0)\n",
            "Requirement already satisfied: pyparsing!=3.0.5,>=2.0.2 in /usr/local/lib/python3.7/dist-packages (from packaging->datasets) (3.0.9)\n",
            "Requirement already satisfied: idna<3,>=2.5 in /usr/local/lib/python3.7/dist-packages (from requests>=2.19.0->datasets) (2.10)\n",
            "Requirement already satisfied: certifi>=2017.4.17 in /usr/local/lib/python3.7/dist-packages (from requests>=2.19.0->datasets) (2022.9.24)\n",
            "Requirement already satisfied: urllib3!=1.25.0,!=1.25.1,<1.26,>=1.21.1 in /usr/local/lib/python3.7/dist-packages (from requests>=2.19.0->datasets) (1.25.11)\n",
            "Requirement already satisfied: chardet<4,>=3.0.2 in /usr/local/lib/python3.7/dist-packages (from requests>=2.19.0->datasets) (3.0.4)\n",
            "Requirement already satisfied: zipp>=0.5 in /usr/local/lib/python3.7/dist-packages (from importlib-metadata->datasets) (3.10.0)\n",
            "Requirement already satisfied: python-dateutil>=2.7.3 in /usr/local/lib/python3.7/dist-packages (from pandas->datasets) (2.8.2)\n",
            "Requirement already satisfied: pytz>=2017.3 in /usr/local/lib/python3.7/dist-packages (from pandas->datasets) (2022.5)\n",
            "Requirement already satisfied: six>=1.5 in /usr/local/lib/python3.7/dist-packages (from python-dateutil>=2.7.3->pandas->datasets) (1.15.0)\n"
          ]
        }
      ]
    },
    {
      "cell_type": "markdown",
      "source": [
        "# PROJECT : 뉴스 데이터셋 요약\n",
        "* Task : summary"
      ],
      "metadata": {
        "id": "tFSxAutmuHKv"
      }
    },
    {
      "cell_type": "code",
      "source": [
        "import os\n",
        "import numpy as np\n",
        "from argparse import ArgumentParser\n",
        "import numpy as np\n",
        "import tensorflow as tf\n",
        "import tensorflow_datasets as tfds\n",
        "from transformers import DistilBertTokenizer, TFDistilBertForSequenceClassification, AutoConfig\n",
        "from dataclasses import asdict\n",
        "from transformers.data.processors.utils import DataProcessor, InputExample, InputFeatures"
      ],
      "metadata": {
        "id": "U4TefdcwuXGd"
      },
      "execution_count": 3,
      "outputs": []
    },
    {
      "cell_type": "markdown",
      "source": [
        "## (1) Dataset Load"
      ],
      "metadata": {
        "id": "mvSBk5MCoylr"
      }
    },
    {
      "cell_type": "markdown",
      "source": [
        ">Dataset dictionary\n",
        "* train dataset, validation dataset, test dataset으로 구성\n",
        "* Dataset은 ‘sentence1’, ‘sentence2’, ‘label’, ‘idx’(인덱스)로 구성 \n",
        "\n",
        " Huggingface datasets를 사용하면 DataProcessor를 사용할 필요없이 바로 사용가능하게 구성되어 있습니다."
      ],
      "metadata": {
        "id": "jtPAk2Spxuhi"
      }
    },
    {
      "cell_type": "code",
      "source": [
        "# import datasets\n",
        "# from datasets import load_dataset\n",
        "\n",
        "# huggingface_mrpc_dataset = load_dataset('glue', 'mrpc')\n",
        "# print(huggingface_mrpc_dataset)"
      ],
      "metadata": {
        "id": "DNt8TMBoyBN0"
      },
      "execution_count": 4,
      "outputs": []
    },
    {
      "cell_type": "markdown",
      "source": [
        ">News Dataset dictionary\n",
        "* train dataset, validation dataset 으로 구성\n",
        "* Dataset은 ‘input’, target'로 구성 "
      ],
      "metadata": {
        "id": "HhjgBpfMpkY6"
      }
    },
    {
      "cell_type": "code",
      "source": [
        "# Load a CSV file\n",
        "from datasets import load_dataset\n",
        "# train_Sum1 = load_dataset('csv', data_files='/content/drive/MyDrive/Jiwon/Data/train_Sum1.csv')\n",
        "# val_Sum1 = load_dataset('csv', data_files='/content/drive/MyDrive/Jiwon/Data/val_Sum1.csv')"
      ],
      "metadata": {
        "id": "HVmwA175c-v_"
      },
      "execution_count": 5,
      "outputs": []
    },
    {
      "cell_type": "markdown",
      "source": [
        "\n",
        "* 데이터 로드할때 형식 맞춰주기 \n",
        "```\n",
        "data_files = {\"train\": \"/content/drive/MyDrive/Jiwon/Data/train_Sum1.csv\", \"test\": \"/content/drive/MyDrive/Jiwon/Data/val_Sum1.csv\"}\n",
        "dataset = load_dataset('csv', data_files=data_files)\n",
        "```\n",
        "\n"
      ],
      "metadata": {
        "id": "k08QU1S7g8Bg"
      }
    },
    {
      "cell_type": "code",
      "source": [
        "data_files = {\n",
        "    \"train\" : \"/content/drive/MyDrive/Jiwon/Data/train_Sum1_.csv\",\n",
        "    \"val\"   : \"/content/drive/MyDrive/Jiwon/Data/val_Sum1.csv\",\n",
        "    \"test\"  : \"/content/drive/MyDrive/Jiwon/Data/test_Sum1.csv\"\n",
        "    }\n",
        "dataset = load_dataset('csv', data_files=data_files)"
      ],
      "metadata": {
        "colab": {
          "base_uri": "https://localhost:8080/",
          "height": 105,
          "referenced_widgets": [
            "f0e6f8c13eba495c88e0be12b5f10c57",
            "9cebfaff315743eebe7f3fbc57e81b41",
            "7f8fd6983b4c4dbc97604b80d538c18b",
            "23f0c5764b5d468a885ff697d1751be8",
            "1c15d4feba594d1abee9c45d3301c045",
            "c13c9a563cbf496cab393c1d5664dfcf",
            "b6efb023c5df44adafec48bbafc57012",
            "a9f8fdedf6754b35bc75df4d301950fb",
            "a7c90fbd9ea14b119364ef05e3f8fa89",
            "91f7d2c90d1f4ed2a6465edf36755aec",
            "c4ad92708af4472abe67e6c43804cc7f"
          ]
        },
        "id": "NzSfCNB56i7G",
        "outputId": "3fe2e450-0574-45da-e812-cd7fa88fb585"
      },
      "execution_count": 6,
      "outputs": [
        {
          "output_type": "stream",
          "name": "stderr",
          "text": [
            "WARNING:datasets.builder:Using custom data configuration default-7777a928465ab9a1\n",
            "WARNING:datasets.builder:Found cached dataset csv (/root/.cache/huggingface/datasets/csv/default-7777a928465ab9a1/0.0.0/6b34fb8fcf56f7c8ba51dc895bfa2bfbe43546f190a60fcf74bb5e8afdcc2317)\n"
          ]
        },
        {
          "output_type": "display_data",
          "data": {
            "text/plain": [
              "  0%|          | 0/3 [00:00<?, ?it/s]"
            ],
            "application/vnd.jupyter.widget-view+json": {
              "version_major": 2,
              "version_minor": 0,
              "model_id": "f0e6f8c13eba495c88e0be12b5f10c57"
            }
          },
          "metadata": {}
        }
      ]
    },
    {
      "cell_type": "code",
      "source": [
        "dataset"
      ],
      "metadata": {
        "colab": {
          "base_uri": "https://localhost:8080/"
        },
        "id": "4vJ7XTAB7Gu7",
        "outputId": "da686822-4143-4a04-dad1-668e1466ca0c"
      },
      "execution_count": 7,
      "outputs": [
        {
          "output_type": "execute_result",
          "data": {
            "text/plain": [
              "DatasetDict({\n",
              "    train: Dataset({\n",
              "        features: ['input', 'target'],\n",
              "        num_rows: 15250\n",
              "    })\n",
              "    val: Dataset({\n",
              "        features: ['input', 'target'],\n",
              "        num_rows: 18300\n",
              "    })\n",
              "    test: Dataset({\n",
              "        features: ['input', 'target'],\n",
              "        num_rows: 3050\n",
              "    })\n",
              "})"
            ]
          },
          "metadata": {},
          "execution_count": 7
        }
      ]
    },
    {
      "cell_type": "code",
      "source": [
        "# import pandas as pd\n",
        "\n",
        "# train_Sum1 = pd.read_csv(\"/content/drive/MyDrive/Jiwon/Data/train_Sum1.csv\")\n",
        "# val_Sum1 = pd.read_csv(\"/content/drive/MyDrive/Jiwon/Data/val_Sum1.csv\")"
      ],
      "metadata": {
        "id": "gESYOU7xafDD"
      },
      "execution_count": 8,
      "outputs": []
    },
    {
      "cell_type": "code",
      "source": [
        "# train_Sum1.head()"
      ],
      "metadata": {
        "id": "IEWwFU_ka5U-"
      },
      "execution_count": 9,
      "outputs": []
    },
    {
      "cell_type": "code",
      "source": [
        "# val_Sum1.head()"
      ],
      "metadata": {
        "id": "jh0NEmkka5Xq"
      },
      "execution_count": 10,
      "outputs": []
    },
    {
      "cell_type": "markdown",
      "source": [
        "## (2) Tokenizer, Model"
      ],
      "metadata": {
        "id": "adyYyWQEvl0c"
      }
    },
    {
      "cell_type": "markdown",
      "source": [
        "> Model, Tokenizer 생성\n",
        "* Huggingface- Auto Class\n",
        " - Auto class는 from_pretrained 메소드를 이용해 pretrained model의 경로 혹은 이름만 안다면 자동으로 생성하는 방법\n",
        " - AutoTokenizer, AutoModel기능 지원\n",
        "\n",
        "\n",
        "\n",
        "model = AutoModelForCausalLM.from_pretrained"
      ],
      "metadata": {
        "id": "nHUmRkrKvybs"
      }
    },
    {
      "cell_type": "code",
      "source": [
        "from transformers import GPT2TokenizerFast\n",
        "tokenizer = GPT2TokenizerFast.from_pretrained(\"skt/kogpt2-base-v2\",\n",
        "bos_token='</s>', eos_token='</s>', unk_token='<unk>',\n",
        "pad_token='<pad>', mask_token='<mask>')"
      ],
      "metadata": {
        "id": "x_vSigOUs6vT"
      },
      "execution_count": 11,
      "outputs": []
    },
    {
      "cell_type": "code",
      "source": [
        "tokenizer.tokenize(\"안녕하세요. 한국어 GPT-2 입니다.😤:)l^o\")"
      ],
      "metadata": {
        "colab": {
          "base_uri": "https://localhost:8080/"
        },
        "id": "6p2GIOt9tYSm",
        "outputId": "9ed84cc5-6a8f-4482-c090-d7358307e68c"
      },
      "execution_count": 12,
      "outputs": [
        {
          "output_type": "execute_result",
          "data": {
            "text/plain": [
              "['▁안녕',\n",
              " '하',\n",
              " '세',\n",
              " '요.',\n",
              " '▁한국어',\n",
              " '▁G',\n",
              " 'P',\n",
              " 'T',\n",
              " '-2',\n",
              " '▁입',\n",
              " '니다.',\n",
              " '😤',\n",
              " ':)',\n",
              " 'l^o']"
            ]
          },
          "metadata": {},
          "execution_count": 12
        }
      ]
    },
    {
      "cell_type": "code",
      "source": [
        "import torch\n",
        "from transformers import GPT2LMHeadModel\n",
        "\n",
        "model = GPT2LMHeadModel.from_pretrained('skt/kogpt2-base-v2')\n",
        "text = '근육이 커지기 위해서는'\n",
        "input_ids = tokenizer.encode(text, return_tensors='pt')\n",
        "gen_ids = model.generate(input_ids,\n",
        "                          max_length=128,\n",
        "                          repetition_penalty=2.0,\n",
        "                          pad_token_id=tokenizer.pad_token_id,\n",
        "                          eos_token_id=tokenizer.eos_token_id,\n",
        "                          bos_token_id=tokenizer.bos_token_id,\n",
        "                          use_cache=True)\n",
        "generated = tokenizer.decode(gen_ids[0])\n",
        "print(generated)"
      ],
      "metadata": {
        "colab": {
          "base_uri": "https://localhost:8080/"
        },
        "id": "08e-yY2qlT8B",
        "outputId": "c0de95ce-89ab-432a-e4a8-3d7f29c5c471"
      },
      "execution_count": 13,
      "outputs": [
        {
          "output_type": "stream",
          "name": "stdout",
          "text": [
            "근육이 커지기 위해서는 무엇보다 규칙적인 생활습관이 중요하다.\n",
            "특히, 아침식사는 단백질과 비타민이 풍부한 과일과 채소를 많이 섭취하는 것이 좋다.\n",
            "또한 하루 30분 이상 충분한 수면을 취하는 것도 도움이 된다.\n",
            "아침 식사를 거르지 않고 규칙적으로 운동을 하면 혈액순환에 도움을 줄 뿐만 아니라 신진대사를 촉진해 체내 노폐물을 배출하고 혈압을 낮춰준다.\n",
            "운동은 하루에 10분 정도만 하는 게 좋으며 운동 후에는 반드시 스트레칭을 통해 근육량을 늘리고 유연성을 높여야 한다.\n",
            "운동 후 바로 잠자리에 드는 것은 피해야 하며 특히 아침에 일어나면 몸이 피곤해지기 때문에 무리하게 움직이면 오히려 역효과가 날 수도 있다.\n",
            "운동을\n"
          ]
        }
      ]
    },
    {
      "cell_type": "markdown",
      "source": [
        "> 토크나이징\n",
        "* `transform()` 함수를 만들고 이전에 만들어두었던 Tokenizer에서 입력할 `dataset의 형태를 확인하고 바꿀 대상을 지정`해야 합니다."
      ],
      "metadata": {
        "id": "78ULx9mSv_Du"
      }
    },
    {
      "cell_type": "code",
      "source": [
        "def transform(data):\n",
        "  return tokenizer(\n",
        "      text = data['input'],\n",
        "      text_target = data['target'],\n",
        "      truncation = True,\n",
        "      padding = 'max_length',\n",
        "      return_token_type_ids = False,\n",
        "      max_length=128\n",
        "      )\n",
        "  \n",
        "examples = dataset['train'][:5]\n",
        "examples_transformed = transform(examples)\n",
        "\n",
        "print(examples)\n",
        "print(examples_transformed)"
      ],
      "metadata": {
        "colab": {
          "base_uri": "https://localhost:8080/"
        },
        "id": "glxig0rHuX8s",
        "outputId": "fd63f742-97ed-49e4-db4a-63e4375a75e4"
      },
      "execution_count": 14,
      "outputs": [
        {
          "output_type": "stream",
          "name": "stdout",
          "text": [
            "{'input': ['4일 오후 4시 충남 아산시 신리초등학교 체육관 2층 입구.\\n  손 소독과 발열 체크를 한 뒤 체육관 안으로 들어가라는 안내문이 붙었다.\\n  마스크를 착용하지 않으면 출입이 통제됐다.\\n  체육관으로 들어가자 왼쪽에 설치된 대형 칠판에 ‘사람 두 팔 간격 건강 거리 유지’라는 글이 크게 쓰여 있었다.\\n  지난 3일 충남 아산지역에 폭우가 내리면서 온양천이 범람하자 신동·모종동 주민들이 급히 신리초로 대피했다.\\n  신리초는 홍수와 지진 등 각종 재난사고 때 임시 주거시설로 지정된 곳이다.\\n  3일 오후 5시까지 60여 명 수준이던 이재민은 오후 7시가 지나서는 100여 명을 넘어섰다.\\n  아산시는 주민들이 한꺼번에 몰리자 수해와 더불어 신종 코로나바이러스 감염증(코로나19)이 확산할 것을 우려했다.\\n  가장 먼저 주민들에게 마스크 착용을 의무화했다.\\n  마스크를 쓰지 않으면 체육관 출입을 제한하고 체육관에 머무는 시간에도 밥을 먹거나 물을 마실 때를 제외하고 마스크를 벗지 못하게 했다.\\n  이재민들은 집이나 농경지로 오갈 때도 출입 횟수에 관계없이 매번 발열 체크를 했다.\\n  외부에서 다른 사람과 접촉할 가능성이 있어서다.\\n  4일 오후 4시 30분쯤 체육관 안에는 주민 5명과 아산시청 공무원·자원봉사자 10여 명이 머물고 있었다.\\n  주민들은 아산시가 제공한 매트리스 위에서 쉬거나 대화를 나눴다.\\n  매트리스 1개마다 1명씩 배정됐다.\\n  매트리스 간격은 2~3m가량으로 1개의 매트리스에 2명 이상이 앉지 못하도록 했다.\\n  주민 간 접촉을 최소화하기 위해서다.\\n  다른 대피소와 달리 신리초 체육관에는 소형 천막(텐트)이 지급되지 않았다.\\n  이 때문에 충남도와 아산시 등 방역 당국이 바짝 긴장했다.\\n  이곳에 머무르는 주민들은 대부분 70~80대 고령자로 코로나19에 노출될 경우 감염 위험이 높아서다.\\n  아산시는 주민들이 식사를 할 때 밀접 접촉할 가능성이 크다고 판단, 모든 식사를 도시락으로 대체했다.\\n  한 곳에 도시락을 쌓아 놓고 주민들이 줄을 서서 받지 않고 공무원들이 일일이 매트리스로 이동하며 도시락을 나눠줬다.\\n  물도 각각 생수병을 전달하고 컵 사용도 자제할 것을 당부했다.\\n  아산시 관계자는 “이재민 대피시설에서 코로나19 확산 가능성이 있기 때문에 방역과 함께 철저한 관리가 이뤄지고 있다”며 “마을회관과 경로당 등 소규모 인원이 모여 있는 곳도 담당 공무원이 수시로 확인한다”고 말했다.\\n  지난 3일 새벽부터 4일 오후까지 내린 비로 충남에서는 620여 명(364가구)의 이재민이 발생했다.\\n ', ' “집안의 가보로 간직할 수 있게 장군님과 기념촬영을 하고 싶습니다.”\\n 그러자 김정일은 “오늘 예감이 왠지 실패할 것 같아 사진사를 안 데리고 왔는데 과학자들의 요구이니 사진사를 부르라”고 하면서, 사진사가 올 때까지 과학자들과 얘기를 나누겠다고 했다. 1시간가량 연구소 안팎을 돌아본 후, 사진사가 오자 김정일은 연구사들과 사진을 찍었다. 이때 ‘청년장군’도 함께 사진을 찍으라고 말했다.\\n 사진 촬영 후 연구사들의 대부분이 국방대학 졸업생들이라는 얘기를 듣자 김정일은 중앙당 간부들에게, “국방대학 졸업생들은 나라의 보배”라고 하면서 “잘 돌봐 주어야 한다”고 했다. 그 말을 듣고 연구사들이 감개무량해 눈물을 흘리며 ‘김정일 만세’를 부르는 장면이 북한 TV에 방영되기도 했다. 발사시험에 참여한 많은 사람들에게 훈장과 영웅칭호, 학위, 학직이 수여됐다.\\n 북한에서는 지대공 미사일에는 100-1로 시작하는 일련번호가 붙는다. 해상 대 해상 미사일은 200-1로 시작하는 일련번호로 통용된다. 지상 대 지상 단거리 미사일은 500-1로 시작한다. 중거리와 장거리 미사일은 900-1로 시작되며 짝수가 아니고 홑수로만 나간다.\\n 북한 미사일 본체에 새겨진 글자 ‘ㅈ’은 조선의 약호다. ‘ㅈ’ 다음에 100이나 900등의 숫자를 붙여 표시한다.\\n 원래는 ‘MADE IN DPRK’라고 ‘원산지 표기’를 했는데, 지금은 그렇게 쓰지 않는다. 1980년대 이란-이라크전쟁 당시, 이란에 수출한 북한산 미사일이 이라크를 타격한 적이 있다. 이라크가 이에 대한 보복으로 북한유조선을 침몰시킨 일이 있었다. 이후 북한의 모든 무장장비의 표기를 변형하였다.⊙\\n', '위원장 설훈] \"존경하는 교육문화체육관광위원회 위원님 여러분!  다음 안건을 의결하기 전에 위원장이 한 가지 제안하고자 합니다.  냉ㆍ난방기기 가동 및 디지털 교과서 활성화 등으로 초중등학교의 전기 사용량 증가가 예상되는 상황에서 재정 부담을 완화하고 지속 가능한 교육환경 조성을 위하여 초중등학교 공공요금 등 운영경비의 현실화 및 교육용 전기요금 인하 방안을 정부에 촉구하는 결의안을 제안합니다.  위원님들 의견을 말씀하여 주시기 바랍니다.\"\\n신성범 위원] \"안건에 없던 거네요?\"\\n위원장 설훈] \"그래서 제가 위원장이 제안하는 형식으로 집어넣었습니다.\"\\n신성범 위원] \"제안자를 위원장으로 합니까?\"\\n위원장 설훈] \"예 제가 제안하고 한 분이 찬성을 해 주시면 안건으로 성립할 수 있습니다.\"\\n박홍근 위원] \"그것은 제가 아까 의사진행발언을 통해서 말씀을 드렸고 지난번 회의에서도 제가 결의안을 만들자고 제안을 했기 때문에……\"\\n위원장 설훈] \"박홍근 위원의 찬성이 있었습니다.  그러므로 지금 제가 제안하고 1인 이상이 찬성하는 위원이 있었으므로 위원회 의사일정 제17항으로 상정하도록 하겠습니다.  그러면 의사일정 제17항 교육용 전기요금 인하 촉구 결의안은 본 위원이 제안한 대로 의결하고자 하는데 이의 없으십니까?\"\\n신성범 위원] \"잠깐만요 이것 취지에는 공감하는데 너무 급박해 가지고……\"\\n김태년 위원] \"문제없어.\"\\n신성범 위원] \"아니 이렇게 우리 위원회 차원에서 결의안을 낼 경우에 그래도 무게가 실리고 해야 되는데 정부부처가 산업통상자원부인가……\"\\n', '저희가 할 수 있는 모든 방법을 다하겠다는 말씀을 드리고요. \\n이 문제도 그렇습니다. \\n지금 여당이 야당을 몰아붙이고 있고 이걸 뒤집어씌우기를 하고 있는데 민생 법안 같은 경우 먼저 협의를 했었을 때, 우리가 민생 법안 다 통과시켜주겠다, 그러니 선거법, 공수처법에 대해서는 올리지 마라고 요청을 했던 겁니다. \\n그런 것들 안 지킨 것 아닙니까, 이거? 지금 저는 여당이 국가를 운용하는 모든 책임은 정부 여당에 있는 겁니다. \\n국회를 야당이 거리로 안 나가게 하고 또 밤을 새워서 농성을 안하게 하는 것은 여당의 책임인 거예요. \\n여당이 안고 가야 되는 거예요. \\n옛날에 강창희 의장, 정의화 의장 있을 때 야당이 얘기하는 걸 다 들어줬습니다. \\n왜 지금 여당은 이렇게 하는지 지금 여당이 좀 돌아보시기 바랍니다.', '해양수산부장관후보자 윤진숙] \"아니 가지고 있었던 게 아니고요. 그때 당시에는 고모가 저희 집에 워낙 자주 놀러 오셨었습니다. 저희 어머니하고 워낙 친하셔 가지고 자주 오셨기 때문에 그 돈은 제가 처음에 제가 갖고 있던 돈을 그때 당시에 은행에서 뺐든지 하여튼 누구한테 받았든지 간에 그것을 제가 드렸지요 그날. 오신다 그러길래 제가 찾아 놨습니다. 그때 당시에는 인터넷이라든가 이런 것이 제대로 좀 안 될 때라서요.\"\\n위원장 최규성] \"고모를 돈을 줬다고요?\"\\n해양수산부장관후보자 윤진숙] \"예.\"\\n위원장 최규성] \"그런데 그러면 은행에서 돈을 뺀 거고요 그것은.\"\\n해양수산부장관후보자 윤진숙] \"은행이 아니고 아마 다른 데서 받았던 것 같아요. 은행인지 다른 데서 받았는지 지금 기억이 사실 안 나……\"\\n위원장 최규성] \"아니 돈이 후보자가 무슨 재벌의 딸도 아니고 돈 6000이 적은 돈이 아니잖아요.\"\\n해양수산부장관후보자 윤진숙] \"예 당연하지요.\"\\n위원장 최규성] \"돈을 집에다 갖고 있었던 건지 통장에서 뺀 건지 그러면 어느 통장에서 뺀 건지 그 당시 후보자 입장이 한 달에 몇천씩 버는 그런 입장이 아니잖아요.\"\\n해양수산부장관후보자 윤진숙] \"예 그렇지요.\"\\n위원장 최규성] \"그게 왜 기억이 안 납니까?\"\\n해양수산부장관후보자 윤진숙] \"제가 아까도 앞에도 말씀드렸지만 그게……\"\\n위원장 최규성] \"그다음에 2억 얼마인가 아파트 팔아 쓰고 나서 돈 그것 현금으로 받았습니까 다?\"\\n'], 'target': ['충남 아산지역에 폭우가 내려 온양천이 범람하자 주민들은 신리초로 대피했고 이에 아산시는 코로나19 확산이 걱정되어 마스크를 쓰지 않으면 출입을 제한했다. ', '북한은 미사일에 MADE IN DPRK라고 표기했었지만 이란-이라크 전쟁 당시 이라크가 보복으로 북한유조선을 침몰시킨 뒤 모든 무장장비 표기를 변형하였다.', '초중등학교 교육용 전기요금 인하 방안 및 공공요금 등에 대한 운영경비의 현실화 결의안을 제안했다.', '정부 여당은 야당이 거리로 나와 밤을 새워서 농성하는 것을 안하게 할 책임이 있다.', '최 위원장은 후보자가 재벌 딸도 아니고 한 달에 몇천씩 버는 입장도 아니면서 6000을 고모에게 줬는지 물었다.']}\n",
            "{'input_ids': [[16852, 21734, 9130, 7888, 27775, 9050, 19015, 9084, 7478, 17703, 15266, 6905, 19264, 22016, 9585, 739, 9526, 25523, 6903, 9082, 8035, 9346, 18387, 9036, 9200, 15266, 6905, 18098, 10956, 9316, 18769, 10243, 33577, 739, 9109, 10986, 7470, 15128, 9328, 13616, 14580, 8146, 12027, 14465, 739, 15266, 11443, 10956, 8159, 28344, 15879, 13226, 10758, 16845, 9172, 11837, 9174, 10055, 17714, 11342, 17920, 9922, 13471, 21293, 9773, 17185, 9416, 739, 12199, 14147, 27775, 27701, 13918, 9829, 15576, 16848, 9149, 9586, 8000, 14507, 22141, 10132, 9084, 13674, 7540, 8220, 7244, 23237, 27784, 9084, 7478, 22630, 36159, 9062, 739, 9084, 7478, 20354, 9722, 12031, 15351, 9030, 10251, 31638, 27011, 9068, 11961, 12417, 33178, 16866, 15176, 739, 14147, 21734, 9143, 38916, 30494, 9170, 11177, 16005, 24094, 22511, 21734, 9247, 12190, 10051, 9449, 17984], [9640, 8270, 12280, 9028, 18436, 9226, 25329, 9025, 10541, 14532, 7177, 6903, 11003, 10613, 8137, 9676, 13358, 32500, 375, 16256, 14887, 16373, 9640, 30899, 9182, 13097, 739, 8076, 8263, 11478, 8705, 9031, 27511, 12224, 9391, 9183, 18457, 12583, 9668, 19739, 9224, 10089, 36609, 12224, 9391, 10645, 7372, 37666, 36984, 12224, 9559, 9456, 10905, 19739, 9675, 31187, 9368, 10106, 15476, 25218, 39548, 31200, 30122, 20518, 8137, 9754, 7655, 14388, 12224, 9559, 36217, 14887, 16373, 9417, 7756, 9675, 25098, 12720, 18174, 9964, 9172, 13225, 20488, 47724, 9304, 25098, 12720, 47890, 13525, 12224, 10730, 9133, 9417, 36587, 12941, 14020, 9671, 23593, 7285, 9445, 31187, 9368, 11379, 8159, 14887, 16373, 9643, 7194, 21916, 9717, 387, 9640, 38883, 9671, 23593, 9177, 11450, 9049, 7609, 26018, 12466, 9640, 8163, 9315, 7661, 29473, 15353, 37666], [31763, 9160, 8774, 435, 10063, 8215, 6884, 9033, 9494, 9605, 13933, 14450, 10352, 11771, 7177, 9311, 7671, 376, 739, 9536, 9183, 11546, 19029, 9154, 10993, 45409, 9036, 9340, 13154, 11151, 49421, 739, 12218, 648, 40779, 17947, 19378, 9140, 16641, 28614, 20866, 9915, 9206, 8243, 10370, 8143, 10524, 9209, 7395, 9974, 6824, 40624, 15946, 11639, 24628, 9474, 16298, 10756, 12610, 9494, 11270, 50429, 9814, 9206, 8243, 10370, 11599, 8084, 6953, 9030, 10001, 6884, 11269, 10440, 8756, 9140, 9494, 8091, 10524, 8084, 6953, 44977, 25037, 17356, 20173, 9033, 15070, 11023, 13154, 37194, 739, 11771, 7177, 7285, 14805, 24117, 9047, 9046, 12450, 9117, 7377, 12521, 16563, 39499, 7626, 11771, 435, 10063, 7967, 31506, 28482, 9122, 7098, 8084, 406, 16563, 29043, 9160, 8774, 435, 10063, 19561, 7788, 45887, 45409, 13154, 9033, 14658], [9265, 26620, 9337, 9025, 9080, 9548, 11683, 9054, 19377, 24117, 8137, 9535, 9885, 25856, 9051, 8146, 43417, 11928, 16691, 9051, 37770, 9093, 11990, 9893, 12051, 14732, 7680, 9466, 10038, 9018, 6857, 36483, 7955, 8092, 9368, 9676, 10771, 37350, 9236, 7967, 9239, 9249, 10635, 9696, 10217, 9651, 13333, 10948, 15709, 37350, 9236, 7967, 9054, 12005, 10108, 8236, 6872, 14364, 9198, 7172, 11076, 12936, 42444, 8359, 11263, 11358, 9456, 11102, 9109, 9329, 29095, 13885, 23498, 12521, 9051, 6947, 7399, 37209, 9183, 50368, 9031, 35691, 23775, 387, 9018, 6853, 406, 9782, 9265, 7162, 9093, 11990, 17355, 17840, 9033, 9548, 44443, 9751, 9093, 13581, 9080, 23498, 12521, 9051, 6920, 9839, 9893, 11990, 9122, 10410, 9183, 12312, 6866, 9676, 9108, 34935, 9282, 19647, 9281, 9377, 9183, 9124, 9277, 9362, 9093, 11127, 11254, 8148], [25268, 29895, 23666, 8159, 9899, 8265, 7848, 435, 10063, 7965, 7172, 9887, 10906, 10137, 17392, 25856, 12858, 17393, 9065, 14572, 9265, 8806, 15582, 38723, 10870, 10624, 7397, 9114, 7816, 8017, 16691, 9265, 8806, 10375, 9038, 38723, 9728, 8702, 7810, 9887, 10870, 9114, 7816, 6958, 9355, 9022, 10855, 8135, 45887, 17101, 45887, 11004, 9816, 13758, 12858, 16860, 12039, 9023, 739, 7719, 15597, 9543, 8602, 14938, 45847, 10648, 15597, 15759, 11993, 45887, 9535, 7422, 8263, 8084, 23398, 389, 9114, 7890, 7182, 9198, 6962, 7383, 45887, 10345, 739, 7130, 16691, 12858, 17393, 12684, 9131, 23633, 10165, 9199, 14059, 11732, 9183, 10341, 9068, 7372, 7788, 25856, 16563, 29043, 9212, 6944, 7799, 435, 10063, 6889, 12751, 13758, 739, 8245, 9217, 8084, 406, 16563, 37627, 29895, 23666, 8159, 9899, 8265, 7848, 435, 10063, 8046]], 'attention_mask': [[1, 1, 1, 1, 1, 1, 1, 1, 1, 1, 1, 1, 1, 1, 1, 1, 1, 1, 1, 1, 1, 1, 1, 1, 1, 1, 1, 1, 1, 1, 1, 1, 1, 1, 1, 1, 1, 1, 1, 1, 1, 1, 1, 1, 1, 1, 1, 1, 1, 1, 1, 1, 1, 1, 1, 1, 1, 1, 1, 1, 1, 1, 1, 1, 1, 1, 1, 1, 1, 1, 1, 1, 1, 1, 1, 1, 1, 1, 1, 1, 1, 1, 1, 1, 1, 1, 1, 1, 1, 1, 1, 1, 1, 1, 1, 1, 1, 1, 1, 1, 1, 1, 1, 1, 1, 1, 1, 1, 1, 1, 1, 1, 1, 1, 1, 1, 1, 1, 1, 1, 1, 1, 1, 1, 1, 1, 1, 1], [1, 1, 1, 1, 1, 1, 1, 1, 1, 1, 1, 1, 1, 1, 1, 1, 1, 1, 1, 1, 1, 1, 1, 1, 1, 1, 1, 1, 1, 1, 1, 1, 1, 1, 1, 1, 1, 1, 1, 1, 1, 1, 1, 1, 1, 1, 1, 1, 1, 1, 1, 1, 1, 1, 1, 1, 1, 1, 1, 1, 1, 1, 1, 1, 1, 1, 1, 1, 1, 1, 1, 1, 1, 1, 1, 1, 1, 1, 1, 1, 1, 1, 1, 1, 1, 1, 1, 1, 1, 1, 1, 1, 1, 1, 1, 1, 1, 1, 1, 1, 1, 1, 1, 1, 1, 1, 1, 1, 1, 1, 1, 1, 1, 1, 1, 1, 1, 1, 1, 1, 1, 1, 1, 1, 1, 1, 1, 1], [1, 1, 1, 1, 1, 1, 1, 1, 1, 1, 1, 1, 1, 1, 1, 1, 1, 1, 1, 1, 1, 1, 1, 1, 1, 1, 1, 1, 1, 1, 1, 1, 1, 1, 1, 1, 1, 1, 1, 1, 1, 1, 1, 1, 1, 1, 1, 1, 1, 1, 1, 1, 1, 1, 1, 1, 1, 1, 1, 1, 1, 1, 1, 1, 1, 1, 1, 1, 1, 1, 1, 1, 1, 1, 1, 1, 1, 1, 1, 1, 1, 1, 1, 1, 1, 1, 1, 1, 1, 1, 1, 1, 1, 1, 1, 1, 1, 1, 1, 1, 1, 1, 1, 1, 1, 1, 1, 1, 1, 1, 1, 1, 1, 1, 1, 1, 1, 1, 1, 1, 1, 1, 1, 1, 1, 1, 1, 1], [1, 1, 1, 1, 1, 1, 1, 1, 1, 1, 1, 1, 1, 1, 1, 1, 1, 1, 1, 1, 1, 1, 1, 1, 1, 1, 1, 1, 1, 1, 1, 1, 1, 1, 1, 1, 1, 1, 1, 1, 1, 1, 1, 1, 1, 1, 1, 1, 1, 1, 1, 1, 1, 1, 1, 1, 1, 1, 1, 1, 1, 1, 1, 1, 1, 1, 1, 1, 1, 1, 1, 1, 1, 1, 1, 1, 1, 1, 1, 1, 1, 1, 1, 1, 1, 1, 1, 1, 1, 1, 1, 1, 1, 1, 1, 1, 1, 1, 1, 1, 1, 1, 1, 1, 1, 1, 1, 1, 1, 1, 1, 1, 1, 1, 1, 1, 1, 1, 1, 1, 1, 1, 1, 1, 1, 1, 1, 1], [1, 1, 1, 1, 1, 1, 1, 1, 1, 1, 1, 1, 1, 1, 1, 1, 1, 1, 1, 1, 1, 1, 1, 1, 1, 1, 1, 1, 1, 1, 1, 1, 1, 1, 1, 1, 1, 1, 1, 1, 1, 1, 1, 1, 1, 1, 1, 1, 1, 1, 1, 1, 1, 1, 1, 1, 1, 1, 1, 1, 1, 1, 1, 1, 1, 1, 1, 1, 1, 1, 1, 1, 1, 1, 1, 1, 1, 1, 1, 1, 1, 1, 1, 1, 1, 1, 1, 1, 1, 1, 1, 1, 1, 1, 1, 1, 1, 1, 1, 1, 1, 1, 1, 1, 1, 1, 1, 1, 1, 1, 1, 1, 1, 1, 1, 1, 1, 1, 1, 1, 1, 1, 1, 1, 1, 1, 1, 1]], 'labels': [[27775, 27701, 13918, 9829, 15576, 10396, 9586, 8000, 14507, 22141, 10132, 22152, 9084, 7478, 22630, 36159, 10792, 9699, 27701, 11768, 9741, 20717, 10559, 9286, 12189, 23356, 9104, 9109, 10986, 7470, 18245, 13616, 14580, 8137, 11105, 13872, 739, 3, 3, 3, 3, 3, 3, 3, 3, 3, 3, 3, 3, 3, 3, 3, 3, 3, 3, 3, 3, 3, 3, 3, 3, 3, 3, 3, 3, 3, 3, 3, 3, 3, 3, 3, 3, 3, 3, 3, 3, 3, 3, 3, 3, 3, 3, 3, 3, 3, 3, 3, 3, 3, 3, 3, 3, 3, 3, 3, 3, 3, 3, 3, 3, 3, 3, 3, 3, 3, 3, 3, 3, 3, 3, 3, 3, 3, 3, 3, 3, 3, 3, 3, 3, 3, 3, 3, 3, 3, 3, 3], [20942, 16280, 10665, 9924, 25295, 411, 10054, 420, 10068, 422, 424, 417, 9329, 12765, 8718, 18050, 20816, 388, 9131, 8505, 9884, 9423, 25868, 6824, 9049, 32949, 10516, 8125, 10184, 8137, 33567, 10436, 9200, 9548, 16819, 14467, 45111, 13330, 18005, 3, 3, 3, 3, 3, 3, 3, 3, 3, 3, 3, 3, 3, 3, 3, 3, 3, 3, 3, 3, 3, 3, 3, 3, 3, 3, 3, 3, 3, 3, 3, 3, 3, 3, 3, 3, 3, 3, 3, 3, 3, 3, 3, 3, 3, 3, 3, 3, 3, 3, 3, 3, 3, 3, 3, 3, 3, 3, 3, 3, 3, 3, 3, 3, 3, 3, 3, 3, 3, 3, 3, 3, 3, 3, 3, 3, 3, 3, 3, 3, 3, 3, 3, 3, 3, 3, 3, 3, 3], [9206, 8243, 10370, 9494, 8091, 10524, 8084, 6953, 44977, 32294, 9140, 11599, 8084, 6953, 9753, 9167, 10001, 6884, 11269, 10440, 8756, 15070, 11023, 13154, 13872, 3, 3, 3, 3, 3, 3, 3, 3, 3, 3, 3, 3, 3, 3, 3, 3, 3, 3, 3, 3, 3, 3, 3, 3, 3, 3, 3, 3, 3, 3, 3, 3, 3, 3, 3, 3, 3, 3, 3, 3, 3, 3, 3, 3, 3, 3, 3, 3, 3, 3, 3, 3, 3, 3, 3, 3, 3, 3, 3, 3, 3, 3, 3, 3, 3, 3, 3, 3, 3, 3, 3, 3, 3, 3, 3, 3, 3, 3, 3, 3, 3, 3, 3, 3, 3, 3, 3, 3, 3, 3, 3, 3, 3, 3, 3, 3, 3, 3, 3, 3, 3, 3, 3], [9751, 9093, 12326, 9893, 11990, 9122, 10410, 12964, 34935, 9282, 19647, 9281, 7799, 9033, 9290, 9183, 9124, 9337, 32437, 10960, 3, 3, 3, 3, 3, 3, 3, 3, 3, 3, 3, 3, 3, 3, 3, 3, 3, 3, 3, 3, 3, 3, 3, 3, 3, 3, 3, 3, 3, 3, 3, 3, 3, 3, 3, 3, 3, 3, 3, 3, 3, 3, 3, 3, 3, 3, 3, 3, 3, 3, 3, 3, 3, 3, 3, 3, 3, 3, 3, 3, 3, 3, 3, 3, 3, 3, 3, 3, 3, 3, 3, 3, 3, 3, 3, 3, 3, 3, 3, 3, 3, 3, 3, 3, 3, 3, 3, 3, 3, 3, 3, 3, 3, 3, 3, 3, 3, 3, 3, 3, 3, 3, 3, 3, 3, 3, 3, 3], [9212, 11771, 10201, 14067, 9436, 48145, 10265, 7235, 17392, 9036, 33964, 9774, 8361, 7958, 9848, 7162, 17389, 7235, 9320, 9149, 9191, 9869, 8137, 9065, 7540, 9134, 739, 8245, 15433, 9169, 18174, 3, 3, 3, 3, 3, 3, 3, 3, 3, 3, 3, 3, 3, 3, 3, 3, 3, 3, 3, 3, 3, 3, 3, 3, 3, 3, 3, 3, 3, 3, 3, 3, 3, 3, 3, 3, 3, 3, 3, 3, 3, 3, 3, 3, 3, 3, 3, 3, 3, 3, 3, 3, 3, 3, 3, 3, 3, 3, 3, 3, 3, 3, 3, 3, 3, 3, 3, 3, 3, 3, 3, 3, 3, 3, 3, 3, 3, 3, 3, 3, 3, 3, 3, 3, 3, 3, 3, 3, 3, 3, 3, 3, 3, 3, 3, 3, 3]]}\n"
          ]
        }
      ]
    },
    {
      "cell_type": "code",
      "source": [
        "# import numpy as np\n",
        "# len(encoded_data['test']['input_ids'][0]), len(encoded_data['train']['input_ids'][0])"
      ],
      "metadata": {
        "id": "Lc60iuA9Gpa_"
      },
      "execution_count": 15,
      "outputs": []
    },
    {
      "cell_type": "code",
      "source": [
        "# len(encoded_data['test']['labels'][0]), len(encoded_data['train']['labels'][0])"
      ],
      "metadata": {
        "id": "KJYlWupbHmqA"
      },
      "execution_count": 16,
      "outputs": []
    },
    {
      "cell_type": "code",
      "source": [
        "# len(encoded_data['test']['attention_mask'][0]), len(encoded_data['train']['attention_mask'][0])"
      ],
      "metadata": {
        "id": "OWWRK2yMIA0A"
      },
      "execution_count": 17,
      "outputs": []
    },
    {
      "cell_type": "markdown",
      "source": [
        "expected sequence of length 278 at dim 1 (got 281)"
      ],
      "metadata": {
        "id": "Fu-ec_iWH3Qu"
      }
    },
    {
      "cell_type": "code",
      "source": [
        "# import seaborn as sns "
      ],
      "metadata": {
        "id": "aLOexLprxiMz"
      },
      "execution_count": 18,
      "outputs": []
    },
    {
      "cell_type": "markdown",
      "source": [
        "> `map():`\n",
        "* Data dictionary에 있는 모든 데이터들이 한번에 토크나징 적용시킬 수 있습니다.\n",
        "* 우리는 map을 사용해 토크나이징을 진행하기 때문에 batch를 적용해야 되므로 batched=True 설정"
      ],
      "metadata": {
        "id": "tthQu5tAwMRi"
      }
    },
    {
      "cell_type": "code",
      "source": [
        "encoded_data = dataset.map(transform, batched=True)"
      ],
      "metadata": {
        "colab": {
          "base_uri": "https://localhost:8080/"
        },
        "id": "mH9f2rMmvheF",
        "outputId": "a2f6ea71-e2e7-4c0e-8d64-16ab951f9ed6"
      },
      "execution_count": 19,
      "outputs": [
        {
          "output_type": "stream",
          "name": "stderr",
          "text": [
            "WARNING:datasets.arrow_dataset:Loading cached processed dataset at /root/.cache/huggingface/datasets/csv/default-7777a928465ab9a1/0.0.0/6b34fb8fcf56f7c8ba51dc895bfa2bfbe43546f190a60fcf74bb5e8afdcc2317/cache-bc4efaed5d947924.arrow\n",
            "WARNING:datasets.arrow_dataset:Loading cached processed dataset at /root/.cache/huggingface/datasets/csv/default-7777a928465ab9a1/0.0.0/6b34fb8fcf56f7c8ba51dc895bfa2bfbe43546f190a60fcf74bb5e8afdcc2317/cache-2f6b94f04974b38e.arrow\n",
            "WARNING:datasets.arrow_dataset:Loading cached processed dataset at /root/.cache/huggingface/datasets/csv/default-7777a928465ab9a1/0.0.0/6b34fb8fcf56f7c8ba51dc895bfa2bfbe43546f190a60fcf74bb5e8afdcc2317/cache-5e632d283808d42c.arrow\n"
          ]
        }
      ]
    },
    {
      "cell_type": "code",
      "source": [
        "encoded_data"
      ],
      "metadata": {
        "colab": {
          "base_uri": "https://localhost:8080/"
        },
        "id": "w9DUkKxpASDQ",
        "outputId": "d79c4bee-2b2a-478b-90c5-58ecd459580f"
      },
      "execution_count": 20,
      "outputs": [
        {
          "output_type": "execute_result",
          "data": {
            "text/plain": [
              "DatasetDict({\n",
              "    train: Dataset({\n",
              "        features: ['input', 'target', 'input_ids', 'attention_mask', 'labels'],\n",
              "        num_rows: 15250\n",
              "    })\n",
              "    val: Dataset({\n",
              "        features: ['input', 'target', 'input_ids', 'attention_mask', 'labels'],\n",
              "        num_rows: 18300\n",
              "    })\n",
              "    test: Dataset({\n",
              "        features: ['input', 'target', 'input_ids', 'attention_mask', 'labels'],\n",
              "        num_rows: 3050\n",
              "    })\n",
              "})"
            ]
          },
          "metadata": {},
          "execution_count": 20
        }
      ]
    },
    {
      "cell_type": "markdown",
      "source": [
        "## (3) Train/Evaluation과 Test"
      ],
      "metadata": {
        "id": "oYp44akmwT0m"
      }
    },
    {
      "cell_type": "markdown",
      "source": [
        ">Trainer\n",
        "* 사용하기 위해서는 TrainingArguments를 통해 학습 관련 설정을 미리 지정"
      ],
      "metadata": {
        "id": "5qLhg3IDwbkK"
      }
    },
    {
      "cell_type": "code",
      "source": [
        "! pip install evaluate"
      ],
      "metadata": {
        "id": "iTcdHUgBzbkD",
        "colab": {
          "base_uri": "https://localhost:8080/"
        },
        "outputId": "2318c6d0-ce99-431e-e2e9-e92c95465b1b"
      },
      "execution_count": 21,
      "outputs": [
        {
          "output_type": "stream",
          "name": "stdout",
          "text": [
            "Looking in indexes: https://pypi.org/simple, https://us-python.pkg.dev/colab-wheels/public/simple/\n",
            "Requirement already satisfied: evaluate in /usr/local/lib/python3.7/dist-packages (0.3.0)\n",
            "Requirement already satisfied: tqdm>=4.62.1 in /usr/local/lib/python3.7/dist-packages (from evaluate) (4.64.1)\n",
            "Requirement already satisfied: pandas in /usr/local/lib/python3.7/dist-packages (from evaluate) (1.3.5)\n",
            "Requirement already satisfied: numpy>=1.17 in /usr/local/lib/python3.7/dist-packages (from evaluate) (1.21.6)\n",
            "Requirement already satisfied: importlib-metadata in /usr/local/lib/python3.7/dist-packages (from evaluate) (4.13.0)\n",
            "Requirement already satisfied: dill in /usr/local/lib/python3.7/dist-packages (from evaluate) (0.3.5.1)\n",
            "Requirement already satisfied: requests>=2.19.0 in /usr/local/lib/python3.7/dist-packages (from evaluate) (2.23.0)\n",
            "Requirement already satisfied: datasets>=2.0.0 in /usr/local/lib/python3.7/dist-packages (from evaluate) (2.6.1)\n",
            "Requirement already satisfied: xxhash in /usr/local/lib/python3.7/dist-packages (from evaluate) (3.1.0)\n",
            "Requirement already satisfied: multiprocess in /usr/local/lib/python3.7/dist-packages (from evaluate) (0.70.13)\n",
            "Requirement already satisfied: fsspec[http]>=2021.05.0 in /usr/local/lib/python3.7/dist-packages (from evaluate) (2022.10.0)\n",
            "Requirement already satisfied: packaging in /usr/local/lib/python3.7/dist-packages (from evaluate) (21.3)\n",
            "Requirement already satisfied: huggingface-hub>=0.7.0 in /usr/local/lib/python3.7/dist-packages (from evaluate) (0.10.1)\n",
            "Requirement already satisfied: responses<0.19 in /usr/local/lib/python3.7/dist-packages (from evaluate) (0.18.0)\n",
            "Requirement already satisfied: pyyaml>=5.1 in /usr/local/lib/python3.7/dist-packages (from datasets>=2.0.0->evaluate) (6.0)\n",
            "Requirement already satisfied: pyarrow>=6.0.0 in /usr/local/lib/python3.7/dist-packages (from datasets>=2.0.0->evaluate) (6.0.1)\n",
            "Requirement already satisfied: aiohttp in /usr/local/lib/python3.7/dist-packages (from datasets>=2.0.0->evaluate) (3.8.3)\n",
            "Requirement already satisfied: frozenlist>=1.1.1 in /usr/local/lib/python3.7/dist-packages (from aiohttp->datasets>=2.0.0->evaluate) (1.3.1)\n",
            "Requirement already satisfied: async-timeout<5.0,>=4.0.0a3 in /usr/local/lib/python3.7/dist-packages (from aiohttp->datasets>=2.0.0->evaluate) (4.0.2)\n",
            "Requirement already satisfied: asynctest==0.13.0 in /usr/local/lib/python3.7/dist-packages (from aiohttp->datasets>=2.0.0->evaluate) (0.13.0)\n",
            "Requirement already satisfied: multidict<7.0,>=4.5 in /usr/local/lib/python3.7/dist-packages (from aiohttp->datasets>=2.0.0->evaluate) (6.0.2)\n",
            "Requirement already satisfied: aiosignal>=1.1.2 in /usr/local/lib/python3.7/dist-packages (from aiohttp->datasets>=2.0.0->evaluate) (1.2.0)\n",
            "Requirement already satisfied: typing-extensions>=3.7.4 in /usr/local/lib/python3.7/dist-packages (from aiohttp->datasets>=2.0.0->evaluate) (4.1.1)\n",
            "Requirement already satisfied: yarl<2.0,>=1.0 in /usr/local/lib/python3.7/dist-packages (from aiohttp->datasets>=2.0.0->evaluate) (1.8.1)\n",
            "Requirement already satisfied: attrs>=17.3.0 in /usr/local/lib/python3.7/dist-packages (from aiohttp->datasets>=2.0.0->evaluate) (22.1.0)\n",
            "Requirement already satisfied: charset-normalizer<3.0,>=2.0 in /usr/local/lib/python3.7/dist-packages (from aiohttp->datasets>=2.0.0->evaluate) (2.1.1)\n",
            "Requirement already satisfied: filelock in /usr/local/lib/python3.7/dist-packages (from huggingface-hub>=0.7.0->evaluate) (3.8.0)\n",
            "Requirement already satisfied: pyparsing!=3.0.5,>=2.0.2 in /usr/local/lib/python3.7/dist-packages (from packaging->evaluate) (3.0.9)\n",
            "Requirement already satisfied: certifi>=2017.4.17 in /usr/local/lib/python3.7/dist-packages (from requests>=2.19.0->evaluate) (2022.9.24)\n",
            "Requirement already satisfied: idna<3,>=2.5 in /usr/local/lib/python3.7/dist-packages (from requests>=2.19.0->evaluate) (2.10)\n",
            "Requirement already satisfied: urllib3!=1.25.0,!=1.25.1,<1.26,>=1.21.1 in /usr/local/lib/python3.7/dist-packages (from requests>=2.19.0->evaluate) (1.25.11)\n",
            "Requirement already satisfied: chardet<4,>=3.0.2 in /usr/local/lib/python3.7/dist-packages (from requests>=2.19.0->evaluate) (3.0.4)\n",
            "Requirement already satisfied: zipp>=0.5 in /usr/local/lib/python3.7/dist-packages (from importlib-metadata->evaluate) (3.10.0)\n",
            "Requirement already satisfied: pytz>=2017.3 in /usr/local/lib/python3.7/dist-packages (from pandas->evaluate) (2022.5)\n",
            "Requirement already satisfied: python-dateutil>=2.7.3 in /usr/local/lib/python3.7/dist-packages (from pandas->evaluate) (2.8.2)\n",
            "Requirement already satisfied: six>=1.5 in /usr/local/lib/python3.7/dist-packages (from python-dateutil>=2.7.3->pandas->evaluate) (1.15.0)\n"
          ]
        }
      ]
    },
    {
      "cell_type": "code",
      "source": [
        "! pip install rouge_score"
      ],
      "metadata": {
        "id": "o_DmQWLM0n9G",
        "colab": {
          "base_uri": "https://localhost:8080/"
        },
        "outputId": "a549de74-541d-425b-8b50-e2bd9267ec74"
      },
      "execution_count": 22,
      "outputs": [
        {
          "output_type": "stream",
          "name": "stdout",
          "text": [
            "Looking in indexes: https://pypi.org/simple, https://us-python.pkg.dev/colab-wheels/public/simple/\n",
            "Requirement already satisfied: rouge_score in /usr/local/lib/python3.7/dist-packages (0.1.2)\n",
            "Requirement already satisfied: numpy in /usr/local/lib/python3.7/dist-packages (from rouge_score) (1.21.6)\n",
            "Requirement already satisfied: six>=1.14.0 in /usr/local/lib/python3.7/dist-packages (from rouge_score) (1.15.0)\n",
            "Requirement already satisfied: absl-py in /usr/local/lib/python3.7/dist-packages (from rouge_score) (1.3.0)\n",
            "Requirement already satisfied: nltk in /usr/local/lib/python3.7/dist-packages (from rouge_score) (3.7)\n",
            "Requirement already satisfied: click in /usr/local/lib/python3.7/dist-packages (from nltk->rouge_score) (7.1.2)\n",
            "Requirement already satisfied: joblib in /usr/local/lib/python3.7/dist-packages (from nltk->rouge_score) (1.2.0)\n",
            "Requirement already satisfied: regex>=2021.8.3 in /usr/local/lib/python3.7/dist-packages (from nltk->rouge_score) (2022.6.2)\n",
            "Requirement already satisfied: tqdm in /usr/local/lib/python3.7/dist-packages (from nltk->rouge_score) (4.64.1)\n"
          ]
        }
      ]
    },
    {
      "cell_type": "code",
      "source": [
        "import evaluate"
      ],
      "metadata": {
        "id": "H_dSnOQm0kYe"
      },
      "execution_count": 23,
      "outputs": []
    },
    {
      "cell_type": "code",
      "source": [
        "rouge = evaluate.load('rouge')\n",
        "\n",
        "predictions = [\"hello there 2\", \"general kenobi\"]\n",
        "references = [\"hello there\", \"general kenobi\"]\n",
        "results = rouge.compute(predictions=predictions, references=references)\n",
        "print(results)"
      ],
      "metadata": {
        "colab": {
          "base_uri": "https://localhost:8080/"
        },
        "id": "bDLlEmtkzyVv",
        "outputId": "d167a31b-4f5f-4153-8ae9-c51671116ad2"
      },
      "execution_count": 24,
      "outputs": [
        {
          "output_type": "stream",
          "name": "stdout",
          "text": [
            "{'rouge1': 0.9, 'rouge2': 0.8333333333333333, 'rougeL': 0.9, 'rougeLsum': 0.9}\n"
          ]
        }
      ]
    },
    {
      "cell_type": "code",
      "source": [
        "# def _rouge(guess, answers):\n",
        "#     global rouge\n",
        "#     \"\"\"Compute ROUGE score between guess and *any* answers. Return the best.\"\"\"\n",
        "#     if rouge is None:\n",
        "#         return None, None, None\n",
        "#     evaluator = rouge.Rouge(metrics=['rouge-n', 'rouge-l'], max_n=2)\n",
        "#     try:\n",
        "#         scores = [\n",
        "#             evaluator.get_scores(normalize_answer(guess), normalize_answer(a))\n",
        "#             for a in answers\n",
        "#         ]\n",
        "#     except LookupError:\n",
        "#         warn_once(\n",
        "#             'ROUGE requires nltk punkt tokenizer. Please run '\n",
        "#             '`python -c \"import nltk; nltk.download(\\'punkt\\')`'\n",
        "#         )\n",
        "#         rouge = None\n",
        "#         return None, None, None\n",
        "\n",
        "#     scores_rouge1 = [score['rouge-1']['r'] for score in scores]\n",
        "#     scores_rouge2 = [score['rouge-2']['r'] for score in scores]\n",
        "#     scores_rougeL = [score['rouge-l']['r'] for score in scores]\n",
        "#     return max(scores_rouge1), max(scores_rouge2), max(scores_rougeL)"
      ],
      "metadata": {
        "id": "s_87SorJ5kok"
      },
      "execution_count": 25,
      "outputs": []
    },
    {
      "cell_type": "code",
      "source": [
        "# scores = rouge.compute(\n",
        "#     predictions=[generated_summary], references=[reference_summary]\n",
        "# )\n",
        "# scores"
      ],
      "metadata": {
        "id": "jrhUU4uHCrSg"
      },
      "execution_count": 26,
      "outputs": []
    },
    {
      "cell_type": "code",
      "source": [
        "def compute_rouge(eval_pred):    \n",
        "    predictions,references = eval_pred\n",
        "    return rouge.compute(predictions=predictions, references = references)"
      ],
      "metadata": {
        "id": "O1UbOgZV05DW"
      },
      "execution_count": 27,
      "outputs": []
    },
    {
      "cell_type": "markdown",
      "source": [
        "* max_steps = 3"
      ],
      "metadata": {
        "id": "BZgAKip_gtGh"
      }
    },
    {
      "cell_type": "code",
      "source": [
        "# Trainer을 활용하는 형태로 모델 재생성\n",
        "from transformers import Trainer, TrainingArguments\n",
        "output_dir = '/content/drive/MyDrive/Jiwon/transformers'\n",
        "metric_name = 'rouge'\n",
        "\n",
        "training_arguments = TrainingArguments(\n",
        "    output_dir, # output이 저장될 경로\n",
        "    evaluation_strategy=\"epoch\", #evaluation하는 빈도\n",
        "    learning_rate = 2e-5, #learning_rate\n",
        "    per_device_train_batch_size = 16, # 각 device 당 batch size\n",
        "    per_device_eval_batch_size = 16, # evaluation 시에 batch size\n",
        "    num_train_epochs = 3, # train 시킬 총 epochs\n",
        "    weight_decay = 0.01, # weight decay\n",
        "    max_steps = 3,\n",
        "    do_eval = False\n",
        ")"
      ],
      "metadata": {
        "id": "bRjrWUpawa27"
      },
      "execution_count": 28,
      "outputs": []
    },
    {
      "cell_type": "code",
      "source": [
        "from datasets import load_metric\n",
        "# metric = load_metric('glue', 'mnli')\n",
        "\n",
        "def compute_metrics(eval_pred):    \n",
        "    predictions,labels = eval_pred\n",
        "    predictions = np.argmax(predictions, axis=1)\n",
        "    return metric.compute(predictions=predictions, references = labels)"
      ],
      "metadata": {
        "id": "PGo8GOCmOSm2"
      },
      "execution_count": 29,
      "outputs": []
    },
    {
      "cell_type": "code",
      "source": [
        "trainer = Trainer(\n",
        "    model=model,                           # 학습시킬 model\n",
        "    args=training_arguments,                  # TrainingArguments을 통해 설정한 arguments\n",
        "    train_dataset=encoded_data['train'],    # training dataset\n",
        "    eval_dataset=encoded_data['test'],       # evaluation dataset\n",
        "    compute_metrics=compute_rouge,\n",
        ")"
      ],
      "metadata": {
        "colab": {
          "base_uri": "https://localhost:8080/"
        },
        "id": "Yp6bBD9uxHv3",
        "outputId": "8c967c88-0659-42c4-8292-ada0a564ef95"
      },
      "execution_count": 30,
      "outputs": [
        {
          "output_type": "stream",
          "name": "stderr",
          "text": [
            "max_steps is given, it will override any value given in num_train_epochs\n"
          ]
        }
      ]
    },
    {
      "cell_type": "code",
      "source": [
        "trainer.train()"
      ],
      "metadata": {
        "colab": {
          "base_uri": "https://localhost:8080/",
          "height": 383
        },
        "id": "XKK64-0kRwv3",
        "outputId": "517b8e4a-a6e0-4a5c-fdea-01d281b91a29"
      },
      "execution_count": null,
      "outputs": [
        {
          "output_type": "stream",
          "name": "stderr",
          "text": [
            "The following columns in the training set don't have a corresponding argument in `GPT2LMHeadModel.forward` and have been ignored: target, input. If target, input are not expected by `GPT2LMHeadModel.forward`,  you can safely ignore this message.\n",
            "/usr/local/lib/python3.7/dist-packages/transformers/optimization.py:310: FutureWarning: This implementation of AdamW is deprecated and will be removed in a future version. Use the PyTorch implementation torch.optim.AdamW instead, or set `no_deprecation_warning=True` to disable this warning\n",
            "  FutureWarning,\n",
            "***** Running training *****\n",
            "  Num examples = 15250\n",
            "  Num Epochs = 1\n",
            "  Instantaneous batch size per device = 16\n",
            "  Total train batch size (w. parallel, distributed & accumulation) = 16\n",
            "  Gradient Accumulation steps = 1\n",
            "  Total optimization steps = 3\n",
            "  Number of trainable parameters = 125164032\n"
          ]
        },
        {
          "output_type": "display_data",
          "data": {
            "text/plain": [
              "<IPython.core.display.HTML object>"
            ],
            "text/html": [
              "\n",
              "    <div>\n",
              "      \n",
              "      <progress value='4' max='3' style='width:300px; height:20px; vertical-align: middle;'></progress>\n",
              "      [3/3 00:59, Epoch 0.00/1]\n",
              "    </div>\n",
              "    <table border=\"1\" class=\"dataframe\">\n",
              "  <thead>\n",
              " <tr style=\"text-align: left;\">\n",
              "      <th>Epoch</th>\n",
              "      <th>Training Loss</th>\n",
              "      <th>Validation Loss</th>\n",
              "    </tr>\n",
              "  </thead>\n",
              "  <tbody>\n",
              "  </tbody>\n",
              "</table><p>\n",
              "    <div>\n",
              "      \n",
              "      <progress value='11' max='191' style='width:300px; height:20px; vertical-align: middle;'></progress>\n",
              "      [ 11/191 02:00 < 36:01, 0.08 it/s]\n",
              "    </div>\n",
              "    "
            ]
          },
          "metadata": {}
        },
        {
          "output_type": "stream",
          "name": "stderr",
          "text": [
            "The following columns in the evaluation set don't have a corresponding argument in `GPT2LMHeadModel.forward` and have been ignored: target, input. If target, input are not expected by `GPT2LMHeadModel.forward`,  you can safely ignore this message.\n",
            "***** Running Evaluation *****\n",
            "  Num examples = 3050\n",
            "  Batch size = 16\n"
          ]
        }
      ]
    },
    {
      "cell_type": "code",
      "source": [
        "# trainer.evaluate(encoded_dataset['test'])"
      ],
      "metadata": {
        "id": "7eva0LkFxKl4"
      },
      "execution_count": null,
      "outputs": []
    },
    {
      "cell_type": "code",
      "source": [
        " rouge.compute(encoded_data[test])"
      ],
      "metadata": {
        "id": "nA3pTno852FY"
      },
      "execution_count": null,
      "outputs": []
    }
  ]
}