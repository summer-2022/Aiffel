{
  "nbformat": 4,
  "nbformat_minor": 0,
  "metadata": {
    "colab": {
      "name": "[Exp-01].Classification with toy datasets(digits, wine, breast cancer).ipynb",
      "provenance": [],
      "collapsed_sections": [
        "-jWVYeaS77Mk",
        "UkaF70wb8El6",
        "aeOUr_lSTV7E"
      ]
    },
    "kernelspec": {
      "name": "python3",
      "display_name": "Python 3"
    },
    "language_info": {
      "name": "python"
    }
  },
  "cells": [
    {
      "cell_type": "code",
      "execution_count": 170,
      "metadata": {
        "id": "gq4Mln5-4TjS"
      },
      "outputs": [],
      "source": [
        "import pandas as pd\n",
        "import numpy as np\n",
        "import matplotlib.pyplot as plt\n",
        "%matplotlib inline"
      ]
    },
    {
      "cell_type": "markdown",
      "source": [
        "#01. 분류모델"
      ],
      "metadata": {
        "id": "ovqj1SHnCSl-"
      }
    },
    {
      "cell_type": "markdown",
      "source": [
        "# 목차\n",
        "\n",
        "-  Project1. Load_digits: 손글씨 분류\n",
        "\n",
        "-  Project2. Load_wine : 와인 분류\n",
        "\n",
        "-  Project3. Load_breast_cancer : 유방암 진단\n",
        "\n",
        "    - Step (1) 필요한 모듈 import하기\n",
        "\n",
        "    - Step (2) 데이터 준비\n",
        "\n",
        "    - Step (3) 데이터 이해하기\n",
        "\n",
        "    - Step (4) train, test 데이터 분리\n",
        "\n",
        "    -step (5) 다양한 모델로 학습\n",
        "\n",
        "\n",
        "결론 : 모델 평가해 보기\n",
        "\n",
        "회고"
      ],
      "metadata": {
        "id": "OLLfGaQMnAhD"
      }
    },
    {
      "cell_type": "markdown",
      "source": [
        "---"
      ],
      "metadata": {
        "id": "TM753QxMpyuG"
      }
    },
    {
      "cell_type": "markdown",
      "source": [
        "#01) Load_digits: 손글씨 분류"
      ],
      "metadata": {
        "id": "-jWVYeaS77Mk"
      }
    },
    {
      "cell_type": "markdown",
      "source": [
        "step(1) 모듈 import하기"
      ],
      "metadata": {
        "id": "yAFntO2qseu9"
      }
    },
    {
      "cell_type": "markdown",
      "source": [
        "Step (2) 데이터 준비"
      ],
      "metadata": {
        "id": "bTD_cYWC3-bf"
      }
    },
    {
      "cell_type": "code",
      "source": [
        "from sklearn.datasets import load_digits\n",
        "digits = load_digits()\n",
        "print(dir(digits))"
      ],
      "metadata": {
        "colab": {
          "base_uri": "https://localhost:8080/"
        },
        "id": "wtLD8-yW4kWk",
        "outputId": "50638bdc-864a-40cd-c86d-44a8b9008928"
      },
      "execution_count": 171,
      "outputs": [
        {
          "output_type": "stream",
          "name": "stdout",
          "text": [
            "['DESCR', 'data', 'feature_names', 'frame', 'images', 'target', 'target_names']\n"
          ]
        }
      ]
    },
    {
      "cell_type": "code",
      "source": [
        "digits.keys()"
      ],
      "metadata": {
        "colab": {
          "base_uri": "https://localhost:8080/"
        },
        "id": "OiTVYTHW4zio",
        "outputId": "9ee9a55c-dda2-41f8-a020-b886e2fcf4e5"
      },
      "execution_count": 172,
      "outputs": [
        {
          "output_type": "execute_result",
          "data": {
            "text/plain": [
              "dict_keys(['data', 'target', 'frame', 'feature_names', 'target_names', 'images', 'DESCR'])"
            ]
          },
          "metadata": {},
          "execution_count": 172
        }
      ]
    },
    {
      "cell_type": "markdown",
      "source": [
        "Step (3) 데이터 이해하기"
      ],
      "metadata": {
        "id": "IH9kc4Ah4GZs"
      }
    },
    {
      "cell_type": "code",
      "source": [
        "#Feature Data 지정 \n",
        "digits_data = digits.data\n",
        "print(digits_data.shape)"
      ],
      "metadata": {
        "colab": {
          "base_uri": "https://localhost:8080/"
        },
        "id": "V8AN65l844c1",
        "outputId": "543156f4-93e6-4e25-b5f9-0bb35bfc1a8f"
      },
      "execution_count": 173,
      "outputs": [
        {
          "output_type": "stream",
          "name": "stdout",
          "text": [
            "(1797, 64)\n"
          ]
        }
      ]
    },
    {
      "cell_type": "code",
      "source": [
        "digits_data[0]"
      ],
      "metadata": {
        "colab": {
          "base_uri": "https://localhost:8080/"
        },
        "id": "0WHwLihG5Mtu",
        "outputId": "c586782c-a186-4e0d-babf-fd076d9ae954"
      },
      "execution_count": 174,
      "outputs": [
        {
          "output_type": "execute_result",
          "data": {
            "text/plain": [
              "array([ 0.,  0.,  5., 13.,  9.,  1.,  0.,  0.,  0.,  0., 13., 15., 10.,\n",
              "       15.,  5.,  0.,  0.,  3., 15.,  2.,  0., 11.,  8.,  0.,  0.,  4.,\n",
              "       12.,  0.,  0.,  8.,  8.,  0.,  0.,  5.,  8.,  0.,  0.,  9.,  8.,\n",
              "        0.,  0.,  4., 11.,  0.,  1., 12.,  7.,  0.,  0.,  2., 14.,  5.,\n",
              "       10., 12.,  0.,  0.,  0.,  0.,  6., 13., 10.,  0.,  0.,  0.])"
            ]
          },
          "metadata": {},
          "execution_count": 174
        }
      ]
    },
    {
      "cell_type": "code",
      "source": [
        "#Label Data 지정 \n",
        "digits_label = digits.target\n",
        "print(digits_label.shape)\n",
        "digits_label"
      ],
      "metadata": {
        "colab": {
          "base_uri": "https://localhost:8080/"
        },
        "id": "SA5XC9Kw5wGl",
        "outputId": "5e3de315-2746-479b-e789-7119ad4e3c21"
      },
      "execution_count": 175,
      "outputs": [
        {
          "output_type": "stream",
          "name": "stdout",
          "text": [
            "(1797,)\n"
          ]
        },
        {
          "output_type": "execute_result",
          "data": {
            "text/plain": [
              "array([0, 1, 2, ..., 8, 9, 8])"
            ]
          },
          "metadata": {},
          "execution_count": 175
        }
      ]
    },
    {
      "cell_type": "code",
      "source": [
        "# Target Names 출력\n",
        "digits.target_names"
      ],
      "metadata": {
        "colab": {
          "base_uri": "https://localhost:8080/"
        },
        "id": "_NEjjK8F6Yb5",
        "outputId": "03ba675c-18aa-47d4-8912-2dbf45da66be"
      },
      "execution_count": 176,
      "outputs": [
        {
          "output_type": "execute_result",
          "data": {
            "text/plain": [
              "array([0, 1, 2, 3, 4, 5, 6, 7, 8, 9])"
            ]
          },
          "metadata": {},
          "execution_count": 176
        }
      ]
    },
    {
      "cell_type": "code",
      "source": [
        "# 데이터 Drecribe \n",
        "print(digits.DESCR)"
      ],
      "metadata": {
        "colab": {
          "base_uri": "https://localhost:8080/"
        },
        "id": "ATF45Spv6qw4",
        "outputId": "13e46baf-7057-48e0-9afd-595ca710dc47"
      },
      "execution_count": 177,
      "outputs": [
        {
          "output_type": "stream",
          "name": "stdout",
          "text": [
            ".. _digits_dataset:\n",
            "\n",
            "Optical recognition of handwritten digits dataset\n",
            "--------------------------------------------------\n",
            "\n",
            "**Data Set Characteristics:**\n",
            "\n",
            "    :Number of Instances: 1797\n",
            "    :Number of Attributes: 64\n",
            "    :Attribute Information: 8x8 image of integer pixels in the range 0..16.\n",
            "    :Missing Attribute Values: None\n",
            "    :Creator: E. Alpaydin (alpaydin '@' boun.edu.tr)\n",
            "    :Date: July; 1998\n",
            "\n",
            "This is a copy of the test set of the UCI ML hand-written digits datasets\n",
            "https://archive.ics.uci.edu/ml/datasets/Optical+Recognition+of+Handwritten+Digits\n",
            "\n",
            "The data set contains images of hand-written digits: 10 classes where\n",
            "each class refers to a digit.\n",
            "\n",
            "Preprocessing programs made available by NIST were used to extract\n",
            "normalized bitmaps of handwritten digits from a preprinted form. From a\n",
            "total of 43 people, 30 contributed to the training set and different 13\n",
            "to the test set. 32x32 bitmaps are divided into nonoverlapping blocks of\n",
            "4x4 and the number of on pixels are counted in each block. This generates\n",
            "an input matrix of 8x8 where each element is an integer in the range\n",
            "0..16. This reduces dimensionality and gives invariance to small\n",
            "distortions.\n",
            "\n",
            "For info on NIST preprocessing routines, see M. D. Garris, J. L. Blue, G.\n",
            "T. Candela, D. L. Dimmick, J. Geist, P. J. Grother, S. A. Janet, and C.\n",
            "L. Wilson, NIST Form-Based Handprint Recognition System, NISTIR 5469,\n",
            "1994.\n",
            "\n",
            ".. topic:: References\n",
            "\n",
            "  - C. Kaynak (1995) Methods of Combining Multiple Classifiers and Their\n",
            "    Applications to Handwritten Digit Recognition, MSc Thesis, Institute of\n",
            "    Graduate Studies in Science and Engineering, Bogazici University.\n",
            "  - E. Alpaydin, C. Kaynak (1998) Cascading Classifiers, Kybernetika.\n",
            "  - Ken Tang and Ponnuthurai N. Suganthan and Xi Yao and A. Kai Qin.\n",
            "    Linear dimensionalityreduction using relevance weighted LDA. School of\n",
            "    Electrical and Electronic Engineering Nanyang Technological University.\n",
            "    2005.\n",
            "  - Claudio Gentile. A New Approximate Maximal Margin Classification\n",
            "    Algorithm. NIPS. 2000.\n",
            "\n"
          ]
        }
      ]
    },
    {
      "cell_type": "code",
      "source": [
        "plt.imshow(digits.data[0].reshape(8, 8), cmap='gray')\n",
        "plt.axis('off')\n",
        "plt.show()"
      ],
      "metadata": {
        "id": "5COXxWQt7kB-",
        "colab": {
          "base_uri": "https://localhost:8080/",
          "height": 248
        },
        "outputId": "a606b3de-c9c3-4e33-981a-3c930f819700"
      },
      "execution_count": 178,
      "outputs": [
        {
          "output_type": "display_data",
          "data": {
            "text/plain": [
              "<Figure size 432x288 with 1 Axes>"
            ],
            "image/png": "[encoded data removed]"
          },
          "metadata": {
            "needs_background": "light"
          }
        }
      ]
    },
    {
      "cell_type": "code",
      "source": [
        "for i in range(10):\n",
        "    plt.subplot(2, 5, i+1)\n",
        "    plt.imshow(digits.data[i].reshape(8, 8), cmap='gray')\n",
        "    plt.axis('off')\n",
        "plt.show()"
      ],
      "metadata": {
        "colab": {
          "base_uri": "https://localhost:8080/",
          "height": 207
        },
        "id": "FAIaaSivYqEj",
        "outputId": "4897b7ad-a9b5-4d10-ce49-3740ea89204d"
      },
      "execution_count": 179,
      "outputs": [
        {
          "output_type": "display_data",
          "data": {
            "text/plain": [
              "<Figure size 432x288 with 10 Axes>"
            ],
            "image/png": "[encoded data removed]"
          },
          "metadata": {
            "needs_background": "light"
          }
        }
      ]
    },
    {
      "cell_type": "markdown",
      "source": [
        "Step (4) train, test 데이터 분리"
      ],
      "metadata": {
        "id": "0JPGvesI4k0y"
      }
    },
    {
      "cell_type": "code",
      "source": [
        "from sklearn.model_selection import train_test_split\n",
        "\n",
        "X_train, X_test, y_train, y_test = train_test_split(digits_data, \n",
        "                                                    digits_label, \n",
        "                                                    test_size=0.2, \n",
        "                                                    random_state=42)\n",
        "\n",
        "print('X_train 개수: ', len(X_train),', X_test 개수: ', len(X_test))"
      ],
      "metadata": {
        "colab": {
          "base_uri": "https://localhost:8080/"
        },
        "id": "gZzv3lrVc9Em",
        "outputId": "80a16657-fb17-4468-90a9-0ed2ebc82c94"
      },
      "execution_count": 180,
      "outputs": [
        {
          "output_type": "stream",
          "name": "stdout",
          "text": [
            "X_train 개수:  1437 , X_test 개수:  360\n"
          ]
        }
      ]
    },
    {
      "cell_type": "markdown",
      "source": [
        "step (5) 다양한 모델로 학습"
      ],
      "metadata": {
        "id": "JZlRnwWY4qSt"
      }
    },
    {
      "cell_type": "markdown",
      "source": [
        "* 1)Decision Tree"
      ],
      "metadata": {
        "id": "JCv5lPHY1r0V"
      }
    },
    {
      "cell_type": "code",
      "source": [
        "from sklearn.tree import DecisionTreeClassifier\n",
        "\n",
        "decision_tree = DecisionTreeClassifier(random_state=32)\n",
        "print(decision_tree._estimator_type)"
      ],
      "metadata": {
        "colab": {
          "base_uri": "https://localhost:8080/"
        },
        "id": "F2q6NUyswqAQ",
        "outputId": "f062aecf-a8be-4d1e-d323-b0bab0eb3288"
      },
      "execution_count": 181,
      "outputs": [
        {
          "output_type": "stream",
          "name": "stdout",
          "text": [
            "classifier\n"
          ]
        }
      ]
    },
    {
      "cell_type": "code",
      "source": [
        "decision_tree.fit(X_train, y_train)\n",
        "y_pred = decision_tree.predict(X_test)\n",
        "#y_pred"
      ],
      "metadata": {
        "id": "Atp_t-KaxNbV"
      },
      "execution_count": 182,
      "outputs": []
    },
    {
      "cell_type": "code",
      "source": [
        "#y_test"
      ],
      "metadata": {
        "id": "rh-KvCFTyWJr"
      },
      "execution_count": 183,
      "outputs": []
    },
    {
      "cell_type": "code",
      "source": [
        "from sklearn.metrics import classification_report\n",
        "\n",
        "print(classification_report(y_test, y_pred))"
      ],
      "metadata": {
        "colab": {
          "base_uri": "https://localhost:8080/"
        },
        "id": "GRgQ8mAtysk5",
        "outputId": "39a4634c-26a2-4bbd-f4fa-13195d54f865"
      },
      "execution_count": 184,
      "outputs": [
        {
          "output_type": "stream",
          "name": "stdout",
          "text": [
            "              precision    recall  f1-score   support\n",
            "\n",
            "           0       0.97      0.88      0.92        33\n",
            "           1       0.81      0.79      0.80        28\n",
            "           2       0.87      0.82      0.84        33\n",
            "           3       0.79      0.91      0.85        34\n",
            "           4       0.81      0.85      0.83        46\n",
            "           5       0.91      0.83      0.87        47\n",
            "           6       0.94      0.94      0.94        35\n",
            "           7       0.81      0.85      0.83        34\n",
            "           8       0.85      0.77      0.81        30\n",
            "           9       0.80      0.88      0.83        40\n",
            "\n",
            "    accuracy                           0.85       360\n",
            "   macro avg       0.86      0.85      0.85       360\n",
            "weighted avg       0.86      0.85      0.85       360\n",
            "\n"
          ]
        }
      ]
    },
    {
      "cell_type": "code",
      "source": [
        "from sklearn.metrics import accuracy_score\n",
        "\n",
        "accuracy = accuracy_score(y_test, y_pred)\n",
        "accuracy"
      ],
      "metadata": {
        "colab": {
          "base_uri": "https://localhost:8080/"
        },
        "id": "Xw997TkFyi5z",
        "outputId": "6bed2f6f-e962-4d57-b82f-149e6c626be6"
      },
      "execution_count": 185,
      "outputs": [
        {
          "output_type": "execute_result",
          "data": {
            "text/plain": [
              "0.8527777777777777"
            ]
          },
          "metadata": {},
          "execution_count": 185
        }
      ]
    },
    {
      "cell_type": "markdown",
      "source": [
        "* 2)Random Forest"
      ],
      "metadata": {
        "id": "GM0v9087zGq7"
      }
    },
    {
      "cell_type": "code",
      "source": [
        "from sklearn.ensemble import RandomForestClassifier\n",
        "\n",
        "random_forest = RandomForestClassifier(random_state=42)\n",
        "random_forest.fit(X_train, y_train)\n",
        "y_pred = random_forest.predict(X_test)\n",
        "\n",
        "print(classification_report(y_test, y_pred))"
      ],
      "metadata": {
        "colab": {
          "base_uri": "https://localhost:8080/"
        },
        "id": "mFfL6qf_y18e",
        "outputId": "b1bc11ee-f1fa-4393-bb87-f5db6493f820"
      },
      "execution_count": 186,
      "outputs": [
        {
          "output_type": "stream",
          "name": "stdout",
          "text": [
            "              precision    recall  f1-score   support\n",
            "\n",
            "           0       1.00      0.97      0.98        33\n",
            "           1       0.97      1.00      0.98        28\n",
            "           2       1.00      1.00      1.00        33\n",
            "           3       1.00      0.94      0.97        34\n",
            "           4       0.98      1.00      0.99        46\n",
            "           5       0.94      0.96      0.95        47\n",
            "           6       0.97      0.97      0.97        35\n",
            "           7       0.97      0.97      0.97        34\n",
            "           8       0.97      0.97      0.97        30\n",
            "           9       0.95      0.95      0.95        40\n",
            "\n",
            "    accuracy                           0.97       360\n",
            "   macro avg       0.97      0.97      0.97       360\n",
            "weighted avg       0.97      0.97      0.97       360\n",
            "\n"
          ]
        }
      ]
    },
    {
      "cell_type": "code",
      "source": [
        "accuracy = accuracy_score(y_test, y_pred)\n",
        "accuracy"
      ],
      "metadata": {
        "colab": {
          "base_uri": "https://localhost:8080/"
        },
        "id": "Fz7DrALh10E4",
        "outputId": "49d9bf5b-45ed-436a-a1f0-dda907e9be28"
      },
      "execution_count": 187,
      "outputs": [
        {
          "output_type": "execute_result",
          "data": {
            "text/plain": [
              "0.9722222222222222"
            ]
          },
          "metadata": {},
          "execution_count": 187
        }
      ]
    },
    {
      "cell_type": "markdown",
      "source": [
        "* 3)SVM : Support Vector Machine"
      ],
      "metadata": {
        "id": "rtk4itOizxfs"
      }
    },
    {
      "cell_type": "code",
      "source": [
        "from sklearn import svm\n",
        "svm_model = svm.SVC()\n",
        "svm_model.fit(X_train, y_train)\n",
        "y_pred = svm_model.predict(X_test)\n",
        "\n",
        "print(classification_report(y_test, y_pred))"
      ],
      "metadata": {
        "colab": {
          "base_uri": "https://localhost:8080/"
        },
        "id": "EkHRvbrBzTUy",
        "outputId": "1496fd6f-bfd1-48a2-e900-35c6b2b3ed38"
      },
      "execution_count": 188,
      "outputs": [
        {
          "output_type": "stream",
          "name": "stdout",
          "text": [
            "              precision    recall  f1-score   support\n",
            "\n",
            "           0       1.00      1.00      1.00        33\n",
            "           1       1.00      1.00      1.00        28\n",
            "           2       1.00      1.00      1.00        33\n",
            "           3       1.00      1.00      1.00        34\n",
            "           4       1.00      1.00      1.00        46\n",
            "           5       0.98      0.98      0.98        47\n",
            "           6       0.97      1.00      0.99        35\n",
            "           7       0.97      0.97      0.97        34\n",
            "           8       1.00      0.97      0.98        30\n",
            "           9       0.95      0.95      0.95        40\n",
            "\n",
            "    accuracy                           0.99       360\n",
            "   macro avg       0.99      0.99      0.99       360\n",
            "weighted avg       0.99      0.99      0.99       360\n",
            "\n"
          ]
        }
      ]
    },
    {
      "cell_type": "code",
      "source": [
        "accuracy = accuracy_score(y_test, y_pred)\n",
        "accuracy"
      ],
      "metadata": {
        "colab": {
          "base_uri": "https://localhost:8080/"
        },
        "id": "HVHy9Qfa17C0",
        "outputId": "72b68e8b-ebb9-427c-d648-d33fea1ffbd5"
      },
      "execution_count": 189,
      "outputs": [
        {
          "output_type": "execute_result",
          "data": {
            "text/plain": [
              "0.9861111111111112"
            ]
          },
          "metadata": {},
          "execution_count": 189
        }
      ]
    },
    {
      "cell_type": "markdown",
      "source": [
        "* 4)SGD Classifier"
      ],
      "metadata": {
        "id": "ZfEqdP4f1DR2"
      }
    },
    {
      "cell_type": "code",
      "source": [
        "from sklearn.linear_model import SGDClassifier\n",
        "sgd_model = SGDClassifier()\n",
        "sgd_model.fit(X_train, y_train)\n",
        "y_pred = sgd_model.predict(X_test)\n",
        "\n",
        "print(classification_report(y_test, y_pred, zero_division=0))"
      ],
      "metadata": {
        "colab": {
          "base_uri": "https://localhost:8080/"
        },
        "id": "x1Y7rRIG0EWq",
        "outputId": "77aee4e6-aaa9-4c79-b944-e10e76ef16c4"
      },
      "execution_count": 190,
      "outputs": [
        {
          "output_type": "stream",
          "name": "stdout",
          "text": [
            "              precision    recall  f1-score   support\n",
            "\n",
            "           0       1.00      1.00      1.00        33\n",
            "           1       0.76      1.00      0.86        28\n",
            "           2       1.00      0.94      0.97        33\n",
            "           3       0.92      0.97      0.94        34\n",
            "           4       1.00      0.96      0.98        46\n",
            "           5       0.92      0.98      0.95        47\n",
            "           6       0.97      0.97      0.97        35\n",
            "           7       1.00      0.97      0.99        34\n",
            "           8       0.93      0.87      0.90        30\n",
            "           9       0.97      0.80      0.88        40\n",
            "\n",
            "    accuracy                           0.94       360\n",
            "   macro avg       0.95      0.95      0.94       360\n",
            "weighted avg       0.95      0.94      0.94       360\n",
            "\n"
          ]
        }
      ]
    },
    {
      "cell_type": "code",
      "source": [
        "accuracy = accuracy_score(y_test, y_pred)\n",
        "accuracy"
      ],
      "metadata": {
        "colab": {
          "base_uri": "https://localhost:8080/"
        },
        "id": "U44ju4Ps1_8T",
        "outputId": "a8011836-bd84-49e9-f834-44732aed5880"
      },
      "execution_count": 191,
      "outputs": [
        {
          "output_type": "execute_result",
          "data": {
            "text/plain": [
              "0.9444444444444444"
            ]
          },
          "metadata": {},
          "execution_count": 191
        }
      ]
    },
    {
      "cell_type": "markdown",
      "source": [
        "* 5)Logistic Regression"
      ],
      "metadata": {
        "id": "WMqm9e4S1PPJ"
      }
    },
    {
      "cell_type": "code",
      "source": [
        "from sklearn.linear_model import LogisticRegression\n",
        "logistic_model = LogisticRegression(max_iter = 10 ** 4) ## max_iter = 학습 횟수 늘려주세요 \n",
        "logistic_model.fit(X_train, y_train)\n",
        "y_pred = logistic_model.predict(X_test)\n",
        "\n",
        "print(classification_report(y_test, y_pred))"
      ],
      "metadata": {
        "colab": {
          "base_uri": "https://localhost:8080/"
        },
        "id": "DVA4D7GB0qFC",
        "outputId": "30471222-e243-4d23-a3ad-36739d534625"
      },
      "execution_count": 192,
      "outputs": [
        {
          "output_type": "stream",
          "name": "stdout",
          "text": [
            "              precision    recall  f1-score   support\n",
            "\n",
            "           0       1.00      1.00      1.00        33\n",
            "           1       0.97      1.00      0.98        28\n",
            "           2       0.97      1.00      0.99        33\n",
            "           3       0.97      0.97      0.97        34\n",
            "           4       1.00      0.98      0.99        46\n",
            "           5       0.92      0.94      0.93        47\n",
            "           6       0.97      0.97      0.97        35\n",
            "           7       1.00      0.97      0.99        34\n",
            "           8       0.97      0.97      0.97        30\n",
            "           9       0.97      0.95      0.96        40\n",
            "\n",
            "    accuracy                           0.97       360\n",
            "   macro avg       0.97      0.97      0.97       360\n",
            "weighted avg       0.97      0.97      0.97       360\n",
            "\n"
          ]
        }
      ]
    },
    {
      "cell_type": "code",
      "source": [
        "accuracy = accuracy_score(y_test, y_pred)\n",
        "accuracy"
      ],
      "metadata": {
        "colab": {
          "base_uri": "https://localhost:8080/"
        },
        "id": "0T3enc-p2C4q",
        "outputId": "9655a3d0-27d3-4aa3-c1d2-912ce00f8345"
      },
      "execution_count": 193,
      "outputs": [
        {
          "output_type": "execute_result",
          "data": {
            "text/plain": [
              "0.9722222222222222"
            ]
          },
          "metadata": {},
          "execution_count": 193
        }
      ]
    },
    {
      "cell_type": "markdown",
      "source": [
        "#02)Load_wine : 와인 분류"
      ],
      "metadata": {
        "id": "UkaF70wb8El6"
      }
    },
    {
      "cell_type": "markdown",
      "source": [
        "step(1) 모듈 import하기"
      ],
      "metadata": {
        "id": "dW8do4xGqqjo"
      }
    },
    {
      "cell_type": "code",
      "source": [
        "from sklearn.datasets import load_wine\n",
        "from sklearn.model_selection import train_test_split\n",
        "from sklearn.metrics import classification_report"
      ],
      "metadata": {
        "id": "jTfSLdRi8KUm"
      },
      "execution_count": 141,
      "outputs": []
    },
    {
      "cell_type": "markdown",
      "source": [
        "step(2) 데이터 준비"
      ],
      "metadata": {
        "id": "e04goQhDqusz"
      }
    },
    {
      "cell_type": "code",
      "source": [
        "wine = load_wine()\n",
        "print(dir(wine))"
      ],
      "metadata": {
        "colab": {
          "base_uri": "https://localhost:8080/"
        },
        "id": "xQydSEn1-UYu",
        "outputId": "aca10674-02e6-40bc-ecb7-e8465b2884fe"
      },
      "execution_count": 142,
      "outputs": [
        {
          "output_type": "stream",
          "name": "stdout",
          "text": [
            "['DESCR', 'data', 'feature_names', 'frame', 'target', 'target_names']\n"
          ]
        }
      ]
    },
    {
      "cell_type": "markdown",
      "source": [
        "step(3)  데이터 이해하기"
      ],
      "metadata": {
        "id": "fTJo9YqLq2lj"
      }
    },
    {
      "cell_type": "code",
      "source": [
        "#wine.keys()\n",
        "#print(wine.DESCR)"
      ],
      "metadata": {
        "id": "-I1yAfM18SA6"
      },
      "execution_count": 143,
      "outputs": []
    },
    {
      "cell_type": "code",
      "source": [
        "# Feature Names 출력해 보기\n",
        "wine.feature_names\n",
        "#len(wine.feature_names)"
      ],
      "metadata": {
        "colab": {
          "base_uri": "https://localhost:8080/"
        },
        "id": "SQirAYZC_X3u",
        "outputId": "2a6284b7-f470-4052-cb1c-9fe0cbc1cb74"
      },
      "execution_count": 144,
      "outputs": [
        {
          "output_type": "execute_result",
          "data": {
            "text/plain": [
              "['alcohol',\n",
              " 'malic_acid',\n",
              " 'ash',\n",
              " 'alcalinity_of_ash',\n",
              " 'magnesium',\n",
              " 'total_phenols',\n",
              " 'flavanoids',\n",
              " 'nonflavanoid_phenols',\n",
              " 'proanthocyanins',\n",
              " 'color_intensity',\n",
              " 'hue',\n",
              " 'od280/od315_of_diluted_wines',\n",
              " 'proline']"
            ]
          },
          "metadata": {},
          "execution_count": 144
        }
      ]
    },
    {
      "cell_type": "code",
      "source": [
        "# Target Names 출력해 보기\n",
        "wine.target_names\n",
        "#len(wine.target_names)"
      ],
      "metadata": {
        "colab": {
          "base_uri": "https://localhost:8080/"
        },
        "id": "aw0m3ANc-nrv",
        "outputId": "bd1b6ae6-391e-40d1-9ad7-358aac01f64e"
      },
      "execution_count": 145,
      "outputs": [
        {
          "output_type": "execute_result",
          "data": {
            "text/plain": [
              "array(['class_0', 'class_1', 'class_2'], dtype='<U7')"
            ]
          },
          "metadata": {},
          "execution_count": 145
        }
      ]
    },
    {
      "cell_type": "code",
      "source": [
        "# Feature Data 지정하기\n",
        "wine_data = wine.data\n",
        "print(wine_data.shape)"
      ],
      "metadata": {
        "colab": {
          "base_uri": "https://localhost:8080/"
        },
        "id": "tY7lrxDv_aQH",
        "outputId": "be84510d-9f04-4eeb-c1b4-83bd9045052c"
      },
      "execution_count": 146,
      "outputs": [
        {
          "output_type": "stream",
          "name": "stdout",
          "text": [
            "(178, 13)\n"
          ]
        }
      ]
    },
    {
      "cell_type": "code",
      "source": [
        "wine_data[0]"
      ],
      "metadata": {
        "colab": {
          "base_uri": "https://localhost:8080/"
        },
        "id": "LtLWn3xX_0sP",
        "outputId": "b7b7232a-6b74-46c0-f5e0-8aebcb292147"
      },
      "execution_count": 147,
      "outputs": [
        {
          "output_type": "execute_result",
          "data": {
            "text/plain": [
              "array([1.423e+01, 1.710e+00, 2.430e+00, 1.560e+01, 1.270e+02, 2.800e+00,\n",
              "       3.060e+00, 2.800e-01, 2.290e+00, 5.640e+00, 1.040e+00, 3.920e+00,\n",
              "       1.065e+03])"
            ]
          },
          "metadata": {},
          "execution_count": 147
        }
      ]
    },
    {
      "cell_type": "code",
      "source": [
        "# Label Data 지정하기\n",
        "wine_label = wine.target\n",
        "print(wine_label.shape)\n",
        "wine_label"
      ],
      "metadata": {
        "colab": {
          "base_uri": "https://localhost:8080/"
        },
        "id": "LXToFU2YAVXv",
        "outputId": "9536c6b3-72dc-4013-a383-b90691b26da0"
      },
      "execution_count": 148,
      "outputs": [
        {
          "output_type": "stream",
          "name": "stdout",
          "text": [
            "(178,)\n"
          ]
        },
        {
          "output_type": "execute_result",
          "data": {
            "text/plain": [
              "array([0, 0, 0, 0, 0, 0, 0, 0, 0, 0, 0, 0, 0, 0, 0, 0, 0, 0, 0, 0, 0, 0,\n",
              "       0, 0, 0, 0, 0, 0, 0, 0, 0, 0, 0, 0, 0, 0, 0, 0, 0, 0, 0, 0, 0, 0,\n",
              "       0, 0, 0, 0, 0, 0, 0, 0, 0, 0, 0, 0, 0, 0, 0, 1, 1, 1, 1, 1, 1, 1,\n",
              "       1, 1, 1, 1, 1, 1, 1, 1, 1, 1, 1, 1, 1, 1, 1, 1, 1, 1, 1, 1, 1, 1,\n",
              "       1, 1, 1, 1, 1, 1, 1, 1, 1, 1, 1, 1, 1, 1, 1, 1, 1, 1, 1, 1, 1, 1,\n",
              "       1, 1, 1, 1, 1, 1, 1, 1, 1, 1, 1, 1, 1, 1, 1, 1, 1, 1, 1, 1, 2, 2,\n",
              "       2, 2, 2, 2, 2, 2, 2, 2, 2, 2, 2, 2, 2, 2, 2, 2, 2, 2, 2, 2, 2, 2,\n",
              "       2, 2, 2, 2, 2, 2, 2, 2, 2, 2, 2, 2, 2, 2, 2, 2, 2, 2, 2, 2, 2, 2,\n",
              "       2, 2])"
            ]
          },
          "metadata": {},
          "execution_count": 148
        }
      ]
    },
    {
      "cell_type": "code",
      "source": [
        "wine_df = pd.DataFrame(data=wine_data, columns=wine.feature_names)\n",
        "wine_df.head()"
      ],
      "metadata": {
        "colab": {
          "base_uri": "https://localhost:8080/",
          "height": 270
        },
        "id": "mKlq-u4HA9_0",
        "outputId": "655ce2ab-8d62-41d7-d5a8-0b2cdeea17b9"
      },
      "execution_count": 149,
      "outputs": [
        {
          "output_type": "execute_result",
          "data": {
            "text/plain": [
              "   alcohol  malic_acid   ash  alcalinity_of_ash  magnesium  total_phenols  \\\n",
              "0    14.23        1.71  2.43               15.6      127.0           2.80   \n",
              "1    13.20        1.78  2.14               11.2      100.0           2.65   \n",
              "2    13.16        2.36  2.67               18.6      101.0           2.80   \n",
              "3    14.37        1.95  2.50               16.8      113.0           3.85   \n",
              "4    13.24        2.59  2.87               21.0      118.0           2.80   \n",
              "\n",
              "   flavanoids  nonflavanoid_phenols  proanthocyanins  color_intensity   hue  \\\n",
              "0        3.06                  0.28             2.29             5.64  1.04   \n",
              "1        2.76                  0.26             1.28             4.38  1.05   \n",
              "2        3.24                  0.30             2.81             5.68  1.03   \n",
              "3        3.49                  0.24             2.18             7.80  0.86   \n",
              "4        2.69                  0.39             1.82             4.32  1.04   \n",
              "\n",
              "   od280/od315_of_diluted_wines  proline  \n",
              "0                          3.92   1065.0  \n",
              "1                          3.40   1050.0  \n",
              "2                          3.17   1185.0  \n",
              "3                          3.45   1480.0  \n",
              "4                          2.93    735.0  "
            ],
            "text/html": [
              "\n",
              "  <div id=\"df-4922219a-c5dd-4251-a95a-9ba9c9828c16\">\n",
              "    <div class=\"colab-df-container\">\n",
              "      <div>\n",
              "<style scoped>\n",
              "    .dataframe tbody tr th:only-of-type {\n",
              "        vertical-align: middle;\n",
              "    }\n",
              "\n",
              "    .dataframe tbody tr th {\n",
              "        vertical-align: top;\n",
              "    }\n",
              "\n",
              "    .dataframe thead th {\n",
              "        text-align: right;\n",
              "    }\n",
              "</style>\n",
              "<table border=\"1\" class=\"dataframe\">\n",
              "  <thead>\n",
              "    <tr style=\"text-align: right;\">\n",
              "      <th></th>\n",
              "      <th>alcohol</th>\n",
              "      <th>malic_acid</th>\n",
              "      <th>ash</th>\n",
              "      <th>alcalinity_of_ash</th>\n",
              "      <th>magnesium</th>\n",
              "      <th>total_phenols</th>\n",
              "      <th>flavanoids</th>\n",
              "      <th>nonflavanoid_phenols</th>\n",
              "      <th>proanthocyanins</th>\n",
              "      <th>color_intensity</th>\n",
              "      <th>hue</th>\n",
              "      <th>od280/od315_of_diluted_wines</th>\n",
              "      <th>proline</th>\n",
              "    </tr>\n",
              "  </thead>\n",
              "  <tbody>\n",
              "    <tr>\n",
              "      <th>0</th>\n",
              "      <td>14.23</td>\n",
              "      <td>1.71</td>\n",
              "      <td>2.43</td>\n",
              "      <td>15.6</td>\n",
              "      <td>127.0</td>\n",
              "      <td>2.80</td>\n",
              "      <td>3.06</td>\n",
              "      <td>0.28</td>\n",
              "      <td>2.29</td>\n",
              "      <td>5.64</td>\n",
              "      <td>1.04</td>\n",
              "      <td>3.92</td>\n",
              "      <td>1065.0</td>\n",
              "    </tr>\n",
              "    <tr>\n",
              "      <th>1</th>\n",
              "      <td>13.20</td>\n",
              "      <td>1.78</td>\n",
              "      <td>2.14</td>\n",
              "      <td>11.2</td>\n",
              "      <td>100.0</td>\n",
              "      <td>2.65</td>\n",
              "      <td>2.76</td>\n",
              "      <td>0.26</td>\n",
              "      <td>1.28</td>\n",
              "      <td>4.38</td>\n",
              "      <td>1.05</td>\n",
              "      <td>3.40</td>\n",
              "      <td>1050.0</td>\n",
              "    </tr>\n",
              "    <tr>\n",
              "      <th>2</th>\n",
              "      <td>13.16</td>\n",
              "      <td>2.36</td>\n",
              "      <td>2.67</td>\n",
              "      <td>18.6</td>\n",
              "      <td>101.0</td>\n",
              "      <td>2.80</td>\n",
              "      <td>3.24</td>\n",
              "      <td>0.30</td>\n",
              "      <td>2.81</td>\n",
              "      <td>5.68</td>\n",
              "      <td>1.03</td>\n",
              "      <td>3.17</td>\n",
              "      <td>1185.0</td>\n",
              "    </tr>\n",
              "    <tr>\n",
              "      <th>3</th>\n",
              "      <td>14.37</td>\n",
              "      <td>1.95</td>\n",
              "      <td>2.50</td>\n",
              "      <td>16.8</td>\n",
              "      <td>113.0</td>\n",
              "      <td>3.85</td>\n",
              "      <td>3.49</td>\n",
              "      <td>0.24</td>\n",
              "      <td>2.18</td>\n",
              "      <td>7.80</td>\n",
              "      <td>0.86</td>\n",
              "      <td>3.45</td>\n",
              "      <td>1480.0</td>\n",
              "    </tr>\n",
              "    <tr>\n",
              "      <th>4</th>\n",
              "      <td>13.24</td>\n",
              "      <td>2.59</td>\n",
              "      <td>2.87</td>\n",
              "      <td>21.0</td>\n",
              "      <td>118.0</td>\n",
              "      <td>2.80</td>\n",
              "      <td>2.69</td>\n",
              "      <td>0.39</td>\n",
              "      <td>1.82</td>\n",
              "      <td>4.32</td>\n",
              "      <td>1.04</td>\n",
              "      <td>2.93</td>\n",
              "      <td>735.0</td>\n",
              "    </tr>\n",
              "  </tbody>\n",
              "</table>\n",
              "</div>\n",
              "      <button class=\"colab-df-convert\" onclick=\"convertToInteractive('df-4922219a-c5dd-4251-a95a-9ba9c9828c16')\"\n",
              "              title=\"Convert this dataframe to an interactive table.\"\n",
              "              style=\"display:none;\">\n",
              "        \n",
              "  <svg xmlns=\"http://www.w3.org/2000/svg\" height=\"24px\"viewBox=\"0 0 24 24\"\n",
              "       width=\"24px\">\n",
              "    <path d=\"M0 0h24v24H0V0z\" fill=\"none\"/>\n",
              "    <path d=\"M18.56 5.44l.94 2.06.94-2.06 2.06-.94-2.06-.94-.94-2.06-.94 2.06-2.06.94zm-11 1L8.5 8.5l.94-2.06 2.06-.94-2.06-.94L8.5 2.5l-.94 2.06-2.06.94zm10 10l.94 2.06.94-2.06 2.06-.94-2.06-.94-.94-2.06-.94 2.06-2.06.94z\"/><path d=\"M17.41 7.96l-1.37-1.37c-.4-.4-.92-.59-1.43-.59-.52 0-1.04.2-1.43.59L10.3 9.45l-7.72 7.72c-.78.78-.78 2.05 0 2.83L4 21.41c.39.39.9.59 1.41.59.51 0 1.02-.2 1.41-.59l7.78-7.78 2.81-2.81c.8-.78.8-2.07 0-2.86zM5.41 20L4 18.59l7.72-7.72 1.47 1.35L5.41 20z\"/>\n",
              "  </svg>\n",
              "      </button>\n",
              "      \n",
              "  <style>\n",
              "    .colab-df-container {\n",
              "      display:flex;\n",
              "      flex-wrap:wrap;\n",
              "      gap: 12px;\n",
              "    }\n",
              "\n",
              "    .colab-df-convert {\n",
              "      background-color: #E8F0FE;\n",
              "      border: none;\n",
              "      border-radius: 50%;\n",
              "      cursor: pointer;\n",
              "      display: none;\n",
              "      fill: #1967D2;\n",
              "      height: 32px;\n",
              "      padding: 0 0 0 0;\n",
              "      width: 32px;\n",
              "    }\n",
              "\n",
              "    .colab-df-convert:hover {\n",
              "      background-color: #E2EBFA;\n",
              "      box-shadow: 0px 1px 2px rgba(60, 64, 67, 0.3), 0px 1px 3px 1px rgba(60, 64, 67, 0.15);\n",
              "      fill: #174EA6;\n",
              "    }\n",
              "\n",
              "    [theme=dark] .colab-df-convert {\n",
              "      background-color: #3B4455;\n",
              "      fill: #D2E3FC;\n",
              "    }\n",
              "\n",
              "    [theme=dark] .colab-df-convert:hover {\n",
              "      background-color: #434B5C;\n",
              "      box-shadow: 0px 1px 3px 1px rgba(0, 0, 0, 0.15);\n",
              "      filter: drop-shadow(0px 1px 2px rgba(0, 0, 0, 0.3));\n",
              "      fill: #FFFFFF;\n",
              "    }\n",
              "  </style>\n",
              "\n",
              "      <script>\n",
              "        const buttonEl =\n",
              "          document.querySelector('#df-4922219a-c5dd-4251-a95a-9ba9c9828c16 button.colab-df-convert');\n",
              "        buttonEl.style.display =\n",
              "          google.colab.kernel.accessAllowed ? 'block' : 'none';\n",
              "\n",
              "        async function convertToInteractive(key) {\n",
              "          const element = document.querySelector('#df-4922219a-c5dd-4251-a95a-9ba9c9828c16');\n",
              "          const dataTable =\n",
              "            await google.colab.kernel.invokeFunction('convertToInteractive',\n",
              "                                                     [key], {});\n",
              "          if (!dataTable) return;\n",
              "\n",
              "          const docLinkHtml = 'Like what you see? Visit the ' +\n",
              "            '<a target=\"_blank\" href=https://colab.research.google.com/notebooks/data_table.ipynb>data table notebook</a>'\n",
              "            + ' to learn more about interactive tables.';\n",
              "          element.innerHTML = '';\n",
              "          dataTable['output_type'] = 'display_data';\n",
              "          await google.colab.output.renderOutput(dataTable, element);\n",
              "          const docLink = document.createElement('div');\n",
              "          docLink.innerHTML = docLinkHtml;\n",
              "          element.appendChild(docLink);\n",
              "        }\n",
              "      </script>\n",
              "    </div>\n",
              "  </div>\n",
              "  "
            ]
          },
          "metadata": {},
          "execution_count": 149
        }
      ]
    },
    {
      "cell_type": "code",
      "source": [
        "wine_df[\"label\"] = wine.target\n",
        "wine_df.head()"
      ],
      "metadata": {
        "colab": {
          "base_uri": "https://localhost:8080/",
          "height": 270
        },
        "id": "-XaSjnolBXjn",
        "outputId": "ed506007-5395-4d9e-dc1b-8ac80beda72a"
      },
      "execution_count": 150,
      "outputs": [
        {
          "output_type": "execute_result",
          "data": {
            "text/plain": [
              "   alcohol  malic_acid   ash  alcalinity_of_ash  magnesium  total_phenols  \\\n",
              "0    14.23        1.71  2.43               15.6      127.0           2.80   \n",
              "1    13.20        1.78  2.14               11.2      100.0           2.65   \n",
              "2    13.16        2.36  2.67               18.6      101.0           2.80   \n",
              "3    14.37        1.95  2.50               16.8      113.0           3.85   \n",
              "4    13.24        2.59  2.87               21.0      118.0           2.80   \n",
              "\n",
              "   flavanoids  nonflavanoid_phenols  proanthocyanins  color_intensity   hue  \\\n",
              "0        3.06                  0.28             2.29             5.64  1.04   \n",
              "1        2.76                  0.26             1.28             4.38  1.05   \n",
              "2        3.24                  0.30             2.81             5.68  1.03   \n",
              "3        3.49                  0.24             2.18             7.80  0.86   \n",
              "4        2.69                  0.39             1.82             4.32  1.04   \n",
              "\n",
              "   od280/od315_of_diluted_wines  proline  label  \n",
              "0                          3.92   1065.0      0  \n",
              "1                          3.40   1050.0      0  \n",
              "2                          3.17   1185.0      0  \n",
              "3                          3.45   1480.0      0  \n",
              "4                          2.93    735.0      0  "
            ],
            "text/html": [
              "\n",
              "  <div id=\"df-311fa2a1-054f-4bdd-9463-c712bc1a4999\">\n",
              "    <div class=\"colab-df-container\">\n",
              "      <div>\n",
              "<style scoped>\n",
              "    .dataframe tbody tr th:only-of-type {\n",
              "        vertical-align: middle;\n",
              "    }\n",
              "\n",
              "    .dataframe tbody tr th {\n",
              "        vertical-align: top;\n",
              "    }\n",
              "\n",
              "    .dataframe thead th {\n",
              "        text-align: right;\n",
              "    }\n",
              "</style>\n",
              "<table border=\"1\" class=\"dataframe\">\n",
              "  <thead>\n",
              "    <tr style=\"text-align: right;\">\n",
              "      <th></th>\n",
              "      <th>alcohol</th>\n",
              "      <th>malic_acid</th>\n",
              "      <th>ash</th>\n",
              "      <th>alcalinity_of_ash</th>\n",
              "      <th>magnesium</th>\n",
              "      <th>total_phenols</th>\n",
              "      <th>flavanoids</th>\n",
              "      <th>nonflavanoid_phenols</th>\n",
              "      <th>proanthocyanins</th>\n",
              "      <th>color_intensity</th>\n",
              "      <th>hue</th>\n",
              "      <th>od280/od315_of_diluted_wines</th>\n",
              "      <th>proline</th>\n",
              "      <th>label</th>\n",
              "    </tr>\n",
              "  </thead>\n",
              "  <tbody>\n",
              "    <tr>\n",
              "      <th>0</th>\n",
              "      <td>14.23</td>\n",
              "      <td>1.71</td>\n",
              "      <td>2.43</td>\n",
              "      <td>15.6</td>\n",
              "      <td>127.0</td>\n",
              "      <td>2.80</td>\n",
              "      <td>3.06</td>\n",
              "      <td>0.28</td>\n",
              "      <td>2.29</td>\n",
              "      <td>5.64</td>\n",
              "      <td>1.04</td>\n",
              "      <td>3.92</td>\n",
              "      <td>1065.0</td>\n",
              "      <td>0</td>\n",
              "    </tr>\n",
              "    <tr>\n",
              "      <th>1</th>\n",
              "      <td>13.20</td>\n",
              "      <td>1.78</td>\n",
              "      <td>2.14</td>\n",
              "      <td>11.2</td>\n",
              "      <td>100.0</td>\n",
              "      <td>2.65</td>\n",
              "      <td>2.76</td>\n",
              "      <td>0.26</td>\n",
              "      <td>1.28</td>\n",
              "      <td>4.38</td>\n",
              "      <td>1.05</td>\n",
              "      <td>3.40</td>\n",
              "      <td>1050.0</td>\n",
              "      <td>0</td>\n",
              "    </tr>\n",
              "    <tr>\n",
              "      <th>2</th>\n",
              "      <td>13.16</td>\n",
              "      <td>2.36</td>\n",
              "      <td>2.67</td>\n",
              "      <td>18.6</td>\n",
              "      <td>101.0</td>\n",
              "      <td>2.80</td>\n",
              "      <td>3.24</td>\n",
              "      <td>0.30</td>\n",
              "      <td>2.81</td>\n",
              "      <td>5.68</td>\n",
              "      <td>1.03</td>\n",
              "      <td>3.17</td>\n",
              "      <td>1185.0</td>\n",
              "      <td>0</td>\n",
              "    </tr>\n",
              "    <tr>\n",
              "      <th>3</th>\n",
              "      <td>14.37</td>\n",
              "      <td>1.95</td>\n",
              "      <td>2.50</td>\n",
              "      <td>16.8</td>\n",
              "      <td>113.0</td>\n",
              "      <td>3.85</td>\n",
              "      <td>3.49</td>\n",
              "      <td>0.24</td>\n",
              "      <td>2.18</td>\n",
              "      <td>7.80</td>\n",
              "      <td>0.86</td>\n",
              "      <td>3.45</td>\n",
              "      <td>1480.0</td>\n",
              "      <td>0</td>\n",
              "    </tr>\n",
              "    <tr>\n",
              "      <th>4</th>\n",
              "      <td>13.24</td>\n",
              "      <td>2.59</td>\n",
              "      <td>2.87</td>\n",
              "      <td>21.0</td>\n",
              "      <td>118.0</td>\n",
              "      <td>2.80</td>\n",
              "      <td>2.69</td>\n",
              "      <td>0.39</td>\n",
              "      <td>1.82</td>\n",
              "      <td>4.32</td>\n",
              "      <td>1.04</td>\n",
              "      <td>2.93</td>\n",
              "      <td>735.0</td>\n",
              "      <td>0</td>\n",
              "    </tr>\n",
              "  </tbody>\n",
              "</table>\n",
              "</div>\n",
              "      <button class=\"colab-df-convert\" onclick=\"convertToInteractive('df-311fa2a1-054f-4bdd-9463-c712bc1a4999')\"\n",
              "              title=\"Convert this dataframe to an interactive table.\"\n",
              "              style=\"display:none;\">\n",
              "        \n",
              "  <svg xmlns=\"http://www.w3.org/2000/svg\" height=\"24px\"viewBox=\"0 0 24 24\"\n",
              "       width=\"24px\">\n",
              "    <path d=\"M0 0h24v24H0V0z\" fill=\"none\"/>\n",
              "    <path d=\"M18.56 5.44l.94 2.06.94-2.06 2.06-.94-2.06-.94-.94-2.06-.94 2.06-2.06.94zm-11 1L8.5 8.5l.94-2.06 2.06-.94-2.06-.94L8.5 2.5l-.94 2.06-2.06.94zm10 10l.94 2.06.94-2.06 2.06-.94-2.06-.94-.94-2.06-.94 2.06-2.06.94z\"/><path d=\"M17.41 7.96l-1.37-1.37c-.4-.4-.92-.59-1.43-.59-.52 0-1.04.2-1.43.59L10.3 9.45l-7.72 7.72c-.78.78-.78 2.05 0 2.83L4 21.41c.39.39.9.59 1.41.59.51 0 1.02-.2 1.41-.59l7.78-7.78 2.81-2.81c.8-.78.8-2.07 0-2.86zM5.41 20L4 18.59l7.72-7.72 1.47 1.35L5.41 20z\"/>\n",
              "  </svg>\n",
              "      </button>\n",
              "      \n",
              "  <style>\n",
              "    .colab-df-container {\n",
              "      display:flex;\n",
              "      flex-wrap:wrap;\n",
              "      gap: 12px;\n",
              "    }\n",
              "\n",
              "    .colab-df-convert {\n",
              "      background-color: #E8F0FE;\n",
              "      border: none;\n",
              "      border-radius: 50%;\n",
              "      cursor: pointer;\n",
              "      display: none;\n",
              "      fill: #1967D2;\n",
              "      height: 32px;\n",
              "      padding: 0 0 0 0;\n",
              "      width: 32px;\n",
              "    }\n",
              "\n",
              "    .colab-df-convert:hover {\n",
              "      background-color: #E2EBFA;\n",
              "      box-shadow: 0px 1px 2px rgba(60, 64, 67, 0.3), 0px 1px 3px 1px rgba(60, 64, 67, 0.15);\n",
              "      fill: #174EA6;\n",
              "    }\n",
              "\n",
              "    [theme=dark] .colab-df-convert {\n",
              "      background-color: #3B4455;\n",
              "      fill: #D2E3FC;\n",
              "    }\n",
              "\n",
              "    [theme=dark] .colab-df-convert:hover {\n",
              "      background-color: #434B5C;\n",
              "      box-shadow: 0px 1px 3px 1px rgba(0, 0, 0, 0.15);\n",
              "      filter: drop-shadow(0px 1px 2px rgba(0, 0, 0, 0.3));\n",
              "      fill: #FFFFFF;\n",
              "    }\n",
              "  </style>\n",
              "\n",
              "      <script>\n",
              "        const buttonEl =\n",
              "          document.querySelector('#df-311fa2a1-054f-4bdd-9463-c712bc1a4999 button.colab-df-convert');\n",
              "        buttonEl.style.display =\n",
              "          google.colab.kernel.accessAllowed ? 'block' : 'none';\n",
              "\n",
              "        async function convertToInteractive(key) {\n",
              "          const element = document.querySelector('#df-311fa2a1-054f-4bdd-9463-c712bc1a4999');\n",
              "          const dataTable =\n",
              "            await google.colab.kernel.invokeFunction('convertToInteractive',\n",
              "                                                     [key], {});\n",
              "          if (!dataTable) return;\n",
              "\n",
              "          const docLinkHtml = 'Like what you see? Visit the ' +\n",
              "            '<a target=\"_blank\" href=https://colab.research.google.com/notebooks/data_table.ipynb>data table notebook</a>'\n",
              "            + ' to learn more about interactive tables.';\n",
              "          element.innerHTML = '';\n",
              "          dataTable['output_type'] = 'display_data';\n",
              "          await google.colab.output.renderOutput(dataTable, element);\n",
              "          const docLink = document.createElement('div');\n",
              "          docLink.innerHTML = docLinkHtml;\n",
              "          element.appendChild(docLink);\n",
              "        }\n",
              "      </script>\n",
              "    </div>\n",
              "  </div>\n",
              "  "
            ]
          },
          "metadata": {},
          "execution_count": 150
        }
      ]
    },
    {
      "cell_type": "markdown",
      "source": [
        "step (4) train-test data 분리"
      ],
      "metadata": {
        "id": "xPvoDYEwA6ic"
      }
    },
    {
      "cell_type": "code",
      "source": [
        "X_train, X_test, y_train, y_test = train_test_split(wine_data, \n",
        "                                                    wine_label, \n",
        "                                                    test_size=0.2, \n",
        "                                                    random_state=42,\n",
        "                                                    stratify = wine_label)\n",
        "\n",
        "print('X_train 개수: ', len(X_train),', X_test 개수: ', len(X_test))"
      ],
      "metadata": {
        "colab": {
          "base_uri": "https://localhost:8080/"
        },
        "id": "aq9Qjm1aBqMF",
        "outputId": "ce8565a7-e080-49c3-c16f-275796f539aa"
      },
      "execution_count": 151,
      "outputs": [
        {
          "output_type": "stream",
          "name": "stdout",
          "text": [
            "X_train 개수:  142 , X_test 개수:  36\n"
          ]
        }
      ]
    },
    {
      "cell_type": "code",
      "source": [
        "X_train.shape, y_train.shape"
      ],
      "metadata": {
        "colab": {
          "base_uri": "https://localhost:8080/"
        },
        "id": "dyynwtkTB_qN",
        "outputId": "225b47a1-94ac-4355-cb7c-d40b6dc03ce2"
      },
      "execution_count": 152,
      "outputs": [
        {
          "output_type": "execute_result",
          "data": {
            "text/plain": [
              "((142, 13), (142,))"
            ]
          },
          "metadata": {},
          "execution_count": 152
        }
      ]
    },
    {
      "cell_type": "code",
      "source": [
        "X_test.shape, y_test.shape"
      ],
      "metadata": {
        "colab": {
          "base_uri": "https://localhost:8080/"
        },
        "id": "XJ6HJGANC3bJ",
        "outputId": "5d09a56e-1873-471c-bfc2-aef0d0105150"
      },
      "execution_count": 153,
      "outputs": [
        {
          "output_type": "execute_result",
          "data": {
            "text/plain": [
              "((36, 13), (36,))"
            ]
          },
          "metadata": {},
          "execution_count": 153
        }
      ]
    },
    {
      "cell_type": "code",
      "source": [
        "y_train, y_test"
      ],
      "metadata": {
        "colab": {
          "base_uri": "https://localhost:8080/"
        },
        "id": "OcEw4VCqDAek",
        "outputId": "3c292d55-3571-410f-b807-d24a3c56a914"
      },
      "execution_count": 154,
      "outputs": [
        {
          "output_type": "execute_result",
          "data": {
            "text/plain": [
              "(array([0, 0, 0, 0, 2, 2, 1, 2, 0, 0, 1, 1, 0, 0, 2, 1, 1, 1, 0, 0, 1, 2,\n",
              "        0, 2, 2, 0, 0, 1, 1, 0, 0, 0, 0, 0, 1, 2, 0, 1, 0, 1, 1, 1, 1, 1,\n",
              "        1, 1, 0, 0, 2, 0, 0, 2, 1, 1, 2, 1, 1, 1, 1, 0, 1, 1, 0, 0, 0, 0,\n",
              "        0, 1, 1, 1, 2, 2, 0, 0, 2, 1, 1, 1, 1, 2, 0, 2, 0, 2, 1, 2, 2, 1,\n",
              "        0, 0, 1, 1, 1, 0, 0, 0, 2, 1, 1, 1, 2, 1, 0, 1, 0, 1, 2, 0, 0, 1,\n",
              "        2, 2, 1, 1, 1, 2, 2, 2, 2, 1, 1, 2, 1, 2, 2, 0, 0, 2, 0, 1, 2, 2,\n",
              "        1, 2, 1, 1, 1, 2, 1, 0, 2, 2]),\n",
              " array([0, 2, 0, 1, 1, 0, 0, 1, 1, 2, 1, 2, 0, 2, 0, 1, 1, 0, 1, 0, 1, 1,\n",
              "        0, 0, 1, 1, 0, 2, 1, 2, 0, 2, 1, 2, 2, 2]))"
            ]
          },
          "metadata": {},
          "execution_count": 154
        }
      ]
    },
    {
      "cell_type": "markdown",
      "source": [
        "step (5) 다양한 모델 학습시키기"
      ],
      "metadata": {
        "id": "RztuXe4oDn_7"
      }
    },
    {
      "cell_type": "markdown",
      "source": [
        "* 1) Decision Tree"
      ],
      "metadata": {
        "id": "O3wPuKekr75z"
      }
    },
    {
      "cell_type": "code",
      "source": [
        "from sklearn.tree import DecisionTreeClassifier\n",
        "\n",
        "decision_tree = DecisionTreeClassifier(random_state=32)\n",
        "print(decision_tree._estimator_type)\n",
        "\n",
        "decision_tree.fit(X_train, y_train)"
      ],
      "metadata": {
        "colab": {
          "base_uri": "https://localhost:8080/"
        },
        "id": "dX4b80spDp-K",
        "outputId": "507ff500-e982-43cc-9e6a-8848c8a2b032"
      },
      "execution_count": 155,
      "outputs": [
        {
          "output_type": "stream",
          "name": "stdout",
          "text": [
            "classifier\n"
          ]
        },
        {
          "output_type": "execute_result",
          "data": {
            "text/plain": [
              "DecisionTreeClassifier(random_state=32)"
            ]
          },
          "metadata": {},
          "execution_count": 155
        }
      ]
    },
    {
      "cell_type": "code",
      "source": [
        "y_pred = decision_tree.predict(X_test)\n",
        "y_pred"
      ],
      "metadata": {
        "colab": {
          "base_uri": "https://localhost:8080/"
        },
        "id": "S8InkTGEGfxr",
        "outputId": "727ac9c2-cfd3-4ab2-9226-64a66f720704"
      },
      "execution_count": 156,
      "outputs": [
        {
          "output_type": "execute_result",
          "data": {
            "text/plain": [
              "array([0, 2, 0, 0, 1, 0, 0, 1, 1, 2, 1, 2, 0, 2, 0, 1, 1, 0, 1, 1, 1, 1,\n",
              "       0, 0, 1, 1, 0, 2, 1, 2, 0, 2, 1, 2, 2, 2])"
            ]
          },
          "metadata": {},
          "execution_count": 156
        }
      ]
    },
    {
      "cell_type": "code",
      "source": [
        "y_test"
      ],
      "metadata": {
        "colab": {
          "base_uri": "https://localhost:8080/"
        },
        "id": "XFY_vs1UGsCu",
        "outputId": "f2da7cbd-58f0-403a-b0bf-f03423e1941e"
      },
      "execution_count": 157,
      "outputs": [
        {
          "output_type": "execute_result",
          "data": {
            "text/plain": [
              "array([0, 2, 0, 1, 1, 0, 0, 1, 1, 2, 1, 2, 0, 2, 0, 1, 1, 0, 1, 0, 1, 1,\n",
              "       0, 0, 1, 1, 0, 2, 1, 2, 0, 2, 1, 2, 2, 2])"
            ]
          },
          "metadata": {},
          "execution_count": 157
        }
      ]
    },
    {
      "cell_type": "code",
      "source": [
        "from sklearn.metrics import accuracy_score\n",
        "\n",
        "accuracy = accuracy_score(y_test, y_pred)\n",
        "accuracy"
      ],
      "metadata": {
        "colab": {
          "base_uri": "https://localhost:8080/"
        },
        "id": "0QpUaH0gGtOf",
        "outputId": "8a641b01-9152-4d5f-9e50-cc61d11891c9"
      },
      "execution_count": 158,
      "outputs": [
        {
          "output_type": "execute_result",
          "data": {
            "text/plain": [
              "0.9444444444444444"
            ]
          },
          "metadata": {},
          "execution_count": 158
        }
      ]
    },
    {
      "cell_type": "code",
      "source": [
        "from sklearn.metrics import classification_report\n",
        "\n",
        "print(classification_report(y_test, y_pred))"
      ],
      "metadata": {
        "colab": {
          "base_uri": "https://localhost:8080/"
        },
        "id": "XGxfRKpzG6oZ",
        "outputId": "57b1091d-96c1-41c0-e9b2-03addf6bf947"
      },
      "execution_count": 159,
      "outputs": [
        {
          "output_type": "stream",
          "name": "stdout",
          "text": [
            "              precision    recall  f1-score   support\n",
            "\n",
            "           0       0.92      0.92      0.92        12\n",
            "           1       0.93      0.93      0.93        14\n",
            "           2       1.00      1.00      1.00        10\n",
            "\n",
            "    accuracy                           0.94        36\n",
            "   macro avg       0.95      0.95      0.95        36\n",
            "weighted avg       0.94      0.94      0.94        36\n",
            "\n"
          ]
        }
      ]
    },
    {
      "cell_type": "markdown",
      "source": [
        "* 2)Random Forest"
      ],
      "metadata": {
        "id": "_PuWCCOQTIxi"
      }
    },
    {
      "cell_type": "code",
      "source": [
        "from sklearn.ensemble import RandomForestClassifier\n",
        "\n",
        "random_forest = RandomForestClassifier(random_state=42)\n",
        "random_forest.fit(X_train, y_train)\n",
        "y_pred = random_forest.predict(X_test)\n",
        "\n",
        "print(classification_report(y_test, y_pred))"
      ],
      "metadata": {
        "colab": {
          "base_uri": "https://localhost:8080/"
        },
        "id": "BAWXJM1YHosq",
        "outputId": "5f5b403b-70f7-4660-a921-bc42805db937"
      },
      "execution_count": 160,
      "outputs": [
        {
          "output_type": "stream",
          "name": "stdout",
          "text": [
            "              precision    recall  f1-score   support\n",
            "\n",
            "           0       1.00      1.00      1.00        12\n",
            "           1       1.00      1.00      1.00        14\n",
            "           2       1.00      1.00      1.00        10\n",
            "\n",
            "    accuracy                           1.00        36\n",
            "   macro avg       1.00      1.00      1.00        36\n",
            "weighted avg       1.00      1.00      1.00        36\n",
            "\n"
          ]
        }
      ]
    },
    {
      "cell_type": "code",
      "source": [
        "accuracy = accuracy_score(y_test, y_pred)\n",
        "accuracy"
      ],
      "metadata": {
        "colab": {
          "base_uri": "https://localhost:8080/"
        },
        "id": "XtnkDGndJXi_",
        "outputId": "73a68caf-748f-488a-9fcd-b00b8a2b2c38"
      },
      "execution_count": 161,
      "outputs": [
        {
          "output_type": "execute_result",
          "data": {
            "text/plain": [
              "1.0"
            ]
          },
          "metadata": {},
          "execution_count": 161
        }
      ]
    },
    {
      "cell_type": "markdown",
      "source": [
        "* 3)SVM : Support Vector Machine"
      ],
      "metadata": {
        "id": "bb8aJ0L0MhbI"
      }
    },
    {
      "cell_type": "code",
      "source": [
        "from sklearn import svm\n",
        "svm_model = svm.SVC()\n",
        "\n",
        "print(svm_model._estimator_type)"
      ],
      "metadata": {
        "colab": {
          "base_uri": "https://localhost:8080/"
        },
        "id": "sghYpIWDMiUY",
        "outputId": "c572c40f-e9f8-47df-ff9c-dddd09652b8f"
      },
      "execution_count": 162,
      "outputs": [
        {
          "output_type": "stream",
          "name": "stdout",
          "text": [
            "classifier\n"
          ]
        }
      ]
    },
    {
      "cell_type": "code",
      "source": [
        "svm_model.fit(X_train, y_train)\n",
        "y_pred = svm_model.predict(X_test)\n",
        "\n",
        "print(classification_report(y_test, y_pred))"
      ],
      "metadata": {
        "colab": {
          "base_uri": "https://localhost:8080/"
        },
        "id": "O14tRauWMnxR",
        "outputId": "08683635-9927-466f-b9ae-a537503778d7"
      },
      "execution_count": 163,
      "outputs": [
        {
          "output_type": "stream",
          "name": "stdout",
          "text": [
            "              precision    recall  f1-score   support\n",
            "\n",
            "           0       0.92      0.92      0.92        12\n",
            "           1       0.61      1.00      0.76        14\n",
            "           2       0.00      0.00      0.00        10\n",
            "\n",
            "    accuracy                           0.69        36\n",
            "   macro avg       0.51      0.64      0.56        36\n",
            "weighted avg       0.54      0.69      0.60        36\n",
            "\n"
          ]
        }
      ]
    },
    {
      "cell_type": "code",
      "source": [
        "accuracy = accuracy_score(y_test, y_pred)\n",
        "accuracy"
      ],
      "metadata": {
        "colab": {
          "base_uri": "https://localhost:8080/"
        },
        "id": "3EiaSjpCQ5tT",
        "outputId": "de0cedc5-4273-4e0b-dd43-4a623bee6af5"
      },
      "execution_count": 164,
      "outputs": [
        {
          "output_type": "execute_result",
          "data": {
            "text/plain": [
              "0.6944444444444444"
            ]
          },
          "metadata": {},
          "execution_count": 164
        }
      ]
    },
    {
      "cell_type": "markdown",
      "source": [
        "* 4)SGD Classifier"
      ],
      "metadata": {
        "id": "nEcZHCgePnCz"
      }
    },
    {
      "cell_type": "code",
      "source": [
        "from sklearn.linear_model import SGDClassifier\n",
        "sgd_model = SGDClassifier()\n",
        "\n",
        "print(sgd_model._estimator_type)"
      ],
      "metadata": {
        "colab": {
          "base_uri": "https://localhost:8080/"
        },
        "id": "4Cw6wR36QBi6",
        "outputId": "7ed7a259-d0d6-40fe-ac5c-6d3639942934"
      },
      "execution_count": 165,
      "outputs": [
        {
          "output_type": "stream",
          "name": "stdout",
          "text": [
            "classifier\n"
          ]
        }
      ]
    },
    {
      "cell_type": "code",
      "source": [
        "sgd_model.fit(X_train, y_train)\n",
        "y_pred = sgd_model.predict(X_test)\n",
        "\n",
        "print(classification_report(y_test, y_pred, zero_division=0))"
      ],
      "metadata": {
        "colab": {
          "base_uri": "https://localhost:8080/"
        },
        "id": "eF5nedZfQM34",
        "outputId": "c372c083-3caa-4002-fd2c-e98498152e2e"
      },
      "execution_count": 166,
      "outputs": [
        {
          "output_type": "stream",
          "name": "stdout",
          "text": [
            "              precision    recall  f1-score   support\n",
            "\n",
            "           0       1.00      0.83      0.91        12\n",
            "           1       1.00      0.50      0.67        14\n",
            "           2       0.53      1.00      0.69        10\n",
            "\n",
            "    accuracy                           0.75        36\n",
            "   macro avg       0.84      0.78      0.76        36\n",
            "weighted avg       0.87      0.75      0.75        36\n",
            "\n"
          ]
        }
      ]
    },
    {
      "cell_type": "code",
      "source": [
        "accuracy = accuracy_score(y_test, y_pred)\n",
        "accuracy"
      ],
      "metadata": {
        "colab": {
          "base_uri": "https://localhost:8080/"
        },
        "id": "bb15CEa2QTAN",
        "outputId": "35800499-facb-4e78-c9a6-92b1df61594f"
      },
      "execution_count": 167,
      "outputs": [
        {
          "output_type": "execute_result",
          "data": {
            "text/plain": [
              "0.75"
            ]
          },
          "metadata": {},
          "execution_count": 167
        }
      ]
    },
    {
      "cell_type": "markdown",
      "source": [
        "* 5)Logistic Regression "
      ],
      "metadata": {
        "id": "fQsAlYuFRHfO"
      }
    },
    {
      "cell_type": "code",
      "source": [
        "from sklearn.linear_model import LogisticRegression\n",
        "logistic_model = LogisticRegression(max_iter = 10 ** 4)\n",
        "\n",
        "logistic_model.fit(X_train, y_train)\n",
        "y_pred = logistic_model.predict(X_test)\n",
        "\n",
        "print(classification_report(y_test, y_pred))\n"
      ],
      "metadata": {
        "colab": {
          "base_uri": "https://localhost:8080/"
        },
        "id": "nc_YWmcjRJHE",
        "outputId": "cb2a7fc1-e453-4a8a-86bd-fa4b0ea4c6ba"
      },
      "execution_count": 168,
      "outputs": [
        {
          "output_type": "stream",
          "name": "stdout",
          "text": [
            "              precision    recall  f1-score   support\n",
            "\n",
            "           0       1.00      1.00      1.00        12\n",
            "           1       0.88      1.00      0.93        14\n",
            "           2       1.00      0.80      0.89        10\n",
            "\n",
            "    accuracy                           0.94        36\n",
            "   macro avg       0.96      0.93      0.94        36\n",
            "weighted avg       0.95      0.94      0.94        36\n",
            "\n"
          ]
        }
      ]
    },
    {
      "cell_type": "code",
      "source": [
        "accuracy = accuracy_score(y_test, y_pred)\n",
        "accuracy"
      ],
      "metadata": {
        "colab": {
          "base_uri": "https://localhost:8080/"
        },
        "id": "8ZqPvyvWsOm_",
        "outputId": "9d475d8b-b61f-44bc-c364-1c580ad8a350"
      },
      "execution_count": 169,
      "outputs": [
        {
          "output_type": "execute_result",
          "data": {
            "text/plain": [
              "0.9444444444444444"
            ]
          },
          "metadata": {},
          "execution_count": 169
        }
      ]
    },
    {
      "cell_type": "markdown",
      "source": [
        "#03)Load_breast_cancer : 유방암 진단"
      ],
      "metadata": {
        "id": "aeOUr_lSTV7E"
      }
    },
    {
      "cell_type": "markdown",
      "source": [
        "Step (1) 필요한 모듈 import하기"
      ],
      "metadata": {
        "id": "GI-1F1t5-K-F"
      }
    },
    {
      "cell_type": "code",
      "source": [
        "from sklearn.datasets import load_breast_cancer\n",
        "from sklearn.model_selection import train_test_split\n",
        "from sklearn.metrics import classification_report\n",
        "from sklearn.metrics import accuracy_score"
      ],
      "metadata": {
        "id": "xXyknnlphgO6"
      },
      "execution_count": 115,
      "outputs": []
    },
    {
      "cell_type": "markdown",
      "source": [
        "Step (2) 데이터 준비"
      ],
      "metadata": {
        "id": "w9JR7k-a-RAO"
      }
    },
    {
      "cell_type": "code",
      "source": [
        "cancer = load_breast_cancer()\n",
        "print(dir(cancer))"
      ],
      "metadata": {
        "colab": {
          "base_uri": "https://localhost:8080/"
        },
        "id": "xCBbfM5RTYdO",
        "outputId": "3228161e-2fff-4474-c650-bd8da567622e"
      },
      "execution_count": 116,
      "outputs": [
        {
          "output_type": "stream",
          "name": "stdout",
          "text": [
            "['DESCR', 'data', 'data_module', 'feature_names', 'filename', 'frame', 'target', 'target_names']\n"
          ]
        }
      ]
    },
    {
      "cell_type": "markdown",
      "source": [
        "Step (3) 데이터 이해하기"
      ],
      "metadata": {
        "id": "knHMzx9C-Yb0"
      }
    },
    {
      "cell_type": "code",
      "source": [
        "cancer.target_names \n",
        "# malignant(악성), benign(양성)"
      ],
      "metadata": {
        "colab": {
          "base_uri": "https://localhost:8080/"
        },
        "id": "KDelFESYTvp3",
        "outputId": "81ee7dea-458c-417b-87cf-df2beee911a3"
      },
      "execution_count": 117,
      "outputs": [
        {
          "output_type": "execute_result",
          "data": {
            "text/plain": [
              "array(['malignant', 'benign'], dtype='<U9')"
            ]
          },
          "metadata": {},
          "execution_count": 117
        }
      ]
    },
    {
      "cell_type": "code",
      "source": [
        "cancer.feature_names"
      ],
      "metadata": {
        "colab": {
          "base_uri": "https://localhost:8080/"
        },
        "id": "oiALe0DwT-qQ",
        "outputId": "f00d693f-8faf-4ea9-c458-63b18f8757c9"
      },
      "execution_count": 118,
      "outputs": [
        {
          "output_type": "execute_result",
          "data": {
            "text/plain": [
              "array(['mean radius', 'mean texture', 'mean perimeter', 'mean area',\n",
              "       'mean smoothness', 'mean compactness', 'mean concavity',\n",
              "       'mean concave points', 'mean symmetry', 'mean fractal dimension',\n",
              "       'radius error', 'texture error', 'perimeter error', 'area error',\n",
              "       'smoothness error', 'compactness error', 'concavity error',\n",
              "       'concave points error', 'symmetry error',\n",
              "       'fractal dimension error', 'worst radius', 'worst texture',\n",
              "       'worst perimeter', 'worst area', 'worst smoothness',\n",
              "       'worst compactness', 'worst concavity', 'worst concave points',\n",
              "       'worst symmetry', 'worst fractal dimension'], dtype='<U23')"
            ]
          },
          "metadata": {},
          "execution_count": 118
        }
      ]
    },
    {
      "cell_type": "code",
      "source": [
        "#print(cancer.DESCR)"
      ],
      "metadata": {
        "id": "TUr7Hjk3UBJy"
      },
      "execution_count": 119,
      "outputs": []
    },
    {
      "cell_type": "code",
      "source": [
        "cancer_data = cancer.data\n",
        "print(cancer_data.shape)"
      ],
      "metadata": {
        "colab": {
          "base_uri": "https://localhost:8080/"
        },
        "id": "i5BbguUpURey",
        "outputId": "2a8237ae-6f88-4bf8-a673-f92bee84a9df"
      },
      "execution_count": 120,
      "outputs": [
        {
          "output_type": "stream",
          "name": "stdout",
          "text": [
            "(569, 30)\n"
          ]
        }
      ]
    },
    {
      "cell_type": "code",
      "source": [
        "cancer_label = cancer.target"
      ],
      "metadata": {
        "id": "Jth9s0PDU4xR"
      },
      "execution_count": 121,
      "outputs": []
    },
    {
      "cell_type": "code",
      "source": [
        "cancer_df = pd.DataFrame(data=cancer_data, columns=cancer.feature_names)\n",
        "cancer_df.head()"
      ],
      "metadata": {
        "colab": {
          "base_uri": "https://localhost:8080/",
          "height": 334
        },
        "id": "39_wG4zwVZN-",
        "outputId": "7d25c842-b17a-499d-f973-fff9189f8962"
      },
      "execution_count": 122,
      "outputs": [
        {
          "output_type": "execute_result",
          "data": {
            "text/plain": [
              "   mean radius  mean texture  mean perimeter  mean area  mean smoothness  \\\n",
              "0        17.99         10.38          122.80     1001.0          0.11840   \n",
              "1        20.57         17.77          132.90     1326.0          0.08474   \n",
              "2        19.69         21.25          130.00     1203.0          0.10960   \n",
              "3        11.42         20.38           77.58      386.1          0.14250   \n",
              "4        20.29         14.34          135.10     1297.0          0.10030   \n",
              "\n",
              "   mean compactness  mean concavity  mean concave points  mean symmetry  \\\n",
              "0           0.27760          0.3001              0.14710         0.2419   \n",
              "1           0.07864          0.0869              0.07017         0.1812   \n",
              "2           0.15990          0.1974              0.12790         0.2069   \n",
              "3           0.28390          0.2414              0.10520         0.2597   \n",
              "4           0.13280          0.1980              0.10430         0.1809   \n",
              "\n",
              "   mean fractal dimension  ...  worst radius  worst texture  worst perimeter  \\\n",
              "0                 0.07871  ...         25.38          17.33           184.60   \n",
              "1                 0.05667  ...         24.99          23.41           158.80   \n",
              "2                 0.05999  ...         23.57          25.53           152.50   \n",
              "3                 0.09744  ...         14.91          26.50            98.87   \n",
              "4                 0.05883  ...         22.54          16.67           152.20   \n",
              "\n",
              "   worst area  worst smoothness  worst compactness  worst concavity  \\\n",
              "0      2019.0            0.1622             0.6656           0.7119   \n",
              "1      1956.0            0.1238             0.1866           0.2416   \n",
              "2      1709.0            0.1444             0.4245           0.4504   \n",
              "3       567.7            0.2098             0.8663           0.6869   \n",
              "4      1575.0            0.1374             0.2050           0.4000   \n",
              "\n",
              "   worst concave points  worst symmetry  worst fractal dimension  \n",
              "0                0.2654          0.4601                  0.11890  \n",
              "1                0.1860          0.2750                  0.08902  \n",
              "2                0.2430          0.3613                  0.08758  \n",
              "3                0.2575          0.6638                  0.17300  \n",
              "4                0.1625          0.2364                  0.07678  \n",
              "\n",
              "[5 rows x 30 columns]"
            ],
            "text/html": [
              "\n",
              "  <div id=\"df-3bd3b511-5794-4375-8cc2-4ba8448b2b17\">\n",
              "    <div class=\"colab-df-container\">\n",
              "      <div>\n",
              "<style scoped>\n",
              "    .dataframe tbody tr th:only-of-type {\n",
              "        vertical-align: middle;\n",
              "    }\n",
              "\n",
              "    .dataframe tbody tr th {\n",
              "        vertical-align: top;\n",
              "    }\n",
              "\n",
              "    .dataframe thead th {\n",
              "        text-align: right;\n",
              "    }\n",
              "</style>\n",
              "<table border=\"1\" class=\"dataframe\">\n",
              "  <thead>\n",
              "    <tr style=\"text-align: right;\">\n",
              "      <th></th>\n",
              "      <th>mean radius</th>\n",
              "      <th>mean texture</th>\n",
              "      <th>mean perimeter</th>\n",
              "      <th>mean area</th>\n",
              "      <th>mean smoothness</th>\n",
              "      <th>mean compactness</th>\n",
              "      <th>mean concavity</th>\n",
              "      <th>mean concave points</th>\n",
              "      <th>mean symmetry</th>\n",
              "      <th>mean fractal dimension</th>\n",
              "      <th>...</th>\n",
              "      <th>worst radius</th>\n",
              "      <th>worst texture</th>\n",
              "      <th>worst perimeter</th>\n",
              "      <th>worst area</th>\n",
              "      <th>worst smoothness</th>\n",
              "      <th>worst compactness</th>\n",
              "      <th>worst concavity</th>\n",
              "      <th>worst concave points</th>\n",
              "      <th>worst symmetry</th>\n",
              "      <th>worst fractal dimension</th>\n",
              "    </tr>\n",
              "  </thead>\n",
              "  <tbody>\n",
              "    <tr>\n",
              "      <th>0</th>\n",
              "      <td>17.99</td>\n",
              "      <td>10.38</td>\n",
              "      <td>122.80</td>\n",
              "      <td>1001.0</td>\n",
              "      <td>0.11840</td>\n",
              "      <td>0.27760</td>\n",
              "      <td>0.3001</td>\n",
              "      <td>0.14710</td>\n",
              "      <td>0.2419</td>\n",
              "      <td>0.07871</td>\n",
              "      <td>...</td>\n",
              "      <td>25.38</td>\n",
              "      <td>17.33</td>\n",
              "      <td>184.60</td>\n",
              "      <td>2019.0</td>\n",
              "      <td>0.1622</td>\n",
              "      <td>0.6656</td>\n",
              "      <td>0.7119</td>\n",
              "      <td>0.2654</td>\n",
              "      <td>0.4601</td>\n",
              "      <td>0.11890</td>\n",
              "    </tr>\n",
              "    <tr>\n",
              "      <th>1</th>\n",
              "      <td>20.57</td>\n",
              "      <td>17.77</td>\n",
              "      <td>132.90</td>\n",
              "      <td>1326.0</td>\n",
              "      <td>0.08474</td>\n",
              "      <td>0.07864</td>\n",
              "      <td>0.0869</td>\n",
              "      <td>0.07017</td>\n",
              "      <td>0.1812</td>\n",
              "      <td>0.05667</td>\n",
              "      <td>...</td>\n",
              "      <td>24.99</td>\n",
              "      <td>23.41</td>\n",
              "      <td>158.80</td>\n",
              "      <td>1956.0</td>\n",
              "      <td>0.1238</td>\n",
              "      <td>0.1866</td>\n",
              "      <td>0.2416</td>\n",
              "      <td>0.1860</td>\n",
              "      <td>0.2750</td>\n",
              "      <td>0.08902</td>\n",
              "    </tr>\n",
              "    <tr>\n",
              "      <th>2</th>\n",
              "      <td>19.69</td>\n",
              "      <td>21.25</td>\n",
              "      <td>130.00</td>\n",
              "      <td>1203.0</td>\n",
              "      <td>0.10960</td>\n",
              "      <td>0.15990</td>\n",
              "      <td>0.1974</td>\n",
              "      <td>0.12790</td>\n",
              "      <td>0.2069</td>\n",
              "      <td>0.05999</td>\n",
              "      <td>...</td>\n",
              "      <td>23.57</td>\n",
              "      <td>25.53</td>\n",
              "      <td>152.50</td>\n",
              "      <td>1709.0</td>\n",
              "      <td>0.1444</td>\n",
              "      <td>0.4245</td>\n",
              "      <td>0.4504</td>\n",
              "      <td>0.2430</td>\n",
              "      <td>0.3613</td>\n",
              "      <td>0.08758</td>\n",
              "    </tr>\n",
              "    <tr>\n",
              "      <th>3</th>\n",
              "      <td>11.42</td>\n",
              "      <td>20.38</td>\n",
              "      <td>77.58</td>\n",
              "      <td>386.1</td>\n",
              "      <td>0.14250</td>\n",
              "      <td>0.28390</td>\n",
              "      <td>0.2414</td>\n",
              "      <td>0.10520</td>\n",
              "      <td>0.2597</td>\n",
              "      <td>0.09744</td>\n",
              "      <td>...</td>\n",
              "      <td>14.91</td>\n",
              "      <td>26.50</td>\n",
              "      <td>98.87</td>\n",
              "      <td>567.7</td>\n",
              "      <td>0.2098</td>\n",
              "      <td>0.8663</td>\n",
              "      <td>0.6869</td>\n",
              "      <td>0.2575</td>\n",
              "      <td>0.6638</td>\n",
              "      <td>0.17300</td>\n",
              "    </tr>\n",
              "    <tr>\n",
              "      <th>4</th>\n",
              "      <td>20.29</td>\n",
              "      <td>14.34</td>\n",
              "      <td>135.10</td>\n",
              "      <td>1297.0</td>\n",
              "      <td>0.10030</td>\n",
              "      <td>0.13280</td>\n",
              "      <td>0.1980</td>\n",
              "      <td>0.10430</td>\n",
              "      <td>0.1809</td>\n",
              "      <td>0.05883</td>\n",
              "      <td>...</td>\n",
              "      <td>22.54</td>\n",
              "      <td>16.67</td>\n",
              "      <td>152.20</td>\n",
              "      <td>1575.0</td>\n",
              "      <td>0.1374</td>\n",
              "      <td>0.2050</td>\n",
              "      <td>0.4000</td>\n",
              "      <td>0.1625</td>\n",
              "      <td>0.2364</td>\n",
              "      <td>0.07678</td>\n",
              "    </tr>\n",
              "  </tbody>\n",
              "</table>\n",
              "<p>5 rows × 30 columns</p>\n",
              "</div>\n",
              "      <button class=\"colab-df-convert\" onclick=\"convertToInteractive('df-3bd3b511-5794-4375-8cc2-4ba8448b2b17')\"\n",
              "              title=\"Convert this dataframe to an interactive table.\"\n",
              "              style=\"display:none;\">\n",
              "        \n",
              "  <svg xmlns=\"http://www.w3.org/2000/svg\" height=\"24px\"viewBox=\"0 0 24 24\"\n",
              "       width=\"24px\">\n",
              "    <path d=\"M0 0h24v24H0V0z\" fill=\"none\"/>\n",
              "    <path d=\"M18.56 5.44l.94 2.06.94-2.06 2.06-.94-2.06-.94-.94-2.06-.94 2.06-2.06.94zm-11 1L8.5 8.5l.94-2.06 2.06-.94-2.06-.94L8.5 2.5l-.94 2.06-2.06.94zm10 10l.94 2.06.94-2.06 2.06-.94-2.06-.94-.94-2.06-.94 2.06-2.06.94z\"/><path d=\"M17.41 7.96l-1.37-1.37c-.4-.4-.92-.59-1.43-.59-.52 0-1.04.2-1.43.59L10.3 9.45l-7.72 7.72c-.78.78-.78 2.05 0 2.83L4 21.41c.39.39.9.59 1.41.59.51 0 1.02-.2 1.41-.59l7.78-7.78 2.81-2.81c.8-.78.8-2.07 0-2.86zM5.41 20L4 18.59l7.72-7.72 1.47 1.35L5.41 20z\"/>\n",
              "  </svg>\n",
              "      </button>\n",
              "      \n",
              "  <style>\n",
              "    .colab-df-container {\n",
              "      display:flex;\n",
              "      flex-wrap:wrap;\n",
              "      gap: 12px;\n",
              "    }\n",
              "\n",
              "    .colab-df-convert {\n",
              "      background-color: #E8F0FE;\n",
              "      border: none;\n",
              "      border-radius: 50%;\n",
              "      cursor: pointer;\n",
              "      display: none;\n",
              "      fill: #1967D2;\n",
              "      height: 32px;\n",
              "      padding: 0 0 0 0;\n",
              "      width: 32px;\n",
              "    }\n",
              "\n",
              "    .colab-df-convert:hover {\n",
              "      background-color: #E2EBFA;\n",
              "      box-shadow: 0px 1px 2px rgba(60, 64, 67, 0.3), 0px 1px 3px 1px rgba(60, 64, 67, 0.15);\n",
              "      fill: #174EA6;\n",
              "    }\n",
              "\n",
              "    [theme=dark] .colab-df-convert {\n",
              "      background-color: #3B4455;\n",
              "      fill: #D2E3FC;\n",
              "    }\n",
              "\n",
              "    [theme=dark] .colab-df-convert:hover {\n",
              "      background-color: #434B5C;\n",
              "      box-shadow: 0px 1px 3px 1px rgba(0, 0, 0, 0.15);\n",
              "      filter: drop-shadow(0px 1px 2px rgba(0, 0, 0, 0.3));\n",
              "      fill: #FFFFFF;\n",
              "    }\n",
              "  </style>\n",
              "\n",
              "      <script>\n",
              "        const buttonEl =\n",
              "          document.querySelector('#df-3bd3b511-5794-4375-8cc2-4ba8448b2b17 button.colab-df-convert');\n",
              "        buttonEl.style.display =\n",
              "          google.colab.kernel.accessAllowed ? 'block' : 'none';\n",
              "\n",
              "        async function convertToInteractive(key) {\n",
              "          const element = document.querySelector('#df-3bd3b511-5794-4375-8cc2-4ba8448b2b17');\n",
              "          const dataTable =\n",
              "            await google.colab.kernel.invokeFunction('convertToInteractive',\n",
              "                                                     [key], {});\n",
              "          if (!dataTable) return;\n",
              "\n",
              "          const docLinkHtml = 'Like what you see? Visit the ' +\n",
              "            '<a target=\"_blank\" href=https://colab.research.google.com/notebooks/data_table.ipynb>data table notebook</a>'\n",
              "            + ' to learn more about interactive tables.';\n",
              "          element.innerHTML = '';\n",
              "          dataTable['output_type'] = 'display_data';\n",
              "          await google.colab.output.renderOutput(dataTable, element);\n",
              "          const docLink = document.createElement('div');\n",
              "          docLink.innerHTML = docLinkHtml;\n",
              "          element.appendChild(docLink);\n",
              "        }\n",
              "      </script>\n",
              "    </div>\n",
              "  </div>\n",
              "  "
            ]
          },
          "metadata": {},
          "execution_count": 122
        }
      ]
    },
    {
      "cell_type": "code",
      "source": [
        "cancer_df[\"label\"] = cancer.target\n",
        "cancer_df.head()"
      ],
      "metadata": {
        "colab": {
          "base_uri": "https://localhost:8080/",
          "height": 334
        },
        "id": "2QiPO4pDV0x-",
        "outputId": "f28f03b3-05cc-4249-b9a5-61ff79e83b9f"
      },
      "execution_count": 123,
      "outputs": [
        {
          "output_type": "execute_result",
          "data": {
            "text/plain": [
              "   mean radius  mean texture  mean perimeter  mean area  mean smoothness  \\\n",
              "0        17.99         10.38          122.80     1001.0          0.11840   \n",
              "1        20.57         17.77          132.90     1326.0          0.08474   \n",
              "2        19.69         21.25          130.00     1203.0          0.10960   \n",
              "3        11.42         20.38           77.58      386.1          0.14250   \n",
              "4        20.29         14.34          135.10     1297.0          0.10030   \n",
              "\n",
              "   mean compactness  mean concavity  mean concave points  mean symmetry  \\\n",
              "0           0.27760          0.3001              0.14710         0.2419   \n",
              "1           0.07864          0.0869              0.07017         0.1812   \n",
              "2           0.15990          0.1974              0.12790         0.2069   \n",
              "3           0.28390          0.2414              0.10520         0.2597   \n",
              "4           0.13280          0.1980              0.10430         0.1809   \n",
              "\n",
              "   mean fractal dimension  ...  worst texture  worst perimeter  worst area  \\\n",
              "0                 0.07871  ...          17.33           184.60      2019.0   \n",
              "1                 0.05667  ...          23.41           158.80      1956.0   \n",
              "2                 0.05999  ...          25.53           152.50      1709.0   \n",
              "3                 0.09744  ...          26.50            98.87       567.7   \n",
              "4                 0.05883  ...          16.67           152.20      1575.0   \n",
              "\n",
              "   worst smoothness  worst compactness  worst concavity  worst concave points  \\\n",
              "0            0.1622             0.6656           0.7119                0.2654   \n",
              "1            0.1238             0.1866           0.2416                0.1860   \n",
              "2            0.1444             0.4245           0.4504                0.2430   \n",
              "3            0.2098             0.8663           0.6869                0.2575   \n",
              "4            0.1374             0.2050           0.4000                0.1625   \n",
              "\n",
              "   worst symmetry  worst fractal dimension  label  \n",
              "0          0.4601                  0.11890      0  \n",
              "1          0.2750                  0.08902      0  \n",
              "2          0.3613                  0.08758      0  \n",
              "3          0.6638                  0.17300      0  \n",
              "4          0.2364                  0.07678      0  \n",
              "\n",
              "[5 rows x 31 columns]"
            ],
            "text/html": [
              "\n",
              "  <div id=\"df-b471ed16-a24f-4d5e-a3a1-4da96efd3d6a\">\n",
              "    <div class=\"colab-df-container\">\n",
              "      <div>\n",
              "<style scoped>\n",
              "    .dataframe tbody tr th:only-of-type {\n",
              "        vertical-align: middle;\n",
              "    }\n",
              "\n",
              "    .dataframe tbody tr th {\n",
              "        vertical-align: top;\n",
              "    }\n",
              "\n",
              "    .dataframe thead th {\n",
              "        text-align: right;\n",
              "    }\n",
              "</style>\n",
              "<table border=\"1\" class=\"dataframe\">\n",
              "  <thead>\n",
              "    <tr style=\"text-align: right;\">\n",
              "      <th></th>\n",
              "      <th>mean radius</th>\n",
              "      <th>mean texture</th>\n",
              "      <th>mean perimeter</th>\n",
              "      <th>mean area</th>\n",
              "      <th>mean smoothness</th>\n",
              "      <th>mean compactness</th>\n",
              "      <th>mean concavity</th>\n",
              "      <th>mean concave points</th>\n",
              "      <th>mean symmetry</th>\n",
              "      <th>mean fractal dimension</th>\n",
              "      <th>...</th>\n",
              "      <th>worst texture</th>\n",
              "      <th>worst perimeter</th>\n",
              "      <th>worst area</th>\n",
              "      <th>worst smoothness</th>\n",
              "      <th>worst compactness</th>\n",
              "      <th>worst concavity</th>\n",
              "      <th>worst concave points</th>\n",
              "      <th>worst symmetry</th>\n",
              "      <th>worst fractal dimension</th>\n",
              "      <th>label</th>\n",
              "    </tr>\n",
              "  </thead>\n",
              "  <tbody>\n",
              "    <tr>\n",
              "      <th>0</th>\n",
              "      <td>17.99</td>\n",
              "      <td>10.38</td>\n",
              "      <td>122.80</td>\n",
              "      <td>1001.0</td>\n",
              "      <td>0.11840</td>\n",
              "      <td>0.27760</td>\n",
              "      <td>0.3001</td>\n",
              "      <td>0.14710</td>\n",
              "      <td>0.2419</td>\n",
              "      <td>0.07871</td>\n",
              "      <td>...</td>\n",
              "      <td>17.33</td>\n",
              "      <td>184.60</td>\n",
              "      <td>2019.0</td>\n",
              "      <td>0.1622</td>\n",
              "      <td>0.6656</td>\n",
              "      <td>0.7119</td>\n",
              "      <td>0.2654</td>\n",
              "      <td>0.4601</td>\n",
              "      <td>0.11890</td>\n",
              "      <td>0</td>\n",
              "    </tr>\n",
              "    <tr>\n",
              "      <th>1</th>\n",
              "      <td>20.57</td>\n",
              "      <td>17.77</td>\n",
              "      <td>132.90</td>\n",
              "      <td>1326.0</td>\n",
              "      <td>0.08474</td>\n",
              "      <td>0.07864</td>\n",
              "      <td>0.0869</td>\n",
              "      <td>0.07017</td>\n",
              "      <td>0.1812</td>\n",
              "      <td>0.05667</td>\n",
              "      <td>...</td>\n",
              "      <td>23.41</td>\n",
              "      <td>158.80</td>\n",
              "      <td>1956.0</td>\n",
              "      <td>0.1238</td>\n",
              "      <td>0.1866</td>\n",
              "      <td>0.2416</td>\n",
              "      <td>0.1860</td>\n",
              "      <td>0.2750</td>\n",
              "      <td>0.08902</td>\n",
              "      <td>0</td>\n",
              "    </tr>\n",
              "    <tr>\n",
              "      <th>2</th>\n",
              "      <td>19.69</td>\n",
              "      <td>21.25</td>\n",
              "      <td>130.00</td>\n",
              "      <td>1203.0</td>\n",
              "      <td>0.10960</td>\n",
              "      <td>0.15990</td>\n",
              "      <td>0.1974</td>\n",
              "      <td>0.12790</td>\n",
              "      <td>0.2069</td>\n",
              "      <td>0.05999</td>\n",
              "      <td>...</td>\n",
              "      <td>25.53</td>\n",
              "      <td>152.50</td>\n",
              "      <td>1709.0</td>\n",
              "      <td>0.1444</td>\n",
              "      <td>0.4245</td>\n",
              "      <td>0.4504</td>\n",
              "      <td>0.2430</td>\n",
              "      <td>0.3613</td>\n",
              "      <td>0.08758</td>\n",
              "      <td>0</td>\n",
              "    </tr>\n",
              "    <tr>\n",
              "      <th>3</th>\n",
              "      <td>11.42</td>\n",
              "      <td>20.38</td>\n",
              "      <td>77.58</td>\n",
              "      <td>386.1</td>\n",
              "      <td>0.14250</td>\n",
              "      <td>0.28390</td>\n",
              "      <td>0.2414</td>\n",
              "      <td>0.10520</td>\n",
              "      <td>0.2597</td>\n",
              "      <td>0.09744</td>\n",
              "      <td>...</td>\n",
              "      <td>26.50</td>\n",
              "      <td>98.87</td>\n",
              "      <td>567.7</td>\n",
              "      <td>0.2098</td>\n",
              "      <td>0.8663</td>\n",
              "      <td>0.6869</td>\n",
              "      <td>0.2575</td>\n",
              "      <td>0.6638</td>\n",
              "      <td>0.17300</td>\n",
              "      <td>0</td>\n",
              "    </tr>\n",
              "    <tr>\n",
              "      <th>4</th>\n",
              "      <td>20.29</td>\n",
              "      <td>14.34</td>\n",
              "      <td>135.10</td>\n",
              "      <td>1297.0</td>\n",
              "      <td>0.10030</td>\n",
              "      <td>0.13280</td>\n",
              "      <td>0.1980</td>\n",
              "      <td>0.10430</td>\n",
              "      <td>0.1809</td>\n",
              "      <td>0.05883</td>\n",
              "      <td>...</td>\n",
              "      <td>16.67</td>\n",
              "      <td>152.20</td>\n",
              "      <td>1575.0</td>\n",
              "      <td>0.1374</td>\n",
              "      <td>0.2050</td>\n",
              "      <td>0.4000</td>\n",
              "      <td>0.1625</td>\n",
              "      <td>0.2364</td>\n",
              "      <td>0.07678</td>\n",
              "      <td>0</td>\n",
              "    </tr>\n",
              "  </tbody>\n",
              "</table>\n",
              "<p>5 rows × 31 columns</p>\n",
              "</div>\n",
              "      <button class=\"colab-df-convert\" onclick=\"convertToInteractive('df-b471ed16-a24f-4d5e-a3a1-4da96efd3d6a')\"\n",
              "              title=\"Convert this dataframe to an interactive table.\"\n",
              "              style=\"display:none;\">\n",
              "        \n",
              "  <svg xmlns=\"http://www.w3.org/2000/svg\" height=\"24px\"viewBox=\"0 0 24 24\"\n",
              "       width=\"24px\">\n",
              "    <path d=\"M0 0h24v24H0V0z\" fill=\"none\"/>\n",
              "    <path d=\"M18.56 5.44l.94 2.06.94-2.06 2.06-.94-2.06-.94-.94-2.06-.94 2.06-2.06.94zm-11 1L8.5 8.5l.94-2.06 2.06-.94-2.06-.94L8.5 2.5l-.94 2.06-2.06.94zm10 10l.94 2.06.94-2.06 2.06-.94-2.06-.94-.94-2.06-.94 2.06-2.06.94z\"/><path d=\"M17.41 7.96l-1.37-1.37c-.4-.4-.92-.59-1.43-.59-.52 0-1.04.2-1.43.59L10.3 9.45l-7.72 7.72c-.78.78-.78 2.05 0 2.83L4 21.41c.39.39.9.59 1.41.59.51 0 1.02-.2 1.41-.59l7.78-7.78 2.81-2.81c.8-.78.8-2.07 0-2.86zM5.41 20L4 18.59l7.72-7.72 1.47 1.35L5.41 20z\"/>\n",
              "  </svg>\n",
              "      </button>\n",
              "      \n",
              "  <style>\n",
              "    .colab-df-container {\n",
              "      display:flex;\n",
              "      flex-wrap:wrap;\n",
              "      gap: 12px;\n",
              "    }\n",
              "\n",
              "    .colab-df-convert {\n",
              "      background-color: #E8F0FE;\n",
              "      border: none;\n",
              "      border-radius: 50%;\n",
              "      cursor: pointer;\n",
              "      display: none;\n",
              "      fill: #1967D2;\n",
              "      height: 32px;\n",
              "      padding: 0 0 0 0;\n",
              "      width: 32px;\n",
              "    }\n",
              "\n",
              "    .colab-df-convert:hover {\n",
              "      background-color: #E2EBFA;\n",
              "      box-shadow: 0px 1px 2px rgba(60, 64, 67, 0.3), 0px 1px 3px 1px rgba(60, 64, 67, 0.15);\n",
              "      fill: #174EA6;\n",
              "    }\n",
              "\n",
              "    [theme=dark] .colab-df-convert {\n",
              "      background-color: #3B4455;\n",
              "      fill: #D2E3FC;\n",
              "    }\n",
              "\n",
              "    [theme=dark] .colab-df-convert:hover {\n",
              "      background-color: #434B5C;\n",
              "      box-shadow: 0px 1px 3px 1px rgba(0, 0, 0, 0.15);\n",
              "      filter: drop-shadow(0px 1px 2px rgba(0, 0, 0, 0.3));\n",
              "      fill: #FFFFFF;\n",
              "    }\n",
              "  </style>\n",
              "\n",
              "      <script>\n",
              "        const buttonEl =\n",
              "          document.querySelector('#df-b471ed16-a24f-4d5e-a3a1-4da96efd3d6a button.colab-df-convert');\n",
              "        buttonEl.style.display =\n",
              "          google.colab.kernel.accessAllowed ? 'block' : 'none';\n",
              "\n",
              "        async function convertToInteractive(key) {\n",
              "          const element = document.querySelector('#df-b471ed16-a24f-4d5e-a3a1-4da96efd3d6a');\n",
              "          const dataTable =\n",
              "            await google.colab.kernel.invokeFunction('convertToInteractive',\n",
              "                                                     [key], {});\n",
              "          if (!dataTable) return;\n",
              "\n",
              "          const docLinkHtml = 'Like what you see? Visit the ' +\n",
              "            '<a target=\"_blank\" href=https://colab.research.google.com/notebooks/data_table.ipynb>data table notebook</a>'\n",
              "            + ' to learn more about interactive tables.';\n",
              "          element.innerHTML = '';\n",
              "          dataTable['output_type'] = 'display_data';\n",
              "          await google.colab.output.renderOutput(dataTable, element);\n",
              "          const docLink = document.createElement('div');\n",
              "          docLink.innerHTML = docLinkHtml;\n",
              "          element.appendChild(docLink);\n",
              "        }\n",
              "      </script>\n",
              "    </div>\n",
              "  </div>\n",
              "  "
            ]
          },
          "metadata": {},
          "execution_count": 123
        }
      ]
    },
    {
      "cell_type": "markdown",
      "source": [
        "Step (4) train, test 데이터 분리"
      ],
      "metadata": {
        "id": "ZZ__aBZLhwpJ"
      }
    },
    {
      "cell_type": "code",
      "source": [
        "from sklearn.model_selection import train_test_split \n",
        "\n",
        "X_train, X_test, y_train, y_test = train_test_split(cancer_data, \n",
        "                                                    cancer_label, \n",
        "                                                    test_size=0.2, \n",
        "                                                    random_state=42)\n",
        "\n",
        "print('X_train 개수: ', len(X_train),', X_test 개수: ', len(X_test))"
      ],
      "metadata": {
        "colab": {
          "base_uri": "https://localhost:8080/"
        },
        "id": "4EY9DlxeWBR_",
        "outputId": "fd154d07-ff4e-4059-ac55-47dabfda4c73"
      },
      "execution_count": 124,
      "outputs": [
        {
          "output_type": "stream",
          "name": "stdout",
          "text": [
            "X_train 개수:  455 , X_test 개수:  114\n"
          ]
        }
      ]
    },
    {
      "cell_type": "markdown",
      "source": [
        "step (5) 다양한 모델로 학습"
      ],
      "metadata": {
        "id": "K1fIcTPn-kBb"
      }
    },
    {
      "cell_type": "markdown",
      "source": [
        "* 1) Decision Tree\n"
      ],
      "metadata": {
        "id": "BAM8YKg8W6p3"
      }
    },
    {
      "cell_type": "code",
      "source": [
        "from sklearn.tree import DecisionTreeClassifier\n",
        "\n",
        "decision_tree = DecisionTreeClassifier(random_state=32)\n",
        "decision_tree.fit(X_train, y_train)\n",
        "y_pred = decision_tree.predict(X_test)\n",
        "\n",
        "print(classification_report(y_test, y_pred))"
      ],
      "metadata": {
        "colab": {
          "base_uri": "https://localhost:8080/"
        },
        "id": "mPs3XoXOXZ_x",
        "outputId": "0361778f-9ea4-4745-d231-9a56925ef95e"
      },
      "execution_count": 125,
      "outputs": [
        {
          "output_type": "stream",
          "name": "stdout",
          "text": [
            "              precision    recall  f1-score   support\n",
            "\n",
            "           0       0.93      0.93      0.93        43\n",
            "           1       0.96      0.96      0.96        71\n",
            "\n",
            "    accuracy                           0.95       114\n",
            "   macro avg       0.94      0.94      0.94       114\n",
            "weighted avg       0.95      0.95      0.95       114\n",
            "\n"
          ]
        }
      ]
    },
    {
      "cell_type": "code",
      "source": [
        "accuracy = accuracy_score(y_test, y_pred)\n",
        "accuracy"
      ],
      "metadata": {
        "colab": {
          "base_uri": "https://localhost:8080/"
        },
        "id": "31nbk8Xbixaw",
        "outputId": "92efa79c-121c-4ca2-afb5-0373a494dee1"
      },
      "execution_count": 126,
      "outputs": [
        {
          "output_type": "execute_result",
          "data": {
            "text/plain": [
              "0.9473684210526315"
            ]
          },
          "metadata": {},
          "execution_count": 126
        }
      ]
    },
    {
      "cell_type": "code",
      "source": [
        "y_pred = decision_tree.predict(X_test)\n",
        "y_pred"
      ],
      "metadata": {
        "colab": {
          "base_uri": "https://localhost:8080/"
        },
        "id": "rsHGypBcZXZq",
        "outputId": "a6e9ce95-334e-4c0f-c1d7-85e2f1aba60e"
      },
      "execution_count": 127,
      "outputs": [
        {
          "output_type": "execute_result",
          "data": {
            "text/plain": [
              "array([1, 0, 0, 1, 1, 0, 0, 0, 0, 1, 1, 0, 1, 0, 1, 0, 1, 1, 1, 0, 1, 1,\n",
              "       0, 1, 1, 1, 1, 1, 1, 0, 1, 1, 1, 1, 1, 1, 0, 1, 0, 1, 1, 0, 1, 1,\n",
              "       1, 1, 0, 1, 1, 1, 0, 0, 1, 1, 1, 1, 1, 0, 0, 1, 1, 0, 0, 1, 1, 1,\n",
              "       0, 0, 1, 1, 0, 0, 1, 0, 1, 1, 1, 1, 1, 1, 0, 1, 1, 0, 0, 0, 0, 0,\n",
              "       1, 1, 1, 1, 1, 1, 1, 1, 0, 0, 1, 0, 0, 1, 0, 0, 1, 1, 1, 0, 0, 1,\n",
              "       0, 1, 1, 0])"
            ]
          },
          "metadata": {},
          "execution_count": 127
        }
      ]
    },
    {
      "cell_type": "code",
      "source": [
        "y_test"
      ],
      "metadata": {
        "colab": {
          "base_uri": "https://localhost:8080/"
        },
        "id": "_2srX3LWZbPL",
        "outputId": "a71cca47-b659-4f02-b526-b81adec3563e"
      },
      "execution_count": 128,
      "outputs": [
        {
          "output_type": "execute_result",
          "data": {
            "text/plain": [
              "array([1, 0, 0, 1, 1, 0, 0, 0, 1, 1, 1, 0, 1, 0, 1, 0, 1, 1, 1, 0, 0, 1,\n",
              "       0, 1, 1, 1, 1, 1, 1, 0, 1, 1, 1, 1, 1, 1, 0, 1, 0, 1, 1, 0, 1, 1,\n",
              "       1, 1, 1, 1, 1, 1, 0, 0, 1, 1, 1, 1, 1, 0, 0, 1, 1, 0, 0, 1, 1, 1,\n",
              "       0, 0, 1, 1, 0, 0, 1, 0, 1, 1, 1, 0, 1, 1, 0, 1, 0, 0, 0, 0, 0, 0,\n",
              "       1, 1, 1, 1, 1, 1, 1, 1, 0, 0, 1, 0, 0, 1, 0, 0, 1, 1, 1, 0, 1, 1,\n",
              "       0, 1, 1, 0])"
            ]
          },
          "metadata": {},
          "execution_count": 128
        }
      ]
    },
    {
      "cell_type": "markdown",
      "source": [
        "* 2) Random Forest"
      ],
      "metadata": {
        "id": "jzAp4t9cXA4P"
      }
    },
    {
      "cell_type": "code",
      "source": [
        "from sklearn.ensemble import RandomForestClassifier\n",
        "\n",
        "\n",
        "random_forest = RandomForestClassifier(random_state=32)\n",
        "random_forest.fit(X_train, y_train)\n",
        "y_pred = random_forest.predict(X_test)\n",
        "\n",
        "print(classification_report(y_test, y_pred))"
      ],
      "metadata": {
        "colab": {
          "base_uri": "https://localhost:8080/"
        },
        "id": "PetNBzq9W-KI",
        "outputId": "140725f4-df93-4842-a11c-15b085afa3ba"
      },
      "execution_count": 129,
      "outputs": [
        {
          "output_type": "stream",
          "name": "stdout",
          "text": [
            "              precision    recall  f1-score   support\n",
            "\n",
            "           0       0.98      0.93      0.95        43\n",
            "           1       0.96      0.99      0.97        71\n",
            "\n",
            "    accuracy                           0.96       114\n",
            "   macro avg       0.97      0.96      0.96       114\n",
            "weighted avg       0.97      0.96      0.96       114\n",
            "\n"
          ]
        }
      ]
    },
    {
      "cell_type": "code",
      "source": [
        "accuracy = accuracy_score(y_test, y_pred)\n",
        "accuracy"
      ],
      "metadata": {
        "colab": {
          "base_uri": "https://localhost:8080/"
        },
        "id": "ZHZAFbPcjUzk",
        "outputId": "dbc46b59-b6e7-42ae-fa92-820dc9259b0f"
      },
      "execution_count": 130,
      "outputs": [
        {
          "output_type": "execute_result",
          "data": {
            "text/plain": [
              "0.9649122807017544"
            ]
          },
          "metadata": {},
          "execution_count": 130
        }
      ]
    },
    {
      "cell_type": "markdown",
      "source": [
        "* 3) SVM "
      ],
      "metadata": {
        "id": "o1xlY15HZzxX"
      }
    },
    {
      "cell_type": "code",
      "source": [
        "from sklearn import svm\n",
        "svm_model = svm.SVC()\n",
        "\n",
        "svm_model.fit(X_train, y_train)\n",
        "y_pred = svm_model.predict(X_test)\n",
        "\n",
        "print(classification_report(y_test, y_pred))"
      ],
      "metadata": {
        "id": "8UEGwVhzaAYS",
        "colab": {
          "base_uri": "https://localhost:8080/"
        },
        "outputId": "333f0b45-f583-455a-e03d-f4bb33b0c6a4"
      },
      "execution_count": 131,
      "outputs": [
        {
          "output_type": "stream",
          "name": "stdout",
          "text": [
            "              precision    recall  f1-score   support\n",
            "\n",
            "           0       1.00      0.86      0.92        43\n",
            "           1       0.92      1.00      0.96        71\n",
            "\n",
            "    accuracy                           0.95       114\n",
            "   macro avg       0.96      0.93      0.94       114\n",
            "weighted avg       0.95      0.95      0.95       114\n",
            "\n"
          ]
        }
      ]
    },
    {
      "cell_type": "code",
      "source": [
        "accuracy = accuracy_score(y_test, y_pred)\n",
        "accuracy"
      ],
      "metadata": {
        "colab": {
          "base_uri": "https://localhost:8080/"
        },
        "id": "NXOYQVyHjWRv",
        "outputId": "5c0cadd3-e941-4590-a92e-c2ca0307388e"
      },
      "execution_count": 132,
      "outputs": [
        {
          "output_type": "execute_result",
          "data": {
            "text/plain": [
              "0.9473684210526315"
            ]
          },
          "metadata": {},
          "execution_count": 132
        }
      ]
    },
    {
      "cell_type": "markdown",
      "source": [
        "* 4) SDG Classifier"
      ],
      "metadata": {
        "id": "hEyEe95-abKG"
      }
    },
    {
      "cell_type": "code",
      "source": [
        "from sklearn.linear_model import SGDClassifier\n",
        "sgd_model = SGDClassifier()\n",
        "\n",
        "print(sgd_model._estimator_type)\n",
        "\n",
        "sgd_model.fit(X_train, y_train)\n",
        "y_pred = sgd_model.predict(X_test)\n",
        "\n",
        "print(classification_report(y_test, y_pred))"
      ],
      "metadata": {
        "colab": {
          "base_uri": "https://localhost:8080/"
        },
        "id": "hY7aPzhjZ1jx",
        "outputId": "b385a77e-45f3-4d48-b5e8-dec08940368f"
      },
      "execution_count": 133,
      "outputs": [
        {
          "output_type": "stream",
          "name": "stdout",
          "text": [
            "classifier\n",
            "              precision    recall  f1-score   support\n",
            "\n",
            "           0       0.98      0.93      0.95        43\n",
            "           1       0.96      0.99      0.97        71\n",
            "\n",
            "    accuracy                           0.96       114\n",
            "   macro avg       0.97      0.96      0.96       114\n",
            "weighted avg       0.97      0.96      0.96       114\n",
            "\n"
          ]
        }
      ]
    },
    {
      "cell_type": "code",
      "source": [
        "accuracy = accuracy_score(y_test, y_pred)\n",
        "accuracy"
      ],
      "metadata": {
        "colab": {
          "base_uri": "https://localhost:8080/"
        },
        "id": "xB9Fqs6rjYDv",
        "outputId": "36ae7b5c-edb9-465b-9db4-b202ad404a91"
      },
      "execution_count": 134,
      "outputs": [
        {
          "output_type": "execute_result",
          "data": {
            "text/plain": [
              "0.9649122807017544"
            ]
          },
          "metadata": {},
          "execution_count": 134
        }
      ]
    },
    {
      "cell_type": "markdown",
      "source": [
        "* 5) Logistic Regression"
      ],
      "metadata": {
        "id": "7gA-dXYsmsJl"
      }
    },
    {
      "cell_type": "code",
      "source": [
        "from sklearn.linear_model import LogisticRegression\n",
        "logistic_model = LogisticRegression(max_iter = 10 ** 4)\n",
        "\n",
        "logistic_model.fit(X_train, y_train)\n",
        "y_pred = logistic_model.predict(X_test)\n",
        "\n",
        "print(classification_report(y_test, y_pred))"
      ],
      "metadata": {
        "id": "XlNiIlwBag3U",
        "colab": {
          "base_uri": "https://localhost:8080/"
        },
        "outputId": "4e809086-dd8c-4b79-d461-b886a15a9aa0"
      },
      "execution_count": 135,
      "outputs": [
        {
          "output_type": "stream",
          "name": "stdout",
          "text": [
            "              precision    recall  f1-score   support\n",
            "\n",
            "           0       0.97      0.91      0.94        43\n",
            "           1       0.95      0.99      0.97        71\n",
            "\n",
            "    accuracy                           0.96       114\n",
            "   macro avg       0.96      0.95      0.95       114\n",
            "weighted avg       0.96      0.96      0.96       114\n",
            "\n"
          ]
        }
      ]
    },
    {
      "cell_type": "code",
      "source": [
        "accuracy = accuracy_score(y_test, y_pred)\n",
        "accuracy"
      ],
      "metadata": {
        "colab": {
          "base_uri": "https://localhost:8080/"
        },
        "id": "jtKztJxVjZn5",
        "outputId": "82ca2485-e906-4eac-93bf-c5148ff6c60c"
      },
      "execution_count": 136,
      "outputs": [
        {
          "output_type": "execute_result",
          "data": {
            "text/plain": [
              "0.956140350877193"
            ]
          },
          "metadata": {},
          "execution_count": 136
        }
      ]
    },
    {
      "cell_type": "markdown",
      "source": [
        "# 결론 : 모델 평가해 보기\n",
        "\n",
        "1.Precision(정밀도)같은경우에는 Negative요소를 고려하지않는 수치이다. 즉, \"분류\"가 잘되었는지만 고려한다.\n",
        "따라서 Precision은 예측모델이 Negative요소로 잘못 분류되도 상관이 없을때 주로 사용하는 측정값이다.\n",
        "\n",
        "2.반대로 Recall(재현률) 같은경우에는 Negative요소를 고려하는 수치이다. 즉, \"잘못 분류\"가 되었는지도 함께 고려한 값이다.\n",
        "Recall은 Negative요소를 고려하기때문에 특정 클래스가 예측모델이 Negative로 잘못분류되면 안되는 상황에서 주로 사용된다.\n",
        "\n",
        "3.f1-score은 Precision(정밀도)과 Recall(재현률)의 조화평균이다. 두 수치가 모두를 고려한  모델을 고려하고 싶다면 f1-score를 사용한다. \n",
        "\n",
        "- **Project1. Load_digits: 손글씨 분류**\n",
        "\n",
        " **SVM : Support Vector Machine**모델이  f1-score가 가장 높아 최적의 모델로 선정 되었다. \n",
        " 손글씨 분류 모델의 경우 Negative요소로 잘못 분류되더라도 리스크가 그다지 크지 않기에 precision 과 recall의 조화 평균인 f1-score를 평가 기준으로 삼았다. \n",
        "\n",
        "\n",
        "\n",
        "- **Project2. Load_wine : 와인 분류**\n",
        "\n",
        " **Decision Tree**모델과 **Logistic Regression** 모델이 세가지 종류의 와인 타겟의 지표의 수치가 고르게 분포되어 있고 그중에서 높은 수치를 보여 선정했다. \n",
        " 또, Random Forest 모델의 정확도는 모든면에서 1이 나왔지만 과적합의 문제가 있어 평가에서 제외했다.\n",
        " 나머지 모델들은 한 타켓의 정밀도와 재현율이 현저하게 낮아서 그 분포가 고르지 못하기에 제외했다. \n",
        " 와인 분류에 역시 손글씨 분류와 마찬가지의 이유로 f1-score를 기준했다. \n",
        "\n",
        "\n",
        "- **Project3. Load_breast_cancer : 유방암 진단**\n",
        "\n",
        "  유방암 진단은 FN( 음성이라고 판정했지만 양성인 경우 ) 암에 걸렸는데 암이 아니라고 판단하는것은 치명적인 문제가 따르기에 Negative 잘못 분류 되면 안되는 경우에 속한다. 그래서 Precision 보다 Recall을 더 중요한 지표로 고려하였다.  **Decision Tree, Random Forest, SDG Classifier** 세가지 모델 다 같은 높은 recall 수치를 보였기에 유방암 진단 모델에 최적의 모델로 선정했다."
      ],
      "metadata": {
        "id": "jNaYF2kG50au"
      }
    },
    {
      "cell_type": "markdown",
      "source": [
        "# 회고\n",
        "\n",
        "\n",
        "\n",
        "### - 이번 프로젝트에서 **어려웠던 점**.\n",
        "\n",
        "모델을 만들어서 실행하는것은 차근차근 코드를 따라 진행하면 되어서 비교적 문제가 없었다. 하지만 이진분류 평가지표를 정확하게 이해하고 이를 이용해 모델을 평가하는 기준을 세우는 것이 어려웠다. \n",
        "\n",
        "\n",
        "### - 프로젝트를 진행하면서 **알아낸 점** 혹은 **아직 모호한 점**.\n",
        "\n",
        "{알아낸점}\n",
        "\n",
        "<​macro avg, weighted avg, micro avg>\n",
        "\n",
        "* micro avg: 단순 평균을 이용한 계산방식. 만약에 데이터가 ***불균형한 데이터일 경우에는 부정확할수가 있다.***\n",
        "* macro avg: 라벨 별 각 합의 평균\n",
        "* weighted avg: 불균형한 데이터일 경우에 보는 수치값. 라벨의 비중에 따라서 ***가중치를 곱해준다***\n",
        "\n",
        "\n",
        "\n",
        "< 혼동행렬>\n",
        " \n",
        "![Positive.jpg](data:image/jpeg;base64,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)\n",
        "\n",
        "\n",
        "\n",
        "1. 정확도 (accuracy) :\n",
        "예측이 현실에 부합할 확률이다. 예측 결과 전체를 모두 모아서 분모에 넣고, 참긍정이든 참부정이든 제대로 예측하는 데 성공한 빈도가 전체 중의 얼마를 차지하는지 0~1 사이 값으로 살펴본다. 정확도가 높다는 것은 곧 예측이 제대로 적중한 경우가 많다는 의미가 되며, 정확도 높은 예측 알고리즘은 활용 가능성이 높다고 인정된다.\n",
        "\n",
        "\n",
        "2. 정밀도 (precision): \n",
        "‘예측 결과’가 긍정적일 때 현실도 실제로 긍정일 확률이다. 여기서는 예측 결과가 긍정적인 경우에만 관심을 갖고, 예측 결과가 부정적일 때 이를 얼마나 신뢰해야 할지에 대한 정보는 제공하지 않는다. \n",
        "\n",
        "3. 민감도 (sensitivity)= 재현율(recall) : \n",
        "‘현실’이 실제로 긍정일 때 예측 결과도 긍정적일 확률이다. 현실이 긍정인 경우에만 관심을 갖고, 현실이 부정일 때 예측이 어떻게 이루어지는지에 대한 정보는 제공하지 않는다. \n",
        "\n",
        "4. 특이도 (speciality) :\n",
        "‘현실’이 실제로 부정일 때 예측 결과도 부정적일 확률이다. 여기서는 민감도와는 반대로 현실이 부정인 경우에만 관심을 갖는다. 역시 민감도와는 반대로, 특이도는 현실이 긍정일 때의 평가 정보는 제공하지 않는다.\n",
        "\n",
        "cf) f1-score : precision 과 recall의 조화평균이다.\n",
        "precision 과 recall 모두 좋은 모델을 고려하고 싶다면 f1-score 를 고려하면 된다.\n",
        "\n",
        "출처 : https://namu.wiki/w/혼동행렬\n",
        "\n",
        " \n",
        "\n",
        "\n",
        "### - 루브릭 평가 지표를 맞추기 위해 **시도한 것들**.\n",
        "\n",
        ">#### **루브릭**\n",
        ">|번호|평가문항|상세기준|\n",
        ">|:---:|---|---|\n",
        ">|1|1. 3가지 데이터셋의 구성이 합리적으로 진행되었다.|feature와 label 선정을 위한 데이터 분석과정이 체계적으로 전개되었다.|\n",
        ">|2|3가지 데이터셋에 대해 각각 5가지 모델을 성공적으로 적용하였다.| 모델학습 및 테스트가 정상적으로 수행되었다. |\n",
        ">|3|3가지 데이터셋에 대해 모델의 평가지표가 적절히 선택되었다.|평가지표 선택 및 이유 설명이 타당하다.|\n",
        "\n",
        "* Logistic Regression :\n",
        "max_iter 값을 설정해서 warning을 해결한다. \n",
        "\n",
        "  max_iter : \n",
        " 반복(이터레이션, iteration)은 몇 개의 배치(batch)를 사용할 것인지를 의미한다.\n",
        "max_iter는 기계 학습(머신 러닝)의 훈련(training) 과정에서 반복을 몇 번 할 것인지를 정해준다.\n",
        "일단 수렴(Convergence)하게 되면 횟수를 늘려도 성능이 거의 달라지지 않는다. \n",
        "\n",
        "\n",
        "* overfitting\n",
        "train_test_split 과정에서 (stratify=y_data 옵션)을 설정하여 와인 분류에서 두가지 모델이 과적합인 것을 하나로 줄였다.\n",
        "\n",
        "  계층적 데이터 추출 옵션 \n",
        ": 여러 층으로 분할후 각 층별로 렌덤 데이터 추출, 원래 데이터의 분포와 유사하게 데이터 추출.\n",
        "\n",
        "  테스트 세트의 갯수가 훈련 세트에 비해 터무니 없이 작을 때 샘플링 편향이 발생할 시 이를 방지하기 위해 train_test_split()함수 내에 stratify 매개변수에 타깃 데이터를 전달하면 클래스 비율에 맞게 데이터를 나누어준다.\n",
        "\n",
        "\n",
        "\n",
        "​\n",
        "\n",
        "클래스 비율에 맞게 데이터를 나누게 됨\n",
        "\n",
        "\n",
        "\n",
        "### - **자기 다짐**\n",
        "\n",
        "* 앞의 다섯가지 모델에 대해 자세히 공부해보기 \n",
        "* Decision Tree 의사결정나무 : 지니계수, 앤트로피, 정보획득, 비용함수 개념에 대해 더 공부하기\n",
        "* Confusion Matics **혼동행렬 개념 일상 사례** 적용해보기\n",
        "* ROC 커브에 대해 알아보기\n",
        "\n",
        "\n",
        "### - **참고** \n",
        "\n",
        "혼동행렬 :\n",
        "https://jaeyung1001.tistory.com/252\n",
        "\n",
        "https://m.blog.naver.com/soowon0109/222557267247\n",
        "\n",
        "https://webnautes.tistory.com/1603\n",
        "\n",
        "https://m.blog.naver.com/libertyforever/222299312058\n",
        "\n",
        "https://bigdaheta.tistory.com/53\n",
        "\n",
        "유튜브:\n",
        "https://www.youtube.com/watch?v=Eyxynd-vDsQ"
      ],
      "metadata": {
        "id": "035zkcrooklJ"
      }
    },
    {
      "cell_type": "code",
      "source": [
        ""
      ],
      "metadata": {
        "id": "CYDbE5ukomeM"
      },
      "execution_count": null,
      "outputs": []
    }
  ]
}