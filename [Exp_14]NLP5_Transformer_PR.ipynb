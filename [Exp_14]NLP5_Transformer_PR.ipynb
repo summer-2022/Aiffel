{
  "cells": [
    {
      "cell_type": "markdown",
      "metadata": {
        "id": "qw_PSqJDLzTw"
      },
      "source": [
        "#[Exp-14] Transformer :  한국어 데이터로 챗봇 만들기\n",
        "## 목차\n",
        "Step 1. 데이터 수집하기\n",
        "\n",
        "Step 2. 데이터 전처리하기\n",
        "\n",
        "Step 3. SubwordTextEncoder 사용하기\n",
        "\n",
        "Step 4. 모델 구성하기\n",
        "\n",
        "Step 5. 모델 평가하기\n",
        "\n",
        "## 회고\n"
      ]
    },
    {
      "cell_type": "markdown",
      "metadata": {
        "id": "lkeLXZPnI_DY"
      },
      "source": [
        "* import library"
      ]
    },
    {
      "cell_type": "code",
      "execution_count": 1,
      "metadata": {
        "colab": {
          "base_uri": "https://localhost:8080/"
        },
        "id": "TE1y0YoALN2Q",
        "outputId": "79df240f-3f8f-456e-89d6-69afe6e41601"
      },
      "outputs": [
        {
          "output_type": "stream",
          "name": "stdout",
          "text": [
            "슝=3\n"
          ]
        }
      ],
      "source": [
        "import tensorflow as tf\n",
        "import tensorflow_datasets as tfds\n",
        "import os\n",
        "import re\n",
        "import numpy as np\n",
        "import matplotlib.pyplot as plt\n",
        "import pandas as pd \n",
        "print(\"슝=3\")"
      ]
    },
    {
      "cell_type": "code",
      "execution_count": 2,
      "metadata": {
        "id": "BLUKvGKn0VY6"
      },
      "outputs": [],
      "source": [
        "# pandas 출력 방법 변경 (모든 행 출력)\n",
        "pd.set_option('display.max_row', None)"
      ]
    },
    {
      "cell_type": "markdown",
      "metadata": {
        "id": "GRN0T5u0Pah5"
      },
      "source": [
        "# Step1. 데이터 수집\n",
        "\n",
        "https://github.com/songys/Chatbot_data"
      ]
    },
    {
      "cell_type": "code",
      "execution_count": 3,
      "metadata": {
        "id": "PfhyJfyJmW9C"
      },
      "outputs": [],
      "source": [
        "# path_to_zip = tf.keras.utils.get_file(\n",
        "#     'cornell_movie_dialogs.zip',\n",
        "#     origin='http://www.cs.cornell.edu/~cristian/data/cornell_movie_dialogs_corpus.zip',\n",
        "#     extract=True)\n",
        "\n",
        "# path_to_dataset = os.path.join(\n",
        "#     os.path.dirname(path_to_zip), \"cornell movie-dialogs corpus\")\n",
        "\n",
        "# path_to_lines = os.path.join(path_to_dataset, 'movie_lines.txt')\n",
        "# path_to_conversations = os.path.join(path_to_dataset,'movie_conversations.txt')\n",
        "# print(\"슝=3\")"
      ]
    },
    {
      "cell_type": "code",
      "execution_count": 4,
      "metadata": {
        "colab": {
          "base_uri": "https://localhost:8080/",
          "height": 206
        },
        "id": "DfdnwvZUSn45",
        "outputId": "ef64fa2d-f0b1-4efb-a30a-5a32d972d009"
      },
      "outputs": [
        {
          "output_type": "execute_result",
          "data": {
            "text/plain": [
              "                             Q                         A  label\n",
              "11818           훔쳐보는 것도 눈치 보임.        티가 나니까 눈치가 보이는 거죠!      2\n",
              "11819           훔쳐보는 것도 눈치 보임.             훔쳐보는 거 티나나봐요.      2\n",
              "11820              흑기사 해주는 짝남.                    설렜겠어요.      2\n",
              "11821  힘든 연애 좋은 연애라는게 무슨 차이일까?  잘 헤어질 수 있는 사이 여부인 거 같아요.      2\n",
              "11822               힘들어서 결혼할까봐        도피성 결혼은 하지 않길 바라요.      2"
            ],
            "text/html": [
              "\n",
              "  <div id=\"df-e68bb33b-0acb-41bb-9bae-a7c371a99a52\">\n",
              "    <div class=\"colab-df-container\">\n",
              "      <div>\n",
              "<style scoped>\n",
              "    .dataframe tbody tr th:only-of-type {\n",
              "        vertical-align: middle;\n",
              "    }\n",
              "\n",
              "    .dataframe tbody tr th {\n",
              "        vertical-align: top;\n",
              "    }\n",
              "\n",
              "    .dataframe thead th {\n",
              "        text-align: right;\n",
              "    }\n",
              "</style>\n",
              "<table border=\"1\" class=\"dataframe\">\n",
              "  <thead>\n",
              "    <tr style=\"text-align: right;\">\n",
              "      <th></th>\n",
              "      <th>Q</th>\n",
              "      <th>A</th>\n",
              "      <th>label</th>\n",
              "    </tr>\n",
              "  </thead>\n",
              "  <tbody>\n",
              "    <tr>\n",
              "      <th>11818</th>\n",
              "      <td>훔쳐보는 것도 눈치 보임.</td>\n",
              "      <td>티가 나니까 눈치가 보이는 거죠!</td>\n",
              "      <td>2</td>\n",
              "    </tr>\n",
              "    <tr>\n",
              "      <th>11819</th>\n",
              "      <td>훔쳐보는 것도 눈치 보임.</td>\n",
              "      <td>훔쳐보는 거 티나나봐요.</td>\n",
              "      <td>2</td>\n",
              "    </tr>\n",
              "    <tr>\n",
              "      <th>11820</th>\n",
              "      <td>흑기사 해주는 짝남.</td>\n",
              "      <td>설렜겠어요.</td>\n",
              "      <td>2</td>\n",
              "    </tr>\n",
              "    <tr>\n",
              "      <th>11821</th>\n",
              "      <td>힘든 연애 좋은 연애라는게 무슨 차이일까?</td>\n",
              "      <td>잘 헤어질 수 있는 사이 여부인 거 같아요.</td>\n",
              "      <td>2</td>\n",
              "    </tr>\n",
              "    <tr>\n",
              "      <th>11822</th>\n",
              "      <td>힘들어서 결혼할까봐</td>\n",
              "      <td>도피성 결혼은 하지 않길 바라요.</td>\n",
              "      <td>2</td>\n",
              "    </tr>\n",
              "  </tbody>\n",
              "</table>\n",
              "</div>\n",
              "      <button class=\"colab-df-convert\" onclick=\"convertToInteractive('df-e68bb33b-0acb-41bb-9bae-a7c371a99a52')\"\n",
              "              title=\"Convert this dataframe to an interactive table.\"\n",
              "              style=\"display:none;\">\n",
              "        \n",
              "  <svg xmlns=\"http://www.w3.org/2000/svg\" height=\"24px\"viewBox=\"0 0 24 24\"\n",
              "       width=\"24px\">\n",
              "    <path d=\"M0 0h24v24H0V0z\" fill=\"none\"/>\n",
              "    <path d=\"M18.56 5.44l.94 2.06.94-2.06 2.06-.94-2.06-.94-.94-2.06-.94 2.06-2.06.94zm-11 1L8.5 8.5l.94-2.06 2.06-.94-2.06-.94L8.5 2.5l-.94 2.06-2.06.94zm10 10l.94 2.06.94-2.06 2.06-.94-2.06-.94-.94-2.06-.94 2.06-2.06.94z\"/><path d=\"M17.41 7.96l-1.37-1.37c-.4-.4-.92-.59-1.43-.59-.52 0-1.04.2-1.43.59L10.3 9.45l-7.72 7.72c-.78.78-.78 2.05 0 2.83L4 21.41c.39.39.9.59 1.41.59.51 0 1.02-.2 1.41-.59l7.78-7.78 2.81-2.81c.8-.78.8-2.07 0-2.86zM5.41 20L4 18.59l7.72-7.72 1.47 1.35L5.41 20z\"/>\n",
              "  </svg>\n",
              "      </button>\n",
              "      \n",
              "  <style>\n",
              "    .colab-df-container {\n",
              "      display:flex;\n",
              "      flex-wrap:wrap;\n",
              "      gap: 12px;\n",
              "    }\n",
              "\n",
              "    .colab-df-convert {\n",
              "      background-color: #E8F0FE;\n",
              "      border: none;\n",
              "      border-radius: 50%;\n",
              "      cursor: pointer;\n",
              "      display: none;\n",
              "      fill: #1967D2;\n",
              "      height: 32px;\n",
              "      padding: 0 0 0 0;\n",
              "      width: 32px;\n",
              "    }\n",
              "\n",
              "    .colab-df-convert:hover {\n",
              "      background-color: #E2EBFA;\n",
              "      box-shadow: 0px 1px 2px rgba(60, 64, 67, 0.3), 0px 1px 3px 1px rgba(60, 64, 67, 0.15);\n",
              "      fill: #174EA6;\n",
              "    }\n",
              "\n",
              "    [theme=dark] .colab-df-convert {\n",
              "      background-color: #3B4455;\n",
              "      fill: #D2E3FC;\n",
              "    }\n",
              "\n",
              "    [theme=dark] .colab-df-convert:hover {\n",
              "      background-color: #434B5C;\n",
              "      box-shadow: 0px 1px 3px 1px rgba(0, 0, 0, 0.15);\n",
              "      filter: drop-shadow(0px 1px 2px rgba(0, 0, 0, 0.3));\n",
              "      fill: #FFFFFF;\n",
              "    }\n",
              "  </style>\n",
              "\n",
              "      <script>\n",
              "        const buttonEl =\n",
              "          document.querySelector('#df-e68bb33b-0acb-41bb-9bae-a7c371a99a52 button.colab-df-convert');\n",
              "        buttonEl.style.display =\n",
              "          google.colab.kernel.accessAllowed ? 'block' : 'none';\n",
              "\n",
              "        async function convertToInteractive(key) {\n",
              "          const element = document.querySelector('#df-e68bb33b-0acb-41bb-9bae-a7c371a99a52');\n",
              "          const dataTable =\n",
              "            await google.colab.kernel.invokeFunction('convertToInteractive',\n",
              "                                                     [key], {});\n",
              "          if (!dataTable) return;\n",
              "\n",
              "          const docLinkHtml = 'Like what you see? Visit the ' +\n",
              "            '<a target=\"_blank\" href=https://colab.research.google.com/notebooks/data_table.ipynb>data table notebook</a>'\n",
              "            + ' to learn more about interactive tables.';\n",
              "          element.innerHTML = '';\n",
              "          dataTable['output_type'] = 'display_data';\n",
              "          await google.colab.output.renderOutput(dataTable, element);\n",
              "          const docLink = document.createElement('div');\n",
              "          docLink.innerHTML = docLinkHtml;\n",
              "          element.appendChild(docLink);\n",
              "        }\n",
              "      </script>\n",
              "    </div>\n",
              "  </div>\n",
              "  "
            ]
          },
          "metadata": {},
          "execution_count": 4
        }
      ],
      "source": [
        "data = pd.read_csv(\"/content/drive/MyDrive/Aiffel_data/Exp_Stage/Exp14_NLP5/PR/ChatbotData .csv\") \n",
        "data.tail()"
      ]
    },
    {
      "cell_type": "code",
      "execution_count": 5,
      "metadata": {
        "colab": {
          "base_uri": "https://localhost:8080/"
        },
        "id": "Fs_UYKE3oYLO",
        "outputId": "9bc7f3e6-1d58-481e-dad8-080761471f7b"
      },
      "outputs": [
        {
          "output_type": "execute_result",
          "data": {
            "text/plain": [
              "count     11823\n",
              "unique    11662\n",
              "top         외로워\n",
              "freq          4\n",
              "Name: Q, dtype: object"
            ]
          },
          "metadata": {},
          "execution_count": 5
        }
      ],
      "source": [
        "data.Q.describe()"
      ]
    },
    {
      "cell_type": "code",
      "execution_count": 6,
      "metadata": {
        "colab": {
          "base_uri": "https://localhost:8080/"
        },
        "id": "u8zWcpnHpF2C",
        "outputId": "6f61f56b-a1c6-439c-c60b-c550fcd02cb9"
      },
      "outputs": [
        {
          "output_type": "execute_result",
          "data": {
            "text/plain": [
              "count        11823\n",
              "unique        7779\n",
              "top       맛있게 드세요.\n",
              "freq            22\n",
              "Name: A, dtype: object"
            ]
          },
          "metadata": {},
          "execution_count": 6
        }
      ],
      "source": [
        "data.A.describe()"
      ]
    },
    {
      "cell_type": "code",
      "execution_count": 7,
      "metadata": {
        "colab": {
          "base_uri": "https://localhost:8080/"
        },
        "id": "Mk2E_b1-pTse",
        "outputId": "d4b3b618-b3fa-4c6b-ba12-f448fc4358a9"
      },
      "outputs": [
        {
          "output_type": "execute_result",
          "data": {
            "text/plain": [
              "count    11823.000000\n",
              "mean         0.803180\n",
              "std          0.812012\n",
              "min          0.000000\n",
              "25%          0.000000\n",
              "50%          1.000000\n",
              "75%          2.000000\n",
              "max          2.000000\n",
              "Name: label, dtype: float64"
            ]
          },
          "metadata": {},
          "execution_count": 7
        }
      ],
      "source": [
        "data.label.describe()"
      ]
    },
    {
      "cell_type": "markdown",
      "metadata": {
        "id": "SdFeoDtspdqN"
      },
      "source": [
        "* 챗봇 트레이닝용 문답 페어 11,876개\n",
        "* 일상다반사 0, 이별(부정) 1, 사랑(긍정) 2로 레이블링\n",
        "* 중복값 존재"
      ]
    },
    {
      "cell_type": "code",
      "execution_count": 8,
      "metadata": {
        "id": "8HBC4K6vrwiO"
      },
      "outputs": [],
      "source": [
        "# # 사용할 샘플의 최대 개수\n",
        "# MAX_SAMPLES = 50000\n",
        "# print(MAX_SAMPLES)"
      ]
    },
    {
      "cell_type": "markdown",
      "metadata": {
        "id": "0_twVRR9PAur"
      },
      "source": [
        "# Step2. 데이터 전처리\n",
        "\n",
        "* 구두점\n",
        "* 영어\n",
        "* 숫자"
      ]
    },
    {
      "cell_type": "markdown",
      "metadata": {
        "id": "ueLQz7ypwReP"
      },
      "source": [
        "1)구두점\n",
        "\n",
        "영여, 한글, 숫자, !?., 가 아닌 모든 문자열 (=구두점) 이 있는 Q컬럼 이나 A 컬럼에 속하는 새로운 데이터 프레임 생성\n",
        "\n",
        "> 확인후 해당 열의 데이터를 삭제 할 것이다. (공백으로 대체)"
      ]
    },
    {
      "cell_type": "code",
      "execution_count": 9,
      "metadata": {
        "colab": {
          "base_uri": "https://localhost:8080/",
          "height": 1000
        },
        "id": "bPLHLpSivmOH",
        "outputId": "11cf42f7-fe02-489d-c52e-a836806662f3"
      },
      "outputs": [
        {
          "output_type": "stream",
          "name": "stdout",
          "text": [
            "54\n"
          ]
        },
        {
          "output_type": "display_data",
          "data": {
            "text/plain": [
              "                                   Q                                A  label\n",
              "100                             거지됐어                 밥 사줄 친구를 찾아 보세요~      0\n",
              "468                            나 그지임                 밥 사줄 친구를 찾아 보세요~      0\n",
              "592                        나는 좋은데 ….                   현실의 벽에 부딪혔나봐요.      0\n",
              "701                        날씨가 진짜 덥다                시원한 물이라도 한 잔 드세요~      0\n",
              "954                            너무 더워                시원한 물이라도 한 잔 드세요~      0\n",
              "1300                          돈 어디갔지                             퍼가요~      0\n",
              "1313                           돈이 엄떠                             퍼가요~      0\n",
              "1398                       떠나요~ 제주도~                           여행 좋죠!      0\n",
              "1902                     바람쐬러 정동진가~~                        잘 놀다 오세요.      0\n",
              "1932                      반지 호수 모르는데                   음~ 곰곰히 생각해보세요.      0\n",
              "1933                      반지 호수 물어볼까                   음~ 곰곰히 생각해보세요.      0\n",
              "2059                        베터리 15%야                        미리 충전하세요.      0\n",
              "2060                     베터리 겨우 15%야                        미리 충전하세요.      0\n",
              "2692                           스트레스~                    잘 푸는 것도 중요해요.      0\n",
              "3404                        와인 한잔 짠~                           완전 좋죠.      0\n",
              "3613                         으으~ 떨린다                             파이팅!      0\n",
              "4749                       컴퓨터가 느려졌어                     뭘 다운 받으신 건지…      0\n",
              "4750                    컴퓨터가 대빵 느려졌어                     뭘 다운 받으신 건지…      0\n",
              "5058                      핸드폰 꺼지기 직전                       으아~ 충전하세요.      0\n",
              "5060                     핸드폰 꺼질때까지 톡                       으아~ 충전하세요.      0\n",
              "5299                          15년…안녕                       시간이 무색하네요.      1\n",
              "5464                    같이 보고싶어서 올려~                        이제 내려주세요.      1\n",
              "5480                          겁나 열받어                       워워~ 진정하세요.      1\n",
              "5774                       나는 좋은데 ….                   현실의 벽에 부딪혔나봐요.      1\n",
              "6551                          비많이오네~                        감기 조심하세요.      1\n",
              "6626                    삼십대를 훌러덩~~~~                   시작하기 딱 좋은 나이죠.      1\n",
              "6702                        소식이 궁금해~                    연락 확실하게 끊으세요.      1\n",
              "6705                  속시원해~~안녕 잘가~~~                        이제 정말 안녕.      1\n",
              "6897                    아휴~ 싱숭생숭한 하루         그러게요. 오늘 하루 마음이 복잡했나봅니다.      1\n",
              "7054                     여자친구 만나고왔어~                   좋은 만남이었길 바랍니다.      1\n",
              "7174                         오늘도출근해~                    바쁘게 지내는 게 좋죠.      1\n",
              "7224                        완전히 끝났어~                      마음이 허전하겠어요.      1\n",
              "7264               외롭고 우울해서 잠이쏟아져;;;               부담갖지 말고 자는 것도 좋아요.      1\n",
              "7265              외롭지만 혼자 걸을수 있어_조성모                   제가 뒤에서 지켜드릴게요.      1\n",
              "7270                  요즘은 솔로인게 좋네~!!                 때론 혼자인게 편할때가 있죠.      1\n",
              "7318          윤종신 '좋니' 노래 가사가 엄청 와닿네               노래 가사가 공감이 많이 되네요.      1\n",
              "7353             이것 또한 받아들이는 것이겠죠~??               받아들여야할 부분도 있을 거예요.      1\n",
              "7375                 이런 여자.이런남자.안대용~               알면서도 또 실수하는건 안 돼요.      1\n",
              "7647                이야기를 한번 해보려 합니다~                        네. 들어줄게요.      1\n",
              "7859                         자야하는데~~                      생각이 많은가봅니다.      1\n",
              "8008   점심시간잠깐 그녀가 저에게 했던 말들이 떠오르네~ㅠㅠ                생각을 접어두는 것도 필요해요.      1\n",
              "8311                  첫데이트 하자마자 차임;?                    그분의 변덕이 심하네요.      1\n",
              "8355                  카톡프로필~~~보고왔는데.                          보지 마세요.      1\n",
              "8371                         퇴근했어~근데                         생각나나봅니다.      1\n",
              "8649                  헤어진지 3주차 넘어가네~                      잘 견뎌내길 바라요.      1\n",
              "8658                      헤어진지 6개월여~                      잘 견뎌내고 있어요.      1\n",
              "8812             휴~~ 이제 글쓰는것도 멈춰야 할까                글 쓰면서 정리가 되기도 해요.      1\n",
              "8818                     흐음이거고민인데여;;                   무슨 고민인지 말해보세요.      1\n",
              "8819                   흐잌~~ 불금이닷~~ㅠㅠ                              퐈이야      1\n",
              "9827   사귀는 사이인데 '야'라고 해. 기분 나쁜데 어떡해?           그건 좀 아닌 거 같다고 바로 말하세요.      2\n",
              "10194           썸 타는 사람 이름 뭐라고 저장할까?                 저는 '설레'라고 저장할래요.      2\n",
              "10208     썸 타는 사이인데 카톡하다가 마무리 어떻게 해?  잘자요', '내일도 보고싶어요' 라고 하는 건 어떨까요?      2\n",
              "10555                여자친구 보고만 있어도 좋아                  애들아~ 여기 깨 쏟아진다.      2\n",
              "10859                    우리의 사랑은 끝났어      꺼진 사랑도 다시 보자~ 다시 타오를수도 있어요.      2"
            ],
            "text/html": [
              "\n",
              "  <div id=\"df-60b5aa60-1357-4c9d-929b-df47afdaf202\">\n",
              "    <div class=\"colab-df-container\">\n",
              "      <div>\n",
              "<style scoped>\n",
              "    .dataframe tbody tr th:only-of-type {\n",
              "        vertical-align: middle;\n",
              "    }\n",
              "\n",
              "    .dataframe tbody tr th {\n",
              "        vertical-align: top;\n",
              "    }\n",
              "\n",
              "    .dataframe thead th {\n",
              "        text-align: right;\n",
              "    }\n",
              "</style>\n",
              "<table border=\"1\" class=\"dataframe\">\n",
              "  <thead>\n",
              "    <tr style=\"text-align: right;\">\n",
              "      <th></th>\n",
              "      <th>Q</th>\n",
              "      <th>A</th>\n",
              "      <th>label</th>\n",
              "    </tr>\n",
              "  </thead>\n",
              "  <tbody>\n",
              "    <tr>\n",
              "      <th>100</th>\n",
              "      <td>거지됐어</td>\n",
              "      <td>밥 사줄 친구를 찾아 보세요~</td>\n",
              "      <td>0</td>\n",
              "    </tr>\n",
              "    <tr>\n",
              "      <th>468</th>\n",
              "      <td>나 그지임</td>\n",
              "      <td>밥 사줄 친구를 찾아 보세요~</td>\n",
              "      <td>0</td>\n",
              "    </tr>\n",
              "    <tr>\n",
              "      <th>592</th>\n",
              "      <td>나는 좋은데 ….</td>\n",
              "      <td>현실의 벽에 부딪혔나봐요.</td>\n",
              "      <td>0</td>\n",
              "    </tr>\n",
              "    <tr>\n",
              "      <th>701</th>\n",
              "      <td>날씨가 진짜 덥다</td>\n",
              "      <td>시원한 물이라도 한 잔 드세요~</td>\n",
              "      <td>0</td>\n",
              "    </tr>\n",
              "    <tr>\n",
              "      <th>954</th>\n",
              "      <td>너무 더워</td>\n",
              "      <td>시원한 물이라도 한 잔 드세요~</td>\n",
              "      <td>0</td>\n",
              "    </tr>\n",
              "    <tr>\n",
              "      <th>1300</th>\n",
              "      <td>돈 어디갔지</td>\n",
              "      <td>퍼가요~</td>\n",
              "      <td>0</td>\n",
              "    </tr>\n",
              "    <tr>\n",
              "      <th>1313</th>\n",
              "      <td>돈이 엄떠</td>\n",
              "      <td>퍼가요~</td>\n",
              "      <td>0</td>\n",
              "    </tr>\n",
              "    <tr>\n",
              "      <th>1398</th>\n",
              "      <td>떠나요~ 제주도~</td>\n",
              "      <td>여행 좋죠!</td>\n",
              "      <td>0</td>\n",
              "    </tr>\n",
              "    <tr>\n",
              "      <th>1902</th>\n",
              "      <td>바람쐬러 정동진가~~</td>\n",
              "      <td>잘 놀다 오세요.</td>\n",
              "      <td>0</td>\n",
              "    </tr>\n",
              "    <tr>\n",
              "      <th>1932</th>\n",
              "      <td>반지 호수 모르는데</td>\n",
              "      <td>음~ 곰곰히 생각해보세요.</td>\n",
              "      <td>0</td>\n",
              "    </tr>\n",
              "    <tr>\n",
              "      <th>1933</th>\n",
              "      <td>반지 호수 물어볼까</td>\n",
              "      <td>음~ 곰곰히 생각해보세요.</td>\n",
              "      <td>0</td>\n",
              "    </tr>\n",
              "    <tr>\n",
              "      <th>2059</th>\n",
              "      <td>베터리 15%야</td>\n",
              "      <td>미리 충전하세요.</td>\n",
              "      <td>0</td>\n",
              "    </tr>\n",
              "    <tr>\n",
              "      <th>2060</th>\n",
              "      <td>베터리 겨우 15%야</td>\n",
              "      <td>미리 충전하세요.</td>\n",
              "      <td>0</td>\n",
              "    </tr>\n",
              "    <tr>\n",
              "      <th>2692</th>\n",
              "      <td>스트레스~</td>\n",
              "      <td>잘 푸는 것도 중요해요.</td>\n",
              "      <td>0</td>\n",
              "    </tr>\n",
              "    <tr>\n",
              "      <th>3404</th>\n",
              "      <td>와인 한잔 짠~</td>\n",
              "      <td>완전 좋죠.</td>\n",
              "      <td>0</td>\n",
              "    </tr>\n",
              "    <tr>\n",
              "      <th>3613</th>\n",
              "      <td>으으~ 떨린다</td>\n",
              "      <td>파이팅!</td>\n",
              "      <td>0</td>\n",
              "    </tr>\n",
              "    <tr>\n",
              "      <th>4749</th>\n",
              "      <td>컴퓨터가 느려졌어</td>\n",
              "      <td>뭘 다운 받으신 건지…</td>\n",
              "      <td>0</td>\n",
              "    </tr>\n",
              "    <tr>\n",
              "      <th>4750</th>\n",
              "      <td>컴퓨터가 대빵 느려졌어</td>\n",
              "      <td>뭘 다운 받으신 건지…</td>\n",
              "      <td>0</td>\n",
              "    </tr>\n",
              "    <tr>\n",
              "      <th>5058</th>\n",
              "      <td>핸드폰 꺼지기 직전</td>\n",
              "      <td>으아~ 충전하세요.</td>\n",
              "      <td>0</td>\n",
              "    </tr>\n",
              "    <tr>\n",
              "      <th>5060</th>\n",
              "      <td>핸드폰 꺼질때까지 톡</td>\n",
              "      <td>으아~ 충전하세요.</td>\n",
              "      <td>0</td>\n",
              "    </tr>\n",
              "    <tr>\n",
              "      <th>5299</th>\n",
              "      <td>15년…안녕</td>\n",
              "      <td>시간이 무색하네요.</td>\n",
              "      <td>1</td>\n",
              "    </tr>\n",
              "    <tr>\n",
              "      <th>5464</th>\n",
              "      <td>같이 보고싶어서 올려~</td>\n",
              "      <td>이제 내려주세요.</td>\n",
              "      <td>1</td>\n",
              "    </tr>\n",
              "    <tr>\n",
              "      <th>5480</th>\n",
              "      <td>겁나 열받어</td>\n",
              "      <td>워워~ 진정하세요.</td>\n",
              "      <td>1</td>\n",
              "    </tr>\n",
              "    <tr>\n",
              "      <th>5774</th>\n",
              "      <td>나는 좋은데 ….</td>\n",
              "      <td>현실의 벽에 부딪혔나봐요.</td>\n",
              "      <td>1</td>\n",
              "    </tr>\n",
              "    <tr>\n",
              "      <th>6551</th>\n",
              "      <td>비많이오네~</td>\n",
              "      <td>감기 조심하세요.</td>\n",
              "      <td>1</td>\n",
              "    </tr>\n",
              "    <tr>\n",
              "      <th>6626</th>\n",
              "      <td>삼십대를 훌러덩~~~~</td>\n",
              "      <td>시작하기 딱 좋은 나이죠.</td>\n",
              "      <td>1</td>\n",
              "    </tr>\n",
              "    <tr>\n",
              "      <th>6702</th>\n",
              "      <td>소식이 궁금해~</td>\n",
              "      <td>연락 확실하게 끊으세요.</td>\n",
              "      <td>1</td>\n",
              "    </tr>\n",
              "    <tr>\n",
              "      <th>6705</th>\n",
              "      <td>속시원해~~안녕 잘가~~~</td>\n",
              "      <td>이제 정말 안녕.</td>\n",
              "      <td>1</td>\n",
              "    </tr>\n",
              "    <tr>\n",
              "      <th>6897</th>\n",
              "      <td>아휴~ 싱숭생숭한 하루</td>\n",
              "      <td>그러게요. 오늘 하루 마음이 복잡했나봅니다.</td>\n",
              "      <td>1</td>\n",
              "    </tr>\n",
              "    <tr>\n",
              "      <th>7054</th>\n",
              "      <td>여자친구 만나고왔어~</td>\n",
              "      <td>좋은 만남이었길 바랍니다.</td>\n",
              "      <td>1</td>\n",
              "    </tr>\n",
              "    <tr>\n",
              "      <th>7174</th>\n",
              "      <td>오늘도출근해~</td>\n",
              "      <td>바쁘게 지내는 게 좋죠.</td>\n",
              "      <td>1</td>\n",
              "    </tr>\n",
              "    <tr>\n",
              "      <th>7224</th>\n",
              "      <td>완전히 끝났어~</td>\n",
              "      <td>마음이 허전하겠어요.</td>\n",
              "      <td>1</td>\n",
              "    </tr>\n",
              "    <tr>\n",
              "      <th>7264</th>\n",
              "      <td>외롭고 우울해서 잠이쏟아져;;;</td>\n",
              "      <td>부담갖지 말고 자는 것도 좋아요.</td>\n",
              "      <td>1</td>\n",
              "    </tr>\n",
              "    <tr>\n",
              "      <th>7265</th>\n",
              "      <td>외롭지만 혼자 걸을수 있어_조성모</td>\n",
              "      <td>제가 뒤에서 지켜드릴게요.</td>\n",
              "      <td>1</td>\n",
              "    </tr>\n",
              "    <tr>\n",
              "      <th>7270</th>\n",
              "      <td>요즘은 솔로인게 좋네~!!</td>\n",
              "      <td>때론 혼자인게 편할때가 있죠.</td>\n",
              "      <td>1</td>\n",
              "    </tr>\n",
              "    <tr>\n",
              "      <th>7318</th>\n",
              "      <td>윤종신 '좋니' 노래 가사가 엄청 와닿네</td>\n",
              "      <td>노래 가사가 공감이 많이 되네요.</td>\n",
              "      <td>1</td>\n",
              "    </tr>\n",
              "    <tr>\n",
              "      <th>7353</th>\n",
              "      <td>이것 또한 받아들이는 것이겠죠~??</td>\n",
              "      <td>받아들여야할 부분도 있을 거예요.</td>\n",
              "      <td>1</td>\n",
              "    </tr>\n",
              "    <tr>\n",
              "      <th>7375</th>\n",
              "      <td>이런 여자.이런남자.안대용~</td>\n",
              "      <td>알면서도 또 실수하는건 안 돼요.</td>\n",
              "      <td>1</td>\n",
              "    </tr>\n",
              "    <tr>\n",
              "      <th>7647</th>\n",
              "      <td>이야기를 한번 해보려 합니다~</td>\n",
              "      <td>네. 들어줄게요.</td>\n",
              "      <td>1</td>\n",
              "    </tr>\n",
              "    <tr>\n",
              "      <th>7859</th>\n",
              "      <td>자야하는데~~</td>\n",
              "      <td>생각이 많은가봅니다.</td>\n",
              "      <td>1</td>\n",
              "    </tr>\n",
              "    <tr>\n",
              "      <th>8008</th>\n",
              "      <td>점심시간잠깐 그녀가 저에게 했던 말들이 떠오르네~ㅠㅠ</td>\n",
              "      <td>생각을 접어두는 것도 필요해요.</td>\n",
              "      <td>1</td>\n",
              "    </tr>\n",
              "    <tr>\n",
              "      <th>8311</th>\n",
              "      <td>첫데이트 하자마자 차임;?</td>\n",
              "      <td>그분의 변덕이 심하네요.</td>\n",
              "      <td>1</td>\n",
              "    </tr>\n",
              "    <tr>\n",
              "      <th>8355</th>\n",
              "      <td>카톡프로필~~~보고왔는데.</td>\n",
              "      <td>보지 마세요.</td>\n",
              "      <td>1</td>\n",
              "    </tr>\n",
              "    <tr>\n",
              "      <th>8371</th>\n",
              "      <td>퇴근했어~근데</td>\n",
              "      <td>생각나나봅니다.</td>\n",
              "      <td>1</td>\n",
              "    </tr>\n",
              "    <tr>\n",
              "      <th>8649</th>\n",
              "      <td>헤어진지 3주차 넘어가네~</td>\n",
              "      <td>잘 견뎌내길 바라요.</td>\n",
              "      <td>1</td>\n",
              "    </tr>\n",
              "    <tr>\n",
              "      <th>8658</th>\n",
              "      <td>헤어진지 6개월여~</td>\n",
              "      <td>잘 견뎌내고 있어요.</td>\n",
              "      <td>1</td>\n",
              "    </tr>\n",
              "    <tr>\n",
              "      <th>8812</th>\n",
              "      <td>휴~~ 이제 글쓰는것도 멈춰야 할까</td>\n",
              "      <td>글 쓰면서 정리가 되기도 해요.</td>\n",
              "      <td>1</td>\n",
              "    </tr>\n",
              "    <tr>\n",
              "      <th>8818</th>\n",
              "      <td>흐음이거고민인데여;;</td>\n",
              "      <td>무슨 고민인지 말해보세요.</td>\n",
              "      <td>1</td>\n",
              "    </tr>\n",
              "    <tr>\n",
              "      <th>8819</th>\n",
              "      <td>흐잌~~ 불금이닷~~ㅠㅠ</td>\n",
              "      <td>퐈이야</td>\n",
              "      <td>1</td>\n",
              "    </tr>\n",
              "    <tr>\n",
              "      <th>9827</th>\n",
              "      <td>사귀는 사이인데 '야'라고 해. 기분 나쁜데 어떡해?</td>\n",
              "      <td>그건 좀 아닌 거 같다고 바로 말하세요.</td>\n",
              "      <td>2</td>\n",
              "    </tr>\n",
              "    <tr>\n",
              "      <th>10194</th>\n",
              "      <td>썸 타는 사람 이름 뭐라고 저장할까?</td>\n",
              "      <td>저는 '설레'라고 저장할래요.</td>\n",
              "      <td>2</td>\n",
              "    </tr>\n",
              "    <tr>\n",
              "      <th>10208</th>\n",
              "      <td>썸 타는 사이인데 카톡하다가 마무리 어떻게 해?</td>\n",
              "      <td>잘자요', '내일도 보고싶어요' 라고 하는 건 어떨까요?</td>\n",
              "      <td>2</td>\n",
              "    </tr>\n",
              "    <tr>\n",
              "      <th>10555</th>\n",
              "      <td>여자친구 보고만 있어도 좋아</td>\n",
              "      <td>애들아~ 여기 깨 쏟아진다.</td>\n",
              "      <td>2</td>\n",
              "    </tr>\n",
              "    <tr>\n",
              "      <th>10859</th>\n",
              "      <td>우리의 사랑은 끝났어</td>\n",
              "      <td>꺼진 사랑도 다시 보자~ 다시 타오를수도 있어요.</td>\n",
              "      <td>2</td>\n",
              "    </tr>\n",
              "  </tbody>\n",
              "</table>\n",
              "</div>\n",
              "      <button class=\"colab-df-convert\" onclick=\"convertToInteractive('df-60b5aa60-1357-4c9d-929b-df47afdaf202')\"\n",
              "              title=\"Convert this dataframe to an interactive table.\"\n",
              "              style=\"display:none;\">\n",
              "        \n",
              "  <svg xmlns=\"http://www.w3.org/2000/svg\" height=\"24px\"viewBox=\"0 0 24 24\"\n",
              "       width=\"24px\">\n",
              "    <path d=\"M0 0h24v24H0V0z\" fill=\"none\"/>\n",
              "    <path d=\"M18.56 5.44l.94 2.06.94-2.06 2.06-.94-2.06-.94-.94-2.06-.94 2.06-2.06.94zm-11 1L8.5 8.5l.94-2.06 2.06-.94-2.06-.94L8.5 2.5l-.94 2.06-2.06.94zm10 10l.94 2.06.94-2.06 2.06-.94-2.06-.94-.94-2.06-.94 2.06-2.06.94z\"/><path d=\"M17.41 7.96l-1.37-1.37c-.4-.4-.92-.59-1.43-.59-.52 0-1.04.2-1.43.59L10.3 9.45l-7.72 7.72c-.78.78-.78 2.05 0 2.83L4 21.41c.39.39.9.59 1.41.59.51 0 1.02-.2 1.41-.59l7.78-7.78 2.81-2.81c.8-.78.8-2.07 0-2.86zM5.41 20L4 18.59l7.72-7.72 1.47 1.35L5.41 20z\"/>\n",
              "  </svg>\n",
              "      </button>\n",
              "      \n",
              "  <style>\n",
              "    .colab-df-container {\n",
              "      display:flex;\n",
              "      flex-wrap:wrap;\n",
              "      gap: 12px;\n",
              "    }\n",
              "\n",
              "    .colab-df-convert {\n",
              "      background-color: #E8F0FE;\n",
              "      border: none;\n",
              "      border-radius: 50%;\n",
              "      cursor: pointer;\n",
              "      display: none;\n",
              "      fill: #1967D2;\n",
              "      height: 32px;\n",
              "      padding: 0 0 0 0;\n",
              "      width: 32px;\n",
              "    }\n",
              "\n",
              "    .colab-df-convert:hover {\n",
              "      background-color: #E2EBFA;\n",
              "      box-shadow: 0px 1px 2px rgba(60, 64, 67, 0.3), 0px 1px 3px 1px rgba(60, 64, 67, 0.15);\n",
              "      fill: #174EA6;\n",
              "    }\n",
              "\n",
              "    [theme=dark] .colab-df-convert {\n",
              "      background-color: #3B4455;\n",
              "      fill: #D2E3FC;\n",
              "    }\n",
              "\n",
              "    [theme=dark] .colab-df-convert:hover {\n",
              "      background-color: #434B5C;\n",
              "      box-shadow: 0px 1px 3px 1px rgba(0, 0, 0, 0.15);\n",
              "      filter: drop-shadow(0px 1px 2px rgba(0, 0, 0, 0.3));\n",
              "      fill: #FFFFFF;\n",
              "    }\n",
              "  </style>\n",
              "\n",
              "      <script>\n",
              "        const buttonEl =\n",
              "          document.querySelector('#df-60b5aa60-1357-4c9d-929b-df47afdaf202 button.colab-df-convert');\n",
              "        buttonEl.style.display =\n",
              "          google.colab.kernel.accessAllowed ? 'block' : 'none';\n",
              "\n",
              "        async function convertToInteractive(key) {\n",
              "          const element = document.querySelector('#df-60b5aa60-1357-4c9d-929b-df47afdaf202');\n",
              "          const dataTable =\n",
              "            await google.colab.kernel.invokeFunction('convertToInteractive',\n",
              "                                                     [key], {});\n",
              "          if (!dataTable) return;\n",
              "\n",
              "          const docLinkHtml = 'Like what you see? Visit the ' +\n",
              "            '<a target=\"_blank\" href=https://colab.research.google.com/notebooks/data_table.ipynb>data table notebook</a>'\n",
              "            + ' to learn more about interactive tables.';\n",
              "          element.innerHTML = '';\n",
              "          dataTable['output_type'] = 'display_data';\n",
              "          await google.colab.output.renderOutput(dataTable, element);\n",
              "          const docLink = document.createElement('div');\n",
              "          docLink.innerHTML = docLinkHtml;\n",
              "          element.appendChild(docLink);\n",
              "        }\n",
              "      </script>\n",
              "    </div>\n",
              "  </div>\n",
              "  "
            ]
          },
          "metadata": {}
        }
      ],
      "source": [
        "data_punc = data[(data.Q.str.contains(r'[^a-zA-Z0-9가-힣ㄱ-하-ㅣ!?., ]')== True) | (data.A.str.contains(r'[^a-zA-Z0-9가-힣ㄱ-하-ㅣ!?., ]')== True )]\n",
        "print(len(data_punc))\n",
        "display(data_punc)"
      ]
    },
    {
      "cell_type": "markdown",
      "metadata": {
        "id": "VKmd_0uAyjlQ"
      },
      "source": [
        "2) 영어 \n",
        "\n",
        "* upper(): 영어 문자 대문자 변환 \n",
        "\n",
        "SNS = SNS에 : SNS 공백\n",
        "\n",
        "cc = CC는 : CC 공백\n",
        "\n",
        "as = AS : 수리\n",
        "\n",
        "cc\n"
      ]
    },
    {
      "cell_type": "code",
      "execution_count": 10,
      "metadata": {
        "colab": {
          "base_uri": "https://localhost:8080/",
          "height": 1000
        },
        "id": "ZOYWsnevxR6O",
        "outputId": "cdc342ab-e213-4320-8ef4-8edff03a8273"
      },
      "outputs": [
        {
          "output_type": "stream",
          "name": "stdout",
          "text": [
            "42\n"
          ]
        },
        {
          "output_type": "display_data",
          "data": {
            "text/plain": [
              "                                            Q                              A  \\\n",
              "4                                     PPL 심하네                     눈살이 찌푸려지죠.   \n",
              "5                                   SD카드 망가졌어             다시 새로 사는 게 마음 편해요.   \n",
              "6                                     SD카드 안돼             다시 새로 사는 게 마음 편해요.   \n",
              "7                              SNS 맞팔 왜 안하지ㅠㅠ               잘 모르고 있을 수도 있어요.   \n",
              "8                     SNS 시간낭비인 거 아는데 매일 하는 중                  시간을 정하고 해보세요.   \n",
              "9                           SNS 시간낭비인데 자꾸 보게됨                  시간을 정하고 해보세요.   \n",
              "10                        SNS보면 나만 빼고 다 행복해보여                    자랑하는 자리니까요.   \n",
              "754                           남친 SNS에 내 사진 없어                      신경쓰지 마세요.   \n",
              "762                       남친이 SNS에 내 사진에 안 올려                      신경쓰지 마세요.   \n",
              "1401                         떨어뜨려서 핸드폰 액정 나갔어                       as 맡기세요.   \n",
              "2432                               서핑하러 가고 싶다                      주말에 gogo.   \n",
              "2994                                   액정 나갔어                       as 맡기세요.   \n",
              "4742                                 컴터 고장났나봐                   AS센터에 맡겨보세요.   \n",
              "4744                                컴터가 맛이 갔어                   AS센터에 맡겨보세요.   \n",
              "4745                                   컴터가 안돼                   AS센터에 맡겨보세요.   \n",
              "5063                         핸드폰 떨어뜨려서 고장 났나봐                       as 맡기세요.   \n",
              "5420                            jk김동욱 노래 생각나네                    가사가 비슷한가봐요.   \n",
              "5421                           SNS 를 끊어야 하는데.                   SNS 끊는게 힘들죠.   \n",
              "5422                                   SNS 흔적                  SNS 흔적 삭제하세요.   \n",
              "5423              sns에서 다른 이성이랑 대화하는걸 보니 화가 나                    SNS 보지 마세요.   \n",
              "5639                           그녀에 sns를 봤습니다.             SNS는 보지 않는 게 좋겠어요.   \n",
              "5807                               나한테 욕 좀 해줘                          XX놈아!   \n",
              "6333                     몰래 sns 훔쳐보고 있는 나 한심해                  SNS 검색하지 마세요.   \n",
              "7127                     오늘 또 헤어진 사람의 sns를 봤네  sns를 삭제하는게 어떨까요. 미련만 남을 뿐이에요.   \n",
              "7164                        오늘도 전 여친sns를 봤습니다  sns를 삭제하는게 어떨까요. 미련만 남을 뿐이에요.   \n",
              "8359                                컴터가 맛이 갔어                   AS센터에 맡겨보세요.   \n",
              "8476                         핸드폰 떨어뜨려서 고장 났나봐                       as 맡기세요.   \n",
              "8572                           헤어진 남친의 SNS 행적                      SNS 끊으세요.   \n",
              "8887                             AB형 남자랑 썸 타면                    최대한 이해해보세요.   \n",
              "8888                             AB형 여자랑 썸 타면         하고 싶은 걸 표현할 수 있게 해주세요.   \n",
              "8889                           A형 남자랑 썸을 타게 됨                  사소한 걸 기억해보세요.   \n",
              "8890                           A형 여자랑 썸을 타게 됨                    세심하게 챙겨주세요.   \n",
              "8891                              B형 남자랑 썸 탐.                     계속 칭찬해보세요.   \n",
              "8892                              B형 여자랑 썸 탐.        자신이 가장 자신다울 수 있게 도와주세요.   \n",
              "8893                               CC 레알 별로임?        헤어질 경우 엮여 있는 사람이 많으니까요.   \n",
              "8894                            O형 남자와 썸을 타는데                      애교 부려보세요.   \n",
              "8895                            O형 여자와 썸을 타는데                     엄청 사랑해주세요.   \n",
              "8916          같은 과에 내 이상형인 남자애가 있는데 cc는 무리일까?           CC는 아무래도 제약이 있을 거예요.   \n",
              "9296                       남자친구가 sns에 나 안 올려.               개인 성향 차이인 것 같아요.   \n",
              "10572              여자친구가 나를 sns에 올리지 않아서 서운해.     SNS에 올리는 걸 안 좋아하는 사람도 있어요.   \n",
              "10661                      여자친구의 sns말투가 고민이야.                     아예 보지 마세요.   \n",
              "11083  좋아하는 사람 생기면 어떻게든 sns같은 거 알아내서 친신하고 그래?              다가가는 방법 중에 하나니까요.   \n",
              "\n",
              "       label  \n",
              "4          0  \n",
              "5          0  \n",
              "6          0  \n",
              "7          0  \n",
              "8          0  \n",
              "9          0  \n",
              "10         0  \n",
              "754        0  \n",
              "762        0  \n",
              "1401       0  \n",
              "2432       0  \n",
              "2994       0  \n",
              "4742       0  \n",
              "4744       0  \n",
              "4745       0  \n",
              "5063       0  \n",
              "5420       1  \n",
              "5421       1  \n",
              "5422       1  \n",
              "5423       1  \n",
              "5639       1  \n",
              "5807       1  \n",
              "6333       1  \n",
              "7127       1  \n",
              "7164       1  \n",
              "8359       1  \n",
              "8476       1  \n",
              "8572       1  \n",
              "8887       2  \n",
              "8888       2  \n",
              "8889       2  \n",
              "8890       2  \n",
              "8891       2  \n",
              "8892       2  \n",
              "8893       2  \n",
              "8894       2  \n",
              "8895       2  \n",
              "8916       2  \n",
              "9296       2  \n",
              "10572      2  \n",
              "10661      2  \n",
              "11083      2  "
            ],
            "text/html": [
              "\n",
              "  <div id=\"df-6029efc7-3bbb-423f-814a-8ce3f312d61b\">\n",
              "    <div class=\"colab-df-container\">\n",
              "      <div>\n",
              "<style scoped>\n",
              "    .dataframe tbody tr th:only-of-type {\n",
              "        vertical-align: middle;\n",
              "    }\n",
              "\n",
              "    .dataframe tbody tr th {\n",
              "        vertical-align: top;\n",
              "    }\n",
              "\n",
              "    .dataframe thead th {\n",
              "        text-align: right;\n",
              "    }\n",
              "</style>\n",
              "<table border=\"1\" class=\"dataframe\">\n",
              "  <thead>\n",
              "    <tr style=\"text-align: right;\">\n",
              "      <th></th>\n",
              "      <th>Q</th>\n",
              "      <th>A</th>\n",
              "      <th>label</th>\n",
              "    </tr>\n",
              "  </thead>\n",
              "  <tbody>\n",
              "    <tr>\n",
              "      <th>4</th>\n",
              "      <td>PPL 심하네</td>\n",
              "      <td>눈살이 찌푸려지죠.</td>\n",
              "      <td>0</td>\n",
              "    </tr>\n",
              "    <tr>\n",
              "      <th>5</th>\n",
              "      <td>SD카드 망가졌어</td>\n",
              "      <td>다시 새로 사는 게 마음 편해요.</td>\n",
              "      <td>0</td>\n",
              "    </tr>\n",
              "    <tr>\n",
              "      <th>6</th>\n",
              "      <td>SD카드 안돼</td>\n",
              "      <td>다시 새로 사는 게 마음 편해요.</td>\n",
              "      <td>0</td>\n",
              "    </tr>\n",
              "    <tr>\n",
              "      <th>7</th>\n",
              "      <td>SNS 맞팔 왜 안하지ㅠㅠ</td>\n",
              "      <td>잘 모르고 있을 수도 있어요.</td>\n",
              "      <td>0</td>\n",
              "    </tr>\n",
              "    <tr>\n",
              "      <th>8</th>\n",
              "      <td>SNS 시간낭비인 거 아는데 매일 하는 중</td>\n",
              "      <td>시간을 정하고 해보세요.</td>\n",
              "      <td>0</td>\n",
              "    </tr>\n",
              "    <tr>\n",
              "      <th>9</th>\n",
              "      <td>SNS 시간낭비인데 자꾸 보게됨</td>\n",
              "      <td>시간을 정하고 해보세요.</td>\n",
              "      <td>0</td>\n",
              "    </tr>\n",
              "    <tr>\n",
              "      <th>10</th>\n",
              "      <td>SNS보면 나만 빼고 다 행복해보여</td>\n",
              "      <td>자랑하는 자리니까요.</td>\n",
              "      <td>0</td>\n",
              "    </tr>\n",
              "    <tr>\n",
              "      <th>754</th>\n",
              "      <td>남친 SNS에 내 사진 없어</td>\n",
              "      <td>신경쓰지 마세요.</td>\n",
              "      <td>0</td>\n",
              "    </tr>\n",
              "    <tr>\n",
              "      <th>762</th>\n",
              "      <td>남친이 SNS에 내 사진에 안 올려</td>\n",
              "      <td>신경쓰지 마세요.</td>\n",
              "      <td>0</td>\n",
              "    </tr>\n",
              "    <tr>\n",
              "      <th>1401</th>\n",
              "      <td>떨어뜨려서 핸드폰 액정 나갔어</td>\n",
              "      <td>as 맡기세요.</td>\n",
              "      <td>0</td>\n",
              "    </tr>\n",
              "    <tr>\n",
              "      <th>2432</th>\n",
              "      <td>서핑하러 가고 싶다</td>\n",
              "      <td>주말에 gogo.</td>\n",
              "      <td>0</td>\n",
              "    </tr>\n",
              "    <tr>\n",
              "      <th>2994</th>\n",
              "      <td>액정 나갔어</td>\n",
              "      <td>as 맡기세요.</td>\n",
              "      <td>0</td>\n",
              "    </tr>\n",
              "    <tr>\n",
              "      <th>4742</th>\n",
              "      <td>컴터 고장났나봐</td>\n",
              "      <td>AS센터에 맡겨보세요.</td>\n",
              "      <td>0</td>\n",
              "    </tr>\n",
              "    <tr>\n",
              "      <th>4744</th>\n",
              "      <td>컴터가 맛이 갔어</td>\n",
              "      <td>AS센터에 맡겨보세요.</td>\n",
              "      <td>0</td>\n",
              "    </tr>\n",
              "    <tr>\n",
              "      <th>4745</th>\n",
              "      <td>컴터가 안돼</td>\n",
              "      <td>AS센터에 맡겨보세요.</td>\n",
              "      <td>0</td>\n",
              "    </tr>\n",
              "    <tr>\n",
              "      <th>5063</th>\n",
              "      <td>핸드폰 떨어뜨려서 고장 났나봐</td>\n",
              "      <td>as 맡기세요.</td>\n",
              "      <td>0</td>\n",
              "    </tr>\n",
              "    <tr>\n",
              "      <th>5420</th>\n",
              "      <td>jk김동욱 노래 생각나네</td>\n",
              "      <td>가사가 비슷한가봐요.</td>\n",
              "      <td>1</td>\n",
              "    </tr>\n",
              "    <tr>\n",
              "      <th>5421</th>\n",
              "      <td>SNS 를 끊어야 하는데.</td>\n",
              "      <td>SNS 끊는게 힘들죠.</td>\n",
              "      <td>1</td>\n",
              "    </tr>\n",
              "    <tr>\n",
              "      <th>5422</th>\n",
              "      <td>SNS 흔적</td>\n",
              "      <td>SNS 흔적 삭제하세요.</td>\n",
              "      <td>1</td>\n",
              "    </tr>\n",
              "    <tr>\n",
              "      <th>5423</th>\n",
              "      <td>sns에서 다른 이성이랑 대화하는걸 보니 화가 나</td>\n",
              "      <td>SNS 보지 마세요.</td>\n",
              "      <td>1</td>\n",
              "    </tr>\n",
              "    <tr>\n",
              "      <th>5639</th>\n",
              "      <td>그녀에 sns를 봤습니다.</td>\n",
              "      <td>SNS는 보지 않는 게 좋겠어요.</td>\n",
              "      <td>1</td>\n",
              "    </tr>\n",
              "    <tr>\n",
              "      <th>5807</th>\n",
              "      <td>나한테 욕 좀 해줘</td>\n",
              "      <td>XX놈아!</td>\n",
              "      <td>1</td>\n",
              "    </tr>\n",
              "    <tr>\n",
              "      <th>6333</th>\n",
              "      <td>몰래 sns 훔쳐보고 있는 나 한심해</td>\n",
              "      <td>SNS 검색하지 마세요.</td>\n",
              "      <td>1</td>\n",
              "    </tr>\n",
              "    <tr>\n",
              "      <th>7127</th>\n",
              "      <td>오늘 또 헤어진 사람의 sns를 봤네</td>\n",
              "      <td>sns를 삭제하는게 어떨까요. 미련만 남을 뿐이에요.</td>\n",
              "      <td>1</td>\n",
              "    </tr>\n",
              "    <tr>\n",
              "      <th>7164</th>\n",
              "      <td>오늘도 전 여친sns를 봤습니다</td>\n",
              "      <td>sns를 삭제하는게 어떨까요. 미련만 남을 뿐이에요.</td>\n",
              "      <td>1</td>\n",
              "    </tr>\n",
              "    <tr>\n",
              "      <th>8359</th>\n",
              "      <td>컴터가 맛이 갔어</td>\n",
              "      <td>AS센터에 맡겨보세요.</td>\n",
              "      <td>1</td>\n",
              "    </tr>\n",
              "    <tr>\n",
              "      <th>8476</th>\n",
              "      <td>핸드폰 떨어뜨려서 고장 났나봐</td>\n",
              "      <td>as 맡기세요.</td>\n",
              "      <td>1</td>\n",
              "    </tr>\n",
              "    <tr>\n",
              "      <th>8572</th>\n",
              "      <td>헤어진 남친의 SNS 행적</td>\n",
              "      <td>SNS 끊으세요.</td>\n",
              "      <td>1</td>\n",
              "    </tr>\n",
              "    <tr>\n",
              "      <th>8887</th>\n",
              "      <td>AB형 남자랑 썸 타면</td>\n",
              "      <td>최대한 이해해보세요.</td>\n",
              "      <td>2</td>\n",
              "    </tr>\n",
              "    <tr>\n",
              "      <th>8888</th>\n",
              "      <td>AB형 여자랑 썸 타면</td>\n",
              "      <td>하고 싶은 걸 표현할 수 있게 해주세요.</td>\n",
              "      <td>2</td>\n",
              "    </tr>\n",
              "    <tr>\n",
              "      <th>8889</th>\n",
              "      <td>A형 남자랑 썸을 타게 됨</td>\n",
              "      <td>사소한 걸 기억해보세요.</td>\n",
              "      <td>2</td>\n",
              "    </tr>\n",
              "    <tr>\n",
              "      <th>8890</th>\n",
              "      <td>A형 여자랑 썸을 타게 됨</td>\n",
              "      <td>세심하게 챙겨주세요.</td>\n",
              "      <td>2</td>\n",
              "    </tr>\n",
              "    <tr>\n",
              "      <th>8891</th>\n",
              "      <td>B형 남자랑 썸 탐.</td>\n",
              "      <td>계속 칭찬해보세요.</td>\n",
              "      <td>2</td>\n",
              "    </tr>\n",
              "    <tr>\n",
              "      <th>8892</th>\n",
              "      <td>B형 여자랑 썸 탐.</td>\n",
              "      <td>자신이 가장 자신다울 수 있게 도와주세요.</td>\n",
              "      <td>2</td>\n",
              "    </tr>\n",
              "    <tr>\n",
              "      <th>8893</th>\n",
              "      <td>CC 레알 별로임?</td>\n",
              "      <td>헤어질 경우 엮여 있는 사람이 많으니까요.</td>\n",
              "      <td>2</td>\n",
              "    </tr>\n",
              "    <tr>\n",
              "      <th>8894</th>\n",
              "      <td>O형 남자와 썸을 타는데</td>\n",
              "      <td>애교 부려보세요.</td>\n",
              "      <td>2</td>\n",
              "    </tr>\n",
              "    <tr>\n",
              "      <th>8895</th>\n",
              "      <td>O형 여자와 썸을 타는데</td>\n",
              "      <td>엄청 사랑해주세요.</td>\n",
              "      <td>2</td>\n",
              "    </tr>\n",
              "    <tr>\n",
              "      <th>8916</th>\n",
              "      <td>같은 과에 내 이상형인 남자애가 있는데 cc는 무리일까?</td>\n",
              "      <td>CC는 아무래도 제약이 있을 거예요.</td>\n",
              "      <td>2</td>\n",
              "    </tr>\n",
              "    <tr>\n",
              "      <th>9296</th>\n",
              "      <td>남자친구가 sns에 나 안 올려.</td>\n",
              "      <td>개인 성향 차이인 것 같아요.</td>\n",
              "      <td>2</td>\n",
              "    </tr>\n",
              "    <tr>\n",
              "      <th>10572</th>\n",
              "      <td>여자친구가 나를 sns에 올리지 않아서 서운해.</td>\n",
              "      <td>SNS에 올리는 걸 안 좋아하는 사람도 있어요.</td>\n",
              "      <td>2</td>\n",
              "    </tr>\n",
              "    <tr>\n",
              "      <th>10661</th>\n",
              "      <td>여자친구의 sns말투가 고민이야.</td>\n",
              "      <td>아예 보지 마세요.</td>\n",
              "      <td>2</td>\n",
              "    </tr>\n",
              "    <tr>\n",
              "      <th>11083</th>\n",
              "      <td>좋아하는 사람 생기면 어떻게든 sns같은 거 알아내서 친신하고 그래?</td>\n",
              "      <td>다가가는 방법 중에 하나니까요.</td>\n",
              "      <td>2</td>\n",
              "    </tr>\n",
              "  </tbody>\n",
              "</table>\n",
              "</div>\n",
              "      <button class=\"colab-df-convert\" onclick=\"convertToInteractive('df-6029efc7-3bbb-423f-814a-8ce3f312d61b')\"\n",
              "              title=\"Convert this dataframe to an interactive table.\"\n",
              "              style=\"display:none;\">\n",
              "        \n",
              "  <svg xmlns=\"http://www.w3.org/2000/svg\" height=\"24px\"viewBox=\"0 0 24 24\"\n",
              "       width=\"24px\">\n",
              "    <path d=\"M0 0h24v24H0V0z\" fill=\"none\"/>\n",
              "    <path d=\"M18.56 5.44l.94 2.06.94-2.06 2.06-.94-2.06-.94-.94-2.06-.94 2.06-2.06.94zm-11 1L8.5 8.5l.94-2.06 2.06-.94-2.06-.94L8.5 2.5l-.94 2.06-2.06.94zm10 10l.94 2.06.94-2.06 2.06-.94-2.06-.94-.94-2.06-.94 2.06-2.06.94z\"/><path d=\"M17.41 7.96l-1.37-1.37c-.4-.4-.92-.59-1.43-.59-.52 0-1.04.2-1.43.59L10.3 9.45l-7.72 7.72c-.78.78-.78 2.05 0 2.83L4 21.41c.39.39.9.59 1.41.59.51 0 1.02-.2 1.41-.59l7.78-7.78 2.81-2.81c.8-.78.8-2.07 0-2.86zM5.41 20L4 18.59l7.72-7.72 1.47 1.35L5.41 20z\"/>\n",
              "  </svg>\n",
              "      </button>\n",
              "      \n",
              "  <style>\n",
              "    .colab-df-container {\n",
              "      display:flex;\n",
              "      flex-wrap:wrap;\n",
              "      gap: 12px;\n",
              "    }\n",
              "\n",
              "    .colab-df-convert {\n",
              "      background-color: #E8F0FE;\n",
              "      border: none;\n",
              "      border-radius: 50%;\n",
              "      cursor: pointer;\n",
              "      display: none;\n",
              "      fill: #1967D2;\n",
              "      height: 32px;\n",
              "      padding: 0 0 0 0;\n",
              "      width: 32px;\n",
              "    }\n",
              "\n",
              "    .colab-df-convert:hover {\n",
              "      background-color: #E2EBFA;\n",
              "      box-shadow: 0px 1px 2px rgba(60, 64, 67, 0.3), 0px 1px 3px 1px rgba(60, 64, 67, 0.15);\n",
              "      fill: #174EA6;\n",
              "    }\n",
              "\n",
              "    [theme=dark] .colab-df-convert {\n",
              "      background-color: #3B4455;\n",
              "      fill: #D2E3FC;\n",
              "    }\n",
              "\n",
              "    [theme=dark] .colab-df-convert:hover {\n",
              "      background-color: #434B5C;\n",
              "      box-shadow: 0px 1px 3px 1px rgba(0, 0, 0, 0.15);\n",
              "      filter: drop-shadow(0px 1px 2px rgba(0, 0, 0, 0.3));\n",
              "      fill: #FFFFFF;\n",
              "    }\n",
              "  </style>\n",
              "\n",
              "      <script>\n",
              "        const buttonEl =\n",
              "          document.querySelector('#df-6029efc7-3bbb-423f-814a-8ce3f312d61b button.colab-df-convert');\n",
              "        buttonEl.style.display =\n",
              "          google.colab.kernel.accessAllowed ? 'block' : 'none';\n",
              "\n",
              "        async function convertToInteractive(key) {\n",
              "          const element = document.querySelector('#df-6029efc7-3bbb-423f-814a-8ce3f312d61b');\n",
              "          const dataTable =\n",
              "            await google.colab.kernel.invokeFunction('convertToInteractive',\n",
              "                                                     [key], {});\n",
              "          if (!dataTable) return;\n",
              "\n",
              "          const docLinkHtml = 'Like what you see? Visit the ' +\n",
              "            '<a target=\"_blank\" href=https://colab.research.google.com/notebooks/data_table.ipynb>data table notebook</a>'\n",
              "            + ' to learn more about interactive tables.';\n",
              "          element.innerHTML = '';\n",
              "          dataTable['output_type'] = 'display_data';\n",
              "          await google.colab.output.renderOutput(dataTable, element);\n",
              "          const docLink = document.createElement('div');\n",
              "          docLink.innerHTML = docLinkHtml;\n",
              "          element.appendChild(docLink);\n",
              "        }\n",
              "      </script>\n",
              "    </div>\n",
              "  </div>\n",
              "  "
            ]
          },
          "metadata": {}
        }
      ],
      "source": [
        "data_eng = data[(data.Q.str.contains(r'[a-zA-Z]')== True) | (data.A.str.contains(r'[a-zA-Z]')== True )]\n",
        "print(len(data_eng))\n",
        "display(data_eng)"
      ]
    },
    {
      "cell_type": "markdown",
      "metadata": {
        "id": "80QyrVb4zL21"
      },
      "source": [
        "3)숫자\n",
        "\n",
        "* 시간\n",
        "[0-9시 ]\n",
        "\n",
        "[0-9분 ]\n",
        "\n",
        "[0-9초 ]\n",
        "\n",
        "[0-9일 ]\n",
        "\n",
        "[0-9주 ]\n",
        "\n",
        "[0-9달 ]\n",
        "\n",
        "[0-9년 ]\n",
        "\n",
        "[0-9개월 ]\n",
        "\n",
        "[주년] = [년]\n",
        "\n",
        "[주일] = [일]\n",
        "\n",
        "\n",
        "* 기타\n",
        "\n",
        "[고3 ]\n",
        "\n",
        "[중2], [중2병]= [중2병 ]\n",
        "\n",
        "[1도]=[하나도 ], [1은]= [하나는 ]\n",
        "\n",
        "\n"
      ]
    },
    {
      "cell_type": "code",
      "execution_count": 11,
      "metadata": {
        "colab": {
          "base_uri": "https://localhost:8080/"
        },
        "id": "HuKGAXiDzV1O",
        "outputId": "f40e736a-c454-4c1e-c6ac-a4efd106321f"
      },
      "outputs": [
        {
          "output_type": "stream",
          "name": "stdout",
          "text": [
            "415\n"
          ]
        }
      ],
      "source": [
        "data_eng = data[(data.Q.str.contains(r'[0-9]')== True) | (data.A.str.contains(r'[0-9]')== True )]\n",
        "print(len(data_eng))\n",
        "# display(data_eng)\n"
      ]
    },
    {
      "cell_type": "code",
      "execution_count": 12,
      "metadata": {
        "colab": {
          "base_uri": "https://localhost:8080/"
        },
        "id": "hbH9NQjwr1py",
        "outputId": "d49f91a9-c2f8-4e7e-caa5-f001fff3a02f"
      },
      "outputs": [
        {
          "output_type": "stream",
          "name": "stdout",
          "text": [
            "슝=3\n"
          ]
        }
      ],
      "source": [
        "# 전처리 함수\n",
        "def preprocess_sentence(sentence):\n",
        "  sentence = sentence.upper().strip()\n",
        "\n",
        "  # 단어와 구두점(punctuation) 사이의 거리를 만듭니다.\n",
        "  # 예를 들어서 \"I am a student.\" => \"I am a student .\"와 같이\n",
        "  # student와 온점 사이에 거리를 만듭니다.\n",
        "  sentence = re.sub(r\"([?.!,])\", r\" \\1 \", sentence)\n",
        "  sentence = re.sub(r'[\" \"]+', \" \", sentence) # 공백여러개 공백하나처리\n",
        "\n",
        "  # 구두점 처리\n",
        "  # (a-z, A-Z, \".\", \"?\", \"!\", \",\")를 제외한 모든 문자를 공백인 ' '로 대체합니다.\n",
        "  sentence = re.sub(r'[^a-zA-Z0-9가-힣ㄱ-하-ㅣ!?., ]+', \" \", sentence)\n",
        "\n",
        "  # 영어 처리\n",
        "  sentence = re.sub(r\"SNS\", \" SNS \", sentence)\n",
        "  sentence = re.sub(r\"CC\", \" CC \", sentence)\n",
        "  sentence = re.sub(r\"AS\", \" AS \", sentence)\n",
        "\n",
        "  # 숫자 처리\n",
        "\n",
        "  # 단위통일\n",
        "  sentence = re.sub(r\"주년\", \" 년 \", sentence)\n",
        "  sentence = re.sub(r\"주일\", \" 일 \", sentence)\n",
        "\n",
        "\n",
        "  # 시간\n",
        "  sentence = re.sub(r\"([0-9]+시)\", r\" \\1 \", sentence)\n",
        "  sentence = re.sub(r\"([0-9]+분)\", r\" \\1 \", sentence)\n",
        "  sentence = re.sub(r\"([0-9]+초)\", r\" \\1 \", sentence)\n",
        "\n",
        "  sentence = re.sub(r\"([0-9]+일)\", r\" \\1 \", sentence)\n",
        "  sentence = re.sub(r\"([0-9]+주)\", r\" \\1 \", sentence)\n",
        "  sentence = re.sub(r\"([0-9]+달)\", r\" \\1 \", sentence)\n",
        "  sentence = re.sub(r\"([0-9]+년)\", r\" \\1 \", sentence)\n",
        "  sentence = re.sub(r\"([0-9]+개월)\", r\" \\1 \", sentence)\n",
        "\n",
        "  # 기타\n",
        "  sentence = re.sub(r\"고3\", \" 고3 \", sentence)\n",
        "  sentence = re.sub(r\"중2\", \" 중2병 \", sentence)\n",
        "  sentence = re.sub(r\"1도\", \" 하나도 \", sentence)\n",
        "  sentence = re.sub(r\"1은\", \" 하나는 \", sentence)\n",
        "\n",
        "  sentence = re.sub(r'[\" \"]+', \" \", sentence) # 공백여러개 공백하나처리\n",
        "  sentence = sentence.strip() #문장 시작과 끝 공백 양쪽 제거\n",
        "  return sentence\n",
        "print(\"슝=3\")"
      ]
    },
    {
      "cell_type": "markdown",
      "metadata": {
        "id": "9FiZbV0B_y6E"
      },
      "source": [
        "### 전처리 적용과 확인"
      ]
    },
    {
      "cell_type": "code",
      "execution_count": 13,
      "metadata": {
        "id": "ckkg6TGN_2NE"
      },
      "outputs": [],
      "source": [
        "# data_copy = data.copy()\n",
        "questions = []\n",
        "answers = []\n",
        "\n",
        "for q in data.Q:\n",
        "  s1 = preprocess_sentence(q)\n",
        "  questions.append(s1)\n",
        "  # questions.append(preprocess_sentence(q))\n",
        "\n",
        "for a in data.A:\n",
        "  s2 = preprocess_sentence(a)\n",
        "  answers.append(s2)"
      ]
    },
    {
      "cell_type": "code",
      "execution_count": 14,
      "metadata": {
        "colab": {
          "base_uri": "https://localhost:8080/"
        },
        "id": "H9llv_LwBUC5",
        "outputId": "5b917dd6-b1ec-40c8-b8a5-38fb39c96749"
      },
      "outputs": [
        {
          "output_type": "execute_result",
          "data": {
            "text/plain": [
              "['12시 땡 !',\n",
              " '1지망 학교 떨어졌어',\n",
              " '3박 4일 놀러가고 싶다',\n",
              " '3박 4일 정도 놀러가고 싶다',\n",
              " 'PPL 심하네',\n",
              " 'SD카드 망가졌어',\n",
              " 'SD카드 안돼',\n",
              " 'SNS 맞팔 왜 안하지ㅠㅠ',\n",
              " 'SNS 시간낭비인 거 아는데 매일 하는 중',\n",
              " 'SNS 시간낭비인데 자꾸 보게됨']"
            ]
          },
          "metadata": {},
          "execution_count": 14
        }
      ],
      "source": [
        "questions[:10]"
      ]
    },
    {
      "cell_type": "code",
      "execution_count": 15,
      "metadata": {
        "colab": {
          "base_uri": "https://localhost:8080/"
        },
        "id": "PmdohAaIB6HT",
        "outputId": "8dbad8e1-1292-45be-9eb7-bec8a1c4daa0"
      },
      "outputs": [
        {
          "output_type": "execute_result",
          "data": {
            "text/plain": [
              "['하루가 또 가네요 .',\n",
              " '위로해 드립니다 .',\n",
              " '여행은 언제나 좋죠 .',\n",
              " '여행은 언제나 좋죠 .',\n",
              " '눈살이 찌푸려지죠 .',\n",
              " '다시 새로 사는 게 마음 편해요 .',\n",
              " '다시 새로 사는 게 마음 편해요 .',\n",
              " '잘 모르고 있을 수도 있어요 .',\n",
              " '시간을 정하고 해보세요 .',\n",
              " '시간을 정하고 해보세요 .']"
            ]
          },
          "metadata": {},
          "execution_count": 15
        }
      ],
      "source": [
        "answers[:10]"
      ]
    },
    {
      "cell_type": "markdown",
      "metadata": {
        "id": "n7oqIt29BKLy"
      },
      "source": [
        "#### 구두점"
      ]
    },
    {
      "cell_type": "code",
      "execution_count": 16,
      "metadata": {
        "id": "UHuj_Aw8BhGQ"
      },
      "outputs": [],
      "source": [
        "# Questions에서 ~ 제거 되었음을 확인\n",
        "for x in questions:\n",
        "  if '~' in x :\n",
        "    print(x)"
      ]
    },
    {
      "cell_type": "code",
      "execution_count": 17,
      "metadata": {
        "id": "C7SJVfHaCeQS"
      },
      "outputs": [],
      "source": [
        "# Answers에서 ~ 제거 되었음을 확인\n",
        "for x in answers:\n",
        "  if '~' in x :\n",
        "    print(x)"
      ]
    },
    {
      "cell_type": "markdown",
      "metadata": {
        "id": "wydK7vA_BM5b"
      },
      "source": [
        "#### 영어"
      ]
    },
    {
      "cell_type": "code",
      "execution_count": 18,
      "metadata": {
        "id": "IjTeQWQnCxoM"
      },
      "outputs": [],
      "source": [
        "  # sentence = re.sub(r\"SNS\", \" SNS \", sentence)\n",
        "  # sentence = re.sub(r\"CC\", \" CC \", sentence)\n",
        "  # sentence = re.sub(r\"AS\", \" AS \", sentence)"
      ]
    },
    {
      "cell_type": "code",
      "execution_count": 19,
      "metadata": {
        "colab": {
          "base_uri": "https://localhost:8080/"
        },
        "id": "XmS_7fyJDeUm",
        "outputId": "f7efe883-95e2-4587-da80-ac1bcb3bd2cb"
      },
      "outputs": [
        {
          "output_type": "stream",
          "name": "stdout",
          "text": [
            "SNS 맞팔 왜 안하지ㅠㅠ\n",
            "SNS 시간낭비인 거 아는데 매일 하는 중\n",
            "SNS 시간낭비인데 자꾸 보게됨\n",
            "SNS 보면 나만 빼고 다 행복해보여\n",
            "남친 SNS 에 내 사진 없어\n",
            "남친이 SNS 에 내 사진에 안 올려\n",
            "SNS 를 끊어야 하는데 .\n",
            "SNS 흔적\n",
            "SNS 에서 다른 이성이랑 대화하는걸 보니 화가 나\n",
            "그녀에 SNS 를 봤습니다 .\n",
            "몰래 SNS 훔쳐보고 있는 나 한심해\n",
            "오늘 또 헤어진 사람의 SNS 를 봤네\n",
            "오늘도 전 여친 SNS 를 봤습니다\n",
            "헤어진 남친의 SNS 행적\n",
            "CC 레알 별로임 ?\n",
            "같은 과에 내 이상형인 남자애가 있는데 CC 는 무리일까 ?\n",
            "남자친구가 SNS 에 나 안 올려 .\n",
            "여자친구가 나를 SNS 에 올리지 않아서 서운해 .\n",
            "여자친구의 SNS 말투가 고민이야 .\n",
            "좋아하는 사람 생기면 어떻게든 SNS 같은 거 알아내서 친신하고 그래 ?\n"
          ]
        }
      ],
      "source": [
        "for x in questions:\n",
        "  if 'SNS' in x or 'AS' in x or 'CC' in x :\n",
        "    print(x)"
      ]
    },
    {
      "cell_type": "code",
      "execution_count": 20,
      "metadata": {
        "colab": {
          "base_uri": "https://localhost:8080/"
        },
        "id": "p-JYKPKCDsBe",
        "outputId": "dbb3ef3e-adf6-45c7-c60b-219ea8cc420b"
      },
      "outputs": [
        {
          "output_type": "stream",
          "name": "stdout",
          "text": [
            "AS 맡기세요 .\n",
            "AS 맡기세요 .\n",
            "AS 센터에 맡겨보세요 .\n",
            "AS 센터에 맡겨보세요 .\n",
            "AS 센터에 맡겨보세요 .\n",
            "AS 맡기세요 .\n",
            "SNS 끊는게 힘들죠 .\n",
            "SNS 흔적 삭제하세요 .\n",
            "SNS 보지 마세요 .\n",
            "SNS 는 보지 않는 게 좋겠어요 .\n",
            "SNS 검색하지 마세요 .\n",
            "SNS 를 삭제하는게 어떨까요 . 미련만 남을 뿐이에요 .\n",
            "SNS 를 삭제하는게 어떨까요 . 미련만 남을 뿐이에요 .\n",
            "AS 센터에 맡겨보세요 .\n",
            "AS 맡기세요 .\n",
            "SNS 끊으세요 .\n",
            "CC 는 아무래도 제약이 있을 거예요 .\n",
            "SNS 에 올리는 걸 안 좋아하는 사람도 있어요 .\n"
          ]
        }
      ],
      "source": [
        "for x in answers:\n",
        "  if 'SNS' in x or 'AS' in x or 'CC' in x :\n",
        "    print(x)"
      ]
    },
    {
      "cell_type": "markdown",
      "metadata": {
        "id": "vqg4gUgpD_pm"
      },
      "source": [
        "#### 숫자 "
      ]
    },
    {
      "cell_type": "code",
      "execution_count": 21,
      "metadata": {
        "colab": {
          "base_uri": "https://localhost:8080/"
        },
        "id": "qs9Vx6YFEUgq",
        "outputId": "ed4ffb94-69f1-4cca-edf0-82eb3212843d"
      },
      "outputs": [
        {
          "output_type": "stream",
          "name": "stdout",
          "text": [
            "처음 3초 가 중요해요 . 당신의 매력을 어필해보세요 .\n",
            "나 자신에 집중하세요 . 언제나 1순위에 자신을 두세요 .\n",
            "맛있게 먹으면 0칼로리 !\n",
            "맛있게 먹으면 0칼로리 !\n",
            "30분 씩 일찍 자는 습관을 들여보세요 .\n",
            "30분 씩 일찍 자는 습관을 들여보세요 .\n",
            "1년 힘내요 .\n",
            "1년 힘내요 .\n",
            "제가 1호팬 하겠습니다 .\n",
            "제가 1호팬 하겠습니다 .\n",
            "30분 씩 일찍 자는 습관을 들여보세요 .\n",
            "30분 씩 일찍 자는 습관을 들여보세요 .\n",
            "나 자신에 집중하세요 . 언제나 1순위에 자신을 두세요 .\n",
            "낮잠은 20분 만 자세요 .\n",
            "낮잠은 20분 만 자세요 .\n",
            "낮잠은 20분 만 자세요 .\n",
            "낮잠은 20분 만 자세요 .\n",
            "처음 3초 가 중요해요 . 당신의 매력을 어필해보세요 .\n",
            "첫인상은 상대방을 바라봤을때 3초 에 결정난데요 .\n",
            "첫인상은 상대방을 바라봤을때 3초 에 결정난데요 .\n",
            "2번 이상 입을 일이 있으면 맞추세요 .\n",
            "2번 이상 입을 일이 있으면 맞추세요 .\n",
            "환승은 30분 안에\n",
            "환승은 30분 안에\n",
            "환승은 30분 안에\n",
            "환승은 30분 안에\n",
            "환승은 30분 안에\n",
            "환승은 30분 안에\n",
            "2주 동안 고생했어요 .\n",
            "365일 중에 하루일 뿐이에요 .\n",
            "365일 중에 하루일 뿐이에요 .\n",
            "365일 중에 하루일 뿐이에요 .\n",
            "7전 8기 .\n",
            "7전 8기 .\n",
            "어느덧 2주 가 흘렀나봐요 .\n",
            "어느덧 2주 가 흘렀나봐요 .\n",
            "어느덧 2주 가 지났어요 .\n",
            "어느덧 2주 가 지났어요 .\n",
            "어느덧 3주 가 지났군요 .\n",
            "어느덧 6일 이 되었나봐요 .\n",
            "어느덧 2주 가 지났어요 .\n",
            "새로운 나날을 보내는 것도 5개월 이 되었네요 .\n",
            "환승은 30분 안에\n",
            "환승은 30분 안에\n",
            "100퍼센트 현실입니다 .\n",
            "100퍼센트 현실입니다 .\n",
            "1초 가 걸릴 수도 있고 평생이 걸릴 수도 있어요 .\n"
          ]
        }
      ],
      "source": [
        "number = ['0','1','2','3','4','5','6','7','8','9']\n",
        "for x in answers:\n",
        "  for num in number:\n",
        "    if num in x :\n",
        "      print(x)"
      ]
    },
    {
      "cell_type": "code",
      "execution_count": 22,
      "metadata": {
        "id": "Joj7zs7ur4L5"
      },
      "outputs": [],
      "source": [
        "# # 질문과 답변의 쌍인 데이터셋을 구성하기 위한 데이터 로드 함수\n",
        "# def load_conversations():\n",
        "#   id2line = {}\n",
        "#   with open(path_to_movie_lines, errors='ignore') as file:\n",
        "#     lines = file.readlines()\n",
        "#   for line in lines:\n",
        "#     parts = line.replace('\\n', '').split(' +++$+++ ')\n",
        "#     id2line[parts[0]] = parts[4]\n",
        "\n",
        "#   inputs, outputs = [], []\n",
        "#   with open(path_to_movie_conversations, 'r') as file:\n",
        "#     lines = file.readlines()\n",
        "\n",
        "#   for line in lines:\n",
        "#     parts = line.replace('\\n', '').split(' +++$+++ ')\n",
        "#     conversation = [line[1:-1] for line in parts[3][1:-1].split(', ')]\n",
        "\n",
        "#     for i in range(len(conversation) - 1):\n",
        "#       # 전처리 함수를 질문에 해당되는 inputs와 답변에 해당되는 outputs에 적용.\n",
        "#       inputs.append(preprocess_sentence(id2line[conversation[i]]))\n",
        "#       outputs.append(preprocess_sentence(id2line[conversation[i + 1]]))\n",
        "\n",
        "#       if len(inputs) >= MAX_SAMPLES:\n",
        "#         return inputs, outputs\n",
        "#   return inputs, outputs\n",
        "# print(\"슝=3\")"
      ]
    },
    {
      "cell_type": "code",
      "execution_count": 23,
      "metadata": {
        "id": "fEopb24fr60R"
      },
      "outputs": [],
      "source": [
        "# 데이터를 로드하고 전처리하여 질문을 questions, 답변을 answers에 저장합니다.\n",
        "# questions, answers = load_conversations()\n",
        "# print('전체 샘플 수 :', len(questions))\n",
        "# print('전체 샘플 수 :', len(answers))"
      ]
    },
    {
      "cell_type": "code",
      "execution_count": 24,
      "metadata": {
        "colab": {
          "base_uri": "https://localhost:8080/"
        },
        "id": "x9LvCF55sAVp",
        "outputId": "213bfc2d-ddff-4dcb-adc4-4b9fae7e6b93"
      },
      "outputs": [
        {
          "output_type": "stream",
          "name": "stdout",
          "text": [
            "전처리 후의 22번째 질문 샘플: 가스비 장난 아님\n",
            "전처리 후의 22번째 답변 샘플: 다음 달에는 더 절약해봐요 .\n"
          ]
        }
      ],
      "source": [
        "print('전처리 후의 22번째 질문 샘플: {}'.format(questions[21]))\n",
        "print('전처리 후의 22번째 답변 샘플: {}'.format(answers[21]))"
      ]
    },
    {
      "cell_type": "markdown",
      "metadata": {
        "id": "B_pio8oaHVKF"
      },
      "source": [
        "### 문장길이설정 "
      ]
    },
    {
      "cell_type": "code",
      "execution_count": 25,
      "metadata": {
        "colab": {
          "base_uri": "https://localhost:8080/"
        },
        "id": "McJNijDDHtD-",
        "outputId": "e0b82273-9f65-424e-c6e6-c73e821d09f7"
      },
      "outputs": [
        {
          "output_type": "stream",
          "name": "stdout",
          "text": [
            "30\n"
          ]
        }
      ],
      "source": [
        "# 사용할 샘플의 최대 개수\n",
        "MAX_LENGTH = 30\n",
        "print(MAX_LENGTH)"
      ]
    },
    {
      "cell_type": "markdown",
      "metadata": {
        "id": "dfnQh0w1v8hP"
      },
      "source": [
        "#Step3. SubwordTextEncoder : 병렬 데이터 전처리"
      ]
    },
    {
      "cell_type": "markdown",
      "metadata": {
        "id": "j50AolSywKJ9"
      },
      "source": [
        "###1. 단어장 만들기"
      ]
    },
    {
      "cell_type": "code",
      "execution_count": 26,
      "metadata": {
        "colab": {
          "base_uri": "https://localhost:8080/"
        },
        "id": "VDsQpfmAsDYy",
        "outputId": "4e357b6d-ac5a-49ec-fb03-6f4938375a0b"
      },
      "outputs": [
        {
          "output_type": "stream",
          "name": "stdout",
          "text": [
            "살짝 오래 걸릴 수 있어요. 스트레칭 한 번 해볼까요? 👐\n",
            "슝=3 \n"
          ]
        }
      ],
      "source": [
        "# 단어장  만들기\n",
        "\n",
        "import tensorflow_datasets as tfds\n",
        "print(\"살짝 오래 걸릴 수 있어요. 스트레칭 한 번 해볼까요? 👐\")\n",
        "\n",
        "# 질문과 답변 데이터셋에 대해서 Vocabulary 생성\n",
        "tokenizer = tfds.deprecated.text.SubwordTextEncoder.build_from_corpus(questions + answers, target_vocab_size=2**13)\n",
        "print(\"슝=3 \")"
      ]
    },
    {
      "cell_type": "code",
      "execution_count": 27,
      "metadata": {
        "colab": {
          "base_uri": "https://localhost:8080/"
        },
        "id": "pEsYqwxqwFVi",
        "outputId": "bad4f007-1254-4187-82a1-d19b56012323"
      },
      "outputs": [
        {
          "output_type": "stream",
          "name": "stdout",
          "text": [
            "슝=3\n"
          ]
        }
      ],
      "source": [
        "# 시작 토큰과 종료 토큰에 고유한 정수를 부여합니다.\n",
        "START_TOKEN, END_TOKEN = [tokenizer.vocab_size], [tokenizer.vocab_size + 1]\n",
        "print(\"슝=3\")"
      ]
    },
    {
      "cell_type": "code",
      "execution_count": 28,
      "metadata": {
        "colab": {
          "base_uri": "https://localhost:8080/"
        },
        "id": "r9M5ZDPVwRo6",
        "outputId": "169cd56a-97da-44e3-cfc4-241eecf1317c"
      },
      "outputs": [
        {
          "output_type": "stream",
          "name": "stdout",
          "text": [
            "START_TOKEN의 번호 : [8152]\n",
            "END_TOKEN의 번호 : [8153]\n"
          ]
        }
      ],
      "source": [
        "print('START_TOKEN의 번호 :' ,[tokenizer.vocab_size])\n",
        "print('END_TOKEN의 번호 :' ,[tokenizer.vocab_size + 1])"
      ]
    },
    {
      "cell_type": "code",
      "execution_count": 29,
      "metadata": {
        "colab": {
          "base_uri": "https://localhost:8080/"
        },
        "id": "7-9nUjLswTbu",
        "outputId": "1872eb78-ad8e-4647-8ae6-bcffc2499402"
      },
      "outputs": [
        {
          "output_type": "stream",
          "name": "stdout",
          "text": [
            "8154\n"
          ]
        }
      ],
      "source": [
        "# 시작 토큰과 종료 토큰을 고려하여 +2를 하여 단어장의 크기를 산정합니다.\n",
        "VOCAB_SIZE = tokenizer.vocab_size + 2\n",
        "print(VOCAB_SIZE)"
      ]
    },
    {
      "cell_type": "markdown",
      "metadata": {
        "id": "UcJ-ishVwk_r"
      },
      "source": [
        "### 2. 각 단어를 고유한 정수로 인코딩(Integer encoding) & 패딩(Padding)"
      ]
    },
    {
      "cell_type": "code",
      "execution_count": 30,
      "metadata": {
        "colab": {
          "base_uri": "https://localhost:8080/"
        },
        "id": "irWWmLw2wneS",
        "outputId": "3245d6a2-31c2-4f63-edd3-70e86c33b160"
      },
      "outputs": [
        {
          "output_type": "stream",
          "name": "stdout",
          "text": [
            "정수 인코딩 후의 21번째 질문 샘플: [5754, 614, 2490, 4160]\n",
            "정수 인코딩 후의 21번째 답변 샘플: [2353, 7502, 7, 6265, 97, 1]\n"
          ]
        }
      ],
      "source": [
        "# 임의의 22번째 샘플에 대해서 정수 인코딩 작업을 수행.\n",
        "# 각 토큰을 고유한 정수로 변환\n",
        "print('정수 인코딩 후의 21번째 질문 샘플: {}'.format(tokenizer.encode(questions[21])))\n",
        "print('정수 인코딩 후의 21번째 답변 샘플: {}'.format(tokenizer.encode(answers[21])))"
      ]
    },
    {
      "cell_type": "code",
      "execution_count": 31,
      "metadata": {
        "colab": {
          "base_uri": "https://localhost:8080/"
        },
        "id": "O-wZRt3Gwv0O",
        "outputId": "427b7cf2-9b84-4d63-bd05-ca7e2f27a138"
      },
      "outputs": [
        {
          "output_type": "stream",
          "name": "stdout",
          "text": [
            "40\n"
          ]
        }
      ],
      "source": [
        "# 샘플의 최대 허용 길이 또는 패딩 후의 최종 길이\n",
        "MAX_LENGTH = 40\n",
        "print(MAX_LENGTH)"
      ]
    },
    {
      "cell_type": "code",
      "execution_count": 32,
      "metadata": {
        "colab": {
          "base_uri": "https://localhost:8080/"
        },
        "id": "toxIrNCnw0nd",
        "outputId": "06a8e394-a96a-4046-c0b3-f781b10fd03c"
      },
      "outputs": [
        {
          "output_type": "stream",
          "name": "stdout",
          "text": [
            "슝=3\n"
          ]
        }
      ],
      "source": [
        "# 정수 인코딩, 최대 길이를 초과하는 샘플 제거, 패딩\n",
        "def tokenize_and_filter(inputs, outputs):\n",
        "  tokenized_inputs, tokenized_outputs = [], []\n",
        "  \n",
        "  for (sentence1, sentence2) in zip(inputs, outputs):\n",
        "    # 정수 인코딩 과정에서 시작 토큰과 종료 토큰을 추가\n",
        "    sentence1 = START_TOKEN + tokenizer.encode(sentence1) + END_TOKEN\n",
        "    sentence2 = START_TOKEN + tokenizer.encode(sentence2) + END_TOKEN\n",
        "\n",
        "    # 최대 길이 40 이하인 경우에만 데이터셋으로 허용\n",
        "    if len(sentence1) <= MAX_LENGTH and len(sentence2) <= MAX_LENGTH:\n",
        "      tokenized_inputs.append(sentence1)\n",
        "      tokenized_outputs.append(sentence2)\n",
        "  \n",
        "  # 최대 길이 40으로 모든 데이터셋을 패딩\n",
        "  tokenized_inputs = tf.keras.preprocessing.sequence.pad_sequences(\n",
        "      tokenized_inputs, maxlen=MAX_LENGTH, padding='post')\n",
        "  tokenized_outputs = tf.keras.preprocessing.sequence.pad_sequences(\n",
        "      tokenized_outputs, maxlen=MAX_LENGTH, padding='post')\n",
        "  \n",
        "  return tokenized_inputs, tokenized_outputs\n",
        "print(\"슝=3\")"
      ]
    },
    {
      "cell_type": "code",
      "execution_count": 33,
      "metadata": {
        "colab": {
          "base_uri": "https://localhost:8080/"
        },
        "id": "YRpf39QSw2cH",
        "outputId": "5662c531-dae2-4a82-9dcc-c1ecf2764bd4"
      },
      "outputs": [
        {
          "output_type": "stream",
          "name": "stdout",
          "text": [
            "단어장의 크기 : 8154\n",
            "필터링 후의 질문 샘플 개수: 11823\n",
            "필터링 후의 답변 샘플 개수: 11823\n"
          ]
        }
      ],
      "source": [
        "questions, answers = tokenize_and_filter(questions, answers)\n",
        "print('단어장의 크기 :',(VOCAB_SIZE))\n",
        "print('필터링 후의 질문 샘플 개수: {}'.format(len(questions)))\n",
        "print('필터링 후의 답변 샘플 개수: {}'.format(len(answers)))"
      ]
    },
    {
      "cell_type": "markdown",
      "metadata": {
        "id": "pjx75O5-w6nR"
      },
      "source": [
        "### 3. 교사 강요(Teacher Forcing) 사용하기"
      ]
    },
    {
      "cell_type": "code",
      "execution_count": 34,
      "metadata": {
        "colab": {
          "base_uri": "https://localhost:8080/"
        },
        "id": "GEG4QSiaw4Nl",
        "outputId": "3ec2cc08-14ce-476f-89b7-438c371a55f6"
      },
      "outputs": [
        {
          "output_type": "stream",
          "name": "stdout",
          "text": [
            "슝=3\n"
          ]
        }
      ],
      "source": [
        "BATCH_SIZE = 64\n",
        "BUFFER_SIZE = 20000\n",
        "\n",
        "# 디코더는 이전의 target을 다음의 input으로 사용합니다.\n",
        "# 이에 따라 outputs에서는 START_TOKEN을 제거하겠습니다.\n",
        "dataset = tf.data.Dataset.from_tensor_slices((\n",
        "    {\n",
        "        'inputs': questions,\n",
        "        'dec_inputs': answers[:, :-1]\n",
        "    },\n",
        "    {\n",
        "        'outputs': answers[:, 1:]\n",
        "    },\n",
        "))\n",
        "\n",
        "dataset = dataset.cache()\n",
        "dataset = dataset.shuffle(BUFFER_SIZE)\n",
        "dataset = dataset.batch(BATCH_SIZE)\n",
        "dataset = dataset.prefetch(tf.data.experimental.AUTOTUNE)\n",
        "print(\"슝=3\")"
      ]
    },
    {
      "cell_type": "markdown",
      "metadata": {
        "id": "EJOrdTlLxCf7"
      },
      "source": [
        "# Step 4. 모델 구성하기 : \b트렌스포머 정의 및 학습"
      ]
    },
    {
      "cell_type": "markdown",
      "metadata": {
        "id": "DV9KrqB_HY7k"
      },
      "source": [
        "###1) \bscaled dot product\n"
      ]
    },
    {
      "cell_type": "markdown",
      "metadata": {
        "id": "PQCe-pXfM6nH"
      },
      "source": [
        "* positional matrix"
      ]
    },
    {
      "cell_type": "code",
      "execution_count": 35,
      "metadata": {
        "colab": {
          "base_uri": "https://localhost:8080/"
        },
        "id": "R8NjK13KM-0o",
        "outputId": "adad3024-81b3-45ec-d9b4-083949133df4"
      },
      "outputs": [
        {
          "output_type": "stream",
          "name": "stdout",
          "text": [
            "슝=3\n"
          ]
        }
      ],
      "source": [
        "# 포지셔널 인코딩 레이어\n",
        "class PositionalEncoding(tf.keras.layers.Layer):\n",
        "\n",
        "  def __init__(self, position, d_model):\n",
        "    super(PositionalEncoding, self).__init__()\n",
        "    self.pos_encoding = self.positional_encoding(position, d_model)\n",
        "\n",
        "  def get_angles(self, position, i, d_model):\n",
        "    angles = 1 / tf.pow(10000, (2 * (i // 2)) / tf.cast(d_model, tf.float32))\n",
        "    return position * angles\n",
        "\n",
        "  def positional_encoding(self, position, d_model):\n",
        "    # 각도 배열 생성\n",
        "    angle_rads = self.get_angles(\n",
        "        position=tf.range(position, dtype=tf.float32)[:, tf.newaxis],\n",
        "        i=tf.range(d_model, dtype=tf.float32)[tf.newaxis, :],\n",
        "        d_model=d_model)\n",
        "\n",
        "    # 배열의 짝수 인덱스에는 sin 함수 적용\n",
        "    sines = tf.math.sin(angle_rads[:, 0::2])\n",
        "    # 배열의 홀수 인덱스에는 cosine 함수 적용\n",
        "    cosines = tf.math.cos(angle_rads[:, 1::2])\n",
        "\n",
        "    # sin과 cosine이 교차되도록 재배열\n",
        "    pos_encoding = tf.stack([sines, cosines], axis=0)\n",
        "    pos_encoding = tf.transpose(pos_encoding,[1, 2, 0]) \n",
        "    pos_encoding = tf.reshape(pos_encoding, [position, d_model])\n",
        "\n",
        "    pos_encoding = pos_encoding[tf.newaxis, ...]\n",
        "    return tf.cast(pos_encoding, tf.float32)\n",
        "\n",
        "  def call(self, inputs):\n",
        "    return inputs + self.pos_encoding[:, :tf.shape(inputs)[1], :]\n",
        "\n",
        "print(\"슝=3\")"
      ]
    },
    {
      "cell_type": "markdown",
      "metadata": {
        "id": "idIJBxoiNf_v"
      },
      "source": [
        "❤️ plt.pcolormesh(sample_pos_encoding.pos_encoding.numpy()[0], cmap='RdBu')\n",
        "\n",
        "\n",
        "최대 문장의 길이가 50이고 워드 임베딩 차원을 512로 하는 모델의 입력 벡터"
      ]
    },
    {
      "cell_type": "code",
      "execution_count": 36,
      "metadata": {
        "colab": {
          "base_uri": "https://localhost:8080/",
          "height": 287
        },
        "id": "KSxJ70tYQmDL",
        "outputId": "584c0c40-da71-4da8-ac7f-94d343b0dcfd"
      },
      "outputs": [
        {
          "output_type": "execute_result",
          "data": {
            "text/plain": [
              "<matplotlib.colorbar.Colorbar at 0x7faa2f30ac90>"
            ]
          },
          "metadata": {},
          "execution_count": 36
        },
        {
          "output_type": "display_data",
          "data": {
            "text/plain": [
              "<Figure size 432x288 with 2 Axes>"
            ],
            "image/png": "[encoded data removed]"
          },
          "metadata": {
            "needs_background": "light"
          }
        }
      ],
      "source": [
        "plt.pcolormesh([[1,2],[3,1], [4,5]], cmap='BrBG')\n",
        "plt.colorbar()"
      ]
    },
    {
      "cell_type": "code",
      "execution_count": 37,
      "metadata": {
        "id": "u1r-sEcvy7dc"
      },
      "outputs": [],
      "source": [
        "sample_pos_encoding = PositionalEncoding(50, 512)"
      ]
    },
    {
      "cell_type": "code",
      "execution_count": 38,
      "metadata": {
        "colab": {
          "base_uri": "https://localhost:8080/"
        },
        "id": "nP_aWIa_QXzL",
        "outputId": "9c60b14c-9c1e-42bc-a505-d27d444cf72b"
      },
      "outputs": [
        {
          "output_type": "execute_result",
          "data": {
            "text/plain": [
              "array([[ 0.00000000e+00,  1.00000000e+00,  0.00000000e+00, ...,\n",
              "         1.00000000e+00,  0.00000000e+00,  1.00000000e+00],\n",
              "       [ 8.41471016e-01,  5.40302277e-01,  8.21856260e-01, ...,\n",
              "         1.00000000e+00,  1.03663238e-04,  1.00000000e+00],\n",
              "       [ 9.09297466e-01, -4.16146815e-01,  9.36414719e-01, ...,\n",
              "         1.00000000e+00,  2.07326477e-04,  1.00000000e+00],\n",
              "       ...,\n",
              "       [ 1.23573124e-01, -9.92335498e-01,  9.77189779e-01, ...,\n",
              "         9.99987245e-01,  4.87215305e-03,  9.99988139e-01],\n",
              "       [-7.68254697e-01, -6.40144348e-01,  7.31234014e-01, ...,\n",
              "         9.99986708e-01,  4.97581484e-03,  9.99987602e-01],\n",
              "       [-9.53752637e-01,  3.00592542e-01, -1.44028708e-01, ...,\n",
              "         9.99986112e-01,  5.07947663e-03,  9.99987125e-01]], dtype=float32)"
            ]
          },
          "metadata": {},
          "execution_count": 38
        }
      ],
      "source": [
        "sample_pos_encoding.pos_encoding.numpy()[0]"
      ]
    },
    {
      "cell_type": "code",
      "execution_count": 39,
      "metadata": {
        "colab": {
          "base_uri": "https://localhost:8080/"
        },
        "id": "YwBZ46UgRU_A",
        "outputId": "cdaecab7-aca7-4729-8137-20ef302dd6f7"
      },
      "outputs": [
        {
          "output_type": "execute_result",
          "data": {
            "text/plain": [
              "array([[[ 0.00000000e+00,  1.00000000e+00,  0.00000000e+00, ...,\n",
              "          1.00000000e+00,  0.00000000e+00,  1.00000000e+00],\n",
              "        [ 8.41471016e-01,  5.40302277e-01,  8.21856260e-01, ...,\n",
              "          1.00000000e+00,  1.03663238e-04,  1.00000000e+00],\n",
              "        [ 9.09297466e-01, -4.16146815e-01,  9.36414719e-01, ...,\n",
              "          1.00000000e+00,  2.07326477e-04,  1.00000000e+00],\n",
              "        ...,\n",
              "        [ 1.23573124e-01, -9.92335498e-01,  9.77189779e-01, ...,\n",
              "          9.99987245e-01,  4.87215305e-03,  9.99988139e-01],\n",
              "        [-7.68254697e-01, -6.40144348e-01,  7.31234014e-01, ...,\n",
              "          9.99986708e-01,  4.97581484e-03,  9.99987602e-01],\n",
              "        [-9.53752637e-01,  3.00592542e-01, -1.44028708e-01, ...,\n",
              "          9.99986112e-01,  5.07947663e-03,  9.99987125e-01]]],\n",
              "      dtype=float32)"
            ]
          },
          "metadata": {},
          "execution_count": 39
        }
      ],
      "source": [
        "sample_pos_encoding.pos_encoding.numpy()"
      ]
    },
    {
      "cell_type": "code",
      "execution_count": 40,
      "metadata": {
        "colab": {
          "base_uri": "https://localhost:8080/",
          "height": 283
        },
        "id": "RkIZ1LeRNMAg",
        "outputId": "9f039c5b-5d99-4e81-ee15-b4649b43a523"
      },
      "outputs": [
        {
          "output_type": "display_data",
          "data": {
            "text/plain": [
              "<Figure size 432x288 with 2 Axes>"
            ],
            "image/png": "[encoded data removed]"
          },
          "metadata": {
            "needs_background": "light"
          }
        }
      ],
      "source": [
        "plt.pcolormesh(sample_pos_encoding.pos_encoding.numpy()[0], cmap='RdBu')\n",
        "plt.xlabel('Depth')\n",
        "plt.xlim((0, 512))\n",
        "plt.ylabel('Position')\n",
        "plt.colorbar()\n",
        "plt.show()"
      ]
    },
    {
      "cell_type": "code",
      "execution_count": 41,
      "metadata": {
        "colab": {
          "base_uri": "https://localhost:8080/",
          "height": 283
        },
        "id": "mrstk-u1NW6d",
        "outputId": "5fa542f4-66aa-42ca-fc5b-8afe2256fe0d"
      },
      "outputs": [
        {
          "output_type": "display_data",
          "data": {
            "text/plain": [
              "<Figure size 432x288 with 2 Axes>"
            ],
            "image/png": "[encoded data removed]"
          },
          "metadata": {
            "needs_background": "light"
          }
        }
      ],
      "source": [
        "# sin cos 진동 양상 확대해서 보기 \n",
        "\n",
        "plt.pcolormesh(sample_pos_encoding.pos_encoding.numpy()[0], cmap='RdBu')\n",
        "plt.xlabel('Depth')\n",
        "plt.xlim((0, 50))\n",
        "plt.ylabel('Position')\n",
        "plt.colorbar()\n",
        "plt.show()"
      ]
    },
    {
      "cell_type": "code",
      "execution_count": 42,
      "metadata": {
        "colab": {
          "base_uri": "https://localhost:8080/"
        },
        "id": "_cDeB2GpzsPH",
        "outputId": "d1ccec5a-cb29-4b3c-c703-d27d1e847031"
      },
      "outputs": [
        {
          "output_type": "stream",
          "name": "stdout",
          "text": [
            "슝=3\n"
          ]
        }
      ],
      "source": [
        "# 스케일드 닷 프로덕트 어텐션 함수\n",
        "def scaled_dot_product_attention(query, key, value, mask):\n",
        "  # 어텐션 가중치는 Q와 K의 닷 프로덕트\n",
        "  matmul_qk = tf.matmul(query, key, transpose_b=True)\n",
        "\n",
        "  # 가중치를 정규화\n",
        "  depth = tf.cast(tf.shape(key)[-1], tf.float32)\n",
        "  logits = matmul_qk / tf.math.sqrt(depth)\n",
        "\n",
        "  # 패딩에 마스크 추가\n",
        "  if mask is not None:\n",
        "    logits += (mask * -1e9)\n",
        "\n",
        "  # softmax적용\n",
        "  attention_weights = tf.nn.softmax(logits, axis=-1)\n",
        "\n",
        "  # 최종 어텐션은 가중치와 V의 닷 프로덕트\n",
        "  output = tf.matmul(attention_weights, value)\n",
        "  return output\n",
        "\n",
        "print(\"슝=3\")"
      ]
    },
    {
      "cell_type": "code",
      "execution_count": 43,
      "metadata": {
        "colab": {
          "base_uri": "https://localhost:8080/"
        },
        "id": "_6izkNDWw-3g",
        "outputId": "72eadee8-9b1a-4571-db49-df44771cb0aa"
      },
      "outputs": [
        {
          "output_type": "stream",
          "name": "stdout",
          "text": [
            "슝=3\n"
          ]
        }
      ],
      "source": [
        "def transformer(vocab_size,\n",
        "                num_layers,\n",
        "                units,\n",
        "                d_model,\n",
        "                num_heads,\n",
        "                dropout,\n",
        "                name=\"transformer\"):\n",
        "  inputs = tf.keras.Input(shape=(None,), name=\"inputs\")\n",
        "  dec_inputs = tf.keras.Input(shape=(None,), name=\"dec_inputs\")\n",
        "\n",
        "  # 인코더에서 패딩을 위한 마스크\n",
        "  enc_padding_mask = tf.keras.layers.Lambda(\n",
        "      create_padding_mask, output_shape=(1, 1, None),\n",
        "      name='enc_padding_mask')(inputs)\n",
        "\n",
        "  # 디코더에서 미래의 토큰을 마스크 하기 위해서 사용합니다.\n",
        "  # 내부적으로 패딩 마스크도 포함되어져 있습니다.\n",
        "  look_ahead_mask = tf.keras.layers.Lambda(\n",
        "      create_look_ahead_mask,\n",
        "      output_shape=(1, None, None),\n",
        "      name='look_ahead_mask')(dec_inputs)\n",
        "\n",
        "  # 두 번째 어텐션 블록에서 인코더의 벡터들을 마스킹\n",
        "  # 디코더에서 패딩을 위한 마스크\n",
        "  dec_padding_mask = tf.keras.layers.Lambda(\n",
        "      create_padding_mask, output_shape=(1, 1, None),\n",
        "      name='dec_padding_mask')(inputs)\n",
        "\n",
        "  # 인코더\n",
        "  enc_outputs = encoder(\n",
        "      vocab_size=vocab_size,\n",
        "      num_layers=num_layers,\n",
        "      units=units,\n",
        "      d_model=d_model,\n",
        "      num_heads=num_heads,\n",
        "      dropout=dropout,\n",
        "  )(inputs=[inputs, enc_padding_mask])\n",
        "\n",
        "  # 디코더\n",
        "  dec_outputs = decoder(\n",
        "      vocab_size=vocab_size,\n",
        "      num_layers=num_layers,\n",
        "      units=units,\n",
        "      d_model=d_model,\n",
        "      num_heads=num_heads,\n",
        "      dropout=dropout,\n",
        "  )(inputs=[dec_inputs, enc_outputs, look_ahead_mask, dec_padding_mask])\n",
        "\n",
        "  # 완전연결층\n",
        "  outputs = tf.keras.layers.Dense(units=vocab_size, name=\"outputs\")(dec_outputs)\n",
        "\n",
        "  return tf.keras.Model(inputs=[inputs, dec_inputs], outputs=outputs, name=name)\n",
        "print(\"슝=3\")"
      ]
    },
    {
      "cell_type": "markdown",
      "metadata": {
        "id": "7NEGmDEgU0IW"
      },
      "source": [
        "### 2) multi-head-attention"
      ]
    },
    {
      "cell_type": "code",
      "execution_count": 44,
      "metadata": {
        "colab": {
          "base_uri": "https://localhost:8080/"
        },
        "id": "mg9cugBrU2_U",
        "outputId": "b11a6fee-37b4-4d4a-caae-69ff55f7a249"
      },
      "outputs": [
        {
          "output_type": "stream",
          "name": "stdout",
          "text": [
            "슝=3\n"
          ]
        }
      ],
      "source": [
        "class MultiHeadAttention(tf.keras.layers.Layer):\n",
        "\n",
        "  def __init__(self, d_model, num_heads, name=\"multi_head_attention\"):\n",
        "    super(MultiHeadAttention, self).__init__(name=name)\n",
        "    self.num_heads = num_heads\n",
        "    self.d_model = d_model\n",
        "\n",
        "    assert d_model % self.num_heads == 0\n",
        "\n",
        "    self.depth = d_model // self.num_heads\n",
        "\n",
        "    self.query_dense = tf.keras.layers.Dense(units=d_model)\n",
        "    self.key_dense = tf.keras.layers.Dense(units=d_model)\n",
        "    self.value_dense = tf.keras.layers.Dense(units=d_model)\n",
        "\n",
        "    self.dense = tf.keras.layers.Dense(units=d_model)\n",
        "\n",
        "  def split_heads(self, inputs, batch_size):\n",
        "    inputs = tf.reshape(\n",
        "        inputs, shape=(batch_size, -1, self.num_heads, self.depth))\n",
        "    return tf.transpose(inputs, perm=[0, 2, 1, 3])\n",
        "\n",
        "  def call(self, inputs):\n",
        "    query, key, value, mask = inputs['query'], inputs['key'], inputs[\n",
        "        'value'], inputs['mask']\n",
        "    batch_size = tf.shape(query)[0]\n",
        "\n",
        "    # Q, K, V에 각각 Dense를 적용합니다\n",
        "    query = self.query_dense(query)\n",
        "    key = self.key_dense(key)\n",
        "    value = self.value_dense(value)\n",
        "\n",
        "    # 병렬 연산을 위한 머리를 여러 개 만듭니다\n",
        "    query = self.split_heads(query, batch_size)\n",
        "    key = self.split_heads(key, batch_size)\n",
        "    value = self.split_heads(value, batch_size)\n",
        "\n",
        "    # 스케일드 닷 프로덕트 어텐션 함수\n",
        "    scaled_attention = scaled_dot_product_attention(query, key, value, mask)\n",
        "\n",
        "    scaled_attention = tf.transpose(scaled_attention, perm=[0, 2, 1, 3])\n",
        "\n",
        "    # 어텐션 연산 후에 각 결과를 다시 연결(concatenate)합니다\n",
        "    concat_attention = tf.reshape(scaled_attention,\n",
        "                                  (batch_size, -1, self.d_model))\n",
        "\n",
        "    # 최종 결과에도 Dense를 한 번 더 적용합니다\n",
        "    outputs = self.dense(concat_attention)\n",
        "\n",
        "    return outputs\n",
        "print(\"슝=3\")"
      ]
    },
    {
      "cell_type": "markdown",
      "metadata": {
        "id": "h0shMzC0U7Go"
      },
      "source": [
        "###3 masking "
      ]
    },
    {
      "cell_type": "markdown",
      "metadata": {
        "id": "dkuycv5hOlhW"
      },
      "source": [
        "#### 마스킹"
      ]
    },
    {
      "cell_type": "code",
      "execution_count": 45,
      "metadata": {
        "colab": {
          "base_uri": "https://localhost:8080/"
        },
        "id": "xpCm4kYGU3tD",
        "outputId": "67d3df20-700c-4d0e-e5b2-bac4c002e444"
      },
      "outputs": [
        {
          "output_type": "stream",
          "name": "stdout",
          "text": [
            "슝=3\n"
          ]
        }
      ],
      "source": [
        "# 패딩 마스킹\n",
        "def create_padding_mask(x):\n",
        "  mask = tf.cast(tf.math.equal(x, 0), tf.float32)\n",
        "  # (batch_size, 1, 1, sequence length)\n",
        "  return mask[:, tf.newaxis, tf.newaxis, :]\n",
        "print(\"슝=3\")"
      ]
    },
    {
      "cell_type": "code",
      "execution_count": 46,
      "metadata": {
        "colab": {
          "base_uri": "https://localhost:8080/"
        },
        "id": "YuxXOGP3VRgw",
        "outputId": "eae9ca9b-5593-4280-893e-5d84407d4c1c"
      },
      "outputs": [
        {
          "output_type": "stream",
          "name": "stdout",
          "text": [
            "tf.Tensor(\n",
            "[[[[0. 0. 1. 0. 1.]]]\n",
            "\n",
            "\n",
            " [[[1. 1. 1. 0. 0.]]]], shape=(2, 1, 1, 5), dtype=float32)\n"
          ]
        }
      ],
      "source": [
        "print(create_padding_mask(tf.constant([[1, 2, 0, 3, 0], [0, 0, 0, 4, 5]])))"
      ]
    },
    {
      "cell_type": "code",
      "execution_count": 47,
      "metadata": {
        "colab": {
          "base_uri": "https://localhost:8080/"
        },
        "id": "ClRvB-7CVbly",
        "outputId": "2819f92f-08d4-4e7b-a8f5-3efef1010c08"
      },
      "outputs": [
        {
          "output_type": "stream",
          "name": "stdout",
          "text": [
            "슝=3\n"
          ]
        }
      ],
      "source": [
        "# 룩 어헤드 마스킹(Look-ahead masking, 다음 단어 가리기)\n",
        "\n",
        "def create_look_ahead_mask(x):\n",
        "  seq_len = tf.shape(x)[1]\n",
        "  look_ahead_mask = 1 - tf.linalg.band_part(tf.ones((seq_len, seq_len)), -1, 0)\n",
        "  padding_mask = create_padding_mask(x)\n",
        "  return tf.maximum(look_ahead_mask, padding_mask)\n",
        "print(\"슝=3\")"
      ]
    },
    {
      "cell_type": "code",
      "execution_count": 48,
      "metadata": {
        "colab": {
          "base_uri": "https://localhost:8080/"
        },
        "id": "aifwebEZWXxH",
        "outputId": "6607968b-2688-48f7-9f38-2df3c501eb10"
      },
      "outputs": [
        {
          "output_type": "stream",
          "name": "stdout",
          "text": [
            "tf.Tensor(\n",
            "[[[[0. 1. 1. 1. 1.]\n",
            "   [0. 0. 1. 1. 1.]\n",
            "   [0. 0. 0. 1. 1.]\n",
            "   [0. 0. 0. 0. 1.]\n",
            "   [0. 0. 0. 0. 0.]]]], shape=(1, 1, 5, 5), dtype=float32)\n"
          ]
        }
      ],
      "source": [
        "print(create_look_ahead_mask(tf.constant([[1, 2, 3, 4, 5]])))"
      ]
    },
    {
      "cell_type": "markdown",
      "metadata": {
        "id": "5YCD-UuplOqk"
      },
      "source": [
        "#### 인코더 "
      ]
    },
    {
      "cell_type": "code",
      "execution_count": 49,
      "metadata": {
        "colab": {
          "base_uri": "https://localhost:8080/"
        },
        "id": "RHCYdxDtlQOT",
        "outputId": "89883f15-8a55-427f-851b-bdc569350a3d"
      },
      "outputs": [
        {
          "output_type": "stream",
          "name": "stdout",
          "text": [
            "슝=3\n"
          ]
        }
      ],
      "source": [
        "# 인코더 하나의 레이어를 함수로 구현.\n",
        "# 이 하나의 레이어 안에는 두 개의 서브 레이어가 존재합니다.\n",
        "def encoder_layer(units, d_model, num_heads, dropout, name=\"encoder_layer\"):\n",
        "  inputs = tf.keras.Input(shape=(None, d_model), name=\"inputs\")\n",
        "\n",
        "  # 패딩 마스크 사용\n",
        "  padding_mask = tf.keras.Input(shape=(1, 1, None), name=\"padding_mask\")\n",
        "\n",
        "  # 첫 번째 서브 레이어 : 멀티 헤드 어텐션 수행 (셀프 어텐션)\n",
        "  attention = MultiHeadAttention(\n",
        "      d_model, num_heads, name=\"attention\")({\n",
        "          'query': inputs,\n",
        "          'key': inputs,\n",
        "          'value': inputs,\n",
        "          'mask': padding_mask\n",
        "      })\n",
        "\n",
        "  # 어텐션의 결과는 Dropout과 Layer Normalization이라는 훈련을 돕는 테크닉을 수행\n",
        "  attention = tf.keras.layers.Dropout(rate=dropout)(attention)\n",
        "  attention = tf.keras.layers.LayerNormalization(\n",
        "      epsilon=1e-6)(inputs + attention)\n",
        "\n",
        "  # 두 번째 서브 레이어 : 2개의 완전연결층\n",
        "  outputs = tf.keras.layers.Dense(units=units, activation='relu')(attention)\n",
        "  outputs = tf.keras.layers.Dense(units=d_model)(outputs)\n",
        "\n",
        "  # 완전연결층의 결과는 Dropout과 LayerNormalization이라는 훈련을 돕는 테크닉을 수행\n",
        "  outputs = tf.keras.layers.Dropout(rate=dropout)(outputs)\n",
        "  outputs = tf.keras.layers.LayerNormalization(\n",
        "      epsilon=1e-6)(attention + outputs)\n",
        "\n",
        "  return tf.keras.Model(\n",
        "      inputs=[inputs, padding_mask], outputs=outputs, name=name)\n",
        "print(\"슝=3\")\n"
      ]
    },
    {
      "cell_type": "code",
      "execution_count": 50,
      "metadata": {
        "colab": {
          "base_uri": "https://localhost:8080/"
        },
        "id": "1Y5N5yiplZ-K",
        "outputId": "a5125283-23eb-4dbf-c6fd-0f169a554aa9"
      },
      "outputs": [
        {
          "output_type": "stream",
          "name": "stdout",
          "text": [
            "슝=3\n"
          ]
        }
      ],
      "source": [
        "def encoder(vocab_size,\n",
        "            num_layers,\n",
        "            units,\n",
        "            d_model,\n",
        "            num_heads,\n",
        "            dropout,\n",
        "            name=\"encoder\"):\n",
        "  inputs = tf.keras.Input(shape=(None,), name=\"inputs\")\n",
        "\n",
        "  # 패딩 마스크 사용\n",
        "  padding_mask = tf.keras.Input(shape=(1, 1, None), name=\"padding_mask\")\n",
        "\n",
        "  # 임베딩 레이어\n",
        "  embeddings = tf.keras.layers.Embedding(vocab_size, d_model)(inputs)\n",
        "  embeddings *= tf.math.sqrt(tf.cast(d_model, tf.float32))\n",
        "\n",
        "  # 포지셔널 인코딩\n",
        "  embeddings = PositionalEncoding(vocab_size, d_model)(embeddings)\n",
        "\n",
        "  outputs = tf.keras.layers.Dropout(rate=dropout)(embeddings)\n",
        "\n",
        "  # num_layers만큼 쌓아올린 인코더의 층.\n",
        "  for i in range(num_layers):\n",
        "    outputs = encoder_layer(\n",
        "        units=units,\n",
        "        d_model=d_model,\n",
        "        num_heads=num_heads,\n",
        "        dropout=dropout,\n",
        "        name=\"encoder_layer_{}\".format(i),\n",
        "    )([outputs, padding_mask])\n",
        "\n",
        "  return tf.keras.Model(\n",
        "      inputs=[inputs, padding_mask], outputs=outputs, name=name)\n",
        "print(\"슝=3\")"
      ]
    },
    {
      "cell_type": "markdown",
      "metadata": {
        "id": "svYVjG5OmOqU"
      },
      "source": [
        "#### 디코더 "
      ]
    },
    {
      "cell_type": "code",
      "execution_count": 51,
      "metadata": {
        "colab": {
          "base_uri": "https://localhost:8080/"
        },
        "id": "e1c8vGY7mQ1Y",
        "outputId": "6d422888-5a21-4fbe-a1f5-e3c43c4008b2"
      },
      "outputs": [
        {
          "output_type": "stream",
          "name": "stdout",
          "text": [
            "슝=3\n"
          ]
        }
      ],
      "source": [
        "# 디코더 하나의 레이어를 함수로 구현.\n",
        "# 이 하나의 레이어 안에는 세 개의 서브 레이어가 존재합니다.\n",
        "def decoder_layer(units, d_model, num_heads, dropout, name=\"decoder_layer\"):\n",
        "  inputs = tf.keras.Input(shape=(None, d_model), name=\"inputs\")\n",
        "  enc_outputs = tf.keras.Input(shape=(None, d_model), name=\"encoder_outputs\")\n",
        "  look_ahead_mask = tf.keras.Input(\n",
        "      shape=(1, None, None), name=\"look_ahead_mask\")\n",
        "  padding_mask = tf.keras.Input(shape=(1, 1, None), name='padding_mask')\n",
        "\n",
        "  # 첫 번째 서브 레이어 : 멀티 헤드 어텐션 수행 (셀프 어텐션)\n",
        "  attention1 = MultiHeadAttention(\n",
        "      d_model, num_heads, name=\"attention_1\")(inputs={\n",
        "          'query': inputs,\n",
        "          'key': inputs,\n",
        "          'value': inputs,\n",
        "          'mask': look_ahead_mask\n",
        "      })\n",
        "\n",
        "  # 멀티 헤드 어텐션의 결과는 LayerNormalization이라는 훈련을 돕는 테크닉을 수행\n",
        "  attention1 = tf.keras.layers.LayerNormalization(\n",
        "      epsilon=1e-6)(attention1 + inputs)\n",
        "\n",
        "  # 두 번째 서브 레이어 : 마스크드 멀티 헤드 어텐션 수행 (인코더-디코더 어텐션)\n",
        "  attention2 = MultiHeadAttention(\n",
        "      d_model, num_heads, name=\"attention_2\")(inputs={\n",
        "          'query': attention1,\n",
        "          'key': enc_outputs,\n",
        "          'value': enc_outputs,\n",
        "          'mask': padding_mask\n",
        "      })\n",
        "\n",
        "  # 마스크드 멀티 헤드 어텐션의 결과는\n",
        "  # Dropout과 LayerNormalization이라는 훈련을 돕는 테크닉을 수행\n",
        "  attention2 = tf.keras.layers.Dropout(rate=dropout)(attention2)\n",
        "  attention2 = tf.keras.layers.LayerNormalization(\n",
        "      epsilon=1e-6)(attention2 + attention1)\n",
        "\n",
        "  # 세 번째 서브 레이어 : 2개의 완전연결층\n",
        "  outputs = tf.keras.layers.Dense(units=units, activation='relu')(attention2)\n",
        "  outputs = tf.keras.layers.Dense(units=d_model)(outputs)\n",
        "\n",
        "  # 완전연결층의 결과는 Dropout과 LayerNormalization 수행\n",
        "  outputs = tf.keras.layers.Dropout(rate=dropout)(outputs)\n",
        "  outputs = tf.keras.layers.LayerNormalization(\n",
        "      epsilon=1e-6)(outputs + attention2)\n",
        "\n",
        "  return tf.keras.Model(\n",
        "      inputs=[inputs, enc_outputs, look_ahead_mask, padding_mask],\n",
        "      outputs=outputs,\n",
        "      name=name)\n",
        "print(\"슝=3\")"
      ]
    },
    {
      "cell_type": "code",
      "execution_count": 52,
      "metadata": {
        "colab": {
          "base_uri": "https://localhost:8080/"
        },
        "id": "miofTU-lmUri",
        "outputId": "fce5bb61-43a8-42d6-a2a3-1a6584b8abae"
      },
      "outputs": [
        {
          "output_type": "stream",
          "name": "stdout",
          "text": [
            "슝=3\n"
          ]
        }
      ],
      "source": [
        "def decoder(vocab_size,\n",
        "            num_layers,\n",
        "            units,\n",
        "            d_model,\n",
        "            num_heads,\n",
        "            dropout,\n",
        "            name='decoder'):\n",
        "  inputs = tf.keras.Input(shape=(None,), name='inputs')\n",
        "  enc_outputs = tf.keras.Input(shape=(None, d_model), name='encoder_outputs')\n",
        "  look_ahead_mask = tf.keras.Input(\n",
        "      shape=(1, None, None), name='look_ahead_mask')\n",
        "\n",
        "  # 패딩 마스크\n",
        "  padding_mask = tf.keras.Input(shape=(1, 1, None), name='padding_mask')\n",
        "  \n",
        "  # 임베딩 레이어\n",
        "  embeddings = tf.keras.layers.Embedding(vocab_size, d_model)(inputs)\n",
        "  embeddings *= tf.math.sqrt(tf.cast(d_model, tf.float32))\n",
        "\n",
        "  # 포지셔널 인코딩\n",
        "  embeddings = PositionalEncoding(vocab_size, d_model)(embeddings)\n",
        "\n",
        "  # Dropout이라는 훈련을 돕는 테크닉을 수행\n",
        "  outputs = tf.keras.layers.Dropout(rate=dropout)(embeddings)\n",
        "\n",
        "  for i in range(num_layers):\n",
        "    outputs = decoder_layer(\n",
        "        units=units,\n",
        "        d_model=d_model,\n",
        "        num_heads=num_heads,\n",
        "        dropout=dropout,\n",
        "        name='decoder_layer_{}'.format(i),\n",
        "    )(inputs=[outputs, enc_outputs, look_ahead_mask, padding_mask])\n",
        "\n",
        "  return tf.keras.Model(\n",
        "      inputs=[inputs, enc_outputs, look_ahead_mask, padding_mask],\n",
        "      outputs=outputs,\n",
        "      name=name)\n",
        "print(\"슝=3\")"
      ]
    },
    {
      "cell_type": "markdown",
      "metadata": {
        "id": "HqqilkbRxvQ5"
      },
      "source": [
        "### 1. 모델 생성\n",
        "\n",
        "* 데이터 개수 11000 개 > 논문대로 numlayer 6 개 , D_model = 512 수정\n",
        "\n"
      ]
    },
    {
      "cell_type": "code",
      "execution_count": 53,
      "metadata": {
        "colab": {
          "base_uri": "https://localhost:8080/"
        },
        "id": "NkywWbmFxqeb",
        "outputId": "ab075313-641d-4969-e7da-57fc41884124"
      },
      "outputs": [
        {
          "output_type": "stream",
          "name": "stdout",
          "text": [
            "Model: \"transformer\"\n",
            "__________________________________________________________________________________________________\n",
            " Layer (type)                   Output Shape         Param #     Connected to                     \n",
            "==================================================================================================\n",
            " inputs (InputLayer)            [(None, None)]       0           []                               \n",
            "                                                                                                  \n",
            " dec_inputs (InputLayer)        [(None, None)]       0           []                               \n",
            "                                                                                                  \n",
            " enc_padding_mask (Lambda)      (None, 1, 1, None)   0           ['inputs[0][0]']                 \n",
            "                                                                                                  \n",
            " encoder (Functional)           (None, None, 512)    13642752    ['inputs[0][0]',                 \n",
            "                                                                  'enc_padding_mask[0][0]']       \n",
            "                                                                                                  \n",
            " look_ahead_mask (Lambda)       (None, 1, None, Non  0           ['dec_inputs[0][0]']             \n",
            "                                e)                                                                \n",
            "                                                                                                  \n",
            " dec_padding_mask (Lambda)      (None, 1, 1, None)   0           ['inputs[0][0]']                 \n",
            "                                                                                                  \n",
            " decoder (Functional)           (None, None, 512)    19952640    ['dec_inputs[0][0]',             \n",
            "                                                                  'encoder[0][0]',                \n",
            "                                                                  'look_ahead_mask[0][0]',        \n",
            "                                                                  'dec_padding_mask[0][0]']       \n",
            "                                                                                                  \n",
            " outputs (Dense)                (None, None, 8154)   4183002     ['decoder[0][0]']                \n",
            "                                                                                                  \n",
            "==================================================================================================\n",
            "Total params: 37,778,394\n",
            "Trainable params: 37,778,394\n",
            "Non-trainable params: 0\n",
            "__________________________________________________________________________________________________\n"
          ]
        }
      ],
      "source": [
        "tf.keras.backend.clear_session()\n",
        "\n",
        "# 하이퍼파라미터\n",
        "NUM_LAYERS = 6 # 인코더와 디코더의 층의 개수\n",
        "D_MODEL = 512 # 인코더와 디코더 내부의 입, 출력의 고정 차원\n",
        "NUM_HEADS = 8 # 멀티 헤드 어텐션에서의 헤드 수 \n",
        "UNITS = 512 # 피드 포워드 신경망의 은닉층의 크기\n",
        "DROPOUT = 0.1 # 드롭아웃의 비율\n",
        "\n",
        "model = transformer(\n",
        "    vocab_size=VOCAB_SIZE,\n",
        "    num_layers=NUM_LAYERS,\n",
        "    units=UNITS,\n",
        "    d_model=D_MODEL,\n",
        "    num_heads=NUM_HEADS,\n",
        "    dropout=DROPOUT)\n",
        "\n",
        "model.summary()"
      ]
    },
    {
      "cell_type": "markdown",
      "metadata": {
        "id": "8J7m58y7yZdu"
      },
      "source": [
        "### 2. 손실 함수(Loss function)"
      ]
    },
    {
      "cell_type": "code",
      "execution_count": 54,
      "metadata": {
        "colab": {
          "base_uri": "https://localhost:8080/"
        },
        "id": "Y6bQh0h-x5sk",
        "outputId": "be28e829-b800-42e0-dc82-730a250b168d"
      },
      "outputs": [
        {
          "output_type": "stream",
          "name": "stdout",
          "text": [
            "슝=3\n"
          ]
        }
      ],
      "source": [
        "def loss_function(y_true, y_pred):\n",
        "  y_true = tf.reshape(y_true, shape=(-1, MAX_LENGTH - 1))\n",
        "  \n",
        "  loss = tf.keras.losses.SparseCategoricalCrossentropy(\n",
        "      from_logits=True, reduction='none')(y_true, y_pred)\n",
        "\n",
        "  mask = tf.cast(tf.not_equal(y_true, 0), tf.float32)\n",
        "  loss = tf.multiply(loss, mask)\n",
        "\n",
        "  return tf.reduce_mean(loss)\n",
        "print(\"슝=3\")"
      ]
    },
    {
      "cell_type": "markdown",
      "metadata": {
        "id": "lkeWRtY_yi6m"
      },
      "source": [
        "### 3. 커스텀 된 학습률(Learning rate)"
      ]
    },
    {
      "cell_type": "code",
      "execution_count": 55,
      "metadata": {
        "colab": {
          "base_uri": "https://localhost:8080/"
        },
        "id": "f5jvGZMjykVy",
        "outputId": "0cf0f6ac-5399-470c-91a6-0604d2e988e1"
      },
      "outputs": [
        {
          "output_type": "stream",
          "name": "stdout",
          "text": [
            "슝=3\n"
          ]
        }
      ],
      "source": [
        "class CustomSchedule(tf.keras.optimizers.schedules.LearningRateSchedule):\n",
        "\n",
        "  def __init__(self, d_model, warmup_steps=4000):\n",
        "    super(CustomSchedule, self).__init__()\n",
        "\n",
        "    self.d_model = d_model\n",
        "    self.d_model = tf.cast(self.d_model, tf.float32)\n",
        "\n",
        "    self.warmup_steps = warmup_steps\n",
        "\n",
        "  def __call__(self, step):\n",
        "    arg1 = tf.math.rsqrt(step)\n",
        "    arg2 = step * (self.warmup_steps**-1.5)\n",
        "\n",
        "    return tf.math.rsqrt(self.d_model) * tf.math.minimum(arg1, arg2)\n",
        "print(\"슝=3\")"
      ]
    },
    {
      "cell_type": "code",
      "execution_count": 56,
      "metadata": {
        "colab": {
          "base_uri": "https://localhost:8080/",
          "height": 0
        },
        "id": "BFIJD3LeynXR",
        "outputId": "371efd98-765b-4897-d408-30f40a4469b4"
      },
      "outputs": [
        {
          "output_type": "execute_result",
          "data": {
            "text/plain": [
              "Text(0.5, 0, 'Train Step')"
            ]
          },
          "metadata": {},
          "execution_count": 56
        },
        {
          "output_type": "display_data",
          "data": {
            "text/plain": [
              "<Figure size 432x288 with 1 Axes>"
            ],
            "image/png": "[encoded data removed]"
          },
          "metadata": {
            "needs_background": "light"
          }
        }
      ],
      "source": [
        "sample_learning_rate = CustomSchedule(d_model=128)\n",
        "\n",
        "plt.plot(sample_learning_rate(tf.range(200000, dtype=tf.float32)))\n",
        "plt.ylabel(\"Learning Rate\")\n",
        "plt.xlabel(\"Train Step\")"
      ]
    },
    {
      "cell_type": "markdown",
      "metadata": {
        "id": "2PtORWMggqHx"
      },
      "source": [
        "###4. 모델 컴파일"
      ]
    },
    {
      "cell_type": "code",
      "execution_count": 57,
      "metadata": {
        "colab": {
          "base_uri": "https://localhost:8080/"
        },
        "id": "NngE8woXggQS",
        "outputId": "f7499ac7-d4fa-4e75-f37d-fad3b8b5f5d9"
      },
      "outputs": [
        {
          "output_type": "stream",
          "name": "stdout",
          "text": [
            "슝=3\n"
          ]
        }
      ],
      "source": [
        "learning_rate = CustomSchedule(D_MODEL)\n",
        "\n",
        "optimizer = tf.keras.optimizers.Adam(\n",
        "    learning_rate, beta_1=0.9, beta_2=0.98, epsilon=1e-9)\n",
        "\n",
        "def accuracy(y_true, y_pred):\n",
        "  y_true = tf.reshape(y_true, shape=(-1, MAX_LENGTH - 1))\n",
        "  return tf.keras.metrics.sparse_categorical_accuracy(y_true, y_pred)\n",
        "\n",
        "model.compile(optimizer=optimizer, loss=loss_function, metrics=[accuracy])\n",
        "print(\"슝=3\")"
      ]
    },
    {
      "cell_type": "markdown",
      "metadata": {
        "id": "bHFikZKsgsJG"
      },
      "source": [
        "###5. 훈련하기"
      ]
    },
    {
      "cell_type": "code",
      "execution_count": 58,
      "metadata": {
        "colab": {
          "base_uri": "https://localhost:8080/"
        },
        "id": "0xhLDEGRgjD_",
        "outputId": "31ab1f82-9c2c-4a31-d331-4b2fe87fa09f"
      },
      "outputs": [
        {
          "output_type": "stream",
          "name": "stdout",
          "text": [
            "Epoch 1/35\n",
            "185/185 [==============================] - 53s 180ms/step - loss: 1.3407 - accuracy: 0.0253\n",
            "Epoch 2/35\n",
            "185/185 [==============================] - 33s 179ms/step - loss: 1.0694 - accuracy: 0.0496\n",
            "Epoch 3/35\n",
            "185/185 [==============================] - 33s 177ms/step - loss: 0.9807 - accuracy: 0.0506\n",
            "Epoch 4/35\n",
            "185/185 [==============================] - 33s 178ms/step - loss: 0.9399 - accuracy: 0.0526\n",
            "Epoch 5/35\n",
            "185/185 [==============================] - 33s 179ms/step - loss: 0.9066 - accuracy: 0.0545\n",
            "Epoch 6/35\n",
            "185/185 [==============================] - 33s 178ms/step - loss: 0.8699 - accuracy: 0.0566\n",
            "Epoch 7/35\n",
            "185/185 [==============================] - 33s 177ms/step - loss: 0.8301 - accuracy: 0.0590\n",
            "Epoch 8/35\n",
            "185/185 [==============================] - 33s 179ms/step - loss: 0.7842 - accuracy: 0.0616\n",
            "Epoch 9/35\n",
            "185/185 [==============================] - 33s 178ms/step - loss: 0.7305 - accuracy: 0.0653\n",
            "Epoch 10/35\n",
            "185/185 [==============================] - 33s 177ms/step - loss: 0.6743 - accuracy: 0.0701\n",
            "Epoch 11/35\n",
            "185/185 [==============================] - 33s 179ms/step - loss: 0.6152 - accuracy: 0.0757\n",
            "Epoch 12/35\n",
            "185/185 [==============================] - 35s 189ms/step - loss: 0.5547 - accuracy: 0.0828\n",
            "Epoch 13/35\n",
            "185/185 [==============================] - 34s 183ms/step - loss: 0.4944 - accuracy: 0.0901\n",
            "Epoch 14/35\n",
            "185/185 [==============================] - 35s 192ms/step - loss: 0.4383 - accuracy: 0.0975\n",
            "Epoch 15/35\n",
            "185/185 [==============================] - 36s 193ms/step - loss: 0.3890 - accuracy: 0.1042\n",
            "Epoch 16/35\n",
            "185/185 [==============================] - 36s 194ms/step - loss: 0.3467 - accuracy: 0.1098\n",
            "Epoch 17/35\n",
            "185/185 [==============================] - 36s 194ms/step - loss: 0.3123 - accuracy: 0.1140\n",
            "Epoch 18/35\n",
            "185/185 [==============================] - 36s 192ms/step - loss: 0.2845 - accuracy: 0.1176\n",
            "Epoch 19/35\n",
            "185/185 [==============================] - 33s 180ms/step - loss: 0.2621 - accuracy: 0.1208\n",
            "Epoch 20/35\n",
            "185/185 [==============================] - 34s 185ms/step - loss: 0.2446 - accuracy: 0.1229\n",
            "Epoch 21/35\n",
            "185/185 [==============================] - 35s 187ms/step - loss: 0.2321 - accuracy: 0.1248\n",
            "Epoch 22/35\n",
            "185/185 [==============================] - 34s 185ms/step - loss: 0.2227 - accuracy: 0.1262\n",
            "Epoch 23/35\n",
            "185/185 [==============================] - 35s 188ms/step - loss: 0.2063 - accuracy: 0.1287\n",
            "Epoch 24/35\n",
            "185/185 [==============================] - 34s 185ms/step - loss: 0.1883 - accuracy: 0.1320\n",
            "Epoch 25/35\n",
            "185/185 [==============================] - 33s 177ms/step - loss: 0.1728 - accuracy: 0.1348\n",
            "Epoch 26/35\n",
            "185/185 [==============================] - 33s 178ms/step - loss: 0.1581 - accuracy: 0.1375\n",
            "Epoch 27/35\n",
            "185/185 [==============================] - 33s 179ms/step - loss: 0.1471 - accuracy: 0.1398\n",
            "Epoch 28/35\n",
            "185/185 [==============================] - 33s 177ms/step - loss: 0.1350 - accuracy: 0.1421\n",
            "Epoch 29/35\n",
            "185/185 [==============================] - 33s 177ms/step - loss: 0.1261 - accuracy: 0.1436\n",
            "Epoch 30/35\n",
            "185/185 [==============================] - 33s 178ms/step - loss: 0.1178 - accuracy: 0.1452\n",
            "Epoch 31/35\n",
            "185/185 [==============================] - 33s 177ms/step - loss: 0.1091 - accuracy: 0.1469\n",
            "Epoch 32/35\n",
            "185/185 [==============================] - 33s 177ms/step - loss: 0.1007 - accuracy: 0.1489\n",
            "Epoch 33/35\n",
            "185/185 [==============================] - 33s 179ms/step - loss: 0.0954 - accuracy: 0.1500\n",
            "Epoch 34/35\n",
            "185/185 [==============================] - 33s 178ms/step - loss: 0.0892 - accuracy: 0.1515\n",
            "Epoch 35/35\n",
            "185/185 [==============================] - 33s 178ms/step - loss: 0.0822 - accuracy: 0.1533\n"
          ]
        },
        {
          "output_type": "execute_result",
          "data": {
            "text/plain": [
              "<keras.callbacks.History at 0x7fa99a120050>"
            ]
          },
          "metadata": {},
          "execution_count": 58
        }
      ],
      "source": [
        "EPOCHS = 35\n",
        "model.fit(dataset, epochs=EPOCHS, verbose=1)"
      ]
    },
    {
      "cell_type": "markdown",
      "metadata": {
        "id": "16McEcwK5plb"
      },
      "source": [
        "# Step 5. 모델 평가하기 : 챗봇 테스트\n"
      ]
    },
    {
      "cell_type": "code",
      "execution_count": 59,
      "metadata": {
        "colab": {
          "base_uri": "https://localhost:8080/"
        },
        "id": "hfin3U665pQx",
        "outputId": "8ece81ad-d98a-4133-eeaf-bff1ebf6f221"
      },
      "outputs": [
        {
          "output_type": "stream",
          "name": "stdout",
          "text": [
            "슝=3\n"
          ]
        }
      ],
      "source": [
        "def decoder_inference(sentence):\n",
        "  sentence = preprocess_sentence(sentence)\n",
        "\n",
        "  # 입력된 문장을 정수 인코딩 후, 시작 토큰과 종료 토큰을 앞뒤로 추가.\n",
        "  # ex) Where have you been? → [[8331   86   30    5 1059    7 8332]]\n",
        "  sentence = tf.expand_dims(\n",
        "      START_TOKEN + tokenizer.encode(sentence) + END_TOKEN, axis=0)\n",
        "\n",
        "  # 디코더의 현재까지의 예측한 출력 시퀀스가 지속적으로 저장되는 변수.\n",
        "  # 처음에는 예측한 내용이 없음으로 시작 토큰만 별도 저장. ex) 8331\n",
        "  output_sequence = tf.expand_dims(START_TOKEN, 0)\n",
        "\n",
        "  # 디코더의 인퍼런스 단계\n",
        "  for i in range(MAX_LENGTH):\n",
        "    # 디코더는 최대 MAX_LENGTH의 길이만큼 다음 단어 예측을 반복합니다.\n",
        "    predictions = model(inputs=[sentence, output_sequence], training=False)\n",
        "    predictions = predictions[:, -1:, :]\n",
        "\n",
        "    # 현재 예측한 단어의 정수\n",
        "    predicted_id = tf.cast(tf.argmax(predictions, axis=-1), tf.int32)\n",
        "\n",
        "    # 만약 현재 예측한 단어가 종료 토큰이라면 for문을 종료\n",
        "    if tf.equal(predicted_id, END_TOKEN[0]):\n",
        "      break\n",
        "\n",
        "    # 예측한 단어들은 지속적으로 output_sequence에 추가됩니다.\n",
        "    # 이 output_sequence는 다시 디코더의 입력이 됩니다.\n",
        "    output_sequence = tf.concat([output_sequence, predicted_id], axis=-1)\n",
        "\n",
        "  return tf.squeeze(output_sequence, axis=0)\n",
        "print(\"슝=3\")"
      ]
    },
    {
      "cell_type": "code",
      "execution_count": 60,
      "metadata": {
        "colab": {
          "base_uri": "https://localhost:8080/"
        },
        "id": "aH5lVWsK5w8f",
        "outputId": "18ea5af2-404e-4846-aa70-14cc4c8a2378"
      },
      "outputs": [
        {
          "output_type": "stream",
          "name": "stdout",
          "text": [
            "슝=3\n"
          ]
        }
      ],
      "source": [
        "def sentence_generation(sentence):\n",
        "  # 입력 문장에 대해서 디코더를 동작 시켜 예측된 정수 시퀀스를 리턴받습니다.\n",
        "  prediction = decoder_inference(sentence)\n",
        "\n",
        "  # 정수 시퀀스를 다시 텍스트 시퀀스로 변환합니다.\n",
        "  predicted_sentence = tokenizer.decode(\n",
        "      [i for i in prediction if i < tokenizer.vocab_size])\n",
        "\n",
        "  print('입력 : {}'.format(sentence))\n",
        "  print('출력 : {}'.format(predicted_sentence))\n",
        "\n",
        "  return predicted_sentence\n",
        "print(\"슝=3\")"
      ]
    },
    {
      "cell_type": "code",
      "execution_count": 63,
      "metadata": {
        "colab": {
          "base_uri": "https://localhost:8080/",
          "height": 72
        },
        "id": "ZOVXNz4B5y88",
        "outputId": "e35f693c-23a2-468c-b027-68dac9c6e8fa"
      },
      "outputs": [
        {
          "output_type": "stream",
          "name": "stdout",
          "text": [
            "입력 : PPL 심하네\n",
            "출력 : 눈살이 찌푸려지죠 .\n"
          ]
        },
        {
          "output_type": "execute_result",
          "data": {
            "text/plain": [
              "'눈살이 찌푸려지죠 .'"
            ],
            "application/vnd.google.colaboratory.intrinsic+json": {
              "type": "string"
            }
          },
          "metadata": {},
          "execution_count": 63
        }
      ],
      "source": [
        "sentence_generation('PPL 심하네')"
      ]
    },
    {
      "cell_type": "code",
      "execution_count": 62,
      "metadata": {
        "colab": {
          "base_uri": "https://localhost:8080/",
          "height": 72
        },
        "id": "vzSgiLDd50Z8",
        "outputId": "e424d15d-2eb4-4eb2-d23e-5f73b50675cb"
      },
      "outputs": [
        {
          "output_type": "stream",
          "name": "stdout",
          "text": [
            "입력 : 핸드폰 떨어뜨려서 고장 났나봐\n",
            "출력 : AS 맡기세요 .\n"
          ]
        },
        {
          "output_type": "execute_result",
          "data": {
            "text/plain": [
              "'AS 맡기세요 .'"
            ],
            "application/vnd.google.colaboratory.intrinsic+json": {
              "type": "string"
            }
          },
          "metadata": {},
          "execution_count": 62
        }
      ],
      "source": [
        "sentence_generation(\"핸드폰 떨어뜨려서 고장 났나봐\")"
      ]
    },
    {
      "cell_type": "markdown",
      "metadata": {
        "id": "nx4gnT9GIYwY"
      },
      "source": [
        "# 회고\n",
        "\n",
        "### - 이번 프로젝트에서 **어려웠던 점**.\n",
        "\n",
        "숫자,영어,구두점 별로 분류하여 각각의 데이터 전처리 과정이 제일 어려웠다.\n",
        "\n",
        "### - 프로젝트를 진행하면서 **알아낸 점** 혹은 **아직 모호한 점**.\n",
        "\n",
        "트랜스포머 인코더 디코더의 전반적인 과정 이해 \n",
        "\n",
        "### - 루브릭 평가 지표를 맞추기 위해 **시도한 것들**.\n",
        "* 1. 처음에 학습단계를 누락해서 결과가 너무 터무니없이 출력 됨.\n",
        "* 2. epoch 10으로 설정했을때 accuracy가 0.07로 결과가 좋지 않음\n",
        "* 3. 추가로 epoch 20 학습을 더 시킨 결과 그럴듯한 답변이 출력 됨.\n",
        "* 4. 최종적으로 런타임 재실행하여 epoch 35로 결과 출력 ! \n",
        "\n",
        "\n",
        "\n",
        ">#### **루브릭평가 지표**\n",
        ">|번호|평가문항|상세기준|\n",
        ">|:---:|---|---|\n",
        ">|1|  한국어 전처리를 통해 학습 데이터셋을 구축하였다. |공백과 특수문자 처리, 토크나이징, 병렬데이터 구축의 과정이 적절히 진행되었다.|\n",
        ">|2|트랜스포머 모델을 구현하여 한국어 챗봇 모델 학습을 정상적으로 진행하였다.| 구현한 트랜스포머 모델이 한국어 병렬 데이터 학습 시 안정적으로 수렴하였다.|\n",
        ">|3|한국어 입력문장에 대해 한국어로 답변하는 함수를 구현하였다.|한국어 입력문장에 맥락에 맞는 한국어로 답변을 리턴하였다.|\n",
        "\n",
        "\n",
        "\n",
        "### - **자기 다짐**\n",
        "\n",
        "* 코드 복기\n",
        "\n",
        "### - **참고**\n",
        "유튜브 링크 \n",
        "\n",
        "https://youtu.be/mxGCEWOxfe8\n",
        "\n",
        "https://youtu.be/URci3Eqz3hc\n",
        "\n"
      ]
    }
  ],
  "metadata": {
    "accelerator": "GPU",
    "colab": {
      "collapsed_sections": [
        "j50AolSywKJ9",
        "UcJ-ishVwk_r",
        "pjx75O5-w6nR",
        "HqqilkbRxvQ5",
        "8J7m58y7yZdu",
        "lkeWRtY_yi6m"
      ],
      "provenance": []
    },
    "kernelspec": {
      "display_name": "Python 3",
      "name": "python3"
    },
    "language_info": {
      "name": "python"
    }
  },
  "nbformat": 4,
  "nbformat_minor": 0
}