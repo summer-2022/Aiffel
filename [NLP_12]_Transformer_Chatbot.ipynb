{
  "cells": [
    {
      "cell_type": "markdown",
      "metadata": {
        "id": "EAuhPhtNGLPY"
      },
      "source": [
        "# NLP12- Transformer: 멋진 챗봇 만들기\n",
        "# 목차\n",
        "\n",
        "> LMS 따라해보기 \n",
        "\n",
        "1. 번역 데이터 준비\n",
        "2. 번역 모델 만들기\n",
        "3. 번역 성능 측정하기 \n",
        "  * (1) BLEU Score\n",
        "  * (2) Beam Search Decoder\n",
        "4. 데이터 부풀리기\n",
        "\n",
        "\n",
        "\n",
        "\n",
        "> 프로젝트: 멋진 챗봇 만들기\n",
        "\n",
        "* STEP 1. 데이터 다운로드\n",
        "* STEP 2. 데이터 정제\n",
        "* STEP 3. 데이터 토큰화\n",
        "* STEP 4. Augmentation\n",
        "* STEP 5. 데이터 벡터화\n",
        "* STEP 6. 훈련하기\n",
        "* STEP 7. 성능 측정하기\n",
        "\n",
        "## 회고"
      ]
    },
    {
      "cell_type": "markdown",
      "metadata": {
        "id": "SICwoOChH7y6"
      },
      "source": [
        "# LMS 따라해보기"
      ]
    },
    {
      "cell_type": "code",
      "execution_count": 1,
      "metadata": {
        "colab": {
          "base_uri": "https://localhost:8080/"
        },
        "id": "OwPGFNKrNFcf",
        "outputId": "0efcdbd2-0249-463c-d5c7-05b1c5fd2ed6"
      },
      "outputs": [
        {
          "output_type": "stream",
          "name": "stdout",
          "text": [
            "Looking in indexes: https://pypi.org/simple, https://us-python.pkg.dev/colab-wheels/public/simple/\n",
            "Requirement already satisfied: sentencepiece in /usr/local/lib/python3.7/dist-packages (0.1.97)\n"
          ]
        }
      ],
      "source": [
        "! pip install sentencepiece"
      ]
    },
    {
      "cell_type": "code",
      "execution_count": 2,
      "metadata": {
        "colab": {
          "base_uri": "https://localhost:8080/"
        },
        "id": "vgIalaJpMef4",
        "outputId": "e7e5fc2f-7d37-405a-c4e7-14fdd6cb3345"
      },
      "outputs": [
        {
          "output_type": "stream",
          "name": "stdout",
          "text": [
            "2.9.2\n"
          ]
        }
      ],
      "source": [
        "import numpy as np\n",
        "import pandas as pd\n",
        "import tensorflow as tf\n",
        "import sentencepiece as spm\n",
        "from nltk.translate.bleu_score import sentence_bleu\n",
        "from nltk.translate.bleu_score import SmoothingFunction\n",
        "\n",
        "import re\n",
        "import os\n",
        "import random\n",
        "import math\n",
        "\n",
        "from tqdm.notebook import tqdm\n",
        "import matplotlib.pyplot as plt\n",
        "\n",
        "print(tf.__version__)"
      ]
    },
    {
      "cell_type": "markdown",
      "metadata": {
        "id": "HLW5_ICmIBZu"
      },
      "source": [
        "##1. 번역 데이터 준비\n",
        "\n"
      ]
    },
    {
      "cell_type": "markdown",
      "metadata": {
        "id": "IHwNO2VxIh93"
      },
      "source": [
        "### (1) 데이터 준비"
      ]
    },
    {
      "cell_type": "markdown",
      "metadata": {
        "id": "NXzwSP7qNejm"
      },
      "source": [
        "sentencepiece 설치\n",
        " "
      ]
    },
    {
      "cell_type": "code",
      "execution_count": 3,
      "metadata": {
        "id": "89COfDVhMejN"
      },
      "outputs": [],
      "source": [
        "zip_path = tf.keras.utils.get_file(\n",
        "    'spa-eng.zip',\n",
        "    origin='http://storage.googleapis.com/download.tensorflow.org/data/spa-eng.zip',\n",
        "    extract=True\n",
        ")"
      ]
    },
    {
      "cell_type": "markdown",
      "metadata": {
        "id": "TatZmU_9NUuP"
      },
      "source": [
        "중복된 데이터가 있을 수 있으니 list와 set을 사용해 처리"
      ]
    },
    {
      "cell_type": "code",
      "execution_count": 4,
      "metadata": {
        "colab": {
          "base_uri": "https://localhost:8080/"
        },
        "id": "hQJM_f_1NRQ_",
        "outputId": "fd6bbfed-33d3-402e-e4f8-3ffea6f0da62"
      },
      "outputs": [
        {
          "output_type": "stream",
          "name": "stdout",
          "text": [
            "Example: 118964\n",
            ">> The coat doesn't have any pockets.\tEl abrigo no tiene bolsillos.\n",
            ">> No one agreed with me.\tNadie estuvo de acuerdo conmigo.\n",
            ">> Please phone him.\tLlámalo, por favor.\n",
            ">> It's awfully cold this evening.\tEsta tarde hace muchísimo frío.\n",
            ">> What exactly am I paying for?\t¿Qué estoy pagando exactamente?\n"
          ]
        }
      ],
      "source": [
        "file_path = os.path.dirname(zip_path)+\"/spa-eng/spa.txt\"\n",
        "\n",
        "with open(file_path, \"r\") as f:\n",
        "    spa_eng_sentences = f.read().splitlines()\n",
        "\n",
        "spa_eng_sentences = list(set(spa_eng_sentences)) \n",
        "total_sentence_count = len(spa_eng_sentences)\n",
        "print(\"Example:\", total_sentence_count)\n",
        "\n",
        "for sen in spa_eng_sentences[0:100:20]: \n",
        "    print(\">>\", sen)"
      ]
    },
    {
      "cell_type": "markdown",
      "metadata": {
        "id": "q1ckBIv_OUOD"
      },
      "source": [
        "전처리 함수"
      ]
    },
    {
      "cell_type": "code",
      "execution_count": 5,
      "metadata": {
        "id": "Wz2wNc5BNsp-"
      },
      "outputs": [],
      "source": [
        "\n",
        "def preprocess_sentence(sentence):\n",
        "    sentence = sentence.lower()\n",
        "    sentence = re.sub(r'[\" \"]+', \" \", sentence)   # 공백 여러개 -> 공백 하나: 변경 \n",
        "    sentence = sentence.strip()\n",
        "    return sentence"
      ]
    },
    {
      "cell_type": "markdown",
      "metadata": {
        "id": "o-TrhWIWONMk"
      },
      "source": [
        "모든 데이터에 대해서 같은 전처리"
      ]
    },
    {
      "cell_type": "code",
      "execution_count": 6,
      "metadata": {
        "id": "Pv-ASTikOKEn"
      },
      "outputs": [],
      "source": [
        "spa_eng_sentences = list(map(preprocess_sentence, spa_eng_sentences))"
      ]
    },
    {
      "cell_type": "markdown",
      "metadata": {
        "id": "ePTIzSPqOehs"
      },
      "source": [
        "train_test_split\n"
      ]
    },
    {
      "cell_type": "code",
      "execution_count": 7,
      "metadata": {
        "colab": {
          "base_uri": "https://localhost:8080/"
        },
        "id": "0gmVCDSVOjT9",
        "outputId": "5a33d137-f194-4e38-a1f7-fa6814e22734"
      },
      "outputs": [
        {
          "output_type": "stream",
          "name": "stdout",
          "text": [
            "Test Size:  594\n",
            "\n",
            "\n",
            "Train Example: 118370\n",
            ">> the coat doesn't have any pockets.\tel abrigo no tiene bolsillos.\n",
            ">> no one agreed with me.\tnadie estuvo de acuerdo conmigo.\n",
            ">> please phone him.\tllámalo, por favor.\n",
            ">> it's awfully cold this evening.\testa tarde hace muchísimo frío.\n",
            ">> what exactly am i paying for?\t¿qué estoy pagando exactamente?\n",
            "\n",
            "\n",
            "Test Example: 594\n",
            ">> tom made fun of mary.\ttom se burló de mary.\n",
            ">> why don't they talk to me?\t¿por qué no hablan conmigo?\n",
            ">> we saw a terrible movie last night.\tanoche vimos una película horrenda.\n",
            ">> i have fewer students in my class this year than last year.\teste año tengo menos estudiantes en mi clase que el año pasado.\n",
            ">> i usually toss my loose change into my desk drawer.\tnormalmente echo la calderilla en el cajón de mi escritorio.\n"
          ]
        }
      ],
      "source": [
        "test_sentence_count = total_sentence_count // 200\n",
        "print(\"Test Size: \", test_sentence_count)\n",
        "print(\"\\n\")\n",
        "\n",
        "train_spa_eng_sentences = spa_eng_sentences[:-test_sentence_count]\n",
        "test_spa_eng_sentences = spa_eng_sentences[-test_sentence_count:]\n",
        "\n",
        "print(\"Train Example:\", len(train_spa_eng_sentences))\n",
        "for sen in train_spa_eng_sentences[0:100:20]: \n",
        "    print(\">>\", sen)\n",
        "print(\"\\n\")\n",
        "print(\"Test Example:\", len(test_spa_eng_sentences))\n",
        "for sen in test_spa_eng_sentences[0:100:20]: \n",
        "    print(\">>\", sen)"
      ]
    },
    {
      "cell_type": "markdown",
      "metadata": {
        "id": "3_I47Pt4PEaV"
      },
      "source": [
        "영어와 스페인어를 분리\n",
        "\n",
        ": 영어 문장과 스페인어 문장이 tab으로 연결되어 있으니 split('\\t') 사용\n",
        "* tab 이전: 영어 문장\n",
        "\n",
        "* tab 이후: 스페인어 문장"
      ]
    },
    {
      "cell_type": "code",
      "execution_count": 8,
      "metadata": {
        "id": "EG4sPOUfPVrU"
      },
      "outputs": [],
      "source": [
        "def split_spa_eng_sentences(spa_eng_sentences):\n",
        "    spa_sentences = []\n",
        "    eng_sentences = []\n",
        "    for spa_eng_sentence in tqdm(spa_eng_sentences):\n",
        "        eng_sentence, spa_sentence = spa_eng_sentence.split('\\t')\n",
        "        spa_sentences.append(spa_sentence)\n",
        "        eng_sentences.append(eng_sentence)\n",
        "    return eng_sentences, spa_sentences"
      ]
    },
    {
      "cell_type": "code",
      "execution_count": 9,
      "metadata": {
        "colab": {
          "base_uri": "https://localhost:8080/",
          "height": 156,
          "referenced_widgets": [
            "a856eae7917944f6bba55f955f268414",
            "9a2b2ed4f406451580e60081fbc64b25",
            "7ae5012ac83c43c6ad3b79d320cff10d",
            "755fe18093854da1acdd081a7087ed28",
            "f340139630ca4946ac88488219a911db",
            "9348f223a51d447fa83b14cde21397b5",
            "6ee9bdd5cf9e4bebaf6e86f6861e28bb",
            "e234e0b302914b56b8fcdc057745523e",
            "e17aa3408d0d4db6aca85a6f2687a839",
            "b9362175968a458196f3ccc4477b0964",
            "e77ae83c896a43f89f055a1e4dc6a2ba"
          ]
        },
        "id": "FufD5k_kPltx",
        "outputId": "824d1788-2636-46ff-b8c5-85457d6915be"
      },
      "outputs": [
        {
          "output_type": "display_data",
          "data": {
            "text/plain": [
              "  0%|          | 0/118370 [00:00<?, ?it/s]"
            ],
            "application/vnd.jupyter.widget-view+json": {
              "version_major": 2,
              "version_minor": 0,
              "model_id": "a856eae7917944f6bba55f955f268414"
            }
          },
          "metadata": {}
        },
        {
          "output_type": "stream",
          "name": "stdout",
          "text": [
            "118370\n",
            "the coat doesn't have any pockets.\n",
            "\n",
            "\n",
            "118370\n",
            "el abrigo no tiene bolsillos.\n"
          ]
        }
      ],
      "source": [
        "train_eng_sentences, train_spa_sentences = split_spa_eng_sentences(train_spa_eng_sentences)\n",
        "print(len(train_eng_sentences))\n",
        "print(train_eng_sentences[0])\n",
        "print('\\n')\n",
        "print(len(train_spa_sentences))\n",
        "print(train_spa_sentences[0])"
      ]
    },
    {
      "cell_type": "code",
      "execution_count": 10,
      "metadata": {
        "colab": {
          "base_uri": "https://localhost:8080/",
          "height": 156,
          "referenced_widgets": [
            "376f46b845a042ff9831fd30d209af16",
            "bb2938011206408280e21a703f93d101",
            "cdd7edfb9c484f678ff2349b465a78af",
            "39f1c2cd1f9f406bb625351bc10fd967",
            "d186413ae6824ac4975277577ddc77f9",
            "cc1cf82beccb4caf8632684a3e5c6e50",
            "3cf60442de5746eea8376d757b749cc1",
            "1d58815324f24223af6e57709fb32fde",
            "e4bd9a4b1ada45afbac1c3ee16cb443d",
            "9f3d7c7c94784705b4f639a4262b93e8",
            "480e4b1114dc43539bf2450e752afc61"
          ]
        },
        "id": "4pxgODHMPqK-",
        "outputId": "2071211e-cade-4890-9529-df62c7b4cb84"
      },
      "outputs": [
        {
          "output_type": "display_data",
          "data": {
            "text/plain": [
              "  0%|          | 0/594 [00:00<?, ?it/s]"
            ],
            "application/vnd.jupyter.widget-view+json": {
              "version_major": 2,
              "version_minor": 0,
              "model_id": "376f46b845a042ff9831fd30d209af16"
            }
          },
          "metadata": {}
        },
        {
          "output_type": "stream",
          "name": "stdout",
          "text": [
            "594\n",
            "tom made fun of mary.\n",
            "\n",
            "\n",
            "594\n",
            "tom se burló de mary.\n"
          ]
        }
      ],
      "source": [
        "test_eng_sentences, test_spa_sentences = split_spa_eng_sentences(test_spa_eng_sentences)\n",
        "print(len(test_eng_sentences))\n",
        "print(test_eng_sentences[0])\n",
        "print('\\n')\n",
        "print(len(test_spa_sentences))\n",
        "print(test_spa_sentences[0])"
      ]
    },
    {
      "cell_type": "markdown",
      "metadata": {
        "id": "fzCWAWxtIiKq"
      },
      "source": [
        "### (2) 토큰화"
      ]
    },
    {
      "cell_type": "markdown",
      "metadata": {
        "id": "xTsXuv20IVo1"
      },
      "source": [
        "`generate_tokenizer()` :  Sentencepiece 기반의 토크나이저를 생성"
      ]
    },
    {
      "cell_type": "markdown",
      "metadata": {
        "id": "gg3UHi7GIoG_"
      },
      "source": [
        "* 두 언어 단어 사전을 공유\n",
        "* 영어와 스페인어 모두 알파벳으로 이뤄지는 데다가 같은 인도유럽어족이기 때문에 기대할 수 있는 효과가 크다"
      ]
    },
    {
      "cell_type": "code",
      "execution_count": 11,
      "metadata": {
        "id": "8muSvb-PD3S7"
      },
      "outputs": [],
      "source": [
        "def generate_tokenizer(corpus,\n",
        "                       vocab_size,\n",
        "                       lang=\"spa-eng\",\n",
        "                       pad_id=0,   # pad token의 일련번호\n",
        "                       bos_id=1,  # 문장의 시작을 의미하는 bos token(<s>)의 일련번호\n",
        "                       eos_id=2,  # 문장의 끝을 의미하는 eos token(</s>)의 일련번호\n",
        "                       unk_id=3):   # unk token의 일련번호\n",
        "    file = \"./%s_corpus.txt\" % lang\n",
        "    model = \"%s_spm\" % lang\n",
        "\n",
        "    with open(file, 'w') as f:\n",
        "        for row in corpus: f.write(str(row) + '\\n')\n",
        "\n",
        "    import sentencepiece as spm\n",
        "    spm.SentencePieceTrainer.Train(\n",
        "        '--input=./%s --model_prefix=%s --vocab_size=%d'\\\n",
        "        % (file, model, vocab_size) + \\\n",
        "        '--pad_id==%d --bos_id=%d --eos_id=%d --unk_id=%d'\\\n",
        "        % (pad_id, bos_id, eos_id, unk_id)\n",
        "    )\n",
        "\n",
        "    tokenizer = spm.SentencePieceProcessor()\n",
        "    tokenizer.Load('%s.model' % model)\n",
        "\n",
        "    return tokenizer\n"
      ]
    },
    {
      "cell_type": "code",
      "execution_count": 12,
      "metadata": {
        "colab": {
          "base_uri": "https://localhost:8080/"
        },
        "id": "dYsiFNaGHBRa",
        "outputId": "e9aac161-32de-469d-a21d-fa5700da6223"
      },
      "outputs": [
        {
          "output_type": "execute_result",
          "data": {
            "text/plain": [
              "True"
            ]
          },
          "metadata": {},
          "execution_count": 12
        }
      ],
      "source": [
        "VOCAB_SIZE = 20000\n",
        "tokenizer = generate_tokenizer(train_eng_sentences + train_spa_sentences, VOCAB_SIZE, 'spa-eng')\n",
        "tokenizer.set_encode_extra_options(\"bos:eos\")  # 문장 양 끝에 <s> , </s> 추가"
      ]
    },
    {
      "cell_type": "code",
      "execution_count": 13,
      "metadata": {
        "id": "qRLfJyyBHGUB"
      },
      "outputs": [],
      "source": [
        "def make_corpus(sentences, tokenizer):\n",
        "    corpus = []\n",
        "    for sentence in tqdm(sentences):\n",
        "        tokens = tokenizer.encode_as_ids(sentence)\n",
        "        corpus.append(tokens)\n",
        "    return corpus\n"
      ]
    },
    {
      "cell_type": "code",
      "execution_count": 14,
      "metadata": {
        "colab": {
          "base_uri": "https://localhost:8080/",
          "height": 81,
          "referenced_widgets": [
            "07e60c4b54f546f39c4ef8f68f2585ed",
            "e6df1ca080fe45f996c21a9b7662b0d2",
            "d923e42793764bf0a981ce68b2324e28",
            "2ae7dba7f9184228ab8847f16b4c8ba0",
            "096a530a7e4b4603b7413909c543a210",
            "d585fde0a19a433db65674c09588cdee",
            "7deaf276ef28478b846e207d68573d38",
            "cb7b0c00b99f44958764867fa69c4854",
            "1ebadd002b5f4b3db14bda094beb7a7e",
            "69d1486476e94e1984d1454564422544",
            "5acd64a651e1408fbb56ac78ec0979cb",
            "b776f06dddd6467b887f84adfa2ac101",
            "6dd4966e706b4dedb8d42d8eb0fb3f20",
            "65cf7dba9c97487bbf4e2ec0bfed26d7",
            "481321b9e7d841a0b6ecb00a616a0fae",
            "83f61db88506431881f140273906f788",
            "ede6487aeb054a2d8efda8fecbbde1da",
            "e23f7bee1ba64f01a00d7173cacc9f29",
            "8d5a908590124ef9bdcfb22c7b4205a8",
            "40467e8d861347bc8c110a6b97a9a1ab",
            "4b78e42c0e514e5ca6c2fc22573ab2dc",
            "57737fe10f81432b9d7c8a6c4b1b384a"
          ]
        },
        "id": "DlZmWn3gHJBX",
        "outputId": "57006051-81d7-49c5-ad8e-ab9e756a7e16"
      },
      "outputs": [
        {
          "output_type": "display_data",
          "data": {
            "text/plain": [
              "  0%|          | 0/118370 [00:00<?, ?it/s]"
            ],
            "application/vnd.jupyter.widget-view+json": {
              "version_major": 2,
              "version_minor": 0,
              "model_id": "07e60c4b54f546f39c4ef8f68f2585ed"
            }
          },
          "metadata": {}
        },
        {
          "output_type": "display_data",
          "data": {
            "text/plain": [
              "  0%|          | 0/118370 [00:00<?, ?it/s]"
            ],
            "application/vnd.jupyter.widget-view+json": {
              "version_major": 2,
              "version_minor": 0,
              "model_id": "b776f06dddd6467b887f84adfa2ac101"
            }
          },
          "metadata": {}
        }
      ],
      "source": [
        "eng_corpus = make_corpus(train_eng_sentences, tokenizer)\n",
        "spa_corpus = make_corpus(train_spa_sentences, tokenizer)"
      ]
    },
    {
      "cell_type": "code",
      "execution_count": 15,
      "metadata": {
        "colab": {
          "base_uri": "https://localhost:8080/"
        },
        "id": "R8gRRZiKHK1w",
        "outputId": "65c8eb0f-1a49-40af-ae89-a86024a6a639"
      },
      "outputs": [
        {
          "output_type": "stream",
          "name": "stdout",
          "text": [
            "the coat doesn't have any pockets.\n",
            "[1, 9, 1774, 140, 7, 17, 39, 238, 6196, 0, 2]\n",
            "\n",
            "\n",
            "el abrigo no tiene bolsillos.\n",
            "[1, 19, 1761, 14, 101, 6193, 0, 2]\n"
          ]
        }
      ],
      "source": [
        "print(train_eng_sentences[0])\n",
        "print(eng_corpus[0])\n",
        "print('\\n')\n",
        "print(train_spa_sentences[0])\n",
        "print(spa_corpus[0])"
      ]
    },
    {
      "cell_type": "markdown",
      "metadata": {
        "id": "iLSgasU3Hn_z"
      },
      "source": [
        "`pad_sequences()` : list 자료형도 단숨에 패딩 작업을 해주는 멋진 함수 "
      ]
    },
    {
      "cell_type": "code",
      "execution_count": 16,
      "metadata": {
        "id": "iQsq0X67HOSG"
      },
      "outputs": [],
      "source": [
        "MAX_LEN = 50\n",
        "enc_ndarray = tf.keras.preprocessing.sequence.pad_sequences(eng_corpus, maxlen=MAX_LEN, padding='post')\n",
        "dec_ndarray = tf.keras.preprocessing.sequence.pad_sequences(spa_corpus, maxlen=MAX_LEN, padding='post')\n"
      ]
    },
    {
      "cell_type": "markdown",
      "metadata": {
        "id": "TWPRhUMaHyJt"
      },
      "source": [
        "배치 크기의 텐서 생성 :모델 훈련에 사용될 수 있도록 영어와 스페인어 데이터를 묶음"
      ]
    },
    {
      "cell_type": "code",
      "execution_count": 17,
      "metadata": {
        "id": "DE2WUIeFHQTS"
      },
      "outputs": [],
      "source": [
        "BATCH_SIZE = 64\n",
        "train_dataset = tf.data.Dataset.from_tensor_slices((enc_ndarray, dec_ndarray)).batch(batch_size=BATCH_SIZE)\n"
      ]
    },
    {
      "cell_type": "markdown",
      "metadata": {
        "id": "EBy0mTWhIENt"
      },
      "source": [
        "##2. 번역 모델 생성 : Transformer\n",
        "\n"
      ]
    },
    {
      "cell_type": "markdown",
      "metadata": {
        "id": "arMJJ4VINGzH"
      },
      "source": [
        "### (1) 모델 설계 "
      ]
    },
    {
      "cell_type": "markdown",
      "metadata": {
        "id": "RqlyfPNbIwXL"
      },
      "source": [
        ">Positional Encoding\n"
      ]
    },
    {
      "cell_type": "code",
      "execution_count": 18,
      "metadata": {
        "id": "OenBpjOeJsLw"
      },
      "outputs": [],
      "source": [
        "# Positional Encoding 구현\n",
        "def positional_encoding(pos, d_model):\n",
        "    def cal_angle(position, i):\n",
        "        return position / np.power(10000, (2*(i//2)) / np.float32(d_model))\n",
        "\n",
        "    def get_posi_angle_vec(position):\n",
        "        return [cal_angle(position, i) for i in range(d_model)]\n",
        "\n",
        "    sinusoid_table = np.array([get_posi_angle_vec(pos_i) for pos_i in range(pos)])\n",
        "\n",
        "    sinusoid_table[:, 0::2] = np.sin(sinusoid_table[:, 0::2])\n",
        "    sinusoid_table[:, 1::2] = np.cos(sinusoid_table[:, 1::2])\n",
        "\n",
        "    return sinusoid_table\n"
      ]
    },
    {
      "cell_type": "markdown",
      "metadata": {
        "id": "DALh_F3QJNyH"
      },
      "source": [
        "> Mask"
      ]
    },
    {
      "cell_type": "code",
      "execution_count": 19,
      "metadata": {
        "id": "spCEX5JbJuHd"
      },
      "outputs": [],
      "source": [
        "# Mask  생성하기\n",
        "def generate_padding_mask(seq):\n",
        "    seq = tf.cast(tf.math.equal(seq, 0), tf.float32)\n",
        "    return seq[:, tf.newaxis, tf.newaxis, :]\n",
        "\n",
        "def generate_lookahead_mask(size):\n",
        "    mask = 1 - tf.linalg.band_part(tf.ones((size, size)), -1, 0)\n",
        "    return mask\n",
        "\n",
        "def generate_masks(src, tgt):\n",
        "    enc_mask = generate_padding_mask(src)\n",
        "    dec_enc_mask = generate_padding_mask(src)\n",
        "\n",
        "    dec_lookahead_mask = generate_lookahead_mask(tgt.shape[1])\n",
        "    dec_tgt_padding_mask = generate_padding_mask(tgt)\n",
        "    dec_mask = tf.maximum(dec_tgt_padding_mask, dec_lookahead_mask)\n",
        "\n",
        "    return enc_mask, dec_enc_mask, dec_mask"
      ]
    },
    {
      "cell_type": "markdown",
      "metadata": {
        "id": "i_EcTGuzJOA2"
      },
      "source": [
        "> Multi-head Attention"
      ]
    },
    {
      "cell_type": "code",
      "execution_count": 20,
      "metadata": {
        "id": "tsfdYZlaJwl_"
      },
      "outputs": [],
      "source": [
        "# Multi Head Attention 구현\n",
        "class MultiHeadAttention(tf.keras.layers.Layer):\n",
        "    def __init__(self, d_model, num_heads):\n",
        "        super(MultiHeadAttention, self).__init__()\n",
        "        self.num_heads = num_heads\n",
        "        self.d_model = d_model\n",
        "        \n",
        "        self.depth = d_model // self.num_heads\n",
        "        \n",
        "        self.W_q = tf.keras.layers.Dense(d_model)\n",
        "        self.W_k = tf.keras.layers.Dense(d_model)\n",
        "        self.W_v = tf.keras.layers.Dense(d_model)\n",
        "        \n",
        "        self.linear = tf.keras.layers.Dense(d_model)\n",
        "\n",
        "    def scaled_dot_product_attention(self, Q, K, V, mask):\n",
        "        d_k = tf.cast(K.shape[-1], tf.float32)\n",
        "        QK = tf.matmul(Q, K, transpose_b=True)\n",
        "\n",
        "        scaled_qk = QK / tf.math.sqrt(d_k)\n",
        "\n",
        "        if mask is not None: scaled_qk += (mask * -1e9)  \n",
        "\n",
        "        attentions = tf.nn.softmax(scaled_qk, axis=-1)\n",
        "        out = tf.matmul(attentions, V)\n",
        "\n",
        "        return out, attentions\n",
        "        \n",
        "\n",
        "    def split_heads(self, x):\n",
        "        bsz = x.shape[0]\n",
        "        split_x = tf.reshape(x, (bsz, -1, self.num_heads, self.depth))\n",
        "        split_x = tf.transpose(split_x, perm=[0, 2, 1, 3])\n",
        "\n",
        "        return split_x\n",
        "\n",
        "    def combine_heads(self, x):\n",
        "        bsz = x.shape[0]\n",
        "        combined_x = tf.transpose(x, perm=[0, 2, 1, 3])\n",
        "        combined_x = tf.reshape(combined_x, (bsz, -1, self.d_model))\n",
        "\n",
        "        return combined_x\n",
        "\n",
        "    \n",
        "    def call(self, Q, K, V, mask):\n",
        "        WQ = self.W_q(Q)\n",
        "        WK = self.W_k(K)\n",
        "        WV = self.W_v(V)\n",
        "        \n",
        "        WQ_splits = self.split_heads(WQ)\n",
        "        WK_splits = self.split_heads(WK)\n",
        "        WV_splits = self.split_heads(WV)\n",
        "        \n",
        "        out, attention_weights = self.scaled_dot_product_attention(\n",
        "            WQ_splits, WK_splits, WV_splits, mask)\n",
        "                        \n",
        "        out = self.combine_heads(out)\n",
        "        out = self.linear(out)\n",
        "            \n",
        "        return out, attention_weights"
      ]
    },
    {
      "cell_type": "markdown",
      "metadata": {
        "id": "nmgQIRUFJOEe"
      },
      "source": [
        "> Position-wise Feed Forward Network"
      ]
    },
    {
      "cell_type": "code",
      "execution_count": 21,
      "metadata": {
        "id": "oY5St-PIJyy_"
      },
      "outputs": [],
      "source": [
        "# Position-wise Feed Forward Network 구현\n",
        "class PoswiseFeedForwardNet(tf.keras.layers.Layer):\n",
        "    def __init__(self, d_model, d_ff):\n",
        "        super(PoswiseFeedForwardNet, self).__init__()\n",
        "        self.d_model = d_model\n",
        "        self.d_ff = d_ff\n",
        "\n",
        "        self.fc1 = tf.keras.layers.Dense(d_ff, activation='relu')\n",
        "        self.fc2 = tf.keras.layers.Dense(d_model)\n",
        "\n",
        "    def call(self, x):\n",
        "        out = self.fc1(x)\n",
        "        out = self.fc2(out)\n",
        "            \n",
        "        return out"
      ]
    },
    {
      "cell_type": "markdown",
      "metadata": {
        "id": "DHFlmhDAJOV8"
      },
      "source": [
        "> Encoder Layer"
      ]
    },
    {
      "cell_type": "code",
      "execution_count": 22,
      "metadata": {
        "id": "dkbjWMOeJ01W"
      },
      "outputs": [],
      "source": [
        "# Encoder의 레이어 구현\n",
        "class EncoderLayer(tf.keras.layers.Layer):\n",
        "    def __init__(self, d_model, n_heads, d_ff, dropout):\n",
        "        super(EncoderLayer, self).__init__()\n",
        "\n",
        "        self.enc_self_attn = MultiHeadAttention(d_model, n_heads)\n",
        "        self.ffn = PoswiseFeedForwardNet(d_model, d_ff)\n",
        "\n",
        "        self.norm_1 = tf.keras.layers.LayerNormalization(epsilon=1e-6)\n",
        "        self.norm_2 = tf.keras.layers.LayerNormalization(epsilon=1e-6)\n",
        "\n",
        "        self.do = tf.keras.layers.Dropout(dropout)\n",
        "        \n",
        "    def call(self, x, mask):\n",
        "        '''\n",
        "        Multi-Head Attention\n",
        "        '''\n",
        "        residual = x\n",
        "        out = self.norm_1(x)\n",
        "        out, enc_attn = self.enc_self_attn(out, out, out, mask)\n",
        "        out = self.do(out)\n",
        "        out += residual\n",
        "        \n",
        "        '''\n",
        "        Position-Wise Feed Forward Network\n",
        "        '''\n",
        "        residual = out\n",
        "        out = self.norm_2(out)\n",
        "        out = self.ffn(out)\n",
        "        out = self.do(out)\n",
        "        out += residual\n",
        "        \n",
        "        return out, enc_attn"
      ]
    },
    {
      "cell_type": "markdown",
      "metadata": {
        "id": "kIW-_gOJJcGw"
      },
      "source": [
        ">Decoder Layer"
      ]
    },
    {
      "cell_type": "code",
      "execution_count": 23,
      "metadata": {
        "id": "2slsZDHHJ3j2"
      },
      "outputs": [],
      "source": [
        "# Decoder 레이어 구현\n",
        "class DecoderLayer(tf.keras.layers.Layer):\n",
        "    def __init__(self, d_model, num_heads, d_ff, dropout):\n",
        "        super(DecoderLayer, self).__init__()\n",
        "\n",
        "        self.dec_self_attn = MultiHeadAttention(d_model, num_heads)\n",
        "        self.enc_dec_attn = MultiHeadAttention(d_model, num_heads)\n",
        "\n",
        "        self.ffn = PoswiseFeedForwardNet(d_model, d_ff)\n",
        "\n",
        "        self.norm_1 = tf.keras.layers.LayerNormalization(epsilon=1e-6)\n",
        "        self.norm_2 = tf.keras.layers.LayerNormalization(epsilon=1e-6)\n",
        "        self.norm_3 = tf.keras.layers.LayerNormalization(epsilon=1e-6)\n",
        "\n",
        "        self.do = tf.keras.layers.Dropout(dropout)\n",
        "    \n",
        "    def call(self, x, enc_out, dec_enc_mask, padding_mask):\n",
        "        '''\n",
        "        Masked Multi-Head Attention\n",
        "        '''\n",
        "        residual = x\n",
        "        out = self.norm_1(x)\n",
        "        out, dec_attn = self.dec_self_attn(out, out, out, padding_mask)\n",
        "        out = self.do(out)\n",
        "        out += residual\n",
        "\n",
        "        '''\n",
        "        Multi-Head Attention\n",
        "        '''\n",
        "        residual = out\n",
        "        out = self.norm_2(out)\n",
        "        # Q, K, V 순서에 주의하세요!\n",
        "        out, dec_enc_attn = self.enc_dec_attn(Q=out, K=enc_out, V=enc_out, mask=dec_enc_mask)\n",
        "        out = self.do(out)\n",
        "        out += residual\n",
        "        \n",
        "        '''\n",
        "        Position-Wise Feed Forward Network\n",
        "        '''\n",
        "        residual = out\n",
        "        out = self.norm_3(out)\n",
        "        out = self.ffn(out)\n",
        "        out = self.do(out)\n",
        "        out += residual\n",
        "\n",
        "        return out, dec_attn, dec_enc_attn"
      ]
    },
    {
      "cell_type": "markdown",
      "metadata": {
        "id": "1Yf7jGNUJkLR"
      },
      "source": [
        ">Encoder"
      ]
    },
    {
      "cell_type": "code",
      "execution_count": 24,
      "metadata": {
        "id": "_t7TReRnJ6Ha"
      },
      "outputs": [],
      "source": [
        "# Encoder 구현\n",
        "class Encoder(tf.keras.Model):\n",
        "    def __init__(self,\n",
        "                    n_layers,\n",
        "                    d_model,\n",
        "                    n_heads,\n",
        "                    d_ff,\n",
        "                    dropout):\n",
        "        super(Encoder, self).__init__()\n",
        "        self.n_layers = n_layers\n",
        "        self.enc_layers = [EncoderLayer(d_model, n_heads, d_ff, dropout) \n",
        "                        for _ in range(n_layers)]\n",
        "    \n",
        "        self.do = tf.keras.layers.Dropout(dropout)\n",
        "        \n",
        "    def call(self, x, mask):\n",
        "        out = x\n",
        "    \n",
        "        enc_attns = list()\n",
        "        for i in range(self.n_layers):\n",
        "            out, enc_attn = self.enc_layers[i](out, mask)\n",
        "            enc_attns.append(enc_attn)\n",
        "        \n",
        "        return out, enc_attns"
      ]
    },
    {
      "cell_type": "markdown",
      "metadata": {
        "id": "8YunOOwmJkOO"
      },
      "source": [
        ">Decoder"
      ]
    },
    {
      "cell_type": "code",
      "execution_count": 25,
      "metadata": {
        "id": "bijSvVTEJ8Ik"
      },
      "outputs": [],
      "source": [
        "# Decoder 구현\n",
        "class Decoder(tf.keras.Model):\n",
        "    def __init__(self,\n",
        "                    n_layers,\n",
        "                    d_model,\n",
        "                    n_heads,\n",
        "                    d_ff,\n",
        "                    dropout):\n",
        "        super(Decoder, self).__init__()\n",
        "        self.n_layers = n_layers\n",
        "        self.dec_layers = [DecoderLayer(d_model, n_heads, d_ff, dropout) \n",
        "                            for _ in range(n_layers)]\n",
        "                            \n",
        "    def call(self, x, enc_out, dec_enc_mask, padding_mask):\n",
        "        out = x\n",
        "    \n",
        "        dec_attns = list()\n",
        "        dec_enc_attns = list()\n",
        "        for i in range(self.n_layers):\n",
        "            out, dec_attn, dec_enc_attn = \\\n",
        "            self.dec_layers[i](out, enc_out, dec_enc_mask, padding_mask)\n",
        "\n",
        "            dec_attns.append(dec_attn)\n",
        "            dec_enc_attns.append(dec_enc_attn)\n",
        "\n",
        "        return out, dec_attns, dec_enc_attns"
      ]
    },
    {
      "cell_type": "markdown",
      "metadata": {
        "id": "87j1dx7oJxms"
      },
      "source": [
        "> Transformer 전체 모델 조립"
      ]
    },
    {
      "cell_type": "code",
      "execution_count": 26,
      "metadata": {
        "id": "N7pHmviOJ-Xo"
      },
      "outputs": [],
      "source": [
        "\n",
        "class Transformer(tf.keras.Model):\n",
        "    def __init__(self,\n",
        "                    n_layers,\n",
        "                    d_model,\n",
        "                    n_heads,\n",
        "                    d_ff,\n",
        "                    src_vocab_size,\n",
        "                    tgt_vocab_size,\n",
        "                    pos_len,\n",
        "                    dropout=0.2,\n",
        "                    shared_fc=True,\n",
        "                    shared_emb=False):\n",
        "        super(Transformer, self).__init__()\n",
        "        \n",
        "        self.d_model = tf.cast(d_model, tf.float32)\n",
        "\n",
        "        if shared_emb:\n",
        "            self.enc_emb = self.dec_emb = \\\n",
        "            tf.keras.layers.Embedding(src_vocab_size, d_model)\n",
        "        else:\n",
        "            self.enc_emb = tf.keras.layers.Embedding(src_vocab_size, d_model)\n",
        "            self.dec_emb = tf.keras.layers.Embedding(tgt_vocab_size, d_model)\n",
        "\n",
        "        self.pos_encoding = positional_encoding(pos_len, d_model)\n",
        "        self.do = tf.keras.layers.Dropout(dropout)\n",
        "\n",
        "        self.encoder = Encoder(n_layers, d_model, n_heads, d_ff, dropout)\n",
        "        self.decoder = Decoder(n_layers, d_model, n_heads, d_ff, dropout)\n",
        "\n",
        "        self.fc = tf.keras.layers.Dense(tgt_vocab_size)\n",
        "\n",
        "        self.shared_fc = shared_fc\n",
        "\n",
        "        if shared_fc:\n",
        "            self.fc.set_weights(tf.transpose(self.dec_emb.weights))\n",
        "\n",
        "    def embedding(self, emb, x):\n",
        "        seq_len = x.shape[1]\n",
        "\n",
        "        out = emb(x)\n",
        "\n",
        "        if self.shared_fc: out *= tf.math.sqrt(self.d_model)\n",
        "\n",
        "        out += self.pos_encoding[np.newaxis, ...][:, :seq_len, :]\n",
        "        out = self.do(out)\n",
        "\n",
        "        return out\n",
        "\n",
        "        \n",
        "    def call(self, enc_in, dec_in, enc_mask, dec_enc_mask, dec_mask):\n",
        "        enc_in = self.embedding(self.enc_emb, enc_in)\n",
        "        dec_in = self.embedding(self.dec_emb, dec_in)\n",
        "\n",
        "        enc_out, enc_attns = self.encoder(enc_in, enc_mask)\n",
        "        \n",
        "        dec_out, dec_attns, dec_enc_attns = \\\n",
        "        self.decoder(dec_in, enc_out, dec_enc_mask, dec_mask)\n",
        "        \n",
        "        logits = self.fc(dec_out)\n",
        "        \n",
        "        return logits, enc_attns, dec_attns, dec_enc_attns"
      ]
    },
    {
      "cell_type": "markdown",
      "metadata": {
        "id": "ptlgKVhJNi_0"
      },
      "source": [
        "### (2) 모델 훈련"
      ]
    },
    {
      "cell_type": "markdown",
      "metadata": {
        "id": "DZhAbbcGJcM1"
      },
      "source": [
        "> 모델 인스턴스 생성"
      ]
    },
    {
      "cell_type": "code",
      "execution_count": 27,
      "metadata": {
        "id": "woVNVf7VKAoL"
      },
      "outputs": [],
      "source": [
        "# 주어진 하이퍼파라미터로 Transformer 인스턴스 생성\n",
        "\n",
        "transformer = Transformer(\n",
        "    n_layers=2,\n",
        "    d_model=512,\n",
        "    n_heads=8,\n",
        "    d_ff=2048,\n",
        "    src_vocab_size=VOCAB_SIZE,\n",
        "    tgt_vocab_size=VOCAB_SIZE,\n",
        "    pos_len=200,\n",
        "    dropout=0.3,\n",
        "    shared_fc=True,\n",
        "    shared_emb=True)\n",
        "\t\t\n",
        "d_model = 512\n"
      ]
    },
    {
      "cell_type": "markdown",
      "metadata": {
        "id": "VLhEilPtJ6F-"
      },
      "source": [
        ">Learning Rate Scheduler 정의\n"
      ]
    },
    {
      "cell_type": "code",
      "execution_count": 28,
      "metadata": {
        "id": "7h-Y2ogKKCuf"
      },
      "outputs": [],
      "source": [
        "# Learning Rate Scheduler 구현\n",
        "class LearningRateScheduler(tf.keras.optimizers.schedules.LearningRateSchedule):\n",
        "    def __init__(self, d_model, warmup_steps=4000):\n",
        "        super(LearningRateScheduler, self).__init__()\n",
        "        \n",
        "        self.d_model = d_model\n",
        "        self.warmup_steps = warmup_steps\n",
        "    \n",
        "    def __call__(self, step):\n",
        "        arg1 = step ** -0.5\n",
        "        arg2 = step * (self.warmup_steps ** -1.5)\n",
        "        \n",
        "        return (self.d_model ** -0.5) * tf.math.minimum(arg1, arg2)"
      ]
    },
    {
      "cell_type": "markdown",
      "metadata": {
        "id": "FYuykPW_J90O"
      },
      "source": [
        ">Learning Rate & Optimizer"
      ]
    },
    {
      "cell_type": "code",
      "execution_count": 29,
      "metadata": {
        "id": "BDXk4ewfKEfq"
      },
      "outputs": [],
      "source": [
        "\n",
        "# Learning Rate 인스턴스 선언 & Optimizer 구현\n",
        "learning_rate = LearningRateScheduler(d_model)\n",
        "\n",
        "optimizer = tf.keras.optimizers.Adam(learning_rate,\n",
        "                                        beta_1=0.9,\n",
        "                                        beta_2=0.98, \n",
        "                                        epsilon=1e-9)\n"
      ]
    },
    {
      "cell_type": "markdown",
      "metadata": {
        "id": "Zy9-0aMEKDF5"
      },
      "source": [
        ">Loss Function 정의"
      ]
    },
    {
      "cell_type": "code",
      "execution_count": 30,
      "metadata": {
        "id": "dZ9GvA30KGsV"
      },
      "outputs": [],
      "source": [
        "# Loss Function 정의\n",
        "loss_object = tf.keras.losses.SparseCategoricalCrossentropy(\n",
        "    from_logits=True, reduction='none')\n",
        "\n",
        "def loss_function(real, pred):\n",
        "    mask = tf.math.logical_not(tf.math.equal(real, 0))\n",
        "    loss_ = loss_object(real, pred)\n",
        "\n",
        "    mask = tf.cast(mask, dtype=loss_.dtype)\n",
        "    loss_ *= mask\n",
        "\n",
        "    return tf.reduce_sum(loss_)/tf.reduce_sum(mask)\n"
      ]
    },
    {
      "cell_type": "markdown",
      "metadata": {
        "id": "WGmuoD5BKIXu"
      },
      "source": [
        ">Train Step 정의\n"
      ]
    },
    {
      "cell_type": "code",
      "execution_count": 31,
      "metadata": {
        "id": "9r0uOBNZKt4A"
      },
      "outputs": [],
      "source": [
        "# Train Step 정의\n",
        "@tf.function()\n",
        "def train_step(src, tgt, model, optimizer):\n",
        "    tgt_in = tgt[:, :-1]  # Decoder의 input\n",
        "    gold = tgt[:, 1:]     # Decoder의 output과 비교하기 위해 right shift를 통해 생성한 최종 타겟\n",
        "\n",
        "    enc_mask, dec_enc_mask, dec_mask = generate_masks(src, tgt_in)\n",
        "\n",
        "    with tf.GradientTape() as tape:\n",
        "        predictions, enc_attns, dec_attns, dec_enc_attns = \\\n",
        "        model(src, tgt_in, enc_mask, dec_enc_mask, dec_mask)\n",
        "        loss = loss_function(gold, predictions)\n",
        "\n",
        "    gradients = tape.gradient(loss, model.trainable_variables)    \n",
        "    optimizer.apply_gradients(zip(gradients, model.trainable_variables))\n",
        "\n",
        "    return loss, enc_attns, dec_attns, dec_enc_attns\n"
      ]
    },
    {
      "cell_type": "markdown",
      "metadata": {
        "id": "FrxwaUTIKRYO"
      },
      "source": [
        ">훈련시키기"
      ]
    },
    {
      "cell_type": "code",
      "execution_count": 32,
      "metadata": {
        "colab": {
          "base_uri": "https://localhost:8080/",
          "height": 113,
          "referenced_widgets": [
            "11f82c49cc0543df940912a9f886aeff",
            "8e612b801bb2439796a83e5ef97be250",
            "14e43a5a450a46039e8ecbba458c7fcb",
            "760c290baba741649cd0a1aa076b3b32",
            "5428e9aaad524f01b7684a848e04fac4",
            "3a6b651f09cf468985fdd46050f03063",
            "ff17974d9b604b6ea1e7d8f1b11e35f7",
            "35014b6a6b2845e98c84b27fd584aec0",
            "53d75fe766e347038052ead70e1b1f57",
            "10ad58b324364beeb20e3c34b8c319a1",
            "3e8346bd52284a82819a68f69af5e30a",
            "7fefffaf2d8142a4a2686dd07e2f3377",
            "3605e5d70fed4c92a23db5ca0190f9d3",
            "7b12c21f0bd34832acbf96b195e1caef",
            "b2543ebdb4b242eaa800e31dd482979e",
            "09db9d9b940748b38bec7de5a58ab1fb",
            "15271d397759486ca14d687c4679250e",
            "e116a9deaad7412a8041e775968cc167",
            "43f6d0d6353c4e30b9029dfcfc314e9a",
            "85959326b605473087f4fe518eb0162c",
            "642afc9e0e4048b4ac95cd6450abfa41",
            "8a556df87e5e4416a0a1720be0fbe5e1",
            "0c25f9b2e2d44235a1284e755c112fd8",
            "ba836627bfc8409da084df52d5c3354e",
            "0e332753344544c489cf53ddebb50334",
            "ca69ceae196e499c8b9d6f8db389ebd9",
            "d2658bd746a543239d5ad0dc8c12c08a",
            "096da71d416441e99cfed9585a826cc1",
            "7ca1a272335746088a1c4268f6fb064f",
            "23b6889e47d5408e8a2c3f006a2a4687",
            "a5e26df72580436ab26206d919feb9f8",
            "2b35377a89d147418ae8d833d7111902",
            "f8eb59976cb242b9babab76850a4ab20"
          ]
        },
        "id": "zx1iHubOK1oP",
        "outputId": "b2867556-60b7-406a-eb71-35650ddbc254"
      },
      "outputs": [
        {
          "output_type": "display_data",
          "data": {
            "text/plain": [
              "  0%|          | 0/1850 [00:00<?, ?it/s]"
            ],
            "application/vnd.jupyter.widget-view+json": {
              "version_major": 2,
              "version_minor": 0,
              "model_id": "11f82c49cc0543df940912a9f886aeff"
            }
          },
          "metadata": {}
        },
        {
          "output_type": "display_data",
          "data": {
            "text/plain": [
              "  0%|          | 0/1850 [00:00<?, ?it/s]"
            ],
            "application/vnd.jupyter.widget-view+json": {
              "version_major": 2,
              "version_minor": 0,
              "model_id": "7fefffaf2d8142a4a2686dd07e2f3377"
            }
          },
          "metadata": {}
        },
        {
          "output_type": "display_data",
          "data": {
            "text/plain": [
              "  0%|          | 0/1850 [00:00<?, ?it/s]"
            ],
            "application/vnd.jupyter.widget-view+json": {
              "version_major": 2,
              "version_minor": 0,
              "model_id": "0c25f9b2e2d44235a1284e755c112fd8"
            }
          },
          "metadata": {}
        }
      ],
      "source": [
        "# 훈련시키기\n",
        "EPOCHS = 3\n",
        "\n",
        "for epoch in range(EPOCHS):\n",
        "    total_loss = 0\n",
        "    \n",
        "    dataset_count = tf.data.experimental.cardinality(train_dataset).numpy()\n",
        "    tqdm_bar = tqdm(total=dataset_count)\n",
        "    for step, (enc_batch, dec_batch) in enumerate(train_dataset):\n",
        "        batch_loss, enc_attns, dec_attns, dec_enc_attns = \\\n",
        "        train_step(enc_batch,\n",
        "                    dec_batch,\n",
        "                    transformer,\n",
        "                    optimizer)\n",
        "\n",
        "        total_loss += batch_loss\n",
        "        \n",
        "        tqdm_bar.set_description_str('Epoch %2d' % (epoch + 1))\n",
        "        tqdm_bar.set_postfix_str('Loss %.4f' % (total_loss.numpy() / (step + 1)))\n",
        "        tqdm_bar.update()"
      ]
    },
    {
      "cell_type": "markdown",
      "metadata": {
        "id": "5fG8gNq7IG5E"
      },
      "source": [
        "##3. Translation Evaluation\n",
        "  * (1) BLEU Score\n",
        "  * (2) Beam Search Decoder"
      ]
    },
    {
      "cell_type": "markdown",
      "metadata": {
        "id": "OSau6SP1N_4m"
      },
      "source": [
        "### (1) BLEU Score"
      ]
    },
    {
      "cell_type": "markdown",
      "metadata": {
        "id": "rOQkne8uKmEe"
      },
      "source": [
        ">NLTK를 활용한 BLEU Score"
      ]
    },
    {
      "cell_type": "markdown",
      "metadata": {
        "id": "JJj1-MK7LFnn"
      },
      "source": [
        "`NLTK(Natural Language Tool Kit)` : 자연어 처리에 큰 도움이 되는  라이브러리. \n",
        "* nltk 가 BLEU Score를 지원\n"
      ]
    },
    {
      "cell_type": "code",
      "execution_count": 33,
      "metadata": {
        "id": "vgWYsQjvLA9i",
        "colab": {
          "base_uri": "https://localhost:8080/"
        },
        "outputId": "10135d3b-5326-4592-f916-e9205650a5d7"
      },
      "outputs": [
        {
          "output_type": "stream",
          "name": "stdout",
          "text": [
            "원문: ['많', '은', '자연어', '처리', '연구자', '들', '이', '트랜스포머', '를', '선호', '한다']\n",
            "번역문: ['적', '은', '자연어', '학', '개발자', '들', '가', '트랜스포머', '을', '선호', '한다', '요']\n",
            "BLEU Score: 8.190757052088229e-155\n"
          ]
        },
        {
          "output_type": "stream",
          "name": "stderr",
          "text": [
            "/usr/local/lib/python3.7/dist-packages/nltk/translate/bleu_score.py:552: UserWarning: \n",
            "The hypothesis contains 0 counts of 3-gram overlaps.\n",
            "Therefore the BLEU score evaluates to 0, independently of\n",
            "how many N-gram overlaps of lower order it contains.\n",
            "Consider using lower n-gram order or use SmoothingFunction()\n",
            "  warnings.warn(_msg)\n",
            "/usr/local/lib/python3.7/dist-packages/nltk/translate/bleu_score.py:552: UserWarning: \n",
            "The hypothesis contains 0 counts of 4-gram overlaps.\n",
            "Therefore the BLEU score evaluates to 0, independently of\n",
            "how many N-gram overlaps of lower order it contains.\n",
            "Consider using lower n-gram order or use SmoothingFunction()\n",
            "  warnings.warn(_msg)\n"
          ]
        }
      ],
      "source": [
        "# 아래 두 문장을 바꿔가며 테스트 해보세요\n",
        "reference = \"많 은 자연어 처리 연구자 들 이 트랜스포머 를 선호 한다\".split()\n",
        "candidate = \"적 은 자연어 학 개발자 들 가 트랜스포머 을 선호 한다 요\".split()\n",
        "\n",
        "print(\"원문:\", reference)\n",
        "print(\"번역문:\", candidate)\n",
        "print(\"BLEU Score:\", sentence_bleu([reference], candidate))"
      ]
    },
    {
      "cell_type": "code",
      "execution_count": 34,
      "metadata": {
        "id": "d-t5yLp5LaXs",
        "colab": {
          "base_uri": "https://localhost:8080/"
        },
        "outputId": "eed900ef-6e73-469b-ab8b-7153a166a8e0"
      },
      "outputs": [
        {
          "output_type": "stream",
          "name": "stdout",
          "text": [
            "1-gram: 0.5\n",
            "2-gram: 0.18181818181818182\n",
            "3-gram: 2.2250738585072626e-308\n",
            "4-gram: 2.2250738585072626e-308\n"
          ]
        }
      ],
      "source": [
        "print(\"1-gram:\", sentence_bleu([reference], candidate, weights=[1, 0, 0, 0]))\n",
        "print(\"2-gram:\", sentence_bleu([reference], candidate, weights=[0, 1, 0, 0]))\n",
        "print(\"3-gram:\", sentence_bleu([reference], candidate, weights=[0, 0, 1, 0]))\n",
        "print(\"4-gram:\", sentence_bleu([reference], candidate, weights=[0, 0, 0, 1]))"
      ]
    },
    {
      "cell_type": "markdown",
      "metadata": {
        "id": "FhVAFXpEK0F7"
      },
      "source": [
        ">BLEU Score 보정하기\n",
        "\n",
        ":`SmoothingFunction()` 활용"
      ]
    },
    {
      "cell_type": "code",
      "execution_count": 35,
      "metadata": {
        "id": "4H-kEGEoLVIw",
        "colab": {
          "base_uri": "https://localhost:8080/"
        },
        "outputId": "bdf25470-1459-4159-cd30-01cf2cc32976"
      },
      "outputs": [
        {
          "output_type": "stream",
          "name": "stdout",
          "text": [
            "BLEU-1: 0.5\n",
            "BLEU-2: 0.18181818181818182\n",
            "BLEU-3: 0.010000000000000004\n",
            "BLEU-4: 0.011111111111111112\n",
            "\n",
            "BLEU-Total: 0.05637560315259291\n"
          ]
        }
      ],
      "source": [
        "def calculate_bleu(reference, candidate, weights=[0.25, 0.25, 0.25, 0.25]):\n",
        "    return sentence_bleu([reference],\n",
        "                         candidate,\n",
        "                         weights=weights,\n",
        "                         smoothing_function=SmoothingFunction().method1)  # smoothing_function 적용\n",
        "\n",
        "print(\"BLEU-1:\", calculate_bleu(reference, candidate, weights=[1, 0, 0, 0]))\n",
        "print(\"BLEU-2:\", calculate_bleu(reference, candidate, weights=[0, 1, 0, 0]))\n",
        "print(\"BLEU-3:\", calculate_bleu(reference, candidate, weights=[0, 0, 1, 0]))\n",
        "print(\"BLEU-4:\", calculate_bleu(reference, candidate, weights=[0, 0, 0, 1]))\n",
        "\n",
        "print(\"\\nBLEU-Total:\", calculate_bleu(reference, candidate))"
      ]
    },
    {
      "cell_type": "markdown",
      "metadata": {
        "id": "GXos5tF4LjLZ"
      },
      "source": [
        ">트랜스포머 모델의 번역 성능 측정"
      ]
    },
    {
      "cell_type": "markdown",
      "metadata": {
        "id": "ybaKYWu1MNv8"
      },
      "source": [
        "`translate()` 함수를 정의"
      ]
    },
    {
      "cell_type": "code",
      "execution_count": 36,
      "metadata": {
        "id": "JVyk4pQXL1KN"
      },
      "outputs": [],
      "source": [
        "def translate(tokens, model, src_tokenizer, tgt_tokenizer):\n",
        "    padded_tokens = tf.keras.preprocessing.sequence.pad_sequences([tokens],\n",
        "                                                           maxlen=MAX_LEN,\n",
        "                                                           padding='post')\n",
        "    ids = []\n",
        "    output = tf.expand_dims([tgt_tokenizer.bos_id()], 0)   \n",
        "    for i in range(MAX_LEN):\n",
        "        enc_padding_mask, combined_mask, dec_padding_mask = \\\n",
        "        generate_masks(padded_tokens, output)\n",
        "\n",
        "        predictions, _, _, _ = model(padded_tokens, \n",
        "                                      output,\n",
        "                                      enc_padding_mask,\n",
        "                                      combined_mask,\n",
        "                                      dec_padding_mask)\n",
        "\n",
        "        predicted_id = \\\n",
        "        tf.argmax(tf.math.softmax(predictions, axis=-1)[0, -1]).numpy().item()\n",
        "\n",
        "        if tgt_tokenizer.eos_id() == predicted_id:\n",
        "            result = tgt_tokenizer.decode_ids(ids)  \n",
        "            return result\n",
        "\n",
        "        ids.append(predicted_id)\n",
        "        output = tf.concat([output, tf.expand_dims([predicted_id], 0)], axis=-1)\n",
        "\n",
        "    result = tgt_tokenizer.decode_ids(ids)  \n",
        "    return result\n"
      ]
    },
    {
      "cell_type": "markdown",
      "metadata": {
        "id": "zDYx6kqMMXrc"
      },
      "source": [
        " `eval_bleu_single()` : 한 문장만 평가\n",
        " \n",
        " * 번역한 문장의 BLEU Score를 평가 "
      ]
    },
    {
      "cell_type": "code",
      "execution_count": 37,
      "metadata": {
        "id": "lwPmuSp0L3m5"
      },
      "outputs": [],
      "source": [
        "def eval_bleu_single(model, src_sentence, tgt_sentence, src_tokenizer, tgt_tokenizer, verbose=True):\n",
        "    src_tokens = src_tokenizer.encode_as_ids(src_sentence)\n",
        "    tgt_tokens = tgt_tokenizer.encode_as_ids(tgt_sentence)\n",
        "\n",
        "    if (len(src_tokens) > MAX_LEN): return None\n",
        "    if (len(tgt_tokens) > MAX_LEN): return None\n",
        "\n",
        "    reference = tgt_sentence.split()\n",
        "    candidate = translate(src_tokens, model, src_tokenizer, tgt_tokenizer).split()\n",
        "\n",
        "    score = sentence_bleu([reference], candidate,\n",
        "                          smoothing_function=SmoothingFunction().method1)\n",
        "\n",
        "    if verbose:\n",
        "        print(\"Source Sentence: \", src_sentence)\n",
        "        print(\"Model Prediction: \", candidate)\n",
        "        print(\"Real: \", reference)\n",
        "        print(\"Score: %lf\\n\" % score)\n",
        "        \n",
        "    return score\n",
        "        \n"
      ]
    },
    {
      "cell_type": "code",
      "execution_count": 38,
      "metadata": {
        "id": "cSfinE94L5_r",
        "colab": {
          "base_uri": "https://localhost:8080/"
        },
        "outputId": "13598088-a758-4c0b-de26-910d0c5f75cf"
      },
      "outputs": [
        {
          "output_type": "stream",
          "name": "stdout",
          "text": [
            "Source Sentence:  tom made fun of mary.\n",
            "Model Prediction:  ['tom', 'se', 'divirtió', 'mucho', 'a', 'mary', 'de', 'mary?']\n",
            "Real:  ['tom', 'se', 'burló', 'de', 'mary.']\n",
            "Score: 0.065006\n",
            "\n"
          ]
        },
        {
          "output_type": "execute_result",
          "data": {
            "text/plain": [
              "0.06500593260343691"
            ]
          },
          "metadata": {},
          "execution_count": 38
        }
      ],
      "source": [
        "# 인덱스를 바꿔가며 테스트해 보세요\n",
        "test_idx = 0\n",
        "\n",
        "eval_bleu_single(transformer, \n",
        "                 test_eng_sentences[test_idx], \n",
        "                 test_spa_sentences[test_idx], \n",
        "                 tokenizer, \n",
        "                 tokenizer)"
      ]
    },
    {
      "cell_type": "markdown",
      "metadata": {
        "id": "Lua7-SSkM5SD"
      },
      "source": [
        "` eval_bleu() `: 전체 테스트 데이터에 대해서 평가\n",
        "\n",
        "* eval_bleu_single을 이용해서 eval_bleu 함수"
      ]
    },
    {
      "cell_type": "code",
      "execution_count": 39,
      "metadata": {
        "id": "XQ1OySCuL8Dh"
      },
      "outputs": [],
      "source": [
        "def eval_bleu(model, src_sentences, tgt_sentence, src_tokenizer, tgt_tokenizer, verbose=True):\n",
        "    total_score = 0.0\n",
        "    sample_size = len(src_sentences)\n",
        "    \n",
        "    for idx in tqdm(range(sample_size)):\n",
        "        score = eval_bleu_single(model, src_sentences[idx], tgt_sentence[idx], src_tokenizer, tgt_tokenizer, verbose)\n",
        "        if not score: continue\n",
        "        \n",
        "        total_score += score\n",
        "    \n",
        "    print(\"Num of Sample:\", sample_size)\n",
        "    print(\"Total Score:\", total_score / sample_size)"
      ]
    },
    {
      "cell_type": "code",
      "execution_count": 40,
      "metadata": {
        "id": "OERlxwMeL-Hr",
        "colab": {
          "base_uri": "https://localhost:8080/",
          "height": 85,
          "referenced_widgets": [
            "82f68879dc904dfcae27296f629b2e63",
            "a66b6a3b05484e8d824b03a64a92af7a",
            "c68b469836464a7dae23a20388a76189",
            "bb268a4d46a64be3b72aa89c0da59dc6",
            "8673b831598545eaba03c6b61513fc9a",
            "50ddfd59d3ef44edb5a0704e243f4bc6",
            "d9f3b74feed344f792fcd4ea862338a5",
            "5b7f388495ef4806a4f30c789f9c1d29",
            "9d9275eb80a94e9e9e06af1e7f17334e",
            "84df787e3d4c49689527f215dd683a53",
            "e1c605023c244658b9b4975d3aa67886"
          ]
        },
        "outputId": "a99420a1-f9fb-4b0b-bbfb-c94a2070f56a"
      },
      "outputs": [
        {
          "output_type": "display_data",
          "data": {
            "text/plain": [
              "  0%|          | 0/594 [00:00<?, ?it/s]"
            ],
            "application/vnd.jupyter.widget-view+json": {
              "version_major": 2,
              "version_minor": 0,
              "model_id": "82f68879dc904dfcae27296f629b2e63"
            }
          },
          "metadata": {}
        },
        {
          "output_type": "stream",
          "name": "stdout",
          "text": [
            "Num of Sample: 594\n",
            "Total Score: 0.09369089364696591\n"
          ]
        }
      ],
      "source": [
        "eval_bleu(transformer, test_eng_sentences, test_spa_sentences, tokenizer, tokenizer, verbose=False)"
      ]
    },
    {
      "cell_type": "markdown",
      "metadata": {
        "id": "JpVbs2Q-OK4l"
      },
      "source": [
        "### (2) Beam Search Decoder"
      ]
    },
    {
      "cell_type": "markdown",
      "metadata": {
        "id": "GK24tr6TQQm3"
      },
      "source": [
        "`beam_search_decoder()` :"
      ]
    },
    {
      "cell_type": "code",
      "execution_count": 41,
      "metadata": {
        "id": "DpyyZhYOO_uo"
      },
      "outputs": [],
      "source": [
        "def beam_search_decoder(prob, beam_size):\n",
        "    sequences = [[[], 1.0]]  # 생성된 문장과 점수를 저장\n",
        "\n",
        "    for tok in prob:\n",
        "        all_candidates = []\n",
        "\n",
        "        for seq, score in sequences:\n",
        "            for idx, p in enumerate(tok): # 각 단어의 확률을 총점에 누적 곱\n",
        "                candidate = [seq + [idx], score * -math.log(-(p-1))]\n",
        "                all_candidates.append(candidate)\n",
        "\n",
        "        ordered = sorted(all_candidates,\n",
        "                         key=lambda tup:tup[1],\n",
        "                         reverse=True) # 총점 순 정렬\n",
        "        sequences = ordered[:beam_size] # Beam Size에 해당하는 문장만 저장 \n",
        "\n",
        "    return sequences"
      ]
    },
    {
      "cell_type": "code",
      "execution_count": 42,
      "metadata": {
        "id": "95Tx8UAfPKb6",
        "colab": {
          "base_uri": "https://localhost:8080/"
        },
        "outputId": "ada29282-a8f6-491a-a1b5-1ccf6ff7f0d3"
      },
      "outputs": [
        {
          "output_type": "stream",
          "name": "stdout",
          "text": [
            "커피 를 가져 도 될 까요? <pad> <pad> <pad> <pad>  // Score: 42.5243\n",
            "커피 를 마셔 도 될 까요? <pad> <pad> <pad> <pad>  // Score: 28.0135\n",
            "마셔 를 가져 도 될 까요? <pad> <pad> <pad> <pad>  // Score: 17.8983\n"
          ]
        }
      ],
      "source": [
        "vocab = {\n",
        "    0: \"<pad>\",\n",
        "    1: \"까요?\",\n",
        "    2: \"커피\",\n",
        "    3: \"마셔\",\n",
        "    4: \"가져\",\n",
        "    5: \"될\",\n",
        "    6: \"를\",\n",
        "    7: \"한\",\n",
        "    8: \"잔\",\n",
        "    9: \"도\",\n",
        "}\n",
        "\n",
        "prob_seq = [[0.01, 0.01, 0.60, 0.32, 0.01, 0.01, 0.01, 0.01, 0.01, 0.01],\n",
        "            [0.01, 0.01, 0.01, 0.01, 0.01, 0.01, 0.75, 0.01, 0.01, 0.17],\n",
        "            [0.01, 0.01, 0.01, 0.35, 0.48, 0.10, 0.01, 0.01, 0.01, 0.01],\n",
        "            [0.24, 0.01, 0.01, 0.01, 0.01, 0.01, 0.01, 0.01, 0.01, 0.68],\n",
        "            [0.01, 0.01, 0.12, 0.01, 0.01, 0.80, 0.01, 0.01, 0.01, 0.01],\n",
        "            [0.01, 0.81, 0.01, 0.01, 0.01, 0.01, 0.11, 0.01, 0.01, 0.01],\n",
        "            [0.70, 0.22, 0.01, 0.01, 0.01, 0.01, 0.01, 0.01, 0.01, 0.01],\n",
        "            [0.91, 0.01, 0.01, 0.01, 0.01, 0.01, 0.01, 0.01, 0.01, 0.01],\n",
        "            [0.91, 0.01, 0.01, 0.01, 0.01, 0.01, 0.01, 0.01, 0.01, 0.01],\n",
        "            [0.91, 0.01, 0.01, 0.01, 0.01, 0.01, 0.01, 0.01, 0.01, 0.01]]\n",
        "\n",
        "prob_seq = np.array(prob_seq)\n",
        "beam_size = 3\n",
        "\n",
        "result = beam_search_decoder(prob_seq, beam_size)\n",
        "\n",
        "for seq, score in result:\n",
        "    sentence = \"\"\n",
        "\n",
        "    for word in seq:\n",
        "        sentence += vocab[word] + \" \"\n",
        "\n",
        "    print(sentence, \"// Score: %.4f\" % score)"
      ]
    },
    {
      "cell_type": "markdown",
      "metadata": {
        "id": "boR1L9NnLnUv"
      },
      "source": [
        ">Beam Search Decoder 작성 및 평가하기\n",
        "\n",
        "* calc_prob() : 각 단어의 확률값을 계산\n",
        "* beam_search_decoder() : Beam Search를 기반으로 동작\n",
        "* beam_bleu() : 생성된 문장에 대해 BLEU Score를 출력"
      ]
    },
    {
      "cell_type": "markdown",
      "metadata": {
        "id": "vh3YuL7BRC7Q"
      },
      "source": [
        "`calc_prob()` : 각 단어의 확률값을 계산"
      ]
    },
    {
      "cell_type": "code",
      "execution_count": 43,
      "metadata": {
        "id": "ZDtPRGlfPyfq"
      },
      "outputs": [],
      "source": [
        "# calc_prob() 구현\n",
        "\n",
        "def calc_prob(src_ids, tgt_ids, model):\n",
        "    enc_padding_mask, combined_mask, dec_padding_mask = \\\n",
        "    generate_masks(src_ids, tgt_ids)\n",
        "\n",
        "    predictions, enc_attns, dec_attns, dec_enc_attns =\\\n",
        "    model(src_ids, \n",
        "            tgt_ids,\n",
        "            enc_padding_mask,\n",
        "            combined_mask,\n",
        "            dec_padding_mask)\n",
        "    \n",
        "    return tf.math.softmax(predictions, axis=-1)\n"
      ]
    },
    {
      "cell_type": "markdown",
      "metadata": {
        "id": "xQZLqQ_eQAsq"
      },
      "source": [
        "`beam_search_decoder()` : Beam Search를 기반으로 동작"
      ]
    },
    {
      "cell_type": "code",
      "execution_count": 44,
      "metadata": {
        "id": "FE7SpdzDP0he"
      },
      "outputs": [],
      "source": [
        "# beam_search_decoder() 구현\n",
        "def beam_search_decoder(sentence, \n",
        "                        src_len,\n",
        "                        tgt_len,\n",
        "                        model,\n",
        "                        src_tokenizer,\n",
        "                        tgt_tokenizer,\n",
        "                        beam_size):\n",
        "    tokens = src_tokenizer.encode_as_ids(sentence)\n",
        "    \n",
        "    src_in = tf.keras.preprocessing.sequence.pad_sequences([tokens],\n",
        "                                                            maxlen=src_len,\n",
        "                                                            padding='post')\n",
        "\n",
        "    pred_cache = np.zeros((beam_size * beam_size, tgt_len), dtype=np.int64)\n",
        "    pred_tmp = np.zeros((beam_size, tgt_len), dtype=np.int64)\n",
        "\n",
        "    eos_flag = np.zeros((beam_size, ), dtype=np.int64)\n",
        "    scores = np.ones((beam_size, ))\n",
        "\n",
        "    pred_tmp[:, 0] = tgt_tokenizer.bos_id()\n",
        "\n",
        "    dec_in = tf.expand_dims(pred_tmp[0, :1], 0)\n",
        "    prob = calc_prob(src_in, dec_in, model)[0, -1].numpy()\n",
        "\n",
        "    for seq_pos in range(1, tgt_len):\n",
        "        score_cache = np.ones((beam_size * beam_size, ))\n",
        "\n",
        "        # init\n",
        "        for branch_idx in range(beam_size):\n",
        "            cache_pos = branch_idx*beam_size\n",
        "\n",
        "            score_cache[cache_pos:cache_pos+beam_size] = scores[branch_idx]\n",
        "            pred_cache[cache_pos:cache_pos+beam_size, :seq_pos] = \\\n",
        "            pred_tmp[branch_idx, :seq_pos]\n",
        "\n",
        "        for branch_idx in range(beam_size):\n",
        "            cache_pos = branch_idx*beam_size\n",
        "\n",
        "            if seq_pos != 1:   # 모든 Branch를 로 시작하는 경우를 방지\n",
        "                dec_in = pred_cache[branch_idx, :seq_pos]\n",
        "                dec_in = tf.expand_dims(dec_in, 0)\n",
        "\n",
        "                prob = calc_prob(src_in, dec_in, model)[0, -1].numpy()\n",
        "\n",
        "            for beam_idx in range(beam_size):\n",
        "                max_idx = np.argmax(prob)\n",
        "\n",
        "                score_cache[cache_pos+beam_idx] *= prob[max_idx]\n",
        "                pred_cache[cache_pos+beam_idx, seq_pos] = max_idx\n",
        "\n",
        "                prob[max_idx] = -1\n",
        "\n",
        "        for beam_idx in range(beam_size):\n",
        "            if eos_flag[beam_idx] == -1: continue\n",
        "\n",
        "            max_idx = np.argmax(score_cache)\n",
        "            prediction = pred_cache[max_idx, :seq_pos+1]\n",
        "\n",
        "            pred_tmp[beam_idx, :seq_pos+1] = prediction\n",
        "            scores[beam_idx] = score_cache[max_idx]\n",
        "            score_cache[max_idx] = -1\n",
        "\n",
        "            if prediction[-1] == tgt_tokenizer.eos_id():\n",
        "                eos_flag[beam_idx] = -1\n",
        "\n",
        "    pred = []\n",
        "    for long_pred in pred_tmp:\n",
        "        zero_idx = long_pred.tolist().index(tgt_tokenizer.eos_id())\n",
        "        short_pred = long_pred[:zero_idx+1]\n",
        "        pred.append(short_pred)\n",
        "    return pred"
      ]
    },
    {
      "cell_type": "markdown",
      "metadata": {
        "id": "91nUHlD4QyLF"
      },
      "source": []
    },
    {
      "cell_type": "code",
      "execution_count": 45,
      "metadata": {
        "id": "iIGcYr8VP2nl"
      },
      "outputs": [],
      "source": [
        "def calculate_bleu(reference, candidate, weights=[0.25, 0.25, 0.25, 0.25]):\n",
        "    return sentence_bleu([reference],\n",
        "                            candidate,\n",
        "                            weights=weights,\n",
        "                            smoothing_function=SmoothingFunction().method1)\n"
      ]
    },
    {
      "cell_type": "markdown",
      "metadata": {
        "id": "lAeEG8YfQ2Y4"
      },
      "source": [
        "`beam_bleu()` : 생성된 문장에 대해 BLEU Score를 출력"
      ]
    },
    {
      "cell_type": "code",
      "execution_count": 46,
      "metadata": {
        "id": "8XGlBW7RP4Y5"
      },
      "outputs": [],
      "source": [
        "# beam_bleu() 구현\n",
        "def beam_bleu(reference, ids, tokenizer):\n",
        "    reference = reference.split()\n",
        "\n",
        "    total_score = 0.0\n",
        "    for _id in ids:\n",
        "        candidate = tokenizer.decode_ids(_id.tolist()).split()\n",
        "        score = calculate_bleu(reference, candidate)\n",
        "\n",
        "        print(\"Reference:\", reference)\n",
        "        print(\"Candidate:\", candidate)\n",
        "        print(\"BLEU:\", calculate_bleu(reference, candidate))\n",
        "\n",
        "        total_score += score\n",
        "        \n",
        "    return total_score / len(ids)"
      ]
    },
    {
      "cell_type": "code",
      "execution_count": 47,
      "metadata": {
        "id": "GnNpkwtwP6D4",
        "colab": {
          "base_uri": "https://localhost:8080/"
        },
        "outputId": "5488c824-4cea-4121-c26c-5516430cea65"
      },
      "outputs": [
        {
          "output_type": "stream",
          "name": "stdout",
          "text": [
            "Reference: ['no', 'tengáis', 'tanta', 'prisa.']\n",
            "Candidate: ['no', 'seáis', 'prisa,', '¿verdad?']\n",
            "BLEU: 0.08034284189446518\n",
            "Reference: ['no', 'tengáis', 'tanta', 'prisa.']\n",
            "Candidate: ['no', 'se', 'pase', 'prisa,', '¿verdad?']\n",
            "BLEU: 0.05372849659117709\n",
            "Reference: ['no', 'tengáis', 'tanta', 'prisa.']\n",
            "Candidate: ['no', 'teáis', 'prisa,', '¿verdad?']\n",
            "BLEU: 0.08034284189446518\n",
            "Reference: ['no', 'tengáis', 'tanta', 'prisa.']\n",
            "Candidate: ['no', 'te', 'pase', 'prisa,', '¿verdad?']\n",
            "BLEU: 0.05372849659117709\n",
            "Reference: ['no', 'tengáis', 'tanta', 'prisa.']\n",
            "Candidate: ['no', 'paseáis', 'prisa,', '¿verdad?']\n",
            "BLEU: 0.08034284189446518\n",
            "0.06969710377314994\n"
          ]
        }
      ],
      "source": [
        "# 인덱스를 바꿔가며 확인해 보세요\n",
        "test_idx = 6\n",
        "\n",
        "ids = \\\n",
        "beam_search_decoder(test_eng_sentences[test_idx],\n",
        "                    MAX_LEN,\n",
        "                    MAX_LEN,\n",
        "                    transformer,\n",
        "                    tokenizer,\n",
        "                    tokenizer,\n",
        "                    beam_size=5)\n",
        "\n",
        "bleu = beam_bleu(test_spa_sentences[test_idx], ids, tokenizer)\n",
        "print(bleu)"
      ]
    },
    {
      "cell_type": "markdown",
      "metadata": {
        "id": "VksQXrAfIN0U"
      },
      "source": [
        "##4. Data Augmenatation"
      ]
    },
    {
      "cell_type": "code",
      "execution_count": 48,
      "metadata": {
        "id": "Jias1OKYZLVx",
        "colab": {
          "base_uri": "https://localhost:8080/",
          "height": 35
        },
        "outputId": "2087654c-b197-4a37-918f-dca488215072"
      },
      "outputs": [
        {
          "output_type": "stream",
          "name": "stdout",
          "text": [
            "[==================================================] 100.0% 376.1/376.1MB downloaded\n"
          ]
        }
      ],
      "source": [
        "import gensim.downloader as api\n",
        "\n",
        "wv = api.load('glove-wiki-gigaword-300')"
      ]
    },
    {
      "cell_type": "code",
      "execution_count": 49,
      "metadata": {
        "id": "VoTr2S6iZM6S",
        "colab": {
          "base_uri": "https://localhost:8080/"
        },
        "outputId": "92c982f5-0b63-4d49-9bf1-5076c9fbc6ac"
      },
      "outputs": [
        {
          "output_type": "execute_result",
          "data": {
            "text/plain": [
              "[('bananas', 0.6691170930862427),\n",
              " ('mango', 0.580410361289978),\n",
              " ('pineapple', 0.5492371916770935),\n",
              " ('coconut', 0.5462779402732849),\n",
              " ('papaya', 0.541056752204895),\n",
              " ('fruit', 0.5218108296394348),\n",
              " ('growers', 0.4877638816833496),\n",
              " ('nut', 0.4839959144592285),\n",
              " ('peanut', 0.48062020540237427),\n",
              " ('potato', 0.4806118607521057)]"
            ]
          },
          "metadata": {},
          "execution_count": 49
        }
      ],
      "source": [
        "wv.most_similar(\"banana\")"
      ]
    },
    {
      "cell_type": "code",
      "execution_count": 50,
      "metadata": {
        "id": "cF8sqUopZOrt",
        "colab": {
          "base_uri": "https://localhost:8080/"
        },
        "outputId": "d6c0b32d-0e2f-4e80-adf8-b127d87075f4"
      },
      "outputs": [
        {
          "output_type": "stream",
          "name": "stdout",
          "text": [
            "From: you know ? all you need is attention .\n",
            "To: you know ? all 'll need is attention . \n"
          ]
        }
      ],
      "source": [
        "sample_sentence = \"you know ? all you need is attention .\"\n",
        "sample_tokens = sample_sentence.split()\n",
        "\n",
        "selected_tok = random.choice(sample_tokens)\n",
        "\n",
        "result = \"\"\n",
        "for tok in sample_tokens:\n",
        "    if tok is selected_tok:\n",
        "        result += wv.most_similar(tok)[0][0] + \" \"\n",
        "\n",
        "    else:\n",
        "        result += tok + \" \"\n",
        "\n",
        "print(\"From:\", sample_sentence)\n",
        "print(\"To:\", result)"
      ]
    },
    {
      "cell_type": "markdown",
      "metadata": {
        "id": "mAbZuVqnMGCv"
      },
      "source": [
        "### Lexical Substitution 구현하기"
      ]
    },
    {
      "cell_type": "markdown",
      "metadata": {
        "id": "IDsTPP1BZI7p"
      },
      "source": [
        "대표적으로 사용되는 Embedding 모델은 word2vec-google-news-300 이지만 용량이 커서 다운로드에 많은 시간이 소요되므로 이번 실습엔 적합하지 않습니다. 우리는 적당한 사이즈의 모델인 glove-wiki-gigaword-300 을 사용할게요! 아래 소스를 실행해 사전 훈련된 Embedding 모델을 다운로드해 주세요."
      ]
    },
    {
      "cell_type": "code",
      "execution_count": 51,
      "metadata": {
        "id": "xbMsTTqqZfZx"
      },
      "outputs": [],
      "source": [
        "# Lexical Substitution 구현하기\n",
        "def lexical_sub(sentence, word2vec):\n",
        "    res = \"\"\n",
        "    toks = sentence.split()\n",
        "\n",
        "    try:\n",
        "        _from = random.choice(toks)\n",
        "        _to = word2vec.most_similar(_from)[0][0]\n",
        "        \n",
        "    except:   # 단어장에 없는 단어\n",
        "        return None\n",
        "\n",
        "    for tok in toks:\n",
        "        if tok is _from: res += _to + \" \"\n",
        "        else: res += tok + \" \"\n",
        "\n",
        "    return res\n"
      ]
    },
    {
      "cell_type": "code",
      "execution_count": 52,
      "metadata": {
        "id": "KQdyeYehZhV8",
        "colab": {
          "base_uri": "https://localhost:8080/",
          "height": 87,
          "referenced_widgets": [
            "f9a39999d01045e99c58c5b81f77c32b",
            "09fd51863d3f4593bb25b651f6bd4ec4",
            "083a40f2478345418422c2742d97220f",
            "34f8698917eb4cdc95d1eda9975d5ade",
            "d90c67f5add544af90f0df37dac070f4",
            "38e09e68e4f841ffa9a6036e14ef46bb",
            "340e4a86cdef4b4787da7f01f33442c8",
            "19806af5734c4ce1903bc1e1214a1dcc",
            "b66be358d7f044afa92669fae3c2bf7f",
            "69c579a66e734f7185d41b176329369a",
            "341119dc5f8a4ce9b14f067127605e73"
          ]
        },
        "outputId": "515844fc-b585-460c-fb77-5320379a8b4c"
      },
      "outputs": [
        {
          "output_type": "display_data",
          "data": {
            "text/plain": [
              "  0%|          | 0/594 [00:00<?, ?it/s]"
            ],
            "application/vnd.jupyter.widget-view+json": {
              "version_major": 2,
              "version_minor": 0,
              "model_id": "f9a39999d01045e99c58c5b81f77c32b"
            }
          },
          "metadata": {}
        },
        {
          "output_type": "stream",
          "name": "stdout",
          "text": [
            "['bob made fun of mary. ', 'tom made fun of mary.', \"this is the better christmas i've had in years. \", \"this is the best christmas i've had in years.\", 'there being a great deal of conjecture as to what would happen. ', 'there was a great deal of conjecture as to what would happen.', 'i needs a stamp. ', 'i need a stamp.', 'of movie that tom and mary watched together had a happy ending. ', 'the movie that tom and mary watched together had a happy ending.']\n"
          ]
        }
      ],
      "source": [
        "new_corpus = []\n",
        "\n",
        "for old_src in tqdm(test_eng_sentences):\n",
        "    new_src = lexical_sub(old_src, wv)\n",
        "    if new_src is not None: \n",
        "        new_corpus.append(new_src)\n",
        "    # Augmentation이 없더라도 원본 문장을 포함시킵니다\n",
        "    new_corpus.append(old_src)\n",
        "\n",
        "print(new_corpus[:10])"
      ]
    },
    {
      "cell_type": "markdown",
      "metadata": {
        "id": "lXpF7az5PNhM"
      },
      "source": [
        "# PROJECT : Chatbot"
      ]
    },
    {
      "cell_type": "code",
      "execution_count": 1,
      "metadata": {
        "id": "lC6G22iDU5SJ",
        "colab": {
          "base_uri": "https://localhost:8080/"
        },
        "outputId": "0f53da23-7827-428f-e720-eb2a07156470"
      },
      "outputs": [
        {
          "output_type": "stream",
          "name": "stdout",
          "text": [
            "1.21.6\n",
            "1.3.5\n",
            "2.9.2\n",
            "3.7\n",
            "3.6.0\n"
          ]
        }
      ],
      "source": [
        "import numpy as np\n",
        "import pandas as pd\n",
        "import tensorflow as tf\n",
        "import nltk\n",
        "import gensim\n",
        "import re\n",
        "from tqdm.notebook import tqdm\n",
        "\n",
        "print(np.__version__)\n",
        "print(pd.__version__)\n",
        "print(tf.__version__)\n",
        "print(nltk.__version__)\n",
        "print(gensim.__version__)"
      ]
    },
    {
      "cell_type": "markdown",
      "metadata": {
        "id": "WZNdtgRlPSen"
      },
      "source": [
        "## STEP 1. 데이터 다운로드\n"
      ]
    },
    {
      "cell_type": "markdown",
      "metadata": {
        "id": "gB48DCc5X0At"
      },
      "source": [
        "  [songys/Chatbot_data](https://github.com/songys/Chatbot_data)\n",
        "* Pandas로 ChatbotData.csv 파일 읽기\n",
        "* 질문과 답변을 각각 questions, answers 변수에 나눠서 저장"
      ]
    },
    {
      "cell_type": "code",
      "execution_count": 2,
      "metadata": {
        "id": "hwTxh0oDXvGh",
        "colab": {
          "base_uri": "https://localhost:8080/",
          "height": 424
        },
        "outputId": "f1bb6107-4182-4bbd-fc10-0cb6395bb3af"
      },
      "outputs": [
        {
          "output_type": "execute_result",
          "data": {
            "text/plain": [
              "                             Q                         A  label\n",
              "0                       12시 땡!                하루가 또 가네요.      0\n",
              "1                  1지망 학교 떨어졌어                 위로해 드립니다.      0\n",
              "2                 3박4일 놀러가고 싶다               여행은 언제나 좋죠.      0\n",
              "3              3박4일 정도 놀러가고 싶다               여행은 언제나 좋죠.      0\n",
              "4                      PPL 심하네                눈살이 찌푸려지죠.      0\n",
              "...                        ...                       ...    ...\n",
              "11818           훔쳐보는 것도 눈치 보임.        티가 나니까 눈치가 보이는 거죠!      2\n",
              "11819           훔쳐보는 것도 눈치 보임.             훔쳐보는 거 티나나봐요.      2\n",
              "11820              흑기사 해주는 짝남.                    설렜겠어요.      2\n",
              "11821  힘든 연애 좋은 연애라는게 무슨 차이일까?  잘 헤어질 수 있는 사이 여부인 거 같아요.      2\n",
              "11822               힘들어서 결혼할까봐        도피성 결혼은 하지 않길 바라요.      2\n",
              "\n",
              "[11823 rows x 3 columns]"
            ],
            "text/html": [
              "\n",
              "  <div id=\"df-27c59fc3-f554-45ff-a362-63e2c1319bb5\">\n",
              "    <div class=\"colab-df-container\">\n",
              "      <div>\n",
              "<style scoped>\n",
              "    .dataframe tbody tr th:only-of-type {\n",
              "        vertical-align: middle;\n",
              "    }\n",
              "\n",
              "    .dataframe tbody tr th {\n",
              "        vertical-align: top;\n",
              "    }\n",
              "\n",
              "    .dataframe thead th {\n",
              "        text-align: right;\n",
              "    }\n",
              "</style>\n",
              "<table border=\"1\" class=\"dataframe\">\n",
              "  <thead>\n",
              "    <tr style=\"text-align: right;\">\n",
              "      <th></th>\n",
              "      <th>Q</th>\n",
              "      <th>A</th>\n",
              "      <th>label</th>\n",
              "    </tr>\n",
              "  </thead>\n",
              "  <tbody>\n",
              "    <tr>\n",
              "      <th>0</th>\n",
              "      <td>12시 땡!</td>\n",
              "      <td>하루가 또 가네요.</td>\n",
              "      <td>0</td>\n",
              "    </tr>\n",
              "    <tr>\n",
              "      <th>1</th>\n",
              "      <td>1지망 학교 떨어졌어</td>\n",
              "      <td>위로해 드립니다.</td>\n",
              "      <td>0</td>\n",
              "    </tr>\n",
              "    <tr>\n",
              "      <th>2</th>\n",
              "      <td>3박4일 놀러가고 싶다</td>\n",
              "      <td>여행은 언제나 좋죠.</td>\n",
              "      <td>0</td>\n",
              "    </tr>\n",
              "    <tr>\n",
              "      <th>3</th>\n",
              "      <td>3박4일 정도 놀러가고 싶다</td>\n",
              "      <td>여행은 언제나 좋죠.</td>\n",
              "      <td>0</td>\n",
              "    </tr>\n",
              "    <tr>\n",
              "      <th>4</th>\n",
              "      <td>PPL 심하네</td>\n",
              "      <td>눈살이 찌푸려지죠.</td>\n",
              "      <td>0</td>\n",
              "    </tr>\n",
              "    <tr>\n",
              "      <th>...</th>\n",
              "      <td>...</td>\n",
              "      <td>...</td>\n",
              "      <td>...</td>\n",
              "    </tr>\n",
              "    <tr>\n",
              "      <th>11818</th>\n",
              "      <td>훔쳐보는 것도 눈치 보임.</td>\n",
              "      <td>티가 나니까 눈치가 보이는 거죠!</td>\n",
              "      <td>2</td>\n",
              "    </tr>\n",
              "    <tr>\n",
              "      <th>11819</th>\n",
              "      <td>훔쳐보는 것도 눈치 보임.</td>\n",
              "      <td>훔쳐보는 거 티나나봐요.</td>\n",
              "      <td>2</td>\n",
              "    </tr>\n",
              "    <tr>\n",
              "      <th>11820</th>\n",
              "      <td>흑기사 해주는 짝남.</td>\n",
              "      <td>설렜겠어요.</td>\n",
              "      <td>2</td>\n",
              "    </tr>\n",
              "    <tr>\n",
              "      <th>11821</th>\n",
              "      <td>힘든 연애 좋은 연애라는게 무슨 차이일까?</td>\n",
              "      <td>잘 헤어질 수 있는 사이 여부인 거 같아요.</td>\n",
              "      <td>2</td>\n",
              "    </tr>\n",
              "    <tr>\n",
              "      <th>11822</th>\n",
              "      <td>힘들어서 결혼할까봐</td>\n",
              "      <td>도피성 결혼은 하지 않길 바라요.</td>\n",
              "      <td>2</td>\n",
              "    </tr>\n",
              "  </tbody>\n",
              "</table>\n",
              "<p>11823 rows × 3 columns</p>\n",
              "</div>\n",
              "      <button class=\"colab-df-convert\" onclick=\"convertToInteractive('df-27c59fc3-f554-45ff-a362-63e2c1319bb5')\"\n",
              "              title=\"Convert this dataframe to an interactive table.\"\n",
              "              style=\"display:none;\">\n",
              "        \n",
              "  <svg xmlns=\"http://www.w3.org/2000/svg\" height=\"24px\"viewBox=\"0 0 24 24\"\n",
              "       width=\"24px\">\n",
              "    <path d=\"M0 0h24v24H0V0z\" fill=\"none\"/>\n",
              "    <path d=\"M18.56 5.44l.94 2.06.94-2.06 2.06-.94-2.06-.94-.94-2.06-.94 2.06-2.06.94zm-11 1L8.5 8.5l.94-2.06 2.06-.94-2.06-.94L8.5 2.5l-.94 2.06-2.06.94zm10 10l.94 2.06.94-2.06 2.06-.94-2.06-.94-.94-2.06-.94 2.06-2.06.94z\"/><path d=\"M17.41 7.96l-1.37-1.37c-.4-.4-.92-.59-1.43-.59-.52 0-1.04.2-1.43.59L10.3 9.45l-7.72 7.72c-.78.78-.78 2.05 0 2.83L4 21.41c.39.39.9.59 1.41.59.51 0 1.02-.2 1.41-.59l7.78-7.78 2.81-2.81c.8-.78.8-2.07 0-2.86zM5.41 20L4 18.59l7.72-7.72 1.47 1.35L5.41 20z\"/>\n",
              "  </svg>\n",
              "      </button>\n",
              "      \n",
              "  <style>\n",
              "    .colab-df-container {\n",
              "      display:flex;\n",
              "      flex-wrap:wrap;\n",
              "      gap: 12px;\n",
              "    }\n",
              "\n",
              "    .colab-df-convert {\n",
              "      background-color: #E8F0FE;\n",
              "      border: none;\n",
              "      border-radius: 50%;\n",
              "      cursor: pointer;\n",
              "      display: none;\n",
              "      fill: #1967D2;\n",
              "      height: 32px;\n",
              "      padding: 0 0 0 0;\n",
              "      width: 32px;\n",
              "    }\n",
              "\n",
              "    .colab-df-convert:hover {\n",
              "      background-color: #E2EBFA;\n",
              "      box-shadow: 0px 1px 2px rgba(60, 64, 67, 0.3), 0px 1px 3px 1px rgba(60, 64, 67, 0.15);\n",
              "      fill: #174EA6;\n",
              "    }\n",
              "\n",
              "    [theme=dark] .colab-df-convert {\n",
              "      background-color: #3B4455;\n",
              "      fill: #D2E3FC;\n",
              "    }\n",
              "\n",
              "    [theme=dark] .colab-df-convert:hover {\n",
              "      background-color: #434B5C;\n",
              "      box-shadow: 0px 1px 3px 1px rgba(0, 0, 0, 0.15);\n",
              "      filter: drop-shadow(0px 1px 2px rgba(0, 0, 0, 0.3));\n",
              "      fill: #FFFFFF;\n",
              "    }\n",
              "  </style>\n",
              "\n",
              "      <script>\n",
              "        const buttonEl =\n",
              "          document.querySelector('#df-27c59fc3-f554-45ff-a362-63e2c1319bb5 button.colab-df-convert');\n",
              "        buttonEl.style.display =\n",
              "          google.colab.kernel.accessAllowed ? 'block' : 'none';\n",
              "\n",
              "        async function convertToInteractive(key) {\n",
              "          const element = document.querySelector('#df-27c59fc3-f554-45ff-a362-63e2c1319bb5');\n",
              "          const dataTable =\n",
              "            await google.colab.kernel.invokeFunction('convertToInteractive',\n",
              "                                                     [key], {});\n",
              "          if (!dataTable) return;\n",
              "\n",
              "          const docLinkHtml = 'Like what you see? Visit the ' +\n",
              "            '<a target=\"_blank\" href=https://colab.research.google.com/notebooks/data_table.ipynb>data table notebook</a>'\n",
              "            + ' to learn more about interactive tables.';\n",
              "          element.innerHTML = '';\n",
              "          dataTable['output_type'] = 'display_data';\n",
              "          await google.colab.output.renderOutput(dataTable, element);\n",
              "          const docLink = document.createElement('div');\n",
              "          docLink.innerHTML = docLinkHtml;\n",
              "          element.appendChild(docLink);\n",
              "        }\n",
              "      </script>\n",
              "    </div>\n",
              "  </div>\n",
              "  "
            ]
          },
          "metadata": {},
          "execution_count": 2
        }
      ],
      "source": [
        "chatbot_df = pd.read_csv('https://github.com/songys/Chatbot_data/raw/master/ChatbotData.csv')\n",
        "chatbot_df"
      ]
    },
    {
      "cell_type": "code",
      "execution_count": 3,
      "metadata": {
        "id": "Ed0Bmyhqvv1k",
        "colab": {
          "base_uri": "https://localhost:8080/"
        },
        "outputId": "035e3ec5-ccae-4b46-f34e-bcc805b09dd0"
      },
      "outputs": [
        {
          "output_type": "stream",
          "name": "stdout",
          "text": [
            "전체 샘플수 : 11823\n"
          ]
        }
      ],
      "source": [
        "print('전체 샘플수 :', (len(chatbot_df)))"
      ]
    },
    {
      "cell_type": "code",
      "execution_count": 4,
      "metadata": {
        "id": "pCSiXY_gH3yo",
        "colab": {
          "base_uri": "https://localhost:8080/",
          "height": 206
        },
        "outputId": "9b515c97-238d-46d0-9e20-4bf0f0ea8000"
      },
      "outputs": [
        {
          "output_type": "execute_result",
          "data": {
            "text/plain": [
              "                 Q            A\n",
              "0           12시 땡!   하루가 또 가네요.\n",
              "1      1지망 학교 떨어졌어    위로해 드립니다.\n",
              "2     3박4일 놀러가고 싶다  여행은 언제나 좋죠.\n",
              "3  3박4일 정도 놀러가고 싶다  여행은 언제나 좋죠.\n",
              "4          PPL 심하네   눈살이 찌푸려지죠."
            ],
            "text/html": [
              "\n",
              "  <div id=\"df-a39aba27-fe0f-498f-800a-1d8cb5b7f215\">\n",
              "    <div class=\"colab-df-container\">\n",
              "      <div>\n",
              "<style scoped>\n",
              "    .dataframe tbody tr th:only-of-type {\n",
              "        vertical-align: middle;\n",
              "    }\n",
              "\n",
              "    .dataframe tbody tr th {\n",
              "        vertical-align: top;\n",
              "    }\n",
              "\n",
              "    .dataframe thead th {\n",
              "        text-align: right;\n",
              "    }\n",
              "</style>\n",
              "<table border=\"1\" class=\"dataframe\">\n",
              "  <thead>\n",
              "    <tr style=\"text-align: right;\">\n",
              "      <th></th>\n",
              "      <th>Q</th>\n",
              "      <th>A</th>\n",
              "    </tr>\n",
              "  </thead>\n",
              "  <tbody>\n",
              "    <tr>\n",
              "      <th>0</th>\n",
              "      <td>12시 땡!</td>\n",
              "      <td>하루가 또 가네요.</td>\n",
              "    </tr>\n",
              "    <tr>\n",
              "      <th>1</th>\n",
              "      <td>1지망 학교 떨어졌어</td>\n",
              "      <td>위로해 드립니다.</td>\n",
              "    </tr>\n",
              "    <tr>\n",
              "      <th>2</th>\n",
              "      <td>3박4일 놀러가고 싶다</td>\n",
              "      <td>여행은 언제나 좋죠.</td>\n",
              "    </tr>\n",
              "    <tr>\n",
              "      <th>3</th>\n",
              "      <td>3박4일 정도 놀러가고 싶다</td>\n",
              "      <td>여행은 언제나 좋죠.</td>\n",
              "    </tr>\n",
              "    <tr>\n",
              "      <th>4</th>\n",
              "      <td>PPL 심하네</td>\n",
              "      <td>눈살이 찌푸려지죠.</td>\n",
              "    </tr>\n",
              "  </tbody>\n",
              "</table>\n",
              "</div>\n",
              "      <button class=\"colab-df-convert\" onclick=\"convertToInteractive('df-a39aba27-fe0f-498f-800a-1d8cb5b7f215')\"\n",
              "              title=\"Convert this dataframe to an interactive table.\"\n",
              "              style=\"display:none;\">\n",
              "        \n",
              "  <svg xmlns=\"http://www.w3.org/2000/svg\" height=\"24px\"viewBox=\"0 0 24 24\"\n",
              "       width=\"24px\">\n",
              "    <path d=\"M0 0h24v24H0V0z\" fill=\"none\"/>\n",
              "    <path d=\"M18.56 5.44l.94 2.06.94-2.06 2.06-.94-2.06-.94-.94-2.06-.94 2.06-2.06.94zm-11 1L8.5 8.5l.94-2.06 2.06-.94-2.06-.94L8.5 2.5l-.94 2.06-2.06.94zm10 10l.94 2.06.94-2.06 2.06-.94-2.06-.94-.94-2.06-.94 2.06-2.06.94z\"/><path d=\"M17.41 7.96l-1.37-1.37c-.4-.4-.92-.59-1.43-.59-.52 0-1.04.2-1.43.59L10.3 9.45l-7.72 7.72c-.78.78-.78 2.05 0 2.83L4 21.41c.39.39.9.59 1.41.59.51 0 1.02-.2 1.41-.59l7.78-7.78 2.81-2.81c.8-.78.8-2.07 0-2.86zM5.41 20L4 18.59l7.72-7.72 1.47 1.35L5.41 20z\"/>\n",
              "  </svg>\n",
              "      </button>\n",
              "      \n",
              "  <style>\n",
              "    .colab-df-container {\n",
              "      display:flex;\n",
              "      flex-wrap:wrap;\n",
              "      gap: 12px;\n",
              "    }\n",
              "\n",
              "    .colab-df-convert {\n",
              "      background-color: #E8F0FE;\n",
              "      border: none;\n",
              "      border-radius: 50%;\n",
              "      cursor: pointer;\n",
              "      display: none;\n",
              "      fill: #1967D2;\n",
              "      height: 32px;\n",
              "      padding: 0 0 0 0;\n",
              "      width: 32px;\n",
              "    }\n",
              "\n",
              "    .colab-df-convert:hover {\n",
              "      background-color: #E2EBFA;\n",
              "      box-shadow: 0px 1px 2px rgba(60, 64, 67, 0.3), 0px 1px 3px 1px rgba(60, 64, 67, 0.15);\n",
              "      fill: #174EA6;\n",
              "    }\n",
              "\n",
              "    [theme=dark] .colab-df-convert {\n",
              "      background-color: #3B4455;\n",
              "      fill: #D2E3FC;\n",
              "    }\n",
              "\n",
              "    [theme=dark] .colab-df-convert:hover {\n",
              "      background-color: #434B5C;\n",
              "      box-shadow: 0px 1px 3px 1px rgba(0, 0, 0, 0.15);\n",
              "      filter: drop-shadow(0px 1px 2px rgba(0, 0, 0, 0.3));\n",
              "      fill: #FFFFFF;\n",
              "    }\n",
              "  </style>\n",
              "\n",
              "      <script>\n",
              "        const buttonEl =\n",
              "          document.querySelector('#df-a39aba27-fe0f-498f-800a-1d8cb5b7f215 button.colab-df-convert');\n",
              "        buttonEl.style.display =\n",
              "          google.colab.kernel.accessAllowed ? 'block' : 'none';\n",
              "\n",
              "        async function convertToInteractive(key) {\n",
              "          const element = document.querySelector('#df-a39aba27-fe0f-498f-800a-1d8cb5b7f215');\n",
              "          const dataTable =\n",
              "            await google.colab.kernel.invokeFunction('convertToInteractive',\n",
              "                                                     [key], {});\n",
              "          if (!dataTable) return;\n",
              "\n",
              "          const docLinkHtml = 'Like what you see? Visit the ' +\n",
              "            '<a target=\"_blank\" href=https://colab.research.google.com/notebooks/data_table.ipynb>data table notebook</a>'\n",
              "            + ' to learn more about interactive tables.';\n",
              "          element.innerHTML = '';\n",
              "          dataTable['output_type'] = 'display_data';\n",
              "          await google.colab.output.renderOutput(dataTable, element);\n",
              "          const docLink = document.createElement('div');\n",
              "          docLink.innerHTML = docLinkHtml;\n",
              "          element.appendChild(docLink);\n",
              "        }\n",
              "      </script>\n",
              "    </div>\n",
              "  </div>\n",
              "  "
            ]
          },
          "metadata": {},
          "execution_count": 4
        }
      ],
      "source": [
        "chatbot_df.drop((\"label\"), axis=\"columns\", inplace=True)\n",
        "chatbot_df.head()"
      ]
    },
    {
      "cell_type": "code",
      "execution_count": 5,
      "metadata": {
        "id": "kZxtKxkj1sJK",
        "colab": {
          "base_uri": "https://localhost:8080/",
          "height": 424
        },
        "outputId": "48ee6670-8c6c-4e73-db11-e44ca951a973"
      },
      "outputs": [
        {
          "output_type": "execute_result",
          "data": {
            "text/plain": [
              "                            Q                        A\n",
              "5527  결혼이나 하지 왜 자꾸 나한테 화 내냐구!                   힘들겠네요.\n",
              "5537           고백하고 후회하면 어떡하지  후회는 후회를 낳을뿐이에요. 용기 내세요.\n",
              "5542        공부는 내 체질이 아닌 것 같아                확신이 없나봐요.\n",
              "5704                 기숙사 괜찮을까         혼자 사는 것보다 불편하겠죠.\n",
              "5774                나는 좋은데 ….           현실의 벽에 부딪혔나봐요.\n",
              "...                       ...                      ...\n",
              "8764                   환승 가능?               환승은 30분 안에\n",
              "8780          회사 사람들이 아직도 불편해        회사에는 동료가 있을 뿐이에요.\n",
              "8782     회사에는 왜 친구 같은 사람이 없을까      회사는 친구 사귀는 곳이 아니에요.\n",
              "8789                    후련하달까              후련하니 다행이에요.\n",
              "9541             내일 만나자고 해볼까?         멋지게 데이트 신청 해보세요.\n",
              "\n",
              "[73 rows x 2 columns]"
            ],
            "text/html": [
              "\n",
              "  <div id=\"df-161db339-e893-435d-84a8-e40d4dfd218e\">\n",
              "    <div class=\"colab-df-container\">\n",
              "      <div>\n",
              "<style scoped>\n",
              "    .dataframe tbody tr th:only-of-type {\n",
              "        vertical-align: middle;\n",
              "    }\n",
              "\n",
              "    .dataframe tbody tr th {\n",
              "        vertical-align: top;\n",
              "    }\n",
              "\n",
              "    .dataframe thead th {\n",
              "        text-align: right;\n",
              "    }\n",
              "</style>\n",
              "<table border=\"1\" class=\"dataframe\">\n",
              "  <thead>\n",
              "    <tr style=\"text-align: right;\">\n",
              "      <th></th>\n",
              "      <th>Q</th>\n",
              "      <th>A</th>\n",
              "    </tr>\n",
              "  </thead>\n",
              "  <tbody>\n",
              "    <tr>\n",
              "      <th>5527</th>\n",
              "      <td>결혼이나 하지 왜 자꾸 나한테 화 내냐구!</td>\n",
              "      <td>힘들겠네요.</td>\n",
              "    </tr>\n",
              "    <tr>\n",
              "      <th>5537</th>\n",
              "      <td>고백하고 후회하면 어떡하지</td>\n",
              "      <td>후회는 후회를 낳을뿐이에요. 용기 내세요.</td>\n",
              "    </tr>\n",
              "    <tr>\n",
              "      <th>5542</th>\n",
              "      <td>공부는 내 체질이 아닌 것 같아</td>\n",
              "      <td>확신이 없나봐요.</td>\n",
              "    </tr>\n",
              "    <tr>\n",
              "      <th>5704</th>\n",
              "      <td>기숙사 괜찮을까</td>\n",
              "      <td>혼자 사는 것보다 불편하겠죠.</td>\n",
              "    </tr>\n",
              "    <tr>\n",
              "      <th>5774</th>\n",
              "      <td>나는 좋은데 ….</td>\n",
              "      <td>현실의 벽에 부딪혔나봐요.</td>\n",
              "    </tr>\n",
              "    <tr>\n",
              "      <th>...</th>\n",
              "      <td>...</td>\n",
              "      <td>...</td>\n",
              "    </tr>\n",
              "    <tr>\n",
              "      <th>8764</th>\n",
              "      <td>환승 가능?</td>\n",
              "      <td>환승은 30분 안에</td>\n",
              "    </tr>\n",
              "    <tr>\n",
              "      <th>8780</th>\n",
              "      <td>회사 사람들이 아직도 불편해</td>\n",
              "      <td>회사에는 동료가 있을 뿐이에요.</td>\n",
              "    </tr>\n",
              "    <tr>\n",
              "      <th>8782</th>\n",
              "      <td>회사에는 왜 친구 같은 사람이 없을까</td>\n",
              "      <td>회사는 친구 사귀는 곳이 아니에요.</td>\n",
              "    </tr>\n",
              "    <tr>\n",
              "      <th>8789</th>\n",
              "      <td>후련하달까</td>\n",
              "      <td>후련하니 다행이에요.</td>\n",
              "    </tr>\n",
              "    <tr>\n",
              "      <th>9541</th>\n",
              "      <td>내일 만나자고 해볼까?</td>\n",
              "      <td>멋지게 데이트 신청 해보세요.</td>\n",
              "    </tr>\n",
              "  </tbody>\n",
              "</table>\n",
              "<p>73 rows × 2 columns</p>\n",
              "</div>\n",
              "      <button class=\"colab-df-convert\" onclick=\"convertToInteractive('df-161db339-e893-435d-84a8-e40d4dfd218e')\"\n",
              "              title=\"Convert this dataframe to an interactive table.\"\n",
              "              style=\"display:none;\">\n",
              "        \n",
              "  <svg xmlns=\"http://www.w3.org/2000/svg\" height=\"24px\"viewBox=\"0 0 24 24\"\n",
              "       width=\"24px\">\n",
              "    <path d=\"M0 0h24v24H0V0z\" fill=\"none\"/>\n",
              "    <path d=\"M18.56 5.44l.94 2.06.94-2.06 2.06-.94-2.06-.94-.94-2.06-.94 2.06-2.06.94zm-11 1L8.5 8.5l.94-2.06 2.06-.94-2.06-.94L8.5 2.5l-.94 2.06-2.06.94zm10 10l.94 2.06.94-2.06 2.06-.94-2.06-.94-.94-2.06-.94 2.06-2.06.94z\"/><path d=\"M17.41 7.96l-1.37-1.37c-.4-.4-.92-.59-1.43-.59-.52 0-1.04.2-1.43.59L10.3 9.45l-7.72 7.72c-.78.78-.78 2.05 0 2.83L4 21.41c.39.39.9.59 1.41.59.51 0 1.02-.2 1.41-.59l7.78-7.78 2.81-2.81c.8-.78.8-2.07 0-2.86zM5.41 20L4 18.59l7.72-7.72 1.47 1.35L5.41 20z\"/>\n",
              "  </svg>\n",
              "      </button>\n",
              "      \n",
              "  <style>\n",
              "    .colab-df-container {\n",
              "      display:flex;\n",
              "      flex-wrap:wrap;\n",
              "      gap: 12px;\n",
              "    }\n",
              "\n",
              "    .colab-df-convert {\n",
              "      background-color: #E8F0FE;\n",
              "      border: none;\n",
              "      border-radius: 50%;\n",
              "      cursor: pointer;\n",
              "      display: none;\n",
              "      fill: #1967D2;\n",
              "      height: 32px;\n",
              "      padding: 0 0 0 0;\n",
              "      width: 32px;\n",
              "    }\n",
              "\n",
              "    .colab-df-convert:hover {\n",
              "      background-color: #E2EBFA;\n",
              "      box-shadow: 0px 1px 2px rgba(60, 64, 67, 0.3), 0px 1px 3px 1px rgba(60, 64, 67, 0.15);\n",
              "      fill: #174EA6;\n",
              "    }\n",
              "\n",
              "    [theme=dark] .colab-df-convert {\n",
              "      background-color: #3B4455;\n",
              "      fill: #D2E3FC;\n",
              "    }\n",
              "\n",
              "    [theme=dark] .colab-df-convert:hover {\n",
              "      background-color: #434B5C;\n",
              "      box-shadow: 0px 1px 3px 1px rgba(0, 0, 0, 0.15);\n",
              "      filter: drop-shadow(0px 1px 2px rgba(0, 0, 0, 0.3));\n",
              "      fill: #FFFFFF;\n",
              "    }\n",
              "  </style>\n",
              "\n",
              "      <script>\n",
              "        const buttonEl =\n",
              "          document.querySelector('#df-161db339-e893-435d-84a8-e40d4dfd218e button.colab-df-convert');\n",
              "        buttonEl.style.display =\n",
              "          google.colab.kernel.accessAllowed ? 'block' : 'none';\n",
              "\n",
              "        async function convertToInteractive(key) {\n",
              "          const element = document.querySelector('#df-161db339-e893-435d-84a8-e40d4dfd218e');\n",
              "          const dataTable =\n",
              "            await google.colab.kernel.invokeFunction('convertToInteractive',\n",
              "                                                     [key], {});\n",
              "          if (!dataTable) return;\n",
              "\n",
              "          const docLinkHtml = 'Like what you see? Visit the ' +\n",
              "            '<a target=\"_blank\" href=https://colab.research.google.com/notebooks/data_table.ipynb>data table notebook</a>'\n",
              "            + ' to learn more about interactive tables.';\n",
              "          element.innerHTML = '';\n",
              "          dataTable['output_type'] = 'display_data';\n",
              "          await google.colab.output.renderOutput(dataTable, element);\n",
              "          const docLink = document.createElement('div');\n",
              "          docLink.innerHTML = docLinkHtml;\n",
              "          element.appendChild(docLink);\n",
              "        }\n",
              "      </script>\n",
              "    </div>\n",
              "  </div>\n",
              "  "
            ]
          },
          "metadata": {},
          "execution_count": 5
        }
      ],
      "source": [
        "# # 중복 시각화\n",
        "chatbot_df[chatbot_df.duplicated()]"
      ]
    },
    {
      "cell_type": "code",
      "execution_count": 6,
      "metadata": {
        "id": "fIoCqb5e1O_l"
      },
      "outputs": [],
      "source": [
        "\n",
        "# # 중복 샘플 확인\n",
        "# print('Q 열에서 중복을 배제한 유일한 샘플의 수 :', chatbot_df['Q'].nunique())\n",
        "# print('A 열에서 중복을 배제한 유일한 샘플의 수 :', chatbot_df['A'].nunique())"
      ]
    },
    {
      "cell_type": "code",
      "execution_count": 7,
      "metadata": {
        "id": "7poxojWc1iTJ"
      },
      "outputs": [],
      "source": [
        "# ## inplace=True 를 설정하면 DataFrame 타입 값을 return 하지 않고 data 내부를 직접적으로 바꿉니다\n",
        "# chatbot_df.drop_duplicates(subset = ['Q'], inplace=True)\n",
        "# chatbot_df"
      ]
    },
    {
      "cell_type": "code",
      "execution_count": 8,
      "metadata": {
        "id": "if4qHZ52wnAa",
        "colab": {
          "base_uri": "https://localhost:8080/"
        },
        "outputId": "f7164e35-c383-48a5-8795-692b58a6578d"
      },
      "outputs": [
        {
          "output_type": "stream",
          "name": "stdout",
          "text": [
            "['12시 땡!', '1지망 학교 떨어졌어', '3박4일 놀러가고 싶다', '3박4일 정도 놀러가고 싶다', 'PPL 심하네']\n"
          ]
        }
      ],
      "source": [
        "question_f = chatbot_df['Q'].values.tolist()\n",
        "print(question_f[:5])"
      ]
    },
    {
      "cell_type": "code",
      "execution_count": 9,
      "metadata": {
        "id": "qZEGbfnUvBpk",
        "colab": {
          "base_uri": "https://localhost:8080/"
        },
        "outputId": "87d74345-b281-467e-eb70-805aeaeb913c"
      },
      "outputs": [
        {
          "output_type": "stream",
          "name": "stdout",
          "text": [
            "['12시 땡!', '1지망 학교 떨어졌어', '3박4일 놀러가고 싶다', '3박4일 정도 놀러가고 싶다', 'PPL 심하네']\n"
          ]
        }
      ],
      "source": [
        "questions_list = []\n",
        "for q in chatbot_df['Q']:\n",
        "  questions_list.append(q)\n",
        "\n",
        "print(questions_list[:5])"
      ]
    },
    {
      "cell_type": "code",
      "execution_count": 10,
      "metadata": {
        "id": "W01OQoI-xFVN",
        "colab": {
          "base_uri": "https://localhost:8080/"
        },
        "outputId": "cfe3a6b9-7aad-4e7a-adb3-ae64fa23fe73"
      },
      "outputs": [
        {
          "output_type": "stream",
          "name": "stdout",
          "text": [
            "['하루가 또 가네요.', '위로해 드립니다.', '여행은 언제나 좋죠.', '여행은 언제나 좋죠.', '눈살이 찌푸려지죠.']\n"
          ]
        }
      ],
      "source": [
        "answers_list = []\n",
        "for a in chatbot_df['A']:\n",
        "  answers_list.append(a)\n",
        "\n",
        "print(answers_list[:5])"
      ]
    },
    {
      "cell_type": "code",
      "execution_count": 11,
      "metadata": {
        "id": "H3PfwJoL2N4z",
        "colab": {
          "base_uri": "https://localhost:8080/"
        },
        "outputId": "91f67262-c1bb-40f3-b422-1ee2951ae54d"
      },
      "outputs": [
        {
          "output_type": "stream",
          "name": "stdout",
          "text": [
            "11823\n",
            "11823\n"
          ]
        }
      ],
      "source": [
        "print(len(questions_list))\n",
        "print(len(answers_list))"
      ]
    },
    {
      "cell_type": "markdown",
      "metadata": {
        "id": "s-WjtFuMPTtC"
      },
      "source": [
        "## STEP 2. 데이터 정제\n"
      ]
    },
    {
      "cell_type": "markdown",
      "metadata": {
        "id": "7P6b_st0AgM7"
      },
      "source": [
        "`set() `\n",
        "중복 제거 \n",
        "* 데이터 쌍이 흐트러지지 않게 주의"
      ]
    },
    {
      "cell_type": "code",
      "execution_count": 12,
      "metadata": {
        "id": "neD0uf1vArH7",
        "colab": {
          "base_uri": "https://localhost:8080/"
        },
        "outputId": "47bb5217-b3cd-447f-87d2-cd13679824ff"
      },
      "outputs": [
        {
          "output_type": "stream",
          "name": "stdout",
          "text": [
            "중복 제거된 pair 데이터 수 :  11750\n",
            "\n",
            "example : \n",
            " [('거리가 먼데 고백하면 받아줄까?', '거리를 뛰어넘는 사랑이라면 가능하겟죠.'), ('후배보다 못해서 짜증나', '질투하지 마세요.'), ('널 사랑하지 않아', '직접 말해보세요.'), ('공부 좀 더 할 걸', '지금도 늦지 않았어요.'), ('조금 힘들어.', '쪼그만 아파하고 괜찮아지세요.')]\n"
          ]
        }
      ],
      "source": [
        "# 중복 쌍으로 제거 \n",
        "pair_unique = list(set(zip(questions_list,answers_list)))\n",
        "\n",
        "\n",
        "print(\"중복 제거된 pair 데이터 수 : \", len(pair_unique))\n",
        "print('\\nexample : \\n',pair_unique[:5])"
      ]
    },
    {
      "cell_type": "code",
      "execution_count": 13,
      "metadata": {
        "id": "NPJksIPVBqcw",
        "colab": {
          "base_uri": "https://localhost:8080/"
        },
        "outputId": "b15ec368-17fc-4457-cd8c-6c787d87e79d"
      },
      "outputs": [
        {
          "output_type": "execute_result",
          "data": {
            "text/plain": [
              "('목이 뻑뻑해', '목감기 오려나봐요.')"
            ]
          },
          "metadata": {},
          "execution_count": 13
        }
      ],
      "source": [
        "pair_unique[25]"
      ]
    },
    {
      "cell_type": "code",
      "execution_count": 14,
      "metadata": {
        "id": "JuoBo0oAC5xa",
        "colab": {
          "base_uri": "https://localhost:8080/"
        },
        "outputId": "302b7643-8528-4c18-9ab1-25fdcb94ccde"
      },
      "outputs": [
        {
          "output_type": "stream",
          "name": "stdout",
          "text": [
            "중복 제거된 questions 데이터수 :  11750\n",
            "중복 제거된 answers 데이터수 :  11750\n"
          ]
        }
      ],
      "source": [
        "\n",
        "# 다시 쌍 해제\n",
        "questions, answers = zip(*pair_unique)\n",
        "\n",
        "print(\"중복 제거된 questions 데이터수 : \", len(questions))\n",
        "print(\"중복 제거된 answers 데이터수 : \", len(answers))"
      ]
    },
    {
      "cell_type": "code",
      "execution_count": 15,
      "metadata": {
        "id": "fULooTEqDYx1",
        "colab": {
          "base_uri": "https://localhost:8080/",
          "height": 36
        },
        "outputId": "74a56d0e-1dd8-43ee-b398-e305b4afd88c"
      },
      "outputs": [
        {
          "output_type": "execute_result",
          "data": {
            "text/plain": [
              "'목이 뻑뻑해'"
            ],
            "application/vnd.google.colaboratory.intrinsic+json": {
              "type": "string"
            }
          },
          "metadata": {},
          "execution_count": 15
        }
      ],
      "source": [
        "questions[25]"
      ]
    },
    {
      "cell_type": "code",
      "execution_count": 16,
      "metadata": {
        "id": "dbSggwEcDbgl",
        "colab": {
          "base_uri": "https://localhost:8080/",
          "height": 36
        },
        "outputId": "2ebbe400-983c-438e-f7c0-ca4707058496"
      },
      "outputs": [
        {
          "output_type": "execute_result",
          "data": {
            "text/plain": [
              "'목감기 오려나봐요.'"
            ],
            "application/vnd.google.colaboratory.intrinsic+json": {
              "type": "string"
            }
          },
          "metadata": {},
          "execution_count": 16
        }
      ],
      "source": [
        "answers[25]"
      ]
    },
    {
      "cell_type": "markdown",
      "metadata": {
        "id": "kpvx37NtVHdg"
      },
      "source": [
        "`preprocess_sentence()`\n",
        "> \n",
        "> 1. 영문자의 경우, 모두 소문자 변환\n",
        "2. 영문자와 한글, 숫자, 그리고 주요 특수문자를 제외하곤 정규식을 활용하여 모두 제거\n"
      ]
    },
    {
      "cell_type": "code",
      "execution_count": 17,
      "metadata": {
        "id": "VmAyTSXRxrIP"
      },
      "outputs": [],
      "source": [
        "\n",
        "def preprocess_sentence(sentence):\n",
        "\n",
        "    sentence = sentence.lower().strip()\n",
        "\n",
        "    sentence = re.sub(r\"([?.!,])\", r\" \\1 \", sentence)   #??\n",
        "    sentence = re.sub(r'[\" \"]+', \" \", sentence)         # 공백 여러개 공백하나로\n",
        "    sentence = re.sub(r\"[^가-힣ㄱ-ㅎㅏ-ㅣa-zA-Z0-9?.!,]+\", \" \", sentence) # 대소문자, 기본 특수기호 외는 공백하나로\n",
        "\n",
        "    sentence = sentence.strip()     # 양쪽 공백 제거 \n",
        "\n",
        "    # if s_token:\n",
        "    #     sentence = '<start> ' + sentence\n",
        "\n",
        "    # if e_token:\n",
        "    #     sentence += ' <end>'\n",
        "\n",
        "    return sentence\n"
      ]
    },
    {
      "cell_type": "code",
      "execution_count": 18,
      "metadata": {
        "id": "nufUYFM65WtX",
        "colab": {
          "base_uri": "https://localhost:8080/"
        },
        "outputId": "6b0c2763-ae40-4574-a8fe-5721a357e3c2"
      },
      "outputs": [
        {
          "output_type": "stream",
          "name": "stdout",
          "text": [
            "목이 뻑뻑해\n",
            "목감기 오려나봐요 .\n"
          ]
        }
      ],
      "source": [
        "print(preprocess_sentence(questions[25]))\n",
        "print(preprocess_sentence(answers[25]))"
      ]
    },
    {
      "cell_type": "markdown",
      "metadata": {
        "id": "HX1YkmSQPTwR"
      },
      "source": [
        "## STEP 3. 데이터 토큰화\n"
      ]
    },
    {
      "cell_type": "markdown",
      "metadata": {
        "id": "xdVTVGcrVW2Y"
      },
      "source": [
        "토큰화:  KoNLPy의 mecab 클래스 사용\n",
        "\n",
        "> `build_corpus()`\n",
        "1. 소스 문장 데이터, 타겟 문장 데이터 입력\n",
        "2. 데이터를 앞서 정의한 preprocess_sentence() 함수로 정제하고, 토큰화\n",
        "3. 토큰화 : mecab.morphs()\n",
        "4. 토큰의 개수 제한\n",
        "5. 중복되는 문장 제외\n",
        "* 소스 : 타겟 쌍을 비교하지 않고 소스는 소스대로 타겟은 타겟대로 검사합니다. 중복 쌍이 흐트러지지 않도록 유의하세요!\n"
      ]
    },
    {
      "cell_type": "code",
      "execution_count": null,
      "metadata": {
        "id": "05RWb4so21hW"
      },
      "outputs": [],
      "source": [
        "!apt-get update\n",
        "!apt-get install g++ openjdk-8-jdk \n",
        "!pip3 install konlpy JPype1-py3\n",
        "!bash <(curl -s https://raw.githubusercontent.com/konlpy/konlpy/master/scripts/mecab.sh)\n",
        "!pip install konlpy"
      ]
    },
    {
      "cell_type": "code",
      "execution_count": 20,
      "metadata": {
        "id": "H1R6EOfz288u"
      },
      "outputs": [],
      "source": [
        "from konlpy.tag import Mecab"
      ]
    },
    {
      "cell_type": "code",
      "execution_count": 21,
      "metadata": {
        "id": "vJtl601Z3Vor",
        "colab": {
          "base_uri": "https://localhost:8080/"
        },
        "outputId": "41e0ccbb-c230-4a21-cc77-7573a5bfd996"
      },
      "outputs": [
        {
          "output_type": "stream",
          "name": "stdout",
          "text": [
            "11823\n",
            "11823\n"
          ]
        }
      ],
      "source": [
        "cleaned_que = []\n",
        "cleaned_ans = []\n",
        "\n",
        "# num_examples = 30000\n",
        "\n",
        "for que, ans in zip(questions_list, answers_list):\n",
        "    # eng, spa = pair.split(\"\\t\")\n",
        "\n",
        "    cleaned_que.append(preprocess_sentence(que))\n",
        "    cleaned_ans.append(preprocess_sentence(ans))\n",
        "\n",
        "\n",
        "print(len(cleaned_que))\n",
        "print(len(cleaned_ans))"
      ]
    },
    {
      "cell_type": "code",
      "execution_count": 22,
      "metadata": {
        "id": "5fADCAlzrB3v",
        "colab": {
          "base_uri": "https://localhost:8080/",
          "height": 36
        },
        "outputId": "a5054cfa-ac94-45bc-cf4f-c3981deacff1"
      },
      "outputs": [
        {
          "output_type": "execute_result",
          "data": {
            "text/plain": [
              "'12시 땡 !'"
            ],
            "application/vnd.google.colaboratory.intrinsic+json": {
              "type": "string"
            }
          },
          "metadata": {},
          "execution_count": 22
        }
      ],
      "source": [
        "cleaned_que[0]"
      ]
    },
    {
      "cell_type": "code",
      "execution_count": 23,
      "metadata": {
        "id": "6MwL4Sm0KmxE"
      },
      "outputs": [],
      "source": [
        "\n",
        "# mecab = Mecab()\n",
        "\n",
        "# que_corpus = []\n",
        "# # ans_corpus = []\n",
        "\n",
        "# for i in que_corpus: \n",
        "#     que_corpus.append(mecab.morphs(i))\n",
        "\n",
        "\n",
        "# # ans_corpus = mecab.morphs(ans_corpus)\n",
        "\n",
        "# print(len(que_corpus))"
      ]
    },
    {
      "cell_type": "code",
      "execution_count": 24,
      "metadata": {
        "id": "2oV9e1dRu8QO"
      },
      "outputs": [],
      "source": [
        "mecab = Mecab()\n",
        "\n",
        "def tokenizing(src, tgt):\n",
        "    \n",
        "    src_corpus = []\n",
        "    tgt_corpus = []\n",
        "    \n",
        "    mecab = Mecab()\n",
        "    \n",
        "    for i in range(len(cleaned_que)):\n",
        "\n",
        "        src_tokens = mecab.morphs(cleaned_que[i])\n",
        "        tgt_tokens = mecab.morphs(cleaned_ans[i])\n",
        "        \n",
        "        if src_tokens in src_corpus and tgt_tokens in tgt_corpus: continue\n",
        "        \n",
        "        src_corpus.append(src_tokens)\n",
        "        tgt_corpus.append(tgt_tokens)\n",
        "        \n",
        "    return src_corpus, tgt_corpus"
      ]
    },
    {
      "cell_type": "code",
      "execution_count": 25,
      "metadata": {
        "id": "5gAhr0YgwbvX",
        "colab": {
          "base_uri": "https://localhost:8080/"
        },
        "outputId": "eb786aaf-8870-4498-f1aa-39a06e338eb8"
      },
      "outputs": [
        {
          "output_type": "stream",
          "name": "stdout",
          "text": [
            "11720 11720\n"
          ]
        }
      ],
      "source": [
        "que_corpus, ans_corpus = tokenizing(cleaned_que, cleaned_ans)\n",
        "print(len(que_corpus), len(ans_corpus))"
      ]
    },
    {
      "cell_type": "code",
      "execution_count": 26,
      "metadata": {
        "id": "l1Xl6BKpwzrI",
        "colab": {
          "base_uri": "https://localhost:8080/"
        },
        "outputId": "18093601-ea8c-4b37-9444-9e44075b2418"
      },
      "outputs": [
        {
          "output_type": "stream",
          "name": "stdout",
          "text": [
            "['가족', '여행', '어디', '로', '가', '지', '?']\n",
            "['온', '가족', '이', '모두', '마음', '에', '드', '는', '곳', '으로', '가', '보', '세요', '.']\n"
          ]
        }
      ],
      "source": [
        "print(que_corpus[25])\n",
        "print(ans_corpus[25])"
      ]
    },
    {
      "cell_type": "code",
      "source": [
        "len(que_corpus)"
      ],
      "metadata": {
        "colab": {
          "base_uri": "https://localhost:8080/"
        },
        "id": "3qgOy2qOLy69",
        "outputId": "3d9264f1-57fa-433a-c426-da851b253af2"
      },
      "execution_count": 27,
      "outputs": [
        {
          "output_type": "execute_result",
          "data": {
            "text/plain": [
              "11720"
            ]
          },
          "metadata": {},
          "execution_count": 27
        }
      ]
    },
    {
      "cell_type": "markdown",
      "metadata": {
        "id": "8mulqH2EPTyo"
      },
      "source": [
        "## STEP 4. Augmentation\n"
      ]
    },
    {
      "cell_type": "markdown",
      "metadata": {
        "id": "ZxswyD3zYgMr"
      },
      "source": [
        " 데이터 1만 개가량으로 적은 편: \n",
        " \n",
        " > Lexical Substitution 적용\n",
        "1. 한국어로 사전 훈련된 Embedding 모델(Korean (w)) 다운로드 후 ko.bin 파일 얻기\n",
        "* [songys/Chatbot_data](https://github.com/songys/Chatbot_data)\n",
        "2. lexical_sub() 함수 참고 : Kyubyong/wordvectors 모델로 데이터  Augmentation 진행\n",
        "\n",
        "1)원본 que_corpus : 원본 ans_corpus\n",
        "\n",
        "2)Augmentation que_corpus : 원본 ans_corpus  병렬 \n",
        "\n",
        "3)원본 que_corpus : Augmentation ans_corpus  병렬\n",
        "\n",
        "전체 데이터가 원래의 3배가량 증대  "
      ]
    },
    {
      "cell_type": "code",
      "source": [
        "import gensim\n",
        "word2vec = gensim.models.Word2Vec.load(r'/content/drive/MyDrive/Aiffel_data/NLP/[NLP-12_2]/ko/ko.bin')\n",
        "\n",
        "# model = gensim.models.KeyedVectors.load_word2vec_format(r'/content/drive/MyDrive/Aiffel_data/NLP/[NLP-12_2]/ko/ko.bin', binary=True)"
      ],
      "metadata": {
        "id": "tTBQuIHdlZjS"
      },
      "execution_count": 28,
      "outputs": []
    },
    {
      "cell_type": "code",
      "source": [
        "a = word2vec.wv.most_similar(\"강아지\")\n",
        "a"
      ],
      "metadata": {
        "id": "Z96bj-n8ndh0",
        "colab": {
          "base_uri": "https://localhost:8080/"
        },
        "outputId": "0f8615f2-9757-4aed-935d-dd366db89422"
      },
      "execution_count": 29,
      "outputs": [
        {
          "output_type": "execute_result",
          "data": {
            "text/plain": [
              "[('고양이', 0.7290452718734741),\n",
              " ('거위', 0.7185635566711426),\n",
              " ('토끼', 0.7056223154067993),\n",
              " ('멧돼지', 0.6950401067733765),\n",
              " ('엄마', 0.6934334635734558),\n",
              " ('난쟁이', 0.6806551218032837),\n",
              " ('한마리', 0.6770296096801758),\n",
              " ('아가씨', 0.6750352382659912),\n",
              " ('아빠', 0.6729634404182434),\n",
              " ('목걸이', 0.6512460708618164)]"
            ]
          },
          "metadata": {},
          "execution_count": 29
        }
      ]
    },
    {
      "cell_type": "code",
      "source": [
        "# Lexical Substitution 구현하기\n",
        "import random\n",
        "def lexical_sub(sentence, word2vec):\n",
        "    res = \"\"\n",
        "    #toks = sentence.split() mecab은 이미 split이 되어 tokenizing 처리 된다.\n",
        "    toks = sentence\n",
        "\n",
        "    try:\n",
        "        _from = random.choice(toks)\n",
        "        _to = word2vec.wv.most_similar(_from)[0][0]\n",
        "        \n",
        "    except:   # 단어장에 없는 단어\n",
        "        # print(_from)\n",
        "        return None\n",
        "\n",
        "    for tok in toks:\n",
        "        if tok is _from: res += _to + \" \"\n",
        "        else: res += tok + \" \"\n",
        "\n",
        "    return res\n"
      ],
      "metadata": {
        "id": "aZMIZzrNWIXA"
      },
      "execution_count": 47,
      "outputs": []
    },
    {
      "cell_type": "code",
      "source": [
        "new_que_corpus = []\n",
        "new_ans_corpus = []\n",
        "\n",
        "corpus_size= len(que_corpus)\n",
        "\n",
        "# Augmentation된 que_corpus 와 원본 ans_corpus 가 병렬 -> 3배로 늘림\n",
        "for i in tqdm(range(corpus_size)):\n",
        "    que_augmented = lexical_sub(que_corpus[i], word2vec)\n",
        "    ans = ans_corpus[i]\n",
        "    \n",
        "    if que_augmented is not None:\n",
        "        new_que_corpus.append(que_augmented.split())\n",
        "        new_ans_corpus.append(ans)\n",
        "        \n",
        "    else:\n",
        "       \n",
        "        continue\n",
        "    \n",
        "for i in tqdm(range(corpus_size)):\n",
        "    que = que_corpus[i]\n",
        "    ans_augmented = lexical_sub(ans_corpus[i], word2vec)\n",
        "    \n",
        "    if ans_augmented is not None:\n",
        "        new_que_corpus.append(que)\n",
        "        new_ans_corpus.append(ans_augmented.split())\n",
        "       \n",
        "    else:\n",
        "       \n",
        "        continue"
      ],
      "metadata": {
        "id": "D-dH2AsuLZGp"
      },
      "execution_count": null,
      "outputs": []
    },
    {
      "cell_type": "code",
      "source": [
        "print('증강된 질문 데이터셋 수 :', len(new_que_corpus))\n",
        "print('증강된 대답 데이터셋 수 :', len(new_ans_corpus), '\\n')\n",
        "\n",
        "print(new_que_corpus[0])\n",
        "print(new_ans_corpus[0], '\\n')\n",
        "\n",
        "print(new_que_corpus[50])\n",
        "print(new_ans_corpus[50], '\\n')"
      ],
      "metadata": {
        "colab": {
          "base_uri": "https://localhost:8080/"
        },
        "id": "hbAINEiPMwXw",
        "outputId": "7816bbd0-06b3-4384-e67f-e3c7db0e5987"
      },
      "execution_count": 49,
      "outputs": [
        {
          "output_type": "stream",
          "name": "stdout",
          "text": [
            "증강된 질문 데이터셋 수 : 20326\n",
            "증강된 대답 데이터셋 수 : 20326 \n",
            "\n",
            "['12', '시', '땡', '캐치']\n",
            "['하루', '가', '또', '가', '네요', '.'] \n",
            "\n",
            "['함부로', '나', '를', '무시', '하', '는', '애', '가', '있', '어']\n",
            "['콕', '집', '어서', '물', '어', '보', '세요', '.'] \n",
            "\n"
          ]
        }
      ]
    },
    {
      "cell_type": "code",
      "source": [
        "# 증강한 데이터셋 원래 데이터셋 하나로 합치기  \n",
        "que_corpus = que_corpus + new_que_corpus\n",
        "ans_corpus = ans_corpus + new_ans_corpus"
      ],
      "metadata": {
        "id": "5L4IIxAwMsR0"
      },
      "execution_count": 50,
      "outputs": []
    },
    {
      "cell_type": "code",
      "source": [
        "print('기존 + 증강 질문 데이터셋 수 :', len(que_corpus))\n",
        "print('기존 + 증강 대답 데이터셋 수 :', len(ans_corpus), '\\n')"
      ],
      "metadata": {
        "colab": {
          "base_uri": "https://localhost:8080/"
        },
        "id": "Qh-_E8RkMzXu",
        "outputId": "65f3a1bb-9fd2-4891-8d1f-5cbb2ca895dc"
      },
      "execution_count": 51,
      "outputs": [
        {
          "output_type": "stream",
          "name": "stdout",
          "text": [
            "기존 + 증강 질문 데이터셋 수 : 32046\n",
            "기존 + 증강 대답 데이터셋 수 : 32046 \n",
            "\n"
          ]
        }
      ]
    },
    {
      "cell_type": "markdown",
      "metadata": {
        "id": "UPKjOHD-PT1k"
      },
      "source": [
        "## STEP 5. 데이터 벡터화"
      ]
    },
    {
      "cell_type": "markdown",
      "metadata": {
        "id": "cmxc8eWNYY1X"
      },
      "source": [
        "1. 타겟 데이터 전체에 \\<start> 토큰과 \\<end> 토큰 추가 :  ans_corpus 완성\n",
        "\n",
        "* 챗봇 훈련 데이터의 가장 큰 특징 : 바로 소스 데이터와 타겟 데이터가 같은 언어를 사용 \n",
        "* 이는 Embedding 층을 공유했을 때 많은 이점을 얻을 수 있습니다.\n",
        "\n",
        "2. \n",
        "* 전체 데이터 단어 사전 구축: ans_corpus 와 que_corpus 결합\n",
        "* 벡터화 :  enc_train 과 dec_train "
      ]
    },
    {
      "cell_type": "code",
      "source": [
        "sample_data = [\"12\", \"시\", \"땡\", \"!\"]\n",
        "\n",
        "print([\"<start>\"] + sample_data + [\"<end>\"])"
      ],
      "metadata": {
        "id": "6LCd3KoxENfF",
        "colab": {
          "base_uri": "https://localhost:8080/"
        },
        "outputId": "8b8d3088-1df1-4c5c-ccce-562fca19b09f"
      },
      "execution_count": 52,
      "outputs": [
        {
          "output_type": "stream",
          "name": "stdout",
          "text": [
            "['<start>', '12', '시', '땡', '!', '<end>']\n"
          ]
        }
      ]
    },
    {
      "cell_type": "code",
      "source": [
        "# ans_corpus : 타겟 데이터 전체에 <start> 토큰과 <end> 토큰 추가 \n",
        "\n",
        "tgt_corpus = []\n",
        "\n",
        "for corpus in ans_corpus:\n",
        "    tgt_corpus.append([\"<start>\"] + corpus + [\"<end>\"])\n",
        "\n",
        "print(tgt_corpus[0])\n",
        "\n",
        "ans_corpus = tgt_corpus\n",
        "print(ans_corpus[0])"
      ],
      "metadata": {
        "id": "wkMVJNu6RdK7",
        "colab": {
          "base_uri": "https://localhost:8080/"
        },
        "outputId": "05d8532d-f547-4ff2-e4c5-6a975e6bc70c"
      },
      "execution_count": 53,
      "outputs": [
        {
          "output_type": "stream",
          "name": "stdout",
          "text": [
            "['<start>', '하루', '가', '또', '가', '네요', '.', '<end>']\n",
            "['<start>', '하루', '가', '또', '가', '네요', '.', '<end>']\n"
          ]
        }
      ]
    },
    {
      "cell_type": "code",
      "source": [
        "from collections import Counter\n",
        "\n",
        "voc_data = que_corpus + ans_corpus\n",
        "\n",
        "words = np.concatenate(voc_data).tolist()\n",
        "counter = Counter(words)\n",
        "counter = counter.most_common()\n",
        "#counter = counter.most_common(30000-2) \n",
        "#len(counter.most_common()) :총개수 7942\n",
        "vocab = ['<pad>', '<unk>'] + [key for key, _ in counter]\n",
        "word_to_index = {word:index for index, word in enumerate(vocab)}\n",
        "index_to_word = {index:word for word, index in word_to_index.items()}"
      ],
      "metadata": {
        "id": "QrazemFoPYpN"
      },
      "execution_count": 54,
      "outputs": []
    },
    {
      "cell_type": "markdown",
      "source": [
        "❤️ 한줄코드 읽는법 공부해보기 "
      ],
      "metadata": {
        "id": "4W_7uYgUv497"
      }
    },
    {
      "cell_type": "code",
      "source": [
        "def get_encoded_sentence(sentence, word_to_index):\n",
        "    return [word_to_index[word] if word in word_to_index else word_to_index['<unk>'] for word in sentence]\n",
        "\n",
        "    # arr = []\n",
        "    # for word in sentence:\n",
        "    #   if word in word_to_index:\n",
        "    #     arr.append(word_to_index[word])\n",
        "    #   else:\n",
        "    #     arr.append(word_to_index['unk'])\n",
        "\n",
        "def get_decoded_sentence(encoded_sentence, index_to_word):\n",
        "    return ' '.join(index_to_word[index] if index in index_to_word else '<unk>' for index in encoded_sentence[1:])  #[1:]를 통해 <BOS>를 제외\n",
        "\n",
        "def vectorize(corpus, word_to_index):\n",
        "    return [get_encoded_sentence(sen, word_to_index) for sen in corpus]\n",
        "\n",
        "    data = []\n",
        "    for sen in corpus:\n",
        "        sen = get_encoded_sentence(sen, word_to_index)\n",
        "        data.append(sen)\n",
        "    return data\n",
        "# data = []\n",
        "# data= data.append(get_encoded_sentence(sen, word_to_index)) for sen in corpus\n",
        "\n",
        "\n",
        "\n",
        "que_train = vectorize(que_corpus, word_to_index)\n",
        "ans_train = vectorize(ans_corpus, word_to_index)\n",
        "\n",
        "print(len(que_train))\n",
        "print(len(ans_train),'\\n')\n",
        "print(que_train[0])\n",
        "print(ans_train[0])"
      ],
      "metadata": {
        "colab": {
          "base_uri": "https://localhost:8080/"
        },
        "id": "aNSm_oqbSV-j",
        "outputId": "6e23eff3-75ad-4dfa-8092-ffcf09038ffb"
      },
      "execution_count": 55,
      "outputs": [
        {
          "output_type": "stream",
          "name": "stdout",
          "text": [
            "32046\n",
            "32046 \n",
            "\n",
            "[2552, 188, 4146, 95]\n",
            "[3, 271, 9, 160, 9, 39, 2, 4]\n"
          ]
        }
      ]
    },
    {
      "cell_type": "code",
      "source": [
        "from sklearn.model_selection import train_test_split"
      ],
      "metadata": {
        "id": "y8rUAkjwdJOQ"
      },
      "execution_count": 56,
      "outputs": []
    },
    {
      "cell_type": "code",
      "source": [
        "enc_tensor = tf.keras.preprocessing.sequence.pad_sequences(que_train, padding='post')\n",
        "dec_tensor = tf.keras.preprocessing.sequence.pad_sequences(ans_train, padding='post')\n",
        "\n",
        "enc_train, enc_val, dec_train, dec_val = \\\n",
        "train_test_split(enc_tensor, dec_tensor, test_size=0.01) # test set은 1%만\n",
        "\n",
        "print(len(enc_train), len(enc_val), len(dec_train), len(dec_val))"
      ],
      "metadata": {
        "colab": {
          "base_uri": "https://localhost:8080/"
        },
        "id": "JX9-g6bnSkf-",
        "outputId": "5247bdd3-4238-4f8d-e5a1-84424371feee"
      },
      "execution_count": 57,
      "outputs": [
        {
          "output_type": "stream",
          "name": "stdout",
          "text": [
            "31725 321 31725 321\n"
          ]
        }
      ]
    },
    {
      "cell_type": "code",
      "source": [
        "BATCH_SIZE = 64\n",
        "train_dataset = tf.data.Dataset.from_tensor_slices((enc_tensor, dec_tensor)).batch(batch_size=BATCH_SIZE)\n"
      ],
      "metadata": {
        "id": "nM8wvk0d1CqV"
      },
      "execution_count": 58,
      "outputs": []
    },
    {
      "cell_type": "markdown",
      "metadata": {
        "id": "PkN-6LODPT33"
      },
      "source": [
        "## STEP 6. 훈련하기"
      ]
    },
    {
      "cell_type": "markdown",
      "metadata": {
        "id": "AxZVtvg9YUW_"
      },
      "source": [
        "* 데이터의 크기가 작으니 하이퍼파라미터를 튜닝해야 과적합 피함. \n",
        "\n",
        "가장 멋진 답변과 모델의 하이퍼파라미터를 제출"
      ]
    },
    {
      "cell_type": "markdown",
      "metadata": {
        "id": "TKifX1Ny6rx8"
      },
      "source": [
        "### 모델 설계"
      ]
    },
    {
      "cell_type": "code",
      "execution_count": 59,
      "metadata": {
        "id": "8kmnPnl96vyU"
      },
      "outputs": [],
      "source": [
        "# Positional Encoding 구현\n",
        "def positional_encoding(pos, d_model):\n",
        "    def cal_angle(position, i):\n",
        "        return position / np.power(10000, (2*(i//2)) / np.float32(d_model))\n",
        "\n",
        "    def get_posi_angle_vec(position):\n",
        "        return [cal_angle(position, i) for i in range(d_model)]\n",
        "\n",
        "    sinusoid_table = np.array([get_posi_angle_vec(pos_i) for pos_i in range(pos)])\n",
        "\n",
        "    sinusoid_table[:, 0::2] = np.sin(sinusoid_table[:, 0::2])\n",
        "    sinusoid_table[:, 1::2] = np.cos(sinusoid_table[:, 1::2])\n",
        "\n",
        "    return sinusoid_table\n"
      ]
    },
    {
      "cell_type": "code",
      "execution_count": 60,
      "metadata": {
        "id": "uJu9QzvK6zRf"
      },
      "outputs": [],
      "source": [
        "# Mask  생성하기\n",
        "def generate_padding_mask(seq):\n",
        "    seq = tf.cast(tf.math.equal(seq, 0), tf.float32)\n",
        "    return seq[:, tf.newaxis, tf.newaxis, :]\n",
        "\n",
        "def generate_lookahead_mask(size):\n",
        "    mask = 1 - tf.linalg.band_part(tf.ones((size, size)), -1, 0)\n",
        "    return mask\n",
        "\n",
        "def generate_masks(src, tgt):\n",
        "    enc_mask = generate_padding_mask(src)\n",
        "    dec_enc_mask = generate_padding_mask(src)\n",
        "\n",
        "    dec_lookahead_mask = generate_lookahead_mask(tgt.shape[1])\n",
        "    dec_tgt_padding_mask = generate_padding_mask(tgt)\n",
        "    dec_mask = tf.maximum(dec_tgt_padding_mask, dec_lookahead_mask)\n",
        "\n",
        "    return enc_mask, dec_enc_mask, dec_mask"
      ]
    },
    {
      "cell_type": "code",
      "execution_count": 61,
      "metadata": {
        "id": "RjG-LNtA6zYs"
      },
      "outputs": [],
      "source": [
        "# Multi Head Attention 구현\n",
        "class MultiHeadAttention(tf.keras.layers.Layer):\n",
        "    def __init__(self, d_model, num_heads):\n",
        "        super(MultiHeadAttention, self).__init__()\n",
        "        self.num_heads = num_heads\n",
        "        self.d_model = d_model\n",
        "        \n",
        "        self.depth = d_model // self.num_heads\n",
        "        \n",
        "        self.W_q = tf.keras.layers.Dense(d_model)\n",
        "        self.W_k = tf.keras.layers.Dense(d_model)\n",
        "        self.W_v = tf.keras.layers.Dense(d_model)\n",
        "        \n",
        "        self.linear = tf.keras.layers.Dense(d_model)\n",
        "\n",
        "    def scaled_dot_product_attention(self, Q, K, V, mask):\n",
        "        d_k = tf.cast(K.shape[-1], tf.float32)\n",
        "        QK = tf.matmul(Q, K, transpose_b=True)\n",
        "\n",
        "        scaled_qk = QK / tf.math.sqrt(d_k)\n",
        "\n",
        "        if mask is not None: scaled_qk += (mask * -1e9)  \n",
        "\n",
        "        attentions = tf.nn.softmax(scaled_qk, axis=-1)\n",
        "        out = tf.matmul(attentions, V)\n",
        "\n",
        "        return out, attentions\n",
        "        \n",
        "\n",
        "    def split_heads(self, x):\n",
        "        bsz = x.shape[0]\n",
        "        split_x = tf.reshape(x, (bsz, -1, self.num_heads, self.depth))\n",
        "        split_x = tf.transpose(split_x, perm=[0, 2, 1, 3])\n",
        "\n",
        "        return split_x\n",
        "\n",
        "    def combine_heads(self, x):\n",
        "        bsz = x.shape[0]\n",
        "        combined_x = tf.transpose(x, perm=[0, 2, 1, 3])\n",
        "        combined_x = tf.reshape(combined_x, (bsz, -1, self.d_model))\n",
        "\n",
        "        return combined_x\n",
        "\n",
        "    \n",
        "    def call(self, Q, K, V, mask):\n",
        "        WQ = self.W_q(Q)\n",
        "        WK = self.W_k(K)\n",
        "        WV = self.W_v(V)\n",
        "        \n",
        "        WQ_splits = self.split_heads(WQ)\n",
        "        WK_splits = self.split_heads(WK)\n",
        "        WV_splits = self.split_heads(WV)\n",
        "        \n",
        "        out, attention_weights = self.scaled_dot_product_attention(\n",
        "            WQ_splits, WK_splits, WV_splits, mask)\n",
        "                        \n",
        "        out = self.combine_heads(out)\n",
        "        out = self.linear(out)\n",
        "            \n",
        "        return out, attention_weights"
      ]
    },
    {
      "cell_type": "code",
      "execution_count": 62,
      "metadata": {
        "id": "V8U2HlKn69w3"
      },
      "outputs": [],
      "source": [
        "# Position-wise Feed Forward Network 구현\n",
        "class PoswiseFeedForwardNet(tf.keras.layers.Layer):\n",
        "    def __init__(self, d_model, d_ff):\n",
        "        super(PoswiseFeedForwardNet, self).__init__()\n",
        "        self.d_model = d_model\n",
        "        self.d_ff = d_ff\n",
        "\n",
        "        self.fc1 = tf.keras.layers.Dense(d_ff, activation='relu')\n",
        "        self.fc2 = tf.keras.layers.Dense(d_model)\n",
        "\n",
        "    def call(self, x):\n",
        "        out = self.fc1(x)\n",
        "        out = self.fc2(out)\n",
        "            \n",
        "        return out"
      ]
    },
    {
      "cell_type": "code",
      "execution_count": 63,
      "metadata": {
        "id": "7g1F0aRo694a"
      },
      "outputs": [],
      "source": [
        "# Encoder의 레이어 구현\n",
        "class EncoderLayer(tf.keras.layers.Layer):\n",
        "    def __init__(self, d_model, n_heads, d_ff, dropout):\n",
        "        super(EncoderLayer, self).__init__()\n",
        "\n",
        "        self.enc_self_attn = MultiHeadAttention(d_model, n_heads)\n",
        "        self.ffn = PoswiseFeedForwardNet(d_model, d_ff)\n",
        "\n",
        "        self.norm_1 = tf.keras.layers.LayerNormalization(epsilon=1e-6)\n",
        "        self.norm_2 = tf.keras.layers.LayerNormalization(epsilon=1e-6)\n",
        "\n",
        "        self.do = tf.keras.layers.Dropout(dropout)\n",
        "        \n",
        "    def call(self, x, mask):\n",
        "        '''\n",
        "        Multi-Head Attention\n",
        "        '''\n",
        "        residual = x\n",
        "        out = self.norm_1(x)\n",
        "        out, enc_attn = self.enc_self_attn(out, out, out, mask)\n",
        "        out = self.do(out)\n",
        "        out += residual\n",
        "        \n",
        "        '''\n",
        "        Position-Wise Feed Forward Network\n",
        "        '''\n",
        "        residual = out\n",
        "        out = self.norm_2(out)\n",
        "        out = self.ffn(out)\n",
        "        out = self.do(out)\n",
        "        out += residual\n",
        "        \n",
        "        return out, enc_attn"
      ]
    },
    {
      "cell_type": "code",
      "execution_count": 64,
      "metadata": {
        "id": "wjkF2wuL6-A2"
      },
      "outputs": [],
      "source": [
        "# Decoder 레이어 구현\n",
        "class DecoderLayer(tf.keras.layers.Layer):\n",
        "    def __init__(self, d_model, num_heads, d_ff, dropout):\n",
        "        super(DecoderLayer, self).__init__()\n",
        "\n",
        "        self.dec_self_attn = MultiHeadAttention(d_model, num_heads)\n",
        "        self.enc_dec_attn = MultiHeadAttention(d_model, num_heads)\n",
        "\n",
        "        self.ffn = PoswiseFeedForwardNet(d_model, d_ff)\n",
        "\n",
        "        self.norm_1 = tf.keras.layers.LayerNormalization(epsilon=1e-6)\n",
        "        self.norm_2 = tf.keras.layers.LayerNormalization(epsilon=1e-6)\n",
        "        self.norm_3 = tf.keras.layers.LayerNormalization(epsilon=1e-6)\n",
        "\n",
        "        self.do = tf.keras.layers.Dropout(dropout)\n",
        "    \n",
        "    def call(self, x, enc_out, dec_enc_mask, padding_mask):\n",
        "        '''\n",
        "        Masked Multi-Head Attention\n",
        "        '''\n",
        "        residual = x\n",
        "        out = self.norm_1(x)\n",
        "        out, dec_attn = self.dec_self_attn(out, out, out, padding_mask)\n",
        "        out = self.do(out)\n",
        "        out += residual\n",
        "\n",
        "        '''\n",
        "        Multi-Head Attention\n",
        "        '''\n",
        "        residual = out\n",
        "        out = self.norm_2(out)\n",
        "        # Q, K, V 순서에 주의하세요!\n",
        "        out, dec_enc_attn = self.enc_dec_attn(Q=out, K=enc_out, V=enc_out, mask=dec_enc_mask)\n",
        "        out = self.do(out)\n",
        "        out += residual\n",
        "        \n",
        "        '''\n",
        "        Position-Wise Feed Forward Network\n",
        "        '''\n",
        "        residual = out\n",
        "        out = self.norm_3(out)\n",
        "        out = self.ffn(out)\n",
        "        out = self.do(out)\n",
        "        out += residual\n",
        "\n",
        "        return out, dec_attn, dec_enc_attn"
      ]
    },
    {
      "cell_type": "code",
      "execution_count": 65,
      "metadata": {
        "id": "fKvh5oGH7WkO"
      },
      "outputs": [],
      "source": [
        "# Encoder 구현\n",
        "class Encoder(tf.keras.Model):\n",
        "    def __init__(self,\n",
        "                    n_layers,\n",
        "                    d_model,\n",
        "                    n_heads,\n",
        "                    d_ff,\n",
        "                    dropout):\n",
        "        super(Encoder, self).__init__()\n",
        "        self.n_layers = n_layers\n",
        "        self.enc_layers = [EncoderLayer(d_model, n_heads, d_ff, dropout) \n",
        "                        for _ in range(n_layers)]\n",
        "    \n",
        "        self.do = tf.keras.layers.Dropout(dropout)\n",
        "        \n",
        "    def call(self, x, mask):\n",
        "        out = x\n",
        "    \n",
        "        enc_attns = list()\n",
        "        for i in range(self.n_layers):\n",
        "            out, enc_attn = self.enc_layers[i](out, mask)\n",
        "            enc_attns.append(enc_attn)\n",
        "        \n",
        "        return out, enc_attns"
      ]
    },
    {
      "cell_type": "code",
      "execution_count": 66,
      "metadata": {
        "id": "py4WM47J7Wtk"
      },
      "outputs": [],
      "source": [
        "# Decoder 구현\n",
        "class Decoder(tf.keras.Model):\n",
        "    def __init__(self,\n",
        "                    n_layers,\n",
        "                    d_model,\n",
        "                    n_heads,\n",
        "                    d_ff,\n",
        "                    dropout):\n",
        "        super(Decoder, self).__init__()\n",
        "        self.n_layers = n_layers\n",
        "        self.dec_layers = [DecoderLayer(d_model, n_heads, d_ff, dropout) \n",
        "                            for _ in range(n_layers)]\n",
        "                            \n",
        "    def call(self, x, enc_out, dec_enc_mask, padding_mask):\n",
        "        out = x\n",
        "    \n",
        "        dec_attns = list()\n",
        "        dec_enc_attns = list()\n",
        "        for i in range(self.n_layers):\n",
        "            out, dec_attn, dec_enc_attn = \\\n",
        "            self.dec_layers[i](out, enc_out, dec_enc_mask, padding_mask)\n",
        "\n",
        "            dec_attns.append(dec_attn)\n",
        "            dec_enc_attns.append(dec_enc_attn)\n",
        "\n",
        "        return out, dec_attns, dec_enc_attns"
      ]
    },
    {
      "cell_type": "code",
      "source": [
        "# Transformer 조립\n",
        "\n",
        "class Transformer(tf.keras.Model):\n",
        "    def __init__(self,\n",
        "                    n_layers,\n",
        "                    d_model,\n",
        "                    n_heads,\n",
        "                    d_ff,\n",
        "                    src_vocab_size,\n",
        "                    tgt_vocab_size,\n",
        "                    pos_len,\n",
        "                    dropout=0.2,\n",
        "                    shared_fc=True,\n",
        "                    shared_emb=False):\n",
        "        super(Transformer, self).__init__()\n",
        "        \n",
        "        self.d_model = tf.cast(d_model, tf.float32)\n",
        "\n",
        "        if shared_emb:\n",
        "            self.enc_emb = self.dec_emb = \\\n",
        "            tf.keras.layers.Embedding(src_vocab_size, d_model)\n",
        "        else:\n",
        "            self.enc_emb = tf.keras.layers.Embedding(src_vocab_size, d_model)\n",
        "            self.dec_emb = tf.keras.layers.Embedding(tgt_vocab_size, d_model)\n",
        "\n",
        "        self.pos_encoding = positional_encoding(pos_len, d_model)\n",
        "        self.do = tf.keras.layers.Dropout(dropout)\n",
        "\n",
        "        self.encoder = Encoder(n_layers, d_model, n_heads, d_ff, dropout)\n",
        "        self.decoder = Decoder(n_layers, d_model, n_heads, d_ff, dropout)\n",
        "\n",
        "        self.fc = tf.keras.layers.Dense(tgt_vocab_size)\n",
        "\n",
        "        self.shared_fc = shared_fc\n",
        "\n",
        "        if shared_fc:\n",
        "            self.fc.set_weights(tf.transpose(self.dec_emb.weights))\n",
        "\n",
        "    def embedding(self, emb, x):\n",
        "        seq_len = x.shape[1]\n",
        "\n",
        "        out = emb(x)\n",
        "\n",
        "        if self.shared_fc: out *= tf.math.sqrt(self.d_model)\n",
        "\n",
        "        out += self.pos_encoding[np.newaxis, ...][:, :seq_len, :]\n",
        "        out = self.do(out)\n",
        "\n",
        "        return out\n",
        "\n",
        "        \n",
        "    def call(self, enc_in, dec_in, enc_mask, dec_enc_mask, dec_mask):\n",
        "        enc_in = self.embedding(self.enc_emb, enc_in)\n",
        "        dec_in = self.embedding(self.dec_emb, dec_in)\n",
        "\n",
        "        enc_out, enc_attns = self.encoder(enc_in, enc_mask)\n",
        "        \n",
        "        dec_out, dec_attns, dec_enc_attns = \\\n",
        "        self.decoder(dec_in, enc_out, dec_enc_mask, dec_mask)\n",
        "        \n",
        "        logits = self.fc(dec_out)\n",
        "        \n",
        "        return logits, enc_attns, dec_attns, dec_enc_attns"
      ],
      "metadata": {
        "id": "xFqk3qEFzugV"
      },
      "execution_count": 67,
      "outputs": []
    },
    {
      "cell_type": "markdown",
      "metadata": {
        "id": "rg5LE8jl6uCI"
      },
      "source": [
        "### 모델 훈련\n"
      ]
    },
    {
      "cell_type": "code",
      "execution_count": 111,
      "metadata": {
        "id": "3QOA1CqT7h_Q"
      },
      "outputs": [],
      "source": [
        "# 주어진 하이퍼파라미터로 Transformer 인스턴스 생성\n",
        "VOCAB_SIZE = len(counter)\n",
        "\n",
        "transformer = Transformer(\n",
        "    n_layers=2,\n",
        "    d_model=512,\n",
        "    n_heads=8,\n",
        "    d_ff=2048,\n",
        "    src_vocab_size=VOCAB_SIZE,\n",
        "    tgt_vocab_size=VOCAB_SIZE,\n",
        "    pos_len=200,\n",
        "    dropout=0.3,\n",
        "    shared_fc=True,\n",
        "    shared_emb=True)\n",
        "\t\t"
      ]
    },
    {
      "cell_type": "code",
      "execution_count": 101,
      "metadata": {
        "id": "k5qyKhzR7lsu"
      },
      "outputs": [],
      "source": [
        "# Learning Rate Scheduler 구현\n",
        "class LearningRateScheduler(tf.keras.optimizers.schedules.LearningRateSchedule):\n",
        "    def __init__(self, d_model, warmup_steps=4000):\n",
        "        super(LearningRateScheduler, self).__init__()\n",
        "        \n",
        "        self.d_model = d_model\n",
        "        self.warmup_steps = warmup_steps\n",
        "    \n",
        "    def __call__(self, step):\n",
        "        arg1 = step ** -0.5\n",
        "        arg2 = step * (self.warmup_steps ** -1.5)\n",
        "        \n",
        "        return (self.d_model ** -0.5) * tf.math.minimum(arg1, arg2)\n"
      ]
    },
    {
      "cell_type": "code",
      "execution_count": 112,
      "metadata": {
        "id": "T0lVUzx-7l2m"
      },
      "outputs": [],
      "source": [
        "# Learning Rate 인스턴스 선언 & Optimizer 구현\n",
        "d_model=512\n",
        "learning_rate = LearningRateScheduler(d_model)\n",
        "\n",
        "optimizer = tf.keras.optimizers.Adam(learning_rate,\n",
        "                                        beta_1=0.9,\n",
        "                                        beta_2=0.98, \n",
        "                                        epsilon=1e-9)\n"
      ]
    },
    {
      "cell_type": "code",
      "execution_count": 113,
      "metadata": {
        "id": "PFHx9BK67uRa"
      },
      "outputs": [],
      "source": [
        "# Loss Function 정의\n",
        "loss_object = tf.keras.losses.SparseCategoricalCrossentropy(\n",
        "    from_logits=True, reduction='none')\n",
        "\n",
        "def loss_function(real, pred):\n",
        "    mask = tf.math.logical_not(tf.math.equal(real, 0))\n",
        "    loss_ = loss_object(real, pred)\n",
        "\n",
        "    mask = tf.cast(mask, dtype=loss_.dtype)\n",
        "    loss_ *= mask]\n",
        "    return tf.reduce_sum(loss_)/tf.reduce_sum(mask)\n"
      ]
    },
    {
      "cell_type": "code",
      "execution_count": 114,
      "metadata": {
        "id": "XjI2PgoL7xyW"
      },
      "outputs": [],
      "source": [
        "# Train Step 정의\n",
        "@tf.function()\n",
        "def train_step(src, tgt, model, optimizer):\n",
        "    tgt_in = tgt[:, :-1]  # Decoder의 input\n",
        "    gold = tgt[:, 1:]     # Decoder의 output과 비교하기 위해 right shift를 통해 생성한 최종 타겟\n",
        "\n",
        "    enc_mask, dec_enc_mask, dec_mask = generate_masks(src, tgt_in)\n",
        "\n",
        "    with tf.GradientTape() as tape:\n",
        "        predictions, enc_attns, dec_attns, dec_enc_attns = \\\n",
        "        model(src, tgt_in, enc_mask, dec_enc_mask, dec_mask)\n",
        "        loss = loss_function(gold, predictions)\n",
        "\n",
        "    gradients = tape.gradient(loss, model.trainable_variables)    \n",
        "    optimizer.apply_gradients(zip(gradients, model.trainable_variables))\n",
        "\n",
        "    return loss, enc_attns, dec_attns, dec_enc_attns\n"
      ]
    },
    {
      "cell_type": "code",
      "source": [
        "# BATCH_SIZE = 64\n",
        "# train_dataset = tf.data.Dataset.from_tensor_slices((enc_tensor, dec_tensor)).batch(batch_size=BATCH_SIZE)\n"
      ],
      "metadata": {
        "id": "h6jhS1yG0n8m"
      },
      "execution_count": 105,
      "outputs": []
    },
    {
      "cell_type": "code",
      "execution_count": 115,
      "metadata": {
        "id": "smoUYcr774vy",
        "colab": {
          "base_uri": "https://localhost:8080/",
          "height": 327,
          "referenced_widgets": [
            "bd6295551fa74f7188d36cef1a9b9014",
            "021cab3885cd4b3caf6f6c79b1b7d0fd",
            "584fbb0ff3874a73aca6820246379e98",
            "807215cd57ac4cc2b3fe48a070876401",
            "9ad6ef55272b4d989510fd0a2e67e693",
            "8271385206004dc1908b1b7eb3c1d983",
            "c090b0f338e84a70bbe367eb728f0dcd",
            "53f65cde73fa4545a533080558b4eb12",
            "45b678845571449594b2639b64515c80",
            "988611dbfd7648fbbf0dc302b6abf225",
            "7383a817234b4d9eabaec890dd69d53f"
          ]
        },
        "outputId": "d2747d85-c12e-4126-fa0c-baf8b0bd6770"
      },
      "outputs": [
        {
          "output_type": "display_data",
          "data": {
            "text/plain": [
              "  0%|          | 0/501 [00:00<?, ?it/s]"
            ],
            "application/vnd.jupyter.widget-view+json": {
              "version_major": 2,
              "version_minor": 0,
              "model_id": "bd6295551fa74f7188d36cef1a9b9014"
            }
          },
          "metadata": {}
        },
        {
          "output_type": "stream",
          "name": "stdout",
          "text": [
            "Tensor(\"Cast_3:0\", shape=(64, 41), dtype=float32)\n",
            "Tensor(\"Cast_3:0\", shape=(64, 41), dtype=float32)\n",
            "Tensor(\"Cast_3:0\", shape=(46, 41), dtype=float32)\n"
          ]
        },
        {
          "output_type": "error",
          "ename": "KeyboardInterrupt",
          "evalue": "ignored",
          "traceback": [
            "\u001b[0;31m---------------------------------------------------------------------------\u001b[0m",
            "\u001b[0;31mKeyboardInterrupt\u001b[0m                         Traceback (most recent call last)",
            "\u001b[0;32m<ipython-input-115-00924cd1cceb>\u001b[0m in \u001b[0;36m<module>\u001b[0;34m\u001b[0m\n\u001b[1;32m      7\u001b[0m     \u001b[0mdataset_count\u001b[0m \u001b[0;34m=\u001b[0m \u001b[0mtf\u001b[0m\u001b[0;34m.\u001b[0m\u001b[0mdata\u001b[0m\u001b[0;34m.\u001b[0m\u001b[0mexperimental\u001b[0m\u001b[0;34m.\u001b[0m\u001b[0mcardinality\u001b[0m\u001b[0;34m(\u001b[0m\u001b[0mtrain_dataset\u001b[0m\u001b[0;34m)\u001b[0m\u001b[0;34m.\u001b[0m\u001b[0mnumpy\u001b[0m\u001b[0;34m(\u001b[0m\u001b[0;34m)\u001b[0m\u001b[0;34m\u001b[0m\u001b[0;34m\u001b[0m\u001b[0m\n\u001b[1;32m      8\u001b[0m     \u001b[0mtqdm_bar\u001b[0m \u001b[0;34m=\u001b[0m \u001b[0mtqdm\u001b[0m\u001b[0;34m(\u001b[0m\u001b[0mtotal\u001b[0m\u001b[0;34m=\u001b[0m\u001b[0mdataset_count\u001b[0m\u001b[0;34m)\u001b[0m\u001b[0;34m\u001b[0m\u001b[0;34m\u001b[0m\u001b[0m\n\u001b[0;32m----> 9\u001b[0;31m     \u001b[0;32mfor\u001b[0m \u001b[0mstep\u001b[0m\u001b[0;34m,\u001b[0m \u001b[0;34m(\u001b[0m\u001b[0menc_batch\u001b[0m\u001b[0;34m,\u001b[0m \u001b[0mdec_batch\u001b[0m\u001b[0;34m)\u001b[0m \u001b[0;32min\u001b[0m \u001b[0menumerate\u001b[0m\u001b[0;34m(\u001b[0m\u001b[0mtrain_dataset\u001b[0m\u001b[0;34m)\u001b[0m\u001b[0;34m:\u001b[0m\u001b[0;34m\u001b[0m\u001b[0;34m\u001b[0m\u001b[0m\n\u001b[0m\u001b[1;32m     10\u001b[0m         \u001b[0mbatch_loss\u001b[0m\u001b[0;34m,\u001b[0m \u001b[0menc_attns\u001b[0m\u001b[0;34m,\u001b[0m \u001b[0mdec_attns\u001b[0m\u001b[0;34m,\u001b[0m \u001b[0mdec_enc_attns\u001b[0m \u001b[0;34m=\u001b[0m\u001b[0;31m \u001b[0m\u001b[0;31m\\\u001b[0m\u001b[0;34m\u001b[0m\u001b[0;34m\u001b[0m\u001b[0m\n\u001b[1;32m     11\u001b[0m         train_step(enc_batch,\n",
            "\u001b[0;31mKeyboardInterrupt\u001b[0m: "
          ]
        }
      ],
      "source": [
        "# 훈련시키기\n",
        "EPOCHS = 1\n",
        "\n",
        "for epoch in range(EPOCHS):\n",
        "    total_loss = 0\n",
        "    \n",
        "    dataset_count = tf.data.experimental.cardinality(train_dataset).numpy()\n",
        "    tqdm_bar = tqdm(total=dataset_count)\n",
        "    for step, (enc_batch, dec_batch) in enumerate(train_dataset):\n",
        "        batch_loss, enc_attns, dec_attns, dec_enc_attns = \\\n",
        "        train_step(enc_batch,\n",
        "                    dec_batch,\n",
        "                    transformer,\n",
        "                    optimizer)\n",
        "\n",
        "        total_loss += batch_loss\n",
        "\n",
        "        tqdm_bar.set_description_str('Epoch %2d' % (epoch + 1))\n",
        "        tqdm_bar.set_postfix_str('Loss %.4f' % (total_loss.numpy() / (step + 1)))\n",
        "        tqdm_bar.update()"
      ]
    },
    {
      "cell_type": "code",
      "source": [
        "# # 번역 생성 함수\n",
        "\n",
        "# def evaluate(sentence, model, src_tokenizer, tgt_tokenizer):\n",
        "#     sentence = preprocess_sentence(sentence)\n",
        "\n",
        "#     pieces = src_tokenizer.encode_as_pieces(sentence)\n",
        "#     tokens = src_tokenizer.encode_as_ids(sentence)\n",
        "\n",
        "#     _input = tf.keras.preprocessing.sequence.pad_sequences([tokens],\n",
        "#                                                            maxlen=enc_train.shape[-1],\n",
        "#                                                            padding='post')\n",
        "    \n",
        "#     ids = []\n",
        "#     output = tf.expand_dims([tgt_tokenizer.bos_id()], 0)\n",
        "#     for i in range(dec_train.shape[-1]):\n",
        "#         enc_padding_mask, combined_mask, dec_padding_mask = \\\n",
        "#         generate_masks(_input, output)\n",
        "\n",
        "#         predictions, enc_attns, dec_attns, dec_enc_attns =\\\n",
        "#         model(_input, \n",
        "#               output,\n",
        "#               enc_padding_mask,\n",
        "#               combined_mask,\n",
        "#               dec_padding_mask)\n",
        "\n",
        "#         predicted_id = \\\n",
        "#         tf.argmax(tf.math.softmax(predictions, axis=-1)[0, -1]).numpy().item()\n",
        "\n",
        "#         if tgt_tokenizer.eos_id() == predicted_id:\n",
        "#             result = tgt_tokenizer.decode_ids(ids)\n",
        "#             return pieces, result, enc_attns, dec_attns, dec_enc_attns\n",
        "\n",
        "#         ids.append(predicted_id)\n",
        "#         output = tf.concat([output, tf.expand_dims([predicted_id], 0)], axis=-1)\n",
        "\n",
        "#     result = tgt_tokenizer.decode_ids(ids)\n",
        "\n",
        "#     return pieces, result, enc_attns, dec_attns, dec_enc_attns"
      ],
      "metadata": {
        "id": "Oqqz8olvlgGS"
      },
      "execution_count": null,
      "outputs": []
    },
    {
      "cell_type": "code",
      "source": [
        "# 번역 생성 함수\n",
        "\n",
        "def evaluate(sentence, model):\n",
        "    sentence = preprocess_sentence(sentence)\n",
        "    mecab = Mecab()\n",
        "    \n",
        "    \n",
        "    pieces = mecab.morphs(sentence)\n",
        "    tokens = get_encoded_sentence(sentence, word_to_index)\n",
        "\n",
        "    # pieces =   src_tokenizer.encode_as_pieces(sentence)\n",
        "    # tokens = src_tokenizer.encode_as_ids(sentence)\n",
        "\n",
        "    _input = tf.keras.preprocessing.sequence.pad_sequences([tokens],\n",
        "                                                           maxlen=enc_train.shape[-1],\n",
        "                                                           padding='post')\n",
        "    \n",
        "    ids = []\n",
        "    output = tf.expand_dims([word_to_index[\"<start>\"]], 0)\n",
        "    for i in range(dec_train.shape[-1]):\n",
        "        enc_padding_mask, combined_mask, dec_padding_mask = \\\n",
        "        generate_masks(_input, output)\n",
        "\n",
        "        predictions, enc_attns, dec_attns, dec_enc_attns =\\\n",
        "        model(_input, \n",
        "              output,\n",
        "              enc_padding_mask,\n",
        "              combined_mask,\n",
        "              dec_padding_mask)\n",
        "\n",
        "        predicted_id = \\\n",
        "        tf.argmax(tf.math.softmax(predictions, axis=-1)[0, -1]).numpy().item()\n",
        "\n",
        "        if word_to_index[\"<end>\"] == predicted_id:\n",
        "            result = get_decoded_sentence(ids, index_to_word)\n",
        "            return pieces, result, enc_attns, dec_attns, dec_enc_attns\n",
        "\n",
        "        ids.append(predicted_id)\n",
        "        output = tf.concat([output, tf.expand_dims([predicted_id], 0)], axis=-1)\n",
        "\n",
        "    result = get_decoded_sentence(ids, index_to_word)\n",
        "\n",
        "    return pieces, result, enc_attns, dec_attns, dec_enc_attns"
      ],
      "metadata": {
        "id": "TOyE_e7eq85J"
      },
      "execution_count": null,
      "outputs": []
    },
    {
      "cell_type": "code",
      "source": [
        "def translate(sentence, model):\n",
        "    pieces, result, _, _, _ = \\\n",
        "    evaluate(sentence, model)\n",
        "    \n",
        "    print('Input: %s' % (sentence))\n",
        "    print('Predicted translation: {}'.format(result))\n",
        "\n",
        "    return result"
      ],
      "metadata": {
        "id": "aUOXu99vw-y2"
      },
      "execution_count": null,
      "outputs": []
    },
    {
      "cell_type": "code",
      "source": [
        "# # 학습\n",
        "\n",
        "# from tqdm import tqdm_notebook \n",
        "\n",
        "# BATCH_SIZE = 64\n",
        "# EPOCHS = 2\n",
        "\n",
        "# examples = [\n",
        "#     \"지루하다, 놀러가고 싶어.\",\n",
        "#     \"오늘 일찍 일어났더니 피곤하다.\",\n",
        "#     \"간만에 여자친구랑 데이트 하기로 했어.\",\n",
        "#     \"집에 있는다는 소리야.\"\n",
        "# ]\n",
        "\n",
        "# for epoch in range(EPOCHS):\n",
        "#     total_loss = 0\n",
        "    \n",
        "#     idx_list = list(range(0, enc_train.shape[0], BATCH_SIZE))\n",
        "#     random.shuffle(idx_list)\n",
        "#     t = tqdm_notebook(idx_list)\n",
        "\n",
        "#     for (batch, idx) in enumerate(t):\n",
        "#         batch_loss, enc_attns, dec_attns, dec_enc_attns = \\\n",
        "#         train_step(enc_train[idx:idx+BATCH_SIZE],\n",
        "#                     dec_train[idx:idx+BATCH_SIZE],\n",
        "#                     transformer,\n",
        "#                     optimizer)\n",
        "\n",
        "#         total_loss += batch_loss\n",
        "        \n",
        "#         t.set_description_str('Epoch %2d' % (epoch + 1))\n",
        "#         t.set_postfix_str('Loss %.4f' % (total_loss.numpy() / (batch + 1)))\n",
        "\n",
        "#     for example in examples:\n",
        "#         translate(example, transformer)\n",
        "\n"
      ],
      "metadata": {
        "id": "4-ErKiW3lrYO"
      },
      "execution_count": null,
      "outputs": []
    },
    {
      "cell_type": "code",
      "source": [
        "examples = [\n",
        "    \"지루하다, 놀러가고 싶어.\",\n",
        "    \"오늘 일찍 일어났더니 피곤하다.\",\n",
        "    \"간만에 여자친구랑 데이트 하기로 했어.\",\n",
        "    \"집에 있는다는 소리야.\"\n",
        "]"
      ],
      "metadata": {
        "id": "uqdm1SRehX_Z"
      },
      "execution_count": 108,
      "outputs": []
    },
    {
      "cell_type": "code",
      "source": [
        "for example in examples:\n",
        "    translate(example, transformer)"
      ],
      "metadata": {
        "colab": {
          "base_uri": "https://localhost:8080/",
          "height": 180
        },
        "id": "AUhwIsJThb6C",
        "outputId": "918dec45-c9bb-46ad-85fe-e468f92ce699"
      },
      "execution_count": 109,
      "outputs": [
        {
          "output_type": "stream",
          "name": "stdout",
          "text": [
            "Input: 지루하다, 놀러가고 싶어.\n",
            "Predicted translation: <pad> <pad> <pad> <pad> <pad> <pad> <pad> <pad> <pad> <pad> <pad> <pad> <pad> <pad> <pad> <pad> <pad> <pad> <pad> <pad> <pad> <pad> <pad> <pad> <pad> <pad> <pad> <pad> <pad> <pad> <pad> <pad> <pad> <pad> <pad> <pad> <pad> <pad> <pad> <pad> <pad>\n",
            "Input: 오늘 일찍 일어났더니 피곤하다.\n",
            "Predicted translation: <pad> <pad> <pad> <pad> <pad> <pad> <pad> <pad> <pad> <pad> <pad> <pad> <pad> <pad> <pad> <pad> <pad> <pad> <pad> <pad> <pad> <pad> <pad> <pad> <pad> <pad> <pad> <pad> <pad> <pad> <pad> <pad> <pad> <pad> <pad> <pad> <pad> <pad> <pad> <pad> <pad>\n",
            "Input: 간만에 여자친구랑 데이트 하기로 했어.\n",
            "Predicted translation: <pad> <pad> <pad> <pad> <pad> <pad> <pad> <pad> <pad> <pad> <pad> <pad> <pad> <pad> <pad> <pad> <pad> <pad> <pad> <pad> <pad> <pad> <pad> <pad> <pad> <pad> <pad> <pad> <pad> <pad> <pad> <pad> <pad> <pad> <pad> <pad> <pad> <pad> <pad> <pad> <pad>\n",
            "Input: 집에 있는다는 소리야.\n",
            "Predicted translation: <pad> <pad> <pad> <pad> <pad> <pad> <pad> <pad> <pad> <pad> <pad> <pad> <pad> <pad> <pad> <pad> <pad> <pad> <pad> <pad> <pad> <pad> <pad> <pad> <pad> <pad> <pad> <pad> <pad> <pad> <pad> <pad> <pad> <pad> <pad> <pad> <pad> <pad> <pad> <pad> <pad>\n"
          ]
        }
      ]
    },
    {
      "cell_type": "code",
      "source": [
        "translate('12시 땡!', transformer)"
      ],
      "metadata": {
        "id": "GSSfwIjf9BR3"
      },
      "execution_count": null,
      "outputs": []
    },
    {
      "cell_type": "markdown",
      "metadata": {
        "id": "MUpi1PZTPUB1"
      },
      "source": [
        "## STEP 7. 성능 측정하기"
      ]
    },
    {
      "cell_type": "markdown",
      "metadata": {
        "id": "KOs7H_SmYR2L"
      },
      "source": [
        "`calculate_bleu()` : 주어진 질문에 적절한 답변을 하는지 확인하고, BLEU Score를 계산 (챗봇 평가지표)\n",
        "\n",
        "\n"
      ]
    },
    {
      "cell_type": "code",
      "source": [
        "def eval_bleu(src_corpus, tgt_corpus, verbose=True):\n",
        "    total_score = 0.0\n",
        "    sample_size = len(tgt_corpus)\n",
        "\n",
        "    for idx in tqdm_notebook(range(sample_size)):\n",
        "        src_tokens = src_corpus[idx]\n",
        "        tgt_tokens = tgt_corpus[idx]\n",
        "        \n",
        "        src = []\n",
        "        tgt = []\n",
        "        \n",
        "        for word in src_tokens:\n",
        "            if word !=0 and word !=1 and word !=3 and word !=4:\n",
        "                src.append(word)\n",
        "        \n",
        "        for word in tgt_tokens:\n",
        "            if word != 0 and word != 3 and word !=4:\n",
        "                tgt.append(word)\n",
        "\n",
        "        src_sentence = get_decoded_sentence(src, index_to_word)\n",
        "        tgt_sentence = get_decoded_sentence(tgt, index_to_word)\n",
        "        \n",
        "        \n",
        "        reference = preprocess_sentence(tgt_sentence)\n",
        "        candidate = translate(src_sentence, transformer)\n",
        "\n",
        "        score = sentence_bleu([reference], candidate,\n",
        "                              smoothing_function=SmoothingFunction().method1)\n",
        "        total_score += score\n",
        "\n",
        "        if verbose:\n",
        "            print(\"Source Sentence: \", src_sentence)\n",
        "            print(\"Model Prediction: \", candidate)\n",
        "            print(\"Real: \", reference)\n",
        "            print(\"Score: %lf\\n\" % score)\n",
        "\n",
        "    print(\"Num of Sample:\", sample_size)\n",
        "    print(\"Total Score:\", total_score / sample_size)"
      ],
      "metadata": {
        "id": "mDxzkhh_u1rM"
      },
      "execution_count": null,
      "outputs": []
    },
    {
      "cell_type": "code",
      "source": [
        "eval_bleu(enc_val[::5], dec_val[::5], verbose=True)"
      ],
      "metadata": {
        "id": "6GrsHaw6u6x3"
      },
      "execution_count": null,
      "outputs": []
    },
    {
      "cell_type": "markdown",
      "source": [
        "# 회고\n",
        "\n",
        "### - 이번 프로젝트에서 **어려웠던 점**.\n",
        "> 해결 못한 부분\n",
        "*  Loss 값이 자꾸 Nan으로 반환되어서 결과물도 \\<pad>만 반복되었다.\n",
        "도저히 원인을 찾을 수 없어서 마음이 아프다. \n",
        "\n",
        "### - 프로젝트를 진행하면서 **알아낸 점** 혹은 **아직 모호한 점**.\n",
        "> 알아낸 점\n",
        "* gensim 모델 불러와서 word2vec 실행해보기\n",
        "* 한줄 코드 읽는법을 다시 한번 공부했다\n",
        "\n",
        "> 아직 모호한점\n",
        "*  bleu score 함수를 해당 task에 맞게  변형하는 법이 아직 이해가 조금  부족하다.\n",
        "\n",
        "\n",
        "\n",
        "### - 루브릭 평가 지표를 맞추기 위해 **시도한 것들**.\n",
        "\n",
        "\n",
        ">#### **루브릭평가 지표**\n",
        ">|번호|평가문항|상세기준|\n",
        ">|:---:|---|---|\n",
        ">|1| 챗봇 훈련데이터 `전처리 과정`이 체계적으로 진행되었는가? |챗봇 훈련데이터를 위한 `전처리와 augmentation`이 적절히 수행되어 3만개 가량의 훈련데이터셋이 구축되었다.|\n",
        ">|2| transformer 모델을 활용한 챗봇 모델이 `과적합을 피해 안정적`으로 훈련되었는가?| 과적합을 피할 수 있는 `하이퍼파라미터 셋`이 적절히 제시되었다.|\n",
        ">|3|챗봇이 사용자의 `질문에 그럴듯한 형태로 답하는 사례`가 있는가?|주어진 예문을 포함하여 챗봇에 던진 질문에 적절히 답하는 사례가 제출되었다.|\n",
        "\n",
        "\n",
        "### - **자기 다짐**\n",
        "\n",
        "* 코드 복기\n",
        "\n",
        "### - **참고**\n",
        ">참고 깃허브\n",
        "* https://github.com/kimddogyun/NLP_AIFFEL/blob/main/GD_12.ipynb\n",
        "* https://github.com/jx-dohwan/Aiffel_NLP_Project/blob/main/%5BNLP_12%5DCreate_a_cool_chatbot.ipynb\n",
        "* https://github.com/nevermet/AIFFEL/blob/master/G12_NiceChatBot.ipynb\n",
        "\n",
        "\n"
      ],
      "metadata": {
        "id": "0322nHTbWX5w"
      }
    },
    {
      "cell_type": "code",
      "source": [],
      "metadata": {
        "id": "iQEfKSAmxE2e"
      },
      "execution_count": null,
      "outputs": []
    }
  ],
  "metadata": {
    "accelerator": "GPU",
    "colab": {
      "collapsed_sections": [],
      "machine_shape": "hm",
      "provenance": []
    },
    "kernelspec": {
      "display_name": "Python 3",
      "name": "python3"
    },
    "language_info": {
      "name": "python"
    },
    "widgets": {
      "application/vnd.jupyter.widget-state+json": {
        "a856eae7917944f6bba55f955f268414": {
          "model_module": "@jupyter-widgets/controls",
          "model_name": "HBoxModel",
          "model_module_version": "1.5.0",
          "state": {
            "_dom_classes": [],
            "_model_module": "@jupyter-widgets/controls",
            "_model_module_version": "1.5.0",
            "_model_name": "HBoxModel",
            "_view_count": null,
            "_view_module": "@jupyter-widgets/controls",
            "_view_module_version": "1.5.0",
            "_view_name": "HBoxView",
            "box_style": "",
            "children": [
              "IPY_MODEL_9a2b2ed4f406451580e60081fbc64b25",
              "IPY_MODEL_7ae5012ac83c43c6ad3b79d320cff10d",
              "IPY_MODEL_755fe18093854da1acdd081a7087ed28"
            ],
            "layout": "IPY_MODEL_f340139630ca4946ac88488219a911db"
          }
        },
        "9a2b2ed4f406451580e60081fbc64b25": {
          "model_module": "@jupyter-widgets/controls",
          "model_name": "HTMLModel",
          "model_module_version": "1.5.0",
          "state": {
            "_dom_classes": [],
            "_model_module": "@jupyter-widgets/controls",
            "_model_module_version": "1.5.0",
            "_model_name": "HTMLModel",
            "_view_count": null,
            "_view_module": "@jupyter-widgets/controls",
            "_view_module_version": "1.5.0",
            "_view_name": "HTMLView",
            "description": "",
            "description_tooltip": null,
            "layout": "IPY_MODEL_9348f223a51d447fa83b14cde21397b5",
            "placeholder": "​",
            "style": "IPY_MODEL_6ee9bdd5cf9e4bebaf6e86f6861e28bb",
            "value": "100%"
          }
        },
        "7ae5012ac83c43c6ad3b79d320cff10d": {
          "model_module": "@jupyter-widgets/controls",
          "model_name": "FloatProgressModel",
          "model_module_version": "1.5.0",
          "state": {
            "_dom_classes": [],
            "_model_module": "@jupyter-widgets/controls",
            "_model_module_version": "1.5.0",
            "_model_name": "FloatProgressModel",
            "_view_count": null,
            "_view_module": "@jupyter-widgets/controls",
            "_view_module_version": "1.5.0",
            "_view_name": "ProgressView",
            "bar_style": "success",
            "description": "",
            "description_tooltip": null,
            "layout": "IPY_MODEL_e234e0b302914b56b8fcdc057745523e",
            "max": 118370,
            "min": 0,
            "orientation": "horizontal",
            "style": "IPY_MODEL_e17aa3408d0d4db6aca85a6f2687a839",
            "value": 118370
          }
        },
        "755fe18093854da1acdd081a7087ed28": {
          "model_module": "@jupyter-widgets/controls",
          "model_name": "HTMLModel",
          "model_module_version": "1.5.0",
          "state": {
            "_dom_classes": [],
            "_model_module": "@jupyter-widgets/controls",
            "_model_module_version": "1.5.0",
            "_model_name": "HTMLModel",
            "_view_count": null,
            "_view_module": "@jupyter-widgets/controls",
            "_view_module_version": "1.5.0",
            "_view_name": "HTMLView",
            "description": "",
            "description_tooltip": null,
            "layout": "IPY_MODEL_b9362175968a458196f3ccc4477b0964",
            "placeholder": "​",
            "style": "IPY_MODEL_e77ae83c896a43f89f055a1e4dc6a2ba",
            "value": " 118370/118370 [00:00&lt;00:00, 675186.59it/s]"
          }
        },
        "f340139630ca4946ac88488219a911db": {
          "model_module": "@jupyter-widgets/base",
          "model_name": "LayoutModel",
          "model_module_version": "1.2.0",
          "state": {
            "_model_module": "@jupyter-widgets/base",
            "_model_module_version": "1.2.0",
            "_model_name": "LayoutModel",
            "_view_count": null,
            "_view_module": "@jupyter-widgets/base",
            "_view_module_version": "1.2.0",
            "_view_name": "LayoutView",
            "align_content": null,
            "align_items": null,
            "align_self": null,
            "border": null,
            "bottom": null,
            "display": null,
            "flex": null,
            "flex_flow": null,
            "grid_area": null,
            "grid_auto_columns": null,
            "grid_auto_flow": null,
            "grid_auto_rows": null,
            "grid_column": null,
            "grid_gap": null,
            "grid_row": null,
            "grid_template_areas": null,
            "grid_template_columns": null,
            "grid_template_rows": null,
            "height": null,
            "justify_content": null,
            "justify_items": null,
            "left": null,
            "margin": null,
            "max_height": null,
            "max_width": null,
            "min_height": null,
            "min_width": null,
            "object_fit": null,
            "object_position": null,
            "order": null,
            "overflow": null,
            "overflow_x": null,
            "overflow_y": null,
            "padding": null,
            "right": null,
            "top": null,
            "visibility": null,
            "width": null
          }
        },
        "9348f223a51d447fa83b14cde21397b5": {
          "model_module": "@jupyter-widgets/base",
          "model_name": "LayoutModel",
          "model_module_version": "1.2.0",
          "state": {
            "_model_module": "@jupyter-widgets/base",
            "_model_module_version": "1.2.0",
            "_model_name": "LayoutModel",
            "_view_count": null,
            "_view_module": "@jupyter-widgets/base",
            "_view_module_version": "1.2.0",
            "_view_name": "LayoutView",
            "align_content": null,
            "align_items": null,
            "align_self": null,
            "border": null,
            "bottom": null,
            "display": null,
            "flex": null,
            "flex_flow": null,
            "grid_area": null,
            "grid_auto_columns": null,
            "grid_auto_flow": null,
            "grid_auto_rows": null,
            "grid_column": null,
            "grid_gap": null,
            "grid_row": null,
            "grid_template_areas": null,
            "grid_template_columns": null,
            "grid_template_rows": null,
            "height": null,
            "justify_content": null,
            "justify_items": null,
            "left": null,
            "margin": null,
            "max_height": null,
            "max_width": null,
            "min_height": null,
            "min_width": null,
            "object_fit": null,
            "object_position": null,
            "order": null,
            "overflow": null,
            "overflow_x": null,
            "overflow_y": null,
            "padding": null,
            "right": null,
            "top": null,
            "visibility": null,
            "width": null
          }
        },
        "6ee9bdd5cf9e4bebaf6e86f6861e28bb": {
          "model_module": "@jupyter-widgets/controls",
          "model_name": "DescriptionStyleModel",
          "model_module_version": "1.5.0",
          "state": {
            "_model_module": "@jupyter-widgets/controls",
            "_model_module_version": "1.5.0",
            "_model_name": "DescriptionStyleModel",
            "_view_count": null,
            "_view_module": "@jupyter-widgets/base",
            "_view_module_version": "1.2.0",
            "_view_name": "StyleView",
            "description_width": ""
          }
        },
        "e234e0b302914b56b8fcdc057745523e": {
          "model_module": "@jupyter-widgets/base",
          "model_name": "LayoutModel",
          "model_module_version": "1.2.0",
          "state": {
            "_model_module": "@jupyter-widgets/base",
            "_model_module_version": "1.2.0",
            "_model_name": "LayoutModel",
            "_view_count": null,
            "_view_module": "@jupyter-widgets/base",
            "_view_module_version": "1.2.0",
            "_view_name": "LayoutView",
            "align_content": null,
            "align_items": null,
            "align_self": null,
            "border": null,
            "bottom": null,
            "display": null,
            "flex": null,
            "flex_flow": null,
            "grid_area": null,
            "grid_auto_columns": null,
            "grid_auto_flow": null,
            "grid_auto_rows": null,
            "grid_column": null,
            "grid_gap": null,
            "grid_row": null,
            "grid_template_areas": null,
            "grid_template_columns": null,
            "grid_template_rows": null,
            "height": null,
            "justify_content": null,
            "justify_items": null,
            "left": null,
            "margin": null,
            "max_height": null,
            "max_width": null,
            "min_height": null,
            "min_width": null,
            "object_fit": null,
            "object_position": null,
            "order": null,
            "overflow": null,
            "overflow_x": null,
            "overflow_y": null,
            "padding": null,
            "right": null,
            "top": null,
            "visibility": null,
            "width": null
          }
        },
        "e17aa3408d0d4db6aca85a6f2687a839": {
          "model_module": "@jupyter-widgets/controls",
          "model_name": "ProgressStyleModel",
          "model_module_version": "1.5.0",
          "state": {
            "_model_module": "@jupyter-widgets/controls",
            "_model_module_version": "1.5.0",
            "_model_name": "ProgressStyleModel",
            "_view_count": null,
            "_view_module": "@jupyter-widgets/base",
            "_view_module_version": "1.2.0",
            "_view_name": "StyleView",
            "bar_color": null,
            "description_width": ""
          }
        },
        "b9362175968a458196f3ccc4477b0964": {
          "model_module": "@jupyter-widgets/base",
          "model_name": "LayoutModel",
          "model_module_version": "1.2.0",
          "state": {
            "_model_module": "@jupyter-widgets/base",
            "_model_module_version": "1.2.0",
            "_model_name": "LayoutModel",
            "_view_count": null,
            "_view_module": "@jupyter-widgets/base",
            "_view_module_version": "1.2.0",
            "_view_name": "LayoutView",
            "align_content": null,
            "align_items": null,
            "align_self": null,
            "border": null,
            "bottom": null,
            "display": null,
            "flex": null,
            "flex_flow": null,
            "grid_area": null,
            "grid_auto_columns": null,
            "grid_auto_flow": null,
            "grid_auto_rows": null,
            "grid_column": null,
            "grid_gap": null,
            "grid_row": null,
            "grid_template_areas": null,
            "grid_template_columns": null,
            "grid_template_rows": null,
            "height": null,
            "justify_content": null,
            "justify_items": null,
            "left": null,
            "margin": null,
            "max_height": null,
            "max_width": null,
            "min_height": null,
            "min_width": null,
            "object_fit": null,
            "object_position": null,
            "order": null,
            "overflow": null,
            "overflow_x": null,
            "overflow_y": null,
            "padding": null,
            "right": null,
            "top": null,
            "visibility": null,
            "width": null
          }
        },
        "e77ae83c896a43f89f055a1e4dc6a2ba": {
          "model_module": "@jupyter-widgets/controls",
          "model_name": "DescriptionStyleModel",
          "model_module_version": "1.5.0",
          "state": {
            "_model_module": "@jupyter-widgets/controls",
            "_model_module_version": "1.5.0",
            "_model_name": "DescriptionStyleModel",
            "_view_count": null,
            "_view_module": "@jupyter-widgets/base",
            "_view_module_version": "1.2.0",
            "_view_name": "StyleView",
            "description_width": ""
          }
        },
        "376f46b845a042ff9831fd30d209af16": {
          "model_module": "@jupyter-widgets/controls",
          "model_name": "HBoxModel",
          "model_module_version": "1.5.0",
          "state": {
            "_dom_classes": [],
            "_model_module": "@jupyter-widgets/controls",
            "_model_module_version": "1.5.0",
            "_model_name": "HBoxModel",
            "_view_count": null,
            "_view_module": "@jupyter-widgets/controls",
            "_view_module_version": "1.5.0",
            "_view_name": "HBoxView",
            "box_style": "",
            "children": [
              "IPY_MODEL_bb2938011206408280e21a703f93d101",
              "IPY_MODEL_cdd7edfb9c484f678ff2349b465a78af",
              "IPY_MODEL_39f1c2cd1f9f406bb625351bc10fd967"
            ],
            "layout": "IPY_MODEL_d186413ae6824ac4975277577ddc77f9"
          }
        },
        "bb2938011206408280e21a703f93d101": {
          "model_module": "@jupyter-widgets/controls",
          "model_name": "HTMLModel",
          "model_module_version": "1.5.0",
          "state": {
            "_dom_classes": [],
            "_model_module": "@jupyter-widgets/controls",
            "_model_module_version": "1.5.0",
            "_model_name": "HTMLModel",
            "_view_count": null,
            "_view_module": "@jupyter-widgets/controls",
            "_view_module_version": "1.5.0",
            "_view_name": "HTMLView",
            "description": "",
            "description_tooltip": null,
            "layout": "IPY_MODEL_cc1cf82beccb4caf8632684a3e5c6e50",
            "placeholder": "​",
            "style": "IPY_MODEL_3cf60442de5746eea8376d757b749cc1",
            "value": "100%"
          }
        },
        "cdd7edfb9c484f678ff2349b465a78af": {
          "model_module": "@jupyter-widgets/controls",
          "model_name": "FloatProgressModel",
          "model_module_version": "1.5.0",
          "state": {
            "_dom_classes": [],
            "_model_module": "@jupyter-widgets/controls",
            "_model_module_version": "1.5.0",
            "_model_name": "FloatProgressModel",
            "_view_count": null,
            "_view_module": "@jupyter-widgets/controls",
            "_view_module_version": "1.5.0",
            "_view_name": "ProgressView",
            "bar_style": "success",
            "description": "",
            "description_tooltip": null,
            "layout": "IPY_MODEL_1d58815324f24223af6e57709fb32fde",
            "max": 594,
            "min": 0,
            "orientation": "horizontal",
            "style": "IPY_MODEL_e4bd9a4b1ada45afbac1c3ee16cb443d",
            "value": 594
          }
        },
        "39f1c2cd1f9f406bb625351bc10fd967": {
          "model_module": "@jupyter-widgets/controls",
          "model_name": "HTMLModel",
          "model_module_version": "1.5.0",
          "state": {
            "_dom_classes": [],
            "_model_module": "@jupyter-widgets/controls",
            "_model_module_version": "1.5.0",
            "_model_name": "HTMLModel",
            "_view_count": null,
            "_view_module": "@jupyter-widgets/controls",
            "_view_module_version": "1.5.0",
            "_view_name": "HTMLView",
            "description": "",
            "description_tooltip": null,
            "layout": "IPY_MODEL_9f3d7c7c94784705b4f639a4262b93e8",
            "placeholder": "​",
            "style": "IPY_MODEL_480e4b1114dc43539bf2450e752afc61",
            "value": " 594/594 [00:00&lt;00:00, 22332.53it/s]"
          }
        },
        "d186413ae6824ac4975277577ddc77f9": {
          "model_module": "@jupyter-widgets/base",
          "model_name": "LayoutModel",
          "model_module_version": "1.2.0",
          "state": {
            "_model_module": "@jupyter-widgets/base",
            "_model_module_version": "1.2.0",
            "_model_name": "LayoutModel",
            "_view_count": null,
            "_view_module": "@jupyter-widgets/base",
            "_view_module_version": "1.2.0",
            "_view_name": "LayoutView",
            "align_content": null,
            "align_items": null,
            "align_self": null,
            "border": null,
            "bottom": null,
            "display": null,
            "flex": null,
            "flex_flow": null,
            "grid_area": null,
            "grid_auto_columns": null,
            "grid_auto_flow": null,
            "grid_auto_rows": null,
            "grid_column": null,
            "grid_gap": null,
            "grid_row": null,
            "grid_template_areas": null,
            "grid_template_columns": null,
            "grid_template_rows": null,
            "height": null,
            "justify_content": null,
            "justify_items": null,
            "left": null,
            "margin": null,
            "max_height": null,
            "max_width": null,
            "min_height": null,
            "min_width": null,
            "object_fit": null,
            "object_position": null,
            "order": null,
            "overflow": null,
            "overflow_x": null,
            "overflow_y": null,
            "padding": null,
            "right": null,
            "top": null,
            "visibility": null,
            "width": null
          }
        },
        "cc1cf82beccb4caf8632684a3e5c6e50": {
          "model_module": "@jupyter-widgets/base",
          "model_name": "LayoutModel",
          "model_module_version": "1.2.0",
          "state": {
            "_model_module": "@jupyter-widgets/base",
            "_model_module_version": "1.2.0",
            "_model_name": "LayoutModel",
            "_view_count": null,
            "_view_module": "@jupyter-widgets/base",
            "_view_module_version": "1.2.0",
            "_view_name": "LayoutView",
            "align_content": null,
            "align_items": null,
            "align_self": null,
            "border": null,
            "bottom": null,
            "display": null,
            "flex": null,
            "flex_flow": null,
            "grid_area": null,
            "grid_auto_columns": null,
            "grid_auto_flow": null,
            "grid_auto_rows": null,
            "grid_column": null,
            "grid_gap": null,
            "grid_row": null,
            "grid_template_areas": null,
            "grid_template_columns": null,
            "grid_template_rows": null,
            "height": null,
            "justify_content": null,
            "justify_items": null,
            "left": null,
            "margin": null,
            "max_height": null,
            "max_width": null,
            "min_height": null,
            "min_width": null,
            "object_fit": null,
            "object_position": null,
            "order": null,
            "overflow": null,
            "overflow_x": null,
            "overflow_y": null,
            "padding": null,
            "right": null,
            "top": null,
            "visibility": null,
            "width": null
          }
        },
        "3cf60442de5746eea8376d757b749cc1": {
          "model_module": "@jupyter-widgets/controls",
          "model_name": "DescriptionStyleModel",
          "model_module_version": "1.5.0",
          "state": {
            "_model_module": "@jupyter-widgets/controls",
            "_model_module_version": "1.5.0",
            "_model_name": "DescriptionStyleModel",
            "_view_count": null,
            "_view_module": "@jupyter-widgets/base",
            "_view_module_version": "1.2.0",
            "_view_name": "StyleView",
            "description_width": ""
          }
        },
        "1d58815324f24223af6e57709fb32fde": {
          "model_module": "@jupyter-widgets/base",
          "model_name": "LayoutModel",
          "model_module_version": "1.2.0",
          "state": {
            "_model_module": "@jupyter-widgets/base",
            "_model_module_version": "1.2.0",
            "_model_name": "LayoutModel",
            "_view_count": null,
            "_view_module": "@jupyter-widgets/base",
            "_view_module_version": "1.2.0",
            "_view_name": "LayoutView",
            "align_content": null,
            "align_items": null,
            "align_self": null,
            "border": null,
            "bottom": null,
            "display": null,
            "flex": null,
            "flex_flow": null,
            "grid_area": null,
            "grid_auto_columns": null,
            "grid_auto_flow": null,
            "grid_auto_rows": null,
            "grid_column": null,
            "grid_gap": null,
            "grid_row": null,
            "grid_template_areas": null,
            "grid_template_columns": null,
            "grid_template_rows": null,
            "height": null,
            "justify_content": null,
            "justify_items": null,
            "left": null,
            "margin": null,
            "max_height": null,
            "max_width": null,
            "min_height": null,
            "min_width": null,
            "object_fit": null,
            "object_position": null,
            "order": null,
            "overflow": null,
            "overflow_x": null,
            "overflow_y": null,
            "padding": null,
            "right": null,
            "top": null,
            "visibility": null,
            "width": null
          }
        },
        "e4bd9a4b1ada45afbac1c3ee16cb443d": {
          "model_module": "@jupyter-widgets/controls",
          "model_name": "ProgressStyleModel",
          "model_module_version": "1.5.0",
          "state": {
            "_model_module": "@jupyter-widgets/controls",
            "_model_module_version": "1.5.0",
            "_model_name": "ProgressStyleModel",
            "_view_count": null,
            "_view_module": "@jupyter-widgets/base",
            "_view_module_version": "1.2.0",
            "_view_name": "StyleView",
            "bar_color": null,
            "description_width": ""
          }
        },
        "9f3d7c7c94784705b4f639a4262b93e8": {
          "model_module": "@jupyter-widgets/base",
          "model_name": "LayoutModel",
          "model_module_version": "1.2.0",
          "state": {
            "_model_module": "@jupyter-widgets/base",
            "_model_module_version": "1.2.0",
            "_model_name": "LayoutModel",
            "_view_count": null,
            "_view_module": "@jupyter-widgets/base",
            "_view_module_version": "1.2.0",
            "_view_name": "LayoutView",
            "align_content": null,
            "align_items": null,
            "align_self": null,
            "border": null,
            "bottom": null,
            "display": null,
            "flex": null,
            "flex_flow": null,
            "grid_area": null,
            "grid_auto_columns": null,
            "grid_auto_flow": null,
            "grid_auto_rows": null,
            "grid_column": null,
            "grid_gap": null,
            "grid_row": null,
            "grid_template_areas": null,
            "grid_template_columns": null,
            "grid_template_rows": null,
            "height": null,
            "justify_content": null,
            "justify_items": null,
            "left": null,
            "margin": null,
            "max_height": null,
            "max_width": null,
            "min_height": null,
            "min_width": null,
            "object_fit": null,
            "object_position": null,
            "order": null,
            "overflow": null,
            "overflow_x": null,
            "overflow_y": null,
            "padding": null,
            "right": null,
            "top": null,
            "visibility": null,
            "width": null
          }
        },
        "480e4b1114dc43539bf2450e752afc61": {
          "model_module": "@jupyter-widgets/controls",
          "model_name": "DescriptionStyleModel",
          "model_module_version": "1.5.0",
          "state": {
            "_model_module": "@jupyter-widgets/controls",
            "_model_module_version": "1.5.0",
            "_model_name": "DescriptionStyleModel",
            "_view_count": null,
            "_view_module": "@jupyter-widgets/base",
            "_view_module_version": "1.2.0",
            "_view_name": "StyleView",
            "description_width": ""
          }
        },
        "07e60c4b54f546f39c4ef8f68f2585ed": {
          "model_module": "@jupyter-widgets/controls",
          "model_name": "HBoxModel",
          "model_module_version": "1.5.0",
          "state": {
            "_dom_classes": [],
            "_model_module": "@jupyter-widgets/controls",
            "_model_module_version": "1.5.0",
            "_model_name": "HBoxModel",
            "_view_count": null,
            "_view_module": "@jupyter-widgets/controls",
            "_view_module_version": "1.5.0",
            "_view_name": "HBoxView",
            "box_style": "",
            "children": [
              "IPY_MODEL_e6df1ca080fe45f996c21a9b7662b0d2",
              "IPY_MODEL_d923e42793764bf0a981ce68b2324e28",
              "IPY_MODEL_2ae7dba7f9184228ab8847f16b4c8ba0"
            ],
            "layout": "IPY_MODEL_096a530a7e4b4603b7413909c543a210"
          }
        },
        "e6df1ca080fe45f996c21a9b7662b0d2": {
          "model_module": "@jupyter-widgets/controls",
          "model_name": "HTMLModel",
          "model_module_version": "1.5.0",
          "state": {
            "_dom_classes": [],
            "_model_module": "@jupyter-widgets/controls",
            "_model_module_version": "1.5.0",
            "_model_name": "HTMLModel",
            "_view_count": null,
            "_view_module": "@jupyter-widgets/controls",
            "_view_module_version": "1.5.0",
            "_view_name": "HTMLView",
            "description": "",
            "description_tooltip": null,
            "layout": "IPY_MODEL_d585fde0a19a433db65674c09588cdee",
            "placeholder": "​",
            "style": "IPY_MODEL_7deaf276ef28478b846e207d68573d38",
            "value": "100%"
          }
        },
        "d923e42793764bf0a981ce68b2324e28": {
          "model_module": "@jupyter-widgets/controls",
          "model_name": "FloatProgressModel",
          "model_module_version": "1.5.0",
          "state": {
            "_dom_classes": [],
            "_model_module": "@jupyter-widgets/controls",
            "_model_module_version": "1.5.0",
            "_model_name": "FloatProgressModel",
            "_view_count": null,
            "_view_module": "@jupyter-widgets/controls",
            "_view_module_version": "1.5.0",
            "_view_name": "ProgressView",
            "bar_style": "success",
            "description": "",
            "description_tooltip": null,
            "layout": "IPY_MODEL_cb7b0c00b99f44958764867fa69c4854",
            "max": 118370,
            "min": 0,
            "orientation": "horizontal",
            "style": "IPY_MODEL_1ebadd002b5f4b3db14bda094beb7a7e",
            "value": 118370
          }
        },
        "2ae7dba7f9184228ab8847f16b4c8ba0": {
          "model_module": "@jupyter-widgets/controls",
          "model_name": "HTMLModel",
          "model_module_version": "1.5.0",
          "state": {
            "_dom_classes": [],
            "_model_module": "@jupyter-widgets/controls",
            "_model_module_version": "1.5.0",
            "_model_name": "HTMLModel",
            "_view_count": null,
            "_view_module": "@jupyter-widgets/controls",
            "_view_module_version": "1.5.0",
            "_view_name": "HTMLView",
            "description": "",
            "description_tooltip": null,
            "layout": "IPY_MODEL_69d1486476e94e1984d1454564422544",
            "placeholder": "​",
            "style": "IPY_MODEL_5acd64a651e1408fbb56ac78ec0979cb",
            "value": " 118370/118370 [00:01&lt;00:00, 58247.33it/s]"
          }
        },
        "096a530a7e4b4603b7413909c543a210": {
          "model_module": "@jupyter-widgets/base",
          "model_name": "LayoutModel",
          "model_module_version": "1.2.0",
          "state": {
            "_model_module": "@jupyter-widgets/base",
            "_model_module_version": "1.2.0",
            "_model_name": "LayoutModel",
            "_view_count": null,
            "_view_module": "@jupyter-widgets/base",
            "_view_module_version": "1.2.0",
            "_view_name": "LayoutView",
            "align_content": null,
            "align_items": null,
            "align_self": null,
            "border": null,
            "bottom": null,
            "display": null,
            "flex": null,
            "flex_flow": null,
            "grid_area": null,
            "grid_auto_columns": null,
            "grid_auto_flow": null,
            "grid_auto_rows": null,
            "grid_column": null,
            "grid_gap": null,
            "grid_row": null,
            "grid_template_areas": null,
            "grid_template_columns": null,
            "grid_template_rows": null,
            "height": null,
            "justify_content": null,
            "justify_items": null,
            "left": null,
            "margin": null,
            "max_height": null,
            "max_width": null,
            "min_height": null,
            "min_width": null,
            "object_fit": null,
            "object_position": null,
            "order": null,
            "overflow": null,
            "overflow_x": null,
            "overflow_y": null,
            "padding": null,
            "right": null,
            "top": null,
            "visibility": null,
            "width": null
          }
        },
        "d585fde0a19a433db65674c09588cdee": {
          "model_module": "@jupyter-widgets/base",
          "model_name": "LayoutModel",
          "model_module_version": "1.2.0",
          "state": {
            "_model_module": "@jupyter-widgets/base",
            "_model_module_version": "1.2.0",
            "_model_name": "LayoutModel",
            "_view_count": null,
            "_view_module": "@jupyter-widgets/base",
            "_view_module_version": "1.2.0",
            "_view_name": "LayoutView",
            "align_content": null,
            "align_items": null,
            "align_self": null,
            "border": null,
            "bottom": null,
            "display": null,
            "flex": null,
            "flex_flow": null,
            "grid_area": null,
            "grid_auto_columns": null,
            "grid_auto_flow": null,
            "grid_auto_rows": null,
            "grid_column": null,
            "grid_gap": null,
            "grid_row": null,
            "grid_template_areas": null,
            "grid_template_columns": null,
            "grid_template_rows": null,
            "height": null,
            "justify_content": null,
            "justify_items": null,
            "left": null,
            "margin": null,
            "max_height": null,
            "max_width": null,
            "min_height": null,
            "min_width": null,
            "object_fit": null,
            "object_position": null,
            "order": null,
            "overflow": null,
            "overflow_x": null,
            "overflow_y": null,
            "padding": null,
            "right": null,
            "top": null,
            "visibility": null,
            "width": null
          }
        },
        "7deaf276ef28478b846e207d68573d38": {
          "model_module": "@jupyter-widgets/controls",
          "model_name": "DescriptionStyleModel",
          "model_module_version": "1.5.0",
          "state": {
            "_model_module": "@jupyter-widgets/controls",
            "_model_module_version": "1.5.0",
            "_model_name": "DescriptionStyleModel",
            "_view_count": null,
            "_view_module": "@jupyter-widgets/base",
            "_view_module_version": "1.2.0",
            "_view_name": "StyleView",
            "description_width": ""
          }
        },
        "cb7b0c00b99f44958764867fa69c4854": {
          "model_module": "@jupyter-widgets/base",
          "model_name": "LayoutModel",
          "model_module_version": "1.2.0",
          "state": {
            "_model_module": "@jupyter-widgets/base",
            "_model_module_version": "1.2.0",
            "_model_name": "LayoutModel",
            "_view_count": null,
            "_view_module": "@jupyter-widgets/base",
            "_view_module_version": "1.2.0",
            "_view_name": "LayoutView",
            "align_content": null,
            "align_items": null,
            "align_self": null,
            "border": null,
            "bottom": null,
            "display": null,
            "flex": null,
            "flex_flow": null,
            "grid_area": null,
            "grid_auto_columns": null,
            "grid_auto_flow": null,
            "grid_auto_rows": null,
            "grid_column": null,
            "grid_gap": null,
            "grid_row": null,
            "grid_template_areas": null,
            "grid_template_columns": null,
            "grid_template_rows": null,
            "height": null,
            "justify_content": null,
            "justify_items": null,
            "left": null,
            "margin": null,
            "max_height": null,
            "max_width": null,
            "min_height": null,
            "min_width": null,
            "object_fit": null,
            "object_position": null,
            "order": null,
            "overflow": null,
            "overflow_x": null,
            "overflow_y": null,
            "padding": null,
            "right": null,
            "top": null,
            "visibility": null,
            "width": null
          }
        },
        "1ebadd002b5f4b3db14bda094beb7a7e": {
          "model_module": "@jupyter-widgets/controls",
          "model_name": "ProgressStyleModel",
          "model_module_version": "1.5.0",
          "state": {
            "_model_module": "@jupyter-widgets/controls",
            "_model_module_version": "1.5.0",
            "_model_name": "ProgressStyleModel",
            "_view_count": null,
            "_view_module": "@jupyter-widgets/base",
            "_view_module_version": "1.2.0",
            "_view_name": "StyleView",
            "bar_color": null,
            "description_width": ""
          }
        },
        "69d1486476e94e1984d1454564422544": {
          "model_module": "@jupyter-widgets/base",
          "model_name": "LayoutModel",
          "model_module_version": "1.2.0",
          "state": {
            "_model_module": "@jupyter-widgets/base",
            "_model_module_version": "1.2.0",
            "_model_name": "LayoutModel",
            "_view_count": null,
            "_view_module": "@jupyter-widgets/base",
            "_view_module_version": "1.2.0",
            "_view_name": "LayoutView",
            "align_content": null,
            "align_items": null,
            "align_self": null,
            "border": null,
            "bottom": null,
            "display": null,
            "flex": null,
            "flex_flow": null,
            "grid_area": null,
            "grid_auto_columns": null,
            "grid_auto_flow": null,
            "grid_auto_rows": null,
            "grid_column": null,
            "grid_gap": null,
            "grid_row": null,
            "grid_template_areas": null,
            "grid_template_columns": null,
            "grid_template_rows": null,
            "height": null,
            "justify_content": null,
            "justify_items": null,
            "left": null,
            "margin": null,
            "max_height": null,
            "max_width": null,
            "min_height": null,
            "min_width": null,
            "object_fit": null,
            "object_position": null,
            "order": null,
            "overflow": null,
            "overflow_x": null,
            "overflow_y": null,
            "padding": null,
            "right": null,
            "top": null,
            "visibility": null,
            "width": null
          }
        },
        "5acd64a651e1408fbb56ac78ec0979cb": {
          "model_module": "@jupyter-widgets/controls",
          "model_name": "DescriptionStyleModel",
          "model_module_version": "1.5.0",
          "state": {
            "_model_module": "@jupyter-widgets/controls",
            "_model_module_version": "1.5.0",
            "_model_name": "DescriptionStyleModel",
            "_view_count": null,
            "_view_module": "@jupyter-widgets/base",
            "_view_module_version": "1.2.0",
            "_view_name": "StyleView",
            "description_width": ""
          }
        },
        "b776f06dddd6467b887f84adfa2ac101": {
          "model_module": "@jupyter-widgets/controls",
          "model_name": "HBoxModel",
          "model_module_version": "1.5.0",
          "state": {
            "_dom_classes": [],
            "_model_module": "@jupyter-widgets/controls",
            "_model_module_version": "1.5.0",
            "_model_name": "HBoxModel",
            "_view_count": null,
            "_view_module": "@jupyter-widgets/controls",
            "_view_module_version": "1.5.0",
            "_view_name": "HBoxView",
            "box_style": "",
            "children": [
              "IPY_MODEL_6dd4966e706b4dedb8d42d8eb0fb3f20",
              "IPY_MODEL_65cf7dba9c97487bbf4e2ec0bfed26d7",
              "IPY_MODEL_481321b9e7d841a0b6ecb00a616a0fae"
            ],
            "layout": "IPY_MODEL_83f61db88506431881f140273906f788"
          }
        },
        "6dd4966e706b4dedb8d42d8eb0fb3f20": {
          "model_module": "@jupyter-widgets/controls",
          "model_name": "HTMLModel",
          "model_module_version": "1.5.0",
          "state": {
            "_dom_classes": [],
            "_model_module": "@jupyter-widgets/controls",
            "_model_module_version": "1.5.0",
            "_model_name": "HTMLModel",
            "_view_count": null,
            "_view_module": "@jupyter-widgets/controls",
            "_view_module_version": "1.5.0",
            "_view_name": "HTMLView",
            "description": "",
            "description_tooltip": null,
            "layout": "IPY_MODEL_ede6487aeb054a2d8efda8fecbbde1da",
            "placeholder": "​",
            "style": "IPY_MODEL_e23f7bee1ba64f01a00d7173cacc9f29",
            "value": "100%"
          }
        },
        "65cf7dba9c97487bbf4e2ec0bfed26d7": {
          "model_module": "@jupyter-widgets/controls",
          "model_name": "FloatProgressModel",
          "model_module_version": "1.5.0",
          "state": {
            "_dom_classes": [],
            "_model_module": "@jupyter-widgets/controls",
            "_model_module_version": "1.5.0",
            "_model_name": "FloatProgressModel",
            "_view_count": null,
            "_view_module": "@jupyter-widgets/controls",
            "_view_module_version": "1.5.0",
            "_view_name": "ProgressView",
            "bar_style": "success",
            "description": "",
            "description_tooltip": null,
            "layout": "IPY_MODEL_8d5a908590124ef9bdcfb22c7b4205a8",
            "max": 118370,
            "min": 0,
            "orientation": "horizontal",
            "style": "IPY_MODEL_40467e8d861347bc8c110a6b97a9a1ab",
            "value": 118370
          }
        },
        "481321b9e7d841a0b6ecb00a616a0fae": {
          "model_module": "@jupyter-widgets/controls",
          "model_name": "HTMLModel",
          "model_module_version": "1.5.0",
          "state": {
            "_dom_classes": [],
            "_model_module": "@jupyter-widgets/controls",
            "_model_module_version": "1.5.0",
            "_model_name": "HTMLModel",
            "_view_count": null,
            "_view_module": "@jupyter-widgets/controls",
            "_view_module_version": "1.5.0",
            "_view_name": "HTMLView",
            "description": "",
            "description_tooltip": null,
            "layout": "IPY_MODEL_4b78e42c0e514e5ca6c2fc22573ab2dc",
            "placeholder": "​",
            "style": "IPY_MODEL_57737fe10f81432b9d7c8a6c4b1b384a",
            "value": " 118370/118370 [00:01&lt;00:00, 87287.49it/s]"
          }
        },
        "83f61db88506431881f140273906f788": {
          "model_module": "@jupyter-widgets/base",
          "model_name": "LayoutModel",
          "model_module_version": "1.2.0",
          "state": {
            "_model_module": "@jupyter-widgets/base",
            "_model_module_version": "1.2.0",
            "_model_name": "LayoutModel",
            "_view_count": null,
            "_view_module": "@jupyter-widgets/base",
            "_view_module_version": "1.2.0",
            "_view_name": "LayoutView",
            "align_content": null,
            "align_items": null,
            "align_self": null,
            "border": null,
            "bottom": null,
            "display": null,
            "flex": null,
            "flex_flow": null,
            "grid_area": null,
            "grid_auto_columns": null,
            "grid_auto_flow": null,
            "grid_auto_rows": null,
            "grid_column": null,
            "grid_gap": null,
            "grid_row": null,
            "grid_template_areas": null,
            "grid_template_columns": null,
            "grid_template_rows": null,
            "height": null,
            "justify_content": null,
            "justify_items": null,
            "left": null,
            "margin": null,
            "max_height": null,
            "max_width": null,
            "min_height": null,
            "min_width": null,
            "object_fit": null,
            "object_position": null,
            "order": null,
            "overflow": null,
            "overflow_x": null,
            "overflow_y": null,
            "padding": null,
            "right": null,
            "top": null,
            "visibility": null,
            "width": null
          }
        },
        "ede6487aeb054a2d8efda8fecbbde1da": {
          "model_module": "@jupyter-widgets/base",
          "model_name": "LayoutModel",
          "model_module_version": "1.2.0",
          "state": {
            "_model_module": "@jupyter-widgets/base",
            "_model_module_version": "1.2.0",
            "_model_name": "LayoutModel",
            "_view_count": null,
            "_view_module": "@jupyter-widgets/base",
            "_view_module_version": "1.2.0",
            "_view_name": "LayoutView",
            "align_content": null,
            "align_items": null,
            "align_self": null,
            "border": null,
            "bottom": null,
            "display": null,
            "flex": null,
            "flex_flow": null,
            "grid_area": null,
            "grid_auto_columns": null,
            "grid_auto_flow": null,
            "grid_auto_rows": null,
            "grid_column": null,
            "grid_gap": null,
            "grid_row": null,
            "grid_template_areas": null,
            "grid_template_columns": null,
            "grid_template_rows": null,
            "height": null,
            "justify_content": null,
            "justify_items": null,
            "left": null,
            "margin": null,
            "max_height": null,
            "max_width": null,
            "min_height": null,
            "min_width": null,
            "object_fit": null,
            "object_position": null,
            "order": null,
            "overflow": null,
            "overflow_x": null,
            "overflow_y": null,
            "padding": null,
            "right": null,
            "top": null,
            "visibility": null,
            "width": null
          }
        },
        "e23f7bee1ba64f01a00d7173cacc9f29": {
          "model_module": "@jupyter-widgets/controls",
          "model_name": "DescriptionStyleModel",
          "model_module_version": "1.5.0",
          "state": {
            "_model_module": "@jupyter-widgets/controls",
            "_model_module_version": "1.5.0",
            "_model_name": "DescriptionStyleModel",
            "_view_count": null,
            "_view_module": "@jupyter-widgets/base",
            "_view_module_version": "1.2.0",
            "_view_name": "StyleView",
            "description_width": ""
          }
        },
        "8d5a908590124ef9bdcfb22c7b4205a8": {
          "model_module": "@jupyter-widgets/base",
          "model_name": "LayoutModel",
          "model_module_version": "1.2.0",
          "state": {
            "_model_module": "@jupyter-widgets/base",
            "_model_module_version": "1.2.0",
            "_model_name": "LayoutModel",
            "_view_count": null,
            "_view_module": "@jupyter-widgets/base",
            "_view_module_version": "1.2.0",
            "_view_name": "LayoutView",
            "align_content": null,
            "align_items": null,
            "align_self": null,
            "border": null,
            "bottom": null,
            "display": null,
            "flex": null,
            "flex_flow": null,
            "grid_area": null,
            "grid_auto_columns": null,
            "grid_auto_flow": null,
            "grid_auto_rows": null,
            "grid_column": null,
            "grid_gap": null,
            "grid_row": null,
            "grid_template_areas": null,
            "grid_template_columns": null,
            "grid_template_rows": null,
            "height": null,
            "justify_content": null,
            "justify_items": null,
            "left": null,
            "margin": null,
            "max_height": null,
            "max_width": null,
            "min_height": null,
            "min_width": null,
            "object_fit": null,
            "object_position": null,
            "order": null,
            "overflow": null,
            "overflow_x": null,
            "overflow_y": null,
            "padding": null,
            "right": null,
            "top": null,
            "visibility": null,
            "width": null
          }
        },
        "40467e8d861347bc8c110a6b97a9a1ab": {
          "model_module": "@jupyter-widgets/controls",
          "model_name": "ProgressStyleModel",
          "model_module_version": "1.5.0",
          "state": {
            "_model_module": "@jupyter-widgets/controls",
            "_model_module_version": "1.5.0",
            "_model_name": "ProgressStyleModel",
            "_view_count": null,
            "_view_module": "@jupyter-widgets/base",
            "_view_module_version": "1.2.0",
            "_view_name": "StyleView",
            "bar_color": null,
            "description_width": ""
          }
        },
        "4b78e42c0e514e5ca6c2fc22573ab2dc": {
          "model_module": "@jupyter-widgets/base",
          "model_name": "LayoutModel",
          "model_module_version": "1.2.0",
          "state": {
            "_model_module": "@jupyter-widgets/base",
            "_model_module_version": "1.2.0",
            "_model_name": "LayoutModel",
            "_view_count": null,
            "_view_module": "@jupyter-widgets/base",
            "_view_module_version": "1.2.0",
            "_view_name": "LayoutView",
            "align_content": null,
            "align_items": null,
            "align_self": null,
            "border": null,
            "bottom": null,
            "display": null,
            "flex": null,
            "flex_flow": null,
            "grid_area": null,
            "grid_auto_columns": null,
            "grid_auto_flow": null,
            "grid_auto_rows": null,
            "grid_column": null,
            "grid_gap": null,
            "grid_row": null,
            "grid_template_areas": null,
            "grid_template_columns": null,
            "grid_template_rows": null,
            "height": null,
            "justify_content": null,
            "justify_items": null,
            "left": null,
            "margin": null,
            "max_height": null,
            "max_width": null,
            "min_height": null,
            "min_width": null,
            "object_fit": null,
            "object_position": null,
            "order": null,
            "overflow": null,
            "overflow_x": null,
            "overflow_y": null,
            "padding": null,
            "right": null,
            "top": null,
            "visibility": null,
            "width": null
          }
        },
        "57737fe10f81432b9d7c8a6c4b1b384a": {
          "model_module": "@jupyter-widgets/controls",
          "model_name": "DescriptionStyleModel",
          "model_module_version": "1.5.0",
          "state": {
            "_model_module": "@jupyter-widgets/controls",
            "_model_module_version": "1.5.0",
            "_model_name": "DescriptionStyleModel",
            "_view_count": null,
            "_view_module": "@jupyter-widgets/base",
            "_view_module_version": "1.2.0",
            "_view_name": "StyleView",
            "description_width": ""
          }
        },
        "11f82c49cc0543df940912a9f886aeff": {
          "model_module": "@jupyter-widgets/controls",
          "model_name": "HBoxModel",
          "model_module_version": "1.5.0",
          "state": {
            "_dom_classes": [],
            "_model_module": "@jupyter-widgets/controls",
            "_model_module_version": "1.5.0",
            "_model_name": "HBoxModel",
            "_view_count": null,
            "_view_module": "@jupyter-widgets/controls",
            "_view_module_version": "1.5.0",
            "_view_name": "HBoxView",
            "box_style": "",
            "children": [
              "IPY_MODEL_8e612b801bb2439796a83e5ef97be250",
              "IPY_MODEL_14e43a5a450a46039e8ecbba458c7fcb",
              "IPY_MODEL_760c290baba741649cd0a1aa076b3b32"
            ],
            "layout": "IPY_MODEL_5428e9aaad524f01b7684a848e04fac4"
          }
        },
        "8e612b801bb2439796a83e5ef97be250": {
          "model_module": "@jupyter-widgets/controls",
          "model_name": "HTMLModel",
          "model_module_version": "1.5.0",
          "state": {
            "_dom_classes": [],
            "_model_module": "@jupyter-widgets/controls",
            "_model_module_version": "1.5.0",
            "_model_name": "HTMLModel",
            "_view_count": null,
            "_view_module": "@jupyter-widgets/controls",
            "_view_module_version": "1.5.0",
            "_view_name": "HTMLView",
            "description": "",
            "description_tooltip": null,
            "layout": "IPY_MODEL_3a6b651f09cf468985fdd46050f03063",
            "placeholder": "​",
            "style": "IPY_MODEL_ff17974d9b604b6ea1e7d8f1b11e35f7",
            "value": "Epoch  1: 100%"
          }
        },
        "14e43a5a450a46039e8ecbba458c7fcb": {
          "model_module": "@jupyter-widgets/controls",
          "model_name": "FloatProgressModel",
          "model_module_version": "1.5.0",
          "state": {
            "_dom_classes": [],
            "_model_module": "@jupyter-widgets/controls",
            "_model_module_version": "1.5.0",
            "_model_name": "FloatProgressModel",
            "_view_count": null,
            "_view_module": "@jupyter-widgets/controls",
            "_view_module_version": "1.5.0",
            "_view_name": "ProgressView",
            "bar_style": "success",
            "description": "",
            "description_tooltip": null,
            "layout": "IPY_MODEL_35014b6a6b2845e98c84b27fd584aec0",
            "max": 1850,
            "min": 0,
            "orientation": "horizontal",
            "style": "IPY_MODEL_53d75fe766e347038052ead70e1b1f57",
            "value": 1850
          }
        },
        "760c290baba741649cd0a1aa076b3b32": {
          "model_module": "@jupyter-widgets/controls",
          "model_name": "HTMLModel",
          "model_module_version": "1.5.0",
          "state": {
            "_dom_classes": [],
            "_model_module": "@jupyter-widgets/controls",
            "_model_module_version": "1.5.0",
            "_model_name": "HTMLModel",
            "_view_count": null,
            "_view_module": "@jupyter-widgets/controls",
            "_view_module_version": "1.5.0",
            "_view_name": "HTMLView",
            "description": "",
            "description_tooltip": null,
            "layout": "IPY_MODEL_10ad58b324364beeb20e3c34b8c319a1",
            "placeholder": "​",
            "style": "IPY_MODEL_3e8346bd52284a82819a68f69af5e30a",
            "value": " 1850/1850 [37:35&lt;00:00,  1.35it/s, Loss 3.7675]"
          }
        },
        "5428e9aaad524f01b7684a848e04fac4": {
          "model_module": "@jupyter-widgets/base",
          "model_name": "LayoutModel",
          "model_module_version": "1.2.0",
          "state": {
            "_model_module": "@jupyter-widgets/base",
            "_model_module_version": "1.2.0",
            "_model_name": "LayoutModel",
            "_view_count": null,
            "_view_module": "@jupyter-widgets/base",
            "_view_module_version": "1.2.0",
            "_view_name": "LayoutView",
            "align_content": null,
            "align_items": null,
            "align_self": null,
            "border": null,
            "bottom": null,
            "display": null,
            "flex": null,
            "flex_flow": null,
            "grid_area": null,
            "grid_auto_columns": null,
            "grid_auto_flow": null,
            "grid_auto_rows": null,
            "grid_column": null,
            "grid_gap": null,
            "grid_row": null,
            "grid_template_areas": null,
            "grid_template_columns": null,
            "grid_template_rows": null,
            "height": null,
            "justify_content": null,
            "justify_items": null,
            "left": null,
            "margin": null,
            "max_height": null,
            "max_width": null,
            "min_height": null,
            "min_width": null,
            "object_fit": null,
            "object_position": null,
            "order": null,
            "overflow": null,
            "overflow_x": null,
            "overflow_y": null,
            "padding": null,
            "right": null,
            "top": null,
            "visibility": null,
            "width": null
          }
        },
        "3a6b651f09cf468985fdd46050f03063": {
          "model_module": "@jupyter-widgets/base",
          "model_name": "LayoutModel",
          "model_module_version": "1.2.0",
          "state": {
            "_model_module": "@jupyter-widgets/base",
            "_model_module_version": "1.2.0",
            "_model_name": "LayoutModel",
            "_view_count": null,
            "_view_module": "@jupyter-widgets/base",
            "_view_module_version": "1.2.0",
            "_view_name": "LayoutView",
            "align_content": null,
            "align_items": null,
            "align_self": null,
            "border": null,
            "bottom": null,
            "display": null,
            "flex": null,
            "flex_flow": null,
            "grid_area": null,
            "grid_auto_columns": null,
            "grid_auto_flow": null,
            "grid_auto_rows": null,
            "grid_column": null,
            "grid_gap": null,
            "grid_row": null,
            "grid_template_areas": null,
            "grid_template_columns": null,
            "grid_template_rows": null,
            "height": null,
            "justify_content": null,
            "justify_items": null,
            "left": null,
            "margin": null,
            "max_height": null,
            "max_width": null,
            "min_height": null,
            "min_width": null,
            "object_fit": null,
            "object_position": null,
            "order": null,
            "overflow": null,
            "overflow_x": null,
            "overflow_y": null,
            "padding": null,
            "right": null,
            "top": null,
            "visibility": null,
            "width": null
          }
        },
        "ff17974d9b604b6ea1e7d8f1b11e35f7": {
          "model_module": "@jupyter-widgets/controls",
          "model_name": "DescriptionStyleModel",
          "model_module_version": "1.5.0",
          "state": {
            "_model_module": "@jupyter-widgets/controls",
            "_model_module_version": "1.5.0",
            "_model_name": "DescriptionStyleModel",
            "_view_count": null,
            "_view_module": "@jupyter-widgets/base",
            "_view_module_version": "1.2.0",
            "_view_name": "StyleView",
            "description_width": ""
          }
        },
        "35014b6a6b2845e98c84b27fd584aec0": {
          "model_module": "@jupyter-widgets/base",
          "model_name": "LayoutModel",
          "model_module_version": "1.2.0",
          "state": {
            "_model_module": "@jupyter-widgets/base",
            "_model_module_version": "1.2.0",
            "_model_name": "LayoutModel",
            "_view_count": null,
            "_view_module": "@jupyter-widgets/base",
            "_view_module_version": "1.2.0",
            "_view_name": "LayoutView",
            "align_content": null,
            "align_items": null,
            "align_self": null,
            "border": null,
            "bottom": null,
            "display": null,
            "flex": null,
            "flex_flow": null,
            "grid_area": null,
            "grid_auto_columns": null,
            "grid_auto_flow": null,
            "grid_auto_rows": null,
            "grid_column": null,
            "grid_gap": null,
            "grid_row": null,
            "grid_template_areas": null,
            "grid_template_columns": null,
            "grid_template_rows": null,
            "height": null,
            "justify_content": null,
            "justify_items": null,
            "left": null,
            "margin": null,
            "max_height": null,
            "max_width": null,
            "min_height": null,
            "min_width": null,
            "object_fit": null,
            "object_position": null,
            "order": null,
            "overflow": null,
            "overflow_x": null,
            "overflow_y": null,
            "padding": null,
            "right": null,
            "top": null,
            "visibility": null,
            "width": null
          }
        },
        "53d75fe766e347038052ead70e1b1f57": {
          "model_module": "@jupyter-widgets/controls",
          "model_name": "ProgressStyleModel",
          "model_module_version": "1.5.0",
          "state": {
            "_model_module": "@jupyter-widgets/controls",
            "_model_module_version": "1.5.0",
            "_model_name": "ProgressStyleModel",
            "_view_count": null,
            "_view_module": "@jupyter-widgets/base",
            "_view_module_version": "1.2.0",
            "_view_name": "StyleView",
            "bar_color": null,
            "description_width": ""
          }
        },
        "10ad58b324364beeb20e3c34b8c319a1": {
          "model_module": "@jupyter-widgets/base",
          "model_name": "LayoutModel",
          "model_module_version": "1.2.0",
          "state": {
            "_model_module": "@jupyter-widgets/base",
            "_model_module_version": "1.2.0",
            "_model_name": "LayoutModel",
            "_view_count": null,
            "_view_module": "@jupyter-widgets/base",
            "_view_module_version": "1.2.0",
            "_view_name": "LayoutView",
            "align_content": null,
            "align_items": null,
            "align_self": null,
            "border": null,
            "bottom": null,
            "display": null,
            "flex": null,
            "flex_flow": null,
            "grid_area": null,
            "grid_auto_columns": null,
            "grid_auto_flow": null,
            "grid_auto_rows": null,
            "grid_column": null,
            "grid_gap": null,
            "grid_row": null,
            "grid_template_areas": null,
            "grid_template_columns": null,
            "grid_template_rows": null,
            "height": null,
            "justify_content": null,
            "justify_items": null,
            "left": null,
            "margin": null,
            "max_height": null,
            "max_width": null,
            "min_height": null,
            "min_width": null,
            "object_fit": null,
            "object_position": null,
            "order": null,
            "overflow": null,
            "overflow_x": null,
            "overflow_y": null,
            "padding": null,
            "right": null,
            "top": null,
            "visibility": null,
            "width": null
          }
        },
        "3e8346bd52284a82819a68f69af5e30a": {
          "model_module": "@jupyter-widgets/controls",
          "model_name": "DescriptionStyleModel",
          "model_module_version": "1.5.0",
          "state": {
            "_model_module": "@jupyter-widgets/controls",
            "_model_module_version": "1.5.0",
            "_model_name": "DescriptionStyleModel",
            "_view_count": null,
            "_view_module": "@jupyter-widgets/base",
            "_view_module_version": "1.2.0",
            "_view_name": "StyleView",
            "description_width": ""
          }
        },
        "7fefffaf2d8142a4a2686dd07e2f3377": {
          "model_module": "@jupyter-widgets/controls",
          "model_name": "HBoxModel",
          "model_module_version": "1.5.0",
          "state": {
            "_dom_classes": [],
            "_model_module": "@jupyter-widgets/controls",
            "_model_module_version": "1.5.0",
            "_model_name": "HBoxModel",
            "_view_count": null,
            "_view_module": "@jupyter-widgets/controls",
            "_view_module_version": "1.5.0",
            "_view_name": "HBoxView",
            "box_style": "",
            "children": [
              "IPY_MODEL_3605e5d70fed4c92a23db5ca0190f9d3",
              "IPY_MODEL_7b12c21f0bd34832acbf96b195e1caef",
              "IPY_MODEL_b2543ebdb4b242eaa800e31dd482979e"
            ],
            "layout": "IPY_MODEL_09db9d9b940748b38bec7de5a58ab1fb"
          }
        },
        "3605e5d70fed4c92a23db5ca0190f9d3": {
          "model_module": "@jupyter-widgets/controls",
          "model_name": "HTMLModel",
          "model_module_version": "1.5.0",
          "state": {
            "_dom_classes": [],
            "_model_module": "@jupyter-widgets/controls",
            "_model_module_version": "1.5.0",
            "_model_name": "HTMLModel",
            "_view_count": null,
            "_view_module": "@jupyter-widgets/controls",
            "_view_module_version": "1.5.0",
            "_view_name": "HTMLView",
            "description": "",
            "description_tooltip": null,
            "layout": "IPY_MODEL_15271d397759486ca14d687c4679250e",
            "placeholder": "​",
            "style": "IPY_MODEL_e116a9deaad7412a8041e775968cc167",
            "value": "Epoch  2: 100%"
          }
        },
        "7b12c21f0bd34832acbf96b195e1caef": {
          "model_module": "@jupyter-widgets/controls",
          "model_name": "FloatProgressModel",
          "model_module_version": "1.5.0",
          "state": {
            "_dom_classes": [],
            "_model_module": "@jupyter-widgets/controls",
            "_model_module_version": "1.5.0",
            "_model_name": "FloatProgressModel",
            "_view_count": null,
            "_view_module": "@jupyter-widgets/controls",
            "_view_module_version": "1.5.0",
            "_view_name": "ProgressView",
            "bar_style": "success",
            "description": "",
            "description_tooltip": null,
            "layout": "IPY_MODEL_43f6d0d6353c4e30b9029dfcfc314e9a",
            "max": 1850,
            "min": 0,
            "orientation": "horizontal",
            "style": "IPY_MODEL_85959326b605473087f4fe518eb0162c",
            "value": 1850
          }
        },
        "b2543ebdb4b242eaa800e31dd482979e": {
          "model_module": "@jupyter-widgets/controls",
          "model_name": "HTMLModel",
          "model_module_version": "1.5.0",
          "state": {
            "_dom_classes": [],
            "_model_module": "@jupyter-widgets/controls",
            "_model_module_version": "1.5.0",
            "_model_name": "HTMLModel",
            "_view_count": null,
            "_view_module": "@jupyter-widgets/controls",
            "_view_module_version": "1.5.0",
            "_view_name": "HTMLView",
            "description": "",
            "description_tooltip": null,
            "layout": "IPY_MODEL_642afc9e0e4048b4ac95cd6450abfa41",
            "placeholder": "​",
            "style": "IPY_MODEL_8a556df87e5e4416a0a1720be0fbe5e1",
            "value": " 1850/1850 [10:47&lt;00:00,  6.57it/s, Loss 2.1372]"
          }
        },
        "09db9d9b940748b38bec7de5a58ab1fb": {
          "model_module": "@jupyter-widgets/base",
          "model_name": "LayoutModel",
          "model_module_version": "1.2.0",
          "state": {
            "_model_module": "@jupyter-widgets/base",
            "_model_module_version": "1.2.0",
            "_model_name": "LayoutModel",
            "_view_count": null,
            "_view_module": "@jupyter-widgets/base",
            "_view_module_version": "1.2.0",
            "_view_name": "LayoutView",
            "align_content": null,
            "align_items": null,
            "align_self": null,
            "border": null,
            "bottom": null,
            "display": null,
            "flex": null,
            "flex_flow": null,
            "grid_area": null,
            "grid_auto_columns": null,
            "grid_auto_flow": null,
            "grid_auto_rows": null,
            "grid_column": null,
            "grid_gap": null,
            "grid_row": null,
            "grid_template_areas": null,
            "grid_template_columns": null,
            "grid_template_rows": null,
            "height": null,
            "justify_content": null,
            "justify_items": null,
            "left": null,
            "margin": null,
            "max_height": null,
            "max_width": null,
            "min_height": null,
            "min_width": null,
            "object_fit": null,
            "object_position": null,
            "order": null,
            "overflow": null,
            "overflow_x": null,
            "overflow_y": null,
            "padding": null,
            "right": null,
            "top": null,
            "visibility": null,
            "width": null
          }
        },
        "15271d397759486ca14d687c4679250e": {
          "model_module": "@jupyter-widgets/base",
          "model_name": "LayoutModel",
          "model_module_version": "1.2.0",
          "state": {
            "_model_module": "@jupyter-widgets/base",
            "_model_module_version": "1.2.0",
            "_model_name": "LayoutModel",
            "_view_count": null,
            "_view_module": "@jupyter-widgets/base",
            "_view_module_version": "1.2.0",
            "_view_name": "LayoutView",
            "align_content": null,
            "align_items": null,
            "align_self": null,
            "border": null,
            "bottom": null,
            "display": null,
            "flex": null,
            "flex_flow": null,
            "grid_area": null,
            "grid_auto_columns": null,
            "grid_auto_flow": null,
            "grid_auto_rows": null,
            "grid_column": null,
            "grid_gap": null,
            "grid_row": null,
            "grid_template_areas": null,
            "grid_template_columns": null,
            "grid_template_rows": null,
            "height": null,
            "justify_content": null,
            "justify_items": null,
            "left": null,
            "margin": null,
            "max_height": null,
            "max_width": null,
            "min_height": null,
            "min_width": null,
            "object_fit": null,
            "object_position": null,
            "order": null,
            "overflow": null,
            "overflow_x": null,
            "overflow_y": null,
            "padding": null,
            "right": null,
            "top": null,
            "visibility": null,
            "width": null
          }
        },
        "e116a9deaad7412a8041e775968cc167": {
          "model_module": "@jupyter-widgets/controls",
          "model_name": "DescriptionStyleModel",
          "model_module_version": "1.5.0",
          "state": {
            "_model_module": "@jupyter-widgets/controls",
            "_model_module_version": "1.5.0",
            "_model_name": "DescriptionStyleModel",
            "_view_count": null,
            "_view_module": "@jupyter-widgets/base",
            "_view_module_version": "1.2.0",
            "_view_name": "StyleView",
            "description_width": ""
          }
        },
        "43f6d0d6353c4e30b9029dfcfc314e9a": {
          "model_module": "@jupyter-widgets/base",
          "model_name": "LayoutModel",
          "model_module_version": "1.2.0",
          "state": {
            "_model_module": "@jupyter-widgets/base",
            "_model_module_version": "1.2.0",
            "_model_name": "LayoutModel",
            "_view_count": null,
            "_view_module": "@jupyter-widgets/base",
            "_view_module_version": "1.2.0",
            "_view_name": "LayoutView",
            "align_content": null,
            "align_items": null,
            "align_self": null,
            "border": null,
            "bottom": null,
            "display": null,
            "flex": null,
            "flex_flow": null,
            "grid_area": null,
            "grid_auto_columns": null,
            "grid_auto_flow": null,
            "grid_auto_rows": null,
            "grid_column": null,
            "grid_gap": null,
            "grid_row": null,
            "grid_template_areas": null,
            "grid_template_columns": null,
            "grid_template_rows": null,
            "height": null,
            "justify_content": null,
            "justify_items": null,
            "left": null,
            "margin": null,
            "max_height": null,
            "max_width": null,
            "min_height": null,
            "min_width": null,
            "object_fit": null,
            "object_position": null,
            "order": null,
            "overflow": null,
            "overflow_x": null,
            "overflow_y": null,
            "padding": null,
            "right": null,
            "top": null,
            "visibility": null,
            "width": null
          }
        },
        "85959326b605473087f4fe518eb0162c": {
          "model_module": "@jupyter-widgets/controls",
          "model_name": "ProgressStyleModel",
          "model_module_version": "1.5.0",
          "state": {
            "_model_module": "@jupyter-widgets/controls",
            "_model_module_version": "1.5.0",
            "_model_name": "ProgressStyleModel",
            "_view_count": null,
            "_view_module": "@jupyter-widgets/base",
            "_view_module_version": "1.2.0",
            "_view_name": "StyleView",
            "bar_color": null,
            "description_width": ""
          }
        },
        "642afc9e0e4048b4ac95cd6450abfa41": {
          "model_module": "@jupyter-widgets/base",
          "model_name": "LayoutModel",
          "model_module_version": "1.2.0",
          "state": {
            "_model_module": "@jupyter-widgets/base",
            "_model_module_version": "1.2.0",
            "_model_name": "LayoutModel",
            "_view_count": null,
            "_view_module": "@jupyter-widgets/base",
            "_view_module_version": "1.2.0",
            "_view_name": "LayoutView",
            "align_content": null,
            "align_items": null,
            "align_self": null,
            "border": null,
            "bottom": null,
            "display": null,
            "flex": null,
            "flex_flow": null,
            "grid_area": null,
            "grid_auto_columns": null,
            "grid_auto_flow": null,
            "grid_auto_rows": null,
            "grid_column": null,
            "grid_gap": null,
            "grid_row": null,
            "grid_template_areas": null,
            "grid_template_columns": null,
            "grid_template_rows": null,
            "height": null,
            "justify_content": null,
            "justify_items": null,
            "left": null,
            "margin": null,
            "max_height": null,
            "max_width": null,
            "min_height": null,
            "min_width": null,
            "object_fit": null,
            "object_position": null,
            "order": null,
            "overflow": null,
            "overflow_x": null,
            "overflow_y": null,
            "padding": null,
            "right": null,
            "top": null,
            "visibility": null,
            "width": null
          }
        },
        "8a556df87e5e4416a0a1720be0fbe5e1": {
          "model_module": "@jupyter-widgets/controls",
          "model_name": "DescriptionStyleModel",
          "model_module_version": "1.5.0",
          "state": {
            "_model_module": "@jupyter-widgets/controls",
            "_model_module_version": "1.5.0",
            "_model_name": "DescriptionStyleModel",
            "_view_count": null,
            "_view_module": "@jupyter-widgets/base",
            "_view_module_version": "1.2.0",
            "_view_name": "StyleView",
            "description_width": ""
          }
        },
        "0c25f9b2e2d44235a1284e755c112fd8": {
          "model_module": "@jupyter-widgets/controls",
          "model_name": "HBoxModel",
          "model_module_version": "1.5.0",
          "state": {
            "_dom_classes": [],
            "_model_module": "@jupyter-widgets/controls",
            "_model_module_version": "1.5.0",
            "_model_name": "HBoxModel",
            "_view_count": null,
            "_view_module": "@jupyter-widgets/controls",
            "_view_module_version": "1.5.0",
            "_view_name": "HBoxView",
            "box_style": "",
            "children": [
              "IPY_MODEL_ba836627bfc8409da084df52d5c3354e",
              "IPY_MODEL_0e332753344544c489cf53ddebb50334",
              "IPY_MODEL_ca69ceae196e499c8b9d6f8db389ebd9"
            ],
            "layout": "IPY_MODEL_d2658bd746a543239d5ad0dc8c12c08a"
          }
        },
        "ba836627bfc8409da084df52d5c3354e": {
          "model_module": "@jupyter-widgets/controls",
          "model_name": "HTMLModel",
          "model_module_version": "1.5.0",
          "state": {
            "_dom_classes": [],
            "_model_module": "@jupyter-widgets/controls",
            "_model_module_version": "1.5.0",
            "_model_name": "HTMLModel",
            "_view_count": null,
            "_view_module": "@jupyter-widgets/controls",
            "_view_module_version": "1.5.0",
            "_view_name": "HTMLView",
            "description": "",
            "description_tooltip": null,
            "layout": "IPY_MODEL_096da71d416441e99cfed9585a826cc1",
            "placeholder": "​",
            "style": "IPY_MODEL_7ca1a272335746088a1c4268f6fb064f",
            "value": "Epoch  3: 100%"
          }
        },
        "0e332753344544c489cf53ddebb50334": {
          "model_module": "@jupyter-widgets/controls",
          "model_name": "FloatProgressModel",
          "model_module_version": "1.5.0",
          "state": {
            "_dom_classes": [],
            "_model_module": "@jupyter-widgets/controls",
            "_model_module_version": "1.5.0",
            "_model_name": "FloatProgressModel",
            "_view_count": null,
            "_view_module": "@jupyter-widgets/controls",
            "_view_module_version": "1.5.0",
            "_view_name": "ProgressView",
            "bar_style": "",
            "description": "",
            "description_tooltip": null,
            "layout": "IPY_MODEL_23b6889e47d5408e8a2c3f006a2a4687",
            "max": 1850,
            "min": 0,
            "orientation": "horizontal",
            "style": "IPY_MODEL_a5e26df72580436ab26206d919feb9f8",
            "value": 1850
          }
        },
        "ca69ceae196e499c8b9d6f8db389ebd9": {
          "model_module": "@jupyter-widgets/controls",
          "model_name": "HTMLModel",
          "model_module_version": "1.5.0",
          "state": {
            "_dom_classes": [],
            "_model_module": "@jupyter-widgets/controls",
            "_model_module_version": "1.5.0",
            "_model_name": "HTMLModel",
            "_view_count": null,
            "_view_module": "@jupyter-widgets/controls",
            "_view_module_version": "1.5.0",
            "_view_name": "HTMLView",
            "description": "",
            "description_tooltip": null,
            "layout": "IPY_MODEL_2b35377a89d147418ae8d833d7111902",
            "placeholder": "​",
            "style": "IPY_MODEL_f8eb59976cb242b9babab76850a4ab20",
            "value": " 1850/1850 [05:21&lt;00:00,  6.61it/s, Loss 1.8012]"
          }
        },
        "d2658bd746a543239d5ad0dc8c12c08a": {
          "model_module": "@jupyter-widgets/base",
          "model_name": "LayoutModel",
          "model_module_version": "1.2.0",
          "state": {
            "_model_module": "@jupyter-widgets/base",
            "_model_module_version": "1.2.0",
            "_model_name": "LayoutModel",
            "_view_count": null,
            "_view_module": "@jupyter-widgets/base",
            "_view_module_version": "1.2.0",
            "_view_name": "LayoutView",
            "align_content": null,
            "align_items": null,
            "align_self": null,
            "border": null,
            "bottom": null,
            "display": null,
            "flex": null,
            "flex_flow": null,
            "grid_area": null,
            "grid_auto_columns": null,
            "grid_auto_flow": null,
            "grid_auto_rows": null,
            "grid_column": null,
            "grid_gap": null,
            "grid_row": null,
            "grid_template_areas": null,
            "grid_template_columns": null,
            "grid_template_rows": null,
            "height": null,
            "justify_content": null,
            "justify_items": null,
            "left": null,
            "margin": null,
            "max_height": null,
            "max_width": null,
            "min_height": null,
            "min_width": null,
            "object_fit": null,
            "object_position": null,
            "order": null,
            "overflow": null,
            "overflow_x": null,
            "overflow_y": null,
            "padding": null,
            "right": null,
            "top": null,
            "visibility": null,
            "width": null
          }
        },
        "096da71d416441e99cfed9585a826cc1": {
          "model_module": "@jupyter-widgets/base",
          "model_name": "LayoutModel",
          "model_module_version": "1.2.0",
          "state": {
            "_model_module": "@jupyter-widgets/base",
            "_model_module_version": "1.2.0",
            "_model_name": "LayoutModel",
            "_view_count": null,
            "_view_module": "@jupyter-widgets/base",
            "_view_module_version": "1.2.0",
            "_view_name": "LayoutView",
            "align_content": null,
            "align_items": null,
            "align_self": null,
            "border": null,
            "bottom": null,
            "display": null,
            "flex": null,
            "flex_flow": null,
            "grid_area": null,
            "grid_auto_columns": null,
            "grid_auto_flow": null,
            "grid_auto_rows": null,
            "grid_column": null,
            "grid_gap": null,
            "grid_row": null,
            "grid_template_areas": null,
            "grid_template_columns": null,
            "grid_template_rows": null,
            "height": null,
            "justify_content": null,
            "justify_items": null,
            "left": null,
            "margin": null,
            "max_height": null,
            "max_width": null,
            "min_height": null,
            "min_width": null,
            "object_fit": null,
            "object_position": null,
            "order": null,
            "overflow": null,
            "overflow_x": null,
            "overflow_y": null,
            "padding": null,
            "right": null,
            "top": null,
            "visibility": null,
            "width": null
          }
        },
        "7ca1a272335746088a1c4268f6fb064f": {
          "model_module": "@jupyter-widgets/controls",
          "model_name": "DescriptionStyleModel",
          "model_module_version": "1.5.0",
          "state": {
            "_model_module": "@jupyter-widgets/controls",
            "_model_module_version": "1.5.0",
            "_model_name": "DescriptionStyleModel",
            "_view_count": null,
            "_view_module": "@jupyter-widgets/base",
            "_view_module_version": "1.2.0",
            "_view_name": "StyleView",
            "description_width": ""
          }
        },
        "23b6889e47d5408e8a2c3f006a2a4687": {
          "model_module": "@jupyter-widgets/base",
          "model_name": "LayoutModel",
          "model_module_version": "1.2.0",
          "state": {
            "_model_module": "@jupyter-widgets/base",
            "_model_module_version": "1.2.0",
            "_model_name": "LayoutModel",
            "_view_count": null,
            "_view_module": "@jupyter-widgets/base",
            "_view_module_version": "1.2.0",
            "_view_name": "LayoutView",
            "align_content": null,
            "align_items": null,
            "align_self": null,
            "border": null,
            "bottom": null,
            "display": null,
            "flex": null,
            "flex_flow": null,
            "grid_area": null,
            "grid_auto_columns": null,
            "grid_auto_flow": null,
            "grid_auto_rows": null,
            "grid_column": null,
            "grid_gap": null,
            "grid_row": null,
            "grid_template_areas": null,
            "grid_template_columns": null,
            "grid_template_rows": null,
            "height": null,
            "justify_content": null,
            "justify_items": null,
            "left": null,
            "margin": null,
            "max_height": null,
            "max_width": null,
            "min_height": null,
            "min_width": null,
            "object_fit": null,
            "object_position": null,
            "order": null,
            "overflow": null,
            "overflow_x": null,
            "overflow_y": null,
            "padding": null,
            "right": null,
            "top": null,
            "visibility": null,
            "width": null
          }
        },
        "a5e26df72580436ab26206d919feb9f8": {
          "model_module": "@jupyter-widgets/controls",
          "model_name": "ProgressStyleModel",
          "model_module_version": "1.5.0",
          "state": {
            "_model_module": "@jupyter-widgets/controls",
            "_model_module_version": "1.5.0",
            "_model_name": "ProgressStyleModel",
            "_view_count": null,
            "_view_module": "@jupyter-widgets/base",
            "_view_module_version": "1.2.0",
            "_view_name": "StyleView",
            "bar_color": null,
            "description_width": ""
          }
        },
        "2b35377a89d147418ae8d833d7111902": {
          "model_module": "@jupyter-widgets/base",
          "model_name": "LayoutModel",
          "model_module_version": "1.2.0",
          "state": {
            "_model_module": "@jupyter-widgets/base",
            "_model_module_version": "1.2.0",
            "_model_name": "LayoutModel",
            "_view_count": null,
            "_view_module": "@jupyter-widgets/base",
            "_view_module_version": "1.2.0",
            "_view_name": "LayoutView",
            "align_content": null,
            "align_items": null,
            "align_self": null,
            "border": null,
            "bottom": null,
            "display": null,
            "flex": null,
            "flex_flow": null,
            "grid_area": null,
            "grid_auto_columns": null,
            "grid_auto_flow": null,
            "grid_auto_rows": null,
            "grid_column": null,
            "grid_gap": null,
            "grid_row": null,
            "grid_template_areas": null,
            "grid_template_columns": null,
            "grid_template_rows": null,
            "height": null,
            "justify_content": null,
            "justify_items": null,
            "left": null,
            "margin": null,
            "max_height": null,
            "max_width": null,
            "min_height": null,
            "min_width": null,
            "object_fit": null,
            "object_position": null,
            "order": null,
            "overflow": null,
            "overflow_x": null,
            "overflow_y": null,
            "padding": null,
            "right": null,
            "top": null,
            "visibility": null,
            "width": null
          }
        },
        "f8eb59976cb242b9babab76850a4ab20": {
          "model_module": "@jupyter-widgets/controls",
          "model_name": "DescriptionStyleModel",
          "model_module_version": "1.5.0",
          "state": {
            "_model_module": "@jupyter-widgets/controls",
            "_model_module_version": "1.5.0",
            "_model_name": "DescriptionStyleModel",
            "_view_count": null,
            "_view_module": "@jupyter-widgets/base",
            "_view_module_version": "1.2.0",
            "_view_name": "StyleView",
            "description_width": ""
          }
        },
        "82f68879dc904dfcae27296f629b2e63": {
          "model_module": "@jupyter-widgets/controls",
          "model_name": "HBoxModel",
          "model_module_version": "1.5.0",
          "state": {
            "_dom_classes": [],
            "_model_module": "@jupyter-widgets/controls",
            "_model_module_version": "1.5.0",
            "_model_name": "HBoxModel",
            "_view_count": null,
            "_view_module": "@jupyter-widgets/controls",
            "_view_module_version": "1.5.0",
            "_view_name": "HBoxView",
            "box_style": "",
            "children": [
              "IPY_MODEL_a66b6a3b05484e8d824b03a64a92af7a",
              "IPY_MODEL_c68b469836464a7dae23a20388a76189",
              "IPY_MODEL_bb268a4d46a64be3b72aa89c0da59dc6"
            ],
            "layout": "IPY_MODEL_8673b831598545eaba03c6b61513fc9a"
          }
        },
        "a66b6a3b05484e8d824b03a64a92af7a": {
          "model_module": "@jupyter-widgets/controls",
          "model_name": "HTMLModel",
          "model_module_version": "1.5.0",
          "state": {
            "_dom_classes": [],
            "_model_module": "@jupyter-widgets/controls",
            "_model_module_version": "1.5.0",
            "_model_name": "HTMLModel",
            "_view_count": null,
            "_view_module": "@jupyter-widgets/controls",
            "_view_module_version": "1.5.0",
            "_view_name": "HTMLView",
            "description": "",
            "description_tooltip": null,
            "layout": "IPY_MODEL_50ddfd59d3ef44edb5a0704e243f4bc6",
            "placeholder": "​",
            "style": "IPY_MODEL_d9f3b74feed344f792fcd4ea862338a5",
            "value": "100%"
          }
        },
        "c68b469836464a7dae23a20388a76189": {
          "model_module": "@jupyter-widgets/controls",
          "model_name": "FloatProgressModel",
          "model_module_version": "1.5.0",
          "state": {
            "_dom_classes": [],
            "_model_module": "@jupyter-widgets/controls",
            "_model_module_version": "1.5.0",
            "_model_name": "FloatProgressModel",
            "_view_count": null,
            "_view_module": "@jupyter-widgets/controls",
            "_view_module_version": "1.5.0",
            "_view_name": "ProgressView",
            "bar_style": "success",
            "description": "",
            "description_tooltip": null,
            "layout": "IPY_MODEL_5b7f388495ef4806a4f30c789f9c1d29",
            "max": 594,
            "min": 0,
            "orientation": "horizontal",
            "style": "IPY_MODEL_9d9275eb80a94e9e9e06af1e7f17334e",
            "value": 594
          }
        },
        "bb268a4d46a64be3b72aa89c0da59dc6": {
          "model_module": "@jupyter-widgets/controls",
          "model_name": "HTMLModel",
          "model_module_version": "1.5.0",
          "state": {
            "_dom_classes": [],
            "_model_module": "@jupyter-widgets/controls",
            "_model_module_version": "1.5.0",
            "_model_name": "HTMLModel",
            "_view_count": null,
            "_view_module": "@jupyter-widgets/controls",
            "_view_module_version": "1.5.0",
            "_view_name": "HTMLView",
            "description": "",
            "description_tooltip": null,
            "layout": "IPY_MODEL_84df787e3d4c49689527f215dd683a53",
            "placeholder": "​",
            "style": "IPY_MODEL_e1c605023c244658b9b4975d3aa67886",
            "value": " 594/594 [19:25&lt;00:00,  2.48s/it]"
          }
        },
        "8673b831598545eaba03c6b61513fc9a": {
          "model_module": "@jupyter-widgets/base",
          "model_name": "LayoutModel",
          "model_module_version": "1.2.0",
          "state": {
            "_model_module": "@jupyter-widgets/base",
            "_model_module_version": "1.2.0",
            "_model_name": "LayoutModel",
            "_view_count": null,
            "_view_module": "@jupyter-widgets/base",
            "_view_module_version": "1.2.0",
            "_view_name": "LayoutView",
            "align_content": null,
            "align_items": null,
            "align_self": null,
            "border": null,
            "bottom": null,
            "display": null,
            "flex": null,
            "flex_flow": null,
            "grid_area": null,
            "grid_auto_columns": null,
            "grid_auto_flow": null,
            "grid_auto_rows": null,
            "grid_column": null,
            "grid_gap": null,
            "grid_row": null,
            "grid_template_areas": null,
            "grid_template_columns": null,
            "grid_template_rows": null,
            "height": null,
            "justify_content": null,
            "justify_items": null,
            "left": null,
            "margin": null,
            "max_height": null,
            "max_width": null,
            "min_height": null,
            "min_width": null,
            "object_fit": null,
            "object_position": null,
            "order": null,
            "overflow": null,
            "overflow_x": null,
            "overflow_y": null,
            "padding": null,
            "right": null,
            "top": null,
            "visibility": null,
            "width": null
          }
        },
        "50ddfd59d3ef44edb5a0704e243f4bc6": {
          "model_module": "@jupyter-widgets/base",
          "model_name": "LayoutModel",
          "model_module_version": "1.2.0",
          "state": {
            "_model_module": "@jupyter-widgets/base",
            "_model_module_version": "1.2.0",
            "_model_name": "LayoutModel",
            "_view_count": null,
            "_view_module": "@jupyter-widgets/base",
            "_view_module_version": "1.2.0",
            "_view_name": "LayoutView",
            "align_content": null,
            "align_items": null,
            "align_self": null,
            "border": null,
            "bottom": null,
            "display": null,
            "flex": null,
            "flex_flow": null,
            "grid_area": null,
            "grid_auto_columns": null,
            "grid_auto_flow": null,
            "grid_auto_rows": null,
            "grid_column": null,
            "grid_gap": null,
            "grid_row": null,
            "grid_template_areas": null,
            "grid_template_columns": null,
            "grid_template_rows": null,
            "height": null,
            "justify_content": null,
            "justify_items": null,
            "left": null,
            "margin": null,
            "max_height": null,
            "max_width": null,
            "min_height": null,
            "min_width": null,
            "object_fit": null,
            "object_position": null,
            "order": null,
            "overflow": null,
            "overflow_x": null,
            "overflow_y": null,
            "padding": null,
            "right": null,
            "top": null,
            "visibility": null,
            "width": null
          }
        },
        "d9f3b74feed344f792fcd4ea862338a5": {
          "model_module": "@jupyter-widgets/controls",
          "model_name": "DescriptionStyleModel",
          "model_module_version": "1.5.0",
          "state": {
            "_model_module": "@jupyter-widgets/controls",
            "_model_module_version": "1.5.0",
            "_model_name": "DescriptionStyleModel",
            "_view_count": null,
            "_view_module": "@jupyter-widgets/base",
            "_view_module_version": "1.2.0",
            "_view_name": "StyleView",
            "description_width": ""
          }
        },
        "5b7f388495ef4806a4f30c789f9c1d29": {
          "model_module": "@jupyter-widgets/base",
          "model_name": "LayoutModel",
          "model_module_version": "1.2.0",
          "state": {
            "_model_module": "@jupyter-widgets/base",
            "_model_module_version": "1.2.0",
            "_model_name": "LayoutModel",
            "_view_count": null,
            "_view_module": "@jupyter-widgets/base",
            "_view_module_version": "1.2.0",
            "_view_name": "LayoutView",
            "align_content": null,
            "align_items": null,
            "align_self": null,
            "border": null,
            "bottom": null,
            "display": null,
            "flex": null,
            "flex_flow": null,
            "grid_area": null,
            "grid_auto_columns": null,
            "grid_auto_flow": null,
            "grid_auto_rows": null,
            "grid_column": null,
            "grid_gap": null,
            "grid_row": null,
            "grid_template_areas": null,
            "grid_template_columns": null,
            "grid_template_rows": null,
            "height": null,
            "justify_content": null,
            "justify_items": null,
            "left": null,
            "margin": null,
            "max_height": null,
            "max_width": null,
            "min_height": null,
            "min_width": null,
            "object_fit": null,
            "object_position": null,
            "order": null,
            "overflow": null,
            "overflow_x": null,
            "overflow_y": null,
            "padding": null,
            "right": null,
            "top": null,
            "visibility": null,
            "width": null
          }
        },
        "9d9275eb80a94e9e9e06af1e7f17334e": {
          "model_module": "@jupyter-widgets/controls",
          "model_name": "ProgressStyleModel",
          "model_module_version": "1.5.0",
          "state": {
            "_model_module": "@jupyter-widgets/controls",
            "_model_module_version": "1.5.0",
            "_model_name": "ProgressStyleModel",
            "_view_count": null,
            "_view_module": "@jupyter-widgets/base",
            "_view_module_version": "1.2.0",
            "_view_name": "StyleView",
            "bar_color": null,
            "description_width": ""
          }
        },
        "84df787e3d4c49689527f215dd683a53": {
          "model_module": "@jupyter-widgets/base",
          "model_name": "LayoutModel",
          "model_module_version": "1.2.0",
          "state": {
            "_model_module": "@jupyter-widgets/base",
            "_model_module_version": "1.2.0",
            "_model_name": "LayoutModel",
            "_view_count": null,
            "_view_module": "@jupyter-widgets/base",
            "_view_module_version": "1.2.0",
            "_view_name": "LayoutView",
            "align_content": null,
            "align_items": null,
            "align_self": null,
            "border": null,
            "bottom": null,
            "display": null,
            "flex": null,
            "flex_flow": null,
            "grid_area": null,
            "grid_auto_columns": null,
            "grid_auto_flow": null,
            "grid_auto_rows": null,
            "grid_column": null,
            "grid_gap": null,
            "grid_row": null,
            "grid_template_areas": null,
            "grid_template_columns": null,
            "grid_template_rows": null,
            "height": null,
            "justify_content": null,
            "justify_items": null,
            "left": null,
            "margin": null,
            "max_height": null,
            "max_width": null,
            "min_height": null,
            "min_width": null,
            "object_fit": null,
            "object_position": null,
            "order": null,
            "overflow": null,
            "overflow_x": null,
            "overflow_y": null,
            "padding": null,
            "right": null,
            "top": null,
            "visibility": null,
            "width": null
          }
        },
        "e1c605023c244658b9b4975d3aa67886": {
          "model_module": "@jupyter-widgets/controls",
          "model_name": "DescriptionStyleModel",
          "model_module_version": "1.5.0",
          "state": {
            "_model_module": "@jupyter-widgets/controls",
            "_model_module_version": "1.5.0",
            "_model_name": "DescriptionStyleModel",
            "_view_count": null,
            "_view_module": "@jupyter-widgets/base",
            "_view_module_version": "1.2.0",
            "_view_name": "StyleView",
            "description_width": ""
          }
        },
        "f9a39999d01045e99c58c5b81f77c32b": {
          "model_module": "@jupyter-widgets/controls",
          "model_name": "HBoxModel",
          "model_module_version": "1.5.0",
          "state": {
            "_dom_classes": [],
            "_model_module": "@jupyter-widgets/controls",
            "_model_module_version": "1.5.0",
            "_model_name": "HBoxModel",
            "_view_count": null,
            "_view_module": "@jupyter-widgets/controls",
            "_view_module_version": "1.5.0",
            "_view_name": "HBoxView",
            "box_style": "",
            "children": [
              "IPY_MODEL_09fd51863d3f4593bb25b651f6bd4ec4",
              "IPY_MODEL_083a40f2478345418422c2742d97220f",
              "IPY_MODEL_34f8698917eb4cdc95d1eda9975d5ade"
            ],
            "layout": "IPY_MODEL_d90c67f5add544af90f0df37dac070f4"
          }
        },
        "09fd51863d3f4593bb25b651f6bd4ec4": {
          "model_module": "@jupyter-widgets/controls",
          "model_name": "HTMLModel",
          "model_module_version": "1.5.0",
          "state": {
            "_dom_classes": [],
            "_model_module": "@jupyter-widgets/controls",
            "_model_module_version": "1.5.0",
            "_model_name": "HTMLModel",
            "_view_count": null,
            "_view_module": "@jupyter-widgets/controls",
            "_view_module_version": "1.5.0",
            "_view_name": "HTMLView",
            "description": "",
            "description_tooltip": null,
            "layout": "IPY_MODEL_38e09e68e4f841ffa9a6036e14ef46bb",
            "placeholder": "​",
            "style": "IPY_MODEL_340e4a86cdef4b4787da7f01f33442c8",
            "value": "100%"
          }
        },
        "083a40f2478345418422c2742d97220f": {
          "model_module": "@jupyter-widgets/controls",
          "model_name": "FloatProgressModel",
          "model_module_version": "1.5.0",
          "state": {
            "_dom_classes": [],
            "_model_module": "@jupyter-widgets/controls",
            "_model_module_version": "1.5.0",
            "_model_name": "FloatProgressModel",
            "_view_count": null,
            "_view_module": "@jupyter-widgets/controls",
            "_view_module_version": "1.5.0",
            "_view_name": "ProgressView",
            "bar_style": "success",
            "description": "",
            "description_tooltip": null,
            "layout": "IPY_MODEL_19806af5734c4ce1903bc1e1214a1dcc",
            "max": 594,
            "min": 0,
            "orientation": "horizontal",
            "style": "IPY_MODEL_b66be358d7f044afa92669fae3c2bf7f",
            "value": 594
          }
        },
        "34f8698917eb4cdc95d1eda9975d5ade": {
          "model_module": "@jupyter-widgets/controls",
          "model_name": "HTMLModel",
          "model_module_version": "1.5.0",
          "state": {
            "_dom_classes": [],
            "_model_module": "@jupyter-widgets/controls",
            "_model_module_version": "1.5.0",
            "_model_name": "HTMLModel",
            "_view_count": null,
            "_view_module": "@jupyter-widgets/controls",
            "_view_module_version": "1.5.0",
            "_view_name": "HTMLView",
            "description": "",
            "description_tooltip": null,
            "layout": "IPY_MODEL_69c579a66e734f7185d41b176329369a",
            "placeholder": "​",
            "style": "IPY_MODEL_341119dc5f8a4ce9b14f067127605e73",
            "value": " 594/594 [00:12&lt;00:00, 49.54it/s]"
          }
        },
        "d90c67f5add544af90f0df37dac070f4": {
          "model_module": "@jupyter-widgets/base",
          "model_name": "LayoutModel",
          "model_module_version": "1.2.0",
          "state": {
            "_model_module": "@jupyter-widgets/base",
            "_model_module_version": "1.2.0",
            "_model_name": "LayoutModel",
            "_view_count": null,
            "_view_module": "@jupyter-widgets/base",
            "_view_module_version": "1.2.0",
            "_view_name": "LayoutView",
            "align_content": null,
            "align_items": null,
            "align_self": null,
            "border": null,
            "bottom": null,
            "display": null,
            "flex": null,
            "flex_flow": null,
            "grid_area": null,
            "grid_auto_columns": null,
            "grid_auto_flow": null,
            "grid_auto_rows": null,
            "grid_column": null,
            "grid_gap": null,
            "grid_row": null,
            "grid_template_areas": null,
            "grid_template_columns": null,
            "grid_template_rows": null,
            "height": null,
            "justify_content": null,
            "justify_items": null,
            "left": null,
            "margin": null,
            "max_height": null,
            "max_width": null,
            "min_height": null,
            "min_width": null,
            "object_fit": null,
            "object_position": null,
            "order": null,
            "overflow": null,
            "overflow_x": null,
            "overflow_y": null,
            "padding": null,
            "right": null,
            "top": null,
            "visibility": null,
            "width": null
          }
        },
        "38e09e68e4f841ffa9a6036e14ef46bb": {
          "model_module": "@jupyter-widgets/base",
          "model_name": "LayoutModel",
          "model_module_version": "1.2.0",
          "state": {
            "_model_module": "@jupyter-widgets/base",
            "_model_module_version": "1.2.0",
            "_model_name": "LayoutModel",
            "_view_count": null,
            "_view_module": "@jupyter-widgets/base",
            "_view_module_version": "1.2.0",
            "_view_name": "LayoutView",
            "align_content": null,
            "align_items": null,
            "align_self": null,
            "border": null,
            "bottom": null,
            "display": null,
            "flex": null,
            "flex_flow": null,
            "grid_area": null,
            "grid_auto_columns": null,
            "grid_auto_flow": null,
            "grid_auto_rows": null,
            "grid_column": null,
            "grid_gap": null,
            "grid_row": null,
            "grid_template_areas": null,
            "grid_template_columns": null,
            "grid_template_rows": null,
            "height": null,
            "justify_content": null,
            "justify_items": null,
            "left": null,
            "margin": null,
            "max_height": null,
            "max_width": null,
            "min_height": null,
            "min_width": null,
            "object_fit": null,
            "object_position": null,
            "order": null,
            "overflow": null,
            "overflow_x": null,
            "overflow_y": null,
            "padding": null,
            "right": null,
            "top": null,
            "visibility": null,
            "width": null
          }
        },
        "340e4a86cdef4b4787da7f01f33442c8": {
          "model_module": "@jupyter-widgets/controls",
          "model_name": "DescriptionStyleModel",
          "model_module_version": "1.5.0",
          "state": {
            "_model_module": "@jupyter-widgets/controls",
            "_model_module_version": "1.5.0",
            "_model_name": "DescriptionStyleModel",
            "_view_count": null,
            "_view_module": "@jupyter-widgets/base",
            "_view_module_version": "1.2.0",
            "_view_name": "StyleView",
            "description_width": ""
          }
        },
        "19806af5734c4ce1903bc1e1214a1dcc": {
          "model_module": "@jupyter-widgets/base",
          "model_name": "LayoutModel",
          "model_module_version": "1.2.0",
          "state": {
            "_model_module": "@jupyter-widgets/base",
            "_model_module_version": "1.2.0",
            "_model_name": "LayoutModel",
            "_view_count": null,
            "_view_module": "@jupyter-widgets/base",
            "_view_module_version": "1.2.0",
            "_view_name": "LayoutView",
            "align_content": null,
            "align_items": null,
            "align_self": null,
            "border": null,
            "bottom": null,
            "display": null,
            "flex": null,
            "flex_flow": null,
            "grid_area": null,
            "grid_auto_columns": null,
            "grid_auto_flow": null,
            "grid_auto_rows": null,
            "grid_column": null,
            "grid_gap": null,
            "grid_row": null,
            "grid_template_areas": null,
            "grid_template_columns": null,
            "grid_template_rows": null,
            "height": null,
            "justify_content": null,
            "justify_items": null,
            "left": null,
            "margin": null,
            "max_height": null,
            "max_width": null,
            "min_height": null,
            "min_width": null,
            "object_fit": null,
            "object_position": null,
            "order": null,
            "overflow": null,
            "overflow_x": null,
            "overflow_y": null,
            "padding": null,
            "right": null,
            "top": null,
            "visibility": null,
            "width": null
          }
        },
        "b66be358d7f044afa92669fae3c2bf7f": {
          "model_module": "@jupyter-widgets/controls",
          "model_name": "ProgressStyleModel",
          "model_module_version": "1.5.0",
          "state": {
            "_model_module": "@jupyter-widgets/controls",
            "_model_module_version": "1.5.0",
            "_model_name": "ProgressStyleModel",
            "_view_count": null,
            "_view_module": "@jupyter-widgets/base",
            "_view_module_version": "1.2.0",
            "_view_name": "StyleView",
            "bar_color": null,
            "description_width": ""
          }
        },
        "69c579a66e734f7185d41b176329369a": {
          "model_module": "@jupyter-widgets/base",
          "model_name": "LayoutModel",
          "model_module_version": "1.2.0",
          "state": {
            "_model_module": "@jupyter-widgets/base",
            "_model_module_version": "1.2.0",
            "_model_name": "LayoutModel",
            "_view_count": null,
            "_view_module": "@jupyter-widgets/base",
            "_view_module_version": "1.2.0",
            "_view_name": "LayoutView",
            "align_content": null,
            "align_items": null,
            "align_self": null,
            "border": null,
            "bottom": null,
            "display": null,
            "flex": null,
            "flex_flow": null,
            "grid_area": null,
            "grid_auto_columns": null,
            "grid_auto_flow": null,
            "grid_auto_rows": null,
            "grid_column": null,
            "grid_gap": null,
            "grid_row": null,
            "grid_template_areas": null,
            "grid_template_columns": null,
            "grid_template_rows": null,
            "height": null,
            "justify_content": null,
            "justify_items": null,
            "left": null,
            "margin": null,
            "max_height": null,
            "max_width": null,
            "min_height": null,
            "min_width": null,
            "object_fit": null,
            "object_position": null,
            "order": null,
            "overflow": null,
            "overflow_x": null,
            "overflow_y": null,
            "padding": null,
            "right": null,
            "top": null,
            "visibility": null,
            "width": null
          }
        },
        "341119dc5f8a4ce9b14f067127605e73": {
          "model_module": "@jupyter-widgets/controls",
          "model_name": "DescriptionStyleModel",
          "model_module_version": "1.5.0",
          "state": {
            "_model_module": "@jupyter-widgets/controls",
            "_model_module_version": "1.5.0",
            "_model_name": "DescriptionStyleModel",
            "_view_count": null,
            "_view_module": "@jupyter-widgets/base",
            "_view_module_version": "1.2.0",
            "_view_name": "StyleView",
            "description_width": ""
          }
        },
        "bd6295551fa74f7188d36cef1a9b9014": {
          "model_module": "@jupyter-widgets/controls",
          "model_name": "HBoxModel",
          "model_module_version": "1.5.0",
          "state": {
            "_dom_classes": [],
            "_model_module": "@jupyter-widgets/controls",
            "_model_module_version": "1.5.0",
            "_model_name": "HBoxModel",
            "_view_count": null,
            "_view_module": "@jupyter-widgets/controls",
            "_view_module_version": "1.5.0",
            "_view_name": "HBoxView",
            "box_style": "",
            "children": [
              "IPY_MODEL_021cab3885cd4b3caf6f6c79b1b7d0fd",
              "IPY_MODEL_584fbb0ff3874a73aca6820246379e98",
              "IPY_MODEL_807215cd57ac4cc2b3fe48a070876401"
            ],
            "layout": "IPY_MODEL_9ad6ef55272b4d989510fd0a2e67e693"
          }
        },
        "021cab3885cd4b3caf6f6c79b1b7d0fd": {
          "model_module": "@jupyter-widgets/controls",
          "model_name": "HTMLModel",
          "model_module_version": "1.5.0",
          "state": {
            "_dom_classes": [],
            "_model_module": "@jupyter-widgets/controls",
            "_model_module_version": "1.5.0",
            "_model_name": "HTMLModel",
            "_view_count": null,
            "_view_module": "@jupyter-widgets/controls",
            "_view_module_version": "1.5.0",
            "_view_name": "HTMLView",
            "description": "",
            "description_tooltip": null,
            "layout": "IPY_MODEL_8271385206004dc1908b1b7eb3c1d983",
            "placeholder": "​",
            "style": "IPY_MODEL_c090b0f338e84a70bbe367eb728f0dcd",
            "value": "Epoch  1: 100%"
          }
        },
        "584fbb0ff3874a73aca6820246379e98": {
          "model_module": "@jupyter-widgets/controls",
          "model_name": "FloatProgressModel",
          "model_module_version": "1.5.0",
          "state": {
            "_dom_classes": [],
            "_model_module": "@jupyter-widgets/controls",
            "_model_module_version": "1.5.0",
            "_model_name": "FloatProgressModel",
            "_view_count": null,
            "_view_module": "@jupyter-widgets/controls",
            "_view_module_version": "1.5.0",
            "_view_name": "ProgressView",
            "bar_style": "",
            "description": "",
            "description_tooltip": null,
            "layout": "IPY_MODEL_53f65cde73fa4545a533080558b4eb12",
            "max": 501,
            "min": 0,
            "orientation": "horizontal",
            "style": "IPY_MODEL_45b678845571449594b2639b64515c80",
            "value": 501
          }
        },
        "807215cd57ac4cc2b3fe48a070876401": {
          "model_module": "@jupyter-widgets/controls",
          "model_name": "HTMLModel",
          "model_module_version": "1.5.0",
          "state": {
            "_dom_classes": [],
            "_model_module": "@jupyter-widgets/controls",
            "_model_module_version": "1.5.0",
            "_model_name": "HTMLModel",
            "_view_count": null,
            "_view_module": "@jupyter-widgets/controls",
            "_view_module_version": "1.5.0",
            "_view_name": "HTMLView",
            "description": "",
            "description_tooltip": null,
            "layout": "IPY_MODEL_988611dbfd7648fbbf0dc302b6abf225",
            "placeholder": "​",
            "style": "IPY_MODEL_7383a817234b4d9eabaec890dd69d53f",
            "value": " 501/501 [00:55&lt;00:00,  1.55it/s, Loss nan]"
          }
        },
        "9ad6ef55272b4d989510fd0a2e67e693": {
          "model_module": "@jupyter-widgets/base",
          "model_name": "LayoutModel",
          "model_module_version": "1.2.0",
          "state": {
            "_model_module": "@jupyter-widgets/base",
            "_model_module_version": "1.2.0",
            "_model_name": "LayoutModel",
            "_view_count": null,
            "_view_module": "@jupyter-widgets/base",
            "_view_module_version": "1.2.0",
            "_view_name": "LayoutView",
            "align_content": null,
            "align_items": null,
            "align_self": null,
            "border": null,
            "bottom": null,
            "display": null,
            "flex": null,
            "flex_flow": null,
            "grid_area": null,
            "grid_auto_columns": null,
            "grid_auto_flow": null,
            "grid_auto_rows": null,
            "grid_column": null,
            "grid_gap": null,
            "grid_row": null,
            "grid_template_areas": null,
            "grid_template_columns": null,
            "grid_template_rows": null,
            "height": null,
            "justify_content": null,
            "justify_items": null,
            "left": null,
            "margin": null,
            "max_height": null,
            "max_width": null,
            "min_height": null,
            "min_width": null,
            "object_fit": null,
            "object_position": null,
            "order": null,
            "overflow": null,
            "overflow_x": null,
            "overflow_y": null,
            "padding": null,
            "right": null,
            "top": null,
            "visibility": null,
            "width": null
          }
        },
        "8271385206004dc1908b1b7eb3c1d983": {
          "model_module": "@jupyter-widgets/base",
          "model_name": "LayoutModel",
          "model_module_version": "1.2.0",
          "state": {
            "_model_module": "@jupyter-widgets/base",
            "_model_module_version": "1.2.0",
            "_model_name": "LayoutModel",
            "_view_count": null,
            "_view_module": "@jupyter-widgets/base",
            "_view_module_version": "1.2.0",
            "_view_name": "LayoutView",
            "align_content": null,
            "align_items": null,
            "align_self": null,
            "border": null,
            "bottom": null,
            "display": null,
            "flex": null,
            "flex_flow": null,
            "grid_area": null,
            "grid_auto_columns": null,
            "grid_auto_flow": null,
            "grid_auto_rows": null,
            "grid_column": null,
            "grid_gap": null,
            "grid_row": null,
            "grid_template_areas": null,
            "grid_template_columns": null,
            "grid_template_rows": null,
            "height": null,
            "justify_content": null,
            "justify_items": null,
            "left": null,
            "margin": null,
            "max_height": null,
            "max_width": null,
            "min_height": null,
            "min_width": null,
            "object_fit": null,
            "object_position": null,
            "order": null,
            "overflow": null,
            "overflow_x": null,
            "overflow_y": null,
            "padding": null,
            "right": null,
            "top": null,
            "visibility": null,
            "width": null
          }
        },
        "c090b0f338e84a70bbe367eb728f0dcd": {
          "model_module": "@jupyter-widgets/controls",
          "model_name": "DescriptionStyleModel",
          "model_module_version": "1.5.0",
          "state": {
            "_model_module": "@jupyter-widgets/controls",
            "_model_module_version": "1.5.0",
            "_model_name": "DescriptionStyleModel",
            "_view_count": null,
            "_view_module": "@jupyter-widgets/base",
            "_view_module_version": "1.2.0",
            "_view_name": "StyleView",
            "description_width": ""
          }
        },
        "53f65cde73fa4545a533080558b4eb12": {
          "model_module": "@jupyter-widgets/base",
          "model_name": "LayoutModel",
          "model_module_version": "1.2.0",
          "state": {
            "_model_module": "@jupyter-widgets/base",
            "_model_module_version": "1.2.0",
            "_model_name": "LayoutModel",
            "_view_count": null,
            "_view_module": "@jupyter-widgets/base",
            "_view_module_version": "1.2.0",
            "_view_name": "LayoutView",
            "align_content": null,
            "align_items": null,
            "align_self": null,
            "border": null,
            "bottom": null,
            "display": null,
            "flex": null,
            "flex_flow": null,
            "grid_area": null,
            "grid_auto_columns": null,
            "grid_auto_flow": null,
            "grid_auto_rows": null,
            "grid_column": null,
            "grid_gap": null,
            "grid_row": null,
            "grid_template_areas": null,
            "grid_template_columns": null,
            "grid_template_rows": null,
            "height": null,
            "justify_content": null,
            "justify_items": null,
            "left": null,
            "margin": null,
            "max_height": null,
            "max_width": null,
            "min_height": null,
            "min_width": null,
            "object_fit": null,
            "object_position": null,
            "order": null,
            "overflow": null,
            "overflow_x": null,
            "overflow_y": null,
            "padding": null,
            "right": null,
            "top": null,
            "visibility": null,
            "width": null
          }
        },
        "45b678845571449594b2639b64515c80": {
          "model_module": "@jupyter-widgets/controls",
          "model_name": "ProgressStyleModel",
          "model_module_version": "1.5.0",
          "state": {
            "_model_module": "@jupyter-widgets/controls",
            "_model_module_version": "1.5.0",
            "_model_name": "ProgressStyleModel",
            "_view_count": null,
            "_view_module": "@jupyter-widgets/base",
            "_view_module_version": "1.2.0",
            "_view_name": "StyleView",
            "bar_color": null,
            "description_width": ""
          }
        },
        "988611dbfd7648fbbf0dc302b6abf225": {
          "model_module": "@jupyter-widgets/base",
          "model_name": "LayoutModel",
          "model_module_version": "1.2.0",
          "state": {
            "_model_module": "@jupyter-widgets/base",
            "_model_module_version": "1.2.0",
            "_model_name": "LayoutModel",
            "_view_count": null,
            "_view_module": "@jupyter-widgets/base",
            "_view_module_version": "1.2.0",
            "_view_name": "LayoutView",
            "align_content": null,
            "align_items": null,
            "align_self": null,
            "border": null,
            "bottom": null,
            "display": null,
            "flex": null,
            "flex_flow": null,
            "grid_area": null,
            "grid_auto_columns": null,
            "grid_auto_flow": null,
            "grid_auto_rows": null,
            "grid_column": null,
            "grid_gap": null,
            "grid_row": null,
            "grid_template_areas": null,
            "grid_template_columns": null,
            "grid_template_rows": null,
            "height": null,
            "justify_content": null,
            "justify_items": null,
            "left": null,
            "margin": null,
            "max_height": null,
            "max_width": null,
            "min_height": null,
            "min_width": null,
            "object_fit": null,
            "object_position": null,
            "order": null,
            "overflow": null,
            "overflow_x": null,
            "overflow_y": null,
            "padding": null,
            "right": null,
            "top": null,
            "visibility": null,
            "width": null
          }
        },
        "7383a817234b4d9eabaec890dd69d53f": {
          "model_module": "@jupyter-widgets/controls",
          "model_name": "DescriptionStyleModel",
          "model_module_version": "1.5.0",
          "state": {
            "_model_module": "@jupyter-widgets/controls",
            "_model_module_version": "1.5.0",
            "_model_name": "DescriptionStyleModel",
            "_view_count": null,
            "_view_module": "@jupyter-widgets/base",
            "_view_module_version": "1.2.0",
            "_view_name": "StyleView",
            "description_width": ""
          }
        }
      }
    }
  },
  "nbformat": 4,
  "nbformat_minor": 0
}