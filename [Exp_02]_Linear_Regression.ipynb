{
  "cells": [
    {
      "cell_type": "markdown",
      "metadata": {
        "id": "bcZVyU_LQUSs"
      },
      "source": [
        "# 목차\n",
        "\n",
        "-  Project1. 선형회귀 당뇨병 수치\n",
        "\n",
        "\n",
        "    - Step (1) 데이터 가져오기\n",
        "    - Step (2) 모델에 입력할 데이터 X 준비하기\n",
        "    - Step (3) 모델에 예측할 데이터 y 준비하기\n",
        "    - Step (4) train, test 데이터 분리\n",
        "    - Step (5) 모델 준비하기\n",
        "    - Step (6) 손실함수 loss 정의하기\n",
        "    - Step (7) 기울기를 구하는 gradient 함수 구현하기\n",
        "    - Step (8) 하이퍼 파라미터인 학습률 설정하기\n",
        "    - Step (9) 모델 학습하기\n",
        "    - Step (10) test 데이터에 대한 성능 확인하기\n",
        "    - Step (11) 정답 데이터와 예측한 데이터 시각화하기\n",
        "\n",
        "-  Project2.\n",
        "\n",
        "\n",
        "    - Step (1) 데이터 가져오기\n",
        "    - Step (2) (2) datetime 컬럼을 datetime 자료형으로 변환하고 연, 월, 일, 시, 분, 초까지 6가지 컬럼 생성하기\n",
        "    - Step (3) year, month, day, hour, minute, second 데이터 개수 시각화하기\n",
        "    - Step (4) train, test 데이터 분리\n",
        "    - Step (5) 모델 준비하기\n",
        "    - Step (6) 손실함수 loss 정의하기\n",
        "    - Step (7) 기울기를 구하는 gradient 함수 구현하기\n",
        "    - Step (8) 하이퍼 파라미터인 학습률 설정하기\n",
        "    - Step (9) 모델 학습하기\n",
        "    - Step (10) test 데이터에 대한 성능 확인하기\n",
        "    - Step (11) 정답 데이터와 예측한 데이터 시각화하기\n",
        "\n",
        "\n",
        "\n",
        "\n",
        "\n",
        "- 회고"
      ]
    },
    {
      "cell_type": "markdown",
      "metadata": {
        "id": "OfNNgU8jYRg9"
      },
      "source": [
        "-----"
      ]
    },
    {
      "cell_type": "markdown",
      "metadata": {
        "id": "M0pdWK_ja_K2"
      },
      "source": [
        "# project1 : 선형회귀 당뇨병 수치"
      ]
    },
    {
      "cell_type": "code",
      "execution_count": 2,
      "metadata": {
        "id": "KMRK6EsLpG98"
      },
      "outputs": [],
      "source": [
        "from sklearn.datasets import load_diabetes\n",
        "diabetes=load_diabetes()"
      ]
    },
    {
      "cell_type": "code",
      "execution_count": 3,
      "metadata": {
        "colab": {
          "base_uri": "https://localhost:8080/"
        },
        "id": "3gEQ1yetp17j",
        "outputId": "7978afd7-2629-4e16-90cb-fb8f7f18d436"
      },
      "outputs": [
        {
          "data": {
            "text/plain": [
              "dict_keys(['data', 'target', 'frame', 'DESCR', 'feature_names', 'data_filename', 'target_filename', 'data_module'])"
            ]
          },
          "execution_count": 3,
          "metadata": {},
          "output_type": "execute_result"
        }
      ],
      "source": [
        "diabetes.keys()"
      ]
    },
    {
      "cell_type": "code",
      "execution_count": 4,
      "metadata": {
        "colab": {
          "base_uri": "https://localhost:8080/"
        },
        "id": "NJWdYdUiqHI2",
        "outputId": "4bae3937-7221-4a0a-f5b4-2a8114870278"
      },
      "outputs": [
        {
          "data": {
            "text/plain": [
              "['age', 'sex', 'bmi', 'bp', 's1', 's2', 's3', 's4', 's5', 's6']"
            ]
          },
          "execution_count": 4,
          "metadata": {},
          "output_type": "execute_result"
        }
      ],
      "source": [
        "diabetes.feature_names"
      ]
    },
    {
      "cell_type": "code",
      "execution_count": 5,
      "metadata": {
        "id": "6nVZkIqLpPrR"
      },
      "outputs": [],
      "source": [
        "diabetes_data = diabetes.data\n",
        "diabetes_label= diabetes.target"
      ]
    },
    {
      "cell_type": "code",
      "execution_count": 6,
      "metadata": {
        "id": "YlvW4fLDrkbt"
      },
      "outputs": [],
      "source": [
        "df_x = diabetes.data\n",
        "df_y= diabetes.target"
      ]
    },
    {
      "cell_type": "code",
      "execution_count": 7,
      "metadata": {
        "id": "0JAnVMwCrrVW"
      },
      "outputs": [],
      "source": [
        "X= np.array(diabetes_data)\n",
        "y= np.array(diabetes_label)"
      ]
    },
    {
      "cell_type": "code",
      "execution_count": 8,
      "metadata": {
        "colab": {
          "base_uri": "https://localhost:8080/",
          "height": 206
        },
        "id": "qRHFDyv4pWCr",
        "outputId": "4a138c17-b6fb-420c-c951-cc04b40b3f57"
      },
      "outputs": [
        {
          "data": {
            "text/html": [
              "\n",
              "  <div id=\"df-c0c21d4d-99b7-4d02-b957-0c79af7bd002\">\n",
              "    <div class=\"colab-df-container\">\n",
              "      <div>\n",
              "<style scoped>\n",
              "    .dataframe tbody tr th:only-of-type {\n",
              "        vertical-align: middle;\n",
              "    }\n",
              "\n",
              "    .dataframe tbody tr th {\n",
              "        vertical-align: top;\n",
              "    }\n",
              "\n",
              "    .dataframe thead th {\n",
              "        text-align: right;\n",
              "    }\n",
              "</style>\n",
              "<table border=\"1\" class=\"dataframe\">\n",
              "  <thead>\n",
              "    <tr style=\"text-align: right;\">\n",
              "      <th></th>\n",
              "      <th>age</th>\n",
              "      <th>sex</th>\n",
              "      <th>bmi</th>\n",
              "      <th>bp</th>\n",
              "      <th>s1</th>\n",
              "      <th>s2</th>\n",
              "      <th>s3</th>\n",
              "      <th>s4</th>\n",
              "      <th>s5</th>\n",
              "      <th>s6</th>\n",
              "    </tr>\n",
              "  </thead>\n",
              "  <tbody>\n",
              "    <tr>\n",
              "      <th>0</th>\n",
              "      <td>0.038076</td>\n",
              "      <td>0.050680</td>\n",
              "      <td>0.061696</td>\n",
              "      <td>0.021872</td>\n",
              "      <td>-0.044223</td>\n",
              "      <td>-0.034821</td>\n",
              "      <td>-0.043401</td>\n",
              "      <td>-0.002592</td>\n",
              "      <td>0.019908</td>\n",
              "      <td>-0.017646</td>\n",
              "    </tr>\n",
              "    <tr>\n",
              "      <th>1</th>\n",
              "      <td>-0.001882</td>\n",
              "      <td>-0.044642</td>\n",
              "      <td>-0.051474</td>\n",
              "      <td>-0.026328</td>\n",
              "      <td>-0.008449</td>\n",
              "      <td>-0.019163</td>\n",
              "      <td>0.074412</td>\n",
              "      <td>-0.039493</td>\n",
              "      <td>-0.068330</td>\n",
              "      <td>-0.092204</td>\n",
              "    </tr>\n",
              "    <tr>\n",
              "      <th>2</th>\n",
              "      <td>0.085299</td>\n",
              "      <td>0.050680</td>\n",
              "      <td>0.044451</td>\n",
              "      <td>-0.005671</td>\n",
              "      <td>-0.045599</td>\n",
              "      <td>-0.034194</td>\n",
              "      <td>-0.032356</td>\n",
              "      <td>-0.002592</td>\n",
              "      <td>0.002864</td>\n",
              "      <td>-0.025930</td>\n",
              "    </tr>\n",
              "    <tr>\n",
              "      <th>3</th>\n",
              "      <td>-0.089063</td>\n",
              "      <td>-0.044642</td>\n",
              "      <td>-0.011595</td>\n",
              "      <td>-0.036656</td>\n",
              "      <td>0.012191</td>\n",
              "      <td>0.024991</td>\n",
              "      <td>-0.036038</td>\n",
              "      <td>0.034309</td>\n",
              "      <td>0.022692</td>\n",
              "      <td>-0.009362</td>\n",
              "    </tr>\n",
              "    <tr>\n",
              "      <th>4</th>\n",
              "      <td>0.005383</td>\n",
              "      <td>-0.044642</td>\n",
              "      <td>-0.036385</td>\n",
              "      <td>0.021872</td>\n",
              "      <td>0.003935</td>\n",
              "      <td>0.015596</td>\n",
              "      <td>0.008142</td>\n",
              "      <td>-0.002592</td>\n",
              "      <td>-0.031991</td>\n",
              "      <td>-0.046641</td>\n",
              "    </tr>\n",
              "  </tbody>\n",
              "</table>\n",
              "</div>\n",
              "      <button class=\"colab-df-convert\" onclick=\"convertToInteractive('df-c0c21d4d-99b7-4d02-b957-0c79af7bd002')\"\n",
              "              title=\"Convert this dataframe to an interactive table.\"\n",
              "              style=\"display:none;\">\n",
              "        \n",
              "  <svg xmlns=\"http://www.w3.org/2000/svg\" height=\"24px\"viewBox=\"0 0 24 24\"\n",
              "       width=\"24px\">\n",
              "    <path d=\"M0 0h24v24H0V0z\" fill=\"none\"/>\n",
              "    <path d=\"M18.56 5.44l.94 2.06.94-2.06 2.06-.94-2.06-.94-.94-2.06-.94 2.06-2.06.94zm-11 1L8.5 8.5l.94-2.06 2.06-.94-2.06-.94L8.5 2.5l-.94 2.06-2.06.94zm10 10l.94 2.06.94-2.06 2.06-.94-2.06-.94-.94-2.06-.94 2.06-2.06.94z\"/><path d=\"M17.41 7.96l-1.37-1.37c-.4-.4-.92-.59-1.43-.59-.52 0-1.04.2-1.43.59L10.3 9.45l-7.72 7.72c-.78.78-.78 2.05 0 2.83L4 21.41c.39.39.9.59 1.41.59.51 0 1.02-.2 1.41-.59l7.78-7.78 2.81-2.81c.8-.78.8-2.07 0-2.86zM5.41 20L4 18.59l7.72-7.72 1.47 1.35L5.41 20z\"/>\n",
              "  </svg>\n",
              "      </button>\n",
              "      \n",
              "  <style>\n",
              "    .colab-df-container {\n",
              "      display:flex;\n",
              "      flex-wrap:wrap;\n",
              "      gap: 12px;\n",
              "    }\n",
              "\n",
              "    .colab-df-convert {\n",
              "      background-color: #E8F0FE;\n",
              "      border: none;\n",
              "      border-radius: 50%;\n",
              "      cursor: pointer;\n",
              "      display: none;\n",
              "      fill: #1967D2;\n",
              "      height: 32px;\n",
              "      padding: 0 0 0 0;\n",
              "      width: 32px;\n",
              "    }\n",
              "\n",
              "    .colab-df-convert:hover {\n",
              "      background-color: #E2EBFA;\n",
              "      box-shadow: 0px 1px 2px rgba(60, 64, 67, 0.3), 0px 1px 3px 1px rgba(60, 64, 67, 0.15);\n",
              "      fill: #174EA6;\n",
              "    }\n",
              "\n",
              "    [theme=dark] .colab-df-convert {\n",
              "      background-color: #3B4455;\n",
              "      fill: #D2E3FC;\n",
              "    }\n",
              "\n",
              "    [theme=dark] .colab-df-convert:hover {\n",
              "      background-color: #434B5C;\n",
              "      box-shadow: 0px 1px 3px 1px rgba(0, 0, 0, 0.15);\n",
              "      filter: drop-shadow(0px 1px 2px rgba(0, 0, 0, 0.3));\n",
              "      fill: #FFFFFF;\n",
              "    }\n",
              "  </style>\n",
              "\n",
              "      <script>\n",
              "        const buttonEl =\n",
              "          document.querySelector('#df-c0c21d4d-99b7-4d02-b957-0c79af7bd002 button.colab-df-convert');\n",
              "        buttonEl.style.display =\n",
              "          google.colab.kernel.accessAllowed ? 'block' : 'none';\n",
              "\n",
              "        async function convertToInteractive(key) {\n",
              "          const element = document.querySelector('#df-c0c21d4d-99b7-4d02-b957-0c79af7bd002');\n",
              "          const dataTable =\n",
              "            await google.colab.kernel.invokeFunction('convertToInteractive',\n",
              "                                                     [key], {});\n",
              "          if (!dataTable) return;\n",
              "\n",
              "          const docLinkHtml = 'Like what you see? Visit the ' +\n",
              "            '<a target=\"_blank\" href=https://colab.research.google.com/notebooks/data_table.ipynb>data table notebook</a>'\n",
              "            + ' to learn more about interactive tables.';\n",
              "          element.innerHTML = '';\n",
              "          dataTable['output_type'] = 'display_data';\n",
              "          await google.colab.output.renderOutput(dataTable, element);\n",
              "          const docLink = document.createElement('div');\n",
              "          docLink.innerHTML = docLinkHtml;\n",
              "          element.appendChild(docLink);\n",
              "        }\n",
              "      </script>\n",
              "    </div>\n",
              "  </div>\n",
              "  "
            ],
            "text/plain": [
              "        age       sex       bmi        bp        s1        s2        s3  \\\n",
              "0  0.038076  0.050680  0.061696  0.021872 -0.044223 -0.034821 -0.043401   \n",
              "1 -0.001882 -0.044642 -0.051474 -0.026328 -0.008449 -0.019163  0.074412   \n",
              "2  0.085299  0.050680  0.044451 -0.005671 -0.045599 -0.034194 -0.032356   \n",
              "3 -0.089063 -0.044642 -0.011595 -0.036656  0.012191  0.024991 -0.036038   \n",
              "4  0.005383 -0.044642 -0.036385  0.021872  0.003935  0.015596  0.008142   \n",
              "\n",
              "         s4        s5        s6  \n",
              "0 -0.002592  0.019908 -0.017646  \n",
              "1 -0.039493 -0.068330 -0.092204  \n",
              "2 -0.002592  0.002864 -0.025930  \n",
              "3  0.034309  0.022692 -0.009362  \n",
              "4 -0.002592 -0.031991 -0.046641  "
            ]
          },
          "execution_count": 8,
          "metadata": {},
          "output_type": "execute_result"
        }
      ],
      "source": [
        "diabetes_df = pd.DataFrame(data=diabetes_data, columns=diabetes.feature_names)\n",
        "diabetes_df.head()"
      ]
    },
    {
      "cell_type": "code",
      "execution_count": 9,
      "metadata": {
        "colab": {
          "base_uri": "https://localhost:8080/",
          "height": 206
        },
        "id": "BH3is2XJpiQa",
        "outputId": "cea29c7a-c2fb-445e-a520-9573abf984da"
      },
      "outputs": [
        {
          "data": {
            "text/html": [
              "\n",
              "  <div id=\"df-38dd09ff-ec01-457f-b3f6-12dcc6250fc1\">\n",
              "    <div class=\"colab-df-container\">\n",
              "      <div>\n",
              "<style scoped>\n",
              "    .dataframe tbody tr th:only-of-type {\n",
              "        vertical-align: middle;\n",
              "    }\n",
              "\n",
              "    .dataframe tbody tr th {\n",
              "        vertical-align: top;\n",
              "    }\n",
              "\n",
              "    .dataframe thead th {\n",
              "        text-align: right;\n",
              "    }\n",
              "</style>\n",
              "<table border=\"1\" class=\"dataframe\">\n",
              "  <thead>\n",
              "    <tr style=\"text-align: right;\">\n",
              "      <th></th>\n",
              "      <th>age</th>\n",
              "      <th>sex</th>\n",
              "      <th>bmi</th>\n",
              "      <th>bp</th>\n",
              "      <th>s1</th>\n",
              "      <th>s2</th>\n",
              "      <th>s3</th>\n",
              "      <th>s4</th>\n",
              "      <th>s5</th>\n",
              "      <th>s6</th>\n",
              "      <th>label</th>\n",
              "    </tr>\n",
              "  </thead>\n",
              "  <tbody>\n",
              "    <tr>\n",
              "      <th>0</th>\n",
              "      <td>0.038076</td>\n",
              "      <td>0.050680</td>\n",
              "      <td>0.061696</td>\n",
              "      <td>0.021872</td>\n",
              "      <td>-0.044223</td>\n",
              "      <td>-0.034821</td>\n",
              "      <td>-0.043401</td>\n",
              "      <td>-0.002592</td>\n",
              "      <td>0.019908</td>\n",
              "      <td>-0.017646</td>\n",
              "      <td>151.0</td>\n",
              "    </tr>\n",
              "    <tr>\n",
              "      <th>1</th>\n",
              "      <td>-0.001882</td>\n",
              "      <td>-0.044642</td>\n",
              "      <td>-0.051474</td>\n",
              "      <td>-0.026328</td>\n",
              "      <td>-0.008449</td>\n",
              "      <td>-0.019163</td>\n",
              "      <td>0.074412</td>\n",
              "      <td>-0.039493</td>\n",
              "      <td>-0.068330</td>\n",
              "      <td>-0.092204</td>\n",
              "      <td>75.0</td>\n",
              "    </tr>\n",
              "    <tr>\n",
              "      <th>2</th>\n",
              "      <td>0.085299</td>\n",
              "      <td>0.050680</td>\n",
              "      <td>0.044451</td>\n",
              "      <td>-0.005671</td>\n",
              "      <td>-0.045599</td>\n",
              "      <td>-0.034194</td>\n",
              "      <td>-0.032356</td>\n",
              "      <td>-0.002592</td>\n",
              "      <td>0.002864</td>\n",
              "      <td>-0.025930</td>\n",
              "      <td>141.0</td>\n",
              "    </tr>\n",
              "    <tr>\n",
              "      <th>3</th>\n",
              "      <td>-0.089063</td>\n",
              "      <td>-0.044642</td>\n",
              "      <td>-0.011595</td>\n",
              "      <td>-0.036656</td>\n",
              "      <td>0.012191</td>\n",
              "      <td>0.024991</td>\n",
              "      <td>-0.036038</td>\n",
              "      <td>0.034309</td>\n",
              "      <td>0.022692</td>\n",
              "      <td>-0.009362</td>\n",
              "      <td>206.0</td>\n",
              "    </tr>\n",
              "    <tr>\n",
              "      <th>4</th>\n",
              "      <td>0.005383</td>\n",
              "      <td>-0.044642</td>\n",
              "      <td>-0.036385</td>\n",
              "      <td>0.021872</td>\n",
              "      <td>0.003935</td>\n",
              "      <td>0.015596</td>\n",
              "      <td>0.008142</td>\n",
              "      <td>-0.002592</td>\n",
              "      <td>-0.031991</td>\n",
              "      <td>-0.046641</td>\n",
              "      <td>135.0</td>\n",
              "    </tr>\n",
              "  </tbody>\n",
              "</table>\n",
              "</div>\n",
              "      <button class=\"colab-df-convert\" onclick=\"convertToInteractive('df-38dd09ff-ec01-457f-b3f6-12dcc6250fc1')\"\n",
              "              title=\"Convert this dataframe to an interactive table.\"\n",
              "              style=\"display:none;\">\n",
              "        \n",
              "  <svg xmlns=\"http://www.w3.org/2000/svg\" height=\"24px\"viewBox=\"0 0 24 24\"\n",
              "       width=\"24px\">\n",
              "    <path d=\"M0 0h24v24H0V0z\" fill=\"none\"/>\n",
              "    <path d=\"M18.56 5.44l.94 2.06.94-2.06 2.06-.94-2.06-.94-.94-2.06-.94 2.06-2.06.94zm-11 1L8.5 8.5l.94-2.06 2.06-.94-2.06-.94L8.5 2.5l-.94 2.06-2.06.94zm10 10l.94 2.06.94-2.06 2.06-.94-2.06-.94-.94-2.06-.94 2.06-2.06.94z\"/><path d=\"M17.41 7.96l-1.37-1.37c-.4-.4-.92-.59-1.43-.59-.52 0-1.04.2-1.43.59L10.3 9.45l-7.72 7.72c-.78.78-.78 2.05 0 2.83L4 21.41c.39.39.9.59 1.41.59.51 0 1.02-.2 1.41-.59l7.78-7.78 2.81-2.81c.8-.78.8-2.07 0-2.86zM5.41 20L4 18.59l7.72-7.72 1.47 1.35L5.41 20z\"/>\n",
              "  </svg>\n",
              "      </button>\n",
              "      \n",
              "  <style>\n",
              "    .colab-df-container {\n",
              "      display:flex;\n",
              "      flex-wrap:wrap;\n",
              "      gap: 12px;\n",
              "    }\n",
              "\n",
              "    .colab-df-convert {\n",
              "      background-color: #E8F0FE;\n",
              "      border: none;\n",
              "      border-radius: 50%;\n",
              "      cursor: pointer;\n",
              "      display: none;\n",
              "      fill: #1967D2;\n",
              "      height: 32px;\n",
              "      padding: 0 0 0 0;\n",
              "      width: 32px;\n",
              "    }\n",
              "\n",
              "    .colab-df-convert:hover {\n",
              "      background-color: #E2EBFA;\n",
              "      box-shadow: 0px 1px 2px rgba(60, 64, 67, 0.3), 0px 1px 3px 1px rgba(60, 64, 67, 0.15);\n",
              "      fill: #174EA6;\n",
              "    }\n",
              "\n",
              "    [theme=dark] .colab-df-convert {\n",
              "      background-color: #3B4455;\n",
              "      fill: #D2E3FC;\n",
              "    }\n",
              "\n",
              "    [theme=dark] .colab-df-convert:hover {\n",
              "      background-color: #434B5C;\n",
              "      box-shadow: 0px 1px 3px 1px rgba(0, 0, 0, 0.15);\n",
              "      filter: drop-shadow(0px 1px 2px rgba(0, 0, 0, 0.3));\n",
              "      fill: #FFFFFF;\n",
              "    }\n",
              "  </style>\n",
              "\n",
              "      <script>\n",
              "        const buttonEl =\n",
              "          document.querySelector('#df-38dd09ff-ec01-457f-b3f6-12dcc6250fc1 button.colab-df-convert');\n",
              "        buttonEl.style.display =\n",
              "          google.colab.kernel.accessAllowed ? 'block' : 'none';\n",
              "\n",
              "        async function convertToInteractive(key) {\n",
              "          const element = document.querySelector('#df-38dd09ff-ec01-457f-b3f6-12dcc6250fc1');\n",
              "          const dataTable =\n",
              "            await google.colab.kernel.invokeFunction('convertToInteractive',\n",
              "                                                     [key], {});\n",
              "          if (!dataTable) return;\n",
              "\n",
              "          const docLinkHtml = 'Like what you see? Visit the ' +\n",
              "            '<a target=\"_blank\" href=https://colab.research.google.com/notebooks/data_table.ipynb>data table notebook</a>'\n",
              "            + ' to learn more about interactive tables.';\n",
              "          element.innerHTML = '';\n",
              "          dataTable['output_type'] = 'display_data';\n",
              "          await google.colab.output.renderOutput(dataTable, element);\n",
              "          const docLink = document.createElement('div');\n",
              "          docLink.innerHTML = docLinkHtml;\n",
              "          element.appendChild(docLink);\n",
              "        }\n",
              "      </script>\n",
              "    </div>\n",
              "  </div>\n",
              "  "
            ],
            "text/plain": [
              "        age       sex       bmi        bp        s1        s2        s3  \\\n",
              "0  0.038076  0.050680  0.061696  0.021872 -0.044223 -0.034821 -0.043401   \n",
              "1 -0.001882 -0.044642 -0.051474 -0.026328 -0.008449 -0.019163  0.074412   \n",
              "2  0.085299  0.050680  0.044451 -0.005671 -0.045599 -0.034194 -0.032356   \n",
              "3 -0.089063 -0.044642 -0.011595 -0.036656  0.012191  0.024991 -0.036038   \n",
              "4  0.005383 -0.044642 -0.036385  0.021872  0.003935  0.015596  0.008142   \n",
              "\n",
              "         s4        s5        s6  label  \n",
              "0 -0.002592  0.019908 -0.017646  151.0  \n",
              "1 -0.039493 -0.068330 -0.092204   75.0  \n",
              "2 -0.002592  0.002864 -0.025930  141.0  \n",
              "3  0.034309  0.022692 -0.009362  206.0  \n",
              "4 -0.002592 -0.031991 -0.046641  135.0  "
            ]
          },
          "execution_count": 9,
          "metadata": {},
          "output_type": "execute_result"
        }
      ],
      "source": [
        "diabetes_df[\"label\"] = diabetes.target\n",
        "diabetes_df.head()"
      ]
    },
    {
      "cell_type": "code",
      "execution_count": 10,
      "metadata": {
        "colab": {
          "base_uri": "https://localhost:8080/"
        },
        "id": "oDCcTFPdtSsc",
        "outputId": "fc79be3f-41e2-4965-9aa1-89a655afb132"
      },
      "outputs": [
        {
          "name": "stdout",
          "output_type": "stream",
          "text": [
            "X_train 개수:  353 , X_test 개수:  89\n"
          ]
        }
      ],
      "source": [
        "from sklearn.model_selection import train_test_split\n",
        "X_train, X_test, y_train, y_test = train_test_split(diabetes_data, \n",
        "                                                    diabetes_label, \n",
        "                                                    test_size=0.2, \n",
        "                                                    random_state=42)\n",
        "\n",
        "print('X_train 개수: ', len(X_train),', X_test 개수: ', len(X_test))"
      ]
    },
    {
      "cell_type": "code",
      "execution_count": 11,
      "metadata": {
        "id": "uW0lQABdtkTc"
      },
      "outputs": [],
      "source": [
        "import numpy as np\n",
        "W = np.random.rand(10)\n",
        "b = np.random.rand()"
      ]
    },
    {
      "cell_type": "code",
      "execution_count": 12,
      "metadata": {
        "colab": {
          "base_uri": "https://localhost:8080/"
        },
        "id": "AaQ1BCNvuEuW",
        "outputId": "cbe45c5c-2957-48fe-cc00-add91cbaa95b"
      },
      "outputs": [
        {
          "data": {
            "text/plain": [
              "array([0.15746566, 0.07235194, 0.44067254, 0.348268  , 0.49114526,\n",
              "       0.6000082 , 0.71805158, 0.41066085, 0.65064502, 0.53680786])"
            ]
          },
          "execution_count": 12,
          "metadata": {},
          "output_type": "execute_result"
        }
      ],
      "source": [
        "W"
      ]
    },
    {
      "cell_type": "code",
      "execution_count": 13,
      "metadata": {
        "colab": {
          "base_uri": "https://localhost:8080/"
        },
        "id": "COkqTns8uIK-",
        "outputId": "12ca6cf1-0964-4ac9-ff8f-f9f5ee096255"
      },
      "outputs": [
        {
          "data": {
            "text/plain": [
              "0.31048063064445797"
            ]
          },
          "execution_count": 13,
          "metadata": {},
          "output_type": "execute_result"
        }
      ],
      "source": [
        "b"
      ]
    },
    {
      "cell_type": "code",
      "execution_count": 14,
      "metadata": {
        "id": "X-kg0ppxuKwK"
      },
      "outputs": [],
      "source": [
        "# 모델함수 구현\n",
        "\n",
        "def model(X, W, b):\n",
        "    predictions = 0\n",
        "    for i in range(10):\n",
        "        predictions += X[:, i] * W[i]\n",
        "    predictions += b\n",
        "    return predictions"
      ]
    },
    {
      "cell_type": "code",
      "execution_count": 15,
      "metadata": {
        "id": "p33a-iWduR6H"
      },
      "outputs": [],
      "source": [
        "# \bMSE\n",
        "\n",
        "def MSE(a, b):\n",
        "    mse = ((a - b) ** 2).mean()  # 두 값의 차이의 제곱의 평균\n",
        "    return mse"
      ]
    },
    {
      "cell_type": "code",
      "execution_count": 16,
      "metadata": {
        "id": "E5IfgTUPuY2m"
      },
      "outputs": [],
      "source": [
        "# 손실함수\n",
        "\n",
        "def loss(X, W, b, y):\n",
        "    predictions = model(X, W, b)\n",
        "    L = MSE(predictions, y)\n",
        "    return L"
      ]
    },
    {
      "cell_type": "code",
      "execution_count": 17,
      "metadata": {
        "id": "Vr0h6XQ8uh9n"
      },
      "outputs": [],
      "source": [
        "# 그래디언트 계산\n",
        "\n",
        "def gradient(X, W, b, y):\n",
        "    # N은 가중치의 개수\n",
        "    N = len(W)\n",
        "    \n",
        "    # y_pred 준비\n",
        "    y_pred = model(X, W, b)\n",
        "    \n",
        "    # 공식에 맞게 gradient 계산\n",
        "    dW = 1/N * 2 * X.T.dot(y_pred - y)\n",
        "        \n",
        "    # b의 gradient 계산\n",
        "    db = 2 * (y_pred - y).mean()\n",
        "    return dW, db"
      ]
    },
    {
      "cell_type": "code",
      "execution_count": 18,
      "metadata": {
        "colab": {
          "base_uri": "https://localhost:8080/"
        },
        "id": "YCaHXhaGuzT6",
        "outputId": "3ec1bdda-9901-4580-960e-efc40a5a88ef"
      },
      "outputs": [
        {
          "name": "stdout",
          "output_type": "stream",
          "text": [
            "dW: [ -60.63750128  -13.86329953 -189.62729816 -142.69507969  -68.24347437\n",
            "  -56.00532162  127.75961361 -139.07725314 -182.88795541 -123.54094216]\n",
            "db: -303.64600706450295\n"
          ]
        }
      ],
      "source": [
        "dW, db = gradient(X, W, b, y)\n",
        "print(\"dW:\", dW)\n",
        "print(\"db:\", db)"
      ]
    },
    {
      "cell_type": "code",
      "execution_count": 19,
      "metadata": {
        "id": "C-FfnQB4u3dG"
      },
      "outputs": [],
      "source": [
        "# 학습률 설정 \n",
        "\n",
        "LEARNING_RATE = 0.1"
      ]
    },
    {
      "cell_type": "code",
      "execution_count": 20,
      "metadata": {
        "colab": {
          "base_uri": "https://localhost:8080/"
        },
        "id": "s1fLoEFLwBhy",
        "outputId": "685abed2-9cfa-465f-d5fc-8601e0bbaed5"
      },
      "outputs": [
        {
          "name": "stdout",
          "output_type": "stream",
          "text": [
            "Iteration 10 : Loss 4525.2301\n",
            "Iteration 20 : Loss 3657.6162\n",
            "Iteration 30 : Loss 3381.3434\n",
            "Iteration 40 : Loss 3229.0236\n",
            "Iteration 50 : Loss 3132.4621\n",
            "Iteration 60 : Loss 3067.0270\n",
            "Iteration 70 : Loss 3021.2424\n",
            "Iteration 80 : Loss 2988.6679\n",
            "Iteration 90 : Loss 2965.2453\n",
            "Iteration 100 : Loss 2948.2623\n",
            "Iteration 110 : Loss 2935.8542\n",
            "Iteration 120 : Loss 2926.7202\n",
            "Iteration 130 : Loss 2919.9448\n",
            "Iteration 140 : Loss 2914.8795\n",
            "Iteration 150 : Loss 2911.0617\n",
            "Iteration 160 : Loss 2908.1599\n",
            "Iteration 170 : Loss 2905.9351\n",
            "Iteration 180 : Loss 2904.2138\n",
            "Iteration 190 : Loss 2902.8694\n",
            "Iteration 200 : Loss 2901.8091\n",
            "Iteration 210 : Loss 2900.9643\n",
            "Iteration 220 : Loss 2900.2839\n",
            "Iteration 230 : Loss 2899.7299\n",
            "Iteration 240 : Loss 2899.2736\n",
            "Iteration 250 : Loss 2898.8932\n",
            "Iteration 260 : Loss 2898.5722\n",
            "Iteration 270 : Loss 2898.2980\n",
            "Iteration 280 : Loss 2898.0607\n",
            "Iteration 290 : Loss 2897.8528\n",
            "Iteration 300 : Loss 2897.6684\n",
            "Iteration 310 : Loss 2897.5028\n",
            "Iteration 320 : Loss 2897.3524\n",
            "Iteration 330 : Loss 2897.2142\n",
            "Iteration 340 : Loss 2897.0860\n",
            "Iteration 350 : Loss 2896.9660\n",
            "Iteration 360 : Loss 2896.8527\n",
            "Iteration 370 : Loss 2896.7448\n",
            "Iteration 380 : Loss 2896.6415\n",
            "Iteration 390 : Loss 2896.5419\n",
            "Iteration 400 : Loss 2896.4454\n",
            "Iteration 410 : Loss 2896.3516\n",
            "Iteration 420 : Loss 2896.2599\n",
            "Iteration 430 : Loss 2896.1701\n",
            "Iteration 440 : Loss 2896.0819\n",
            "Iteration 450 : Loss 2895.9950\n",
            "Iteration 460 : Loss 2895.9093\n",
            "Iteration 470 : Loss 2895.8245\n",
            "Iteration 480 : Loss 2895.7407\n",
            "Iteration 490 : Loss 2895.6576\n",
            "Iteration 500 : Loss 2895.5751\n",
            "Iteration 510 : Loss 2895.4933\n",
            "Iteration 520 : Loss 2895.4120\n",
            "Iteration 530 : Loss 2895.3311\n",
            "Iteration 540 : Loss 2895.2508\n",
            "Iteration 550 : Loss 2895.1708\n",
            "Iteration 560 : Loss 2895.0912\n",
            "Iteration 570 : Loss 2895.0120\n",
            "Iteration 580 : Loss 2894.9331\n",
            "Iteration 590 : Loss 2894.8545\n",
            "Iteration 600 : Loss 2894.7763\n",
            "Iteration 610 : Loss 2894.6983\n",
            "Iteration 620 : Loss 2894.6206\n",
            "Iteration 630 : Loss 2894.5432\n",
            "Iteration 640 : Loss 2894.4661\n",
            "Iteration 650 : Loss 2894.3892\n",
            "Iteration 660 : Loss 2894.3126\n",
            "Iteration 670 : Loss 2894.2362\n",
            "Iteration 680 : Loss 2894.1601\n",
            "Iteration 690 : Loss 2894.0842\n",
            "Iteration 700 : Loss 2894.0086\n",
            "Iteration 710 : Loss 2893.9331\n",
            "Iteration 720 : Loss 2893.8580\n",
            "Iteration 730 : Loss 2893.7831\n",
            "Iteration 740 : Loss 2893.7084\n",
            "Iteration 750 : Loss 2893.6339\n",
            "Iteration 760 : Loss 2893.5597\n",
            "Iteration 770 : Loss 2893.4856\n",
            "Iteration 780 : Loss 2893.4119\n",
            "Iteration 790 : Loss 2893.3383\n",
            "Iteration 800 : Loss 2893.2650\n",
            "Iteration 810 : Loss 2893.1918\n",
            "Iteration 820 : Loss 2893.1190\n",
            "Iteration 830 : Loss 2893.0463\n",
            "Iteration 840 : Loss 2892.9738\n",
            "Iteration 850 : Loss 2892.9016\n",
            "Iteration 860 : Loss 2892.8296\n",
            "Iteration 870 : Loss 2892.7578\n",
            "Iteration 880 : Loss 2892.6862\n",
            "Iteration 890 : Loss 2892.6149\n",
            "Iteration 900 : Loss 2892.5437\n",
            "Iteration 910 : Loss 2892.4728\n",
            "Iteration 920 : Loss 2892.4020\n",
            "Iteration 930 : Loss 2892.3315\n",
            "Iteration 940 : Loss 2892.2612\n",
            "Iteration 950 : Loss 2892.1912\n",
            "Iteration 960 : Loss 2892.1213\n",
            "Iteration 970 : Loss 2892.0516\n",
            "Iteration 980 : Loss 2891.9822\n",
            "Iteration 990 : Loss 2891.9129\n",
            "Iteration 1000 : Loss 2891.8439\n"
          ]
        }
      ],
      "source": [
        "losses = []\n",
        "\n",
        "for i in range(1, 1001):\n",
        "    dW, db = gradient(X_train, W, b, y_train)\n",
        "    W -= LEARNING_RATE * dW\n",
        "    b -= LEARNING_RATE * db\n",
        "    L = loss(X_train, W, b, y_train)\n",
        "    losses.append(L)\n",
        "    if i % 10 == 0:\n",
        "        print('Iteration %d : Loss %0.4f' % (i, L))"
      ]
    },
    {
      "cell_type": "code",
      "execution_count": 21,
      "metadata": {
        "colab": {
          "base_uri": "https://localhost:8080/",
          "height": 265
        },
        "id": "JM9HpP40wPd8",
        "outputId": "7a1f4496-3da9-45e2-c03d-59183dd1d4e6"
      },
      "outputs": [
        {
          "data": {
            "image/png": "[encoded data removed]",
            "text/plain": [
              "<Figure size 432x288 with 1 Axes>"
            ]
          },
          "metadata": {
            "needs_background": "light"
          },
          "output_type": "display_data"
        }
      ],
      "source": [
        "import matplotlib.pyplot as plt\n",
        "plt.plot(losses)\n",
        "plt.show()"
      ]
    },
    {
      "cell_type": "code",
      "execution_count": 22,
      "metadata": {
        "colab": {
          "base_uri": "https://localhost:8080/"
        },
        "id": "CaTWIhN-wXxl",
        "outputId": "b46c1f08-76c9-46d0-92f4-3c8e33e377db"
      },
      "outputs": [
        {
          "data": {
            "text/plain": [
              "(array([  41.99824169, -240.26458125,  556.83006533,  342.96201472,\n",
              "        -181.88965189,  -67.73978312, -175.49779109,  167.47627837,\n",
              "         450.19650592,   54.06517073]), 151.30724717233232)"
            ]
          },
          "execution_count": 22,
          "metadata": {},
          "output_type": "execute_result"
        }
      ],
      "source": [
        "W, b"
      ]
    },
    {
      "cell_type": "code",
      "execution_count": 23,
      "metadata": {
        "colab": {
          "base_uri": "https://localhost:8080/"
        },
        "id": "APrOcK3OxzVF",
        "outputId": "9892fe51-971e-4055-e839-bbeffeb43c45"
      },
      "outputs": [
        {
          "data": {
            "text/plain": [
              "2885.5451006718554"
            ]
          },
          "execution_count": 23,
          "metadata": {},
          "output_type": "execute_result"
        }
      ],
      "source": [
        "# test data :prediction \n",
        "\n",
        "prediction = model(X_test, W, b)\n",
        "mse = loss(X_test, W, b, y_test)\n",
        "mse"
      ]
    },
    {
      "cell_type": "code",
      "execution_count": 24,
      "metadata": {
        "colab": {
          "base_uri": "https://localhost:8080/",
          "height": 265
        },
        "id": "eBXnOUZdx4on",
        "outputId": "49fb8e10-f841-412b-e19c-190327f3b0a7"
      },
      "outputs": [
        {
          "data": {
            "image/png": "[encoded data removed]",
            "text/plain": [
              "<Figure size 432x288 with 1 Axes>"
            ]
          },
          "metadata": {
            "needs_background": "light"
          },
          "output_type": "display_data"
        }
      ],
      "source": [
        "plt.scatter(X_test[:, 0], y_test)\n",
        "plt.scatter(X_test[:, 0], prediction)\n",
        "plt.show()"
      ]
    },
    {
      "cell_type": "code",
      "execution_count": 24,
      "metadata": {
        "id": "-2gE__MWzEQD"
      },
      "outputs": [],
      "source": []
    },
    {
      "cell_type": "markdown",
      "metadata": {
        "id": "wkUG3H4hAy-M"
      },
      "source": [
        "#2. project2 : 날씨-자전거타기 "
      ]
    },
    {
      "cell_type": "code",
      "execution_count": 25,
      "metadata": {
        "id": "VTIWYj9zbjgW"
      },
      "outputs": [],
      "source": [
        "import seaborn as sns"
      ]
    },
    {
      "cell_type": "markdown",
      "metadata": {
        "id": "sbp_EYcWBTiH"
      },
      "source": [
        "* 1) 데이터가져오기"
      ]
    },
    {
      "cell_type": "code",
      "execution_count": 26,
      "metadata": {
        "id": "kozx3uXBBV4F"
      },
      "outputs": [],
      "source": [
        "train = pd.read_csv('/content/train.csv')"
      ]
    },
    {
      "cell_type": "code",
      "execution_count": 27,
      "metadata": {
        "colab": {
          "base_uri": "https://localhost:8080/"
        },
        "id": "Vzba_65fKR49",
        "outputId": "715eb224-a06c-4853-a74e-b423442e9254"
      },
      "outputs": [
        {
          "name": "stdout",
          "output_type": "stream",
          "text": [
            "<class 'pandas.core.frame.DataFrame'>\n",
            "RangeIndex: 10886 entries, 0 to 10885\n",
            "Data columns (total 12 columns):\n",
            " #   Column      Non-Null Count  Dtype  \n",
            "---  ------      --------------  -----  \n",
            " 0   datetime    10886 non-null  object \n",
            " 1   season      10886 non-null  int64  \n",
            " 2   holiday     10886 non-null  int64  \n",
            " 3   workingday  10886 non-null  int64  \n",
            " 4   weather     10886 non-null  int64  \n",
            " 5   temp        10886 non-null  float64\n",
            " 6   atemp       10886 non-null  float64\n",
            " 7   humidity    10886 non-null  int64  \n",
            " 8   windspeed   10886 non-null  float64\n",
            " 9   casual      10886 non-null  int64  \n",
            " 10  registered  10886 non-null  int64  \n",
            " 11  count       10886 non-null  int64  \n",
            "dtypes: float64(3), int64(8), object(1)\n",
            "memory usage: 1020.7+ KB\n"
          ]
        }
      ],
      "source": [
        "train.info()"
      ]
    },
    {
      "cell_type": "markdown",
      "metadata": {
        "id": "-UtEziHvBXQ9"
      },
      "source": [
        "* 2)datetime컬럼생성"
      ]
    },
    {
      "cell_type": "code",
      "execution_count": 28,
      "metadata": {
        "id": "M0yPEFSXBcUF"
      },
      "outputs": [],
      "source": [
        "train['datetime'] = pd.to_datetime(train['datetime'])"
      ]
    },
    {
      "cell_type": "code",
      "execution_count": 29,
      "metadata": {
        "id": "vrspAbo7U3br"
      },
      "outputs": [],
      "source": [
        "from sklearn.utils.fixes import threadpool_info\n",
        "train['year'] = pd.to_datetime(train['datetime']).dt.year\n",
        "train['month'] = pd.to_datetime(train['datetime']).dt.month\n",
        "train['day'] = pd.to_datetime(train['datetime']).dt.day\n",
        "train['hour'] = pd.to_datetime(train['datetime']).dt.hour\n",
        "train['minute'] = pd.to_datetime(train['datetime']).dt.minute\n",
        "train['second'] = pd.to_datetime(train['datetime']).dt.second"
      ]
    },
    {
      "cell_type": "code",
      "execution_count": 30,
      "metadata": {
        "colab": {
          "base_uri": "https://localhost:8080/",
          "height": 250
        },
        "id": "EZ0HNClqVek0",
        "outputId": "d18276ec-b12f-4a23-da30-ef6f629f3b34"
      },
      "outputs": [
        {
          "data": {
            "text/html": [
              "\n",
              "  <div id=\"df-04eaa67e-fe65-4f30-8eb7-0aea87182984\">\n",
              "    <div class=\"colab-df-container\">\n",
              "      <div>\n",
              "<style scoped>\n",
              "    .dataframe tbody tr th:only-of-type {\n",
              "        vertical-align: middle;\n",
              "    }\n",
              "\n",
              "    .dataframe tbody tr th {\n",
              "        vertical-align: top;\n",
              "    }\n",
              "\n",
              "    .dataframe thead th {\n",
              "        text-align: right;\n",
              "    }\n",
              "</style>\n",
              "<table border=\"1\" class=\"dataframe\">\n",
              "  <thead>\n",
              "    <tr style=\"text-align: right;\">\n",
              "      <th></th>\n",
              "      <th>datetime</th>\n",
              "      <th>season</th>\n",
              "      <th>holiday</th>\n",
              "      <th>workingday</th>\n",
              "      <th>weather</th>\n",
              "      <th>temp</th>\n",
              "      <th>atemp</th>\n",
              "      <th>humidity</th>\n",
              "      <th>windspeed</th>\n",
              "      <th>casual</th>\n",
              "      <th>registered</th>\n",
              "      <th>count</th>\n",
              "      <th>year</th>\n",
              "      <th>month</th>\n",
              "      <th>day</th>\n",
              "      <th>hour</th>\n",
              "      <th>minute</th>\n",
              "      <th>second</th>\n",
              "    </tr>\n",
              "  </thead>\n",
              "  <tbody>\n",
              "    <tr>\n",
              "      <th>0</th>\n",
              "      <td>2011-01-01 00:00:00</td>\n",
              "      <td>1</td>\n",
              "      <td>0</td>\n",
              "      <td>0</td>\n",
              "      <td>1</td>\n",
              "      <td>9.84</td>\n",
              "      <td>14.395</td>\n",
              "      <td>81</td>\n",
              "      <td>0.0</td>\n",
              "      <td>3</td>\n",
              "      <td>13</td>\n",
              "      <td>16</td>\n",
              "      <td>2011</td>\n",
              "      <td>1</td>\n",
              "      <td>1</td>\n",
              "      <td>0</td>\n",
              "      <td>0</td>\n",
              "      <td>0</td>\n",
              "    </tr>\n",
              "    <tr>\n",
              "      <th>1</th>\n",
              "      <td>2011-01-01 01:00:00</td>\n",
              "      <td>1</td>\n",
              "      <td>0</td>\n",
              "      <td>0</td>\n",
              "      <td>1</td>\n",
              "      <td>9.02</td>\n",
              "      <td>13.635</td>\n",
              "      <td>80</td>\n",
              "      <td>0.0</td>\n",
              "      <td>8</td>\n",
              "      <td>32</td>\n",
              "      <td>40</td>\n",
              "      <td>2011</td>\n",
              "      <td>1</td>\n",
              "      <td>1</td>\n",
              "      <td>1</td>\n",
              "      <td>0</td>\n",
              "      <td>0</td>\n",
              "    </tr>\n",
              "    <tr>\n",
              "      <th>2</th>\n",
              "      <td>2011-01-01 02:00:00</td>\n",
              "      <td>1</td>\n",
              "      <td>0</td>\n",
              "      <td>0</td>\n",
              "      <td>1</td>\n",
              "      <td>9.02</td>\n",
              "      <td>13.635</td>\n",
              "      <td>80</td>\n",
              "      <td>0.0</td>\n",
              "      <td>5</td>\n",
              "      <td>27</td>\n",
              "      <td>32</td>\n",
              "      <td>2011</td>\n",
              "      <td>1</td>\n",
              "      <td>1</td>\n",
              "      <td>2</td>\n",
              "      <td>0</td>\n",
              "      <td>0</td>\n",
              "    </tr>\n",
              "    <tr>\n",
              "      <th>3</th>\n",
              "      <td>2011-01-01 03:00:00</td>\n",
              "      <td>1</td>\n",
              "      <td>0</td>\n",
              "      <td>0</td>\n",
              "      <td>1</td>\n",
              "      <td>9.84</td>\n",
              "      <td>14.395</td>\n",
              "      <td>75</td>\n",
              "      <td>0.0</td>\n",
              "      <td>3</td>\n",
              "      <td>10</td>\n",
              "      <td>13</td>\n",
              "      <td>2011</td>\n",
              "      <td>1</td>\n",
              "      <td>1</td>\n",
              "      <td>3</td>\n",
              "      <td>0</td>\n",
              "      <td>0</td>\n",
              "    </tr>\n",
              "    <tr>\n",
              "      <th>4</th>\n",
              "      <td>2011-01-01 04:00:00</td>\n",
              "      <td>1</td>\n",
              "      <td>0</td>\n",
              "      <td>0</td>\n",
              "      <td>1</td>\n",
              "      <td>9.84</td>\n",
              "      <td>14.395</td>\n",
              "      <td>75</td>\n",
              "      <td>0.0</td>\n",
              "      <td>0</td>\n",
              "      <td>1</td>\n",
              "      <td>1</td>\n",
              "      <td>2011</td>\n",
              "      <td>1</td>\n",
              "      <td>1</td>\n",
              "      <td>4</td>\n",
              "      <td>0</td>\n",
              "      <td>0</td>\n",
              "    </tr>\n",
              "  </tbody>\n",
              "</table>\n",
              "</div>\n",
              "      <button class=\"colab-df-convert\" onclick=\"convertToInteractive('df-04eaa67e-fe65-4f30-8eb7-0aea87182984')\"\n",
              "              title=\"Convert this dataframe to an interactive table.\"\n",
              "              style=\"display:none;\">\n",
              "        \n",
              "  <svg xmlns=\"http://www.w3.org/2000/svg\" height=\"24px\"viewBox=\"0 0 24 24\"\n",
              "       width=\"24px\">\n",
              "    <path d=\"M0 0h24v24H0V0z\" fill=\"none\"/>\n",
              "    <path d=\"M18.56 5.44l.94 2.06.94-2.06 2.06-.94-2.06-.94-.94-2.06-.94 2.06-2.06.94zm-11 1L8.5 8.5l.94-2.06 2.06-.94-2.06-.94L8.5 2.5l-.94 2.06-2.06.94zm10 10l.94 2.06.94-2.06 2.06-.94-2.06-.94-.94-2.06-.94 2.06-2.06.94z\"/><path d=\"M17.41 7.96l-1.37-1.37c-.4-.4-.92-.59-1.43-.59-.52 0-1.04.2-1.43.59L10.3 9.45l-7.72 7.72c-.78.78-.78 2.05 0 2.83L4 21.41c.39.39.9.59 1.41.59.51 0 1.02-.2 1.41-.59l7.78-7.78 2.81-2.81c.8-.78.8-2.07 0-2.86zM5.41 20L4 18.59l7.72-7.72 1.47 1.35L5.41 20z\"/>\n",
              "  </svg>\n",
              "      </button>\n",
              "      \n",
              "  <style>\n",
              "    .colab-df-container {\n",
              "      display:flex;\n",
              "      flex-wrap:wrap;\n",
              "      gap: 12px;\n",
              "    }\n",
              "\n",
              "    .colab-df-convert {\n",
              "      background-color: #E8F0FE;\n",
              "      border: none;\n",
              "      border-radius: 50%;\n",
              "      cursor: pointer;\n",
              "      display: none;\n",
              "      fill: #1967D2;\n",
              "      height: 32px;\n",
              "      padding: 0 0 0 0;\n",
              "      width: 32px;\n",
              "    }\n",
              "\n",
              "    .colab-df-convert:hover {\n",
              "      background-color: #E2EBFA;\n",
              "      box-shadow: 0px 1px 2px rgba(60, 64, 67, 0.3), 0px 1px 3px 1px rgba(60, 64, 67, 0.15);\n",
              "      fill: #174EA6;\n",
              "    }\n",
              "\n",
              "    [theme=dark] .colab-df-convert {\n",
              "      background-color: #3B4455;\n",
              "      fill: #D2E3FC;\n",
              "    }\n",
              "\n",
              "    [theme=dark] .colab-df-convert:hover {\n",
              "      background-color: #434B5C;\n",
              "      box-shadow: 0px 1px 3px 1px rgba(0, 0, 0, 0.15);\n",
              "      filter: drop-shadow(0px 1px 2px rgba(0, 0, 0, 0.3));\n",
              "      fill: #FFFFFF;\n",
              "    }\n",
              "  </style>\n",
              "\n",
              "      <script>\n",
              "        const buttonEl =\n",
              "          document.querySelector('#df-04eaa67e-fe65-4f30-8eb7-0aea87182984 button.colab-df-convert');\n",
              "        buttonEl.style.display =\n",
              "          google.colab.kernel.accessAllowed ? 'block' : 'none';\n",
              "\n",
              "        async function convertToInteractive(key) {\n",
              "          const element = document.querySelector('#df-04eaa67e-fe65-4f30-8eb7-0aea87182984');\n",
              "          const dataTable =\n",
              "            await google.colab.kernel.invokeFunction('convertToInteractive',\n",
              "                                                     [key], {});\n",
              "          if (!dataTable) return;\n",
              "\n",
              "          const docLinkHtml = 'Like what you see? Visit the ' +\n",
              "            '<a target=\"_blank\" href=https://colab.research.google.com/notebooks/data_table.ipynb>data table notebook</a>'\n",
              "            + ' to learn more about interactive tables.';\n",
              "          element.innerHTML = '';\n",
              "          dataTable['output_type'] = 'display_data';\n",
              "          await google.colab.output.renderOutput(dataTable, element);\n",
              "          const docLink = document.createElement('div');\n",
              "          docLink.innerHTML = docLinkHtml;\n",
              "          element.appendChild(docLink);\n",
              "        }\n",
              "      </script>\n",
              "    </div>\n",
              "  </div>\n",
              "  "
            ],
            "text/plain": [
              "             datetime  season  holiday  workingday  weather  temp   atemp  \\\n",
              "0 2011-01-01 00:00:00       1        0           0        1  9.84  14.395   \n",
              "1 2011-01-01 01:00:00       1        0           0        1  9.02  13.635   \n",
              "2 2011-01-01 02:00:00       1        0           0        1  9.02  13.635   \n",
              "3 2011-01-01 03:00:00       1        0           0        1  9.84  14.395   \n",
              "4 2011-01-01 04:00:00       1        0           0        1  9.84  14.395   \n",
              "\n",
              "   humidity  windspeed  casual  registered  count  year  month  day  hour  \\\n",
              "0        81        0.0       3          13     16  2011      1    1     0   \n",
              "1        80        0.0       8          32     40  2011      1    1     1   \n",
              "2        80        0.0       5          27     32  2011      1    1     2   \n",
              "3        75        0.0       3          10     13  2011      1    1     3   \n",
              "4        75        0.0       0           1      1  2011      1    1     4   \n",
              "\n",
              "   minute  second  \n",
              "0       0       0  \n",
              "1       0       0  \n",
              "2       0       0  \n",
              "3       0       0  \n",
              "4       0       0  "
            ]
          },
          "execution_count": 30,
          "metadata": {},
          "output_type": "execute_result"
        }
      ],
      "source": [
        "train.head()"
      ]
    },
    {
      "cell_type": "code",
      "execution_count": 31,
      "metadata": {
        "colab": {
          "base_uri": "https://localhost:8080/"
        },
        "id": "0OAFVEyfs58h",
        "outputId": "72032eed-7d69-40e2-f300-341839614e82"
      },
      "outputs": [
        {
          "data": {
            "text/plain": [
              "Index(['datetime', 'season', 'holiday', 'workingday', 'weather', 'temp',\n",
              "       'atemp', 'humidity', 'windspeed', 'casual', 'registered', 'count',\n",
              "       'year', 'month', 'day', 'hour', 'minute', 'second'],\n",
              "      dtype='object')"
            ]
          },
          "execution_count": 31,
          "metadata": {},
          "output_type": "execute_result"
        }
      ],
      "source": [
        "train.columns"
      ]
    },
    {
      "cell_type": "markdown",
      "metadata": {
        "id": "w4XX21adBgaK"
      },
      "source": [
        "* 3) 데이터 개수 시각화"
      ]
    },
    {
      "cell_type": "code",
      "execution_count": 32,
      "metadata": {
        "colab": {
          "base_uri": "https://localhost:8080/",
          "height": 1000
        },
        "id": "qrYF_c-OBjzx",
        "outputId": "d94cc0db-5270-4c1a-dec2-25f23d7146d5"
      },
      "outputs": [
        {
          "name": "stderr",
          "output_type": "stream",
          "text": [
            "/usr/local/lib/python3.7/dist-packages/seaborn/_decorators.py:43: FutureWarning: Pass the following variable as a keyword arg: x. From version 0.12, the only valid positional argument will be `data`, and passing other arguments without an explicit keyword will result in an error or misinterpretation.\n",
            "  FutureWarning\n",
            "/usr/local/lib/python3.7/dist-packages/seaborn/_decorators.py:43: FutureWarning: Pass the following variable as a keyword arg: x. From version 0.12, the only valid positional argument will be `data`, and passing other arguments without an explicit keyword will result in an error or misinterpretation.\n",
            "  FutureWarning\n",
            "/usr/local/lib/python3.7/dist-packages/seaborn/_decorators.py:43: FutureWarning: Pass the following variable as a keyword arg: x. From version 0.12, the only valid positional argument will be `data`, and passing other arguments without an explicit keyword will result in an error or misinterpretation.\n",
            "  FutureWarning\n",
            "/usr/local/lib/python3.7/dist-packages/seaborn/_decorators.py:43: FutureWarning: Pass the following variable as a keyword arg: x. From version 0.12, the only valid positional argument will be `data`, and passing other arguments without an explicit keyword will result in an error or misinterpretation.\n",
            "  FutureWarning\n",
            "/usr/local/lib/python3.7/dist-packages/seaborn/_decorators.py:43: FutureWarning: Pass the following variable as a keyword arg: x. From version 0.12, the only valid positional argument will be `data`, and passing other arguments without an explicit keyword will result in an error or misinterpretation.\n",
            "  FutureWarning\n",
            "/usr/local/lib/python3.7/dist-packages/seaborn/_decorators.py:43: FutureWarning: Pass the following variable as a keyword arg: x. From version 0.12, the only valid positional argument will be `data`, and passing other arguments without an explicit keyword will result in an error or misinterpretation.\n",
            "  FutureWarning\n"
          ]
        },
        {
          "data": {
            "image/png": "[encoded data removed]",
            "text/plain": [
              "<Figure size 1080x1080 with 6 Axes>"
            ]
          },
          "metadata": {
            "needs_background": "light"
          },
          "output_type": "display_data"
        }
      ],
      "source": [
        "import pandas as pd\n",
        "import numpy as np\n",
        "import seaborn as sns\n",
        "from matplotlib import pyplot as plt\n",
        "\n",
        "plt.rcParams[\"figure.figsize\"] = [7.00, 3.50]\n",
        "plt.rcParams[\"figure.autolayout\"] = True\n",
        "fig, axes = plt.subplots(3, 2)\n",
        "df = pd.DataFrame(dict(col1=np.linspace(1, 10, 5), col2=np.linspace(1, 10, 5)))\n",
        "\n",
        "\n",
        "fig.set_figheight(15)\n",
        "fig.set_figwidth(15)\n",
        "\n",
        "sns.countplot(train.year, x='year', color=\"red\", ax=axes[0][0])\n",
        "sns.countplot(train.month, x=\"month\", color=\"green\", ax=axes[1][0])\n",
        "sns.countplot(train.day, x='day', color=\"red\", ax=axes[2][0])\n",
        "sns.countplot(train.hour, x=\"hour\", color=\"green\", ax=axes[0][1])\n",
        "sns.countplot(train.minute, x='minute', color=\"red\", ax=axes[1][1])\n",
        "sns.countplot(train.second, x=\"second\", color=\"green\", ax=axes[2][1])\n",
        "plt.show()"
      ]
    },
    {
      "cell_type": "code",
      "execution_count": 32,
      "metadata": {
        "id": "PVB0C5jupW34"
      },
      "outputs": [],
      "source": []
    },
    {
      "cell_type": "markdown",
      "metadata": {
        "id": "9EBf6r2_BlaW"
      },
      "source": [
        "* 4) X,y 컬럼 선택, train_test 데이터 분리"
      ]
    },
    {
      "cell_type": "code",
      "execution_count": 33,
      "metadata": {
        "colab": {
          "base_uri": "https://localhost:8080/"
        },
        "id": "JjCWsBiDpKWB",
        "outputId": "4a4e1053-8d4f-4f17-ac85-fe93feab6493"
      },
      "outputs": [
        {
          "name": "stdout",
          "output_type": "stream",
          "text": [
            "(10886, 14)\n"
          ]
        }
      ],
      "source": [
        "X = train[['season', 'holiday', 'workingday', 'weather', 'temp',\n",
        "       'atemp', 'humidity', 'windspeed', \n",
        "       'year', 'month', 'day', 'hour', 'minute', 'second']].values\n",
        "y = train['count'].values\n",
        "\n",
        "print(X.shape)"
      ]
    },
    {
      "cell_type": "code",
      "execution_count": 34,
      "metadata": {
        "colab": {
          "base_uri": "https://localhost:8080/"
        },
        "id": "amuMdQZ7Bq8t",
        "outputId": "9b8880e0-9918-47d7-9d52-9d82201acbf9"
      },
      "outputs": [
        {
          "name": "stdout",
          "output_type": "stream",
          "text": [
            "X_train 개수:  8708 , X_test 개수:  2178\n"
          ]
        }
      ],
      "source": [
        "from sklearn.model_selection import train_test_split\n",
        "X_train, X_test, y_train, y_test = train_test_split(X, \n",
        "                                                    y, \n",
        "                                                    test_size=0.2, \n",
        "                                                    random_state=42)\n",
        "\n",
        "\n",
        "print('X_train 개수: ', len(X_train),', X_test 개수: ', len(X_test))"
      ]
    },
    {
      "cell_type": "markdown",
      "metadata": {
        "id": "VIj-HixRBr4e"
      },
      "source": [
        "* 5)LinearRegression 모델 학습"
      ]
    },
    {
      "cell_type": "code",
      "execution_count": 35,
      "metadata": {
        "colab": {
          "base_uri": "https://localhost:8080/"
        },
        "id": "yPvelXyMBwu1",
        "outputId": "b3a1b8a0-0662-407d-b756-b1441aad49fc"
      },
      "outputs": [
        {
          "data": {
            "text/plain": [
              "LinearRegression()"
            ]
          },
          "execution_count": 35,
          "metadata": {},
          "output_type": "execute_result"
        }
      ],
      "source": [
        "from sklearn.linear_model import LinearRegression\n",
        "\n",
        "model = LinearRegression()\n",
        "\n",
        "model.fit(X_train, y_train)"
      ]
    },
    {
      "cell_type": "markdown",
      "metadata": {
        "id": "D0NqlOmdByg-"
      },
      "source": [
        "* 6) 예측값 출력 및 손실함수 계산"
      ]
    },
    {
      "cell_type": "code",
      "execution_count": 36,
      "metadata": {
        "colab": {
          "base_uri": "https://localhost:8080/"
        },
        "id": "GpnOCDlAB7j3",
        "outputId": "53554790-8f77-46b6-a344-f5832458686a"
      },
      "outputs": [
        {
          "data": {
            "text/plain": [
              "19945.370053754086"
            ]
          },
          "execution_count": 36,
          "metadata": {},
          "output_type": "execute_result"
        }
      ],
      "source": [
        "predictions = model.predict(X_test)\n",
        "predictions\n",
        "\n",
        "#MSE\n",
        "from sklearn.metrics import mean_squared_error\n",
        "\n",
        "mse = mean_squared_error(y_test, predictions)\n",
        "mse\n"
      ]
    },
    {
      "cell_type": "code",
      "execution_count": 37,
      "metadata": {
        "colab": {
          "base_uri": "https://localhost:8080/"
        },
        "id": "jZqKDXOMzAFH",
        "outputId": "a35995f8-7e0d-4b8e-be53-bf5fd95cd082"
      },
      "outputs": [
        {
          "data": {
            "text/plain": [
              "141.22807813517142"
            ]
          },
          "execution_count": 37,
          "metadata": {},
          "output_type": "execute_result"
        }
      ],
      "source": [
        "#rmse\n",
        "rmse = mean_squared_error(y_test, predictions, squared = False)\n",
        "rmse"
      ]
    },
    {
      "cell_type": "markdown",
      "metadata": {
        "id": "LA80cesaCAVA"
      },
      "source": [
        "* 7) 시각화하기"
      ]
    },
    {
      "cell_type": "code",
      "execution_count": 38,
      "metadata": {
        "colab": {
          "base_uri": "https://localhost:8080/",
          "height": 505
        },
        "id": "jC8Ytl3bCJBe",
        "outputId": "d459f5a8-a128-411d-b3e0-e5a801688361"
      },
      "outputs": [
        {
          "data": {
            "image/png": "[encoded data removed]",
            "text/plain": [
              "<Figure size 504x252 with 1 Axes>"
            ]
          },
          "metadata": {
            "needs_background": "light"
          },
          "output_type": "display_data"
        },
        {
          "data": {
            "image/png": "[encoded data removed]",
            "text/plain": [
              "<Figure size 504x252 with 1 Axes>"
            ]
          },
          "metadata": {
            "needs_background": "light"
          },
          "output_type": "display_data"
        }
      ],
      "source": [
        "plt.scatter(X_test[:, 4], y_test, label=\"true\")\n",
        "plt.scatter(X_test[:, 4], predictions, label=\"pred\")\n",
        "plt.legend()\n",
        "plt.show()\n",
        "\n",
        "\n",
        "\n",
        "\n",
        "plt.scatter(X_test[:, 6], y_test, label=\"true\")\n",
        "plt.scatter(X_test[:, 6], predictions, label=\"pred\")\n",
        "plt.legend()\n",
        "plt.show()\n"
      ]
    },
    {
      "cell_type": "markdown",
      "metadata": {
        "id": "fb-TW71dX28h"
      },
      "source": [
        "# 회고\n",
        "\n",
        "\n",
        "\n",
        "### - 이번 프로젝트에서 **어려웠던 점**.\n",
        "\n",
        " datetime 컬럼을 datetime 자료형으로 변환하여  새로운 6가지 컬럼 생성하는 것이 어려웠다. \n",
        ">to_datetime 활용 \n",
        "\n",
        " 참고: https://datascientyst.com/extract-month-and-year-datetime-column-in-pandas/\n",
        "\n",
        "\n",
        "\n",
        "### - 프로젝트를 진행하면서 **알아낸 점** 혹은 **아직 모호한 점**.\n",
        "\n",
        "{알아낸점}\n",
        "\n",
        "<회귀모델 평가지표>\n",
        "\n",
        "* **MSE (Mean Squared Error)**\n",
        "\n",
        "  실제 값 대비 예측값에 대한 제곱의 평균으로 구한다. \n",
        "MAE와 유사하지만, 절댓값 대신에 제곱 값을 사용하는 차이점이 있다. \n",
        "MAE와 유사하게 이상치가 발생할 경우, 제곱하기에 1 미만의 에러는 작아지고 1 이상의 에러는 더 커지는 한계점이 있다.\n",
        "\n",
        "\n",
        "\n",
        "* **RMSE (Root Mean Squared Error)**\n",
        "  MSE에 제곱근(root)를 통해 큰 차이의 에러를 덜 민감한 특징이 있다. \n",
        "동일한 계산 단위를 적용하는 MAE에 비해 RMSE를 사용하는 이유는 잔차를 제곱하고 다 더한 뒤 제곱근을 통해 큰 오류 값에 페널티를 부여해, 에러에 덜 민감한 장점이 있기 때문이다.\n",
        "\n",
        "![bnky0uZ.jpg](data:image/jpeg;base64,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)\n",
        "\n",
        "\n",
        "\n",
        "### - 루브릭 평가 지표를 맞추기 위해 **시도한 것들**.\n",
        "\n",
        "\n",
        ">#### **루브릭**\n",
        ">|번호|평가문항|상세기준|\n",
        ">|:---:|---|---|\n",
        ">|1|프로젝트 1의 회귀모델 예측정확도가 기준 이상 높게 나왔다|MSE 손실함수값 3000 이하를 달성|\n",
        ">|2|프로젝트 2의 회귀모델 예측정확도가 기준 이상 높게 나왔다| RMSE 값 150 이하를 달성 |\n",
        ">|3|시각화 요구사항이 정확하게 이루어졌다.|데이터개수 시각화 및 예측결과 시각화를 진행하였으며, 예측과 실제 데이터가 크게 분리되지 않고 비슷하다.|\n",
        "\n",
        "\n",
        "### - 만약에 루브릭 평가 관련 지표를 **달성 하지 못했을 때, 이유에 관한 추정**.\n",
        "\n",
        "\n",
        "\n",
        "### - **자기 다짐**\n",
        "\n",
        "* 다양한 데이터 선형회귀 모델 적용해보기\n",
        "\n",
        "### - **참고**\n",
        "선형회귀 유튜브 : \n",
        "https://youtu.be/ve6gtpZV83E\n",
        "https://youtu.be/LZe94nm1lZg\n"
      ]
    },
    {
      "cell_type": "code",
      "execution_count": 38,
      "metadata": {
        "id": "_nxa0XlNYHVh"
      },
      "outputs": [],
      "source": []
    }
  ],
  "metadata": {
    "colab": {
      "name": "[Exp-02].Linear Regression.ipynb",
      "provenance": []
    },
    "kernelspec": {
      "display_name": "Python 3",
      "name": "python3"
    },
    "language_info": {
      "name": "python"
    }
  },
  "nbformat": 4,
  "nbformat_minor": 0
}
