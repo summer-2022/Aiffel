{
  "cells": [
    {
      "cell_type": "markdown",
      "metadata": {
        "id": "iFbhUmvRMdBl"
      },
      "source": [
        "# [NLP-01] Text Data\n",
        "\n"
      ]
    },
    {
      "cell_type": "markdown",
      "metadata": {
        "id": "XTdBH0gQ2_-W"
      },
      "source": [
        "# LMS"
      ]
    },
    {
      "cell_type": "markdown",
      "metadata": {
        "id": "4GvR8xmrbMU8"
      },
      "source": [
        "##1.환경설정"
      ]
    },
    {
      "cell_type": "code",
      "execution_count": 1,
      "metadata": {
        "colab": {
          "base_uri": "https://localhost:8080/"
        },
        "id": "kRuty4wiMFHb",
        "outputId": "6bb52471-70fb-4488-8f6d-23718e24bcc2"
      },
      "outputs": [
        {
          "output_type": "stream",
          "name": "stdout",
          "text": [
            "Looking in indexes: https://pypi.org/simple, https://us-python.pkg.dev/colab-wheels/public/simple/\n",
            "Requirement already satisfied: pip in /usr/local/lib/python3.7/dist-packages (22.2.2)\n",
            "\u001b[33mWARNING: Running pip as the 'root' user can result in broken permissions and conflicting behaviour with the system package manager. It is recommended to use a virtual environment instead: https://pip.pypa.io/warnings/venv\u001b[0m\u001b[33m\n",
            "\u001b[0mLooking in indexes: https://pypi.org/simple, https://us-python.pkg.dev/colab-wheels/public/simple/\n",
            "Requirement already satisfied: konlpy in /usr/local/lib/python3.7/dist-packages (0.6.0)\n",
            "Requirement already satisfied: JPype1>=0.7.0 in /usr/local/lib/python3.7/dist-packages (from konlpy) (1.4.0)\n",
            "Requirement already satisfied: lxml>=4.1.0 in /usr/local/lib/python3.7/dist-packages (from konlpy) (4.9.1)\n",
            "Requirement already satisfied: numpy>=1.6 in /usr/local/lib/python3.7/dist-packages (from konlpy) (1.21.6)\n",
            "Requirement already satisfied: typing-extensions in /usr/local/lib/python3.7/dist-packages (from JPype1>=0.7.0->konlpy) (4.1.1)\n",
            "\u001b[33mWARNING: Running pip as the 'root' user can result in broken permissions and conflicting behaviour with the system package manager. It is recommended to use a virtual environment instead: https://pip.pypa.io/warnings/venv\u001b[0m\u001b[33m\n",
            "\u001b[0m"
          ]
        }
      ],
      "source": [
        "! pip install --upgrade pip\n",
        "! pip install konlpy        # Python 3.x"
      ]
    },
    {
      "cell_type": "code",
      "execution_count": 2,
      "metadata": {
        "colab": {
          "base_uri": "https://localhost:8080/"
        },
        "id": "JSSol431NcKg",
        "outputId": "75393b91-6d47-4877-eb7e-9b9c42b720f7"
      },
      "outputs": [
        {
          "output_type": "stream",
          "name": "stdout",
          "text": [
            "mecab-ko is already installed\n",
            "mecab-ko-dic is already installed\n",
            "mecab-python is already installed\n",
            "Done.\n",
            "Looking in indexes: https://pypi.org/simple, https://us-python.pkg.dev/colab-wheels/public/simple/\n",
            "Processing /tmp/mecab-python-0.996\n",
            "  Preparing metadata (setup.py): started\n",
            "  Preparing metadata (setup.py): finished with status 'done'\n",
            "Building wheels for collected packages: mecab-python\n",
            "  Building wheel for mecab-python (setup.py): started\n",
            "  Building wheel for mecab-python (setup.py): finished with status 'done'\n",
            "  Created wheel for mecab-python: filename=mecab_python-0.996_ko_0.9.2-cp37-cp37m-linux_x86_64.whl size=141802 sha256=851673e007453891a381b28059e35c982ee78d87326eaa6b6935a1a4b8155755\n",
            "  Stored in directory: /root/.cache/pip/wheels/40/7b/9f/2922869bef86c3354ae7034f7a3647c573ee1997c2dad0290a\n",
            "Failed to build mecab-python\n",
            "Installing collected packages: mecab-python\n",
            "  Attempting uninstall: mecab-python\n",
            "    Found existing installation: mecab-python 0.996-ko-0.9.2\n",
            "    Uninstalling mecab-python-0.996-ko-0.9.2:\n",
            "      Successfully uninstalled mecab-python-0.996-ko-0.9.2\n",
            "  Running setup.py install for mecab-python: started\n",
            "  Running setup.py install for mecab-python: finished with status 'done'\n",
            "Successfully installed mecab-python-0.996-ko-0.9.2\n"
          ]
        },
        {
          "output_type": "stream",
          "name": "stderr",
          "text": [
            "  WARNING: Built wheel for mecab-python is invalid: Metadata 1.2 mandates PEP 440 version, but '0.996-ko-0.9.2' is not\n",
            "  DEPRECATION: mecab-python was installed using the legacy 'setup.py install' method, because a wheel could not be built for it. A possible replacement is to fix the wheel build issue reported above. Discussion can be found at https://github.com/pypa/pip/issues/8368\n",
            "WARNING: Running pip as the 'root' user can result in broken permissions and conflicting behaviour with the system package manager. It is recommended to use a virtual environment instead: https://pip.pypa.io/warnings/venv\n"
          ]
        }
      ],
      "source": [
        "%%bash\n",
        "bash <(curl -s https://raw.githubusercontent.com/konlpy/konlpy/master/scripts/mecab.sh)\n",
        "pip3 install /tmp/mecab-python-0.996"
      ]
    },
    {
      "cell_type": "code",
      "execution_count": 3,
      "metadata": {
        "colab": {
          "base_uri": "https://localhost:8080/"
        },
        "id": "3OHwy6UuMgZn",
        "outputId": "e4058494-d6f0-410b-97f7-54fba0f151e2"
      },
      "outputs": [
        {
          "output_type": "stream",
          "name": "stdout",
          "text": [
            "['자연어', '처리', '가', '너무', '재밌', '어서', '밥', '먹', '는', '것', '도', '가끔', '까먹', '어요']\n"
          ]
        }
      ],
      "source": [
        "from konlpy.tag import Mecab\n",
        "\n",
        "mecab = Mecab()\n",
        "print(mecab.morphs('자연어처리가너무재밌어서밥먹는것도가끔까먹어요'))"
      ]
    },
    {
      "cell_type": "markdown",
      "metadata": {
        "id": "TwBkdKxYNxZA"
      },
      "source": [
        "##  2.데이터 다운로드 및 분석"
      ]
    },
    {
      "cell_type": "markdown",
      "metadata": {
        "id": "AeB8ACUrN289"
      },
      "source": [
        "### import **library**"
      ]
    },
    {
      "cell_type": "code",
      "execution_count": 4,
      "metadata": {
        "id": "P7owZ_kGNu8E"
      },
      "outputs": [],
      "source": [
        "import os\n",
        "\n",
        "import matplotlib.pyplot as plt\n",
        "import tensorflow as tf\n",
        "import numpy as np\n",
        "\n",
        "%matplotlib inline"
      ]
    },
    {
      "cell_type": "code",
      "execution_count": 5,
      "metadata": {
        "colab": {
          "base_uri": "https://localhost:8080/"
        },
        "id": "nAgAZonrR3AW",
        "outputId": "4cf6751c-72d8-4ad6-95ff-8dccfb2827fd"
      },
      "outputs": [
        {
          "output_type": "stream",
          "name": "stdout",
          "text": [
            "--2022-10-04 08:31:29--  https://github.com/jungyeul/korean-parallel-corpora/raw/master/korean-english-news-v1/korean-english-park.train.tar.gz\n",
            "Resolving github.com (github.com)... 20.205.243.166\n",
            "Connecting to github.com (github.com)|20.205.243.166|:443... connected.\n",
            "HTTP request sent, awaiting response... 302 Found\n",
            "Location: https://raw.githubusercontent.com/jungyeul/korean-parallel-corpora/master/korean-english-news-v1/korean-english-park.train.tar.gz [following]\n",
            "--2022-10-04 08:31:29--  https://raw.githubusercontent.com/jungyeul/korean-parallel-corpora/master/korean-english-news-v1/korean-english-park.train.tar.gz\n",
            "Resolving raw.githubusercontent.com (raw.githubusercontent.com)... 185.199.108.133, 185.199.109.133, 185.199.110.133, ...\n",
            "Connecting to raw.githubusercontent.com (raw.githubusercontent.com)|185.199.108.133|:443... connected.\n",
            "HTTP request sent, awaiting response... 200 OK\n",
            "Length: 8718893 (8.3M) [application/octet-stream]\n",
            "Saving to: ‘korean-english-park.train.tar.gz.6’\n",
            "\n",
            "korean-english-park 100%[===================>]   8.31M  --.-KB/s    in 0.05s   \n",
            "\n",
            "2022-10-04 08:31:29 (154 MB/s) - ‘korean-english-park.train.tar.gz.6’ saved [8718893/8718893]\n",
            "\n"
          ]
        }
      ],
      "source": [
        "! wget https://github.com/jungyeul/korean-parallel-corpora/raw/master/korean-english-news-v1/korean-english-park.train.tar.gz\n"
      ]
    },
    {
      "cell_type": "code",
      "execution_count": 6,
      "metadata": {
        "colab": {
          "base_uri": "https://localhost:8080/"
        },
        "id": "fpvezUciR_10",
        "outputId": "9f899173-ae48-4928-e120-8ae599a1bf86"
      },
      "outputs": [
        {
          "output_type": "stream",
          "name": "stdout",
          "text": [
            "korean-english-park.train.en\n",
            "korean-english-park.train.ko\n"
          ]
        }
      ],
      "source": [
        "! tar -xzvf korean-english-park.train.tar.gz"
      ]
    },
    {
      "cell_type": "code",
      "execution_count": 7,
      "metadata": {
        "colab": {
          "base_uri": "https://localhost:8080/"
        },
        "id": "eVUdlzwLNA4D",
        "outputId": "c442ead4-ecff-4b3f-ef67-e681ec38f51b"
      },
      "outputs": [
        {
          "output_type": "stream",
          "name": "stdout",
          "text": [
            "--2022-10-04 08:31:30--  https://github.com/jungyeul/korean-parallel-corpora/raw/master/korean-english-news-v1/korean-english-park.train.tar.gz\n",
            "Resolving github.com (github.com)... 20.205.243.166\n",
            "Connecting to github.com (github.com)|20.205.243.166|:443... connected.\n",
            "HTTP request sent, awaiting response... 302 Found\n",
            "Location: https://raw.githubusercontent.com/jungyeul/korean-parallel-corpora/master/korean-english-news-v1/korean-english-park.train.tar.gz [following]\n",
            "--2022-10-04 08:31:31--  https://raw.githubusercontent.com/jungyeul/korean-parallel-corpora/master/korean-english-news-v1/korean-english-park.train.tar.gz\n",
            "Resolving raw.githubusercontent.com (raw.githubusercontent.com)... 185.199.111.133, 185.199.108.133, 185.199.110.133, ...\n",
            "Connecting to raw.githubusercontent.com (raw.githubusercontent.com)|185.199.111.133|:443... connected.\n",
            "HTTP request sent, awaiting response... 200 OK\n",
            "Length: 8718893 (8.3M) [application/octet-stream]\n",
            "Saving to: ‘korean-english-park.train.tar.gz.7’\n",
            "\n",
            "korean-english-park 100%[===================>]   8.31M  --.-KB/s    in 0.03s   \n",
            "\n",
            "2022-10-04 08:31:31 (263 MB/s) - ‘korean-english-park.train.tar.gz.7’ saved [8718893/8718893]\n",
            "\n",
            "korean-english-park.train.en\n",
            "korean-english-park.train.ko\n"
          ]
        }
      ],
      "source": [
        "! wget https://github.com/jungyeul/korean-parallel-corpora/raw/master/korean-english-news-v1/korean-english-park.train.tar.gz\n",
        "! tar -xzvf korean-english-park.train.tar.gz"
      ]
    },
    {
      "cell_type": "markdown",
      "metadata": {
        "id": "wbvrclaBVUSa"
      },
      "source": [
        "### Read Data"
      ]
    },
    {
      "cell_type": "code",
      "execution_count": 8,
      "metadata": {
        "colab": {
          "base_uri": "https://localhost:8080/"
        },
        "id": "cT_lA66PQzwo",
        "outputId": "77eef456-0c7f-42be-9306-054f5b86a620"
      },
      "outputs": [
        {
          "output_type": "stream",
          "name": "stdout",
          "text": [
            "Data Size: 94123\n",
            "Example:\n",
            ">> 개인용 컴퓨터 사용의 상당 부분은 \"이것보다 뛰어날 수 있느냐?\"\n",
            ">> 북한의 핵무기 계획을 포기하도록 하려는 압력이 거세지고 있는 가운데, 일본과 북한의 외교관들이 외교 관계를 정상화하려는 회담을 재개했다.\n",
            ">> \"경호 로보트가 침입자나 화재를 탐지하기 위해서 개인적으로, 그리고 전문적으로 사용되고 있습니다.\"\n",
            ">> 수자원부 당국은 논란이 되고 있고, 막대한 비용이 드는 이 사업에 대해 내년에 건설을 시작할 계획이다.\n",
            ">> 또한 근력 운동은 활발하게 걷는 것이나 최소한 20분 동안 뛰는 것과 같은 유산소 활동에서 얻는 운동 효과를 심장과 폐에 주지 않기 때문에, 연구학자들은 근력 운동이 심장에 큰 영향을 미치는지 여부에 대해 논쟁을 해왔다.\n"
          ]
        }
      ],
      "source": [
        "import os\n",
        "path_to_file = '/content/korean-english-park.train.ko'\n",
        "\n",
        "with open(path_to_file, \"r\") as f:\n",
        "    raw = f.read().splitlines()\n",
        "\n",
        "print(\"Data Size:\", len(raw))\n",
        "\n",
        "print(\"Example:\")\n",
        "for sen in raw[0:100:20]: print(\">>\", sen)\n",
        "\n",
        "# print(\"Example:\")\n",
        "# for sen in raw[0:100][::20]: print(\">>\", sen)"
      ]
    },
    {
      "cell_type": "markdown",
      "metadata": {
        "id": "AniApQPlVZcS"
      },
      "source": [
        "### EDA"
      ]
    },
    {
      "cell_type": "code",
      "execution_count": 9,
      "metadata": {
        "colab": {
          "base_uri": "https://localhost:8080/",
          "height": 408
        },
        "id": "ZVY4xVT8TQXE",
        "outputId": "9a08d622-8dc1-490b-b922-b4fd8a4d8133"
      },
      "outputs": [
        {
          "output_type": "stream",
          "name": "stdout",
          "text": [
            "문장의 최단 길이: 1\n",
            "문장의 최장 길이: 377\n",
            "문장의 평균 길이: 60\n"
          ]
        },
        {
          "output_type": "stream",
          "name": "stderr",
          "text": [
            "/usr/local/lib/python3.7/dist-packages/ipykernel_launcher.py:15: DeprecationWarning: `np.int` is a deprecated alias for the builtin `int`. To silence this warning, use `int` by itself. Doing this will not modify any behavior and is safe. When replacing `np.int`, you may wish to use e.g. `np.int64` or `np.int32` to specify the precision. If you wish to review your current use, check the release note link for additional information.\n",
            "Deprecated in NumPy 1.20; for more details and guidance: https://numpy.org/devdocs/release/1.20.0-notes.html#deprecations\n",
            "  from ipykernel import kernelapp as app\n"
          ]
        },
        {
          "output_type": "display_data",
          "data": {
            "text/plain": [
              "<Figure size 432x288 with 1 Axes>"
            ],
            "image/png": "[encoded data removed]"
          },
          "metadata": {
            "needs_background": "light"
          }
        }
      ],
      "source": [
        "min_len = 999\n",
        "max_len = 0\n",
        "sum_len = 0\n",
        "\n",
        "for sen in raw:\n",
        "    length = len(sen)\n",
        "    if min_len > length: min_len = length\n",
        "    if max_len < length: max_len = length\n",
        "    sum_len += length\n",
        "\n",
        "print(\"문장의 최단 길이:\", min_len)\n",
        "print(\"문장의 최장 길이:\", max_len)\n",
        "print(\"문장의 평균 길이:\", sum_len // len(raw))\n",
        "\n",
        "sentence_length = np.zeros((max_len), dtype=np.int)\n",
        "\n",
        "for sen in raw:\n",
        "    sentence_length[len(sen)-1] += 1\n",
        "\n",
        "plt.bar(range(max_len), sentence_length, width=1.0)\n",
        "plt.title(\"Sentence Length Distribution\")\n",
        "plt.show()"
      ]
    },
    {
      "cell_type": "markdown",
      "metadata": {
        "id": "tzR5XkiAWyCw"
      },
      "source": [
        "* 길이 확인  함수 "
      ]
    },
    {
      "cell_type": "code",
      "execution_count": 10,
      "metadata": {
        "id": "gzjpXiPPTc7_"
      },
      "outputs": [],
      "source": [
        "def check_sentence_with_length(raw, length):\n",
        "    count = 0\n",
        "    \n",
        "    for sen in raw:\n",
        "        if len(sen) == length:\n",
        "            print(sen)\n",
        "            count += 1\n",
        "            if count > 100: return\n"
      ]
    },
    {
      "cell_type": "markdown",
      "metadata": {
        "id": "gjYehiuwYEtB"
      },
      "source": [
        "> 가장 짧은 문장 : 노이즈 판명"
      ]
    },
    {
      "cell_type": "code",
      "execution_count": 11,
      "metadata": {
        "colab": {
          "base_uri": "https://localhost:8080/"
        },
        "id": "z3uDoMioYAQK",
        "outputId": "6568068e-9534-4461-9237-c9791f4d475d"
      },
      "outputs": [
        {
          "output_type": "stream",
          "name": "stdout",
          "text": [
            "’\n"
          ]
        }
      ],
      "source": [
        "check_sentence_with_length(raw, 1)"
      ]
    },
    {
      "cell_type": "markdown",
      "metadata": {
        "id": "UC-qTH2LYNu1"
      },
      "source": [
        "> 가장 긴 문장 : 중복된 문장"
      ]
    },
    {
      "cell_type": "code",
      "execution_count": 12,
      "metadata": {
        "colab": {
          "base_uri": "https://localhost:8080/"
        },
        "id": "afXOTd2YVHJi",
        "outputId": "7d5a65a3-ea5b-4c5a-fd21-e68e94344dba"
      },
      "outputs": [
        {
          "output_type": "stream",
          "name": "stdout",
          "text": [
            "Outlier Index: 11\n",
            "Outlier Index: 19\n",
            "Outlier Index: 21\n"
          ]
        }
      ],
      "source": [
        "for idx, _sum in enumerate(sentence_length):\n",
        "    # 문장의 수가 1500을 초과하는 문장 길이를 추출합니다.\n",
        "    if _sum > 1500:\n",
        "        print(\"Outlier Index:\", idx+1)"
      ]
    },
    {
      "cell_type": "code",
      "execution_count": 13,
      "metadata": {
        "id": "arH8gbVqVLNk",
        "colab": {
          "base_uri": "https://localhost:8080/"
        },
        "outputId": "ff5dbd16-820f-496e-8c1c-3d2be9252b57"
      },
      "outputs": [
        {
          "output_type": "stream",
          "name": "stdout",
          "text": [
            "라고 조던이 말했다.\n",
            "- 모르고 있습니다.\n",
            "- 네, 보이는군요.\n",
            "디즈니사만이 아니다.\n",
            "큰 파티는 아니지요.\n",
            "의자는 비어 있었다.\n",
            "이 일은 계속됩니다.\n",
            "나는 크게 실망했다.\n",
            "그 이유는 간단하다.\n",
            "이력서와 자기 소개서\n",
            "시대가 변하고 있다.\n",
            "는 돌발질문을 했다.\n",
            "9. 몇 분간의 명상\n",
            "하와이, 빅 아일랜드\n",
            "키스를 잘 하는 방법\n",
            "키스를 잘 하는 방법\n",
            "스피어스가 뚱뚱한가?\n",
            "산 위를 나는 느낌.\n",
            "세 시간쯤 걸었을까?\n",
            "(아직 읽고있습니까?\n",
            "처음에는 장난이었다.\n",
            "우리는 운이 좋았다.\n",
            "아기가 숨을 멈출 때\n",
            "건물 전체 무너져내려\n",
            "그녀의 아름다운 눈.\n",
            "대답은 다음과 같다.\n",
            "\"사과할 것이 없다.\n",
            "폭탄테러가 공포 유발\n",
            "그는 \"잘 모르겠다.\n",
            "그는 \"잘 모르겠다.\n",
            "그는 \"잘 모르겠다.\n",
            "그는 \"잘 모르겠다.\n",
            "그는 \"잘 모르겠다.\n",
            "그는 \"잘 모르겠다.\n",
            "그는 \"잘 모르겠다.\n",
            "그는 \"잘 모르겠다.\n",
            "그는 \"잘 모르겠다.\n",
            "케냐 야생동물 고아원\n",
            "경유 1200원대로…\n",
            "더 내려야 하는 이유\n",
            "케냐 야생동물 고아원\n",
            "경유 1200원대로…\n",
            "더 내려야 하는 이유\n",
            "케냐 야생동물 고아원\n",
            "경유 1200원대로…\n",
            "더 내려야 하는 이유\n",
            "케냐 야생동물 고아원\n",
            "경유 1200원대로…\n",
            "더 내려야 하는 이유\n",
            "케냐 야생동물 고아원\n",
            "경유 1200원대로…\n",
            "더 내려야 하는 이유\n",
            "케냐 야생동물 고아원\n",
            "경유 1200원대로…\n",
            "더 내려야 하는 이유\n",
            "케냐 야생동물 고아원\n",
            "경유 1200원대로…\n",
            "더 내려야 하는 이유\n",
            "케냐 야생동물 고아원\n",
            "경유 1200원대로…\n",
            "더 내려야 하는 이유\n",
            "케냐 야생동물 고아원\n",
            "경유 1200원대로…\n",
            "더 내려야 하는 이유\n",
            "케냐 야생동물 고아원\n",
            "경유 1200원대로…\n",
            "더 내려야 하는 이유\n",
            "케냐 야생동물 고아원\n",
            "경유 1200원대로…\n",
            "더 내려야 하는 이유\n",
            "케냐 야생동물 고아원\n",
            "경유 1200원대로…\n",
            "더 내려야 하는 이유\n",
            "케냐 야생동물 고아원\n",
            "경유 1200원대로…\n",
            "더 내려야 하는 이유\n",
            "케냐 야생동물 고아원\n",
            "경유 1200원대로…\n",
            "더 내려야 하는 이유\n",
            "케냐 야생동물 고아원\n",
            "경유 1200원대로…\n",
            "더 내려야 하는 이유\n",
            "케냐 야생동물 고아원\n",
            "경유 1200원대로…\n",
            "더 내려야 하는 이유\n",
            "케냐 야생동물 고아원\n",
            "경유 1200원대로…\n",
            "더 내려야 하는 이유\n",
            "케냐 야생동물 고아원\n",
            "경유 1200원대로…\n",
            "더 내려야 하는 이유\n",
            "케냐 야생동물 고아원\n",
            "경유 1200원대로…\n",
            "더 내려야 하는 이유\n",
            "케냐 야생동물 고아원\n",
            "경유 1200원대로…\n",
            "더 내려야 하는 이유\n",
            "조금은 새침한 샬롯？\n",
            "조금은 새침한 샬롯？\n",
            "케냐 야생동물 고아원\n",
            "경유 1200원대로…\n"
          ]
        }
      ],
      "source": [
        "check_sentence_with_length(raw, 11)"
      ]
    },
    {
      "cell_type": "markdown",
      "metadata": {
        "id": "yXLrnF7xYkZW"
      },
      "source": [
        "> 중복 제거 !! : Set () 활용 \n",
        "\n",
        "\n",
        "*순서가 중요 하지 않을 때만 사용"
      ]
    },
    {
      "cell_type": "code",
      "execution_count": 14,
      "metadata": {
        "colab": {
          "base_uri": "https://localhost:8080/",
          "height": 408
        },
        "id": "QPfjPjgaVPSn",
        "outputId": "07128c7f-2da0-4515-ee17-da5d1e5447a9"
      },
      "outputs": [
        {
          "output_type": "stream",
          "name": "stdout",
          "text": [
            "Data Size: 77591\n",
            "문장의 최단 길이: 1\n",
            "문장의 최장 길이: 377\n",
            "문장의 평균 길이: 64\n"
          ]
        },
        {
          "output_type": "stream",
          "name": "stderr",
          "text": [
            "/usr/local/lib/python3.7/dist-packages/ipykernel_launcher.py:18: DeprecationWarning: `np.int` is a deprecated alias for the builtin `int`. To silence this warning, use `int` by itself. Doing this will not modify any behavior and is safe. When replacing `np.int`, you may wish to use e.g. `np.int64` or `np.int32` to specify the precision. If you wish to review your current use, check the release note link for additional information.\n",
            "Deprecated in NumPy 1.20; for more details and guidance: https://numpy.org/devdocs/release/1.20.0-notes.html#deprecations\n"
          ]
        },
        {
          "output_type": "display_data",
          "data": {
            "text/plain": [
              "<Figure size 432x288 with 1 Axes>"
            ],
            "image/png": "[encoded data removed]"
          },
          "metadata": {
            "needs_background": "light"
          }
        }
      ],
      "source": [
        "min_len = 999\n",
        "max_len = 0\n",
        "sum_len = 0\n",
        "\n",
        "cleaned_corpus = list(set(raw))  # set를 사용해서 중복을 제거합니다.\n",
        "print(\"Data Size:\", len(cleaned_corpus))\n",
        "\n",
        "for sen in cleaned_corpus:\n",
        "    length = len(sen)\n",
        "    if min_len > length: min_len = length\n",
        "    if max_len < length: max_len = length\n",
        "    sum_len += length\n",
        "\n",
        "print(\"문장의 최단 길이:\", min_len)\n",
        "print(\"문장의 최장 길이:\", max_len)\n",
        "print(\"문장의 평균 길이:\", sum_len // len(cleaned_corpus))\n",
        "\n",
        "sentence_length = np.zeros((max_len), dtype=np.int)\n",
        "\n",
        "for sen in cleaned_corpus:   # 중복이 제거된 코퍼스 기준\n",
        "    sentence_length[len(sen)-1] += 1\n",
        "\n",
        "plt.bar(range(max_len), sentence_length, width=1.0)\n",
        "plt.title(\"Sentence Length Distribution\")\n",
        "plt.show()"
      ]
    },
    {
      "cell_type": "markdown",
      "metadata": {
        "id": "1hy1TKVmay8Z"
      },
      "source": [
        "### 길이 한정 !\n",
        "max_len = 150\n",
        "\n",
        "min_len = 10"
      ]
    },
    {
      "cell_type": "code",
      "execution_count": 15,
      "metadata": {
        "colab": {
          "base_uri": "https://localhost:8080/",
          "height": 355
        },
        "id": "dIKTSWB_YjNp",
        "outputId": "7bc4c1eb-0d44-4680-ad3f-bce4c9b82aa6"
      },
      "outputs": [
        {
          "output_type": "stream",
          "name": "stderr",
          "text": [
            "/usr/local/lib/python3.7/dist-packages/ipykernel_launcher.py:8: DeprecationWarning: `np.int` is a deprecated alias for the builtin `int`. To silence this warning, use `int` by itself. Doing this will not modify any behavior and is safe. When replacing `np.int`, you may wish to use e.g. `np.int64` or `np.int32` to specify the precision. If you wish to review your current use, check the release note link for additional information.\n",
            "Deprecated in NumPy 1.20; for more details and guidance: https://numpy.org/devdocs/release/1.20.0-notes.html#deprecations\n",
            "  \n"
          ]
        },
        {
          "output_type": "display_data",
          "data": {
            "text/plain": [
              "<Figure size 432x288 with 1 Axes>"
            ],
            "image/png": "[encoded data removed]"
          },
          "metadata": {
            "needs_background": "light"
          }
        }
      ],
      "source": [
        "max_len = 150\n",
        "min_len = 10\n",
        "\n",
        "# 길이 조건에 맞는 문장만 선택합니다.\n",
        "filtered_corpus = [s for s in cleaned_corpus if (len(s) < max_len) & (len(s) >= min_len)]\n",
        "\n",
        "# 분포도를 다시 그려봅니다.\n",
        "sentence_length = np.zeros((max_len), dtype=np.int)\n",
        "\n",
        "for sen in filtered_corpus:\n",
        "    sentence_length[len(sen)-1] += 1\n",
        "\n",
        "plt.bar(range(max_len), sentence_length, width=1.0)\n",
        "plt.title(\"Sentence Length Distribution\")\n",
        "plt.show()"
      ]
    },
    {
      "cell_type": "markdown",
      "metadata": {
        "id": "GxJ4x-U5bVNr"
      },
      "source": [
        "##3.공백 기반 토큰화\n",
        "정제된 데이터를 공백 기반으로 토큰화하여 list에 저장한 후, 아래 tokenize() 함수를 사용해 단어 사전과 Tensor 데이터를 얻으세요! "
      ]
    },
    {
      "cell_type": "markdown",
      "metadata": {
        "id": "9tM1V7ZxbloO"
      },
      "source": [
        "### Tokenizer"
      ]
    },
    {
      "cell_type": "code",
      "execution_count": 16,
      "metadata": {
        "id": "2uassm-Uba0b"
      },
      "outputs": [],
      "source": [
        "def tokenize(corpus):  # corpus: Tokenized Sentence's List\n",
        "    tokenizer = tf.keras.preprocessing.text.Tokenizer(filters='')\n",
        "    tokenizer.fit_on_texts(corpus)\n",
        "\n",
        "    tensor = tokenizer.texts_to_sequences(corpus)\n",
        "\n",
        "    tensor = tf.keras.preprocessing.sequence.pad_sequences(tensor, padding='post')\n",
        "\n",
        "    return tensor, tokenizer"
      ]
    },
    {
      "cell_type": "markdown",
      "metadata": {
        "id": "MChpSc9udhQh"
      },
      "source": [
        "### 공백기반 토근화"
      ]
    },
    {
      "cell_type": "code",
      "execution_count": 17,
      "metadata": {
        "id": "5dBHMAbpbnun"
      },
      "outputs": [],
      "source": [
        "# 정제된 데이터를 공백 기반으로 토큰화하여 저장하는 코드를 직접 작성해 보세요.\n",
        " \n",
        "split_corpus = []\n",
        "\n",
        "for kor in filtered_corpus:\n",
        "    split_corpus.append(kor.split())"
      ]
    },
    {
      "cell_type": "code",
      "execution_count": 18,
      "metadata": {
        "colab": {
          "base_uri": "https://localhost:8080/"
        },
        "id": "Swp8pH8DcJ1l",
        "outputId": "b0f12930-54c8-461e-ac16-b63b9a4f2db2"
      },
      "outputs": [
        {
          "output_type": "stream",
          "name": "stdout",
          "text": [
            "Split Vocab Size: 237435\n"
          ]
        }
      ],
      "source": [
        "split_tensor, split_tokenizer = tokenize(split_corpus)\n",
        "\n",
        "print(\"Split Vocab Size:\", len(split_tokenizer.index_word))"
      ]
    },
    {
      "cell_type": "markdown",
      "metadata": {
        "id": "y_zRw09N8Jln"
      },
      "source": [
        "### 단어사전 생성"
      ]
    },
    {
      "cell_type": "code",
      "execution_count": 19,
      "metadata": {
        "colab": {
          "base_uri": "https://localhost:8080/"
        },
        "id": "xwHBlyiKdohG",
        "outputId": "2d22b84f-5e87-469c-98a0-115bf30cc838"
      },
      "outputs": [
        {
          "output_type": "stream",
          "name": "stdout",
          "text": [
            "0 : 이\n",
            "1 : 밝혔다.\n",
            "2 : 있다.\n",
            "3 : 말했다.\n",
            "4 : 수\n",
            "5 : 있는\n",
            "6 : 그는\n",
            "7 : 대한\n",
            "8 : 위해\n",
            "9 : 전했다.\n",
            "10 : 지난\n",
            "11 : 이번\n"
          ]
        }
      ],
      "source": [
        "for idx, word in enumerate(split_tokenizer.word_index):\n",
        "    print(idx, \":\", word)\n",
        "\n",
        "    if idx > 10: break"
      ]
    },
    {
      "cell_type": "markdown",
      "metadata": {
        "id": "MNAlpOXc8VfK"
      },
      "source": [
        "##4.텍스트기반 토큰화"
      ]
    },
    {
      "cell_type": "code",
      "execution_count": 20,
      "metadata": {
        "id": "Y8icgrkV7imK"
      },
      "outputs": [],
      "source": [
        "# 위에서 사용한 코드를 활용해 MeCab 단어 사전을 만들어보세요. \n",
        "# Hint : mecab.morphs()를 사용해서 형태소분석을 합니다.\n",
        "def mecab_split(sentence):\n",
        "    return mecab.morphs(sentence)\n",
        "\n",
        "mecab_corpus = []\n",
        "\n",
        "for kor in filtered_corpus:\n",
        "    mecab_corpus.append(mecab_split(kor))"
      ]
    },
    {
      "cell_type": "code",
      "execution_count": 21,
      "metadata": {
        "colab": {
          "base_uri": "https://localhost:8080/"
        },
        "id": "OXwQCQHb8fVB",
        "outputId": "4c0b0ef3-edac-4eb5-aaf7-21192fb13648"
      },
      "outputs": [
        {
          "output_type": "stream",
          "name": "stdout",
          "text": [
            "MeCab Vocab Size: 52279\n"
          ]
        }
      ],
      "source": [
        "mecab_tensor, mecab_tokenizer = tokenize(mecab_corpus)\n",
        "\n",
        "print(\"MeCab Vocab Size:\", len(mecab_tokenizer.index_word))"
      ]
    },
    {
      "cell_type": "code",
      "execution_count": 22,
      "metadata": {
        "colab": {
          "base_uri": "https://localhost:8080/"
        },
        "id": "Aldz3HyZJam6",
        "outputId": "14a42188-6bdd-4579-d263-31f16cc15bda"
      },
      "outputs": [
        {
          "output_type": "stream",
          "name": "stdout",
          "text": [
            "뉴욕 증시 와 주주 들 은 양 이 야후 와 마이크 로 소프트 사 의 인수 가 합의 달성 을 하 지 못했 다고 비난 했 다 .\n"
          ]
        }
      ],
      "source": [
        "# Case 1 : tokenizer.sequences_to_texts()\n",
        "\n",
        "texts = mecab_tokenizer.sequences_to_texts([mecab_tensor[100]])\n",
        "print(texts[0])"
      ]
    },
    {
      "cell_type": "code",
      "execution_count": 23,
      "metadata": {
        "colab": {
          "base_uri": "https://localhost:8080/"
        },
        "id": "xM9kgWBEJhUd",
        "outputId": "9671c0af-4bcc-4264-c95c-08c2d1546e4b"
      },
      "outputs": [
        {
          "output_type": "stream",
          "name": "stdout",
          "text": [
            "뉴욕 증시 와 주주 들 은 양 이 야후 와 마이크 로 소프트 사 의 인수 가 합의 달성 을 하 지 못했 다고 비난 했 다 . \n"
          ]
        }
      ],
      "source": [
        "# Case 2 : tokenizer.index_word\n",
        "\n",
        "sentence = \"\"\n",
        "\n",
        "for w in mecab_tensor[100]:\n",
        "    if w == 0: continue\n",
        "    sentence += mecab_tokenizer.index_word[w] + \" \"\n",
        "\n",
        "print(sentence)"
      ]
    },
    {
      "cell_type": "markdown",
      "metadata": {
        "id": "Y9WIQtjnYure"
      },
      "source": [
        "# Project : Setence Piece 사용하기 "
      ]
    },
    {
      "cell_type": "code",
      "execution_count": 24,
      "metadata": {
        "colab": {
          "base_uri": "https://localhost:8080/"
        },
        "id": "nr1TSIsxYxaM",
        "outputId": "410ac559-966b-42e3-be7d-d0504fb10680"
      },
      "outputs": [
        {
          "output_type": "stream",
          "name": "stdout",
          "text": [
            "2.8.2\n",
            "1.21.6\n",
            "3.2.2\n",
            "0.6.0\n"
          ]
        }
      ],
      "source": [
        "import tensorflow as tf\n",
        "import numpy as np\n",
        "import matplotlib as plt\n",
        "import konlpy\n",
        "\n",
        "print(tf.__version__)\n",
        "print(np.__version__)\n",
        "print(plt.__version__)\n",
        "print(konlpy.__version__)"
      ]
    },
    {
      "cell_type": "markdown",
      "metadata": {
        "id": "5i7wVhBGZA4i"
      },
      "source": [
        "## Step 1. SentencePiece 설치하기"
      ]
    },
    {
      "cell_type": "code",
      "execution_count": 25,
      "metadata": {
        "colab": {
          "base_uri": "https://localhost:8080/"
        },
        "id": "dOLnhYhvYze9",
        "outputId": "8e8cf42b-da77-458b-e6c7-0f4b11f3b681"
      },
      "outputs": [
        {
          "output_type": "stream",
          "name": "stdout",
          "text": [
            "Looking in indexes: https://pypi.org/simple, https://us-python.pkg.dev/colab-wheels/public/simple/\n",
            "Requirement already satisfied: sentencepiece in /usr/local/lib/python3.7/dist-packages (0.1.97)\n",
            "\u001b[33mWARNING: Running pip as the 'root' user can result in broken permissions and conflicting behaviour with the system package manager. It is recommended to use a virtual environment instead: https://pip.pypa.io/warnings/venv\u001b[0m\u001b[33m\n",
            "\u001b[0m"
          ]
        }
      ],
      "source": [
        "! pip install sentencepiece"
      ]
    },
    {
      "cell_type": "markdown",
      "metadata": {
        "id": "D1l24VjrZk8b"
      },
      "source": [
        "## Step 2. SentencePiece 모델 학습"
      ]
    },
    {
      "cell_type": "code",
      "execution_count": 26,
      "metadata": {
        "id": "98UyUldgZbbL"
      },
      "outputs": [],
      "source": [
        "def tokenize(corpus):  # corpus: Tokenized Sentence's List\n",
        "    tokenizer = tf.keras.preprocessing.text.Tokenizer(filters='')\n",
        "    tokenizer.fit_on_texts(corpus)\n",
        "\n",
        "    tensor = tokenizer.texts_to_sequences(corpus)\n",
        "\n",
        "    tensor = tf.keras.preprocessing.sequence.pad_sequences(tensor, padding='post')\n",
        "\n",
        "    return tensor, tokenizer"
      ]
    },
    {
      "cell_type": "code",
      "execution_count": 27,
      "metadata": {
        "colab": {
          "base_uri": "https://localhost:8080/"
        },
        "id": "4oZiVWLLZqDU",
        "outputId": "3c3a30d2-a8a1-4e25-96f9-709d34bcfe04"
      },
      "outputs": [
        {
          "output_type": "stream",
          "name": "stdout",
          "text": [
            "-rw-r--r-- 1 root root 376837 Oct  4 08:32 korean_spm.model\n",
            "-rw-r--r-- 1 root root 146218 Oct  4 08:32 korean_spm.vocab\n"
          ]
        }
      ],
      "source": [
        "import sentencepiece as spm\n",
        "import os\n",
        "temp_file = '/content/drive/MyDrive/Aiffel_data/NLP/[NLP-01]/korean-english-park.train.ko.temp'\n",
        "\n",
        "vocab_size = 8000\n",
        "\n",
        "with open(temp_file, 'w') as f:\n",
        "    for row in filtered_corpus:   # 이전 스텝에서 정제했던 corpus를 활용합니다.\n",
        "        f.write(str(row) + '\\n')\n",
        "\n",
        "spm.SentencePieceTrainer.Train(\n",
        "    '--input={} --model_prefix=korean_spm --vocab_size={}'.format(temp_file, vocab_size)    \n",
        ")\n",
        "#위 Train에서  --model_type = 'unigram'이 디폴트 적용되어 있습니다. --model_type = 'bpe' 로 옵션을 주어 변경할 수 있습니다.\n",
        "\n",
        "!ls -l korean_spm*"
      ]
    },
    {
      "cell_type": "markdown",
      "metadata": {
        "id": "Tk_BIDn_vv41"
      },
      "source": [
        "❤️ unigram: -1 bigram : 1"
      ]
    },
    {
      "cell_type": "code",
      "execution_count": 28,
      "metadata": {
        "colab": {
          "base_uri": "https://localhost:8080/"
        },
        "id": "ptZHvl5FagHV",
        "outputId": "1824d2a7-5e2b-490b-e172-40f189a1b9c8"
      },
      "outputs": [
        {
          "output_type": "stream",
          "name": "stdout",
          "text": [
            "[1243, 11, 302, 7, 3608, 11, 287, 38, 3]\n",
            "['▁아', '버', '지', '가', '방', '에', '들', '어', '가', '신', '다', '.']\n",
            "아버지가방에들어가신다.\n"
          ]
        }
      ],
      "source": [
        "s = spm.SentencePieceProcessor()\n",
        "s.Load('korean_spm.model')\n",
        "\n",
        "# SentencePiece를 활용한 sentence -> encoding\n",
        "tokensIDs = s.EncodeAsIds('아버지가방에들어가신다.')\n",
        "print(tokensIDs)\n",
        "\n",
        "# SentencePiece를 활용한 sentence -> encoded pieces\n",
        "print(s.SampleEncodeAsPieces('아버지가방에들어가신다.',-1, 0.0))\n",
        "\n",
        "# SentencePiece를 활용한 encoding -> sentence 복원\n",
        "print(s.DecodeIds(tokensIDs))"
      ]
    },
    {
      "cell_type": "markdown",
      "metadata": {
        "id": "ES8b9Q3VbHyq"
      },
      "source": [
        "##Step 3. Tokenizer 함수 작성\n",
        "\n",
        "1.매개변수로 토큰화된 문장의 list를 전달하는 대신 온전한 문장의 list 를 전달합니다.\n",
        "\n",
        "2.생성된 vocab 파일을 읽어와 { <word> : <idx> } 형태를 가지는 word_index 사전과 { <idx> : <word>} 형태를 가지는 index_word 사전을 생성하고 함께 반환합니다.\n",
        "\n",
        "3.리턴값인 tensor 는 앞의 함수와 동일하게 토큰화한 후 Encoding된 문장입니다. 바로 학습에 사용할 수 있게 Padding은 당연히 해야겠죠?"
      ]
    },
    {
      "cell_type": "code",
      "execution_count": 29,
      "metadata": {
        "id": "BsmnvCP4gHX_"
      },
      "outputs": [],
      "source": [
        "def sp_tokenize(s, corpus):\n",
        "\n",
        "    tensor = []\n",
        "\n",
        "    for sen in corpus:\n",
        "        tensor.append(s.EncodeAsIds(sen))\n",
        "\n",
        "    with open(\"./korean_spm.vocab\", 'r') as f:\n",
        "        vocab = f.readlines()\n",
        "\n",
        "    word_index = {}\n",
        "    index_word = {}\n",
        "\n",
        "    for idx, line in enumerate(vocab):\n",
        "        word = line.split(\"\\t\")[0]\n",
        "\n",
        "        word_index.update({word:idx})\n",
        "        index_word.update({idx:word})\n",
        "\n",
        "    tensor = tf.keras.preprocessing.sequence.pad_sequences(tensor, padding='post')\n",
        "\n",
        "    return tensor, word_index, index_word"
      ]
    },
    {
      "cell_type": "code",
      "execution_count": 30,
      "metadata": {
        "colab": {
          "base_uri": "https://localhost:8080/"
        },
        "id": "dZXqIXljwBv9",
        "outputId": "61d40cec-2569-4ba5-ca3f-9d364867bde7"
      },
      "outputs": [
        {
          "output_type": "stream",
          "name": "stdout",
          "text": [
            "[[1954 5665    5    4 7975 1988    3    0    0    0    0    0    0    0]\n",
            " [ 107 1642  101    4    0  417   11    4   14    0 1974    3    3    3]]\n"
          ]
        }
      ],
      "source": [
        "#sp_tokenize(s, corpus) 사용예제\n",
        "\n",
        "my_corpus = ['나는 밥을 먹었습니다.', '그러나 여전히 ㅠㅠ 배가 고픕니다...']\n",
        "tensor, word_index, index_word = sp_tokenize(s, my_corpus)\n",
        "print(tensor)"
      ]
    },
    {
      "cell_type": "markdown",
      "metadata": {
        "id": "OZHqFH0obV-2"
      },
      "source": [
        "## Step 4. 네이버 영화리뷰 감정 분석 문제에 SentencePiece 적용해 보기\n",
        "KoNLPy에 있는 Mecab, kkma, Okt 등과 비교해보세요.\n",
        "\n",
        "* 네이버 영화리뷰 감정 분석 코퍼스에 SentencePiece를 적용시킨 모델 학습하기\n",
        "* 학습된 모델로 sp_tokenize() 메소드 구현하기\n",
        "* 구현된 토크나이저를 적용하여 네이버 영화리뷰 감정 분석 모델을 재학습하기\n",
        "* KoNLPy 형태소 분석기를 사용한 모델과 성능 비교하기\n",
        "* SentencePiece 모델의 model_type, vocab_size 등을 변경해 가면서 성능 개선 여부 확인하기"
      ]
    },
    {
      "cell_type": "markdown",
      "metadata": {
        "id": "zPfLmrHy3b2t"
      },
      "source": [
        "### 1) 코퍼스 분석"
      ]
    },
    {
      "cell_type": "markdown",
      "metadata": {
        "id": "3z7S7PbRODxM"
      },
      "source": [
        "#### 데이터1)"
      ]
    },
    {
      "cell_type": "code",
      "execution_count": 31,
      "metadata": {
        "id": "cTfXOhXz9dtR"
      },
      "outputs": [],
      "source": [
        "# import pandas as pd\n",
        "\n",
        "# # 데이터를 읽어봅시다. \n",
        "# train_data = pd.read_table('/content/drive/MyDrive/Aiffel_data/Exp_Stage/Exp08_NLP2/ratings_train.txt')\n",
        "# test_data = pd.read_table('/content/drive/MyDrive/Aiffel_data/Exp_Stage/Exp08_NLP2/ratings_train.txt')\n",
        "\n",
        "# train_data.head()"
      ]
    },
    {
      "cell_type": "code",
      "execution_count": 32,
      "metadata": {
        "id": "p-6ZymoZ1Kaz"
      },
      "outputs": [],
      "source": [
        "# print('리뷰 개수 :',len(train_data)) # 리뷰 개수 출력"
      ]
    },
    {
      "cell_type": "code",
      "execution_count": 33,
      "metadata": {
        "id": "vRxSYi3C2chK"
      },
      "outputs": [],
      "source": [
        "# print(train_data.dtypes)"
      ]
    },
    {
      "cell_type": "code",
      "execution_count": 34,
      "metadata": {
        "id": "915McoH83CcC"
      },
      "outputs": [],
      "source": [
        "# train_data.document"
      ]
    },
    {
      "cell_type": "code",
      "execution_count": 35,
      "metadata": {
        "id": "owwoGFr_8Q9I"
      },
      "outputs": [],
      "source": [
        "# for i in train_data.document:\n",
        "#   if type(i) is not str:\n",
        "#     print(i)"
      ]
    },
    {
      "cell_type": "code",
      "execution_count": 36,
      "metadata": {
        "id": "btqNfwmh77PR"
      },
      "outputs": [],
      "source": [
        "# train_data = train_data.dropna(how = 'any') # Null 값이 존재하는 행 제거\n",
        "# print(train_data.isnull().values.any()) # Null 값이 존재하는지 확인"
      ]
    },
    {
      "cell_type": "code",
      "execution_count": 37,
      "metadata": {
        "id": "WEQfp3pR1xYl"
      },
      "outputs": [],
      "source": [
        "# min_len = 999\n",
        "# max_len = 0\n",
        "# sum_len = 0\n",
        "\n",
        "# for sen in train_data.document:\n",
        "#     length = len(sen)\n",
        "#     if min_len > length: min_len = length\n",
        "#     if max_len < length: max_len = length\n",
        "#     sum_len += length\n",
        "\n",
        "# print(\"문장의 최단 길이:\", min_len)\n",
        "# print(\"문장의 최장 길이:\", max_len)\n",
        "# print(\"문장의 평균 길이:\", sum_len // len(raw))\n",
        "\n",
        "# sentence_length = np.zeros((max_len), dtype=np.int)\n",
        "\n",
        "# for sen in train_data.document:\n",
        "#     sentence_length[len(sen)-1] += 1\n",
        "\n",
        "# plt.bar(range(max_len), sentence_length, width=1.0)\n",
        "# plt.title(\"Sentence Length Distribution\")\n",
        "# plt.show()"
      ]
    },
    {
      "cell_type": "markdown",
      "metadata": {
        "id": "Kj-wYyxrOJAR"
      },
      "source": [
        "#### 데이터2)"
      ]
    },
    {
      "cell_type": "code",
      "execution_count": 38,
      "metadata": {
        "id": "QSZ6HAvva8sg"
      },
      "outputs": [],
      "source": [
        "import sentencepiece as spm\n",
        "import pandas as pd\n",
        "import urllib.request\n",
        "import csv\n",
        "import matplotlib.pyplot as plt "
      ]
    },
    {
      "cell_type": "code",
      "execution_count": 39,
      "metadata": {
        "colab": {
          "base_uri": "https://localhost:8080/"
        },
        "id": "VHyQoQJqc19m",
        "outputId": "153a245a-7c3c-4ea1-f72a-5c657902b851"
      },
      "outputs": [
        {
          "output_type": "execute_result",
          "data": {
            "text/plain": [
              "('ratings.txt', <http.client.HTTPMessage at 0x7f228d1ef810>)"
            ]
          },
          "metadata": {},
          "execution_count": 39
        }
      ],
      "source": [
        "urllib.request.urlretrieve(\"https://raw.githubusercontent.com/e9t/nsmc/master/ratings.txt\", filename=\"ratings.txt\")"
      ]
    },
    {
      "cell_type": "code",
      "execution_count": 40,
      "metadata": {
        "colab": {
          "base_uri": "https://localhost:8080/",
          "height": 206
        },
        "id": "n-MliEnoc7Zl",
        "outputId": "daac9557-4d26-4c8c-b563-b69c5f5eb744"
      },
      "outputs": [
        {
          "output_type": "execute_result",
          "data": {
            "text/plain": [
              "         id                                           document  label\n",
              "0   8112052                                어릴때보고 지금다시봐도 재밌어요ㅋㅋ      1\n",
              "1   8132799  디자인을 배우는 학생으로, 외국디자이너와 그들이 일군 전통을 통해 발전해가는 문화산...      1\n",
              "2   4655635               폴리스스토리 시리즈는 1부터 뉴까지 버릴께 하나도 없음.. 최고.      1\n",
              "3   9251303  와.. 연기가 진짜 개쩔구나.. 지루할거라고 생각했는데 몰입해서 봤다.. 그래 이런...      1\n",
              "4  10067386                        안개 자욱한 밤하늘에 떠 있는 초승달 같은 영화.      1"
            ],
            "text/html": [
              "\n",
              "  <div id=\"df-b3a9e0ea-5030-4b01-98fa-74e5762fcad7\">\n",
              "    <div class=\"colab-df-container\">\n",
              "      <div>\n",
              "<style scoped>\n",
              "    .dataframe tbody tr th:only-of-type {\n",
              "        vertical-align: middle;\n",
              "    }\n",
              "\n",
              "    .dataframe tbody tr th {\n",
              "        vertical-align: top;\n",
              "    }\n",
              "\n",
              "    .dataframe thead th {\n",
              "        text-align: right;\n",
              "    }\n",
              "</style>\n",
              "<table border=\"1\" class=\"dataframe\">\n",
              "  <thead>\n",
              "    <tr style=\"text-align: right;\">\n",
              "      <th></th>\n",
              "      <th>id</th>\n",
              "      <th>document</th>\n",
              "      <th>label</th>\n",
              "    </tr>\n",
              "  </thead>\n",
              "  <tbody>\n",
              "    <tr>\n",
              "      <th>0</th>\n",
              "      <td>8112052</td>\n",
              "      <td>어릴때보고 지금다시봐도 재밌어요ㅋㅋ</td>\n",
              "      <td>1</td>\n",
              "    </tr>\n",
              "    <tr>\n",
              "      <th>1</th>\n",
              "      <td>8132799</td>\n",
              "      <td>디자인을 배우는 학생으로, 외국디자이너와 그들이 일군 전통을 통해 발전해가는 문화산...</td>\n",
              "      <td>1</td>\n",
              "    </tr>\n",
              "    <tr>\n",
              "      <th>2</th>\n",
              "      <td>4655635</td>\n",
              "      <td>폴리스스토리 시리즈는 1부터 뉴까지 버릴께 하나도 없음.. 최고.</td>\n",
              "      <td>1</td>\n",
              "    </tr>\n",
              "    <tr>\n",
              "      <th>3</th>\n",
              "      <td>9251303</td>\n",
              "      <td>와.. 연기가 진짜 개쩔구나.. 지루할거라고 생각했는데 몰입해서 봤다.. 그래 이런...</td>\n",
              "      <td>1</td>\n",
              "    </tr>\n",
              "    <tr>\n",
              "      <th>4</th>\n",
              "      <td>10067386</td>\n",
              "      <td>안개 자욱한 밤하늘에 떠 있는 초승달 같은 영화.</td>\n",
              "      <td>1</td>\n",
              "    </tr>\n",
              "  </tbody>\n",
              "</table>\n",
              "</div>\n",
              "      <button class=\"colab-df-convert\" onclick=\"convertToInteractive('df-b3a9e0ea-5030-4b01-98fa-74e5762fcad7')\"\n",
              "              title=\"Convert this dataframe to an interactive table.\"\n",
              "              style=\"display:none;\">\n",
              "        \n",
              "  <svg xmlns=\"http://www.w3.org/2000/svg\" height=\"24px\"viewBox=\"0 0 24 24\"\n",
              "       width=\"24px\">\n",
              "    <path d=\"M0 0h24v24H0V0z\" fill=\"none\"/>\n",
              "    <path d=\"M18.56 5.44l.94 2.06.94-2.06 2.06-.94-2.06-.94-.94-2.06-.94 2.06-2.06.94zm-11 1L8.5 8.5l.94-2.06 2.06-.94-2.06-.94L8.5 2.5l-.94 2.06-2.06.94zm10 10l.94 2.06.94-2.06 2.06-.94-2.06-.94-.94-2.06-.94 2.06-2.06.94z\"/><path d=\"M17.41 7.96l-1.37-1.37c-.4-.4-.92-.59-1.43-.59-.52 0-1.04.2-1.43.59L10.3 9.45l-7.72 7.72c-.78.78-.78 2.05 0 2.83L4 21.41c.39.39.9.59 1.41.59.51 0 1.02-.2 1.41-.59l7.78-7.78 2.81-2.81c.8-.78.8-2.07 0-2.86zM5.41 20L4 18.59l7.72-7.72 1.47 1.35L5.41 20z\"/>\n",
              "  </svg>\n",
              "      </button>\n",
              "      \n",
              "  <style>\n",
              "    .colab-df-container {\n",
              "      display:flex;\n",
              "      flex-wrap:wrap;\n",
              "      gap: 12px;\n",
              "    }\n",
              "\n",
              "    .colab-df-convert {\n",
              "      background-color: #E8F0FE;\n",
              "      border: none;\n",
              "      border-radius: 50%;\n",
              "      cursor: pointer;\n",
              "      display: none;\n",
              "      fill: #1967D2;\n",
              "      height: 32px;\n",
              "      padding: 0 0 0 0;\n",
              "      width: 32px;\n",
              "    }\n",
              "\n",
              "    .colab-df-convert:hover {\n",
              "      background-color: #E2EBFA;\n",
              "      box-shadow: 0px 1px 2px rgba(60, 64, 67, 0.3), 0px 1px 3px 1px rgba(60, 64, 67, 0.15);\n",
              "      fill: #174EA6;\n",
              "    }\n",
              "\n",
              "    [theme=dark] .colab-df-convert {\n",
              "      background-color: #3B4455;\n",
              "      fill: #D2E3FC;\n",
              "    }\n",
              "\n",
              "    [theme=dark] .colab-df-convert:hover {\n",
              "      background-color: #434B5C;\n",
              "      box-shadow: 0px 1px 3px 1px rgba(0, 0, 0, 0.15);\n",
              "      filter: drop-shadow(0px 1px 2px rgba(0, 0, 0, 0.3));\n",
              "      fill: #FFFFFF;\n",
              "    }\n",
              "  </style>\n",
              "\n",
              "      <script>\n",
              "        const buttonEl =\n",
              "          document.querySelector('#df-b3a9e0ea-5030-4b01-98fa-74e5762fcad7 button.colab-df-convert');\n",
              "        buttonEl.style.display =\n",
              "          google.colab.kernel.accessAllowed ? 'block' : 'none';\n",
              "\n",
              "        async function convertToInteractive(key) {\n",
              "          const element = document.querySelector('#df-b3a9e0ea-5030-4b01-98fa-74e5762fcad7');\n",
              "          const dataTable =\n",
              "            await google.colab.kernel.invokeFunction('convertToInteractive',\n",
              "                                                     [key], {});\n",
              "          if (!dataTable) return;\n",
              "\n",
              "          const docLinkHtml = 'Like what you see? Visit the ' +\n",
              "            '<a target=\"_blank\" href=https://colab.research.google.com/notebooks/data_table.ipynb>data table notebook</a>'\n",
              "            + ' to learn more about interactive tables.';\n",
              "          element.innerHTML = '';\n",
              "          dataTable['output_type'] = 'display_data';\n",
              "          await google.colab.output.renderOutput(dataTable, element);\n",
              "          const docLink = document.createElement('div');\n",
              "          docLink.innerHTML = docLinkHtml;\n",
              "          element.appendChild(docLink);\n",
              "        }\n",
              "      </script>\n",
              "    </div>\n",
              "  </div>\n",
              "  "
            ]
          },
          "metadata": {},
          "execution_count": 40
        }
      ],
      "source": [
        "naver_df = pd.read_table('ratings.txt')\n",
        "naver_df[:5]"
      ]
    },
    {
      "cell_type": "code",
      "execution_count": 41,
      "metadata": {
        "colab": {
          "base_uri": "https://localhost:8080/"
        },
        "id": "O2JcYU3VdDGH",
        "outputId": "3e335667-ea36-4ddc-d9f4-e363db046b29"
      },
      "outputs": [
        {
          "output_type": "stream",
          "name": "stdout",
          "text": [
            "리뷰 개수 : 200000\n"
          ]
        }
      ],
      "source": [
        "print('리뷰 개수 :',len(naver_df)) # 리뷰 개수 출력"
      ]
    },
    {
      "cell_type": "code",
      "execution_count": 42,
      "metadata": {
        "colab": {
          "base_uri": "https://localhost:8080/"
        },
        "id": "ILnf6rN327-_",
        "outputId": "2dd093b2-5294-4754-b028-9750dd468773"
      },
      "outputs": [
        {
          "output_type": "stream",
          "name": "stdout",
          "text": [
            "id           int64\n",
            "document    object\n",
            "label        int64\n",
            "dtype: object\n"
          ]
        }
      ],
      "source": [
        "print(naver_df.dtypes)"
      ]
    },
    {
      "cell_type": "markdown",
      "metadata": {
        "id": "osu0qIuZdWAC"
      },
      "source": [
        "* NULL 값 제거 "
      ]
    },
    {
      "cell_type": "code",
      "execution_count": 43,
      "metadata": {
        "colab": {
          "base_uri": "https://localhost:8080/"
        },
        "id": "4ujyV9uEdGtD",
        "outputId": "9ff51223-fee7-4f66-fe02-4904841c8b47"
      },
      "outputs": [
        {
          "output_type": "stream",
          "name": "stdout",
          "text": [
            "True\n"
          ]
        }
      ],
      "source": [
        "print(naver_df.isnull().values.any()) # Null 값 여부 확인"
      ]
    },
    {
      "cell_type": "code",
      "execution_count": 44,
      "metadata": {
        "colab": {
          "base_uri": "https://localhost:8080/"
        },
        "id": "0G8XIe3pdNw8",
        "outputId": "cef3d4f4-5af7-4152-bdd4-bc6431febb40"
      },
      "outputs": [
        {
          "output_type": "stream",
          "name": "stdout",
          "text": [
            "False\n"
          ]
        }
      ],
      "source": [
        "naver_df = naver_df.dropna(how = 'any') # Null 값이 존재하는 행 제거\n",
        "print(naver_df.isnull().values.any()) # Null 값이 존재하는지 확인"
      ]
    },
    {
      "cell_type": "code",
      "execution_count": 45,
      "metadata": {
        "colab": {
          "base_uri": "https://localhost:8080/"
        },
        "id": "J3p_chX4eG2R",
        "outputId": "7b78fd26-4b99-46c3-dfa8-2fd01872f163"
      },
      "outputs": [
        {
          "output_type": "execute_result",
          "data": {
            "text/plain": [
              "pandas.core.series.Series"
            ]
          },
          "metadata": {},
          "execution_count": 45
        }
      ],
      "source": [
        "type(naver_df.document)"
      ]
    },
    {
      "cell_type": "code",
      "source": [
        "naver_df.document"
      ],
      "metadata": {
        "colab": {
          "base_uri": "https://localhost:8080/"
        },
        "id": "g2-fTeB3tlwh",
        "outputId": "f41cc86b-1296-4e4e-e7d0-500aa984ef3b"
      },
      "execution_count": 46,
      "outputs": [
        {
          "output_type": "execute_result",
          "data": {
            "text/plain": [
              "0                                       어릴때보고 지금다시봐도 재밌어요ㅋㅋ\n",
              "1         디자인을 배우는 학생으로, 외국디자이너와 그들이 일군 전통을 통해 발전해가는 문화산...\n",
              "2                      폴리스스토리 시리즈는 1부터 뉴까지 버릴께 하나도 없음.. 최고.\n",
              "3         와.. 연기가 진짜 개쩔구나.. 지루할거라고 생각했는데 몰입해서 봤다.. 그래 이런...\n",
              "4                               안개 자욱한 밤하늘에 떠 있는 초승달 같은 영화.\n",
              "                                ...                        \n",
              "199995                                       포켓 몬스터 짜가 ㅡㅡ;;\n",
              "199996                                                쓰.레.기\n",
              "199997                    완전 사이코영화. 마지막은 더욱더 이 영화의질을 떨어트린다.\n",
              "199998                  왜난 재미없었지 ㅠㅠ 라따뚜이 보고나서 스머프 봐서 그런가 ㅋㅋ\n",
              "199999                                      포풍저그가나가신다영차영차영차\n",
              "Name: document, Length: 199992, dtype: object"
            ]
          },
          "metadata": {},
          "execution_count": 46
        }
      ]
    },
    {
      "cell_type": "code",
      "execution_count": 47,
      "metadata": {
        "colab": {
          "base_uri": "https://localhost:8080/",
          "height": 335
        },
        "id": "huRde0QQdy1U",
        "outputId": "ee644f77-c845-42b5-9ee7-4469e5cfabc6"
      },
      "outputs": [
        {
          "output_type": "stream",
          "name": "stdout",
          "text": [
            "문장의 최단 길이: 1\n",
            "문장의 최장 길이: 142\n",
            "문장의 평균 길이: 74\n"
          ]
        },
        {
          "output_type": "display_data",
          "data": {
            "text/plain": [
              "<Figure size 432x288 with 1 Axes>"
            ],
            "image/png": "[encoded data removed]"
          },
          "metadata": {
            "needs_background": "light"
          }
        }
      ],
      "source": [
        "min_len = 999\n",
        "max_len = 0\n",
        "sum_len = 0\n",
        "\n",
        "for sen in naver_df.document:\n",
        "    length = len(sen)\n",
        "    if min_len > length: min_len = length\n",
        "    if max_len < length: max_len = length\n",
        "    sum_len += length\n",
        "\n",
        "print(\"문장의 최단 길이:\", min_len)\n",
        "print(\"문장의 최장 길이:\", max_len)\n",
        "print(\"문장의 평균 길이:\", sum_len // len(raw))\n",
        "\n",
        "sentence_length = np.zeros((max_len), dtype=int)\n",
        "\n",
        "for sen in naver_df.document:\n",
        "    sentence_length[len(sen)-1] += 1\n",
        "\n",
        "plt.bar(range(max_len), sentence_length, width=1.0)\n",
        "plt.title(\"Sentence Length Distribution\")\n",
        "plt.show()"
      ]
    },
    {
      "cell_type": "markdown",
      "metadata": {
        "id": "M9wR5JFGfTKp"
      },
      "source": [
        "> 길이 확인 함수 "
      ]
    },
    {
      "cell_type": "code",
      "execution_count": 48,
      "metadata": {
        "id": "Quk3TXESfNtI"
      },
      "outputs": [],
      "source": [
        "def check_sentence_with_length(raw, length):\n",
        "    count = 0\n",
        "    \n",
        "    for sen in raw:\n",
        "        if len(sen) == length:\n",
        "            print(sen)\n",
        "            count += 1\n",
        "            if count > 100: return\n"
      ]
    },
    {
      "cell_type": "markdown",
      "metadata": {
        "id": "Cx_ItM8lfobF"
      },
      "source": [
        "* 가장 짧은 문장 "
      ]
    },
    {
      "cell_type": "code",
      "execution_count": 49,
      "metadata": {
        "colab": {
          "base_uri": "https://localhost:8080/"
        },
        "id": "j6aJi5-rfCPA",
        "outputId": "6fd497f7-3293-4217-d229-608e9dcccc01"
      },
      "outputs": [
        {
          "output_type": "stream",
          "name": "stdout",
          "text": [
            "굿\n",
            "핡\n",
            "굿\n",
            "휴\n",
            "굿\n",
            "시\n",
            "ㅋ\n",
            "ㅇ\n",
            "굿\n",
            "‥\n",
            "O\n",
            "굿\n",
            "굿\n",
            "굿\n",
            "갑\n",
            "ㅎ\n",
            "굿\n",
            ".\n",
            "올\n",
            "굿\n",
            "헷\n",
            "g\n",
            "굿\n",
            "♥\n",
            ".\n",
            "짱\n",
            "짱\n",
            "ㅆ\n",
            ".\n",
            "굿\n",
            "짱\n",
            "굿\n",
            ".\n",
            "굿\n",
            "굿\n",
            "굿\n",
            ".\n",
            "굿\n",
            "짱\n",
            "굳\n",
            "굿\n",
            "잼\n",
            "굿\n",
            "짱\n",
            "굿\n",
            "굿\n",
            "ㅎ\n",
            "굿\n",
            "굿\n",
            "굿\n",
            "ㅁ\n",
            "굳\n",
            "굿\n",
            "굿\n",
            "?\n",
            "ㅎ\n",
            "굿\n",
            "굿\n",
            ".\n",
            "짱\n",
            "ㅇ\n",
            "ㅋ\n",
            "애\n",
            "굿\n",
            "ㅋ\n",
            "굿\n",
            "?\n",
            "짱\n",
            ".\n",
            "흠\n",
            "굿\n",
            "ㅋ\n",
            "!\n",
            "굿\n",
            "찜\n",
            "b\n",
            "굿\n",
            "굳\n",
            "짱\n",
            "짱\n",
            "짱\n",
            "짱\n",
            "굿\n",
            "굿\n",
            "짱\n",
            "굿\n",
            ",\n",
            "♥\n",
            "굳\n",
            ".\n",
            "굿\n",
            "굳\n",
            "ㅎ\n",
            "굿\n",
            "굿\n",
            ".\n",
            "굿\n",
            "굳\n",
            "굿\n",
            "굿\n",
            "굿\n"
          ]
        }
      ],
      "source": [
        "check_sentence_with_length(naver_df.document, 1)"
      ]
    },
    {
      "cell_type": "markdown",
      "metadata": {
        "id": "zjMhoL1Cfzue"
      },
      "source": [
        "* 가장 긴 문장 "
      ]
    },
    {
      "cell_type": "code",
      "execution_count": 50,
      "metadata": {
        "colab": {
          "base_uri": "https://localhost:8080/"
        },
        "id": "qjDVsBCefsFr",
        "outputId": "67545b86-67dc-45ee-8ef9-7997496ebd66"
      },
      "outputs": [
        {
          "output_type": "stream",
          "name": "stdout",
          "text": [
            "영화 초반을 보면서 ' 좀 허항된 . 황당한 코믹스런 ' 연출이 되겠다란 생각을 하고 보기시작했는데 .. 연주가 처음 시작되는 부분에서 저도 모르게 눈가가 초촉해 지기시작하더군요 .. 이유는 모르겠네요 ... 자유에 대한 갈증과 박해에 대한 내용을 &gt\n"
          ]
        }
      ],
      "source": [
        "check_sentence_with_length(naver_df.document, 142)"
      ]
    },
    {
      "cell_type": "code",
      "execution_count": 51,
      "metadata": {
        "id": "A9SNmhoOgQJK"
      },
      "outputs": [],
      "source": [
        "# for idx, _sum in enumerate(sentence_length):\n",
        "#     # 문장의 수가 1500을 초과하는 문장 길이를 추출합니다.\n",
        "#     if _sum > 1500:\n",
        "#         print(\"Outlier Index:\", idx+1)"
      ]
    },
    {
      "cell_type": "code",
      "execution_count": 52,
      "metadata": {
        "id": "fnGoeq0ygjta"
      },
      "outputs": [],
      "source": [
        "# check_sentence_with_length(naver_df.document, 27)"
      ]
    },
    {
      "cell_type": "code",
      "source": [
        "cleaned_df = naver_df.drop_duplicates(subset=['document'])"
      ],
      "metadata": {
        "id": "8WP8GwSBqTAN"
      },
      "execution_count": 53,
      "outputs": []
    },
    {
      "cell_type": "code",
      "source": [
        "len(cleaned_df)"
      ],
      "metadata": {
        "colab": {
          "base_uri": "https://localhost:8080/"
        },
        "id": "opK-SnYvqVgT",
        "outputId": "53cd4151-3c77-4e96-b420-febff297edf5"
      },
      "execution_count": 54,
      "outputs": [
        {
          "output_type": "execute_result",
          "data": {
            "text/plain": [
              "194543"
            ]
          },
          "metadata": {},
          "execution_count": 54
        }
      ]
    },
    {
      "cell_type": "code",
      "source": [
        "type(cleaned_df)"
      ],
      "metadata": {
        "colab": {
          "base_uri": "https://localhost:8080/"
        },
        "id": "A0EZwW9SsXYE",
        "outputId": "604f5a0c-7e43-4953-f2fa-8416138facef"
      },
      "execution_count": 55,
      "outputs": [
        {
          "output_type": "execute_result",
          "data": {
            "text/plain": [
              "pandas.core.frame.DataFrame"
            ]
          },
          "metadata": {},
          "execution_count": 55
        }
      ]
    },
    {
      "cell_type": "code",
      "source": [
        "cleaned_df"
      ],
      "metadata": {
        "colab": {
          "base_uri": "https://localhost:8080/",
          "height": 424
        },
        "id": "gg6CqW3Jx2tA",
        "outputId": "1241f7d8-2f6a-4b1c-ed92-372e983ecbcd"
      },
      "execution_count": 56,
      "outputs": [
        {
          "output_type": "execute_result",
          "data": {
            "text/plain": [
              "              id                                           document  label\n",
              "0        8112052                                어릴때보고 지금다시봐도 재밌어요ㅋㅋ      1\n",
              "1        8132799  디자인을 배우는 학생으로, 외국디자이너와 그들이 일군 전통을 통해 발전해가는 문화산...      1\n",
              "2        4655635               폴리스스토리 시리즈는 1부터 뉴까지 버릴께 하나도 없음.. 최고.      1\n",
              "3        9251303  와.. 연기가 진짜 개쩔구나.. 지루할거라고 생각했는데 몰입해서 봤다.. 그래 이런...      1\n",
              "4       10067386                        안개 자욱한 밤하늘에 떠 있는 초승달 같은 영화.      1\n",
              "...          ...                                                ...    ...\n",
              "199995   8963373                                     포켓 몬스터 짜가 ㅡㅡ;;      0\n",
              "199996   3302770                                              쓰.레.기      0\n",
              "199997   5458175                  완전 사이코영화. 마지막은 더욱더 이 영화의질을 떨어트린다.      0\n",
              "199998   6908648                왜난 재미없었지 ㅠㅠ 라따뚜이 보고나서 스머프 봐서 그런가 ㅋㅋ      0\n",
              "199999   8548411                                    포풍저그가나가신다영차영차영차      0\n",
              "\n",
              "[194543 rows x 3 columns]"
            ],
            "text/html": [
              "\n",
              "  <div id=\"df-79d93c13-d5da-4e32-bead-dc485d8ac01a\">\n",
              "    <div class=\"colab-df-container\">\n",
              "      <div>\n",
              "<style scoped>\n",
              "    .dataframe tbody tr th:only-of-type {\n",
              "        vertical-align: middle;\n",
              "    }\n",
              "\n",
              "    .dataframe tbody tr th {\n",
              "        vertical-align: top;\n",
              "    }\n",
              "\n",
              "    .dataframe thead th {\n",
              "        text-align: right;\n",
              "    }\n",
              "</style>\n",
              "<table border=\"1\" class=\"dataframe\">\n",
              "  <thead>\n",
              "    <tr style=\"text-align: right;\">\n",
              "      <th></th>\n",
              "      <th>id</th>\n",
              "      <th>document</th>\n",
              "      <th>label</th>\n",
              "    </tr>\n",
              "  </thead>\n",
              "  <tbody>\n",
              "    <tr>\n",
              "      <th>0</th>\n",
              "      <td>8112052</td>\n",
              "      <td>어릴때보고 지금다시봐도 재밌어요ㅋㅋ</td>\n",
              "      <td>1</td>\n",
              "    </tr>\n",
              "    <tr>\n",
              "      <th>1</th>\n",
              "      <td>8132799</td>\n",
              "      <td>디자인을 배우는 학생으로, 외국디자이너와 그들이 일군 전통을 통해 발전해가는 문화산...</td>\n",
              "      <td>1</td>\n",
              "    </tr>\n",
              "    <tr>\n",
              "      <th>2</th>\n",
              "      <td>4655635</td>\n",
              "      <td>폴리스스토리 시리즈는 1부터 뉴까지 버릴께 하나도 없음.. 최고.</td>\n",
              "      <td>1</td>\n",
              "    </tr>\n",
              "    <tr>\n",
              "      <th>3</th>\n",
              "      <td>9251303</td>\n",
              "      <td>와.. 연기가 진짜 개쩔구나.. 지루할거라고 생각했는데 몰입해서 봤다.. 그래 이런...</td>\n",
              "      <td>1</td>\n",
              "    </tr>\n",
              "    <tr>\n",
              "      <th>4</th>\n",
              "      <td>10067386</td>\n",
              "      <td>안개 자욱한 밤하늘에 떠 있는 초승달 같은 영화.</td>\n",
              "      <td>1</td>\n",
              "    </tr>\n",
              "    <tr>\n",
              "      <th>...</th>\n",
              "      <td>...</td>\n",
              "      <td>...</td>\n",
              "      <td>...</td>\n",
              "    </tr>\n",
              "    <tr>\n",
              "      <th>199995</th>\n",
              "      <td>8963373</td>\n",
              "      <td>포켓 몬스터 짜가 ㅡㅡ;;</td>\n",
              "      <td>0</td>\n",
              "    </tr>\n",
              "    <tr>\n",
              "      <th>199996</th>\n",
              "      <td>3302770</td>\n",
              "      <td>쓰.레.기</td>\n",
              "      <td>0</td>\n",
              "    </tr>\n",
              "    <tr>\n",
              "      <th>199997</th>\n",
              "      <td>5458175</td>\n",
              "      <td>완전 사이코영화. 마지막은 더욱더 이 영화의질을 떨어트린다.</td>\n",
              "      <td>0</td>\n",
              "    </tr>\n",
              "    <tr>\n",
              "      <th>199998</th>\n",
              "      <td>6908648</td>\n",
              "      <td>왜난 재미없었지 ㅠㅠ 라따뚜이 보고나서 스머프 봐서 그런가 ㅋㅋ</td>\n",
              "      <td>0</td>\n",
              "    </tr>\n",
              "    <tr>\n",
              "      <th>199999</th>\n",
              "      <td>8548411</td>\n",
              "      <td>포풍저그가나가신다영차영차영차</td>\n",
              "      <td>0</td>\n",
              "    </tr>\n",
              "  </tbody>\n",
              "</table>\n",
              "<p>194543 rows × 3 columns</p>\n",
              "</div>\n",
              "      <button class=\"colab-df-convert\" onclick=\"convertToInteractive('df-79d93c13-d5da-4e32-bead-dc485d8ac01a')\"\n",
              "              title=\"Convert this dataframe to an interactive table.\"\n",
              "              style=\"display:none;\">\n",
              "        \n",
              "  <svg xmlns=\"http://www.w3.org/2000/svg\" height=\"24px\"viewBox=\"0 0 24 24\"\n",
              "       width=\"24px\">\n",
              "    <path d=\"M0 0h24v24H0V0z\" fill=\"none\"/>\n",
              "    <path d=\"M18.56 5.44l.94 2.06.94-2.06 2.06-.94-2.06-.94-.94-2.06-.94 2.06-2.06.94zm-11 1L8.5 8.5l.94-2.06 2.06-.94-2.06-.94L8.5 2.5l-.94 2.06-2.06.94zm10 10l.94 2.06.94-2.06 2.06-.94-2.06-.94-.94-2.06-.94 2.06-2.06.94z\"/><path d=\"M17.41 7.96l-1.37-1.37c-.4-.4-.92-.59-1.43-.59-.52 0-1.04.2-1.43.59L10.3 9.45l-7.72 7.72c-.78.78-.78 2.05 0 2.83L4 21.41c.39.39.9.59 1.41.59.51 0 1.02-.2 1.41-.59l7.78-7.78 2.81-2.81c.8-.78.8-2.07 0-2.86zM5.41 20L4 18.59l7.72-7.72 1.47 1.35L5.41 20z\"/>\n",
              "  </svg>\n",
              "      </button>\n",
              "      \n",
              "  <style>\n",
              "    .colab-df-container {\n",
              "      display:flex;\n",
              "      flex-wrap:wrap;\n",
              "      gap: 12px;\n",
              "    }\n",
              "\n",
              "    .colab-df-convert {\n",
              "      background-color: #E8F0FE;\n",
              "      border: none;\n",
              "      border-radius: 50%;\n",
              "      cursor: pointer;\n",
              "      display: none;\n",
              "      fill: #1967D2;\n",
              "      height: 32px;\n",
              "      padding: 0 0 0 0;\n",
              "      width: 32px;\n",
              "    }\n",
              "\n",
              "    .colab-df-convert:hover {\n",
              "      background-color: #E2EBFA;\n",
              "      box-shadow: 0px 1px 2px rgba(60, 64, 67, 0.3), 0px 1px 3px 1px rgba(60, 64, 67, 0.15);\n",
              "      fill: #174EA6;\n",
              "    }\n",
              "\n",
              "    [theme=dark] .colab-df-convert {\n",
              "      background-color: #3B4455;\n",
              "      fill: #D2E3FC;\n",
              "    }\n",
              "\n",
              "    [theme=dark] .colab-df-convert:hover {\n",
              "      background-color: #434B5C;\n",
              "      box-shadow: 0px 1px 3px 1px rgba(0, 0, 0, 0.15);\n",
              "      filter: drop-shadow(0px 1px 2px rgba(0, 0, 0, 0.3));\n",
              "      fill: #FFFFFF;\n",
              "    }\n",
              "  </style>\n",
              "\n",
              "      <script>\n",
              "        const buttonEl =\n",
              "          document.querySelector('#df-79d93c13-d5da-4e32-bead-dc485d8ac01a button.colab-df-convert');\n",
              "        buttonEl.style.display =\n",
              "          google.colab.kernel.accessAllowed ? 'block' : 'none';\n",
              "\n",
              "        async function convertToInteractive(key) {\n",
              "          const element = document.querySelector('#df-79d93c13-d5da-4e32-bead-dc485d8ac01a');\n",
              "          const dataTable =\n",
              "            await google.colab.kernel.invokeFunction('convertToInteractive',\n",
              "                                                     [key], {});\n",
              "          if (!dataTable) return;\n",
              "\n",
              "          const docLinkHtml = 'Like what you see? Visit the ' +\n",
              "            '<a target=\"_blank\" href=https://colab.research.google.com/notebooks/data_table.ipynb>data table notebook</a>'\n",
              "            + ' to learn more about interactive tables.';\n",
              "          element.innerHTML = '';\n",
              "          dataTable['output_type'] = 'display_data';\n",
              "          await google.colab.output.renderOutput(dataTable, element);\n",
              "          const docLink = document.createElement('div');\n",
              "          docLink.innerHTML = docLinkHtml;\n",
              "          element.appendChild(docLink);\n",
              "        }\n",
              "      </script>\n",
              "    </div>\n",
              "  </div>\n",
              "  "
            ]
          },
          "metadata": {},
          "execution_count": 56
        }
      ]
    },
    {
      "cell_type": "code",
      "source": [
        "cleaned_corpus = cleaned_df.document"
      ],
      "metadata": {
        "id": "aBtePceY5n9U"
      },
      "execution_count": 57,
      "outputs": []
    },
    {
      "cell_type": "code",
      "source": [
        "cleaned_corpus"
      ],
      "metadata": {
        "colab": {
          "base_uri": "https://localhost:8080/"
        },
        "id": "Sop6VE-B52Rg",
        "outputId": "38b59d82-fd39-4944-8e0a-d36e8c8e11a5"
      },
      "execution_count": 58,
      "outputs": [
        {
          "output_type": "execute_result",
          "data": {
            "text/plain": [
              "0                                       어릴때보고 지금다시봐도 재밌어요ㅋㅋ\n",
              "1         디자인을 배우는 학생으로, 외국디자이너와 그들이 일군 전통을 통해 발전해가는 문화산...\n",
              "2                      폴리스스토리 시리즈는 1부터 뉴까지 버릴께 하나도 없음.. 최고.\n",
              "3         와.. 연기가 진짜 개쩔구나.. 지루할거라고 생각했는데 몰입해서 봤다.. 그래 이런...\n",
              "4                               안개 자욱한 밤하늘에 떠 있는 초승달 같은 영화.\n",
              "                                ...                        \n",
              "199995                                       포켓 몬스터 짜가 ㅡㅡ;;\n",
              "199996                                                쓰.레.기\n",
              "199997                    완전 사이코영화. 마지막은 더욱더 이 영화의질을 떨어트린다.\n",
              "199998                  왜난 재미없었지 ㅠㅠ 라따뚜이 보고나서 스머프 봐서 그런가 ㅋㅋ\n",
              "199999                                      포풍저그가나가신다영차영차영차\n",
              "Name: document, Length: 194543, dtype: object"
            ]
          },
          "metadata": {},
          "execution_count": 58
        }
      ]
    },
    {
      "cell_type": "code",
      "source": [
        "min_len = 999\n",
        "max_len = 0\n",
        "sum_len = 0\n",
        "\n",
        "# cleaned_corpus = list(set(raw))  # set를 사용해서 중복을 제거합니다.\n",
        "print(\"Data Size:\", len(cleaned_corpus))\n",
        "\n",
        "for sen in cleaned_df.document:\n",
        "    length = len(sen)\n",
        "    if min_len > length: min_len = length\n",
        "    if max_len < length: max_len = length\n",
        "    sum_len += length\n",
        "\n",
        "print(\"문장의 최단 길이:\", min_len)\n",
        "print(\"문장의 최장 길이:\", max_len)\n",
        "print(\"문장의 평균 길이:\", sum_len // len(cleaned_df.document))\n",
        "\n",
        "sentence_length = np.zeros((max_len), dtype=np.int)\n",
        "\n",
        "for sen in cleaned_corpus:   # 중복이 제거된 코퍼스 기준\n",
        "    sentence_length[len(sen)-1] += 1\n",
        "\n",
        "plt.bar(range(max_len), sentence_length, width=1.0)\n",
        "plt.title(\"Sentence Length Distribution\")\n",
        "plt.show()"
      ],
      "metadata": {
        "colab": {
          "base_uri": "https://localhost:8080/",
          "height": 408
        },
        "id": "PLcHdxSM3lOb",
        "outputId": "f9f26b35-6902-452e-a2fa-7c9904d6b3cd"
      },
      "execution_count": 59,
      "outputs": [
        {
          "output_type": "stream",
          "name": "stdout",
          "text": [
            "Data Size: 194543\n",
            "문장의 최단 길이: 1\n",
            "문장의 최장 길이: 142\n",
            "문장의 평균 길이: 36\n"
          ]
        },
        {
          "output_type": "stream",
          "name": "stderr",
          "text": [
            "/usr/local/lib/python3.7/dist-packages/ipykernel_launcher.py:18: DeprecationWarning: `np.int` is a deprecated alias for the builtin `int`. To silence this warning, use `int` by itself. Doing this will not modify any behavior and is safe. When replacing `np.int`, you may wish to use e.g. `np.int64` or `np.int32` to specify the precision. If you wish to review your current use, check the release note link for additional information.\n",
            "Deprecated in NumPy 1.20; for more details and guidance: https://numpy.org/devdocs/release/1.20.0-notes.html#deprecations\n"
          ]
        },
        {
          "output_type": "display_data",
          "data": {
            "text/plain": [
              "<Figure size 432x288 with 1 Axes>"
            ],
            "image/png": "[encoded data removed]"
          },
          "metadata": {
            "needs_background": "light"
          }
        }
      ]
    },
    {
      "cell_type": "code",
      "source": [
        "\n",
        "filtered_df = cleaned_df[(cleaned_df['document'].map(len) < 130)]\n"
      ],
      "metadata": {
        "id": "IFVnIIBq1sDN"
      },
      "execution_count": 60,
      "outputs": []
    },
    {
      "cell_type": "code",
      "source": [
        "len(filtered_df)"
      ],
      "metadata": {
        "colab": {
          "base_uri": "https://localhost:8080/"
        },
        "id": "g3IT2Xq1_m0g",
        "outputId": "e3015f83-433c-4656-c29d-ebbb4588ed35"
      },
      "execution_count": 61,
      "outputs": [
        {
          "output_type": "execute_result",
          "data": {
            "text/plain": [
              "189050"
            ]
          },
          "metadata": {},
          "execution_count": 61
        }
      ]
    },
    {
      "cell_type": "code",
      "source": [
        "filtered_corpus = filtered_df.document"
      ],
      "metadata": {
        "id": "qwHYS-nC_bJw"
      },
      "execution_count": 62,
      "outputs": []
    },
    {
      "cell_type": "code",
      "execution_count": 63,
      "metadata": {
        "colab": {
          "base_uri": "https://localhost:8080/",
          "height": 335
        },
        "id": "YdfmrrGgiAQu",
        "outputId": "46176715-d578-46a5-946f-10fe765a1a4b"
      },
      "outputs": [
        {
          "output_type": "stream",
          "name": "stdout",
          "text": [
            "문장의 최단 길이: 1\n",
            "문장의 최장 길이: 142\n",
            "문장의 평균 길이: 37\n"
          ]
        },
        {
          "output_type": "display_data",
          "data": {
            "text/plain": [
              "<Figure size 432x288 with 1 Axes>"
            ],
            "image/png": "[encoded data removed]"
          },
          "metadata": {
            "needs_background": "light"
          }
        }
      ],
      "source": [
        "# max_len = 80\n",
        "# min_len = 0\n",
        "\n",
        "# # 길이 조건에 맞는 문장만 선택합니다.\n",
        "# # filtered_corpus = [s for s in cleaned_corpus if (len(s) < max_len) & (len(s) >= min_len)]\n",
        "# filtered_corpus = cleaned_corpus[(cleaned_corpus['document'] < max_len) & (cleaned_corpus['document'] >= min_len)]\n",
        "\n",
        "\n",
        "print(\"문장의 최단 길이:\", min_len)\n",
        "print(\"문장의 최장 길이:\", max_len)\n",
        "print(\"문장의 평균 길이:\", sum_len // len(filtered_corpus))\n",
        "# 분포도를 다시 그려봅니다.\n",
        "sentence_length = np.zeros((max_len), dtype=int)\n",
        "\n",
        "for sen in filtered_corpus:\n",
        "    sentence_length[len(sen)-1] += 1\n",
        "\n",
        "plt.bar(range(max_len), sentence_length, width=1.0)\n",
        "plt.title(\"Sentence Length Distribution\")\n",
        "plt.show()"
      ]
    },
    {
      "cell_type": "markdown",
      "metadata": {
        "id": "0X-sY-6iDoNf"
      },
      "source": [
        "1) split - tokenizer \n",
        "2) tokenizer - split \n",
        "\n",
        "1) = 2) 똑같다. "
      ]
    },
    {
      "cell_type": "markdown",
      "metadata": {
        "id": "2iScy0153kCq"
      },
      "source": [
        "###2) 데이터 전처리 \n",
        "* 데이터의 중복 제거\n",
        "*  NaN 결측치 제거"
      ]
    },
    {
      "cell_type": "code",
      "execution_count": 64,
      "metadata": {
        "id": "iJEkxCW--Okj"
      },
      "outputs": [],
      "source": [
        "# 위에 있어요!"
      ]
    },
    {
      "cell_type": "markdown",
      "metadata": {
        "id": "ac9GigLE3oHV"
      },
      "source": [
        "### 3) SentencePiece 적용"
      ]
    },
    {
      "cell_type": "markdown",
      "metadata": {
        "id": "nV4FXUkd35J0"
      },
      "source": [
        "SentencePiece 모델 학습"
      ]
    },
    {
      "cell_type": "code",
      "execution_count": 65,
      "metadata": {
        "id": "gbDY0YYR31wo"
      },
      "outputs": [],
      "source": [
        "def tokenize(corpus):  # corpus: Tokenized Sentence's List\n",
        "    tokenizer = tf.keras.preprocessing.text.Tokenizer(filters='')\n",
        "    tokenizer.fit_on_texts(corpus)\n",
        "\n",
        "    tensor = tokenizer.texts_to_sequences(corpus)\n",
        "\n",
        "    tensor = tf.keras.preprocessing.sequence.pad_sequences(tensor, padding='post')\n",
        "\n",
        "    return tensor, tokenizer"
      ]
    },
    {
      "cell_type": "code",
      "execution_count": 66,
      "metadata": {
        "colab": {
          "base_uri": "https://localhost:8080/"
        },
        "id": "1V05Qo2Y397L",
        "outputId": "6a0e61ce-c30b-4745-ba3c-d814327721b8"
      },
      "outputs": [
        {
          "output_type": "stream",
          "name": "stdout",
          "text": [
            "-rw-r--r-- 1 root root 374735 Oct  4 08:33 korean_spm.model\n",
            "-rw-r--r-- 1 root root 144223 Oct  4 08:33 korean_spm.vocab\n"
          ]
        }
      ],
      "source": [
        "import sentencepiece as spm\n",
        "import os\n",
        "# temp_file = '/content/drive/MyDrive/Aiffel_data/NLP/[NLP-01]/korean-english-park.train.ko.temp'\n",
        "\n",
        "vocab_size = 8000\n",
        "\n",
        "with open('naver_review.txt', 'w', encoding='utf8') as f:\n",
        "    f.write('\\n'.join(naver_df['document']))\n",
        "\n",
        "# with open(temp_file, 'w') as f:\n",
        "#     for row in filtered_corpus:   # 이전 스텝에서 정제했던 corpus를 활용합니다.\n",
        "#         f.write(str(row) + '\\n')\n",
        "\n",
        "spm.SentencePieceTrainer.Train(\n",
        "    '--input={} --model_prefix=korean_spm --vocab_size={}'.format('naver_review.txt', vocab_size)    \n",
        ")\n",
        "#위 Train에서  --model_type=unigram 이 디폴트 적용되어 있습니다. --model_type=bpe 로 옵션을 주어 변경할 수 있습니다.\n",
        "\n",
        "!ls -l korean_spm*"
      ]
    },
    {
      "cell_type": "markdown",
      "metadata": {
        "id": "Z_EfigAn3tpx"
      },
      "source": [
        "###4) 토크나이저 구현 및 동작"
      ]
    },
    {
      "cell_type": "code",
      "execution_count": 67,
      "metadata": {
        "id": "o9YWpNA_E-XX"
      },
      "outputs": [],
      "source": [
        "def sp_tokenize(s, corpus):\n",
        "\n",
        "    tensor = []\n",
        "\n",
        "    for sen in corpus:\n",
        "        tensor.append(s.EncodeAsIds(sen))\n",
        "\n",
        "    with open(\"./korean_spm.vocab\", 'r') as f:\n",
        "        vocab = f.readlines()\n",
        "\n",
        "    word_index = {}\n",
        "    index_word = {}\n",
        "\n",
        "    for idx, line in enumerate(vocab):\n",
        "        word = line.split(\"\\t\")[0]\n",
        "\n",
        "        word_index.update({word:idx})\n",
        "        index_word.update({idx:word})\n",
        "\n",
        "    tensor = tf.keras.preprocessing.sequence.pad_sequences(tensor, padding='pre')\n",
        "\n",
        "    return tensor, word_index, index_word"
      ]
    },
    {
      "cell_type": "code",
      "execution_count": 68,
      "metadata": {
        "colab": {
          "base_uri": "https://localhost:8080/"
        },
        "id": "EuDqndleFCik",
        "outputId": "58c2c43c-f55d-4669-d0f4-d2e8f0a4f343"
      },
      "outputs": [
        {
          "output_type": "stream",
          "name": "stdout",
          "text": [
            "[[   0    0    0    0    0    0    0 1954 5665    5    4 7975 1988    3]\n",
            " [ 107 1642  101    4    0  417   11    4   14    0 1974    3    3    3]]\n"
          ]
        }
      ],
      "source": [
        "#sp_tokenize(s, corpus) 사용예제\n",
        "\n",
        "my_corpus = ['나는 밥을 먹었습니다.', '그러나 여전히 ㅠㅠ 배가 고픕니다...']\n",
        "tensor, word_index, index_word = sp_tokenize(s, my_corpus)\n",
        "print(tensor)"
      ]
    },
    {
      "cell_type": "code",
      "source": [
        "tensor, word_index, index_word = sp_tokenize(s, filtered_corpus)"
      ],
      "metadata": {
        "id": "NrvkwgKIhZbA"
      },
      "execution_count": 69,
      "outputs": []
    },
    {
      "cell_type": "code",
      "source": [
        "tensor"
      ],
      "metadata": {
        "colab": {
          "base_uri": "https://localhost:8080/"
        },
        "id": "kXCexme3hvYA",
        "outputId": "3b5191ee-8378-4239-95c5-49e6e5dfe6f1"
      },
      "execution_count": 70,
      "outputs": [
        {
          "output_type": "execute_result",
          "data": {
            "text/plain": [
              "array([[   0,    0,    0, ...,   71,  514,    0],\n",
              "       [   0,    0,    0, ...,    3,  622,    3],\n",
              "       [   0,    0,    0, ..., 4857,  216,   29],\n",
              "       ...,\n",
              "       [   0,    0,    0, ...,   78, 3576,    3],\n",
              "       [   0,    0,    0, ...,   11,    4,    0],\n",
              "       [   0,    0,    0, ...,  248,  822,  248]], dtype=int32)"
            ]
          },
          "metadata": {},
          "execution_count": 70
        }
      ]
    },
    {
      "cell_type": "code",
      "source": [
        "len(tensor)"
      ],
      "metadata": {
        "colab": {
          "base_uri": "https://localhost:8080/"
        },
        "id": "a9VRDxa9mOic",
        "outputId": "5ead16c3-bdca-4f02-9092-80752e33e350"
      },
      "execution_count": 71,
      "outputs": [
        {
          "output_type": "execute_result",
          "data": {
            "text/plain": [
              "189050"
            ]
          },
          "metadata": {},
          "execution_count": 71
        }
      ]
    },
    {
      "cell_type": "code",
      "source": [
        "# label = filtered_df.label"
      ],
      "metadata": {
        "id": "qsXbyHNHxout"
      },
      "execution_count": 72,
      "outputs": []
    },
    {
      "cell_type": "code",
      "source": [
        "label = np.array(filtered_df['label'])"
      ],
      "metadata": {
        "id": "k3Ml0b-OHVuQ"
      },
      "execution_count": 73,
      "outputs": []
    },
    {
      "cell_type": "code",
      "source": [
        "len(label)"
      ],
      "metadata": {
        "colab": {
          "base_uri": "https://localhost:8080/"
        },
        "id": "cqm57cbBosTm",
        "outputId": "5fb0e240-45cb-435d-f4ce-716b9a45dd77"
      },
      "execution_count": 74,
      "outputs": [
        {
          "output_type": "execute_result",
          "data": {
            "text/plain": [
              "189050"
            ]
          },
          "metadata": {},
          "execution_count": 74
        }
      ]
    },
    {
      "cell_type": "code",
      "source": [
        "label"
      ],
      "metadata": {
        "colab": {
          "base_uri": "https://localhost:8080/"
        },
        "id": "3fpaFVLMl6EW",
        "outputId": "a309f101-cb2d-4b65-8171-dc17be5117c2"
      },
      "execution_count": 75,
      "outputs": [
        {
          "output_type": "execute_result",
          "data": {
            "text/plain": [
              "array([1, 1, 1, ..., 0, 0, 0])"
            ]
          },
          "metadata": {},
          "execution_count": 75
        }
      ]
    },
    {
      "cell_type": "markdown",
      "metadata": {
        "id": "hI7jlgEf5PAW"
      },
      "source": [
        "### 5) 모델 정의, 학습 \n",
        "\n",
        "train validation test 8: 1 : 1 "
      ]
    },
    {
      "cell_type": "code",
      "execution_count": 76,
      "metadata": {
        "colab": {
          "base_uri": "https://localhost:8080/"
        },
        "id": "Pnnjw8f7mPUR",
        "outputId": "2f6d71e5-ffd6-4f97-a6cd-151a16626c5b"
      },
      "outputs": [
        {
          "output_type": "stream",
          "name": "stdout",
          "text": [
            "Model: \"sequential\"\n",
            "_________________________________________________________________\n",
            " Layer (type)                Output Shape              Param #   \n",
            "=================================================================\n",
            " embedding (Embedding)       (None, None, 16)          160000    \n",
            "                                                                 \n",
            " lstm (LSTM)                 (None, 8)                 800       \n",
            "                                                                 \n",
            " dense (Dense)               (None, 8)                 72        \n",
            "                                                                 \n",
            " dense_1 (Dense)             (None, 1)                 9         \n",
            "                                                                 \n",
            "=================================================================\n",
            "Total params: 160,881\n",
            "Trainable params: 160,881\n",
            "Non-trainable params: 0\n",
            "_________________________________________________________________\n"
          ]
        }
      ],
      "source": [
        "vocab_size = 10000    # 어휘 사전의 크기입니다(10,000개의 단어)\n",
        "word_vector_dim = 16  # 워드 벡터의 차원 수 (변경 가능한 하이퍼파라미터) # 깊을수록 과적합 / 연산량 증가 \n",
        "\n",
        "# model 설계 - LSTM\n",
        "\n",
        "model_lstm = tf.keras.Sequential()\n",
        "model_lstm.add(tf.keras.layers.Embedding(vocab_size, word_vector_dim, input_shape=(None,)))\n",
        "model_lstm.add(tf.keras.layers.LSTM(8))   # 가장 널리 쓰이는 RNN인 LSTM 레이어를 사용하였습니다. 이때 LSTM state 벡터의 차원수는 8로 하였습니다. (변경 가능)\n",
        "model_lstm.add(tf.keras.layers.Dense(8, activation='relu'))\n",
        "model_lstm.add(tf.keras.layers.Dense(1, activation='sigmoid'))  # 최종 출력은 긍정/부정을 나타내는 1dim 입니다.\n",
        "\n",
        "\n",
        "model_lstm.summary()"
      ]
    },
    {
      "cell_type": "markdown",
      "source": [
        "* train- test split"
      ],
      "metadata": {
        "id": "bv82XguohH2U"
      }
    },
    {
      "cell_type": "code",
      "source": [
        "from sklearn.model_selection import train_test_split\n",
        "X_train, X_test, y_train, y_test = train_test_split(tensor, \n",
        "                                                    label, \n",
        "                                                    test_size=0.1, \n",
        "                                                    random_state=42)\n",
        "\n",
        "print('X_train 개수: ', len(X_train),', X_test 개수: ', len(X_test))"
      ],
      "metadata": {
        "colab": {
          "base_uri": "https://localhost:8080/"
        },
        "id": "__CNUyqxfwkT",
        "outputId": "e487bea5-3cd4-4b31-db5d-499d39bfa8e9"
      },
      "execution_count": 77,
      "outputs": [
        {
          "output_type": "stream",
          "name": "stdout",
          "text": [
            "X_train 개수:  170145 , X_test 개수:  18905\n"
          ]
        }
      ]
    },
    {
      "cell_type": "markdown",
      "source": [
        "* train_validation 분리"
      ],
      "metadata": {
        "id": "Dv_fyhVZhK87"
      }
    },
    {
      "cell_type": "code",
      "source": [
        "# validation set 20000건 분리\n",
        "X_val = X_train[:20000]   \n",
        "Y_val = y_train[:20000]\n",
        "\n",
        "# validation set을 제외한 나머지 \n",
        "partial_X_train = X_train[20000:]  \n",
        "partial_Y_train = y_train[20000:]\n",
        "\n",
        "print(partial_X_train.shape)\n",
        "print(partial_Y_train.shape)"
      ],
      "metadata": {
        "colab": {
          "base_uri": "https://localhost:8080/"
        },
        "id": "j6AZ1fBpfuQr",
        "outputId": "2dda32e7-bbe9-4b14-810c-6aa9c35b69f0"
      },
      "execution_count": 78,
      "outputs": [
        {
          "output_type": "stream",
          "name": "stdout",
          "text": [
            "(150145, 115)\n",
            "(150145,)\n"
          ]
        }
      ]
    },
    {
      "cell_type": "code",
      "execution_count": 79,
      "metadata": {
        "colab": {
          "base_uri": "https://localhost:8080/"
        },
        "id": "DOsrxYV2mZ9x",
        "outputId": "760464b7-59b5-4f2e-b257-fca96777b7e8"
      },
      "outputs": [
        {
          "output_type": "stream",
          "name": "stdout",
          "text": [
            "Epoch 1/20\n",
            "294/294 [==============================] - 7s 11ms/step - loss: 0.5349 - accuracy: 0.7437 - val_loss: 0.4230 - val_accuracy: 0.8163\n",
            "Epoch 2/20\n",
            "294/294 [==============================] - 3s 9ms/step - loss: 0.4005 - accuracy: 0.8252 - val_loss: 0.4038 - val_accuracy: 0.8202\n",
            "Epoch 3/20\n",
            "294/294 [==============================] - 3s 9ms/step - loss: 0.3796 - accuracy: 0.8350 - val_loss: 0.3925 - val_accuracy: 0.8260\n",
            "Epoch 4/20\n",
            "294/294 [==============================] - 3s 9ms/step - loss: 0.3678 - accuracy: 0.8402 - val_loss: 0.3888 - val_accuracy: 0.8251\n",
            "Epoch 5/20\n",
            "294/294 [==============================] - 3s 9ms/step - loss: 0.3576 - accuracy: 0.8455 - val_loss: 0.3853 - val_accuracy: 0.8267\n",
            "Epoch 6/20\n",
            "294/294 [==============================] - 3s 9ms/step - loss: 0.3482 - accuracy: 0.8494 - val_loss: 0.3830 - val_accuracy: 0.8285\n",
            "Epoch 7/20\n",
            "294/294 [==============================] - 3s 9ms/step - loss: 0.3400 - accuracy: 0.8533 - val_loss: 0.3840 - val_accuracy: 0.8278\n",
            "Epoch 8/20\n",
            "294/294 [==============================] - 3s 9ms/step - loss: 0.3326 - accuracy: 0.8568 - val_loss: 0.3788 - val_accuracy: 0.8299\n",
            "Epoch 9/20\n",
            "294/294 [==============================] - 3s 9ms/step - loss: 0.3239 - accuracy: 0.8610 - val_loss: 0.3811 - val_accuracy: 0.8325\n",
            "Epoch 10/20\n",
            "294/294 [==============================] - 3s 9ms/step - loss: 0.3174 - accuracy: 0.8640 - val_loss: 0.3786 - val_accuracy: 0.8347\n",
            "Epoch 11/20\n",
            "294/294 [==============================] - 3s 9ms/step - loss: 0.3102 - accuracy: 0.8678 - val_loss: 0.3814 - val_accuracy: 0.8357\n",
            "Epoch 12/20\n",
            "294/294 [==============================] - 3s 9ms/step - loss: 0.3033 - accuracy: 0.8712 - val_loss: 0.3763 - val_accuracy: 0.8360\n",
            "Epoch 13/20\n",
            "294/294 [==============================] - 3s 9ms/step - loss: 0.2967 - accuracy: 0.8749 - val_loss: 0.3781 - val_accuracy: 0.8364\n",
            "Epoch 14/20\n",
            "294/294 [==============================] - 3s 9ms/step - loss: 0.2906 - accuracy: 0.8777 - val_loss: 0.3780 - val_accuracy: 0.8374\n",
            "Epoch 15/20\n",
            "294/294 [==============================] - 3s 9ms/step - loss: 0.2859 - accuracy: 0.8802 - val_loss: 0.3743 - val_accuracy: 0.8385\n",
            "Epoch 16/20\n",
            "294/294 [==============================] - 3s 9ms/step - loss: 0.2785 - accuracy: 0.8834 - val_loss: 0.3853 - val_accuracy: 0.8387\n",
            "Epoch 17/20\n",
            "294/294 [==============================] - 3s 10ms/step - loss: 0.2733 - accuracy: 0.8852 - val_loss: 0.3878 - val_accuracy: 0.8385\n",
            "Epoch 18/20\n",
            "294/294 [==============================] - 3s 10ms/step - loss: 0.2676 - accuracy: 0.8886 - val_loss: 0.3954 - val_accuracy: 0.8386\n",
            "Epoch 19/20\n",
            "294/294 [==============================] - 3s 9ms/step - loss: 0.2630 - accuracy: 0.8912 - val_loss: 0.3963 - val_accuracy: 0.8361\n",
            "Epoch 20/20\n",
            "294/294 [==============================] - 3s 9ms/step - loss: 0.2576 - accuracy: 0.8938 - val_loss: 0.3952 - val_accuracy: 0.8370\n"
          ]
        }
      ],
      "source": [
        "model_lstm.compile(optimizer='adam',\n",
        "              loss='binary_crossentropy',\n",
        "              metrics=['accuracy'])\n",
        "              \n",
        "epochs=20  # 몇 epoch를 훈련하면 좋을지 결과를 보면서 바꾸어 봅시다. \n",
        "\n",
        "history = model_lstm.fit(partial_X_train,\n",
        "                    partial_Y_train,\n",
        "                    epochs=epochs,\n",
        "                    batch_size=512,\n",
        "                    validation_data=(X_val, Y_val),\n",
        "                    verbose=1)"
      ]
    },
    {
      "cell_type": "code",
      "source": [
        "results = model_lstm.evaluate(X_test,  y_test, verbose=2)\n",
        "\n",
        "print(results)"
      ],
      "metadata": {
        "colab": {
          "base_uri": "https://localhost:8080/"
        },
        "id": "B5QIPMpy-R24",
        "outputId": "d5407a88-7c54-4896-be81-e9fb67d4f87b"
      },
      "execution_count": 80,
      "outputs": [
        {
          "output_type": "stream",
          "name": "stdout",
          "text": [
            "591/591 - 2s - loss: 0.4009 - accuracy: 0.8363 - 2s/epoch - 4ms/step\n",
            "[0.4009084403514862, 0.8363395929336548]\n"
          ]
        }
      ]
    },
    {
      "cell_type": "markdown",
      "metadata": {
        "id": "FBU5qjzm5i9H"
      },
      "source": [
        "### 6) 성능 향상 - Mecab\n",
        "- Mecab "
      ]
    },
    {
      "cell_type": "code",
      "execution_count": 81,
      "metadata": {
        "colab": {
          "base_uri": "https://localhost:8080/",
          "height": 206
        },
        "id": "MdrLGf5AwEsJ",
        "outputId": "62b123ca-f7e1-4b4a-ee94-12e8b280c97d"
      },
      "outputs": [
        {
          "output_type": "execute_result",
          "data": {
            "text/plain": [
              "         id                                           document  label\n",
              "0   9976970                                아 더빙.. 진짜 짜증나네요 목소리      0\n",
              "1   3819312                  흠...포스터보고 초딩영화줄....오버연기조차 가볍지 않구나      1\n",
              "2  10265843                                  너무재밓었다그래서보는것을추천한다      0\n",
              "3   9045019                      교도소 이야기구먼 ..솔직히 재미는 없다..평점 조정      0\n",
              "4   6483659  사이몬페그의 익살스런 연기가 돋보였던 영화!스파이더맨에서 늙어보이기만 했던 커스틴 ...      1"
            ],
            "text/html": [
              "\n",
              "  <div id=\"df-45880ded-37f2-4a49-bf46-ae9e437deced\">\n",
              "    <div class=\"colab-df-container\">\n",
              "      <div>\n",
              "<style scoped>\n",
              "    .dataframe tbody tr th:only-of-type {\n",
              "        vertical-align: middle;\n",
              "    }\n",
              "\n",
              "    .dataframe tbody tr th {\n",
              "        vertical-align: top;\n",
              "    }\n",
              "\n",
              "    .dataframe thead th {\n",
              "        text-align: right;\n",
              "    }\n",
              "</style>\n",
              "<table border=\"1\" class=\"dataframe\">\n",
              "  <thead>\n",
              "    <tr style=\"text-align: right;\">\n",
              "      <th></th>\n",
              "      <th>id</th>\n",
              "      <th>document</th>\n",
              "      <th>label</th>\n",
              "    </tr>\n",
              "  </thead>\n",
              "  <tbody>\n",
              "    <tr>\n",
              "      <th>0</th>\n",
              "      <td>9976970</td>\n",
              "      <td>아 더빙.. 진짜 짜증나네요 목소리</td>\n",
              "      <td>0</td>\n",
              "    </tr>\n",
              "    <tr>\n",
              "      <th>1</th>\n",
              "      <td>3819312</td>\n",
              "      <td>흠...포스터보고 초딩영화줄....오버연기조차 가볍지 않구나</td>\n",
              "      <td>1</td>\n",
              "    </tr>\n",
              "    <tr>\n",
              "      <th>2</th>\n",
              "      <td>10265843</td>\n",
              "      <td>너무재밓었다그래서보는것을추천한다</td>\n",
              "      <td>0</td>\n",
              "    </tr>\n",
              "    <tr>\n",
              "      <th>3</th>\n",
              "      <td>9045019</td>\n",
              "      <td>교도소 이야기구먼 ..솔직히 재미는 없다..평점 조정</td>\n",
              "      <td>0</td>\n",
              "    </tr>\n",
              "    <tr>\n",
              "      <th>4</th>\n",
              "      <td>6483659</td>\n",
              "      <td>사이몬페그의 익살스런 연기가 돋보였던 영화!스파이더맨에서 늙어보이기만 했던 커스틴 ...</td>\n",
              "      <td>1</td>\n",
              "    </tr>\n",
              "  </tbody>\n",
              "</table>\n",
              "</div>\n",
              "      <button class=\"colab-df-convert\" onclick=\"convertToInteractive('df-45880ded-37f2-4a49-bf46-ae9e437deced')\"\n",
              "              title=\"Convert this dataframe to an interactive table.\"\n",
              "              style=\"display:none;\">\n",
              "        \n",
              "  <svg xmlns=\"http://www.w3.org/2000/svg\" height=\"24px\"viewBox=\"0 0 24 24\"\n",
              "       width=\"24px\">\n",
              "    <path d=\"M0 0h24v24H0V0z\" fill=\"none\"/>\n",
              "    <path d=\"M18.56 5.44l.94 2.06.94-2.06 2.06-.94-2.06-.94-.94-2.06-.94 2.06-2.06.94zm-11 1L8.5 8.5l.94-2.06 2.06-.94-2.06-.94L8.5 2.5l-.94 2.06-2.06.94zm10 10l.94 2.06.94-2.06 2.06-.94-2.06-.94-.94-2.06-.94 2.06-2.06.94z\"/><path d=\"M17.41 7.96l-1.37-1.37c-.4-.4-.92-.59-1.43-.59-.52 0-1.04.2-1.43.59L10.3 9.45l-7.72 7.72c-.78.78-.78 2.05 0 2.83L4 21.41c.39.39.9.59 1.41.59.51 0 1.02-.2 1.41-.59l7.78-7.78 2.81-2.81c.8-.78.8-2.07 0-2.86zM5.41 20L4 18.59l7.72-7.72 1.47 1.35L5.41 20z\"/>\n",
              "  </svg>\n",
              "      </button>\n",
              "      \n",
              "  <style>\n",
              "    .colab-df-container {\n",
              "      display:flex;\n",
              "      flex-wrap:wrap;\n",
              "      gap: 12px;\n",
              "    }\n",
              "\n",
              "    .colab-df-convert {\n",
              "      background-color: #E8F0FE;\n",
              "      border: none;\n",
              "      border-radius: 50%;\n",
              "      cursor: pointer;\n",
              "      display: none;\n",
              "      fill: #1967D2;\n",
              "      height: 32px;\n",
              "      padding: 0 0 0 0;\n",
              "      width: 32px;\n",
              "    }\n",
              "\n",
              "    .colab-df-convert:hover {\n",
              "      background-color: #E2EBFA;\n",
              "      box-shadow: 0px 1px 2px rgba(60, 64, 67, 0.3), 0px 1px 3px 1px rgba(60, 64, 67, 0.15);\n",
              "      fill: #174EA6;\n",
              "    }\n",
              "\n",
              "    [theme=dark] .colab-df-convert {\n",
              "      background-color: #3B4455;\n",
              "      fill: #D2E3FC;\n",
              "    }\n",
              "\n",
              "    [theme=dark] .colab-df-convert:hover {\n",
              "      background-color: #434B5C;\n",
              "      box-shadow: 0px 1px 3px 1px rgba(0, 0, 0, 0.15);\n",
              "      filter: drop-shadow(0px 1px 2px rgba(0, 0, 0, 0.3));\n",
              "      fill: #FFFFFF;\n",
              "    }\n",
              "  </style>\n",
              "\n",
              "      <script>\n",
              "        const buttonEl =\n",
              "          document.querySelector('#df-45880ded-37f2-4a49-bf46-ae9e437deced button.colab-df-convert');\n",
              "        buttonEl.style.display =\n",
              "          google.colab.kernel.accessAllowed ? 'block' : 'none';\n",
              "\n",
              "        async function convertToInteractive(key) {\n",
              "          const element = document.querySelector('#df-45880ded-37f2-4a49-bf46-ae9e437deced');\n",
              "          const dataTable =\n",
              "            await google.colab.kernel.invokeFunction('convertToInteractive',\n",
              "                                                     [key], {});\n",
              "          if (!dataTable) return;\n",
              "\n",
              "          const docLinkHtml = 'Like what you see? Visit the ' +\n",
              "            '<a target=\"_blank\" href=https://colab.research.google.com/notebooks/data_table.ipynb>data table notebook</a>'\n",
              "            + ' to learn more about interactive tables.';\n",
              "          element.innerHTML = '';\n",
              "          dataTable['output_type'] = 'display_data';\n",
              "          await google.colab.output.renderOutput(dataTable, element);\n",
              "          const docLink = document.createElement('div');\n",
              "          docLink.innerHTML = docLinkHtml;\n",
              "          element.appendChild(docLink);\n",
              "        }\n",
              "      </script>\n",
              "    </div>\n",
              "  </div>\n",
              "  "
            ]
          },
          "metadata": {},
          "execution_count": 81
        }
      ],
      "source": [
        "import pandas as pd\n",
        "\n",
        "# 데이터를 읽어봅시다. \n",
        "train_data = pd.read_table('/content/drive/MyDrive/Aiffel_data/Exp_Stage/Exp08_NLP2/ratings_train.txt')\n",
        "test_data = pd.read_table('/content/drive/MyDrive/Aiffel_data/Exp_Stage/Exp08_NLP2/ratings_train.txt')\n",
        "\n",
        "train_data.head()"
      ]
    },
    {
      "cell_type": "code",
      "source": [
        "len(test_data)"
      ],
      "metadata": {
        "colab": {
          "base_uri": "https://localhost:8080/"
        },
        "id": "0JMj3K9UEjUF",
        "outputId": "49355448-74fd-4513-972d-8595dd057917"
      },
      "execution_count": 82,
      "outputs": [
        {
          "output_type": "execute_result",
          "data": {
            "text/plain": [
              "150000"
            ]
          },
          "metadata": {},
          "execution_count": 82
        }
      ]
    },
    {
      "cell_type": "code",
      "source": [
        "len(train_data)"
      ],
      "metadata": {
        "colab": {
          "base_uri": "https://localhost:8080/"
        },
        "id": "Rg2Ps-qrEmJU",
        "outputId": "abcf0c63-e56e-4331-f6e8-96a6d3a76fd5"
      },
      "execution_count": 83,
      "outputs": [
        {
          "output_type": "execute_result",
          "data": {
            "text/plain": [
              "150000"
            ]
          },
          "metadata": {},
          "execution_count": 83
        }
      ]
    },
    {
      "cell_type": "code",
      "source": [
        "from konlpy.tag import Mecab\n",
        "import numpy as np\n",
        "from collections import Counter\n",
        "import tensorflow as tf\n",
        "\n",
        "tokenizer = Mecab()\n",
        "stopwords = ['의','가','이','은','들','는','좀','잘','걍','과','도','를','으로','자','에','와','한','하다']\n",
        "\n",
        "def load_data(train_data, test_data, num_words=10000):\n",
        "    train_data.drop_duplicates(subset=['document'], inplace=True)\n",
        "    train_data = train_data.dropna(how = 'any') \n",
        "    test_data.drop_duplicates(subset=['document'], inplace=True)\n",
        "    test_data = test_data.dropna(how = 'any') \n",
        "    \n",
        "    X_train = []\n",
        "    for sentence in train_data['document']:\n",
        "        temp_X = tokenizer.morphs(sentence) # 토큰화\n",
        "        temp_X = [word for word in temp_X if not word in stopwords] # 불용어 제거\n",
        "        X_train.append(temp_X)\n",
        "\n",
        "    X_test = []\n",
        "    for sentence in test_data['document']:\n",
        "        temp_X = tokenizer.morphs(sentence) # 토큰화\n",
        "        temp_X = [word for word in temp_X if not word in stopwords] # 불용어 제거\n",
        "        X_test.append(temp_X)\n",
        "    \n",
        "    words = np.concatenate(X_train).tolist()\n",
        "    counter = Counter(words)\n",
        "    counter = counter.most_common(num_words-4)\n",
        "    vocab = ['<PAD>', '<BOS>', '<UNK>', '<UNUSED>'] + [key for key, _ in counter]\n",
        "    word_to_index = {word:index for index, word in enumerate(vocab)}\n",
        "        \n",
        "    def wordlist_to_indexlist(wordlist):\n",
        "        return [word_to_index[word] if word in word_to_index else word_to_index['<UNK>'] for word in wordlist]\n",
        "        \n",
        "    X_train = list(map(wordlist_to_indexlist, X_train))\n",
        "    X_test = list(map(wordlist_to_indexlist, X_test))\n",
        "        \n",
        "    return X_train, np.array(list(train_data['label'])), X_test, np.array(list(test_data['label'])), word_to_index\n",
        "    \n",
        "X_train, y_train, X_test, y_test, word_to_index = load_data(train_data, test_data) \n"
      ],
      "metadata": {
        "id": "m6rY_t_IesAS"
      },
      "execution_count": 84,
      "outputs": []
    },
    {
      "cell_type": "code",
      "source": [
        "# 문장 1개를 활용할 딕셔너리와 함께 주면, 단어 인덱스 리스트 벡터로 변환해 주는 함수입니다. \n",
        "# 단, 모든 문장은 <BOS>로 시작하는 것으로 합니다. \n",
        "def get_encoded_sentence(sentence, word_to_index):\n",
        "    return [word_to_index['<BOS>']]+[word_to_index[word] if word in word_to_index else word_to_index['<UNK>'] for word in sentence.split()]\n",
        "\n",
        "# 여러 개의 문장 리스트를 한꺼번에 단어 인덱스 리스트 벡터로 encode해 주는 함수입니다. \n",
        "def get_encoded_sentences(sentences, word_to_index):\n",
        "    return [get_encoded_sentence(sentence, word_to_index) for sentence in sentences]\n",
        "\n",
        "# 숫자 벡터로 encode된 문장을 원래대로 decode하는 함수입니다. \n",
        "def get_decoded_sentence(encoded_sentence, index_to_word):\n",
        "    return ' '.join(index_to_word[index] if index in index_to_word else '<UNK>' for index in encoded_sentence[1:])  #[1:]를 통해 <BOS>를 제외\n",
        "\n",
        "# 여러 개의 숫자 벡터로 encode된 문장을 한꺼번에 원래대로 decode하는 함수입니다. \n",
        "def get_decoded_sentences(encoded_sentences, index_to_word):\n",
        "    return [get_decoded_sentence(encoded_sentence, index_to_word) for encoded_sentence in encoded_sentences]"
      ],
      "metadata": {
        "id": "AyBDprPBezXX"
      },
      "execution_count": 85,
      "outputs": []
    },
    {
      "cell_type": "code",
      "source": [
        "# 데이터셋 내 문장 길이 분포\n",
        "# 적절한 최대 문장 길이 지정 \n",
        "\n",
        "\n",
        "total_data_text = list(X_train) + list(X_test)\n",
        "\n",
        "# 텍스트데이터 문장길이의 리스트를 생성한 후\n",
        "num_tokens = [len(tokens) for tokens in total_data_text]\n",
        "num_tokens = np.array(num_tokens)\n",
        "num_tokens_count = np.bincount(num_tokens)\n",
        "\n",
        "# 문장길이의 평균값, 최대값, 표준편차를 계산해 본다.\n",
        "print(np.sum(num_tokens))\n",
        "\n",
        "print('문장길이 평균 : ', np.mean(num_tokens))\n",
        "print('문장길이 최대 : ', np.max(num_tokens))\n",
        "print('문장길이 표준편차 : ', np.std(num_tokens))\n",
        "print('\\n')\n",
        "\n",
        "# 예를들어, 최대 길이를 (평균 + 2.5*표준편차)로 한다면,  \n",
        "max_tokens = np.mean(num_tokens) + 2.5* np.std(num_tokens)\n",
        "maxlen = int(max_tokens)\n",
        "print('pad_sequences maxlen : ', maxlen)\n",
        "print('전체 문장의 {}%가 maxlen 설정값 이내에 포함됩니다. '.format(np.sum(num_tokens < max_tokens) / len(num_tokens)))\n",
        "\n",
        "import matplotlib.pyplot as plt\n",
        "import seaborn as sns\n",
        "\n",
        "plt.figure(figsize= (10,5))\n",
        "sns.histplot(num_tokens)\n",
        "plt.show()"
      ],
      "metadata": {
        "colab": {
          "base_uri": "https://localhost:8080/",
          "height": 463
        },
        "id": "Hq8owcZciB-M",
        "outputId": "530af269-c842-417b-d833-3974513537ce"
      },
      "execution_count": 86,
      "outputs": [
        {
          "output_type": "stream",
          "name": "stdout",
          "text": [
            "4672470\n",
            "문장길이 평균 :  15.981687211831826\n",
            "문장길이 최대 :  116\n",
            "문장길이 표준편차 :  12.824686694216712\n",
            "\n",
            "\n",
            "pad_sequences maxlen :  48\n",
            "전체 문장의 0.9549465734495355%가 maxlen 설정값 이내에 포함됩니다. \n"
          ]
        },
        {
          "output_type": "display_data",
          "data": {
            "text/plain": [
              "<Figure size 720x360 with 1 Axes>"
            ],
            "image/png": "[encoded data removed]"
          },
          "metadata": {
            "needs_background": "light"
          }
        }
      ]
    },
    {
      "cell_type": "code",
      "source": [
        "# 패딩 추가\n",
        "import tensorflow as tf\n",
        "X_train = tf.keras.preprocessing.sequence.pad_sequences(X_train,\n",
        "                                                        value=word_to_index[\"<PAD>\"],\n",
        "                                                        padding='post', # 혹은 'pre'\n",
        "                                                        maxlen=maxlen)\n",
        "\n",
        "X_test = tf.keras.preprocessing.sequence.pad_sequences(X_test,\n",
        "                                                       value=word_to_index[\"<PAD>\"],\n",
        "                                                       padding='post', # 혹은 'pre'\n",
        "                                                       maxlen=maxlen)\n",
        "\n",
        "print(X_train.shape)"
      ],
      "metadata": {
        "colab": {
          "base_uri": "https://localhost:8080/"
        },
        "id": "SacflBACfKLb",
        "outputId": "007ee158-9c97-4b4a-a7be-f2d1720890f7"
      },
      "execution_count": 87,
      "outputs": [
        {
          "output_type": "stream",
          "name": "stdout",
          "text": [
            "(146182, 48)\n"
          ]
        }
      ]
    },
    {
      "cell_type": "code",
      "source": [
        "vocab_size = 10000    # 어휘 사전의 크기입니다(10,000개의 단어)\n",
        "word_vector_dim = 16  # 워드 벡터의 차원 수 (변경 가능한 하이퍼파라미터) # 깊을수록 과적합 / 연산량 증가 \n",
        "\n",
        "# model 설계 - LSTM\n",
        "\n",
        "model_lstm = tf.keras.Sequential()\n",
        "model_lstm.add(tf.keras.layers.Embedding(vocab_size, word_vector_dim, input_shape=(None,)))\n",
        "model_lstm.add(tf.keras.layers.LSTM(8))   # 가장 널리 쓰이는 RNN인 LSTM 레이어를 사용하였습니다. 이때 LSTM state 벡터의 차원수는 8로 하였습니다. (변경 가능)\n",
        "model_lstm.add(tf.keras.layers.Dense(8, activation='relu'))\n",
        "model_lstm.add(tf.keras.layers.Dense(1, activation='sigmoid'))  # 최종 출력은 긍정/부정을 나타내는 1dim 입니다.\n",
        "\n",
        "\n",
        "model_lstm.summary()"
      ],
      "metadata": {
        "colab": {
          "base_uri": "https://localhost:8080/"
        },
        "id": "lcUrhnrufMwM",
        "outputId": "f7a49a2b-14dc-4f03-ea4d-f30fad52fd29"
      },
      "execution_count": 88,
      "outputs": [
        {
          "output_type": "stream",
          "name": "stdout",
          "text": [
            "Model: \"sequential_1\"\n",
            "_________________________________________________________________\n",
            " Layer (type)                Output Shape              Param #   \n",
            "=================================================================\n",
            " embedding_1 (Embedding)     (None, None, 16)          160000    \n",
            "                                                                 \n",
            " lstm_1 (LSTM)               (None, 8)                 800       \n",
            "                                                                 \n",
            " dense_2 (Dense)             (None, 8)                 72        \n",
            "                                                                 \n",
            " dense_3 (Dense)             (None, 1)                 9         \n",
            "                                                                 \n",
            "=================================================================\n",
            "Total params: 160,881\n",
            "Trainable params: 160,881\n",
            "Non-trainable params: 0\n",
            "_________________________________________________________________\n"
          ]
        }
      ]
    },
    {
      "cell_type": "code",
      "source": [
        "# validation set 20000건 분리\n",
        "X_val = X_train[:20000]   \n",
        "Y_val = y_train[:20000]\n",
        "\n",
        "# validation set을 제외한 나머지 \n",
        "partial_X_train = X_train[20000:]  \n",
        "partial_Y_train = y_train[20000:]\n",
        "\n",
        "print(partial_X_train.shape)\n",
        "print(partial_Y_train.shape)"
      ],
      "metadata": {
        "colab": {
          "base_uri": "https://localhost:8080/"
        },
        "id": "98qMrl_OfRKs",
        "outputId": "00fb9b91-7035-4d79-82bb-370a78696935"
      },
      "execution_count": 89,
      "outputs": [
        {
          "output_type": "stream",
          "name": "stdout",
          "text": [
            "(126182, 48)\n",
            "(126182,)\n"
          ]
        }
      ]
    },
    {
      "cell_type": "code",
      "source": [
        "model_lstm.compile(optimizer='adam',\n",
        "              loss='binary_crossentropy',\n",
        "              metrics=['accuracy'])\n",
        "              \n",
        "epochs=20  # 몇 epoch를 훈련하면 좋을지 결과를 보면서 바꾸어 봅시다. \n",
        "\n",
        "history = model_lstm.fit(partial_X_train,\n",
        "                    partial_Y_train,\n",
        "                    epochs=epochs,\n",
        "                    batch_size=512,\n",
        "                    validation_data=(X_val, Y_val),\n",
        "                    verbose=1)"
      ],
      "metadata": {
        "colab": {
          "base_uri": "https://localhost:8080/"
        },
        "id": "nRvEp-TvfWaZ",
        "outputId": "cfdd4774-8ad0-4716-b4a3-e52b60080d79"
      },
      "execution_count": 90,
      "outputs": [
        {
          "output_type": "stream",
          "name": "stdout",
          "text": [
            "Epoch 1/20\n",
            "247/247 [==============================] - 4s 10ms/step - loss: 0.5742 - accuracy: 0.6577 - val_loss: 0.3824 - val_accuracy: 0.8398\n",
            "Epoch 2/20\n",
            "247/247 [==============================] - 2s 8ms/step - loss: 0.3545 - accuracy: 0.8496 - val_loss: 0.3511 - val_accuracy: 0.8458\n",
            "Epoch 3/20\n",
            "247/247 [==============================] - 2s 8ms/step - loss: 0.3199 - accuracy: 0.8659 - val_loss: 0.3500 - val_accuracy: 0.8482\n",
            "Epoch 4/20\n",
            "247/247 [==============================] - 2s 8ms/step - loss: 0.3037 - accuracy: 0.8704 - val_loss: 0.3456 - val_accuracy: 0.8500\n",
            "Epoch 5/20\n",
            "247/247 [==============================] - 2s 8ms/step - loss: 0.2909 - accuracy: 0.8745 - val_loss: 0.3552 - val_accuracy: 0.8479\n",
            "Epoch 6/20\n",
            "247/247 [==============================] - 2s 7ms/step - loss: 0.2795 - accuracy: 0.8767 - val_loss: 0.3717 - val_accuracy: 0.8466\n",
            "Epoch 7/20\n",
            "247/247 [==============================] - 2s 8ms/step - loss: 0.2723 - accuracy: 0.8779 - val_loss: 0.3802 - val_accuracy: 0.8465\n",
            "Epoch 8/20\n",
            "247/247 [==============================] - 2s 7ms/step - loss: 0.2624 - accuracy: 0.8811 - val_loss: 0.3865 - val_accuracy: 0.8461\n",
            "Epoch 9/20\n",
            "247/247 [==============================] - 2s 7ms/step - loss: 0.2580 - accuracy: 0.8819 - val_loss: 0.4063 - val_accuracy: 0.8457\n",
            "Epoch 10/20\n",
            "247/247 [==============================] - 2s 7ms/step - loss: 0.2502 - accuracy: 0.8850 - val_loss: 0.4047 - val_accuracy: 0.8448\n",
            "Epoch 11/20\n",
            "247/247 [==============================] - 2s 7ms/step - loss: 0.2448 - accuracy: 0.8866 - val_loss: 0.4254 - val_accuracy: 0.8414\n",
            "Epoch 12/20\n",
            "247/247 [==============================] - 2s 7ms/step - loss: 0.2400 - accuracy: 0.8887 - val_loss: 0.4302 - val_accuracy: 0.8440\n",
            "Epoch 13/20\n",
            "247/247 [==============================] - 2s 7ms/step - loss: 0.2353 - accuracy: 0.8896 - val_loss: 0.4275 - val_accuracy: 0.8394\n",
            "Epoch 14/20\n",
            "247/247 [==============================] - 2s 8ms/step - loss: 0.2317 - accuracy: 0.8906 - val_loss: 0.4428 - val_accuracy: 0.8431\n",
            "Epoch 15/20\n",
            "247/247 [==============================] - 2s 7ms/step - loss: 0.2268 - accuracy: 0.8932 - val_loss: 0.4531 - val_accuracy: 0.8449\n",
            "Epoch 16/20\n",
            "247/247 [==============================] - 2s 7ms/step - loss: 0.2227 - accuracy: 0.8940 - val_loss: 0.4490 - val_accuracy: 0.8412\n",
            "Epoch 17/20\n",
            "247/247 [==============================] - 2s 7ms/step - loss: 0.2194 - accuracy: 0.8952 - val_loss: 0.4704 - val_accuracy: 0.8442\n",
            "Epoch 18/20\n",
            "247/247 [==============================] - 2s 8ms/step - loss: 0.2136 - accuracy: 0.8971 - val_loss: 0.4730 - val_accuracy: 0.8365\n",
            "Epoch 19/20\n",
            "247/247 [==============================] - 3s 10ms/step - loss: 0.2109 - accuracy: 0.8982 - val_loss: 0.4779 - val_accuracy: 0.8404\n",
            "Epoch 20/20\n",
            "247/247 [==============================] - 2s 9ms/step - loss: 0.2071 - accuracy: 0.9001 - val_loss: 0.4931 - val_accuracy: 0.8396\n"
          ]
        }
      ]
    },
    {
      "cell_type": "code",
      "source": [
        "results = model_lstm.evaluate(X_test,  y_test, verbose=2)\n",
        "\n",
        "print(results)"
      ],
      "metadata": {
        "colab": {
          "base_uri": "https://localhost:8080/"
        },
        "id": "GDjTOI3DfbP-",
        "outputId": "b23983bd-d215-400c-f520-5a3bbed388ee"
      },
      "execution_count": 91,
      "outputs": [
        {
          "output_type": "stream",
          "name": "stdout",
          "text": [
            "4569/4569 - 12s - loss: 0.2315 - accuracy: 0.8978 - 12s/epoch - 3ms/step\n",
            "[0.23152075707912445, 0.8978260159492493]\n"
          ]
        }
      ]
    },
    {
      "cell_type": "markdown",
      "source": [
        "# 비교 \n",
        "Sentencepiece : loss: 0.4009 - accuracy: 0.8363 \n",
        "Mecab : 4569/4569 - 12s - loss: 0.2315 - accuracy: 0.8978 \n",
        "\n",
        "Accuracy 측면에서 Mecab이 6%가량 더 높은 정확도를 출력하였다.  "
      ],
      "metadata": {
        "id": "Xi70xWrLIA6D"
      }
    },
    {
      "cell_type": "markdown",
      "metadata": {
        "id": "m-5vmkVdbapR"
      },
      "source": [
        "# 회고\n",
        "\n",
        "### - 이번 프로젝트에서 **어려웠던 점**.\n",
        "\n",
        "* data형식을 dataframe 에서 tensor로 바꾸기 \n",
        "\n",
        "### - 프로젝트를 진행하면서 **알아낸 점** 혹은 **아직 모호한 점**.\n",
        "\n",
        "\n",
        "### - 루브릭 평가 지표를 맞추기 위해 **시도한 것들**.\n",
        "\n",
        "첫번째 시도 accuracy 50 초반\n",
        "\n",
        "   -padding = pre 로 변경 \n",
        "   -train-validation-test : 8:1:1\n",
        "   -epoch = 20\n",
        "\n",
        "두번째 시도 accurayc 83\n",
        "\n",
        "\n",
        ">#### **루브릭평가 지표**\n",
        ">|번호|평가문항|상세기준|\n",
        ">|:---:|---|---|\n",
        ">|1| SentencePiece를 이용하여 모델을 만들기까지의 과정이 정상적으로 진행되었는가?|**코퍼스 분석, 전처리, SentencePiece 적용, 토크나이저 구현 및 동작**이 빠짐없이 진행되었다.|\n",
        ">|2|SentencePiece를 통해 만든 Tokenizer가 자연어처리 모델과 결합하여 동작하는가?| SentencePiece 토크나이저가 적용된 **Text Classifier 모델이 정상적으로 수렴하여 80% 이상의 test accuracy**가 확인되었다.|\n",
        ">|3|SentencePiece의 **성능을 다각도로 비교분석**하였는가?|SentencePiece 토크나이저를 활용했을 때의 성능을 **다른 토크나이저 혹은 SentencePiece의 다른 옵션의 경우와 비교하여 분석**을 체계적으로 진행하였다.|\n",
        "\n",
        "\n",
        "\n",
        "### - **자기 다짐**\n",
        "-판다스 문법 다시 보기 \n",
        "\n",
        "-데이터 전처리 통일 유의 하기 ! \n",
        "\n",
        "\n",
        "\n"
      ]
    },
    {
      "cell_type": "code",
      "source": [],
      "metadata": {
        "id": "G0pSYZpDH-B_"
      },
      "execution_count": null,
      "outputs": []
    }
  ],
  "metadata": {
    "accelerator": "GPU",
    "colab": {
      "collapsed_sections": [],
      "provenance": []
    },
    "gpuClass": "standard",
    "kernelspec": {
      "display_name": "Python 3",
      "name": "python3"
    },
    "language_info": {
      "name": "python"
    }
  },
  "nbformat": 4,
  "nbformat_minor": 0
}