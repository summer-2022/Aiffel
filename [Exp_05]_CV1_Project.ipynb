{
  "nbformat": 4,
  "nbformat_minor": 0,
  "metadata": {
    "colab": {
      "name": "[Exp-05].CV1_Project.ipynb",
      "provenance": [],
      "collapsed_sections": []
    },
    "kernelspec": {
      "name": "python3",
      "display_name": "Python 3"
    },
    "language_info": {
      "name": "python"
    },
    "accelerator": "GPU",
    "gpuClass": "standard"
  },
  "cells": [
    {
      "cell_type": "markdown",
      "source": [
        "# 05.가위바위보 CV Task\n",
        "\n",
        "### 목차 \n",
        "\n",
        "\n",
        "-  Project1. rock_scissor_paper : 가위바위보 분류\n",
        "\n",
        "    - Step (0) 필요한 모듈 import하기\n",
        "    - Step (1) 데이터 준비\n",
        "   \n",
        "    1)데이터 불러오기\n",
        "\n",
        "    2)resize\n",
        "\n",
        "    3)mnist.load_data()\n",
        "\n",
        "    - Step (2) 딥러닝 네트워크 설계\n",
        "    - Step (3) 딥러닝 네트워크 학습\n",
        "    - Step (4) 테스트\n",
        "    - Step (5) 네트워크 향상\n",
        "\n",
        "\n",
        "\n",
        "\n",
        "회고"
      ],
      "metadata": {
        "id": "RDgIO49n56UB"
      }
    },
    {
      "cell_type": "markdown",
      "source": [
        "# 1.데이터 준비 "
      ],
      "metadata": {
        "id": "sNPE6W116EtF"
      }
    },
    {
      "cell_type": "code",
      "source": [
        "# 라이브러리 버전 확인 \n",
        "\n",
        "import tensorflow as tf\n",
        "import numpy as np\n",
        "import matplotlib.pyplot as plt\n",
        "\n",
        "print(tf.__version__)\n",
        "print(np.__version__)"
      ],
      "metadata": {
        "colab": {
          "base_uri": "https://localhost:8080/"
        },
        "id": "F0yrqQQI5-54",
        "outputId": "e5049939-3914-406e-c72d-084edebdeba3"
      },
      "execution_count": 1,
      "outputs": [
        {
          "output_type": "stream",
          "name": "stdout",
          "text": [
            "2.8.2\n",
            "1.21.6\n"
          ]
        }
      ]
    },
    {
      "cell_type": "code",
      "source": [
        "from PIL import Image\n",
        "import glob\n",
        "import os\n",
        "\n",
        "print(\"PIL 라이브러리 import 완료!\")"
      ],
      "metadata": {
        "colab": {
          "base_uri": "https://localhost:8080/"
        },
        "id": "J8kAislARjpW",
        "outputId": "f3fc37b2-a57c-4c3c-e75f-d741ddd40a4d"
      },
      "execution_count": 2,
      "outputs": [
        {
          "output_type": "stream",
          "name": "stdout",
          "text": [
            "PIL 라이브러리 import 완료!\n"
          ]
        }
      ]
    },
    {
      "cell_type": "code",
      "source": [
        "## 코랩 이미지 압축 풀기 \n",
        "  # %cd 압축을 풀 경로\n",
        "  # !unzip -qq \"압축파일 Path\"\n",
        "\n",
        "## scissor\n",
        "\n",
        "# %cd /content/drive/MyDrive/Aiffel_data/Exp5/scissor\n",
        "\n",
        "# !unzip -qq \"/content/drive/MyDrive/Aiffel_data/Exp5/scissor.zip\""
      ],
      "metadata": {
        "id": "Wu6AEZ-FSeLw"
      },
      "execution_count": 3,
      "outputs": []
    },
    {
      "cell_type": "code",
      "source": [
        "## paper\n",
        "\n",
        "# %cd /content/drive/MyDrive/Aiffel_data/Exp5/paper\n",
        "\n",
        "# !unzip -qq \"/content/drive/MyDrive/Aiffel_data/Exp5/paper.zip\""
      ],
      "metadata": {
        "id": "exHTq3HzVeS4"
      },
      "execution_count": 4,
      "outputs": []
    },
    {
      "cell_type": "code",
      "source": [
        "# ## rock\n",
        "\n",
        "# %cd /content/drive/MyDrive/Aiffel_data/Exp5/rock\n",
        "# !unzip -qq \"/content/drive/MyDrive/Aiffel_data/Exp5/rock.zip\""
      ],
      "metadata": {
        "id": "jPERSQ5TVmYi"
      },
      "execution_count": 5,
      "outputs": []
    },
    {
      "cell_type": "code",
      "source": [
        "## 코랩 파일 여러개 삭제 \n",
        "#[os.remove(f) for f in glob.glob(\"/content/drive/MyDrive/Aiffel_data/Exp5/*.jpg\")]"
      ],
      "metadata": {
        "id": "V6xfGSjDTYbN"
      },
      "execution_count": 6,
      "outputs": []
    },
    {
      "cell_type": "code",
      "source": [
        "# 코드 나눠 보기 \n",
        "type(glob.glob(\"/content/drive/MyDrive/Aiffel_data/Exp5/*.jpg\"))"
      ],
      "metadata": {
        "colab": {
          "base_uri": "https://localhost:8080/"
        },
        "id": "lor8XsU3T-m3",
        "outputId": "e6bef8f6-47e1-4a93-c2b5-1f887ff57af1"
      },
      "execution_count": 7,
      "outputs": [
        {
          "output_type": "execute_result",
          "data": {
            "text/plain": [
              "list"
            ]
          },
          "metadata": {},
          "execution_count": 7
        }
      ]
    },
    {
      "cell_type": "code",
      "source": [
        "##5. 데이터 불러오기 + Resize\n",
        "\n",
        "# 가위 이미지\n",
        "\n",
        "def resize_images(img_path):\n",
        "\timages=glob.glob(img_path + \"/*.jpg\")  \n",
        "    \n",
        "\tprint(len(images), \" images to be resized.\")\n",
        " \n",
        "    # 파일마다 모두 28x28 사이즈로 바꾸어 저장합니다.\n",
        "\ttarget_size=(28,28)\n",
        "\tfor img in images:\n",
        "\t\told_img=Image.open(img)\n",
        "\t\tnew_img=old_img.resize(target_size,Image.ANTIALIAS)\n",
        "\t\tnew_img.save(img, \"JPEG\")\n",
        "    \n",
        "\tprint(len(images), \" images resized.\")\n",
        "\t\n",
        "# 가위 이미지가 저장된 디렉토리 아래의 모든 jpg 파일을 읽어들여서\n",
        "\n",
        "# image_dir_path = os.getenv('HOME') + \"/content/drive/MyDrive/Aiffel_data/Exp5/scissor\"\n",
        "image_dir_path1 = '/content/drive/MyDrive/Aiffel_data/Exp5/train/S/kr_scissor'\n",
        "image_dir_path2 = '/content/drive/MyDrive/Aiffel_data/Exp5/train/S/scissor'\n",
        "image_dir_path3 = '/content/drive/MyDrive/Aiffel_data/Exp5/train/S/th_scissor'\n",
        "image_dir_path4 = '/content/drive/MyDrive/Aiffel_data/Exp5/train/S/yh_scissor'\n",
        "# print(os.getenv('HOME'))\n",
        "resize_images(image_dir_path1)\n",
        "resize_images(image_dir_path2)\n",
        "resize_images(image_dir_path3)\n",
        "resize_images(image_dir_path4)             \n",
        "\n",
        "print(\"가위 이미지 resize 완료!\")\n"
      ],
      "metadata": {
        "colab": {
          "base_uri": "https://localhost:8080/"
        },
        "id": "7qVJdQCpYjm8",
        "outputId": "5e1b943f-0533-41d1-f33b-c81f9c407cac"
      },
      "execution_count": 8,
      "outputs": [
        {
          "output_type": "stream",
          "name": "stdout",
          "text": [
            "100  images to be resized.\n",
            "100  images resized.\n",
            "100  images to be resized.\n",
            "100  images resized.\n",
            "203  images to be resized.\n",
            "203  images resized.\n",
            "100  images to be resized.\n",
            "100  images resized.\n",
            "가위 이미지 resize 완료!\n"
          ]
        }
      ]
    },
    {
      "cell_type": "code",
      "source": [
        "# 바위 이미지가 저장된 디렉토리 아래의 모든 jpg 파일을 읽어들여서\n",
        "image_dir_path1 = '/content/drive/MyDrive/Aiffel_data/Exp5/train/R/kr_rock'\n",
        "image_dir_path2 = '/content/drive/MyDrive/Aiffel_data/Exp5/train/R/rock'\n",
        "image_dir_path3 = '/content/drive/MyDrive/Aiffel_data/Exp5/train/R/th_rock'\n",
        "image_dir_path4 = '/content/drive/MyDrive/Aiffel_data/Exp5/train/R/yh_rock'\n",
        "\n",
        "# 파일마다 모두 28x28 사이즈로 바꾸어 저장합니다.\n",
        "resize_images(image_dir_path1)\n",
        "resize_images(image_dir_path2)\n",
        "resize_images(image_dir_path3)\n",
        "resize_images(image_dir_path4) \n",
        "\n",
        "print(\"바위 이미지 resize 완료!\")"
      ],
      "metadata": {
        "colab": {
          "base_uri": "https://localhost:8080/"
        },
        "id": "apVcSEIFZKHw",
        "outputId": "db81e9b0-a0e5-4c02-8a7a-00b5d0ee21ba"
      },
      "execution_count": 9,
      "outputs": [
        {
          "output_type": "stream",
          "name": "stdout",
          "text": [
            "100  images to be resized.\n",
            "100  images resized.\n",
            "100  images to be resized.\n",
            "100  images resized.\n",
            "210  images to be resized.\n",
            "210  images resized.\n",
            "100  images to be resized.\n",
            "100  images resized.\n",
            "바위 이미지 resize 완료!\n"
          ]
        }
      ]
    },
    {
      "cell_type": "code",
      "source": [
        "# 보 이미지가 저장된 디렉토리 아래의 모든 jpg 파일을 읽어들여서\n",
        "image_dir_path1 = '/content/drive/MyDrive/Aiffel_data/Exp5/train/P/kr_paper'\n",
        "image_dir_path2 = '/content/drive/MyDrive/Aiffel_data/Exp5/train/P/paper'\n",
        "image_dir_path3 = '/content/drive/MyDrive/Aiffel_data/Exp5/train/P/th_paper'\n",
        "image_dir_path4 = '/content/drive/MyDrive/Aiffel_data/Exp5/train/P/yh_paper'\n",
        "\n",
        "\n",
        "# 파일마다 모두 28x28 사이즈로 바꾸어 저장합니다.\n",
        "resize_images(image_dir_path1)\n",
        "resize_images(image_dir_path2)\n",
        "resize_images(image_dir_path3)\n",
        "resize_images(image_dir_path4)\n",
        "\n",
        "print(\"보 이미지 resize 완료!\")"
      ],
      "metadata": {
        "colab": {
          "base_uri": "https://localhost:8080/"
        },
        "id": "3A_0R733pPsd",
        "outputId": "f4164e95-25da-497b-f8cc-2295a0b929bd"
      },
      "execution_count": 10,
      "outputs": [
        {
          "output_type": "stream",
          "name": "stdout",
          "text": [
            "100  images to be resized.\n",
            "100  images resized.\n",
            "100  images to be resized.\n",
            "100  images resized.\n",
            "163  images to be resized.\n",
            "163  images resized.\n",
            "100  images to be resized.\n",
            "100  images resized.\n",
            "보 이미지 resize 완료!\n"
          ]
        }
      ]
    },
    {
      "cell_type": "code",
      "source": [
        "n1, n2, n3, n4 = 5, 3, 3, 3\n",
        "\n",
        "np.zeros(n1*n2*n3*n4,dtype=np.int32).reshape(5,3,3,3)"
      ],
      "metadata": {
        "colab": {
          "base_uri": "https://localhost:8080/"
        },
        "id": "QwxKdHiTuYNw",
        "outputId": "586c6f30-372f-4bf7-d85a-f4dc7e1d04bb"
      },
      "execution_count": 11,
      "outputs": [
        {
          "output_type": "execute_result",
          "data": {
            "text/plain": [
              "array([[[[0, 0, 0],\n",
              "         [0, 0, 0],\n",
              "         [0, 0, 0]],\n",
              "\n",
              "        [[0, 0, 0],\n",
              "         [0, 0, 0],\n",
              "         [0, 0, 0]],\n",
              "\n",
              "        [[0, 0, 0],\n",
              "         [0, 0, 0],\n",
              "         [0, 0, 0]]],\n",
              "\n",
              "\n",
              "       [[[0, 0, 0],\n",
              "         [0, 0, 0],\n",
              "         [0, 0, 0]],\n",
              "\n",
              "        [[0, 0, 0],\n",
              "         [0, 0, 0],\n",
              "         [0, 0, 0]],\n",
              "\n",
              "        [[0, 0, 0],\n",
              "         [0, 0, 0],\n",
              "         [0, 0, 0]]],\n",
              "\n",
              "\n",
              "       [[[0, 0, 0],\n",
              "         [0, 0, 0],\n",
              "         [0, 0, 0]],\n",
              "\n",
              "        [[0, 0, 0],\n",
              "         [0, 0, 0],\n",
              "         [0, 0, 0]],\n",
              "\n",
              "        [[0, 0, 0],\n",
              "         [0, 0, 0],\n",
              "         [0, 0, 0]]],\n",
              "\n",
              "\n",
              "       [[[0, 0, 0],\n",
              "         [0, 0, 0],\n",
              "         [0, 0, 0]],\n",
              "\n",
              "        [[0, 0, 0],\n",
              "         [0, 0, 0],\n",
              "         [0, 0, 0]],\n",
              "\n",
              "        [[0, 0, 0],\n",
              "         [0, 0, 0],\n",
              "         [0, 0, 0]]],\n",
              "\n",
              "\n",
              "       [[[0, 0, 0],\n",
              "         [0, 0, 0],\n",
              "         [0, 0, 0]],\n",
              "\n",
              "        [[0, 0, 0],\n",
              "         [0, 0, 0],\n",
              "         [0, 0, 0]],\n",
              "\n",
              "        [[0, 0, 0],\n",
              "         [0, 0, 0],\n",
              "         [0, 0, 0]]]], dtype=int32)"
            ]
          },
          "metadata": {},
          "execution_count": 11
        }
      ]
    },
    {
      "cell_type": "code",
      "source": [
        "import numpy as np\n",
        "\n",
        "def load_data(img_path, number_of_data=1476):  # 가위바위보 이미지 개수 총합에 주의하세요.\n",
        "    # 가위 : 0, 바위 : 1, 보 : 2\n",
        "    img_size=28\n",
        "    color=3\n",
        "    #이미지 데이터와 라벨(가위 : 0, 바위 : 1, 보 : 2) 데이터를 담을 행렬(matrix) 영역을 생성합니다.\n",
        "    imgs=np.zeros(number_of_data*img_size*img_size*color,dtype=np.int32).reshape(number_of_data,img_size,img_size,color)\n",
        "    labels=np.zeros(number_of_data,dtype=np.int32)\n",
        "    print(imgs.shape)\n",
        "    idx=0\n",
        "    for file in glob.iglob(img_path+'/S/*/*.jpg'):\n",
        "        img = np.array(Image.open(file),dtype=np.int32)\n",
        "        imgs[idx,:,:,:]=img    # 데이터 영역에 이미지 행렬을 복사\n",
        "        labels[idx]=0   # 가위 : 0\n",
        "        idx=idx+1\n",
        "    print(idx)\n",
        "    for file in glob.iglob(img_path+'/R/*/*.jpg'):\n",
        "        img = np.array(Image.open(file),dtype=np.int32)\n",
        "        imgs[idx,:,:,:]=img    # 데이터 영역에 이미지 행렬을 복사\n",
        "        labels[idx]=1   # 바위 : 1\n",
        "        idx=idx+1  \n",
        "    \n",
        "    for file in glob.iglob(img_path+'/P/*/*.jpg'):\n",
        "        img = np.array(Image.open(file),dtype=np.int32)\n",
        "        imgs[idx,:,:,:]=img    # 데이터 영역에 이미지 행렬을 복사\n",
        "        labels[idx]=2   # 보 : 2\n",
        "        idx=idx+1\n",
        "        \n",
        "    print(\"학습데이터(x_train)의 이미지 개수는\", idx,\"입니다.\")\n",
        "    return imgs, labels\n",
        "\n",
        "image_dir_path = \"/content/drive/MyDrive/Aiffel_data/Exp5/train\"\n",
        "(x_train, y_train)=load_data(image_dir_path)\n",
        "x_train_norm = x_train/255.0   # 입력은 0~1 사이의 값으로 정규화\n",
        "\n",
        "print(\"x_train shape: {}\".format(x_train.shape))\n",
        "print(\"y_train shape: {}\".format(y_train.shape))"
      ],
      "metadata": {
        "colab": {
          "base_uri": "https://localhost:8080/"
        },
        "id": "lk4_3kyxqHOM",
        "outputId": "6e6b02f9-b77e-46c9-f294-0be925361127"
      },
      "execution_count": 12,
      "outputs": [
        {
          "output_type": "stream",
          "name": "stdout",
          "text": [
            "(1476, 28, 28, 3)\n",
            "503\n",
            "학습데이터(x_train)의 이미지 개수는 1476 입니다.\n",
            "x_train shape: (1476, 28, 28, 3)\n",
            "y_train shape: (1476,)\n"
          ]
        }
      ]
    },
    {
      "cell_type": "code",
      "source": [
        "plt.imshow(x_train[0],cmap=plt.cm.binary)\n",
        "print('라벨: ', y_train[0])"
      ],
      "metadata": {
        "colab": {
          "base_uri": "https://localhost:8080/",
          "height": 283
        },
        "id": "-DaL4NDyqXks",
        "outputId": "2ee8d353-14c4-466e-af33-939fd98fcd04"
      },
      "execution_count": 13,
      "outputs": [
        {
          "output_type": "stream",
          "name": "stdout",
          "text": [
            "라벨:  0\n"
          ]
        },
        {
          "output_type": "display_data",
          "data": {
            "text/plain": [
              "<Figure size 432x288 with 1 Axes>"
            ],
            "image/png": "[encoded data removed]"
          },
          "metadata": {
            "needs_background": "light"
          }
        }
      ]
    },
    {
      "cell_type": "markdown",
      "source": [
        "# 2. 딥러닝 네트워크 설계"
      ],
      "metadata": {
        "id": "29pqcUsln2Zo"
      }
    },
    {
      "cell_type": "code",
      "source": [
        "import tensorflow as tf\n",
        "from tensorflow import keras\n",
        "import numpy as np\n",
        "\n",
        "model=keras.models.Sequential()\n",
        "\n",
        "model.add(keras.layers.Conv2D(16, (3,3), activation='relu', input_shape=(28,28,3)))\n",
        "model.add(keras.layers.MaxPool2D(2,2))\n",
        "\n",
        "model.add(keras.layers.Conv2D(32, (3,3), activation='relu'))\n",
        "model.add(keras.layers.MaxPooling2D((2,2)))\n",
        "\n",
        "model.add(keras.layers.Flatten())\n",
        "model.add(keras.layers.Dense(32, activation='relu'))\n",
        "model.add(keras.layers.Dense(3, activation='softmax'))\n",
        "\n",
        "print('Model에 추가된 Layer 개수: ', len(model.layers))\n"
      ],
      "metadata": {
        "colab": {
          "base_uri": "https://localhost:8080/"
        },
        "id": "_jT9f2YcSRHk",
        "outputId": "2cc4e692-bbc9-4163-9a05-33f43a931c98"
      },
      "execution_count": 14,
      "outputs": [
        {
          "output_type": "stream",
          "name": "stdout",
          "text": [
            "Model에 추가된 Layer 개수:  7\n"
          ]
        }
      ]
    },
    {
      "cell_type": "code",
      "source": [
        "model.summary()"
      ],
      "metadata": {
        "colab": {
          "base_uri": "https://localhost:8080/"
        },
        "id": "J7IZQrHhTTNn",
        "outputId": "3af8e503-de55-45fc-800c-26e05071a62d"
      },
      "execution_count": 15,
      "outputs": [
        {
          "output_type": "stream",
          "name": "stdout",
          "text": [
            "Model: \"sequential\"\n",
            "_________________________________________________________________\n",
            " Layer (type)                Output Shape              Param #   \n",
            "=================================================================\n",
            " conv2d (Conv2D)             (None, 26, 26, 16)        448       \n",
            "                                                                 \n",
            " max_pooling2d (MaxPooling2D  (None, 13, 13, 16)       0         \n",
            " )                                                               \n",
            "                                                                 \n",
            " conv2d_1 (Conv2D)           (None, 11, 11, 32)        4640      \n",
            "                                                                 \n",
            " max_pooling2d_1 (MaxPooling  (None, 5, 5, 32)         0         \n",
            " 2D)                                                             \n",
            "                                                                 \n",
            " flatten (Flatten)           (None, 800)               0         \n",
            "                                                                 \n",
            " dense (Dense)               (None, 32)                25632     \n",
            "                                                                 \n",
            " dense_1 (Dense)             (None, 3)                 99        \n",
            "                                                                 \n",
            "=================================================================\n",
            "Total params: 30,819\n",
            "Trainable params: 30,819\n",
            "Non-trainable params: 0\n",
            "_________________________________________________________________\n"
          ]
        }
      ]
    },
    {
      "cell_type": "markdown",
      "source": [
        "# 3. 딥러닝 네트워크 학습"
      ],
      "metadata": {
        "id": "Ub-qpW8hn7gt"
      }
    },
    {
      "cell_type": "code",
      "source": [
        "# model을 학습\n",
        "# model.compile()과 model.fit() 사용"
      ],
      "metadata": {
        "id": "-mfX2LR0SiJm"
      },
      "execution_count": 16,
      "outputs": []
    },
    {
      "cell_type": "code",
      "source": [
        "# epochs=10 은 전체 300개의 데이터를 10번 반복 사용\n",
        "\n",
        "model.compile(optimizer='adam',\n",
        "             loss='sparse_categorical_crossentropy',\n",
        "             metrics=['accuracy'])\n",
        "\n",
        "model.fit(x_train, y_train, epochs=10)"
      ],
      "metadata": {
        "colab": {
          "base_uri": "https://localhost:8080/"
        },
        "id": "kwCOVh2AWN3S",
        "outputId": "de765e62-20ce-4cbd-c2e0-d0a061788752"
      },
      "execution_count": 17,
      "outputs": [
        {
          "output_type": "stream",
          "name": "stdout",
          "text": [
            "Epoch 1/10\n",
            "47/47 [==============================] - 2s 4ms/step - loss: 3.0227 - accuracy: 0.5068\n",
            "Epoch 2/10\n",
            "47/47 [==============================] - 0s 3ms/step - loss: 0.4131 - accuracy: 0.8388\n",
            "Epoch 3/10\n",
            "47/47 [==============================] - 0s 3ms/step - loss: 0.1771 - accuracy: 0.9377\n",
            "Epoch 4/10\n",
            "47/47 [==============================] - 0s 4ms/step - loss: 0.0574 - accuracy: 0.9885\n",
            "Epoch 5/10\n",
            "47/47 [==============================] - 0s 3ms/step - loss: 0.0123 - accuracy: 1.0000\n",
            "Epoch 6/10\n",
            "47/47 [==============================] - 0s 4ms/step - loss: 0.0055 - accuracy: 1.0000\n",
            "Epoch 7/10\n",
            "47/47 [==============================] - 0s 3ms/step - loss: 0.0031 - accuracy: 1.0000\n",
            "Epoch 8/10\n",
            "47/47 [==============================] - 0s 3ms/step - loss: 0.0025 - accuracy: 0.9993\n",
            "Epoch 9/10\n",
            "47/47 [==============================] - 0s 3ms/step - loss: 0.0026 - accuracy: 1.0000\n",
            "Epoch 10/10\n",
            "47/47 [==============================] - 0s 3ms/step - loss: 9.6066e-04 - accuracy: 1.0000\n"
          ]
        },
        {
          "output_type": "execute_result",
          "data": {
            "text/plain": [
              "<keras.callbacks.History at 0x7fe2f004d210>"
            ]
          },
          "metadata": {},
          "execution_count": 17
        }
      ]
    },
    {
      "cell_type": "markdown",
      "source": [
        "#4 테스트\n",
        "###1.우선 테스트용 데이터인 x_test, y_test를 만들기\n",
        "\n",
        ": x_test, y_test를 만드는 방법은 x_train, y_train을 만드는 방법과 아주 유사합니다.\n",
        "\n",
        "###2.훈련시킨 model을 사용하여 test_accuracy를 측정하기\n",
        "\n",
        ": model.evaluate()을 사용해 봅시다.\n"
      ],
      "metadata": {
        "id": "Zp3X2mwJoAtm"
      }
    },
    {
      "cell_type": "code",
      "source": [
        "\n",
        "# 이미지가 저장된 디렉토리 아래의 모든 jpg 파일을 읽어들여서 파일마다 모두 28x28 사이즈로 바꾸어 저장합니다.\n",
        "\n",
        "# 가위\n",
        "image_dir_path = '/content/drive/MyDrive/Aiffel_data/Exp5/test/S/scissor'\n",
        "resize_images(image_dir_path)\n",
        "\n",
        "print(\"가위 이미지 resize 완료!\")\n",
        "\n",
        "# 바위 \n",
        "image_dir_path = '/content/drive/MyDrive/Aiffel_data/Exp5/test/R/rock'\n",
        "resize_images(image_dir_path)\n",
        "\n",
        "print(\"바위 이미지 resize 완료!\")\n",
        "\n",
        "# 보\n",
        "image_dir_path = '/content/drive/MyDrive/Aiffel_data/Exp5/test/P/paper'\n",
        "resize_images(image_dir_path)\n",
        "\n",
        "print(\"보 이미지 resize 완료!\")\n"
      ],
      "metadata": {
        "colab": {
          "base_uri": "https://localhost:8080/"
        },
        "id": "KK9tLVw5k5O5",
        "outputId": "d8685263-701b-415c-b929-808cbdc93cfb"
      },
      "execution_count": 18,
      "outputs": [
        {
          "output_type": "stream",
          "name": "stdout",
          "text": [
            "100  images to be resized.\n",
            "100  images resized.\n",
            "가위 이미지 resize 완료!\n",
            "100  images to be resized.\n",
            "100  images resized.\n",
            "바위 이미지 resize 완료!\n",
            "100  images to be resized.\n",
            "100  images resized.\n",
            "보 이미지 resize 완료!\n"
          ]
        }
      ]
    },
    {
      "cell_type": "code",
      "source": [
        "image_dir_path = \"/content/drive/MyDrive/Aiffel_data/Exp5/test\"\n",
        "(x_test, y_test)=load_data(image_dir_path, 300)\n",
        "x_test_norm = x_test/255.0   # 입력은 0~1 사이의 값으로 정규화\n",
        "\n",
        "print(\"x_test shape: {}\".format(x_test.shape))\n",
        "print(\"y_test shape: {}\".format(y_test.shape))"
      ],
      "metadata": {
        "colab": {
          "base_uri": "https://localhost:8080/"
        },
        "id": "G81-1XdUNRHz",
        "outputId": "92713355-8469-4e07-d118-6595a8754749"
      },
      "execution_count": 19,
      "outputs": [
        {
          "output_type": "stream",
          "name": "stdout",
          "text": [
            "(300, 28, 28, 3)\n",
            "100\n",
            "학습데이터(x_train)의 이미지 개수는 300 입니다.\n",
            "x_test shape: (300, 28, 28, 3)\n",
            "y_test shape: (300,)\n"
          ]
        }
      ]
    },
    {
      "cell_type": "code",
      "source": [
        "plt.imshow(x_test[0],cmap=plt.cm.binary)\n",
        "print('라벨: ', y_test[0])"
      ],
      "metadata": {
        "colab": {
          "base_uri": "https://localhost:8080/",
          "height": 283
        },
        "id": "Or555cknNHeQ",
        "outputId": "1f1655d8-d6fa-447c-a842-ed61705bbf97"
      },
      "execution_count": 20,
      "outputs": [
        {
          "output_type": "stream",
          "name": "stdout",
          "text": [
            "라벨:  0\n"
          ]
        },
        {
          "output_type": "display_data",
          "data": {
            "text/plain": [
              "<Figure size 432x288 with 1 Axes>"
            ],
            "image/png": "[encoded data removed]"
          },
          "metadata": {
            "needs_background": "light"
          }
        }
      ]
    },
    {
      "cell_type": "code",
      "source": [
        "# model을 학습시키는 코드를 직접 작성해 보세요.\n",
        "# Hint! model.evaluate()을 사용해 봅시다.\n",
        "\n",
        "test_loss, test_accuracy = model.evaluate(x_test, y_test, verbose=2)\n",
        "print(\"test_loss: {} \".format(test_loss))\n",
        "print(\"test_accuracy: {}\".format(test_accuracy))"
      ],
      "metadata": {
        "colab": {
          "base_uri": "https://localhost:8080/"
        },
        "id": "fdF47dQ_VIjI",
        "outputId": "ed0cd2c1-5286-4e2e-abff-065d38213b7c"
      },
      "execution_count": 21,
      "outputs": [
        {
          "output_type": "stream",
          "name": "stdout",
          "text": [
            "10/10 - 0s - loss: 2.4597 - accuracy: 0.6000 - 176ms/epoch - 18ms/step\n",
            "test_loss: 2.459695339202881 \n",
            "test_accuracy: 0.6000000238418579\n"
          ]
        }
      ]
    },
    {
      "cell_type": "markdown",
      "source": [
        "# 5. 네트워크 향상시키기\n",
        "\n",
        "\n",
        "시험용 데이터x_test에 대한 인식률 test accuracy가 train accuracy보다 많이 낮게 나오지는 않았나요? \n",
        "\n",
        "만약 그렇다면 그 이유는 무엇일까요? MNIST 손글씨 데이터 때처럼 test accuracy가 train accuracy에 근접하도록 개선 방법을 찾아 봅시다."
      ],
      "metadata": {
        "id": "i0KNEkI7oFHl"
      }
    },
    {
      "cell_type": "code",
      "source": [
        "# 바꿔 볼 수 있는 하이퍼파라미터들\n",
        "n_channel_1=16\n",
        "n_channel_2=32\n",
        "n_dense=40\n",
        "n_train_epoch=30\n",
        "\n",
        "\n",
        "model=keras.models.Sequential()\n",
        "\n",
        "model.add(keras.layers.Conv2D(n_channel_1, (3,3), activation='relu', input_shape=(28,28,3)))\n",
        "model.add(keras.layers.MaxPool2D(2,2))\n",
        "\n",
        "model.add(keras.layers.Conv2D(n_channel_2, (3,3), activation='relu'))\n",
        "model.add(keras.layers.MaxPooling2D((2,2)))\n",
        "\n",
        "model.add(keras.layers.Flatten())\n",
        "model.add(keras.layers.Dense(n_dense, activation='relu'))\n",
        "model.add(keras.layers.Dense(10, activation='softmax'))\n",
        "\n",
        "model.summary()\n",
        "\n",
        "\n",
        "model.compile(optimizer='adam',\n",
        "             loss='sparse_categorical_crossentropy',\n",
        "             metrics=['accuracy'])\n",
        "\n",
        "# 모델 훈련\n",
        "model.fit(x_train, y_train, epochs=n_train_epoch)\n",
        "\n",
        "# 모델 시험\n",
        "test_loss, test_accuracy = model.evaluate(x_test, y_test, verbose=2)\n",
        "print(\"test_loss: {} \".format(test_loss))\n",
        "print(\"test_accuracy: {}\".format(test_accuracy))"
      ],
      "metadata": {
        "id": "m2CcVRouVPj6",
        "colab": {
          "base_uri": "https://localhost:8080/"
        },
        "outputId": "d700448d-11e9-495a-9d40-592d639e3fa6"
      },
      "execution_count": 22,
      "outputs": [
        {
          "output_type": "stream",
          "name": "stdout",
          "text": [
            "Model: \"sequential_1\"\n",
            "_________________________________________________________________\n",
            " Layer (type)                Output Shape              Param #   \n",
            "=================================================================\n",
            " conv2d_2 (Conv2D)           (None, 26, 26, 16)        448       \n",
            "                                                                 \n",
            " max_pooling2d_2 (MaxPooling  (None, 13, 13, 16)       0         \n",
            " 2D)                                                             \n",
            "                                                                 \n",
            " conv2d_3 (Conv2D)           (None, 11, 11, 32)        4640      \n",
            "                                                                 \n",
            " max_pooling2d_3 (MaxPooling  (None, 5, 5, 32)         0         \n",
            " 2D)                                                             \n",
            "                                                                 \n",
            " flatten_1 (Flatten)         (None, 800)               0         \n",
            "                                                                 \n",
            " dense_2 (Dense)             (None, 40)                32040     \n",
            "                                                                 \n",
            " dense_3 (Dense)             (None, 10)                410       \n",
            "                                                                 \n",
            "=================================================================\n",
            "Total params: 37,538\n",
            "Trainable params: 37,538\n",
            "Non-trainable params: 0\n",
            "_________________________________________________________________\n",
            "Epoch 1/30\n",
            "47/47 [==============================] - 1s 3ms/step - loss: 8.5052 - accuracy: 0.4864\n",
            "Epoch 2/30\n",
            "47/47 [==============================] - 0s 4ms/step - loss: 0.4561 - accuracy: 0.8672\n",
            "Epoch 3/30\n",
            "47/47 [==============================] - 0s 3ms/step - loss: 0.1234 - accuracy: 0.9573\n",
            "Epoch 4/30\n",
            "47/47 [==============================] - 0s 3ms/step - loss: 0.0360 - accuracy: 0.9898\n",
            "Epoch 5/30\n",
            "47/47 [==============================] - 0s 3ms/step - loss: 0.0267 - accuracy: 0.9925\n",
            "Epoch 6/30\n",
            "47/47 [==============================] - 0s 3ms/step - loss: 0.0112 - accuracy: 0.9973\n",
            "Epoch 7/30\n",
            "47/47 [==============================] - 0s 3ms/step - loss: 0.0073 - accuracy: 1.0000\n",
            "Epoch 8/30\n",
            "47/47 [==============================] - 0s 3ms/step - loss: 0.0050 - accuracy: 0.9993\n",
            "Epoch 9/30\n",
            "47/47 [==============================] - 0s 3ms/step - loss: 0.0023 - accuracy: 1.0000\n",
            "Epoch 10/30\n",
            "47/47 [==============================] - 0s 3ms/step - loss: 0.0014 - accuracy: 1.0000\n",
            "Epoch 11/30\n",
            "47/47 [==============================] - 0s 3ms/step - loss: 0.0012 - accuracy: 1.0000\n",
            "Epoch 12/30\n",
            "47/47 [==============================] - 0s 3ms/step - loss: 0.0010 - accuracy: 1.0000\n",
            "Epoch 13/30\n",
            "47/47 [==============================] - 0s 3ms/step - loss: 9.3432e-04 - accuracy: 1.0000\n",
            "Epoch 14/30\n",
            "47/47 [==============================] - 0s 3ms/step - loss: 8.4972e-04 - accuracy: 1.0000\n",
            "Epoch 15/30\n",
            "47/47 [==============================] - 0s 3ms/step - loss: 7.6504e-04 - accuracy: 1.0000\n",
            "Epoch 16/30\n",
            "47/47 [==============================] - 0s 3ms/step - loss: 7.6147e-04 - accuracy: 1.0000\n",
            "Epoch 17/30\n",
            "47/47 [==============================] - 0s 3ms/step - loss: 6.7043e-04 - accuracy: 1.0000\n",
            "Epoch 18/30\n",
            "47/47 [==============================] - 0s 3ms/step - loss: 6.0390e-04 - accuracy: 1.0000\n",
            "Epoch 19/30\n",
            "47/47 [==============================] - 0s 3ms/step - loss: 5.5868e-04 - accuracy: 1.0000\n",
            "Epoch 20/30\n",
            "47/47 [==============================] - 0s 3ms/step - loss: 5.5547e-04 - accuracy: 1.0000\n",
            "Epoch 21/30\n",
            "47/47 [==============================] - 0s 3ms/step - loss: 4.9424e-04 - accuracy: 1.0000\n",
            "Epoch 22/30\n",
            "47/47 [==============================] - 0s 3ms/step - loss: 4.4912e-04 - accuracy: 1.0000\n",
            "Epoch 23/30\n",
            "47/47 [==============================] - 0s 3ms/step - loss: 4.2131e-04 - accuracy: 1.0000\n",
            "Epoch 24/30\n",
            "47/47 [==============================] - 0s 4ms/step - loss: 3.9154e-04 - accuracy: 1.0000\n",
            "Epoch 25/30\n",
            "47/47 [==============================] - 0s 4ms/step - loss: 3.7527e-04 - accuracy: 1.0000\n",
            "Epoch 26/30\n",
            "47/47 [==============================] - 0s 3ms/step - loss: 3.5920e-04 - accuracy: 1.0000\n",
            "Epoch 27/30\n",
            "47/47 [==============================] - 0s 3ms/step - loss: 3.2651e-04 - accuracy: 1.0000\n",
            "Epoch 28/30\n",
            "47/47 [==============================] - 0s 4ms/step - loss: 3.1174e-04 - accuracy: 1.0000\n",
            "Epoch 29/30\n",
            "47/47 [==============================] - 0s 3ms/step - loss: 2.8797e-04 - accuracy: 1.0000\n",
            "Epoch 30/30\n",
            "47/47 [==============================] - 0s 3ms/step - loss: 2.7077e-04 - accuracy: 1.0000\n",
            "10/10 - 0s - loss: 2.7010 - accuracy: 0.6733 - 149ms/epoch - 15ms/step\n",
            "test_loss: 2.700979709625244 \n",
            "test_accuracy: 0.6733333468437195\n"
          ]
        }
      ]
    },
    {
      "cell_type": "markdown",
      "source": [
        "# 회고\n",
        "\n",
        "### - 이번 프로젝트에서 **어려웠던 점**.\n",
        "Convolution Neural Network 전반적인 개념의 이해가 어려웠지만 유튜브를 통해 조금은 이해가 가게 되었다.\n",
        "\n",
        "### - 프로젝트를 진행하면서 **알아낸 점** 혹은 **아직 모호한 점**.\n",
        "\n",
        "{알아낸점}\n",
        " *  **glob.iglob** :   for file in glob.iglob(img_path+'/S/\\*/\\*.jpg')\n",
        " 새로운 데이터를 통합할때 glob 함수를 사용한다.\n",
        "\n",
        " * **def load_data(img_path, number_of_data=1476)**:\n",
        " number_of_data  300> 1476 으로 수정한다.\n",
        " 0으로 초기화 하는 개수를 데이터수로 한정해 준다.\n",
        "\n",
        " * 코랩 이미지 압축 풀기 \n",
        "  > %cd 압축을 풀 경로\n",
        "   !unzip -qq \n",
        "\n",
        "### - 루브릭 평가 지표를 맞추기 위해 **시도한 것들**.\n",
        "\n",
        "1. 오버피팅을 방지하기 위해 train_data 수를 300> 1476으로 늘렸다.\n",
        "2. 하이퍼파라미터 epoch 을 30으로 증가시켰다. \n",
        "\n",
        "\n",
        "\n",
        "\n",
        "\n",
        ">#### **루브릭평가 지표**\n",
        ">|번호|평가문항|상세기준|\n",
        ">|:---:|---|---|\n",
        ">|1| 이미지 분류기 모델이 성공적으로 만들어졌다. |트레이닝이 정상적으로 수행되었다.|\n",
        ">|2|오버피팅을 극복하기 위한 적절한 시도가 있었다.| 데이터셋의 다양성, 정규화 등의 시도가 적절하였다.|\n",
        ">|3|분류모델의 test accuracy가 기준 이상 높게 나왔다.|60% 이상 도달하였다.|\n",
        "\n",
        "\n",
        "### - ** 참고 ** \n",
        "CNN : https://www.cs.cmu.edu/~aharley/vis/conv/flat.html\n",
        "\n",
        "glob:  https://m.blog.naver.com/PostView.naver?isHttpsRedirect=true&blogId=siniphia&logNo=221397012627\n",
        "\n",
        "\n",
        "\n",
        "케라스 Sequential(유튜브) : https://www.youtube.com/watch?v=UNc6u2nL7aA\n",
        "\n",
        "### - **자기 다짐**\n",
        "\n",
        "* 다른 사람에게 코드 설명해보기"
      ],
      "metadata": {
        "id": "sHK_hxOIm285"
      }
    },
    {
      "cell_type": "code",
      "source": [
        "\n"
      ],
      "metadata": {
        "id": "80-OiEvv7WRN"
      },
      "execution_count": 22,
      "outputs": []
    }
  ]
}