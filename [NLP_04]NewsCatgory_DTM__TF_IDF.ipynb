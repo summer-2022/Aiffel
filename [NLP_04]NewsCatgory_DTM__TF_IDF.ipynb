{
  "cells": [
    {
      "cell_type": "markdown",
      "metadata": {
        "id": "Tv0ULl4tF9D7"
      },
      "source": [
        "#NLP\n",
        "목차 \n",
        "\n",
        "1. 로이스 뉴스 데이터 \n",
        "\n",
        "  1) 데이터 확인하기\n",
        "\n",
        "  2) 데이터 복원하기\n",
        "2. 벡터화하기\n",
        "3. 나이브 베이즈 분류기\n",
        "4. F-1 Score, Confusion Matrix\n",
        "5. 다양한 모델 사용해보기 \n",
        "\n",
        "\n",
        "회고"
      ]
    },
    {
      "cell_type": "markdown",
      "metadata": {
        "id": "HAV2R6rkhjyg"
      },
      "source": [
        "# 1.다양한 모델 사용해보기 : 모두사용\n"
      ]
    },
    {
      "cell_type": "markdown",
      "metadata": {
        "id": "tUm2mT5hGzTz"
      },
      "source": [
        "##1. 로이스 뉴스 데이터 "
      ]
    },
    {
      "cell_type": "code",
      "execution_count": 1,
      "metadata": {
        "id": "nXQf_bUTIa1w"
      },
      "outputs": [],
      "source": [
        "from tensorflow.keras.datasets import reuters\n",
        "import matplotlib.pyplot as plt\n",
        "import seaborn as sns\n",
        "import numpy as np\n",
        "import pandas as pd"
      ]
    },
    {
      "cell_type": "markdown",
      "metadata": {
        "id": "ze31DgIqIdbm"
      },
      "source": [
        "### (1) 데이터 확인하기"
      ]
    },
    {
      "cell_type": "markdown",
      "metadata": {
        "id": "oXiiyhIRIlGw"
      },
      "source": [
        "#### 훈련 데이터와 테스트 데이터 로드하기"
      ]
    },
    {
      "cell_type": "code",
      "execution_count": 2,
      "metadata": {
        "id": "cUjhJQmbJExd"
      },
      "outputs": [],
      "source": [
        "(x_train, y_train), (x_test, y_test) = reuters.load_data(num_words=None, test_split=0.2)"
      ]
    },
    {
      "cell_type": "markdown",
      "metadata": {
        "id": "Elpzj6STJL52"
      },
      "source": [
        "* num_words=10000 \n",
        "\n",
        ": 1~10,000번 단어만 사용한다\n",
        "(등장 빈도수가 높은 단어들만 사용)\n",
        "* test_split = 0.2\n",
        "\n",
        ": 전체 데이터 중에서 80%를 훈련 데이터, 20%를 테스트 데이터로 사용한다"
      ]
    },
    {
      "cell_type": "code",
      "execution_count": 3,
      "metadata": {
        "colab": {
          "base_uri": "https://localhost:8080/"
        },
        "id": "UvX-jWekJW9J",
        "outputId": "13883fc1-1afe-4ced-b395-c4b385e101f1"
      },
      "outputs": [
        {
          "output_type": "stream",
          "name": "stdout",
          "text": [
            "훈련 샘플의 수: 8982\n",
            "테스트 샘플의 수: 2246\n"
          ]
        }
      ],
      "source": [
        "print('훈련 샘플의 수: {}'.format(len(x_train)))\n",
        "print('테스트 샘플의 수: {}'.format(len(x_test)))"
      ]
    },
    {
      "cell_type": "markdown",
      "metadata": {
        "id": "GY_9RDDoIsnj"
      },
      "source": [
        "#### 데이터 출력해보기"
      ]
    },
    {
      "cell_type": "markdown",
      "metadata": {
        "id": "Mhavji10Jx1P"
      },
      "source": [
        "> 첫 번째 훈련용 뉴스와 첫 번째 테스트용 뉴스를 출력"
      ]
    },
    {
      "cell_type": "code",
      "execution_count": 4,
      "metadata": {
        "colab": {
          "base_uri": "https://localhost:8080/"
        },
        "id": "PA5ldaeiJsfj",
        "outputId": "ad705464-fc56-4833-bcd9-d08de4edcaae"
      },
      "outputs": [
        {
          "output_type": "stream",
          "name": "stdout",
          "text": [
            "[1, 27595, 28842, 8, 43, 10, 447, 5, 25, 207, 270, 5, 3095, 111, 16, 369, 186, 90, 67, 7, 89, 5, 19, 102, 6, 19, 124, 15, 90, 67, 84, 22, 482, 26, 7, 48, 4, 49, 8, 864, 39, 209, 154, 6, 151, 6, 83, 11, 15, 22, 155, 11, 15, 7, 48, 9, 4579, 1005, 504, 6, 258, 6, 272, 11, 15, 22, 134, 44, 11, 15, 16, 8, 197, 1245, 90, 67, 52, 29, 209, 30, 32, 132, 6, 109, 15, 17, 12]\n",
            "[1, 4, 1378, 2025, 9, 697, 4622, 111, 8, 25, 109, 29, 3650, 11, 150, 244, 364, 33, 30, 30, 1398, 333, 6, 18292, 159, 9, 1084, 363, 13, 19231, 71, 9, 16273, 71, 117, 4, 225, 78, 206, 10, 9, 1214, 8, 4, 270, 5, 16273, 7, 748, 48, 9, 19231, 7, 207, 1451, 966, 1864, 793, 97, 133, 336, 7, 4, 493, 98, 273, 104, 284, 25, 39, 338, 22, 905, 220, 3465, 644, 59, 20, 6, 119, 61, 11, 15, 58, 579, 26, 10, 67, 7, 4, 738, 98, 43, 88, 333, 722, 12, 20, 6, 19, 746, 35, 15, 10, 9, 1214, 855, 129, 783, 21, 4, 2280, 244, 364, 51, 16, 299, 452, 16, 515, 4, 99, 29, 5, 4, 364, 281, 48, 10, 9, 1214, 23, 644, 47, 20, 324, 27, 56, 23406, 28185, 5, 192, 510, 17, 12]\n"
          ]
        }
      ],
      "source": [
        "print(x_train[0])\n",
        "print(x_test[0])"
      ]
    },
    {
      "cell_type": "markdown",
      "metadata": {
        "id": "nUvtWgG7J4Rr"
      },
      "source": [
        "* 텍스트가 아니라 숫자 시퀀스가 출력\n",
        "\n",
        "각 단어가 빈도수가 높은 순서대로 낮은 정수로 맵핑되어 있음.\n",
        "\n",
        "텐서플로우 데이터셋에서는 이미 전처리를 한 데이터를 제공."
      ]
    },
    {
      "cell_type": "markdown",
      "metadata": {
        "id": "FY5qAJYtKbTm"
      },
      "source": [
        "> 첫 번째 훈련용 뉴스와 테스트용 뉴스의 레이블을 출력"
      ]
    },
    {
      "cell_type": "code",
      "execution_count": 5,
      "metadata": {
        "colab": {
          "base_uri": "https://localhost:8080/"
        },
        "id": "3WyJkmcRKJ8s",
        "outputId": "5b7ef09d-eb43-4bad-dd59-d27e74cc6cf2"
      },
      "outputs": [
        {
          "output_type": "stream",
          "name": "stdout",
          "text": [
            "3\n",
            "3\n"
          ]
        }
      ],
      "source": [
        "print(y_train[0])\n",
        "print(y_test[0])"
      ]
    },
    {
      "cell_type": "markdown",
      "metadata": {
        "id": "mflsM4TRKqdJ"
      },
      "source": [
        "> 현재 클래스의 개수 : 모든 레이블 중 최댓값을 구하고 1 더하기  "
      ]
    },
    {
      "cell_type": "code",
      "execution_count": 6,
      "metadata": {
        "colab": {
          "base_uri": "https://localhost:8080/"
        },
        "id": "H_Zs77t1KN-n",
        "outputId": "0e6c5af8-f836-4c52-e1a9-3a8750c1c2eb"
      },
      "outputs": [
        {
          "output_type": "stream",
          "name": "stdout",
          "text": [
            "클래스의 수 : 46\n"
          ]
        }
      ],
      "source": [
        "num_classes = max(y_train) + 1\n",
        "print('클래스의 수 : {}'.format(num_classes))"
      ]
    },
    {
      "cell_type": "markdown",
      "metadata": {
        "id": "t6CTTfJwIvrv"
      },
      "source": [
        "#### 데이터 분포 확인해보기"
      ]
    },
    {
      "cell_type": "markdown",
      "metadata": {
        "id": "YF9jaz1DLFt8"
      },
      "source": [
        "> 뉴스 데이터의 길이 분포"
      ]
    },
    {
      "cell_type": "code",
      "execution_count": 7,
      "metadata": {
        "colab": {
          "base_uri": "https://localhost:8080/",
          "height": 315
        },
        "id": "xy7R1225KNNl",
        "outputId": "6ffa035e-f444-4ca5-93ce-d3a1c76d645c"
      },
      "outputs": [
        {
          "output_type": "stream",
          "name": "stdout",
          "text": [
            "훈련용 뉴스의 최대 길이 :2376\n",
            "훈련용 뉴스의 평균 길이 :145.5398574927633\n"
          ]
        },
        {
          "output_type": "display_data",
          "data": {
            "text/plain": [
              "<Figure size 432x288 with 1 Axes>"
            ],
            "image/png": "[encoded data removed]"
          },
          "metadata": {
            "needs_background": "light"
          }
        }
      ],
      "source": [
        "print('훈련용 뉴스의 최대 길이 :{}'.format(max(len(l) for l in x_train)))\n",
        "print('훈련용 뉴스의 평균 길이 :{}'.format(sum(map(len, x_train))/len(x_train)))\n",
        "\n",
        "plt.hist([len(s) for s in x_train], bins=50)\n",
        "plt.xlabel('length of samples')\n",
        "plt.ylabel('number of samples')\n",
        "plt.show()"
      ]
    },
    {
      "cell_type": "markdown",
      "metadata": {
        "id": "JgK-285FMTM5"
      },
      "source": [
        "> 클래스의 분포 확인  (시각화) \n",
        "\n",
        "모델의 성능에 영향을 줄 수 있는 요소"
      ]
    },
    {
      "cell_type": "code",
      "execution_count": 8,
      "metadata": {
        "colab": {
          "base_uri": "https://localhost:8080/",
          "height": 320
        },
        "id": "gbBdjl_3LaZm",
        "outputId": "fc6c8e76-0482-4194-d864-2c5d9a0c3139"
      },
      "outputs": [
        {
          "output_type": "display_data",
          "data": {
            "text/plain": [
              "<Figure size 792x360 with 1 Axes>"
            ],
            "image/png": "[encoded data removed]"
          },
          "metadata": {
            "needs_background": "light"
          }
        }
      ],
      "source": [
        "fig, axe = plt.subplots(ncols=1)\n",
        "fig.set_size_inches(11,5)\n",
        "sns.countplot(x=y_train)\n",
        "plt.show()"
      ]
    },
    {
      "cell_type": "markdown",
      "metadata": {
        "id": "1_UmE-p9MeJT"
      },
      "source": [
        "* 3번, 4번 클래스가 대부분을 차지"
      ]
    },
    {
      "cell_type": "markdown",
      "metadata": {
        "id": "UmS0N0raMjff"
      },
      "source": [
        "> 수치적으로 정확히 몇 개인지도 출력"
      ]
    },
    {
      "cell_type": "code",
      "execution_count": 9,
      "metadata": {
        "colab": {
          "base_uri": "https://localhost:8080/"
        },
        "id": "U_Uad38xLfK-",
        "outputId": "3c9103b0-5c76-4032-a9f7-33de352b5925"
      },
      "outputs": [
        {
          "output_type": "stream",
          "name": "stdout",
          "text": [
            "각 클래스 빈도수:\n",
            "[[   0    1    2    3    4    5    6    7    8    9   10   11   12   13\n",
            "    14   15   16   17   18   19   20   21   22   23   24   25   26   27\n",
            "    28   29   30   31   32   33   34   35   36   37   38   39   40   41\n",
            "    42   43   44   45]\n",
            " [  55  432   74 3159 1949   17   48   16  139  101  124  390   49  172\n",
            "    26   20  444   39   66  549  269  100   15   41   62   92   24   15\n",
            "    48   19   45   39   32   11   50   10   49   19   19   24   36   30\n",
            "    13   21   12   18]]\n"
          ]
        }
      ],
      "source": [
        "unique_elements, counts_elements = np.unique(y_train, return_counts=True)\n",
        "print(\"각 클래스 빈도수:\")\n",
        "print(np.asarray((unique_elements, counts_elements)))"
      ]
    },
    {
      "cell_type": "markdown",
      "metadata": {
        "id": "8rS1mHpAIzyH"
      },
      "source": [
        "### (2) 데이터 복원하기"
      ]
    },
    {
      "cell_type": "markdown",
      "metadata": {
        "id": "uHqcfcK5MR_z"
      },
      "source": [
        "#### 원본 뉴스 데이터로 복원해보기"
      ]
    },
    {
      "cell_type": "markdown",
      "metadata": {
        "id": "1hoyV4NqNmS0"
      },
      "source": [
        "> 정수 시퀀스로 변환된 데이터 >   다시 텍스트 데이터 "
      ]
    },
    {
      "cell_type": "markdown",
      "metadata": {
        "id": "POuERVT-OC9b"
      },
      "source": [
        "로이터 뉴스 데이터: \n",
        "\n",
        "'단어'를 key값으로, 고유한 '정수'를 value로 가지는 dictionary를 제공"
      ]
    },
    {
      "cell_type": "code",
      "execution_count": 10,
      "metadata": {
        "colab": {
          "base_uri": "https://localhost:8080/"
        },
        "id": "TkE_u6b6Lejy",
        "outputId": "52933e12-e5c8-4d7d-fd89-313944a03905"
      },
      "outputs": [
        {
          "output_type": "stream",
          "name": "stdout",
          "text": [
            "=3\n"
          ]
        }
      ],
      "source": [
        "word_index = reuters.get_word_index(path=\"reuters_word_index.json\")\n",
        "print('=3')"
      ]
    },
    {
      "cell_type": "markdown",
      "metadata": {
        "id": "6x9Z9GXHOn1r"
      },
      "source": [
        "word_index 안에 단어를 입력:  이 단어가 어떤 정수와의 맵핑 확인"
      ]
    },
    {
      "cell_type": "markdown",
      "metadata": {
        "id": "paLZuhLBOvrR"
      },
      "source": [
        "* 'the' 맵핑 정수 확인"
      ]
    },
    {
      "cell_type": "code",
      "execution_count": 11,
      "metadata": {
        "colab": {
          "base_uri": "https://localhost:8080/"
        },
        "id": "LceiXRHHNbaZ",
        "outputId": "bf1b08b9-f296-4b5a-c89a-247c853777cd"
      },
      "outputs": [
        {
          "output_type": "execute_result",
          "data": {
            "text/plain": [
              "1"
            ]
          },
          "metadata": {},
          "execution_count": 11
        }
      ],
      "source": [
        "word_index['the']"
      ]
    },
    {
      "cell_type": "markdown",
      "metadata": {
        "id": "Lqz1hsOPO4W4"
      },
      "source": [
        "* 'it' 맵핑 정수 확인"
      ]
    },
    {
      "cell_type": "code",
      "execution_count": 12,
      "metadata": {
        "colab": {
          "base_uri": "https://localhost:8080/"
        },
        "id": "ES_a6JvINyxz",
        "outputId": "32929231-a27b-4550-ea4e-374e1802ce57"
      },
      "outputs": [
        {
          "output_type": "execute_result",
          "data": {
            "text/plain": [
              "13"
            ]
          },
          "metadata": {},
          "execution_count": 12
        }
      ],
      "source": [
        "word_index['it']"
      ]
    },
    {
      "cell_type": "markdown",
      "metadata": {
        "id": "5mWpV0aqPIVV"
      },
      "source": [
        "> word_index에서 index_word를 만들 때, 각 정수에 +3\n",
        "\n",
        ":word_index에 입력으로 했을 때, 얻는 숫자보다는 +3 을 한 숫자가 원래 고유한 숫자"
      ]
    },
    {
      "cell_type": "code",
      "execution_count": 13,
      "metadata": {
        "colab": {
          "base_uri": "https://localhost:8080/"
        },
        "id": "tTyc15d8OTKy",
        "outputId": "71d5ca64-51c3-40d0-cf2f-f171c7118443"
      },
      "outputs": [
        {
          "output_type": "stream",
          "name": "stdout",
          "text": [
            "=3\n"
          ]
        }
      ],
      "source": [
        "index_to_word = { index+3 : word for word, index in word_index.items() }\n",
        "print('=3')"
      ]
    },
    {
      "cell_type": "code",
      "execution_count": 14,
      "metadata": {
        "colab": {
          "base_uri": "https://localhost:8080/"
        },
        "id": "0pbYUPDvOY16",
        "outputId": "f373d582-3760-4c81-eed8-79fe8165fa40"
      },
      "outputs": [
        {
          "output_type": "stream",
          "name": "stdout",
          "text": [
            "the\n",
            "it\n"
          ]
        }
      ],
      "source": [
        "print(index_to_word[4])\n",
        "print(index_to_word[16])"
      ]
    },
    {
      "cell_type": "code",
      "execution_count": 15,
      "metadata": {
        "colab": {
          "base_uri": "https://localhost:8080/"
        },
        "id": "c3VE3_xjPTg9",
        "outputId": "4651cb03-a75c-4368-a52f-b488271872af"
      },
      "outputs": [
        {
          "output_type": "stream",
          "name": "stdout",
          "text": [
            "=3\n"
          ]
        }
      ],
      "source": [
        "# index_to_word에 숫자 0은 <pad>, 숫자 1은 <sos>, 숫자 2는 <unk>를 넣어줍니다.\n",
        "for index, token in enumerate((\"<pad>\", \"<sos>\", \"<unk>\")):\n",
        "  index_to_word[index]=token\n",
        "print('=3')"
      ]
    },
    {
      "cell_type": "code",
      "execution_count": 16,
      "metadata": {
        "colab": {
          "base_uri": "https://localhost:8080/"
        },
        "id": "kB1LvX5UPVYr",
        "outputId": "729c6074-2f50-42ab-83ee-3e15d3b91606"
      },
      "outputs": [
        {
          "output_type": "stream",
          "name": "stdout",
          "text": [
            "<sos> mcgrath rentcorp said as a result of its december acquisition of space co it expects earnings per share in 1987 of 1 15 to 1 30 dlrs per share up from 70 cts in 1986 the company said pretax net should rise to nine to 10 mln dlrs from six mln dlrs in 1986 and rental operation revenues to 19 to 22 mln dlrs from 12 5 mln dlrs it said cash flow per share this year should be 2 50 to three dlrs reuter 3\n"
          ]
        }
      ],
      "source": [
        "print(' '.join([index_to_word[index] for index in x_train[0]]))"
      ]
    },
    {
      "cell_type": "markdown",
      "metadata": {
        "id": "j7hpMH-CI_nf"
      },
      "source": [
        "#### OOV 문제와 UNK 토큰"
      ]
    },
    {
      "cell_type": "markdown",
      "metadata": {
        "id": "saqpPq0nRBP_"
      },
      "source": [
        "단어장(Vocabulary) : 기계가 알고 있는 단어들의 집합\n",
        "\n",
        "OOV(Out-Of-Vocabulary) 또는 UNK(Unknown) :  기계가 미처 배우지 못한 모르는 단어"
      ]
    },
    {
      "cell_type": "code",
      "execution_count": 17,
      "metadata": {
        "colab": {
          "base_uri": "https://localhost:8080/"
        },
        "id": "NAsCq3B8OVkT",
        "outputId": "6058b986-5008-4b3d-ebd5-dfd5df9d2414"
      },
      "outputs": [
        {
          "output_type": "stream",
          "name": "stdout",
          "text": [
            "the transaction is expected to be completed\n"
          ]
        }
      ],
      "source": [
        "print(' '.join([index_to_word[index] for index in [4, 587, 23, 133, 6, 30, 515]]))"
      ]
    },
    {
      "cell_type": "markdown",
      "metadata": {
        "id": "qLYTNa1DSVvx"
      },
      "source": [
        "> 전체 훈련용 뉴스 데이터 > 텍스트 데이터로 변환"
      ]
    },
    {
      "cell_type": "code",
      "execution_count": 18,
      "metadata": {
        "colab": {
          "base_uri": "https://localhost:8080/"
        },
        "id": "wMsoArvQSJL2",
        "outputId": "81555f3c-548a-44d8-e51b-7613d1eb96f8"
      },
      "outputs": [
        {
          "output_type": "stream",
          "name": "stdout",
          "text": [
            "8982\n"
          ]
        }
      ],
      "source": [
        "decoded = []\n",
        "for i in range(len(x_train)):\n",
        "    t = ' '.join([index_to_word[index] for index in x_train[i]])\n",
        "    decoded.append(t)\n",
        "\n",
        "x_train = decoded\n",
        "print(len(x_train))"
      ]
    },
    {
      "cell_type": "code",
      "execution_count": 19,
      "metadata": {
        "colab": {
          "base_uri": "https://localhost:8080/"
        },
        "id": "QWTswhbVSnZN",
        "outputId": "ab1828b7-f9d2-45dd-c56b-1dfdcdce8e3b"
      },
      "outputs": [
        {
          "output_type": "execute_result",
          "data": {
            "text/plain": [
              "['<sos> mcgrath rentcorp said as a result of its december acquisition of space co it expects earnings per share in 1987 of 1 15 to 1 30 dlrs per share up from 70 cts in 1986 the company said pretax net should rise to nine to 10 mln dlrs from six mln dlrs in 1986 and rental operation revenues to 19 to 22 mln dlrs from 12 5 mln dlrs it said cash flow per share this year should be 2 50 to three dlrs reuter 3',\n",
              " \"<sos> generale de banque sa lt genb br and lt heller overseas corp of chicago have each taken 50 pct stakes in factoring company sa belgo factors generale de banque said in a statement it gave no financial details of the transaction sa belgo factors' turnover in 1986 was 17 5 billion belgian francs reuter 3\",\n",
              " '<sos> shr 3 28 dlrs vs 22 cts shr diluted 2 99 dlrs vs 22 cts net 46 0 mln vs 3 328 000 avg shrs 14 0 mln vs 15 2 mln year shr 5 41 dlrs vs 1 56 dlrs shr diluted 4 94 dlrs vs 1 50 dlrs net 78 2 mln vs 25 9 mln avg shrs 14 5 mln vs 15 1 mln note earnings per share reflect the two for one split effective january 6 1987 per share amounts are calculated after preferred stock dividends loss continuing operations for the qtr 1986 includes gains of sale of investments in enron corp of 14 mln dlrs and associated companies of 4 189 000 less writedowns of investments in national intergroup inc of 11 8 mln and brae corp of 15 6 mln reuter 3',\n",
              " \"<sos> the farmers home administration the u s agriculture department's farm lending arm could lose about seven billion dlrs in outstanding principal on its severely delinquent borrowers or about one fourth of its farm loan portfolio the general accounting office gao said in remarks prepared for delivery to the senate agriculture committee brian crowley senior associate director of gao also said that a preliminary analysis of proposed changes in fmha's financial eligibility standards indicated as many as one half of fmha borrowers who received new loans from the agency in 1986 would be ineligible under the proposed system the agency has proposed evaluating applicants' credit using a variety of financial ratios instead of relying solely on cashflow ability senate agriculture committee chairman patrick leahy d vt slammed the proposed eligibility changes telling fmha administrator vance clark at a hearing that they would mark a dramatic shift in the agency's purpose away from being farmers' lender of last resort toward becoming a big city bank but clark defended the new regulations saying the agency had a responsibility to administer its 70 billion dlr loan portfolio in a compassionate yet judicious manner crowley of gao congress' investigative arm said the proposed credit scoring system attempted to ensure that fmha would make loans only to borrowers who had a reasonable change of repaying their debt reuter 3\",\n",
              " '<sos> seton co said its board has received a proposal from chairman and chief executive officer philip d kaltenbacher to acquire seton for 15 75 dlrs per share in cash seton said the acquisition bid is subject to kaltenbacher arranging the necessary financing it said he intends to ask other members of senior management to participate the company said kaltenbacher owns 30 pct of seton stock and other management members another 7 5 pct seton said it has formed an independent board committee to consider the offer and has deferred the annual meeting it had scheduled for march 31 reuter 3']"
            ]
          },
          "metadata": {},
          "execution_count": 19
        }
      ],
      "source": [
        "x_train[:5]"
      ]
    },
    {
      "cell_type": "markdown",
      "metadata": {
        "id": "bfC2ZOBySbSO"
      },
      "source": [
        "> 전체 테스트용 뉴스 데이터 > 텍스트 데이터로 변환"
      ]
    },
    {
      "cell_type": "code",
      "execution_count": 20,
      "metadata": {
        "colab": {
          "base_uri": "https://localhost:8080/"
        },
        "id": "g65Qo0ecSODF",
        "outputId": "b782e3fe-239e-4240-827a-095292a3cea3"
      },
      "outputs": [
        {
          "output_type": "stream",
          "name": "stdout",
          "text": [
            "2246\n"
          ]
        }
      ],
      "source": [
        "decoded = []\n",
        "for i in range(len(x_test)):\n",
        "    t = ' '.join([index_to_word[index] for index in x_test[i]])\n",
        "    decoded.append(t)\n",
        "\n",
        "x_test = decoded\n",
        "print(len(x_test))"
      ]
    },
    {
      "cell_type": "code",
      "execution_count": 21,
      "metadata": {
        "colab": {
          "base_uri": "https://localhost:8080/"
        },
        "id": "qYuGpmZNSp4O",
        "outputId": "f397fe18-ad7f-40b2-fc23-047bd4ccc4f3"
      },
      "outputs": [
        {
          "output_type": "execute_result",
          "data": {
            "text/plain": [
              "['<sos> the great atlantic and pacific tea co said its three year 345 mln dlr capital program will be be substantially increased to accommodate growth and expansion plans for waldbaum inc and shopwell inc over the next two years a and p said the acquisition of shopwell in august 1986 and waldbaum in december helped us achieve better than expected results in the fourth quarter ended february 28 its net income from continuing operations jumped 52 6 pct to 20 7 mln dlrs or 55 cts a share in the latest quarter as sales increased 48 3 pct to 1 58 billion dlrs a and p gave no details on the expanded capital program but it did say it completed the first year of the program during 1986 a and p is 52 4 pct owned by lt tengelmann warenhandelsgesellschaft of west germany reuter 3',\n",
              " \"<sos> philippine sugar production in the 1987 88 crop year ending august has been set at 1 6 mln tonnes up from a provisional 1 3 mln tonnes this year sugar regulatory administration sra chairman arsenio yulo said yulo told reuters a survey during the current milling season which ends next month showed the 1986 87 estimate would almost certainly be met he said at least 1 2 mln tonnes of the 1987 88 crop would be earmarked for domestic consumption yulo said about 130 000 tonnes would be set aside for the u s sugar quota 150 000 tonnes for strategic reserves and 50 000 tonnes would be sold on the world market he said if the government approved a long standing sra recommendation to manufacture ethanol the project would take up another 150 000 tonnes slightly raising the target the government for its own reasons has been delaying approval of the project but we expect it to come through by july yulo said ethanol could make up five pct of gasoline cutting the oil import bill by about 300 mln pesos yulo said three major philippine distilleries were ready to start manufacturing ethanol if the project was approved the ethanol project would result in employment for about 100 000 people sharply reducing those thrown out of work by depressed world sugar prices and a moribund domestic industry production quotas set for the first time in 1987 88 had been submitted to president corazon aquino i think the president would rather wait till the new congress convenes after the may elections he said but there is really no need for such quotas we are right now producing just slightly over our own consumption level the producers have never enjoyed such high prices yulo said adding sugar was currently selling locally for 320 pesos per picul up from 190 pesos last august yulo said prices were driven up because of speculation following the sra's bid to control production we are no longer concerned so much with the world market he said adding producers in the negros region had learned from their mistakes and diversified into corn and prawn farming and cloth production he said diversification into products other than ethanol was also possible within the sugar industry the brazilians long ago learnt their lessons yulo said they have 300 sugar mills compared with our 41 but they relocated many of them and diversified production we want to call this a 'sugarcane industry' instead of the sugar industry he said sugarcane could be fed to pigs and livestock used for thatching roofs or used in room panelling when you cut sugarcane you don't even have to produce sugar he said yulo said the philippines was lobbying for a renewal of the international sugar agreement which expired in 1984 as a major sugar producer we are urging them to write a new agreement which would revive world prices yulo said if there is no agreement world prices will always be depressed particularly because the european community is subsidising its producers and dumping sugar on the markets he said current world prices holding steady at about 7 60 cents per pound were uneconomical for the philippines where production costs ranged from 12 to 14 cents a pound if the price holds steady for a while at 7 60 cents i expect the level to rise to about 11 cents a pound by the end of this year he said yulo said economists forecast a bullish sugar market by 1990 with world consumption outstripping production he said sugar markets were holding up despite encroachments from artificial sweeteners and high fructose corn syrup but we are not happy with the reagan administration he said since 1935 we have been regular suppliers of sugar to the u s in 1982 when they restored the quota system they cut ours in half without any justification manila was keenly watching washington's moves to cut domestic support prices to 12 cents a pound from 18 cents the u s agriculture department last december slashed its 12 month 1987 sugar import quota from the philippines to 143 780 short tons from 231 660 short tons in 1986 yulo said despite next year's increased production target some philippine mills were expected to shut down at least four of the 41 mills were not working during the 1986 87 season he said we expect two or three more to follow suit during the next season reuter 3\",\n",
              " \"<sos> the agriculture department's widening of louisiana gulf differentials will affect county posted prices for number two yellow corn in ten states a usda official said all counties in iowa will be affected as will counties which use the gulf to price corn in illinois indiana tennessee kentucky missouri mississippi arkansas alabama and louisiana said ron burgess deputy director of commodity operations division for the usda usda last night notified the grain industry that effective immediately all gulf differentials used to price interior corn would be widened on a sliding scale basis of four to eight cts depending on what the differential is usda's action was taken to lower excessively high posted county prices for corn caused by high gulf prices we've been following this louisiana gulf situation for a month and we don't think it's going to get back in line in any nearby time burgess said burgess said usda will probably narrow back the gulf differentials when and if gulf prices recede if we're off the mark now because we're too high wouldn't we be as much off the mark if we're too low he said while forecasting more adjustments if gulf prices fall burgess said no other changes in usda's price system are being planned right now we don't tinker we don't make changes lightly and we don't make changes often he said reuter 3\",\n",
              " '<sos> graham mccormick oil and gas partnership said it completed the sale of interests in two major oil and gas fields to lt energy assets international corp for 21 mln dlrs the company said it sold about one half of its 50 pct interest in the oak hill and north rucias fields its two largest producing properties it said it used about 20 mln dlrs of the proceeds to prepay principal on its senior secured notes semi annual principal payments on the remaining 40 mln dlrs of notes have been satisfied until december 1988 as a result it said the company said the note agreements were amended to reflect an easing of some financial covenants and an increase of interest to 13 5 pct from 13 0 pct until december 1990 it said the noteholders exercise price for 1 125 000 warrants was also reduced to 50 cts from 1 50 dlrs the company said energy assets agreed to share the costs of increasing production at the oak hill field reuter 3',\n",
              " '<sos> strong south easterly winds were keeping many vessels trapped in the ice off the finnish and swedish coasts in one of the worst icy periods in the baltic for many years the finnish board of navigation said in finland and sweden up to 50 vessels were reported to be stuck in the ice and even the largest of the assisting icebreakers were having difficulties in breaking through to the stranded ships coastguard officials said however icy conditions in the southern baltic at the soviet oil ports of ventspils and klaipeda had eased they said weather officials in neighbouring sweden said the icy conditions in the baltic were the worst for 30 years with ships fighting a losing battle to keep moving in the coastal stretches of the gulf of bothnia which divides finland and sweden the ice is up to one metre thick with drifts and currents packing it into almost impenetrable walls three metres high swedish coastguard officials said weather forecasts say winds may ease during the weekend but a further drop in temperature could bring shipping to a standstill the officials said reuter 3']"
            ]
          },
          "metadata": {},
          "execution_count": 21
        }
      ],
      "source": [
        "x_test[:5]"
      ]
    },
    {
      "cell_type": "markdown",
      "metadata": {
        "id": "4sZd2QsyG4UX"
      },
      "source": [
        "##2. 벡터화하기\n",
        ">벡터화 방법 : Bag of Words 가설을 기반으로 하는 DTM, TF-IDF 행렬"
      ]
    },
    {
      "cell_type": "code",
      "execution_count": 22,
      "metadata": {
        "colab": {
          "base_uri": "https://localhost:8080/"
        },
        "id": "tiFlvp-JG8Lu",
        "outputId": "661722b4-c252-41df-953a-0b0b5acf691b"
      },
      "outputs": [
        {
          "output_type": "stream",
          "name": "stdout",
          "text": [
            "=3\n"
          ]
        }
      ],
      "source": [
        "from sklearn.feature_extraction.text import CountVectorizer\n",
        "from sklearn.feature_extraction.text import TfidfTransformer\n",
        "print('=3')"
      ]
    },
    {
      "cell_type": "markdown",
      "metadata": {
        "id": "ijoZ-rx5TbBD"
      },
      "source": [
        "> DTM을 생성, DTM 크기 확인\n",
        "* Document Term Matrix, DTM:\n",
        "  사이킷런의 CountVectorizer()이용"
      ]
    },
    {
      "cell_type": "code",
      "execution_count": 23,
      "metadata": {
        "colab": {
          "base_uri": "https://localhost:8080/"
        },
        "id": "8QAtXK71Txiw",
        "outputId": "7fa116e7-2c4b-4bea-a80f-ef25cffd6b79"
      },
      "outputs": [
        {
          "output_type": "stream",
          "name": "stdout",
          "text": [
            "(8982, 26506)\n"
          ]
        }
      ],
      "source": [
        "dtmvector = CountVectorizer()\n",
        "x_train_dtm = dtmvector.fit_transform(x_train)\n",
        "print(x_train_dtm.shape)"
      ]
    },
    {
      "cell_type": "markdown",
      "metadata": {
        "id": "A0aFTJQ1T7Gt"
      },
      "source": [
        ">TF-IDF 생성, TF-IDF 크기 확인\n",
        "* TF-IDF Matrix: 사이킷런의 TfidfTransformer() 이용"
      ]
    },
    {
      "cell_type": "code",
      "execution_count": 24,
      "metadata": {
        "colab": {
          "base_uri": "https://localhost:8080/"
        },
        "id": "M4B_ZF06Uf9J",
        "outputId": "1541a758-f80c-434d-cf6d-826941fb9af2"
      },
      "outputs": [
        {
          "output_type": "stream",
          "name": "stdout",
          "text": [
            "(8982, 26506)\n"
          ]
        }
      ],
      "source": [
        "tfidf_transformer = TfidfTransformer()\n",
        "tfidfv = tfidf_transformer.fit_transform(x_train_dtm)\n",
        "print(tfidfv.shape)"
      ]
    },
    {
      "cell_type": "markdown",
      "metadata": {
        "id": "WQ50zIj6G8Y8"
      },
      "source": [
        "##3. 나이브 베이즈 분류기\n",
        "* 사이킷런의 MultinomialNB()\n",
        "* 약 66%의 정확도"
      ]
    },
    {
      "cell_type": "code",
      "execution_count": 25,
      "metadata": {
        "id": "c7Agp2TiUfaG"
      },
      "outputs": [],
      "source": [
        "from sklearn.naive_bayes import MultinomialNB #다항분포 나이브 베이즈 모델\n",
        "from sklearn.linear_model import LogisticRegression, SGDClassifier\n",
        "from sklearn.naive_bayes import ComplementNB\n",
        "from sklearn.tree import DecisionTreeClassifier\n",
        "from sklearn.ensemble import RandomForestClassifier\n",
        "from sklearn.ensemble import GradientBoostingClassifier\n",
        "from sklearn.ensemble import VotingClassifier\n",
        "from sklearn.svm import LinearSVC\n",
        "from sklearn.metrics import accuracy_score #정확도 계산"
      ]
    },
    {
      "cell_type": "code",
      "execution_count": 26,
      "metadata": {
        "colab": {
          "base_uri": "https://localhost:8080/"
        },
        "id": "UPq2IL_ZTw3k",
        "outputId": "ffa46df0-4eee-45db-a482-9be09324c1c6"
      },
      "outputs": [
        {
          "output_type": "execute_result",
          "data": {
            "text/plain": [
              "MultinomialNB()"
            ]
          },
          "metadata": {},
          "execution_count": 26
        }
      ],
      "source": [
        "model = MultinomialNB()\n",
        "model.fit(tfidfv, y_train)"
      ]
    },
    {
      "cell_type": "markdown",
      "metadata": {
        "id": "jnUjqn87Xhex"
      },
      "source": [
        " 훈련 데이터와 동일한 전처리\n",
        "\n",
        " : 테스트 데이터도 TF-IDF 행렬로 변환"
      ]
    },
    {
      "cell_type": "code",
      "execution_count": 27,
      "metadata": {
        "colab": {
          "base_uri": "https://localhost:8080/"
        },
        "id": "p6NacRyZVDu_",
        "outputId": "57f4f969-8e06-4c2e-87f3-c2823482f5c1"
      },
      "outputs": [
        {
          "output_type": "stream",
          "name": "stdout",
          "text": [
            "정확도: 0.5997328584149599\n"
          ]
        }
      ],
      "source": [
        "x_test_dtm = dtmvector.transform(x_test) #테스트 데이터를 DTM으로 변환\n",
        "tfidfv_test = tfidf_transformer.transform(x_test_dtm) #DTM을 TF-IDF 행렬로 변환\n",
        "\n",
        "predicted = model.predict(tfidfv_test) #테스트 데이터에 대한 예측\n",
        "print(\"정확도:\", accuracy_score(y_test, predicted)) #예측값과 실제값 비교"
      ]
    },
    {
      "cell_type": "code",
      "execution_count": 28,
      "metadata": {
        "colab": {
          "base_uri": "https://localhost:8080/",
          "height": 125
        },
        "id": "3jybRfLZVhsj",
        "outputId": "e38e0db4-999d-4a0a-dcfc-792b536352f6"
      },
      "outputs": [
        {
          "output_type": "execute_result",
          "data": {
            "text/plain": [
              "'<sos> graham mccormick oil and gas partnership said it completed the sale of interests in two major oil and gas fields to lt energy assets international corp for 21 mln dlrs the company said it sold about one half of its 50 pct interest in the oak hill and north rucias fields its two largest producing properties it said it used about 20 mln dlrs of the proceeds to prepay principal on its senior secured notes semi annual principal payments on the remaining 40 mln dlrs of notes have been satisfied until december 1988 as a result it said the company said the note agreements were amended to reflect an easing of some financial covenants and an increase of interest to 13 5 pct from 13 0 pct until december 1990 it said the noteholders exercise price for 1 125 000 warrants was also reduced to 50 cts from 1 50 dlrs the company said energy assets agreed to share the costs of increasing production at the oak hill field reuter 3'"
            ],
            "application/vnd.google.colaboratory.intrinsic+json": {
              "type": "string"
            }
          },
          "metadata": {},
          "execution_count": 28
        }
      ],
      "source": [
        "x_test[3]"
      ]
    },
    {
      "cell_type": "code",
      "execution_count": 29,
      "metadata": {
        "colab": {
          "base_uri": "https://localhost:8080/",
          "height": 337
        },
        "id": "F-tZiACKVrrb",
        "outputId": "22999582-67f0-4382-83a7-ecc075899074"
      },
      "outputs": [
        {
          "output_type": "display_data",
          "data": {
            "text/plain": [
              "<Figure size 792x360 with 1 Axes>"
            ],
            "image/png": "[encoded data removed]"
          },
          "metadata": {
            "needs_background": "light"
          }
        }
      ],
      "source": [
        "probability_3 = model.predict_proba(tfidfv_test[3])[0]\n",
        "\n",
        "plt.rcParams[\"figure.figsize\"] = (11,5)\n",
        "plt.bar(model.classes_, probability_3)\n",
        "plt.xlim(-1, 21)\n",
        "plt.xticks(model.classes_)\n",
        "plt.xlabel(\"Class\")\n",
        "plt.ylabel(\"Probability\")\n",
        "plt.show()"
      ]
    },
    {
      "cell_type": "code",
      "execution_count": 30,
      "metadata": {
        "colab": {
          "base_uri": "https://localhost:8080/"
        },
        "id": "Cb8T8FgfVum5",
        "outputId": "45d2ce0a-410c-4c67-c002-70bbfef19a13"
      },
      "outputs": [
        {
          "output_type": "execute_result",
          "data": {
            "text/plain": [
              "array([4])"
            ]
          },
          "metadata": {},
          "execution_count": 30
        }
      ],
      "source": [
        "model.predict(tfidfv_test[3])"
      ]
    },
    {
      "cell_type": "markdown",
      "metadata": {
        "id": "ZChrIEycG_g4"
      },
      "source": [
        "## 4. F-1 Score, Confusion Matrix"
      ]
    },
    {
      "cell_type": "code",
      "execution_count": 31,
      "metadata": {
        "colab": {
          "base_uri": "https://localhost:8080/"
        },
        "id": "VQ9ECLbvVuIG",
        "outputId": "3e828e50-9c05-4752-9fa5-13bd6e70323e"
      },
      "outputs": [
        {
          "output_type": "stream",
          "name": "stdout",
          "text": [
            "=3\n"
          ]
        }
      ],
      "source": [
        "from sklearn.metrics import classification_report\n",
        "from sklearn.metrics import confusion_matrix\n",
        "\n",
        "print('=3')"
      ]
    },
    {
      "cell_type": "markdown",
      "metadata": {
        "id": "L1c_DNCIYNve"
      },
      "source": [
        "### Precision, Recall & F1 Score"
      ]
    },
    {
      "cell_type": "code",
      "execution_count": 32,
      "metadata": {
        "colab": {
          "base_uri": "https://localhost:8080/"
        },
        "id": "KW0FO0KGYWSF",
        "outputId": "1fd5efd1-7965-4391-97be-0f0a86a140c7"
      },
      "outputs": [
        {
          "output_type": "stream",
          "name": "stdout",
          "text": [
            "              precision    recall  f1-score   support\n",
            "\n",
            "           0       0.00      0.00      0.00        12\n",
            "           1       0.79      0.21      0.33       105\n",
            "           2       0.00      0.00      0.00        20\n",
            "           3       0.72      0.92      0.81       813\n",
            "           4       0.45      0.96      0.61       474\n",
            "           5       0.00      0.00      0.00         5\n",
            "           6       0.00      0.00      0.00        14\n",
            "           7       0.00      0.00      0.00         3\n",
            "           8       0.00      0.00      0.00        38\n",
            "           9       0.00      0.00      0.00        25\n",
            "          10       0.00      0.00      0.00        30\n",
            "          11       0.80      0.29      0.42        83\n",
            "          12       0.00      0.00      0.00        13\n",
            "          13       0.00      0.00      0.00        37\n",
            "          14       0.00      0.00      0.00         2\n",
            "          15       0.00      0.00      0.00         9\n",
            "          16       0.75      0.18      0.29        99\n",
            "          17       0.00      0.00      0.00        12\n",
            "          18       0.00      0.00      0.00        20\n",
            "          19       0.73      0.58      0.64       133\n",
            "          20       0.00      0.00      0.00        70\n",
            "          21       0.00      0.00      0.00        27\n",
            "          22       0.00      0.00      0.00         7\n",
            "          23       0.00      0.00      0.00        12\n",
            "          24       0.00      0.00      0.00        19\n",
            "          25       0.00      0.00      0.00        31\n",
            "          26       0.00      0.00      0.00         8\n",
            "          27       0.00      0.00      0.00         4\n",
            "          28       0.00      0.00      0.00        10\n",
            "          29       0.00      0.00      0.00         4\n",
            "          30       0.00      0.00      0.00        12\n",
            "          31       0.00      0.00      0.00        13\n",
            "          32       0.00      0.00      0.00        10\n",
            "          33       0.00      0.00      0.00         5\n",
            "          34       0.00      0.00      0.00         7\n",
            "          35       0.00      0.00      0.00         6\n",
            "          36       0.00      0.00      0.00        11\n",
            "          37       0.00      0.00      0.00         2\n",
            "          38       0.00      0.00      0.00         3\n",
            "          39       0.00      0.00      0.00         5\n",
            "          40       0.00      0.00      0.00        10\n",
            "          41       0.00      0.00      0.00         8\n",
            "          42       0.00      0.00      0.00         3\n",
            "          43       0.00      0.00      0.00         6\n",
            "          44       0.00      0.00      0.00         5\n",
            "          45       0.00      0.00      0.00         1\n",
            "\n",
            "    accuracy                           0.60      2246\n",
            "   macro avg       0.09      0.07      0.07      2246\n",
            "weighted avg       0.50      0.60      0.50      2246\n",
            "\n"
          ]
        }
      ],
      "source": [
        "print(classification_report(y_test, model.predict(tfidfv_test), zero_division=0))"
      ]
    },
    {
      "cell_type": "markdown",
      "metadata": {
        "id": "wBPKofF4YR2I"
      },
      "source": [
        "### Confusion Matrix"
      ]
    },
    {
      "cell_type": "code",
      "execution_count": 33,
      "metadata": {
        "colab": {
          "base_uri": "https://localhost:8080/"
        },
        "id": "q2CjCKMoYZ-z",
        "outputId": "546f3eed-5149-4245-97a2-9c7803d7fa1e"
      },
      "outputs": [
        {
          "output_type": "stream",
          "name": "stdout",
          "text": [
            "=3\n"
          ]
        }
      ],
      "source": [
        "def graph_confusion_matrix(model, x_test, y_test):#, classes_name):\n",
        "  df_cm = pd.DataFrame(confusion_matrix(y_test, model.predict(x_test)))#, index=classes_name, columns=classes_name)\n",
        "  fig = plt.figure(figsize=(12,12))\n",
        "  heatmap = sns.heatmap(df_cm, annot=True, fmt=\"d\")\n",
        "  heatmap.yaxis.set_ticklabels(heatmap.yaxis.get_ticklabels(), rotation=0, ha='right', fontsize=12)\n",
        "  heatmap.xaxis.set_ticklabels(heatmap.xaxis.get_ticklabels(), rotation=45, ha='right', fontsize=12)\n",
        "  plt.ylabel('label')\n",
        "  plt.xlabel('predicted value')\n",
        "\n",
        "print('=3')"
      ]
    },
    {
      "cell_type": "code",
      "execution_count": 34,
      "metadata": {
        "colab": {
          "base_uri": "https://localhost:8080/",
          "height": 0
        },
        "id": "MAXNdQUyYcCT",
        "outputId": "7e5fb262-df47-4ec8-d0f0-594aa9da5cb6"
      },
      "outputs": [
        {
          "output_type": "display_data",
          "data": {
            "text/plain": [
              "<Figure size 864x864 with 2 Axes>"
            ],
            "image/png": "[encoded data removed]"
          },
          "metadata": {
            "needs_background": "light"
          }
        }
      ],
      "source": [
        "graph_confusion_matrix(model, tfidfv_test, y_test)"
      ]
    },
    {
      "cell_type": "markdown",
      "source": [
        "## 5. 다양한 머신러닝 기법"
      ],
      "metadata": {
        "id": "hfCz0ilTOEkI"
      }
    },
    {
      "cell_type": "markdown",
      "metadata": {
        "id": "JwA7-yBry8hd"
      },
      "source": [
        "* CNB"
      ]
    },
    {
      "cell_type": "code",
      "source": [
        "CNB = ComplementNB()\n",
        "CNB.fit(tfidfv, y_train)\n",
        "\n",
        "predicted = CNB.predict(tfidfv_test) #테스트 데이터에 대한 예측\n",
        "print(\"정확도:\", accuracy_score(y_test, predicted)) #예측값과 실제값 비교"
      ],
      "metadata": {
        "colab": {
          "base_uri": "https://localhost:8080/"
        },
        "id": "XFDEwSXEPXz-",
        "outputId": "b9eafbc1-4afa-404a-c67f-05d9ee9977f2"
      },
      "execution_count": 35,
      "outputs": [
        {
          "output_type": "stream",
          "name": "stdout",
          "text": [
            "정확도: 0.7649154051647373\n"
          ]
        }
      ]
    },
    {
      "cell_type": "markdown",
      "metadata": {
        "id": "HAndZdxuy8qS"
      },
      "source": [
        "* Logistic Regression"
      ]
    },
    {
      "cell_type": "code",
      "execution_count": 36,
      "metadata": {
        "id": "aW4M-4G83g4S",
        "colab": {
          "base_uri": "https://localhost:8080/"
        },
        "outputId": "9f30bd58-d0a6-4763-f1ba-873c896999a6"
      },
      "outputs": [
        {
          "output_type": "stream",
          "name": "stdout",
          "text": [
            "정확도: 0.7920747996438112\n"
          ]
        }
      ],
      "source": [
        "logistic_model = LogisticRegression(max_iter = 10 ** 4)\n",
        "logistic_model.fit(tfidfv, y_train)\n",
        "\n",
        "\n",
        "predicted = logistic_model.predict(tfidfv_test) #테스트 데이터에 대한 예측\n",
        "print(\"정확도:\", accuracy_score(y_test, predicted)) #예측값과 실제값 비교"
      ]
    },
    {
      "cell_type": "markdown",
      "metadata": {
        "id": "MXnecQe4y9Sb"
      },
      "source": [
        "* Linear Support Vector Machine"
      ]
    },
    {
      "cell_type": "code",
      "execution_count": 37,
      "metadata": {
        "id": "hFSnXZtl3j9G",
        "colab": {
          "base_uri": "https://localhost:8080/"
        },
        "outputId": "c3bc5156-4188-45f8-898a-182b5945c19b"
      },
      "outputs": [
        {
          "output_type": "stream",
          "name": "stdout",
          "text": [
            "정확도: 0.8294746215494212\n"
          ]
        }
      ],
      "source": [
        "svm_model = LinearSVC()\n",
        "svm_model.fit(tfidfv, y_train)\n",
        "\n",
        "\n",
        "predicted = svm_model.predict(tfidfv_test) #테스트 데이터에 대한 예측\n",
        "print(\"정확도:\", accuracy_score(y_test, predicted)) #예측값과 실제값 비교"
      ]
    },
    {
      "cell_type": "markdown",
      "metadata": {
        "id": "asd3FdKPy9WB"
      },
      "source": [
        "* Decision Tree"
      ]
    },
    {
      "cell_type": "code",
      "execution_count": 38,
      "metadata": {
        "id": "aOZUPuKT3p2K",
        "colab": {
          "base_uri": "https://localhost:8080/"
        },
        "outputId": "61ea7766-4562-4cbe-d015-8acbc4889f8f"
      },
      "outputs": [
        {
          "output_type": "stream",
          "name": "stdout",
          "text": [
            "정확도: 0.7003561887800535\n"
          ]
        }
      ],
      "source": [
        "decision_tree = DecisionTreeClassifier(random_state=32)\n",
        "decision_tree.fit(tfidfv, y_train)\n",
        "\n",
        "\n",
        "predicted = decision_tree.predict(tfidfv_test) #테스트 데이터에 대한 예측\n",
        "print(\"정확도:\", accuracy_score(y_test, predicted)) #예측값과 실제값 비교"
      ]
    },
    {
      "cell_type": "markdown",
      "metadata": {
        "id": "Zqm0c3Oby9bg"
      },
      "source": [
        "* Random Forest "
      ]
    },
    {
      "cell_type": "code",
      "execution_count": 39,
      "metadata": {
        "id": "H8dkJQ7S3uNn",
        "colab": {
          "base_uri": "https://localhost:8080/"
        },
        "outputId": "b16b9deb-4816-4993-8eeb-545cf7830004"
      },
      "outputs": [
        {
          "output_type": "stream",
          "name": "stdout",
          "text": [
            "정확도: 0.7422083704363313\n"
          ]
        }
      ],
      "source": [
        "random_forest = RandomForestClassifier(random_state=32)\n",
        "random_forest.fit(tfidfv, y_train)\n",
        "\n",
        "\n",
        "predicted = random_forest.predict(tfidfv_test) #테스트 데이터에 대한 예측\n",
        "print(\"정확도:\", accuracy_score(y_test, predicted)) #예측값과 실제값 비교"
      ]
    },
    {
      "cell_type": "markdown",
      "metadata": {
        "id": "IzrvDYt5zdMS"
      },
      "source": [
        "* Gradient Boosting Classifer"
      ]
    },
    {
      "cell_type": "code",
      "execution_count": 40,
      "metadata": {
        "id": "ivjWsPkg3xmR",
        "colab": {
          "base_uri": "https://localhost:8080/"
        },
        "outputId": "361e6f21-d374-45b3-effd-a9ca68c2486b"
      },
      "outputs": [
        {
          "output_type": "stream",
          "name": "stdout",
          "text": [
            "정확도: 0.7658058771148709\n"
          ]
        }
      ],
      "source": [
        "gradient_boosting = GradientBoostingClassifier(random_state=32)\n",
        "gradient_boosting.fit(tfidfv, y_train)\n",
        "\n",
        "\n",
        "predicted = gradient_boosting.predict(tfidfv_test) #테스트 데이터에 대한 예측\n",
        "print(\"정확도:\", accuracy_score(y_test, predicted)) #예측값과 실제값 비교"
      ]
    },
    {
      "cell_type": "markdown",
      "metadata": {
        "id": "KEcOC0pYzgxc"
      },
      "source": [
        "* Voting"
      ]
    },
    {
      "cell_type": "code",
      "source": [
        "voting_classifier = VotingClassifier(estimators=[\n",
        "    ('lr', LogisticRegression(C=10000, penalty='l2')),\n",
        "    ('cb', ComplementNB()),\n",
        "    ('grbt', GradientBoostingClassifier(random_state=0))\n",
        "], voting='soft', n_jobs=-1)\n",
        "voting_classifier.fit(tfidfv, y_train)\n",
        "\n",
        "\n",
        "predicted = voting_classifier.predict(tfidfv_test) #테스트 데이터에 대한 예측\n",
        "print(\"정확도:\", accuracy_score(y_test, predicted)) #예측값과 실제값 비교\n",
        "\n",
        "# pred = voting_classifier.predict(tfidfv)\n",
        "# accuracy_score(X_test,pred)\n",
        "\n",
        "# predicted = voting_classifier.fit(tfidfv, y_train)\n",
        "# print(\"정확도:\", accuracy_score(y_test, predicted)) #예측값과 실제값 비교"
      ],
      "metadata": {
        "colab": {
          "base_uri": "https://localhost:8080/"
        },
        "id": "lLYcz8FuQgk8",
        "outputId": "e9e9859b-8954-4d3f-beaf-3573cb7e4a57"
      },
      "execution_count": 46,
      "outputs": [
        {
          "output_type": "stream",
          "name": "stdout",
          "text": [
            "정확도: 0.8183437221727515\n"
          ]
        }
      ]
    },
    {
      "cell_type": "code",
      "execution_count": 47,
      "metadata": {
        "id": "Z68W8IgB31Ka"
      },
      "outputs": [],
      "source": [
        "# voting = VotingClassifier()\n",
        "# voting.fit(tfidfv, y_train)\n",
        "\n",
        "\n",
        "# predicted = voting.predict(tfidfv_test) #테스트 데이터에 대한 예측\n",
        "# print(\"정확도:\", accuracy_score(y_test, predicted)) #예측값과 실제값 비교"
      ]
    },
    {
      "cell_type": "markdown",
      "metadata": {
        "id": "4lh9MVa2IVP6"
      },
      "source": [
        "# 1.다양한 모델 사용해보기 : 빈도수 상위 5000개"
      ]
    },
    {
      "cell_type": "markdown",
      "metadata": {
        "id": "QoFZuDxJl04K"
      },
      "source": [
        "## 1.데이터 로드"
      ]
    },
    {
      "cell_type": "code",
      "execution_count": 48,
      "metadata": {
        "id": "DnNoZ1m1lsS3"
      },
      "outputs": [],
      "source": [
        "(x_train, y_train), (x_test, y_test) = reuters.load_data(num_words= 5000 , test_split=0.2)"
      ]
    },
    {
      "cell_type": "code",
      "execution_count": 49,
      "metadata": {
        "colab": {
          "base_uri": "https://localhost:8080/"
        },
        "id": "KwAcESv6mCKg",
        "outputId": "5349b8a4-37bf-41d6-8618-83090c58798f"
      },
      "outputs": [
        {
          "output_type": "stream",
          "name": "stdout",
          "text": [
            "훈련 샘플의 수: 8982\n",
            "테스트 샘플의 수: 2246\n"
          ]
        }
      ],
      "source": [
        "print('훈련 샘플의 수: {}'.format(len(x_train)))\n",
        "print('테스트 샘플의 수: {}'.format(len(x_test)))"
      ]
    },
    {
      "cell_type": "markdown",
      "metadata": {
        "id": "Wc81mHJYnOZb"
      },
      "source": [
        "## 2.데이터 복원"
      ]
    },
    {
      "cell_type": "markdown",
      "metadata": {
        "id": "ilyr4GLdnTxx"
      },
      "source": [
        "정수 시퀀스로 변환된 데이터 > 다시 텍스트 데이터"
      ]
    },
    {
      "cell_type": "markdown",
      "metadata": {
        "id": "DKJN6mnDn5-p"
      },
      "source": [
        "로이터 뉴스 데이터:\n",
        "\n",
        "'단어'를 key값으로, 고유한 '정수'를 value로 가지는 dictionary를 제공"
      ]
    },
    {
      "cell_type": "code",
      "execution_count": 50,
      "metadata": {
        "id": "ZkZb64HlnSuj"
      },
      "outputs": [],
      "source": [
        "word_index = reuters.get_word_index(path=\"reuters_word_index.json\")\n",
        "# print('=3')"
      ]
    },
    {
      "cell_type": "markdown",
      "metadata": {
        "id": "-5bfIlC7nvIn"
      },
      "source": [
        "word_index에서 index_word를 만들 때, 각 정수에 +3\n",
        "\n",
        " :word_index에 입력으로 했을 때, 얻는 숫자보다는 +3 을 한 숫자가 원래 고유한 숫자"
      ]
    },
    {
      "cell_type": "code",
      "execution_count": 51,
      "metadata": {
        "id": "5XKGwrHhnnYh"
      },
      "outputs": [],
      "source": [
        "index_to_word = { index+3 : word for word, index in word_index.items() }\n",
        "# print('=3')"
      ]
    },
    {
      "cell_type": "code",
      "execution_count": 52,
      "metadata": {
        "id": "hKtb-sJvo7oG"
      },
      "outputs": [],
      "source": [
        "# index_to_word에 숫자 0은 <pad>, 숫자 1은 <sos>, 숫자 2는 <unk>를 넣어줍니다.\n",
        "for index, token in enumerate((\"<pad>\", \"<sos>\", \"<unk>\")):\n",
        "  index_to_word[index]=token\n",
        "# print('=3')"
      ]
    },
    {
      "cell_type": "markdown",
      "metadata": {
        "id": "oO0DpJdJokZ7"
      },
      "source": [
        "단어장(Vocabulary) : 기계가 알고 있는 단어들의 집합\n",
        "\n",
        "OOV(Out-Of-Vocabulary) 또는 UNK(Unknown) : 기계가 미처 배우지 못한 모르는 단어"
      ]
    },
    {
      "cell_type": "code",
      "execution_count": 53,
      "metadata": {
        "colab": {
          "base_uri": "https://localhost:8080/"
        },
        "id": "b5aGh3gHnzhE",
        "outputId": "d5ebe829-48f0-48f0-b4dd-791d617ec45a"
      },
      "outputs": [
        {
          "output_type": "stream",
          "name": "stdout",
          "text": [
            "8982\n"
          ]
        }
      ],
      "source": [
        "decoded = []\n",
        "for i in range(len(x_train)):\n",
        "    t = ' '.join([index_to_word[index] for index in x_train[i]])\n",
        "    decoded.append(t)\n",
        "\n",
        "x_train = decoded\n",
        "print(len(x_train))"
      ]
    },
    {
      "cell_type": "code",
      "execution_count": 54,
      "metadata": {
        "colab": {
          "base_uri": "https://localhost:8080/"
        },
        "id": "c4j1hxvkouPp",
        "outputId": "8107405f-84ae-444e-e59f-d8fad1bbfefb"
      },
      "outputs": [
        {
          "output_type": "stream",
          "name": "stdout",
          "text": [
            "2246\n"
          ]
        }
      ],
      "source": [
        "decoded = []\n",
        "for i in range(len(x_test)):\n",
        "    t = ' '.join([index_to_word[index] for index in x_test[i]])\n",
        "    decoded.append(t)\n",
        "\n",
        "x_test = decoded\n",
        "print(len(x_test))"
      ]
    },
    {
      "cell_type": "markdown",
      "metadata": {
        "id": "ArEJzjI9pHDQ"
      },
      "source": [
        "## 3.벡터화하기"
      ]
    },
    {
      "cell_type": "code",
      "execution_count": 55,
      "metadata": {
        "colab": {
          "base_uri": "https://localhost:8080/"
        },
        "id": "DjFVLJkopYqv",
        "outputId": "11d3a20c-159f-49df-c78e-c92e613fe49b"
      },
      "outputs": [
        {
          "output_type": "stream",
          "name": "stdout",
          "text": [
            "=3\n"
          ]
        }
      ],
      "source": [
        "from sklearn.feature_extraction.text import CountVectorizer\n",
        "from sklearn.feature_extraction.text import TfidfTransformer\n",
        "print('=3')"
      ]
    },
    {
      "cell_type": "code",
      "execution_count": 56,
      "metadata": {
        "colab": {
          "base_uri": "https://localhost:8080/"
        },
        "id": "oOuVBb8XpcFh",
        "outputId": "779e72b4-ed35-4766-f5f2-b95a366a7b67"
      },
      "outputs": [
        {
          "output_type": "stream",
          "name": "stdout",
          "text": [
            "(8982, 4867)\n"
          ]
        }
      ],
      "source": [
        "dtmvector = CountVectorizer()\n",
        "x_train_dtm = dtmvector.fit_transform(x_train)\n",
        "print(x_train_dtm.shape)"
      ]
    },
    {
      "cell_type": "code",
      "execution_count": 57,
      "metadata": {
        "colab": {
          "base_uri": "https://localhost:8080/"
        },
        "id": "PGYzAoFppgpm",
        "outputId": "1971720e-52dd-4ffe-9285-47c0f5dab543"
      },
      "outputs": [
        {
          "output_type": "stream",
          "name": "stdout",
          "text": [
            "(8982, 4867)\n"
          ]
        }
      ],
      "source": [
        "tfidf_transformer = TfidfTransformer()\n",
        "tfidfv = tfidf_transformer.fit_transform(x_train_dtm)\n",
        "print(tfidfv.shape)"
      ]
    },
    {
      "cell_type": "markdown",
      "metadata": {
        "id": "9o8ByPbHphwx"
      },
      "source": [
        "## 4.다양한 머신러닝 모델 학습"
      ]
    },
    {
      "cell_type": "code",
      "execution_count": 58,
      "metadata": {
        "id": "BMSkFbcdgnCe"
      },
      "outputs": [],
      "source": [
        "# from sklearn.naive_bayes import MultinomialNB #다항분포 나이브 베이즈 모델\n",
        "# from sklearn.linear_model import LogisticRegression, SGDClassifier\n",
        "# from sklearn.naive_bayes import ComplementNB\n",
        "# from sklearn.tree import DecisionTreeClassifier\n",
        "# from sklearn.ensemble import RandomForestClassifier\n",
        "# from sklearn.ensemble import GradientBoostingClassifier\n",
        "# from sklearn.ensemble import VotingClassifier\n",
        "# from sklearn.svm import LinearSVC\n",
        "\n",
        "# from sklearn.metrics import accuracy_score #정확도 계산"
      ]
    },
    {
      "cell_type": "markdown",
      "metadata": {
        "id": "WT4myNAikO28"
      },
      "source": [
        "* MultinomialNB"
      ]
    },
    {
      "cell_type": "code",
      "execution_count": 59,
      "metadata": {
        "colab": {
          "base_uri": "https://localhost:8080/"
        },
        "id": "J8-kAhSjkEOB",
        "outputId": "a3680ccb-e897-404d-b00a-dcc3c75affff"
      },
      "outputs": [
        {
          "output_type": "stream",
          "name": "stdout",
          "text": [
            "정확도: 0.6731967943009796\n"
          ]
        }
      ],
      "source": [
        "MultinomialNB = MultinomialNB()\n",
        "MultinomialNB.fit(tfidfv, y_train)\n",
        "\n",
        "x_test_dtm = dtmvector.transform(x_test) #테스트 데이터를 DTM으로 변환\n",
        "tfidfv_test = tfidf_transformer.transform(x_test_dtm) #DTM을 TF-IDF 행렬로 변환\n",
        "\n",
        "predicted = MultinomialNB.predict(tfidfv_test) #테스트 데이터에 대한 예측\n",
        "print(\"정확도:\", accuracy_score(y_test, predicted)) #예측값과 실제값 비교"
      ]
    },
    {
      "cell_type": "markdown",
      "metadata": {
        "id": "nPgfOdVLYx8X"
      },
      "source": [
        "* Complement Naive Bayes Classifier(CNB)"
      ]
    },
    {
      "cell_type": "code",
      "execution_count": 60,
      "metadata": {
        "colab": {
          "base_uri": "https://localhost:8080/"
        },
        "id": "lSQ61jxVpd91",
        "outputId": "84af03b7-ffc9-47a6-b118-8d87fd151f5c"
      },
      "outputs": [
        {
          "output_type": "stream",
          "name": "stdout",
          "text": [
            "정확도: 0.7707034728406055\n"
          ]
        }
      ],
      "source": [
        "CNB = ComplementNB()\n",
        "CNB.fit(tfidfv, y_train)\n",
        "\n",
        "predicted = CNB.predict(tfidfv_test) #테스트 데이터에 대한 예측\n",
        "print(\"정확도:\", accuracy_score(y_test, predicted)) #예측값과 실제값 비교"
      ]
    },
    {
      "cell_type": "markdown",
      "metadata": {
        "id": "nTZ24RmOY0cU"
      },
      "source": [
        "* 로지스틱 회귀(Logistic Regression)"
      ]
    },
    {
      "cell_type": "code",
      "execution_count": 61,
      "metadata": {
        "colab": {
          "base_uri": "https://localhost:8080/"
        },
        "id": "Q0a_N1UwfSgE",
        "outputId": "56ef81d5-768f-4054-d885-b209a32f1675"
      },
      "outputs": [
        {
          "output_type": "stream",
          "name": "stdout",
          "text": [
            "정확도: 0.7974176313446126\n"
          ]
        }
      ],
      "source": [
        "logistic_model = LogisticRegression(max_iter = 10 ** 4)\n",
        "logistic_model.fit(tfidfv, y_train)\n",
        "\n",
        "\n",
        "predicted = logistic_model.predict(tfidfv_test) #테스트 데이터에 대한 예측\n",
        "print(\"정확도:\", accuracy_score(y_test, predicted)) #예측값과 실제값 비교"
      ]
    },
    {
      "cell_type": "markdown",
      "metadata": {
        "id": "hMZ1uhq0Y3Nx"
      },
      "source": [
        "* 선형 서포트 벡터 머신(Linear Support Vector Machine)"
      ]
    },
    {
      "cell_type": "code",
      "execution_count": 62,
      "metadata": {
        "colab": {
          "base_uri": "https://localhost:8080/"
        },
        "id": "nkaWUlGugNqg",
        "outputId": "316ad5b5-bb40-41de-f957-aac463cc1255"
      },
      "outputs": [
        {
          "output_type": "stream",
          "name": "stdout",
          "text": [
            "정확도: 0.8290293855743545\n"
          ]
        }
      ],
      "source": [
        "svm_model = LinearSVC()\n",
        "svm_model.fit(tfidfv, y_train)\n",
        "\n",
        "\n",
        "predicted = svm_model.predict(tfidfv_test) #테스트 데이터에 대한 예측\n",
        "print(\"정확도:\", accuracy_score(y_test, predicted)) #예측값과 실제값 비교"
      ]
    },
    {
      "cell_type": "markdown",
      "metadata": {
        "id": "dSLTXsFFY6b5"
      },
      "source": [
        "* 결정 트리(Decision Tree)"
      ]
    },
    {
      "cell_type": "code",
      "execution_count": 63,
      "metadata": {
        "colab": {
          "base_uri": "https://localhost:8080/"
        },
        "id": "P866TxDZg6Dj",
        "outputId": "6da45415-ca6b-4009-d4f0-1cad9cd2765c"
      },
      "outputs": [
        {
          "output_type": "stream",
          "name": "stdout",
          "text": [
            "정확도: 0.6963490650044524\n"
          ]
        }
      ],
      "source": [
        "decision_tree = DecisionTreeClassifier(random_state=32)\n",
        "decision_tree.fit(tfidfv, y_train)\n",
        "\n",
        "\n",
        "predicted = decision_tree.predict(tfidfv_test) #테스트 데이터에 대한 예측\n",
        "print(\"정확도:\", accuracy_score(y_test, predicted)) #예측값과 실제값 비교"
      ]
    },
    {
      "cell_type": "markdown",
      "metadata": {
        "id": "kqxaIBAvY834"
      },
      "source": [
        "* 랜덤 포레스트(Random Forest)"
      ]
    },
    {
      "cell_type": "code",
      "execution_count": 64,
      "metadata": {
        "colab": {
          "base_uri": "https://localhost:8080/"
        },
        "id": "2_2SaZcPhIe7",
        "outputId": "92a77462-1f52-457b-dabb-e352eff5bdc0"
      },
      "outputs": [
        {
          "output_type": "stream",
          "name": "stdout",
          "text": [
            "정확도: 0.7684772929652716\n"
          ]
        }
      ],
      "source": [
        "random_forest = RandomForestClassifier(random_state=32)\n",
        "random_forest.fit(tfidfv, y_train)\n",
        "\n",
        "\n",
        "predicted = random_forest.predict(tfidfv_test) #테스트 데이터에 대한 예측\n",
        "print(\"정확도:\", accuracy_score(y_test, predicted)) #예측값과 실제값 비교"
      ]
    },
    {
      "cell_type": "markdown",
      "metadata": {
        "id": "evkKC0fnY_qm"
      },
      "source": [
        "* 그래디언트 부스팅 트리(GradientBoostingClassifier)"
      ]
    },
    {
      "cell_type": "code",
      "execution_count": 65,
      "metadata": {
        "colab": {
          "base_uri": "https://localhost:8080/"
        },
        "id": "oNz04i9OZASr",
        "outputId": "18b5b8d1-de6d-4eaf-d97a-ae8425a9dd15"
      },
      "outputs": [
        {
          "output_type": "stream",
          "name": "stdout",
          "text": [
            "정확도: 0.7662511130899377\n"
          ]
        }
      ],
      "source": [
        "gradient_boosting = GradientBoostingClassifier(random_state=32)\n",
        "gradient_boosting.fit(tfidfv, y_train)\n",
        "\n",
        "\n",
        "predicted = gradient_boosting.predict(tfidfv_test) #테스트 데이터에 대한 예측\n",
        "print(\"정확도:\", accuracy_score(y_test, predicted)) #예측값과 실제값 비교"
      ]
    },
    {
      "cell_type": "markdown",
      "metadata": {
        "id": "wRPP3lSfZCe4"
      },
      "source": [
        "### 보팅(Voting)"
      ]
    },
    {
      "cell_type": "code",
      "source": [
        "voting_classifier = VotingClassifier(estimators=[\n",
        "    ('lr', LogisticRegression(C=10000, penalty='l2')),\n",
        "    ('cb', ComplementNB()),\n",
        "    ('grbt', GradientBoostingClassifier(random_state=0))\n",
        "], voting='soft', n_jobs=-1)\n",
        "voting_classifier.fit(tfidfv, y_train)\n",
        "\n",
        "\n",
        "predicted = voting_classifier.predict(tfidfv_test) #테스트 데이터에 대한 예측\n",
        "print(\"정확도:\", accuracy_score(y_test, predicted)) #예측값과 실제값 비교"
      ],
      "metadata": {
        "colab": {
          "base_uri": "https://localhost:8080/"
        },
        "id": "YhrEdP2IMs7s",
        "outputId": "f123f8e9-16ee-4233-82fb-c279244d5c8a"
      },
      "execution_count": 66,
      "outputs": [
        {
          "output_type": "stream",
          "name": "stdout",
          "text": [
            "정확도: 0.8161175422974176\n"
          ]
        }
      ]
    },
    {
      "cell_type": "code",
      "execution_count": 67,
      "metadata": {
        "id": "Z_oLnABvZDG2"
      },
      "outputs": [],
      "source": [
        "# voting = VotingClassifier()\n",
        "# voting.fit(tfidfv, y_train)\n",
        "\n",
        "\n",
        "# predicted = voting.predict(tfidfv_test) #테스트 데이터에 대한 예측\n",
        "# print(\"정확도:\", accuracy_score(y_test, predicted)) #예측값과 실제값 비교"
      ]
    },
    {
      "cell_type": "markdown",
      "metadata": {
        "id": "PBnAdpHYgCFr"
      },
      "source": [
        "# 2.다양한 모델 사용해보기 : 빈도수 상위 10000개"
      ]
    },
    {
      "cell_type": "markdown",
      "metadata": {
        "id": "DlXQ8iWJxDe2"
      },
      "source": [
        "## 1.데이터 로드"
      ]
    },
    {
      "cell_type": "code",
      "execution_count": 68,
      "metadata": {
        "id": "FlVXJ4XGuuuC"
      },
      "outputs": [],
      "source": [
        "(x_train, y_train), (x_test, y_test) = reuters.load_data(num_words= 10000 , test_split=0.2)"
      ]
    },
    {
      "cell_type": "code",
      "execution_count": 69,
      "metadata": {
        "id": "fgj_SnGKu0fU",
        "colab": {
          "base_uri": "https://localhost:8080/"
        },
        "outputId": "681380cc-2286-4fa4-a3ad-c08fb90e22d5"
      },
      "outputs": [
        {
          "output_type": "stream",
          "name": "stdout",
          "text": [
            "훈련 샘플의 수: 8982\n",
            "테스트 샘플의 수: 2246\n"
          ]
        }
      ],
      "source": [
        "print('훈련 샘플의 수: {}'.format(len(x_train)))\n",
        "print('테스트 샘플의 수: {}'.format(len(x_test)))"
      ]
    },
    {
      "cell_type": "code",
      "execution_count": 70,
      "metadata": {
        "id": "qaIyoK-Mu5U6"
      },
      "outputs": [],
      "source": [
        "word_index = reuters.get_word_index(path=\"reuters_word_index.json\")"
      ]
    },
    {
      "cell_type": "markdown",
      "metadata": {
        "id": "VU_lcfn4vZIi"
      },
      "source": [
        "## 2.데이터 복원"
      ]
    },
    {
      "cell_type": "code",
      "execution_count": 71,
      "metadata": {
        "id": "xc5ye33Fu95U"
      },
      "outputs": [],
      "source": [
        "index_to_word = { index+3 : word for word, index in word_index.items() }"
      ]
    },
    {
      "cell_type": "code",
      "execution_count": 72,
      "metadata": {
        "id": "Mjp7l4IJvC8J"
      },
      "outputs": [],
      "source": [
        "# index_to_word에 숫자 0은 <pad>, 숫자 1은 <sos>, 숫자 2는 <unk>를 넣어줍니다.\n",
        "for index, token in enumerate((\"<pad>\", \"<sos>\", \"<unk>\")):\n",
        "  index_to_word[index]=token"
      ]
    },
    {
      "cell_type": "code",
      "execution_count": 73,
      "metadata": {
        "id": "9n0NribPvaek",
        "colab": {
          "base_uri": "https://localhost:8080/"
        },
        "outputId": "9d1e018f-725d-4a50-be8b-7c41a95cddee"
      },
      "outputs": [
        {
          "output_type": "stream",
          "name": "stdout",
          "text": [
            "=3\n"
          ]
        }
      ],
      "source": [
        "from sklearn.feature_extraction.text import CountVectorizer\n",
        "from sklearn.feature_extraction.text import TfidfTransformer\n",
        "print('=3')"
      ]
    },
    {
      "cell_type": "code",
      "execution_count": 74,
      "metadata": {
        "id": "rjvqIlDG0MiU",
        "colab": {
          "base_uri": "https://localhost:8080/"
        },
        "outputId": "bc7bf6cf-1431-4082-cbe4-0c6783425ecf"
      },
      "outputs": [
        {
          "output_type": "stream",
          "name": "stdout",
          "text": [
            "8982\n"
          ]
        }
      ],
      "source": [
        "decoded = []\n",
        "for i in range(len(x_train)):\n",
        "    t = ' '.join([index_to_word[index] for index in x_train[i]])\n",
        "    decoded.append(t)\n",
        "\n",
        "x_train = decoded\n",
        "print(len(x_train))"
      ]
    },
    {
      "cell_type": "code",
      "execution_count": 75,
      "metadata": {
        "id": "1dXv7JHK1YJO",
        "colab": {
          "base_uri": "https://localhost:8080/"
        },
        "outputId": "56086c9d-a57d-4fce-e371-dfa3a4cc4e7c"
      },
      "outputs": [
        {
          "output_type": "stream",
          "name": "stdout",
          "text": [
            "2246\n"
          ]
        }
      ],
      "source": [
        "decoded = []\n",
        "for i in range(len(x_test)):\n",
        "    t = ' '.join([index_to_word[index] for index in x_test[i]])\n",
        "    decoded.append(t)\n",
        "\n",
        "x_test = decoded\n",
        "print(len(x_test))"
      ]
    },
    {
      "cell_type": "markdown",
      "metadata": {
        "id": "siNT01D-xVLV"
      },
      "source": [
        "## 3.벡터화하기"
      ]
    },
    {
      "cell_type": "code",
      "execution_count": 76,
      "metadata": {
        "id": "gBe1ZFxIxYyn",
        "colab": {
          "base_uri": "https://localhost:8080/"
        },
        "outputId": "9e1a7bf1-a641-4358-9b0c-88d24d4bbc39"
      },
      "outputs": [
        {
          "output_type": "stream",
          "name": "stdout",
          "text": [
            "=3\n"
          ]
        }
      ],
      "source": [
        "from sklearn.feature_extraction.text import CountVectorizer\n",
        "from sklearn.feature_extraction.text import TfidfTransformer\n",
        "print('=3')"
      ]
    },
    {
      "cell_type": "code",
      "execution_count": 77,
      "metadata": {
        "id": "CicvMHqExb3f",
        "colab": {
          "base_uri": "https://localhost:8080/"
        },
        "outputId": "31f1ff80-0d42-4723-85cb-58083df634b0"
      },
      "outputs": [
        {
          "output_type": "stream",
          "name": "stdout",
          "text": [
            "(8982, 9670)\n"
          ]
        }
      ],
      "source": [
        "dtmvector = CountVectorizer()\n",
        "x_train_dtm = dtmvector.fit_transform(x_train)\n",
        "print(x_train_dtm.shape)"
      ]
    },
    {
      "cell_type": "code",
      "execution_count": 78,
      "metadata": {
        "id": "2_wIjqx-xehj",
        "colab": {
          "base_uri": "https://localhost:8080/"
        },
        "outputId": "e78b62de-1b43-430f-fb09-71fb164562ea"
      },
      "outputs": [
        {
          "output_type": "stream",
          "name": "stdout",
          "text": [
            "(8982, 9670)\n"
          ]
        }
      ],
      "source": [
        "tfidf_transformer = TfidfTransformer()\n",
        "tfidfv = tfidf_transformer.fit_transform(x_train_dtm)\n",
        "print(tfidfv.shape)"
      ]
    },
    {
      "cell_type": "markdown",
      "metadata": {
        "id": "pJS5vWkFxitf"
      },
      "source": [
        "## 4.다양한 머신러닝 모델 학습"
      ]
    },
    {
      "cell_type": "code",
      "source": [
        "from sklearn.naive_bayes import MultinomialNB #다항분포 나이브 베이즈 모델\n",
        "from sklearn.linear_model import LogisticRegression, SGDClassifier\n",
        "from sklearn.naive_bayes import ComplementNB\n",
        "from sklearn.tree import DecisionTreeClassifier\n",
        "from sklearn.ensemble import RandomForestClassifier\n",
        "from sklearn.ensemble import GradientBoostingClassifier\n",
        "from sklearn.ensemble import VotingClassifier\n",
        "from sklearn.svm import LinearSVC\n",
        "\n",
        "from sklearn.metrics import accuracy_score #정확도 계산"
      ],
      "metadata": {
        "id": "XIZj77rStIAu"
      },
      "execution_count": 81,
      "outputs": []
    },
    {
      "cell_type": "markdown",
      "metadata": {
        "id": "V7QlMzH3lAd7"
      },
      "source": [
        "* 1.MultinomialNB"
      ]
    },
    {
      "cell_type": "code",
      "source": [
        "MultinomialNB = MultinomialNB()\n",
        "MultinomialNB.fit(tfidfv, y_train)\n",
        "\n",
        "x_test_dtm = dtmvector.transform(x_test) #테스트 데이터를 DTM으로 변환\n",
        "tfidfv_test = tfidf_transformer.transform(x_test_dtm) #DTM을 TF-IDF 행렬로 변환\n",
        "\n",
        "predicted = MultinomialNB.predict(tfidfv_test) #테스트 데이터에 대한 예측\n",
        "print(\"정확도:\", accuracy_score(y_test, predicted)) #예측값과 실제값 비교"
      ],
      "metadata": {
        "colab": {
          "base_uri": "https://localhost:8080/"
        },
        "id": "nBlKpgbjs_m-",
        "outputId": "6d7fd949-3426-4e23-a153-e0a16ef86f3c"
      },
      "execution_count": 82,
      "outputs": [
        {
          "output_type": "stream",
          "name": "stdout",
          "text": [
            "정확도: 0.6567230632235085\n"
          ]
        }
      ]
    },
    {
      "cell_type": "markdown",
      "metadata": {
        "id": "QX4t_kuHxzYH"
      },
      "source": [
        "* 2.CNB"
      ]
    },
    {
      "cell_type": "code",
      "execution_count": 83,
      "metadata": {
        "id": "Xnsw3I4012g3",
        "colab": {
          "base_uri": "https://localhost:8080/"
        },
        "outputId": "561b2d24-c3c4-430f-ba4f-3b55bfbe8ebe"
      },
      "outputs": [
        {
          "output_type": "stream",
          "name": "stdout",
          "text": [
            "정확도: 0.7707034728406055\n"
          ]
        }
      ],
      "source": [
        "CNB = ComplementNB()\n",
        "CNB.fit(tfidfv, y_train)\n",
        "\n",
        "\n",
        "predicted = CNB.predict(tfidfv_test) #테스트 데이터에 대한 예측\n",
        "print(\"정확도:\", accuracy_score(y_test, predicted)) #예측값과 실제값 비교"
      ]
    },
    {
      "cell_type": "markdown",
      "metadata": {
        "id": "s11Gn7_jx67t"
      },
      "source": [
        "* 3.Logistic Regression"
      ]
    },
    {
      "cell_type": "code",
      "execution_count": 84,
      "metadata": {
        "id": "2ivEYbrx1-JW",
        "colab": {
          "base_uri": "https://localhost:8080/"
        },
        "outputId": "76caf08e-fa1c-4216-cbce-9a4052422e4f"
      },
      "outputs": [
        {
          "output_type": "stream",
          "name": "stdout",
          "text": [
            "정확도: 0.7951914514692787\n"
          ]
        }
      ],
      "source": [
        "logistic_model = LogisticRegression(max_iter = 10 ** 4)\n",
        "logistic_model.fit(tfidfv, y_train)\n",
        "\n",
        "\n",
        "predicted = logistic_model.predict(tfidfv_test) #테스트 데이터에 대한 예측\n",
        "print(\"정확도:\", accuracy_score(y_test, predicted)) #예측값과 실제값 비교"
      ]
    },
    {
      "cell_type": "markdown",
      "metadata": {
        "id": "EZjrgRsDx9wJ"
      },
      "source": [
        "* 4.Linear Support Vector Machine"
      ]
    },
    {
      "cell_type": "code",
      "execution_count": 85,
      "metadata": {
        "id": "Ruc_bwTx2DKb",
        "colab": {
          "base_uri": "https://localhost:8080/"
        },
        "outputId": "d408847b-fb4a-4858-b814-48446d28a643"
      },
      "outputs": [
        {
          "output_type": "stream",
          "name": "stdout",
          "text": [
            "정확도: 0.8299198575244879\n"
          ]
        }
      ],
      "source": [
        "svm_model = LinearSVC()\n",
        "svm_model.fit(tfidfv, y_train)\n",
        "\n",
        "\n",
        "predicted = svm_model.predict(tfidfv_test) #테스트 데이터에 대한 예측\n",
        "print(\"정확도:\", accuracy_score(y_test, predicted)) #예측값과 실제값 비교"
      ]
    },
    {
      "cell_type": "markdown",
      "metadata": {
        "id": "Pff3EJcTyEMY"
      },
      "source": [
        "* 5.Decision Tree"
      ]
    },
    {
      "cell_type": "code",
      "execution_count": 86,
      "metadata": {
        "id": "fKaMJ16P2JtU",
        "colab": {
          "base_uri": "https://localhost:8080/"
        },
        "outputId": "13e9c9ea-7bf9-463c-ebf4-4f0679545d18"
      },
      "outputs": [
        {
          "output_type": "stream",
          "name": "stdout",
          "text": [
            "정확도: 0.692787177203918\n"
          ]
        }
      ],
      "source": [
        "decision_tree = DecisionTreeClassifier(random_state=32)\n",
        "decision_tree.fit(tfidfv, y_train)\n",
        "\n",
        "\n",
        "\n",
        "predicted = decision_tree.predict(tfidfv_test) #테스트 데이터에 대한 예측\n",
        "print(\"정확도:\", accuracy_score(y_test, predicted)) #예측값과 실제값 비교"
      ]
    },
    {
      "cell_type": "markdown",
      "metadata": {
        "id": "8aVRuNPRyEPR"
      },
      "source": [
        "* 6.Random Forest "
      ]
    },
    {
      "cell_type": "code",
      "execution_count": 87,
      "metadata": {
        "id": "zdSO3rO12dHK",
        "colab": {
          "base_uri": "https://localhost:8080/"
        },
        "outputId": "804cac57-b28d-4269-e56e-bb7b52edc5fa"
      },
      "outputs": [
        {
          "output_type": "stream",
          "name": "stdout",
          "text": [
            "정확도: 0.751113089937667\n"
          ]
        }
      ],
      "source": [
        "random_forest = RandomForestClassifier(random_state=32)\n",
        "random_forest.fit(tfidfv, y_train)\n",
        "\n",
        "\n",
        "\n",
        "predicted = random_forest.predict(tfidfv_test) #테스트 데이터에 대한 예측\n",
        "print(\"정확도:\", accuracy_score(y_test, predicted)) #예측값과 실제값 비교"
      ]
    },
    {
      "cell_type": "markdown",
      "metadata": {
        "id": "ryfe69gXyER7"
      },
      "source": [
        "* 7.Gradient Boosting Classifer"
      ]
    },
    {
      "cell_type": "code",
      "execution_count": 88,
      "metadata": {
        "id": "kfvIm_lm2gQ9",
        "colab": {
          "base_uri": "https://localhost:8080/",
          "height": 390
        },
        "outputId": "ff063f01-2ed5-47df-e972-786408f88edd"
      },
      "outputs": [
        {
          "output_type": "error",
          "ename": "KeyboardInterrupt",
          "evalue": "ignored",
          "traceback": [
            "\u001b[0;31m---------------------------------------------------------------------------\u001b[0m",
            "\u001b[0;31mKeyboardInterrupt\u001b[0m                         Traceback (most recent call last)",
            "\u001b[0;32m<ipython-input-88-2ed139703cdf>\u001b[0m in \u001b[0;36m<module>\u001b[0;34m\u001b[0m\n\u001b[1;32m      1\u001b[0m \u001b[0mgradient_boosting\u001b[0m \u001b[0;34m=\u001b[0m \u001b[0mGradientBoostingClassifier\u001b[0m\u001b[0;34m(\u001b[0m\u001b[0mrandom_state\u001b[0m\u001b[0;34m=\u001b[0m\u001b[0;36m32\u001b[0m\u001b[0;34m)\u001b[0m\u001b[0;34m\u001b[0m\u001b[0;34m\u001b[0m\u001b[0m\n\u001b[0;32m----> 2\u001b[0;31m \u001b[0mgradient_boosting\u001b[0m\u001b[0;34m.\u001b[0m\u001b[0mfit\u001b[0m\u001b[0;34m(\u001b[0m\u001b[0mtfidfv\u001b[0m\u001b[0;34m,\u001b[0m \u001b[0my_train\u001b[0m\u001b[0;34m)\u001b[0m\u001b[0;34m\u001b[0m\u001b[0;34m\u001b[0m\u001b[0m\n\u001b[0m\u001b[1;32m      3\u001b[0m \u001b[0;34m\u001b[0m\u001b[0m\n\u001b[1;32m      4\u001b[0m \u001b[0;34m\u001b[0m\u001b[0m\n\u001b[1;32m      5\u001b[0m \u001b[0mpredicted\u001b[0m \u001b[0;34m=\u001b[0m \u001b[0mgradient_boosting\u001b[0m\u001b[0;34m.\u001b[0m\u001b[0mpredict\u001b[0m\u001b[0;34m(\u001b[0m\u001b[0mtfidfv_test\u001b[0m\u001b[0;34m)\u001b[0m \u001b[0;31m#테스트 데이터에 대한 예측\u001b[0m\u001b[0;34m\u001b[0m\u001b[0;34m\u001b[0m\u001b[0m\n",
            "\u001b[0;32m/usr/local/lib/python3.7/dist-packages/sklearn/ensemble/_gb.py\u001b[0m in \u001b[0;36mfit\u001b[0;34m(self, X, y, sample_weight, monitor)\u001b[0m\n\u001b[1;32m    594\u001b[0m             \u001b[0msample_weight_val\u001b[0m\u001b[0;34m,\u001b[0m\u001b[0;34m\u001b[0m\u001b[0;34m\u001b[0m\u001b[0m\n\u001b[1;32m    595\u001b[0m             \u001b[0mbegin_at_stage\u001b[0m\u001b[0;34m,\u001b[0m\u001b[0;34m\u001b[0m\u001b[0;34m\u001b[0m\u001b[0m\n\u001b[0;32m--> 596\u001b[0;31m             \u001b[0mmonitor\u001b[0m\u001b[0;34m,\u001b[0m\u001b[0;34m\u001b[0m\u001b[0;34m\u001b[0m\u001b[0m\n\u001b[0m\u001b[1;32m    597\u001b[0m         )\n\u001b[1;32m    598\u001b[0m \u001b[0;34m\u001b[0m\u001b[0m\n",
            "\u001b[0;32m/usr/local/lib/python3.7/dist-packages/sklearn/ensemble/_gb.py\u001b[0m in \u001b[0;36m_fit_stages\u001b[0;34m(self, X, y, raw_predictions, sample_weight, random_state, X_val, y_val, sample_weight_val, begin_at_stage, monitor)\u001b[0m\n\u001b[1;32m    670\u001b[0m                 \u001b[0mrandom_state\u001b[0m\u001b[0;34m,\u001b[0m\u001b[0;34m\u001b[0m\u001b[0;34m\u001b[0m\u001b[0m\n\u001b[1;32m    671\u001b[0m                 \u001b[0mX_csc\u001b[0m\u001b[0;34m,\u001b[0m\u001b[0;34m\u001b[0m\u001b[0;34m\u001b[0m\u001b[0m\n\u001b[0;32m--> 672\u001b[0;31m                 \u001b[0mX_csr\u001b[0m\u001b[0;34m,\u001b[0m\u001b[0;34m\u001b[0m\u001b[0;34m\u001b[0m\u001b[0m\n\u001b[0m\u001b[1;32m    673\u001b[0m             )\n\u001b[1;32m    674\u001b[0m \u001b[0;34m\u001b[0m\u001b[0m\n",
            "\u001b[0;32m/usr/local/lib/python3.7/dist-packages/sklearn/ensemble/_gb.py\u001b[0m in \u001b[0;36m_fit_stage\u001b[0;34m(self, i, X, y, raw_predictions, sample_weight, sample_mask, random_state, X_csc, X_csr)\u001b[0m\n\u001b[1;32m    244\u001b[0m \u001b[0;34m\u001b[0m\u001b[0m\n\u001b[1;32m    245\u001b[0m             \u001b[0mX\u001b[0m \u001b[0;34m=\u001b[0m \u001b[0mX_csr\u001b[0m \u001b[0;32mif\u001b[0m \u001b[0mX_csr\u001b[0m \u001b[0;32mis\u001b[0m \u001b[0;32mnot\u001b[0m \u001b[0;32mNone\u001b[0m \u001b[0;32melse\u001b[0m \u001b[0mX\u001b[0m\u001b[0;34m\u001b[0m\u001b[0;34m\u001b[0m\u001b[0m\n\u001b[0;32m--> 246\u001b[0;31m             \u001b[0mtree\u001b[0m\u001b[0;34m.\u001b[0m\u001b[0mfit\u001b[0m\u001b[0;34m(\u001b[0m\u001b[0mX\u001b[0m\u001b[0;34m,\u001b[0m \u001b[0mresidual\u001b[0m\u001b[0;34m,\u001b[0m \u001b[0msample_weight\u001b[0m\u001b[0;34m=\u001b[0m\u001b[0msample_weight\u001b[0m\u001b[0;34m,\u001b[0m \u001b[0mcheck_input\u001b[0m\u001b[0;34m=\u001b[0m\u001b[0;32mFalse\u001b[0m\u001b[0;34m)\u001b[0m\u001b[0;34m\u001b[0m\u001b[0;34m\u001b[0m\u001b[0m\n\u001b[0m\u001b[1;32m    247\u001b[0m \u001b[0;34m\u001b[0m\u001b[0m\n\u001b[1;32m    248\u001b[0m             \u001b[0;31m# update tree leaves\u001b[0m\u001b[0;34m\u001b[0m\u001b[0;34m\u001b[0m\u001b[0;34m\u001b[0m\u001b[0m\n",
            "\u001b[0;32m/usr/local/lib/python3.7/dist-packages/sklearn/tree/_classes.py\u001b[0m in \u001b[0;36mfit\u001b[0;34m(self, X, y, sample_weight, check_input, X_idx_sorted)\u001b[0m\n\u001b[1;32m   1318\u001b[0m             \u001b[0msample_weight\u001b[0m\u001b[0;34m=\u001b[0m\u001b[0msample_weight\u001b[0m\u001b[0;34m,\u001b[0m\u001b[0;34m\u001b[0m\u001b[0;34m\u001b[0m\u001b[0m\n\u001b[1;32m   1319\u001b[0m             \u001b[0mcheck_input\u001b[0m\u001b[0;34m=\u001b[0m\u001b[0mcheck_input\u001b[0m\u001b[0;34m,\u001b[0m\u001b[0;34m\u001b[0m\u001b[0;34m\u001b[0m\u001b[0m\n\u001b[0;32m-> 1320\u001b[0;31m             \u001b[0mX_idx_sorted\u001b[0m\u001b[0;34m=\u001b[0m\u001b[0mX_idx_sorted\u001b[0m\u001b[0;34m,\u001b[0m\u001b[0;34m\u001b[0m\u001b[0;34m\u001b[0m\u001b[0m\n\u001b[0m\u001b[1;32m   1321\u001b[0m         )\n\u001b[1;32m   1322\u001b[0m         \u001b[0;32mreturn\u001b[0m \u001b[0mself\u001b[0m\u001b[0;34m\u001b[0m\u001b[0;34m\u001b[0m\u001b[0m\n",
            "\u001b[0;32m/usr/local/lib/python3.7/dist-packages/sklearn/tree/_classes.py\u001b[0m in \u001b[0;36mfit\u001b[0;34m(self, X, y, sample_weight, check_input, X_idx_sorted)\u001b[0m\n\u001b[1;32m    418\u001b[0m             )\n\u001b[1;32m    419\u001b[0m \u001b[0;34m\u001b[0m\u001b[0m\n\u001b[0;32m--> 420\u001b[0;31m         \u001b[0mbuilder\u001b[0m\u001b[0;34m.\u001b[0m\u001b[0mbuild\u001b[0m\u001b[0;34m(\u001b[0m\u001b[0mself\u001b[0m\u001b[0;34m.\u001b[0m\u001b[0mtree_\u001b[0m\u001b[0;34m,\u001b[0m \u001b[0mX\u001b[0m\u001b[0;34m,\u001b[0m \u001b[0my\u001b[0m\u001b[0;34m,\u001b[0m \u001b[0msample_weight\u001b[0m\u001b[0;34m)\u001b[0m\u001b[0;34m\u001b[0m\u001b[0;34m\u001b[0m\u001b[0m\n\u001b[0m\u001b[1;32m    421\u001b[0m \u001b[0;34m\u001b[0m\u001b[0m\n\u001b[1;32m    422\u001b[0m         \u001b[0;32mif\u001b[0m \u001b[0mself\u001b[0m\u001b[0;34m.\u001b[0m\u001b[0mn_outputs_\u001b[0m \u001b[0;34m==\u001b[0m \u001b[0;36m1\u001b[0m \u001b[0;32mand\u001b[0m \u001b[0mis_classifier\u001b[0m\u001b[0;34m(\u001b[0m\u001b[0mself\u001b[0m\u001b[0;34m)\u001b[0m\u001b[0;34m:\u001b[0m\u001b[0;34m\u001b[0m\u001b[0;34m\u001b[0m\u001b[0m\n",
            "\u001b[0;31mKeyboardInterrupt\u001b[0m: "
          ]
        }
      ],
      "source": [
        "gradient_boosting = GradientBoostingClassifier(random_state=32)\n",
        "gradient_boosting.fit(tfidfv, y_train)\n",
        "\n",
        "\n",
        "predicted = gradient_boosting.predict(tfidfv_test) #테스트 데이터에 대한 예측\n",
        "print(\"정확도:\", accuracy_score(y_test, predicted)) #예측값과 실제값 비교"
      ]
    },
    {
      "cell_type": "markdown",
      "metadata": {
        "id": "SH9HXlVzx925"
      },
      "source": [
        "* 8.Voting"
      ]
    },
    {
      "cell_type": "code",
      "source": [
        "voting_classifier = VotingClassifier(estimators=[\n",
        "    ('lr', LogisticRegression(C=10000, penalty='l2')),\n",
        "    ('cb', ComplementNB()),\n",
        "    ('grbt', GradientBoostingClassifier(random_state=0))\n",
        "], voting='soft', n_jobs=-1)\n",
        "voting_classifier.fit(tfidfv, y_train)\n",
        "\n",
        "\n",
        "predicted = voting_classifier.predict(tfidfv_test) #테스트 데이터에 대한 예측\n",
        "print(\"정확도:\", accuracy_score(y_test, predicted)) #예측값과 실제값 비교"
      ],
      "metadata": {
        "id": "e33omdmlQbX6"
      },
      "execution_count": null,
      "outputs": []
    },
    {
      "cell_type": "markdown",
      "metadata": {
        "id": "vzQibcIRgLrB"
      },
      "source": [
        "# 3.RNN 모델과 비교"
      ]
    },
    {
      "cell_type": "markdown",
      "source": [
        "### 데이터 로드"
      ],
      "metadata": {
        "id": "tV3A9RPxR3hc"
      }
    },
    {
      "cell_type": "code",
      "execution_count": 89,
      "metadata": {
        "id": "7_jiujEAdcHv"
      },
      "outputs": [],
      "source": [
        "(x_train, y_train), (x_test, y_test) = reuters.load_data(num_words= 5000 , test_split=0.2)"
      ]
    },
    {
      "cell_type": "code",
      "execution_count": 90,
      "metadata": {
        "id": "PvcJw6fsdfB9",
        "colab": {
          "base_uri": "https://localhost:8080/"
        },
        "outputId": "c365defb-b1c2-4bf3-80b3-2b3baf8cbd49"
      },
      "outputs": [
        {
          "output_type": "stream",
          "name": "stdout",
          "text": [
            "훈련 샘플의 수: 8982\n",
            "테스트 샘플의 수: 2246\n"
          ]
        }
      ],
      "source": [
        "print('훈련 샘플의 수: {}'.format(len(x_train)))\n",
        "print('테스트 샘플의 수: {}'.format(len(x_test)))"
      ]
    },
    {
      "cell_type": "code",
      "execution_count": 91,
      "metadata": {
        "id": "_uGB76lWdnnH"
      },
      "outputs": [],
      "source": [
        "word_index = reuters.get_word_index(path=\"reuters_word_index.json\")"
      ]
    },
    {
      "cell_type": "markdown",
      "metadata": {
        "id": "CBGlCEqGdijt"
      },
      "source": [
        "### 데이터 복원"
      ]
    },
    {
      "cell_type": "code",
      "execution_count": 92,
      "metadata": {
        "id": "TdciFdFQdob_"
      },
      "outputs": [],
      "source": [
        "index_to_word = { index+3 : word for word, index in word_index.items() }"
      ]
    },
    {
      "cell_type": "code",
      "execution_count": 93,
      "metadata": {
        "id": "XgulobCqdojT"
      },
      "outputs": [],
      "source": [
        "# index_to_word에 숫자 0은 <pad>, 숫자 1은 <sos>, 숫자 2는 <unk>를 넣어줍니다.\n",
        "for index, token in enumerate((\"<pad>\", \"<sos>\", \"<unk>\")):\n",
        "  index_to_word[index]=token"
      ]
    },
    {
      "cell_type": "code",
      "execution_count": 94,
      "metadata": {
        "id": "5oTysOKjd4wV",
        "colab": {
          "base_uri": "https://localhost:8080/"
        },
        "outputId": "8087136f-77ca-43b6-b95c-7860fcf074b2"
      },
      "outputs": [
        {
          "output_type": "stream",
          "name": "stdout",
          "text": [
            "=3\n"
          ]
        }
      ],
      "source": [
        "from sklearn.feature_extraction.text import CountVectorizer\n",
        "from sklearn.feature_extraction.text import TfidfTransformer\n",
        "print('=3')"
      ]
    },
    {
      "cell_type": "code",
      "execution_count": 95,
      "metadata": {
        "id": "q-koacFwd44p",
        "colab": {
          "base_uri": "https://localhost:8080/"
        },
        "outputId": "56be3f60-c6ff-4b77-cea9-8508f2031877"
      },
      "outputs": [
        {
          "output_type": "stream",
          "name": "stdout",
          "text": [
            "8982\n"
          ]
        }
      ],
      "source": [
        "decoded = []\n",
        "for i in range(len(x_train)):\n",
        "    t = ' '.join([index_to_word[index] for index in x_train[i]])\n",
        "    decoded.append(t)\n",
        "\n",
        "x_train = decoded\n",
        "print(len(x_train))"
      ]
    },
    {
      "cell_type": "code",
      "execution_count": 96,
      "metadata": {
        "id": "YREcQABvd_Hv",
        "colab": {
          "base_uri": "https://localhost:8080/"
        },
        "outputId": "53e7ca44-3060-4185-e60b-63d6e41e19cf"
      },
      "outputs": [
        {
          "output_type": "stream",
          "name": "stdout",
          "text": [
            "2246\n"
          ]
        }
      ],
      "source": [
        "decoded = []\n",
        "for i in range(len(x_test)):\n",
        "    t = ' '.join([index_to_word[index] for index in x_test[i]])\n",
        "    decoded.append(t)\n",
        "\n",
        "x_test = decoded\n",
        "print(len(x_test))"
      ]
    },
    {
      "cell_type": "markdown",
      "source": [
        "###  벡터화"
      ],
      "metadata": {
        "id": "Pa2bmPloSO-w"
      }
    },
    {
      "cell_type": "code",
      "source": [
        "from sklearn.feature_extraction.text import CountVectorizer\n",
        "from sklearn.feature_extraction.text import TfidfTransformer"
      ],
      "metadata": {
        "id": "lwDcEHEmSBXD"
      },
      "execution_count": 97,
      "outputs": []
    },
    {
      "cell_type": "code",
      "source": [
        "dtmvector = CountVectorizer()\n",
        "x_train_dtm = dtmvector.fit_transform(x_train)\n",
        "print(x_train_dtm.shape)"
      ],
      "metadata": {
        "colab": {
          "base_uri": "https://localhost:8080/"
        },
        "id": "grsbc_H4SFcx",
        "outputId": "a4aaff93-69dc-42c4-f56e-f4100379877e"
      },
      "execution_count": 98,
      "outputs": [
        {
          "output_type": "stream",
          "name": "stdout",
          "text": [
            "(8982, 4867)\n"
          ]
        }
      ]
    },
    {
      "cell_type": "code",
      "source": [
        "tfidf_transformer = TfidfTransformer()\n",
        "tfidfv = tfidf_transformer.fit_transform(x_train_dtm)\n",
        "print(tfidfv.shape)"
      ],
      "metadata": {
        "colab": {
          "base_uri": "https://localhost:8080/"
        },
        "id": "wVN5sDLbSLNZ",
        "outputId": "faed3c2f-0f30-40a9-b53c-98cab270aba9"
      },
      "execution_count": 99,
      "outputs": [
        {
          "output_type": "stream",
          "name": "stdout",
          "text": [
            "(8982, 4867)\n"
          ]
        }
      ]
    },
    {
      "cell_type": "markdown",
      "metadata": {
        "id": "pUkAHJCmd3_I"
      },
      "source": [
        "### 딥러닝 모델 학습"
      ]
    },
    {
      "cell_type": "code",
      "execution_count": 100,
      "metadata": {
        "id": "hdvn3R8tcUBu"
      },
      "outputs": [],
      "source": [
        "import tensorflow as tf"
      ]
    },
    {
      "cell_type": "code",
      "execution_count": 114,
      "metadata": {
        "id": "8xMfIW5KgJ3u",
        "colab": {
          "base_uri": "https://localhost:8080/"
        },
        "outputId": "965d4ea6-de59-47ae-cb55-ae6c9f8718fc"
      },
      "outputs": [
        {
          "output_type": "stream",
          "name": "stdout",
          "text": [
            "Model: \"sequential_2\"\n",
            "_________________________________________________________________\n",
            " Layer (type)                Output Shape              Param #   \n",
            "=================================================================\n",
            " embedding_2 (Embedding)     (None, None, 32)          320000    \n",
            "                                                                 \n",
            " lstm_2 (LSTM)               (None, 8)                 1312      \n",
            "                                                                 \n",
            " dense_4 (Dense)             (None, 8)                 72        \n",
            "                                                                 \n",
            " dense_5 (Dense)             (None, 1)                 9         \n",
            "                                                                 \n",
            "=================================================================\n",
            "Total params: 321,393\n",
            "Trainable params: 321,393\n",
            "Non-trainable params: 0\n",
            "_________________________________________________________________\n"
          ]
        }
      ],
      "source": [
        "vocab_size = 10000    # 어휘 사전의 크기입니다(10,000개의 단어)\n",
        "word_vector_dim = 32  # 워드 벡터의 차원 수 (변경 가능한 하이퍼파라미터) # 깊을수록 과적합 / 연산량 증가 \n",
        "\n",
        "# model 설계 - LSTM\n",
        "\n",
        "model_lstm = tf.keras.Sequential()\n",
        "model_lstm.add(tf.keras.layers.Embedding(vocab_size, word_vector_dim, input_shape=(None,)))\n",
        "model_lstm.add(tf.keras.layers.LSTM(8))   # 가장 널리 쓰이는 RNN인 LSTM 레이어를 사용하였습니다. 이때 LSTM state 벡터의 차원수는 8로 하였습니다. (변경 가능)\n",
        "model_lstm.add(tf.keras.layers.Dense(8, activation='relu'))\n",
        "model_lstm.add(tf.keras.layers.Dense(1, activation='sigmoid'))  # 최종 출력은 긍정/부정을 나타내는 1dim 입니다.\n",
        "\n",
        "\n",
        "model_lstm.summary()"
      ]
    },
    {
      "cell_type": "code",
      "execution_count": 115,
      "metadata": {
        "id": "PjQgxJa9cZff",
        "colab": {
          "base_uri": "https://localhost:8080/"
        },
        "outputId": "34dd923b-9f7b-4ba5-e0df-42c038ef7cc8"
      },
      "outputs": [
        {
          "output_type": "stream",
          "name": "stdout",
          "text": [
            "(5748, 4867)\n",
            "(5748,)\n"
          ]
        }
      ],
      "source": [
        "print(tfidfv.shape)\n",
        "print(y_train.shape)"
      ]
    },
    {
      "cell_type": "code",
      "execution_count": 116,
      "metadata": {
        "id": "o0T61G2NckpG"
      },
      "outputs": [],
      "source": [
        "from sklearn.model_selection import train_test_split\n",
        "\n",
        "tfidfv, tfidfv_val, y_train, y_val = train_test_split(tfidfv, y_train, test_size = 0.2)"
      ]
    },
    {
      "cell_type": "code",
      "source": [
        "tfidfv"
      ],
      "metadata": {
        "colab": {
          "base_uri": "https://localhost:8080/"
        },
        "id": "m6VqLp6NIa6y",
        "outputId": "b8299ceb-b38d-4072-8764-9d4bee5be710"
      },
      "execution_count": 117,
      "outputs": [
        {
          "output_type": "execute_result",
          "data": {
            "text/plain": [
              "array([[0.        , 0.        , 0.        , ..., 0.        , 0.        ,\n",
              "        0.        ],\n",
              "       [0.        , 0.        , 0.        , ..., 0.        , 0.        ,\n",
              "        0.        ],\n",
              "       [0.        , 0.07578696, 0.        , ..., 0.        , 0.        ,\n",
              "        0.        ],\n",
              "       ...,\n",
              "       [0.        , 0.        , 0.        , ..., 0.        , 0.        ,\n",
              "        0.        ],\n",
              "       [0.        , 0.        , 0.        , ..., 0.        , 0.        ,\n",
              "        0.        ],\n",
              "       [0.        , 0.        , 0.        , ..., 0.        , 0.        ,\n",
              "        0.        ]])"
            ]
          },
          "metadata": {},
          "execution_count": 117
        }
      ]
    },
    {
      "cell_type": "code",
      "source": [
        "# tfidfv = tfidfv.toarray()\n",
        "# tfidfv_val = tfidfv_val.toarray()\n",
        "# tfidfv_test = tfidfv_test.toarray()"
      ],
      "metadata": {
        "id": "6Knr9iDKIcvU"
      },
      "execution_count": 118,
      "outputs": []
    },
    {
      "cell_type": "code",
      "execution_count": 119,
      "metadata": {
        "id": "Zwsa04ODT-Xv",
        "colab": {
          "base_uri": "https://localhost:8080/"
        },
        "outputId": "c9150d34-bc66-40e9-bf35-8a61c6697700"
      },
      "outputs": [
        {
          "output_type": "stream",
          "name": "stdout",
          "text": [
            "Epoch 1/20\n",
            "9/9 [==============================] - 4s 247ms/step - loss: 0.6830 - accuracy: 0.0383 - val_loss: 0.6187 - val_accuracy: 0.0504\n",
            "Epoch 2/20\n",
            "9/9 [==============================] - 2s 196ms/step - loss: 0.5846 - accuracy: 0.0468 - val_loss: 0.5420 - val_accuracy: 0.0504\n",
            "Epoch 3/20\n",
            "9/9 [==============================] - 2s 197ms/step - loss: 0.5100 - accuracy: 0.0468 - val_loss: 0.4663 - val_accuracy: 0.0504\n",
            "Epoch 4/20\n",
            "9/9 [==============================] - 2s 196ms/step - loss: 0.4348 - accuracy: 0.0468 - val_loss: 0.3908 - val_accuracy: 0.0504\n",
            "Epoch 5/20\n",
            "9/9 [==============================] - 2s 211ms/step - loss: 0.3594 - accuracy: 0.0468 - val_loss: 0.3157 - val_accuracy: 0.0504\n",
            "Epoch 6/20\n",
            "9/9 [==============================] - 2s 198ms/step - loss: 0.2849 - accuracy: 0.0468 - val_loss: 0.2402 - val_accuracy: 0.0504\n",
            "Epoch 7/20\n",
            "9/9 [==============================] - 2s 263ms/step - loss: 0.2096 - accuracy: 0.0468 - val_loss: 0.1650 - val_accuracy: 0.0504\n",
            "Epoch 8/20\n",
            "9/9 [==============================] - 2s 269ms/step - loss: 0.1348 - accuracy: 0.0468 - val_loss: 0.0897 - val_accuracy: 0.0504\n",
            "Epoch 9/20\n",
            "9/9 [==============================] - 2s 206ms/step - loss: 0.0595 - accuracy: 0.0468 - val_loss: 0.0147 - val_accuracy: 0.0504\n",
            "Epoch 10/20\n",
            "9/9 [==============================] - 2s 193ms/step - loss: -0.0149 - accuracy: 0.0468 - val_loss: -0.0607 - val_accuracy: 0.0504\n",
            "Epoch 11/20\n",
            "9/9 [==============================] - 2s 193ms/step - loss: -0.0897 - accuracy: 0.0468 - val_loss: -0.1362 - val_accuracy: 0.0504\n",
            "Epoch 12/20\n",
            "9/9 [==============================] - 2s 199ms/step - loss: -0.1653 - accuracy: 0.0468 - val_loss: -0.2110 - val_accuracy: 0.0504\n",
            "Epoch 13/20\n",
            "9/9 [==============================] - 2s 193ms/step - loss: -0.2396 - accuracy: 0.0468 - val_loss: -0.2862 - val_accuracy: 0.0504\n",
            "Epoch 14/20\n",
            "9/9 [==============================] - 2s 192ms/step - loss: -0.3142 - accuracy: 0.0468 - val_loss: -0.3616 - val_accuracy: 0.0504\n",
            "Epoch 15/20\n",
            "9/9 [==============================] - 2s 198ms/step - loss: -0.3893 - accuracy: 0.0468 - val_loss: -0.4366 - val_accuracy: 0.0504\n",
            "Epoch 16/20\n",
            "9/9 [==============================] - 2s 194ms/step - loss: -0.4640 - accuracy: 0.0468 - val_loss: -0.5117 - val_accuracy: 0.0504\n",
            "Epoch 17/20\n",
            "9/9 [==============================] - 2s 192ms/step - loss: -0.5386 - accuracy: 0.0468 - val_loss: -0.5868 - val_accuracy: 0.0504\n",
            "Epoch 18/20\n",
            "9/9 [==============================] - 2s 195ms/step - loss: -0.6133 - accuracy: 0.0468 - val_loss: -0.6618 - val_accuracy: 0.0504\n",
            "Epoch 19/20\n",
            "9/9 [==============================] - 2s 193ms/step - loss: -0.6878 - accuracy: 0.0468 - val_loss: -0.7370 - val_accuracy: 0.0504\n",
            "Epoch 20/20\n",
            "9/9 [==============================] - 2s 193ms/step - loss: -0.7625 - accuracy: 0.0468 - val_loss: -0.8121 - val_accuracy: 0.0504\n"
          ]
        }
      ],
      "source": [
        "model_lstm.compile(optimizer='adam',\n",
        "              loss='binary_crossentropy',\n",
        "              metrics=['accuracy'])\n",
        "              \n",
        "epochs=20  # 몇 epoch를 훈련하면 좋을지 결과를 보면서 바꾸어 봅시다. \n",
        "\n",
        "history = model_lstm.fit(tfidfv,\n",
        "                    y_train,\n",
        "                    epochs=epochs,\n",
        "                    batch_size=512,\n",
        "                    validation_data=(tfidfv_val, y_val),\n",
        "                    verbose=1)"
      ]
    },
    {
      "cell_type": "code",
      "source": [
        "results = model_lstm.evaluate(tfidfv_test,  y_test, verbose=2)\n",
        "\n",
        "print(results)"
      ],
      "metadata": {
        "colab": {
          "base_uri": "https://localhost:8080/"
        },
        "id": "HywpiZXtuQZm",
        "outputId": "82e6be64-c374-407a-838f-b3cc762a96af"
      },
      "execution_count": 107,
      "outputs": [
        {
          "output_type": "stream",
          "name": "stdout",
          "text": [
            "71/71 - 10s - loss: -5.6111e+01 - accuracy: 0.0467 - 10s/epoch - 140ms/step\n",
            "[-56.11125183105469, 0.0467497780919075]\n"
          ]
        }
      ]
    },
    {
      "cell_type": "markdown",
      "source": [
        "#결론\n",
        "1. 머신러닝 학습 과정에서 다른 모델들에 비해 linear SVC 와 voting이 비슷하게 좋은 성능을 보였다. (num_words =전체, 5000, 10000 에 관계없이 비슷하게 나옴)\n",
        "\n",
        "2. 딥러닝 모델의 결과 0.0467로 정확도가 매우 낮게 나옴.\n"
      ],
      "metadata": {
        "id": "UwIHbY7SxKzP"
      }
    },
    {
      "cell_type": "markdown",
      "source": [
        "\n",
        "# 회고\n",
        "\n",
        "### - 이번 프로젝트에서 **어려웠던 점**.\n",
        "\n",
        "모델 학습을 하는데 생각보다 시간이 매우 많이 걸렸다.\n",
        "\n",
        "### - 프로젝트를 진행하면서 **알아낸 점** 혹은 **아직 모호한 점**.\n",
        "\n",
        "여러가지 머신러닝 모델에 대해 다시 공부해보는 기회가 되었다. \n",
        "\n",
        "### - 루브릭 평가 지표를 맞추기 위해 **시도한 것들**.\n",
        "\n",
        "\n",
        ">#### **루브릭평가 지표**\n",
        ">|번호|평가문항|상세기준|\n",
        ">|:---:|---|---|\n",
        ">|1| 분류 모델의 accuracy가 기준 이상 높게 나왔는가? |3가지 단어 개수에 대해 8가지 머신러닝 기법을 적용하여 그중 최적의 솔루션을 도출하였다.\n",
        ">|2|분류 모델의 F1 score가 기준 이상 높게 나왔는가?| Vocabulary size에 따른 각 머신러닝 모델의 성능변화 추이를 살피고, 해당 머신러닝 알고리즘의 특성에 근거해 원인을 분석하였다.|\n",
        ">|3|딥러닝 모델을 활용해 성능이 비교 및 확인되었는가?|동일한 데이터셋과 전처리 조건으로 딥러닝 모델의 성능과 비교하여 결과에 따른 원인을 분석하였다.|\n",
        "\n",
        "\n",
        "\n",
        "### - **자기 다짐**\n",
        "\n",
        "- 함수로 코드 간단하게 만들어보기 \n",
        "\n",
        "### - **참고**\n"
      ],
      "metadata": {
        "id": "HziuObUFNUV8"
      }
    },
    {
      "cell_type": "code",
      "source": [],
      "metadata": {
        "id": "LTw1pW8NmsnT"
      },
      "execution_count": 106,
      "outputs": []
    }
  ],
  "metadata": {
    "accelerator": "GPU",
    "colab": {
      "collapsed_sections": [
        "tUm2mT5hGzTz",
        "4sZd2QsyG4UX",
        "WQ50zIj6G8Y8"
      ],
      "provenance": []
    },
    "gpuClass": "standard",
    "kernelspec": {
      "display_name": "Python 3",
      "name": "python3"
    },
    "language_info": {
      "name": "python"
    }
  },
  "nbformat": 4,
  "nbformat_minor": 0
}